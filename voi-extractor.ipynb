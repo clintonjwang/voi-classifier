{
 "cells": [
  {
   "cell_type": "markdown",
   "metadata": {},
   "source": [
    "Retrieves images from \"full_imgs\" and stores each VOI separately in \"train_imgs\". Retrieves spreadsheet listing VOIs and stores them in text file. Requires data-retrieval to be run first."
   ]
  },
  {
   "cell_type": "code",
   "execution_count": 63,
   "metadata": {
    "collapsed": true
   },
   "outputs": [],
   "source": [
    "import config\n",
    "import copy\n",
    "import csv\n",
    "import helper_fxns as hf\n",
    "import importlib\n",
    "import math\n",
    "import matplotlib.pyplot as plt\n",
    "import numpy as np\n",
    "import os\n",
    "import pandas as pd\n",
    "import random\n",
    "import requests\n",
    "import sys\n",
    "import time\n",
    "import transforms as tr\n",
    "%matplotlib inline"
   ]
  },
  {
   "cell_type": "markdown",
   "metadata": {
    "collapsed": true
   },
   "source": [
    "with open(\"train_list.txt\", \"r\") as f:\n",
    "    vois = [x.split(',') for x in f.read().split(\"\\n\")]\n",
    "\n",
    "voi_df = pd.DataFrame(vois, columns = [\"Filename\", \"x1\", \"x2\", \"y1\", \"y2\", \"z1\", \"z2\", \"cls\"]).dropna()\n",
    "voi_df = voi_df.astype({\"x1\": int, \"x2\": int, \"y1\": int, \"y2\": int, \"z1\": int, \"z2\": int})\n",
    "\n",
    "voi_df['dx'] = voi_df.apply(lambda row: row['x2'] - row['x1'], axis=1)\n",
    "voi_df['dy'] = voi_df.apply(lambda row: row['y2'] - row['y1'], axis=1)\n",
    "voi_df['dz'] = voi_df.apply(lambda row: row['z2'] - row['z1'], axis=1)"
   ]
  },
  {
   "cell_type": "code",
   "execution_count": 126,
   "metadata": {
    "scrolled": true
   },
   "outputs": [],
   "source": [
    "importlib.reload(config)\n",
    "importlib.reload(hf)\n",
    "C = config.Config()"
   ]
  },
  {
   "cell_type": "code",
   "execution_count": 119,
   "metadata": {
    "collapsed": true,
    "scrolled": true
   },
   "outputs": [],
   "source": [
    "final_size = C.dims\n",
    "\n",
    "voi_df_art = pd.read_csv(C.art_voi_path)\n",
    "voi_df_ven = pd.read_csv(C.ven_voi_path)\n",
    "voi_df_eq = pd.read_csv(C.eq_voi_path)"
   ]
  },
  {
   "cell_type": "code",
   "execution_count": 45,
   "metadata": {
    "collapsed": true
   },
   "outputs": [],
   "source": [
    "#voi_df = voi_df[~voi_df['cls'].isin(['colorectal', 'adenoma', 'fnh'])]\n",
    "#set(voi_df['cls'].values)"
   ]
  },
  {
   "cell_type": "code",
   "execution_count": 46,
   "metadata": {
    "collapsed": true
   },
   "outputs": [],
   "source": [
    "def extract_voi(img, voi, min_dims, ven_voi=[], eq_voi=[]):\n",
    "    \"\"\"Input: image, a voi to center on, and the min dims of the unaugmented img.\n",
    "    Outputs voi-centered image and classes.\n",
    "    Todo: new_voi should never be negative!\n",
    "    \"\"\"\n",
    "    \n",
    "    voi_imgs = []\n",
    "    classes = []\n",
    "    temp_img = copy.deepcopy(img)\n",
    "    \n",
    "    x1 = voi['x1']\n",
    "    x2 = voi['x2']\n",
    "    y1 = voi['y1']\n",
    "    y2 = voi['y2']\n",
    "    z1 = voi['z1']\n",
    "    z2 = voi['z2']\n",
    "    dx = x2 - x1\n",
    "    dy = y2 - y1\n",
    "    dz = z2 - z1\n",
    "    assert dx > 0\n",
    "    assert dy > 0\n",
    "    assert dz > 0\n",
    "    \n",
    "    # align all phases\n",
    "    if len(ven_voi) > 0:\n",
    "        ven_voi = ven_voi.iloc[0]\n",
    "        temp_img = hf.align(temp_img, voi, ven_voi, 1)\n",
    "        \n",
    "    if len(eq_voi) > 0:\n",
    "        eq_voi = eq_voi.iloc[0]\n",
    "        temp_img = hf.align(temp_img, voi, eq_voi, 2)\n",
    "\n",
    "    #padding around lesion\n",
    "    xpad = max(min_dims[0], dx) * 2*math.sqrt(2) - dx\n",
    "    ypad = max(min_dims[1], dy) * 2*math.sqrt(2) - dy\n",
    "    zpad = max(min_dims[2], dz) * 2*math.sqrt(2) - dz\n",
    "    \n",
    "    #padding in case voi is too close to edge\n",
    "    side_padding = math.ceil(max(xpad, ypad, zpad) / 2)\n",
    "    pad_img = []\n",
    "    for ch in range(temp_img.shape[-1]):\n",
    "        pad_img.append(np.pad(temp_img[:,:,:,ch], side_padding, 'constant'))\n",
    "    pad_img = np.stack(pad_img, axis=3)\n",
    "    \n",
    "    assert xpad > 0\n",
    "    assert ypad > 0\n",
    "    assert zpad > 0\n",
    "    \n",
    "    #choice of ceil/floor needed to make total padding amount correct\n",
    "    x1 += side_padding - math.floor(xpad/2)\n",
    "    x2 += side_padding + math.ceil(xpad/2)\n",
    "    y1 += side_padding - math.floor(ypad/2)\n",
    "    y2 += side_padding + math.ceil(ypad/2)\n",
    "    z1 += side_padding - math.floor(zpad/2)\n",
    "    z2 += side_padding + math.ceil(zpad/2)\n",
    "    \n",
    "    x1 = voi['x1'] + side_padding - math.ceil(xpad/2)\n",
    "    \n",
    "    new_voi = [xpad//2, dx + xpad//2,\n",
    "               ypad//2, dy + ypad//2,\n",
    "               zpad//2, dz + zpad//2]\n",
    "\n",
    "    pad_img = pad_img[x1:x2, y1:y2, z1:z2, :]\n",
    "    \n",
    "    for i in new_voi:\n",
    "        assert i>=0\n",
    "        \n",
    "    return pad_img, voi['cls'], [int(x) for x in new_voi]"
   ]
  },
  {
   "cell_type": "code",
   "execution_count": 47,
   "metadata": {
    "collapsed": true
   },
   "outputs": [],
   "source": [
    "def resize_img(img, final_dims, voi):\n",
    "    \"\"\"For rescaling an img to final_dims while scaling to make sure the image contains the voi.\n",
    "    \"\"\"\n",
    "    \n",
    "    x1 = voi[0]\n",
    "    x2 = voi[1]\n",
    "    y1 = voi[2]\n",
    "    y2 = voi[3]\n",
    "    z1 = voi[4]\n",
    "    z2 = voi[5]\n",
    "    dx = x2 - x1\n",
    "    dy = y2 - y1\n",
    "    dz = z2 - z1\n",
    "    \n",
    "    buffer = 0.7\n",
    "    scale_ratios = [final_dims[0]/dx * buffer, final_dims[1]/dy * buffer, final_dims[2]/dz * buffer]\n",
    "    \n",
    "    img = tr.scale3d(img, scale_ratios)\n",
    "    #if scale_ratio < 0.9: #need to shrink original image to fit\n",
    "    #    img = tr.scale3d(img, [scale_ratio]*3)\n",
    "    #elif scale_ratio > 1.4: #need to enlarge original image\n",
    "    #    img = tr.scale3d(img, [scale_ratio]*3)\n",
    "    \n",
    "    crop = [img.shape[i] - final_dims[i] for i in range(3)]\n",
    "    \n",
    "    for i in range(3):\n",
    "        assert crop[i]>=0\n",
    "    \n",
    "    return img[crop[0]//2:-crop[0]//2, crop[1]//2:-crop[1]//2, crop[2]//2:-crop[2]//2, :]"
   ]
  },
  {
   "cell_type": "code",
   "execution_count": 125,
   "metadata": {
    "collapsed": true
   },
   "outputs": [],
   "source": [
    "def augment_img(img, final_dims, voi, num_samples, translate=None, add_reflections=False):\n",
    "    \"\"\"For rescaling an img to final_dims while scaling to make sure the image contains the voi.\"\"\"\n",
    "    \n",
    "    x1 = voi[0]\n",
    "    x2 = voi[1]\n",
    "    y1 = voi[2]\n",
    "    y2 = voi[3]\n",
    "    z1 = voi[4]\n",
    "    z2 = voi[5]\n",
    "    dx = x2 - x1\n",
    "    dy = y2 - y1\n",
    "    dz = z2 - z1\n",
    "    \n",
    "    buffer1 = 0.6\n",
    "    buffer2 = 0.8\n",
    "    scale_ratios = [final_dims[0]/dx, final_dims[1]/dy, final_dims[2]/dz]\n",
    "\n",
    "    aug_imgs = []\n",
    "    \n",
    "    for _ in range(num_samples):\n",
    "        scales = [random.uniform(scale_ratios[0]*buffer1, scale_ratios[0]*buffer2),\n",
    "                 random.uniform(scale_ratios[1]*buffer1, scale_ratios[1]*buffer2),\n",
    "                 random.uniform(scale_ratios[2]*buffer1, scale_ratios[2]*buffer2)]\n",
    "        \n",
    "        angle = random.randint(0, 359)\n",
    "\n",
    "        temp_img = tr.scale3d(img, scales)\n",
    "        temp_img = tr.rotate(temp_img, angle)\n",
    "        \n",
    "        if translate is not None:\n",
    "            trans = [random.randint(-translate[0], translate[0]),\n",
    "                     random.randint(-translate[1], translate[1]),\n",
    "                     random.randint(-translate[2], translate[2])]\n",
    "        else:\n",
    "            trans = [0,0,0]\n",
    "        \n",
    "        flip = [random.choice([-1, 1]), random.choice([-1, 1]), random.choice([-1, 1])]\n",
    "\n",
    "        crops = [temp_img.shape[i] - final_dims[i] for i in range(3)]\n",
    "    \n",
    "        for i in range(3):\n",
    "            assert crops[i]>=0\n",
    "\n",
    "        #temp_img = add_noise(temp_img)\n",
    "\n",
    "        temp_img = temp_img[crops[0]//2 *flip[0] + trans[0] : -crops[0]//2 *flip[0] + trans[0] : flip[0],\n",
    "                            crops[1]//2 *flip[1] + trans[1] : -crops[1]//2 *flip[1] + trans[1] : flip[1],\n",
    "                            crops[2]//2 *flip[2] + trans[2] : -crops[2]//2 *flip[2] + trans[2] : flip[2], :]\n",
    "        \n",
    "        aug_imgs.append(temp_img)\n",
    "        \n",
    "        if add_reflections:\n",
    "            aug_imgs.append(generate_reflected_img(temp_img))\n",
    "    \n",
    "    return aug_imgs"
   ]
  },
  {
   "cell_type": "code",
   "execution_count": 123,
   "metadata": {
    "collapsed": true
   },
   "outputs": [],
   "source": [
    "def extract_vois(acc_nums, small_vois, classes_to_include):\n",
    "    \"\"\"Call extract_voi for a list of acc_nums\"\"\"\n",
    "    \n",
    "    t = time.time()\n",
    "\n",
    "    # iterate over image series\n",
    "    for img_fn in acc_nums:\n",
    "        img = np.load(C.full_img_dir+\"\\\\\"+img_fn)\n",
    "        art_vois = voi_df_art[(voi_df_art[\"Filename\"] == img_fn) & (voi_df_art[\"cls\"].isin(classes_to_include))]\n",
    "\n",
    "        # iterate over each voi in that image\n",
    "        for voi_num, voi in enumerate(art_vois.iterrows()):\n",
    "            ven_voi = voi_df_ven[voi_df_ven[\"id\"] == voi[1][\"id\"]]\n",
    "            eq_voi = voi_df_eq[voi_df_eq[\"id\"] == voi[1][\"id\"]]\n",
    "\n",
    "            cropped_img, cls, small_voi = extract_voi(img, copy.deepcopy(voi[1]), final_size, ven_voi=ven_voi, eq_voi=eq_voi)\n",
    "            fn = img_fn[:-4] + \"_\" + str(voi[1][\"lesion_num\"])\n",
    "            np.save(C.crops_dir + cls + \"\\\\\" + fn, cropped_img)\n",
    "            small_vois[fn] = small_voi\n",
    "\n",
    "            if voi_num % 20 == 0:\n",
    "                print(\".\", end=\"\")\n",
    "    print(\"\")\n",
    "    print(time.time()-t)\n",
    "    \n",
    "    return small_vois"
   ]
  },
  {
   "cell_type": "code",
   "execution_count": 127,
   "metadata": {
    "collapsed": true
   },
   "outputs": [],
   "source": [
    "def generate_reflected_img(img):\n",
    "    choice = random.randint(1,6)\n",
    "    if choice==1:\n",
    "        return np.concatenate([img[:img.shape[0]//2:-1, :,:,:],\n",
    "                        img[img.shape[0]//2:, :,:,:]], axis=0)\n",
    "    elif choice==2:\n",
    "        return np.concatenate([img[:, :img.shape[1]//2:-1 ,:,:],\n",
    "                        img[:, img.shape[1]//2: ,:,:]], axis=1)\n",
    "    \n",
    "    elif choice==3:\n",
    "        return np.concatenate([img[:, :, :img.shape[2]//2:-1,:],\n",
    "                        img[:, : , img.shape[2]//2:,:]], axis=2)\n",
    "    \n",
    "    elif choice==4:\n",
    "        return np.concatenate([img[:math.ceil(img.shape[0]/2), :,:,:],\n",
    "                        np.flip(img[:math.ceil(img.shape[0]/2), :,:,:], axis=0)], axis=0)\n",
    "    \n",
    "    elif choice==5:\n",
    "        return np.concatenate([img[:, :math.ceil(img.shape[1]/2),:,:],\n",
    "                        np.flip(img[:, :math.ceil(img.shape[1]/2), :,:], axis=1)], axis=1)\n",
    "    \n",
    "    else:\n",
    "        return np.concatenate([img[:,:, :math.ceil(img.shape[2]/2),:],\n",
    "                        np.flip(img[:,:, :math.ceil(img.shape[2]/2),:], axis=2)], axis=2)"
   ]
  },
  {
   "cell_type": "code",
   "execution_count": 128,
   "metadata": {
    "collapsed": true
   },
   "outputs": [],
   "source": [
    "classes_to_include = ['cyst', 'hcc', 'hemangioma', 'cholangio']#, 'fnh', 'colorectal']\n",
    "\n",
    "\"\"\"if os.path.exists(C.aug_dir):\n",
    "    print(\"Warning: path\", C.aug_dir, \"already exists.\")\n",
    "else:\n",
    "    os.makedirs(C.aug_dir)\"\"\"\n",
    "if not os.path.exists(C.orig_dir):\n",
    "    os.makedirs(C.orig_dir)\n",
    "if not os.path.exists(C.aug_dir):\n",
    "    os.makedirs(C.aug_dir)\n",
    "if not os.path.exists(C.crops_dir):\n",
    "        os.makedirs(C.crops_dir)\n",
    "    \n",
    "for cls in classes_to_include:\n",
    "    if not os.path.exists(C.orig_dir + cls):\n",
    "        os.makedirs(C.orig_dir + cls)\n",
    "    if not os.path.exists(C.aug_dir + cls):\n",
    "        os.makedirs(C.aug_dir + cls)\n",
    "    if not os.path.exists(C.crops_dir + cls):\n",
    "        os.makedirs(C.crops_dir + cls)"
   ]
  },
  {
   "cell_type": "code",
   "execution_count": 120,
   "metadata": {},
   "outputs": [
    {
     "name": "stdout",
     "output_type": "stream",
     "text": [
      ".........................................................\n",
      "473.27483654022217\n"
     ]
    }
   ],
   "source": [
    "#small_vois = {}\n",
    "small_vois = extract_vois(os.listdir(C.full_img_dir), small_vois, classes_to_include)"
   ]
  },
  {
   "cell_type": "code",
   "execution_count": 68,
   "metadata": {},
   "outputs": [],
   "source": [
    "with open(C.small_voi_path, 'w', newline='') as csv_file:\n",
    "    writer = csv.writer(csv_file)\n",
    "    for key, value in small_vois.items():\n",
    "        writer.writerow([key, value])"
   ]
  },
  {
   "cell_type": "code",
   "execution_count": 121,
   "metadata": {
    "scrolled": false
   },
   "outputs": [
    {
     "name": "stdout",
     "output_type": "stream",
     "text": [
      "10.329984426498413\n"
     ]
    }
   ],
   "source": [
    "t = time.time()\n",
    "\n",
    "for cls in classes_to_include:#os.listdir(C.crops_dir):\n",
    "    for fn in os.listdir(C.crops_dir + cls):\n",
    "        img = np.load(C.crops_dir + cls + \"\\\\\" + fn)\n",
    "        unaug_img = resize_img(img, C.dims, small_vois[fn[:-4]])\n",
    "        np.save(C.orig_dir + cls + \"\\\\\" + fn, unaug_img)\n",
    "        \n",
    "print(time.time()-t)"
   ]
  },
  {
   "cell_type": "code",
   "execution_count": null,
   "metadata": {
    "collapsed": true
   },
   "outputs": [],
   "source": [
    "small_vois = extract_vois([\"12042703.npy\"], small_vois)"
   ]
  },
  {
   "cell_type": "code",
   "execution_count": null,
   "metadata": {
    "collapsed": true
   },
   "outputs": [],
   "source": [
    "t = time.time()\n",
    "\n",
    "for cls in os.listdir(C.crops_dir):\n",
    "    for fn in ['12042703_0.npy']:#os.listdir(C.crops_dir + cls):\n",
    "        img = np.load(C.crops_dir + cls + \"\\\\\" + fn)\n",
    "        unaug_img = resize_img(img, C.dims, small_vois[fn[:-4]])\n",
    "        np.save(C.orig_dir + cls + \"\\\\\" + fn, unaug_img)\n",
    "        \n",
    "print(time.time()-t)"
   ]
  },
  {
   "cell_type": "code",
   "execution_count": null,
   "metadata": {
    "scrolled": true
   },
   "outputs": [
    {
     "name": "stdout",
     "output_type": "stream",
     "text": [
      "."
     ]
    }
   ],
   "source": [
    "t = time.time()\n",
    "\n",
    "for cls in classes_to_include:#os.listdir(C.crops_dir):\n",
    "    for file_num, fn in enumerate(os.listdir(C.crops_dir + cls)):\n",
    "        img = np.load(C.crops_dir + cls + \"\\\\\" + fn)\n",
    "        aug_img = augment_img(img, C.dims, small_vois[fn[:-4]], num_samples=50, translate=[2,2,1], add_reflections=True)\n",
    "        \n",
    "        for x, sample in enumerate(aug_img):\n",
    "            np.save(C.aug_dir + cls + \"\\\\\" + fn[:-4] + \"_\" + str(x), sample)\n",
    "            \n",
    "        if file_num % 20 == 0:\n",
    "            print(\".\", end=\"\")\n",
    "\n",
    "print(\"\")\n",
    "print(time.time()-t)"
   ]
  },
  {
   "cell_type": "code",
   "execution_count": null,
   "metadata": {
    "collapsed": true
   },
   "outputs": [],
   "source": [
    "dims_df = pd.read_csv(C.dims_df_path)\n",
    "\n",
    "dims_df[dims_df[\"AccNum\"] == accnum]\n",
    "\n",
    "voi_df_art[voi_df_art[\"Filename\"] == accnum+\".npy\"]"
   ]
  },
  {
   "cell_type": "code",
   "execution_count": null,
   "metadata": {
    "collapsed": true
   },
   "outputs": [],
   "source": [
    "voi_df_art[voi_df_art[\"Filename\"] == accnum+\".npy\"]"
   ]
  },
  {
   "cell_type": "code",
   "execution_count": 62,
   "metadata": {},
   "outputs": [
    {
     "data": {
      "text/html": [
       "<div>\n",
       "<style>\n",
       "    .dataframe thead tr:only-child th {\n",
       "        text-align: right;\n",
       "    }\n",
       "\n",
       "    .dataframe thead th {\n",
       "        text-align: left;\n",
       "    }\n",
       "\n",
       "    .dataframe tbody tr th {\n",
       "        vertical-align: top;\n",
       "    }\n",
       "</style>\n",
       "<table border=\"1\" class=\"dataframe\">\n",
       "  <thead>\n",
       "    <tr style=\"text-align: right;\">\n",
       "      <th></th>\n",
       "      <th>Filename</th>\n",
       "      <th>x1</th>\n",
       "      <th>x2</th>\n",
       "      <th>y1</th>\n",
       "      <th>y2</th>\n",
       "      <th>z1</th>\n",
       "      <th>z2</th>\n",
       "      <th>cls</th>\n",
       "      <th>flipz</th>\n",
       "      <th>real_dx</th>\n",
       "      <th>real_dy</th>\n",
       "      <th>real_dz</th>\n",
       "      <th>id</th>\n",
       "      <th>lesion_num</th>\n",
       "    </tr>\n",
       "  </thead>\n",
       "  <tbody>\n",
       "    <tr>\n",
       "      <th>85</th>\n",
       "      <td>12207268.npy</td>\n",
       "      <td>123</td>\n",
       "      <td>135</td>\n",
       "      <td>132</td>\n",
       "      <td>150</td>\n",
       "      <td>51</td>\n",
       "      <td>59</td>\n",
       "      <td>cyst</td>\n",
       "      <td>False</td>\n",
       "      <td>16.50</td>\n",
       "      <td>24.75</td>\n",
       "      <td>24.0</td>\n",
       "      <td>12207268_0</td>\n",
       "      <td>0</td>\n",
       "    </tr>\n",
       "    <tr>\n",
       "      <th>86</th>\n",
       "      <td>12207268.npy</td>\n",
       "      <td>118</td>\n",
       "      <td>124</td>\n",
       "      <td>168</td>\n",
       "      <td>176</td>\n",
       "      <td>48</td>\n",
       "      <td>52</td>\n",
       "      <td>cyst</td>\n",
       "      <td>False</td>\n",
       "      <td>8.25</td>\n",
       "      <td>11.00</td>\n",
       "      <td>12.0</td>\n",
       "      <td>12207268_1</td>\n",
       "      <td>1</td>\n",
       "    </tr>\n",
       "    <tr>\n",
       "      <th>87</th>\n",
       "      <td>12207268.npy</td>\n",
       "      <td>41</td>\n",
       "      <td>49</td>\n",
       "      <td>102</td>\n",
       "      <td>110</td>\n",
       "      <td>29</td>\n",
       "      <td>34</td>\n",
       "      <td>cyst</td>\n",
       "      <td>False</td>\n",
       "      <td>11.00</td>\n",
       "      <td>11.00</td>\n",
       "      <td>15.0</td>\n",
       "      <td>12207268_2</td>\n",
       "      <td>2</td>\n",
       "    </tr>\n",
       "  </tbody>\n",
       "</table>\n",
       "</div>"
      ],
      "text/plain": [
       "        Filename   x1   x2   y1   y2  z1  z2   cls  flipz  real_dx  real_dy  \\\n",
       "85  12207268.npy  123  135  132  150  51  59  cyst  False    16.50    24.75   \n",
       "86  12207268.npy  118  124  168  176  48  52  cyst  False     8.25    11.00   \n",
       "87  12207268.npy   41   49  102  110  29  34  cyst  False    11.00    11.00   \n",
       "\n",
       "    real_dz          id  lesion_num  \n",
       "85     24.0  12207268_0           0  \n",
       "86     12.0  12207268_1           1  \n",
       "87     15.0  12207268_2           2  "
      ]
     },
     "execution_count": 62,
     "metadata": {},
     "output_type": "execute_result"
    }
   ],
   "source": [
    "voi_df_art[voi_df_art[\"Filename\"] == accnum+\".npy\"]"
   ]
  },
  {
   "cell_type": "code",
   "execution_count": 111,
   "metadata": {
    "scrolled": true
   },
   "outputs": [
    {
     "data": {
      "image/png": "[encoded data removed]",
      "text/plain": [
       "<matplotlib.figure.Figure at 0x1dc80955dd8>"
      ]
     },
     "metadata": {},
     "output_type": "display_data"
    }
   ],
   "source": [
    "cls = \"cyst\"\n",
    "accnum = \"12207268\"\n",
    "img = np.load(C.crops_dir + cls + \"\\\\\" + accnum + \"_0.npy\")\n",
    "hf.plot_section_auto(img)"
   ]
  },
  {
   "cell_type": "code",
   "execution_count": 112,
   "metadata": {
    "collapsed": true
   },
   "outputs": [],
   "source": [
    "img = generate_reflected_imgs(img)"
   ]
  },
  {
   "cell_type": "code",
   "execution_count": 113,
   "metadata": {},
   "outputs": [
    {
     "data": {
      "image/png": "[encoded data removed]",
      "text/plain": [
       "<matplotlib.figure.Figure at 0x1dc80a71828>"
      ]
     },
     "metadata": {},
     "output_type": "display_data"
    }
   ],
   "source": [
    "hf.plot_section_auto(img)"
   ]
  },
  {
   "cell_type": "code",
   "execution_count": 72,
   "metadata": {},
   "outputs": [
    {
     "data": {
      "text/plain": [
       "(36, 36, 12, 3)"
      ]
     },
     "execution_count": 72,
     "metadata": {},
     "output_type": "execute_result"
    }
   ],
   "source": [
    "img.shape"
   ]
  },
  {
   "cell_type": "code",
   "execution_count": 71,
   "metadata": {
    "scrolled": false
   },
   "outputs": [
    {
     "data": {
      "image/png": "[encoded data removed]",
      "text/plain": [
       "<matplotlib.figure.Figure at 0x1dc804e2438>"
      ]
     },
     "metadata": {},
     "output_type": "display_data"
    }
   ],
   "source": [
    "cls = \"cyst\"\n",
    "accnum = \"12042703\"\n",
    "img = np.load(C.orig_dir + cls + \"\\\\\" + accnum + \"_0.npy\")\n",
    "hf.plot_section_auto(img)"
   ]
  },
  {
   "cell_type": "code",
   "execution_count": null,
   "metadata": {
    "collapsed": true
   },
   "outputs": [],
   "source": [
    "cls = \"cyst\"\n",
    "accnum = \"12042703\"\n",
    "img = np.load(C.aug_dir + cls + \"\\\\\" + accnum + \"_0_0.npy\")\n",
    "hf.plot_section_auto(img)"
   ]
  },
  {
   "cell_type": "code",
   "execution_count": 17,
   "metadata": {},
   "outputs": [
    {
     "data": {
      "image/png": "[encoded data removed]",
      "text/plain": [
       "<matplotlib.figure.Figure at 0x1dc8016f390>"
      ]
     },
     "metadata": {},
     "output_type": "display_data"
    }
   ],
   "source": [
    "hf.plot_section_scan(img, 0.9)"
   ]
  },
  {
   "cell_type": "markdown",
   "metadata": {
    "scrolled": true
   },
   "source": [
    "img_fn = \"E100529980.npy\"\n",
    "img = np.load(C.full_img_dir+\"\\\\\"+img_fn)\n",
    "hf.plot_section(img, voi_df[voi_df[\"Filename\"] == img_fn].iloc[0], pad=0)\n",
    "#art_vois = voi_df_art[(voi_df_art[\"Filename\"] == img_fn) & (voi_df_art[\"cls\"].isin(classes_to_include))]\n",
    "\n",
    "#img = np.load(\"orig_imgs\\\\cyst\\\\E100529980_1.npy\")\n",
    "#plt.imshow(img[:,:,5,0], cmap='gray')"
   ]
  },
  {
   "cell_type": "markdown",
   "metadata": {},
   "source": [
    "hf.augment(pad_img, C.dims, translate=[1,1,0], exceed_ratio=0.9, num_samples=1)"
   ]
  }
 ],
 "metadata": {
  "kernelspec": {
   "display_name": "Python 3",
   "language": "python",
   "name": "python3"
  },
  "language_info": {
   "codemirror_mode": {
    "name": "ipython",
    "version": 3
   },
   "file_extension": ".py",
   "mimetype": "text/x-python",
   "name": "python",
   "nbconvert_exporter": "python",
   "pygments_lexer": "ipython3",
   "version": "3.5.0"
  }
 },
 "nbformat": 4,
 "nbformat_minor": 2
}
