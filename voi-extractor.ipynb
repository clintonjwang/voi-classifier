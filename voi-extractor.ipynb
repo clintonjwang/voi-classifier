{
 "cells": [
  {
   "cell_type": "markdown",
   "metadata": {},
   "source": [
    "Retrieves images from \"full_imgs\" and stores each VOI separately in \"train_imgs\". Retrieves spreadsheet listing VOIs and stores them in text file. Requires data-retrieval to be run first."
   ]
  },
  {
   "cell_type": "code",
   "execution_count": 1,
   "metadata": {
    "collapsed": true
   },
   "outputs": [],
   "source": [
    "import config\n",
    "import helper_fxns as hf\n",
    "import transforms as tr\n",
    "import importlib\n",
    "import numpy as np\n",
    "import os\n",
    "import requests\n",
    "import sys\n",
    "import copy\n",
    "import math\n",
    "import pandas as pd\n",
    "import random\n",
    "import matplotlib.pyplot as plt\n",
    "import time\n",
    "%matplotlib inline"
   ]
  },
  {
   "cell_type": "markdown",
   "metadata": {
    "collapsed": true
   },
   "source": [
    "with open(\"train_list.txt\", \"r\") as f:\n",
    "    vois = [x.split(',') for x in f.read().split(\"\\n\")]\n",
    "\n",
    "voi_df = pd.DataFrame(vois, columns = [\"Filename\", \"x1\", \"x2\", \"y1\", \"y2\", \"z1\", \"z2\", \"cls\"]).dropna()\n",
    "voi_df = voi_df.astype({\"x1\": int, \"x2\": int, \"y1\": int, \"y2\": int, \"z1\": int, \"z2\": int})\n",
    "\n",
    "voi_df['dx'] = voi_df.apply(lambda row: row['x2'] - row['x1'], axis=1)\n",
    "voi_df['dy'] = voi_df.apply(lambda row: row['y2'] - row['y1'], axis=1)\n",
    "voi_df['dz'] = voi_df.apply(lambda row: row['z2'] - row['z1'], axis=1)"
   ]
  },
  {
   "cell_type": "code",
   "execution_count": 149,
   "metadata": {
    "scrolled": true
   },
   "outputs": [
    {
     "data": {
      "text/plain": [
       "<module 'helper_fxns' from 'C:\\\\Users\\\\Clinton\\\\Documents\\\\voi-classifier\\\\helper_fxns.py'>"
      ]
     },
     "execution_count": 149,
     "metadata": {},
     "output_type": "execute_result"
    }
   ],
   "source": [
    "importlib.reload(config)\n",
    "importlib.reload(hf)"
   ]
  },
  {
   "cell_type": "code",
   "execution_count": 17,
   "metadata": {
    "collapsed": true,
    "scrolled": true
   },
   "outputs": [],
   "source": [
    "C = config.Config()\n",
    "final_size = C.dims\n",
    "\n",
    "voi_df_art = pd.read_csv(C.art_voi_path)\n",
    "voi_df_ven = pd.read_csv(C.ven_voi_path)\n",
    "voi_df_eq = pd.read_csv(C.eq_voi_path)"
   ]
  },
  {
   "cell_type": "code",
   "execution_count": 13,
   "metadata": {
    "collapsed": true
   },
   "outputs": [],
   "source": [
    "#voi_df = voi_df[~voi_df['cls'].isin(['colorectal', 'adenoma', 'fnh'])]\n",
    "#set(voi_df['cls'].values)"
   ]
  },
  {
   "cell_type": "code",
   "execution_count": 3,
   "metadata": {
    "collapsed": true
   },
   "outputs": [],
   "source": [
    "def extract_voi(img, voi, min_dims, ven_voi=[], eq_voi=[]):\n",
    "    \"\"\"Input: image, a voi to center on, and the min dims of the unaugmented img.\n",
    "    Outputs voi-centered image and classes.\n",
    "    Todo: new_voi should never be negative!\n",
    "    \"\"\"\n",
    "    \n",
    "    voi_imgs = []\n",
    "    classes = []\n",
    "    temp_img = copy.deepcopy(img)\n",
    "    \n",
    "    x1 = voi['x1']\n",
    "    x2 = voi['x2']\n",
    "    y1 = voi['y1']\n",
    "    y2 = voi['y2']\n",
    "    z1 = voi['z1']\n",
    "    z2 = voi['z2']\n",
    "    dx = x2 - x1\n",
    "    dy = y2 - y1\n",
    "    dz = z2 - z1\n",
    "    assert dx > 0\n",
    "    assert dy > 0\n",
    "    assert dz > 0\n",
    "    \n",
    "    # align all phases\n",
    "    if len(ven_voi) > 0:\n",
    "        ven_voi = ven_voi.iloc[0]\n",
    "        temp_img = hf.align(temp_img, voi, ven_voi, 1)\n",
    "        \n",
    "    if len(eq_voi) > 0:\n",
    "        eq_voi = eq_voi.iloc[0]\n",
    "        temp_img = hf.align(temp_img, voi, eq_voi, 2)\n",
    "\n",
    "    #padding around lesion\n",
    "    xpad = max(min_dims[0], dx) * 2*math.sqrt(2) - dx\n",
    "    ypad = max(min_dims[1], dy) * 2*math.sqrt(2) - dy\n",
    "    zpad = max(min_dims[2], dz) * 2*math.sqrt(2) - dz\n",
    "    \n",
    "    #padding in case voi is too close to edge\n",
    "    side_padding = math.ceil(max(xpad, ypad, zpad) / 2)\n",
    "    pad_img = []\n",
    "    for ch in range(temp_img.shape[-1]):\n",
    "        pad_img.append(np.pad(temp_img[:,:,:,ch], side_padding, 'constant'))\n",
    "    pad_img = np.stack(pad_img, axis=3)\n",
    "    \n",
    "    assert xpad > 0\n",
    "    assert ypad > 0\n",
    "    assert zpad > 0\n",
    "    \n",
    "    #choice of ceil/floor needed to make total padding amount correct\n",
    "    x1 += side_padding - math.floor(xpad/2)\n",
    "    x2 += side_padding + math.ceil(xpad/2)\n",
    "    y1 += side_padding - math.floor(ypad/2)\n",
    "    y2 += side_padding + math.ceil(ypad/2)\n",
    "    z1 += side_padding - math.floor(zpad/2)\n",
    "    z2 += side_padding + math.ceil(zpad/2)\n",
    "    \n",
    "    x1 = voi['x1'] + side_padding - math.ceil(xpad/2)\n",
    "    \n",
    "    new_voi = [xpad//2, dx + xpad//2,\n",
    "               ypad//2, dy + ypad//2,\n",
    "               zpad//2, dz + zpad//2]\n",
    "\n",
    "    pad_img = pad_img[x1:x2, y1:y2, z1:z2, :]\n",
    "    \n",
    "    for i in new_voi:\n",
    "        assert i>=0\n",
    "        \n",
    "    return pad_img, voi['cls'], new_voi"
   ]
  },
  {
   "cell_type": "code",
   "execution_count": 4,
   "metadata": {
    "collapsed": true
   },
   "outputs": [],
   "source": [
    "def resize_img(img, final_dims, voi):\n",
    "    \"\"\"For rescaling an img to final_dims while scaling to make sure the image contains the voi.\n",
    "    \"\"\"\n",
    "    \n",
    "    x1 = voi[0]\n",
    "    x2 = voi[1]\n",
    "    y1 = voi[2]\n",
    "    y2 = voi[3]\n",
    "    z1 = voi[4]\n",
    "    z2 = voi[5]\n",
    "    dx = x2 - x1\n",
    "    dy = y2 - y1\n",
    "    dz = z2 - z1\n",
    "    \n",
    "    buffer = 0.7\n",
    "    scale_ratios = [final_dims[0]/dx * buffer, final_dims[1]/dy * buffer, final_dims[2]/dz * buffer]\n",
    "    \n",
    "    img = tr.scale3d(img, scale_ratios)\n",
    "    #if scale_ratio < 0.9: #need to shrink original image to fit\n",
    "    #    img = tr.scale3d(img, [scale_ratio]*3)\n",
    "    #elif scale_ratio > 1.4: #need to enlarge original image\n",
    "    #    img = tr.scale3d(img, [scale_ratio]*3)\n",
    "    \n",
    "    crop = [img.shape[i] - final_dims[i] for i in range(3)]\n",
    "    \n",
    "    for i in range(3):\n",
    "        assert crop[i]>=0\n",
    "    \n",
    "    return img[crop[0]//2:-crop[0]//2, crop[1]//2:-crop[1]//2, crop[2]//2:-crop[2]//2, :]"
   ]
  },
  {
   "cell_type": "code",
   "execution_count": 5,
   "metadata": {
    "collapsed": true
   },
   "outputs": [],
   "source": [
    "def augment_img(img, final_dims, voi, num_samples, translate=None):\n",
    "    \"\"\"For rescaling an img to final_dims while scaling to make sure the image contains the voi.\"\"\"\n",
    "    \n",
    "    x1 = voi[0]\n",
    "    x2 = voi[1]\n",
    "    y1 = voi[2]\n",
    "    y2 = voi[3]\n",
    "    z1 = voi[4]\n",
    "    z2 = voi[5]\n",
    "    dx = x2 - x1\n",
    "    dy = y2 - y1\n",
    "    dz = z2 - z1\n",
    "    \n",
    "    buffer1 = 0.6\n",
    "    buffer2 = 0.8\n",
    "    scale_ratios = [final_dims[0]/dx, final_dims[1]/dy, final_dims[2]/dz]\n",
    "\n",
    "    aug_imgs = []\n",
    "    \n",
    "    for _ in range(num_samples):\n",
    "        scales = [random.uniform(scale_ratios[0]*buffer1, scale_ratios[0]*buffer2),\n",
    "                 random.uniform(scale_ratios[1]*buffer1, scale_ratios[1]*buffer2),\n",
    "                 random.uniform(scale_ratios[2]*buffer1, scale_ratios[2]*buffer2)]\n",
    "        \n",
    "        angle = random.randint(0, 359)\n",
    "\n",
    "        temp_img = tr.scale3d(img, scales)\n",
    "        temp_img = tr.rotate(temp_img, angle)\n",
    "        \n",
    "        if translate is not None:\n",
    "            trans = [random.randint(-translate[0], translate[0]),\n",
    "                     random.randint(-translate[1], translate[1]),\n",
    "                     random.randint(-translate[2], translate[2])]\n",
    "        else:\n",
    "            trans = [0,0,0]\n",
    "        \n",
    "        flip = [random.choice([-1, 1]), random.choice([-1, 1]), random.choice([-1, 1])]\n",
    "\n",
    "        crops = [temp_img.shape[i] - final_dims[i] for i in range(3)]\n",
    "    \n",
    "        for i in range(3):\n",
    "            assert crops[i]>=0\n",
    "\n",
    "        #temp_img = add_noise(temp_img)\n",
    "\n",
    "        temp_img = temp_img[crops[0]//2 *flip[0] + trans[0] : -crops[0]//2 *flip[0] + trans[0] : flip[0],\n",
    "                            crops[1]//2 *flip[1] + trans[1] : -crops[1]//2 *flip[1] + trans[1] : flip[1],\n",
    "                            crops[2]//2 *flip[2] + trans[2] : -crops[2]//2 *flip[2] + trans[2] : flip[2], :]\n",
    "        \n",
    "        aug_imgs.append(temp_img)\n",
    "    \n",
    "    return aug_imgs"
   ]
  },
  {
   "cell_type": "code",
   "execution_count": 7,
   "metadata": {
    "collapsed": true
   },
   "outputs": [],
   "source": [
    "def extract_vois(acc_nums, small_vois):\n",
    "    \"\"\"Call extract_voi for a list of acc_nums\"\"\"\n",
    "    \n",
    "    t = time.time()\n",
    "\n",
    "    # iterate over image series\n",
    "    for img_fn in acc_nums:\n",
    "        img = np.load(C.full_img_dir+\"\\\\\"+img_fn)\n",
    "        art_vois = voi_df_art[(voi_df_art[\"Filename\"] == img_fn) & (voi_df_art[\"cls\"].isin(classes_to_include))]\n",
    "\n",
    "        # iterate over each voi in that image\n",
    "        for voi_num, voi in enumerate(art_vois.iterrows()):\n",
    "            ven_voi = voi_df_ven[voi_df_ven[\"id\"] == voi[1][\"id\"]]\n",
    "            eq_voi = voi_df_eq[voi_df_eq[\"id\"] == voi[1][\"id\"]]\n",
    "\n",
    "            cropped_img, cls, small_voi = extract_voi(img, copy.deepcopy(voi[1]), final_size, ven_voi=ven_voi, eq_voi=eq_voi)\n",
    "            fn = img_fn[:-4] + \"_\" + str(voi_num)\n",
    "            np.save(C.crops_dir + cls + \"\\\\\" + fn, cropped_img)\n",
    "            small_vois[fn] = small_voi\n",
    "\n",
    "            if voi_num % 20 == 0:\n",
    "                print(\".\", end=\"\")\n",
    "    print(\"\")\n",
    "    print(time.time()-t)\n",
    "    \n",
    "    return small_vois"
   ]
  },
  {
   "cell_type": "code",
   "execution_count": 27,
   "metadata": {
    "collapsed": true
   },
   "outputs": [],
   "source": [
    "classes_to_include = ['cyst', 'hcc']#, 'hemangioma', 'cholangio']#, 'fnh', 'colorectal']\n",
    "\n",
    "voi_df_ven[\"id\"] = str(voi_df_ven[\"id\"])\n",
    "voi_df_eq[\"id\"] = str(voi_df_eq[\"id\"])\n",
    "\n",
    "\"\"\"if os.path.exists(C.aug_dir):\n",
    "    print(\"Warning: path\", C.aug_dir, \"already exists.\")\n",
    "else:\n",
    "    os.makedirs(C.aug_dir)\"\"\"\n",
    "if not os.path.exists(C.orig_dir):\n",
    "    os.makedirs(C.orig_dir)\n",
    "if not os.path.exists(C.aug_dir):\n",
    "    os.makedirs(C.aug_dir)\n",
    "if not os.path.exists(C.crops_dir):\n",
    "        os.makedirs(C.crops_dir)\n",
    "    \n",
    "for cls in classes_to_include:\n",
    "    if not os.path.exists(C.orig_dir + cls):\n",
    "        os.makedirs(C.orig_dir + cls)\n",
    "    if not os.path.exists(C.aug_dir + cls):\n",
    "        os.makedirs(C.aug_dir + cls)\n",
    "    if not os.path.exists(C.crops_dir + cls):\n",
    "        os.makedirs(C.crops_dir + cls)"
   ]
  },
  {
   "cell_type": "code",
   "execution_count": 28,
   "metadata": {
    "scrolled": true
   },
   "outputs": [
    {
     "name": "stdout",
     "output_type": "stream",
     "text": [
      "........................................................................\n",
      "255.00193190574646\n"
     ]
    }
   ],
   "source": [
    "small_vois = {}\n",
    "small_vois = extract_vois(os.listdir(C.full_img_dir), small_vois)"
   ]
  },
  {
   "cell_type": "code",
   "execution_count": 18,
   "metadata": {},
   "outputs": [
    {
     "name": "stdout",
     "output_type": "stream",
     "text": [
      ".\n",
      "4.443270206451416\n"
     ]
    }
   ],
   "source": [
    "small_vois = extract_vois([\"12042703.npy\"], small_vois)"
   ]
  },
  {
   "cell_type": "code",
   "execution_count": 29,
   "metadata": {
    "scrolled": true
   },
   "outputs": [
    {
     "name": "stdout",
     "output_type": "stream",
     "text": [
      "10.742764234542847\n"
     ]
    }
   ],
   "source": [
    "t = time.time()\n",
    "\n",
    "for cls in classes_to_include:#os.listdir(C.crops_dir):\n",
    "    for fn in os.listdir(C.crops_dir + cls):\n",
    "        img = np.load(C.crops_dir + cls + \"\\\\\" + fn)\n",
    "        unaug_img = resize_img(img, C.dims, small_vois[fn[:-4]])\n",
    "        np.save(C.orig_dir + cls + \"\\\\\" + fn, unaug_img)\n",
    "        \n",
    "print(time.time()-t)"
   ]
  },
  {
   "cell_type": "code",
   "execution_count": 19,
   "metadata": {
    "scrolled": true
   },
   "outputs": [
    {
     "name": "stdout",
     "output_type": "stream",
     "text": [
      "0.09234857559204102\n"
     ]
    }
   ],
   "source": [
    "t = time.time()\n",
    "\n",
    "for cls in os.listdir(C.crops_dir):\n",
    "    for fn in ['12042703_0.npy']:#os.listdir(C.crops_dir + cls):\n",
    "        try:\n",
    "            img = np.load(C.crops_dir + cls + \"\\\\\" + fn)\n",
    "        except:\n",
    "            break\n",
    "        unaug_img = resize_img(img, C.dims, small_vois[fn[:-4]])\n",
    "        np.save(C.orig_dir + cls + \"\\\\\" + fn, unaug_img)\n",
    "        \n",
    "print(time.time()-t)"
   ]
  },
  {
   "cell_type": "code",
   "execution_count": 30,
   "metadata": {},
   "outputs": [
    {
     "name": "stdout",
     "output_type": "stream",
     "text": [
      "....\n",
      "348.1146574020386\n"
     ]
    }
   ],
   "source": [
    "t = time.time()\n",
    "\n",
    "for cls in classes_to_include:#os.listdir(C.crops_dir):\n",
    "    for file_num, fn in enumerate(os.listdir(C.crops_dir + cls)):\n",
    "        img = np.load(C.crops_dir + cls + \"\\\\\" + fn)\n",
    "        aug_img = augment_img(img, C.dims, small_vois[fn[:-4]], num_samples=50, translate=[1,1,0])\n",
    "        for x, sample in enumerate(aug_img):\n",
    "            np.save(C.aug_dir + cls + \"\\\\\" + fn[:-4] + \"_\" + str(x), sample)\n",
    "            \n",
    "        if file_num % 30 == 0:\n",
    "            print(\".\", end=\"\")\n",
    "            \n",
    "print(\"\")\n",
    "print(time.time()-t)"
   ]
  },
  {
   "cell_type": "code",
   "execution_count": 217,
   "metadata": {},
   "outputs": [
    {
     "data": {
      "text/html": [
       "<div>\n",
       "<style>\n",
       "    .dataframe thead tr:only-child th {\n",
       "        text-align: right;\n",
       "    }\n",
       "\n",
       "    .dataframe thead th {\n",
       "        text-align: left;\n",
       "    }\n",
       "\n",
       "    .dataframe tbody tr th {\n",
       "        vertical-align: top;\n",
       "    }\n",
       "</style>\n",
       "<table border=\"1\" class=\"dataframe\">\n",
       "  <thead>\n",
       "    <tr style=\"text-align: right;\">\n",
       "      <th></th>\n",
       "      <th>Filename</th>\n",
       "      <th>x1</th>\n",
       "      <th>x2</th>\n",
       "      <th>y1</th>\n",
       "      <th>y2</th>\n",
       "      <th>z1</th>\n",
       "      <th>z2</th>\n",
       "      <th>cls</th>\n",
       "      <th>flipz</th>\n",
       "      <th>dx</th>\n",
       "      <th>dy</th>\n",
       "      <th>dz</th>\n",
       "      <th>id</th>\n",
       "    </tr>\n",
       "  </thead>\n",
       "  <tbody>\n",
       "    <tr>\n",
       "      <th>169</th>\n",
       "      <td>13028374.npy</td>\n",
       "      <td>134</td>\n",
       "      <td>165</td>\n",
       "      <td>244</td>\n",
       "      <td>277</td>\n",
       "      <td>47</td>\n",
       "      <td>55</td>\n",
       "      <td>cyst</td>\n",
       "      <td>False</td>\n",
       "      <td>31</td>\n",
       "      <td>33</td>\n",
       "      <td>8</td>\n",
       "      <td>1302837413424447</td>\n",
       "    </tr>\n",
       "    <tr>\n",
       "      <th>170</th>\n",
       "      <td>13028374.npy</td>\n",
       "      <td>77</td>\n",
       "      <td>91</td>\n",
       "      <td>141</td>\n",
       "      <td>158</td>\n",
       "      <td>38</td>\n",
       "      <td>41</td>\n",
       "      <td>cyst</td>\n",
       "      <td>False</td>\n",
       "      <td>14</td>\n",
       "      <td>17</td>\n",
       "      <td>3</td>\n",
       "      <td>130283747714138</td>\n",
       "    </tr>\n",
       "    <tr>\n",
       "      <th>171</th>\n",
       "      <td>13028374.npy</td>\n",
       "      <td>70</td>\n",
       "      <td>81</td>\n",
       "      <td>184</td>\n",
       "      <td>204</td>\n",
       "      <td>22</td>\n",
       "      <td>25</td>\n",
       "      <td>cyst</td>\n",
       "      <td>False</td>\n",
       "      <td>11</td>\n",
       "      <td>20</td>\n",
       "      <td>3</td>\n",
       "      <td>130283747018422</td>\n",
       "    </tr>\n",
       "  </tbody>\n",
       "</table>\n",
       "</div>"
      ],
      "text/plain": [
       "         Filename   x1   x2   y1   y2  z1  z2   cls  flipz  dx  dy  dz  \\\n",
       "169  13028374.npy  134  165  244  277  47  55  cyst  False  31  33   8   \n",
       "170  13028374.npy   77   91  141  158  38  41  cyst  False  14  17   3   \n",
       "171  13028374.npy   70   81  184  204  22  25  cyst  False  11  20   3   \n",
       "\n",
       "                   id  \n",
       "169  1302837413424447  \n",
       "170   130283747714138  \n",
       "171   130283747018422  "
      ]
     },
     "execution_count": 217,
     "metadata": {},
     "output_type": "execute_result"
    }
   ],
   "source": [
    "voi_df_art[voi_df_art[\"Filename\"] == accnum+\".npy\"]"
   ]
  },
  {
   "cell_type": "code",
   "execution_count": null,
   "metadata": {
    "collapsed": true
   },
   "outputs": [],
   "source": [
    "dims_df = pd.read_csv(C.dims_df_path)\n",
    "\n",
    "dims_df[dims_df[\"AccNum\"] == accnum]\n",
    "\n",
    "voi_df_art[voi_df_art[\"Filename\"] == accnum+\".npy\"]"
   ]
  },
  {
   "cell_type": "code",
   "execution_count": 20,
   "metadata": {},
   "outputs": [
    {
     "data": {
      "image/png": "[encoded data removed]",
      "text/plain": [
       "<matplotlib.figure.Figure at 0x186abf5c860>"
      ]
     },
     "metadata": {},
     "output_type": "display_data"
    }
   ],
   "source": [
    "cls = \"cyst\"\n",
    "accnum = \"12042703\"\n",
    "img = np.load(C.crops_dir + cls + \"\\\\\" + accnum + \"_0.npy\")\n",
    "hf.plot_section_auto(img)"
   ]
  },
  {
   "cell_type": "code",
   "execution_count": 21,
   "metadata": {
    "scrolled": true
   },
   "outputs": [
    {
     "data": {
      "image/png": "[encoded data removed]",
      "text/plain": [
       "<matplotlib.figure.Figure at 0x186abfb93c8>"
      ]
     },
     "metadata": {},
     "output_type": "display_data"
    }
   ],
   "source": [
    "cls = \"cyst\"\n",
    "accnum = \"12042703\"\n",
    "img = np.load(C.orig_dir + cls + \"\\\\\" + accnum + \"_0.npy\")\n",
    "hf.plot_section_auto(img)"
   ]
  },
  {
   "cell_type": "code",
   "execution_count": 346,
   "metadata": {},
   "outputs": [
    {
     "data": {
      "image/png": "[encoded data removed]",
      "text/plain": [
       "<matplotlib.figure.Figure at 0x2831ef5a358>"
      ]
     },
     "metadata": {},
     "output_type": "display_data"
    }
   ],
   "source": [
    "cls = \"cyst\"\n",
    "accnum = \"12042703\"\n",
    "img = np.load(C.aug_dir + cls + \"\\\\\" + accnum + \"_0_0.npy\")\n",
    "hf.plot_section_auto(img)"
   ]
  },
  {
   "cell_type": "code",
   "execution_count": 23,
   "metadata": {},
   "outputs": [
    {
     "data": {
      "image/png": "[encoded data removed]",
      "text/plain": [
       "<matplotlib.figure.Figure at 0x186abf27c50>"
      ]
     },
     "metadata": {},
     "output_type": "display_data"
    }
   ],
   "source": [
    "hf.plot_section_scan(img, 0.2)"
   ]
  },
  {
   "cell_type": "markdown",
   "metadata": {
    "scrolled": true
   },
   "source": [
    "img_fn = \"E100529980.npy\"\n",
    "img = np.load(C.full_img_dir+\"\\\\\"+img_fn)\n",
    "hf.plot_section(img, voi_df[voi_df[\"Filename\"] == img_fn].iloc[0], pad=0)\n",
    "#art_vois = voi_df_art[(voi_df_art[\"Filename\"] == img_fn) & (voi_df_art[\"cls\"].isin(classes_to_include))]\n",
    "\n",
    "#img = np.load(\"orig_imgs\\\\cyst\\\\E100529980_1.npy\")\n",
    "#plt.imshow(img[:,:,5,0], cmap='gray')"
   ]
  },
  {
   "cell_type": "markdown",
   "metadata": {},
   "source": [
    "hf.augment(pad_img, C.dims, translate=[1,1,0], exceed_ratio=0.9, num_samples=1)"
   ]
  }
 ],
 "metadata": {
  "kernelspec": {
   "display_name": "Python 3",
   "language": "python",
   "name": "python3"
  },
  "language_info": {
   "codemirror_mode": {
    "name": "ipython",
    "version": 3
   },
   "file_extension": ".py",
   "mimetype": "text/x-python",
   "name": "python",
   "nbconvert_exporter": "python",
   "pygments_lexer": "ipython3",
   "version": "3.5.0"
  }
 },
 "nbformat": 4,
 "nbformat_minor": 2
}
