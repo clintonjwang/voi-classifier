{
 "cells": [
  {
   "cell_type": "markdown",
   "metadata": {},
   "source": [
    "Retrieves images from \"raw_imgs\" folder and stores them in \"full_imgs\". Retrieves spreadsheet listing VOIs and stores them in text file."
   ]
  },
  {
   "cell_type": "markdown",
   "metadata": {},
   "source": [
    "TODO: function to read existing vois, drop one class, then load the class back in. Requires that load_imgs write to a DataFrame rather than an array"
   ]
  },
  {
   "cell_type": "code",
   "execution_count": 1,
   "metadata": {
    "collapsed": true
   },
   "outputs": [],
   "source": [
    "import config\n",
    "import helper_fxns as hf\n",
    "import transforms as tr\n",
    "import importlib\n",
    "import matplotlib.pyplot as plt\n",
    "import numpy as np\n",
    "import os\n",
    "import pandas as pd\n",
    "import pyelastix\n",
    "import requests\n",
    "import sys\n",
    "import time\n",
    "%matplotlib inline"
   ]
  },
  {
   "cell_type": "code",
   "execution_count": 23,
   "metadata": {
    "scrolled": true
   },
   "outputs": [
    {
     "data": {
      "text/plain": [
       "<module 'config' from 'C:\\\\Users\\\\Clinton\\\\Documents\\\\voi-classifier\\\\config.py'>"
      ]
     },
     "execution_count": 23,
     "metadata": {},
     "output_type": "execute_result"
    }
   ],
   "source": [
    "importlib.reload(hf)\n",
    "importlib.reload(tr)\n",
    "importlib.reload(config)"
   ]
  },
  {
   "cell_type": "code",
   "execution_count": 2,
   "metadata": {
    "collapsed": true
   },
   "outputs": [],
   "source": [
    "C = config.Config()"
   ]
  },
  {
   "cell_type": "code",
   "execution_count": 3,
   "metadata": {
    "collapsed": true
   },
   "outputs": [],
   "source": [
    "def add_voi(voi_df, mrn, x, y, z, cls, flipz, return_id=False):\n",
    "    \"\"\"Append voi info to the dataframe voi_df.\"\"\"\n",
    "    \n",
    "    #vois.append([str(mrn) + \".npy\", x[0], x[1], y[0], y[1], z[0], z[1], cls])\n",
    "    if len(voi_df) == 0:\n",
    "        i = 0\n",
    "    else:\n",
    "        i = voi_df.index[-1]+1\n",
    "        \n",
    "    dx = x[1] - x[0]\n",
    "    dy = y[1] - y[0]\n",
    "    dz = z[1] - z[0]\n",
    "    \n",
    "    if return_id:\n",
    "        row_id = ''.join(map(str, [mrn, x[0], y[0], z[0]]))\n",
    "        voi_df.loc[i] = [str(mrn) + \".npy\", x[0], x[1], y[0], y[1], z[0], z[1], cls, flipz, dx, dy, dz, row_id]\n",
    "        return voi_df, row_id\n",
    "        \n",
    "    else:\n",
    "        row_id = mrn\n",
    "        voi_df.loc[i] = [row_id, x[0], x[1], y[0], y[1], z[0], z[1], dx, dy, dz]\n",
    "        return voi_df"
   ]
  },
  {
   "cell_type": "code",
   "execution_count": 4,
   "metadata": {
    "collapsed": true
   },
   "outputs": [],
   "source": [
    "def preprocess_df(df):\n",
    "    \"\"\"Select only rows for this run. Collect MRNs and voi coordinates.\"\"\"\n",
    "    \n",
    "    df = df[(df['Run'] <= 2) & (df['Image type'].isin(['AP-T1', 'VP-T1']))].dropna(subset=[\"x1\"])\n",
    "    return df.drop(set(df.columns).difference(['Patient E Number', \n",
    "          'x1', 'x2', 'y1', 'y2', 'z1', 'z2', 'Image type', 'Flipped',\n",
    "          'x3', 'x4', 'y3', 'y4', 'z3', 'z4', 'Image type2']), axis=1)"
   ]
  },
  {
   "cell_type": "code",
   "execution_count": 11,
   "metadata": {
    "collapsed": true
   },
   "outputs": [],
   "source": [
    "def load_imgs(img_dir, cls, xls_name, sheetname, save_dir, voi_dfs, verbose=False):\n",
    "    \"\"\"Load images stored in img_dir with class name cls and stored in excel spreadsheet xls_name with name sheetname.\n",
    "    Saves images to save_dir and saves vois to the global vois variable.\n",
    "    Scales images and VOIs so that each voxel is 1.5 x 1.5 x 4 cm\n",
    "    \"\"\"\n",
    "    \n",
    "    print(\"\\nLoading DCMs for class\", cls)\n",
    "    \n",
    "    voi_df_art, voi_df_ven = voi_dfs\n",
    "    df = pd.read_excel(xls_name, sheetname=sheetname)\n",
    "    df = preprocess_df(df)\n",
    "    mrns = list(set(df['Patient E Number'].dropna().astype(str).tolist()))\n",
    "    s = time.time()\n",
    "    target_dims = [1.5, 1.5, 4]\n",
    "    load_time = 0\n",
    "    reg_time = 0\n",
    "\n",
    "    for cnt, mrn in enumerate(mrns):\n",
    "        if os.path.exists(save_dir + \"\\\\\" + mrn + \".npy\"):\n",
    "            continue\n",
    "            \n",
    "        df_subset = df.loc[df['Patient E Number'].astype(str) == mrn]\n",
    "        \n",
    "        subdir = img_dir+\"\\\\\"+mrn # img_dir+\"\\\\\"+cls +\"\\\\\"+mrn\n",
    "\n",
    "        t_load = time.time()\n",
    "        art[mrn], cur_dims = hf.dcm_load(subdir+r\"\\T1_AP\")\n",
    "        try:\n",
    "            ven[mrn], _ = hf.dcm_load(subdir+r\"\\T1_VP\")\n",
    "        except:\n",
    "            print(\"No venous phase for\", mrn)\n",
    "            continue\n",
    "\n",
    "        #pre[mrn], _ = hf.dcm_load(subdir+r\"\\T1_BL\")\n",
    "        #equ[mrn] = hf.dcm_load(subdir+r\"\\T1_EQ\")\n",
    "        #t2[mrn], _ = hf.dcm_load(subdir+r\"\\T2\")\n",
    "        load_time += time.time() - t_load\n",
    "\n",
    "        # assume that VP-T1 will have been specified completely for each MRN\n",
    "        if \"Image type2\" not in df_subset.columns or df_subset.iloc[0][\"Image type2\"] != \"VP-T1\":\n",
    "            ven[mrn], _ = hf.reg_imgs(moving=ven[mrn], fixed=art[mrn], params=params, rescale_only=False)\n",
    "        #t2[mrn], reg_scale = reg_imgs(moving=t2[mrn], fixed=art[mrn], params=params, rescale_only=False)\n",
    "\n",
    "        #img = np.expand_dims(art[mrn], axis=3)\n",
    "        img = np.transpose(np.stack((art[mrn], ven[mrn])), (1,2,3,0))\n",
    "\n",
    "        #mask_file = base_dir + \"\\\\\" + mrn + r'\\00_segs\\liver.ids'\n",
    "        #img = apply_mask(img, mask_file)\n",
    "\n",
    "        #nonzeros = np.nonzero(img)\n",
    "        #minx, maxx = min(nonzeros[0]), max(nonzeros[0])\n",
    "        #miny, maxy = min(nonzeros[1]), max(nonzeros[1])\n",
    "        #minz, maxz = min(nonzeros[2]), max(nonzeros[2])\n",
    "        #img = img[minx:maxx, miny:maxy, minz:maxz, :]\n",
    "\n",
    "        img, vox_scale = hf.rescale(img, target_dims, cur_dims)\n",
    "\n",
    "        np.save(save_dir + \"\\\\\" + mrn, img)\n",
    "\n",
    "        for _, row in df_subset.iterrows():\n",
    "                \n",
    "            x = (int(row['x1']), int(row['x2']))\n",
    "            y = (int(row['y1']), int(row['y2']))\n",
    "            z = (int(row['z1']), int(row['z2']))\n",
    "\n",
    "            y = (art[mrn].shape[1]-y[1], art[mrn].shape[1]-y[0]) # flip y\n",
    "            if row['Flipped'] != \"Yes\":\n",
    "                z = (art[mrn].shape[2]-z[1], art[mrn].shape[2]-z[0]) # flip z\n",
    "\n",
    "            x,y,z = hf.scale_vois(x, y, z, vox_scale)\n",
    "\n",
    "            #x = (x[0] - minx, x[1] - minx)\n",
    "            #y = (y[0] - miny, y[1] - miny)\n",
    "            #z = (z[0] - minz, z[1] - minz)\n",
    "\n",
    "            #if row['Image type'] == 'VP-T1':\n",
    "            #    voi_df_ven = add_voi(voi_df_ven, mrn, x,y,z, cls, row['Flipped'] == \"Yes\")\n",
    "            #else:\n",
    "            voi_df_art, art_id = add_voi(voi_df_art, mrn, x,y,z, cls, row['Flipped'] == \"Yes\", return_id = True)\n",
    "                \n",
    "            if row['Image type2'] == 'VP-T1':\n",
    "                voi_df_ven = add_voi(voi_df_ven, art_id, x,y,z)\n",
    "\n",
    "        if verbose:\n",
    "            print(mrn, \"%d out of %d MRNs loaded\" % (cnt+1, len(mrns)))\n",
    "        else:\n",
    "            print(\".\", end=\"\")\n",
    "            \n",
    "    print(\"Overall time: %s\" % str(time.time() - s))\n",
    "    #print(\"Time to load dcms: %s\" % str(load_time))\n",
    "    #print(\"Time registering: %s\" % str(reg_time))\n",
    "    return voi_df_art, voi_df_ven"
   ]
  },
  {
   "cell_type": "code",
   "execution_count": 12,
   "metadata": {},
   "outputs": [],
   "source": [
    "ven = {}\n",
    "art = {}\n",
    "\n",
    "voi_df_art = pd.DataFrame(columns = [\"Filename\", \"x1\", \"x2\", \"y1\", \"y2\", \"z1\", \"z2\", \"cls\", \"flipz\", \"dx\", \"dy\", \"dz\", \"id\"])\n",
    "\n",
    "#voi_df_ven only contains entries where manually specified\n",
    "voi_df_ven = pd.DataFrame(columns = [\"id\", \"x1\", \"x2\", \"y1\", \"y2\", \"z1\", \"z2\", \"dx\", \"dy\", \"dz\"])\n",
    "\n",
    "params = pyelastix.get_default_params(type=\"AFFINE\")"
   ]
  },
  {
   "cell_type": "code",
   "execution_count": 13,
   "metadata": {},
   "outputs": [],
   "source": [
    "save_dir = C.full_img_dir\n",
    "voi_dfs = [voi_df_art, voi_df_ven]\n",
    "if not os.path.exists(save_dir):\n",
    "    os.makedirs(save_dir)\n",
    "    \n",
    "xls_name = 'Z:\\\\Prototype1c.xlsx'\n",
    "base_dir = \"Z:\""
   ]
  },
  {
   "cell_type": "markdown",
   "metadata": {},
   "source": [
    "### Run 1"
   ]
  },
  {
   "cell_type": "code",
   "execution_count": 14,
   "metadata": {
    "scrolled": true
   },
   "outputs": [
    {
     "name": "stdout",
     "output_type": "stream",
     "text": [
      "\n",
      "Loading DCMs for class cyst\n"
     ]
    },
    {
     "ename": "KeyError",
     "evalue": "'Image type2'",
     "output_type": "error",
     "traceback": [
      "\u001b[1;31m---------------------------------------------------------------------------\u001b[0m",
      "\u001b[1;31mTypeError\u001b[0m                                 Traceback (most recent call last)",
      "\u001b[1;32m~\\AppData\\Local\\conda\\conda\\envs\\old-keras\\lib\\site-packages\\pandas\\core\\indexes\\base.py\u001b[0m in \u001b[0;36mget_value\u001b[1;34m(self, series, key)\u001b[0m\n\u001b[0;32m   2482\u001b[0m             \u001b[1;32mtry\u001b[0m\u001b[1;33m:\u001b[0m\u001b[1;33m\u001b[0m\u001b[0m\n\u001b[1;32m-> 2483\u001b[1;33m                 \u001b[1;32mreturn\u001b[0m \u001b[0mlibts\u001b[0m\u001b[1;33m.\u001b[0m\u001b[0mget_value_box\u001b[0m\u001b[1;33m(\u001b[0m\u001b[0ms\u001b[0m\u001b[1;33m,\u001b[0m \u001b[0mkey\u001b[0m\u001b[1;33m)\u001b[0m\u001b[1;33m\u001b[0m\u001b[0m\n\u001b[0m\u001b[0;32m   2484\u001b[0m             \u001b[1;32mexcept\u001b[0m \u001b[0mIndexError\u001b[0m\u001b[1;33m:\u001b[0m\u001b[1;33m\u001b[0m\u001b[0m\n",
      "\u001b[1;32mpandas\\_libs\\tslib.pyx\u001b[0m in \u001b[0;36mpandas._libs.tslib.get_value_box (pandas\\_libs\\tslib.c:18843)\u001b[1;34m()\u001b[0m\n",
      "\u001b[1;32mpandas\\_libs\\tslib.pyx\u001b[0m in \u001b[0;36mpandas._libs.tslib.get_value_box (pandas\\_libs\\tslib.c:18477)\u001b[1;34m()\u001b[0m\n",
      "\u001b[1;31mTypeError\u001b[0m: 'str' object cannot be interpreted as an integer",
      "\nDuring handling of the above exception, another exception occurred:\n",
      "\u001b[1;31mKeyError\u001b[0m                                  Traceback (most recent call last)",
      "\u001b[1;32m<ipython-input-14-cae0e9d9e9a7>\u001b[0m in \u001b[0;36m<module>\u001b[1;34m()\u001b[0m\n\u001b[0;32m      2\u001b[0m \u001b[0mcls\u001b[0m \u001b[1;33m=\u001b[0m \u001b[1;34m'cyst'\u001b[0m\u001b[1;33m\u001b[0m\u001b[0m\n\u001b[0;32m      3\u001b[0m \u001b[0msheetname\u001b[0m\u001b[1;33m=\u001b[0m\u001b[1;34m\"Hepatic Cyst\"\u001b[0m\u001b[1;33m\u001b[0m\u001b[0m\n\u001b[1;32m----> 4\u001b[1;33m \u001b[0mvoi_dfs\u001b[0m \u001b[1;33m=\u001b[0m \u001b[0mload_imgs\u001b[0m\u001b[1;33m(\u001b[0m\u001b[0mimg_dir\u001b[0m\u001b[1;33m,\u001b[0m \u001b[0mcls\u001b[0m\u001b[1;33m,\u001b[0m \u001b[0mxls_name\u001b[0m\u001b[1;33m,\u001b[0m \u001b[0msheetname\u001b[0m\u001b[1;33m,\u001b[0m \u001b[0msave_dir\u001b[0m\u001b[1;33m,\u001b[0m \u001b[0mvoi_dfs\u001b[0m\u001b[1;33m)\u001b[0m\u001b[1;33m\u001b[0m\u001b[0m\n\u001b[0m\u001b[0;32m      5\u001b[0m \u001b[1;33m\u001b[0m\u001b[0m\n\u001b[0;32m      6\u001b[0m \u001b[0mimg_dir\u001b[0m \u001b[1;33m=\u001b[0m \u001b[0mbase_dir\u001b[0m\u001b[1;33m+\u001b[0m\u001b[1;34m'\\\\OPTN5A'\u001b[0m\u001b[1;33m\u001b[0m\u001b[0m\n",
      "\u001b[1;32m<ipython-input-11-aca9925e41b4>\u001b[0m in \u001b[0;36mload_imgs\u001b[1;34m(img_dir, cls, xls_name, sheetname, save_dir, voi_dfs, verbose)\u001b[0m\n\u001b[0;32m     79\u001b[0m             \u001b[0mvoi_df_art\u001b[0m\u001b[1;33m,\u001b[0m \u001b[0mart_id\u001b[0m \u001b[1;33m=\u001b[0m \u001b[0madd_voi\u001b[0m\u001b[1;33m(\u001b[0m\u001b[0mvoi_df_art\u001b[0m\u001b[1;33m,\u001b[0m \u001b[0mmrn\u001b[0m\u001b[1;33m,\u001b[0m \u001b[0mx\u001b[0m\u001b[1;33m,\u001b[0m\u001b[0my\u001b[0m\u001b[1;33m,\u001b[0m\u001b[0mz\u001b[0m\u001b[1;33m,\u001b[0m \u001b[0mcls\u001b[0m\u001b[1;33m,\u001b[0m \u001b[0mrow\u001b[0m\u001b[1;33m[\u001b[0m\u001b[1;34m'Flipped'\u001b[0m\u001b[1;33m]\u001b[0m \u001b[1;33m==\u001b[0m \u001b[1;34m\"Yes\"\u001b[0m\u001b[1;33m,\u001b[0m \u001b[0mreturn_id\u001b[0m \u001b[1;33m=\u001b[0m \u001b[1;32mTrue\u001b[0m\u001b[1;33m)\u001b[0m\u001b[1;33m\u001b[0m\u001b[0m\n\u001b[0;32m     80\u001b[0m \u001b[1;33m\u001b[0m\u001b[0m\n\u001b[1;32m---> 81\u001b[1;33m             \u001b[1;32mif\u001b[0m \u001b[0mrow\u001b[0m\u001b[1;33m[\u001b[0m\u001b[1;34m'Image type2'\u001b[0m\u001b[1;33m]\u001b[0m \u001b[1;33m==\u001b[0m \u001b[1;34m'VP-T1'\u001b[0m\u001b[1;33m:\u001b[0m\u001b[1;33m\u001b[0m\u001b[0m\n\u001b[0m\u001b[0;32m     82\u001b[0m                 \u001b[0mvoi_df_ven\u001b[0m \u001b[1;33m=\u001b[0m \u001b[0madd_voi\u001b[0m\u001b[1;33m(\u001b[0m\u001b[0mvoi_df_ven\u001b[0m\u001b[1;33m,\u001b[0m \u001b[0mart_id\u001b[0m\u001b[1;33m,\u001b[0m \u001b[0mx\u001b[0m\u001b[1;33m,\u001b[0m\u001b[0my\u001b[0m\u001b[1;33m,\u001b[0m\u001b[0mz\u001b[0m\u001b[1;33m)\u001b[0m\u001b[1;33m\u001b[0m\u001b[0m\n\u001b[0;32m     83\u001b[0m \u001b[1;33m\u001b[0m\u001b[0m\n",
      "\u001b[1;32m~\\AppData\\Local\\conda\\conda\\envs\\old-keras\\lib\\site-packages\\pandas\\core\\series.py\u001b[0m in \u001b[0;36m__getitem__\u001b[1;34m(self, key)\u001b[0m\n\u001b[0;32m    599\u001b[0m         \u001b[0mkey\u001b[0m \u001b[1;33m=\u001b[0m \u001b[0mcom\u001b[0m\u001b[1;33m.\u001b[0m\u001b[0m_apply_if_callable\u001b[0m\u001b[1;33m(\u001b[0m\u001b[0mkey\u001b[0m\u001b[1;33m,\u001b[0m \u001b[0mself\u001b[0m\u001b[1;33m)\u001b[0m\u001b[1;33m\u001b[0m\u001b[0m\n\u001b[0;32m    600\u001b[0m         \u001b[1;32mtry\u001b[0m\u001b[1;33m:\u001b[0m\u001b[1;33m\u001b[0m\u001b[0m\n\u001b[1;32m--> 601\u001b[1;33m             \u001b[0mresult\u001b[0m \u001b[1;33m=\u001b[0m \u001b[0mself\u001b[0m\u001b[1;33m.\u001b[0m\u001b[0mindex\u001b[0m\u001b[1;33m.\u001b[0m\u001b[0mget_value\u001b[0m\u001b[1;33m(\u001b[0m\u001b[0mself\u001b[0m\u001b[1;33m,\u001b[0m \u001b[0mkey\u001b[0m\u001b[1;33m)\u001b[0m\u001b[1;33m\u001b[0m\u001b[0m\n\u001b[0m\u001b[0;32m    602\u001b[0m \u001b[1;33m\u001b[0m\u001b[0m\n\u001b[0;32m    603\u001b[0m             \u001b[1;32mif\u001b[0m \u001b[1;32mnot\u001b[0m \u001b[0mis_scalar\u001b[0m\u001b[1;33m(\u001b[0m\u001b[0mresult\u001b[0m\u001b[1;33m)\u001b[0m\u001b[1;33m:\u001b[0m\u001b[1;33m\u001b[0m\u001b[0m\n",
      "\u001b[1;32m~\\AppData\\Local\\conda\\conda\\envs\\old-keras\\lib\\site-packages\\pandas\\core\\indexes\\base.py\u001b[0m in \u001b[0;36mget_value\u001b[1;34m(self, series, key)\u001b[0m\n\u001b[0;32m   2489\u001b[0m                     \u001b[1;32mraise\u001b[0m \u001b[0mInvalidIndexError\u001b[0m\u001b[1;33m(\u001b[0m\u001b[0mkey\u001b[0m\u001b[1;33m)\u001b[0m\u001b[1;33m\u001b[0m\u001b[0m\n\u001b[0;32m   2490\u001b[0m                 \u001b[1;32melse\u001b[0m\u001b[1;33m:\u001b[0m\u001b[1;33m\u001b[0m\u001b[0m\n\u001b[1;32m-> 2491\u001b[1;33m                     \u001b[1;32mraise\u001b[0m \u001b[0me1\u001b[0m\u001b[1;33m\u001b[0m\u001b[0m\n\u001b[0m\u001b[0;32m   2492\u001b[0m             \u001b[1;32mexcept\u001b[0m \u001b[0mException\u001b[0m\u001b[1;33m:\u001b[0m  \u001b[1;31m# pragma: no cover\u001b[0m\u001b[1;33m\u001b[0m\u001b[0m\n\u001b[0;32m   2493\u001b[0m                 \u001b[1;32mraise\u001b[0m \u001b[0me1\u001b[0m\u001b[1;33m\u001b[0m\u001b[0m\n",
      "\u001b[1;32m~\\AppData\\Local\\conda\\conda\\envs\\old-keras\\lib\\site-packages\\pandas\\core\\indexes\\base.py\u001b[0m in \u001b[0;36mget_value\u001b[1;34m(self, series, key)\u001b[0m\n\u001b[0;32m   2475\u001b[0m         \u001b[1;32mtry\u001b[0m\u001b[1;33m:\u001b[0m\u001b[1;33m\u001b[0m\u001b[0m\n\u001b[0;32m   2476\u001b[0m             return self._engine.get_value(s, k,\n\u001b[1;32m-> 2477\u001b[1;33m                                           tz=getattr(series.dtype, 'tz', None))\n\u001b[0m\u001b[0;32m   2478\u001b[0m         \u001b[1;32mexcept\u001b[0m \u001b[0mKeyError\u001b[0m \u001b[1;32mas\u001b[0m \u001b[0me1\u001b[0m\u001b[1;33m:\u001b[0m\u001b[1;33m\u001b[0m\u001b[0m\n\u001b[0;32m   2479\u001b[0m             \u001b[1;32mif\u001b[0m \u001b[0mlen\u001b[0m\u001b[1;33m(\u001b[0m\u001b[0mself\u001b[0m\u001b[1;33m)\u001b[0m \u001b[1;33m>\u001b[0m \u001b[1;36m0\u001b[0m \u001b[1;32mand\u001b[0m \u001b[0mself\u001b[0m\u001b[1;33m.\u001b[0m\u001b[0minferred_type\u001b[0m \u001b[1;32min\u001b[0m \u001b[1;33m[\u001b[0m\u001b[1;34m'integer'\u001b[0m\u001b[1;33m,\u001b[0m \u001b[1;34m'boolean'\u001b[0m\u001b[1;33m]\u001b[0m\u001b[1;33m:\u001b[0m\u001b[1;33m\u001b[0m\u001b[0m\n",
      "\u001b[1;32mpandas\\_libs\\index.pyx\u001b[0m in \u001b[0;36mpandas._libs.index.IndexEngine.get_value (pandas\\_libs\\index.c:4404)\u001b[1;34m()\u001b[0m\n",
      "\u001b[1;32mpandas\\_libs\\index.pyx\u001b[0m in \u001b[0;36mpandas._libs.index.IndexEngine.get_value (pandas\\_libs\\index.c:4087)\u001b[1;34m()\u001b[0m\n",
      "\u001b[1;32mpandas\\_libs\\index.pyx\u001b[0m in \u001b[0;36mpandas._libs.index.IndexEngine.get_loc (pandas\\_libs\\index.c:5126)\u001b[1;34m()\u001b[0m\n",
      "\u001b[1;32mpandas\\_libs\\hashtable_class_helper.pxi\u001b[0m in \u001b[0;36mpandas._libs.hashtable.PyObjectHashTable.get_item (pandas\\_libs\\hashtable.c:20523)\u001b[1;34m()\u001b[0m\n",
      "\u001b[1;32mpandas\\_libs\\hashtable_class_helper.pxi\u001b[0m in \u001b[0;36mpandas._libs.hashtable.PyObjectHashTable.get_item (pandas\\_libs\\hashtable.c:20477)\u001b[1;34m()\u001b[0m\n",
      "\u001b[1;31mKeyError\u001b[0m: 'Image type2'"
     ]
    }
   ],
   "source": [
    "img_dir = base_dir+'\\\\simple_cysts'\n",
    "cls = 'cyst'\n",
    "sheetname=\"Hepatic Cyst\"\n",
    "voi_dfs = load_imgs(img_dir, cls, xls_name, sheetname, save_dir, voi_dfs)\n",
    "\n",
    "img_dir = base_dir+'\\\\OPTN5A'\n",
    "cls = 'hcc'\n",
    "sheetname=\"OPTN 5A\"\n",
    "voi_dfs = load_imgs(img_dir, cls, xls_name, sheetname, save_dir, voi_dfs)\n",
    "\n",
    "img_dir = base_dir+'\\\\optn5b'\n",
    "cls = 'hcc'\n",
    "sheetname=\"OPTN 5B\"\n",
    "voi_dfs = load_imgs(img_dir, cls, xls_name, sheetname, save_dir, voi_dfs)\n",
    "\n",
    "img_dir = base_dir+'\\\\hemangioma'\n",
    "cls = 'hemangioma'\n",
    "sheetname=\"Hemangioma\"\n",
    "voi_dfs = load_imgs(img_dir, cls, xls_name, sheetname, save_dir, voi_dfs)"
   ]
  },
  {
   "cell_type": "markdown",
   "metadata": {},
   "source": [
    "Loading DCMs for class cyst\n",
    ".........................................Overall time: 295.843642950058\n",
    "\n",
    "Loading DCMs for class hcc\n",
    "........Overall time: 57.52138328552246\n",
    "\n",
    "Loading DCMs for class hcc\n",
    ".................................Overall time: 223.19729280471802"
   ]
  },
  {
   "cell_type": "markdown",
   "metadata": {},
   "source": [
    "### Run 2"
   ]
  },
  {
   "cell_type": "code",
   "execution_count": 13,
   "metadata": {
    "scrolled": true
   },
   "outputs": [
    {
     "name": "stdout",
     "output_type": "stream",
     "text": [
      "\n",
      "Loading DCMs for class fnh\n",
      "..........................Overall time: 1578.3234589099884\n"
     ]
    }
   ],
   "source": [
    "img_dir = base_dir+'\\\\fnh'\n",
    "cls = 'fnh'\n",
    "sheetname=\"FNH\"\n",
    "voi_dfs = load_imgs(img_dir, cls, xls_name, sheetname, save_dir, voi_dfs)"
   ]
  },
  {
   "cell_type": "markdown",
   "metadata": {},
   "source": [
    "### Run 3"
   ]
  },
  {
   "cell_type": "code",
   "execution_count": 14,
   "metadata": {},
   "outputs": [
    {
     "name": "stdout",
     "output_type": "stream",
     "text": [
      "\n",
      "Loading DCMs for class adenoma\n",
      "Z:\\adenoma\\12159074\\T1_VP NO_DICOM_FILES_FOUND\n",
      "No venous phase for 12159074\n",
      "..........Z:\\adenoma\\E100459749\\T1_VP [WinError 3] The system cannot find the path specified: 'Z:\\\\adenoma\\\\E100459749\\\\T1_VP'\n",
      "No venous phase for E100459749\n",
      "...Overall time: 799.2241818904877\n"
     ]
    }
   ],
   "source": [
    "img_dir = base_dir+'\\\\adenoma'\n",
    "cls = 'adenoma'\n",
    "sheetname=\"Adenoma\"\n",
    "voi_dfs = load_imgs(img_dir, cls, xls_name, sheetname, save_dir, voi_dfs)\n",
    "\n",
    "img_dir = base_dir+'\\\\colorectal'\n",
    "cls = 'colorectal'\n",
    "sheetname=\"Colorectal\"\n",
    "voi_dfs = load_imgs(img_dir, cls, xls_name, sheetname, save_dir, voi_dfs)"
   ]
  },
  {
   "cell_type": "markdown",
   "metadata": {},
   "source": [
    "for mrn in mrns:\n",
    "    if not os.path.exists(\"raw_imgs\\\\fnh\\\\\" + mrn + \"\\\\T1_AP\"):\n",
    "        print(\"raw_imgs\\\\fnh\\\\\" + mrn + \"\\\\T1_AP\")"
   ]
  },
  {
   "cell_type": "code",
   "execution_count": null,
   "metadata": {
    "collapsed": true
   },
   "outputs": [],
   "source": [
    "voi_df_art, voi_df_ven = voi_dfs\n",
    "voi_df_art.to_csv(C.art_voi_path, index=False)\n",
    "voi_df_ven.to_csv(C.ven_voi_path, index=False)"
   ]
  },
  {
   "cell_type": "code",
   "execution_count": 264,
   "metadata": {
    "collapsed": true
   },
   "outputs": [],
   "source": [
    "# vois = np.unique(vois, axis=0)\n",
    "#with open('train_list.txt', 'w') as f:\n",
    "#    for voi in vois:\n",
    "#        f.write(\",\".join([str(x) for x in voi]) + \"\\n\")"
   ]
  },
  {
   "cell_type": "code",
   "execution_count": 20,
   "metadata": {
    "collapsed": true
   },
   "outputs": [],
   "source": [
    "#voi_df = pd.DataFrame(vois, columns = [\"Filename\", \"x1\", \"x2\", \"y1\", \"y2\", \"z1\", \"z2\", \"cls\"]).dropna()"
   ]
  },
  {
   "cell_type": "code",
   "execution_count": 323,
   "metadata": {
    "scrolled": true
   },
   "outputs": [
    {
     "data": {
      "text/plain": [
       "cyst          75\n",
       "fnh           60\n",
       "hemangioma    54\n",
       "hcc           51\n",
       "Name: cls, dtype: int64"
      ]
     },
     "execution_count": 323,
     "metadata": {},
     "output_type": "execute_result"
    }
   ],
   "source": [
    "pd.value_counts(voi_df['cls'])"
   ]
  },
  {
   "cell_type": "code",
   "execution_count": 62,
   "metadata": {
    "collapsed": true
   },
   "outputs": [],
   "source": [
    "voi_df = pd.read_csv('vois.csv')"
   ]
  },
  {
   "cell_type": "code",
   "execution_count": 57,
   "metadata": {},
   "outputs": [
    {
     "data": {
      "text/html": [
       "<div>\n",
       "<style>\n",
       "    .dataframe thead tr:only-child th {\n",
       "        text-align: right;\n",
       "    }\n",
       "\n",
       "    .dataframe thead th {\n",
       "        text-align: left;\n",
       "    }\n",
       "\n",
       "    .dataframe tbody tr th {\n",
       "        vertical-align: top;\n",
       "    }\n",
       "</style>\n",
       "<table border=\"1\" class=\"dataframe\">\n",
       "  <thead>\n",
       "    <tr style=\"text-align: right;\">\n",
       "      <th></th>\n",
       "      <th>Filename</th>\n",
       "      <th>x1</th>\n",
       "      <th>x2</th>\n",
       "      <th>y1</th>\n",
       "      <th>y2</th>\n",
       "      <th>z1</th>\n",
       "      <th>z2</th>\n",
       "      <th>cls</th>\n",
       "      <th>flipz</th>\n",
       "      <th>dx</th>\n",
       "      <th>dy</th>\n",
       "      <th>dz</th>\n",
       "    </tr>\n",
       "  </thead>\n",
       "  <tbody>\n",
       "    <tr>\n",
       "      <th>113</th>\n",
       "      <td>12789019.npy</td>\n",
       "      <td>104</td>\n",
       "      <td>123</td>\n",
       "      <td>89</td>\n",
       "      <td>106</td>\n",
       "      <td>28</td>\n",
       "      <td>34</td>\n",
       "      <td>hcc</td>\n",
       "      <td>True</td>\n",
       "      <td>19</td>\n",
       "      <td>17</td>\n",
       "      <td>6</td>\n",
       "    </tr>\n",
       "    <tr>\n",
       "      <th>114</th>\n",
       "      <td>12789019.npy</td>\n",
       "      <td>54</td>\n",
       "      <td>77</td>\n",
       "      <td>88</td>\n",
       "      <td>111</td>\n",
       "      <td>42</td>\n",
       "      <td>50</td>\n",
       "      <td>hcc</td>\n",
       "      <td>True</td>\n",
       "      <td>23</td>\n",
       "      <td>23</td>\n",
       "      <td>8</td>\n",
       "    </tr>\n",
       "  </tbody>\n",
       "</table>\n",
       "</div>"
      ],
      "text/plain": [
       "         Filename   x1   x2  y1   y2  z1  z2  cls  flipz  dx  dy  dz\n",
       "113  12789019.npy  104  123  89  106  28  34  hcc   True  19  17   6\n",
       "114  12789019.npy   54   77  88  111  42  50  hcc   True  23  23   8"
      ]
     },
     "execution_count": 57,
     "metadata": {},
     "output_type": "execute_result"
    }
   ],
   "source": [
    "img_fn = \"12799025.npy\"\n",
    "voi_df[voi_df[\"Filename\"] == img_fn]"
   ]
  },
  {
   "cell_type": "code",
   "execution_count": 66,
   "metadata": {
    "collapsed": true,
    "scrolled": true
   },
   "outputs": [],
   "source": [
    "voi_df = hf.flipz(img_fn, voi_df)"
   ]
  },
  {
   "cell_type": "code",
   "execution_count": 146,
   "metadata": {},
   "outputs": [
    {
     "name": "stdout",
     "output_type": "stream",
     "text": [
      "12229245.npy\n",
      "12302576.npy\n",
      "12426594.npy\n",
      "12451831.npy\n",
      "12712463.npy\n",
      "12757450.npy\n",
      "12970726.npy\n",
      "13133279.npy\n",
      "13203550.npy\n",
      "13266654.npy\n",
      "E100314676.npy\n",
      "E101006207.npy\n",
      "E101516755.npy\n",
      "E101544573.npy\n",
      "E101579471.npy\n",
      "E101808884.npy\n",
      "E102373071.npy\n"
     ]
    }
   ],
   "source": [
    "for img_fn in sorted(set(voi_df[voi_df[\"cls\"] == \"cyst\"]['Filename'])):\n",
    "    img = np.load(\"full_imgs\\\\\"+img_fn)\n",
    "    if np.sum(img[img.shape[0]*1//5:img.shape[0]*4//5,img.shape[1]//5:img.shape[1]*2//5,:img.shape[2]//3]) > \\\n",
    "            np.sum(img[img.shape[0]*1//5:img.shape[0]*4//5,img.shape[1]//5:img.shape[1]*2//5,(img.shape[2]+1)*2//3:]):\n",
    "        print(img_fn)"
   ]
  },
  {
   "cell_type": "code",
   "execution_count": null,
   "metadata": {
    "collapsed": true
   },
   "outputs": [],
   "source": [
    "12239513, 12970726, 13133279, E100587476"
   ]
  },
  {
   "cell_type": "code",
   "execution_count": 85,
   "metadata": {
    "collapsed": true
   },
   "outputs": [],
   "source": [
    "voi_df = pd.read_csv('vois.csv')"
   ]
  },
  {
   "cell_type": "code",
   "execution_count": 322,
   "metadata": {
    "collapsed": true
   },
   "outputs": [],
   "source": [
    "voi_df = voi_df[voi_df[\"cls\"] != \"adenoma\"]"
   ]
  },
  {
   "cell_type": "code",
   "execution_count": 38,
   "metadata": {
    "collapsed": true
   },
   "outputs": [],
   "source": [
    "def plot_section(img, df, pad=30, flipz=False):\n",
    "    if flipz==\"both\":\n",
    "        plt.subplot(121)\n",
    "        plt.imshow(np.transpose(img[df['x1']-pad:df['x2']+pad,\n",
    "                                df['y2']+pad:df['y1']-pad:-1,\n",
    "                                (df['z1']+df['z2'])//2, 0], (1,0)), cmap='gray')\n",
    "        \n",
    "        plt.subplot(122)\n",
    "        plt.imshow(np.transpose(img[df['x1']-pad:df['x2']+pad,\n",
    "                                    df['y2']+pad:df['y1']-pad:-1,\n",
    "                                    img.shape[2]-(df['z1']+df['z2'])//2, 0], (1,0)), cmap='gray')\n",
    "\n",
    "def plot_section_xyz(img, x,y,z, pad=30):\n",
    "    plt.subplot(121)\n",
    "    plt.imshow(np.transpose(img[x[0]-pad:x[1]+pad, y[1]+pad:y[0]-pad:-1, (z[0]+z[1])//2,0], (1,0)), cmap='gray')\n",
    "    \n",
    "\n",
    "def plot_section_mrn(mrn,x,y,z, pad=30):\n",
    "    plt.subplot(211)\n",
    "    plt.imshow(np.transpose(art[mrn][x[0]-pad:x[1]+pad, y[1]+pad:y[0]-pad:-1, (z[0]+z[1])//2], (1,0)), cmap='gray')"
   ]
  },
  {
   "cell_type": "code",
   "execution_count": 40,
   "metadata": {
    "scrolled": true
   },
   "outputs": [
    {
     "data": {
      "image/png": "[encoded data removed]",
      "text/plain": [
       "<matplotlib.figure.Figure at 0x1df7f303208>"
      ]
     },
     "metadata": {},
     "output_type": "display_data"
    }
   ],
   "source": [
    "xls_name = 'Z:\\\\Prototype1b.xlsx'\n",
    "base_dir = \"Z:\"#'raw_imgs'\n",
    "img_dir = base_dir+'\\\\hemangioma'\n",
    "cls = 'hemangioma'\n",
    "sheetname=\"Hemangioma\"\n",
    "\n",
    "need_dcm = False\n",
    "mrns = [\"12789019\"]#list(set(df['Patient E Number'].dropna().astype(str).tolist()))\n",
    "target_dims = [1.5, 1.5, 4]\n",
    "\n",
    "if need_dcm:\n",
    "    voi_df = pd.DataFrame(columns = [\"Filename\", \"x1\", \"x2\", \"y1\", \"y2\", \"z1\", \"z2\", \"cls\", \"flipz\"])\n",
    "    df = pd.read_excel(xls_name, sheetname)\n",
    "    df = preprocess_df(df)\n",
    "    for cnt, mrn in enumerate(mrns):\n",
    "        df_subset = df.loc[df['Patient E Number'].astype(str) == mrn]\n",
    "        subdir = img_dir+\"\\\\\"+mrn\n",
    "        art[mrn], cur_dims = hf.dcm_load(subdir+r\"\\T1_AP\")\n",
    "        img = np.expand_dims(art[mrn], axis=3)\n",
    "        #img, vox_scale = hf.rescale(img, target_dims, cur_dims)\n",
    "\n",
    "        np.save(save_dir + \"\\\\\" + mrn, img)\n",
    "\n",
    "        for _, row in df_subset.iterrows():\n",
    "            x = (int(row['x1']), int(row['x2']))\n",
    "            y = (int(row['y1']), int(row['y2']))\n",
    "            z = (int(row['z1']), int(row['z2']))\n",
    "\n",
    "            y = (art[mrn].shape[1]-y[1], art[mrn].shape[1]-y[0]) # flip y\n",
    "            if row['Flipped'] != \"Yes\":\n",
    "                z = (art[mrn].shape[2]-z[1], art[mrn].shape[2]-z[0]) # flip z\n",
    "\n",
    "            #x,y,z = scale_vois(x, y, z, vox_scale)\n",
    "\n",
    "            add_voi(mrn, x,y,z, cls, row['Flipped'] != \"Yes\")\n",
    "        \n",
    "mrn = mrns[0]\n",
    "img_fn = mrn + \".npy\"\n",
    "img = np.load(\"full_imgs\\\\\"+img_fn)\n",
    "plot_section(img, voi_df[voi_df[\"Filename\"] == img_fn].iloc[0], flipz=\"both\", pad=10)"
   ]
  },
  {
   "cell_type": "code",
   "execution_count": 145,
   "metadata": {
    "scrolled": true
   },
   "outputs": [
    {
     "data": {
      "text/plain": [
       "<matplotlib.image.AxesImage at 0x1732f88bc50>"
      ]
     },
     "execution_count": 145,
     "metadata": {},
     "output_type": "execute_result"
    },
    {
     "data": {
      "image/png": "[encoded data removed]",
      "text/plain": [
       "<matplotlib.figure.Figure at 0x1732f8400b8>"
      ]
     },
     "metadata": {},
     "output_type": "display_data"
    }
   ],
   "source": [
    "plt.imshow(np.transpose(img[img.shape[0]*1//5:img.shape[0]*4//5,\n",
    "                            img.shape[1]*1//5:img.shape[1]*2//5,\n",
    "                            img.shape[2]*5//6, 0], (1,0)), cmap='gray')"
   ]
  },
  {
   "cell_type": "code",
   "execution_count": null,
   "metadata": {
    "collapsed": true
   },
   "outputs": [],
   "source": [
    "plot_section(img, voi_df[voi_df[\"Filename\"] == img_fn].iloc[1], pad=10)"
   ]
  },
  {
   "cell_type": "code",
   "execution_count": 110,
   "metadata": {},
   "outputs": [
    {
     "data": {
      "text/plain": [
       "array([ 1.5625,  1.5625,  3.5   ], dtype=float32)"
      ]
     },
     "execution_count": 110,
     "metadata": {},
     "output_type": "execute_result"
    }
   ],
   "source": [
    "dims"
   ]
  },
  {
   "cell_type": "code",
   "execution_count": 108,
   "metadata": {
    "collapsed": true
   },
   "outputs": [],
   "source": [
    "img = np.transpose(np.stack((img, img)), (1,2,3,0))"
   ]
  },
  {
   "cell_type": "code",
   "execution_count": 50,
   "metadata": {},
   "outputs": [
    {
     "data": {
      "text/plain": [
       "<matplotlib.image.AxesImage at 0x1310038dc88>"
      ]
     },
     "execution_count": 50,
     "metadata": {},
     "output_type": "execute_result"
    },
    {
     "data": {
      "image/png": "[encoded data removed]",
      "text/plain": [
       "<matplotlib.figure.Figure at 0x131001e8b70>"
      ]
     },
     "metadata": {},
     "output_type": "display_data"
    }
   ],
   "source": [
    "plt.imshow(img[:,:,60,0])"
   ]
  },
  {
   "cell_type": "code",
   "execution_count": 11,
   "metadata": {},
   "outputs": [
    {
     "ename": "AttributeError",
     "evalue": "module 'helper_fxns' has no attribute 'rescale'",
     "output_type": "error",
     "traceback": [
      "\u001b[1;31m---------------------------------------------------------------------------\u001b[0m",
      "\u001b[1;31mAttributeError\u001b[0m                            Traceback (most recent call last)",
      "\u001b[1;32m<ipython-input-11-492927a8019e>\u001b[0m in \u001b[0;36m<module>\u001b[1;34m()\u001b[0m\n\u001b[1;32m----> 1\u001b[1;33m \u001b[0mimg\u001b[0m\u001b[1;33m,\u001b[0m \u001b[0mvox_scale\u001b[0m \u001b[1;33m=\u001b[0m \u001b[0mhf\u001b[0m\u001b[1;33m.\u001b[0m\u001b[0mrescale\u001b[0m\u001b[1;33m(\u001b[0m\u001b[0mimg\u001b[0m\u001b[1;33m,\u001b[0m \u001b[0mtarget_dims\u001b[0m\u001b[1;33m,\u001b[0m \u001b[0mcur_dims\u001b[0m\u001b[1;33m)\u001b[0m\u001b[1;33m\u001b[0m\u001b[0m\n\u001b[0m",
      "\u001b[1;31mAttributeError\u001b[0m: module 'helper_fxns' has no attribute 'rescale'"
     ]
    }
   ],
   "source": [
    "img, vox_scale = hf.rescale(img, target_dims, cur_dims)"
   ]
  },
  {
   "cell_type": "code",
   "execution_count": 69,
   "metadata": {
    "collapsed": true
   },
   "outputs": [],
   "source": [
    "x = (74, 91)\n",
    "y = (128, 145)\n",
    "z = (43, 50)\n",
    "y = (img.shape[1]-y[1], img.shape[1]-y[0]) # flip y\n",
    "z = (img.shape[2]-z[1], img.shape[2]-z[0]) # flip z"
   ]
  },
  {
   "cell_type": "code",
   "execution_count": 75,
   "metadata": {
    "collapsed": true
   },
   "outputs": [],
   "source": [
    "x = (round(x[0]*vox_scale[0]), round(x[1]*vox_scale[0]))\n",
    "y = (round(y[0]*vox_scale[1]), round(y[1]*vox_scale[1]))\n",
    "z = (round(z[0]*vox_scale[2]), round(z[1]*vox_scale[2]))"
   ]
  },
  {
   "cell_type": "code",
   "execution_count": 78,
   "metadata": {
    "scrolled": true
   },
   "outputs": [
    {
     "data": {
      "image/png": "[encoded data removed]",
      "text/plain": [
       "<matplotlib.figure.Figure at 0x13100073278>"
      ]
     },
     "metadata": {},
     "output_type": "display_data"
    }
   ],
   "source": [
    "plot_section_xyz(img, x, y, z, pad=20)"
   ]
  },
  {
   "cell_type": "code",
   "execution_count": null,
   "metadata": {
    "collapsed": true
   },
   "outputs": [],
   "source": []
  }
 ],
 "metadata": {
  "anaconda-cloud": {},
  "kernelspec": {
   "display_name": "Python 3",
   "language": "python",
   "name": "python3"
  },
  "language_info": {
   "codemirror_mode": {
    "name": "ipython",
    "version": 3
   },
   "file_extension": ".py",
   "mimetype": "text/x-python",
   "name": "python",
   "nbconvert_exporter": "python",
   "pygments_lexer": "ipython3",
   "version": "3.5.0"
  }
 },
 "nbformat": 4,
 "nbformat_minor": 1
}
