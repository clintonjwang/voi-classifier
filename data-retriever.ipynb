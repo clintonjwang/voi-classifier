{
 "cells": [
  {
   "cell_type": "markdown",
   "metadata": {},
   "source": [
    "Retrieves images from \"raw_imgs\" folder and stores them in \"full_imgs\". Retrieves spreadsheet listing VOIs and stores them in text file."
   ]
  },
  {
   "cell_type": "markdown",
   "metadata": {},
   "source": [
    "TODO: function to read existing vois, drop one class, then load the class back in. Requires that drm.load_imgs write to a DataFrame rather than an array"
   ]
  },
  {
   "cell_type": "code",
   "execution_count": null,
   "metadata": {
    "collapsed": true
   },
   "outputs": [],
   "source": [
    "# check e105370029_0 and e101346..."
   ]
  },
  {
   "cell_type": "code",
   "execution_count": 2,
   "metadata": {
    "collapsed": true
   },
   "outputs": [],
   "source": [
    "import config\n",
    "import dr_methods as drm\n",
    "import helper_fxns as hf\n",
    "import transforms as tr\n",
    "import importlib\n",
    "import matplotlib.pyplot as plt\n",
    "import numpy as np\n",
    "import os\n",
    "import pandas as pd\n",
    "import pyelastix\n",
    "import time\n",
    "%matplotlib inline"
   ]
  },
  {
   "cell_type": "code",
   "execution_count": 34,
   "metadata": {
    "collapsed": true,
    "scrolled": true
   },
   "outputs": [],
   "source": [
    "importlib.reload(hf)\n",
    "importlib.reload(tr)\n",
    "importlib.reload(config)\n",
    "importlib.reload(drm)\n",
    "C = config.Config()"
   ]
  },
  {
   "cell_type": "code",
   "execution_count": 67,
   "metadata": {
    "scrolled": true
   },
   "outputs": [
    {
     "data": {
      "text/html": [
       "<div>\n",
       "<style>\n",
       "    .dataframe thead tr:only-child th {\n",
       "        text-align: right;\n",
       "    }\n",
       "\n",
       "    .dataframe thead th {\n",
       "        text-align: left;\n",
       "    }\n",
       "\n",
       "    .dataframe tbody tr th {\n",
       "        vertical-align: top;\n",
       "    }\n",
       "</style>\n",
       "<table border=\"1\" class=\"dataframe\">\n",
       "  <thead>\n",
       "    <tr style=\"text-align: right;\">\n",
       "      <th></th>\n",
       "      <th>Filename</th>\n",
       "      <th>x1</th>\n",
       "      <th>x2</th>\n",
       "      <th>y1</th>\n",
       "      <th>y2</th>\n",
       "      <th>z1</th>\n",
       "      <th>z2</th>\n",
       "      <th>cls</th>\n",
       "      <th>flipz</th>\n",
       "      <th>real_dx</th>\n",
       "      <th>real_dy</th>\n",
       "      <th>real_dz</th>\n",
       "      <th>id</th>\n",
       "      <th>lesion_num</th>\n",
       "    </tr>\n",
       "  </thead>\n",
       "  <tbody>\n",
       "    <tr>\n",
       "      <th>409</th>\n",
       "      <td>12090000.npy</td>\n",
       "      <td>88</td>\n",
       "      <td>117</td>\n",
       "      <td>156</td>\n",
       "      <td>181</td>\n",
       "      <td>44</td>\n",
       "      <td>55</td>\n",
       "      <td>colorectal</td>\n",
       "      <td>False</td>\n",
       "      <td>38.263888</td>\n",
       "      <td>32.98611</td>\n",
       "      <td>33.0</td>\n",
       "      <td>12090000_0</td>\n",
       "      <td>0</td>\n",
       "    </tr>\n",
       "  </tbody>\n",
       "</table>\n",
       "</div>"
      ],
      "text/plain": [
       "         Filename  x1   x2   y1   y2  z1  z2         cls  flipz    real_dx  \\\n",
       "409  12090000.npy  88  117  156  181  44  55  colorectal  False  38.263888   \n",
       "\n",
       "      real_dy  real_dz          id  lesion_num  \n",
       "409  32.98611     33.0  12090000_0           0  "
      ]
     },
     "execution_count": 67,
     "metadata": {},
     "output_type": "execute_result"
    }
   ],
   "source": [
    "voi_df_art = pd.read_csv(C.art_voi_path)\n",
    "voi_df_art[voi_df_art[\"Filename\"] == \"12090000.npy\"]"
   ]
  },
  {
   "cell_type": "code",
   "execution_count": null,
   "metadata": {
    "collapsed": true
   },
   "outputs": [],
   "source": [
    "drm.load_all_vois(C)"
   ]
  },
  {
   "cell_type": "code",
   "execution_count": 36,
   "metadata": {
    "scrolled": true
   },
   "outputs": [
    {
     "data": {
      "image/png": "[encoded data removed]",
      "text/plain": [
       "<matplotlib.figure.Figure at 0x1a85f2d0438>"
      ]
     },
     "metadata": {},
     "output_type": "display_data"
    }
   ],
   "source": [
    "# can be used to determine if an image is flipped\n",
    "cls = \"hcc\"\n",
    "acc_num = 'E100217760'#acc_nums[0]\n",
    "img_fn = acc_num + \".npy\"\n",
    "img = np.load(C.full_img_dir+\"\\\\\"+cls + \"\\\\\"+img_fn)\n",
    "hf.plot_section(img, voi_df_art[voi_df_art[\"Filename\"] == img_fn].iloc[0], flipz=\"both\", pad=10)"
   ]
  },
  {
   "cell_type": "code",
   "execution_count": 72,
   "metadata": {},
   "outputs": [
    {
     "data": {
      "text/html": [
       "<div>\n",
       "<style>\n",
       "    .dataframe thead tr:only-child th {\n",
       "        text-align: right;\n",
       "    }\n",
       "\n",
       "    .dataframe thead th {\n",
       "        text-align: left;\n",
       "    }\n",
       "\n",
       "    .dataframe tbody tr th {\n",
       "        vertical-align: top;\n",
       "    }\n",
       "</style>\n",
       "<table border=\"1\" class=\"dataframe\">\n",
       "  <thead>\n",
       "    <tr style=\"text-align: right;\">\n",
       "      <th></th>\n",
       "      <th>Filename</th>\n",
       "      <th>x1</th>\n",
       "      <th>x2</th>\n",
       "      <th>y1</th>\n",
       "      <th>y2</th>\n",
       "      <th>z1</th>\n",
       "      <th>z2</th>\n",
       "      <th>cls</th>\n",
       "      <th>flipz</th>\n",
       "      <th>real_dx</th>\n",
       "      <th>real_dy</th>\n",
       "      <th>real_dz</th>\n",
       "      <th>id</th>\n",
       "      <th>lesion_num</th>\n",
       "    </tr>\n",
       "  </thead>\n",
       "  <tbody>\n",
       "    <tr>\n",
       "      <th>98</th>\n",
       "      <td>12859243.npy</td>\n",
       "      <td>65</td>\n",
       "      <td>83</td>\n",
       "      <td>137</td>\n",
       "      <td>156</td>\n",
       "      <td>46</td>\n",
       "      <td>56</td>\n",
       "      <td>cyst</td>\n",
       "      <td>False</td>\n",
       "      <td>19.125</td>\n",
       "      <td>20.1875</td>\n",
       "      <td>30.0</td>\n",
       "      <td>12859243_1</td>\n",
       "      <td>1</td>\n",
       "    </tr>\n",
       "  </tbody>\n",
       "</table>\n",
       "</div>"
      ],
      "text/plain": [
       "        Filename  x1  x2   y1   y2  z1  z2   cls  flipz  real_dx  real_dy  \\\n",
       "98  12859243.npy  65  83  137  156  46  56  cyst  False   19.125  20.1875   \n",
       "\n",
       "    real_dz          id  lesion_num  \n",
       "98     30.0  12859243_1           1  "
      ]
     },
     "execution_count": 72,
     "metadata": {},
     "output_type": "execute_result"
    }
   ],
   "source": [
    "voi_df_art[voi_df_art[\"id\"] == \"12859243_1\"]"
   ]
  },
  {
   "cell_type": "code",
   "execution_count": null,
   "metadata": {
    "collapsed": true
   },
   "outputs": [],
   "source": [
    "[(float(row[\"real_dx\"]) * float(row[\"real_dy\"]) * float(row[\"real_dz\"])) ** (1/3) / 50,\n",
    "                            max(float(row[\"real_dx\"]), float(row[\"real_dy\"])) / float(row[\"real_dz\"])]"
   ]
  },
  {
   "cell_type": "code",
   "execution_count": 21,
   "metadata": {
    "collapsed": true
   },
   "outputs": [],
   "source": [
    "#dims_df = pd.DataFrame(columns = [\"AccNum\", \"x\", \"y\", \"z\"])\n",
    "dims_df = pd.read_csv(C.dims_df_path)\n",
    "voi_df_art = pd.DataFrame(columns = [\"Filename\", \"x1\", \"x2\", \"y1\", \"y2\", \"z1\", \"z2\", \"cls\",\n",
    "                                     \"flipz\", \"real_dx\", \"real_dy\", \"real_dz\", \"id\", \"lesion_num\"])\n",
    "voi_df_ven = pd.DataFrame(columns = [\"id\", \"x1\", \"x2\", \"y1\", \"y2\", \"z1\", \"z2\"]) #voi_df_ven only contains entries where manually specified\n",
    "voi_df_eq = pd.DataFrame(columns = [\"id\", \"x1\", \"x2\", \"y1\", \"y2\", \"z1\", \"z2\"]) #voi_df_ven only contains entries where manually specified\n",
    "voi_dfs = [voi_df_art, voi_df_ven, voi_df_eq]\n",
    "\n",
    "for cls in C.classes_to_include:\n",
    "    if not os.path.exists(C.full_img_dir + \"\\\\\" + cls):\n",
    "        os.makedirs(C.full_img_dir + \"\\\\\" + cls)\n",
    "    \n",
    "xls_name = 'Z:\\\\Prototype1d.xlsx'\n",
    "base_dir = \"Z:\""
   ]
  },
  {
   "cell_type": "markdown",
   "metadata": {
    "collapsed": true
   },
   "source": [
    "voi_df_art = pd.read_csv(C.art_voi_path)\n",
    "voi_df_ven = pd.read_csv(C.ven_voi_path)\n",
    "voi_df_eq = pd.read_csv(C.eq_voi_path)\n",
    "voi_dfs = [voi_df_art, voi_df_ven, voi_df_eq]\n",
    "dims_df = pd.read_csv(C.dims_df_path)"
   ]
  },
  {
   "cell_type": "code",
   "execution_count": 33,
   "metadata": {
    "collapsed": true
   },
   "outputs": [],
   "source": [
    "#intensity_df = pd.read_csv(C.int_df_path)\n",
    "\n",
    "intensity_df = drm.get_intensities(C)\n",
    "intensity_df.to_csv(C.int_df_path, index=False)"
   ]
  },
  {
   "cell_type": "markdown",
   "metadata": {},
   "source": [
    "for img_fn in os.listdir(C.full_img_dir):\n",
    "    try:\n",
    "        cls = voi_df_art[voi_df_art[\"Filename\"] == img_fn][\"cls\"].values[0]\n",
    "        os.rename(C.full_img_dir + \"\\\\\" + img_fn, C.full_img_dir + \"\\\\\" + cls + \"\\\\\" + img_fn)\n",
    "    except:\n",
    "        continue"
   ]
  },
  {
   "cell_type": "code",
   "execution_count": 63,
   "metadata": {
    "collapsed": true
   },
   "outputs": [],
   "source": [
    "#drm.delete_imgs(['12916368', 'E102556695'], 'hcc', C)\n",
    "#drm.delete_imgs(0, cls, C, xls_name, sheetname)"
   ]
  },
  {
   "cell_type": "markdown",
   "metadata": {},
   "source": [
    "### Run 1"
   ]
  },
  {
   "cell_type": "code",
   "execution_count": 76,
   "metadata": {
    "collapsed": true
   },
   "outputs": [],
   "source": [
    "df = pd.read_excel(xls_name, sheetname)\n",
    "df = drm.preprocess_df(df, C)\n",
    "acc_nums = list(set(df['Patient E Number'].dropna().astype(str).tolist()))"
   ]
  },
  {
   "cell_type": "code",
   "execution_count": 98,
   "metadata": {
    "collapsed": true
   },
   "outputs": [],
   "source": []
  },
  {
   "cell_type": "code",
   "execution_count": 120,
   "metadata": {
    "collapsed": true
   },
   "outputs": [],
   "source": [
    "patient_info_df = pd.DataFrame(columns = [\"MRN\", \"Sex\", \"AccNum\", \"AgeAtImaging\", \"cls\"])"
   ]
  },
  {
   "cell_type": "code",
   "execution_count": 23,
   "metadata": {},
   "outputs": [
    {
     "name": "stdout",
     "output_type": "stream",
     "text": [
      "\n",
      "Loading VOIs from sheet OPTN 5A\n",
      ".................................................Overall time: 69.36885070800781\n"
     ]
    }
   ],
   "source": [
    "img_dir = base_dir+'\\\\OPTN5A'\n",
    "cls = 'hcc'\n",
    "sheetname=\"OPTN 5A\"\n",
    "#drm.check_folders(img_dir, xls_name, sheetname, C)\n",
    "#dims_df = drm.load_imgs(img_dir, cls, xls_name, sheetname, dims_df, C)\n",
    "voi_dfs = drm.load_vois(cls, xls_name, sheetname, voi_dfs, dims_df, C)\n",
    "#drm.load_patient_info(img_dir, cls, xls_name, sheetname, patient_info_df, C)"
   ]
  },
  {
   "cell_type": "code",
   "execution_count": 22,
   "metadata": {
    "scrolled": true
   },
   "outputs": [
    {
     "name": "stdout",
     "output_type": "stream",
     "text": [
      "\n",
      "Loading VOIs from sheet OPTN 5B\n",
      "...........................................Overall time: 58.113728761672974\n"
     ]
    }
   ],
   "source": [
    "img_dir = base_dir+'\\\\optn5b'\n",
    "cls = 'hcc'\n",
    "sheetname=\"OPTN 5B\"\n",
    "#drm.check_folders(img_dir, xls_name, sheetname, C)\n",
    "#dims_df = drm.load_imgs(img_dir, cls, xls_name, sheetname, dims_df, C)\n",
    "voi_dfs = drm.load_vois(cls, xls_name, sheetname, voi_dfs, dims_df, C)"
   ]
  },
  {
   "cell_type": "code",
   "execution_count": 24,
   "metadata": {
    "scrolled": true
   },
   "outputs": [
    {
     "name": "stdout",
     "output_type": "stream",
     "text": [
      "\n",
      "Loading VOIs from sheet Cyst\n",
      "..........................................Overall time: 70.90608215332031\n"
     ]
    }
   ],
   "source": [
    "img_dir = base_dir+'\\\\simple_cysts'\n",
    "cls = 'cyst'\n",
    "sheetname=\"Cyst\"\n",
    "#drm.check_folders(img_dir, xls_name, sheetname, C)\n",
    "#dims_df = drm.load_imgs(img_dir, cls, xls_name, sheetname, dims_df, C)\n",
    "voi_dfs = drm.load_vois(cls, xls_name, sheetname, voi_dfs, dims_df, C)"
   ]
  },
  {
   "cell_type": "code",
   "execution_count": 25,
   "metadata": {
    "scrolled": true
   },
   "outputs": [
    {
     "name": "stdout",
     "output_type": "stream",
     "text": [
      "\n",
      "Loading VOIs from sheet Hemangioma\n",
      "......................................Overall time: 41.643107414245605\n"
     ]
    }
   ],
   "source": [
    "img_dir = base_dir+'\\\\hemangioma'\n",
    "cls = 'hemangioma'\n",
    "sheetname=\"Hemangioma\"\n",
    "#drm.check_folders(img_dir, xls_name, sheetname, C)\n",
    "#dims_df = drm.load_imgs(img_dir, cls, xls_name, sheetname, dims_df, C)\n",
    "voi_dfs = drm.load_vois(cls, xls_name, sheetname, voi_dfs, dims_df, C)"
   ]
  },
  {
   "cell_type": "code",
   "execution_count": 32,
   "metadata": {
    "collapsed": true
   },
   "outputs": [],
   "source": [
    "voi_df_art, voi_df_ven, voi_df_eq = voi_dfs\n",
    "voi_df_art.to_csv(C.art_voi_path, index=False)\n",
    "voi_df_ven.to_csv(C.ven_voi_path, index=False)\n",
    "voi_df_eq.to_csv(C.eq_voi_path, index=False)"
   ]
  },
  {
   "cell_type": "code",
   "execution_count": 30,
   "metadata": {
    "collapsed": true
   },
   "outputs": [],
   "source": [
    "dims_df.to_csv(C.dims_df_path, index=False)"
   ]
  },
  {
   "cell_type": "code",
   "execution_count": null,
   "metadata": {
    "collapsed": true
   },
   "outputs": [],
   "source": [
    "dims_df[dims_df[\"AccNum\"] == \"12530153\"]"
   ]
  },
  {
   "cell_type": "markdown",
   "metadata": {},
   "source": [
    "### Run 2"
   ]
  },
  {
   "cell_type": "code",
   "execution_count": 31,
   "metadata": {},
   "outputs": [
    {
     "name": "stdout",
     "output_type": "stream",
     "text": [
      "\n",
      "Loading VOIs from sheet FNH\n",
      "...................................Overall time: 51.92526698112488\n"
     ]
    }
   ],
   "source": [
    "img_dir = base_dir+'\\\\fnh'\n",
    "cls = 'fnh'\n",
    "sheetname=\"FNH\"\n",
    "#drm.check_folders(img_dir, xls_name, sheetname, C)\n",
    "#dims_df = drm.load_imgs(img_dir, cls, xls_name, sheetname, dims_df, C)\n",
    "voi_dfs = drm.load_vois(cls, xls_name, sheetname, voi_dfs, dims_df, C)"
   ]
  },
  {
   "cell_type": "code",
   "execution_count": null,
   "metadata": {
    "scrolled": false
   },
   "outputs": [],
   "source": [
    "img_dir = base_dir+'\\\\cholangio'\n",
    "cls = 'cholangio'\n",
    "sheetname=\"Cholangio\"\n",
    "#drm.check_folders(img_dir, xls_name, sheetname, C)\n",
    "#dims_df = drm.load_imgs(img_dir, cls, xls_name, sheetname, dims_df, C)\n",
    "voi_dfs = drm.load_vois(cls, xls_name, sheetname, voi_dfs, dims_df, C)"
   ]
  },
  {
   "cell_type": "code",
   "execution_count": null,
   "metadata": {
    "scrolled": true
   },
   "outputs": [],
   "source": [
    "img_dir = base_dir+'\\\\colorectal'\n",
    "cls = 'colorectal'\n",
    "sheetname=\"Colorectal\"\n",
    "#drm.check_folders(img_dir, xls_name, sheetname, C)\n",
    "#dims_df = drm.load_imgs(img_dir, cls, xls_name, sheetname, dims_df, C)\n",
    "voi_dfs = drm.load_vois(cls, xls_name, sheetname, voi_dfs, dims_df, C)"
   ]
  },
  {
   "cell_type": "code",
   "execution_count": 40,
   "metadata": {},
   "outputs": [
    {
     "data": {
      "text/html": [
       "<div>\n",
       "<style>\n",
       "    .dataframe thead tr:only-child th {\n",
       "        text-align: right;\n",
       "    }\n",
       "\n",
       "    .dataframe thead th {\n",
       "        text-align: left;\n",
       "    }\n",
       "\n",
       "    .dataframe tbody tr th {\n",
       "        vertical-align: top;\n",
       "    }\n",
       "</style>\n",
       "<table border=\"1\" class=\"dataframe\">\n",
       "  <thead>\n",
       "    <tr style=\"text-align: right;\">\n",
       "      <th></th>\n",
       "      <th>AccNum</th>\n",
       "      <th>x</th>\n",
       "      <th>y</th>\n",
       "      <th>z</th>\n",
       "    </tr>\n",
       "  </thead>\n",
       "  <tbody>\n",
       "  </tbody>\n",
       "</table>\n",
       "</div>"
      ],
      "text/plain": [
       "Empty DataFrame\n",
       "Columns: [AccNum, x, y, z]\n",
       "Index: []"
      ]
     },
     "execution_count": 40,
     "metadata": {},
     "output_type": "execute_result"
    }
   ],
   "source": [
    "dims_df[dims_df[\"AccNum\"] == 'E101266931']"
   ]
  },
  {
   "cell_type": "markdown",
   "metadata": {},
   "source": [
    "### Run 3"
   ]
  },
  {
   "cell_type": "code",
   "execution_count": 97,
   "metadata": {
    "scrolled": true
   },
   "outputs": [
    {
     "name": "stdout",
     "output_type": "stream",
     "text": [
      "\n",
      "Loading DCMs of type Adenoma\n",
      "...............Overall time: 928.8483188152313\n"
     ]
    }
   ],
   "source": [
    "img_dir = base_dir+'\\\\adenoma'\n",
    "cls = 'adenoma'\n",
    "sheetname=\"Adenoma\"\n",
    "dims_df = drm.load_imgs(img_dir, cls, xls_name, sheetname, dims_df, C)\n",
    "voi_dfs = drm.load_vois(cls, xls_name, sheetname, voi_dfs, dims_df, C)"
   ]
  },
  {
   "cell_type": "code",
   "execution_count": 66,
   "metadata": {
    "collapsed": true,
    "scrolled": true
   },
   "outputs": [],
   "source": [
    "voi_df = hf.flipz(img_fn, voi_df)"
   ]
  },
  {
   "cell_type": "code",
   "execution_count": null,
   "metadata": {
    "collapsed": true
   },
   "outputs": [],
   "source": [
    "for img_fn in sorted(set(voi_df[voi_df[\"cls\"] == \"cyst\"]['Filename'])):\n",
    "    img = np.load(\"full_imgs\\\\\"+img_fn)\n",
    "    if np.sum(img[img.shape[0]*1//5:img.shape[0]*4//5,img.shape[1]//5:img.shape[1]*2//5,:img.shape[2]//3]) > \\\n",
    "            np.sum(img[img.shape[0]*1//5:img.shape[0]*4//5,img.shape[1]//5:img.shape[1]*2//5,(img.shape[2]+1)*2//3:]):\n",
    "        print(img_fn)"
   ]
  },
  {
   "cell_type": "code",
   "execution_count": null,
   "metadata": {
    "collapsed": true
   },
   "outputs": [],
   "source": [
    "plot_section(img, voi_df[voi_df[\"Filename\"] == img_fn].iloc[1], pad=10)"
   ]
  }
 ],
 "metadata": {
  "anaconda-cloud": {},
  "kernelspec": {
   "display_name": "Python 3",
   "language": "python",
   "name": "python3"
  },
  "language_info": {
   "codemirror_mode": {
    "name": "ipython",
    "version": 3
   },
   "file_extension": ".py",
   "mimetype": "text/x-python",
   "name": "python",
   "nbconvert_exporter": "python",
   "pygments_lexer": "ipython3",
   "version": "3.5.0"
  }
 },
 "nbformat": 4,
 "nbformat_minor": 1
}
