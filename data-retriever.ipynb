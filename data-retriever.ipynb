{
 "cells": [
  {
   "cell_type": "markdown",
   "metadata": {},
   "source": [
    "Retrieves images from \"raw_imgs\" folder and stores them in \"full_imgs\". Retrieves spreadsheet listing VOIs and stores them in text file."
   ]
  },
  {
   "cell_type": "markdown",
   "metadata": {},
   "source": [
    "TODO: function to read existing vois, drop one class, then load the class back in. Requires that load_imgs write to a DataFrame rather than an array"
   ]
  },
  {
   "cell_type": "code",
   "execution_count": 1,
   "metadata": {
    "collapsed": true
   },
   "outputs": [],
   "source": [
    "import config\n",
    "import helper_fxns as hf\n",
    "import transforms as tr\n",
    "import importlib\n",
    "import matplotlib.pyplot as plt\n",
    "import numpy as np\n",
    "import os\n",
    "import pandas as pd\n",
    "import pyelastix\n",
    "import requests\n",
    "import sys\n",
    "import time\n",
    "%matplotlib inline"
   ]
  },
  {
   "cell_type": "code",
   "execution_count": 116,
   "metadata": {
    "scrolled": true
   },
   "outputs": [],
   "source": [
    "importlib.reload(hf)\n",
    "importlib.reload(tr)\n",
    "importlib.reload(config)\n",
    "C = config.Config()"
   ]
  },
  {
   "cell_type": "code",
   "execution_count": 117,
   "metadata": {
    "collapsed": true
   },
   "outputs": [],
   "source": [
    "def add_voi(voi_df, acc_num, x, y, z, cls=None, flipz=None, return_id=False):\n",
    "    \"\"\"Append voi info to the dataframe voi_df. Overwrite any previous entries.\"\"\"\n",
    "    \n",
    "    if return_id:\n",
    "        row_id = hf.get_voi_id(acc_num, x, y, z)\n",
    "    else:\n",
    "        row_id = acc_num\n",
    "    \n",
    "    voi_df = voi_df[voi_df[\"id\"] != row_id]\n",
    "    \n",
    "    if len(voi_df) == 0:\n",
    "        i = 0\n",
    "    else:\n",
    "        i = voi_df.index[-1]+1\n",
    "        \n",
    "    dx = x[1] - x[0]\n",
    "    dy = y[1] - y[0]\n",
    "    dz = z[1] - z[0]\n",
    "    \n",
    "    if return_id:\n",
    "        voi_df.loc[i] = [str(acc_num) + \".npy\", x[0], x[1], y[0], y[1], z[0], z[1], cls, flipz, dx, dy, dz, row_id]\n",
    "        return voi_df, row_id\n",
    "        \n",
    "    else:\n",
    "        voi_df.loc[i] = [row_id, x[0], x[1], y[0], y[1], z[0], z[1], dx, dy, dz]\n",
    "        return voi_df"
   ]
  },
  {
   "cell_type": "code",
   "execution_count": 118,
   "metadata": {},
   "outputs": [],
   "source": [
    "def add_to_dims_df(dims_df, acc_num, cur_dims):\n",
    "    \"\"\"Append scale info to the dataframe dims_df. Overwrite any previous entries.\"\"\"\n",
    "    \n",
    "    dims_df = dims_df[dims_df[\"AccNum\"] != acc_num]\n",
    "    \n",
    "    if len(dims_df) == 0:\n",
    "        i = 0\n",
    "    else:\n",
    "        i = dims_df.index[-1] + 1\n",
    "        \n",
    "    dims_df.loc[i] = [acc_num] + list(cur_dims)\n",
    "    \n",
    "    return dims_df"
   ]
  },
  {
   "cell_type": "code",
   "execution_count": 119,
   "metadata": {
    "collapsed": true
   },
   "outputs": [],
   "source": [
    "def preprocess_df(df):\n",
    "    \"\"\"Select only rows for this run. Collect acc_nums and voi coordinates.\"\"\"\n",
    "    \n",
    "    df = df[df['Run'] <= C.run_num].dropna(subset=[\"x1\"])\n",
    "    \n",
    "    return df.drop(set(df.columns).difference(['Patient E Number', \n",
    "          'x1', 'x2', 'y1', 'y2', 'z1', 'z2', 'Image type', 'Flipped',\n",
    "          'x3', 'x4', 'y3', 'y4', 'z3', 'z4', 'Image type2',\n",
    "          'x5', 'x6', 'y5', 'y6', 'z5', 'z6', 'Image type3']), axis=1)"
   ]
  },
  {
   "cell_type": "code",
   "execution_count": 134,
   "metadata": {
    "collapsed": true
   },
   "outputs": [],
   "source": [
    "df = pd.read_excel(xls_name, sheetname=sheetname)"
   ]
  },
  {
   "cell_type": "code",
   "execution_count": 135,
   "metadata": {},
   "outputs": [
    {
     "data": {
      "text/plain": [
       "{'Flipped',\n",
       " 'Image type',\n",
       " 'Patient E Number',\n",
       " 'Run',\n",
       " 'x1',\n",
       " 'x2',\n",
       " 'y1',\n",
       " 'y2',\n",
       " 'z1',\n",
       " 'z2'}"
      ]
     },
     "execution_count": 135,
     "metadata": {},
     "output_type": "execute_result"
    }
   ],
   "source": [
    "set(df.columns)"
   ]
  },
  {
   "cell_type": "code",
   "execution_count": 120,
   "metadata": {},
   "outputs": [],
   "source": [
    "def load_imgs(img_dir, xls_name, sheetname, save_dir, dims_df, verbose=False, target_dims = [1.5, 1.5, 4], num_ch=3):\n",
    "    \"\"\"Load images stored in img_dir with class name cls and stored in excel spreadsheet xls_name with name sheetname.\n",
    "    Saves images to save_dir and saves vois to the global vois variable.\n",
    "    Scales images and VOIs so that each voxel is 1.5 x 1.5 x 4 cm\n",
    "    \"\"\"\n",
    "    \n",
    "    s = time.time()\n",
    "    print(\"\\nLoading DCMs of type\", sheetname)\n",
    "    df = pd.read_excel(xls_name, sheetname=sheetname)\n",
    "    df = preprocess_df(df)\n",
    "    acc_nums = list(set(df['Patient E Number'].dropna().astype(str).tolist()))\n",
    "\n",
    "    for cnt, acc_num in enumerate(acc_nums):\n",
    "        if os.path.exists(save_dir + \"\\\\\" + str(acc_num) + \".npy\"):\n",
    "            print(acc_num, \"has already been saved. Skipping.\")\n",
    "            continue\n",
    "            \n",
    "        df_subset = df.loc[df['Patient E Number'].astype(str) == acc_num]\n",
    "        subdir = img_dir+\"\\\\\"+acc_num\n",
    "        art, cur_dims = hf.dcm_load(subdir+r\"\\T1_AP\")\n",
    "        try:\n",
    "            ven, _ = hf.dcm_load(subdir+r\"\\T1_VP\")\n",
    "        except:\n",
    "            print(subdir+r\"\\T1_VP\", \"missing\")\n",
    "            continue\n",
    "\n",
    "        # register phases if venous was not specified separately\n",
    "        if \"Image type2\" not in df_subset.columns or df_subset.iloc[0][\"Image type2\"] != \"VP-T1\":\n",
    "            ven, _ = hf.reg_imgs(moving=ven, fixed=art, params=params, rescale_only=False)\n",
    "            \n",
    "        dims_df = add_to_dims_df(dims_df, acc_num, cur_dims)\n",
    "\n",
    "        if num_ch == 3:\n",
    "            try:\n",
    "                eq, _ = hf.dcm_load(subdir+r\"\\T1_EQ\")\n",
    "            except:\n",
    "                print(subdir+r\"\\T1_EQ\", \"missing\")\n",
    "                continue\n",
    "            if \"Image type3\" not in df_subset.columns or df_subset.iloc[0][\"Image type3\"] != \"EQ-T1\":\n",
    "                eq, _ = hf.reg_imgs(moving=eq, fixed=art, params=params, rescale_only=False)\n",
    "            img = np.transpose(np.stack((art, ven, eq)), (1,2,3,0))\n",
    "        else:\n",
    "            img = np.transpose(np.stack((art, ven)), (1,2,3,0))\n",
    "            \n",
    "        img, vox_scale = hf.rescale(img, target_dims, cur_dims)\n",
    "        np.save(save_dir + \"\\\\\" + str(acc_num), img)\n",
    "\n",
    "        if verbose:\n",
    "            print(acc_num, \"%d out of %d acc_nums loaded\" % (cnt+1, len(acc_nums)))\n",
    "        else:\n",
    "            print(\".\", end=\"\")\n",
    "            \n",
    "    print(\"Overall time: %s\" % str(time.time() - s))\n",
    "    return dims_df"
   ]
  },
  {
   "cell_type": "code",
   "execution_count": 121,
   "metadata": {},
   "outputs": [],
   "source": [
    "def remove_voi(voi_df_art, voi_df_ven, acc_num, voi_num):\n",
    "    try:\n",
    "        voi_row = voi_df_art[voi_df_art[\"Filename\"] == acc_num + \".npy\"].iloc[voi_num]\n",
    "        if len(voi_df_ven[voi_df_ven[\"id\"] == voi_row[\"id\"]]) > 0:\n",
    "            voi_df_ven = voi_df_ven[voi_df_ven[\"id\"] != voi_row[\"id\"]]\n",
    "        voi_df_art = voi_df_art[voi_df_art[\"id\"] != voi_row[\"id\"]]\n",
    "        \n",
    "    except:\n",
    "        print(acc_num, \"with lesion number\", voi_num, \"not found.\")\n",
    "        \n",
    "    return voi_df_art, voi_df_ven"
   ]
  },
  {
   "cell_type": "code",
   "execution_count": 122,
   "metadata": {
    "collapsed": true
   },
   "outputs": [],
   "source": [
    "def load_vois(cls, xls_name, sheetname, save_dir, voi_dfs, dims_df, verbose=False, target_dims = [1.5, 1.5, 4]):\n",
    "    \"\"\"TBD\"\"\"\n",
    "    \n",
    "    s = time.time()\n",
    "    print(\"\\nLoading VOIs for class\", cls)\n",
    "    \n",
    "    voi_df_art, voi_df_ven, voi_df_eq = voi_dfs\n",
    "    df = pd.read_excel(xls_name, sheetname=sheetname)\n",
    "    df = preprocess_df(df)\n",
    "    \n",
    "    acc_nums = list(set(df['Patient E Number'].dropna().astype(str).tolist()))\n",
    "\n",
    "    for cnt, acc_num in enumerate(acc_nums):\n",
    "        df_subset = df.loc[df['Patient E Number'].astype(str) == acc_num]\n",
    "        img = np.load(save_dir + \"\\\\\" + str(acc_num) + \".npy\")\n",
    "        \n",
    "        for _, row in df_subset.iterrows():\n",
    "            x = (int(row['x1']), int(row['x2']))\n",
    "            y = (int(row['y1']), int(row['y2']))\n",
    "            z = (int(row['z1']), int(row['z2']))\n",
    "            \n",
    "            try:\n",
    "                cur_dims = dims_df[dims_df[\"AccNum\"] == acc_num].iloc[0].values[1:]\n",
    "            except:\n",
    "                print(\"dims_df not yet loaded for\", acc_num)\n",
    "            vox_scale = [float(cur_dims[i]/target_dims[i]) for i in range(3)]\n",
    "            x,y,z = hf.scale_vois(x, y, z, vox_scale)\n",
    "            \n",
    "            y = (img.shape[1]-y[1], img.shape[1]-y[0]) # flip y\n",
    "            if row['Flipped'] != \"Yes\":\n",
    "                z = (img.shape[2]-z[1], img.shape[2]-z[0]) # flip z\n",
    "            \n",
    "            voi_df_art, art_id = add_voi(voi_df_art, acc_num, x,y,z, cls=cls, flipz=(row['Flipped'] == \"Yes\"), return_id = True)\n",
    "\n",
    "            if \"Image type2\" in row.keys() and row['Image type2'] == 'VP-T1':\n",
    "                x = (int(row['x3']), int(row['x4']))\n",
    "                y = (int(row['y3']), int(row['y4']))\n",
    "                z = (int(row['z3']), int(row['z4']))\n",
    "                \n",
    "                x,y,z = hf.scale_vois(x, y, z, vox_scale)\n",
    "                \n",
    "                y = (img.shape[1]-y[1], img.shape[1]-y[0]) # flip y\n",
    "                if row['Flipped'] != \"Yes\":\n",
    "                    z = (img.shape[2]-z[1], img.shape[2]-z[0]) # flip z\n",
    "                    \n",
    "                voi_df_ven = add_voi(voi_df_ven, art_id, x,y,z)\n",
    "                \n",
    "            if \"Image type3\" in row.keys() and row['Image type3'] == 'EQ-T1':\n",
    "                x = (int(row['x5']), int(row['x6']))\n",
    "                y = (int(row['y5']), int(row['y6']))\n",
    "                z = (int(row['z5']), int(row['z6']))\n",
    "                \n",
    "                x,y,z = hf.scale_vois(x, y, z, vox_scale)\n",
    "                \n",
    "                y = (img.shape[1]-y[1], img.shape[1]-y[0]) # flip y\n",
    "                if row['Flipped'] != \"Yes\":\n",
    "                    z = (img.shape[2]-z[1], img.shape[2]-z[0]) # flip z\n",
    "                    \n",
    "                voi_df_eq = add_voi(voi_df_eq, art_id, x,y,z)\n",
    "\n",
    "        if verbose:\n",
    "            print(acc_num, \"%d out of %d acc_nums loaded\" % (cnt+1, len(acc_nums)))\n",
    "        else:\n",
    "            print(\".\", end=\"\")\n",
    "            \n",
    "    print(\"Overall time: %s\" % str(time.time() - s))\n",
    "    return voi_df_art, voi_df_ven, voi_df_eq"
   ]
  },
  {
   "cell_type": "code",
   "execution_count": 123,
   "metadata": {
    "collapsed": true
   },
   "outputs": [],
   "source": [
    "def delete_imgs(acc_nums, xls_name=None, sheetname=None):\n",
    "    if xls_name is not None:\n",
    "        df = pd.read_excel(xls_name, sheetname=sheetname)\n",
    "        df = preprocess_df(df)\n",
    "\n",
    "        acc_nums = list(set(df['Patient E Number'].dropna().astype(str).tolist()))\n",
    "    \n",
    "    for acc_num in acc_nums:\n",
    "        os.remove(C.full_img_dir + \"\\\\\" + str(acc_num) + \".npy\")"
   ]
  },
  {
   "cell_type": "code",
   "execution_count": 124,
   "metadata": {
    "scrolled": true
   },
   "outputs": [],
   "source": [
    "def check_folders(xls_name, sheetname):\n",
    "    df = pd.read_excel(xls_name, sheetname=sheetname)\n",
    "    df = preprocess_df(df)\n",
    "    acc_nums = list(set(df['Patient E Number'].dropna().astype(str).tolist()))\n",
    "\n",
    "    for cnt, acc_num in enumerate(acc_nums):\n",
    "        df_subset = df.loc[df['Patient E Number'].astype(str) == acc_num]\n",
    "\n",
    "        if not os.path.exists(img_dir + \"\\\\\" +acc_num + \"\\\\T1_AP\"):\n",
    "            print(img_dir + \"\\\\\" +acc_num + \"\\\\T1_AP is missing\")\n",
    "        if not os.path.exists(img_dir + \"\\\\\" +acc_num + \"\\\\T1_VP\"):\n",
    "            print(img_dir + \"\\\\\" +acc_num + \"\\\\T1_VP is missing\")\n",
    "        if not os.path.exists(img_dir + \"\\\\\" +acc_num + \"\\\\T1_EQ\"):\n",
    "            print(img_dir + \"\\\\\" +acc_num + \"\\\\T1_EQ is missing\")"
   ]
  },
  {
   "cell_type": "code",
   "execution_count": 110,
   "metadata": {
    "collapsed": true
   },
   "outputs": [],
   "source": [
    "#dims_df = pd.DataFrame(columns = [\"AccNum\", \"x\", \"y\", \"z\"])\n",
    "dims_df = pd.read_csv(C.dims_df_path)\n",
    "voi_df_art = pd.DataFrame(columns = [\"Filename\", \"x1\", \"x2\", \"y1\", \"y2\", \"z1\", \"z2\", \"cls\", \"flipz\", \"dx\", \"dy\", \"dz\", \"id\"])\n",
    "voi_df_ven = pd.DataFrame(columns = [\"id\", \"x1\", \"x2\", \"y1\", \"y2\", \"z1\", \"z2\", \"dx\", \"dy\", \"dz\"]) #voi_df_ven only contains entries where manually specified\n",
    "voi_df_eq = pd.DataFrame(columns = [\"id\", \"x1\", \"x2\", \"y1\", \"y2\", \"z1\", \"z2\", \"dx\", \"dy\", \"dz\"]) #voi_df_ven only contains entries where manually specified\n",
    "voi_dfs = [voi_df_art, voi_df_ven, voi_df_eq]\n",
    "\n",
    "params = pyelastix.get_default_params(type=\"AFFINE\")"
   ]
  },
  {
   "cell_type": "code",
   "execution_count": 117,
   "metadata": {},
   "outputs": [],
   "source": [
    "voi_df_art = pd.read_csv(C.art_voi_path)\n",
    "voi_df_ven = pd.read_csv(C.ven_voi_path)\n",
    "voi_df_eq = pd.read_csv(C.eq_voi_path)\n",
    "voi_dfs = [voi_df_art, voi_df_ven, voi_df_eq]\n",
    "dims_df = pd.read_csv(C.dims_df_path)"
   ]
  },
  {
   "cell_type": "code",
   "execution_count": 13,
   "metadata": {},
   "outputs": [],
   "source": [
    "save_dir = C.full_img_dir\n",
    "if not os.path.exists(save_dir):\n",
    "    os.makedirs(save_dir)\n",
    "    \n",
    "xls_name = 'Z:\\\\Prototype1d.xlsx'\n",
    "base_dir = \"Z:\""
   ]
  },
  {
   "cell_type": "markdown",
   "metadata": {},
   "source": [
    "### Run 1"
   ]
  },
  {
   "cell_type": "code",
   "execution_count": 107,
   "metadata": {},
   "outputs": [],
   "source": [
    "delete_imgs(0, xls_name, sheetname)"
   ]
  },
  {
   "cell_type": "code",
   "execution_count": 111,
   "metadata": {
    "scrolled": false
   },
   "outputs": [
    {
     "name": "stdout",
     "output_type": "stream",
     "text": [
      "\n",
      "Loading VOIs for class hcc\n",
      ".......Overall time: 0.630547046661377\n"
     ]
    }
   ],
   "source": [
    "img_dir = base_dir+'\\\\OPTN5A'\n",
    "cls = 'hcc'\n",
    "sheetname=\"OPTN 5A\"\n",
    "#check_folders(xls_name, sheetname)\n",
    "#dims_df = load_imgs(img_dir, xls_name, sheetname, save_dir, dims_df)\n",
    "voi_dfs = load_vois(cls, xls_name, sheetname, save_dir, voi_dfs, dims_df)"
   ]
  },
  {
   "cell_type": "code",
   "execution_count": 125,
   "metadata": {
    "scrolled": false
   },
   "outputs": [
    {
     "name": "stdout",
     "output_type": "stream",
     "text": [
      "Z:\\hemangioma\\12632037\\T1_EQ is missing\n",
      "Z:\\hemangioma\\12592283\\T1_EQ is missing\n",
      "Z:\\hemangioma\\13161325\\T1_AP is missing\n",
      "Z:\\hemangioma\\13161325\\T1_VP is missing\n",
      "Z:\\hemangioma\\13161325\\T1_EQ is missing\n",
      "Z:\\hemangioma\\12707781\\T1_EQ is missing\n"
     ]
    }
   ],
   "source": [
    "img_dir = base_dir+'\\\\hemangioma'\n",
    "cls = 'hemangioma'\n",
    "sheetname=\"Hemangioma\"\n",
    "check_folders(xls_name, sheetname)\n",
    "#dims_df = load_imgs(img_dir, xls_name, sheetname, save_dir, dims_df)\n",
    "#voi_dfs = load_vois(cls, xls_name, sheetname, save_dir, voi_dfs, dims_df)"
   ]
  },
  {
   "cell_type": "code",
   "execution_count": null,
   "metadata": {
    "scrolled": true
   },
   "outputs": [],
   "source": [
    "img_dir = base_dir+'\\\\optn5b'\n",
    "cls = 'hcc'\n",
    "sheetname=\"OPTN 5B\"\n",
    "#check_folders(xls_name, sheetname)\n",
    "#dims_df = load_imgs(img_dir, xls_name, sheetname, save_dir, dims_df)\n",
    "voi_dfs = load_vois(cls, xls_name, sheetname, save_dir, voi_dfs, dims_df)"
   ]
  },
  {
   "cell_type": "code",
   "execution_count": null,
   "metadata": {
    "scrolled": true
   },
   "outputs": [],
   "source": [
    "img_dir = base_dir+'\\\\simple_cysts'\n",
    "cls = 'cyst'\n",
    "sheetname=\"Cyst\"\n",
    "#check_folders(xls_name, sheetname)\n",
    "#dims_df = load_imgs(img_dir, xls_name, sheetname, save_dir, dims_df)\n",
    "voi_dfs = load_vois(cls, xls_name, sheetname, save_dir, voi_dfs, dims_df)"
   ]
  },
  {
   "cell_type": "code",
   "execution_count": null,
   "metadata": {},
   "outputs": [],
   "source": [
    "voi_df_art, voi_df_ven, voi_df_eq = voi_dfs\n",
    "voi_df_art.to_csv(C.art_voi_path, index=False)\n",
    "voi_df_ven.to_csv(C.ven_voi_path, index=False)\n",
    "voi_df_eq.to_csv(C.eq_voi_path, index=False)\n",
    "#dims_df.to_csv(C.dims_df_path, index=False)"
   ]
  },
  {
   "cell_type": "code",
   "execution_count": 50,
   "metadata": {
    "scrolled": true
   },
   "outputs": [
    {
     "data": {
      "text/html": [
       "<div>\n",
       "<style>\n",
       "    .dataframe thead tr:only-child th {\n",
       "        text-align: right;\n",
       "    }\n",
       "\n",
       "    .dataframe thead th {\n",
       "        text-align: left;\n",
       "    }\n",
       "\n",
       "    .dataframe tbody tr th {\n",
       "        vertical-align: top;\n",
       "    }\n",
       "</style>\n",
       "<table border=\"1\" class=\"dataframe\">\n",
       "  <thead>\n",
       "    <tr style=\"text-align: right;\">\n",
       "      <th></th>\n",
       "      <th>AccNum</th>\n",
       "      <th>x</th>\n",
       "      <th>y</th>\n",
       "      <th>z</th>\n",
       "    </tr>\n",
       "  </thead>\n",
       "  <tbody>\n",
       "    <tr>\n",
       "      <th>199</th>\n",
       "      <td>E101290891</td>\n",
       "      <td>0.742188</td>\n",
       "      <td>0.742188</td>\n",
       "      <td>3.0</td>\n",
       "    </tr>\n",
       "  </tbody>\n",
       "</table>\n",
       "</div>"
      ],
      "text/plain": [
       "         AccNum         x         y    z\n",
       "199  E101290891  0.742188  0.742188  3.0"
      ]
     },
     "execution_count": 50,
     "metadata": {},
     "output_type": "execute_result"
    }
   ],
   "source": [
    "dims_df[dims_df[\"AccNum\"] == \"E101290891\"]"
   ]
  },
  {
   "cell_type": "markdown",
   "metadata": {},
   "source": [
    "### Run 2"
   ]
  },
  {
   "cell_type": "code",
   "execution_count": null,
   "metadata": {
    "scrolled": false
   },
   "outputs": [],
   "source": [
    "img_dir = base_dir+'\\\\cholangio'\n",
    "cls = 'cholangio'\n",
    "sheetname=\"Cholangio\"\n",
    "#dims_df = load_imgs(img_dir, xls_name, sheetname, save_dir, dims_df)\n",
    "voi_dfs = load_vois(cls, xls_name, sheetname, save_dir, voi_dfs, dims_df)\n",
    "#check_folders(xls_name, sheetname)"
   ]
  },
  {
   "cell_type": "code",
   "execution_count": 90,
   "metadata": {
    "scrolled": true
   },
   "outputs": [
    {
     "name": "stdout",
     "output_type": "stream",
     "text": [
      "\n",
      "Loading VOIs for class colorectal\n",
      "..................Overall time: 1.786834955215454\n"
     ]
    }
   ],
   "source": [
    "img_dir = base_dir+'\\\\colorectal'\n",
    "cls = 'colorectal'\n",
    "sheetname=\"Colorectal\"\n",
    "#dims_df = load_imgs(img_dir, xls_name, sheetname, save_dir, dims_df)\n",
    "voi_dfs = load_vois(cls, xls_name, sheetname, save_dir, voi_dfs, dims_df)\n",
    "#check_folders(xls_name, sheetname)"
   ]
  },
  {
   "cell_type": "code",
   "execution_count": 91,
   "metadata": {
    "scrolled": true
   },
   "outputs": [
    {
     "name": "stdout",
     "output_type": "stream",
     "text": [
      "\n",
      "Loading VOIs for class fnh\n",
      "..........................Overall time: 2.5967462062835693\n"
     ]
    }
   ],
   "source": [
    "img_dir = base_dir+'\\\\fnh'\n",
    "cls = 'fnh'\n",
    "sheetname=\"FNH\"\n",
    "#dims_df = load_imgs(img_dir, xls_name, sheetname, save_dir, dims_df)\n",
    "voi_dfs = load_vois(cls, xls_name, sheetname, save_dir, voi_dfs, dims_df)\n",
    "#check_folders(xls_name, sheetname)"
   ]
  },
  {
   "cell_type": "code",
   "execution_count": 40,
   "metadata": {},
   "outputs": [
    {
     "data": {
      "text/html": [
       "<div>\n",
       "<style>\n",
       "    .dataframe thead tr:only-child th {\n",
       "        text-align: right;\n",
       "    }\n",
       "\n",
       "    .dataframe thead th {\n",
       "        text-align: left;\n",
       "    }\n",
       "\n",
       "    .dataframe tbody tr th {\n",
       "        vertical-align: top;\n",
       "    }\n",
       "</style>\n",
       "<table border=\"1\" class=\"dataframe\">\n",
       "  <thead>\n",
       "    <tr style=\"text-align: right;\">\n",
       "      <th></th>\n",
       "      <th>AccNum</th>\n",
       "      <th>x</th>\n",
       "      <th>y</th>\n",
       "      <th>z</th>\n",
       "    </tr>\n",
       "  </thead>\n",
       "  <tbody>\n",
       "  </tbody>\n",
       "</table>\n",
       "</div>"
      ],
      "text/plain": [
       "Empty DataFrame\n",
       "Columns: [AccNum, x, y, z]\n",
       "Index: []"
      ]
     },
     "execution_count": 40,
     "metadata": {},
     "output_type": "execute_result"
    }
   ],
   "source": [
    "dims_df[dims_df[\"AccNum\"] == 'E101266931']"
   ]
  },
  {
   "cell_type": "markdown",
   "metadata": {},
   "source": [
    "### Run 3"
   ]
  },
  {
   "cell_type": "code",
   "execution_count": 97,
   "metadata": {
    "scrolled": true
   },
   "outputs": [
    {
     "name": "stdout",
     "output_type": "stream",
     "text": [
      "\n",
      "Loading DCMs of type Adenoma\n",
      "...............Overall time: 928.8483188152313\n"
     ]
    }
   ],
   "source": [
    "img_dir = base_dir+'\\\\adenoma'\n",
    "cls = 'adenoma'\n",
    "sheetname=\"Adenoma\"\n",
    "dims_df = load_imgs(img_dir, xls_name, sheetname, save_dir, dims_df)\n",
    "voi_dfs = load_vois(cls, xls_name, sheetname, save_dir, voi_dfs, dims_df)"
   ]
  },
  {
   "cell_type": "code",
   "execution_count": 109,
   "metadata": {
    "scrolled": true
   },
   "outputs": [
    {
     "data": {
      "image/png": "[encoded data removed]",
      "text/plain": [
       "<matplotlib.figure.Figure at 0x13d6c8857f0>"
      ]
     },
     "metadata": {},
     "output_type": "display_data"
    }
   ],
   "source": [
    "xls_name = 'Z:\\\\Prototype1b.xlsx'\n",
    "base_dir = \"Z:\"#'raw_imgs'\n",
    "#img_dir = base_dir+'\\\\hemangioma'\n",
    "#cls = 'hemangioma'\n",
    "#sheetname=\"Hemangioma\"\n",
    "\n",
    "need_dcm = False\n",
    "acc_nums = [\"12502068\"]#list(set(df['Patient E Number'].dropna().astype(str).tolist()))\n",
    "target_dims = [1.5, 1.5, 4]\n",
    "\n",
    "if need_dcm:\n",
    "    voi_df = pd.DataFrame(columns = [\"Filename\", \"x1\", \"x2\", \"y1\", \"y2\", \"z1\", \"z2\", \"cls\", \"flipz\"])\n",
    "    df = pd.read_excel(xls_name, sheetname)\n",
    "    df = preprocess_df(df)\n",
    "    for cnt, acc_num in enumerate(acc_nums):\n",
    "        df_subset = df.loc[df['Patient E Number'].astype(str) == acc_num]\n",
    "        subdir = img_dir+\"\\\\\"+acc_num\n",
    "        art[acc_num], cur_dims = hf.dcm_load(subdir+r\"\\T1_AP\")\n",
    "        img = np.expand_dims(art[acc_num], axis=3)\n",
    "        #img, vox_scale = hf.rescale(img, target_dims, cur_dims)\n",
    "\n",
    "        np.save(save_dir + \"\\\\\" + acc_num, img)\n",
    "\n",
    "        for _, row in df_subset.iterrows():\n",
    "            x = (int(row['x1']), int(row['x2']))\n",
    "            y = (int(row['y1']), int(row['y2']))\n",
    "            z = (int(row['z1']), int(row['z2']))\n",
    "\n",
    "            y = (art[acc_num].shape[1]-y[1], art[acc_num].shape[1]-y[0]) # flip y\n",
    "            if row['Flipped'] != \"Yes\":\n",
    "                z = (art[acc_num].shape[2]-z[1], art[acc_num].shape[2]-z[0]) # flip z\n",
    "\n",
    "            #x,y,z = scale_vois(x, y, z, vox_scale)\n",
    "\n",
    "            add_voi(acc_num, x,y,z, cls, row['Flipped'] != \"Yes\")\n",
    "        \n",
    "acc_num = acc_nums[0]\n",
    "img_fn = acc_num + \".npy\"\n",
    "img = np.load(C.full_img_dir+\"\\\\\"+img_fn)\n",
    "hf.plot_section(img, voi_df_art[voi_df_art[\"Filename\"] == img_fn].iloc[0], flipz=\"both\", pad=10)"
   ]
  },
  {
   "cell_type": "code",
   "execution_count": 22,
   "metadata": {
    "scrolled": false
   },
   "outputs": [
    {
     "data": {
      "text/plain": [
       "cyst          75\n",
       "hemangioma    44\n",
       "Name: cls, dtype: int64"
      ]
     },
     "execution_count": 22,
     "metadata": {},
     "output_type": "execute_result"
    }
   ],
   "source": [
    "pd.value_counts(voi_df_art['cls'])"
   ]
  },
  {
   "cell_type": "code",
   "execution_count": 57,
   "metadata": {},
   "outputs": [
    {
     "data": {
      "text/html": [
       "<div>\n",
       "<style>\n",
       "    .dataframe thead tr:only-child th {\n",
       "        text-align: right;\n",
       "    }\n",
       "\n",
       "    .dataframe thead th {\n",
       "        text-align: left;\n",
       "    }\n",
       "\n",
       "    .dataframe tbody tr th {\n",
       "        vertical-align: top;\n",
       "    }\n",
       "</style>\n",
       "<table border=\"1\" class=\"dataframe\">\n",
       "  <thead>\n",
       "    <tr style=\"text-align: right;\">\n",
       "      <th></th>\n",
       "      <th>Filename</th>\n",
       "      <th>x1</th>\n",
       "      <th>x2</th>\n",
       "      <th>y1</th>\n",
       "      <th>y2</th>\n",
       "      <th>z1</th>\n",
       "      <th>z2</th>\n",
       "      <th>cls</th>\n",
       "      <th>flipz</th>\n",
       "      <th>dx</th>\n",
       "      <th>dy</th>\n",
       "      <th>dz</th>\n",
       "    </tr>\n",
       "  </thead>\n",
       "  <tbody>\n",
       "    <tr>\n",
       "      <th>113</th>\n",
       "      <td>12789019.npy</td>\n",
       "      <td>104</td>\n",
       "      <td>123</td>\n",
       "      <td>89</td>\n",
       "      <td>106</td>\n",
       "      <td>28</td>\n",
       "      <td>34</td>\n",
       "      <td>hcc</td>\n",
       "      <td>True</td>\n",
       "      <td>19</td>\n",
       "      <td>17</td>\n",
       "      <td>6</td>\n",
       "    </tr>\n",
       "    <tr>\n",
       "      <th>114</th>\n",
       "      <td>12789019.npy</td>\n",
       "      <td>54</td>\n",
       "      <td>77</td>\n",
       "      <td>88</td>\n",
       "      <td>111</td>\n",
       "      <td>42</td>\n",
       "      <td>50</td>\n",
       "      <td>hcc</td>\n",
       "      <td>True</td>\n",
       "      <td>23</td>\n",
       "      <td>23</td>\n",
       "      <td>8</td>\n",
       "    </tr>\n",
       "  </tbody>\n",
       "</table>\n",
       "</div>"
      ],
      "text/plain": [
       "         Filename   x1   x2  y1   y2  z1  z2  cls  flipz  dx  dy  dz\n",
       "113  12789019.npy  104  123  89  106  28  34  hcc   True  19  17   6\n",
       "114  12789019.npy   54   77  88  111  42  50  hcc   True  23  23   8"
      ]
     },
     "execution_count": 57,
     "metadata": {},
     "output_type": "execute_result"
    }
   ],
   "source": [
    "img_fn = \"12799025.npy\"\n",
    "voi_df[voi_df[\"Filename\"] == img_fn]"
   ]
  },
  {
   "cell_type": "code",
   "execution_count": 66,
   "metadata": {
    "collapsed": true,
    "scrolled": true
   },
   "outputs": [],
   "source": [
    "voi_df = hf.flipz(img_fn, voi_df)"
   ]
  },
  {
   "cell_type": "code",
   "execution_count": null,
   "metadata": {
    "collapsed": true
   },
   "outputs": [],
   "source": [
    "for img_fn in sorted(set(voi_df[voi_df[\"cls\"] == \"cyst\"]['Filename'])):\n",
    "    img = np.load(\"full_imgs\\\\\"+img_fn)\n",
    "    if np.sum(img[img.shape[0]*1//5:img.shape[0]*4//5,img.shape[1]//5:img.shape[1]*2//5,:img.shape[2]//3]) > \\\n",
    "            np.sum(img[img.shape[0]*1//5:img.shape[0]*4//5,img.shape[1]//5:img.shape[1]*2//5,(img.shape[2]+1)*2//3:]):\n",
    "        print(img_fn)"
   ]
  },
  {
   "cell_type": "code",
   "execution_count": null,
   "metadata": {
    "collapsed": true
   },
   "outputs": [],
   "source": [
    "plot_section(img, voi_df[voi_df[\"Filename\"] == img_fn].iloc[1], pad=10)"
   ]
  },
  {
   "cell_type": "code",
   "execution_count": 69,
   "metadata": {
    "collapsed": true
   },
   "outputs": [],
   "source": [
    "x = (74, 91)\n",
    "y = (128, 145)\n",
    "z = (43, 50)\n",
    "y = (img.shape[1]-y[1], img.shape[1]-y[0]) # flip y\n",
    "z = (img.shape[2]-z[1], img.shape[2]-z[0]) # flip z"
   ]
  },
  {
   "cell_type": "code",
   "execution_count": 27,
   "metadata": {
    "scrolled": false
   },
   "outputs": [
    {
     "ename": "NameError",
     "evalue": "name 'x' is not defined",
     "output_type": "error",
     "traceback": [
      "\u001b[1;31m---------------------------------------------------------------------------\u001b[0m",
      "\u001b[1;31mNameError\u001b[0m                                 Traceback (most recent call last)",
      "\u001b[1;32m<ipython-input-27-f2fb4d42c281>\u001b[0m in \u001b[0;36m<module>\u001b[1;34m()\u001b[0m\n\u001b[1;32m----> 1\u001b[1;33m \u001b[0mhf\u001b[0m\u001b[1;33m.\u001b[0m\u001b[0mplot_section_xyz\u001b[0m\u001b[1;33m(\u001b[0m\u001b[0mimg\u001b[0m\u001b[1;33m,\u001b[0m \u001b[0mx\u001b[0m\u001b[1;33m,\u001b[0m \u001b[0my\u001b[0m\u001b[1;33m,\u001b[0m \u001b[0mz\u001b[0m\u001b[1;33m,\u001b[0m \u001b[0mpad\u001b[0m\u001b[1;33m=\u001b[0m\u001b[1;36m20\u001b[0m\u001b[1;33m)\u001b[0m\u001b[1;33m\u001b[0m\u001b[0m\n\u001b[0m",
      "\u001b[1;31mNameError\u001b[0m: name 'x' is not defined"
     ]
    }
   ],
   "source": [
    "hf.plot_section_xyz(img, x, y, z, pad=20)"
   ]
  }
 ],
 "metadata": {
  "anaconda-cloud": {},
  "kernelspec": {
   "display_name": "Python 3",
   "language": "python",
   "name": "python3"
  },
  "language_info": {
   "codemirror_mode": {
    "name": "ipython",
    "version": 3
   },
   "file_extension": ".py",
   "mimetype": "text/x-python",
   "name": "python",
   "nbconvert_exporter": "python",
   "pygments_lexer": "ipython3",
   "version": "3.5.0"
  }
 },
 "nbformat": 4,
 "nbformat_minor": 1
}
