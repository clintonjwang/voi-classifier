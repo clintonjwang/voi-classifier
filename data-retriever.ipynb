{
 "cells": [
  {
   "cell_type": "markdown",
   "metadata": {},
   "source": [
    "Retrieves images from \"raw_imgs\" folder and stores them in \"full_imgs\". Retrieves spreadsheet listing VOIs and stores them in text file."
   ]
  },
  {
   "cell_type": "markdown",
   "metadata": {},
   "source": [
    "TODO: function to read existing vois, drop one class, then load the class back in. Requires that drm.load_imgs write to a DataFrame rather than an array"
   ]
  },
  {
   "cell_type": "code",
   "execution_count": 192,
   "metadata": {},
   "outputs": [
    {
     "name": "stderr",
     "output_type": "stream",
     "text": [
      "Using TensorFlow backend.\n"
     ]
    }
   ],
   "source": [
    "import cnn_builder as cbuild\n",
    "import cnn_methods as cfunc\n",
    "import config\n",
    "import csv\n",
    "import dr_methods as drm\n",
    "import helper_fxns as hf\n",
    "import importlib\n",
    "import matplotlib.pyplot as plt\n",
    "import numpy as np\n",
    "import os\n",
    "import pandas as pd\n",
    "import pyelastix\n",
    "import time\n",
    "import transforms as tr\n",
    "import voi_methods as vm\n",
    "%matplotlib inline"
   ]
  },
  {
   "cell_type": "code",
   "execution_count": 209,
   "metadata": {
    "scrolled": true
   },
   "outputs": [],
   "source": [
    "importlib.reload(cbuild)\n",
    "importlib.reload(cfunc)\n",
    "importlib.reload(config)\n",
    "importlib.reload(hf)\n",
    "importlib.reload(tr)\n",
    "importlib.reload(vm)\n",
    "importlib.reload(drm)\n",
    "C = config.Config()"
   ]
  },
  {
   "cell_type": "markdown",
   "metadata": {},
   "source": [
    "# Reload images and VOIs"
   ]
  },
  {
   "cell_type": "code",
   "execution_count": null,
   "metadata": {
    "collapsed": true
   },
   "outputs": [],
   "source": [
    "drm.load_all_vois(C)"
   ]
  },
  {
   "cell_type": "code",
   "execution_count": 186,
   "metadata": {
    "collapsed": true
   },
   "outputs": [],
   "source": [
    "for cls in C.classes_to_include:\n",
    "    if not os.path.exists(C.full_img_dir + \"\\\\\" + cls):\n",
    "        os.makedirs(C.full_img_dir + \"\\\\\" + cls)\n",
    "    if not os.path.exists(C.orig_dir + cls):\n",
    "        os.makedirs(C.orig_dir + cls)\n",
    "    if not os.path.exists(C.aug_dir + cls):\n",
    "        os.makedirs(C.aug_dir + cls)\n",
    "    if not os.path.exists(C.crops_dir + cls):\n",
    "        os.makedirs(C.crops_dir + cls)"
   ]
  },
  {
   "cell_type": "code",
   "execution_count": 232,
   "metadata": {
    "collapsed": true
   },
   "outputs": [],
   "source": [
    "#dims_df = pd.DataFrame(columns = [\"AccNum\", \"x\", \"y\", \"z\"])\n",
    "dims_df = pd.read_csv(C.dims_df_path)\n",
    "voi_df_art = pd.DataFrame(columns = [\"Filename\", \"x1\", \"x2\", \"y1\", \"y2\", \"z1\", \"z2\", \"cls\",\n",
    "                                     \"flipz\", \"real_dx\", \"real_dy\", \"real_dz\", \"id\", \"lesion_num\"])\n",
    "voi_df_ven = pd.DataFrame(columns = [\"id\", \"x1\", \"x2\", \"y1\", \"y2\", \"z1\", \"z2\"]) #voi_df_ven only contains entries where manually specified\n",
    "voi_df_eq = pd.DataFrame(columns = [\"id\", \"x1\", \"x2\", \"y1\", \"y2\", \"z1\", \"z2\"]) #voi_df_ven only contains entries where manually specified\n",
    "voi_dfs = [voi_df_art, voi_df_ven, voi_df_eq]\n",
    "patient_info_df = pd.DataFrame(columns = [\"MRN\", \"Sex\", \"AccNum\", \"AgeAtImaging\", \"cls\"])"
   ]
  },
  {
   "cell_type": "markdown",
   "metadata": {
    "collapsed": true
   },
   "source": [
    "voi_df_art = pd.read_csv(C.art_voi_path)\n",
    "voi_df_ven = pd.read_csv(C.ven_voi_path)\n",
    "voi_df_eq = pd.read_csv(C.eq_voi_path)\n",
    "voi_dfs = [voi_df_art, voi_df_ven, voi_df_eq]\n",
    "dims_df = pd.read_csv(C.dims_df_path)"
   ]
  },
  {
   "cell_type": "code",
   "execution_count": 33,
   "metadata": {
    "collapsed": true
   },
   "outputs": [],
   "source": [
    "#intensity_df = pd.read_csv(C.int_df_path)\n",
    "\n",
    "intensity_df = drm.get_intensities(C)\n",
    "intensity_df.to_csv(C.int_df_path, index=False)"
   ]
  },
  {
   "cell_type": "code",
   "execution_count": null,
   "metadata": {},
   "outputs": [
    {
     "name": "stdout",
     "output_type": "stream",
     "text": [
      "\n",
      "Loading DCMs of type FNH\n",
      "12943286 has already been saved. Skipping.\n",
      "13185208 has already been saved. Skipping.\n",
      "E100192709 has already been saved. Skipping.\n",
      "E100215900 has already been saved. Skipping.\n",
      "12611737 has already been saved. Skipping.\n",
      "E101483270 has already been saved. Skipping.\n",
      "E102341190 has already been saved. Skipping.\n",
      "Found elastix version: 4.800 in 'c:\\\\program files\\\\elastix_v4.8\\\\elastix.exe'\n"
     ]
    }
   ],
   "source": [
    "xls_name = 'Z:\\\\Prototype1d.xlsx'\n",
    "sheetnames = ['OPTN 5A', 'OPTN 5B', 'Cyst', 'Hemangioma', 'FNH', 'Cholangio', 'Colorectal', 'Adenoma']\n",
    "cls_names = ['hcc', 'hcc', 'cyst', 'hemangioma', 'fnh', 'cholangio', 'colorectal', 'adenoma']\n",
    "img_dirs = [\"Z:\\\\\"+x for x in ['OPTN5A', 'optn5b', 'simple_cysts', 'hemangioma', 'fnh', 'cholangio', 'colorectal', 'adenoma']]\n",
    "\n",
    "for i in [sheetnames.index(x) for x in ['FNH']]:\n",
    "    #drm.check_folders(img_dirs[i], xls_name, sheetnames[i], C)\n",
    "    dims_df = drm.load_imgs(img_dirs[i], cls_names[i], xls_name, sheetnames[i], dims_df, C)\n",
    "    #voi_dfs = load_vois(cls_names[i], xls_name, sheetnames[i], voi_dfs, dims_df, C)\n",
    "    #drm.load_patient_info(img_dirs[i], cls_names[i], xls_name, sheetnames[i], patient_info_df, C)"
   ]
  },
  {
   "cell_type": "code",
   "execution_count": 32,
   "metadata": {
    "collapsed": true
   },
   "outputs": [],
   "source": [
    "voi_df_art, voi_df_ven, voi_df_eq = voi_dfs\n",
    "voi_df_art.to_csv(C.art_voi_path, index=False)\n",
    "voi_df_ven.to_csv(C.ven_voi_path, index=False)\n",
    "voi_df_eq.to_csv(C.eq_voi_path, index=False)"
   ]
  },
  {
   "cell_type": "code",
   "execution_count": 30,
   "metadata": {
    "collapsed": true
   },
   "outputs": [],
   "source": [
    "dims_df.to_csv(C.dims_df_path, index=False)"
   ]
  },
  {
   "cell_type": "code",
   "execution_count": 229,
   "metadata": {
    "scrolled": true
   },
   "outputs": [
    {
     "name": "stdout",
     "output_type": "stream",
     "text": [
      "\n",
      "Loading DCM for ['E103354630']\n",
      "Z:\\fnh\\E103354630\\T1_AP [WinError 3] The system cannot find the path specified: 'Z:\\\\fnh\\\\E103354630\\\\T1_AP'\n"
     ]
    },
    {
     "ename": "TypeError",
     "evalue": "'NoneType' object is not iterable",
     "output_type": "error",
     "traceback": [
      "\u001b[1;31m---------------------------------------------------------------------------\u001b[0m",
      "\u001b[1;31mTypeError\u001b[0m                                 Traceback (most recent call last)",
      "\u001b[1;32m<ipython-input-229-3c89b9a195b7>\u001b[0m in \u001b[0;36m<module>\u001b[1;34m()\u001b[0m\n\u001b[0;32m      1\u001b[0m \u001b[1;31m#drm.delete_imgs(['12916368', 'E102556695'], 'hcc', C)\u001b[0m\u001b[1;33m\u001b[0m\u001b[1;33m\u001b[0m\u001b[0m\n\u001b[0;32m      2\u001b[0m \u001b[1;31m#drm.delete_imgs(0, cls, C, xls_name, sheetname)\u001b[0m\u001b[1;33m\u001b[0m\u001b[1;33m\u001b[0m\u001b[0m\n\u001b[1;32m----> 3\u001b[1;33m \u001b[0mdrm\u001b[0m\u001b[1;33m.\u001b[0m\u001b[0mreload_img\u001b[0m\u001b[1;33m(\u001b[0m\u001b[1;34m\"E103354630\"\u001b[0m\u001b[1;33m,\u001b[0m \u001b[1;34m\"fnh\"\u001b[0m\u001b[1;33m,\u001b[0m \u001b[0mC\u001b[0m\u001b[1;33m)\u001b[0m\u001b[1;33m\u001b[0m\u001b[0m\n\u001b[0m",
      "\u001b[1;32m~\\Documents\\voi-classifier\\dr_methods.py\u001b[0m in \u001b[0;36mreload_img\u001b[1;34m(acc_num, cls, C, update_intensities)\u001b[0m\n\u001b[0;32m     59\u001b[0m                 \u001b[0mindex\u001b[0m \u001b[1;33m=\u001b[0m \u001b[0mcls_names\u001b[0m\u001b[1;33m.\u001b[0m\u001b[0mindex\u001b[0m\u001b[1;33m(\u001b[0m\u001b[0mcls\u001b[0m\u001b[1;33m)\u001b[0m\u001b[1;33m\u001b[0m\u001b[0m\n\u001b[0;32m     60\u001b[0m \u001b[1;33m\u001b[0m\u001b[0m\n\u001b[1;32m---> 61\u001b[1;33m         \u001b[0mdims_df\u001b[0m \u001b[1;33m=\u001b[0m \u001b[0mload_imgs\u001b[0m\u001b[1;33m(\u001b[0m\u001b[1;34m\"Z:\\\\\"\u001b[0m \u001b[1;33m+\u001b[0m \u001b[0mimg_dirs\u001b[0m\u001b[1;33m[\u001b[0m\u001b[0mindex\u001b[0m\u001b[1;33m]\u001b[0m\u001b[1;33m,\u001b[0m \u001b[0mcls\u001b[0m\u001b[1;33m,\u001b[0m \u001b[0mxls_name\u001b[0m\u001b[1;33m,\u001b[0m \u001b[0msheetnames\u001b[0m\u001b[1;33m[\u001b[0m\u001b[0mindex\u001b[0m\u001b[1;33m]\u001b[0m\u001b[1;33m,\u001b[0m \u001b[0mdims_df\u001b[0m\u001b[1;33m,\u001b[0m \u001b[0mC\u001b[0m\u001b[1;33m,\u001b[0m \u001b[0macc_nums\u001b[0m\u001b[1;33m=\u001b[0m\u001b[1;33m[\u001b[0m\u001b[0macc_num\u001b[0m\u001b[1;33m]\u001b[0m\u001b[1;33m)\u001b[0m\u001b[1;33m\u001b[0m\u001b[0m\n\u001b[0m\u001b[0;32m     62\u001b[0m \u001b[1;33m\u001b[0m\u001b[0m\n\u001b[0;32m     63\u001b[0m         \u001b[1;32mif\u001b[0m \u001b[0mupdate_intensities\u001b[0m\u001b[1;33m:\u001b[0m\u001b[1;33m\u001b[0m\u001b[0m\n",
      "\u001b[1;32m~\\Documents\\voi-classifier\\dr_methods.py\u001b[0m in \u001b[0;36mload_imgs\u001b[1;34m(img_dir, cls, xls_name, sheetname, dims_df, C, verbose, target_dims, num_ch, acc_nums)\u001b[0m\n\u001b[0;32m    213\u001b[0m                 \u001b[0msubdir\u001b[0m \u001b[1;33m=\u001b[0m \u001b[0mimg_dir\u001b[0m\u001b[1;33m+\u001b[0m\u001b[1;34m\"\\\\\"\u001b[0m\u001b[1;33m+\u001b[0m\u001b[0macc_num\u001b[0m\u001b[1;33m\u001b[0m\u001b[0m\n\u001b[0;32m    214\u001b[0m                 \u001b[1;31m#try:\u001b[0m\u001b[1;33m\u001b[0m\u001b[1;33m\u001b[0m\u001b[0m\n\u001b[1;32m--> 215\u001b[1;33m                 \u001b[0mart\u001b[0m\u001b[1;33m,\u001b[0m \u001b[0mcur_dims\u001b[0m \u001b[1;33m=\u001b[0m \u001b[0mhf\u001b[0m\u001b[1;33m.\u001b[0m\u001b[0mdcm_load\u001b[0m\u001b[1;33m(\u001b[0m\u001b[0msubdir\u001b[0m\u001b[1;33m+\u001b[0m\u001b[1;34m\"\\\\T1_AP\"\u001b[0m\u001b[1;33m)\u001b[0m\u001b[1;33m\u001b[0m\u001b[0m\n\u001b[0m\u001b[0;32m    216\u001b[0m                 \u001b[1;31m#except:\u001b[0m\u001b[1;33m\u001b[0m\u001b[1;33m\u001b[0m\u001b[0m\n\u001b[0;32m    217\u001b[0m                 \u001b[1;31m#    print(subdir+\"\\\\T1_AP error\")\u001b[0m\u001b[1;33m\u001b[0m\u001b[1;33m\u001b[0m\u001b[0m\n",
      "\u001b[1;31mTypeError\u001b[0m: 'NoneType' object is not iterable"
     ]
    }
   ],
   "source": [
    "#drm.delete_imgs(['12916368', 'E102556695'], 'hcc', C)\n",
    "#drm.delete_imgs(0, cls, C, xls_name, sheetname)\n",
    "drm.reload_img(\"E103354630\", \"fnh\", C)"
   ]
  },
  {
   "cell_type": "markdown",
   "metadata": {},
   "source": [
    "# Generate cropped imgs"
   ]
  },
  {
   "cell_type": "code",
   "execution_count": 227,
   "metadata": {},
   "outputs": [
    {
     "name": "stdout",
     "output_type": "stream",
     "text": [
      "\n",
      "Loading VOIs for ['12943872']\n",
      ".Overall time: 1.2368052005767822\n"
     ]
    }
   ],
   "source": [
    "for acc_num in ['12943872']:\n",
    "    vm.reload_accnum(acc_num, \"fnh\", C)"
   ]
  },
  {
   "cell_type": "code",
   "execution_count": null,
   "metadata": {
    "collapsed": true
   },
   "outputs": [],
   "source": [
    "voi_df_art = pd.read_csv(C.art_voi_path)\n",
    "voi_df_ven = pd.read_csv(C.ven_voi_path)\n",
    "voi_df_eq = pd.read_csv(C.eq_voi_path)\n",
    "intensity_df = pd.read_csv(C.int_df_path)\n",
    "\n",
    "#C.classes_to_include = ['hcc', 'cholangio', 'colorectal', 'cyst', 'hemangioma', 'fnh']"
   ]
  },
  {
   "cell_type": "code",
   "execution_count": 103,
   "metadata": {
    "collapsed": true
   },
   "outputs": [],
   "source": [
    "with open(C.small_voi_path, 'r') as csv_file:\n",
    "    reader = csv.reader(csv_file)\n",
    "    small_vois = dict(reader)\n",
    "for key in small_vois:\n",
    "    small_vois[key] = [int(x) for x in small_vois[key][1:-1].split(', ')]"
   ]
  },
  {
   "cell_type": "code",
   "execution_count": null,
   "metadata": {
    "collapsed": true
   },
   "outputs": [],
   "source": [
    "small_vois = {}\n",
    "small_vois = vm.extract_vois(small_vois, C, voi_df_art, voi_df_ven, voi_df_eq, intensity_df)\n",
    "\n",
    "with open(C.small_voi_path, 'w', newline='') as csv_file:\n",
    "    writer = csv.writer(csv_file)\n",
    "    for key, value in small_vois.items():\n",
    "        writer.writerow([key, value])"
   ]
  },
  {
   "cell_type": "code",
   "execution_count": 184,
   "metadata": {},
   "outputs": [
    {
     "name": "stdout",
     "output_type": "stream",
     "text": [
      "80.39607095718384\n"
     ]
    }
   ],
   "source": [
    "# scaled imgs\n",
    "t = time.time()\n",
    "for cls in C.classes_to_include:\n",
    "    for fn in os.listdir(C.crops_dir + cls):\n",
    "        img = np.load(C.crops_dir + cls + \"\\\\\" + fn)\n",
    "        unaug_img = vm.resize_img(img, C.dims, small_vois[fn[:-4]])\n",
    "        np.save(C.orig_dir + cls + \"\\\\\" + fn, unaug_img)\n",
    "print(time.time()-t)\n",
    "\n",
    "for cls in C.classes_to_include:\n",
    "    vm.save_all_vois(cls, C)"
   ]
  },
  {
   "cell_type": "code",
   "execution_count": 187,
   "metadata": {},
   "outputs": [
    {
     "name": "stdout",
     "output_type": "stream",
     "text": [
      "hcc 1008.090882062912\n",
      "cholangio 1168.6908376216888\n",
      "colorectal 1727.4936208724976\n",
      "cyst 3536.7835915088654\n",
      "hemangioma 4168.970490217209\n",
      "fnh 5175.451043605804\n"
     ]
    }
   ],
   "source": [
    "# augmented imgs\n",
    "t = time.time()\n",
    "for cls in C.classes_to_include:\n",
    "    vm.parallel_augment(cls, small_vois, C, num_cores=3)\n",
    "    print(cls, time.time()-t)"
   ]
  },
  {
   "cell_type": "markdown",
   "metadata": {},
   "source": [
    "# Plotting"
   ]
  },
  {
   "cell_type": "code",
   "execution_count": 217,
   "metadata": {},
   "outputs": [
    {
     "data": {
      "text/html": [
       "<div>\n",
       "<style>\n",
       "    .dataframe thead tr:only-child th {\n",
       "        text-align: right;\n",
       "    }\n",
       "\n",
       "    .dataframe thead th {\n",
       "        text-align: left;\n",
       "    }\n",
       "\n",
       "    .dataframe tbody tr th {\n",
       "        vertical-align: top;\n",
       "    }\n",
       "</style>\n",
       "<table border=\"1\" class=\"dataframe\">\n",
       "  <thead>\n",
       "    <tr style=\"text-align: right;\">\n",
       "      <th></th>\n",
       "      <th>Filename</th>\n",
       "      <th>x1</th>\n",
       "      <th>x2</th>\n",
       "      <th>y1</th>\n",
       "      <th>y2</th>\n",
       "      <th>z1</th>\n",
       "      <th>z2</th>\n",
       "      <th>cls</th>\n",
       "      <th>flipz</th>\n",
       "      <th>real_dx</th>\n",
       "      <th>real_dy</th>\n",
       "      <th>real_dz</th>\n",
       "      <th>id</th>\n",
       "      <th>lesion_num</th>\n",
       "    </tr>\n",
       "  </thead>\n",
       "  <tbody>\n",
       "    <tr>\n",
       "      <th>246</th>\n",
       "      <td>12362250.npy</td>\n",
       "      <td>107</td>\n",
       "      <td>121</td>\n",
       "      <td>121</td>\n",
       "      <td>135</td>\n",
       "      <td>55</td>\n",
       "      <td>61</td>\n",
       "      <td>fnh</td>\n",
       "      <td>True</td>\n",
       "      <td>21.8750</td>\n",
       "      <td>21.8750</td>\n",
       "      <td>18.0</td>\n",
       "      <td>12362250_0</td>\n",
       "      <td>0</td>\n",
       "    </tr>\n",
       "    <tr>\n",
       "      <th>247</th>\n",
       "      <td>12362250.npy</td>\n",
       "      <td>63</td>\n",
       "      <td>73</td>\n",
       "      <td>61</td>\n",
       "      <td>71</td>\n",
       "      <td>53</td>\n",
       "      <td>59</td>\n",
       "      <td>fnh</td>\n",
       "      <td>True</td>\n",
       "      <td>15.6250</td>\n",
       "      <td>15.6250</td>\n",
       "      <td>18.0</td>\n",
       "      <td>12362250_1</td>\n",
       "      <td>1</td>\n",
       "    </tr>\n",
       "    <tr>\n",
       "      <th>248</th>\n",
       "      <td>12362250.npy</td>\n",
       "      <td>60</td>\n",
       "      <td>71</td>\n",
       "      <td>51</td>\n",
       "      <td>58</td>\n",
       "      <td>54</td>\n",
       "      <td>59</td>\n",
       "      <td>fnh</td>\n",
       "      <td>True</td>\n",
       "      <td>17.1875</td>\n",
       "      <td>10.9375</td>\n",
       "      <td>15.0</td>\n",
       "      <td>12362250_2</td>\n",
       "      <td>2</td>\n",
       "    </tr>\n",
       "    <tr>\n",
       "      <th>249</th>\n",
       "      <td>12362250.npy</td>\n",
       "      <td>118</td>\n",
       "      <td>132</td>\n",
       "      <td>141</td>\n",
       "      <td>152</td>\n",
       "      <td>52</td>\n",
       "      <td>57</td>\n",
       "      <td>fnh</td>\n",
       "      <td>True</td>\n",
       "      <td>21.8750</td>\n",
       "      <td>17.1875</td>\n",
       "      <td>15.0</td>\n",
       "      <td>12362250_3</td>\n",
       "      <td>3</td>\n",
       "    </tr>\n",
       "    <tr>\n",
       "      <th>250</th>\n",
       "      <td>12362250.npy</td>\n",
       "      <td>139</td>\n",
       "      <td>147</td>\n",
       "      <td>146</td>\n",
       "      <td>154</td>\n",
       "      <td>52</td>\n",
       "      <td>55</td>\n",
       "      <td>fnh</td>\n",
       "      <td>True</td>\n",
       "      <td>12.5000</td>\n",
       "      <td>12.5000</td>\n",
       "      <td>9.0</td>\n",
       "      <td>12362250_4</td>\n",
       "      <td>4</td>\n",
       "    </tr>\n",
       "    <tr>\n",
       "      <th>251</th>\n",
       "      <td>12362250.npy</td>\n",
       "      <td>115</td>\n",
       "      <td>123</td>\n",
       "      <td>147</td>\n",
       "      <td>154</td>\n",
       "      <td>48</td>\n",
       "      <td>52</td>\n",
       "      <td>fnh</td>\n",
       "      <td>True</td>\n",
       "      <td>12.5000</td>\n",
       "      <td>10.9375</td>\n",
       "      <td>12.0</td>\n",
       "      <td>12362250_5</td>\n",
       "      <td>5</td>\n",
       "    </tr>\n",
       "    <tr>\n",
       "      <th>252</th>\n",
       "      <td>12362250.npy</td>\n",
       "      <td>61</td>\n",
       "      <td>82</td>\n",
       "      <td>126</td>\n",
       "      <td>145</td>\n",
       "      <td>47</td>\n",
       "      <td>55</td>\n",
       "      <td>fnh</td>\n",
       "      <td>True</td>\n",
       "      <td>32.8125</td>\n",
       "      <td>29.6875</td>\n",
       "      <td>24.0</td>\n",
       "      <td>12362250_6</td>\n",
       "      <td>6</td>\n",
       "    </tr>\n",
       "  </tbody>\n",
       "</table>\n",
       "</div>"
      ],
      "text/plain": [
       "         Filename   x1   x2   y1   y2  z1  z2  cls  flipz  real_dx  real_dy  \\\n",
       "246  12362250.npy  107  121  121  135  55  61  fnh   True  21.8750  21.8750   \n",
       "247  12362250.npy   63   73   61   71  53  59  fnh   True  15.6250  15.6250   \n",
       "248  12362250.npy   60   71   51   58  54  59  fnh   True  17.1875  10.9375   \n",
       "249  12362250.npy  118  132  141  152  52  57  fnh   True  21.8750  17.1875   \n",
       "250  12362250.npy  139  147  146  154  52  55  fnh   True  12.5000  12.5000   \n",
       "251  12362250.npy  115  123  147  154  48  52  fnh   True  12.5000  10.9375   \n",
       "252  12362250.npy   61   82  126  145  47  55  fnh   True  32.8125  29.6875   \n",
       "\n",
       "     real_dz          id  lesion_num  \n",
       "246     18.0  12362250_0           0  \n",
       "247     18.0  12362250_1           1  \n",
       "248     15.0  12362250_2           2  \n",
       "249     15.0  12362250_3           3  \n",
       "250      9.0  12362250_4           4  \n",
       "251     12.0  12362250_5           5  \n",
       "252     24.0  12362250_6           6  "
      ]
     },
     "execution_count": 217,
     "metadata": {},
     "output_type": "execute_result"
    }
   ],
   "source": [
    "voi_df_art = pd.read_csv(C.art_voi_path)\n",
    "voi_df_art[voi_df_art[\"Filename\"] == \"12362250.npy\"]"
   ]
  },
  {
   "cell_type": "code",
   "execution_count": 224,
   "metadata": {
    "scrolled": true
   },
   "outputs": [
    {
     "data": {
      "image/png": "[encoded data removed]",
      "text/plain": [
       "<matplotlib.figure.Figure at 0x16c84e09c88>"
      ]
     },
     "metadata": {},
     "output_type": "display_data"
    }
   ],
   "source": [
    "# can be used to determine if an image is flipped\n",
    "cls = \"fnh\"\n",
    "acc_num = '12943872'#acc_nums[0]\n",
    "img_fn = acc_num + \".npy\"\n",
    "img = np.load(C.full_img_dir+\"\\\\\"+cls + \"\\\\\"+img_fn)\n",
    "hf.plot_section(img, voi_df_art[voi_df_art[\"Filename\"] == img_fn].iloc[0], flipz=\"both\", pad=10)"
   ]
  },
  {
   "cell_type": "code",
   "execution_count": 228,
   "metadata": {},
   "outputs": [
    {
     "ename": "FileNotFoundError",
     "evalue": "[Errno 2] No such file or directory: 'E:\\\\imgs\\\\orig_imgs\\\\fnh\\\\12943872_0.npy'",
     "output_type": "error",
     "traceback": [
      "\u001b[1;31m---------------------------------------------------------------------------\u001b[0m",
      "\u001b[1;31mFileNotFoundError\u001b[0m                         Traceback (most recent call last)",
      "\u001b[1;32m<ipython-input-228-7359c12f7e7a>\u001b[0m in \u001b[0;36m<module>\u001b[1;34m()\u001b[0m\n\u001b[0;32m      1\u001b[0m \u001b[1;31m# Cropped, rescaled or augmented imgs\u001b[0m\u001b[1;33m\u001b[0m\u001b[1;33m\u001b[0m\u001b[0m\n\u001b[1;32m----> 2\u001b[1;33m \u001b[0mimg\u001b[0m \u001b[1;33m=\u001b[0m \u001b[0mdrm\u001b[0m\u001b[1;33m.\u001b[0m\u001b[0mplot_check\u001b[0m\u001b[1;33m(\u001b[0m\u001b[1;34m\"fnh\"\u001b[0m\u001b[1;33m,\u001b[0m \u001b[1;36m2\u001b[0m\u001b[1;33m,\u001b[0m \u001b[0mC\u001b[0m\u001b[1;33m,\u001b[0m \u001b[1;34m\"12943872_0\"\u001b[0m\u001b[1;33m)\u001b[0m\u001b[1;33m\u001b[0m\u001b[0m\n\u001b[0m\u001b[0;32m      3\u001b[0m \u001b[0mprint\u001b[0m\u001b[1;33m(\u001b[0m\u001b[0mnp\u001b[0m\u001b[1;33m.\u001b[0m\u001b[0mamin\u001b[0m\u001b[1;33m(\u001b[0m\u001b[0mimg\u001b[0m\u001b[1;33m)\u001b[0m\u001b[1;33m,\u001b[0m \u001b[0mnp\u001b[0m\u001b[1;33m.\u001b[0m\u001b[0mamax\u001b[0m\u001b[1;33m(\u001b[0m\u001b[0mimg\u001b[0m\u001b[1;33m)\u001b[0m\u001b[1;33m,\u001b[0m \u001b[0mnp\u001b[0m\u001b[1;33m.\u001b[0m\u001b[0mmean\u001b[0m\u001b[1;33m(\u001b[0m\u001b[0mimg\u001b[0m\u001b[1;33m)\u001b[0m\u001b[1;33m)\u001b[0m\u001b[1;33m\u001b[0m\u001b[0m\n",
      "\u001b[1;32m~\\Documents\\voi-classifier\\dr_methods.py\u001b[0m in \u001b[0;36mplot_check\u001b[1;34m(cls, num, C, accnum)\u001b[0m\n\u001b[0;32m     76\u001b[0m         \u001b[0mimg\u001b[0m \u001b[1;33m=\u001b[0m \u001b[0mnp\u001b[0m\u001b[1;33m.\u001b[0m\u001b[0mload\u001b[0m\u001b[1;33m(\u001b[0m\u001b[0mC\u001b[0m\u001b[1;33m.\u001b[0m\u001b[0mcrops_dir\u001b[0m \u001b[1;33m+\u001b[0m \u001b[0mcls\u001b[0m \u001b[1;33m+\u001b[0m \u001b[1;34m\"\\\\\"\u001b[0m \u001b[1;33m+\u001b[0m \u001b[0maccnum\u001b[0m \u001b[1;33m+\u001b[0m \u001b[1;34m\".npy\"\u001b[0m\u001b[1;33m)\u001b[0m\u001b[1;33m\u001b[0m\u001b[0m\n\u001b[0;32m     77\u001b[0m     \u001b[1;32melif\u001b[0m \u001b[0mnum\u001b[0m\u001b[1;33m==\u001b[0m\u001b[1;36m2\u001b[0m\u001b[1;33m:\u001b[0m\u001b[1;33m\u001b[0m\u001b[0m\n\u001b[1;32m---> 78\u001b[1;33m         \u001b[0mimg\u001b[0m \u001b[1;33m=\u001b[0m \u001b[0mnp\u001b[0m\u001b[1;33m.\u001b[0m\u001b[0mload\u001b[0m\u001b[1;33m(\u001b[0m\u001b[0mC\u001b[0m\u001b[1;33m.\u001b[0m\u001b[0morig_dir\u001b[0m \u001b[1;33m+\u001b[0m \u001b[0mcls\u001b[0m \u001b[1;33m+\u001b[0m \u001b[1;34m\"\\\\\"\u001b[0m \u001b[1;33m+\u001b[0m \u001b[0maccnum\u001b[0m \u001b[1;33m+\u001b[0m \u001b[1;34m\".npy\"\u001b[0m\u001b[1;33m)\u001b[0m\u001b[1;33m\u001b[0m\u001b[0m\n\u001b[0m\u001b[0;32m     79\u001b[0m     \u001b[1;32melse\u001b[0m\u001b[1;33m:\u001b[0m\u001b[1;33m\u001b[0m\u001b[0m\n\u001b[0;32m     80\u001b[0m         \u001b[0mimg\u001b[0m \u001b[1;33m=\u001b[0m \u001b[0mnp\u001b[0m\u001b[1;33m.\u001b[0m\u001b[0mload\u001b[0m\u001b[1;33m(\u001b[0m\u001b[0mC\u001b[0m\u001b[1;33m.\u001b[0m\u001b[0maug_dir\u001b[0m \u001b[1;33m+\u001b[0m \u001b[0mcls\u001b[0m \u001b[1;33m+\u001b[0m \u001b[1;34m\"\\\\\"\u001b[0m \u001b[1;33m+\u001b[0m \u001b[0maccnum\u001b[0m \u001b[1;33m+\u001b[0m \u001b[1;34m\"_\"\u001b[0m \u001b[1;33m+\u001b[0m \u001b[0mstr\u001b[0m\u001b[1;33m(\u001b[0m\u001b[0mrandom\u001b[0m\u001b[1;33m.\u001b[0m\u001b[0mrandint\u001b[0m\u001b[1;33m(\u001b[0m\u001b[1;36m0\u001b[0m\u001b[1;33m,\u001b[0m\u001b[0mC\u001b[0m\u001b[1;33m.\u001b[0m\u001b[0maug_factor\u001b[0m\u001b[1;33m-\u001b[0m\u001b[1;36m1\u001b[0m\u001b[1;33m)\u001b[0m\u001b[1;33m)\u001b[0m \u001b[1;33m+\u001b[0m \u001b[1;34m\".npy\"\u001b[0m\u001b[1;33m)\u001b[0m\u001b[1;33m\u001b[0m\u001b[0m\n",
      "\u001b[1;32m~\\AppData\\Local\\conda\\conda\\envs\\old-keras\\lib\\site-packages\\numpy\\lib\\npyio.py\u001b[0m in \u001b[0;36mload\u001b[1;34m(file, mmap_mode, allow_pickle, fix_imports, encoding)\u001b[0m\n\u001b[0;32m    368\u001b[0m     \u001b[0mown_fid\u001b[0m \u001b[1;33m=\u001b[0m \u001b[1;32mFalse\u001b[0m\u001b[1;33m\u001b[0m\u001b[0m\n\u001b[0;32m    369\u001b[0m     \u001b[1;32mif\u001b[0m \u001b[0misinstance\u001b[0m\u001b[1;33m(\u001b[0m\u001b[0mfile\u001b[0m\u001b[1;33m,\u001b[0m \u001b[0mbasestring\u001b[0m\u001b[1;33m)\u001b[0m\u001b[1;33m:\u001b[0m\u001b[1;33m\u001b[0m\u001b[0m\n\u001b[1;32m--> 370\u001b[1;33m         \u001b[0mfid\u001b[0m \u001b[1;33m=\u001b[0m \u001b[0mopen\u001b[0m\u001b[1;33m(\u001b[0m\u001b[0mfile\u001b[0m\u001b[1;33m,\u001b[0m \u001b[1;34m\"rb\"\u001b[0m\u001b[1;33m)\u001b[0m\u001b[1;33m\u001b[0m\u001b[0m\n\u001b[0m\u001b[0;32m    371\u001b[0m         \u001b[0mown_fid\u001b[0m \u001b[1;33m=\u001b[0m \u001b[1;32mTrue\u001b[0m\u001b[1;33m\u001b[0m\u001b[0m\n\u001b[0;32m    372\u001b[0m     \u001b[1;32melif\u001b[0m \u001b[0mis_pathlib_path\u001b[0m\u001b[1;33m(\u001b[0m\u001b[0mfile\u001b[0m\u001b[1;33m)\u001b[0m\u001b[1;33m:\u001b[0m\u001b[1;33m\u001b[0m\u001b[0m\n",
      "\u001b[1;31mFileNotFoundError\u001b[0m: [Errno 2] No such file or directory: 'E:\\\\imgs\\\\orig_imgs\\\\fnh\\\\12943872_0.npy'"
     ]
    }
   ],
   "source": [
    "# Cropped, rescaled or augmented imgs\n",
    "img = drm.plot_check(\"fnh\", 2, C, \"12943872_0\")\n",
    "print(np.amin(img), np.amax(img), np.mean(img))"
   ]
  },
  {
   "cell_type": "code",
   "execution_count": 226,
   "metadata": {},
   "outputs": [
    {
     "data": {
      "image/png": "[encoded data removed]",
      "text/plain": [
       "<matplotlib.figure.Figure at 0x16c85122ac8>"
      ]
     },
     "metadata": {},
     "output_type": "display_data"
    }
   ],
   "source": [
    "# Full imgs\n",
    "cls = \"fnh\"\n",
    "accnum = \"12943872\"\n",
    "img = np.load(C.full_img_dir + \"\\\\\" + cls + \"\\\\\" + accnum + \".npy\")\n",
    "hf.plot_section_auto(img)"
   ]
  },
  {
   "cell_type": "markdown",
   "metadata": {},
   "source": [
    "# Run CNN"
   ]
  },
  {
   "cell_type": "code",
   "execution_count": null,
   "metadata": {
    "collapsed": true
   },
   "outputs": [],
   "source": [
    "cbuild.overnight_run(C)"
   ]
  },
  {
   "cell_type": "code",
   "execution_count": null,
   "metadata": {
    "collapsed": true
   },
   "outputs": [],
   "source": [
    "#early_stopping = EarlyStopping(monitor='acc', min_delta=0.01, patience=4)\n",
    "train_generator = cbuild.train_generator_func(C, train_ids, voi_df, avg_X2, n=5, n_art=3)\n",
    "hist = model.fit_generator(train_generator, steps_per_epoch=200, epochs=15)#, callbacks=[early_stopping])"
   ]
  },
  {
   "cell_type": "code",
   "execution_count": null,
   "metadata": {
    "collapsed": true
   },
   "outputs": [],
   "source": [
    "n = 8\n",
    "n_art = 0\n",
    "steps_per_epoch = 200\n",
    "epochs = 15\n",
    "run_2d = False\n",
    "batch_norm = True\n",
    "non_imaging_inputs = True\n",
    "f = [64,128,128,128]\n",
    "dense_units = 100\n",
    "dilation_rate = (1, 1, 1)\n",
    "kernel_size = (3,3,3)\n",
    "activation_type = 'elu'\n",
    "\n",
    "t = time.time()\n",
    "\n",
    "model = cbuild.build_cnn(C, 'adam', activation_type=activation_type,\n",
    "        dilation_rate=dilation_rate, f=f,\n",
    "        dense_units=dense_units, kernel_size=kernel_size)\n",
    "\n",
    "model, X_test, Y_test, loss_hist, num_samples = cbuild.run_cnn(model, C, n=n, n_art=n_art,\n",
    "            steps_per_epoch=steps_per_epoch, epochs=epochs, run_2d=run_2d)\n",
    "\n",
    "Y_pred = model.predict(X_test)\n",
    "y_true = np.array([max(enumerate(x), key=operator.itemgetter(1))[0] for x in Y_test])\n",
    "y_pred = np.array([max(enumerate(x), key=operator.itemgetter(1))[0] for x in Y_pred])\n",
    "print(\"6cls accuracy:\", accuracy_score(y_true, y_pred))\n",
    "\n",
    "y_true_simp, y_pred_simp, _ = cfunc.condense_cm(y_true, y_pred, C.classes_to_include)\n",
    "print(\"3cls accuracy:\", accuracy_score(y_true_simp, y_pred_simp))\n"
   ]
  },
  {
   "cell_type": "markdown",
   "metadata": {},
   "source": [
    "# Situational"
   ]
  },
  {
   "cell_type": "markdown",
   "metadata": {},
   "source": [
    "for img_fn in os.listdir(C.full_img_dir):\n",
    "    try:\n",
    "        cls = voi_df_art[voi_df_art[\"Filename\"] == img_fn][\"cls\"].values[0]\n",
    "        os.rename(C.full_img_dir + \"\\\\\" + img_fn, C.full_img_dir + \"\\\\\" + cls + \"\\\\\" + img_fn)\n",
    "    except:\n",
    "        continue"
   ]
  },
  {
   "cell_type": "code",
   "execution_count": 76,
   "metadata": {
    "collapsed": true
   },
   "outputs": [],
   "source": [
    "df = pd.read_excel(xls_name, sheetname)\n",
    "df = drm.preprocess_df(df, C)\n",
    "acc_nums = list(set(df['Patient E Number'].dropna().astype(str).tolist()))"
   ]
  },
  {
   "cell_type": "code",
   "execution_count": null,
   "metadata": {
    "collapsed": true
   },
   "outputs": [],
   "source": [
    "xls_name = 'Z:\\\\Prototype1d.xlsx'\n",
    "img_dir = \"Z:\\\\cholangio\"\n",
    "cls = 'cholangio'\n",
    "sheetname=\"Cholangio\"\n",
    "df = pd.read_excel(xls_name, sheetname)\n",
    "accnums = df[df['Run'] > C.run_num]['Patient E Number'].values"
   ]
  },
  {
   "cell_type": "code",
   "execution_count": null,
   "metadata": {
    "collapsed": true
   },
   "outputs": [],
   "source": [
    "for img_fn in sorted(set(voi_df[voi_df[\"cls\"] == \"cyst\"]['Filename'])):\n",
    "    img = np.load(\"full_imgs\\\\\"+img_fn)\n",
    "    if np.sum(img[img.shape[0]*1//5:img.shape[0]*4//5,img.shape[1]//5:img.shape[1]*2//5,:img.shape[2]//3]) > \\\n",
    "            np.sum(img[img.shape[0]*1//5:img.shape[0]*4//5,img.shape[1]//5:img.shape[1]*2//5,(img.shape[2]+1)*2//3:]):\n",
    "        print(img_fn)"
   ]
  },
  {
   "cell_type": "markdown",
   "metadata": {},
   "source": [
    "for cls in os.listdir(C.aug_dir):#classes_to_include:\n",
    "    for img_fn in os.listdir(C.aug_dir + cls):\n",
    "        if \"refl\" in img_fn:\n",
    "            os.remove(C.aug_dir + cls + \"\\\\\" + img_fn)\n",
    "\n",
    "img = img * 2 - 1\n",
    "\n",
    "for cls in C.classes_to_include:\n",
    "    fns = os.listdir(C.crops_dir + cls)\n",
    "    for fn in fns:\n",
    "        img = np.load(C.crops_dir + cls + \"\\\\\" + fn)\n",
    "        img = img * 2 - 1\n",
    "        np.save(C.crops_dir + cls + \"\\\\\" + fn, img)\n",
    "\n",
    "for cls in C.classes_to_include:\n",
    "    fns = os.listdir(C.orig_dir + cls)\n",
    "    for fn in fns:\n",
    "        img = np.load(C.orig_dir + cls + \"\\\\\" + fn)\n",
    "        img = img * 2 - 1\n",
    "        np.save(C.orig_dir + cls + \"\\\\\" + fn, img)\n",
    "\n",
    "for cls in C.classes_to_include:\n",
    "    fns = os.listdir(C.aug_dir + cls)\n",
    "    for fn in fns:\n",
    "        img = np.load(C.aug_dir + cls + \"\\\\\" + fn)\n",
    "        img = img * 2 - 1\n",
    "        np.save(C.aug_dir + cls + \"\\\\\" + fn, img)\n",
    "\n",
    "for cls in os.listdir(C.aug_dir):#classes_to_include:\n",
    "    for img_fn in os.listdir(C.aug_dir + cls):\n",
    "        if \"refl\" not in img_fn:\n",
    "            img = np.load(C.aug_dir + cls + \"\\\\\" + img_fn)\n",
    "            aug_img = tr.generate_reflected_img(img)\n",
    "            np.save(C.aug_dir + cls + \"\\\\\" + img_fn[:-4] + \"-refl\", aug_img)"
   ]
  }
 ],
 "metadata": {
  "anaconda-cloud": {},
  "kernelspec": {
   "display_name": "Python 3",
   "language": "python",
   "name": "python3"
  },
  "language_info": {
   "codemirror_mode": {
    "name": "ipython",
    "version": 3
   },
   "file_extension": ".py",
   "mimetype": "text/x-python",
   "name": "python",
   "nbconvert_exporter": "python",
   "pygments_lexer": "ipython3",
   "version": "3.5.0"
  }
 },
 "nbformat": 4,
 "nbformat_minor": 1
}
