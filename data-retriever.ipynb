{
 "cells": [
  {
   "cell_type": "markdown",
   "metadata": {},
   "source": [
    "Retrieves images from \"raw_imgs\" folder and stores them in \"full_imgs\". Retrieves spreadsheet listing VOIs and stores them in text file."
   ]
  },
  {
   "cell_type": "markdown",
   "metadata": {},
   "source": [
    "TODO: function to read existing vois, drop one class, then load the class back in. Requires that drm.load_imgs write to a DataFrame rather than an array"
   ]
  },
  {
   "cell_type": "code",
   "execution_count": 1,
   "metadata": {},
   "outputs": [
    {
     "name": "stderr",
     "output_type": "stream",
     "text": [
      "Using TensorFlow backend.\n"
     ]
    }
   ],
   "source": [
    "import cnn_builder as cbuild\n",
    "import cnn_methods as cfunc\n",
    "import config\n",
    "import csv\n",
    "import dr_methods as drm\n",
    "import helper_fxns as hf\n",
    "import importlib\n",
    "import matplotlib.pyplot as plt\n",
    "import numpy as np\n",
    "import os\n",
    "import pandas as pd\n",
    "import pyelastix\n",
    "import time\n",
    "import transforms as tr\n",
    "import voi_methods as vm\n",
    "%matplotlib inline"
   ]
  },
  {
   "cell_type": "code",
   "execution_count": 85,
   "metadata": {
    "scrolled": true
   },
   "outputs": [],
   "source": [
    "importlib.reload(cbuild)\n",
    "importlib.reload(cfunc)\n",
    "importlib.reload(config)\n",
    "importlib.reload(hf)\n",
    "importlib.reload(tr)\n",
    "importlib.reload(vm)\n",
    "importlib.reload(drm)\n",
    "C = config.Config()"
   ]
  },
  {
   "cell_type": "markdown",
   "metadata": {},
   "source": [
    "# Reload images and VOIs"
   ]
  },
  {
   "cell_type": "code",
   "execution_count": 22,
   "metadata": {},
   "outputs": [
    {
     "name": "stdout",
     "output_type": "stream",
     "text": [
      "\n",
      "Loading VOIs from sheet OPTN 5A\n",
      "...................................................Overall time: 89.71390175819397\n",
      "\n",
      "Loading VOIs from sheet OPTN 5B\n",
      "..........................................Overall time: 65.73695063591003\n",
      "\n",
      "Loading VOIs from sheet Cyst\n",
      "..........................................Overall time: 87.27216172218323\n",
      "\n",
      "Loading VOIs from sheet Hemangioma\n",
      "......................................Overall time: 52.614720821380615\n",
      "\n",
      "Loading VOIs from sheet FNH\n",
      "............................................Overall time: 81.34745526313782\n",
      "\n",
      "Loading VOIs from sheet Cholangio\n",
      "..........................................Overall time: 24.11705708503723\n",
      "\n",
      "Loading VOIs from sheet Colorectal\n",
      "................................Overall time: 52.923351764678955\n"
     ]
    }
   ],
   "source": [
    "drm.load_all_vois(C)"
   ]
  },
  {
   "cell_type": "code",
   "execution_count": 267,
   "metadata": {
    "collapsed": true
   },
   "outputs": [],
   "source": [
    "for cls in C.classes_to_include:\n",
    "    if not os.path.exists(C.full_img_dir + \"\\\\\" + cls):\n",
    "        os.makedirs(C.full_img_dir + \"\\\\\" + cls)\n",
    "    if not os.path.exists(C.orig_dir + cls):\n",
    "        os.makedirs(C.orig_dir + cls)\n",
    "    if not os.path.exists(C.aug_dir + cls):\n",
    "        os.makedirs(C.aug_dir + cls)\n",
    "    if not os.path.exists(C.crops_dir + cls):\n",
    "        os.makedirs(C.crops_dir + cls)"
   ]
  },
  {
   "cell_type": "code",
   "execution_count": 71,
   "metadata": {
    "collapsed": true
   },
   "outputs": [],
   "source": [
    "#dims_df = pd.DataFrame(columns = [\"AccNum\", \"x\", \"y\", \"z\"])\n",
    "dims_df = pd.read_csv(C.dims_df_path)\n",
    "voi_df_art = pd.DataFrame(columns = [\"Filename\", \"x1\", \"x2\", \"y1\", \"y2\", \"z1\", \"z2\", \"cls\",\n",
    "                                     \"flipz\", \"real_dx\", \"real_dy\", \"real_dz\", \"id\", \"lesion_num\"])\n",
    "voi_df_ven = pd.DataFrame(columns = [\"id\", \"x1\", \"x2\", \"y1\", \"y2\", \"z1\", \"z2\"]) #voi_df_ven only contains entries where manually specified\n",
    "voi_df_eq = pd.DataFrame(columns = [\"id\", \"x1\", \"x2\", \"y1\", \"y2\", \"z1\", \"z2\"]) #voi_df_ven only contains entries where manually specified\n",
    "voi_dfs = [voi_df_art, voi_df_ven, voi_df_eq]"
   ]
  },
  {
   "cell_type": "code",
   "execution_count": 78,
   "metadata": {
    "collapsed": true
   },
   "outputs": [],
   "source": [
    "patient_info_df = pd.DataFrame(columns = [\"MRN\", \"Sex\", \"AccNum\", \"AgeAtImaging\", \"cls\"])"
   ]
  },
  {
   "cell_type": "code",
   "execution_count": null,
   "metadata": {
    "collapsed": true
   },
   "outputs": [],
   "source": [
    "voi_df_art = pd.read_csv(C.art_voi_path)\n",
    "voi_df_ven = pd.read_csv(C.ven_voi_path)\n",
    "voi_df_eq = pd.read_csv(C.eq_voi_path)\n",
    "voi_dfs = [voi_df_art, voi_df_ven, voi_df_eq]\n",
    "dims_df = pd.read_csv(C.dims_df_path)\n",
    "intensity_df = pd.read_csv(C.int_df_path)\n",
    "#intensity_df = drm.get_intensities(C, cls=\"hcc\", acc_num='E106046622')"
   ]
  },
  {
   "cell_type": "code",
   "execution_count": 26,
   "metadata": {
    "collapsed": true
   },
   "outputs": [],
   "source": [
    "intensity_df = drm.get_intensities(C, cls=\"hemangioma\", acc_num='13138944')"
   ]
  },
  {
   "cell_type": "code",
   "execution_count": 61,
   "metadata": {},
   "outputs": [
    {
     "name": "stdout",
     "output_type": "stream",
     "text": [
      "Z:\\fnh\\E104091536\\T1_AP\n"
     ]
    }
   ],
   "source": [
    "print('Z:\\\\fnh\\\\E104091536\\\\T1_AP')"
   ]
  },
  {
   "cell_type": "code",
   "execution_count": 83,
   "metadata": {
    "scrolled": true
   },
   "outputs": [
    {
     "name": "stdout",
     "output_type": "stream",
     "text": [
      "\n",
      "Loading DCMs of type OPTN 5A\n",
      "E103599300,13064153,13010227,E104517810,E104657225,Overall time: 27.400022506713867\n",
      "\n",
      "Loading DCMs of type OPTN 5B\n",
      "Overall time: 27.545899868011475\n",
      "\n",
      "Loading DCMs of type Cyst\n",
      "E100610622,E100529980,12314736,12082222,12042703,13028374,E100314676,12229245,12302576,Overall time: 26.129448890686035\n",
      "\n",
      "Loading DCMs of type Hemangioma\n",
      "Overall time: 26.985754251480103\n",
      "\n",
      "Loading DCMs of type FNH\n",
      "Overall time: 44.911020040512085\n",
      "\n",
      "Loading DCMs of type Cholangio\n",
      "Overall time: 39.045315742492676\n",
      "\n",
      "Loading DCMs of type Colorectal\n",
      "Overall time: 42.28879451751709\n"
     ]
    }
   ],
   "source": [
    "xls_name = 'Z:\\\\Prototype1d.xlsx'\n",
    "sheetnames = ['OPTN 5A', 'OPTN 5B', 'Cyst', 'Hemangioma', 'FNH', 'Cholangio', 'Colorectal', 'Adenoma']\n",
    "cls_names = ['hcc', 'hcc', 'cyst', 'hemangioma', 'fnh', 'cholangio', 'colorectal', 'adenoma']\n",
    "img_dirs = [\"Z:\\\\\"+x for x in ['OPTN5A', 'optn5b', 'simple_cysts', 'hemangioma', 'fnh', 'cholangio', 'colorectal', 'adenoma']]\n",
    "\n",
    "for i in [sheetnames.index(x) for x in ['OPTN 5A', 'OPTN 5B', 'Cyst', 'Hemangioma', 'FNH', 'Cholangio', 'Colorectal']]:\n",
    "    #drm.check_folders(img_dirs[i], xls_name, sheetnames[i], C)\n",
    "    #dims_df = drm.load_imgs(img_dirs[i], cls_names[i], xls_name, sheetnames[i], dims_df, C)\n",
    "    #voi_dfs = drm.load_vois(cls_names[i], xls_name, sheetnames[i], voi_dfs, dims_df, C)#, acc_nums=['E104764948','E106046622'])\n",
    "    #intensity_df = drm.get_intensities(C, cls=cls_names[i], acc_num='E106046622')\n",
    "    patient_info_df = drm.load_patient_info(img_dirs[i], cls_names[i], xls_name, sheetnames[i], patient_info_df, C)"
   ]
  },
  {
   "cell_type": "code",
   "execution_count": 84,
   "metadata": {},
   "outputs": [],
   "source": [
    "patient_info_df.to_csv('Z:\\\\patient_info.csv', index=False)"
   ]
  },
  {
   "cell_type": "code",
   "execution_count": 345,
   "metadata": {
    "collapsed": true
   },
   "outputs": [],
   "source": [
    "voi_df_art, voi_df_ven, voi_df_eq = voi_dfs\n",
    "voi_df_art.to_csv(C.art_voi_path, index=False)\n",
    "voi_df_ven.to_csv(C.ven_voi_path, index=False)\n",
    "voi_df_eq.to_csv(C.eq_voi_path, index=False)"
   ]
  },
  {
   "cell_type": "code",
   "execution_count": 346,
   "metadata": {
    "collapsed": true
   },
   "outputs": [],
   "source": [
    "dims_df.to_csv(C.dims_df_path, index=False)"
   ]
  },
  {
   "cell_type": "code",
   "execution_count": null,
   "metadata": {
    "collapsed": true
   },
   "outputs": [],
   "source": [
    "#drm.delete_imgs(['12916368', 'E102556695'], 'hcc', C)\n",
    "#drm.delete_imgs(0, cls, C, xls_name, sheetname)\n",
    "drm.reload_img(\"E103354630\", \"fnh\", C)"
   ]
  },
  {
   "cell_type": "markdown",
   "metadata": {},
   "source": [
    "# Generate cropped imgs"
   ]
  },
  {
   "cell_type": "code",
   "execution_count": 88,
   "metadata": {
    "scrolled": true
   },
   "outputs": [
    {
     "name": "stdout",
     "output_type": "stream",
     "text": [
      "\n",
      "Loading VOIs for ['E103921713']\n",
      ".Overall time: 0.41642165184020996\n"
     ]
    }
   ],
   "source": [
    "for acc_num in ['E103921713']:\n",
    "    vm.reload_accnum(acc_num, \"cholangio\", C)"
   ]
  },
  {
   "cell_type": "code",
   "execution_count": 16,
   "metadata": {
    "collapsed": true
   },
   "outputs": [],
   "source": [
    "voi_df_art = pd.read_csv(C.art_voi_path)\n",
    "voi_df_ven = pd.read_csv(C.ven_voi_path)\n",
    "voi_df_eq = pd.read_csv(C.eq_voi_path)\n",
    "intensity_df = pd.read_csv(C.int_df_path)\n",
    "\n",
    "#C.classes_to_include = ['hcc', 'cholangio', 'colorectal', 'cyst', 'hemangioma', 'fnh']\n",
    "\n",
    "with open(C.small_voi_path, 'r') as csv_file:\n",
    "    reader = csv.reader(csv_file)\n",
    "    small_vois = dict(reader)\n",
    "for key in small_vois:\n",
    "    small_vois[key] = [int(x) for x in small_vois[key][1:-1].split(', ')]"
   ]
  },
  {
   "cell_type": "code",
   "execution_count": 57,
   "metadata": {},
   "outputs": [
    {
     "name": "stdout",
     "output_type": "stream",
     "text": [
      "....................\n",
      "627.7850320339203\n"
     ]
    }
   ],
   "source": [
    "small_vois = {}\n",
    "small_vois = vm.extract_vois(small_vois, C, voi_df_art, voi_df_ven, voi_df_eq, intensity_df)\n",
    "\n",
    "with open(C.small_voi_path, 'w', newline='') as csv_file:\n",
    "    writer = csv.writer(csv_file)\n",
    "    for key, value in small_vois.items():\n",
    "        writer.writerow([key, value])"
   ]
  },
  {
   "cell_type": "code",
   "execution_count": 58,
   "metadata": {},
   "outputs": [
    {
     "ename": "KeyError",
     "evalue": "'13038029_0'",
     "output_type": "error",
     "traceback": [
      "\u001b[1;31m---------------------------------------------------------------------------\u001b[0m",
      "\u001b[1;31mKeyError\u001b[0m                                  Traceback (most recent call last)",
      "\u001b[1;32m<ipython-input-58-b469a5f3e5f2>\u001b[0m in \u001b[0;36m<module>\u001b[1;34m()\u001b[0m\n\u001b[0;32m      4\u001b[0m     \u001b[1;32mfor\u001b[0m \u001b[0mfn\u001b[0m \u001b[1;32min\u001b[0m \u001b[0mos\u001b[0m\u001b[1;33m.\u001b[0m\u001b[0mlistdir\u001b[0m\u001b[1;33m(\u001b[0m\u001b[0mC\u001b[0m\u001b[1;33m.\u001b[0m\u001b[0mcrops_dir\u001b[0m \u001b[1;33m+\u001b[0m \u001b[0mcls\u001b[0m\u001b[1;33m)\u001b[0m\u001b[1;33m:\u001b[0m\u001b[1;33m\u001b[0m\u001b[0m\n\u001b[0;32m      5\u001b[0m         \u001b[0mimg\u001b[0m \u001b[1;33m=\u001b[0m \u001b[0mnp\u001b[0m\u001b[1;33m.\u001b[0m\u001b[0mload\u001b[0m\u001b[1;33m(\u001b[0m\u001b[0mC\u001b[0m\u001b[1;33m.\u001b[0m\u001b[0mcrops_dir\u001b[0m \u001b[1;33m+\u001b[0m \u001b[0mcls\u001b[0m \u001b[1;33m+\u001b[0m \u001b[1;34m\"\\\\\"\u001b[0m \u001b[1;33m+\u001b[0m \u001b[0mfn\u001b[0m\u001b[1;33m)\u001b[0m\u001b[1;33m\u001b[0m\u001b[0m\n\u001b[1;32m----> 6\u001b[1;33m         \u001b[0munaug_img\u001b[0m \u001b[1;33m=\u001b[0m \u001b[0mvm\u001b[0m\u001b[1;33m.\u001b[0m\u001b[0mresize_img\u001b[0m\u001b[1;33m(\u001b[0m\u001b[0mimg\u001b[0m\u001b[1;33m,\u001b[0m \u001b[0mC\u001b[0m\u001b[1;33m,\u001b[0m \u001b[0msmall_vois\u001b[0m\u001b[1;33m[\u001b[0m\u001b[0mfn\u001b[0m\u001b[1;33m[\u001b[0m\u001b[1;33m:\u001b[0m\u001b[1;33m-\u001b[0m\u001b[1;36m4\u001b[0m\u001b[1;33m]\u001b[0m\u001b[1;33m]\u001b[0m\u001b[1;33m)\u001b[0m\u001b[1;33m\u001b[0m\u001b[0m\n\u001b[0m\u001b[0;32m      7\u001b[0m         \u001b[0mnp\u001b[0m\u001b[1;33m.\u001b[0m\u001b[0msave\u001b[0m\u001b[1;33m(\u001b[0m\u001b[0mC\u001b[0m\u001b[1;33m.\u001b[0m\u001b[0morig_dir\u001b[0m \u001b[1;33m+\u001b[0m \u001b[0mcls\u001b[0m \u001b[1;33m+\u001b[0m \u001b[1;34m\"\\\\\"\u001b[0m \u001b[1;33m+\u001b[0m \u001b[0mfn\u001b[0m\u001b[1;33m,\u001b[0m \u001b[0munaug_img\u001b[0m\u001b[1;33m)\u001b[0m\u001b[1;33m\u001b[0m\u001b[0m\n\u001b[0;32m      8\u001b[0m \u001b[0mprint\u001b[0m\u001b[1;33m(\u001b[0m\u001b[0mtime\u001b[0m\u001b[1;33m.\u001b[0m\u001b[0mtime\u001b[0m\u001b[1;33m(\u001b[0m\u001b[1;33m)\u001b[0m\u001b[1;33m-\u001b[0m\u001b[0mt\u001b[0m\u001b[1;33m)\u001b[0m\u001b[1;33m\u001b[0m\u001b[0m\n",
      "\u001b[1;31mKeyError\u001b[0m: '13038029_0'"
     ]
    }
   ],
   "source": [
    "# scaled imgs\n",
    "t = time.time()\n",
    "for cls in C.classes_to_include:\n",
    "    for fn in os.listdir(C.crops_dir + cls):\n",
    "        img = np.load(C.crops_dir + cls + \"\\\\\" + fn)\n",
    "        unaug_img = vm.resize_img(img, C, small_vois[fn[:-4]])\n",
    "        np.save(C.orig_dir + cls + \"\\\\\" + fn, unaug_img)\n",
    "print(time.time()-t)\n",
    "\n",
    "for cls in C.classes_to_include:\n",
    "    vm.save_all_vois(cls, C)"
   ]
  },
  {
   "cell_type": "code",
   "execution_count": null,
   "metadata": {
    "scrolled": true
   },
   "outputs": [],
   "source": [
    "# augmented imgs\n",
    "t = time.time()\n",
    "for cls in C.classes_to_include:\n",
    "    vm.parallel_augment(cls, small_vois, C, num_cores=3)\n",
    "    print(cls, time.time()-t)"
   ]
  },
  {
   "cell_type": "markdown",
   "metadata": {},
   "source": [
    "# Plotting"
   ]
  },
  {
   "cell_type": "code",
   "execution_count": 31,
   "metadata": {},
   "outputs": [
    {
     "data": {
      "text/html": [
       "<div>\n",
       "<style>\n",
       "    .dataframe thead tr:only-child th {\n",
       "        text-align: right;\n",
       "    }\n",
       "\n",
       "    .dataframe thead th {\n",
       "        text-align: left;\n",
       "    }\n",
       "\n",
       "    .dataframe tbody tr th {\n",
       "        vertical-align: top;\n",
       "    }\n",
       "</style>\n",
       "<table border=\"1\" class=\"dataframe\">\n",
       "  <thead>\n",
       "    <tr style=\"text-align: right;\">\n",
       "      <th></th>\n",
       "      <th>Filename</th>\n",
       "      <th>x1</th>\n",
       "      <th>x2</th>\n",
       "      <th>y1</th>\n",
       "      <th>y2</th>\n",
       "      <th>z1</th>\n",
       "      <th>z2</th>\n",
       "      <th>cls</th>\n",
       "      <th>flipz</th>\n",
       "      <th>real_dx</th>\n",
       "      <th>real_dy</th>\n",
       "      <th>real_dz</th>\n",
       "      <th>id</th>\n",
       "      <th>lesion_num</th>\n",
       "    </tr>\n",
       "  </thead>\n",
       "  <tbody>\n",
       "    <tr>\n",
       "      <th>417</th>\n",
       "      <td>13138944.npy</td>\n",
       "      <td>53</td>\n",
       "      <td>76</td>\n",
       "      <td>157</td>\n",
       "      <td>187</td>\n",
       "      <td>24</td>\n",
       "      <td>35</td>\n",
       "      <td>hemangioma</td>\n",
       "      <td>False</td>\n",
       "      <td>23.958332</td>\n",
       "      <td>31.249999</td>\n",
       "      <td>33.0</td>\n",
       "      <td>13138944_0</td>\n",
       "      <td>0</td>\n",
       "    </tr>\n",
       "  </tbody>\n",
       "</table>\n",
       "</div>"
      ],
      "text/plain": [
       "         Filename  x1  x2   y1   y2  z1  z2         cls  flipz    real_dx  \\\n",
       "417  13138944.npy  53  76  157  187  24  35  hemangioma  False  23.958332   \n",
       "\n",
       "       real_dy  real_dz          id  lesion_num  \n",
       "417  31.249999     33.0  13138944_0           0  "
      ]
     },
     "execution_count": 31,
     "metadata": {},
     "output_type": "execute_result"
    }
   ],
   "source": [
    "voi_df_art = pd.read_csv(C.art_voi_path)\n",
    "voi_df_art[voi_df_art[\"Filename\"] == \"13138944.npy\"]"
   ]
  },
  {
   "cell_type": "code",
   "execution_count": 32,
   "metadata": {
    "scrolled": true
   },
   "outputs": [
    {
     "name": "stdout",
     "output_type": "stream",
     "text": [
      "0 255 26.3775269392\n"
     ]
    },
    {
     "data": {
      "image/png": "[encoded data removed]",
      "text/plain": [
       "<matplotlib.figure.Figure at 0x2515f084be0>"
      ]
     },
     "metadata": {},
     "output_type": "display_data"
    }
   ],
   "source": [
    "# can be used to determine if an image is flipped\n",
    "cls = \"hemangioma\"\n",
    "acc_num = '13138944'#acc_nums[0]\n",
    "img_fn = acc_num + \".npy\"\n",
    "img = np.load(C.full_img_dir+\"\\\\\"+cls + \"\\\\\"+img_fn)\n",
    "hf.plot_section(img, voi_df_art[(voi_df_art[\"Filename\"] == img_fn) & (voi_df_art[\"cls\"] == cls)].iloc[0], flipz=\"both\", pad=10)\n",
    "print(np.amin(img), np.amax(img), np.mean(img))\n",
    "#hf.plot_section_auto(img)"
   ]
  },
  {
   "cell_type": "code",
   "execution_count": 54,
   "metadata": {},
   "outputs": [
    {
     "name": "stdout",
     "output_type": "stream",
     "text": [
      "-1.0 0.874932868673 -0.147416152789\n"
     ]
    },
    {
     "data": {
      "image/png": "[encoded data removed]",
      "text/plain": [
       "<matplotlib.figure.Figure at 0x251002c05f8>"
      ]
     },
     "metadata": {},
     "output_type": "display_data"
    }
   ],
   "source": [
    "# Cropped, rescaled or augmented imgs\n",
    "img = drm.plot_check(\"hemangioma\", 2, C, \"13138944\"+\"_0\")\n",
    "print(np.amin(img), np.amax(img), np.mean(img))"
   ]
  },
  {
   "cell_type": "markdown",
   "metadata": {},
   "source": [
    "# Run CNN"
   ]
  },
  {
   "cell_type": "code",
   "execution_count": null,
   "metadata": {
    "collapsed": true
   },
   "outputs": [],
   "source": [
    "cbuild.overnight_run(C)"
   ]
  },
  {
   "cell_type": "code",
   "execution_count": null,
   "metadata": {
    "collapsed": true
   },
   "outputs": [],
   "source": [
    "#early_stopping = EarlyStopping(monitor='acc', min_delta=0.01, patience=4)\n",
    "train_generator = cbuild.train_generator_func(C, train_ids, voi_df, avg_X2, n=5, n_art=3)\n",
    "hist = model.fit_generator(train_generator, steps_per_epoch=200, epochs=15)#, callbacks=[early_stopping])"
   ]
  },
  {
   "cell_type": "code",
   "execution_count": null,
   "metadata": {
    "collapsed": true
   },
   "outputs": [],
   "source": [
    "n = 8\n",
    "n_art = 0\n",
    "steps_per_epoch = 200\n",
    "epochs = 15\n",
    "run_2d = False\n",
    "batch_norm = True\n",
    "non_imaging_inputs = True\n",
    "f = [64,128,128,128]\n",
    "dense_units = 100\n",
    "dilation_rate = (1, 1, 1)\n",
    "kernel_size = (3,3,3)\n",
    "activation_type = 'elu'\n",
    "\n",
    "t = time.time()\n",
    "\n",
    "model = cbuild.build_cnn(C, 'adam', activation_type=activation_type,\n",
    "        dilation_rate=dilation_rate, f=f,\n",
    "        dense_units=dense_units, kernel_size=kernel_size)\n",
    "\n",
    "model, X_test, Y_test, loss_hist, num_samples = cbuild.run_cnn(model, C, n=n, n_art=n_art,\n",
    "            steps_per_epoch=steps_per_epoch, epochs=epochs, run_2d=run_2d)\n",
    "\n",
    "Y_pred = model.predict(X_test)\n",
    "y_true = np.array([max(enumerate(x), key=operator.itemgetter(1))[0] for x in Y_test])\n",
    "y_pred = np.array([max(enumerate(x), key=operator.itemgetter(1))[0] for x in Y_pred])\n",
    "print(\"6cls accuracy:\", accuracy_score(y_true, y_pred))\n",
    "\n",
    "y_true_simp, y_pred_simp, _ = cfunc.condense_cm(y_true, y_pred, C.classes_to_include)\n",
    "print(\"3cls accuracy:\", accuracy_score(y_true_simp, y_pred_simp))\n"
   ]
  },
  {
   "cell_type": "markdown",
   "metadata": {},
   "source": [
    "# Situational"
   ]
  },
  {
   "cell_type": "markdown",
   "metadata": {},
   "source": [
    "for img_fn in os.listdir(C.full_img_dir):\n",
    "    try:\n",
    "        cls = voi_df_art[voi_df_art[\"Filename\"] == img_fn][\"cls\"].values[0]\n",
    "        os.rename(C.full_img_dir + \"\\\\\" + img_fn, C.full_img_dir + \"\\\\\" + cls + \"\\\\\" + img_fn)\n",
    "    except:\n",
    "        continue"
   ]
  },
  {
   "cell_type": "code",
   "execution_count": 76,
   "metadata": {
    "collapsed": true
   },
   "outputs": [],
   "source": [
    "df = pd.read_excel(xls_name, sheetname)\n",
    "df = drm.preprocess_df(df, C)\n",
    "acc_nums = list(set(df['Patient E Number'].dropna().astype(str).tolist()))"
   ]
  },
  {
   "cell_type": "code",
   "execution_count": null,
   "metadata": {
    "collapsed": true
   },
   "outputs": [],
   "source": [
    "xls_name = 'Z:\\\\Prototype1d.xlsx'\n",
    "img_dir = \"Z:\\\\cholangio\"\n",
    "cls = 'cholangio'\n",
    "sheetname=\"Cholangio\"\n",
    "df = pd.read_excel(xls_name, sheetname)\n",
    "accnums = df[df['Run'] > C.run_num]['Patient E Number'].values"
   ]
  },
  {
   "cell_type": "code",
   "execution_count": null,
   "metadata": {
    "collapsed": true
   },
   "outputs": [],
   "source": [
    "for img_fn in sorted(set(voi_df[voi_df[\"cls\"] == \"cyst\"]['Filename'])):\n",
    "    img = np.load(\"full_imgs\\\\\"+img_fn)\n",
    "    if np.sum(img[img.shape[0]*1//5:img.shape[0]*4//5,img.shape[1]//5:img.shape[1]*2//5,:img.shape[2]//3]) > \\\n",
    "            np.sum(img[img.shape[0]*1//5:img.shape[0]*4//5,img.shape[1]//5:img.shape[1]*2//5,(img.shape[2]+1)*2//3:]):\n",
    "        print(img_fn)"
   ]
  },
  {
   "cell_type": "markdown",
   "metadata": {},
   "source": [
    "for cls in os.listdir(C.aug_dir):#classes_to_include:\n",
    "    for img_fn in os.listdir(C.aug_dir + cls):\n",
    "        if \"refl\" in img_fn:\n",
    "            os.remove(C.aug_dir + cls + \"\\\\\" + img_fn)\n",
    "\n",
    "img = img * 2 - 1\n",
    "\n",
    "for cls in C.classes_to_include:\n",
    "    fns = os.listdir(C.crops_dir + cls)\n",
    "    for fn in fns:\n",
    "        img = np.load(C.crops_dir + cls + \"\\\\\" + fn)\n",
    "        img = img * 2 - 1\n",
    "        np.save(C.crops_dir + cls + \"\\\\\" + fn, img)\n",
    "\n",
    "for cls in C.classes_to_include:\n",
    "    fns = os.listdir(C.orig_dir + cls)\n",
    "    for fn in fns:\n",
    "        img = np.load(C.orig_dir + cls + \"\\\\\" + fn)\n",
    "        img = img * 2 - 1\n",
    "        np.save(C.orig_dir + cls + \"\\\\\" + fn, img)\n",
    "\n",
    "for cls in C.classes_to_include:\n",
    "    fns = os.listdir(C.aug_dir + cls)\n",
    "    for fn in fns:\n",
    "        img = np.load(C.aug_dir + cls + \"\\\\\" + fn)\n",
    "        img = img * 2 - 1\n",
    "        np.save(C.aug_dir + cls + \"\\\\\" + fn, img)\n",
    "\n",
    "for cls in os.listdir(C.aug_dir):#classes_to_include:\n",
    "    for img_fn in os.listdir(C.aug_dir + cls):\n",
    "        if \"refl\" not in img_fn:\n",
    "            img = np.load(C.aug_dir + cls + \"\\\\\" + img_fn)\n",
    "            aug_img = tr.generate_reflected_img(img)\n",
    "            np.save(C.aug_dir + cls + \"\\\\\" + img_fn[:-4] + \"-refl\", aug_img)"
   ]
  }
 ],
 "metadata": {
  "anaconda-cloud": {},
  "kernelspec": {
   "display_name": "Python 3",
   "language": "python",
   "name": "python3"
  },
  "language_info": {
   "codemirror_mode": {
    "name": "ipython",
    "version": 3
   },
   "file_extension": ".py",
   "mimetype": "text/x-python",
   "name": "python",
   "nbconvert_exporter": "python",
   "pygments_lexer": "ipython3",
   "version": "3.5.0"
  }
 },
 "nbformat": 4,
 "nbformat_minor": 1
}
