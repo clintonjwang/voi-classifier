{
 "cells": [
  {
   "cell_type": "code",
   "execution_count": 149,
   "metadata": {},
   "outputs": [],
   "source": [
    "import keras.backend as K\n",
    "from keras.layers import Input, Add, Dense, Activation, Concatenate, Flatten, Dropout, Conv3D, MaxPooling3D, ZeroPadding3D, AveragePooling3D, TimeDistributed\n",
    "from keras.models import Model\n",
    "from keras.regularizers import l1, l2\n",
    "from keras.optimizers import Adam, SGD\n",
    "from keras.constraints import max_norm\n",
    "from keras.layers.noise import GaussianNoise\n",
    "from keras.callbacks import EarlyStopping\n",
    "from keras.utils import np_utils\n",
    "from sklearn.metrics import confusion_matrix, f1_score, accuracy_score\n",
    "import operator\n",
    "import matplotlib.pyplot as plt\n",
    "import config\n",
    "import importlib\n",
    "import math\n",
    "import os\n",
    "import copy\n",
    "import pandas as pd\n",
    "import re\n",
    "import numpy as np\n",
    "import helper_fxns as hf\n",
    "import transforms as tr\n",
    "from scipy.misc import imsave\n",
    "import tensorflow as tf\n",
    "%matplotlib inline"
   ]
  },
  {
   "cell_type": "markdown",
   "metadata": {},
   "source": [
    "from keras.datasets import mnist\n",
    "\n",
    "(x_train, y_train), (x_test, y_test) = mnist.load_data()\n",
    "\n",
    "nb_classes = C.nb_classes\n",
    "\n",
    "X_train = np.expand_dims(x_train,axis=3)\n",
    "X_train = np.expand_dims(X_train,axis=4)\n",
    "X_test = np.expand_dims(x_test,axis=3)\n",
    "X_test = np.expand_dims(X_test,axis=4)\n",
    "X_train = X_train.astype('float32')\n",
    "X_test = X_test.astype('float32')\n",
    "X_train /= 255\n",
    "X_test /= 255\n",
    "Y_train = np_utils.to_categorical(y_train, nb_classes)\n",
    "Y_test = np_utils.to_categorical(y_test, nb_classes)"
   ]
  },
  {
   "cell_type": "code",
   "execution_count": 150,
   "metadata": {
    "scrolled": true
   },
   "outputs": [],
   "source": [
    "importlib.reload(config)\n",
    "C = config.Config()"
   ]
  },
  {
   "cell_type": "code",
   "execution_count": 151,
   "metadata": {
    "collapsed": true
   },
   "outputs": [],
   "source": [
    "classes_to_include = ['cyst', 'hcc', 'hemangioma', 'cholangio']#, 'colorectal']#, 'fnh']"
   ]
  },
  {
   "cell_type": "code",
   "execution_count": 152,
   "metadata": {
    "scrolled": true
   },
   "outputs": [],
   "source": [
    "dims = C.dims\n",
    "voi_img = Input(shape=(dims[0], dims[1], dims[2], C.nb_channels))\n",
    "x = voi_img\n",
    "#x = GaussianNoise(1)(x)\n",
    "x = ZeroPadding3D(padding=(3,3,2))(voi_img)\n",
    "x = Conv3D(filters=64, kernel_size=(3,3,2), activation='relu', kernel_constraint=max_norm(4.))(x)\n",
    "x = Dropout(0.5)(x)\n",
    "#x = MaxPooling3D((2, 2, 1))(x)\n",
    "x = Conv3D(filters=64, kernel_size=(3,3,2), activation='relu', kernel_constraint=max_norm(4.))(x)\n",
    "x = Conv3D(filters=128, kernel_size=(3,3,2), activation='relu', kernel_constraint=max_norm(4.))(x)\n",
    "x = Dropout(0.5)(x)\n",
    "x = Conv3D(filters=128, kernel_size=(3,3,2), strides=(2, 2, 2), activation='relu', kernel_constraint=max_norm(4.))(x)\n",
    "x = Dropout(0.5)(x)\n",
    "x = Flatten()(x)\n",
    "x = Dense(128, activation='relu', kernel_constraint=max_norm(4.))(x)#, kernel_initializer='normal', kernel_regularizer=l1(.01), kernel_constraint=max_norm(3.))(x)\n",
    "x = Dropout(0.5)(x)\n",
    "pred_class = Dense(C.nb_classes, activation='softmax')(x)#Dense(C.nb_classes, activation='softmax')(x)"
   ]
  },
  {
   "cell_type": "code",
   "execution_count": 153,
   "metadata": {
    "scrolled": true
   },
   "outputs": [
    {
     "name": "stdout",
     "output_type": "stream",
     "text": [
      "_________________________________________________________________\n",
      "Layer (type)                 Output Shape              Param #   \n",
      "=================================================================\n",
      "input_16 (InputLayer)        (None, 24, 24, 12, 3)     0         \n",
      "_________________________________________________________________\n",
      "zero_padding3d_16 (ZeroPaddi (None, 30, 30, 16, 3)     0         \n",
      "_________________________________________________________________\n",
      "conv3d_52 (Conv3D)           (None, 28, 28, 15, 64)    3520      \n",
      "_________________________________________________________________\n",
      "dropout_55 (Dropout)         (None, 28, 28, 15, 64)    0         \n",
      "_________________________________________________________________\n",
      "conv3d_53 (Conv3D)           (None, 26, 26, 14, 64)    73792     \n",
      "_________________________________________________________________\n",
      "conv3d_54 (Conv3D)           (None, 24, 24, 13, 128)   147584    \n",
      "_________________________________________________________________\n",
      "dropout_56 (Dropout)         (None, 24, 24, 13, 128)   0         \n",
      "_________________________________________________________________\n",
      "conv3d_55 (Conv3D)           (None, 11, 11, 6, 128)    295040    \n",
      "_________________________________________________________________\n",
      "dropout_57 (Dropout)         (None, 11, 11, 6, 128)    0         \n",
      "_________________________________________________________________\n",
      "flatten_14 (Flatten)         (None, 92928)             0         \n",
      "_________________________________________________________________\n",
      "dense_27 (Dense)             (None, 128)               11894912  \n",
      "_________________________________________________________________\n",
      "dropout_58 (Dropout)         (None, 128)               0         \n",
      "_________________________________________________________________\n",
      "dense_28 (Dense)             (None, 6)                 774       \n",
      "=================================================================\n",
      "Total params: 12,415,622\n",
      "Trainable params: 12,415,622\n",
      "Non-trainable params: 0\n",
      "_________________________________________________________________\n"
     ]
    }
   ],
   "source": [
    "optim = Adam(lr=0.01)#, decay=0.001)\n",
    "early_stopping = EarlyStopping(min_delta=0.001, patience=10)\n",
    "\n",
    "model = Model(voi_img, pred_class)\n",
    "model.compile(optimizer='adam', loss='categorical_crossentropy', metrics=['accuracy'])\n",
    "model.summary()"
   ]
  },
  {
   "cell_type": "markdown",
   "metadata": {
    "collapsed": true
   },
   "source": [
    "model2 = Model(voi_img, intermed)\n",
    "\n",
    "for l in range(2,len(model2.layers)):\n",
    "    model2.layers[l].set_weights(model.layers[l].get_weights())"
   ]
  },
  {
   "cell_type": "code",
   "execution_count": 154,
   "metadata": {
    "scrolled": false
   },
   "outputs": [],
   "source": [
    "orig_data_dict = {}\n",
    "num_samples = {}\n",
    "\n",
    "def collect_data(classes_to_include, C):\n",
    "    for class_name in classes_to_include:\n",
    "        x = np.empty((10000, C.dims[0], C.dims[1], C.dims[2], C.nb_channels))\n",
    "        z = []\n",
    "\n",
    "        for index, img_fn in enumerate(os.listdir(C.orig_dir+class_name)):\n",
    "            try:\n",
    "                x[index] = np.load(C.orig_dir+class_name+\"\\\\\"+img_fn)\n",
    "            except:\n",
    "                raise ValueError(C.orig_dir+class_name+\"\\\\\"+img_fn + \" not found\")\n",
    "            z.append(img_fn)\n",
    "\n",
    "        x.resize((index, dims[0], dims[1], dims[2], C.nb_channels)) #shrink first dimension to fit\n",
    "        orig_data_dict[class_name] = [x,np.array(z)]\n",
    "        num_samples[class_name] = index\n",
    "        \n",
    "    return orig_data_dict, num_samples"
   ]
  },
  {
   "cell_type": "code",
   "execution_count": 155,
   "metadata": {},
   "outputs": [
    {
     "name": "stdout",
     "output_type": "stream",
     "text": [
      "{'cyst': 65, 'hemangioma': 39, 'cholangio': 30, 'hcc': 61}\n"
     ]
    }
   ],
   "source": [
    "orig_data_dict, num_samples = collect_data(classes_to_include, C)\n",
    "print(num_samples)"
   ]
  },
  {
   "cell_type": "code",
   "execution_count": 156,
   "metadata": {
    "scrolled": true
   },
   "outputs": [
    {
     "name": "stdout",
     "output_type": "stream",
     "text": [
      "cyst has 52 samples for training (3380 after augmentation) and 13 for testing\n",
      "hemangioma has 31 samples for training (2325 after augmentation) and 8 for testing\n",
      "cholangio has 24 samples for training (1680 after augmentation) and 6 for testing\n",
      "hcc has 49 samples for training (3185 after augmentation) and 12 for testing\n"
     ]
    }
   ],
   "source": [
    "train_ids = {} #filenames of training set originals\n",
    "test_ids = {} #filenames of test set\n",
    "X_test = []\n",
    "Y_test = []\n",
    "Z_test = []\n",
    "X_train_orig = []\n",
    "Y_train_orig = []\n",
    "Z_train_orig = []\n",
    "cls_mapping = []\n",
    "\n",
    "train_frac = {\"cyst\": .8, \"fnh\": .8, \"hcc\": .8, \"hemangioma\": .8, 'adenoma': .8, \"colorectal\": .8, \"cholangio\": .8}\n",
    "train_samples = {}\n",
    "\n",
    "for cls_num, cls in enumerate(orig_data_dict):\n",
    "    cls_mapping.append(cls)\n",
    "    \n",
    "    train_samples[cls] = round(num_samples[cls]*train_frac[cls])\n",
    "    \n",
    "    order = np.random.permutation(list(range(num_samples[cls])))\n",
    "    train_ids[cls] = list(orig_data_dict[cls][1][order[:train_samples[cls]]])\n",
    "    test_ids[cls] = list(orig_data_dict[cls][1][order[train_samples[cls]:]])\n",
    "    \n",
    "    X_test = X_test + list(orig_data_dict[cls][0][order[train_samples[cls]:]])\n",
    "    Y_test = Y_test + [[0] * cls_num + [1] + [0] * (C.nb_classes - cls_num - 1)] * \\\n",
    "                        (num_samples[cls] - train_samples[cls])\n",
    "    Z_test = Z_test + list(orig_data_dict[cls][1][order[train_samples[cls]:]])\n",
    "    \n",
    "    X_train_orig = X_train_orig + list(orig_data_dict[cls][0][order[:train_samples[cls]]])\n",
    "    Y_train_orig = Y_train_orig + [[0] * cls_num + [1] + [0] * (C.nb_classes - cls_num - 1)] * \\\n",
    "                        (train_samples[cls])\n",
    "    Z_train_orig = Z_train_orig + list(orig_data_dict[cls][1][order[:train_samples[cls]]])\n",
    "    \n",
    "    print(\"%s has %d samples for training (%d after augmentation) and %d for testing\" %\n",
    "          (cls, train_samples[cls], train_samples[cls] * C.aug_factor[cls], num_samples[cls] - train_samples[cls]))\n",
    "    \n",
    "#Y_test = np_utils.to_categorical(Y_test, C.nb_classes)\n",
    "#Y_train_orig = np_utils.to_categorical(Y_train_orig, C.nb_classes)"
   ]
  },
  {
   "cell_type": "code",
   "execution_count": 157,
   "metadata": {},
   "outputs": [],
   "source": [
    "aug_data_dict = {}\n",
    "\n",
    "for class_name in classes_to_include:#os.listdir(C.aug_dir):\n",
    "    x_train = np.empty((10000, dims[0], dims[1], dims[2], C.nb_channels))\n",
    "    x_val = np.empty((10000, dims[0], dims[1], dims[2], C.nb_channels))\n",
    "    z = []\n",
    "    \n",
    "    train_cnt = 0\n",
    "    val_cnt = 0\n",
    "    for img_fn in os.listdir(C.aug_dir+class_name):\n",
    "        \n",
    "        # part of training set\n",
    "        if \"_\".join(img_fn.split(\"_\")[:2])+\".npy\" in train_ids[class_name]:\n",
    "            try:\n",
    "                x_train[train_cnt] = np.load(C.aug_dir+class_name+\"\\\\\"+img_fn)\n",
    "            except:\n",
    "                #continue\n",
    "                raise ValueError(C.aug_dir+class_name+\"\\\\\"+img_fn + \" cannot be loaded\")\n",
    "            train_cnt += 1\n",
    "            z.append(img_fn)\n",
    "            \n",
    "        else:\n",
    "            try:\n",
    "                x_val[val_cnt] = np.load(C.aug_dir+class_name+\"\\\\\"+img_fn)\n",
    "            except:\n",
    "                #continue\n",
    "                raise ValueError(C.aug_dir+class_name+\"\\\\\"+img_fn + \" cannot be loaded\")\n",
    "            val_cnt += 1\n",
    "    \n",
    "    x_train.resize((train_cnt, dims[0], dims[1], dims[2], C.nb_channels)) #shrink first dimension to fit\n",
    "    x_val.resize((val_cnt, dims[0], dims[1], dims[2], C.nb_channels)) #shrink first dimension to fit\n",
    "    aug_data_dict[class_name] = {'train': [x_train,np.array(z)], 'val': x_val}"
   ]
  },
  {
   "cell_type": "code",
   "execution_count": 158,
   "metadata": {
    "collapsed": true
   },
   "outputs": [],
   "source": [
    "X_train = []\n",
    "Y_train = []\n",
    "Z_train = []\n",
    "X_val = []\n",
    "Y_val = []\n",
    "Z_val = []\n",
    "\n",
    "for cls_num, cls in enumerate(aug_data_dict):\n",
    "    X_train = X_train + list(aug_data_dict[cls]['train'][0])\n",
    "    Y_train = Y_train + [[0] * cls_num + [1] + [0] * (C.nb_classes - cls_num - 1)] * len(aug_data_dict[cls]['train'][0])\n",
    "    Z_train = Z_train + list(aug_data_dict[cls]['train'][1])\n",
    "    \n",
    "    X_val = X_val + list(aug_data_dict[cls]['val'])\n",
    "    Y_val = Y_val + [[0] * cls_num + [1] + [0] * (C.nb_classes - cls_num - 1)] * len(aug_data_dict[cls]['val'])"
   ]
  },
  {
   "cell_type": "markdown",
   "metadata": {
    "collapsed": true
   },
   "source": [
    "Z_cyst = data_dict[\"cyst\"][1]"
   ]
  },
  {
   "cell_type": "markdown",
   "metadata": {},
   "source": [
    "Y_[-4]"
   ]
  },
  {
   "cell_type": "markdown",
   "metadata": {},
   "source": [
    "Z_cyst[-4]"
   ]
  },
  {
   "cell_type": "markdown",
   "metadata": {
    "collapsed": true
   },
   "source": [
    "X_cyst = data_dict[\"cyst\"][0]\n",
    "X_cyst = np.array(X_cyst) # X[:total_size//2]\n",
    "X_cyst /= 255"
   ]
  },
  {
   "cell_type": "markdown",
   "metadata": {
    "collapsed": true
   },
   "source": [
    "X_hcc = data_dict[\"hcc\"][0]\n",
    "X_hcc = np.array(X_hcc) # X[:total_size//2]\n",
    "X_hcc /= 255"
   ]
  },
  {
   "cell_type": "markdown",
   "metadata": {
    "collapsed": true
   },
   "source": [
    "X_train = delete_channel(X_train)\n",
    "X_val = delete_channel(X_val)\n",
    "X_test = delete_channel(X_test)\n",
    "X_train_orig = delete_channel(X_train_orig)"
   ]
  },
  {
   "cell_type": "markdown",
   "metadata": {
    "collapsed": true
   },
   "source": [
    "def delete_channel(X):\n",
    "    return np.expand_dims(np.array(X)[:,:,:,:,0], axis=4)"
   ]
  },
  {
   "cell_type": "code",
   "execution_count": 159,
   "metadata": {
    "collapsed": true
   },
   "outputs": [],
   "source": [
    "def scale_to_one(X, scale_by_channel=True):\n",
    "    X = np.array(X)\n",
    "    def scale_img(x):\n",
    "        return 2 * (x - np.amin(x)) / (np.amax(x) - np.amin(x)) - 1\n",
    "    \n",
    "    if scale_by_channel:\n",
    "        X = [np.stack([scale_img(x[:,:,:,0]), scale_img(x[:,:,:,1]), scale_img(x[:,:,:,2])], axis=3) for x in X]\n",
    "    else:\n",
    "        X = [scale_img(x) for x in X]\n",
    "    \n",
    "    return np.array(X)"
   ]
  },
  {
   "cell_type": "code",
   "execution_count": 160,
   "metadata": {},
   "outputs": [],
   "source": [
    "#scale from -1 to 1\n",
    "X_train = scale_to_one(X_train)\n",
    "X_val = scale_to_one(X_val)\n",
    "X_test = scale_to_one(X_test)\n",
    "X_train_orig = scale_to_one(X_train_orig)\n",
    "\n",
    "Y_train = np.array(Y_train)\n",
    "Y_val = np.array(Y_val)\n",
    "Y_test = np.array(Y_test)\n",
    "Y_train_orig = np.array(Y_train_orig)\n",
    "\n",
    "Z_train = np.array(Z_train)\n",
    "Z_test = np.array(Z_test)\n",
    "Z_train_orig = np.array(Z_train_orig)"
   ]
  },
  {
   "cell_type": "code",
   "execution_count": 130,
   "metadata": {
    "collapsed": true
   },
   "outputs": [],
   "source": [
    "#X = np.array([z for z in x])\n",
    "#Y = np.array(y)\n",
    "#Y = np.array([[0,1] if y[x] == 1 else [1,0] for x in range(len(y))])\n",
    "#Y = K.constant(y, dtype=tf.int32)\n",
    "#Y = K.one_hot(Y, C.nb_classes)\n",
    "\n",
    "#total_size = X.shape[0]\n",
    "\n",
    "#order = np.random.permutation(list(range(total_size)))\n",
    "#X = X[order]\n",
    "#Y = Y[order]"
   ]
  },
  {
   "cell_type": "code",
   "execution_count": 161,
   "metadata": {
    "scrolled": false
   },
   "outputs": [
    {
     "name": "stdout",
     "output_type": "stream",
     "text": [
      "Train on 10570 samples, validate on 2920 samples\n",
      "Epoch 1/200\n",
      "10570/10570 [==============================] - 89s - loss: 0.6728 - acc: 0.7280 - val_loss: 0.9171 - val_acc: 0.7154\n",
      "Epoch 2/200\n",
      "10570/10570 [==============================] - 88s - loss: 0.3783 - acc: 0.8457 - val_loss: 1.2212 - val_acc: 0.7380\n",
      "Epoch 3/200\n",
      "10570/10570 [==============================] - 88s - loss: 0.3037 - acc: 0.8818 - val_loss: 1.3163 - val_acc: 0.7366\n",
      "Epoch 4/200\n",
      "10570/10570 [==============================] - 88s - loss: 0.2448 - acc: 0.9069 - val_loss: 1.0594 - val_acc: 0.7603\n",
      "Epoch 5/200\n",
      "10570/10570 [==============================] - 89s - loss: 0.2151 - acc: 0.9187 - val_loss: 1.1942 - val_acc: 0.7414\n",
      "Epoch 6/200\n",
      "10570/10570 [==============================] - 89s - loss: 0.1723 - acc: 0.9337 - val_loss: 1.1300 - val_acc: 0.7473\n",
      "Epoch 7/200\n",
      "10570/10570 [==============================] - 89s - loss: 0.1654 - acc: 0.9392 - val_loss: 1.1346 - val_acc: 0.7332\n",
      "Epoch 8/200\n",
      "10570/10570 [==============================] - 89s - loss: 0.1270 - acc: 0.9547 - val_loss: 1.1902 - val_acc: 0.7298\n",
      "Epoch 9/200\n",
      "10528/10570 [============================>.] - ETA: 0s - loss: 0.1176 - acc: 0.9586"
     ]
    },
    {
     "ename": "KeyboardInterrupt",
     "evalue": "",
     "output_type": "error",
     "traceback": [
      "\u001b[1;31m---------------------------------------------------------------------------\u001b[0m",
      "\u001b[1;31mKeyboardInterrupt\u001b[0m                         Traceback (most recent call last)",
      "\u001b[1;32m<ipython-input-161-696f26e695db>\u001b[0m in \u001b[0;36m<module>\u001b[1;34m()\u001b[0m\n\u001b[1;32m----> 1\u001b[1;33m \u001b[0mhist\u001b[0m \u001b[1;33m=\u001b[0m \u001b[0mmodel\u001b[0m\u001b[1;33m.\u001b[0m\u001b[0mfit\u001b[0m\u001b[1;33m(\u001b[0m\u001b[0mX_train\u001b[0m\u001b[1;33m,\u001b[0m \u001b[0mY_train\u001b[0m\u001b[1;33m,\u001b[0m \u001b[0mbatch_size\u001b[0m\u001b[1;33m=\u001b[0m\u001b[1;36m32\u001b[0m\u001b[1;33m,\u001b[0m \u001b[0mepochs\u001b[0m\u001b[1;33m=\u001b[0m\u001b[1;36m200\u001b[0m\u001b[1;33m,\u001b[0m \u001b[0mvalidation_data\u001b[0m\u001b[1;33m=\u001b[0m\u001b[1;33m(\u001b[0m\u001b[0mX_val\u001b[0m\u001b[1;33m,\u001b[0m \u001b[0mY_val\u001b[0m\u001b[1;33m)\u001b[0m\u001b[1;33m)\u001b[0m \u001b[1;31m#callbacks=[early_stopping]\u001b[0m\u001b[1;33m\u001b[0m\u001b[0m\n\u001b[0m",
      "\u001b[1;32m~\\AppData\\Local\\conda\\conda\\envs\\old-keras\\lib\\site-packages\\keras\\engine\\training.py\u001b[0m in \u001b[0;36mfit\u001b[1;34m(self, x, y, batch_size, epochs, verbose, callbacks, validation_split, validation_data, shuffle, class_weight, sample_weight, initial_epoch, **kwargs)\u001b[0m\n\u001b[0;32m   1428\u001b[0m                               \u001b[0mval_f\u001b[0m\u001b[1;33m=\u001b[0m\u001b[0mval_f\u001b[0m\u001b[1;33m,\u001b[0m \u001b[0mval_ins\u001b[0m\u001b[1;33m=\u001b[0m\u001b[0mval_ins\u001b[0m\u001b[1;33m,\u001b[0m \u001b[0mshuffle\u001b[0m\u001b[1;33m=\u001b[0m\u001b[0mshuffle\u001b[0m\u001b[1;33m,\u001b[0m\u001b[1;33m\u001b[0m\u001b[0m\n\u001b[0;32m   1429\u001b[0m                               \u001b[0mcallback_metrics\u001b[0m\u001b[1;33m=\u001b[0m\u001b[0mcallback_metrics\u001b[0m\u001b[1;33m,\u001b[0m\u001b[1;33m\u001b[0m\u001b[0m\n\u001b[1;32m-> 1430\u001b[1;33m                               initial_epoch=initial_epoch)\n\u001b[0m\u001b[0;32m   1431\u001b[0m \u001b[1;33m\u001b[0m\u001b[0m\n\u001b[0;32m   1432\u001b[0m     \u001b[1;32mdef\u001b[0m \u001b[0mevaluate\u001b[0m\u001b[1;33m(\u001b[0m\u001b[0mself\u001b[0m\u001b[1;33m,\u001b[0m \u001b[0mx\u001b[0m\u001b[1;33m,\u001b[0m \u001b[0my\u001b[0m\u001b[1;33m,\u001b[0m \u001b[0mbatch_size\u001b[0m\u001b[1;33m=\u001b[0m\u001b[1;36m32\u001b[0m\u001b[1;33m,\u001b[0m \u001b[0mverbose\u001b[0m\u001b[1;33m=\u001b[0m\u001b[1;36m1\u001b[0m\u001b[1;33m,\u001b[0m \u001b[0msample_weight\u001b[0m\u001b[1;33m=\u001b[0m\u001b[1;32mNone\u001b[0m\u001b[1;33m)\u001b[0m\u001b[1;33m:\u001b[0m\u001b[1;33m\u001b[0m\u001b[0m\n",
      "\u001b[1;32m~\\AppData\\Local\\conda\\conda\\envs\\old-keras\\lib\\site-packages\\keras\\engine\\training.py\u001b[0m in \u001b[0;36m_fit_loop\u001b[1;34m(self, f, ins, out_labels, batch_size, epochs, verbose, callbacks, val_f, val_ins, shuffle, callback_metrics, initial_epoch)\u001b[0m\n\u001b[0;32m   1077\u001b[0m                 \u001b[0mbatch_logs\u001b[0m\u001b[1;33m[\u001b[0m\u001b[1;34m'size'\u001b[0m\u001b[1;33m]\u001b[0m \u001b[1;33m=\u001b[0m \u001b[0mlen\u001b[0m\u001b[1;33m(\u001b[0m\u001b[0mbatch_ids\u001b[0m\u001b[1;33m)\u001b[0m\u001b[1;33m\u001b[0m\u001b[0m\n\u001b[0;32m   1078\u001b[0m                 \u001b[0mcallbacks\u001b[0m\u001b[1;33m.\u001b[0m\u001b[0mon_batch_begin\u001b[0m\u001b[1;33m(\u001b[0m\u001b[0mbatch_index\u001b[0m\u001b[1;33m,\u001b[0m \u001b[0mbatch_logs\u001b[0m\u001b[1;33m)\u001b[0m\u001b[1;33m\u001b[0m\u001b[0m\n\u001b[1;32m-> 1079\u001b[1;33m                 \u001b[0mouts\u001b[0m \u001b[1;33m=\u001b[0m \u001b[0mf\u001b[0m\u001b[1;33m(\u001b[0m\u001b[0mins_batch\u001b[0m\u001b[1;33m)\u001b[0m\u001b[1;33m\u001b[0m\u001b[0m\n\u001b[0m\u001b[0;32m   1080\u001b[0m                 \u001b[1;32mif\u001b[0m \u001b[1;32mnot\u001b[0m \u001b[0misinstance\u001b[0m\u001b[1;33m(\u001b[0m\u001b[0mouts\u001b[0m\u001b[1;33m,\u001b[0m \u001b[0mlist\u001b[0m\u001b[1;33m)\u001b[0m\u001b[1;33m:\u001b[0m\u001b[1;33m\u001b[0m\u001b[0m\n\u001b[0;32m   1081\u001b[0m                     \u001b[0mouts\u001b[0m \u001b[1;33m=\u001b[0m \u001b[1;33m[\u001b[0m\u001b[0mouts\u001b[0m\u001b[1;33m]\u001b[0m\u001b[1;33m\u001b[0m\u001b[0m\n",
      "\u001b[1;32m~\\AppData\\Local\\conda\\conda\\envs\\old-keras\\lib\\site-packages\\keras\\backend\\tensorflow_backend.py\u001b[0m in \u001b[0;36m__call__\u001b[1;34m(self, inputs)\u001b[0m\n\u001b[0;32m   2266\u001b[0m         updated = session.run(self.outputs + [self.updates_op],\n\u001b[0;32m   2267\u001b[0m                               \u001b[0mfeed_dict\u001b[0m\u001b[1;33m=\u001b[0m\u001b[0mfeed_dict\u001b[0m\u001b[1;33m,\u001b[0m\u001b[1;33m\u001b[0m\u001b[0m\n\u001b[1;32m-> 2268\u001b[1;33m                               **self.session_kwargs)\n\u001b[0m\u001b[0;32m   2269\u001b[0m         \u001b[1;32mreturn\u001b[0m \u001b[0mupdated\u001b[0m\u001b[1;33m[\u001b[0m\u001b[1;33m:\u001b[0m\u001b[0mlen\u001b[0m\u001b[1;33m(\u001b[0m\u001b[0mself\u001b[0m\u001b[1;33m.\u001b[0m\u001b[0moutputs\u001b[0m\u001b[1;33m)\u001b[0m\u001b[1;33m]\u001b[0m\u001b[1;33m\u001b[0m\u001b[0m\n\u001b[0;32m   2270\u001b[0m \u001b[1;33m\u001b[0m\u001b[0m\n",
      "\u001b[1;32m~\\AppData\\Local\\conda\\conda\\envs\\old-keras\\lib\\site-packages\\tensorflow\\python\\client\\session.py\u001b[0m in \u001b[0;36mrun\u001b[1;34m(self, fetches, feed_dict, options, run_metadata)\u001b[0m\n\u001b[0;32m    893\u001b[0m     \u001b[1;32mtry\u001b[0m\u001b[1;33m:\u001b[0m\u001b[1;33m\u001b[0m\u001b[0m\n\u001b[0;32m    894\u001b[0m       result = self._run(None, fetches, feed_dict, options_ptr,\n\u001b[1;32m--> 895\u001b[1;33m                          run_metadata_ptr)\n\u001b[0m\u001b[0;32m    896\u001b[0m       \u001b[1;32mif\u001b[0m \u001b[0mrun_metadata\u001b[0m\u001b[1;33m:\u001b[0m\u001b[1;33m\u001b[0m\u001b[0m\n\u001b[0;32m    897\u001b[0m         \u001b[0mproto_data\u001b[0m \u001b[1;33m=\u001b[0m \u001b[0mtf_session\u001b[0m\u001b[1;33m.\u001b[0m\u001b[0mTF_GetBuffer\u001b[0m\u001b[1;33m(\u001b[0m\u001b[0mrun_metadata_ptr\u001b[0m\u001b[1;33m)\u001b[0m\u001b[1;33m\u001b[0m\u001b[0m\n",
      "\u001b[1;32m~\\AppData\\Local\\conda\\conda\\envs\\old-keras\\lib\\site-packages\\tensorflow\\python\\client\\session.py\u001b[0m in \u001b[0;36m_run\u001b[1;34m(self, handle, fetches, feed_dict, options, run_metadata)\u001b[0m\n\u001b[0;32m   1091\u001b[0m             \u001b[0mfeed_handles\u001b[0m\u001b[1;33m[\u001b[0m\u001b[0msubfeed_t\u001b[0m\u001b[1;33m]\u001b[0m \u001b[1;33m=\u001b[0m \u001b[0msubfeed_val\u001b[0m\u001b[1;33m\u001b[0m\u001b[0m\n\u001b[0;32m   1092\u001b[0m           \u001b[1;32melse\u001b[0m\u001b[1;33m:\u001b[0m\u001b[1;33m\u001b[0m\u001b[0m\n\u001b[1;32m-> 1093\u001b[1;33m             \u001b[0mnp_val\u001b[0m \u001b[1;33m=\u001b[0m \u001b[0mnp\u001b[0m\u001b[1;33m.\u001b[0m\u001b[0masarray\u001b[0m\u001b[1;33m(\u001b[0m\u001b[0msubfeed_val\u001b[0m\u001b[1;33m,\u001b[0m \u001b[0mdtype\u001b[0m\u001b[1;33m=\u001b[0m\u001b[0msubfeed_dtype\u001b[0m\u001b[1;33m)\u001b[0m\u001b[1;33m\u001b[0m\u001b[0m\n\u001b[0m\u001b[0;32m   1094\u001b[0m \u001b[1;33m\u001b[0m\u001b[0m\n\u001b[0;32m   1095\u001b[0m           if (not is_tensor_handle_feed and\n",
      "\u001b[1;32m~\\AppData\\Local\\conda\\conda\\envs\\old-keras\\lib\\site-packages\\numpy\\core\\numeric.py\u001b[0m in \u001b[0;36masarray\u001b[1;34m(a, dtype, order)\u001b[0m\n\u001b[0;32m    529\u001b[0m \u001b[1;33m\u001b[0m\u001b[0m\n\u001b[0;32m    530\u001b[0m     \"\"\"\n\u001b[1;32m--> 531\u001b[1;33m     \u001b[1;32mreturn\u001b[0m \u001b[0marray\u001b[0m\u001b[1;33m(\u001b[0m\u001b[0ma\u001b[0m\u001b[1;33m,\u001b[0m \u001b[0mdtype\u001b[0m\u001b[1;33m,\u001b[0m \u001b[0mcopy\u001b[0m\u001b[1;33m=\u001b[0m\u001b[1;32mFalse\u001b[0m\u001b[1;33m,\u001b[0m \u001b[0morder\u001b[0m\u001b[1;33m=\u001b[0m\u001b[0morder\u001b[0m\u001b[1;33m)\u001b[0m\u001b[1;33m\u001b[0m\u001b[0m\n\u001b[0m\u001b[0;32m    532\u001b[0m \u001b[1;33m\u001b[0m\u001b[0m\n\u001b[0;32m    533\u001b[0m \u001b[1;33m\u001b[0m\u001b[0m\n",
      "\u001b[1;31mKeyboardInterrupt\u001b[0m: "
     ]
    }
   ],
   "source": [
    "hist = model.fit(X_train, Y_train, batch_size=32, epochs=200, validation_data=(X_val, Y_val)) #callbacks=[early_stopping]"
   ]
  },
  {
   "cell_type": "markdown",
   "metadata": {},
   "source": [
    "def train_generator(X, Y):\n",
    "    while True:\n",
    "        for i in range(len(X)):\n",
    "            yield np.expand_dims(X[i], axis=0), np.expand_dims(Y[i], axis=0)"
   ]
  },
  {
   "cell_type": "markdown",
   "metadata": {},
   "source": [
    "num_epochs = 10\n",
    "epoch_length = 100\n",
    "best_loss = np.Inf\n",
    "losses = np.zeros(epoch_length)\n",
    "acc = np.zeros(epoch_length)\n",
    "\n",
    "data_gen_train = train_generator(X_train, Y_train)\n",
    "for epoch_num in range(num_epochs):\n",
    "    print('Epoch {}/{}'.format(epoch_num + 1, num_epochs))\n",
    "    iter_num = 0\n",
    "    \n",
    "    while True:\n",
    "        X, Y = next(data_gen_train)\n",
    "        losses[iter_num], acc[iter_num] = model.train_on_batch(X, Y)\n",
    "\n",
    "        iter_num += 1\n",
    "        if iter_num == epoch_length:\n",
    "            curr_loss = np.mean(losses)\n",
    "            curr_acc = np.mean(acc)\n",
    "            print(\"Mean Loss:\", curr_loss, \"// Mean Accuracy:\", curr_acc)\n",
    "\n",
    "            if curr_loss < best_loss:\n",
    "                print('Total loss decreased from {} to {}, saving weights'.format(best_loss,curr_loss))\n",
    "                best_loss = curr_loss\n",
    "                model.save_weights(C.model_path)\n",
    "            break"
   ]
  },
  {
   "cell_type": "code",
   "execution_count": 200,
   "metadata": {
    "scrolled": true
   },
   "outputs": [
    {
     "name": "stdout",
     "output_type": "stream",
     "text": [
      "(293, 293, 75, 2)\n",
      "(213, 213, 55, 2)\n"
     ]
    }
   ],
   "source": [
    "plot_2ch_with_bbox(\"E100738220_0.npy\", \"idk\", pad=30, draw_bbox=True, save_dir=\"classified_imgs\")"
   ]
  },
  {
   "cell_type": "code",
   "execution_count": 132,
   "metadata": {
    "collapsed": true
   },
   "outputs": [],
   "source": [
    "voi_df_art = pd.read_csv(C.art_voi_path)\n",
    "voi_df_ven = pd.read_csv(C.ven_voi_path)\n",
    "voi_df_eq = pd.read_csv(C.eq_voi_path)"
   ]
  },
  {
   "cell_type": "code",
   "execution_count": 139,
   "metadata": {
    "collapsed": true
   },
   "outputs": [],
   "source": [
    "def plot_multich_with_bbox(fn, wrong_class, num_ch, pad=15, draw_bbox=True, save_dir=None):\n",
    "    z = re.search(r'^(.*)_(\\d*)\\.', fn)\n",
    "    voi_df_ven[\"id\"] = voi_df_ven[\"id\"].astype(str)\n",
    "    \n",
    "    img_fn = z.group(1) + \".npy\"\n",
    "    voi = voi_df_art[voi_df_art[\"Filename\"] == img_fn].iloc[int(z.group(2))]\n",
    "    \n",
    "    img = np.load(C.full_img_dir+\"\\\\\"+img_fn)\n",
    "    ven_voi = voi_df_ven[voi_df_ven[\"id\"] == str(voi[\"id\"])]\n",
    "    if len(ven_voi) > 0:\n",
    "        img = hf.align(img, voi, ven_voi.iloc[0], 1)\n",
    "        \n",
    "    if num_ch >= 3:\n",
    "        eq_voi = voi_df_eq[voi_df_eq[\"id\"] == str(voi[\"id\"])]\n",
    "        if len(eq_voi) > 0:\n",
    "            img = hf.align(img, voi, eq_voi.iloc[0], 2)\n",
    "        \n",
    "    crop_size = C.dims\n",
    "    \n",
    "    #pad_img, x1, x2, y1, y2, z1, z2 = get_\n",
    "    exceed_ratio = max(voi['dx']/crop_size[0], voi['dy']/crop_size[1], voi['dz']/crop_size[2]) / 1\n",
    "    if exceed_ratio > 1:\n",
    "        img = tr.scale3d(img, [1/exceed_ratio]*3)\n",
    "        x1 = round(voi['x1'] / exceed_ratio)\n",
    "        x2 = round(voi['x2'] / exceed_ratio)\n",
    "        y1 = round(voi['y1'] / exceed_ratio)\n",
    "        y2 = round(voi['y2'] / exceed_ratio)\n",
    "        z1 = round(voi['z1'] / exceed_ratio)\n",
    "        z2 = round(voi['z2'] / exceed_ratio)\n",
    "    else:\n",
    "        x1 = voi['x1']\n",
    "        x2 = voi['x2']\n",
    "        y1 = voi['y1']\n",
    "        y2 = voi['y2']\n",
    "        z1 = voi['z1']\n",
    "        z2 = voi['z2']\n",
    "        \n",
    "    dx = x2 - x1\n",
    "    dy = y2 - y1\n",
    "    dz = z2 - z1\n",
    "        \n",
    "    xpad = max(crop_size[0] - dx, 0)\n",
    "    ypad = max(crop_size[1] - dy, 0)\n",
    "    zpad = max(crop_size[2] - dz, 0)\n",
    "\n",
    "    side_padding = math.ceil(max(xpad, ypad, zpad) / 2)\n",
    "\n",
    "    pad_img = []\n",
    "\n",
    "    for ch in range(img.shape[-1]):\n",
    "        pad_img.append(np.pad(img[:,:,:,ch], side_padding, 'constant'))\n",
    "\n",
    "    pad_img = np.stack(pad_img, axis=3)\n",
    "\n",
    "    x1 += side_padding - math.ceil(xpad/2)\n",
    "    x2 += side_padding + math.floor(xpad/2)\n",
    "    y1 += side_padding - math.ceil(ypad/2)\n",
    "    y2 += side_padding + math.floor(ypad/2)\n",
    "    z1 += side_padding - math.ceil(zpad/2)\n",
    "    z2 += side_padding + math.floor(zpad/2)\n",
    "    \n",
    "    x1=int(x1)\n",
    "    x2=int(x2)\n",
    "    y1=int(y1)\n",
    "    y2=int(y2)\n",
    "    z1=int(z1)\n",
    "    z2=int(z2)\n",
    "\n",
    "    slice_num = (z1+z2)//2\n",
    "    img_slice = pad_img[:,:, slice_num, :]\n",
    "    for ch in range(img_slice.shape[-1]):\n",
    "        img_slice[:, :, ch] *= 255/np.amax(img_slice[:, :, ch])\n",
    "    img_slice = np.stack([img_slice, img_slice, img_slice], axis=2)\n",
    "    \n",
    "    if draw_bbox:\n",
    "        img_slice[x1:x2, y2, 2, :] = 255\n",
    "        img_slice[x1:x2, y2, :2, :] = 0\n",
    "        \n",
    "        img_slice[x1:x2, y1, 2, :] = 255\n",
    "        img_slice[x1:x2, y1, :2, :] = 0\n",
    "        \n",
    "        img_slice[x1, y1:y2, 2, :] = 255\n",
    "        img_slice[x1, y1:y2, :2, :] = 0\n",
    "        \n",
    "        img_slice[x2, y1:y2, 2, :] = 255\n",
    "        img_slice[x2, y1:y2, :2, :] = 0\n",
    "        \n",
    "    plot_section_multich(img_slice, [x1,x2,y1,y2], fn, num_ch, save_dir=save_dir+\"\\\\\"+voi['cls'], wrong_class=wrong_class, pad=pad)"
   ]
  },
  {
   "cell_type": "code",
   "execution_count": 140,
   "metadata": {
    "collapsed": true
   },
   "outputs": [],
   "source": [
    "def plot_section_multich(img_slice, coords, fn, num_ch, save_dir=None, wrong_class=None, pad=15):\n",
    "    #plt.subplot(121)\n",
    "    if not os.path.exists(save_dir):\n",
    "        os.makedirs(save_dir)\n",
    "        \n",
    "    ch1 = np.transpose(get_cropped_slice(img_slice[:,:,:,0], coords, pad), (1,0,2))\n",
    "    ch2 = np.transpose(get_cropped_slice(img_slice[:,:,:,1], coords, pad), (1,0,2))\n",
    "    \n",
    "    if num_ch == 2:\n",
    "        ret = np.empty([ch1.shape[0]*2, ch1.shape[1], 3])\n",
    "        ret[:ch1.shape[0],:,:] = ch1\n",
    "        ret[ch1.shape[0]:,:,:] = ch2\n",
    "        \n",
    "    elif num_ch == 3:\n",
    "        ch3 = np.transpose(get_cropped_slice(img_slice[:,:,:,2], coords, pad), (1,0,2))\n",
    "\n",
    "        ret = np.empty([ch1.shape[0]*3, ch1.shape[1], 3])\n",
    "        ret[:ch1.shape[0],:,:] = ch1\n",
    "        ret[ch1.shape[0]:ch1.shape[0]*2,:,:] = ch2\n",
    "        ret[ch1.shape[0]*2:,:,:] = ch3\n",
    "        \n",
    "    else:\n",
    "        raise ValueError(\"Invalid num channels\")\n",
    "        \n",
    "    imsave(\"%s\\\\%s (pred %s).png\" % (save_dir, fn[:-3], wrong_class), ret)"
   ]
  },
  {
   "cell_type": "code",
   "execution_count": 141,
   "metadata": {
    "collapsed": true
   },
   "outputs": [],
   "source": [
    "def get_cropped_slice(img_slice, coords, pad):\n",
    "    x1 = max(coords[0]-pad, 0)\n",
    "    x2 = min(coords[1]+pad, img_slice.shape[0])\n",
    "    y1 = max(coords[2]-pad, 0)\n",
    "    y2 = min(coords[3]+pad, img_slice.shape[1])\n",
    "    \n",
    "    return img_slice[x1:x2, y2:y1:-1]"
   ]
  },
  {
   "cell_type": "code",
   "execution_count": 142,
   "metadata": {
    "collapsed": true
   },
   "outputs": [],
   "source": [
    "def condense_cm(y_true, y_pred, cls_mapping):\n",
    "    simplify_map = {'hcc': 0, 'cyst': 1, 'hemangioma': 1, 'fnh': 1, 'cholangio': 2, 'colorectal': 2}\n",
    "    y_true_simp = np.array([simplify_map[cls_mapping[y]] for y in y_true])\n",
    "    y_pred_simp = np.array([simplify_map[cls_mapping[y]] for y in y_pred])\n",
    "    \n",
    "    return y_true_simp, y_pred_simp, ['hcc', 'benign', 'malignant non-hcc']"
   ]
  },
  {
   "cell_type": "code",
   "execution_count": 143,
   "metadata": {
    "collapsed": true
   },
   "outputs": [],
   "source": [
    "def save_output(Z, y_pred, cls_mapping):\n",
    "    save_dir = \"classified_imgs\"\n",
    "    if not os.path.exists(save_dir):\n",
    "        os.makedirs(save_dir)\n",
    "    if not os.path.exists(save_dir + \"\\\\correct\"):\n",
    "        os.makedirs(save_dir + \"\\\\correct\")\n",
    "    else:\n",
    "        print(\"images may already exist...\")\n",
    "    if not os.path.exists(save_dir + \"\\\\incorrect\"):\n",
    "        os.makedirs(save_dir + \"\\\\incorrect\")\n",
    "\n",
    "    for i in range(len(Z)):\n",
    "        if y_pred[i] != y_true[i]:\n",
    "            plot_multich_with_bbox(Z[i], cls_mapping[y_pred[i]], num_ch=3, pad=30, draw_bbox=True, save_dir=save_dir + \"\\\\incorrect\")\n",
    "        else:\n",
    "            plot_multich_with_bbox(Z[i], cls_mapping[y_pred[i]], num_ch=3, pad=30, draw_bbox=True, save_dir=save_dir + \"\\\\correct\")  "
   ]
  },
  {
   "cell_type": "code",
   "execution_count": 144,
   "metadata": {
    "scrolled": true
   },
   "outputs": [
    {
     "name": "stdout",
     "output_type": "stream",
     "text": [
      "images may already exist...\n"
     ]
    }
   ],
   "source": [
    "#plot_with_bbox(fn_list[2], cls_mapping[wrong_guesses[2]])\n",
    "Y_pred = model.predict(X_test)\n",
    "y_true = np.array([max(enumerate(x), key=operator.itemgetter(1))[0] for x in Y_test])\n",
    "y_pred = np.array([max(enumerate(x), key=operator.itemgetter(1))[0] for x in Y_pred])\n",
    "\n",
    "cm = confusion_matrix(y_true, y_pred)\n",
    "f1 = f1_score(y_true, y_pred, average=\"weighted\")\n",
    "\n",
    "save_output(Z_test, y_pred, cls_mapping)"
   ]
  },
  {
   "cell_type": "code",
   "execution_count": 145,
   "metadata": {
    "scrolled": true
   },
   "outputs": [],
   "source": [
    "Y_pred = model.predict(X_train_orig)\n",
    "y_true = np.array([max(enumerate(x), key=operator.itemgetter(1))[0] for x in Y_train_orig])\n",
    "y_pred = np.array([max(enumerate(x), key=operator.itemgetter(1))[0] for x in Y_pred])\n",
    "\n",
    "cm = confusion_matrix(y_true, y_pred)\n",
    "f1 = f1_score(y_true, y_pred, average=\"weighted\")\n",
    "\n",
    "for i in range(len(Z_train_orig)):\n",
    "    if y_pred[i] != y_true[i]:\n",
    "        plot_multich_with_bbox(Z_train_orig[i], cls_mapping[y_pred[i]], num_ch=3, pad=30, draw_bbox=True, save_dir=save_dir + \"\\\\incorrect\")\n",
    "    else:\n",
    "        plot_multich_with_bbox(Z_train_orig[i], cls_mapping[y_pred[i]], num_ch=3, pad=30, draw_bbox=True, save_dir=save_dir + \"\\\\correct\") "
   ]
  },
  {
   "cell_type": "code",
   "execution_count": 146,
   "metadata": {
    "collapsed": true
   },
   "outputs": [],
   "source": [
    "simplify_map = {'hcc': 0, 'cyst': 1, 'hemangioma': 1, 'fnh': 1, 'cholangio': 2, 'colorectal': 2}"
   ]
  },
  {
   "cell_type": "code",
   "execution_count": 147,
   "metadata": {
    "collapsed": true
   },
   "outputs": [],
   "source": [
    "y_true_simp, y_pred_simp, _ = condense_cm(y_true, y_pred, cls_mapping)"
   ]
  },
  {
   "cell_type": "code",
   "execution_count": 20,
   "metadata": {},
   "outputs": [
    {
     "data": {
      "text/plain": [
       "['cyst', 'hcc', 'hemangioma']"
      ]
     },
     "execution_count": 20,
     "metadata": {},
     "output_type": "execute_result"
    }
   ],
   "source": [
    "cls_mapping"
   ]
  },
  {
   "cell_type": "code",
   "execution_count": 115,
   "metadata": {
    "scrolled": true
   },
   "outputs": [
    {
     "data": {
      "text/plain": [
       "array([[6, 1, 3, 0],\n",
       "       [3, 3, 0, 0],\n",
       "       [0, 0, 4, 0],\n",
       "       [0, 0, 2, 7]], dtype=int64)"
      ]
     },
     "execution_count": 115,
     "metadata": {},
     "output_type": "execute_result"
    }
   ],
   "source": [
    "cm"
   ]
  },
  {
   "cell_type": "code",
   "execution_count": 148,
   "metadata": {},
   "outputs": [
    {
     "data": {
      "text/plain": [
       "0.87820512820512819"
      ]
     },
     "execution_count": 148,
     "metadata": {},
     "output_type": "execute_result"
    }
   ],
   "source": [
    "accuracy_score(y_true_simp, y_pred_simp)"
   ]
  },
  {
   "cell_type": "code",
   "execution_count": 116,
   "metadata": {},
   "outputs": [
    {
     "data": {
      "text/plain": [
       "0.68965517241379315"
      ]
     },
     "execution_count": 116,
     "metadata": {},
     "output_type": "execute_result"
    }
   ],
   "source": [
    "accuracy_score(y_true, y_pred)"
   ]
  },
  {
   "cell_type": "markdown",
   "metadata": {
    "collapsed": true
   },
   "source": [
    "def plot_1ch_with_bbox(fn, wrong_class, pad=15, draw_bbox=False, save_dir=None):\n",
    "    voi_df = pd.read_csv('vois.csv')\n",
    "    z = re.search(r'^(.*)_(\\d*)\\.', fn)\n",
    "    \n",
    "    img_fn = z.group(1) + \".npy\"\n",
    "    df = voi_df[voi_df[\"Filename\"] == img_fn].iloc[int(z.group(2))]\n",
    "    \n",
    "    img = np.load(\"full_imgs\\\\\"+img_fn)\n",
    "    #if\n",
    "    slice_num = (df['z1']+df['z2'])//2\n",
    "    img_slice = img[:,:, slice_num, 0]\n",
    "    img_slice = np.stack([img_slice, img_slice, img_slice], axis=2)\n",
    "    \n",
    "    if draw_bbox:\n",
    "        img_slice[df['x1']:df['x2'], df['y2'], 0] = 1\n",
    "        img_slice[df['x1']:df['x2'], df['y2'], 1:] = 0\n",
    "        \n",
    "        img_slice[df['x1']:df['x2'], df['y1'], 0] = 1\n",
    "        img_slice[df['x1']:df['x2'], df['y1'], 1:] = 0\n",
    "        \n",
    "        img_slice[df['x1'], df['y1']:df['y2'], 0] = 1\n",
    "        img_slice[df['x1'], df['y1']:df['y2'], 1:] = 0\n",
    "        \n",
    "        img_slice[df['x2'], df['y1']:df['y2'], 0] = 1\n",
    "        img_slice[df['x2'], df['y1']:df['y2'], 1:] = 0\n",
    "        \n",
    "    if save_dir is None:\n",
    "        plot_section(img_slice, df, fn, pad=pad)\n",
    "    else:\n",
    "        plot_section(img_slice, df, fn, save_dir=save_dir+\"\\\\\"+df['cls'], wrong_class=wrong_class, pad=pad, noshow=True)"
   ]
  },
  {
   "cell_type": "code",
   "execution_count": 365,
   "metadata": {
    "collapsed": true
   },
   "outputs": [],
   "source": [
    "fn_list = Z_test[~np.equal(y_pred, y_true)]\n",
    "wrong_guesses = np.array(y_pred)[~np.equal(y_pred, y_true)]"
   ]
  },
  {
   "cell_type": "markdown",
   "metadata": {
    "collapsed": true
   },
   "source": [
    "def plot_section(img_slice, row, fn, save_dir=None, wrong_class=None, pad=15, noshow=False):\n",
    "    #plt.subplot(121)\n",
    "    if noshow:\n",
    "        ret = np.transpose(get_cropped_slice(img_slice, row, pad), (1,0,2))\n",
    "        if not os.path.exists(save_dir):\n",
    "            os.makedirs(save_dir)\n",
    "        imsave(\"%s\\\\%s (pred %s).png\" % (save_dir, fn[:-3], wrong_class), ret)\n",
    "        \n",
    "    else:\n",
    "        ret = np.transpose(get_cropped_slice(img_slice[:,:,0], row, pad), (1,0))\n",
    "        plt.imshow(ret, cmap='gray')\n",
    "    #plt.subplot(122)"
   ]
  },
  {
   "cell_type": "code",
   "execution_count": 409,
   "metadata": {
    "scrolled": true
   },
   "outputs": [
    {
     "data": {
      "text/plain": [
       "array(['E100815762_0.npy', '12239513_0.npy', '12042703_2.npy'],\n",
       "      dtype='<U16')"
      ]
     },
     "execution_count": 409,
     "metadata": {},
     "output_type": "execute_result"
    }
   ],
   "source": [
    "Z_test[~np.equal(y_pred, y_true)]"
   ]
  },
  {
   "cell_type": "code",
   "execution_count": 380,
   "metadata": {
    "scrolled": true
   },
   "outputs": [
    {
     "data": {
      "text/plain": [
       "array(['E105152534_0.npy', '13166464_0.npy', '12789019_1.npy',\n",
       "       'E103514998_0.npy', 'E104430882_0.npy', '13064153_0.npy',\n",
       "       '12857716_0.npy', '13064153_1.npy', 'E100718398_0.npy',\n",
       "       'E101636006_0.npy', 'E105464882_0.npy', '12239513_0.npy',\n",
       "       '12229245_0.npy', '12302576_2.npy', '12302576_0.npy'],\n",
       "      dtype='<U16')"
      ]
     },
     "execution_count": 380,
     "metadata": {},
     "output_type": "execute_result"
    }
   ],
   "source": [
    "Z_test"
   ]
  },
  {
   "cell_type": "code",
   "execution_count": null,
   "metadata": {
    "collapsed": true
   },
   "outputs": [],
   "source": []
  },
  {
   "cell_type": "code",
   "execution_count": 159,
   "metadata": {
    "collapsed": true
   },
   "outputs": [],
   "source": [
    "activ = model2.predict(X_train)\n",
    "#activ = model2.predict(np.expand_dims(X_train[10],axis=0))"
   ]
  },
  {
   "cell_type": "code",
   "execution_count": 316,
   "metadata": {
    "scrolled": true
   },
   "outputs": [
    {
     "name": "stdout",
     "output_type": "stream",
     "text": [
      "Predictions: ['hcc (95.75861% confidence)', 'hcc (99.98515% confidence)', 'hcc (56.77554% confidence)', 'hcc (97.68384% confidence)', 'hcc (96.73136% confidence)', 'hcc (99.99979% confidence)', 'hcc (99.99988% confidence)', 'hcc (99.71866% confidence)', 'cyst (63.61439% confidence)', 'cyst (51.41591% confidence)', 'hcc (99.65365% confidence)', 'hcc (52.72004% confidence)', 'hcc (57.44457% confidence)', 'cyst (99.82330% confidence)', 'cyst (83.69393% confidence)']\n"
     ]
    }
   ],
   "source": [
    "import operator\n",
    "#print(\"Ground truth:\", [cls_mapping[max(enumerate(x), key=operator.itemgetter(1))[0]] for x in Y_val[::30]])\n",
    "Y_ = model.predict(X_test)\n",
    "print(\"Predictions:\", [cls_mapping[max(enumerate(x), key=operator.itemgetter(1))[0]] + \" (%.5f%% confidence)\" % (max(x)*100) for x in Y_])"
   ]
  },
  {
   "cell_type": "code",
   "execution_count": 21,
   "metadata": {},
   "outputs": [
    {
     "data": {
      "text/html": [
       "<div>\n",
       "<style>\n",
       "    .dataframe thead tr:only-child th {\n",
       "        text-align: right;\n",
       "    }\n",
       "\n",
       "    .dataframe thead th {\n",
       "        text-align: left;\n",
       "    }\n",
       "\n",
       "    .dataframe tbody tr th {\n",
       "        vertical-align: top;\n",
       "    }\n",
       "</style>\n",
       "<table border=\"1\" class=\"dataframe\">\n",
       "  <thead>\n",
       "    <tr style=\"text-align: right;\">\n",
       "      <th></th>\n",
       "      <th>Filename</th>\n",
       "      <th>x1</th>\n",
       "      <th>x2</th>\n",
       "      <th>y1</th>\n",
       "      <th>y2</th>\n",
       "      <th>z1</th>\n",
       "      <th>z2</th>\n",
       "      <th>cls</th>\n",
       "      <th>flipz</th>\n",
       "      <th>dx</th>\n",
       "      <th>dy</th>\n",
       "      <th>dz</th>\n",
       "      <th>id</th>\n",
       "    </tr>\n",
       "  </thead>\n",
       "  <tbody>\n",
       "    <tr>\n",
       "      <th>119</th>\n",
       "      <td>12673726.npy</td>\n",
       "      <td>105</td>\n",
       "      <td>134</td>\n",
       "      <td>76</td>\n",
       "      <td>101</td>\n",
       "      <td>40</td>\n",
       "      <td>53</td>\n",
       "      <td>hemangioma</td>\n",
       "      <td>True</td>\n",
       "      <td>29</td>\n",
       "      <td>25</td>\n",
       "      <td>13</td>\n",
       "      <td>126737261057640</td>\n",
       "    </tr>\n",
       "    <tr>\n",
       "      <th>120</th>\n",
       "      <td>12673726.npy</td>\n",
       "      <td>127</td>\n",
       "      <td>139</td>\n",
       "      <td>103</td>\n",
       "      <td>117</td>\n",
       "      <td>44</td>\n",
       "      <td>51</td>\n",
       "      <td>hemangioma</td>\n",
       "      <td>True</td>\n",
       "      <td>12</td>\n",
       "      <td>14</td>\n",
       "      <td>7</td>\n",
       "      <td>1267372612710344</td>\n",
       "    </tr>\n",
       "  </tbody>\n",
       "</table>\n",
       "</div>"
      ],
      "text/plain": [
       "         Filename   x1   x2   y1   y2  z1  z2         cls  flipz  dx  dy  dz  \\\n",
       "119  12673726.npy  105  134   76  101  40  53  hemangioma   True  29  25  13   \n",
       "120  12673726.npy  127  139  103  117  44  51  hemangioma   True  12  14   7   \n",
       "\n",
       "                   id  \n",
       "119   126737261057640  \n",
       "120  1267372612710344  "
      ]
     },
     "execution_count": 21,
     "metadata": {},
     "output_type": "execute_result"
    }
   ],
   "source": [
    "voi_df_art[voi_df_art[\"Filename\"] == \"12673726.npy\"]"
   ]
  },
  {
   "cell_type": "code",
   "execution_count": 22,
   "metadata": {
    "scrolled": true
   },
   "outputs": [
    {
     "data": {
      "text/html": [
       "<div>\n",
       "<style>\n",
       "    .dataframe thead tr:only-child th {\n",
       "        text-align: right;\n",
       "    }\n",
       "\n",
       "    .dataframe thead th {\n",
       "        text-align: left;\n",
       "    }\n",
       "\n",
       "    .dataframe tbody tr th {\n",
       "        vertical-align: top;\n",
       "    }\n",
       "</style>\n",
       "<table border=\"1\" class=\"dataframe\">\n",
       "  <thead>\n",
       "    <tr style=\"text-align: right;\">\n",
       "      <th></th>\n",
       "      <th>id</th>\n",
       "      <th>x1</th>\n",
       "      <th>x2</th>\n",
       "      <th>y1</th>\n",
       "      <th>y2</th>\n",
       "      <th>z1</th>\n",
       "      <th>z2</th>\n",
       "      <th>dx</th>\n",
       "      <th>dy</th>\n",
       "      <th>dz</th>\n",
       "    </tr>\n",
       "  </thead>\n",
       "  <tbody>\n",
       "    <tr>\n",
       "      <th>74</th>\n",
       "      <td>1267372612710344</td>\n",
       "      <td>127</td>\n",
       "      <td>139</td>\n",
       "      <td>103</td>\n",
       "      <td>117</td>\n",
       "      <td>44</td>\n",
       "      <td>52</td>\n",
       "      <td>12</td>\n",
       "      <td>14</td>\n",
       "      <td>8</td>\n",
       "    </tr>\n",
       "  </tbody>\n",
       "</table>\n",
       "</div>"
      ],
      "text/plain": [
       "                  id   x1   x2   y1   y2  z1  z2  dx  dy  dz\n",
       "74  1267372612710344  127  139  103  117  44  52  12  14   8"
      ]
     },
     "execution_count": 22,
     "metadata": {},
     "output_type": "execute_result"
    }
   ],
   "source": [
    "voi_df_ven[voi_df_ven[\"id\"] == \"1267372612710344\"]"
   ]
  },
  {
   "cell_type": "code",
   "execution_count": 19,
   "metadata": {},
   "outputs": [
    {
     "data": {
      "text/plain": [
       "0.6875"
      ]
     },
     "execution_count": 19,
     "metadata": {},
     "output_type": "execute_result"
    }
   ],
   "source": [
    "max(sum(y)/len(y), 1-sum(y)/len(y))"
   ]
  },
  {
   "cell_type": "code",
   "execution_count": 86,
   "metadata": {
    "scrolled": true
   },
   "outputs": [
    {
     "name": "stdout",
     "output_type": "stream",
     "text": [
      "0.20054101943969727\n"
     ]
    }
   ],
   "source": [
    "a=time.time()\n",
    "Y_ = model.predict(X_val)\n",
    "print(time.time()-a)"
   ]
  },
  {
   "cell_type": "code",
   "execution_count": 136,
   "metadata": {
    "collapsed": true
   },
   "outputs": [],
   "source": [
    "import matplotlib.pyplot as plt\n",
    "%matplotlib inline"
   ]
  }
 ],
 "metadata": {
  "kernelspec": {
   "display_name": "Python 3",
   "language": "python",
   "name": "python3"
  },
  "language_info": {
   "codemirror_mode": {
    "name": "ipython",
    "version": 3
   },
   "file_extension": ".py",
   "mimetype": "text/x-python",
   "name": "python",
   "nbconvert_exporter": "python",
   "pygments_lexer": "ipython3",
   "version": "3.5.0"
  }
 },
 "nbformat": 4,
 "nbformat_minor": 2
}
