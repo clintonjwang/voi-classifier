{
 "cells": [
  {
   "cell_type": "code",
   "execution_count": 1,
   "metadata": {
    "scrolled": false
   },
   "outputs": [
    {
     "name": "stderr",
     "output_type": "stream",
     "text": [
      "Using TensorFlow backend.\n"
     ]
    }
   ],
   "source": [
    "import keras.backend as K\n",
    "from keras.models import Model\n",
    "from keras.optimizers import Adam\n",
    "from keras.callbacks import EarlyStopping\n",
    "from keras.utils import np_utils\n",
    "from sklearn.metrics import confusion_matrix, f1_score, accuracy_score\n",
    "\n",
    "import cnn_builder as cbuild\n",
    "import cnn_methods as cfunc\n",
    "import config\n",
    "import csv\n",
    "import helper_fxns as hf\n",
    "import importlib\n",
    "import matplotlib.pyplot as plt\n",
    "import numpy as np\n",
    "import operator\n",
    "import os\n",
    "import pandas as pd\n",
    "import random\n",
    "%matplotlib inline"
   ]
  },
  {
   "cell_type": "code",
   "execution_count": 2,
   "metadata": {
    "scrolled": true
   },
   "outputs": [],
   "source": [
    "importlib.reload(config)\n",
    "importlib.reload(cfunc)\n",
    "importlib.reload(hf)\n",
    "importlib.reload(cbuild)\n",
    "C = config.Config()"
   ]
  },
  {
   "cell_type": "code",
   "execution_count": 18,
   "metadata": {
    "scrolled": true
   },
   "outputs": [
    {
     "name": "stdout",
     "output_type": "stream",
     "text": [
      "____________________________________________________________________________________________________\n",
      "Layer (type)                     Output Shape          Param #     Connected to                     \n",
      "====================================================================================================\n",
      "input_5 (InputLayer)             (None, 36, 36, 1)     0                                            \n",
      "____________________________________________________________________________________________________\n",
      "input_6 (InputLayer)             (None, 36, 36, 1)     0                                            \n",
      "____________________________________________________________________________________________________\n",
      "input_7 (InputLayer)             (None, 36, 36, 1)     0                                            \n",
      "____________________________________________________________________________________________________\n",
      "conv2d_5 (Conv2D)                (None, 34, 34, 64)    640         input_5[0][0]                    \n",
      "____________________________________________________________________________________________________\n",
      "conv2d_6 (Conv2D)                (None, 34, 34, 64)    640         input_6[0][0]                    \n",
      "____________________________________________________________________________________________________\n",
      "conv2d_7 (Conv2D)                (None, 34, 34, 64)    640         input_7[0][0]                    \n",
      "____________________________________________________________________________________________________\n",
      "max_pooling2d_5 (MaxPooling2D)   (None, 17, 17, 64)    0           conv2d_5[0][0]                   \n",
      "____________________________________________________________________________________________________\n",
      "max_pooling2d_6 (MaxPooling2D)   (None, 17, 17, 64)    0           conv2d_6[0][0]                   \n",
      "____________________________________________________________________________________________________\n",
      "max_pooling2d_7 (MaxPooling2D)   (None, 17, 17, 64)    0           conv2d_7[0][0]                   \n",
      "____________________________________________________________________________________________________\n",
      "dropout_6 (Dropout)              (None, 17, 17, 64)    0           max_pooling2d_5[0][0]            \n",
      "____________________________________________________________________________________________________\n",
      "dropout_7 (Dropout)              (None, 17, 17, 64)    0           max_pooling2d_6[0][0]            \n",
      "____________________________________________________________________________________________________\n",
      "dropout_8 (Dropout)              (None, 17, 17, 64)    0           max_pooling2d_7[0][0]            \n",
      "____________________________________________________________________________________________________\n",
      "concatenate_3 (Concatenate)      (None, 17, 17, 192)   0           dropout_6[0][0]                  \n",
      "                                                                   dropout_7[0][0]                  \n",
      "                                                                   dropout_8[0][0]                  \n",
      "____________________________________________________________________________________________________\n",
      "conv2d_8 (Conv2D)                (None, 15, 15, 128)   221312      concatenate_3[0][0]              \n",
      "____________________________________________________________________________________________________\n",
      "max_pooling2d_8 (MaxPooling2D)   (None, 7, 7, 128)     0           conv2d_8[0][0]                   \n",
      "____________________________________________________________________________________________________\n",
      "dropout_9 (Dropout)              (None, 7, 7, 128)     0           max_pooling2d_8[0][0]            \n",
      "____________________________________________________________________________________________________\n",
      "flatten_2 (Flatten)              (None, 6272)          0           dropout_9[0][0]                  \n",
      "____________________________________________________________________________________________________\n",
      "input_8 (InputLayer)             (None, 2)             0                                            \n",
      "____________________________________________________________________________________________________\n",
      "concatenate_4 (Concatenate)      (None, 6274)          0           flatten_2[0][0]                  \n",
      "                                                                   input_8[0][0]                    \n",
      "____________________________________________________________________________________________________\n",
      "dense_3 (Dense)                  (None, 128)           803200      concatenate_4[0][0]              \n",
      "____________________________________________________________________________________________________\n",
      "dropout_10 (Dropout)             (None, 128)           0           dense_3[0][0]                    \n",
      "____________________________________________________________________________________________________\n",
      "dense_4 (Dense)                  (None, 6)             774         dropout_10[0][0]                 \n",
      "====================================================================================================\n",
      "Total params: 1,027,206\n",
      "Trainable params: 1,027,206\n",
      "Non-trainable params: 0\n",
      "____________________________________________________________________________________________________\n"
     ]
    }
   ],
   "source": [
    "model = cbuild.build_2d_cnn(C, 'adam')#Adam(lr=0.01))\n",
    "model.summary()"
   ]
  },
  {
   "cell_type": "markdown",
   "metadata": {},
   "source": [
    "model = cbuild.run_cnn(model, C)"
   ]
  },
  {
   "cell_type": "code",
   "execution_count": 19,
   "metadata": {
    "scrolled": true
   },
   "outputs": [
    {
     "name": "stdout",
     "output_type": "stream",
     "text": [
      "{'cyst': 74, 'colorectal': 124, 'cholangio': 56, 'hemangioma': 56, 'hcc': 89, 'fnh': 67}\n"
     ]
    }
   ],
   "source": [
    "nb_classes = len(C.classes_to_include)\n",
    "voi_df = pd.read_csv(C.art_voi_path)\n",
    "intensity_df = pd.read_csv(C.int_df_path)\n",
    "#intensity_df.loc[intensity_df[\"art_int\"] == 0, \"art_int\"] = np.mean(intensity_df[intensity_df[\"art_int\"] > 0][\"art_int\"])\n",
    "#intensity_df.loc[intensity_df[\"ven_int\"] == 0, \"ven_int\"] = np.mean(intensity_df[intensity_df[\"ven_int\"] > 0][\"ven_int\"])\n",
    "#intensity_df.loc[intensity_df[\"eq_int\"] == 0, \"eq_int\"] = np.mean(intensity_df[intensity_df[\"eq_int\"] > 0][\"eq_int\"])\n",
    "\n",
    "orig_data_dict, num_samples = cfunc.collect_unaug_data(C.classes_to_include, C, voi_df, intensity_df)\n",
    "print(num_samples)\n",
    "\n",
    "avg_X2 = {}\n",
    "for cls in C.classes_to_include:\n",
    "    avg_X2[cls] = np.mean(orig_data_dict[cls][1], axis=0)"
   ]
  },
  {
   "cell_type": "code",
   "execution_count": 20,
   "metadata": {},
   "outputs": [
    {
     "name": "stdout",
     "output_type": "stream",
     "text": [
      "cyst has 59 samples for training (2950 after augmentation) and 15 for testing\n",
      "colorectal has 99 samples for training (4950 after augmentation) and 25 for testing\n",
      "cholangio has 45 samples for training (2250 after augmentation) and 11 for testing\n",
      "hemangioma has 45 samples for training (2250 after augmentation) and 11 for testing\n",
      "hcc has 71 samples for training (3550 after augmentation) and 18 for testing\n",
      "fnh has 54 samples for training (2700 after augmentation) and 13 for testing\n"
     ]
    }
   ],
   "source": [
    "train_ids = {} #filenames of training set originals\n",
    "test_ids = {} #filenames of test set\n",
    "X_test = []\n",
    "X2_test = []\n",
    "Y_test = []\n",
    "Z_test = []\n",
    "X_train_orig = []\n",
    "X2_train_orig = []\n",
    "Y_train_orig = []\n",
    "Z_train_orig = []\n",
    "\n",
    "train_samples = {}\n",
    "\n",
    "for cls_num, cls in enumerate(orig_data_dict):\n",
    "    cls_num = C.classes_to_include.index(cls)\n",
    "\n",
    "    train_samples[cls] = round(num_samples[cls]*C.train_frac)\n",
    "\n",
    "    order = np.random.permutation(list(range(num_samples[cls])))\n",
    "    train_ids[cls] = list(orig_data_dict[cls][2][order[:train_samples[cls]]])\n",
    "    test_ids[cls] = list(orig_data_dict[cls][2][order[train_samples[cls]:]])\n",
    "\n",
    "    X_test = X_test + list(orig_data_dict[cls][0][order[train_samples[cls]:]])\n",
    "    X2_test = X2_test + list(orig_data_dict[cls][1][order[train_samples[cls]:]])\n",
    "    Y_test = Y_test + [[0] * cls_num + [1] + [0] * (nb_classes - cls_num - 1)] * \\\n",
    "                        (num_samples[cls] - train_samples[cls])\n",
    "    Z_test = Z_test + test_ids[cls]\n",
    "\n",
    "    X_train_orig = X_train_orig + list(orig_data_dict[cls][0][order[:train_samples[cls]]])\n",
    "    X2_train_orig = X2_train_orig + list(orig_data_dict[cls][1][order[:train_samples[cls]]])\n",
    "    Y_train_orig = Y_train_orig + [[0] * cls_num + [1] + [0] * (nb_classes - cls_num - 1)] * \\\n",
    "                        (train_samples[cls])\n",
    "    Z_train_orig = Z_train_orig + train_ids[cls]\n",
    "\n",
    "    print(\"%s has %d samples for training (%d after augmentation) and %d for testing\" %\n",
    "          (cls, train_samples[cls], train_samples[cls] * C.aug_factor, num_samples[cls] - train_samples[cls]))\n",
    "\n",
    "#Y_test = np_utils.to_categorical(Y_test, nb_classes)\n",
    "#Y_train_orig = np_utils.to_categorical(Y_train_orig, nb_classes)\n",
    "X_test = [np.array(X_test), np.array(X2_test)]\n",
    "X_train_orig = [np.array(X_train_orig), np.array(X2_train_orig)]\n",
    "\n",
    "Y_test = np.array(Y_test)\n",
    "Y_train_orig = np.array(Y_train_orig)\n",
    "\n",
    "Z_test = np.array(Z_test)\n",
    "Z_train_orig = np.array(Z_train_orig)"
   ]
  },
  {
   "cell_type": "markdown",
   "metadata": {},
   "source": [
    "train_generator = train_generator_func()\n",
    "model_pretrain.fit_generator(train_generator, steps_per_epoch=120, epochs=50)#, callbacks=[early_stopping])"
   ]
  },
  {
   "cell_type": "code",
   "execution_count": null,
   "metadata": {
    "scrolled": true
   },
   "outputs": [
    {
     "name": "stdout",
     "output_type": "stream",
     "text": [
      "Epoch 1/75\n",
      "30/30 [==============================] - 14s - loss: 1.5668 - acc: 0.3128    \n",
      "Epoch 2/75\n",
      "30/30 [==============================] - 12s - loss: 1.1859 - acc: 0.4978    \n",
      "Epoch 3/75\n",
      "30/30 [==============================] - 12s - loss: 1.0175 - acc: 0.5711    \n",
      "Epoch 4/75\n",
      "30/30 [==============================] - 11s - loss: 0.9033 - acc: 0.6344    \n",
      "Epoch 5/75\n",
      "30/30 [==============================] - 12s - loss: 0.8459 - acc: 0.6639    \n",
      "Epoch 6/75\n",
      "30/30 [==============================] - 10s - loss: 0.8123 - acc: 0.6728    \n",
      "Epoch 7/75\n",
      "30/30 [==============================] - 10s - loss: 0.7501 - acc: 0.6961    \n",
      "Epoch 8/75\n",
      "30/30 [==============================] - 10s - loss: 0.7260 - acc: 0.7261    \n",
      "Epoch 9/75\n",
      "30/30 [==============================] - 10s - loss: 0.6904 - acc: 0.7211    \n",
      "Epoch 10/75\n",
      "30/30 [==============================] - 10s - loss: 0.6332 - acc: 0.7422    \n",
      "Epoch 11/75\n",
      "30/30 [==============================] - 9s - loss: 0.6656 - acc: 0.7361     \n",
      "Epoch 12/75\n",
      "30/30 [==============================] - 9s - loss: 0.5966 - acc: 0.7528     \n",
      "Epoch 13/75\n",
      "30/30 [==============================] - 9s - loss: 0.6063 - acc: 0.7689     \n",
      "Epoch 14/75\n",
      "30/30 [==============================] - 9s - loss: 0.5928 - acc: 0.7611     \n",
      "Epoch 15/75\n",
      "30/30 [==============================] - 9s - loss: 0.5711 - acc: 0.7733     \n",
      "Epoch 16/75\n",
      "30/30 [==============================] - 9s - loss: 0.5640 - acc: 0.7711     \n",
      "Epoch 17/75\n",
      "30/30 [==============================] - 9s - loss: 0.5608 - acc: 0.7911     \n",
      "Epoch 18/75\n",
      "30/30 [==============================] - 9s - loss: 0.5735 - acc: 0.7744     \n",
      "Epoch 19/75\n",
      "30/30 [==============================] - 9s - loss: 0.5757 - acc: 0.7694     \n",
      "Epoch 20/75\n",
      "30/30 [==============================] - 9s - loss: 0.5434 - acc: 0.7822     \n",
      "Epoch 21/75\n",
      "30/30 [==============================] - 9s - loss: 0.5199 - acc: 0.7933     \n",
      "Epoch 22/75\n",
      "30/30 [==============================] - 9s - loss: 0.5389 - acc: 0.7856     \n",
      "Epoch 23/75\n",
      "30/30 [==============================] - 8s - loss: 0.5179 - acc: 0.7989     \n",
      "Epoch 24/75\n",
      "30/30 [==============================] - 9s - loss: 0.5360 - acc: 0.7956     \n",
      "Epoch 25/75\n",
      "30/30 [==============================] - 10s - loss: 0.5129 - acc: 0.8067    \n",
      "Epoch 26/75\n",
      "30/30 [==============================] - 9s - loss: 0.5236 - acc: 0.7956     \n",
      "Epoch 27/75\n",
      "30/30 [==============================] - 10s - loss: 0.4813 - acc: 0.8083    \n",
      "Epoch 28/75\n",
      "30/30 [==============================] - 10s - loss: 0.5117 - acc: 0.8000    \n",
      "Epoch 29/75\n",
      "30/30 [==============================] - 9s - loss: 0.4443 - acc: 0.8278     \n",
      "Epoch 30/75\n",
      "30/30 [==============================] - 10s - loss: 0.4812 - acc: 0.8028    \n",
      "Epoch 31/75\n",
      "30/30 [==============================] - 10s - loss: 0.4590 - acc: 0.8178    \n",
      "Epoch 32/75\n",
      "30/30 [==============================] - 9s - loss: 0.4904 - acc: 0.8044     \n",
      "Epoch 33/75\n",
      "30/30 [==============================] - 10s - loss: 0.4728 - acc: 0.8178    \n",
      "Epoch 34/75\n",
      "30/30 [==============================] - 10s - loss: 0.4737 - acc: 0.8089    \n",
      "Epoch 35/75\n",
      "30/30 [==============================] - 9s - loss: 0.4597 - acc: 0.8339     \n",
      "Epoch 36/75\n",
      "30/30 [==============================] - 10s - loss: 0.4621 - acc: 0.8261    \n",
      "Epoch 37/75\n",
      "30/30 [==============================] - 9s - loss: 0.4741 - acc: 0.8128     \n",
      "Epoch 38/75\n",
      "30/30 [==============================] - 9s - loss: 0.4586 - acc: 0.8217     \n",
      "Epoch 39/75\n",
      "30/30 [==============================] - 11s - loss: 0.4461 - acc: 0.8133    \n",
      "Epoch 40/75\n",
      "30/30 [==============================] - 10s - loss: 0.4442 - acc: 0.8167    \n",
      "Epoch 41/75\n",
      "30/30 [==============================] - 9s - loss: 0.4379 - acc: 0.8256     \n",
      "Epoch 42/75\n",
      "30/30 [==============================] - 9s - loss: 0.4174 - acc: 0.8389     \n",
      "Epoch 43/75\n",
      "30/30 [==============================] - 11s - loss: 0.4072 - acc: 0.8433    \n",
      "Epoch 44/75\n",
      "30/30 [==============================] - 9s - loss: 0.4011 - acc: 0.8456     \n",
      "Epoch 45/75\n",
      "30/30 [==============================] - 9s - loss: 0.4119 - acc: 0.8372     \n",
      "Epoch 46/75\n",
      "30/30 [==============================] - 9s - loss: 0.3842 - acc: 0.8589     \n",
      "Epoch 47/75\n",
      "30/30 [==============================] - 8s - loss: 0.4124 - acc: 0.8461     \n",
      "Epoch 48/75\n",
      "30/30 [==============================] - 9s - loss: 0.4172 - acc: 0.8322     \n",
      "Epoch 49/75\n",
      "30/30 [==============================] - 9s - loss: 0.4038 - acc: 0.8433     \n",
      "Epoch 50/75\n",
      "30/30 [==============================] - 9s - loss: 0.3999 - acc: 0.8400     \n",
      "Epoch 51/75\n",
      "30/30 [==============================] - 8s - loss: 0.3932 - acc: 0.8472     \n",
      "Epoch 52/75\n",
      "30/30 [==============================] - 8s - loss: 0.3707 - acc: 0.8567     \n",
      "Epoch 53/75\n",
      "30/30 [==============================] - 9s - loss: 0.4248 - acc: 0.8306     \n",
      "Epoch 54/75\n",
      "30/30 [==============================] - 9s - loss: 0.4418 - acc: 0.8100     \n",
      "Epoch 55/75\n",
      "30/30 [==============================] - 9s - loss: 0.4017 - acc: 0.8389     \n",
      "Epoch 56/75\n",
      "30/30 [==============================] - 9s - loss: 0.3908 - acc: 0.8394     \n",
      "Epoch 57/75\n",
      "30/30 [==============================] - 9s - loss: 0.3940 - acc: 0.8367     \n",
      "Epoch 58/75\n",
      "30/30 [==============================] - 10s - loss: 0.3972 - acc: 0.8294    \n",
      "Epoch 59/75\n",
      "30/30 [==============================] - 9s - loss: 0.3805 - acc: 0.8567     \n",
      "Epoch 60/75\n",
      "30/30 [==============================] - 9s - loss: 0.3632 - acc: 0.8572     \n",
      "Epoch 61/75\n",
      "30/30 [==============================] - 9s - loss: 0.3682 - acc: 0.8567     \n",
      "Epoch 62/75\n",
      "30/30 [==============================] - 10s - loss: 0.3617 - acc: 0.8611    \n",
      "Epoch 63/75\n",
      "22/30 [=====================>........] - ETA: 2s - loss: 0.3331 - acc: 0.8871"
     ]
    }
   ],
   "source": [
    "#early_stopping = EarlyStopping(monitor='acc', min_delta=0.01, patience=4)\n",
    "train_generator = cbuild.train_generator_func_2d(C, train_ids, intensity_df, voi_df, avg_X2, n=6, n_art=4)\n",
    "model.fit_generator(train_generator, steps_per_epoch=30, epochs=75)#, callbacks=[early_stopping])"
   ]
  },
  {
   "cell_type": "markdown",
   "metadata": {
    "scrolled": true
   },
   "source": [
    "hist = model.fit(X_train2, Y_train2, batch_size=32, epochs=200, validation_data=(X_test, Y_test), callbacks=[early_stopping])"
   ]
  },
  {
   "cell_type": "code",
   "execution_count": 15,
   "metadata": {},
   "outputs": [],
   "source": [
    "voi_df_art = pd.read_csv(C.art_voi_path)\n",
    "voi_df_ven = pd.read_csv(C.ven_voi_path)\n",
    "voi_df_eq = pd.read_csv(C.eq_voi_path)\n",
    "\n",
    "with open(C.small_voi_path, 'r') as csv_file:\n",
    "    reader = csv.reader(csv_file)\n",
    "    small_vois = dict(reader)\n",
    "    \n",
    "for key in small_vois:\n",
    "    small_vois[key] = [int(x) for x in small_vois[key][1:-1].split(', ')]"
   ]
  },
  {
   "cell_type": "code",
   "execution_count": 9,
   "metadata": {
    "scrolled": true
   },
   "outputs": [
    {
     "data": {
      "text/plain": [
       "['hcc', 'cholangio', 'colorectal', 'cyst', 'hemangioma', 'fnh']"
      ]
     },
     "execution_count": 9,
     "metadata": {},
     "output_type": "execute_result"
    }
   ],
   "source": [
    "C.classes_to_include"
   ]
  },
  {
   "cell_type": "code",
   "execution_count": 49,
   "metadata": {},
   "outputs": [
    {
     "data": {
      "text/plain": [
       "<module 'cnn_methods' from 'C:\\\\Users\\\\Clinton\\\\Documents\\\\voi-classifier\\\\cnn_methods.py'>"
      ]
     },
     "execution_count": 49,
     "metadata": {},
     "output_type": "execute_result"
    }
   ],
   "source": [
    "importlib.reload(cfunc)"
   ]
  },
  {
   "cell_type": "code",
   "execution_count": 8,
   "metadata": {},
   "outputs": [],
   "source": [
    "X_test = cfunc.separate_phases_2d(X_test)\n",
    "X_train_orig = cfunc.separate_phases_2d(X_train_orig)"
   ]
  },
  {
   "cell_type": "code",
   "execution_count": 9,
   "metadata": {
    "collapsed": true
   },
   "outputs": [],
   "source": [
    "C.output_img_dir = \"Z:\\\\OUTPUT\\\\12-07-2d\""
   ]
  },
  {
   "cell_type": "code",
   "execution_count": 16,
   "metadata": {
    "scrolled": true
   },
   "outputs": [],
   "source": [
    "#plot_with_bbox(fn_list[2], cls_mapping[wrong_guesses[2]])\n",
    "Y_pred = model.predict(X_test)\n",
    "y_true = np.array([max(enumerate(x), key=operator.itemgetter(1))[0] for x in Y_test])\n",
    "y_pred = np.array([max(enumerate(x), key=operator.itemgetter(1))[0] for x in Y_pred])\n",
    "\n",
    "cm = confusion_matrix(y_true, y_pred)\n",
    "f1 = f1_score(y_true, y_pred, average=\"weighted\")\n",
    "\n",
    "cfunc.save_output(Z_test, y_pred, y_true, voi_df_art, small_vois, C.classes_to_include, C)"
   ]
  },
  {
   "cell_type": "code",
   "execution_count": 17,
   "metadata": {
    "scrolled": true
   },
   "outputs": [],
   "source": [
    "Y_pred = model.predict(X_train_orig)\n",
    "y_true = np.array([max(enumerate(x), key=operator.itemgetter(1))[0] for x in Y_train_orig])\n",
    "y_pred = np.array([max(enumerate(x), key=operator.itemgetter(1))[0] for x in Y_pred])\n",
    "\n",
    "cm = confusion_matrix(y_true, y_pred)\n",
    "f1 = f1_score(y_true, y_pred, average=\"weighted\")\n",
    "\n",
    "cfunc.save_output(Z_train_orig, y_pred, y_true, voi_df_art, small_vois, C.classes_to_include, C)"
   ]
  },
  {
   "cell_type": "code",
   "execution_count": 54,
   "metadata": {
    "scrolled": true
   },
   "outputs": [
    {
     "data": {
      "text/plain": [
       "array([[ 7,  0,  0,  0,  0,  3],\n",
       "       [ 0, 10,  1,  0,  0,  0],\n",
       "       [ 0,  0, 10,  0,  0,  0],\n",
       "       [ 0,  0,  0, 15,  0,  0],\n",
       "       [ 0,  0,  0,  1, 10,  0],\n",
       "       [ 0,  0,  0,  0,  0, 13]], dtype=int64)"
      ]
     },
     "execution_count": 54,
     "metadata": {},
     "output_type": "execute_result"
    }
   ],
   "source": [
    "cm"
   ]
  },
  {
   "cell_type": "code",
   "execution_count": 12,
   "metadata": {
    "scrolled": true
   },
   "outputs": [],
   "source": [
    "y_true_simp, y_pred_simp, _ = cfunc.condense_cm(y_true, y_pred, C.classes_to_include)"
   ]
  },
  {
   "cell_type": "code",
   "execution_count": 13,
   "metadata": {
    "scrolled": false
   },
   "outputs": [
    {
     "data": {
      "text/plain": [
       "0.83870967741935487"
      ]
     },
     "execution_count": 13,
     "metadata": {},
     "output_type": "execute_result"
    }
   ],
   "source": [
    "accuracy_score(y_true_simp, y_pred_simp)"
   ]
  },
  {
   "cell_type": "code",
   "execution_count": 11,
   "metadata": {
    "scrolled": true
   },
   "outputs": [
    {
     "data": {
      "text/plain": [
       "0.77419354838709675"
      ]
     },
     "execution_count": 11,
     "metadata": {},
     "output_type": "execute_result"
    }
   ],
   "source": [
    "accuracy_score(y_true, y_pred)"
   ]
  },
  {
   "cell_type": "markdown",
   "metadata": {},
   "source": [
    "4 cls: 94/94%, 86/88%, 86%/90%\n",
    "5 cls: 80%/89%, 72%/86%, 84%/86%\n",
    "\n",
    "6 cls no artificial, separate phases: 75%/84%\n",
    "6 cls with artificial, separate phases: 77%/84%"
   ]
  },
  {
   "cell_type": "markdown",
   "metadata": {
    "collapsed": true
   },
   "source": [
    "fn_list = Z_test[~np.equal(y_pred, y_true)]\n",
    "wrong_guesses = np.array(y_pred)[~np.equal(y_pred, y_true)]"
   ]
  },
  {
   "cell_type": "markdown",
   "metadata": {
    "collapsed": true
   },
   "source": [
    "activ = model2.predict(X_train)\n",
    "#activ = model2.predict(np.expand_dims(X_train[10],axis=0))"
   ]
  },
  {
   "cell_type": "markdown",
   "metadata": {
    "scrolled": true
   },
   "source": [
    "import operator\n",
    "#print(\"Ground truth:\", [C.classes_to_include[max(enumerate(x), key=operator.itemgetter(1))[0]] for x in Y_val[::30]])\n",
    "Y_ = model.predict(X_test)\n",
    "print(\"Predictions:\", [C.classes_to_include[max(enumerate(x), key=operator.itemgetter(1))[0]] + \" (%.5f%% probability)\" % (max(x)*100) for x in Y_])"
   ]
  }
 ],
 "metadata": {
  "kernelspec": {
   "display_name": "Python 3",
   "language": "python",
   "name": "python3"
  },
  "language_info": {
   "codemirror_mode": {
    "name": "ipython",
    "version": 3
   },
   "file_extension": ".py",
   "mimetype": "text/x-python",
   "name": "python",
   "nbconvert_exporter": "python",
   "pygments_lexer": "ipython3",
   "version": "3.5.0"
  }
 },
 "nbformat": 4,
 "nbformat_minor": 2
}
