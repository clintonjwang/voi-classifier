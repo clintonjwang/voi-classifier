{
 "cells": [
  {
   "cell_type": "code",
   "execution_count": 100,
   "metadata": {
    "scrolled": false
   },
   "outputs": [],
   "source": [
    "import keras.backend as K\n",
    "from keras.layers import Input, Dense, Concatenate, Flatten, Dropout, Conv3D, MaxPooling3D, ZeroPadding3D\n",
    "from keras.models import Model\n",
    "from keras.regularizers import l1, l2\n",
    "from keras.optimizers import Adam\n",
    "from keras.constraints import max_norm\n",
    "from keras.layers.noise import GaussianNoise\n",
    "from keras.callbacks import EarlyStopping\n",
    "from keras.utils import np_utils\n",
    "from sklearn.metrics import confusion_matrix, f1_score, accuracy_score\n",
    "\n",
    "import cnn_methods as cfunc\n",
    "import config\n",
    "import csv\n",
    "import helper_fxns as hf\n",
    "import importlib\n",
    "import matplotlib.pyplot as plt\n",
    "import numpy as np\n",
    "import operator\n",
    "import os\n",
    "import pandas as pd\n",
    "import random\n",
    "import re\n",
    "%matplotlib inline"
   ]
  },
  {
   "cell_type": "code",
   "execution_count": 101,
   "metadata": {
    "scrolled": true
   },
   "outputs": [],
   "source": [
    "importlib.reload(config)\n",
    "importlib.reload(cfunc)\n",
    "C = config.Config()"
   ]
  },
  {
   "cell_type": "code",
   "execution_count": 76,
   "metadata": {
    "scrolled": true
   },
   "outputs": [],
   "source": [
    "dims = C.dims\n",
    "nb_classes = len(C.classes_to_include)\n",
    "\n",
    "voi_img = Input(shape=(dims[0], dims[1], dims[2], C.nb_channels))\n",
    "x = voi_img\n",
    "#x = GaussianNoise(1)(x)\n",
    "#x = ZeroPadding3D(padding=(3,3,2))(voi_img)\n",
    "x = Conv3D(filters=128, kernel_size=(3,3,2), activation='relu')(x)\n",
    "x = Dropout(0.5)(x)\n",
    "x = Conv3D(filters=128, kernel_size=(3,3,2), activation='relu')(x)\n",
    "x = MaxPooling3D((2, 2, 2))(x)\n",
    "x = Dropout(0.5)(x)\n",
    "#x = Conv3D(filters=64, kernel_size=(3,3,2), strides=(2, 2, 2), activation='relu', kernel_constraint=max_norm(4.))(x)\n",
    "#x = Dropout(0.5)(x)\n",
    "x = Conv3D(filters=64, kernel_size=(3,3,2), activation='relu')(x)\n",
    "x = MaxPooling3D((2, 2, 1))(x)\n",
    "x = Dropout(0.5)(x)\n",
    "x = Flatten()(x)\n",
    "\n",
    "img_traits = Input(shape=(2,)) #bounding volume and aspect ratio of lesion\n",
    "\n",
    "intermed = Concatenate(axis=1)([x, img_traits])\n",
    "x = Dense(64, activation='relu')(intermed)#, kernel_initializer='normal', kernel_regularizer=l1(.01), kernel_constraint=max_norm(3.))(x)\n",
    "x = Dropout(0.5)(x)\n",
    "pred_class = Dense(nb_classes, activation='softmax')(x)#Dense(nb_classes, activation='softmax')(x)"
   ]
  },
  {
   "cell_type": "code",
   "execution_count": null,
   "metadata": {
    "collapsed": true
   },
   "outputs": [],
   "source": [
    "dims = C.dims\n",
    "nb_classes = len(C.classes_to_include)\n",
    "\n",
    "voi_img = Input(shape=(dims[0], dims[1], dims[2], C.nb_channels))\n",
    "x = voi_img\n",
    "x = Conv3D(filters=128, kernel_size=(3,3,2), activation='relu')(x)\n",
    "x = Dropout(0.5)(x)\n",
    "x = Conv3D(filters=128, kernel_size=(3,3,2), activation='relu')(x)\n",
    "x = MaxPooling3D((2, 2, 2))(x)\n",
    "x = Dropout(0.5)(x)\n",
    "x = Conv3D(filters=64, kernel_size=(3,3,2), activation='relu')(x)\n",
    "x = MaxPooling3D((2, 2, 1))(x)\n",
    "x = Dropout(0.5)(x)\n",
    "x = Flatten()(x)\n",
    "\n",
    "img_traits = Input(shape=(2,)) #bounding volume and aspect ratio of lesion\n",
    "\n",
    "intermed = Concatenate(axis=1)([x, img_traits])\n",
    "x = Dense(64, activation='relu')(intermed)#, kernel_initializer='normal', kernel_regularizer=l1(.01), kernel_constraint=max_norm(3.))(x)\n",
    "x = Dropout(0.5)(x)\n",
    "pred_class = Dense(nb_classes, activation='softmax')(x)\n",
    "\n",
    "optim = Adam(lr=0.01)#5, decay=0.001)\n",
    "early_stopping = EarlyStopping(monitor='acc', min_delta=0.01, patience=4)\n",
    "\n",
    "model_pretrain = Model([voi_img, img_traits], pred_class)\n",
    "model_pretrain.compile(optimizer='adam', loss='categorical_crossentropy', metrics=['accuracy'])\n",
    "model_pretrain.summary()"
   ]
  },
  {
   "cell_type": "code",
   "execution_count": 77,
   "metadata": {
    "scrolled": true
   },
   "outputs": [
    {
     "name": "stdout",
     "output_type": "stream",
     "text": [
      "____________________________________________________________________________________________________\n",
      "Layer (type)                     Output Shape          Param #     Connected to                     \n",
      "====================================================================================================\n",
      "input_9 (InputLayer)             (None, 36, 36, 12, 3) 0                                            \n",
      "____________________________________________________________________________________________________\n",
      "conv3d_11 (Conv3D)               (None, 34, 34, 11, 12 7040        input_9[0][0]                    \n",
      "____________________________________________________________________________________________________\n",
      "dropout_14 (Dropout)             (None, 34, 34, 11, 12 0           conv3d_11[0][0]                  \n",
      "____________________________________________________________________________________________________\n",
      "conv3d_12 (Conv3D)               (None, 32, 32, 10, 12 295040      dropout_14[0][0]                 \n",
      "____________________________________________________________________________________________________\n",
      "max_pooling3d_9 (MaxPooling3D)   (None, 16, 16, 5, 128 0           conv3d_12[0][0]                  \n",
      "____________________________________________________________________________________________________\n",
      "dropout_15 (Dropout)             (None, 16, 16, 5, 128 0           max_pooling3d_9[0][0]            \n",
      "____________________________________________________________________________________________________\n",
      "conv3d_13 (Conv3D)               (None, 14, 14, 4, 64) 147520      dropout_15[0][0]                 \n",
      "____________________________________________________________________________________________________\n",
      "max_pooling3d_10 (MaxPooling3D)  (None, 7, 7, 4, 64)   0           conv3d_13[0][0]                  \n",
      "____________________________________________________________________________________________________\n",
      "dropout_16 (Dropout)             (None, 7, 7, 4, 64)   0           max_pooling3d_10[0][0]           \n",
      "____________________________________________________________________________________________________\n",
      "flatten_4 (Flatten)              (None, 12544)         0           dropout_16[0][0]                 \n",
      "____________________________________________________________________________________________________\n",
      "input_10 (InputLayer)            (None, 2)             0                                            \n",
      "____________________________________________________________________________________________________\n",
      "concatenate_5 (Concatenate)      (None, 12546)         0           flatten_4[0][0]                  \n",
      "                                                                   input_10[0][0]                   \n",
      "____________________________________________________________________________________________________\n",
      "dense_7 (Dense)                  (None, 64)            803008      concatenate_5[0][0]              \n",
      "____________________________________________________________________________________________________\n",
      "dropout_17 (Dropout)             (None, 64)            0           dense_7[0][0]                    \n",
      "____________________________________________________________________________________________________\n",
      "dense_8 (Dense)                  (None, 6)             390         dropout_17[0][0]                 \n",
      "====================================================================================================\n",
      "Total params: 1,252,998\n",
      "Trainable params: 1,252,998\n",
      "Non-trainable params: 0\n",
      "____________________________________________________________________________________________________\n"
     ]
    }
   ],
   "source": [
    "optim = Adam(lr=0.01)#5, decay=0.001)\n",
    "early_stopping = EarlyStopping(monitor='acc', min_delta=0.01, patience=4)\n",
    "\n",
    "model = Model([voi_img, img_traits], pred_class)\n",
    "model.compile(optimizer='adam', loss='categorical_crossentropy', metrics=['accuracy'])\n",
    "model.summary()"
   ]
  },
  {
   "cell_type": "markdown",
   "metadata": {},
   "source": [
    "model_pretrain = Model([voi_img, img_traits], pred_class)\n",
    "for l in range(1,5):\n",
    "    if type(model_pretrain.layers[l]) == Conv3D:\n",
    "        model_pretrain.layers[l].set_weights(model.layers[l].get_weights())"
   ]
  },
  {
   "cell_type": "code",
   "execution_count": 134,
   "metadata": {
    "scrolled": true
   },
   "outputs": [
    {
     "name": "stdout",
     "output_type": "stream",
     "text": [
      "{'colorectal': 70, 'cyst': 77, 'cholangio': 61, 'hcc': 53, 'hemangioma': 60}\n"
     ]
    }
   ],
   "source": [
    "voi_df = pd.read_csv(C.art_voi_path)\n",
    "intensity_df = pd.read_csv(C.int_df_path)\n",
    "#intensity_df.loc[intensity_df[\"art_int\"] == 0, \"art_int\"] = np.mean(intensity_df[intensity_df[\"art_int\"] > 0][\"art_int\"])\n",
    "#intensity_df.loc[intensity_df[\"ven_int\"] == 0, \"ven_int\"] = np.mean(intensity_df[intensity_df[\"ven_int\"] > 0][\"ven_int\"])\n",
    "#intensity_df.loc[intensity_df[\"eq_int\"] == 0, \"eq_int\"] = np.mean(intensity_df[intensity_df[\"eq_int\"] > 0][\"eq_int\"])\n",
    "\n",
    "orig_data_dict, num_samples = cfunc.collect_unaug_data(C.classes_to_include, C, voi_df, intensity_df)\n",
    "print(num_samples)"
   ]
  },
  {
   "cell_type": "code",
   "execution_count": 135,
   "metadata": {
    "scrolled": false
   },
   "outputs": [
    {
     "name": "stdout",
     "output_type": "stream",
     "text": [
      "colorectal has 56 samples for training (2800 after augmentation) and 14 for testing\n",
      "cyst has 62 samples for training (3100 after augmentation) and 15 for testing\n",
      "cholangio has 49 samples for training (2450 after augmentation) and 12 for testing\n",
      "hcc has 42 samples for training (2100 after augmentation) and 11 for testing\n",
      "hemangioma has 48 samples for training (2400 after augmentation) and 12 for testing\n"
     ]
    }
   ],
   "source": [
    "train_ids = {} #filenames of training set originals\n",
    "test_ids = {} #filenames of test set\n",
    "X_test = []\n",
    "X2_test = []\n",
    "Y_test = []\n",
    "Z_test = []\n",
    "X_train_orig = []\n",
    "X2_train_orig = []\n",
    "Y_train_orig = []\n",
    "Z_train_orig = []\n",
    "cls_mapping = []\n",
    "\n",
    "train_samples = {}\n",
    "\n",
    "for cls_num, cls in enumerate(orig_data_dict):\n",
    "    cls_mapping.append(cls)\n",
    "    \n",
    "    train_samples[cls] = round(num_samples[cls]*C.train_frac)\n",
    "    \n",
    "    order = np.random.permutation(list(range(num_samples[cls])))\n",
    "    train_ids[cls] = list(orig_data_dict[cls][2][order[:train_samples[cls]]])\n",
    "    test_ids[cls] = list(orig_data_dict[cls][2][order[train_samples[cls]:]])\n",
    "    \n",
    "    X_test = X_test + list(orig_data_dict[cls][0][order[train_samples[cls]:]])\n",
    "    X2_test = X2_test + list(orig_data_dict[cls][1][order[train_samples[cls]:]])\n",
    "    Y_test = Y_test + [[0] * cls_num + [1] + [0] * (nb_classes - cls_num - 1)] * \\\n",
    "                        (num_samples[cls] - train_samples[cls])\n",
    "    Z_test = Z_test + test_ids[cls]\n",
    "    \n",
    "    X_train_orig = X_train_orig + list(orig_data_dict[cls][0][order[:train_samples[cls]]])\n",
    "    X2_train_orig = X2_train_orig + list(orig_data_dict[cls][1][order[:train_samples[cls]]])\n",
    "    Y_train_orig = Y_train_orig + [[0] * cls_num + [1] + [0] * (nb_classes - cls_num - 1)] * \\\n",
    "                        (train_samples[cls])\n",
    "    Z_train_orig = Z_train_orig + train_ids[cls]\n",
    "    \n",
    "    print(\"%s has %d samples for training (%d after augmentation) and %d for testing\" %\n",
    "          (cls, train_samples[cls], train_samples[cls] * C.aug_factor, num_samples[cls] - train_samples[cls]))\n",
    "    \n",
    "#Y_test = np_utils.to_categorical(Y_test, nb_classes)\n",
    "#Y_train_orig = np_utils.to_categorical(Y_train_orig, nb_classes)"
   ]
  },
  {
   "cell_type": "markdown",
   "metadata": {
    "collapsed": true
   },
   "source": [
    "def scale_to_one(X, scale_by_channel=True):\n",
    "    def scale_img(x):\n",
    "        return 2 * (x - np.amin(x)) / (np.amax(x) - np.amin(x)) - 1\n",
    "    return np.array(X)\n",
    "\n",
    "    X = np.array(X)\n",
    "    \n",
    "    if scale_by_channel:\n",
    "        X = [np.stack([scale_img(x[:,:,:,0]), scale_img(x[:,:,:,1]), scale_img(x[:,:,:,2])], axis=3) for x in X]\n",
    "    else:\n",
    "        X = [scale_img(x) for x in X]\n",
    "    \n",
    "    return np.array(X)"
   ]
  },
  {
   "cell_type": "code",
   "execution_count": 136,
   "metadata": {},
   "outputs": [],
   "source": [
    "#scale from -1 to 1\n",
    "#X_train = [scale_to_one(X_train), tbd(X2_train)]\n",
    "#X_val = [scale_to_one(X_val), tbd(X2_val)]\n",
    "X_test = [np.array(X_test), np.array(X2_test)]\n",
    "X_train_orig = [np.array(X_train_orig), np.array(X2_train_orig)]\n",
    "\n",
    "#Y_train = np.array(Y_train)\n",
    "#Y_val = np.array(Y_val)\n",
    "Y_test = np.array(Y_test)\n",
    "Y_train_orig = np.array(Y_train_orig)\n",
    "\n",
    "#Z_train = np.array(Z_train)\n",
    "Z_test = np.array(Z_test)\n",
    "Z_train_orig = np.array(Z_train_orig)"
   ]
  },
  {
   "cell_type": "code",
   "execution_count": 137,
   "metadata": {
    "collapsed": true
   },
   "outputs": [],
   "source": [
    "avg_X2 = {}\n",
    "for cls in C.classes_to_include:\n",
    "    avg_X2[cls] = np.mean(orig_data_dict[cls][1], axis=0)"
   ]
  },
  {
   "cell_type": "code",
   "execution_count": 138,
   "metadata": {
    "collapsed": true
   },
   "outputs": [],
   "source": [
    "def train_generator_func(n=12, n_art=0):\n",
    "    \"\"\"n is the number of samples from each class, n_art is the number of artificial samples\"\"\"\n",
    "    classes_to_include = C.classes_to_include\n",
    "    \n",
    "    num_classes = len(classes_to_include)\n",
    "    while True:\n",
    "        x1 = np.empty(((n+n_art)*num_classes, dims[0], dims[1], dims[2], C.nb_channels))\n",
    "        x2 = np.empty(((n+n_art)*num_classes, 2))\n",
    "        y = np.zeros(((n+n_art)*num_classes, num_classes))\n",
    "\n",
    "        train_cnt = 0\n",
    "        for cls in classes_to_include:\n",
    "            img_fns = os.listdir(C.aug_dir+cls)\n",
    "            while n>0:\n",
    "                img_fn = random.choice(img_fns)\n",
    "                if img_fn[:img_fn.rfind('_')] + \".npy\" in train_ids[cls]:\n",
    "                    x1[train_cnt] = np.load(C.aug_dir+cls+\"\\\\\"+img_fn)\n",
    "                    x1[train_cnt] = cfunc.rescale_int(x1[train_cnt],\n",
    "                                          intensity_df[intensity_df[\"AccNum\"] == img_fn[:img_fn.find('_')]])\n",
    "\n",
    "                    row = voi_df[(voi_df[\"Filename\"] == img_fn[:img_fn.find('_')] + \".npy\") &\n",
    "                                 (voi_df[\"lesion_num\"] == int(img_fn[img_fn.find('_')+1:img_fn.rfind('_')]))]\n",
    "                    x2[train_cnt] = [(float(row[\"real_dx\"]) * float(row[\"real_dy\"]) * float(row[\"real_dz\"])) ** (1/3) / 50,\n",
    "                                        max(float(row[\"real_dx\"]), float(row[\"real_dy\"])) / float(row[\"real_dz\"])]\n",
    "                    \n",
    "                    y[train_cnt][cls_mapping.index(cls)] = 1\n",
    "                    \n",
    "                    train_cnt += 1\n",
    "                    if train_cnt % n == 0:\n",
    "                        break\n",
    "            \n",
    "                        \n",
    "            if n_art>0:\n",
    "                img_fns = os.listdir(C.artif_dir+cls)\n",
    "                for _ in range(n_art):\n",
    "                    img_fn = random.choice(img_fns)\n",
    "                    x1[train_cnt] = np.load(C.artif_dir + cls + \"\\\\\" + img_fn)\n",
    "                    x2[train_cnt] = avg_X2[cls]\n",
    "                    y[train_cnt][cls_mapping.index(cls)] = 1\n",
    "\n",
    "                    train_cnt += 1\n",
    "        \n",
    "        yield cfunc.separate_phases([np.array(x1), np.array(x2)]), np.array(y) #[np.array(x1), np.array(x2)], np.array(y) #"
   ]
  },
  {
   "cell_type": "markdown",
   "metadata": {},
   "source": [
    "train_generator = train_generator_func()\n",
    "model_pretrain.fit_generator(train_generator, steps_per_epoch=120, epochs=50)#, callbacks=[early_stopping])"
   ]
  },
  {
   "cell_type": "code",
   "execution_count": 139,
   "metadata": {
    "scrolled": true
   },
   "outputs": [
    {
     "name": "stdout",
     "output_type": "stream",
     "text": [
      "Epoch 1/50\n",
      "120/120 [==============================] - 44s - loss: 2.5301 - acc: 0.4804    \n",
      "Epoch 2/50\n",
      "120/120 [==============================] - 41s - loss: 2.0290 - acc: 0.6713    \n",
      "Epoch 3/50\n",
      "120/120 [==============================] - 38s - loss: 1.8363 - acc: 0.7103    \n",
      "Epoch 4/50\n",
      "120/120 [==============================] - 36s - loss: 1.8711 - acc: 0.7076    \n",
      "Epoch 5/50\n",
      "120/120 [==============================] - 36s - loss: 1.7520 - acc: 0.7461    \n",
      "Epoch 6/50\n",
      "120/120 [==============================] - 35s - loss: 1.6191 - acc: 0.7708    \n",
      "Epoch 7/50\n",
      "120/120 [==============================] - 35s - loss: 1.9290 - acc: 0.7349    \n",
      "Epoch 8/50\n",
      "120/120 [==============================] - 35s - loss: 2.0580 - acc: 0.7346    \n",
      "Epoch 9/50\n",
      "120/120 [==============================] - 35s - loss: 1.8892 - acc: 0.7565    \n",
      "Epoch 10/50\n",
      "120/120 [==============================] - 35s - loss: 1.2151 - acc: 0.7994    \n",
      "Epoch 11/50\n",
      "120/120 [==============================] - 35s - loss: 1.1642 - acc: 0.8238    \n",
      "Epoch 12/50\n",
      "120/120 [==============================] - 36s - loss: 1.1546 - acc: 0.8347    \n",
      "Epoch 13/50\n",
      "120/120 [==============================] - 36s - loss: 1.2542 - acc: 0.8333    \n",
      "Epoch 14/50\n",
      "120/120 [==============================] - 36s - loss: 1.1205 - acc: 0.8442    \n",
      "Epoch 15/50\n",
      "120/120 [==============================] - 36s - loss: 1.1365 - acc: 0.8626    \n",
      "Epoch 16/50\n",
      "120/120 [==============================] - 36s - loss: 1.1912 - acc: 0.8597    \n",
      "Epoch 17/50\n",
      "120/120 [==============================] - 36s - loss: 1.0787 - acc: 0.8672    \n",
      "Epoch 18/50\n",
      "120/120 [==============================] - 35s - loss: 1.1181 - acc: 0.8717    \n",
      "Epoch 19/50\n",
      "120/120 [==============================] - 35s - loss: 1.0568 - acc: 0.8738    \n",
      "Epoch 20/50\n",
      "120/120 [==============================] - 35s - loss: 1.0580 - acc: 0.8740    \n",
      "Epoch 21/50\n",
      "120/120 [==============================] - 35s - loss: 1.0802 - acc: 0.8835    \n",
      "Epoch 22/50\n",
      "120/120 [==============================] - 35s - loss: 1.0804 - acc: 0.8822    \n",
      "Epoch 23/50\n",
      "120/120 [==============================] - 35s - loss: 1.0567 - acc: 0.8908    \n",
      "Epoch 24/50\n",
      "120/120 [==============================] - 35s - loss: 1.1019 - acc: 0.8839    \n",
      "Epoch 25/50\n",
      "120/120 [==============================] - 35s - loss: 1.1612 - acc: 0.8756    \n",
      "Epoch 26/50\n",
      "120/120 [==============================] - 35s - loss: 1.0676 - acc: 0.8918    \n",
      "Epoch 27/50\n",
      "120/120 [==============================] - 35s - loss: 1.0466 - acc: 0.8928    \n",
      "Epoch 28/50\n",
      "120/120 [==============================] - 35s - loss: 1.0513 - acc: 0.8943    \n",
      "Epoch 29/50\n",
      "120/120 [==============================] - 35s - loss: 1.1018 - acc: 0.8929    \n",
      "Epoch 30/50\n",
      "120/120 [==============================] - 35s - loss: 1.0204 - acc: 0.8997    \n",
      "Epoch 31/50\n",
      "120/120 [==============================] - 35s - loss: 1.0213 - acc: 0.8992    \n",
      "Epoch 32/50\n",
      "120/120 [==============================] - 35s - loss: 1.0776 - acc: 0.8953    \n",
      "Epoch 33/50\n",
      "120/120 [==============================] - 35s - loss: 1.0971 - acc: 0.8960    \n",
      "Epoch 34/50\n",
      "120/120 [==============================] - 35s - loss: 1.1280 - acc: 0.8972    \n",
      "Epoch 35/50\n",
      "120/120 [==============================] - 35s - loss: 1.0615 - acc: 0.8971    \n",
      "Epoch 36/50\n",
      "120/120 [==============================] - 35s - loss: 1.0488 - acc: 0.9061    \n",
      "Epoch 37/50\n",
      "120/120 [==============================] - 35s - loss: 1.0744 - acc: 0.9033    \n",
      "Epoch 38/50\n",
      "120/120 [==============================] - 34s - loss: 1.0286 - acc: 0.9079    \n",
      "Epoch 39/50\n",
      "120/120 [==============================] - 34s - loss: 1.0221 - acc: 0.9043    \n",
      "Epoch 40/50\n",
      "120/120 [==============================] - 35s - loss: 1.0882 - acc: 0.9006    \n",
      "Epoch 41/50\n",
      "120/120 [==============================] - 37s - loss: 1.0694 - acc: 0.8939    \n",
      "Epoch 42/50\n",
      "120/120 [==============================] - 37s - loss: 1.0451 - acc: 0.9043    \n",
      "Epoch 43/50\n",
      "120/120 [==============================] - 37s - loss: 0.9882 - acc: 0.9139    \n",
      "Epoch 44/50\n",
      "120/120 [==============================] - 36s - loss: 1.0470 - acc: 0.9082    \n",
      "Epoch 45/50\n",
      "120/120 [==============================] - 37s - loss: 1.0371 - acc: 0.9082    \n",
      "Epoch 46/50\n",
      "120/120 [==============================] - 36s - loss: 1.0674 - acc: 0.9072    \n",
      "Epoch 47/50\n",
      "120/120 [==============================] - 37s - loss: 1.0592 - acc: 0.9110    \n",
      "Epoch 48/50\n",
      "120/120 [==============================] - 37s - loss: 1.1605 - acc: 0.8964    \n",
      "Epoch 49/50\n",
      "120/120 [==============================] - 36s - loss: 1.0738 - acc: 0.9118    \n",
      "Epoch 50/50\n",
      "120/120 [==============================] - 37s - loss: 1.0921 - acc: 0.9004    \n"
     ]
    },
    {
     "data": {
      "text/plain": [
       "<keras.callbacks.History at 0x26af13f77b8>"
      ]
     },
     "execution_count": 139,
     "metadata": {},
     "output_type": "execute_result"
    }
   ],
   "source": [
    "train_generator = train_generator_func()\n",
    "model.fit_generator(train_generator, steps_per_epoch=120, epochs=50)#, callbacks=[early_stopping])"
   ]
  },
  {
   "cell_type": "markdown",
   "metadata": {
    "scrolled": true
   },
   "source": [
    "hist = model.fit(X_train2, Y_train2, batch_size=32, epochs=200, validation_data=(X_test, Y_test), callbacks=[early_stopping])"
   ]
  },
  {
   "cell_type": "code",
   "execution_count": 113,
   "metadata": {},
   "outputs": [],
   "source": [
    "with open(C.small_voi_path, 'r') as csv_file:\n",
    "    reader = csv.reader(csv_file)\n",
    "    small_vois = dict(reader)\n",
    "    \n",
    "for key in small_vois:\n",
    "    small_vois[key] = [int(x) for x in small_vois[key][1:-1].split(', ')]"
   ]
  },
  {
   "cell_type": "code",
   "execution_count": 114,
   "metadata": {
    "collapsed": true
   },
   "outputs": [],
   "source": [
    "voi_df_art = pd.read_csv(C.art_voi_path)\n",
    "voi_df_ven = pd.read_csv(C.ven_voi_path)\n",
    "voi_df_eq = pd.read_csv(C.eq_voi_path)"
   ]
  },
  {
   "cell_type": "code",
   "execution_count": 68,
   "metadata": {
    "scrolled": true
   },
   "outputs": [
    {
     "data": {
      "text/plain": [
       "['fnh', 'cyst', 'hcc', 'hemangioma', 'colorectal', 'cholangio']"
      ]
     },
     "execution_count": 68,
     "metadata": {},
     "output_type": "execute_result"
    }
   ],
   "source": [
    "cls_mapping"
   ]
  },
  {
   "cell_type": "code",
   "execution_count": 140,
   "metadata": {},
   "outputs": [],
   "source": [
    "X_test = cfunc.separate_phases(X_test)\n",
    "X_train_orig = cfunc.separate_phases(X_train_orig)"
   ]
  },
  {
   "cell_type": "code",
   "execution_count": 141,
   "metadata": {
    "collapsed": true
   },
   "outputs": [],
   "source": [
    "C.output_img_dir = \"Z:\\\\OUTPUT\\\\12-06_run2\""
   ]
  },
  {
   "cell_type": "code",
   "execution_count": 142,
   "metadata": {
    "scrolled": true
   },
   "outputs": [],
   "source": [
    "#plot_with_bbox(fn_list[2], cls_mapping[wrong_guesses[2]])\n",
    "Y_pred = model.predict(X_test)\n",
    "y_true = np.array([max(enumerate(x), key=operator.itemgetter(1))[0] for x in Y_test])\n",
    "y_pred = np.array([max(enumerate(x), key=operator.itemgetter(1))[0] for x in Y_pred])\n",
    "\n",
    "cm = confusion_matrix(y_true, y_pred)\n",
    "f1 = f1_score(y_true, y_pred, average=\"weighted\")\n",
    "\n",
    "cfunc.save_output(Z_test, y_pred, y_true, voi_df_art, small_vois, cls_mapping, C)"
   ]
  },
  {
   "cell_type": "code",
   "execution_count": 73,
   "metadata": {
    "scrolled": true
   },
   "outputs": [],
   "source": [
    "Y_pred = model.predict(X_train_orig)\n",
    "y_true = np.array([max(enumerate(x), key=operator.itemgetter(1))[0] for x in Y_train_orig])\n",
    "y_pred = np.array([max(enumerate(x), key=operator.itemgetter(1))[0] for x in Y_pred])\n",
    "\n",
    "cm = confusion_matrix(y_true, y_pred)\n",
    "f1 = f1_score(y_true, y_pred, average=\"weighted\")\n",
    "\n",
    "cfunc.save_output(Z_train_orig, y_pred, y_true, voi_df_art, small_vois, cls_mapping, C)"
   ]
  },
  {
   "cell_type": "code",
   "execution_count": 128,
   "metadata": {
    "scrolled": false
   },
   "outputs": [
    {
     "data": {
      "text/plain": [
       "['colorectal', 'cyst', 'cholangio', 'hcc', 'hemangioma']"
      ]
     },
     "execution_count": 128,
     "metadata": {},
     "output_type": "execute_result"
    }
   ],
   "source": [
    "cls_mapping"
   ]
  },
  {
   "cell_type": "code",
   "execution_count": 129,
   "metadata": {
    "scrolled": true
   },
   "outputs": [
    {
     "data": {
      "text/plain": [
       "array([[ 9,  3,  1,  0,  1],\n",
       "       [ 0, 13,  2,  0,  0],\n",
       "       [ 0,  0, 12,  0,  0],\n",
       "       [ 1,  0,  2,  8,  0],\n",
       "       [ 0,  0,  0,  0, 12]], dtype=int64)"
      ]
     },
     "execution_count": 129,
     "metadata": {},
     "output_type": "execute_result"
    }
   ],
   "source": [
    "cm"
   ]
  },
  {
   "cell_type": "code",
   "execution_count": 144,
   "metadata": {
    "scrolled": true
   },
   "outputs": [],
   "source": [
    "y_true_simp, y_pred_simp, _ = cfunc.condense_cm(y_true, y_pred, cls_mapping)"
   ]
  },
  {
   "cell_type": "code",
   "execution_count": 145,
   "metadata": {
    "scrolled": true
   },
   "outputs": [
    {
     "data": {
      "text/plain": [
       "0.84375"
      ]
     },
     "execution_count": 145,
     "metadata": {},
     "output_type": "execute_result"
    }
   ],
   "source": [
    "accuracy_score(y_true_simp, y_pred_simp)"
   ]
  },
  {
   "cell_type": "code",
   "execution_count": 143,
   "metadata": {
    "scrolled": false
   },
   "outputs": [
    {
     "data": {
      "text/plain": [
       "0.75"
      ]
     },
     "execution_count": 143,
     "metadata": {},
     "output_type": "execute_result"
    }
   ],
   "source": [
    "accuracy_score(y_true, y_pred)"
   ]
  },
  {
   "cell_type": "markdown",
   "metadata": {},
   "source": [
    "4 cls: 94/94%, 86/88%, 86%/90%\n",
    "5 cls: 80%/89%, 72%/86%\n",
    "\n",
    "6 cls no artificial, separate phases: 84%/86%, 75%/84%\n",
    "6 cls with artificial, separate phases:"
   ]
  },
  {
   "cell_type": "code",
   "execution_count": 365,
   "metadata": {
    "collapsed": true
   },
   "outputs": [],
   "source": [
    "fn_list = Z_test[~np.equal(y_pred, y_true)]\n",
    "wrong_guesses = np.array(y_pred)[~np.equal(y_pred, y_true)]"
   ]
  },
  {
   "cell_type": "code",
   "execution_count": 409,
   "metadata": {
    "scrolled": true
   },
   "outputs": [
    {
     "data": {
      "text/plain": [
       "array(['E100815762_0.npy', '12239513_0.npy', '12042703_2.npy'],\n",
       "      dtype='<U16')"
      ]
     },
     "execution_count": 409,
     "metadata": {},
     "output_type": "execute_result"
    }
   ],
   "source": [
    "Z_test[~np.equal(y_pred, y_true)]"
   ]
  },
  {
   "cell_type": "code",
   "execution_count": 21,
   "metadata": {
    "scrolled": true
   },
   "outputs": [
    {
     "data": {
      "text/html": [
       "<div>\n",
       "<style>\n",
       "    .dataframe thead tr:only-child th {\n",
       "        text-align: right;\n",
       "    }\n",
       "\n",
       "    .dataframe thead th {\n",
       "        text-align: left;\n",
       "    }\n",
       "\n",
       "    .dataframe tbody tr th {\n",
       "        vertical-align: top;\n",
       "    }\n",
       "</style>\n",
       "<table border=\"1\" class=\"dataframe\">\n",
       "  <thead>\n",
       "    <tr style=\"text-align: right;\">\n",
       "      <th></th>\n",
       "      <th>Filename</th>\n",
       "      <th>x1</th>\n",
       "      <th>x2</th>\n",
       "      <th>y1</th>\n",
       "      <th>y2</th>\n",
       "      <th>z1</th>\n",
       "      <th>z2</th>\n",
       "      <th>cls</th>\n",
       "      <th>flipz</th>\n",
       "      <th>dx</th>\n",
       "      <th>dy</th>\n",
       "      <th>dz</th>\n",
       "      <th>id</th>\n",
       "    </tr>\n",
       "  </thead>\n",
       "  <tbody>\n",
       "    <tr>\n",
       "      <th>119</th>\n",
       "      <td>12673726.npy</td>\n",
       "      <td>105</td>\n",
       "      <td>134</td>\n",
       "      <td>76</td>\n",
       "      <td>101</td>\n",
       "      <td>40</td>\n",
       "      <td>53</td>\n",
       "      <td>hemangioma</td>\n",
       "      <td>True</td>\n",
       "      <td>29</td>\n",
       "      <td>25</td>\n",
       "      <td>13</td>\n",
       "      <td>126737261057640</td>\n",
       "    </tr>\n",
       "    <tr>\n",
       "      <th>120</th>\n",
       "      <td>12673726.npy</td>\n",
       "      <td>127</td>\n",
       "      <td>139</td>\n",
       "      <td>103</td>\n",
       "      <td>117</td>\n",
       "      <td>44</td>\n",
       "      <td>51</td>\n",
       "      <td>hemangioma</td>\n",
       "      <td>True</td>\n",
       "      <td>12</td>\n",
       "      <td>14</td>\n",
       "      <td>7</td>\n",
       "      <td>1267372612710344</td>\n",
       "    </tr>\n",
       "  </tbody>\n",
       "</table>\n",
       "</div>"
      ],
      "text/plain": [
       "         Filename   x1   x2   y1   y2  z1  z2         cls  flipz  dx  dy  dz  \\\n",
       "119  12673726.npy  105  134   76  101  40  53  hemangioma   True  29  25  13   \n",
       "120  12673726.npy  127  139  103  117  44  51  hemangioma   True  12  14   7   \n",
       "\n",
       "                   id  \n",
       "119   126737261057640  \n",
       "120  1267372612710344  "
      ]
     },
     "execution_count": 21,
     "metadata": {},
     "output_type": "execute_result"
    }
   ],
   "source": [
    "voi_df_art[voi_df_art[\"Filename\"] == \"12673726.npy\"]"
   ]
  },
  {
   "cell_type": "code",
   "execution_count": 22,
   "metadata": {
    "scrolled": true
   },
   "outputs": [
    {
     "data": {
      "text/html": [
       "<div>\n",
       "<style>\n",
       "    .dataframe thead tr:only-child th {\n",
       "        text-align: right;\n",
       "    }\n",
       "\n",
       "    .dataframe thead th {\n",
       "        text-align: left;\n",
       "    }\n",
       "\n",
       "    .dataframe tbody tr th {\n",
       "        vertical-align: top;\n",
       "    }\n",
       "</style>\n",
       "<table border=\"1\" class=\"dataframe\">\n",
       "  <thead>\n",
       "    <tr style=\"text-align: right;\">\n",
       "      <th></th>\n",
       "      <th>id</th>\n",
       "      <th>x1</th>\n",
       "      <th>x2</th>\n",
       "      <th>y1</th>\n",
       "      <th>y2</th>\n",
       "      <th>z1</th>\n",
       "      <th>z2</th>\n",
       "      <th>dx</th>\n",
       "      <th>dy</th>\n",
       "      <th>dz</th>\n",
       "    </tr>\n",
       "  </thead>\n",
       "  <tbody>\n",
       "    <tr>\n",
       "      <th>74</th>\n",
       "      <td>1267372612710344</td>\n",
       "      <td>127</td>\n",
       "      <td>139</td>\n",
       "      <td>103</td>\n",
       "      <td>117</td>\n",
       "      <td>44</td>\n",
       "      <td>52</td>\n",
       "      <td>12</td>\n",
       "      <td>14</td>\n",
       "      <td>8</td>\n",
       "    </tr>\n",
       "  </tbody>\n",
       "</table>\n",
       "</div>"
      ],
      "text/plain": [
       "                  id   x1   x2   y1   y2  z1  z2  dx  dy  dz\n",
       "74  1267372612710344  127  139  103  117  44  52  12  14   8"
      ]
     },
     "execution_count": 22,
     "metadata": {},
     "output_type": "execute_result"
    }
   ],
   "source": [
    "voi_df_ven[voi_df_ven[\"id\"] == \"1267372612710344\"]"
   ]
  },
  {
   "cell_type": "markdown",
   "metadata": {
    "collapsed": true
   },
   "source": [
    "activ = model2.predict(X_train)\n",
    "#activ = model2.predict(np.expand_dims(X_train[10],axis=0))"
   ]
  },
  {
   "cell_type": "code",
   "execution_count": 316,
   "metadata": {
    "scrolled": true
   },
   "outputs": [
    {
     "name": "stdout",
     "output_type": "stream",
     "text": [
      "Predictions: ['hcc (95.75861% confidence)', 'hcc (99.98515% confidence)', 'hcc (56.77554% confidence)', 'hcc (97.68384% confidence)', 'hcc (96.73136% confidence)', 'hcc (99.99979% confidence)', 'hcc (99.99988% confidence)', 'hcc (99.71866% confidence)', 'cyst (63.61439% confidence)', 'cyst (51.41591% confidence)', 'hcc (99.65365% confidence)', 'hcc (52.72004% confidence)', 'hcc (57.44457% confidence)', 'cyst (99.82330% confidence)', 'cyst (83.69393% confidence)']\n"
     ]
    }
   ],
   "source": [
    "import operator\n",
    "#print(\"Ground truth:\", [cls_mapping[max(enumerate(x), key=operator.itemgetter(1))[0]] for x in Y_val[::30]])\n",
    "Y_ = model.predict(X_test)\n",
    "print(\"Predictions:\", [cls_mapping[max(enumerate(x), key=operator.itemgetter(1))[0]] + \" (%.5f%% confidence)\" % (max(x)*100) for x in Y_])"
   ]
  },
  {
   "cell_type": "code",
   "execution_count": 146,
   "metadata": {},
   "outputs": [],
   "source": [
    "#C.classes_to_include = ['cyst', 'hcc', 'hemangioma', 'cholangio', 'colorectal']#, 'fnh']\n",
    "dims = C.dims\n",
    "nb_classes = len(C.classes_to_include)\n",
    "\n",
    "art_img = Input(shape=(dims[0], dims[1], dims[2], 1))\n",
    "art_x = art_img\n",
    "art_x = Conv3D(filters=64, kernel_size=(3,3,2), activation='relu')(art_x)\n",
    "art_x = MaxPooling3D((2, 2, 2))(art_x)\n",
    "art_x = Dropout(0.5)(art_x)\n",
    "\n",
    "                                \n",
    "ven_img = Input(shape=(dims[0], dims[1], dims[2], 1))\n",
    "ven_x = ven_img\n",
    "ven_x = Conv3D(filters=64, kernel_size=(3,3,2), activation='relu')(ven_x)\n",
    "ven_x = MaxPooling3D((2, 2, 2))(ven_x)\n",
    "ven_x = Dropout(0.5)(ven_x)\n",
    "\n",
    "eq_img = Input(shape=(dims[0], dims[1], dims[2], 1))\n",
    "eq_x = eq_img\n",
    "eq_x = Conv3D(filters=64, kernel_size=(3,3,2), activation='relu')(eq_x)\n",
    "eq_x = MaxPooling3D((2, 2, 2))(eq_x)\n",
    "eq_x = Dropout(0.5)(eq_x)\n",
    "\n",
    "intermed = Concatenate(axis=4)([art_x, ven_x, eq_x])\n",
    "x = Conv3D(filters=100, kernel_size=(3,3,2), activation='relu')(intermed)\n",
    "x = MaxPooling3D((2, 2, 1))(x)\n",
    "x = Dropout(0.5)(x)\n",
    "x = Flatten()(x)\n",
    "\n",
    "img_traits = Input(shape=(2,)) #bounding volume and aspect ratio of lesion\n",
    "\n",
    "intermed = Concatenate(axis=1)([x, img_traits])\n",
    "x = Dense(100, activation='relu')(intermed)#, kernel_initializer='normal', kernel_regularizer=l1(.01), kernel_constraint=max_norm(3.))(x)\n",
    "x = Dropout(0.5)(x)\n",
    "pred_class = Dense(nb_classes, activation='softmax')(x)#Dense(nb_classes, activation='softmax')(x)"
   ]
  },
  {
   "cell_type": "code",
   "execution_count": 147,
   "metadata": {
    "scrolled": true
   },
   "outputs": [
    {
     "name": "stdout",
     "output_type": "stream",
     "text": [
      "________________________________________________________________________________________________________________________\n",
      "Layer (type)                           Output Shape               Param #       Connected to                            \n",
      "========================================================================================================================\n",
      "input_25 (InputLayer)                  (None, 36, 36, 12, 1)      0                                                     \n",
      "________________________________________________________________________________________________________________________\n",
      "input_26 (InputLayer)                  (None, 36, 36, 12, 1)      0                                                     \n",
      "________________________________________________________________________________________________________________________\n",
      "input_27 (InputLayer)                  (None, 36, 36, 12, 1)      0                                                     \n",
      "________________________________________________________________________________________________________________________\n",
      "conv3d_29 (Conv3D)                     (None, 34, 34, 11, 64)     1216          input_25[0][0]                          \n",
      "________________________________________________________________________________________________________________________\n",
      "conv3d_30 (Conv3D)                     (None, 34, 34, 11, 64)     1216          input_26[0][0]                          \n",
      "________________________________________________________________________________________________________________________\n",
      "conv3d_31 (Conv3D)                     (None, 34, 34, 11, 64)     1216          input_27[0][0]                          \n",
      "________________________________________________________________________________________________________________________\n",
      "max_pooling3d_25 (MaxPooling3D)        (None, 17, 17, 5, 64)      0             conv3d_29[0][0]                         \n",
      "________________________________________________________________________________________________________________________\n",
      "max_pooling3d_26 (MaxPooling3D)        (None, 17, 17, 5, 64)      0             conv3d_30[0][0]                         \n",
      "________________________________________________________________________________________________________________________\n",
      "max_pooling3d_27 (MaxPooling3D)        (None, 17, 17, 5, 64)      0             conv3d_31[0][0]                         \n",
      "________________________________________________________________________________________________________________________\n",
      "dropout_37 (Dropout)                   (None, 17, 17, 5, 64)      0             max_pooling3d_25[0][0]                  \n",
      "________________________________________________________________________________________________________________________\n",
      "dropout_38 (Dropout)                   (None, 17, 17, 5, 64)      0             max_pooling3d_26[0][0]                  \n",
      "________________________________________________________________________________________________________________________\n",
      "dropout_39 (Dropout)                   (None, 17, 17, 5, 64)      0             max_pooling3d_27[0][0]                  \n",
      "________________________________________________________________________________________________________________________\n",
      "concatenate_13 (Concatenate)           (None, 17, 17, 5, 192)     0             dropout_37[0][0]                        \n",
      "                                                                                dropout_38[0][0]                        \n",
      "                                                                                dropout_39[0][0]                        \n",
      "________________________________________________________________________________________________________________________\n",
      "conv3d_32 (Conv3D)                     (None, 15, 15, 4, 100)     345700        concatenate_13[0][0]                    \n",
      "________________________________________________________________________________________________________________________\n",
      "max_pooling3d_28 (MaxPooling3D)        (None, 7, 7, 4, 100)       0             conv3d_32[0][0]                         \n",
      "________________________________________________________________________________________________________________________\n",
      "dropout_40 (Dropout)                   (None, 7, 7, 4, 100)       0             max_pooling3d_28[0][0]                  \n",
      "________________________________________________________________________________________________________________________\n",
      "flatten_9 (Flatten)                    (None, 19600)              0             dropout_40[0][0]                        \n",
      "________________________________________________________________________________________________________________________\n",
      "input_28 (InputLayer)                  (None, 2)                  0                                                     \n",
      "________________________________________________________________________________________________________________________\n",
      "concatenate_14 (Concatenate)           (None, 19602)              0             flatten_9[0][0]                         \n",
      "                                                                                input_28[0][0]                          \n",
      "________________________________________________________________________________________________________________________\n",
      "dense_17 (Dense)                       (None, 100)                1960300       concatenate_14[0][0]                    \n",
      "________________________________________________________________________________________________________________________\n",
      "dropout_41 (Dropout)                   (None, 100)                0             dense_17[0][0]                          \n",
      "________________________________________________________________________________________________________________________\n",
      "dense_18 (Dense)                       (None, 5)                  505           dropout_41[0][0]                        \n",
      "========================================================================================================================\n",
      "Total params: 2,310,153\n",
      "Trainable params: 2,310,153\n",
      "Non-trainable params: 0\n",
      "________________________________________________________________________________________________________________________\n"
     ]
    }
   ],
   "source": [
    "optim = Adam(lr=0.01)#5, decay=0.001)\n",
    "early_stopping = EarlyStopping(monitor='acc', min_delta=0.01, patience=4)\n",
    "\n",
    "model = Model([art_img, ven_img, eq_img, img_traits], pred_class)\n",
    "model.compile(optimizer='adam', loss='categorical_crossentropy', metrics=['accuracy'])\n",
    "model.summary(line_length=120)"
   ]
  },
  {
   "cell_type": "code",
   "execution_count": 86,
   "metadata": {
    "scrolled": false
   },
   "outputs": [
    {
     "name": "stdout",
     "output_type": "stream",
     "text": [
      "0.20054101943969727\n"
     ]
    }
   ],
   "source": [
    "a=time.time()\n",
    "Y_ = model.predict(X_val)\n",
    "print(time.time()-a)"
   ]
  },
  {
   "cell_type": "code",
   "execution_count": 136,
   "metadata": {
    "collapsed": true
   },
   "outputs": [],
   "source": [
    "import matplotlib.pyplot as plt\n",
    "%matplotlib inline"
   ]
  }
 ],
 "metadata": {
  "kernelspec": {
   "display_name": "Python 3",
   "language": "python",
   "name": "python3"
  },
  "language_info": {
   "codemirror_mode": {
    "name": "ipython",
    "version": 3
   },
   "file_extension": ".py",
   "mimetype": "text/x-python",
   "name": "python",
   "nbconvert_exporter": "python",
   "pygments_lexer": "ipython3",
   "version": "3.5.0"
  }
 },
 "nbformat": 4,
 "nbformat_minor": 2
}
