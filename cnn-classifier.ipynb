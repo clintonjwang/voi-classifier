{
 "cells": [
  {
   "cell_type": "code",
   "execution_count": 3,
   "metadata": {
    "scrolled": false
   },
   "outputs": [
    {
     "name": "stderr",
     "output_type": "stream",
     "text": [
      "Using TensorFlow backend.\n"
     ]
    }
   ],
   "source": [
    "from keras.models import Model\n",
    "from keras.optimizers import Adam\n",
    "from keras.callbacks import EarlyStopping\n",
    "from keras.utils import np_utils\n",
    "from sklearn.metrics import confusion_matrix, f1_score, accuracy_score\n",
    "\n",
    "import cnn_builder as cbuild\n",
    "import cnn_methods as cfunc\n",
    "import config\n",
    "import csv\n",
    "import helper_fxns as hf\n",
    "import importlib\n",
    "import matplotlib.pyplot as plt\n",
    "import numpy as np\n",
    "import operator\n",
    "import os\n",
    "import pandas as pd\n",
    "import random\n",
    "%matplotlib inline"
   ]
  },
  {
   "cell_type": "code",
   "execution_count": 21,
   "metadata": {
    "scrolled": true
   },
   "outputs": [],
   "source": [
    "importlib.reload(config)\n",
    "importlib.reload(cfunc)\n",
    "importlib.reload(hf)\n",
    "importlib.reload(cbuild)\n",
    "C = config.Config()"
   ]
  },
  {
   "cell_type": "code",
   "execution_count": null,
   "metadata": {
    "scrolled": true
   },
   "outputs": [],
   "source": [
    "cbuild.overnight_run(C)"
   ]
  },
  {
   "cell_type": "code",
   "execution_count": 47,
   "metadata": {
    "collapsed": true
   },
   "outputs": [],
   "source": []
  },
  {
   "cell_type": "code",
   "execution_count": 69,
   "metadata": {
    "scrolled": true
   },
   "outputs": [
    {
     "name": "stdout",
     "output_type": "stream",
     "text": [
      "____________________________________________________________________________________________________\n",
      "Layer (type)                     Output Shape          Param #     Connected to                     \n",
      "====================================================================================================\n",
      "input_143 (InputLayer)           (None, 36, 36, 12, 1) 0                                            \n",
      "____________________________________________________________________________________________________\n",
      "input_144 (InputLayer)           (None, 36, 36, 12, 1) 0                                            \n",
      "____________________________________________________________________________________________________\n",
      "input_145 (InputLayer)           (None, 36, 36, 12, 1) 0                                            \n",
      "____________________________________________________________________________________________________\n",
      "conv3d_178 (Conv3D)              (None, 32, 32, 10, 64 1792        input_143[0][0]                  \n",
      "____________________________________________________________________________________________________\n",
      "conv3d_179 (Conv3D)              (None, 32, 32, 10, 64 1792        input_144[0][0]                  \n",
      "____________________________________________________________________________________________________\n",
      "conv3d_180 (Conv3D)              (None, 32, 32, 10, 64 1792        input_145[0][0]                  \n",
      "____________________________________________________________________________________________________\n",
      "batch_normalization_246 (BatchNo (None, 32, 32, 10, 64 256         conv3d_178[0][0]                 \n",
      "____________________________________________________________________________________________________\n",
      "batch_normalization_247 (BatchNo (None, 32, 32, 10, 64 256         conv3d_179[0][0]                 \n",
      "____________________________________________________________________________________________________\n",
      "batch_normalization_248 (BatchNo (None, 32, 32, 10, 64 256         conv3d_180[0][0]                 \n",
      "____________________________________________________________________________________________________\n",
      "elu_133 (ELU)                    (None, 32, 32, 10, 64 0           batch_normalization_246[0][0]    \n",
      "____________________________________________________________________________________________________\n",
      "elu_134 (ELU)                    (None, 32, 32, 10, 64 0           batch_normalization_247[0][0]    \n",
      "____________________________________________________________________________________________________\n",
      "elu_135 (ELU)                    (None, 32, 32, 10, 64 0           batch_normalization_248[0][0]    \n",
      "____________________________________________________________________________________________________\n",
      "max_pooling3d_141 (MaxPooling3D) (None, 16, 16, 5, 64) 0           elu_133[0][0]                    \n",
      "____________________________________________________________________________________________________\n",
      "max_pooling3d_142 (MaxPooling3D) (None, 16, 16, 5, 64) 0           elu_134[0][0]                    \n",
      "____________________________________________________________________________________________________\n",
      "max_pooling3d_143 (MaxPooling3D) (None, 16, 16, 5, 64) 0           elu_135[0][0]                    \n",
      "____________________________________________________________________________________________________\n",
      "concatenate_71 (Concatenate)     (None, 16, 16, 5, 192 0           max_pooling3d_141[0][0]          \n",
      "                                                                   max_pooling3d_142[0][0]          \n",
      "                                                                   max_pooling3d_143[0][0]          \n",
      "____________________________________________________________________________________________________\n",
      "conv3d_181 (Conv3D)              (None, 14, 14, 3, 128 663680      concatenate_71[0][0]             \n",
      "____________________________________________________________________________________________________\n",
      "batch_normalization_249 (BatchNo (None, 14, 14, 3, 128 512         conv3d_181[0][0]                 \n",
      "____________________________________________________________________________________________________\n",
      "elu_136 (ELU)                    (None, 14, 14, 3, 128 0           batch_normalization_249[0][0]    \n",
      "____________________________________________________________________________________________________\n",
      "conv3d_182 (Conv3D)              (None, 12, 12, 1, 100 345700      elu_136[0][0]                    \n",
      "____________________________________________________________________________________________________\n",
      "batch_normalization_250 (BatchNo (None, 12, 12, 1, 100 400         conv3d_182[0][0]                 \n",
      "____________________________________________________________________________________________________\n",
      "elu_137 (ELU)                    (None, 12, 12, 1, 100 0           batch_normalization_250[0][0]    \n",
      "____________________________________________________________________________________________________\n",
      "max_pooling3d_144 (MaxPooling3D) (None, 6, 6, 1, 100)  0           elu_137[0][0]                    \n",
      "____________________________________________________________________________________________________\n",
      "flatten_36 (Flatten)             (None, 3600)          0           max_pooling3d_144[0][0]          \n",
      "____________________________________________________________________________________________________\n",
      "input_146 (InputLayer)           (None, 2)             0                                            \n",
      "____________________________________________________________________________________________________\n",
      "concatenate_72 (Concatenate)     (None, 3602)          0           flatten_36[0][0]                 \n",
      "                                                                   input_146[0][0]                  \n",
      "____________________________________________________________________________________________________\n",
      "dense_71 (Dense)                 (None, 100)           360300      concatenate_72[0][0]             \n",
      "____________________________________________________________________________________________________\n",
      "batch_normalization_251 (BatchNo (None, 100)           400         dense_71[0][0]                   \n",
      "____________________________________________________________________________________________________\n",
      "elu_138 (ELU)                    (None, 100)           0           batch_normalization_251[0][0]    \n",
      "____________________________________________________________________________________________________\n",
      "dense_72 (Dense)                 (None, 6)             606         elu_138[0][0]                    \n",
      "____________________________________________________________________________________________________\n",
      "batch_normalization_252 (BatchNo (None, 6)             24          dense_72[0][0]                   \n",
      "____________________________________________________________________________________________________\n",
      "activation_44 (Activation)       (None, 6)             0           batch_normalization_252[0][0]    \n",
      "====================================================================================================\n",
      "Total params: 1,377,766\n",
      "Trainable params: 1,376,714\n",
      "Non-trainable params: 1,052\n",
      "____________________________________________________________________________________________________\n"
     ]
    }
   ],
   "source": [
    "model = cbuild.build_cnn(C, 'adam')#Adam(lr=.005)\n",
    "model.summary()"
   ]
  },
  {
   "cell_type": "markdown",
   "metadata": {},
   "source": [
    "model = cbuild.run_cnn(model, C)"
   ]
  },
  {
   "cell_type": "code",
   "execution_count": 70,
   "metadata": {
    "scrolled": true
   },
   "outputs": [
    {
     "name": "stdout",
     "output_type": "stream",
     "text": [
      "{'hcc': 84, 'cholangio': 56, 'fnh': 59, 'colorectal': 72, 'hemangioma': 56, 'cyst': 79}\n"
     ]
    }
   ],
   "source": [
    "nb_classes = len(C.classes_to_include)\n",
    "voi_df = pd.read_csv(C.art_voi_path)\n",
    "orig_data_dict, num_samples = cfunc.collect_unaug_data(C, voi_df)\n",
    "print(num_samples)\n",
    "\n",
    "avg_X2 = {}\n",
    "for cls in C.classes_to_include:\n",
    "    avg_X2[cls] = np.mean(orig_data_dict[cls][1], axis=0)"
   ]
  },
  {
   "cell_type": "code",
   "execution_count": 71,
   "metadata": {
    "scrolled": true
   },
   "outputs": [
    {
     "name": "stdout",
     "output_type": "stream",
     "text": [
      "hcc has 67 samples for training (3350 after augmentation) and 17 for testing\n",
      "cholangio has 45 samples for training (2250 after augmentation) and 11 for testing\n",
      "fnh has 47 samples for training (2350 after augmentation) and 12 for testing\n",
      "colorectal has 58 samples for training (2900 after augmentation) and 14 for testing\n",
      "hemangioma has 45 samples for training (2250 after augmentation) and 11 for testing\n",
      "cyst has 63 samples for training (3150 after augmentation) and 16 for testing\n"
     ]
    }
   ],
   "source": [
    "train_ids = {} #filenames of training set originals\n",
    "test_ids = {} #filenames of test set\n",
    "X_test = []\n",
    "X2_test = []\n",
    "Y_test = []\n",
    "Z_test = []\n",
    "X_train_orig = []\n",
    "X2_train_orig = []\n",
    "Y_train_orig = []\n",
    "Z_train_orig = []\n",
    "\n",
    "train_samples = {}\n",
    "\n",
    "for cls_num, cls in enumerate(orig_data_dict):\n",
    "    cls_num = C.classes_to_include.index(cls)\n",
    "\n",
    "    train_samples[cls] = round(num_samples[cls]*C.train_frac)\n",
    "\n",
    "    order = np.random.permutation(list(range(num_samples[cls])))\n",
    "    train_ids[cls] = list(orig_data_dict[cls][2][order[:train_samples[cls]]])\n",
    "    test_ids[cls] = list(orig_data_dict[cls][2][order[train_samples[cls]:]])\n",
    "\n",
    "    X_test = X_test + list(orig_data_dict[cls][0][order[train_samples[cls]:]])\n",
    "    X2_test = X2_test + list(orig_data_dict[cls][1][order[train_samples[cls]:]])\n",
    "    Y_test = Y_test + [[0] * cls_num + [1] + [0] * (nb_classes - cls_num - 1)] * \\\n",
    "                        (num_samples[cls] - train_samples[cls])\n",
    "    Z_test = Z_test + test_ids[cls]\n",
    "\n",
    "    X_train_orig = X_train_orig + list(orig_data_dict[cls][0][order[:train_samples[cls]]])\n",
    "    X2_train_orig = X2_train_orig + list(orig_data_dict[cls][1][order[:train_samples[cls]]])\n",
    "    Y_train_orig = Y_train_orig + [[0] * cls_num + [1] + [0] * (nb_classes - cls_num - 1)] * \\\n",
    "                        (train_samples[cls])\n",
    "    Z_train_orig = Z_train_orig + train_ids[cls]\n",
    "\n",
    "    print(\"%s has %d samples for training (%d after augmentation) and %d for testing\" %\n",
    "          (cls, train_samples[cls], train_samples[cls] * C.aug_factor, num_samples[cls] - train_samples[cls]))\n",
    "\n",
    "#Y_test = np_utils.to_categorical(Y_test, nb_classes)\n",
    "#Y_train_orig = np_utils.to_categorical(Y_train_orig, nb_classes)\n",
    "X_test = [np.array(X_test), np.array(X2_test)]\n",
    "X_train_orig = [np.array(X_train_orig), np.array(X2_train_orig)]\n",
    "\n",
    "Y_test = np.array(Y_test)\n",
    "Y_train_orig = np.array(Y_train_orig)\n",
    "\n",
    "Z_test = np.array(Z_test)\n",
    "Z_train_orig = np.array(Z_train_orig)\n",
    "\n",
    "X_test = cfunc.separate_phases(X_test)\n",
    "X_train_orig = cfunc.separate_phases(X_train_orig)"
   ]
  },
  {
   "cell_type": "markdown",
   "metadata": {},
   "source": [
    "train_generator = train_generator_func()\n",
    "model_pretrain.fit_generator(train_generator, steps_per_epoch=120, epochs=50)#, callbacks=[early_stopping])"
   ]
  },
  {
   "cell_type": "code",
   "execution_count": 72,
   "metadata": {
    "scrolled": true
   },
   "outputs": [
    {
     "name": "stdout",
     "output_type": "stream",
     "text": [
      "Epoch 1/15\n",
      "200/200 [==============================] - 202s - loss: 0.7558 - acc: 0.7826   \n",
      "Epoch 2/15\n",
      "200/200 [==============================] - 127s - loss: 0.5136 - acc: 0.8714   \n",
      "Epoch 3/15\n",
      "200/200 [==============================] - 107s - loss: 0.4028 - acc: 0.9031   \n",
      "Epoch 4/15\n",
      " 45/200 [=====>........................] - ETA: 79s - loss: 0.3461 - acc: 0.9199"
     ]
    },
    {
     "ename": "KeyboardInterrupt",
     "evalue": "",
     "output_type": "error",
     "traceback": [
      "\u001b[1;31m---------------------------------------------------------------------------\u001b[0m",
      "\u001b[1;31mKeyboardInterrupt\u001b[0m                         Traceback (most recent call last)",
      "\u001b[1;32m<ipython-input-72-83c6424d1d9f>\u001b[0m in \u001b[0;36m<module>\u001b[1;34m()\u001b[0m\n\u001b[0;32m      1\u001b[0m \u001b[1;31m#early_stopping = EarlyStopping(monitor='acc', min_delta=0.01, patience=4)\u001b[0m\u001b[1;33m\u001b[0m\u001b[1;33m\u001b[0m\u001b[0m\n\u001b[0;32m      2\u001b[0m \u001b[0mtrain_generator\u001b[0m \u001b[1;33m=\u001b[0m \u001b[0mcbuild\u001b[0m\u001b[1;33m.\u001b[0m\u001b[0mtrain_generator_func\u001b[0m\u001b[1;33m(\u001b[0m\u001b[0mC\u001b[0m\u001b[1;33m,\u001b[0m \u001b[0mtrain_ids\u001b[0m\u001b[1;33m,\u001b[0m \u001b[0mvoi_df\u001b[0m\u001b[1;33m,\u001b[0m \u001b[0mavg_X2\u001b[0m\u001b[1;33m,\u001b[0m \u001b[0mn\u001b[0m\u001b[1;33m=\u001b[0m\u001b[1;36m5\u001b[0m\u001b[1;33m,\u001b[0m \u001b[0mn_art\u001b[0m\u001b[1;33m=\u001b[0m\u001b[1;36m3\u001b[0m\u001b[1;33m)\u001b[0m\u001b[1;33m\u001b[0m\u001b[0m\n\u001b[1;32m----> 3\u001b[1;33m \u001b[0mhist\u001b[0m \u001b[1;33m=\u001b[0m \u001b[0mmodel\u001b[0m\u001b[1;33m.\u001b[0m\u001b[0mfit_generator\u001b[0m\u001b[1;33m(\u001b[0m\u001b[0mtrain_generator\u001b[0m\u001b[1;33m,\u001b[0m \u001b[0msteps_per_epoch\u001b[0m\u001b[1;33m=\u001b[0m\u001b[1;36m200\u001b[0m\u001b[1;33m,\u001b[0m \u001b[0mepochs\u001b[0m\u001b[1;33m=\u001b[0m\u001b[1;36m15\u001b[0m\u001b[1;33m)\u001b[0m\u001b[1;31m#, callbacks=[early_stopping])\u001b[0m\u001b[1;33m\u001b[0m\u001b[0m\n\u001b[0m",
      "\u001b[1;32m~\\AppData\\Local\\conda\\conda\\envs\\old-keras\\lib\\site-packages\\keras\\legacy\\interfaces.py\u001b[0m in \u001b[0;36mwrapper\u001b[1;34m(*args, **kwargs)\u001b[0m\n\u001b[0;32m     85\u001b[0m                 warnings.warn('Update your `' + object_name +\n\u001b[0;32m     86\u001b[0m                               '` call to the Keras 2 API: ' + signature, stacklevel=2)\n\u001b[1;32m---> 87\u001b[1;33m             \u001b[1;32mreturn\u001b[0m \u001b[0mfunc\u001b[0m\u001b[1;33m(\u001b[0m\u001b[1;33m*\u001b[0m\u001b[0margs\u001b[0m\u001b[1;33m,\u001b[0m \u001b[1;33m**\u001b[0m\u001b[0mkwargs\u001b[0m\u001b[1;33m)\u001b[0m\u001b[1;33m\u001b[0m\u001b[0m\n\u001b[0m\u001b[0;32m     88\u001b[0m         \u001b[0mwrapper\u001b[0m\u001b[1;33m.\u001b[0m\u001b[0m_original_function\u001b[0m \u001b[1;33m=\u001b[0m \u001b[0mfunc\u001b[0m\u001b[1;33m\u001b[0m\u001b[0m\n\u001b[0;32m     89\u001b[0m         \u001b[1;32mreturn\u001b[0m \u001b[0mwrapper\u001b[0m\u001b[1;33m\u001b[0m\u001b[0m\n",
      "\u001b[1;32m~\\AppData\\Local\\conda\\conda\\envs\\old-keras\\lib\\site-packages\\keras\\engine\\training.py\u001b[0m in \u001b[0;36mfit_generator\u001b[1;34m(self, generator, steps_per_epoch, epochs, verbose, callbacks, validation_data, validation_steps, class_weight, max_queue_size, workers, use_multiprocessing, initial_epoch)\u001b[0m\n\u001b[0;32m   1838\u001b[0m                     outs = self.train_on_batch(x, y,\n\u001b[0;32m   1839\u001b[0m                                                \u001b[0msample_weight\u001b[0m\u001b[1;33m=\u001b[0m\u001b[0msample_weight\u001b[0m\u001b[1;33m,\u001b[0m\u001b[1;33m\u001b[0m\u001b[0m\n\u001b[1;32m-> 1840\u001b[1;33m                                                class_weight=class_weight)\n\u001b[0m\u001b[0;32m   1841\u001b[0m \u001b[1;33m\u001b[0m\u001b[0m\n\u001b[0;32m   1842\u001b[0m                     \u001b[1;32mif\u001b[0m \u001b[1;32mnot\u001b[0m \u001b[0misinstance\u001b[0m\u001b[1;33m(\u001b[0m\u001b[0mouts\u001b[0m\u001b[1;33m,\u001b[0m \u001b[0mlist\u001b[0m\u001b[1;33m)\u001b[0m\u001b[1;33m:\u001b[0m\u001b[1;33m\u001b[0m\u001b[0m\n",
      "\u001b[1;32m~\\AppData\\Local\\conda\\conda\\envs\\old-keras\\lib\\site-packages\\keras\\engine\\training.py\u001b[0m in \u001b[0;36mtrain_on_batch\u001b[1;34m(self, x, y, sample_weight, class_weight)\u001b[0m\n\u001b[0;32m   1563\u001b[0m             \u001b[0mins\u001b[0m \u001b[1;33m=\u001b[0m \u001b[0mx\u001b[0m \u001b[1;33m+\u001b[0m \u001b[0my\u001b[0m \u001b[1;33m+\u001b[0m \u001b[0msample_weights\u001b[0m\u001b[1;33m\u001b[0m\u001b[0m\n\u001b[0;32m   1564\u001b[0m         \u001b[0mself\u001b[0m\u001b[1;33m.\u001b[0m\u001b[0m_make_train_function\u001b[0m\u001b[1;33m(\u001b[0m\u001b[1;33m)\u001b[0m\u001b[1;33m\u001b[0m\u001b[0m\n\u001b[1;32m-> 1565\u001b[1;33m         \u001b[0moutputs\u001b[0m \u001b[1;33m=\u001b[0m \u001b[0mself\u001b[0m\u001b[1;33m.\u001b[0m\u001b[0mtrain_function\u001b[0m\u001b[1;33m(\u001b[0m\u001b[0mins\u001b[0m\u001b[1;33m)\u001b[0m\u001b[1;33m\u001b[0m\u001b[0m\n\u001b[0m\u001b[0;32m   1566\u001b[0m         \u001b[1;32mif\u001b[0m \u001b[0mlen\u001b[0m\u001b[1;33m(\u001b[0m\u001b[0moutputs\u001b[0m\u001b[1;33m)\u001b[0m \u001b[1;33m==\u001b[0m \u001b[1;36m1\u001b[0m\u001b[1;33m:\u001b[0m\u001b[1;33m\u001b[0m\u001b[0m\n\u001b[0;32m   1567\u001b[0m             \u001b[1;32mreturn\u001b[0m \u001b[0moutputs\u001b[0m\u001b[1;33m[\u001b[0m\u001b[1;36m0\u001b[0m\u001b[1;33m]\u001b[0m\u001b[1;33m\u001b[0m\u001b[0m\n",
      "\u001b[1;32m~\\AppData\\Local\\conda\\conda\\envs\\old-keras\\lib\\site-packages\\keras\\backend\\tensorflow_backend.py\u001b[0m in \u001b[0;36m__call__\u001b[1;34m(self, inputs)\u001b[0m\n\u001b[0;32m   2266\u001b[0m         updated = session.run(self.outputs + [self.updates_op],\n\u001b[0;32m   2267\u001b[0m                               \u001b[0mfeed_dict\u001b[0m\u001b[1;33m=\u001b[0m\u001b[0mfeed_dict\u001b[0m\u001b[1;33m,\u001b[0m\u001b[1;33m\u001b[0m\u001b[0m\n\u001b[1;32m-> 2268\u001b[1;33m                               **self.session_kwargs)\n\u001b[0m\u001b[0;32m   2269\u001b[0m         \u001b[1;32mreturn\u001b[0m \u001b[0mupdated\u001b[0m\u001b[1;33m[\u001b[0m\u001b[1;33m:\u001b[0m\u001b[0mlen\u001b[0m\u001b[1;33m(\u001b[0m\u001b[0mself\u001b[0m\u001b[1;33m.\u001b[0m\u001b[0moutputs\u001b[0m\u001b[1;33m)\u001b[0m\u001b[1;33m]\u001b[0m\u001b[1;33m\u001b[0m\u001b[0m\n\u001b[0;32m   2270\u001b[0m \u001b[1;33m\u001b[0m\u001b[0m\n",
      "\u001b[1;32m~\\AppData\\Local\\conda\\conda\\envs\\old-keras\\lib\\site-packages\\tensorflow\\python\\client\\session.py\u001b[0m in \u001b[0;36mrun\u001b[1;34m(self, fetches, feed_dict, options, run_metadata)\u001b[0m\n\u001b[0;32m    893\u001b[0m     \u001b[1;32mtry\u001b[0m\u001b[1;33m:\u001b[0m\u001b[1;33m\u001b[0m\u001b[0m\n\u001b[0;32m    894\u001b[0m       result = self._run(None, fetches, feed_dict, options_ptr,\n\u001b[1;32m--> 895\u001b[1;33m                          run_metadata_ptr)\n\u001b[0m\u001b[0;32m    896\u001b[0m       \u001b[1;32mif\u001b[0m \u001b[0mrun_metadata\u001b[0m\u001b[1;33m:\u001b[0m\u001b[1;33m\u001b[0m\u001b[0m\n\u001b[0;32m    897\u001b[0m         \u001b[0mproto_data\u001b[0m \u001b[1;33m=\u001b[0m \u001b[0mtf_session\u001b[0m\u001b[1;33m.\u001b[0m\u001b[0mTF_GetBuffer\u001b[0m\u001b[1;33m(\u001b[0m\u001b[0mrun_metadata_ptr\u001b[0m\u001b[1;33m)\u001b[0m\u001b[1;33m\u001b[0m\u001b[0m\n",
      "\u001b[1;32m~\\AppData\\Local\\conda\\conda\\envs\\old-keras\\lib\\site-packages\\tensorflow\\python\\client\\session.py\u001b[0m in \u001b[0;36m_run\u001b[1;34m(self, handle, fetches, feed_dict, options, run_metadata)\u001b[0m\n\u001b[0;32m   1122\u001b[0m     \u001b[1;32mif\u001b[0m \u001b[0mfinal_fetches\u001b[0m \u001b[1;32mor\u001b[0m \u001b[0mfinal_targets\u001b[0m \u001b[1;32mor\u001b[0m \u001b[1;33m(\u001b[0m\u001b[0mhandle\u001b[0m \u001b[1;32mand\u001b[0m \u001b[0mfeed_dict_tensor\u001b[0m\u001b[1;33m)\u001b[0m\u001b[1;33m:\u001b[0m\u001b[1;33m\u001b[0m\u001b[0m\n\u001b[0;32m   1123\u001b[0m       results = self._do_run(handle, final_targets, final_fetches,\n\u001b[1;32m-> 1124\u001b[1;33m                              feed_dict_tensor, options, run_metadata)\n\u001b[0m\u001b[0;32m   1125\u001b[0m     \u001b[1;32melse\u001b[0m\u001b[1;33m:\u001b[0m\u001b[1;33m\u001b[0m\u001b[0m\n\u001b[0;32m   1126\u001b[0m       \u001b[0mresults\u001b[0m \u001b[1;33m=\u001b[0m \u001b[1;33m[\u001b[0m\u001b[1;33m]\u001b[0m\u001b[1;33m\u001b[0m\u001b[0m\n",
      "\u001b[1;32m~\\AppData\\Local\\conda\\conda\\envs\\old-keras\\lib\\site-packages\\tensorflow\\python\\client\\session.py\u001b[0m in \u001b[0;36m_do_run\u001b[1;34m(self, handle, target_list, fetch_list, feed_dict, options, run_metadata)\u001b[0m\n\u001b[0;32m   1319\u001b[0m     \u001b[1;32mif\u001b[0m \u001b[0mhandle\u001b[0m \u001b[1;32mis\u001b[0m \u001b[1;32mNone\u001b[0m\u001b[1;33m:\u001b[0m\u001b[1;33m\u001b[0m\u001b[0m\n\u001b[0;32m   1320\u001b[0m       return self._do_call(_run_fn, self._session, feeds, fetches, targets,\n\u001b[1;32m-> 1321\u001b[1;33m                            options, run_metadata)\n\u001b[0m\u001b[0;32m   1322\u001b[0m     \u001b[1;32melse\u001b[0m\u001b[1;33m:\u001b[0m\u001b[1;33m\u001b[0m\u001b[0m\n\u001b[0;32m   1323\u001b[0m       \u001b[1;32mreturn\u001b[0m \u001b[0mself\u001b[0m\u001b[1;33m.\u001b[0m\u001b[0m_do_call\u001b[0m\u001b[1;33m(\u001b[0m\u001b[0m_prun_fn\u001b[0m\u001b[1;33m,\u001b[0m \u001b[0mself\u001b[0m\u001b[1;33m.\u001b[0m\u001b[0m_session\u001b[0m\u001b[1;33m,\u001b[0m \u001b[0mhandle\u001b[0m\u001b[1;33m,\u001b[0m \u001b[0mfeeds\u001b[0m\u001b[1;33m,\u001b[0m \u001b[0mfetches\u001b[0m\u001b[1;33m)\u001b[0m\u001b[1;33m\u001b[0m\u001b[0m\n",
      "\u001b[1;32m~\\AppData\\Local\\conda\\conda\\envs\\old-keras\\lib\\site-packages\\tensorflow\\python\\client\\session.py\u001b[0m in \u001b[0;36m_do_call\u001b[1;34m(self, fn, *args)\u001b[0m\n\u001b[0;32m   1325\u001b[0m   \u001b[1;32mdef\u001b[0m \u001b[0m_do_call\u001b[0m\u001b[1;33m(\u001b[0m\u001b[0mself\u001b[0m\u001b[1;33m,\u001b[0m \u001b[0mfn\u001b[0m\u001b[1;33m,\u001b[0m \u001b[1;33m*\u001b[0m\u001b[0margs\u001b[0m\u001b[1;33m)\u001b[0m\u001b[1;33m:\u001b[0m\u001b[1;33m\u001b[0m\u001b[0m\n\u001b[0;32m   1326\u001b[0m     \u001b[1;32mtry\u001b[0m\u001b[1;33m:\u001b[0m\u001b[1;33m\u001b[0m\u001b[0m\n\u001b[1;32m-> 1327\u001b[1;33m       \u001b[1;32mreturn\u001b[0m \u001b[0mfn\u001b[0m\u001b[1;33m(\u001b[0m\u001b[1;33m*\u001b[0m\u001b[0margs\u001b[0m\u001b[1;33m)\u001b[0m\u001b[1;33m\u001b[0m\u001b[0m\n\u001b[0m\u001b[0;32m   1328\u001b[0m     \u001b[1;32mexcept\u001b[0m \u001b[0merrors\u001b[0m\u001b[1;33m.\u001b[0m\u001b[0mOpError\u001b[0m \u001b[1;32mas\u001b[0m \u001b[0me\u001b[0m\u001b[1;33m:\u001b[0m\u001b[1;33m\u001b[0m\u001b[0m\n\u001b[0;32m   1329\u001b[0m       \u001b[0mmessage\u001b[0m \u001b[1;33m=\u001b[0m \u001b[0mcompat\u001b[0m\u001b[1;33m.\u001b[0m\u001b[0mas_text\u001b[0m\u001b[1;33m(\u001b[0m\u001b[0me\u001b[0m\u001b[1;33m.\u001b[0m\u001b[0mmessage\u001b[0m\u001b[1;33m)\u001b[0m\u001b[1;33m\u001b[0m\u001b[0m\n",
      "\u001b[1;32m~\\AppData\\Local\\conda\\conda\\envs\\old-keras\\lib\\site-packages\\tensorflow\\python\\client\\session.py\u001b[0m in \u001b[0;36m_run_fn\u001b[1;34m(session, feed_dict, fetch_list, target_list, options, run_metadata)\u001b[0m\n\u001b[0;32m   1304\u001b[0m           return tf_session.TF_Run(session, options,\n\u001b[0;32m   1305\u001b[0m                                    \u001b[0mfeed_dict\u001b[0m\u001b[1;33m,\u001b[0m \u001b[0mfetch_list\u001b[0m\u001b[1;33m,\u001b[0m \u001b[0mtarget_list\u001b[0m\u001b[1;33m,\u001b[0m\u001b[1;33m\u001b[0m\u001b[0m\n\u001b[1;32m-> 1306\u001b[1;33m                                    status, run_metadata)\n\u001b[0m\u001b[0;32m   1307\u001b[0m \u001b[1;33m\u001b[0m\u001b[0m\n\u001b[0;32m   1308\u001b[0m     \u001b[1;32mdef\u001b[0m \u001b[0m_prun_fn\u001b[0m\u001b[1;33m(\u001b[0m\u001b[0msession\u001b[0m\u001b[1;33m,\u001b[0m \u001b[0mhandle\u001b[0m\u001b[1;33m,\u001b[0m \u001b[0mfeed_dict\u001b[0m\u001b[1;33m,\u001b[0m \u001b[0mfetch_list\u001b[0m\u001b[1;33m)\u001b[0m\u001b[1;33m:\u001b[0m\u001b[1;33m\u001b[0m\u001b[0m\n",
      "\u001b[1;31mKeyboardInterrupt\u001b[0m: "
     ]
    }
   ],
   "source": [
    "#early_stopping = EarlyStopping(monitor='acc', min_delta=0.01, patience=4)\n",
    "train_generator = cbuild.train_generator_func(C, train_ids, voi_df, avg_X2, n=5, n_art=3)\n",
    "hist = model.fit_generator(train_generator, steps_per_epoch=200, epochs=15)#, callbacks=[early_stopping])"
   ]
  },
  {
   "cell_type": "code",
   "execution_count": null,
   "metadata": {
    "collapsed": true
   },
   "outputs": [],
   "source": [
    "plt.plot(hist.history['loss'])"
   ]
  },
  {
   "cell_type": "markdown",
   "metadata": {
    "scrolled": true
   },
   "source": [
    "hist = model.fit(X_train2, Y_train2, batch_size=32, epochs=200, validation_data=(X_test, Y_test), callbacks=[early_stopping])"
   ]
  },
  {
   "cell_type": "code",
   "execution_count": 92,
   "metadata": {
    "collapsed": true
   },
   "outputs": [],
   "source": [
    "voi_df_art = pd.read_csv(C.art_voi_path)\n",
    "voi_df_ven = pd.read_csv(C.ven_voi_path)\n",
    "voi_df_eq = pd.read_csv(C.eq_voi_path)\n",
    "\n",
    "with open(C.small_voi_path, 'r') as csv_file:\n",
    "    reader = csv.reader(csv_file)\n",
    "    small_vois = dict(reader)\n",
    "for key in small_vois:\n",
    "    small_vois[key] = [int(x) for x in small_vois[key][1:-1].split(', ')]"
   ]
  },
  {
   "cell_type": "code",
   "execution_count": null,
   "metadata": {
    "collapsed": true
   },
   "outputs": [],
   "source": [
    "cbuild.overnight_run(C)"
   ]
  },
  {
   "cell_type": "code",
   "execution_count": null,
   "metadata": {
    "collapsed": true
   },
   "outputs": [],
   "source": [
    "C.output_img_dir = \"Z:\\\\OUTPUT\\\\12-08-2d-bn\"\n",
    "C.classes_to_include"
   ]
  },
  {
   "cell_type": "code",
   "execution_count": 73,
   "metadata": {
    "collapsed": true,
    "scrolled": true
   },
   "outputs": [],
   "source": [
    "#plot_with_bbox(fn_list[2], cls_mapping[wrong_guesses[2]])\n",
    "Y_pred = model.predict(X_test)\n",
    "y_true = np.array([max(enumerate(x), key=operator.itemgetter(1))[0] for x in Y_test])\n",
    "y_pred = np.array([max(enumerate(x), key=operator.itemgetter(1))[0] for x in Y_pred])\n",
    "\n",
    "cm = confusion_matrix(y_true, y_pred)\n",
    "f1 = f1_score(y_true, y_pred, average=\"weighted\")\n",
    "\n",
    "#cfunc.save_output(Z_test, y_pred, y_true, voi_df_art, small_vois, C.classes_to_include, C)"
   ]
  },
  {
   "cell_type": "code",
   "execution_count": null,
   "metadata": {
    "collapsed": true
   },
   "outputs": [],
   "source": [
    "Y_pred = model.predict(X_train_orig)\n",
    "y_true = np.array([max(enumerate(x), key=operator.itemgetter(1))[0] for x in Y_train_orig])\n",
    "y_pred = np.array([max(enumerate(x), key=operator.itemgetter(1))[0] for x in Y_pred])\n",
    "\n",
    "cm = confusion_matrix(y_true, y_pred)\n",
    "f1 = f1_score(y_true, y_pred, average=\"weighted\")\n",
    "\n",
    "#cfunc.save_output(Z_train_orig, y_pred, y_true, voi_df_art, small_vois, C.classes_to_include, C, save_dir=\"Z:\\\\OUTPUT\\\\12-08-3d\\\\training\")"
   ]
  },
  {
   "cell_type": "code",
   "execution_count": 76,
   "metadata": {},
   "outputs": [
    {
     "data": {
      "text/plain": [
       "['hcc', 'cholangio', 'colorectal', 'cyst', 'hemangioma', 'fnh']"
      ]
     },
     "execution_count": 76,
     "metadata": {},
     "output_type": "execute_result"
    }
   ],
   "source": [
    "C.classes_to_include"
   ]
  },
  {
   "cell_type": "code",
   "execution_count": 75,
   "metadata": {
    "scrolled": false
   },
   "outputs": [
    {
     "data": {
      "text/plain": [
       "array([[16,  1,  0,  0,  0,  0],\n",
       "       [ 0,  6,  4,  1,  0,  0],\n",
       "       [ 1,  2,  9,  0,  2,  0],\n",
       "       [ 0,  0,  1, 14,  1,  0],\n",
       "       [ 0,  1,  3,  0,  7,  0],\n",
       "       [ 2,  0,  1,  0,  0,  9]], dtype=int64)"
      ]
     },
     "execution_count": 75,
     "metadata": {},
     "output_type": "execute_result"
    }
   ],
   "source": [
    "cm"
   ]
  },
  {
   "cell_type": "code",
   "execution_count": 60,
   "metadata": {
    "collapsed": true,
    "scrolled": true
   },
   "outputs": [],
   "source": [
    "y_true_simp, y_pred_simp, _ = cfunc.condense_cm(y_true, y_pred, C.classes_to_include)"
   ]
  },
  {
   "cell_type": "code",
   "execution_count": 61,
   "metadata": {
    "scrolled": false
   },
   "outputs": [
    {
     "data": {
      "text/plain": [
       "0.86250000000000004"
      ]
     },
     "execution_count": 61,
     "metadata": {},
     "output_type": "execute_result"
    }
   ],
   "source": [
    "accuracy_score(y_true_simp, y_pred_simp)"
   ]
  },
  {
   "cell_type": "code",
   "execution_count": 74,
   "metadata": {
    "scrolled": true
   },
   "outputs": [
    {
     "data": {
      "text/plain": [
       "0.75308641975308643"
      ]
     },
     "execution_count": 74,
     "metadata": {},
     "output_type": "execute_result"
    }
   ],
   "source": [
    "accuracy_score(y_true, y_pred)"
   ]
  },
  {
   "cell_type": "markdown",
   "metadata": {},
   "source": [
    "2d: 77%/84%, 74%/80%\n",
    "3d: 78%/89%\n",
    "2d bn: 77%/82%, \n",
    "3d bn: 84%/87%, 74%/83%\n",
    "3d bn no artif: 84%/87%, 74%/83%\n",
    "3d bn/elu/dilation/3conv/64-128-100-100: 80%/86%, 82%/88%, 84%/91%"
   ]
  },
  {
   "cell_type": "markdown",
   "metadata": {
    "collapsed": true
   },
   "source": [
    "fn_list = Z_test[~np.equal(y_pred, y_true)]\n",
    "wrong_guesses = np.array(y_pred)[~np.equal(y_pred, y_true)]"
   ]
  },
  {
   "cell_type": "markdown",
   "metadata": {
    "collapsed": true
   },
   "source": [
    "activ = model2.predict(X_train)\n",
    "#activ = model2.predict(np.expand_dims(X_train[10],axis=0))"
   ]
  },
  {
   "cell_type": "markdown",
   "metadata": {
    "scrolled": true
   },
   "source": [
    "import operator\n",
    "#print(\"Ground truth:\", [C.classes_to_include[max(enumerate(x), key=operator.itemgetter(1))[0]] for x in Y_val[::30]])\n",
    "Y_ = model.predict(X_test)\n",
    "print(\"Predictions:\", [C.classes_to_include[max(enumerate(x), key=operator.itemgetter(1))[0]] + \" (%.5f%% probability)\" % (max(x)*100) for x in Y_])"
   ]
  }
 ],
 "metadata": {
  "kernelspec": {
   "display_name": "Python 3",
   "language": "python",
   "name": "python3"
  },
  "language_info": {
   "codemirror_mode": {
    "name": "ipython",
    "version": 3
   },
   "file_extension": ".py",
   "mimetype": "text/x-python",
   "name": "python",
   "nbconvert_exporter": "python",
   "pygments_lexer": "ipython3",
   "version": "3.5.0"
  }
 },
 "nbformat": 4,
 "nbformat_minor": 2
}
