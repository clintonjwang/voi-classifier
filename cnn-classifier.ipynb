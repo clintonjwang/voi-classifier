{
 "cells": [
  {
   "cell_type": "code",
   "execution_count": 62,
   "metadata": {},
   "outputs": [],
   "source": [
    "import keras.backend as K\n",
    "from keras.layers import Input, Add, Dense, Activation, Concatenate, merge, Flatten, Dropout, Conv3D, MaxPooling3D, ZeroPadding3D, AveragePooling3D, TimeDistributed\n",
    "from keras.models import Model\n",
    "from keras.regularizers import l1, l2\n",
    "from keras.optimizers import Adam, SGD\n",
    "from keras.constraints import max_norm\n",
    "from keras.layers.noise import GaussianNoise\n",
    "from keras.callbacks import EarlyStopping\n",
    "from keras.utils import np_utils\n",
    "from sklearn.metrics import confusion_matrix, f1_score, accuracy_score\n",
    "import operator\n",
    "import matplotlib.pyplot as plt\n",
    "import config\n",
    "import importlib\n",
    "import math\n",
    "import os\n",
    "import copy\n",
    "import pandas as pd\n",
    "import re\n",
    "import numpy as np\n",
    "import helper_fxns as hf\n",
    "import transforms as tr\n",
    "from scipy.misc import imsave\n",
    "import tensorflow as tf\n",
    "%matplotlib inline"
   ]
  },
  {
   "cell_type": "markdown",
   "metadata": {},
   "source": [
    "from keras.datasets import mnist\n",
    "\n",
    "(x_train, y_train), (x_test, y_test) = mnist.load_data()\n",
    "\n",
    "nb_classes = C.nb_classes\n",
    "\n",
    "X_train = np.expand_dims(x_train,axis=3)\n",
    "X_train = np.expand_dims(X_train,axis=4)\n",
    "X_test = np.expand_dims(x_test,axis=3)\n",
    "X_test = np.expand_dims(X_test,axis=4)\n",
    "X_train = X_train.astype('float32')\n",
    "X_test = X_test.astype('float32')\n",
    "X_train /= 255\n",
    "X_test /= 255\n",
    "Y_train = np_utils.to_categorical(y_train, nb_classes)\n",
    "Y_test = np_utils.to_categorical(y_test, nb_classes)"
   ]
  },
  {
   "cell_type": "code",
   "execution_count": 17,
   "metadata": {
    "collapsed": true,
    "scrolled": true
   },
   "outputs": [],
   "source": [
    "importlib.reload(config)\n",
    "C = config.Config()"
   ]
  },
  {
   "cell_type": "code",
   "execution_count": 18,
   "metadata": {
    "collapsed": true
   },
   "outputs": [],
   "source": [
    "classes_to_include = ['cyst', 'hcc', 'hemangioma', 'cholangio']#, 'fnh', 'colorectal']"
   ]
  },
  {
   "cell_type": "code",
   "execution_count": 92,
   "metadata": {
    "scrolled": true
   },
   "outputs": [],
   "source": [
    "dims = C.dims\n",
    "voi_img = Input(shape=(dims[0], dims[1], dims[2], C.nb_channels))\n",
    "x = voi_img\n",
    "#x = GaussianNoise(1)(x)\n",
    "x = ZeroPadding3D(padding=(3,3,2))(voi_img)\n",
    "x = Conv3D(filters=64, kernel_size=(3,3,2), activation='relu', kernel_constraint=max_norm(4.))(x)\n",
    "x = Dropout(0.5)(x)\n",
    "#x = MaxPooling3D((2, 2, 1))(x)\n",
    "x = Conv3D(filters=128, kernel_size=(3,3,2), activation='relu', kernel_constraint=max_norm(4.))(x)\n",
    "x = Dropout(0.5)(x)\n",
    "#x = Conv3D(filters=128, kernel_size=(3,3,2), activation='relu', kernel_constraint=max_norm(4.))(x)\n",
    "#x = Dropout(0.5)(x)\n",
    "x = Conv3D(filters=64, kernel_size=(3,3,2), strides=(2, 2, 2), activation='relu', kernel_constraint=max_norm(4.))(x)\n",
    "x = Dropout(0.5)(x)\n",
    "x = Flatten()(x)\n",
    "\n",
    "img_traits = Input(shape=(3,)) #size of lesion\n",
    "\n",
    "big_x = Concatenate(axis=1)([x, img_traits])\n",
    "big_x = Dense(128, activation='relu', kernel_constraint=max_norm(4.))(big_x)#, kernel_initializer='normal', kernel_regularizer=l1(.01), kernel_constraint=max_norm(3.))(x)\n",
    "big_x = Dropout(0.5)(big_x)\n",
    "pred_class = Dense(C.nb_classes, activation='softmax')(big_x)#Dense(C.nb_classes, activation='softmax')(x)"
   ]
  },
  {
   "cell_type": "code",
   "execution_count": 93,
   "metadata": {
    "scrolled": true
   },
   "outputs": [
    {
     "name": "stdout",
     "output_type": "stream",
     "text": [
      "____________________________________________________________________________________________________\n",
      "Layer (type)                     Output Shape          Param #     Connected to                     \n",
      "====================================================================================================\n",
      "input_63 (InputLayer)            (None, 24, 24, 12, 3) 0                                            \n",
      "____________________________________________________________________________________________________\n",
      "zero_padding3d_36 (ZeroPadding3D (None, 30, 30, 16, 3) 0           input_63[0][0]                   \n",
      "____________________________________________________________________________________________________\n",
      "conv3d_141 (Conv3D)              (None, 28, 28, 15, 64 3520        zero_padding3d_36[0][0]          \n",
      "____________________________________________________________________________________________________\n",
      "dropout_128 (Dropout)            (None, 28, 28, 15, 64 0           conv3d_141[0][0]                 \n",
      "____________________________________________________________________________________________________\n",
      "conv3d_142 (Conv3D)              (None, 26, 26, 14, 12 147584      dropout_128[0][0]                \n",
      "____________________________________________________________________________________________________\n",
      "dropout_129 (Dropout)            (None, 26, 26, 14, 12 0           conv3d_142[0][0]                 \n",
      "____________________________________________________________________________________________________\n",
      "conv3d_143 (Conv3D)              (None, 12, 12, 7, 64) 147520      dropout_129[0][0]                \n",
      "____________________________________________________________________________________________________\n",
      "dropout_130 (Dropout)            (None, 12, 12, 7, 64) 0           conv3d_143[0][0]                 \n",
      "____________________________________________________________________________________________________\n",
      "flatten_36 (Flatten)             (None, 64512)         0           dropout_130[0][0]                \n",
      "____________________________________________________________________________________________________\n",
      "input_64 (InputLayer)            (None, 3)             0                                            \n",
      "____________________________________________________________________________________________________\n",
      "concatenate_25 (Concatenate)     (None, 64515)         0           flatten_36[0][0]                 \n",
      "                                                                   input_64[0][0]                   \n",
      "____________________________________________________________________________________________________\n",
      "dense_43 (Dense)                 (None, 128)           8258048     concatenate_25[0][0]             \n",
      "____________________________________________________________________________________________________\n",
      "dropout_131 (Dropout)            (None, 128)           0           dense_43[0][0]                   \n",
      "____________________________________________________________________________________________________\n",
      "dense_44 (Dense)                 (None, 4)             516         dropout_131[0][0]                \n",
      "====================================================================================================\n",
      "Total params: 8,557,188\n",
      "Trainable params: 8,557,188\n",
      "Non-trainable params: 0\n",
      "____________________________________________________________________________________________________\n"
     ]
    }
   ],
   "source": [
    "optim = Adam(lr=0.01)#, decay=0.001)\n",
    "early_stopping = EarlyStopping(min_delta=0.001, patience=10)\n",
    "\n",
    "model = Model([voi_img, img_traits], pred_class)\n",
    "model.compile(optimizer='adam', loss='categorical_crossentropy', metrics=['accuracy'])\n",
    "model.summary()"
   ]
  },
  {
   "cell_type": "markdown",
   "metadata": {
    "collapsed": true
   },
   "source": [
    "model2 = Model(voi_img, intermed)\n",
    "\n",
    "for l in range(2,len(model2.layers)):\n",
    "    model2.layers[l].set_weights(model.layers[l].get_weights())"
   ]
  },
  {
   "cell_type": "code",
   "execution_count": 21,
   "metadata": {
    "collapsed": true,
    "scrolled": false
   },
   "outputs": [],
   "source": [
    "orig_data_dict = {}\n",
    "num_samples = {}\n",
    "\n",
    "def collect_data(classes_to_include, C):\n",
    "    for class_name in classes_to_include:\n",
    "        x = np.empty((10000, C.dims[0], C.dims[1], C.dims[2], C.nb_channels))\n",
    "        z = []\n",
    "\n",
    "        for index, img_fn in enumerate(os.listdir(C.orig_dir+class_name)):\n",
    "            try:\n",
    "                x[index] = np.load(C.orig_dir+class_name+\"\\\\\"+img_fn)\n",
    "            except:\n",
    "                raise ValueError(C.orig_dir+class_name+\"\\\\\"+img_fn + \" not found\")\n",
    "            z.append(img_fn)\n",
    "\n",
    "        x.resize((index, dims[0], dims[1], dims[2], C.nb_channels)) #shrink first dimension to fit\n",
    "        orig_data_dict[class_name] = [x,np.array(z)]\n",
    "        num_samples[class_name] = index\n",
    "        \n",
    "    return orig_data_dict, num_samples"
   ]
  },
  {
   "cell_type": "code",
   "execution_count": 22,
   "metadata": {
    "scrolled": true
   },
   "outputs": [
    {
     "name": "stdout",
     "output_type": "stream",
     "text": [
      "{'cyst': 66, 'cholangio': 58, 'hcc': 60, 'hemangioma': 45}\n"
     ]
    }
   ],
   "source": [
    "orig_data_dict, num_samples = collect_data(classes_to_include, C)\n",
    "print(num_samples)"
   ]
  },
  {
   "cell_type": "code",
   "execution_count": 23,
   "metadata": {
    "scrolled": true
   },
   "outputs": [
    {
     "name": "stdout",
     "output_type": "stream",
     "text": [
      "cyst has 53 samples for training (2650 after augmentation) and 13 for testing\n",
      "cholangio has 46 samples for training (2300 after augmentation) and 12 for testing\n",
      "hcc has 48 samples for training (2400 after augmentation) and 12 for testing\n",
      "hemangioma has 36 samples for training (1800 after augmentation) and 9 for testing\n"
     ]
    }
   ],
   "source": [
    "train_ids = {} #filenames of training set originals\n",
    "test_ids = {} #filenames of test set\n",
    "X_test = []\n",
    "Y_test = []\n",
    "Z_test = []\n",
    "X_train_orig = []\n",
    "Y_train_orig = []\n",
    "Z_train_orig = []\n",
    "cls_mapping = []\n",
    "\n",
    "train_frac = {\"cyst\": .8, \"fnh\": .8, \"hcc\": .8, \"hemangioma\": .8, 'adenoma': .8, \"colorectal\": .8, \"cholangio\": .8}\n",
    "train_samples = {}\n",
    "\n",
    "for cls_num, cls in enumerate(orig_data_dict):\n",
    "    cls_mapping.append(cls)\n",
    "    \n",
    "    train_samples[cls] = round(num_samples[cls]*train_frac[cls])\n",
    "    \n",
    "    order = np.random.permutation(list(range(num_samples[cls])))\n",
    "    train_ids[cls] = list(orig_data_dict[cls][1][order[:train_samples[cls]]])\n",
    "    test_ids[cls] = list(orig_data_dict[cls][1][order[train_samples[cls]:]])\n",
    "    \n",
    "    X_test = X_test + list(orig_data_dict[cls][0][order[train_samples[cls]:]])\n",
    "    Y_test = Y_test + [[0] * cls_num + [1] + [0] * (C.nb_classes - cls_num - 1)] * \\\n",
    "                        (num_samples[cls] - train_samples[cls])\n",
    "    Z_test = Z_test + list(orig_data_dict[cls][1][order[train_samples[cls]:]])\n",
    "    \n",
    "    X_train_orig = X_train_orig + list(orig_data_dict[cls][0][order[:train_samples[cls]]])\n",
    "    Y_train_orig = Y_train_orig + [[0] * cls_num + [1] + [0] * (C.nb_classes - cls_num - 1)] * \\\n",
    "                        (train_samples[cls])\n",
    "    Z_train_orig = Z_train_orig + list(orig_data_dict[cls][1][order[:train_samples[cls]]])\n",
    "    \n",
    "    print(\"%s has %d samples for training (%d after augmentation) and %d for testing\" %\n",
    "          (cls, train_samples[cls], train_samples[cls] * C.aug_factor, num_samples[cls] - train_samples[cls]))\n",
    "    \n",
    "#Y_test = np_utils.to_categorical(Y_test, C.nb_classes)\n",
    "#Y_train_orig = np_utils.to_categorical(Y_train_orig, C.nb_classes)"
   ]
  },
  {
   "cell_type": "code",
   "execution_count": 24,
   "metadata": {},
   "outputs": [],
   "source": [
    "aug_data_dict = {}\n",
    "\n",
    "for class_name in classes_to_include:#os.listdir(C.aug_dir):\n",
    "    x_train = np.empty((10000, dims[0], dims[1], dims[2], C.nb_channels))\n",
    "    x_val = np.empty((10000, dims[0], dims[1], dims[2], C.nb_channels))\n",
    "    z = []\n",
    "    \n",
    "    train_cnt = 0\n",
    "    val_cnt = 0\n",
    "    for img_fn in os.listdir(C.aug_dir+class_name):\n",
    "        \n",
    "        # part of training set\n",
    "        if \"_\".join(img_fn.split(\"_\")[:2])+\".npy\" in train_ids[class_name]:\n",
    "            try:\n",
    "                x_train[train_cnt] = np.load(C.aug_dir+class_name+\"\\\\\"+img_fn)\n",
    "            except:\n",
    "                continue\n",
    "                #raise ValueError(C.aug_dir+class_name+\"\\\\\"+img_fn + \" cannot be loaded\")\n",
    "            train_cnt += 1\n",
    "            z.append(img_fn)\n",
    "            \n",
    "        else:\n",
    "            try:\n",
    "                x_val[val_cnt] = np.load(C.aug_dir+class_name+\"\\\\\"+img_fn)\n",
    "            except:\n",
    "                continue\n",
    "                #raise ValueError(C.aug_dir+class_name+\"\\\\\"+img_fn + \" cannot be loaded\")\n",
    "            val_cnt += 1\n",
    "    \n",
    "    x_train.resize((train_cnt, dims[0], dims[1], dims[2], C.nb_channels)) #shrink first dimension to fit\n",
    "    x_val.resize((val_cnt, dims[0], dims[1], dims[2], C.nb_channels)) #shrink first dimension to fit\n",
    "    aug_data_dict[class_name] = {'train': [x_train,np.array(z)], 'val': x_val}"
   ]
  },
  {
   "cell_type": "code",
   "execution_count": 25,
   "metadata": {
    "collapsed": true
   },
   "outputs": [],
   "source": [
    "X_train = []\n",
    "Y_train = []\n",
    "Z_train = []\n",
    "X_val = []\n",
    "Y_val = []\n",
    "Z_val = []\n",
    "\n",
    "for cls_num, cls in enumerate(aug_data_dict):\n",
    "    X_train = X_train + list(aug_data_dict[cls]['train'][0])\n",
    "    Y_train = Y_train + [[0] * cls_num + [1] + [0] * (C.nb_classes - cls_num - 1)] * len(aug_data_dict[cls]['train'][0])\n",
    "    Z_train = Z_train + list(aug_data_dict[cls]['train'][1])\n",
    "    \n",
    "    X_val = X_val + list(aug_data_dict[cls]['val'])\n",
    "    Y_val = Y_val + [[0] * cls_num + [1] + [0] * (C.nb_classes - cls_num - 1)] * len(aug_data_dict[cls]['val'])"
   ]
  },
  {
   "cell_type": "markdown",
   "metadata": {
    "collapsed": true
   },
   "source": [
    "Z_cyst = data_dict[\"cyst\"][1]"
   ]
  },
  {
   "cell_type": "markdown",
   "metadata": {},
   "source": [
    "Y_[-4]"
   ]
  },
  {
   "cell_type": "markdown",
   "metadata": {},
   "source": [
    "Z_cyst[-4]"
   ]
  },
  {
   "cell_type": "markdown",
   "metadata": {
    "collapsed": true
   },
   "source": [
    "X_cyst = data_dict[\"cyst\"][0]\n",
    "X_cyst = np.array(X_cyst) # X[:total_size//2]\n",
    "X_cyst /= 255"
   ]
  },
  {
   "cell_type": "markdown",
   "metadata": {
    "collapsed": true
   },
   "source": [
    "X_hcc = data_dict[\"hcc\"][0]\n",
    "X_hcc = np.array(X_hcc) # X[:total_size//2]\n",
    "X_hcc /= 255"
   ]
  },
  {
   "cell_type": "markdown",
   "metadata": {
    "collapsed": true
   },
   "source": [
    "X_train = delete_channel(X_train)\n",
    "X_val = delete_channel(X_val)\n",
    "X_test = delete_channel(X_test)\n",
    "X_train_orig = delete_channel(X_train_orig)"
   ]
  },
  {
   "cell_type": "markdown",
   "metadata": {
    "collapsed": true
   },
   "source": [
    "def delete_channel(X):\n",
    "    return np.expand_dims(np.array(X)[:,:,:,:,0], axis=4)"
   ]
  },
  {
   "cell_type": "code",
   "execution_count": 130,
   "metadata": {
    "collapsed": true
   },
   "outputs": [],
   "source": [
    "#X = np.array([z for z in x])\n",
    "#Y = np.array(y)\n",
    "#Y = np.array([[0,1] if y[x] == 1 else [1,0] for x in range(len(y))])\n",
    "#Y = K.constant(y, dtype=tf.int32)\n",
    "#Y = K.one_hot(Y, C.nb_classes)\n",
    "\n",
    "#total_size = X.shape[0]\n",
    "\n",
    "#order = np.random.permutation(list(range(total_size)))\n",
    "#X = X[order]\n",
    "#Y = Y[order]"
   ]
  },
  {
   "cell_type": "code",
   "execution_count": 26,
   "metadata": {
    "collapsed": true
   },
   "outputs": [],
   "source": [
    "def scale_to_one(X, scale_by_channel=True):\n",
    "    X = np.array(X)\n",
    "    def scale_img(x):\n",
    "        return 2 * (x - np.amin(x)) / (np.amax(x) - np.amin(x)) - 1\n",
    "    \n",
    "    if scale_by_channel:\n",
    "        X = [np.stack([scale_img(x[:,:,:,0]), scale_img(x[:,:,:,1]), scale_img(x[:,:,:,2])], axis=3) for x in X]\n",
    "    else:\n",
    "        X = [scale_img(x) for x in X]\n",
    "    \n",
    "    return np.array(X)"
   ]
  },
  {
   "cell_type": "code",
   "execution_count": 27,
   "metadata": {
    "collapsed": true
   },
   "outputs": [],
   "source": [
    "#scale from -1 to 1\n",
    "X_train = scale_to_one(X_train)\n",
    "X_val = scale_to_one(X_val)\n",
    "X_test = scale_to_one(X_test)\n",
    "X_train_orig = scale_to_one(X_train_orig)\n",
    "\n",
    "Y_train = np.array(Y_train)\n",
    "Y_val = np.array(Y_val)\n",
    "Y_test = np.array(Y_test)\n",
    "Y_train_orig = np.array(Y_train_orig)\n",
    "\n",
    "Z_train = np.array(Z_train)\n",
    "Z_test = np.array(Z_test)\n",
    "Z_train_orig = np.array(Z_train_orig)"
   ]
  },
  {
   "cell_type": "code",
   "execution_count": 28,
   "metadata": {
    "scrolled": true
   },
   "outputs": [
    {
     "name": "stdout",
     "output_type": "stream",
     "text": [
      "Train on 9131 samples, validate on 2500 samples\n",
      "Epoch 1/200\n",
      "9131/9131 [==============================] - 76s - loss: 0.8277 - acc: 0.6536 - val_loss: 1.0064 - val_acc: 0.6552\n",
      "Epoch 2/200\n",
      "9131/9131 [==============================] - 76s - loss: 0.4680 - acc: 0.8173 - val_loss: 1.3288 - val_acc: 0.6780\n",
      "Epoch 3/200\n",
      "9131/9131 [==============================] - 76s - loss: 0.3230 - acc: 0.8702 - val_loss: 0.9872 - val_acc: 0.7184\n",
      "Epoch 4/200\n",
      "9131/9131 [==============================] - 76s - loss: 0.2362 - acc: 0.9086 - val_loss: 0.9717 - val_acc: 0.7344\n",
      "Epoch 5/200\n",
      "9131/9131 [==============================] - 76s - loss: 0.2013 - acc: 0.9282 - val_loss: 0.8783 - val_acc: 0.7768\n",
      "Epoch 6/200\n",
      "9131/9131 [==============================] - 76s - loss: 0.1673 - acc: 0.9408 - val_loss: 1.1353 - val_acc: 0.7528\n",
      "Epoch 7/200\n",
      "9131/9131 [==============================] - 76s - loss: 0.1543 - acc: 0.9447 - val_loss: 1.2611 - val_acc: 0.7660\n",
      "Epoch 8/200\n",
      "9131/9131 [==============================] - 76s - loss: 0.1175 - acc: 0.9604 - val_loss: 1.2410 - val_acc: 0.7700\n",
      "Epoch 9/200\n",
      "9131/9131 [==============================] - 76s - loss: 0.1419 - acc: 0.9539 - val_loss: 1.1201 - val_acc: 0.7496\n",
      "Epoch 10/200\n",
      "9131/9131 [==============================] - 77s - loss: 0.1228 - acc: 0.9577 - val_loss: 1.4271 - val_acc: 0.7740\n",
      "Epoch 11/200\n",
      "9131/9131 [==============================] - 77s - loss: 0.0997 - acc: 0.9643 - val_loss: 1.2518 - val_acc: 0.7828\n",
      "Epoch 12/200\n",
      "9131/9131 [==============================] - 77s - loss: 0.1020 - acc: 0.9652 - val_loss: 1.0267 - val_acc: 0.7844\n",
      "Epoch 13/200\n",
      "9131/9131 [==============================] - 77s - loss: 0.0844 - acc: 0.9732 - val_loss: 1.0073 - val_acc: 0.7968\n",
      "Epoch 14/200\n",
      "9131/9131 [==============================] - 77s - loss: 0.0754 - acc: 0.9760 - val_loss: 1.1961 - val_acc: 0.7724\n",
      "Epoch 15/200\n",
      "9131/9131 [==============================] - 77s - loss: 0.0729 - acc: 0.9763 - val_loss: 1.2418 - val_acc: 0.7812\n",
      "Epoch 16/200\n",
      "9131/9131 [==============================] - 77s - loss: 0.0768 - acc: 0.9752 - val_loss: 1.4702 - val_acc: 0.7840\n",
      "Epoch 17/200\n",
      "9131/9131 [==============================] - 77s - loss: 0.0575 - acc: 0.9805 - val_loss: 1.1015 - val_acc: 0.7956\n",
      "Epoch 18/200\n",
      "9131/9131 [==============================] - 76s - loss: 0.0748 - acc: 0.9766 - val_loss: 1.8844 - val_acc: 0.7368\n",
      "Epoch 19/200\n",
      "9131/9131 [==============================] - 76s - loss: 0.0778 - acc: 0.9739 - val_loss: 1.2341 - val_acc: 0.7652\n",
      "Epoch 20/200\n",
      "9131/9131 [==============================] - 76s - loss: 0.0737 - acc: 0.9772 - val_loss: 1.4277 - val_acc: 0.7796\n",
      "Epoch 21/200\n",
      "9131/9131 [==============================] - 76s - loss: 0.0738 - acc: 0.9774 - val_loss: 1.4083 - val_acc: 0.7716\n",
      "Epoch 22/200\n",
      "9131/9131 [==============================] - 76s - loss: 0.0559 - acc: 0.9820 - val_loss: 1.3156 - val_acc: 0.7688\n",
      "Epoch 23/200\n",
      "9131/9131 [==============================] - 76s - loss: 0.0725 - acc: 0.9782 - val_loss: 1.4964 - val_acc: 0.7872\n",
      "Epoch 24/200\n",
      "9131/9131 [==============================] - 76s - loss: 0.0592 - acc: 0.9815 - val_loss: 1.5588 - val_acc: 0.7736\n",
      "Epoch 25/200\n",
      "9131/9131 [==============================] - 76s - loss: 0.0551 - acc: 0.9811 - val_loss: 1.5425 - val_acc: 0.7776\n",
      "Epoch 26/200\n",
      "9131/9131 [==============================] - 76s - loss: 0.0478 - acc: 0.9841 - val_loss: 1.3900 - val_acc: 0.7876\n",
      "Epoch 27/200\n",
      "9131/9131 [==============================] - 76s - loss: 0.0632 - acc: 0.9816 - val_loss: 1.5563 - val_acc: 0.7772\n",
      "Epoch 28/200\n",
      "9131/9131 [==============================] - 76s - loss: 0.0526 - acc: 0.9830 - val_loss: 1.4772 - val_acc: 0.7856\n",
      "Epoch 29/200\n",
      "9131/9131 [==============================] - 76s - loss: 0.0822 - acc: 0.9790 - val_loss: 1.2263 - val_acc: 0.7568\n",
      "Epoch 30/200\n",
      "9131/9131 [==============================] - 76s - loss: 0.0596 - acc: 0.9804 - val_loss: 1.2737 - val_acc: 0.7944\n",
      "Epoch 31/200\n",
      "9131/9131 [==============================] - 76s - loss: 0.0546 - acc: 0.9838 - val_loss: 1.4900 - val_acc: 0.7820\n",
      "Epoch 32/200\n",
      "9131/9131 [==============================] - 76s - loss: 0.0560 - acc: 0.9828 - val_loss: 1.3549 - val_acc: 0.7860\n",
      "Epoch 33/200\n",
      "9131/9131 [==============================] - 76s - loss: 0.0325 - acc: 0.9887 - val_loss: 2.4193 - val_acc: 0.7468\n",
      "Epoch 34/200\n",
      "9131/9131 [==============================] - 76s - loss: 0.0357 - acc: 0.9889 - val_loss: 1.4388 - val_acc: 0.7892\n",
      "Epoch 35/200\n",
      "9131/9131 [==============================] - 76s - loss: 0.0705 - acc: 0.9794 - val_loss: 1.4590 - val_acc: 0.7676\n",
      "Epoch 36/200\n",
      "9131/9131 [==============================] - 76s - loss: 0.0857 - acc: 0.9757 - val_loss: 1.6341 - val_acc: 0.7648\n",
      "Epoch 37/200\n",
      "9131/9131 [==============================] - 76s - loss: 0.0658 - acc: 0.9811 - val_loss: 1.5891 - val_acc: 0.7748\n",
      "Epoch 38/200\n",
      "9131/9131 [==============================] - 76s - loss: 0.0539 - acc: 0.9841 - val_loss: 1.5385 - val_acc: 0.8004\n",
      "Epoch 39/200\n",
      "9131/9131 [==============================] - 76s - loss: 0.0618 - acc: 0.9819 - val_loss: 1.6446 - val_acc: 0.7816\n",
      "Epoch 40/200\n",
      "9131/9131 [==============================] - 76s - loss: 0.0286 - acc: 0.9905 - val_loss: 1.6131 - val_acc: 0.7944\n",
      "Epoch 41/200\n",
      "9131/9131 [==============================] - 76s - loss: 0.0427 - acc: 0.9880 - val_loss: 1.5622 - val_acc: 0.7948\n",
      "Epoch 42/200\n",
      "9131/9131 [==============================] - 76s - loss: 0.0357 - acc: 0.9892 - val_loss: 1.5679 - val_acc: 0.7940\n",
      "Epoch 43/200\n",
      "9131/9131 [==============================] - 76s - loss: 0.0533 - acc: 0.9843 - val_loss: 1.0889 - val_acc: 0.7976\n",
      "Epoch 44/200\n",
      "9131/9131 [==============================] - 76s - loss: 0.0682 - acc: 0.9815 - val_loss: 1.6447 - val_acc: 0.7808\n",
      "Epoch 45/200\n",
      "9131/9131 [==============================] - 76s - loss: 0.0364 - acc: 0.9890 - val_loss: 1.9533 - val_acc: 0.7712\n",
      "Epoch 46/200\n",
      "9131/9131 [==============================] - 76s - loss: 0.0422 - acc: 0.9873 - val_loss: 1.5704 - val_acc: 0.7924\n",
      "Epoch 47/200\n",
      "9131/9131 [==============================] - 76s - loss: 0.0646 - acc: 0.9826 - val_loss: 1.7386 - val_acc: 0.7596\n",
      "Epoch 48/200\n",
      "9131/9131 [==============================] - 76s - loss: 0.0362 - acc: 0.9895 - val_loss: 1.3643 - val_acc: 0.7960\n",
      "Epoch 49/200\n",
      "9131/9131 [==============================] - 76s - loss: 0.0507 - acc: 0.9864 - val_loss: 1.5872 - val_acc: 0.7884\n",
      "Epoch 50/200\n",
      "9131/9131 [==============================] - 76s - loss: 0.0266 - acc: 0.9907 - val_loss: 1.6032 - val_acc: 0.7872\n",
      "Epoch 51/200\n",
      "9131/9131 [==============================] - 76s - loss: 0.0418 - acc: 0.9877 - val_loss: 1.5247 - val_acc: 0.7756\n",
      "Epoch 52/200\n",
      "9131/9131 [==============================] - 76s - loss: 0.0390 - acc: 0.9901 - val_loss: 1.9145 - val_acc: 0.7732\n",
      "Epoch 53/200\n",
      "9131/9131 [==============================] - 76s - loss: 0.0486 - acc: 0.9846 - val_loss: 1.5395 - val_acc: 0.7792\n",
      "Epoch 54/200\n",
      "9131/9131 [==============================] - 76s - loss: 0.0603 - acc: 0.9829 - val_loss: 1.3444 - val_acc: 0.7944\n",
      "Epoch 55/200\n",
      "9131/9131 [==============================] - 76s - loss: 0.0479 - acc: 0.9853 - val_loss: 1.7368 - val_acc: 0.7984\n",
      "Epoch 56/200\n",
      "9131/9131 [==============================] - 76s - loss: 0.0520 - acc: 0.9847 - val_loss: 1.5255 - val_acc: 0.7728\n",
      "Epoch 57/200\n",
      "9131/9131 [==============================] - 76s - loss: 0.0203 - acc: 0.9946 - val_loss: 1.8642 - val_acc: 0.7908\n",
      "Epoch 58/200\n",
      "9131/9131 [==============================] - 76s - loss: 0.0454 - acc: 0.9865 - val_loss: 1.2104 - val_acc: 0.8284\n",
      "Epoch 59/200\n",
      "9131/9131 [==============================] - 76s - loss: 0.0358 - acc: 0.9890 - val_loss: 1.8519 - val_acc: 0.7928\n",
      "Epoch 60/200\n",
      "9131/9131 [==============================] - 76s - loss: 0.0379 - acc: 0.9886 - val_loss: 1.9752 - val_acc: 0.7848\n",
      "Epoch 61/200\n",
      "9131/9131 [==============================] - 76s - loss: 0.0252 - acc: 0.9932 - val_loss: 1.9495 - val_acc: 0.7776\n",
      "Epoch 62/200\n",
      "9131/9131 [==============================] - 76s - loss: 0.0448 - acc: 0.9860 - val_loss: 1.7592 - val_acc: 0.7888\n",
      "Epoch 63/200\n",
      "9131/9131 [==============================] - 76s - loss: 0.0568 - acc: 0.9857 - val_loss: 1.8888 - val_acc: 0.7836\n",
      "Epoch 64/200\n"
     ]
    },
    {
     "name": "stdout",
     "output_type": "stream",
     "text": [
      "9131/9131 [==============================] - 76s - loss: 0.0466 - acc: 0.9865 - val_loss: 1.4007 - val_acc: 0.8028\n",
      "Epoch 65/200\n",
      "9131/9131 [==============================] - 76s - loss: 0.0302 - acc: 0.9919 - val_loss: 2.0677 - val_acc: 0.7832\n",
      "Epoch 66/200\n",
      "9131/9131 [==============================] - 76s - loss: 0.0222 - acc: 0.9929 - val_loss: 2.0227 - val_acc: 0.7772\n",
      "Epoch 67/200\n",
      "9131/9131 [==============================] - 76s - loss: 0.0366 - acc: 0.9916 - val_loss: 1.8118 - val_acc: 0.7744\n",
      "Epoch 68/200\n",
      "9131/9131 [==============================] - 76s - loss: 0.0506 - acc: 0.9869 - val_loss: 2.0534 - val_acc: 0.7368\n",
      "Epoch 69/200\n",
      "9131/9131 [==============================] - 76s - loss: 0.0512 - acc: 0.9857 - val_loss: 1.6332 - val_acc: 0.8112\n",
      "Epoch 70/200\n",
      "9131/9131 [==============================] - 76s - loss: 0.0257 - acc: 0.9919 - val_loss: 1.7511 - val_acc: 0.7956\n",
      "Epoch 71/200\n",
      "9131/9131 [==============================] - 76s - loss: 0.0230 - acc: 0.9930 - val_loss: 1.4705 - val_acc: 0.8204\n",
      "Epoch 72/200\n",
      "9131/9131 [==============================] - 76s - loss: 0.0412 - acc: 0.9884 - val_loss: 1.7987 - val_acc: 0.7996\n",
      "Epoch 73/200\n",
      "9131/9131 [==============================] - 76s - loss: 0.0270 - acc: 0.9934 - val_loss: 2.0933 - val_acc: 0.7896\n",
      "Epoch 74/200\n",
      "9131/9131 [==============================] - 76s - loss: 0.0402 - acc: 0.9900 - val_loss: 1.6500 - val_acc: 0.7904\n",
      "Epoch 75/200\n",
      "9131/9131 [==============================] - 76s - loss: 0.0480 - acc: 0.9875 - val_loss: 1.9791 - val_acc: 0.7888\n",
      "Epoch 76/200\n",
      "9131/9131 [==============================] - 76s - loss: 0.0376 - acc: 0.9899 - val_loss: 1.4442 - val_acc: 0.7964\n",
      "Epoch 77/200\n",
      "9131/9131 [==============================] - 76s - loss: 0.0284 - acc: 0.9910 - val_loss: 2.0173 - val_acc: 0.7588\n",
      "Epoch 78/200\n",
      "9131/9131 [==============================] - 76s - loss: 0.0544 - acc: 0.9871 - val_loss: 1.5648 - val_acc: 0.7764\n",
      "Epoch 79/200\n",
      "9131/9131 [==============================] - 76s - loss: 0.0373 - acc: 0.9900 - val_loss: 1.7690 - val_acc: 0.7828\n",
      "Epoch 80/200\n",
      "9131/9131 [==============================] - 76s - loss: 0.0235 - acc: 0.9922 - val_loss: 1.8394 - val_acc: 0.7880\n",
      "Epoch 81/200\n",
      "9131/9131 [==============================] - 76s - loss: 0.0286 - acc: 0.9922 - val_loss: 2.2024 - val_acc: 0.7344\n",
      "Epoch 82/200\n",
      "9131/9131 [==============================] - 76s - loss: 0.0193 - acc: 0.9946 - val_loss: 1.6585 - val_acc: 0.8164\n",
      "Epoch 83/200\n",
      "9131/9131 [==============================] - 76s - loss: 0.0576 - acc: 0.9867 - val_loss: 1.6247 - val_acc: 0.7784\n",
      "Epoch 84/200\n",
      "9131/9131 [==============================] - 76s - loss: 0.0276 - acc: 0.9908 - val_loss: 1.8427 - val_acc: 0.7968\n",
      "Epoch 85/200\n",
      "9131/9131 [==============================] - 76s - loss: 0.0721 - acc: 0.9801 - val_loss: 1.3301 - val_acc: 0.7928\n",
      "Epoch 86/200\n",
      "9131/9131 [==============================] - 76s - loss: 0.0206 - acc: 0.9938 - val_loss: 1.7865 - val_acc: 0.7784\n",
      "Epoch 87/200\n",
      "9131/9131 [==============================] - 76s - loss: 0.0200 - acc: 0.9945 - val_loss: 1.4799 - val_acc: 0.8112\n",
      "Epoch 88/200\n",
      "9131/9131 [==============================] - 76s - loss: 0.0285 - acc: 0.9924 - val_loss: 1.7069 - val_acc: 0.8008\n",
      "Epoch 89/200\n",
      "9131/9131 [==============================] - 76s - loss: 0.0224 - acc: 0.9943 - val_loss: 2.1899 - val_acc: 0.7676\n",
      "Epoch 90/200\n",
      "9131/9131 [==============================] - 76s - loss: 0.0453 - acc: 0.9887 - val_loss: 1.9683 - val_acc: 0.7840\n",
      "Epoch 91/200\n",
      "9131/9131 [==============================] - 76s - loss: 0.0260 - acc: 0.9933 - val_loss: 1.9594 - val_acc: 0.7968\n",
      "Epoch 92/200\n",
      "9131/9131 [==============================] - 76s - loss: 0.0304 - acc: 0.9935 - val_loss: 2.4334 - val_acc: 0.7452\n",
      "Epoch 93/200\n",
      "9131/9131 [==============================] - 76s - loss: 0.0251 - acc: 0.9924 - val_loss: 1.7152 - val_acc: 0.7924\n",
      "Epoch 94/200\n",
      "9131/9131 [==============================] - 76s - loss: 0.0467 - acc: 0.9881 - val_loss: 1.7789 - val_acc: 0.7960\n",
      "Epoch 95/200\n",
      "9131/9131 [==============================] - 76s - loss: 0.0446 - acc: 0.9877 - val_loss: 1.3757 - val_acc: 0.8096\n",
      "Epoch 96/200\n",
      "9131/9131 [==============================] - 76s - loss: 0.0438 - acc: 0.9876 - val_loss: 1.4726 - val_acc: 0.7948\n",
      "Epoch 97/200\n",
      "9131/9131 [==============================] - 76s - loss: 0.0279 - acc: 0.9921 - val_loss: 1.6109 - val_acc: 0.8060\n",
      "Epoch 98/200\n",
      "9131/9131 [==============================] - 76s - loss: 0.0265 - acc: 0.9931 - val_loss: 1.7093 - val_acc: 0.8000\n",
      "Epoch 99/200\n",
      "9131/9131 [==============================] - 76s - loss: 0.0852 - acc: 0.9808 - val_loss: 1.5150 - val_acc: 0.7968\n",
      "Epoch 100/200\n",
      "9131/9131 [==============================] - 76s - loss: 0.0254 - acc: 0.9930 - val_loss: 1.8548 - val_acc: 0.7764\n",
      "Epoch 101/200\n",
      "9131/9131 [==============================] - 76s - loss: 0.0184 - acc: 0.9951 - val_loss: 1.8976 - val_acc: 0.7832\n",
      "Epoch 102/200\n",
      "9131/9131 [==============================] - 76s - loss: 0.0308 - acc: 0.9909 - val_loss: 2.1127 - val_acc: 0.7672\n",
      "Epoch 103/200\n",
      "9131/9131 [==============================] - 76s - loss: 0.0354 - acc: 0.9904 - val_loss: 2.1259 - val_acc: 0.7716\n",
      "Epoch 104/200\n",
      "9131/9131 [==============================] - 76s - loss: 0.0484 - acc: 0.9882 - val_loss: 2.4947 - val_acc: 0.7484\n",
      "Epoch 105/200\n",
      "9131/9131 [==============================] - 76s - loss: 0.0387 - acc: 0.9885 - val_loss: 1.9894 - val_acc: 0.7908\n",
      "Epoch 106/200\n",
      "9131/9131 [==============================] - 76s - loss: 0.0248 - acc: 0.9942 - val_loss: 1.9693 - val_acc: 0.7888\n",
      "Epoch 107/200\n",
      "9131/9131 [==============================] - 76s - loss: 0.0336 - acc: 0.9921 - val_loss: 2.0253 - val_acc: 0.7892\n",
      "Epoch 108/200\n",
      "9131/9131 [==============================] - 76s - loss: 0.0424 - acc: 0.9895 - val_loss: 1.9137 - val_acc: 0.8080\n",
      "Epoch 109/200\n",
      "9131/9131 [==============================] - 76s - loss: 0.0377 - acc: 0.9908 - val_loss: 1.5317 - val_acc: 0.8028\n",
      "Epoch 110/200\n",
      "9131/9131 [==============================] - 76s - loss: 0.0162 - acc: 0.9947 - val_loss: 1.9531 - val_acc: 0.7788\n",
      "Epoch 111/200\n",
      "9131/9131 [==============================] - 76s - loss: 0.0317 - acc: 0.9926 - val_loss: 1.8878 - val_acc: 0.7828\n",
      "Epoch 112/200\n",
      "9131/9131 [==============================] - 76s - loss: 0.0294 - acc: 0.9926 - val_loss: 1.6992 - val_acc: 0.8036\n",
      "Epoch 113/200\n",
      "9131/9131 [==============================] - 76s - loss: 0.0440 - acc: 0.9897 - val_loss: 1.8713 - val_acc: 0.7812\n",
      "Epoch 114/200\n",
      "9131/9131 [==============================] - 76s - loss: 0.0245 - acc: 0.9935 - val_loss: 1.5606 - val_acc: 0.8292\n",
      "Epoch 115/200\n",
      "9131/9131 [==============================] - 76s - loss: 0.0401 - acc: 0.9893 - val_loss: 1.6805 - val_acc: 0.8104\n",
      "Epoch 116/200\n",
      "9131/9131 [==============================] - 76s - loss: 0.0370 - acc: 0.9895 - val_loss: 2.1601 - val_acc: 0.7564\n",
      "Epoch 117/200\n",
      "9131/9131 [==============================] - 76s - loss: 0.0298 - acc: 0.9913 - val_loss: 2.0763 - val_acc: 0.7608\n",
      "Epoch 118/200\n",
      "9131/9131 [==============================] - 76s - loss: 0.0417 - acc: 0.9909 - val_loss: 2.4004 - val_acc: 0.7532\n",
      "Epoch 119/200\n",
      "9131/9131 [==============================] - 76s - loss: 0.0263 - acc: 0.9924 - val_loss: 2.0927 - val_acc: 0.7500\n",
      "Epoch 120/200\n",
      "9131/9131 [==============================] - 76s - loss: 0.0123 - acc: 0.9963 - val_loss: 2.4441 - val_acc: 0.7624\n",
      "Epoch 121/200\n",
      "9131/9131 [==============================] - 76s - loss: 0.0483 - acc: 0.9889 - val_loss: 1.7160 - val_acc: 0.7900\n",
      "Epoch 122/200\n",
      "9131/9131 [==============================] - 76s - loss: 0.0402 - acc: 0.9886 - val_loss: 1.7426 - val_acc: 0.7848\n",
      "Epoch 123/200\n",
      "9131/9131 [==============================] - 76s - loss: 0.0174 - acc: 0.9950 - val_loss: 2.3323 - val_acc: 0.7520\n",
      "Epoch 124/200\n",
      "9131/9131 [==============================] - 76s - loss: 0.0300 - acc: 0.9929 - val_loss: 1.7822 - val_acc: 0.7808\n",
      "Epoch 125/200\n",
      "9131/9131 [==============================] - 76s - loss: 0.0493 - acc: 0.9877 - val_loss: 2.1769 - val_acc: 0.7552\n",
      "Epoch 126/200\n",
      "9131/9131 [==============================] - 76s - loss: 0.0538 - acc: 0.9871 - val_loss: 2.0164 - val_acc: 0.7732\n",
      "Epoch 127/200\n"
     ]
    },
    {
     "name": "stdout",
     "output_type": "stream",
     "text": [
      "9131/9131 [==============================] - 76s - loss: 0.0382 - acc: 0.9897 - val_loss: 2.0099 - val_acc: 0.7704\n",
      "Epoch 128/200\n",
      "9131/9131 [==============================] - 76s - loss: 0.0235 - acc: 0.9949 - val_loss: 1.8847 - val_acc: 0.7900\n",
      "Epoch 129/200\n",
      "9131/9131 [==============================] - 76s - loss: 0.0225 - acc: 0.9945 - val_loss: 2.0067 - val_acc: 0.7812\n",
      "Epoch 130/200\n",
      "9131/9131 [==============================] - 76s - loss: 0.0241 - acc: 0.9942 - val_loss: 2.0772 - val_acc: 0.7788\n",
      "Epoch 131/200\n",
      "9131/9131 [==============================] - 76s - loss: 0.0525 - acc: 0.9876 - val_loss: 1.9345 - val_acc: 0.7908\n",
      "Epoch 132/200\n",
      "9131/9131 [==============================] - 76s - loss: 0.0266 - acc: 0.9910 - val_loss: 1.7089 - val_acc: 0.7976\n",
      "Epoch 133/200\n",
      "9131/9131 [==============================] - 76s - loss: 0.0388 - acc: 0.9904 - val_loss: 1.7185 - val_acc: 0.7996\n",
      "Epoch 134/200\n",
      "9131/9131 [==============================] - 76s - loss: 0.0165 - acc: 0.9963 - val_loss: 2.0085 - val_acc: 0.7748\n",
      "Epoch 135/200\n",
      "9131/9131 [==============================] - 76s - loss: 0.0392 - acc: 0.9897 - val_loss: 2.0979 - val_acc: 0.7580\n",
      "Epoch 136/200\n",
      "9131/9131 [==============================] - 76s - loss: 0.0493 - acc: 0.9880 - val_loss: 2.1880 - val_acc: 0.7472\n",
      "Epoch 137/200\n",
      "9131/9131 [==============================] - 76s - loss: 0.0511 - acc: 0.9887 - val_loss: 1.8931 - val_acc: 0.7860\n",
      "Epoch 138/200\n",
      "9131/9131 [==============================] - 76s - loss: 0.0160 - acc: 0.9961 - val_loss: 1.7252 - val_acc: 0.8024\n",
      "Epoch 139/200\n",
      "9131/9131 [==============================] - 76s - loss: 0.0272 - acc: 0.9934 - val_loss: 1.7978 - val_acc: 0.7804\n",
      "Epoch 140/200\n",
      "9131/9131 [==============================] - 76s - loss: 0.0395 - acc: 0.9909 - val_loss: 1.5761 - val_acc: 0.8168\n",
      "Epoch 141/200\n",
      "9131/9131 [==============================] - 76s - loss: 0.0159 - acc: 0.9961 - val_loss: 1.8930 - val_acc: 0.7876\n",
      "Epoch 142/200\n",
      "9131/9131 [==============================] - 76s - loss: 0.0163 - acc: 0.9963 - val_loss: 1.8962 - val_acc: 0.7828\n",
      "Epoch 143/200\n",
      "9131/9131 [==============================] - 76s - loss: 0.0372 - acc: 0.9909 - val_loss: 2.1144 - val_acc: 0.7856\n",
      "Epoch 144/200\n",
      "9131/9131 [==============================] - 76s - loss: 0.0534 - acc: 0.9894 - val_loss: 2.1028 - val_acc: 0.7692\n",
      "Epoch 145/200\n",
      "9131/9131 [==============================] - 76s - loss: 0.0337 - acc: 0.9918 - val_loss: 2.3972 - val_acc: 0.7676\n",
      "Epoch 146/200\n",
      "9131/9131 [==============================] - 76s - loss: 0.0257 - acc: 0.9945 - val_loss: 1.8127 - val_acc: 0.7840\n",
      "Epoch 147/200\n",
      "9131/9131 [==============================] - 76s - loss: 0.0310 - acc: 0.9931 - val_loss: 2.6615 - val_acc: 0.7548\n",
      "Epoch 148/200\n",
      "9131/9131 [==============================] - 76s - loss: 0.0411 - acc: 0.9909 - val_loss: 2.3070 - val_acc: 0.7532\n",
      "Epoch 149/200\n",
      "9131/9131 [==============================] - 76s - loss: 0.0494 - acc: 0.9909 - val_loss: 2.5171 - val_acc: 0.7272\n",
      "Epoch 150/200\n",
      "9131/9131 [==============================] - 76s - loss: 0.0307 - acc: 0.9929 - val_loss: 1.7033 - val_acc: 0.7948\n",
      "Epoch 151/200\n",
      "9131/9131 [==============================] - 76s - loss: 0.0192 - acc: 0.9964 - val_loss: 2.0311 - val_acc: 0.7904\n",
      "Epoch 152/200\n",
      "9131/9131 [==============================] - 76s - loss: 0.0460 - acc: 0.9905 - val_loss: 2.1395 - val_acc: 0.7820\n",
      "Epoch 153/200\n",
      "9131/9131 [==============================] - 76s - loss: 0.0520 - acc: 0.9892 - val_loss: 1.7610 - val_acc: 0.7960\n",
      "Epoch 154/200\n",
      "9131/9131 [==============================] - 76s - loss: 0.0278 - acc: 0.9919 - val_loss: 1.9395 - val_acc: 0.7792\n",
      "Epoch 155/200\n",
      "9131/9131 [==============================] - 76s - loss: 0.0199 - acc: 0.9957 - val_loss: 2.2176 - val_acc: 0.7692\n",
      "Epoch 156/200\n",
      "9131/9131 [==============================] - 76s - loss: 0.0506 - acc: 0.9903 - val_loss: 2.2879 - val_acc: 0.7696\n",
      "Epoch 157/200\n",
      "9131/9131 [==============================] - 76s - loss: 0.0505 - acc: 0.9886 - val_loss: 2.1031 - val_acc: 0.7808\n",
      "Epoch 158/200\n",
      "9131/9131 [==============================] - 76s - loss: 0.0352 - acc: 0.9912 - val_loss: 2.3149 - val_acc: 0.7644\n",
      "Epoch 159/200\n",
      "9131/9131 [==============================] - 76s - loss: 0.0222 - acc: 0.9942 - val_loss: 1.6322 - val_acc: 0.8076\n",
      "Epoch 160/200\n",
      "9131/9131 [==============================] - 76s - loss: 0.0358 - acc: 0.9920 - val_loss: 1.8708 - val_acc: 0.8040\n",
      "Epoch 161/200\n",
      "9131/9131 [==============================] - 76s - loss: 0.0276 - acc: 0.9931 - val_loss: 2.1363 - val_acc: 0.7972\n",
      "Epoch 162/200\n",
      "9131/9131 [==============================] - 76s - loss: 0.0268 - acc: 0.9941 - val_loss: 2.0943 - val_acc: 0.7896\n",
      "Epoch 163/200\n",
      "9131/9131 [==============================] - 76s - loss: 0.0303 - acc: 0.9936 - val_loss: 2.6277 - val_acc: 0.7564\n",
      "Epoch 164/200\n",
      "9131/9131 [==============================] - 76s - loss: 0.0413 - acc: 0.9918 - val_loss: 2.4872 - val_acc: 0.7748\n",
      "Epoch 165/200\n",
      "9131/9131 [==============================] - 76s - loss: 0.0641 - acc: 0.9870 - val_loss: 1.9633 - val_acc: 0.7840\n",
      "Epoch 166/200\n",
      "9131/9131 [==============================] - 76s - loss: 0.0389 - acc: 0.9916 - val_loss: 1.8398 - val_acc: 0.7932\n",
      "Epoch 167/200\n",
      "9131/9131 [==============================] - 76s - loss: 0.0430 - acc: 0.9918 - val_loss: 1.7892 - val_acc: 0.7832\n",
      "Epoch 168/200\n",
      "9131/9131 [==============================] - 76s - loss: 0.0188 - acc: 0.9951 - val_loss: 1.7362 - val_acc: 0.8188\n",
      "Epoch 169/200\n",
      "9131/9131 [==============================] - 76s - loss: 0.0162 - acc: 0.9968 - val_loss: 2.2757 - val_acc: 0.7852\n",
      "Epoch 170/200\n",
      "9131/9131 [==============================] - 76s - loss: 0.0579 - acc: 0.9894 - val_loss: 2.2369 - val_acc: 0.7904\n",
      "Epoch 171/200\n",
      "9131/9131 [==============================] - 76s - loss: 0.0415 - acc: 0.9908 - val_loss: 2.1710 - val_acc: 0.7924\n",
      "Epoch 172/200\n",
      "9131/9131 [==============================] - 76s - loss: 0.0273 - acc: 0.9944 - val_loss: 2.0083 - val_acc: 0.8012\n",
      "Epoch 173/200\n",
      "9131/9131 [==============================] - 76s - loss: 0.0385 - acc: 0.9915 - val_loss: 1.6936 - val_acc: 0.8168\n",
      "Epoch 174/200\n",
      "9131/9131 [==============================] - 76s - loss: 0.0234 - acc: 0.9955 - val_loss: 2.1334 - val_acc: 0.7944\n",
      "Epoch 175/200\n",
      "9131/9131 [==============================] - 76s - loss: 0.0358 - acc: 0.9912 - val_loss: 2.1212 - val_acc: 0.7988\n",
      "Epoch 176/200\n",
      "9131/9131 [==============================] - 76s - loss: 0.0482 - acc: 0.9904 - val_loss: 2.2083 - val_acc: 0.7768\n",
      "Epoch 177/200\n",
      "9131/9131 [==============================] - 76s - loss: 0.0361 - acc: 0.9920 - val_loss: 1.9943 - val_acc: 0.7676\n",
      "Epoch 178/200\n",
      "9131/9131 [==============================] - 76s - loss: 0.0301 - acc: 0.9943 - val_loss: 1.9852 - val_acc: 0.7932\n",
      "Epoch 179/200\n",
      "9131/9131 [==============================] - 76s - loss: 0.0259 - acc: 0.9945 - val_loss: 2.5286 - val_acc: 0.7508\n",
      "Epoch 180/200\n",
      "9131/9131 [==============================] - 76s - loss: 0.0262 - acc: 0.9944 - val_loss: 2.2385 - val_acc: 0.7800\n",
      "Epoch 181/200\n",
      "9131/9131 [==============================] - 76s - loss: 0.0174 - acc: 0.9964 - val_loss: 2.0737 - val_acc: 0.7856\n",
      "Epoch 182/200\n",
      "9131/9131 [==============================] - 76s - loss: 0.0391 - acc: 0.9924 - val_loss: 2.0362 - val_acc: 0.7844\n",
      "Epoch 183/200\n",
      "9131/9131 [==============================] - 76s - loss: 0.0391 - acc: 0.9928 - val_loss: 2.0522 - val_acc: 0.7948\n",
      "Epoch 184/200\n",
      "9131/9131 [==============================] - 76s - loss: 0.0356 - acc: 0.9926 - val_loss: 1.8648 - val_acc: 0.7868\n",
      "Epoch 185/200\n",
      "9131/9131 [==============================] - 76s - loss: 0.0477 - acc: 0.9911 - val_loss: 2.1363 - val_acc: 0.7736\n",
      "Epoch 186/200\n",
      "9131/9131 [==============================] - 76s - loss: 0.0385 - acc: 0.9921 - val_loss: 2.1847 - val_acc: 0.7720\n",
      "Epoch 187/200\n",
      "9131/9131 [==============================] - 76s - loss: 0.0132 - acc: 0.9970 - val_loss: 2.4524 - val_acc: 0.7484\n",
      "Epoch 188/200\n",
      "9131/9131 [==============================] - 76s - loss: 0.0625 - acc: 0.9882 - val_loss: 1.5704 - val_acc: 0.7824\n",
      "Epoch 189/200\n",
      "9131/9131 [==============================] - 76s - loss: 0.0259 - acc: 0.9939 - val_loss: 2.0136 - val_acc: 0.7948\n",
      "Epoch 190/200\n"
     ]
    },
    {
     "name": "stdout",
     "output_type": "stream",
     "text": [
      "9131/9131 [==============================] - 76s - loss: 0.0430 - acc: 0.9905 - val_loss: 2.8428 - val_acc: 0.7448\n",
      "Epoch 191/200\n",
      "9131/9131 [==============================] - 76s - loss: 0.0952 - acc: 0.9828 - val_loss: 2.1754 - val_acc: 0.7788\n",
      "Epoch 192/200\n",
      "9131/9131 [==============================] - 76s - loss: 0.0507 - acc: 0.9906 - val_loss: 2.0912 - val_acc: 0.7780\n",
      "Epoch 193/200\n",
      "9131/9131 [==============================] - 76s - loss: 0.0495 - acc: 0.9918 - val_loss: 1.7727 - val_acc: 0.8052\n",
      "Epoch 194/200\n",
      "9131/9131 [==============================] - 76s - loss: 0.0280 - acc: 0.9947 - val_loss: 2.1005 - val_acc: 0.7912\n",
      "Epoch 195/200\n",
      "9131/9131 [==============================] - 76s - loss: 0.0466 - acc: 0.9909 - val_loss: 2.3075 - val_acc: 0.7712\n",
      "Epoch 196/200\n",
      "9131/9131 [==============================] - 76s - loss: 0.0436 - acc: 0.9908 - val_loss: 1.8773 - val_acc: 0.7800\n",
      "Epoch 197/200\n",
      "9131/9131 [==============================] - 76s - loss: 0.0260 - acc: 0.9940 - val_loss: 2.1919 - val_acc: 0.7728\n",
      "Epoch 198/200\n",
      "9131/9131 [==============================] - 76s - loss: 0.0246 - acc: 0.9942 - val_loss: 2.6273 - val_acc: 0.7584\n",
      "Epoch 199/200\n",
      "9131/9131 [==============================] - 76s - loss: 0.0381 - acc: 0.9921 - val_loss: 2.2208 - val_acc: 0.7736\n",
      "Epoch 200/200\n",
      "9131/9131 [==============================] - 76s - loss: 0.0344 - acc: 0.9930 - val_loss: 2.4658 - val_acc: 0.7760\n"
     ]
    }
   ],
   "source": [
    "hist = model.fit(X_train, Y_train, batch_size=32, epochs=200, validation_data=(X_val, Y_val)) #callbacks=[early_stopping]"
   ]
  },
  {
   "cell_type": "markdown",
   "metadata": {},
   "source": [
    "def train_generator(X, Y):\n",
    "    while True:\n",
    "        for i in range(len(X)):\n",
    "            yield np.expand_dims(X[i], axis=0), np.expand_dims(Y[i], axis=0)"
   ]
  },
  {
   "cell_type": "markdown",
   "metadata": {},
   "source": [
    "num_epochs = 10\n",
    "epoch_length = 100\n",
    "best_loss = np.Inf\n",
    "losses = np.zeros(epoch_length)\n",
    "acc = np.zeros(epoch_length)\n",
    "\n",
    "data_gen_train = train_generator(X_train, Y_train)\n",
    "for epoch_num in range(num_epochs):\n",
    "    print('Epoch {}/{}'.format(epoch_num + 1, num_epochs))\n",
    "    iter_num = 0\n",
    "    \n",
    "    while True:\n",
    "        X, Y = next(data_gen_train)\n",
    "        losses[iter_num], acc[iter_num] = model.train_on_batch(X, Y)\n",
    "\n",
    "        iter_num += 1\n",
    "        if iter_num == epoch_length:\n",
    "            curr_loss = np.mean(losses)\n",
    "            curr_acc = np.mean(acc)\n",
    "            print(\"Mean Loss:\", curr_loss, \"// Mean Accuracy:\", curr_acc)\n",
    "\n",
    "            if curr_loss < best_loss:\n",
    "                print('Total loss decreased from {} to {}, saving weights'.format(best_loss,curr_loss))\n",
    "                best_loss = curr_loss\n",
    "                model.save_weights(C.model_path)\n",
    "            break"
   ]
  },
  {
   "cell_type": "code",
   "execution_count": 200,
   "metadata": {
    "scrolled": false
   },
   "outputs": [
    {
     "name": "stdout",
     "output_type": "stream",
     "text": [
      "(293, 293, 75, 2)\n",
      "(213, 213, 55, 2)\n"
     ]
    }
   ],
   "source": [
    "plot_2ch_with_bbox(\"E100738220_0.npy\", \"idk\", pad=30, draw_bbox=True, save_dir=\"classified_imgs\")"
   ]
  },
  {
   "cell_type": "code",
   "execution_count": 19,
   "metadata": {
    "collapsed": true
   },
   "outputs": [],
   "source": [
    "voi_df_art = pd.read_csv(C.art_voi_path)\n",
    "voi_df_ven = pd.read_csv(C.ven_voi_path)\n",
    "voi_df_eq = pd.read_csv(C.eq_voi_path)"
   ]
  },
  {
   "cell_type": "code",
   "execution_count": 20,
   "metadata": {
    "collapsed": true
   },
   "outputs": [],
   "source": [
    "def plot_multich_with_bbox(fn, wrong_class, num_ch, pad=15, draw_bbox=True, save_dir=None):\n",
    "    z = re.search(r'^(.*)_(\\d*)\\.', fn)\n",
    "    voi_df_ven[\"id\"] = voi_df_ven[\"id\"].astype(str)\n",
    "    \n",
    "    img_fn = z.group(1) + \".npy\"\n",
    "    voi = voi_df_art[voi_df_art[\"Filename\"] == img_fn].iloc[int(z.group(2))]\n",
    "    \n",
    "    img = np.load(C.full_img_dir+\"\\\\\"+img_fn)\n",
    "    ven_voi = voi_df_ven[voi_df_ven[\"id\"] == str(voi[\"id\"])]\n",
    "    if len(ven_voi) > 0:\n",
    "        img = hf.align(img, voi, ven_voi.iloc[0], 1)\n",
    "        \n",
    "    if num_ch >= 3:\n",
    "        eq_voi = voi_df_eq[voi_df_eq[\"id\"] == str(voi[\"id\"])]\n",
    "        if len(eq_voi) > 0:\n",
    "            img = hf.align(img, voi, eq_voi.iloc[0], 2)\n",
    "        \n",
    "    crop_size = C.dims\n",
    "    \n",
    "    #pad_img, x1, x2, y1, y2, z1, z2 = get_\n",
    "    exceed_ratio = max(voi['dx']/crop_size[0], voi['dy']/crop_size[1], voi['dz']/crop_size[2]) / 1\n",
    "    if True:#exceed_ratio > 1:\n",
    "        img = tr.scale3d(img, [1/exceed_ratio]*3)\n",
    "        x1 = round(voi['x1'] / exceed_ratio)\n",
    "        x2 = round(voi['x2'] / exceed_ratio)\n",
    "        y1 = round(voi['y1'] / exceed_ratio)\n",
    "        y2 = round(voi['y2'] / exceed_ratio)\n",
    "        z1 = round(voi['z1'] / exceed_ratio)\n",
    "        z2 = round(voi['z2'] / exceed_ratio)\n",
    "    else:\n",
    "        x1 = voi['x1']\n",
    "        x2 = voi['x2']\n",
    "        y1 = voi['y1']\n",
    "        y2 = voi['y2']\n",
    "        z1 = voi['z1']\n",
    "        z2 = voi['z2']\n",
    "        \n",
    "    dx = x2 - x1\n",
    "    dy = y2 - y1\n",
    "    dz = z2 - z1\n",
    "        \n",
    "    xpad = max(crop_size[0] - dx, 0)\n",
    "    ypad = max(crop_size[1] - dy, 0)\n",
    "    zpad = max(crop_size[2] - dz, 0)\n",
    "\n",
    "    side_padding = math.ceil(max(xpad, ypad, zpad) / 2)\n",
    "\n",
    "    pad_img = []\n",
    "\n",
    "    for ch in range(img.shape[-1]):\n",
    "        pad_img.append(np.pad(img[:,:,:,ch], side_padding, 'constant'))\n",
    "\n",
    "    pad_img = np.stack(pad_img, axis=3)\n",
    "\n",
    "    x1 += side_padding - math.ceil(xpad/2)\n",
    "    x2 += side_padding + math.floor(xpad/2)\n",
    "    y1 += side_padding - math.ceil(ypad/2)\n",
    "    y2 += side_padding + math.floor(ypad/2)\n",
    "    z1 += side_padding - math.ceil(zpad/2)\n",
    "    z2 += side_padding + math.floor(zpad/2)\n",
    "    \n",
    "    x1=int(x1)\n",
    "    x2=int(x2)\n",
    "    y1=int(y1)\n",
    "    y2=int(y2)\n",
    "    z1=int(z1)\n",
    "    z2=int(z2)\n",
    "\n",
    "    slice_num = (z1+z2)//2\n",
    "    img_slice = pad_img[:,:, slice_num, :]\n",
    "    for ch in range(img_slice.shape[-1]):\n",
    "        img_slice[:, :, ch] *= 255/np.amax(img_slice[:, :, ch])\n",
    "    img_slice = np.stack([img_slice, img_slice, img_slice], axis=2)\n",
    "    \n",
    "    if draw_bbox:\n",
    "        img_slice[x1:x2, y2, 2, :] = 255\n",
    "        img_slice[x1:x2, y2, :2, :] = 0\n",
    "        \n",
    "        img_slice[x1:x2, y1, 2, :] = 255\n",
    "        img_slice[x1:x2, y1, :2, :] = 0\n",
    "        \n",
    "        img_slice[x1, y1:y2, 2, :] = 255\n",
    "        img_slice[x1, y1:y2, :2, :] = 0\n",
    "        \n",
    "        img_slice[x2, y1:y2, 2, :] = 255\n",
    "        img_slice[x2, y1:y2, :2, :] = 0\n",
    "        \n",
    "    plot_section_multich(img_slice, [x1,x2,y1,y2], fn, num_ch, save_dir=save_dir+\"\\\\\"+voi['cls'], wrong_class=wrong_class, pad=pad)"
   ]
  },
  {
   "cell_type": "code",
   "execution_count": 21,
   "metadata": {
    "collapsed": true
   },
   "outputs": [],
   "source": [
    "def plot_section_multich(img_slice, coords, fn, num_ch, save_dir=None, wrong_class=None, pad=15):\n",
    "    #plt.subplot(121)\n",
    "    if not os.path.exists(save_dir):\n",
    "        os.makedirs(save_dir)\n",
    "        \n",
    "    ch1 = np.transpose(get_cropped_slice(img_slice[:,:,:,0], coords, pad), (1,0,2))\n",
    "    ch2 = np.transpose(get_cropped_slice(img_slice[:,:,:,1], coords, pad), (1,0,2))\n",
    "    \n",
    "    if num_ch == 2:\n",
    "        ret = np.empty([ch1.shape[0]*2, ch1.shape[1], 3])\n",
    "        ret[:ch1.shape[0],:,:] = ch1\n",
    "        ret[ch1.shape[0]:,:,:] = ch2\n",
    "        \n",
    "    elif num_ch == 3:\n",
    "        ch3 = np.transpose(get_cropped_slice(img_slice[:,:,:,2], coords, pad), (1,0,2))\n",
    "\n",
    "        ret = np.empty([ch1.shape[0]*3, ch1.shape[1], 3])\n",
    "        ret[:ch1.shape[0],:,:] = ch1\n",
    "        ret[ch1.shape[0]:ch1.shape[0]*2,:,:] = ch2\n",
    "        ret[ch1.shape[0]*2:,:,:] = ch3\n",
    "        \n",
    "    else:\n",
    "        raise ValueError(\"Invalid num channels\")\n",
    "        \n",
    "    imsave(\"%s\\\\%s (pred %s).png\" % (save_dir, fn[:-3], wrong_class), ret)"
   ]
  },
  {
   "cell_type": "code",
   "execution_count": 22,
   "metadata": {
    "collapsed": true
   },
   "outputs": [],
   "source": [
    "def get_cropped_slice(img_slice, coords, pad):\n",
    "    x1 = max(coords[0]-pad, 0)\n",
    "    x2 = min(coords[1]+pad, img_slice.shape[0])\n",
    "    y1 = max(coords[2]-pad, 0)\n",
    "    y2 = min(coords[3]+pad, img_slice.shape[1])\n",
    "    \n",
    "    return img_slice[x1:x2, y2:y1:-1]"
   ]
  },
  {
   "cell_type": "code",
   "execution_count": 32,
   "metadata": {
    "collapsed": true
   },
   "outputs": [],
   "source": [
    "def condense_cm(y_true, y_pred, cls_mapping):\n",
    "    simplify_map = {'hcc': 0, 'cyst': 1, 'hemangioma': 1, 'fnh': 1, 'cholangio': 2, 'colorectal': 2}\n",
    "    y_true_simp = np.array([simplify_map[cls_mapping[y]] for y in y_true])\n",
    "    y_pred_simp = np.array([simplify_map[cls_mapping[y]] for y in y_pred])\n",
    "    \n",
    "    return y_true_simp, y_pred_simp, ['hcc', 'benign', 'malignant non-hcc']"
   ]
  },
  {
   "cell_type": "code",
   "execution_count": 24,
   "metadata": {
    "collapsed": true
   },
   "outputs": [],
   "source": [
    "def save_output(Z, y_pred, cls_mapping):\n",
    "    save_dir = \"classified_imgs\"\n",
    "    if not os.path.exists(save_dir):\n",
    "        os.makedirs(save_dir)\n",
    "    if not os.path.exists(save_dir + \"\\\\correct\"):\n",
    "        os.makedirs(save_dir + \"\\\\correct\")\n",
    "    else:\n",
    "        print(\"images may already exist...\")\n",
    "    if not os.path.exists(save_dir + \"\\\\incorrect\"):\n",
    "        os.makedirs(save_dir + \"\\\\incorrect\")\n",
    "\n",
    "    for i in range(len(Z)):\n",
    "        if y_pred[i] != y_true[i]:\n",
    "            plot_multich_with_bbox(Z[i], cls_mapping[y_pred[i]], num_ch=3, pad=30, draw_bbox=True, save_dir=save_dir + \"\\\\incorrect\")\n",
    "        else:\n",
    "            plot_multich_with_bbox(Z[i], cls_mapping[y_pred[i]], num_ch=3, pad=30, draw_bbox=True, save_dir=save_dir + \"\\\\correct\")  "
   ]
  },
  {
   "cell_type": "code",
   "execution_count": 29,
   "metadata": {
    "collapsed": true,
    "scrolled": true
   },
   "outputs": [],
   "source": [
    "#plot_with_bbox(fn_list[2], cls_mapping[wrong_guesses[2]])\n",
    "Y_pred = model.predict(X_test)\n",
    "y_true = np.array([max(enumerate(x), key=operator.itemgetter(1))[0] for x in Y_test])\n",
    "y_pred = np.array([max(enumerate(x), key=operator.itemgetter(1))[0] for x in Y_pred])\n",
    "\n",
    "cm = confusion_matrix(y_true, y_pred)\n",
    "f1 = f1_score(y_true, y_pred, average=\"weighted\")\n",
    "\n",
    "#save_output(Z_test, y_pred, cls_mapping)"
   ]
  },
  {
   "cell_type": "code",
   "execution_count": 26,
   "metadata": {
    "scrolled": true
   },
   "outputs": [
    {
     "name": "stdout",
     "output_type": "stream",
     "text": [
      "images may already exist...\n"
     ]
    }
   ],
   "source": [
    "Y_pred = model.predict(X_train_orig)\n",
    "y_true = np.array([max(enumerate(x), key=operator.itemgetter(1))[0] for x in Y_train_orig])\n",
    "y_pred = np.array([max(enumerate(x), key=operator.itemgetter(1))[0] for x in Y_pred])\n",
    "\n",
    "cm = confusion_matrix(y_true, y_pred)\n",
    "f1 = f1_score(y_true, y_pred, average=\"weighted\")\n",
    "\n",
    "save_output(Z_train_orig, y_pred, cls_mapping)"
   ]
  },
  {
   "cell_type": "code",
   "execution_count": 146,
   "metadata": {
    "collapsed": true
   },
   "outputs": [],
   "source": [
    "simplify_map = {'hcc': 0, 'cyst': 1, 'hemangioma': 1, 'fnh': 1, 'cholangio': 2, 'colorectal': 2}"
   ]
  },
  {
   "cell_type": "code",
   "execution_count": 33,
   "metadata": {},
   "outputs": [],
   "source": [
    "y_true_simp, y_pred_simp, _ = condense_cm(y_true, y_pred, cls_mapping)"
   ]
  },
  {
   "cell_type": "code",
   "execution_count": 63,
   "metadata": {},
   "outputs": [
    {
     "data": {
      "text/plain": [
       "['fnh', 'hcc', 'hemangioma', 'cyst', 'cholangio']"
      ]
     },
     "execution_count": 63,
     "metadata": {},
     "output_type": "execute_result"
    }
   ],
   "source": [
    "cls_mapping"
   ]
  },
  {
   "cell_type": "code",
   "execution_count": 64,
   "metadata": {
    "scrolled": true
   },
   "outputs": [
    {
     "data": {
      "text/plain": [
       "array([[26,  3,  1,  3, 13],\n",
       "       [20, 14,  1,  2, 11],\n",
       "       [ 3,  3, 14,  2,  8],\n",
       "       [10,  9,  2, 11, 20],\n",
       "       [ 1,  2,  0,  1, 20]], dtype=int64)"
      ]
     },
     "execution_count": 64,
     "metadata": {},
     "output_type": "execute_result"
    }
   ],
   "source": [
    "cm"
   ]
  },
  {
   "cell_type": "code",
   "execution_count": 34,
   "metadata": {},
   "outputs": [
    {
     "data": {
      "text/plain": [
       "0.86956521739130432"
      ]
     },
     "execution_count": 34,
     "metadata": {},
     "output_type": "execute_result"
    }
   ],
   "source": [
    "accuracy_score(y_true_simp, y_pred_simp)"
   ]
  },
  {
   "cell_type": "code",
   "execution_count": 30,
   "metadata": {},
   "outputs": [
    {
     "data": {
      "text/plain": [
       "0.82608695652173914"
      ]
     },
     "execution_count": 30,
     "metadata": {},
     "output_type": "execute_result"
    }
   ],
   "source": [
    "accuracy_score(y_true, y_pred)"
   ]
  },
  {
   "cell_type": "markdown",
   "metadata": {
    "collapsed": true
   },
   "source": [
    "def plot_1ch_with_bbox(fn, wrong_class, pad=15, draw_bbox=False, save_dir=None):\n",
    "    voi_df = pd.read_csv('vois.csv')\n",
    "    z = re.search(r'^(.*)_(\\d*)\\.', fn)\n",
    "    \n",
    "    img_fn = z.group(1) + \".npy\"\n",
    "    df = voi_df[voi_df[\"Filename\"] == img_fn].iloc[int(z.group(2))]\n",
    "    \n",
    "    img = np.load(\"full_imgs\\\\\"+img_fn)\n",
    "    #if\n",
    "    slice_num = (df['z1']+df['z2'])//2\n",
    "    img_slice = img[:,:, slice_num, 0]\n",
    "    img_slice = np.stack([img_slice, img_slice, img_slice], axis=2)\n",
    "    \n",
    "    if draw_bbox:\n",
    "        img_slice[df['x1']:df['x2'], df['y2'], 0] = 1\n",
    "        img_slice[df['x1']:df['x2'], df['y2'], 1:] = 0\n",
    "        \n",
    "        img_slice[df['x1']:df['x2'], df['y1'], 0] = 1\n",
    "        img_slice[df['x1']:df['x2'], df['y1'], 1:] = 0\n",
    "        \n",
    "        img_slice[df['x1'], df['y1']:df['y2'], 0] = 1\n",
    "        img_slice[df['x1'], df['y1']:df['y2'], 1:] = 0\n",
    "        \n",
    "        img_slice[df['x2'], df['y1']:df['y2'], 0] = 1\n",
    "        img_slice[df['x2'], df['y1']:df['y2'], 1:] = 0\n",
    "        \n",
    "    if save_dir is None:\n",
    "        plot_section(img_slice, df, fn, pad=pad)\n",
    "    else:\n",
    "        plot_section(img_slice, df, fn, save_dir=save_dir+\"\\\\\"+df['cls'], wrong_class=wrong_class, pad=pad, noshow=True)"
   ]
  },
  {
   "cell_type": "code",
   "execution_count": 365,
   "metadata": {
    "collapsed": true
   },
   "outputs": [],
   "source": [
    "fn_list = Z_test[~np.equal(y_pred, y_true)]\n",
    "wrong_guesses = np.array(y_pred)[~np.equal(y_pred, y_true)]"
   ]
  },
  {
   "cell_type": "markdown",
   "metadata": {
    "collapsed": true
   },
   "source": [
    "def plot_section(img_slice, row, fn, save_dir=None, wrong_class=None, pad=15, noshow=False):\n",
    "    #plt.subplot(121)\n",
    "    if noshow:\n",
    "        ret = np.transpose(get_cropped_slice(img_slice, row, pad), (1,0,2))\n",
    "        if not os.path.exists(save_dir):\n",
    "            os.makedirs(save_dir)\n",
    "        imsave(\"%s\\\\%s (pred %s).png\" % (save_dir, fn[:-3], wrong_class), ret)\n",
    "        \n",
    "    else:\n",
    "        ret = np.transpose(get_cropped_slice(img_slice[:,:,0], row, pad), (1,0))\n",
    "        plt.imshow(ret, cmap='gray')\n",
    "    #plt.subplot(122)"
   ]
  },
  {
   "cell_type": "code",
   "execution_count": 409,
   "metadata": {
    "scrolled": true
   },
   "outputs": [
    {
     "data": {
      "text/plain": [
       "array(['E100815762_0.npy', '12239513_0.npy', '12042703_2.npy'],\n",
       "      dtype='<U16')"
      ]
     },
     "execution_count": 409,
     "metadata": {},
     "output_type": "execute_result"
    }
   ],
   "source": [
    "Z_test[~np.equal(y_pred, y_true)]"
   ]
  },
  {
   "cell_type": "code",
   "execution_count": 380,
   "metadata": {
    "scrolled": true
   },
   "outputs": [
    {
     "data": {
      "text/plain": [
       "array(['E105152534_0.npy', '13166464_0.npy', '12789019_1.npy',\n",
       "       'E103514998_0.npy', 'E104430882_0.npy', '13064153_0.npy',\n",
       "       '12857716_0.npy', '13064153_1.npy', 'E100718398_0.npy',\n",
       "       'E101636006_0.npy', 'E105464882_0.npy', '12239513_0.npy',\n",
       "       '12229245_0.npy', '12302576_2.npy', '12302576_0.npy'],\n",
       "      dtype='<U16')"
      ]
     },
     "execution_count": 380,
     "metadata": {},
     "output_type": "execute_result"
    }
   ],
   "source": [
    "Z_test"
   ]
  },
  {
   "cell_type": "code",
   "execution_count": null,
   "metadata": {
    "collapsed": true
   },
   "outputs": [],
   "source": []
  },
  {
   "cell_type": "code",
   "execution_count": 159,
   "metadata": {
    "collapsed": true
   },
   "outputs": [],
   "source": [
    "activ = model2.predict(X_train)\n",
    "#activ = model2.predict(np.expand_dims(X_train[10],axis=0))"
   ]
  },
  {
   "cell_type": "code",
   "execution_count": 316,
   "metadata": {
    "scrolled": true
   },
   "outputs": [
    {
     "name": "stdout",
     "output_type": "stream",
     "text": [
      "Predictions: ['hcc (95.75861% confidence)', 'hcc (99.98515% confidence)', 'hcc (56.77554% confidence)', 'hcc (97.68384% confidence)', 'hcc (96.73136% confidence)', 'hcc (99.99979% confidence)', 'hcc (99.99988% confidence)', 'hcc (99.71866% confidence)', 'cyst (63.61439% confidence)', 'cyst (51.41591% confidence)', 'hcc (99.65365% confidence)', 'hcc (52.72004% confidence)', 'hcc (57.44457% confidence)', 'cyst (99.82330% confidence)', 'cyst (83.69393% confidence)']\n"
     ]
    }
   ],
   "source": [
    "import operator\n",
    "#print(\"Ground truth:\", [cls_mapping[max(enumerate(x), key=operator.itemgetter(1))[0]] for x in Y_val[::30]])\n",
    "Y_ = model.predict(X_test)\n",
    "print(\"Predictions:\", [cls_mapping[max(enumerate(x), key=operator.itemgetter(1))[0]] + \" (%.5f%% confidence)\" % (max(x)*100) for x in Y_])"
   ]
  },
  {
   "cell_type": "code",
   "execution_count": 21,
   "metadata": {},
   "outputs": [
    {
     "data": {
      "text/html": [
       "<div>\n",
       "<style>\n",
       "    .dataframe thead tr:only-child th {\n",
       "        text-align: right;\n",
       "    }\n",
       "\n",
       "    .dataframe thead th {\n",
       "        text-align: left;\n",
       "    }\n",
       "\n",
       "    .dataframe tbody tr th {\n",
       "        vertical-align: top;\n",
       "    }\n",
       "</style>\n",
       "<table border=\"1\" class=\"dataframe\">\n",
       "  <thead>\n",
       "    <tr style=\"text-align: right;\">\n",
       "      <th></th>\n",
       "      <th>Filename</th>\n",
       "      <th>x1</th>\n",
       "      <th>x2</th>\n",
       "      <th>y1</th>\n",
       "      <th>y2</th>\n",
       "      <th>z1</th>\n",
       "      <th>z2</th>\n",
       "      <th>cls</th>\n",
       "      <th>flipz</th>\n",
       "      <th>dx</th>\n",
       "      <th>dy</th>\n",
       "      <th>dz</th>\n",
       "      <th>id</th>\n",
       "    </tr>\n",
       "  </thead>\n",
       "  <tbody>\n",
       "    <tr>\n",
       "      <th>119</th>\n",
       "      <td>12673726.npy</td>\n",
       "      <td>105</td>\n",
       "      <td>134</td>\n",
       "      <td>76</td>\n",
       "      <td>101</td>\n",
       "      <td>40</td>\n",
       "      <td>53</td>\n",
       "      <td>hemangioma</td>\n",
       "      <td>True</td>\n",
       "      <td>29</td>\n",
       "      <td>25</td>\n",
       "      <td>13</td>\n",
       "      <td>126737261057640</td>\n",
       "    </tr>\n",
       "    <tr>\n",
       "      <th>120</th>\n",
       "      <td>12673726.npy</td>\n",
       "      <td>127</td>\n",
       "      <td>139</td>\n",
       "      <td>103</td>\n",
       "      <td>117</td>\n",
       "      <td>44</td>\n",
       "      <td>51</td>\n",
       "      <td>hemangioma</td>\n",
       "      <td>True</td>\n",
       "      <td>12</td>\n",
       "      <td>14</td>\n",
       "      <td>7</td>\n",
       "      <td>1267372612710344</td>\n",
       "    </tr>\n",
       "  </tbody>\n",
       "</table>\n",
       "</div>"
      ],
      "text/plain": [
       "         Filename   x1   x2   y1   y2  z1  z2         cls  flipz  dx  dy  dz  \\\n",
       "119  12673726.npy  105  134   76  101  40  53  hemangioma   True  29  25  13   \n",
       "120  12673726.npy  127  139  103  117  44  51  hemangioma   True  12  14   7   \n",
       "\n",
       "                   id  \n",
       "119   126737261057640  \n",
       "120  1267372612710344  "
      ]
     },
     "execution_count": 21,
     "metadata": {},
     "output_type": "execute_result"
    }
   ],
   "source": [
    "voi_df_art[voi_df_art[\"Filename\"] == \"12673726.npy\"]"
   ]
  },
  {
   "cell_type": "code",
   "execution_count": 22,
   "metadata": {
    "scrolled": true
   },
   "outputs": [
    {
     "data": {
      "text/html": [
       "<div>\n",
       "<style>\n",
       "    .dataframe thead tr:only-child th {\n",
       "        text-align: right;\n",
       "    }\n",
       "\n",
       "    .dataframe thead th {\n",
       "        text-align: left;\n",
       "    }\n",
       "\n",
       "    .dataframe tbody tr th {\n",
       "        vertical-align: top;\n",
       "    }\n",
       "</style>\n",
       "<table border=\"1\" class=\"dataframe\">\n",
       "  <thead>\n",
       "    <tr style=\"text-align: right;\">\n",
       "      <th></th>\n",
       "      <th>id</th>\n",
       "      <th>x1</th>\n",
       "      <th>x2</th>\n",
       "      <th>y1</th>\n",
       "      <th>y2</th>\n",
       "      <th>z1</th>\n",
       "      <th>z2</th>\n",
       "      <th>dx</th>\n",
       "      <th>dy</th>\n",
       "      <th>dz</th>\n",
       "    </tr>\n",
       "  </thead>\n",
       "  <tbody>\n",
       "    <tr>\n",
       "      <th>74</th>\n",
       "      <td>1267372612710344</td>\n",
       "      <td>127</td>\n",
       "      <td>139</td>\n",
       "      <td>103</td>\n",
       "      <td>117</td>\n",
       "      <td>44</td>\n",
       "      <td>52</td>\n",
       "      <td>12</td>\n",
       "      <td>14</td>\n",
       "      <td>8</td>\n",
       "    </tr>\n",
       "  </tbody>\n",
       "</table>\n",
       "</div>"
      ],
      "text/plain": [
       "                  id   x1   x2   y1   y2  z1  z2  dx  dy  dz\n",
       "74  1267372612710344  127  139  103  117  44  52  12  14   8"
      ]
     },
     "execution_count": 22,
     "metadata": {},
     "output_type": "execute_result"
    }
   ],
   "source": [
    "voi_df_ven[voi_df_ven[\"id\"] == \"1267372612710344\"]"
   ]
  },
  {
   "cell_type": "code",
   "execution_count": 19,
   "metadata": {},
   "outputs": [
    {
     "data": {
      "text/plain": [
       "0.6875"
      ]
     },
     "execution_count": 19,
     "metadata": {},
     "output_type": "execute_result"
    }
   ],
   "source": [
    "max(sum(y)/len(y), 1-sum(y)/len(y))"
   ]
  },
  {
   "cell_type": "code",
   "execution_count": 86,
   "metadata": {
    "scrolled": true
   },
   "outputs": [
    {
     "name": "stdout",
     "output_type": "stream",
     "text": [
      "0.20054101943969727\n"
     ]
    }
   ],
   "source": [
    "a=time.time()\n",
    "Y_ = model.predict(X_val)\n",
    "print(time.time()-a)"
   ]
  },
  {
   "cell_type": "code",
   "execution_count": 136,
   "metadata": {
    "collapsed": true
   },
   "outputs": [],
   "source": [
    "import matplotlib.pyplot as plt\n",
    "%matplotlib inline"
   ]
  }
 ],
 "metadata": {
  "kernelspec": {
   "display_name": "Python 3",
   "language": "python",
   "name": "python3"
  },
  "language_info": {
   "codemirror_mode": {
    "name": "ipython",
    "version": 3
   },
   "file_extension": ".py",
   "mimetype": "text/x-python",
   "name": "python",
   "nbconvert_exporter": "python",
   "pygments_lexer": "ipython3",
   "version": "3.5.0"
  }
 },
 "nbformat": 4,
 "nbformat_minor": 2
}
