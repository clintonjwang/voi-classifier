{
 "cells": [
  {
   "cell_type": "code",
   "execution_count": 1,
   "metadata": {
    "scrolled": false
   },
   "outputs": [
    {
     "name": "stderr",
     "output_type": "stream",
     "text": [
      "Using TensorFlow backend.\n"
     ]
    }
   ],
   "source": [
    "import keras.backend as K\n",
    "from keras.models import Model\n",
    "from keras.optimizers import Adam\n",
    "from keras.callbacks import EarlyStopping\n",
    "from keras.utils import np_utils\n",
    "from sklearn.metrics import confusion_matrix, f1_score, accuracy_score\n",
    "\n",
    "import cnn_builder as cbuild\n",
    "import cnn_methods as cfunc\n",
    "import config\n",
    "import csv\n",
    "import helper_fxns as hf\n",
    "import importlib\n",
    "import matplotlib.pyplot as plt\n",
    "import numpy as np\n",
    "import operator\n",
    "import os\n",
    "import pandas as pd\n",
    "import random\n",
    "%matplotlib inline"
   ]
  },
  {
   "cell_type": "code",
   "execution_count": 2,
   "metadata": {
    "scrolled": true
   },
   "outputs": [],
   "source": [
    "importlib.reload(config)\n",
    "importlib.reload(cfunc)\n",
    "importlib.reload(hf)\n",
    "importlib.reload(cbuild)\n",
    "C = config.Config()"
   ]
  },
  {
   "cell_type": "code",
   "execution_count": 3,
   "metadata": {
    "scrolled": true
   },
   "outputs": [
    {
     "name": "stdout",
     "output_type": "stream",
     "text": [
      "____________________________________________________________________________________________________\n",
      "Layer (type)                     Output Shape          Param #     Connected to                     \n",
      "====================================================================================================\n",
      "input_1 (InputLayer)             (None, 36, 36, 12, 1) 0                                            \n",
      "____________________________________________________________________________________________________\n",
      "input_2 (InputLayer)             (None, 36, 36, 12, 1) 0                                            \n",
      "____________________________________________________________________________________________________\n",
      "input_3 (InputLayer)             (None, 36, 36, 12, 1) 0                                            \n",
      "____________________________________________________________________________________________________\n",
      "conv3d_1 (Conv3D)                (None, 32, 32, 10, 64 1792        input_1[0][0]                    \n",
      "____________________________________________________________________________________________________\n",
      "conv3d_2 (Conv3D)                (None, 32, 32, 10, 64 1792        input_2[0][0]                    \n",
      "____________________________________________________________________________________________________\n",
      "conv3d_3 (Conv3D)                (None, 32, 32, 10, 64 1792        input_3[0][0]                    \n",
      "____________________________________________________________________________________________________\n",
      "batch_normalization_1 (BatchNorm (None, 32, 32, 10, 64 256         conv3d_1[0][0]                   \n",
      "____________________________________________________________________________________________________\n",
      "batch_normalization_2 (BatchNorm (None, 32, 32, 10, 64 256         conv3d_2[0][0]                   \n",
      "____________________________________________________________________________________________________\n",
      "batch_normalization_3 (BatchNorm (None, 32, 32, 10, 64 256         conv3d_3[0][0]                   \n",
      "____________________________________________________________________________________________________\n",
      "elu_1 (ELU)                      (None, 32, 32, 10, 64 0           batch_normalization_1[0][0]      \n",
      "____________________________________________________________________________________________________\n",
      "elu_2 (ELU)                      (None, 32, 32, 10, 64 0           batch_normalization_2[0][0]      \n",
      "____________________________________________________________________________________________________\n",
      "elu_3 (ELU)                      (None, 32, 32, 10, 64 0           batch_normalization_3[0][0]      \n",
      "____________________________________________________________________________________________________\n",
      "max_pooling3d_1 (MaxPooling3D)   (None, 16, 16, 5, 64) 0           elu_1[0][0]                      \n",
      "____________________________________________________________________________________________________\n",
      "max_pooling3d_2 (MaxPooling3D)   (None, 16, 16, 5, 64) 0           elu_2[0][0]                      \n",
      "____________________________________________________________________________________________________\n",
      "max_pooling3d_3 (MaxPooling3D)   (None, 16, 16, 5, 64) 0           elu_3[0][0]                      \n",
      "____________________________________________________________________________________________________\n",
      "concatenate_1 (Concatenate)      (None, 16, 16, 5, 192 0           max_pooling3d_1[0][0]            \n",
      "                                                                   max_pooling3d_2[0][0]            \n",
      "                                                                   max_pooling3d_3[0][0]            \n",
      "____________________________________________________________________________________________________\n",
      "conv3d_4 (Conv3D)                (None, 14, 14, 3, 128 663680      concatenate_1[0][0]              \n",
      "____________________________________________________________________________________________________\n",
      "batch_normalization_4 (BatchNorm (None, 14, 14, 3, 128 512         conv3d_4[0][0]                   \n",
      "____________________________________________________________________________________________________\n",
      "elu_4 (ELU)                      (None, 14, 14, 3, 128 0           batch_normalization_4[0][0]      \n",
      "____________________________________________________________________________________________________\n",
      "conv3d_5 (Conv3D)                (None, 12, 12, 1, 100 345700      elu_4[0][0]                      \n",
      "____________________________________________________________________________________________________\n",
      "batch_normalization_5 (BatchNorm (None, 12, 12, 1, 100 400         conv3d_5[0][0]                   \n",
      "____________________________________________________________________________________________________\n",
      "elu_5 (ELU)                      (None, 12, 12, 1, 100 0           batch_normalization_5[0][0]      \n",
      "____________________________________________________________________________________________________\n",
      "max_pooling3d_4 (MaxPooling3D)   (None, 6, 6, 1, 100)  0           elu_5[0][0]                      \n",
      "____________________________________________________________________________________________________\n",
      "flatten_1 (Flatten)              (None, 3600)          0           max_pooling3d_4[0][0]            \n",
      "____________________________________________________________________________________________________\n",
      "input_4 (InputLayer)             (None, 2)             0                                            \n",
      "____________________________________________________________________________________________________\n",
      "concatenate_2 (Concatenate)      (None, 3602)          0           flatten_1[0][0]                  \n",
      "                                                                   input_4[0][0]                    \n",
      "____________________________________________________________________________________________________\n",
      "dense_1 (Dense)                  (None, 100)           360300      concatenate_2[0][0]              \n",
      "____________________________________________________________________________________________________\n",
      "batch_normalization_6 (BatchNorm (None, 100)           400         dense_1[0][0]                    \n",
      "____________________________________________________________________________________________________\n",
      "elu_6 (ELU)                      (None, 100)           0           batch_normalization_6[0][0]      \n",
      "____________________________________________________________________________________________________\n",
      "dense_2 (Dense)                  (None, 6)             606         elu_6[0][0]                      \n",
      "____________________________________________________________________________________________________\n",
      "batch_normalization_7 (BatchNorm (None, 6)             24          dense_2[0][0]                    \n",
      "____________________________________________________________________________________________________\n",
      "activation_1 (Activation)        (None, 6)             0           batch_normalization_7[0][0]      \n",
      "====================================================================================================\n",
      "Total params: 1,377,766\n",
      "Trainable params: 1,376,714\n",
      "Non-trainable params: 1,052\n",
      "____________________________________________________________________________________________________\n"
     ]
    }
   ],
   "source": [
    "model = cbuild.build_cnn(C, 'adam')#Adam(lr=.005)\n",
    "model.summary()"
   ]
  },
  {
   "cell_type": "markdown",
   "metadata": {},
   "source": [
    "model = cbuild.run_cnn(model, C)"
   ]
  },
  {
   "cell_type": "code",
   "execution_count": 4,
   "metadata": {
    "scrolled": true
   },
   "outputs": [
    {
     "name": "stdout",
     "output_type": "stream",
     "text": [
      "{'colorectal': 72, 'cholangio': 56, 'fnh': 59, 'cyst': 75, 'hcc': 86, 'hemangioma': 56}\n"
     ]
    }
   ],
   "source": [
    "nb_classes = len(C.classes_to_include)\n",
    "voi_df = pd.read_csv(C.art_voi_path)\n",
    "orig_data_dict, num_samples = cfunc.collect_unaug_data(C, voi_df)\n",
    "print(num_samples)\n",
    "\n",
    "avg_X2 = {}\n",
    "for cls in C.classes_to_include:\n",
    "    avg_X2[cls] = np.mean(orig_data_dict[cls][1], axis=0)"
   ]
  },
  {
   "cell_type": "code",
   "execution_count": 5,
   "metadata": {
    "scrolled": true
   },
   "outputs": [
    {
     "name": "stdout",
     "output_type": "stream",
     "text": [
      "colorectal has 58 samples for training (2900 after augmentation) and 14 for testing\n",
      "cholangio has 45 samples for training (2250 after augmentation) and 11 for testing\n",
      "fnh has 47 samples for training (2350 after augmentation) and 12 for testing\n",
      "cyst has 60 samples for training (3000 after augmentation) and 15 for testing\n",
      "hcc has 69 samples for training (3450 after augmentation) and 17 for testing\n",
      "hemangioma has 45 samples for training (2250 after augmentation) and 11 for testing\n"
     ]
    }
   ],
   "source": [
    "train_ids = {} #filenames of training set originals\n",
    "test_ids = {} #filenames of test set\n",
    "X_test = []\n",
    "X2_test = []\n",
    "Y_test = []\n",
    "Z_test = []\n",
    "X_train_orig = []\n",
    "X2_train_orig = []\n",
    "Y_train_orig = []\n",
    "Z_train_orig = []\n",
    "\n",
    "train_samples = {}\n",
    "\n",
    "for cls_num, cls in enumerate(orig_data_dict):\n",
    "    cls_num = C.classes_to_include.index(cls)\n",
    "\n",
    "    train_samples[cls] = round(num_samples[cls]*C.train_frac)\n",
    "\n",
    "    order = np.random.permutation(list(range(num_samples[cls])))\n",
    "    train_ids[cls] = list(orig_data_dict[cls][2][order[:train_samples[cls]]])\n",
    "    test_ids[cls] = list(orig_data_dict[cls][2][order[train_samples[cls]:]])\n",
    "\n",
    "    X_test = X_test + list(orig_data_dict[cls][0][order[train_samples[cls]:]])\n",
    "    X2_test = X2_test + list(orig_data_dict[cls][1][order[train_samples[cls]:]])\n",
    "    Y_test = Y_test + [[0] * cls_num + [1] + [0] * (nb_classes - cls_num - 1)] * \\\n",
    "                        (num_samples[cls] - train_samples[cls])\n",
    "    Z_test = Z_test + test_ids[cls]\n",
    "\n",
    "    X_train_orig = X_train_orig + list(orig_data_dict[cls][0][order[:train_samples[cls]]])\n",
    "    X2_train_orig = X2_train_orig + list(orig_data_dict[cls][1][order[:train_samples[cls]]])\n",
    "    Y_train_orig = Y_train_orig + [[0] * cls_num + [1] + [0] * (nb_classes - cls_num - 1)] * \\\n",
    "                        (train_samples[cls])\n",
    "    Z_train_orig = Z_train_orig + train_ids[cls]\n",
    "\n",
    "    print(\"%s has %d samples for training (%d after augmentation) and %d for testing\" %\n",
    "          (cls, train_samples[cls], train_samples[cls] * C.aug_factor, num_samples[cls] - train_samples[cls]))\n",
    "\n",
    "#Y_test = np_utils.to_categorical(Y_test, nb_classes)\n",
    "#Y_train_orig = np_utils.to_categorical(Y_train_orig, nb_classes)\n",
    "X_test = [np.array(X_test), np.array(X2_test)]\n",
    "X_train_orig = [np.array(X_train_orig), np.array(X2_train_orig)]\n",
    "\n",
    "Y_test = np.array(Y_test)\n",
    "Y_train_orig = np.array(Y_train_orig)\n",
    "\n",
    "Z_test = np.array(Z_test)\n",
    "Z_train_orig = np.array(Z_train_orig)\n",
    "\n",
    "X_test = cfunc.separate_phases(X_test)\n",
    "X_train_orig = cfunc.separate_phases(X_train_orig)"
   ]
  },
  {
   "cell_type": "markdown",
   "metadata": {},
   "source": [
    "train_generator = train_generator_func()\n",
    "model_pretrain.fit_generator(train_generator, steps_per_epoch=120, epochs=50)#, callbacks=[early_stopping])"
   ]
  },
  {
   "cell_type": "code",
   "execution_count": null,
   "metadata": {
    "scrolled": true
   },
   "outputs": [
    {
     "name": "stdout",
     "output_type": "stream",
     "text": [
      "Epoch 1/30\n",
      "129/200 [==================>...........] - ETA: 53s - loss: 0.7471 - acc: 0.7941"
     ]
    }
   ],
   "source": [
    "#early_stopping = EarlyStopping(monitor='acc', min_delta=0.01, patience=4)\n",
    "train_generator = cbuild.train_generator_func(C, train_ids, voi_df, avg_X2, n=5, n_art=4)\n",
    "hist = model.fit_generator(train_generator, steps_per_epoch=200, epochs=30)#, callbacks=[early_stopping])"
   ]
  },
  {
   "cell_type": "code",
   "execution_count": null,
   "metadata": {
    "collapsed": true
   },
   "outputs": [],
   "source": [
    "plt.show(hist.history['loss'])"
   ]
  },
  {
   "cell_type": "markdown",
   "metadata": {
    "scrolled": true
   },
   "source": [
    "hist = model.fit(X_train2, Y_train2, batch_size=32, epochs=200, validation_data=(X_test, Y_test), callbacks=[early_stopping])"
   ]
  },
  {
   "cell_type": "code",
   "execution_count": 92,
   "metadata": {},
   "outputs": [],
   "source": [
    "voi_df_art = pd.read_csv(C.art_voi_path)\n",
    "voi_df_ven = pd.read_csv(C.ven_voi_path)\n",
    "voi_df_eq = pd.read_csv(C.eq_voi_path)\n",
    "\n",
    "with open(C.small_voi_path, 'r') as csv_file:\n",
    "    reader = csv.reader(csv_file)\n",
    "    small_vois = dict(reader)\n",
    "for key in small_vois:\n",
    "    small_vois[key] = [int(x) for x in small_vois[key][1:-1].split(', ')]"
   ]
  },
  {
   "cell_type": "code",
   "execution_count": null,
   "metadata": {
    "collapsed": true
   },
   "outputs": [],
   "source": [
    "cbuild.overnight_run(C)"
   ]
  },
  {
   "cell_type": "code",
   "execution_count": null,
   "metadata": {},
   "outputs": [],
   "source": [
    "C.output_img_dir = \"Z:\\\\OUTPUT\\\\12-08-2d-bn\"\n",
    "C.classes_to_include"
   ]
  },
  {
   "cell_type": "code",
   "execution_count": 100,
   "metadata": {
    "scrolled": true
   },
   "outputs": [],
   "source": [
    "#plot_with_bbox(fn_list[2], cls_mapping[wrong_guesses[2]])\n",
    "Y_pred = model.predict(X_test)\n",
    "y_true = np.array([max(enumerate(x), key=operator.itemgetter(1))[0] for x in Y_test])\n",
    "y_pred = np.array([max(enumerate(x), key=operator.itemgetter(1))[0] for x in Y_pred])\n",
    "\n",
    "cm = confusion_matrix(y_true, y_pred)\n",
    "f1 = f1_score(y_true, y_pred, average=\"weighted\")\n",
    "\n",
    "#cfunc.save_output(Z_test, y_pred, y_true, voi_df_art, small_vois, C.classes_to_include, C)"
   ]
  },
  {
   "cell_type": "code",
   "execution_count": 82,
   "metadata": {
    "scrolled": true
   },
   "outputs": [
    {
     "name": "stderr",
     "output_type": "stream",
     "text": [
      "C:\\Users\\Clinton\\AppData\\Local\\conda\\conda\\envs\\old-keras\\lib\\site-packages\\sklearn\\metrics\\classification.py:1135: UndefinedMetricWarning: F-score is ill-defined and being set to 0.0 in labels with no predicted samples.\n",
      "  'precision', 'predicted', average, warn_for)\n"
     ]
    }
   ],
   "source": [
    "Y_pred = model.predict(X_train_orig)\n",
    "y_true = np.array([max(enumerate(x), key=operator.itemgetter(1))[0] for x in Y_train_orig])\n",
    "y_pred = np.array([max(enumerate(x), key=operator.itemgetter(1))[0] for x in Y_pred])\n",
    "\n",
    "cm = confusion_matrix(y_true, y_pred)\n",
    "f1 = f1_score(y_true, y_pred, average=\"weighted\")\n",
    "\n",
    "#cfunc.save_output(Z_train_orig, y_pred, y_true, voi_df_art, small_vois, C.classes_to_include, C, save_dir=\"Z:\\\\OUTPUT\\\\12-08-3d\\\\training\")"
   ]
  },
  {
   "cell_type": "code",
   "execution_count": 83,
   "metadata": {
    "scrolled": true
   },
   "outputs": [
    {
     "data": {
      "text/plain": [
       "array([[13,  0,  2, 41,  2, 11],\n",
       "       [ 0,  0,  0, 24, 21,  0],\n",
       "       [ 0,  0, 10, 47,  1,  0],\n",
       "       [ 0,  0,  0, 58,  2,  0],\n",
       "       [ 0,  0,  0, 37,  8,  0],\n",
       "       [ 0,  0,  0, 11,  0, 36]], dtype=int64)"
      ]
     },
     "execution_count": 83,
     "metadata": {},
     "output_type": "execute_result"
    }
   ],
   "source": [
    "cm"
   ]
  },
  {
   "cell_type": "code",
   "execution_count": 102,
   "metadata": {
    "scrolled": true
   },
   "outputs": [],
   "source": [
    "y_true_simp, y_pred_simp, _ = cfunc.condense_cm(y_true, y_pred, C.classes_to_include)"
   ]
  },
  {
   "cell_type": "code",
   "execution_count": 103,
   "metadata": {
    "scrolled": false
   },
   "outputs": [
    {
     "data": {
      "text/plain": [
       "0.78749999999999998"
      ]
     },
     "execution_count": 103,
     "metadata": {},
     "output_type": "execute_result"
    }
   ],
   "source": [
    "accuracy_score(y_true_simp, y_pred_simp)"
   ]
  },
  {
   "cell_type": "code",
   "execution_count": 101,
   "metadata": {
    "scrolled": false
   },
   "outputs": [
    {
     "data": {
      "text/plain": [
       "0.75"
      ]
     },
     "execution_count": 101,
     "metadata": {},
     "output_type": "execute_result"
    }
   ],
   "source": [
    "accuracy_score(y_true, y_pred)"
   ]
  },
  {
   "cell_type": "markdown",
   "metadata": {},
   "source": [
    "4 cls: 94/94%, 86/88%, 86%/90%\n",
    "5 cls: 80%/89%, 72%/86%, 84%/86%\n",
    "\n",
    "6 cls no artificial, separate phases: 75%/84%\n",
    "\n",
    "2d: 77%/84%, 74%/80%\n",
    "3d: 78%/89%\n",
    "2d bn: 77%/82%, \n",
    "3d bn: 84%/87%, 74%/83%\n",
    "3d bn no artif: 84%/87%, 74%/83%"
   ]
  },
  {
   "cell_type": "markdown",
   "metadata": {
    "collapsed": true
   },
   "source": [
    "fn_list = Z_test[~np.equal(y_pred, y_true)]\n",
    "wrong_guesses = np.array(y_pred)[~np.equal(y_pred, y_true)]"
   ]
  },
  {
   "cell_type": "markdown",
   "metadata": {
    "collapsed": true
   },
   "source": [
    "activ = model2.predict(X_train)\n",
    "#activ = model2.predict(np.expand_dims(X_train[10],axis=0))"
   ]
  },
  {
   "cell_type": "markdown",
   "metadata": {
    "scrolled": true
   },
   "source": [
    "import operator\n",
    "#print(\"Ground truth:\", [C.classes_to_include[max(enumerate(x), key=operator.itemgetter(1))[0]] for x in Y_val[::30]])\n",
    "Y_ = model.predict(X_test)\n",
    "print(\"Predictions:\", [C.classes_to_include[max(enumerate(x), key=operator.itemgetter(1))[0]] + \" (%.5f%% probability)\" % (max(x)*100) for x in Y_])"
   ]
  }
 ],
 "metadata": {
  "kernelspec": {
   "display_name": "Python 3",
   "language": "python",
   "name": "python3"
  },
  "language_info": {
   "codemirror_mode": {
    "name": "ipython",
    "version": 3
   },
   "file_extension": ".py",
   "mimetype": "text/x-python",
   "name": "python",
   "nbconvert_exporter": "python",
   "pygments_lexer": "ipython3",
   "version": "3.5.0"
  }
 },
 "nbformat": 4,
 "nbformat_minor": 2
}
