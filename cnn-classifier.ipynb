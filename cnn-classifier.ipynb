{
 "cells": [
  {
   "cell_type": "code",
   "execution_count": 74,
   "metadata": {
    "scrolled": false
   },
   "outputs": [],
   "source": [
    "import keras.backend as K\n",
    "from keras.layers import Input, Dense, Concatenate, Flatten, Dropout, Conv3D, MaxPooling3D, ZeroPadding3D\n",
    "from keras.models import Model\n",
    "from keras.regularizers import l1, l2\n",
    "from keras.optimizers import Adam\n",
    "from keras.constraints import max_norm\n",
    "from keras.layers.noise import GaussianNoise\n",
    "from keras.callbacks import EarlyStopping\n",
    "from keras.utils import np_utils\n",
    "from sklearn.metrics import confusion_matrix, f1_score, accuracy_score\n",
    "\n",
    "import cnn_methods as cfunc\n",
    "import config\n",
    "import csv\n",
    "import helper_fxns as hf\n",
    "import importlib\n",
    "import matplotlib.pyplot as plt\n",
    "import numpy as np\n",
    "import operator\n",
    "import os\n",
    "import pandas as pd\n",
    "import random\n",
    "import re\n",
    "%matplotlib inline"
   ]
  },
  {
   "cell_type": "code",
   "execution_count": 75,
   "metadata": {
    "scrolled": true
   },
   "outputs": [],
   "source": [
    "importlib.reload(config)\n",
    "importlib.reload(cfunc)\n",
    "C = config.Config()"
   ]
  },
  {
   "cell_type": "code",
   "execution_count": 76,
   "metadata": {
    "scrolled": true
   },
   "outputs": [],
   "source": [
    "dims = C.dims\n",
    "nb_classes = len(C.classes_to_include)\n",
    "\n",
    "voi_img = Input(shape=(dims[0], dims[1], dims[2], C.nb_channels))\n",
    "x = voi_img\n",
    "#x = GaussianNoise(1)(x)\n",
    "#x = ZeroPadding3D(padding=(3,3,2))(voi_img)\n",
    "x = Conv3D(filters=128, kernel_size=(3,3,2), activation='relu')(x)\n",
    "x = Dropout(0.5)(x)\n",
    "x = Conv3D(filters=128, kernel_size=(3,3,2), activation='relu')(x)\n",
    "x = MaxPooling3D((2, 2, 2))(x)\n",
    "x = Dropout(0.5)(x)\n",
    "#x = Conv3D(filters=64, kernel_size=(3,3,2), strides=(2, 2, 2), activation='relu', kernel_constraint=max_norm(4.))(x)\n",
    "#x = Dropout(0.5)(x)\n",
    "x = Conv3D(filters=64, kernel_size=(3,3,2), activation='relu')(x)\n",
    "x = MaxPooling3D((2, 2, 1))(x)\n",
    "x = Dropout(0.5)(x)\n",
    "x = Flatten()(x)\n",
    "\n",
    "img_traits = Input(shape=(2,)) #bounding volume and aspect ratio of lesion\n",
    "\n",
    "intermed = Concatenate(axis=1)([x, img_traits])\n",
    "x = Dense(64, activation='relu')(intermed)#, kernel_initializer='normal', kernel_regularizer=l1(.01), kernel_constraint=max_norm(3.))(x)\n",
    "x = Dropout(0.5)(x)\n",
    "pred_class = Dense(nb_classes, activation='softmax')(x)#Dense(nb_classes, activation='softmax')(x)"
   ]
  },
  {
   "cell_type": "code",
   "execution_count": null,
   "metadata": {
    "collapsed": true
   },
   "outputs": [],
   "source": [
    "dims = C.dims\n",
    "nb_classes = len(C.classes_to_include)\n",
    "\n",
    "voi_img = Input(shape=(dims[0], dims[1], dims[2], C.nb_channels))\n",
    "x = voi_img\n",
    "#x = GaussianNoise(1)(x)\n",
    "#x = ZeroPadding3D(padding=(3,3,2))(voi_img)\n",
    "x = Conv3D(filters=128, kernel_size=(3,3,2), activation='relu')(x)\n",
    "x = Dropout(0.5)(x)\n",
    "x = Conv3D(filters=128, kernel_size=(3,3,2), activation='relu')(x)\n",
    "x = MaxPooling3D((2, 2, 2))(x)\n",
    "x = Dropout(0.5)(x)\n",
    "#x = Conv3D(filters=64, kernel_size=(3,3,2), strides=(2, 2, 2), activation='relu', kernel_constraint=max_norm(4.))(x)\n",
    "#x = Dropout(0.5)(x)\n",
    "x = Conv3D(filters=64, kernel_size=(3,3,2), activation='relu')(x)\n",
    "x = MaxPooling3D((2, 2, 1))(x)\n",
    "x = Dropout(0.5)(x)\n",
    "x = Flatten()(x)\n",
    "\n",
    "img_traits = Input(shape=(2,)) #bounding volume and aspect ratio of lesion\n",
    "\n",
    "intermed = Concatenate(axis=1)([x, img_traits])\n",
    "x = Dense(64, activation='relu')(intermed)#, kernel_initializer='normal', kernel_regularizer=l1(.01), kernel_constraint=max_norm(3.))(x)\n",
    "x = Dropout(0.5)(x)\n",
    "pred_class = Dense(nb_classes, activation='softmax')(x)\n",
    "\n",
    "optim = Adam(lr=0.01)#5, decay=0.001)\n",
    "early_stopping = EarlyStopping(monitor='acc', min_delta=0.01, patience=4)\n",
    "\n",
    "model_pretrain = Model([voi_img, img_traits], pred_class)\n",
    "model_pretrain.compile(optimizer='adam', loss='categorical_crossentropy', metrics=['accuracy'])\n",
    "model_pretrain.summary()"
   ]
  },
  {
   "cell_type": "code",
   "execution_count": 77,
   "metadata": {
    "scrolled": true
   },
   "outputs": [
    {
     "name": "stdout",
     "output_type": "stream",
     "text": [
      "____________________________________________________________________________________________________\n",
      "Layer (type)                     Output Shape          Param #     Connected to                     \n",
      "====================================================================================================\n",
      "input_9 (InputLayer)             (None, 36, 36, 12, 3) 0                                            \n",
      "____________________________________________________________________________________________________\n",
      "conv3d_11 (Conv3D)               (None, 34, 34, 11, 12 7040        input_9[0][0]                    \n",
      "____________________________________________________________________________________________________\n",
      "dropout_14 (Dropout)             (None, 34, 34, 11, 12 0           conv3d_11[0][0]                  \n",
      "____________________________________________________________________________________________________\n",
      "conv3d_12 (Conv3D)               (None, 32, 32, 10, 12 295040      dropout_14[0][0]                 \n",
      "____________________________________________________________________________________________________\n",
      "max_pooling3d_9 (MaxPooling3D)   (None, 16, 16, 5, 128 0           conv3d_12[0][0]                  \n",
      "____________________________________________________________________________________________________\n",
      "dropout_15 (Dropout)             (None, 16, 16, 5, 128 0           max_pooling3d_9[0][0]            \n",
      "____________________________________________________________________________________________________\n",
      "conv3d_13 (Conv3D)               (None, 14, 14, 4, 64) 147520      dropout_15[0][0]                 \n",
      "____________________________________________________________________________________________________\n",
      "max_pooling3d_10 (MaxPooling3D)  (None, 7, 7, 4, 64)   0           conv3d_13[0][0]                  \n",
      "____________________________________________________________________________________________________\n",
      "dropout_16 (Dropout)             (None, 7, 7, 4, 64)   0           max_pooling3d_10[0][0]           \n",
      "____________________________________________________________________________________________________\n",
      "flatten_4 (Flatten)              (None, 12544)         0           dropout_16[0][0]                 \n",
      "____________________________________________________________________________________________________\n",
      "input_10 (InputLayer)            (None, 2)             0                                            \n",
      "____________________________________________________________________________________________________\n",
      "concatenate_5 (Concatenate)      (None, 12546)         0           flatten_4[0][0]                  \n",
      "                                                                   input_10[0][0]                   \n",
      "____________________________________________________________________________________________________\n",
      "dense_7 (Dense)                  (None, 64)            803008      concatenate_5[0][0]              \n",
      "____________________________________________________________________________________________________\n",
      "dropout_17 (Dropout)             (None, 64)            0           dense_7[0][0]                    \n",
      "____________________________________________________________________________________________________\n",
      "dense_8 (Dense)                  (None, 6)             390         dropout_17[0][0]                 \n",
      "====================================================================================================\n",
      "Total params: 1,252,998\n",
      "Trainable params: 1,252,998\n",
      "Non-trainable params: 0\n",
      "____________________________________________________________________________________________________\n"
     ]
    }
   ],
   "source": [
    "optim = Adam(lr=0.01)#5, decay=0.001)\n",
    "early_stopping = EarlyStopping(monitor='acc', min_delta=0.01, patience=4)\n",
    "\n",
    "model = Model([voi_img, img_traits], pred_class)\n",
    "model.compile(optimizer='adam', loss='categorical_crossentropy', metrics=['accuracy'])\n",
    "model.summary()"
   ]
  },
  {
   "cell_type": "markdown",
   "metadata": {},
   "source": [
    "model_pretrain = Model([voi_img, img_traits], pred_class)\n",
    "for l in range(1,5):\n",
    "    if type(model_pretrain.layers[l]) == Conv3D:\n",
    "        model_pretrain.layers[l].set_weights(model.layers[l].get_weights())"
   ]
  },
  {
   "cell_type": "code",
   "execution_count": 78,
   "metadata": {
    "scrolled": true
   },
   "outputs": [
    {
     "name": "stdout",
     "output_type": "stream",
     "text": [
      "{'fnh': 115, 'cyst': 77, 'hcc': 54, 'hemangioma': 60, 'colorectal': 70, 'cholangio': 61}\n"
     ]
    }
   ],
   "source": [
    "voi_df = pd.read_csv(C.art_voi_path)\n",
    "intensity_df = pd.read_csv(C.int_df_path)\n",
    "#intensity_df.loc[intensity_df[\"art_int\"] == 0, \"art_int\"] = np.mean(intensity_df[intensity_df[\"art_int\"] > 0][\"art_int\"])\n",
    "#intensity_df.loc[intensity_df[\"ven_int\"] == 0, \"ven_int\"] = np.mean(intensity_df[intensity_df[\"ven_int\"] > 0][\"ven_int\"])\n",
    "#intensity_df.loc[intensity_df[\"eq_int\"] == 0, \"eq_int\"] = np.mean(intensity_df[intensity_df[\"eq_int\"] > 0][\"eq_int\"])\n",
    "\n",
    "orig_data_dict, num_samples = cfunc.collect_unaug_data(C.classes_to_include, C, voi_df, intensity_df)\n",
    "print(num_samples)"
   ]
  },
  {
   "cell_type": "code",
   "execution_count": 79,
   "metadata": {
    "scrolled": false
   },
   "outputs": [
    {
     "name": "stdout",
     "output_type": "stream",
     "text": [
      "fnh has 92 samples for training (4600 after augmentation) and 23 for testing\n",
      "cyst has 62 samples for training (3100 after augmentation) and 15 for testing\n",
      "hcc has 43 samples for training (2150 after augmentation) and 11 for testing\n",
      "hemangioma has 48 samples for training (2400 after augmentation) and 12 for testing\n",
      "colorectal has 56 samples for training (2800 after augmentation) and 14 for testing\n",
      "cholangio has 49 samples for training (2450 after augmentation) and 12 for testing\n"
     ]
    }
   ],
   "source": [
    "train_ids = {} #filenames of training set originals\n",
    "test_ids = {} #filenames of test set\n",
    "X_test = []\n",
    "X2_test = []\n",
    "Y_test = []\n",
    "Z_test = []\n",
    "X_train_orig = []\n",
    "X2_train_orig = []\n",
    "Y_train_orig = []\n",
    "Z_train_orig = []\n",
    "cls_mapping = []\n",
    "\n",
    "train_samples = {}\n",
    "\n",
    "for cls_num, cls in enumerate(orig_data_dict):\n",
    "    cls_mapping.append(cls)\n",
    "    \n",
    "    train_samples[cls] = round(num_samples[cls]*C.train_frac)\n",
    "    \n",
    "    order = np.random.permutation(list(range(num_samples[cls])))\n",
    "    train_ids[cls] = list(orig_data_dict[cls][2][order[:train_samples[cls]]])\n",
    "    test_ids[cls] = list(orig_data_dict[cls][2][order[train_samples[cls]:]])\n",
    "    \n",
    "    X_test = X_test + list(orig_data_dict[cls][0][order[train_samples[cls]:]])\n",
    "    X2_test = X2_test + list(orig_data_dict[cls][1][order[train_samples[cls]:]])\n",
    "    Y_test = Y_test + [[0] * cls_num + [1] + [0] * (nb_classes - cls_num - 1)] * \\\n",
    "                        (num_samples[cls] - train_samples[cls])\n",
    "    Z_test = Z_test + test_ids[cls]\n",
    "    \n",
    "    X_train_orig = X_train_orig + list(orig_data_dict[cls][0][order[:train_samples[cls]]])\n",
    "    X2_train_orig = X2_train_orig + list(orig_data_dict[cls][1][order[:train_samples[cls]]])\n",
    "    Y_train_orig = Y_train_orig + [[0] * cls_num + [1] + [0] * (nb_classes - cls_num - 1)] * \\\n",
    "                        (train_samples[cls])\n",
    "    Z_train_orig = Z_train_orig + train_ids[cls]\n",
    "    \n",
    "    print(\"%s has %d samples for training (%d after augmentation) and %d for testing\" %\n",
    "          (cls, train_samples[cls], train_samples[cls] * C.aug_factor, num_samples[cls] - train_samples[cls]))\n",
    "    \n",
    "#Y_test = np_utils.to_categorical(Y_test, nb_classes)\n",
    "#Y_train_orig = np_utils.to_categorical(Y_train_orig, nb_classes)"
   ]
  },
  {
   "cell_type": "markdown",
   "metadata": {
    "collapsed": true
   },
   "source": [
    "def scale_to_one(X, scale_by_channel=True):\n",
    "    def scale_img(x):\n",
    "        return 2 * (x - np.amin(x)) / (np.amax(x) - np.amin(x)) - 1\n",
    "    return np.array(X)\n",
    "\n",
    "    X = np.array(X)\n",
    "    \n",
    "    if scale_by_channel:\n",
    "        X = [np.stack([scale_img(x[:,:,:,0]), scale_img(x[:,:,:,1]), scale_img(x[:,:,:,2])], axis=3) for x in X]\n",
    "    else:\n",
    "        X = [scale_img(x) for x in X]\n",
    "    \n",
    "    return np.array(X)"
   ]
  },
  {
   "cell_type": "code",
   "execution_count": 80,
   "metadata": {},
   "outputs": [],
   "source": [
    "#scale from -1 to 1\n",
    "#X_train = [scale_to_one(X_train), tbd(X2_train)]\n",
    "#X_val = [scale_to_one(X_val), tbd(X2_val)]\n",
    "X_test = [np.array(X_test), np.array(X2_test)]\n",
    "X_train_orig = [np.array(X_train_orig), np.array(X2_train_orig)]\n",
    "\n",
    "#Y_train = np.array(Y_train)\n",
    "#Y_val = np.array(Y_val)\n",
    "Y_test = np.array(Y_test)\n",
    "Y_train_orig = np.array(Y_train_orig)\n",
    "\n",
    "#Z_train = np.array(Z_train)\n",
    "Z_test = np.array(Z_test)\n",
    "Z_train_orig = np.array(Z_train_orig)"
   ]
  },
  {
   "cell_type": "code",
   "execution_count": 81,
   "metadata": {
    "collapsed": true
   },
   "outputs": [],
   "source": [
    "avg_X2 = {}\n",
    "for cls in C.classes_to_include:\n",
    "    avg_X2[cls] = np.mean(orig_data_dict[cls][1], axis=0)"
   ]
  },
  {
   "cell_type": "code",
   "execution_count": 95,
   "metadata": {
    "collapsed": true
   },
   "outputs": [],
   "source": [
    "def train_generator_func(n=12, n_art=0):\n",
    "    \"\"\"n is the number of samples from each class, n_art is the number of artificial samples\"\"\"\n",
    "    classes_to_include = C.classes_to_include\n",
    "    \n",
    "    num_classes = len(classes_to_include)\n",
    "    while True:\n",
    "        x1 = np.empty(((n+n_art)*num_classes, dims[0], dims[1], dims[2], C.nb_channels))\n",
    "        x2 = np.empty(((n+n_art)*num_classes, 2))\n",
    "        y = np.zeros(((n+n_art)*num_classes, num_classes))\n",
    "\n",
    "        train_cnt = 0\n",
    "        for cls in classes_to_include:\n",
    "            img_fns = os.listdir(C.aug_dir+cls)\n",
    "            while n>0:\n",
    "                img_fn = random.choice(img_fns)\n",
    "                if img_fn[:img_fn.rfind('_')] + \".npy\" in train_ids[cls]:\n",
    "                    x1[train_cnt] = np.load(C.aug_dir+cls+\"\\\\\"+img_fn)\n",
    "                    x1[train_cnt] = cfunc.rescale_int(x1[train_cnt],\n",
    "                                          intensity_df[intensity_df[\"AccNum\"] == img_fn[:img_fn.find('_')]])\n",
    "\n",
    "                    row = voi_df[(voi_df[\"Filename\"] == img_fn[:img_fn.find('_')] + \".npy\") &\n",
    "                                 (voi_df[\"lesion_num\"] == int(img_fn[img_fn.find('_')+1:img_fn.rfind('_')]))]\n",
    "                    x2[train_cnt] = [(float(row[\"real_dx\"]) * float(row[\"real_dy\"]) * float(row[\"real_dz\"])) ** (1/3) / 50,\n",
    "                                        max(float(row[\"real_dx\"]), float(row[\"real_dy\"])) / float(row[\"real_dz\"])]\n",
    "                    \n",
    "                    y[train_cnt][cls_mapping.index(cls)] = 1\n",
    "                    \n",
    "                    train_cnt += 1\n",
    "                    if train_cnt % n == 0:\n",
    "                        break\n",
    "            \n",
    "                        \n",
    "            if n_art>0:\n",
    "                img_fns = os.listdir(C.artif_dir+cls)\n",
    "                for _ in range(n_art):\n",
    "                    img_fn = random.choice(img_fns)\n",
    "                    x1[train_cnt] = np.load(C.artif_dir + cls + \"\\\\\" + img_fn)\n",
    "                    x2[train_cnt] = avg_X2[cls]\n",
    "                    y[train_cnt][cls_mapping.index(cls)] = 1\n",
    "\n",
    "                    train_cnt += 1\n",
    "        \n",
    "        yield [np.array(x1), np.array(x2)], np.array(y) #cfunc.separate_phases([np.array(x1), np.array(x2)]), np.array(y)"
   ]
  },
  {
   "cell_type": "code",
   "execution_count": 96,
   "metadata": {
    "scrolled": true
   },
   "outputs": [
    {
     "name": "stdout",
     "output_type": "stream",
     "text": [
      "Epoch 1/50\n",
      "120/120 [==============================] - 62s - loss: 4.6349 - acc: 0.2622    \n",
      "Epoch 2/50\n",
      "120/120 [==============================] - 53s - loss: 2.2526 - acc: 0.4429    \n",
      "Epoch 3/50\n",
      "120/120 [==============================] - 50s - loss: 2.0645 - acc: 0.5128    \n",
      "Epoch 4/50\n",
      "120/120 [==============================] - 48s - loss: 1.9554 - acc: 0.5236    \n",
      "Epoch 5/50\n",
      "120/120 [==============================] - 48s - loss: 1.8532 - acc: 0.5488    \n",
      "Epoch 6/50\n",
      "120/120 [==============================] - 50s - loss: 1.9207 - acc: 0.5529    \n",
      "Epoch 7/50\n",
      "120/120 [==============================] - 48s - loss: 2.0199 - acc: 0.5549    \n",
      "Epoch 8/50\n",
      "120/120 [==============================] - 48s - loss: 1.8439 - acc: 0.5667    \n",
      "Epoch 9/50\n",
      "120/120 [==============================] - 48s - loss: 1.7345 - acc: 0.5954    \n",
      "Epoch 10/50\n",
      "120/120 [==============================] - 49s - loss: 1.6613 - acc: 0.5922    \n",
      "Epoch 11/50\n",
      "120/120 [==============================] - 49s - loss: 1.6947 - acc: 0.6019    \n",
      "Epoch 12/50\n",
      "120/120 [==============================] - 48s - loss: 1.8581 - acc: 0.6020    \n",
      "Epoch 13/50\n",
      "120/120 [==============================] - 48s - loss: 1.8032 - acc: 0.6133    \n",
      "Epoch 14/50\n",
      "120/120 [==============================] - 48s - loss: 1.9249 - acc: 0.5942    \n",
      "Epoch 15/50\n",
      "120/120 [==============================] - 48s - loss: 1.8158 - acc: 0.5737    \n",
      "Epoch 16/50\n",
      "120/120 [==============================] - 48s - loss: 1.6677 - acc: 0.6086    \n",
      "Epoch 17/50\n",
      "120/120 [==============================] - 48s - loss: 1.7865 - acc: 0.5697    \n",
      "Epoch 18/50\n",
      "120/120 [==============================] - 48s - loss: 1.6938 - acc: 0.6076    \n",
      "Epoch 19/50\n",
      "120/120 [==============================] - 48s - loss: 1.6567 - acc: 0.6058    \n",
      "Epoch 20/50\n",
      "120/120 [==============================] - 48s - loss: 1.6234 - acc: 0.6267    \n",
      "Epoch 21/50\n",
      "120/120 [==============================] - 48s - loss: 1.9851 - acc: 0.4270    \n",
      "Epoch 22/50\n",
      "120/120 [==============================] - 48s - loss: 1.9655 - acc: 0.2992    \n",
      "Epoch 23/50\n",
      "120/120 [==============================] - 48s - loss: 1.8802 - acc: 0.3154    \n",
      "Epoch 24/50\n",
      "120/120 [==============================] - 48s - loss: 1.9020 - acc: 0.3578    \n",
      "Epoch 25/50\n",
      "120/120 [==============================] - 48s - loss: 1.7644 - acc: 0.4561    \n",
      "Epoch 26/50\n",
      "120/120 [==============================] - 48s - loss: 1.6416 - acc: 0.4978    \n",
      "Epoch 27/50\n",
      "120/120 [==============================] - 48s - loss: 1.5607 - acc: 0.5333    \n",
      "Epoch 28/50\n",
      "120/120 [==============================] - 48s - loss: 1.5405 - acc: 0.5545    \n",
      "Epoch 29/50\n",
      "120/120 [==============================] - 48s - loss: 1.5606 - acc: 0.5667    \n",
      "Epoch 30/50\n",
      "120/120 [==============================] - 48s - loss: 1.5126 - acc: 0.5639    \n",
      "Epoch 31/50\n",
      "120/120 [==============================] - 48s - loss: 1.4073 - acc: 0.5729    \n",
      "Epoch 32/50\n",
      "120/120 [==============================] - 48s - loss: 1.4830 - acc: 0.5660    \n",
      "Epoch 33/50\n",
      "120/120 [==============================] - 48s - loss: 1.3639 - acc: 0.5823    \n",
      "Epoch 34/50\n",
      "120/120 [==============================] - 49s - loss: 1.3958 - acc: 0.5932    \n",
      "Epoch 35/50\n",
      "120/120 [==============================] - 49s - loss: 1.3605 - acc: 0.5971    \n",
      "Epoch 36/50\n",
      "120/120 [==============================] - 49s - loss: 1.3782 - acc: 0.5830    \n",
      "Epoch 37/50\n",
      "120/120 [==============================] - 48s - loss: 1.3871 - acc: 0.6028    \n",
      "Epoch 38/50\n",
      "120/120 [==============================] - 48s - loss: 1.3766 - acc: 0.6124    \n",
      "Epoch 39/50\n",
      "120/120 [==============================] - 48s - loss: 1.3421 - acc: 0.6150    \n",
      "Epoch 40/50\n",
      "120/120 [==============================] - 48s - loss: 1.3277 - acc: 0.6257    \n",
      "Epoch 41/50\n",
      "120/120 [==============================] - 48s - loss: 1.3688 - acc: 0.6302    \n",
      "Epoch 42/50\n",
      "120/120 [==============================] - 48s - loss: 1.3442 - acc: 0.6384    \n",
      "Epoch 43/50\n",
      "120/120 [==============================] - 48s - loss: 1.4036 - acc: 0.6326    \n",
      "Epoch 44/50\n",
      "120/120 [==============================] - 48s - loss: 1.3724 - acc: 0.6299    \n",
      "Epoch 45/50\n",
      "120/120 [==============================] - 48s - loss: 1.4818 - acc: 0.6301    \n",
      "Epoch 46/50\n",
      "120/120 [==============================] - 48s - loss: 1.3233 - acc: 0.6380    \n",
      "Epoch 47/50\n",
      "120/120 [==============================] - 48s - loss: 1.3539 - acc: 0.6381    \n",
      "Epoch 48/50\n",
      "120/120 [==============================] - 48s - loss: 1.3403 - acc: 0.6331    \n",
      "Epoch 49/50\n",
      "120/120 [==============================] - 49s - loss: 1.3768 - acc: 0.6475    \n",
      "Epoch 50/50\n",
      "120/120 [==============================] - 48s - loss: 1.3821 - acc: 0.6476    \n"
     ]
    },
    {
     "data": {
      "text/plain": [
       "<keras.callbacks.History at 0x26aedc96748>"
      ]
     },
     "execution_count": 96,
     "metadata": {},
     "output_type": "execute_result"
    }
   ],
   "source": [
    "train_generator = train_generator_func()\n",
    "model_pretrain.fit_generator(train_generator, steps_per_epoch=120, epochs=50)#, callbacks=[early_stopping])"
   ]
  },
  {
   "cell_type": "code",
   "execution_count": 83,
   "metadata": {
    "scrolled": true
   },
   "outputs": [
    {
     "name": "stdout",
     "output_type": "stream",
     "text": [
      "Epoch 1/50\n",
      "120/120 [==============================] - 82s - loss: 0.5249 - acc: 0.7742    \n",
      "Epoch 2/50\n",
      "120/120 [==============================] - 82s - loss: 0.2833 - acc: 0.8921    \n",
      "Epoch 3/50\n",
      "120/120 [==============================] - 82s - loss: 0.2265 - acc: 0.9127    \n",
      "Epoch 4/50\n",
      "120/120 [==============================] - 84s - loss: 0.1883 - acc: 0.9306    \n",
      "Epoch 5/50\n",
      "120/120 [==============================] - 84s - loss: 0.1987 - acc: 0.9282    \n",
      "Epoch 6/50\n",
      "120/120 [==============================] - 85s - loss: 0.1667 - acc: 0.9409    \n",
      "Epoch 7/50\n",
      "120/120 [==============================] - 85s - loss: 0.1461 - acc: 0.9472    \n",
      "Epoch 8/50\n",
      "120/120 [==============================] - 85s - loss: 0.1502 - acc: 0.9488    \n",
      "Epoch 9/50\n",
      "120/120 [==============================] - 85s - loss: 0.1323 - acc: 0.9528    \n",
      "Epoch 10/50\n",
      "120/120 [==============================] - 85s - loss: 0.0985 - acc: 0.9655    \n",
      "Epoch 11/50\n",
      "120/120 [==============================] - 85s - loss: 0.0919 - acc: 0.9670    \n",
      "Epoch 12/50\n",
      "120/120 [==============================] - 85s - loss: 0.0804 - acc: 0.9700    \n",
      "Epoch 13/50\n",
      "120/120 [==============================] - 85s - loss: 0.0777 - acc: 0.9738    \n",
      "Epoch 14/50\n",
      "120/120 [==============================] - 85s - loss: 0.0782 - acc: 0.9718    \n",
      "Epoch 15/50\n",
      "120/120 [==============================] - 85s - loss: 0.0670 - acc: 0.9774    \n",
      "Epoch 16/50\n",
      "120/120 [==============================] - 85s - loss: 0.0753 - acc: 0.9742    \n",
      "Epoch 17/50\n",
      "120/120 [==============================] - 85s - loss: 0.0627 - acc: 0.9763    \n",
      "Epoch 18/50\n",
      "120/120 [==============================] - 85s - loss: 0.0594 - acc: 0.9808    \n",
      "Epoch 19/50\n",
      "120/120 [==============================] - 85s - loss: 0.0809 - acc: 0.9722    \n",
      "Epoch 20/50\n",
      "120/120 [==============================] - 85s - loss: 0.0542 - acc: 0.9809    \n",
      "Epoch 21/50\n",
      "120/120 [==============================] - 85s - loss: 0.0610 - acc: 0.9788    \n",
      "Epoch 22/50\n",
      "120/120 [==============================] - 85s - loss: 0.0583 - acc: 0.9803    \n",
      "Epoch 23/50\n",
      "120/120 [==============================] - 85s - loss: 0.0780 - acc: 0.9727    \n",
      "Epoch 24/50\n",
      "120/120 [==============================] - 85s - loss: 0.0625 - acc: 0.9792    \n",
      "Epoch 25/50\n",
      "120/120 [==============================] - 85s - loss: 0.0474 - acc: 0.9847    \n",
      "Epoch 26/50\n",
      "120/120 [==============================] - 85s - loss: 0.0745 - acc: 0.9796    \n",
      "Epoch 27/50\n",
      "120/120 [==============================] - 85s - loss: 0.0495 - acc: 0.9823    \n",
      "Epoch 28/50\n",
      "120/120 [==============================] - 85s - loss: 0.0556 - acc: 0.9800    \n",
      "Epoch 29/50\n",
      "120/120 [==============================] - 85s - loss: 0.0506 - acc: 0.9816    \n",
      "Epoch 30/50\n",
      "120/120 [==============================] - 85s - loss: 0.0373 - acc: 0.9853    \n",
      "Epoch 31/50\n",
      "120/120 [==============================] - 85s - loss: 0.0372 - acc: 0.9870    \n",
      "Epoch 32/50\n",
      "120/120 [==============================] - 85s - loss: 0.0477 - acc: 0.9848    \n",
      "Epoch 33/50\n",
      "120/120 [==============================] - 85s - loss: 0.0419 - acc: 0.9854    \n",
      "Epoch 34/50\n",
      "120/120 [==============================] - 85s - loss: 0.0314 - acc: 0.9883    \n",
      "Epoch 35/50\n",
      "120/120 [==============================] - 85s - loss: 0.0592 - acc: 0.9816    \n",
      "Epoch 36/50\n",
      "120/120 [==============================] - 85s - loss: 0.0649 - acc: 0.9760    \n",
      "Epoch 37/50\n",
      "120/120 [==============================] - 85s - loss: 0.0418 - acc: 0.9859    \n",
      "Epoch 38/50\n",
      "120/120 [==============================] - 85s - loss: 0.0338 - acc: 0.9860    \n",
      "Epoch 39/50\n",
      "120/120 [==============================] - 85s - loss: 0.0426 - acc: 0.9866    \n",
      "Epoch 40/50\n",
      "120/120 [==============================] - 84s - loss: 0.0536 - acc: 0.9838    \n",
      "Epoch 41/50\n",
      "120/120 [==============================] - 85s - loss: 0.0451 - acc: 0.9852    \n",
      "Epoch 42/50\n",
      "120/120 [==============================] - 85s - loss: 0.0314 - acc: 0.9868    \n",
      "Epoch 43/50\n",
      "120/120 [==============================] - 85s - loss: 0.0265 - acc: 0.9889    \n",
      "Epoch 44/50\n",
      "120/120 [==============================] - 85s - loss: 0.0368 - acc: 0.9862    \n",
      "Epoch 45/50\n",
      " 72/120 [=================>............] - ETA: 34s - loss: 0.0365 - acc: 0.9859"
     ]
    },
    {
     "ename": "KeyboardInterrupt",
     "evalue": "",
     "output_type": "error",
     "traceback": [
      "\u001b[1;31m---------------------------------------------------------------------------\u001b[0m",
      "\u001b[1;31mKeyboardInterrupt\u001b[0m                         Traceback (most recent call last)",
      "\u001b[1;32m<ipython-input-83-ad189f90df6f>\u001b[0m in \u001b[0;36m<module>\u001b[1;34m()\u001b[0m\n\u001b[0;32m      1\u001b[0m \u001b[0mtrain_generator\u001b[0m \u001b[1;33m=\u001b[0m \u001b[0mtrain_generator_func\u001b[0m\u001b[1;33m(\u001b[0m\u001b[1;33m)\u001b[0m\u001b[1;33m\u001b[0m\u001b[0m\n\u001b[1;32m----> 2\u001b[1;33m \u001b[0mmodel\u001b[0m\u001b[1;33m.\u001b[0m\u001b[0mfit_generator\u001b[0m\u001b[1;33m(\u001b[0m\u001b[0mtrain_generator\u001b[0m\u001b[1;33m,\u001b[0m \u001b[0msteps_per_epoch\u001b[0m\u001b[1;33m=\u001b[0m\u001b[1;36m120\u001b[0m\u001b[1;33m,\u001b[0m \u001b[0mepochs\u001b[0m\u001b[1;33m=\u001b[0m\u001b[1;36m50\u001b[0m\u001b[1;33m)\u001b[0m\u001b[1;31m#, callbacks=[early_stopping])\u001b[0m\u001b[1;33m\u001b[0m\u001b[0m\n\u001b[0m",
      "\u001b[1;32m~\\AppData\\Local\\conda\\conda\\envs\\old-keras\\lib\\site-packages\\keras\\legacy\\interfaces.py\u001b[0m in \u001b[0;36mwrapper\u001b[1;34m(*args, **kwargs)\u001b[0m\n\u001b[0;32m     85\u001b[0m                 warnings.warn('Update your `' + object_name +\n\u001b[0;32m     86\u001b[0m                               '` call to the Keras 2 API: ' + signature, stacklevel=2)\n\u001b[1;32m---> 87\u001b[1;33m             \u001b[1;32mreturn\u001b[0m \u001b[0mfunc\u001b[0m\u001b[1;33m(\u001b[0m\u001b[1;33m*\u001b[0m\u001b[0margs\u001b[0m\u001b[1;33m,\u001b[0m \u001b[1;33m**\u001b[0m\u001b[0mkwargs\u001b[0m\u001b[1;33m)\u001b[0m\u001b[1;33m\u001b[0m\u001b[0m\n\u001b[0m\u001b[0;32m     88\u001b[0m         \u001b[0mwrapper\u001b[0m\u001b[1;33m.\u001b[0m\u001b[0m_original_function\u001b[0m \u001b[1;33m=\u001b[0m \u001b[0mfunc\u001b[0m\u001b[1;33m\u001b[0m\u001b[0m\n\u001b[0;32m     89\u001b[0m         \u001b[1;32mreturn\u001b[0m \u001b[0mwrapper\u001b[0m\u001b[1;33m\u001b[0m\u001b[0m\n",
      "\u001b[1;32m~\\AppData\\Local\\conda\\conda\\envs\\old-keras\\lib\\site-packages\\keras\\engine\\training.py\u001b[0m in \u001b[0;36mfit_generator\u001b[1;34m(self, generator, steps_per_epoch, epochs, verbose, callbacks, validation_data, validation_steps, class_weight, max_queue_size, workers, use_multiprocessing, initial_epoch)\u001b[0m\n\u001b[0;32m   1838\u001b[0m                     outs = self.train_on_batch(x, y,\n\u001b[0;32m   1839\u001b[0m                                                \u001b[0msample_weight\u001b[0m\u001b[1;33m=\u001b[0m\u001b[0msample_weight\u001b[0m\u001b[1;33m,\u001b[0m\u001b[1;33m\u001b[0m\u001b[0m\n\u001b[1;32m-> 1840\u001b[1;33m                                                class_weight=class_weight)\n\u001b[0m\u001b[0;32m   1841\u001b[0m \u001b[1;33m\u001b[0m\u001b[0m\n\u001b[0;32m   1842\u001b[0m                     \u001b[1;32mif\u001b[0m \u001b[1;32mnot\u001b[0m \u001b[0misinstance\u001b[0m\u001b[1;33m(\u001b[0m\u001b[0mouts\u001b[0m\u001b[1;33m,\u001b[0m \u001b[0mlist\u001b[0m\u001b[1;33m)\u001b[0m\u001b[1;33m:\u001b[0m\u001b[1;33m\u001b[0m\u001b[0m\n",
      "\u001b[1;32m~\\AppData\\Local\\conda\\conda\\envs\\old-keras\\lib\\site-packages\\keras\\engine\\training.py\u001b[0m in \u001b[0;36mtrain_on_batch\u001b[1;34m(self, x, y, sample_weight, class_weight)\u001b[0m\n\u001b[0;32m   1563\u001b[0m             \u001b[0mins\u001b[0m \u001b[1;33m=\u001b[0m \u001b[0mx\u001b[0m \u001b[1;33m+\u001b[0m \u001b[0my\u001b[0m \u001b[1;33m+\u001b[0m \u001b[0msample_weights\u001b[0m\u001b[1;33m\u001b[0m\u001b[0m\n\u001b[0;32m   1564\u001b[0m         \u001b[0mself\u001b[0m\u001b[1;33m.\u001b[0m\u001b[0m_make_train_function\u001b[0m\u001b[1;33m(\u001b[0m\u001b[1;33m)\u001b[0m\u001b[1;33m\u001b[0m\u001b[0m\n\u001b[1;32m-> 1565\u001b[1;33m         \u001b[0moutputs\u001b[0m \u001b[1;33m=\u001b[0m \u001b[0mself\u001b[0m\u001b[1;33m.\u001b[0m\u001b[0mtrain_function\u001b[0m\u001b[1;33m(\u001b[0m\u001b[0mins\u001b[0m\u001b[1;33m)\u001b[0m\u001b[1;33m\u001b[0m\u001b[0m\n\u001b[0m\u001b[0;32m   1566\u001b[0m         \u001b[1;32mif\u001b[0m \u001b[0mlen\u001b[0m\u001b[1;33m(\u001b[0m\u001b[0moutputs\u001b[0m\u001b[1;33m)\u001b[0m \u001b[1;33m==\u001b[0m \u001b[1;36m1\u001b[0m\u001b[1;33m:\u001b[0m\u001b[1;33m\u001b[0m\u001b[0m\n\u001b[0;32m   1567\u001b[0m             \u001b[1;32mreturn\u001b[0m \u001b[0moutputs\u001b[0m\u001b[1;33m[\u001b[0m\u001b[1;36m0\u001b[0m\u001b[1;33m]\u001b[0m\u001b[1;33m\u001b[0m\u001b[0m\n",
      "\u001b[1;32m~\\AppData\\Local\\conda\\conda\\envs\\old-keras\\lib\\site-packages\\keras\\backend\\tensorflow_backend.py\u001b[0m in \u001b[0;36m__call__\u001b[1;34m(self, inputs)\u001b[0m\n\u001b[0;32m   2266\u001b[0m         updated = session.run(self.outputs + [self.updates_op],\n\u001b[0;32m   2267\u001b[0m                               \u001b[0mfeed_dict\u001b[0m\u001b[1;33m=\u001b[0m\u001b[0mfeed_dict\u001b[0m\u001b[1;33m,\u001b[0m\u001b[1;33m\u001b[0m\u001b[0m\n\u001b[1;32m-> 2268\u001b[1;33m                               **self.session_kwargs)\n\u001b[0m\u001b[0;32m   2269\u001b[0m         \u001b[1;32mreturn\u001b[0m \u001b[0mupdated\u001b[0m\u001b[1;33m[\u001b[0m\u001b[1;33m:\u001b[0m\u001b[0mlen\u001b[0m\u001b[1;33m(\u001b[0m\u001b[0mself\u001b[0m\u001b[1;33m.\u001b[0m\u001b[0moutputs\u001b[0m\u001b[1;33m)\u001b[0m\u001b[1;33m]\u001b[0m\u001b[1;33m\u001b[0m\u001b[0m\n\u001b[0;32m   2270\u001b[0m \u001b[1;33m\u001b[0m\u001b[0m\n",
      "\u001b[1;32m~\\AppData\\Local\\conda\\conda\\envs\\old-keras\\lib\\site-packages\\tensorflow\\python\\client\\session.py\u001b[0m in \u001b[0;36mrun\u001b[1;34m(self, fetches, feed_dict, options, run_metadata)\u001b[0m\n\u001b[0;32m    893\u001b[0m     \u001b[1;32mtry\u001b[0m\u001b[1;33m:\u001b[0m\u001b[1;33m\u001b[0m\u001b[0m\n\u001b[0;32m    894\u001b[0m       result = self._run(None, fetches, feed_dict, options_ptr,\n\u001b[1;32m--> 895\u001b[1;33m                          run_metadata_ptr)\n\u001b[0m\u001b[0;32m    896\u001b[0m       \u001b[1;32mif\u001b[0m \u001b[0mrun_metadata\u001b[0m\u001b[1;33m:\u001b[0m\u001b[1;33m\u001b[0m\u001b[0m\n\u001b[0;32m    897\u001b[0m         \u001b[0mproto_data\u001b[0m \u001b[1;33m=\u001b[0m \u001b[0mtf_session\u001b[0m\u001b[1;33m.\u001b[0m\u001b[0mTF_GetBuffer\u001b[0m\u001b[1;33m(\u001b[0m\u001b[0mrun_metadata_ptr\u001b[0m\u001b[1;33m)\u001b[0m\u001b[1;33m\u001b[0m\u001b[0m\n",
      "\u001b[1;32m~\\AppData\\Local\\conda\\conda\\envs\\old-keras\\lib\\site-packages\\tensorflow\\python\\client\\session.py\u001b[0m in \u001b[0;36m_run\u001b[1;34m(self, handle, fetches, feed_dict, options, run_metadata)\u001b[0m\n\u001b[0;32m   1122\u001b[0m     \u001b[1;32mif\u001b[0m \u001b[0mfinal_fetches\u001b[0m \u001b[1;32mor\u001b[0m \u001b[0mfinal_targets\u001b[0m \u001b[1;32mor\u001b[0m \u001b[1;33m(\u001b[0m\u001b[0mhandle\u001b[0m \u001b[1;32mand\u001b[0m \u001b[0mfeed_dict_tensor\u001b[0m\u001b[1;33m)\u001b[0m\u001b[1;33m:\u001b[0m\u001b[1;33m\u001b[0m\u001b[0m\n\u001b[0;32m   1123\u001b[0m       results = self._do_run(handle, final_targets, final_fetches,\n\u001b[1;32m-> 1124\u001b[1;33m                              feed_dict_tensor, options, run_metadata)\n\u001b[0m\u001b[0;32m   1125\u001b[0m     \u001b[1;32melse\u001b[0m\u001b[1;33m:\u001b[0m\u001b[1;33m\u001b[0m\u001b[0m\n\u001b[0;32m   1126\u001b[0m       \u001b[0mresults\u001b[0m \u001b[1;33m=\u001b[0m \u001b[1;33m[\u001b[0m\u001b[1;33m]\u001b[0m\u001b[1;33m\u001b[0m\u001b[0m\n",
      "\u001b[1;32m~\\AppData\\Local\\conda\\conda\\envs\\old-keras\\lib\\site-packages\\tensorflow\\python\\client\\session.py\u001b[0m in \u001b[0;36m_do_run\u001b[1;34m(self, handle, target_list, fetch_list, feed_dict, options, run_metadata)\u001b[0m\n\u001b[0;32m   1319\u001b[0m     \u001b[1;32mif\u001b[0m \u001b[0mhandle\u001b[0m \u001b[1;32mis\u001b[0m \u001b[1;32mNone\u001b[0m\u001b[1;33m:\u001b[0m\u001b[1;33m\u001b[0m\u001b[0m\n\u001b[0;32m   1320\u001b[0m       return self._do_call(_run_fn, self._session, feeds, fetches, targets,\n\u001b[1;32m-> 1321\u001b[1;33m                            options, run_metadata)\n\u001b[0m\u001b[0;32m   1322\u001b[0m     \u001b[1;32melse\u001b[0m\u001b[1;33m:\u001b[0m\u001b[1;33m\u001b[0m\u001b[0m\n\u001b[0;32m   1323\u001b[0m       \u001b[1;32mreturn\u001b[0m \u001b[0mself\u001b[0m\u001b[1;33m.\u001b[0m\u001b[0m_do_call\u001b[0m\u001b[1;33m(\u001b[0m\u001b[0m_prun_fn\u001b[0m\u001b[1;33m,\u001b[0m \u001b[0mself\u001b[0m\u001b[1;33m.\u001b[0m\u001b[0m_session\u001b[0m\u001b[1;33m,\u001b[0m \u001b[0mhandle\u001b[0m\u001b[1;33m,\u001b[0m \u001b[0mfeeds\u001b[0m\u001b[1;33m,\u001b[0m \u001b[0mfetches\u001b[0m\u001b[1;33m)\u001b[0m\u001b[1;33m\u001b[0m\u001b[0m\n",
      "\u001b[1;32m~\\AppData\\Local\\conda\\conda\\envs\\old-keras\\lib\\site-packages\\tensorflow\\python\\client\\session.py\u001b[0m in \u001b[0;36m_do_call\u001b[1;34m(self, fn, *args)\u001b[0m\n\u001b[0;32m   1325\u001b[0m   \u001b[1;32mdef\u001b[0m \u001b[0m_do_call\u001b[0m\u001b[1;33m(\u001b[0m\u001b[0mself\u001b[0m\u001b[1;33m,\u001b[0m \u001b[0mfn\u001b[0m\u001b[1;33m,\u001b[0m \u001b[1;33m*\u001b[0m\u001b[0margs\u001b[0m\u001b[1;33m)\u001b[0m\u001b[1;33m:\u001b[0m\u001b[1;33m\u001b[0m\u001b[0m\n\u001b[0;32m   1326\u001b[0m     \u001b[1;32mtry\u001b[0m\u001b[1;33m:\u001b[0m\u001b[1;33m\u001b[0m\u001b[0m\n\u001b[1;32m-> 1327\u001b[1;33m       \u001b[1;32mreturn\u001b[0m \u001b[0mfn\u001b[0m\u001b[1;33m(\u001b[0m\u001b[1;33m*\u001b[0m\u001b[0margs\u001b[0m\u001b[1;33m)\u001b[0m\u001b[1;33m\u001b[0m\u001b[0m\n\u001b[0m\u001b[0;32m   1328\u001b[0m     \u001b[1;32mexcept\u001b[0m \u001b[0merrors\u001b[0m\u001b[1;33m.\u001b[0m\u001b[0mOpError\u001b[0m \u001b[1;32mas\u001b[0m \u001b[0me\u001b[0m\u001b[1;33m:\u001b[0m\u001b[1;33m\u001b[0m\u001b[0m\n\u001b[0;32m   1329\u001b[0m       \u001b[0mmessage\u001b[0m \u001b[1;33m=\u001b[0m \u001b[0mcompat\u001b[0m\u001b[1;33m.\u001b[0m\u001b[0mas_text\u001b[0m\u001b[1;33m(\u001b[0m\u001b[0me\u001b[0m\u001b[1;33m.\u001b[0m\u001b[0mmessage\u001b[0m\u001b[1;33m)\u001b[0m\u001b[1;33m\u001b[0m\u001b[0m\n",
      "\u001b[1;32m~\\AppData\\Local\\conda\\conda\\envs\\old-keras\\lib\\site-packages\\tensorflow\\python\\client\\session.py\u001b[0m in \u001b[0;36m_run_fn\u001b[1;34m(session, feed_dict, fetch_list, target_list, options, run_metadata)\u001b[0m\n\u001b[0;32m   1304\u001b[0m           return tf_session.TF_Run(session, options,\n\u001b[0;32m   1305\u001b[0m                                    \u001b[0mfeed_dict\u001b[0m\u001b[1;33m,\u001b[0m \u001b[0mfetch_list\u001b[0m\u001b[1;33m,\u001b[0m \u001b[0mtarget_list\u001b[0m\u001b[1;33m,\u001b[0m\u001b[1;33m\u001b[0m\u001b[0m\n\u001b[1;32m-> 1306\u001b[1;33m                                    status, run_metadata)\n\u001b[0m\u001b[0;32m   1307\u001b[0m \u001b[1;33m\u001b[0m\u001b[0m\n\u001b[0;32m   1308\u001b[0m     \u001b[1;32mdef\u001b[0m \u001b[0m_prun_fn\u001b[0m\u001b[1;33m(\u001b[0m\u001b[0msession\u001b[0m\u001b[1;33m,\u001b[0m \u001b[0mhandle\u001b[0m\u001b[1;33m,\u001b[0m \u001b[0mfeed_dict\u001b[0m\u001b[1;33m,\u001b[0m \u001b[0mfetch_list\u001b[0m\u001b[1;33m)\u001b[0m\u001b[1;33m:\u001b[0m\u001b[1;33m\u001b[0m\u001b[0m\n",
      "\u001b[1;31mKeyboardInterrupt\u001b[0m: "
     ]
    }
   ],
   "source": [
    "train_generator = train_generator_func()\n",
    "model.fit_generator(train_generator, steps_per_epoch=120, epochs=50)#, callbacks=[early_stopping])"
   ]
  },
  {
   "cell_type": "markdown",
   "metadata": {
    "scrolled": true
   },
   "source": [
    "hist = model.fit(X_train2, Y_train2, batch_size=32, epochs=200, validation_data=(X_test, Y_test), callbacks=[early_stopping])"
   ]
  },
  {
   "cell_type": "code",
   "execution_count": 66,
   "metadata": {},
   "outputs": [],
   "source": [
    "with open(C.small_voi_path, 'r') as csv_file:\n",
    "    reader = csv.reader(csv_file)\n",
    "    small_vois = dict(reader)\n",
    "    \n",
    "for key in small_vois:\n",
    "    small_vois[key] = [int(x) for x in small_vois[key][1:-1].split(', ')]"
   ]
  },
  {
   "cell_type": "code",
   "execution_count": 67,
   "metadata": {
    "collapsed": true
   },
   "outputs": [],
   "source": [
    "voi_df_art = pd.read_csv(C.art_voi_path)\n",
    "voi_df_ven = pd.read_csv(C.ven_voi_path)\n",
    "voi_df_eq = pd.read_csv(C.eq_voi_path)"
   ]
  },
  {
   "cell_type": "code",
   "execution_count": 68,
   "metadata": {
    "scrolled": true
   },
   "outputs": [
    {
     "data": {
      "text/plain": [
       "['fnh', 'cyst', 'hcc', 'hemangioma', 'colorectal', 'cholangio']"
      ]
     },
     "execution_count": 68,
     "metadata": {},
     "output_type": "execute_result"
    }
   ],
   "source": [
    "cls_mapping"
   ]
  },
  {
   "cell_type": "code",
   "execution_count": 50,
   "metadata": {},
   "outputs": [],
   "source": [
    "X_test = cfunc.separate_phases(X_test)\n",
    "X_train_orig = cfunc.separate_phases(X_train_orig)"
   ]
  },
  {
   "cell_type": "code",
   "execution_count": 98,
   "metadata": {
    "scrolled": true
   },
   "outputs": [],
   "source": [
    "#plot_with_bbox(fn_list[2], cls_mapping[wrong_guesses[2]])\n",
    "Y_pred = model_pretrain.predict(X_test)\n",
    "y_true = np.array([max(enumerate(x), key=operator.itemgetter(1))[0] for x in Y_test])\n",
    "y_pred = np.array([max(enumerate(x), key=operator.itemgetter(1))[0] for x in Y_pred])\n",
    "\n",
    "cm = confusion_matrix(y_true, y_pred)\n",
    "f1 = f1_score(y_true, y_pred, average=\"weighted\")\n",
    "\n",
    "#cfunc.save_output(Z_test, y_pred, y_true, voi_df_art, small_vois, cls_mapping, C)"
   ]
  },
  {
   "cell_type": "code",
   "execution_count": 73,
   "metadata": {
    "scrolled": true
   },
   "outputs": [],
   "source": [
    "Y_pred = model.predict(X_train_orig)\n",
    "y_true = np.array([max(enumerate(x), key=operator.itemgetter(1))[0] for x in Y_train_orig])\n",
    "y_pred = np.array([max(enumerate(x), key=operator.itemgetter(1))[0] for x in Y_pred])\n",
    "\n",
    "cm = confusion_matrix(y_true, y_pred)\n",
    "f1 = f1_score(y_true, y_pred, average=\"weighted\")\n",
    "\n",
    "cfunc.save_output(Z_train_orig, y_pred, y_true, voi_df_art, small_vois, cls_mapping, C)"
   ]
  },
  {
   "cell_type": "code",
   "execution_count": 63,
   "metadata": {
    "scrolled": false
   },
   "outputs": [
    {
     "data": {
      "text/plain": [
       "['colorectal', 'hemangioma', 'hcc', 'cyst', 'cholangio']"
      ]
     },
     "execution_count": 63,
     "metadata": {},
     "output_type": "execute_result"
    }
   ],
   "source": [
    "cls_mapping"
   ]
  },
  {
   "cell_type": "code",
   "execution_count": 33,
   "metadata": {
    "scrolled": true
   },
   "outputs": [
    {
     "data": {
      "text/plain": [
       "array([[18,  0,  0,  3,  1],\n",
       "       [ 1, 19,  0,  2,  2],\n",
       "       [ 1,  3, 26,  0,  2],\n",
       "       [ 1,  3,  0, 14,  6],\n",
       "       [ 9,  6,  0,  2, 11]], dtype=int64)"
      ]
     },
     "execution_count": 33,
     "metadata": {},
     "output_type": "execute_result"
    }
   ],
   "source": [
    "cm"
   ]
  },
  {
   "cell_type": "code",
   "execution_count": 71,
   "metadata": {
    "scrolled": true
   },
   "outputs": [],
   "source": [
    "y_true_simp, y_pred_simp, _ = cfunc.condense_cm(y_true, y_pred, cls_mapping)"
   ]
  },
  {
   "cell_type": "code",
   "execution_count": 72,
   "metadata": {
    "scrolled": true
   },
   "outputs": [
    {
     "data": {
      "text/plain": [
       "0.71264367816091956"
      ]
     },
     "execution_count": 72,
     "metadata": {},
     "output_type": "execute_result"
    }
   ],
   "source": [
    "accuracy_score(y_true_simp, y_pred_simp)"
   ]
  },
  {
   "cell_type": "code",
   "execution_count": 99,
   "metadata": {
    "scrolled": true
   },
   "outputs": [
    {
     "data": {
      "text/plain": [
       "0.40229885057471265"
      ]
     },
     "execution_count": 99,
     "metadata": {},
     "output_type": "execute_result"
    }
   ],
   "source": [
    "accuracy_score(y_true, y_pred)"
   ]
  },
  {
   "cell_type": "code",
   "execution_count": null,
   "metadata": {
    "collapsed": true
   },
   "outputs": [],
   "source": [
    "4 cls: 94/94%, 86/88%, 86%/90%\n",
    "5 cls: 80%/89%, 72%/86%\n",
    "6 cls: 60%/71%"
   ]
  },
  {
   "cell_type": "code",
   "execution_count": 365,
   "metadata": {
    "collapsed": true
   },
   "outputs": [],
   "source": [
    "fn_list = Z_test[~np.equal(y_pred, y_true)]\n",
    "wrong_guesses = np.array(y_pred)[~np.equal(y_pred, y_true)]"
   ]
  },
  {
   "cell_type": "code",
   "execution_count": 409,
   "metadata": {
    "scrolled": true
   },
   "outputs": [
    {
     "data": {
      "text/plain": [
       "array(['E100815762_0.npy', '12239513_0.npy', '12042703_2.npy'],\n",
       "      dtype='<U16')"
      ]
     },
     "execution_count": 409,
     "metadata": {},
     "output_type": "execute_result"
    }
   ],
   "source": [
    "Z_test[~np.equal(y_pred, y_true)]"
   ]
  },
  {
   "cell_type": "code",
   "execution_count": 21,
   "metadata": {
    "scrolled": true
   },
   "outputs": [
    {
     "data": {
      "text/html": [
       "<div>\n",
       "<style>\n",
       "    .dataframe thead tr:only-child th {\n",
       "        text-align: right;\n",
       "    }\n",
       "\n",
       "    .dataframe thead th {\n",
       "        text-align: left;\n",
       "    }\n",
       "\n",
       "    .dataframe tbody tr th {\n",
       "        vertical-align: top;\n",
       "    }\n",
       "</style>\n",
       "<table border=\"1\" class=\"dataframe\">\n",
       "  <thead>\n",
       "    <tr style=\"text-align: right;\">\n",
       "      <th></th>\n",
       "      <th>Filename</th>\n",
       "      <th>x1</th>\n",
       "      <th>x2</th>\n",
       "      <th>y1</th>\n",
       "      <th>y2</th>\n",
       "      <th>z1</th>\n",
       "      <th>z2</th>\n",
       "      <th>cls</th>\n",
       "      <th>flipz</th>\n",
       "      <th>dx</th>\n",
       "      <th>dy</th>\n",
       "      <th>dz</th>\n",
       "      <th>id</th>\n",
       "    </tr>\n",
       "  </thead>\n",
       "  <tbody>\n",
       "    <tr>\n",
       "      <th>119</th>\n",
       "      <td>12673726.npy</td>\n",
       "      <td>105</td>\n",
       "      <td>134</td>\n",
       "      <td>76</td>\n",
       "      <td>101</td>\n",
       "      <td>40</td>\n",
       "      <td>53</td>\n",
       "      <td>hemangioma</td>\n",
       "      <td>True</td>\n",
       "      <td>29</td>\n",
       "      <td>25</td>\n",
       "      <td>13</td>\n",
       "      <td>126737261057640</td>\n",
       "    </tr>\n",
       "    <tr>\n",
       "      <th>120</th>\n",
       "      <td>12673726.npy</td>\n",
       "      <td>127</td>\n",
       "      <td>139</td>\n",
       "      <td>103</td>\n",
       "      <td>117</td>\n",
       "      <td>44</td>\n",
       "      <td>51</td>\n",
       "      <td>hemangioma</td>\n",
       "      <td>True</td>\n",
       "      <td>12</td>\n",
       "      <td>14</td>\n",
       "      <td>7</td>\n",
       "      <td>1267372612710344</td>\n",
       "    </tr>\n",
       "  </tbody>\n",
       "</table>\n",
       "</div>"
      ],
      "text/plain": [
       "         Filename   x1   x2   y1   y2  z1  z2         cls  flipz  dx  dy  dz  \\\n",
       "119  12673726.npy  105  134   76  101  40  53  hemangioma   True  29  25  13   \n",
       "120  12673726.npy  127  139  103  117  44  51  hemangioma   True  12  14   7   \n",
       "\n",
       "                   id  \n",
       "119   126737261057640  \n",
       "120  1267372612710344  "
      ]
     },
     "execution_count": 21,
     "metadata": {},
     "output_type": "execute_result"
    }
   ],
   "source": [
    "voi_df_art[voi_df_art[\"Filename\"] == \"12673726.npy\"]"
   ]
  },
  {
   "cell_type": "code",
   "execution_count": 22,
   "metadata": {
    "scrolled": true
   },
   "outputs": [
    {
     "data": {
      "text/html": [
       "<div>\n",
       "<style>\n",
       "    .dataframe thead tr:only-child th {\n",
       "        text-align: right;\n",
       "    }\n",
       "\n",
       "    .dataframe thead th {\n",
       "        text-align: left;\n",
       "    }\n",
       "\n",
       "    .dataframe tbody tr th {\n",
       "        vertical-align: top;\n",
       "    }\n",
       "</style>\n",
       "<table border=\"1\" class=\"dataframe\">\n",
       "  <thead>\n",
       "    <tr style=\"text-align: right;\">\n",
       "      <th></th>\n",
       "      <th>id</th>\n",
       "      <th>x1</th>\n",
       "      <th>x2</th>\n",
       "      <th>y1</th>\n",
       "      <th>y2</th>\n",
       "      <th>z1</th>\n",
       "      <th>z2</th>\n",
       "      <th>dx</th>\n",
       "      <th>dy</th>\n",
       "      <th>dz</th>\n",
       "    </tr>\n",
       "  </thead>\n",
       "  <tbody>\n",
       "    <tr>\n",
       "      <th>74</th>\n",
       "      <td>1267372612710344</td>\n",
       "      <td>127</td>\n",
       "      <td>139</td>\n",
       "      <td>103</td>\n",
       "      <td>117</td>\n",
       "      <td>44</td>\n",
       "      <td>52</td>\n",
       "      <td>12</td>\n",
       "      <td>14</td>\n",
       "      <td>8</td>\n",
       "    </tr>\n",
       "  </tbody>\n",
       "</table>\n",
       "</div>"
      ],
      "text/plain": [
       "                  id   x1   x2   y1   y2  z1  z2  dx  dy  dz\n",
       "74  1267372612710344  127  139  103  117  44  52  12  14   8"
      ]
     },
     "execution_count": 22,
     "metadata": {},
     "output_type": "execute_result"
    }
   ],
   "source": [
    "voi_df_ven[voi_df_ven[\"id\"] == \"1267372612710344\"]"
   ]
  },
  {
   "cell_type": "markdown",
   "metadata": {
    "collapsed": true
   },
   "source": [
    "activ = model2.predict(X_train)\n",
    "#activ = model2.predict(np.expand_dims(X_train[10],axis=0))"
   ]
  },
  {
   "cell_type": "code",
   "execution_count": 316,
   "metadata": {
    "scrolled": true
   },
   "outputs": [
    {
     "name": "stdout",
     "output_type": "stream",
     "text": [
      "Predictions: ['hcc (95.75861% confidence)', 'hcc (99.98515% confidence)', 'hcc (56.77554% confidence)', 'hcc (97.68384% confidence)', 'hcc (96.73136% confidence)', 'hcc (99.99979% confidence)', 'hcc (99.99988% confidence)', 'hcc (99.71866% confidence)', 'cyst (63.61439% confidence)', 'cyst (51.41591% confidence)', 'hcc (99.65365% confidence)', 'hcc (52.72004% confidence)', 'hcc (57.44457% confidence)', 'cyst (99.82330% confidence)', 'cyst (83.69393% confidence)']\n"
     ]
    }
   ],
   "source": [
    "import operator\n",
    "#print(\"Ground truth:\", [cls_mapping[max(enumerate(x), key=operator.itemgetter(1))[0]] for x in Y_val[::30]])\n",
    "Y_ = model.predict(X_test)\n",
    "print(\"Predictions:\", [cls_mapping[max(enumerate(x), key=operator.itemgetter(1))[0]] + \" (%.5f%% confidence)\" % (max(x)*100) for x in Y_])"
   ]
  },
  {
   "cell_type": "code",
   "execution_count": 16,
   "metadata": {},
   "outputs": [],
   "source": [
    "C.classes_to_include = ['cyst', 'hcc', 'hemangioma', 'cholangio', 'colorectal']#, 'fnh']\n",
    "dims = C.dims\n",
    "nb_classes = len(C.classes_to_include)\n",
    "\n",
    "art_img = Input(shape=(dims[0], dims[1], dims[2], 1))\n",
    "art_x = art_img\n",
    "art_x = Conv3D(filters=64, kernel_size=(3,3,2), activation='relu')(art_x)\n",
    "art_x = Dropout(0.5)(art_x)\n",
    "art_x = MaxPooling3D((2, 2, 2))(art_x)\n",
    "\n",
    "                                \n",
    "ven_img = Input(shape=(dims[0], dims[1], dims[2], 1))\n",
    "ven_x = ven_img\n",
    "ven_x = Conv3D(filters=64, kernel_size=(3,3,2), activation='relu')(ven_x)\n",
    "ven_x = Dropout(0.5)(ven_x)\n",
    "ven_x = MaxPooling3D((2, 2, 2))(ven_x)\n",
    "\n",
    "eq_img = Input(shape=(dims[0], dims[1], dims[2], 1))\n",
    "eq_x = eq_img\n",
    "eq_x = Conv3D(filters=64, kernel_size=(3,3,2), activation='relu')(eq_x)\n",
    "eq_x = Dropout(0.5)(eq_x)\n",
    "eq_x = MaxPooling3D((2, 2, 2))(eq_x)\n",
    "\n",
    "intermed = Concatenate(axis=4)([art_x, ven_x, eq_x])\n",
    "x = Conv3D(filters=100, kernel_size=(3,3,2), activation='relu')(intermed)\n",
    "x = MaxPooling3D((2, 2, 1))(x)\n",
    "x = Dropout(0.5)(x)\n",
    "x = Flatten()(x)\n",
    "\n",
    "img_traits = Input(shape=(2,)) #bounding volume and aspect ratio of lesion\n",
    "\n",
    "intermed = Concatenate(axis=1)([x, img_traits])\n",
    "x = Dense(100, activation='relu')(intermed)#, kernel_initializer='normal', kernel_regularizer=l1(.01), kernel_constraint=max_norm(3.))(x)\n",
    "x = Dropout(0.5)(x)\n",
    "pred_class = Dense(nb_classes, activation='softmax')(x)#Dense(nb_classes, activation='softmax')(x)"
   ]
  },
  {
   "cell_type": "code",
   "execution_count": 17,
   "metadata": {
    "scrolled": true
   },
   "outputs": [
    {
     "name": "stdout",
     "output_type": "stream",
     "text": [
      "________________________________________________________________________________________________________________________\n",
      "Layer (type)                           Output Shape               Param #       Connected to                            \n",
      "========================================================================================================================\n",
      "input_3 (InputLayer)                   (None, 36, 36, 12, 1)      0                                                     \n",
      "________________________________________________________________________________________________________________________\n",
      "input_4 (InputLayer)                   (None, 36, 36, 12, 1)      0                                                     \n",
      "________________________________________________________________________________________________________________________\n",
      "input_5 (InputLayer)                   (None, 36, 36, 12, 1)      0                                                     \n",
      "________________________________________________________________________________________________________________________\n",
      "conv3d_4 (Conv3D)                      (None, 34, 34, 11, 64)     1216          input_3[0][0]                           \n",
      "________________________________________________________________________________________________________________________\n",
      "conv3d_5 (Conv3D)                      (None, 34, 34, 11, 64)     1216          input_4[0][0]                           \n",
      "________________________________________________________________________________________________________________________\n",
      "conv3d_6 (Conv3D)                      (None, 34, 34, 11, 64)     1216          input_5[0][0]                           \n",
      "________________________________________________________________________________________________________________________\n",
      "dropout_5 (Dropout)                    (None, 34, 34, 11, 64)     0             conv3d_4[0][0]                          \n",
      "________________________________________________________________________________________________________________________\n",
      "dropout_6 (Dropout)                    (None, 34, 34, 11, 64)     0             conv3d_5[0][0]                          \n",
      "________________________________________________________________________________________________________________________\n",
      "dropout_7 (Dropout)                    (None, 34, 34, 11, 64)     0             conv3d_6[0][0]                          \n",
      "________________________________________________________________________________________________________________________\n",
      "max_pooling3d_3 (MaxPooling3D)         (None, 17, 17, 5, 64)      0             dropout_5[0][0]                         \n",
      "________________________________________________________________________________________________________________________\n",
      "max_pooling3d_4 (MaxPooling3D)         (None, 17, 17, 5, 64)      0             dropout_6[0][0]                         \n",
      "________________________________________________________________________________________________________________________\n",
      "max_pooling3d_5 (MaxPooling3D)         (None, 17, 17, 5, 64)      0             dropout_7[0][0]                         \n",
      "________________________________________________________________________________________________________________________\n",
      "concatenate_2 (Concatenate)            (None, 17, 17, 5, 192)     0             max_pooling3d_3[0][0]                   \n",
      "                                                                                max_pooling3d_4[0][0]                   \n",
      "                                                                                max_pooling3d_5[0][0]                   \n",
      "________________________________________________________________________________________________________________________\n",
      "conv3d_7 (Conv3D)                      (None, 15, 15, 4, 100)     345700        concatenate_2[0][0]                     \n",
      "________________________________________________________________________________________________________________________\n",
      "max_pooling3d_6 (MaxPooling3D)         (None, 7, 7, 4, 100)       0             conv3d_7[0][0]                          \n",
      "________________________________________________________________________________________________________________________\n",
      "dropout_8 (Dropout)                    (None, 7, 7, 4, 100)       0             max_pooling3d_6[0][0]                   \n",
      "________________________________________________________________________________________________________________________\n",
      "flatten_2 (Flatten)                    (None, 19600)              0             dropout_8[0][0]                         \n",
      "________________________________________________________________________________________________________________________\n",
      "input_6 (InputLayer)                   (None, 2)                  0                                                     \n",
      "________________________________________________________________________________________________________________________\n",
      "concatenate_3 (Concatenate)            (None, 19602)              0             flatten_2[0][0]                         \n",
      "                                                                                input_6[0][0]                           \n",
      "________________________________________________________________________________________________________________________\n",
      "dense_3 (Dense)                        (None, 100)                1960300       concatenate_3[0][0]                     \n",
      "________________________________________________________________________________________________________________________\n",
      "dropout_9 (Dropout)                    (None, 100)                0             dense_3[0][0]                           \n",
      "________________________________________________________________________________________________________________________\n",
      "dense_4 (Dense)                        (None, 5)                  505           dropout_9[0][0]                         \n",
      "========================================================================================================================\n",
      "Total params: 2,310,153\n",
      "Trainable params: 2,310,153\n",
      "Non-trainable params: 0\n",
      "________________________________________________________________________________________________________________________\n"
     ]
    }
   ],
   "source": [
    "optim = Adam(lr=0.01)#5, decay=0.001)\n",
    "early_stopping = EarlyStopping(monitor='acc', min_delta=0.01, patience=4)\n",
    "\n",
    "model = Model([art_img, ven_img, eq_img, img_traits], pred_class)\n",
    "model.compile(optimizer='adam', loss='categorical_crossentropy', metrics=['accuracy'])\n",
    "model.summary(line_length=120)"
   ]
  },
  {
   "cell_type": "code",
   "execution_count": 86,
   "metadata": {
    "scrolled": false
   },
   "outputs": [
    {
     "name": "stdout",
     "output_type": "stream",
     "text": [
      "0.20054101943969727\n"
     ]
    }
   ],
   "source": [
    "a=time.time()\n",
    "Y_ = model.predict(X_val)\n",
    "print(time.time()-a)"
   ]
  },
  {
   "cell_type": "code",
   "execution_count": 136,
   "metadata": {
    "collapsed": true
   },
   "outputs": [],
   "source": [
    "import matplotlib.pyplot as plt\n",
    "%matplotlib inline"
   ]
  }
 ],
 "metadata": {
  "kernelspec": {
   "display_name": "Python 3",
   "language": "python",
   "name": "python3"
  },
  "language_info": {
   "codemirror_mode": {
    "name": "ipython",
    "version": 3
   },
   "file_extension": ".py",
   "mimetype": "text/x-python",
   "name": "python",
   "nbconvert_exporter": "python",
   "pygments_lexer": "ipython3",
   "version": "3.5.0"
  }
 },
 "nbformat": 4,
 "nbformat_minor": 2
}
