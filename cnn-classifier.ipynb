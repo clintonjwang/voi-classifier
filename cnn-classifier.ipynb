{
 "cells": [
  {
   "cell_type": "code",
   "execution_count": 1,
   "metadata": {
    "scrolled": false
   },
   "outputs": [
    {
     "name": "stderr",
     "output_type": "stream",
     "text": [
      "Using TensorFlow backend.\n"
     ]
    }
   ],
   "source": [
    "import keras.backend as K\n",
    "from keras.layers import Input, Dense, Concatenate, Flatten, Dropout, Conv3D, MaxPooling3D, ZeroPadding3D\n",
    "from keras.models import Model\n",
    "from keras.regularizers import l1, l2\n",
    "from keras.optimizers import Adam\n",
    "from keras.constraints import max_norm\n",
    "from keras.layers.noise import GaussianNoise\n",
    "from keras.callbacks import EarlyStopping\n",
    "from keras.utils import np_utils\n",
    "from sklearn.metrics import confusion_matrix, f1_score, accuracy_score\n",
    "\n",
    "import config\n",
    "import copy\n",
    "import csv\n",
    "import helper_fxns as hf\n",
    "import importlib\n",
    "import math\n",
    "import matplotlib.pyplot as plt\n",
    "import numpy as np\n",
    "import operator\n",
    "import os\n",
    "import pandas as pd\n",
    "import re\n",
    "from scipy.misc import imsave\n",
    "import transforms as tr\n",
    "import tensorflow as tf\n",
    "%matplotlib inline"
   ]
  },
  {
   "cell_type": "code",
   "execution_count": 36,
   "metadata": {
    "collapsed": true,
    "scrolled": true
   },
   "outputs": [],
   "source": [
    "importlib.reload(config)\n",
    "C = config.Config()"
   ]
  },
  {
   "cell_type": "code",
   "execution_count": 66,
   "metadata": {
    "scrolled": true
   },
   "outputs": [],
   "source": [
    "classes_to_include = ['cyst', 'hcc', 'hemangioma', 'cholangio', 'colorectal']#, 'fnh']\n",
    "dims = C.dims\n",
    "C.nb_classes = len(classes_to_include)\n",
    "\n",
    "voi_img = Input(shape=(dims[0], dims[1], dims[2], C.nb_channels))\n",
    "x = voi_img\n",
    "#x = GaussianNoise(1)(x)\n",
    "#x = ZeroPadding3D(padding=(3,3,2))(voi_img)\n",
    "x = Conv3D(filters=128, kernel_size=(3,3,2), activation='relu')(x)\n",
    "x = Dropout(0.5)(x)\n",
    "x = Conv3D(filters=128, kernel_size=(3,3,2), activation='relu')(x)\n",
    "x = MaxPooling3D((2, 2, 2))(x)\n",
    "x = Dropout(0.5)(x)\n",
    "#x = Conv3D(filters=64, kernel_size=(3,3,2), strides=(2, 2, 2), activation='relu', kernel_constraint=max_norm(4.))(x)\n",
    "#x = Dropout(0.5)(x)\n",
    "x = Conv3D(filters=128, kernel_size=(3,3,2), activation='relu')(x)\n",
    "x = MaxPooling3D((2, 2, 1))(x)\n",
    "x = Dropout(0.5)(x)\n",
    "x = Flatten()(x)\n",
    "\n",
    "img_traits = Input(shape=(2,)) #bounding volume and aspect ratio of lesion\n",
    "\n",
    "intermed = Concatenate(axis=1)([x, img_traits])\n",
    "x = Dense(64, activation='relu', kernel_constraint=max_norm(4.))(intermed)#, kernel_initializer='normal', kernel_regularizer=l1(.01), kernel_constraint=max_norm(3.))(x)\n",
    "x = Dropout(0.5)(x)\n",
    "pred_class = Dense(C.nb_classes, activation='softmax')(x)#Dense(C.nb_classes, activation='softmax')(x)"
   ]
  },
  {
   "cell_type": "code",
   "execution_count": 67,
   "metadata": {
    "scrolled": true
   },
   "outputs": [
    {
     "name": "stdout",
     "output_type": "stream",
     "text": [
      "____________________________________________________________________________________________________\n",
      "Layer (type)                     Output Shape          Param #     Connected to                     \n",
      "====================================================================================================\n",
      "input_9 (InputLayer)             (None, 36, 36, 12, 3) 0                                            \n",
      "____________________________________________________________________________________________________\n",
      "conv3d_13 (Conv3D)               (None, 34, 34, 11, 12 7040        input_9[0][0]                    \n",
      "____________________________________________________________________________________________________\n",
      "dropout_17 (Dropout)             (None, 34, 34, 11, 12 0           conv3d_13[0][0]                  \n",
      "____________________________________________________________________________________________________\n",
      "conv3d_14 (Conv3D)               (None, 32, 32, 10, 12 295040      dropout_17[0][0]                 \n",
      "____________________________________________________________________________________________________\n",
      "max_pooling3d_9 (MaxPooling3D)   (None, 16, 16, 5, 128 0           conv3d_14[0][0]                  \n",
      "____________________________________________________________________________________________________\n",
      "dropout_18 (Dropout)             (None, 16, 16, 5, 128 0           max_pooling3d_9[0][0]            \n",
      "____________________________________________________________________________________________________\n",
      "conv3d_15 (Conv3D)               (None, 14, 14, 4, 128 295040      dropout_18[0][0]                 \n",
      "____________________________________________________________________________________________________\n",
      "max_pooling3d_10 (MaxPooling3D)  (None, 7, 7, 4, 128)  0           conv3d_15[0][0]                  \n",
      "____________________________________________________________________________________________________\n",
      "dropout_19 (Dropout)             (None, 7, 7, 4, 128)  0           max_pooling3d_10[0][0]           \n",
      "____________________________________________________________________________________________________\n",
      "flatten_5 (Flatten)              (None, 25088)         0           dropout_19[0][0]                 \n",
      "____________________________________________________________________________________________________\n",
      "input_10 (InputLayer)            (None, 2)             0                                            \n",
      "____________________________________________________________________________________________________\n",
      "concatenate_5 (Concatenate)      (None, 25090)         0           flatten_5[0][0]                  \n",
      "                                                                   input_10[0][0]                   \n",
      "____________________________________________________________________________________________________\n",
      "dense_9 (Dense)                  (None, 64)            1605824     concatenate_5[0][0]              \n",
      "____________________________________________________________________________________________________\n",
      "dropout_20 (Dropout)             (None, 64)            0           dense_9[0][0]                    \n",
      "____________________________________________________________________________________________________\n",
      "dense_10 (Dense)                 (None, 5)             325         dropout_20[0][0]                 \n",
      "====================================================================================================\n",
      "Total params: 2,203,269\n",
      "Trainable params: 2,203,269\n",
      "Non-trainable params: 0\n",
      "____________________________________________________________________________________________________\n"
     ]
    }
   ],
   "source": [
    "optim = Adam(lr=0.05, decay=0.001)\n",
    "early_stopping = EarlyStopping(monitor='acc', min_delta=0.01, patience=3)\n",
    "\n",
    "model = Model([voi_img, img_traits], pred_class)\n",
    "model.compile(optimizer='adam', loss='categorical_crossentropy', metrics=['accuracy'])\n",
    "model.summary()"
   ]
  },
  {
   "cell_type": "markdown",
   "metadata": {
    "collapsed": true
   },
   "source": [
    "model2 = Model(voi_img, intermed)\n",
    "\n",
    "for l in range(2,len(model2.layers)):\n",
    "    model2.layers[l].set_weights(model.layers[l].get_weights())"
   ]
  },
  {
   "cell_type": "code",
   "execution_count": 68,
   "metadata": {
    "collapsed": true,
    "scrolled": false
   },
   "outputs": [],
   "source": [
    "orig_data_dict = {}\n",
    "num_samples = {}\n",
    "voi_df = pd.read_csv(C.art_voi_path)\n",
    "intensity_df = pd.read_csv(C.int_df_path)\n",
    "#intensity_df.loc[intensity_df[\"art_int\"] == 0, \"art_int\"] = np.mean(intensity_df[intensity_df[\"art_int\"] > 0][\"art_int\"])\n",
    "#intensity_df.loc[intensity_df[\"ven_int\"] == 0, \"ven_int\"] = np.mean(intensity_df[intensity_df[\"ven_int\"] > 0][\"ven_int\"])\n",
    "#intensity_df.loc[intensity_df[\"eq_int\"] == 0, \"eq_int\"] = np.mean(intensity_df[intensity_df[\"eq_int\"] > 0][\"eq_int\"])\n",
    "\n",
    "def rescale_int(img, intensity_row):\n",
    "    img[:,:,:,0] = img[:,:,:,0] / float(intensity_row[\"art_int\"])\n",
    "    img[:,:,:,1] = img[:,:,:,1] / float(intensity_row[\"ven_int\"])\n",
    "    img[:,:,:,2] = img[:,:,:,2] / float(intensity_row[\"eq_int\"])\n",
    "    \n",
    "    return img\n",
    "\n",
    "def collect_unaug_data(classes_to_include, C):\n",
    "    for class_name in classes_to_include:\n",
    "        x = np.empty((10000, C.dims[0], C.dims[1], C.dims[2], C.nb_channels))\n",
    "        x2 = np.empty((10000, 2))\n",
    "        z = []\n",
    "\n",
    "        for index, img_fn in enumerate(os.listdir(C.orig_dir+class_name)):\n",
    "            try:\n",
    "                x[index] = np.load(C.orig_dir+class_name+\"\\\\\"+img_fn)\n",
    "            except:\n",
    "                raise ValueError(C.orig_dir+class_name+\"\\\\\"+img_fn + \" not found\")\n",
    "            z.append(img_fn)\n",
    "            \n",
    "            row = voi_df[(voi_df[\"Filename\"] == img_fn[:img_fn.find('_')] + \".npy\") &\n",
    "                         (voi_df[\"lesion_num\"] == int(img_fn[img_fn.find('_')+1:-4]))]\n",
    "            \n",
    "            try:\n",
    "                x2[index] = [(float(row[\"real_dx\"]) * float(row[\"real_dy\"]) * float(row[\"real_dz\"])) ** (1/3),\n",
    "                            max(float(row[\"real_dx\"]), float(row[\"real_dy\"])) / float(row[\"real_dz\"])]\n",
    "            except TypeError:\n",
    "                raise ValueError(img_fn + \" is probably missing a voi_df entry.\")\n",
    "            \n",
    "            x[index] = rescale_int(x[index], intensity_df[intensity_df[\"AccNum\"] == img_fn[:img_fn.find('_')]])\n",
    "\n",
    "        x.resize((index, dims[0], dims[1], dims[2], C.nb_channels)) #shrink first dimension to fit\n",
    "        x2.resize((index, 2)) #shrink first dimension to fit\n",
    "        orig_data_dict[class_name] = [x,x2,np.array(z)]\n",
    "        num_samples[class_name] = index\n",
    "        \n",
    "    return orig_data_dict, num_samples"
   ]
  },
  {
   "cell_type": "code",
   "execution_count": 69,
   "metadata": {},
   "outputs": [
    {
     "name": "stdout",
     "output_type": "stream",
     "text": [
      "{'hemangioma': 60, 'colorectal': 70, 'hcc': 55, 'cholangio': 61, 'cyst': 79}\n"
     ]
    }
   ],
   "source": [
    "orig_data_dict, num_samples = collect_unaug_data(classes_to_include, C)\n",
    "print(num_samples)"
   ]
  },
  {
   "cell_type": "code",
   "execution_count": 70,
   "metadata": {
    "scrolled": false
   },
   "outputs": [
    {
     "name": "stdout",
     "output_type": "stream",
     "text": [
      "hemangioma has 48 samples for training (2400 after augmentation) and 12 for testing\n",
      "colorectal has 56 samples for training (2800 after augmentation) and 14 for testing\n",
      "hcc has 44 samples for training (2200 after augmentation) and 11 for testing\n",
      "cholangio has 49 samples for training (2450 after augmentation) and 12 for testing\n",
      "cyst has 63 samples for training (3150 after augmentation) and 16 for testing\n"
     ]
    }
   ],
   "source": [
    "train_ids = {} #filenames of training set originals\n",
    "test_ids = {} #filenames of test set\n",
    "X_test = []\n",
    "X2_test = []\n",
    "Y_test = []\n",
    "Z_test = []\n",
    "X_train_orig = []\n",
    "X2_train_orig = []\n",
    "Y_train_orig = []\n",
    "Z_train_orig = []\n",
    "cls_mapping = []\n",
    "\n",
    "train_samples = {}\n",
    "\n",
    "for cls_num, cls in enumerate(orig_data_dict):\n",
    "    cls_mapping.append(cls)\n",
    "    \n",
    "    train_samples[cls] = round(num_samples[cls]*C.train_frac[cls])\n",
    "    \n",
    "    order = np.random.permutation(list(range(num_samples[cls])))\n",
    "    train_ids[cls] = list(orig_data_dict[cls][2][order[:train_samples[cls]]])\n",
    "    test_ids[cls] = list(orig_data_dict[cls][2][order[train_samples[cls]:]])\n",
    "    \n",
    "    X_test = X_test + list(orig_data_dict[cls][0][order[train_samples[cls]:]])\n",
    "    X2_test = X2_test + list(orig_data_dict[cls][1][order[train_samples[cls]:]])\n",
    "    Y_test = Y_test + [[0] * cls_num + [1] + [0] * (C.nb_classes - cls_num - 1)] * \\\n",
    "                        (num_samples[cls] - train_samples[cls])\n",
    "    Z_test = Z_test + test_ids[cls]\n",
    "    \n",
    "    X_train_orig = X_train_orig + list(orig_data_dict[cls][0][order[:train_samples[cls]]])\n",
    "    X2_train_orig = X2_train_orig + list(orig_data_dict[cls][1][order[:train_samples[cls]]])\n",
    "    Y_train_orig = Y_train_orig + [[0] * cls_num + [1] + [0] * (C.nb_classes - cls_num - 1)] * \\\n",
    "                        (train_samples[cls])\n",
    "    Z_train_orig = Z_train_orig + train_ids[cls]\n",
    "    \n",
    "    print(\"%s has %d samples for training (%d after augmentation) and %d for testing\" %\n",
    "          (cls, train_samples[cls], train_samples[cls] * C.aug_factor, num_samples[cls] - train_samples[cls]))\n",
    "    \n",
    "#Y_test = np_utils.to_categorical(Y_test, C.nb_classes)\n",
    "#Y_train_orig = np_utils.to_categorical(Y_train_orig, C.nb_classes)"
   ]
  },
  {
   "cell_type": "code",
   "execution_count": 71,
   "metadata": {},
   "outputs": [],
   "source": [
    "aug_data_dict = {}\n",
    "\n",
    "for class_name in classes_to_include:#os.listdir(C.aug_dir):\n",
    "    x_train = np.empty((10000, dims[0], dims[1], dims[2], C.nb_channels))\n",
    "    x2_train = np.empty((10000, 2))\n",
    "    x_val = np.empty((10000, dims[0], dims[1], dims[2], C.nb_channels))\n",
    "    x2_val = np.empty((10000, 2))\n",
    "    z = []\n",
    "    \n",
    "    train_cnt = 0\n",
    "    val_cnt = 0\n",
    "    for img_fn in os.listdir(C.aug_dir+class_name):\n",
    "        \n",
    "        # part of training set\n",
    "        if img_fn[:img_fn.rfind('_')] + \".npy\" in train_ids[class_name]:\n",
    "            try:\n",
    "                x_train[train_cnt] = np.load(C.aug_dir+class_name+\"\\\\\"+img_fn)\n",
    "            except:\n",
    "                continue\n",
    "                #raise ValueError(C.aug_dir+class_name+\"\\\\\"+img_fn + \" cannot be loaded\")\n",
    "            z.append(img_fn)\n",
    "            \n",
    "            row = voi_df[(voi_df[\"Filename\"] == img_fn[:img_fn.find('_')] + \".npy\") &\n",
    "                         (voi_df[\"lesion_num\"] == int(img_fn[img_fn.find('_')+1:img_fn.rfind('_')]))]\n",
    "            x2_train[train_cnt] = [(float(row[\"real_dx\"]) * float(row[\"real_dy\"]) * float(row[\"real_dz\"])) ** (1/3),\n",
    "                                max(float(row[\"real_dx\"]), float(row[\"real_dy\"])) / float(row[\"real_dz\"])]\n",
    "            \n",
    "            x_train[train_cnt] = rescale_int(x_train[train_cnt],\n",
    "                                  intensity_df[intensity_df[\"AccNum\"] == img_fn[:img_fn.find('_')]])\n",
    "            \n",
    "            train_cnt += 1\n",
    "            \n",
    "        else:\n",
    "            try:\n",
    "                x_val[val_cnt] = np.load(C.aug_dir+class_name+\"\\\\\"+img_fn)\n",
    "            except:\n",
    "                continue\n",
    "                #raise ValueError(C.aug_dir+class_name+\"\\\\\"+img_fn + \" cannot be loaded\")\n",
    "            \n",
    "            row = voi_df[(voi_df[\"Filename\"] == img_fn[:img_fn.find('_')] + \".npy\") &\n",
    "                         (voi_df[\"lesion_num\"] == int(img_fn[img_fn.find('_')+1:img_fn.rfind('_')]))]\n",
    "            x2_val[val_cnt] = [(float(row[\"real_dx\"]) * float(row[\"real_dy\"]) * float(row[\"real_dz\"])) ** (1/3),\n",
    "                                max(float(row[\"real_dx\"]), float(row[\"real_dy\"])) / float(row[\"real_dz\"])]\n",
    "\n",
    "            x_val[val_cnt] = rescale_int(x_val[val_cnt],\n",
    "                                  intensity_df[intensity_df[\"AccNum\"] == img_fn[:img_fn.find('_')]])\n",
    "            \n",
    "            val_cnt += 1\n",
    "            \n",
    "    x_train.resize((train_cnt, dims[0], dims[1], dims[2], C.nb_channels)) #shrink first dimension to fit\n",
    "    x2_train.resize((train_cnt, 2)) #shrink first dimension to fit\n",
    "    x_val.resize((val_cnt, dims[0], dims[1], dims[2], C.nb_channels)) #shrink first dimension to fit\n",
    "    x2_val.resize((val_cnt, 2)) #shrink first dimension to fit\n",
    "    aug_data_dict[class_name] = {'train': [x_train, x2_train, np.array(z)], 'val': [x_val, x2_val]}"
   ]
  },
  {
   "cell_type": "code",
   "execution_count": 72,
   "metadata": {
    "collapsed": true
   },
   "outputs": [],
   "source": [
    "X_train = []\n",
    "X2_train = []\n",
    "Y_train = []\n",
    "Z_train = []\n",
    "X_val = []\n",
    "X2_val = []\n",
    "Y_val = []\n",
    "Z_val = []\n",
    "\n",
    "for cls_num, cls in enumerate(aug_data_dict):\n",
    "    X_train = X_train + list(aug_data_dict[cls]['train'][0])\n",
    "    X2_train = X2_train + list(aug_data_dict[cls]['train'][1])\n",
    "    Y_train = Y_train + [[0] * cls_num + [1] + [0] * (C.nb_classes - cls_num - 1)] * len(aug_data_dict[cls]['train'][0])\n",
    "    Z_train = Z_train + list(aug_data_dict[cls]['train'][2])\n",
    "    \n",
    "    X_val = X_val + list(aug_data_dict[cls]['val'][0])\n",
    "    X2_val = X2_val + list(aug_data_dict[cls]['val'][1])\n",
    "    Y_val = Y_val + [[0] * cls_num + [1] + [0] * (C.nb_classes - cls_num - 1)] * len(aug_data_dict[cls]['val'][0])"
   ]
  },
  {
   "cell_type": "markdown",
   "metadata": {
    "collapsed": true
   },
   "source": [
    "X_train = delete_channel(X_train)\n",
    "X_val = delete_channel(X_val)\n",
    "X_test = delete_channel(X_test)\n",
    "X_train_orig = delete_channel(X_train_orig)"
   ]
  },
  {
   "cell_type": "markdown",
   "metadata": {
    "collapsed": true
   },
   "source": [
    "def delete_channel(X):\n",
    "    return np.expand_dims(np.array(X)[:,:,:,:,0], axis=4)"
   ]
  },
  {
   "cell_type": "code",
   "execution_count": 41,
   "metadata": {
    "collapsed": true
   },
   "outputs": [],
   "source": [
    "#X = np.array([z for z in x])\n",
    "#Y = np.array(y)\n",
    "#Y = np.array([[0,1] if y[x] == 1 else [1,0] for x in range(len(y))])\n",
    "#Y = K.constant(y, dtype=tf.int32)\n",
    "#Y = K.one_hot(Y, C.nb_classes)\n",
    "\n",
    "#total_size = X.shape[0]\n",
    "\n",
    "#order = np.random.permutation(list(range(total_size)))\n",
    "#X = X[order]\n",
    "#Y = Y[order]"
   ]
  },
  {
   "cell_type": "code",
   "execution_count": 73,
   "metadata": {
    "collapsed": true
   },
   "outputs": [],
   "source": [
    "def scale_to_one(X, scale_by_channel=True):\n",
    "    def scale_img(x):\n",
    "        return 2 * (x - np.amin(x)) / (np.amax(x) - np.amin(x)) - 1\n",
    "    return np.array(X)\n",
    "\n",
    "    X = np.array(X)\n",
    "    \n",
    "    if scale_by_channel:\n",
    "        X = [np.stack([scale_img(x[:,:,:,0]), scale_img(x[:,:,:,1]), scale_img(x[:,:,:,2])], axis=3) for x in X]\n",
    "    else:\n",
    "        X = [scale_img(x) for x in X]\n",
    "    \n",
    "    return np.array(X)"
   ]
  },
  {
   "cell_type": "code",
   "execution_count": 74,
   "metadata": {
    "collapsed": true
   },
   "outputs": [],
   "source": [
    "def tbd(X):\n",
    "    X = np.array(X)\n",
    "    X[:,0] /= 50\n",
    "    return X"
   ]
  },
  {
   "cell_type": "code",
   "execution_count": null,
   "metadata": {},
   "outputs": [],
   "source": [
    "#scale from -1 to 1\n",
    "X_train = [scale_to_one(X_train), tbd(X2_train)]\n",
    "X_val = [scale_to_one(X_val), tbd(X2_val)]\n",
    "X_test = [scale_to_one(X_test), tbd(X2_test)]\n",
    "X_train_orig = [scale_to_one(X_train_orig), tbd(X2_train_orig)]\n",
    "\n",
    "Y_train = np.array(Y_train)\n",
    "Y_val = np.array(Y_val)\n",
    "Y_test = np.array(Y_test)\n",
    "Y_train_orig = np.array(Y_train_orig)\n",
    "\n",
    "Z_train = np.array(Z_train)\n",
    "Z_test = np.array(Z_test)\n",
    "Z_train_orig = np.array(Z_train_orig)"
   ]
  },
  {
   "cell_type": "code",
   "execution_count": null,
   "metadata": {
    "collapsed": true
   },
   "outputs": [],
   "source": [
    "def supplement(X, Y):\n",
    "    y = np.array([cls_mapping[max(enumerate(x), key=operator.itemgetter(1))[0]] for x in Y])\n",
    "    for cls in classes_to_include:\n",
    "        cls_indices = np.where(y==cls)[0]\n",
    "        avg_X2 = np.mean(X[1][cls_indices[0]:cls_indices[-1]], axis=0)\n",
    "        \n",
    "        img_fns = os.listdir(C.artif_dir + cls)\n",
    "        imgs = []\n",
    "        for img_fn in img_fns:\n",
    "            imgs.append(np.load(C.artif_dir + cls + \"\\\\\" + img_fn))\n",
    "        \n",
    "        imgs = np.stack(imgs, axis=0)\n",
    "        X[0] = np.concatenate([X[0], imgs])\n",
    "        \n",
    "        X[1] = np.concatenate([X[1], np.tile(avg_X2, (len(img_fns),1))])\n",
    "        \n",
    "        Y = np.concatenate([Y, np.tile(Y[cls_indices[0]], (len(img_fns),1))])\n",
    "        \n",
    "    return X, Y"
   ]
  },
  {
   "cell_type": "code",
   "execution_count": 51,
   "metadata": {
    "collapsed": true
   },
   "outputs": [],
   "source": [
    "X_train2, Y_train2 = supplement(X_train, Y_train)"
   ]
  },
  {
   "cell_type": "markdown",
   "metadata": {},
   "source": [
    "X_train = [scale_to_one(X_train[0]), X_train[1]]\n",
    "X_val = [scale_to_one(X_val[0]), X_val[1]]\n",
    "X_test = [scale_to_one(X_test[0]), X_test[1]]\n",
    "X_train_orig = [scale_to_one(X_train_orig[0]), X_train_orig[1]]"
   ]
  },
  {
   "cell_type": "code",
   "execution_count": 54,
   "metadata": {},
   "outputs": [
    {
     "data": {
      "text/plain": [
       "15500"
      ]
     },
     "execution_count": 54,
     "metadata": {},
     "output_type": "execute_result"
    }
   ],
   "source": [
    "len(X_train2[0])"
   ]
  },
  {
   "cell_type": "code",
   "execution_count": 55,
   "metadata": {},
   "outputs": [
    {
     "data": {
      "text/plain": [
       "15500"
      ]
     },
     "execution_count": 55,
     "metadata": {},
     "output_type": "execute_result"
    }
   ],
   "source": [
    "len(X_train2[1])"
   ]
  },
  {
   "cell_type": "code",
   "execution_count": 57,
   "metadata": {},
   "outputs": [
    {
     "data": {
      "text/plain": [
       "15500"
      ]
     },
     "execution_count": 57,
     "metadata": {},
     "output_type": "execute_result"
    }
   ],
   "source": [
    "len(Y_train2)"
   ]
  },
  {
   "cell_type": "code",
   "execution_count": null,
   "metadata": {
    "scrolled": true
   },
   "outputs": [
    {
     "name": "stdout",
     "output_type": "stream",
     "text": [
      "Train on 13000 samples, validate on 3500 samples\n",
      "Epoch 1/200\n",
      " 9984/13000 [======================>.......] - ETA: 31s - loss: 1.3811 - acc: 0.3608"
     ]
    }
   ],
   "source": [
    "hist = model.fit(X_train, Y_train, batch_size=32, epochs=200, validation_data=(X_val, Y_val), callbacks=[early_stopping])"
   ]
  },
  {
   "cell_type": "markdown",
   "metadata": {},
   "source": [
    "def train_generator(X, Y):\n",
    "    while True:\n",
    "        for i in range(len(X)):\n",
    "            yield np.expand_dims(X[i], axis=0), np.expand_dims(Y[i], axis=0)"
   ]
  },
  {
   "cell_type": "markdown",
   "metadata": {},
   "source": [
    "num_epochs = 10\n",
    "epoch_length = 100\n",
    "best_loss = np.Inf\n",
    "losses = np.zeros(epoch_length)\n",
    "acc = np.zeros(epoch_length)\n",
    "\n",
    "data_gen_train = train_generator(X_train, Y_train)\n",
    "for epoch_num in range(num_epochs):\n",
    "    print('Epoch {}/{}'.format(epoch_num + 1, num_epochs))\n",
    "    iter_num = 0\n",
    "    \n",
    "    while True:\n",
    "        X, Y = next(data_gen_train)\n",
    "        losses[iter_num], acc[iter_num] = model.train_on_batch(X, Y)\n",
    "\n",
    "        iter_num += 1\n",
    "        if iter_num == epoch_length:\n",
    "            curr_loss = np.mean(losses)\n",
    "            curr_acc = np.mean(acc)\n",
    "            print(\"Mean Loss:\", curr_loss, \"// Mean Accuracy:\", curr_acc)\n",
    "\n",
    "            if curr_loss < best_loss:\n",
    "                print('Total loss decreased from {} to {}, saving weights'.format(best_loss,curr_loss))\n",
    "                best_loss = curr_loss\n",
    "                model.save_weights(C.model_path)\n",
    "            break"
   ]
  },
  {
   "cell_type": "markdown",
   "metadata": {},
   "source": [
    "np.mean((voi_df_art[voi_df_art['cls']==cls]['real_dx']*voi_df_art[voi_df_art['cls']==cls]['real_dy']*voi_df_art[voi_df_art['cls']==cls]['real_dz'])**(1/3))"
   ]
  },
  {
   "cell_type": "code",
   "execution_count": 16,
   "metadata": {},
   "outputs": [],
   "source": [
    "with open(C.small_voi_path, 'r') as csv_file:\n",
    "    reader = csv.reader(csv_file)\n",
    "    small_vois = dict(reader)\n",
    "    \n",
    "for key in small_vois:\n",
    "    small_vois[key] = [int(x) for x in small_vois[key][1:-1].split(', ')]"
   ]
  },
  {
   "cell_type": "code",
   "execution_count": 17,
   "metadata": {
    "collapsed": true
   },
   "outputs": [],
   "source": [
    "voi_df_art = pd.read_csv(C.art_voi_path)\n",
    "voi_df_ven = pd.read_csv(C.ven_voi_path)\n",
    "voi_df_eq = pd.read_csv(C.eq_voi_path)"
   ]
  },
  {
   "cell_type": "code",
   "execution_count": 20,
   "metadata": {},
   "outputs": [],
   "source": [
    "def save_output(Z, y_pred, cls_mapping):\n",
    "    save_dir = C.output_img_dir\n",
    "    for cls in classes_to_include:\n",
    "        if not os.path.exists(save_dir + \"\\\\correct\\\\\" + cls):\n",
    "            os.makedirs(save_dir + \"\\\\correct\\\\\" + cls)\n",
    "        if not os.path.exists(save_dir + \"\\\\incorrect\\\\\" + cls):\n",
    "            os.makedirs(save_dir + \"\\\\incorrect\\\\\" + cls)\n",
    "\n",
    "    for i in range(len(Z)):\n",
    "        if y_pred[i] != y_true[i]:\n",
    "            plot_multich_with_bbox(Z[i], cls_mapping[y_pred[i]], save_dir=save_dir + \"\\\\incorrect\\\\\" + cls_mapping[y_true[i]])\n",
    "        else:\n",
    "            plot_multich_with_bbox(Z[i], cls_mapping[y_pred[i]], save_dir=save_dir + \"\\\\correct\\\\\" + cls_mapping[y_true[i]])  "
   ]
  },
  {
   "cell_type": "code",
   "execution_count": 21,
   "metadata": {
    "collapsed": true
   },
   "outputs": [],
   "source": [
    "def draw_bbox(img_slice, final_dims, voi):\n",
    "    x1 = voi[0]\n",
    "    x2 = voi[1]\n",
    "    y1 = voi[2]\n",
    "    y2 = voi[3]\n",
    "    z1 = voi[4]\n",
    "    z2 = voi[5]\n",
    "    dx = x2 - x1\n",
    "    dy = y2 - y1\n",
    "    dz = z2 - z1\n",
    "    \n",
    "    buffer = 0.85\n",
    "    scale_ratios = [final_dims[0]/dx * buffer, final_dims[1]/dy * buffer, final_dims[2]/dz * buffer]\n",
    "    \n",
    "    crop = [img_slice.shape[i] - round(final_dims[i]/scale_ratios[i]) for i in range(2)]\n",
    "    \n",
    "    for i in range(2):\n",
    "        assert crop[i]>=0\n",
    "        \n",
    "    x1=crop[0]//2\n",
    "    x2=-crop[0]//2\n",
    "    y1=crop[1]//2\n",
    "    y2=-crop[1]//2\n",
    "        \n",
    "    img_slice[x1:x2, y2, 2, :] = 255\n",
    "    img_slice[x1:x2, y2, :2, :] = 0\n",
    "\n",
    "    img_slice[x1:x2, y1, 2, :] = 255\n",
    "    img_slice[x1:x2, y1, :2, :] = 0\n",
    "\n",
    "    img_slice[x1, y1:y2, 2, :] = 255\n",
    "    img_slice[x1, y1:y2, :2, :] = 0\n",
    "\n",
    "    img_slice[x2, y1:y2, 2, :] = 255\n",
    "    img_slice[x2, y1:y2, :2, :] = 0\n",
    "    \n",
    "    return img_slice"
   ]
  },
  {
   "cell_type": "code",
   "execution_count": 22,
   "metadata": {},
   "outputs": [],
   "source": [
    "def plot_multich_with_bbox(fn, pred_class, num_ch=3, save_dir=None):\n",
    "    if not os.path.exists(save_dir):\n",
    "        os.makedirs(save_dir)\n",
    "        \n",
    "    img_fn = fn[:fn.find('_')] + \".npy\"\n",
    "    voi = voi_df_art[(voi_df_art[\"Filename\"] == img_fn) &\n",
    "                     (voi_df_art[\"lesion_num\"] == int(fn[fn.find('_')+1:fn.rfind('.')]))].iloc[0]\n",
    "    \n",
    "    img = np.load(C.crops_dir + voi[\"cls\"] + \"\\\\\" + fn)\n",
    "    img_slice = img[:,:, img.shape[2]//2, :].astype(float)\n",
    "    for ch in range(img_slice.shape[-1]):\n",
    "        img_slice[:, :, ch] *= 255/np.amax(img_slice[:, :, ch])\n",
    "    img_slice = np.stack([img_slice, img_slice, img_slice], axis=2)\n",
    "    \n",
    "    img_slice = draw_bbox(img_slice, C.dims, small_vois[fn[:-4]])\n",
    "        \n",
    "    ch1 = np.transpose(img_slice[:,::-1,:,0], (1,0,2))\n",
    "    ch2 = np.transpose(img_slice[:,::-1,:,1], (1,0,2))\n",
    "    \n",
    "    if num_ch == 2:\n",
    "        ret = np.empty([ch1.shape[0]*2, ch1.shape[1], 3])\n",
    "        ret[:ch1.shape[0],:,:] = ch1\n",
    "        ret[ch1.shape[0]:,:,:] = ch2\n",
    "        \n",
    "    elif num_ch == 3:\n",
    "        ch3 = np.transpose(img_slice[:,::-1,:,2], (1,0,2))\n",
    "\n",
    "        ret = np.empty([ch1.shape[0]*3, ch1.shape[1], 3])\n",
    "        ret[:ch1.shape[0],:,:] = ch1\n",
    "        ret[ch1.shape[0]:ch1.shape[0]*2,:,:] = ch2\n",
    "        ret[ch1.shape[0]*2:,:,:] = ch3\n",
    "        \n",
    "    else:\n",
    "        raise ValueError(\"Invalid num channels\")\n",
    "        \n",
    "    imsave(\"%s\\\\%s (pred %s).png\" % (save_dir, fn[:-4], pred_class), ret)"
   ]
  },
  {
   "cell_type": "code",
   "execution_count": 23,
   "metadata": {
    "collapsed": true
   },
   "outputs": [],
   "source": [
    "def condense_cm(y_true, y_pred, cls_mapping):\n",
    "    simplify_map = {'hcc': 0, 'cyst': 1, 'hemangioma': 1, 'fnh': 1, 'cholangio': 2, 'colorectal': 2}\n",
    "    y_true_simp = np.array([simplify_map[cls_mapping[y]] for y in y_true])\n",
    "    y_pred_simp = np.array([simplify_map[cls_mapping[y]] for y in y_pred])\n",
    "    \n",
    "    return y_true_simp, y_pred_simp, ['hcc', 'benign', 'malignant non-hcc']"
   ]
  },
  {
   "cell_type": "code",
   "execution_count": 24,
   "metadata": {
    "scrolled": true
   },
   "outputs": [
    {
     "data": {
      "text/plain": [
       "['hemangioma', 'colorectal', 'hcc', 'cholangio', 'cyst']"
      ]
     },
     "execution_count": 24,
     "metadata": {},
     "output_type": "execute_result"
    }
   ],
   "source": [
    "cls_mapping"
   ]
  },
  {
   "cell_type": "code",
   "execution_count": 62,
   "metadata": {
    "scrolled": true
   },
   "outputs": [],
   "source": [
    "#plot_with_bbox(fn_list[2], cls_mapping[wrong_guesses[2]])\n",
    "Y_pred = model.predict(X_test)\n",
    "y_true = np.array([max(enumerate(x), key=operator.itemgetter(1))[0] for x in Y_test])\n",
    "y_pred = np.array([max(enumerate(x), key=operator.itemgetter(1))[0] for x in Y_pred])\n",
    "\n",
    "cm = confusion_matrix(y_true, y_pred)\n",
    "f1 = f1_score(y_true, y_pred, average=\"weighted\")\n",
    "\n",
    "#save_output(Z_test, y_pred, cls_mapping)"
   ]
  },
  {
   "cell_type": "code",
   "execution_count": 25,
   "metadata": {
    "scrolled": true
   },
   "outputs": [],
   "source": [
    "Y_pred = model.predict(X_train_orig)\n",
    "y_true = np.array([max(enumerate(x), key=operator.itemgetter(1))[0] for x in Y_train_orig])\n",
    "y_pred = np.array([max(enumerate(x), key=operator.itemgetter(1))[0] for x in Y_pred])\n",
    "\n",
    "cm = confusion_matrix(y_true, y_pred)\n",
    "f1 = f1_score(y_true, y_pred, average=\"weighted\")\n",
    "\n",
    "save_output(Z_train_orig, y_pred, cls_mapping)"
   ]
  },
  {
   "cell_type": "code",
   "execution_count": 34,
   "metadata": {
    "collapsed": true
   },
   "outputs": [],
   "source": [
    "simplify_map = {'hcc': 0, 'cyst': 1, 'hemangioma': 1, 'fnh': 1, 'cholangio': 2, 'colorectal': 2}"
   ]
  },
  {
   "cell_type": "code",
   "execution_count": 64,
   "metadata": {},
   "outputs": [],
   "source": [
    "y_true_simp, y_pred_simp, _ = condense_cm(y_true, y_pred, cls_mapping)"
   ]
  },
  {
   "cell_type": "code",
   "execution_count": 95,
   "metadata": {
    "scrolled": false
   },
   "outputs": [
    {
     "data": {
      "text/plain": [
       "['cholangio', 'cyst', 'hemangioma', 'hcc', 'colorectal']"
      ]
     },
     "execution_count": 95,
     "metadata": {},
     "output_type": "execute_result"
    }
   ],
   "source": [
    "cls_mapping"
   ]
  },
  {
   "cell_type": "code",
   "execution_count": 97,
   "metadata": {
    "scrolled": false
   },
   "outputs": [
    {
     "data": {
      "text/plain": [
       "array([[ 6,  0,  3,  2,  2],\n",
       "       [ 0, 10,  2,  0,  1],\n",
       "       [ 1,  1,  8,  0,  2],\n",
       "       [ 1,  1,  0,  7,  2],\n",
       "       [ 1,  0,  6,  0,  7]], dtype=int64)"
      ]
     },
     "execution_count": 97,
     "metadata": {},
     "output_type": "execute_result"
    }
   ],
   "source": [
    "cm"
   ]
  },
  {
   "cell_type": "code",
   "execution_count": 65,
   "metadata": {
    "scrolled": false
   },
   "outputs": [
    {
     "data": {
      "text/plain": [
       "0.81538461538461537"
      ]
     },
     "execution_count": 65,
     "metadata": {},
     "output_type": "execute_result"
    }
   ],
   "source": [
    "accuracy_score(y_true_simp, y_pred_simp)"
   ]
  },
  {
   "cell_type": "code",
   "execution_count": 63,
   "metadata": {
    "scrolled": true
   },
   "outputs": [
    {
     "data": {
      "text/plain": [
       "0.67692307692307696"
      ]
     },
     "execution_count": 63,
     "metadata": {},
     "output_type": "execute_result"
    }
   ],
   "source": [
    "accuracy_score(y_true, y_pred)"
   ]
  },
  {
   "cell_type": "markdown",
   "metadata": {},
   "source": [
    "4 cls: 94/94%, 86/88%, 86%/90%\n",
    "5 cls: 80%/89%, \n"
   ]
  },
  {
   "cell_type": "code",
   "execution_count": 365,
   "metadata": {
    "collapsed": true
   },
   "outputs": [],
   "source": [
    "fn_list = Z_test[~np.equal(y_pred, y_true)]\n",
    "wrong_guesses = np.array(y_pred)[~np.equal(y_pred, y_true)]"
   ]
  },
  {
   "cell_type": "code",
   "execution_count": 409,
   "metadata": {
    "scrolled": true
   },
   "outputs": [
    {
     "data": {
      "text/plain": [
       "array(['E100815762_0.npy', '12239513_0.npy', '12042703_2.npy'],\n",
       "      dtype='<U16')"
      ]
     },
     "execution_count": 409,
     "metadata": {},
     "output_type": "execute_result"
    }
   ],
   "source": [
    "Z_test[~np.equal(y_pred, y_true)]"
   ]
  },
  {
   "cell_type": "code",
   "execution_count": 21,
   "metadata": {
    "scrolled": true
   },
   "outputs": [
    {
     "data": {
      "text/html": [
       "<div>\n",
       "<style>\n",
       "    .dataframe thead tr:only-child th {\n",
       "        text-align: right;\n",
       "    }\n",
       "\n",
       "    .dataframe thead th {\n",
       "        text-align: left;\n",
       "    }\n",
       "\n",
       "    .dataframe tbody tr th {\n",
       "        vertical-align: top;\n",
       "    }\n",
       "</style>\n",
       "<table border=\"1\" class=\"dataframe\">\n",
       "  <thead>\n",
       "    <tr style=\"text-align: right;\">\n",
       "      <th></th>\n",
       "      <th>Filename</th>\n",
       "      <th>x1</th>\n",
       "      <th>x2</th>\n",
       "      <th>y1</th>\n",
       "      <th>y2</th>\n",
       "      <th>z1</th>\n",
       "      <th>z2</th>\n",
       "      <th>cls</th>\n",
       "      <th>flipz</th>\n",
       "      <th>dx</th>\n",
       "      <th>dy</th>\n",
       "      <th>dz</th>\n",
       "      <th>id</th>\n",
       "    </tr>\n",
       "  </thead>\n",
       "  <tbody>\n",
       "    <tr>\n",
       "      <th>119</th>\n",
       "      <td>12673726.npy</td>\n",
       "      <td>105</td>\n",
       "      <td>134</td>\n",
       "      <td>76</td>\n",
       "      <td>101</td>\n",
       "      <td>40</td>\n",
       "      <td>53</td>\n",
       "      <td>hemangioma</td>\n",
       "      <td>True</td>\n",
       "      <td>29</td>\n",
       "      <td>25</td>\n",
       "      <td>13</td>\n",
       "      <td>126737261057640</td>\n",
       "    </tr>\n",
       "    <tr>\n",
       "      <th>120</th>\n",
       "      <td>12673726.npy</td>\n",
       "      <td>127</td>\n",
       "      <td>139</td>\n",
       "      <td>103</td>\n",
       "      <td>117</td>\n",
       "      <td>44</td>\n",
       "      <td>51</td>\n",
       "      <td>hemangioma</td>\n",
       "      <td>True</td>\n",
       "      <td>12</td>\n",
       "      <td>14</td>\n",
       "      <td>7</td>\n",
       "      <td>1267372612710344</td>\n",
       "    </tr>\n",
       "  </tbody>\n",
       "</table>\n",
       "</div>"
      ],
      "text/plain": [
       "         Filename   x1   x2   y1   y2  z1  z2         cls  flipz  dx  dy  dz  \\\n",
       "119  12673726.npy  105  134   76  101  40  53  hemangioma   True  29  25  13   \n",
       "120  12673726.npy  127  139  103  117  44  51  hemangioma   True  12  14   7   \n",
       "\n",
       "                   id  \n",
       "119   126737261057640  \n",
       "120  1267372612710344  "
      ]
     },
     "execution_count": 21,
     "metadata": {},
     "output_type": "execute_result"
    }
   ],
   "source": [
    "voi_df_art[voi_df_art[\"Filename\"] == \"12673726.npy\"]"
   ]
  },
  {
   "cell_type": "code",
   "execution_count": 22,
   "metadata": {
    "scrolled": true
   },
   "outputs": [
    {
     "data": {
      "text/html": [
       "<div>\n",
       "<style>\n",
       "    .dataframe thead tr:only-child th {\n",
       "        text-align: right;\n",
       "    }\n",
       "\n",
       "    .dataframe thead th {\n",
       "        text-align: left;\n",
       "    }\n",
       "\n",
       "    .dataframe tbody tr th {\n",
       "        vertical-align: top;\n",
       "    }\n",
       "</style>\n",
       "<table border=\"1\" class=\"dataframe\">\n",
       "  <thead>\n",
       "    <tr style=\"text-align: right;\">\n",
       "      <th></th>\n",
       "      <th>id</th>\n",
       "      <th>x1</th>\n",
       "      <th>x2</th>\n",
       "      <th>y1</th>\n",
       "      <th>y2</th>\n",
       "      <th>z1</th>\n",
       "      <th>z2</th>\n",
       "      <th>dx</th>\n",
       "      <th>dy</th>\n",
       "      <th>dz</th>\n",
       "    </tr>\n",
       "  </thead>\n",
       "  <tbody>\n",
       "    <tr>\n",
       "      <th>74</th>\n",
       "      <td>1267372612710344</td>\n",
       "      <td>127</td>\n",
       "      <td>139</td>\n",
       "      <td>103</td>\n",
       "      <td>117</td>\n",
       "      <td>44</td>\n",
       "      <td>52</td>\n",
       "      <td>12</td>\n",
       "      <td>14</td>\n",
       "      <td>8</td>\n",
       "    </tr>\n",
       "  </tbody>\n",
       "</table>\n",
       "</div>"
      ],
      "text/plain": [
       "                  id   x1   x2   y1   y2  z1  z2  dx  dy  dz\n",
       "74  1267372612710344  127  139  103  117  44  52  12  14   8"
      ]
     },
     "execution_count": 22,
     "metadata": {},
     "output_type": "execute_result"
    }
   ],
   "source": [
    "voi_df_ven[voi_df_ven[\"id\"] == \"1267372612710344\"]"
   ]
  },
  {
   "cell_type": "markdown",
   "metadata": {
    "collapsed": true
   },
   "source": [
    "activ = model2.predict(X_train)\n",
    "#activ = model2.predict(np.expand_dims(X_train[10],axis=0))"
   ]
  },
  {
   "cell_type": "code",
   "execution_count": 316,
   "metadata": {
    "scrolled": true
   },
   "outputs": [
    {
     "name": "stdout",
     "output_type": "stream",
     "text": [
      "Predictions: ['hcc (95.75861% confidence)', 'hcc (99.98515% confidence)', 'hcc (56.77554% confidence)', 'hcc (97.68384% confidence)', 'hcc (96.73136% confidence)', 'hcc (99.99979% confidence)', 'hcc (99.99988% confidence)', 'hcc (99.71866% confidence)', 'cyst (63.61439% confidence)', 'cyst (51.41591% confidence)', 'hcc (99.65365% confidence)', 'hcc (52.72004% confidence)', 'hcc (57.44457% confidence)', 'cyst (99.82330% confidence)', 'cyst (83.69393% confidence)']\n"
     ]
    }
   ],
   "source": [
    "import operator\n",
    "#print(\"Ground truth:\", [cls_mapping[max(enumerate(x), key=operator.itemgetter(1))[0]] for x in Y_val[::30]])\n",
    "Y_ = model.predict(X_test)\n",
    "print(\"Predictions:\", [cls_mapping[max(enumerate(x), key=operator.itemgetter(1))[0]] + \" (%.5f%% confidence)\" % (max(x)*100) for x in Y_])"
   ]
  },
  {
   "cell_type": "code",
   "execution_count": 86,
   "metadata": {
    "scrolled": false
   },
   "outputs": [
    {
     "name": "stdout",
     "output_type": "stream",
     "text": [
      "0.20054101943969727\n"
     ]
    }
   ],
   "source": [
    "a=time.time()\n",
    "Y_ = model.predict(X_val)\n",
    "print(time.time()-a)"
   ]
  },
  {
   "cell_type": "code",
   "execution_count": 136,
   "metadata": {
    "collapsed": true
   },
   "outputs": [],
   "source": [
    "import matplotlib.pyplot as plt\n",
    "%matplotlib inline"
   ]
  }
 ],
 "metadata": {
  "kernelspec": {
   "display_name": "Python 3",
   "language": "python",
   "name": "python3"
  },
  "language_info": {
   "codemirror_mode": {
    "name": "ipython",
    "version": 3
   },
   "file_extension": ".py",
   "mimetype": "text/x-python",
   "name": "python",
   "nbconvert_exporter": "python",
   "pygments_lexer": "ipython3",
   "version": "3.5.0"
  }
 },
 "nbformat": 4,
 "nbformat_minor": 2
}
