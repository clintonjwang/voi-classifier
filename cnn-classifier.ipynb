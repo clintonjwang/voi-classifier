{
 "cells": [
  {
   "cell_type": "code",
   "execution_count": 15,
   "metadata": {},
   "outputs": [],
   "source": [
    "import keras.backend as K\n",
    "from keras.layers import Input, Add, Dense, Activation, Concatenate, Flatten, Dropout, Conv3D, MaxPooling3D, ZeroPadding3D, AveragePooling3D, TimeDistributed\n",
    "from keras.models import Model\n",
    "from keras.regularizers import l1, l2\n",
    "from keras.optimizers import Adam, SGD\n",
    "from keras.constraints import max_norm\n",
    "from keras.layers.noise import GaussianNoise\n",
    "from keras.callbacks import EarlyStopping\n",
    "from keras.utils import np_utils\n",
    "from sklearn.metrics import confusion_matrix, f1_score, accuracy_score\n",
    "import operator\n",
    "import matplotlib.pyplot as plt\n",
    "import config\n",
    "import importlib\n",
    "import math\n",
    "import os\n",
    "import copy\n",
    "import pandas as pd\n",
    "import re\n",
    "import numpy as np\n",
    "import helper_fxns as hf\n",
    "import transforms as tr\n",
    "from scipy.misc import imsave\n",
    "import tensorflow as tf\n",
    "%matplotlib inline"
   ]
  },
  {
   "cell_type": "markdown",
   "metadata": {},
   "source": [
    "from keras.datasets import mnist\n",
    "\n",
    "(x_train, y_train), (x_test, y_test) = mnist.load_data()\n",
    "\n",
    "nb_classes = C.nb_classes\n",
    "\n",
    "X_train = np.expand_dims(x_train,axis=3)\n",
    "X_train = np.expand_dims(X_train,axis=4)\n",
    "X_test = np.expand_dims(x_test,axis=3)\n",
    "X_test = np.expand_dims(X_test,axis=4)\n",
    "X_train = X_train.astype('float32')\n",
    "X_test = X_test.astype('float32')\n",
    "X_train /= 255\n",
    "X_test /= 255\n",
    "Y_train = np_utils.to_categorical(y_train, nb_classes)\n",
    "Y_test = np_utils.to_categorical(y_test, nb_classes)"
   ]
  },
  {
   "cell_type": "code",
   "execution_count": 86,
   "metadata": {
    "scrolled": true
   },
   "outputs": [],
   "source": [
    "importlib.reload(config)\n",
    "C = config.Config()"
   ]
  },
  {
   "cell_type": "code",
   "execution_count": 17,
   "metadata": {
    "collapsed": true
   },
   "outputs": [],
   "source": [
    "classes_to_include = ['cyst', 'hcc', 'hemangioma', 'colorectal', 'fnh', 'cholangio']"
   ]
  },
  {
   "cell_type": "code",
   "execution_count": 89,
   "metadata": {
    "collapsed": true,
    "scrolled": true
   },
   "outputs": [],
   "source": [
    "dims = C.dims\n",
    "voi_img = Input(shape=(dims[0], dims[1], dims[2], C.nb_channels))\n",
    "x = voi_img\n",
    "#x = GaussianNoise(1)(x)\n",
    "x = ZeroPadding3D(padding=(3,3,1))(voi_img)\n",
    "x = Conv3D(filters=32, kernel_size=(3,3,1), activation='relu', kernel_constraint=max_norm(4.))(x)\n",
    "x = Dropout(0.5)(x)\n",
    "x = MaxPooling3D((2, 2, 1))(x)\n",
    "x = Conv3D(filters=64, kernel_size=(3,3,2), activation='relu', kernel_constraint=max_norm(4.))(x)\n",
    "x = Dropout(0.5)(x)\n",
    "x = Conv3D(filters=64, kernel_size=(2,2,2), activation='relu', kernel_constraint=max_norm(4.))(x)\n",
    "x = Dropout(0.5)(x)\n",
    "x = Flatten()(x)\n",
    "x = Dense(64, activation='relu', kernel_constraint=max_norm(4.))(x)#, kernel_initializer='normal', kernel_regularizer=l1(.01), kernel_constraint=max_norm(3.))(x)\n",
    "x = Dropout(0.5)(x)\n",
    "pred_class = Dense(C.nb_classes, activation='softmax')(x)#Dense(C.nb_classes, activation='softmax')(x)"
   ]
  },
  {
   "cell_type": "code",
   "execution_count": 90,
   "metadata": {
    "scrolled": true
   },
   "outputs": [
    {
     "name": "stdout",
     "output_type": "stream",
     "text": [
      "_________________________________________________________________\n",
      "Layer (type)                 Output Shape              Param #   \n",
      "=================================================================\n",
      "input_6 (InputLayer)         (None, 24, 24, 12, 2)     0         \n",
      "_________________________________________________________________\n",
      "zero_padding3d_6 (ZeroPaddin (None, 30, 30, 14, 2)     0         \n",
      "_________________________________________________________________\n",
      "conv3d_13 (Conv3D)           (None, 28, 28, 14, 32)    608       \n",
      "_________________________________________________________________\n",
      "dropout_18 (Dropout)         (None, 28, 28, 14, 32)    0         \n",
      "_________________________________________________________________\n",
      "max_pooling3d_7 (MaxPooling3 (None, 14, 14, 14, 32)    0         \n",
      "_________________________________________________________________\n",
      "conv3d_14 (Conv3D)           (None, 12, 12, 13, 64)    36928     \n",
      "_________________________________________________________________\n",
      "dropout_19 (Dropout)         (None, 12, 12, 13, 64)    0         \n",
      "_________________________________________________________________\n",
      "conv3d_15 (Conv3D)           (None, 11, 11, 12, 64)    32832     \n",
      "_________________________________________________________________\n",
      "dropout_20 (Dropout)         (None, 11, 11, 12, 64)    0         \n",
      "_________________________________________________________________\n",
      "flatten_6 (Flatten)          (None, 92928)             0         \n",
      "_________________________________________________________________\n",
      "dense_11 (Dense)             (None, 64)                5947456   \n",
      "_________________________________________________________________\n",
      "dropout_21 (Dropout)         (None, 64)                0         \n",
      "_________________________________________________________________\n",
      "dense_12 (Dense)             (None, 3)                 195       \n",
      "=================================================================\n",
      "Total params: 6,018,019\n",
      "Trainable params: 6,018,019\n",
      "Non-trainable params: 0\n",
      "_________________________________________________________________\n"
     ]
    }
   ],
   "source": [
    "optim = Adam(lr=0.01)#, decay=0.001)\n",
    "early_stopping = EarlyStopping(min_delta=0.001, patience=10)\n",
    "\n",
    "model = Model(voi_img, pred_class)\n",
    "model.compile(optimizer='adam', loss='categorical_crossentropy', metrics=['accuracy'])\n",
    "model.summary()"
   ]
  },
  {
   "cell_type": "markdown",
   "metadata": {
    "collapsed": true
   },
   "source": [
    "model2 = Model(voi_img, intermed)\n",
    "\n",
    "for l in range(2,len(model2.layers)):\n",
    "    model2.layers[l].set_weights(model.layers[l].get_weights())"
   ]
  },
  {
   "cell_type": "code",
   "execution_count": 71,
   "metadata": {
    "scrolled": false
   },
   "outputs": [],
   "source": [
    "orig_data_dict = {}\n",
    "num_samples = {}\n",
    "\n",
    "def collect_data(classes_to_include, C):\n",
    "    for class_name in classes_to_include:\n",
    "        x = np.empty((10000, C.dims[0], C.dims[1], C.dims[2], C.nb_channels))\n",
    "        z = []\n",
    "\n",
    "        for index, img_fn in enumerate(os.listdir(C.orig_dir+class_name)):\n",
    "            try:\n",
    "                x[index] = np.load(C.orig_dir+class_name+\"\\\\\"+img_fn)\n",
    "            except:\n",
    "                raise ValueError(C.orig_dir+class_name+\"\\\\\"+img_fn + \" not found\")\n",
    "            z.append(img_fn)\n",
    "\n",
    "        x.resize((index, dims[0], dims[1], dims[2], C.nb_channels)) #shrink first dimension to fit\n",
    "        orig_data_dict[class_name] = [x,np.array(z)]\n",
    "        num_samples[class_name] = index\n",
    "        \n",
    "    return orig_data_dict, num_samples"
   ]
  },
  {
   "cell_type": "code",
   "execution_count": 72,
   "metadata": {},
   "outputs": [
    {
     "name": "stdout",
     "output_type": "stream",
     "text": [
      "{'hcc': 63, 'cyst': 70, 'hemangioma': 40}\n"
     ]
    }
   ],
   "source": [
    "orig_data_dict, num_samples = collect_data(classes_to_include, C)\n",
    "print(num_samples)"
   ]
  },
  {
   "cell_type": "code",
   "execution_count": 73,
   "metadata": {
    "scrolled": true
   },
   "outputs": [
    {
     "name": "stdout",
     "output_type": "stream",
     "text": [
      "hcc has 47 samples for training (2350 after augmentation) and 16 for testing\n",
      "cyst has 52 samples for training (2600 after augmentation) and 18 for testing\n",
      "hemangioma has 30 samples for training (1500 after augmentation) and 10 for testing\n"
     ]
    }
   ],
   "source": [
    "train_ids = {} #filenames of training set originals\n",
    "test_ids = {} #filenames of test set\n",
    "X_test = []\n",
    "Y_test = []\n",
    "Z_test = []\n",
    "X_train_orig = []\n",
    "Y_train_orig = []\n",
    "Z_train_orig = []\n",
    "cls_mapping = []\n",
    "\n",
    "train_frac = {\"cyst\": .75, \"fnh\": .75, \"hcc\": .75, \"hemangioma\": .75, 'adenoma': .75, \"colorectal\": .75}\n",
    "train_samples = {}\n",
    "\n",
    "for cls_num, cls in enumerate(orig_data_dict):\n",
    "    cls_mapping.append(cls)\n",
    "    \n",
    "    train_samples[cls] = round(num_samples[cls]*train_frac[cls])\n",
    "    \n",
    "    order = np.random.permutation(list(range(num_samples[cls])))\n",
    "    train_ids[cls] = list(orig_data_dict[cls][1][order[:train_samples[cls]]])\n",
    "    test_ids[cls] = list(orig_data_dict[cls][1][order[train_samples[cls]:]])\n",
    "    \n",
    "    X_test = X_test + list(orig_data_dict[cls][0][order[train_samples[cls]:]])\n",
    "    Y_test = Y_test + [[0] * cls_num + [1] + [0] * (C.nb_classes - cls_num - 1)] * \\\n",
    "                        (num_samples[cls] - train_samples[cls])\n",
    "    Z_test = Z_test + list(orig_data_dict[cls][1][order[train_samples[cls]:]])\n",
    "    \n",
    "    X_train_orig = X_train_orig + list(orig_data_dict[cls][0][order[:train_samples[cls]]])\n",
    "    Y_train_orig = Y_train_orig + [[0] * cls_num + [1] + [0] * (C.nb_classes - cls_num - 1)] * \\\n",
    "                        (train_samples[cls])\n",
    "    Z_train_orig = Z_train_orig + list(orig_data_dict[cls][1][order[:train_samples[cls]]])\n",
    "    \n",
    "    print(\"%s has %d samples for training (%d after augmentation) and %d for testing\" %\n",
    "          (cls, train_samples[cls], train_samples[cls] * C.aug_factor[cls], num_samples[cls] - train_samples[cls]))"
   ]
  },
  {
   "cell_type": "code",
   "execution_count": 74,
   "metadata": {},
   "outputs": [
    {
     "data": {
      "text/plain": [
       "{'cyst': 52, 'hcc': 47, 'hemangioma': 30}"
      ]
     },
     "execution_count": 74,
     "metadata": {},
     "output_type": "execute_result"
    }
   ],
   "source": [
    "train_samples"
   ]
  },
  {
   "cell_type": "code",
   "execution_count": 75,
   "metadata": {},
   "outputs": [],
   "source": [
    "aug_data_dict = {}\n",
    "\n",
    "for class_name in classes_to_include:#os.listdir(C.aug_dir):\n",
    "    x_train = np.empty((10000, dims[0], dims[1], dims[2], C.nb_channels))\n",
    "    x_val = np.empty((10000, dims[0], dims[1], dims[2], C.nb_channels))\n",
    "    z = []\n",
    "    \n",
    "    train_cnt = 0\n",
    "    val_cnt = 0\n",
    "    for img_fn in os.listdir(C.aug_dir+class_name):\n",
    "        \n",
    "        # part of training set\n",
    "        if \"_\".join(img_fn.split(\"_\")[:2])+\".npy\" in train_ids[class_name]:\n",
    "            try:\n",
    "                x_train[train_cnt] = np.load(C.aug_dir+class_name+\"\\\\\"+img_fn)\n",
    "            except:\n",
    "                #continue\n",
    "                raise ValueError(C.aug_dir+class_name+\"\\\\\"+img_fn + \" cannot be loaded\")\n",
    "            train_cnt += 1\n",
    "            z.append(img_fn)\n",
    "            \n",
    "        else:\n",
    "            try:\n",
    "                x_val[val_cnt] = np.load(C.aug_dir+class_name+\"\\\\\"+img_fn)\n",
    "            except:\n",
    "                #continue\n",
    "                raise ValueError(C.aug_dir+class_name+\"\\\\\"+img_fn + \" cannot be loaded\")\n",
    "            val_cnt += 1\n",
    "    \n",
    "    x_train.resize((train_cnt, dims[0], dims[1], dims[2], C.nb_channels)) #shrink first dimension to fit\n",
    "    x_val.resize((val_cnt, dims[0], dims[1], dims[2], C.nb_channels)) #shrink first dimension to fit\n",
    "    aug_data_dict[class_name] = {'train': [x_train,np.array(z)], 'val': x_val}"
   ]
  },
  {
   "cell_type": "code",
   "execution_count": 76,
   "metadata": {
    "collapsed": true
   },
   "outputs": [],
   "source": [
    "X_train = []\n",
    "Y_train = []\n",
    "Z_train = []\n",
    "X_val = []\n",
    "Y_val = []\n",
    "Z_val = []\n",
    "\n",
    "for cls_num, cls in enumerate(aug_data_dict):\n",
    "    X_train = X_train + list(aug_data_dict[cls]['train'][0])\n",
    "    Y_train = Y_train + [[0] * cls_num + [1] + [0] * (C.nb_classes - cls_num - 1)] * len(aug_data_dict[cls]['train'][0])\n",
    "    Z_train = Z_train + list(aug_data_dict[cls]['train'][1])\n",
    "    \n",
    "    X_val = X_val + list(aug_data_dict[cls]['val'])\n",
    "    Y_val = Y_val + [[0] * cls_num + [1] + [0] * (C.nb_classes - cls_num - 1)] * len(aug_data_dict[cls]['val'])"
   ]
  },
  {
   "cell_type": "markdown",
   "metadata": {
    "collapsed": true
   },
   "source": [
    "Z_cyst = data_dict[\"cyst\"][1]"
   ]
  },
  {
   "cell_type": "markdown",
   "metadata": {},
   "source": [
    "Y_[-4]"
   ]
  },
  {
   "cell_type": "markdown",
   "metadata": {},
   "source": [
    "Z_cyst[-4]"
   ]
  },
  {
   "cell_type": "markdown",
   "metadata": {
    "collapsed": true
   },
   "source": [
    "X_cyst = data_dict[\"cyst\"][0]\n",
    "X_cyst = np.array(X_cyst) # X[:total_size//2]\n",
    "X_cyst /= 255"
   ]
  },
  {
   "cell_type": "markdown",
   "metadata": {
    "collapsed": true
   },
   "source": [
    "X_hcc = data_dict[\"hcc\"][0]\n",
    "X_hcc = np.array(X_hcc) # X[:total_size//2]\n",
    "X_hcc /= 255"
   ]
  },
  {
   "cell_type": "markdown",
   "metadata": {
    "collapsed": true
   },
   "source": [
    "X_train = delete_channel(X_train)\n",
    "X_val = delete_channel(X_val)\n",
    "X_test = delete_channel(X_test)\n",
    "X_train_orig = delete_channel(X_train_orig)"
   ]
  },
  {
   "cell_type": "markdown",
   "metadata": {
    "collapsed": true
   },
   "source": [
    "def delete_channel(X):\n",
    "    return np.expand_dims(np.array(X)[:,:,:,:,0], axis=4)"
   ]
  },
  {
   "cell_type": "code",
   "execution_count": 77,
   "metadata": {
    "collapsed": true
   },
   "outputs": [],
   "source": [
    "def scale_to_one(X, scale_by_channel=False):\n",
    "    X = np.array(X)\n",
    "    def scale_img(x):\n",
    "        return 1 * (x - np.amin(x)) / (np.amax(x) - np.amin(x)) - 0\n",
    "    \n",
    "    if scale_by_channel:\n",
    "        X = [np.stack([scale_img(x[:,:,:,0]), scale_img(x[:,:,:,1])], axis=3) for x in X]\n",
    "    else:\n",
    "        X = [scale_img(x) for x in X]\n",
    "    \n",
    "    return np.array(X)"
   ]
  },
  {
   "cell_type": "code",
   "execution_count": 78,
   "metadata": {},
   "outputs": [],
   "source": [
    "#scale from -1 to 1\n",
    "X_train = scale_to_one(X_train)\n",
    "X_val = scale_to_one(X_val)\n",
    "X_test = scale_to_one(X_test)\n",
    "X_train_orig = scale_to_one(X_train_orig)\n",
    "\n",
    "Y_train = np.array(Y_train)\n",
    "Y_val = np.array(Y_val)\n",
    "Y_train_orig = np.array(Y_train_orig)\n",
    "\n",
    "Z_train = np.array(Z_train)\n",
    "Z_test = np.array(Z_test)\n",
    "Z_train_orig = np.array(Z_train_orig)"
   ]
  },
  {
   "cell_type": "code",
   "execution_count": 28,
   "metadata": {
    "collapsed": true
   },
   "outputs": [],
   "source": [
    "#X = np.array([z for z in x])\n",
    "#Y = np.array(y)\n",
    "#Y = np.array([[0,1] if y[x] == 1 else [1,0] for x in range(len(y))])\n",
    "#Y = K.constant(y, dtype=tf.int32)\n",
    "#Y = K.one_hot(Y, C.nb_classes)\n",
    "\n",
    "#total_size = X.shape[0]\n",
    "\n",
    "#order = np.random.permutation(list(range(total_size)))\n",
    "#X = X[order]\n",
    "#Y = Y[order]"
   ]
  },
  {
   "cell_type": "code",
   "execution_count": 91,
   "metadata": {
    "scrolled": true
   },
   "outputs": [
    {
     "name": "stdout",
     "output_type": "stream",
     "text": [
      "Train on 6105 samples, validate on 2225 samples\n",
      "Epoch 1/200\n",
      "6105/6105 [==============================] - 14s - loss: 1.0569 - acc: 0.4486 - val_loss: 0.9938 - val_acc: 0.6112\n",
      "Epoch 2/200\n",
      "6105/6105 [==============================] - 13s - loss: 0.7536 - acc: 0.6333 - val_loss: 0.6956 - val_acc: 0.6724\n",
      "Epoch 3/200\n",
      "6105/6105 [==============================] - 13s - loss: 0.6170 - acc: 0.7002 - val_loss: 0.6623 - val_acc: 0.6742\n",
      "Epoch 4/200\n",
      "6105/6105 [==============================] - 13s - loss: 0.5628 - acc: 0.7278 - val_loss: 0.6090 - val_acc: 0.6818\n",
      "Epoch 5/200\n",
      "6105/6105 [==============================] - 13s - loss: 0.5058 - acc: 0.7525 - val_loss: 0.6411 - val_acc: 0.6566\n",
      "Epoch 6/200\n",
      "6105/6105 [==============================] - 13s - loss: 0.4678 - acc: 0.7769 - val_loss: 0.5652 - val_acc: 0.7411\n",
      "Epoch 7/200\n",
      "6105/6105 [==============================] - 13s - loss: 0.4235 - acc: 0.8036 - val_loss: 0.5022 - val_acc: 0.7811\n",
      "Epoch 8/200\n",
      "6105/6105 [==============================] - 13s - loss: 0.3789 - acc: 0.8278 - val_loss: 0.5762 - val_acc: 0.7204\n",
      "Epoch 9/200\n",
      "6105/6105 [==============================] - 13s - loss: 0.3622 - acc: 0.8380 - val_loss: 0.5278 - val_acc: 0.7825\n",
      "Epoch 10/200\n",
      "6105/6105 [==============================] - 13s - loss: 0.3324 - acc: 0.8534 - val_loss: 0.5150 - val_acc: 0.7829\n",
      "Epoch 11/200\n",
      "6105/6105 [==============================] - 13s - loss: 0.2983 - acc: 0.8729 - val_loss: 0.5174 - val_acc: 0.7712\n",
      "Epoch 12/200\n",
      "6105/6105 [==============================] - 13s - loss: 0.2770 - acc: 0.8829 - val_loss: 0.4079 - val_acc: 0.8328\n",
      "Epoch 13/200\n",
      "6105/6105 [==============================] - 13s - loss: 0.2289 - acc: 0.9066 - val_loss: 0.4284 - val_acc: 0.8369\n",
      "Epoch 14/200\n",
      "6105/6105 [==============================] - 13s - loss: 0.2104 - acc: 0.9174 - val_loss: 0.4479 - val_acc: 0.8234\n",
      "Epoch 15/200\n",
      "6105/6105 [==============================] - 13s - loss: 0.1919 - acc: 0.9284 - val_loss: 0.5011 - val_acc: 0.8297\n",
      "Epoch 16/200\n",
      "6105/6105 [==============================] - 13s - loss: 0.1690 - acc: 0.9384 - val_loss: 0.3745 - val_acc: 0.8683\n",
      "Epoch 17/200\n",
      "6105/6105 [==============================] - 13s - loss: 0.1664 - acc: 0.9361 - val_loss: 0.5158 - val_acc: 0.8117\n",
      "Epoch 18/200\n",
      "6105/6105 [==============================] - 13s - loss: 0.1609 - acc: 0.9397 - val_loss: 0.3872 - val_acc: 0.8571\n",
      "Epoch 19/200\n",
      "6105/6105 [==============================] - 13s - loss: 0.1562 - acc: 0.9451 - val_loss: 0.3835 - val_acc: 0.8697\n",
      "Epoch 20/200\n",
      "6105/6105 [==============================] - 13s - loss: 0.1584 - acc: 0.9425 - val_loss: 0.3973 - val_acc: 0.8724\n",
      "Epoch 21/200\n",
      "6105/6105 [==============================] - 13s - loss: 0.1320 - acc: 0.9543 - val_loss: 0.5517 - val_acc: 0.8202\n",
      "Epoch 22/200\n",
      "6105/6105 [==============================] - 13s - loss: 0.1134 - acc: 0.9582 - val_loss: 0.3920 - val_acc: 0.8679\n",
      "Epoch 23/200\n",
      "6105/6105 [==============================] - 13s - loss: 0.1275 - acc: 0.9517 - val_loss: 0.4642 - val_acc: 0.8449\n",
      "Epoch 24/200\n",
      "6105/6105 [==============================] - 13s - loss: 0.1365 - acc: 0.9510 - val_loss: 0.4165 - val_acc: 0.8822\n",
      "Epoch 25/200\n",
      "6105/6105 [==============================] - 13s - loss: 0.1246 - acc: 0.9569 - val_loss: 0.4166 - val_acc: 0.8773\n",
      "Epoch 26/200\n",
      "6105/6105 [==============================] - 13s - loss: 0.1013 - acc: 0.9641 - val_loss: 0.5897 - val_acc: 0.8189\n",
      "Epoch 27/200\n",
      "6105/6105 [==============================] - 13s - loss: 0.1029 - acc: 0.9676 - val_loss: 0.3378 - val_acc: 0.8787\n",
      "Epoch 28/200\n",
      "6105/6105 [==============================] - 13s - loss: 0.0982 - acc: 0.9646 - val_loss: 0.3528 - val_acc: 0.8876\n",
      "Epoch 29/200\n",
      "6105/6105 [==============================] - 13s - loss: 0.0820 - acc: 0.9728 - val_loss: 0.4687 - val_acc: 0.8849\n",
      "Epoch 30/200\n",
      "6105/6105 [==============================] - 13s - loss: 0.1005 - acc: 0.9635 - val_loss: 0.3034 - val_acc: 0.9101\n",
      "Epoch 31/200\n",
      "6105/6105 [==============================] - 13s - loss: 0.1049 - acc: 0.9628 - val_loss: 0.4627 - val_acc: 0.8463\n",
      "Epoch 32/200\n",
      "6105/6105 [==============================] - 13s - loss: 0.0906 - acc: 0.9682 - val_loss: 0.5333 - val_acc: 0.8404\n",
      "Epoch 33/200\n",
      "6105/6105 [==============================] - 13s - loss: 0.0779 - acc: 0.9692 - val_loss: 0.4165 - val_acc: 0.8755\n",
      "Epoch 34/200\n",
      "6105/6105 [==============================] - 13s - loss: 0.0763 - acc: 0.9733 - val_loss: 0.3260 - val_acc: 0.9016\n",
      "Epoch 35/200\n",
      "6105/6105 [==============================] - 13s - loss: 0.0876 - acc: 0.9671 - val_loss: 0.3352 - val_acc: 0.8751\n",
      "Epoch 36/200\n",
      "6105/6105 [==============================] - 13s - loss: 0.0700 - acc: 0.9738 - val_loss: 0.5747 - val_acc: 0.8369\n",
      "Epoch 37/200\n",
      "6105/6105 [==============================] - 13s - loss: 0.0704 - acc: 0.9764 - val_loss: 0.3145 - val_acc: 0.8760\n",
      "Epoch 38/200\n",
      "6105/6105 [==============================] - 13s - loss: 0.0866 - acc: 0.9702 - val_loss: 0.4598 - val_acc: 0.8413\n",
      "Epoch 39/200\n",
      "6105/6105 [==============================] - 13s - loss: 0.0841 - acc: 0.9733 - val_loss: 0.4368 - val_acc: 0.8840\n",
      "Epoch 40/200\n",
      "6105/6105 [==============================] - 13s - loss: 0.0963 - acc: 0.9672 - val_loss: 0.5329 - val_acc: 0.8378\n",
      "Epoch 41/200\n",
      "6105/6105 [==============================] - 13s - loss: 0.0651 - acc: 0.9781 - val_loss: 0.5554 - val_acc: 0.8234\n",
      "Epoch 42/200\n",
      "6105/6105 [==============================] - 13s - loss: 0.0688 - acc: 0.9748 - val_loss: 0.2759 - val_acc: 0.8980\n",
      "Epoch 43/200\n",
      "6105/6105 [==============================] - 13s - loss: 0.0713 - acc: 0.9754 - val_loss: 0.3792 - val_acc: 0.8840\n",
      "Epoch 44/200\n",
      "6105/6105 [==============================] - 13s - loss: 0.0507 - acc: 0.9820 - val_loss: 0.4155 - val_acc: 0.8742\n",
      "Epoch 45/200\n",
      "6105/6105 [==============================] - 13s - loss: 0.0513 - acc: 0.9805 - val_loss: 0.5118 - val_acc: 0.8580\n",
      "Epoch 46/200\n",
      "6105/6105 [==============================] - 13s - loss: 0.0878 - acc: 0.9725 - val_loss: 0.3374 - val_acc: 0.8571\n",
      "Epoch 47/200\n",
      "6105/6105 [==============================] - 13s - loss: 0.0668 - acc: 0.9746 - val_loss: 0.2577 - val_acc: 0.9007\n",
      "Epoch 48/200\n",
      "6105/6105 [==============================] - 13s - loss: 0.0538 - acc: 0.9805 - val_loss: 0.4304 - val_acc: 0.8508\n",
      "Epoch 49/200\n",
      "6105/6105 [==============================] - 13s - loss: 0.0534 - acc: 0.9803 - val_loss: 0.3008 - val_acc: 0.8980\n",
      "Epoch 50/200\n",
      "6105/6105 [==============================] - 13s - loss: 0.0665 - acc: 0.9790 - val_loss: 0.5012 - val_acc: 0.8984\n",
      "Epoch 51/200\n",
      "6105/6105 [==============================] - 13s - loss: 0.0663 - acc: 0.9785 - val_loss: 0.2821 - val_acc: 0.9160\n",
      "Epoch 52/200\n",
      "6105/6105 [==============================] - 13s - loss: 0.0587 - acc: 0.9785 - val_loss: 0.4493 - val_acc: 0.8616\n",
      "Epoch 53/200\n",
      "6105/6105 [==============================] - 13s - loss: 0.0579 - acc: 0.9802 - val_loss: 0.4350 - val_acc: 0.8620\n",
      "Epoch 54/200\n",
      "6105/6105 [==============================] - 13s - loss: 0.0670 - acc: 0.9787 - val_loss: 0.4867 - val_acc: 0.8697\n",
      "Epoch 55/200\n",
      "6105/6105 [==============================] - 13s - loss: 0.0502 - acc: 0.9836 - val_loss: 0.5103 - val_acc: 0.8607\n",
      "Epoch 56/200\n",
      "6105/6105 [==============================] - 13s - loss: 0.0593 - acc: 0.9820 - val_loss: 0.3014 - val_acc: 0.8885\n",
      "Epoch 57/200\n",
      "6105/6105 [==============================] - 13s - loss: 0.0469 - acc: 0.9846 - val_loss: 0.5256 - val_acc: 0.8710\n",
      "Epoch 58/200\n",
      "6105/6105 [==============================] - 13s - loss: 0.0538 - acc: 0.9838 - val_loss: 0.3606 - val_acc: 0.8948\n",
      "Epoch 59/200\n",
      "6105/6105 [==============================] - 13s - loss: 0.0520 - acc: 0.9817 - val_loss: 0.5501 - val_acc: 0.8427\n",
      "Epoch 60/200\n",
      "6105/6105 [==============================] - 13s - loss: 0.0586 - acc: 0.9795 - val_loss: 0.5529 - val_acc: 0.8584\n",
      "Epoch 61/200\n",
      "6105/6105 [==============================] - 13s - loss: 0.0478 - acc: 0.9848 - val_loss: 0.4197 - val_acc: 0.9088\n",
      "Epoch 62/200\n",
      "6105/6105 [==============================] - 13s - loss: 0.0601 - acc: 0.9800 - val_loss: 0.3231 - val_acc: 0.8813\n",
      "Epoch 63/200\n",
      "6105/6105 [==============================] - 13s - loss: 0.0620 - acc: 0.9781 - val_loss: 0.3470 - val_acc: 0.8571\n",
      "Epoch 64/200\n"
     ]
    },
    {
     "name": "stdout",
     "output_type": "stream",
     "text": [
      "6105/6105 [==============================] - 13s - loss: 0.0495 - acc: 0.9835 - val_loss: 0.5282 - val_acc: 0.8593\n",
      "Epoch 65/200\n",
      "6105/6105 [==============================] - 13s - loss: 0.0624 - acc: 0.9794 - val_loss: 0.2753 - val_acc: 0.9088\n",
      "Epoch 66/200\n",
      "1504/6105 [======>.......................] - ETA: 8s - loss: 0.0495 - acc: 0.9860"
     ]
    },
    {
     "ename": "KeyboardInterrupt",
     "evalue": "",
     "output_type": "error",
     "traceback": [
      "\u001b[1;31m---------------------------------------------------------------------------\u001b[0m",
      "\u001b[1;31mKeyboardInterrupt\u001b[0m                         Traceback (most recent call last)",
      "\u001b[1;32m<ipython-input-91-696f26e695db>\u001b[0m in \u001b[0;36m<module>\u001b[1;34m()\u001b[0m\n\u001b[1;32m----> 1\u001b[1;33m \u001b[0mhist\u001b[0m \u001b[1;33m=\u001b[0m \u001b[0mmodel\u001b[0m\u001b[1;33m.\u001b[0m\u001b[0mfit\u001b[0m\u001b[1;33m(\u001b[0m\u001b[0mX_train\u001b[0m\u001b[1;33m,\u001b[0m \u001b[0mY_train\u001b[0m\u001b[1;33m,\u001b[0m \u001b[0mbatch_size\u001b[0m\u001b[1;33m=\u001b[0m\u001b[1;36m32\u001b[0m\u001b[1;33m,\u001b[0m \u001b[0mepochs\u001b[0m\u001b[1;33m=\u001b[0m\u001b[1;36m200\u001b[0m\u001b[1;33m,\u001b[0m \u001b[0mvalidation_data\u001b[0m\u001b[1;33m=\u001b[0m\u001b[1;33m(\u001b[0m\u001b[0mX_val\u001b[0m\u001b[1;33m,\u001b[0m \u001b[0mY_val\u001b[0m\u001b[1;33m)\u001b[0m\u001b[1;33m)\u001b[0m \u001b[1;31m#callbacks=[early_stopping]\u001b[0m\u001b[1;33m\u001b[0m\u001b[0m\n\u001b[0m",
      "\u001b[1;32m~\\AppData\\Local\\conda\\conda\\envs\\old-keras\\lib\\site-packages\\keras\\engine\\training.py\u001b[0m in \u001b[0;36mfit\u001b[1;34m(self, x, y, batch_size, epochs, verbose, callbacks, validation_split, validation_data, shuffle, class_weight, sample_weight, initial_epoch, **kwargs)\u001b[0m\n\u001b[0;32m   1428\u001b[0m                               \u001b[0mval_f\u001b[0m\u001b[1;33m=\u001b[0m\u001b[0mval_f\u001b[0m\u001b[1;33m,\u001b[0m \u001b[0mval_ins\u001b[0m\u001b[1;33m=\u001b[0m\u001b[0mval_ins\u001b[0m\u001b[1;33m,\u001b[0m \u001b[0mshuffle\u001b[0m\u001b[1;33m=\u001b[0m\u001b[0mshuffle\u001b[0m\u001b[1;33m,\u001b[0m\u001b[1;33m\u001b[0m\u001b[0m\n\u001b[0;32m   1429\u001b[0m                               \u001b[0mcallback_metrics\u001b[0m\u001b[1;33m=\u001b[0m\u001b[0mcallback_metrics\u001b[0m\u001b[1;33m,\u001b[0m\u001b[1;33m\u001b[0m\u001b[0m\n\u001b[1;32m-> 1430\u001b[1;33m                               initial_epoch=initial_epoch)\n\u001b[0m\u001b[0;32m   1431\u001b[0m \u001b[1;33m\u001b[0m\u001b[0m\n\u001b[0;32m   1432\u001b[0m     \u001b[1;32mdef\u001b[0m \u001b[0mevaluate\u001b[0m\u001b[1;33m(\u001b[0m\u001b[0mself\u001b[0m\u001b[1;33m,\u001b[0m \u001b[0mx\u001b[0m\u001b[1;33m,\u001b[0m \u001b[0my\u001b[0m\u001b[1;33m,\u001b[0m \u001b[0mbatch_size\u001b[0m\u001b[1;33m=\u001b[0m\u001b[1;36m32\u001b[0m\u001b[1;33m,\u001b[0m \u001b[0mverbose\u001b[0m\u001b[1;33m=\u001b[0m\u001b[1;36m1\u001b[0m\u001b[1;33m,\u001b[0m \u001b[0msample_weight\u001b[0m\u001b[1;33m=\u001b[0m\u001b[1;32mNone\u001b[0m\u001b[1;33m)\u001b[0m\u001b[1;33m:\u001b[0m\u001b[1;33m\u001b[0m\u001b[0m\n",
      "\u001b[1;32m~\\AppData\\Local\\conda\\conda\\envs\\old-keras\\lib\\site-packages\\keras\\engine\\training.py\u001b[0m in \u001b[0;36m_fit_loop\u001b[1;34m(self, f, ins, out_labels, batch_size, epochs, verbose, callbacks, val_f, val_ins, shuffle, callback_metrics, initial_epoch)\u001b[0m\n\u001b[0;32m   1066\u001b[0m                     \u001b[1;32mif\u001b[0m \u001b[0misinstance\u001b[0m\u001b[1;33m(\u001b[0m\u001b[0mins\u001b[0m\u001b[1;33m[\u001b[0m\u001b[1;33m-\u001b[0m\u001b[1;36m1\u001b[0m\u001b[1;33m]\u001b[0m\u001b[1;33m,\u001b[0m \u001b[0mfloat\u001b[0m\u001b[1;33m)\u001b[0m\u001b[1;33m:\u001b[0m\u001b[1;33m\u001b[0m\u001b[0m\n\u001b[0;32m   1067\u001b[0m                         \u001b[1;31m# Do not slice the training phase flag.\u001b[0m\u001b[1;33m\u001b[0m\u001b[1;33m\u001b[0m\u001b[0m\n\u001b[1;32m-> 1068\u001b[1;33m                         \u001b[0mins_batch\u001b[0m \u001b[1;33m=\u001b[0m \u001b[0m_slice_arrays\u001b[0m\u001b[1;33m(\u001b[0m\u001b[0mins\u001b[0m\u001b[1;33m[\u001b[0m\u001b[1;33m:\u001b[0m\u001b[1;33m-\u001b[0m\u001b[1;36m1\u001b[0m\u001b[1;33m]\u001b[0m\u001b[1;33m,\u001b[0m \u001b[0mbatch_ids\u001b[0m\u001b[1;33m)\u001b[0m \u001b[1;33m+\u001b[0m \u001b[1;33m[\u001b[0m\u001b[0mins\u001b[0m\u001b[1;33m[\u001b[0m\u001b[1;33m-\u001b[0m\u001b[1;36m1\u001b[0m\u001b[1;33m]\u001b[0m\u001b[1;33m]\u001b[0m\u001b[1;33m\u001b[0m\u001b[0m\n\u001b[0m\u001b[0;32m   1069\u001b[0m                     \u001b[1;32melse\u001b[0m\u001b[1;33m:\u001b[0m\u001b[1;33m\u001b[0m\u001b[0m\n\u001b[0;32m   1070\u001b[0m                         \u001b[0mins_batch\u001b[0m \u001b[1;33m=\u001b[0m \u001b[0m_slice_arrays\u001b[0m\u001b[1;33m(\u001b[0m\u001b[0mins\u001b[0m\u001b[1;33m,\u001b[0m \u001b[0mbatch_ids\u001b[0m\u001b[1;33m)\u001b[0m\u001b[1;33m\u001b[0m\u001b[0m\n",
      "\u001b[1;32m~\\AppData\\Local\\conda\\conda\\envs\\old-keras\\lib\\site-packages\\keras\\engine\\training.py\u001b[0m in \u001b[0;36m_slice_arrays\u001b[1;34m(arrays, start, stop)\u001b[0m\n\u001b[0;32m    400\u001b[0m             \u001b[1;32mif\u001b[0m \u001b[0mhasattr\u001b[0m\u001b[1;33m(\u001b[0m\u001b[0mstart\u001b[0m\u001b[1;33m,\u001b[0m \u001b[1;34m'shape'\u001b[0m\u001b[1;33m)\u001b[0m\u001b[1;33m:\u001b[0m\u001b[1;33m\u001b[0m\u001b[0m\n\u001b[0;32m    401\u001b[0m                 \u001b[0mstart\u001b[0m \u001b[1;33m=\u001b[0m \u001b[0mstart\u001b[0m\u001b[1;33m.\u001b[0m\u001b[0mtolist\u001b[0m\u001b[1;33m(\u001b[0m\u001b[1;33m)\u001b[0m\u001b[1;33m\u001b[0m\u001b[0m\n\u001b[1;32m--> 402\u001b[1;33m             \u001b[1;32mreturn\u001b[0m \u001b[1;33m[\u001b[0m\u001b[1;32mNone\u001b[0m \u001b[1;32mif\u001b[0m \u001b[0mx\u001b[0m \u001b[1;32mis\u001b[0m \u001b[1;32mNone\u001b[0m \u001b[1;32melse\u001b[0m \u001b[0mx\u001b[0m\u001b[1;33m[\u001b[0m\u001b[0mstart\u001b[0m\u001b[1;33m]\u001b[0m \u001b[1;32mfor\u001b[0m \u001b[0mx\u001b[0m \u001b[1;32min\u001b[0m \u001b[0marrays\u001b[0m\u001b[1;33m]\u001b[0m\u001b[1;33m\u001b[0m\u001b[0m\n\u001b[0m\u001b[0;32m    403\u001b[0m         \u001b[1;32melse\u001b[0m\u001b[1;33m:\u001b[0m\u001b[1;33m\u001b[0m\u001b[0m\n\u001b[0;32m    404\u001b[0m             \u001b[1;32mreturn\u001b[0m \u001b[1;33m[\u001b[0m\u001b[1;32mNone\u001b[0m \u001b[1;32mif\u001b[0m \u001b[0mx\u001b[0m \u001b[1;32mis\u001b[0m \u001b[1;32mNone\u001b[0m \u001b[1;32melse\u001b[0m \u001b[0mx\u001b[0m\u001b[1;33m[\u001b[0m\u001b[0mstart\u001b[0m\u001b[1;33m:\u001b[0m\u001b[0mstop\u001b[0m\u001b[1;33m]\u001b[0m \u001b[1;32mfor\u001b[0m \u001b[0mx\u001b[0m \u001b[1;32min\u001b[0m \u001b[0marrays\u001b[0m\u001b[1;33m]\u001b[0m\u001b[1;33m\u001b[0m\u001b[0m\n",
      "\u001b[1;32m~\\AppData\\Local\\conda\\conda\\envs\\old-keras\\lib\\site-packages\\keras\\engine\\training.py\u001b[0m in \u001b[0;36m<listcomp>\u001b[1;34m(.0)\u001b[0m\n\u001b[0;32m    400\u001b[0m             \u001b[1;32mif\u001b[0m \u001b[0mhasattr\u001b[0m\u001b[1;33m(\u001b[0m\u001b[0mstart\u001b[0m\u001b[1;33m,\u001b[0m \u001b[1;34m'shape'\u001b[0m\u001b[1;33m)\u001b[0m\u001b[1;33m:\u001b[0m\u001b[1;33m\u001b[0m\u001b[0m\n\u001b[0;32m    401\u001b[0m                 \u001b[0mstart\u001b[0m \u001b[1;33m=\u001b[0m \u001b[0mstart\u001b[0m\u001b[1;33m.\u001b[0m\u001b[0mtolist\u001b[0m\u001b[1;33m(\u001b[0m\u001b[1;33m)\u001b[0m\u001b[1;33m\u001b[0m\u001b[0m\n\u001b[1;32m--> 402\u001b[1;33m             \u001b[1;32mreturn\u001b[0m \u001b[1;33m[\u001b[0m\u001b[1;32mNone\u001b[0m \u001b[1;32mif\u001b[0m \u001b[0mx\u001b[0m \u001b[1;32mis\u001b[0m \u001b[1;32mNone\u001b[0m \u001b[1;32melse\u001b[0m \u001b[0mx\u001b[0m\u001b[1;33m[\u001b[0m\u001b[0mstart\u001b[0m\u001b[1;33m]\u001b[0m \u001b[1;32mfor\u001b[0m \u001b[0mx\u001b[0m \u001b[1;32min\u001b[0m \u001b[0marrays\u001b[0m\u001b[1;33m]\u001b[0m\u001b[1;33m\u001b[0m\u001b[0m\n\u001b[0m\u001b[0;32m    403\u001b[0m         \u001b[1;32melse\u001b[0m\u001b[1;33m:\u001b[0m\u001b[1;33m\u001b[0m\u001b[0m\n\u001b[0;32m    404\u001b[0m             \u001b[1;32mreturn\u001b[0m \u001b[1;33m[\u001b[0m\u001b[1;32mNone\u001b[0m \u001b[1;32mif\u001b[0m \u001b[0mx\u001b[0m \u001b[1;32mis\u001b[0m \u001b[1;32mNone\u001b[0m \u001b[1;32melse\u001b[0m \u001b[0mx\u001b[0m\u001b[1;33m[\u001b[0m\u001b[0mstart\u001b[0m\u001b[1;33m:\u001b[0m\u001b[0mstop\u001b[0m\u001b[1;33m]\u001b[0m \u001b[1;32mfor\u001b[0m \u001b[0mx\u001b[0m \u001b[1;32min\u001b[0m \u001b[0marrays\u001b[0m\u001b[1;33m]\u001b[0m\u001b[1;33m\u001b[0m\u001b[0m\n",
      "\u001b[1;31mKeyboardInterrupt\u001b[0m: "
     ]
    }
   ],
   "source": [
    "hist = model.fit(X_train, Y_train, batch_size=32, epochs=200, validation_data=(X_val, Y_val)) #callbacks=[early_stopping]"
   ]
  },
  {
   "cell_type": "markdown",
   "metadata": {},
   "source": [
    "def train_generator(X, Y):\n",
    "    while True:\n",
    "        for i in range(len(X)):\n",
    "            yield np.expand_dims(X[i], axis=0), np.expand_dims(Y[i], axis=0)"
   ]
  },
  {
   "cell_type": "markdown",
   "metadata": {},
   "source": [
    "num_epochs = 10\n",
    "epoch_length = 100\n",
    "best_loss = np.Inf\n",
    "losses = np.zeros(epoch_length)\n",
    "acc = np.zeros(epoch_length)\n",
    "\n",
    "data_gen_train = train_generator(X_train, Y_train)\n",
    "for epoch_num in range(num_epochs):\n",
    "    print('Epoch {}/{}'.format(epoch_num + 1, num_epochs))\n",
    "    iter_num = 0\n",
    "    \n",
    "    while True:\n",
    "        X, Y = next(data_gen_train)\n",
    "        losses[iter_num], acc[iter_num] = model.train_on_batch(X, Y)\n",
    "\n",
    "        iter_num += 1\n",
    "        if iter_num == epoch_length:\n",
    "            curr_loss = np.mean(losses)\n",
    "            curr_acc = np.mean(acc)\n",
    "            print(\"Mean Loss:\", curr_loss, \"// Mean Accuracy:\", curr_acc)\n",
    "\n",
    "            if curr_loss < best_loss:\n",
    "                print('Total loss decreased from {} to {}, saving weights'.format(best_loss,curr_loss))\n",
    "                best_loss = curr_loss\n",
    "                model.save_weights(C.model_path)\n",
    "            break"
   ]
  },
  {
   "cell_type": "code",
   "execution_count": 21,
   "metadata": {},
   "outputs": [
    {
     "data": {
      "text/html": [
       "<div>\n",
       "<style>\n",
       "    .dataframe thead tr:only-child th {\n",
       "        text-align: right;\n",
       "    }\n",
       "\n",
       "    .dataframe thead th {\n",
       "        text-align: left;\n",
       "    }\n",
       "\n",
       "    .dataframe tbody tr th {\n",
       "        vertical-align: top;\n",
       "    }\n",
       "</style>\n",
       "<table border=\"1\" class=\"dataframe\">\n",
       "  <thead>\n",
       "    <tr style=\"text-align: right;\">\n",
       "      <th></th>\n",
       "      <th>Filename</th>\n",
       "      <th>x1</th>\n",
       "      <th>x2</th>\n",
       "      <th>y1</th>\n",
       "      <th>y2</th>\n",
       "      <th>z1</th>\n",
       "      <th>z2</th>\n",
       "      <th>cls</th>\n",
       "      <th>flipz</th>\n",
       "      <th>dx</th>\n",
       "      <th>dy</th>\n",
       "      <th>dz</th>\n",
       "      <th>id</th>\n",
       "    </tr>\n",
       "  </thead>\n",
       "  <tbody>\n",
       "    <tr>\n",
       "      <th>119</th>\n",
       "      <td>12673726.npy</td>\n",
       "      <td>105</td>\n",
       "      <td>134</td>\n",
       "      <td>76</td>\n",
       "      <td>101</td>\n",
       "      <td>40</td>\n",
       "      <td>53</td>\n",
       "      <td>hemangioma</td>\n",
       "      <td>True</td>\n",
       "      <td>29</td>\n",
       "      <td>25</td>\n",
       "      <td>13</td>\n",
       "      <td>126737261057640</td>\n",
       "    </tr>\n",
       "    <tr>\n",
       "      <th>120</th>\n",
       "      <td>12673726.npy</td>\n",
       "      <td>127</td>\n",
       "      <td>139</td>\n",
       "      <td>103</td>\n",
       "      <td>117</td>\n",
       "      <td>44</td>\n",
       "      <td>51</td>\n",
       "      <td>hemangioma</td>\n",
       "      <td>True</td>\n",
       "      <td>12</td>\n",
       "      <td>14</td>\n",
       "      <td>7</td>\n",
       "      <td>1267372612710344</td>\n",
       "    </tr>\n",
       "  </tbody>\n",
       "</table>\n",
       "</div>"
      ],
      "text/plain": [
       "         Filename   x1   x2   y1   y2  z1  z2         cls  flipz  dx  dy  dz  \\\n",
       "119  12673726.npy  105  134   76  101  40  53  hemangioma   True  29  25  13   \n",
       "120  12673726.npy  127  139  103  117  44  51  hemangioma   True  12  14   7   \n",
       "\n",
       "                   id  \n",
       "119   126737261057640  \n",
       "120  1267372612710344  "
      ]
     },
     "execution_count": 21,
     "metadata": {},
     "output_type": "execute_result"
    }
   ],
   "source": [
    "voi_df_art[voi_df_art[\"Filename\"] == \"12673726.npy\"]"
   ]
  },
  {
   "cell_type": "code",
   "execution_count": 22,
   "metadata": {
    "scrolled": true
   },
   "outputs": [
    {
     "data": {
      "text/html": [
       "<div>\n",
       "<style>\n",
       "    .dataframe thead tr:only-child th {\n",
       "        text-align: right;\n",
       "    }\n",
       "\n",
       "    .dataframe thead th {\n",
       "        text-align: left;\n",
       "    }\n",
       "\n",
       "    .dataframe tbody tr th {\n",
       "        vertical-align: top;\n",
       "    }\n",
       "</style>\n",
       "<table border=\"1\" class=\"dataframe\">\n",
       "  <thead>\n",
       "    <tr style=\"text-align: right;\">\n",
       "      <th></th>\n",
       "      <th>id</th>\n",
       "      <th>x1</th>\n",
       "      <th>x2</th>\n",
       "      <th>y1</th>\n",
       "      <th>y2</th>\n",
       "      <th>z1</th>\n",
       "      <th>z2</th>\n",
       "      <th>dx</th>\n",
       "      <th>dy</th>\n",
       "      <th>dz</th>\n",
       "    </tr>\n",
       "  </thead>\n",
       "  <tbody>\n",
       "    <tr>\n",
       "      <th>74</th>\n",
       "      <td>1267372612710344</td>\n",
       "      <td>127</td>\n",
       "      <td>139</td>\n",
       "      <td>103</td>\n",
       "      <td>117</td>\n",
       "      <td>44</td>\n",
       "      <td>52</td>\n",
       "      <td>12</td>\n",
       "      <td>14</td>\n",
       "      <td>8</td>\n",
       "    </tr>\n",
       "  </tbody>\n",
       "</table>\n",
       "</div>"
      ],
      "text/plain": [
       "                  id   x1   x2   y1   y2  z1  z2  dx  dy  dz\n",
       "74  1267372612710344  127  139  103  117  44  52  12  14   8"
      ]
     },
     "execution_count": 22,
     "metadata": {},
     "output_type": "execute_result"
    }
   ],
   "source": [
    "voi_df_ven[voi_df_ven[\"id\"] == \"1267372612710344\"]"
   ]
  },
  {
   "cell_type": "code",
   "execution_count": null,
   "metadata": {
    "collapsed": true
   },
   "outputs": [],
   "source": []
  },
  {
   "cell_type": "code",
   "execution_count": 200,
   "metadata": {},
   "outputs": [
    {
     "name": "stdout",
     "output_type": "stream",
     "text": [
      "(293, 293, 75, 2)\n",
      "(213, 213, 55, 2)\n"
     ]
    }
   ],
   "source": [
    "plot_2ch_with_bbox(\"E100738220_0.npy\", \"idk\", pad=30, draw_bbox=True, save_dir=\"classified_imgs\")"
   ]
  },
  {
   "cell_type": "code",
   "execution_count": 92,
   "metadata": {
    "collapsed": true
   },
   "outputs": [],
   "source": [
    "voi_df_art = pd.read_csv(C.art_voi_path)\n",
    "voi_df_ven = pd.read_csv(C.ven_voi_path)"
   ]
  },
  {
   "cell_type": "code",
   "execution_count": 81,
   "metadata": {
    "collapsed": true
   },
   "outputs": [],
   "source": [
    "def plot_2ch_with_bbox(fn, wrong_class, pad=15, draw_bbox=False, save_dir=None):\n",
    "    z = re.search(r'^(.*)_(\\d*)\\.', fn)\n",
    "    voi_df_ven[\"id\"] = voi_df_ven[\"id\"].astype(str)\n",
    "    \n",
    "    img_fn = z.group(1) + \".npy\"\n",
    "    voi = voi_df_art[voi_df_art[\"Filename\"] == img_fn].iloc[int(z.group(2))]\n",
    "    ven_voi = voi_df_ven[voi_df_ven[\"id\"] == str(voi[\"id\"])]\n",
    "    \n",
    "    img = np.load(C.full_img_dir+\"\\\\\"+img_fn)\n",
    "    if len(ven_voi) > 0:\n",
    "        img = hf.align(img, voi, ven_voi.iloc[0])\n",
    "        \n",
    "        \n",
    "    crop_size = C.dims\n",
    "    \n",
    "    #pad_img, x1, x2, y1, y2, z1, z2 = get_\n",
    "    exceed_ratio = max(voi['dx']/crop_size[0], voi['dy']/crop_size[1], voi['dz']/crop_size[2]) / 1\n",
    "    if exceed_ratio > 1:# or exceed_ratio < 0.7:\n",
    "        #if exceed_ratio < 0.7:\n",
    "        #    exceed_ratio += 0.15\n",
    "            \n",
    "        img = tr.scale3d(img, [1/exceed_ratio]*3)\n",
    "        x1 = round(voi['x1'] / exceed_ratio)\n",
    "        x2 = round(voi['x2'] / exceed_ratio)\n",
    "        y1 = round(voi['y1'] / exceed_ratio)\n",
    "        y2 = round(voi['y2'] / exceed_ratio)\n",
    "        z1 = round(voi['z1'] / exceed_ratio)\n",
    "        z2 = round(voi['z2'] / exceed_ratio)\n",
    "    else:\n",
    "        x1 = voi['x1']\n",
    "        x2 = voi['x2']\n",
    "        y1 = voi['y1']\n",
    "        y2 = voi['y2']\n",
    "        z1 = voi['z1']\n",
    "        z2 = voi['z2']\n",
    "        \n",
    "    dx = x2 - x1\n",
    "    dy = y2 - y1\n",
    "    dz = z2 - z1\n",
    "        \n",
    "    xpad = max(crop_size[0] - dx,0)\n",
    "    ypad = max(crop_size[1] - dy,0)\n",
    "    zpad = max(crop_size[2] - dz,0)\n",
    "\n",
    "    side_padding = math.ceil(max(xpad, ypad, zpad) / 2)\n",
    "\n",
    "    pad_img = []\n",
    "\n",
    "    for ch in range(img.shape[-1]):\n",
    "        pad_img.append(np.pad(img[:,:,:,ch], side_padding, 'constant'))\n",
    "\n",
    "    pad_img = np.stack(pad_img, axis=3)\n",
    "\n",
    "    x1 += side_padding - math.ceil(xpad/2)\n",
    "    x2 += side_padding + math.floor(xpad/2)\n",
    "    y1 += side_padding - math.ceil(ypad/2)\n",
    "    y2 += side_padding + math.floor(ypad/2)\n",
    "    z1 += side_padding - math.ceil(zpad/2)\n",
    "    z2 += side_padding + math.floor(zpad/2)\n",
    "    \n",
    "    x1=int(x1)\n",
    "    x2=int(x2)\n",
    "    y1=int(y1)\n",
    "    y2=int(y2)\n",
    "    z1=int(z1)\n",
    "    z2=int(z2)\n",
    "\n",
    "    slice_num = (z1+z2)//2\n",
    "    img_slice = pad_img[:,:, slice_num, :]\n",
    "    img_slice[:, :, 0] *= 255/np.amax(img_slice[:, :, 0])\n",
    "    img_slice[:, :, 1] *= 255/np.amax(img_slice[:, :, 1])\n",
    "    img_slice = np.stack([img_slice, img_slice, img_slice], axis=2)\n",
    "    \n",
    "    if draw_bbox:\n",
    "        if False:\n",
    "            img_slice[df['x1']:df['x2'], df['y2'], 0, :] = 255\n",
    "            img_slice[df['x1']:df['x2'], df['y2'], 1:, :] = 0\n",
    "\n",
    "            img_slice[df['x1']:df['x2'], df['y1'], 0, :] = 255\n",
    "            img_slice[df['x1']:df['x2'], df['y1'], 1:, :] = 0\n",
    "\n",
    "            img_slice[df['x1'], df['y1']:df['y2'], 0, :] = 255\n",
    "            img_slice[df['x1'], df['y1']:df['y2'], 1:, :] = 0\n",
    "\n",
    "            img_slice[df['x2'], df['y1']:df['y2'], 0, :] = 255\n",
    "            img_slice[df['x2'], df['y1']:df['y2'], 1:, :] = 0\n",
    "        \n",
    "        img_slice[x1:x2, y2, 2, :] = 255\n",
    "        img_slice[x1:x2, y2, :2, :] = 0\n",
    "        \n",
    "        img_slice[x1:x2, y1, 2, :] = 255\n",
    "        img_slice[x1:x2, y1, :2, :] = 0\n",
    "        \n",
    "        img_slice[x1, y1:y2, 2, :] = 255\n",
    "        img_slice[x1, y1:y2, :2, :] = 0\n",
    "        \n",
    "        img_slice[x2, y1:y2, 2, :] = 255\n",
    "        img_slice[x2, y1:y2, :2, :] = 0\n",
    "        \n",
    "    if save_dir is None:\n",
    "        plot_section_2ch(img_slice, [x1,x2,y1,y2], fn, pad=pad)\n",
    "    else:\n",
    "        plot_section_2ch(img_slice, [x1,x2,y1,y2], fn, save_dir=save_dir+\"\\\\\"+voi['cls'], wrong_class=wrong_class, pad=pad, noshow=True)"
   ]
  },
  {
   "cell_type": "code",
   "execution_count": 82,
   "metadata": {
    "collapsed": true
   },
   "outputs": [],
   "source": [
    "def plot_section_2ch(img_slice, coords, fn, save_dir=None, wrong_class=None, pad=15, noshow=False):\n",
    "    #plt.subplot(121)\n",
    "    if noshow:\n",
    "        ch1 = np.transpose(get_cropped_slice(img_slice[:,:,:,0], coords, pad), (1,0,2))\n",
    "        ch2 = np.transpose(get_cropped_slice(img_slice[:,:,:,1], coords, pad), (1,0,2))\n",
    "        if not os.path.exists(save_dir):\n",
    "            os.makedirs(save_dir)\n",
    "            \n",
    "        ret = np.empty([ch1.shape[0]*2, ch1.shape[1], 3])\n",
    "        ret[:ch1.shape[0],:,:] = ch1\n",
    "        ret[ch1.shape[0]:,:,:] = ch2\n",
    "        imsave(\"%s\\\\%s (pred %s).png\" % (save_dir, fn[:-3], wrong_class), ret)\n",
    "        \n",
    "    else:\n",
    "        return None"
   ]
  },
  {
   "cell_type": "code",
   "execution_count": 83,
   "metadata": {
    "collapsed": true
   },
   "outputs": [],
   "source": [
    "def get_cropped_slice(img_slice, coords, pad):\n",
    "    x1 = max(coords[0]-pad, 0)\n",
    "    x2 = min(coords[1]+pad, img_slice.shape[0])\n",
    "    y1 = max(coords[2]-pad, 0)\n",
    "    y2 = min(coords[3]+pad, img_slice.shape[1])\n",
    "    \n",
    "    return img_slice[x1:x2, y2:y1:-1]"
   ]
  },
  {
   "cell_type": "code",
   "execution_count": 93,
   "metadata": {
    "scrolled": false
   },
   "outputs": [],
   "source": [
    "#plot_with_bbox(fn_list[2], cls_mapping[wrong_guesses[2]])\n",
    "Y_pred = model.predict(X_test)\n",
    "y_true = np.array([max(enumerate(x), key=operator.itemgetter(1))[0] for x in Y_test])\n",
    "y_pred = np.array([max(enumerate(x), key=operator.itemgetter(1))[0] for x in Y_pred])\n",
    "\n",
    "cm = confusion_matrix(y_true, y_pred)\n",
    "f1 = f1_score(y_true, y_pred, average=\"weighted\")\n",
    "\n",
    "save_dir = \"classified_imgs\"\n",
    "if not os.path.exists(save_dir):\n",
    "    os.makedirs(save_dir)\n",
    "if not os.path.exists(save_dir + \"\\\\correct\"):\n",
    "    os.makedirs(save_dir + \"\\\\correct\")\n",
    "else:\n",
    "    print(\"images may already exist...\")\n",
    "if not os.path.exists(save_dir + \"\\\\incorrect\"):\n",
    "    os.makedirs(save_dir + \"\\\\incorrect\")\n",
    "    \n",
    "for i in range(len(Z_test)):\n",
    "    if y_pred[i] != y_true[i]:\n",
    "        plot_2ch_with_bbox(Z_test[i], cls_mapping[y_pred[i]], pad=30, draw_bbox=True, save_dir=save_dir + \"\\\\incorrect\")\n",
    "    else:\n",
    "        plot_2ch_with_bbox(Z_test[i], cls_mapping[y_pred[i]], pad=30, draw_bbox=True, save_dir=save_dir + \"\\\\correct\")  "
   ]
  },
  {
   "cell_type": "code",
   "execution_count": 94,
   "metadata": {
    "scrolled": true
   },
   "outputs": [],
   "source": [
    "Y_pred = model.predict(X_train_orig)\n",
    "y_true = np.array([max(enumerate(x), key=operator.itemgetter(1))[0] for x in Y_train_orig])\n",
    "y_pred = np.array([max(enumerate(x), key=operator.itemgetter(1))[0] for x in Y_pred])\n",
    "\n",
    "cm = confusion_matrix(y_true, y_pred)\n",
    "f1 = f1_score(y_true, y_pred, average=\"weighted\")\n",
    "\n",
    "for i in range(len(Z_train_orig)):\n",
    "    if y_pred[i] != y_true[i]:\n",
    "        plot_2ch_with_bbox(Z_train_orig[i], cls_mapping[y_pred[i]], pad=30, draw_bbox=True, save_dir=save_dir + \"\\\\incorrect\")\n",
    "    else:\n",
    "        plot_2ch_with_bbox(Z_train_orig[i], cls_mapping[y_pred[i]], pad=30, draw_bbox=True, save_dir=save_dir + \"\\\\correct\") "
   ]
  },
  {
   "cell_type": "code",
   "execution_count": 20,
   "metadata": {},
   "outputs": [
    {
     "data": {
      "text/plain": [
       "['cyst', 'hcc', 'hemangioma']"
      ]
     },
     "execution_count": 20,
     "metadata": {},
     "output_type": "execute_result"
    }
   ],
   "source": [
    "cls_mapping"
   ]
  },
  {
   "cell_type": "code",
   "execution_count": 19,
   "metadata": {},
   "outputs": [
    {
     "data": {
      "text/plain": [
       "array([[15,  0,  3],\n",
       "       [ 2,  9,  1],\n",
       "       [ 1,  0, 10]], dtype=int64)"
      ]
     },
     "execution_count": 19,
     "metadata": {},
     "output_type": "execute_result"
    }
   ],
   "source": [
    "cm"
   ]
  },
  {
   "cell_type": "code",
   "execution_count": 25,
   "metadata": {},
   "outputs": [
    {
     "data": {
      "text/plain": [
       "0.82926829268292679"
      ]
     },
     "execution_count": 25,
     "metadata": {},
     "output_type": "execute_result"
    }
   ],
   "source": [
    "accuracy_score(y_true, y_pred)"
   ]
  },
  {
   "cell_type": "markdown",
   "metadata": {
    "collapsed": true
   },
   "source": [
    "def plot_1ch_with_bbox(fn, wrong_class, pad=15, draw_bbox=False, save_dir=None):\n",
    "    voi_df = pd.read_csv('vois.csv')\n",
    "    z = re.search(r'^(.*)_(\\d*)\\.', fn)\n",
    "    \n",
    "    img_fn = z.group(1) + \".npy\"\n",
    "    df = voi_df[voi_df[\"Filename\"] == img_fn].iloc[int(z.group(2))]\n",
    "    \n",
    "    img = np.load(\"full_imgs\\\\\"+img_fn)\n",
    "    #if\n",
    "    slice_num = (df['z1']+df['z2'])//2\n",
    "    img_slice = img[:,:, slice_num, 0]\n",
    "    img_slice = np.stack([img_slice, img_slice, img_slice], axis=2)\n",
    "    \n",
    "    if draw_bbox:\n",
    "        img_slice[df['x1']:df['x2'], df['y2'], 0] = 1\n",
    "        img_slice[df['x1']:df['x2'], df['y2'], 1:] = 0\n",
    "        \n",
    "        img_slice[df['x1']:df['x2'], df['y1'], 0] = 1\n",
    "        img_slice[df['x1']:df['x2'], df['y1'], 1:] = 0\n",
    "        \n",
    "        img_slice[df['x1'], df['y1']:df['y2'], 0] = 1\n",
    "        img_slice[df['x1'], df['y1']:df['y2'], 1:] = 0\n",
    "        \n",
    "        img_slice[df['x2'], df['y1']:df['y2'], 0] = 1\n",
    "        img_slice[df['x2'], df['y1']:df['y2'], 1:] = 0\n",
    "        \n",
    "    if save_dir is None:\n",
    "        plot_section(img_slice, df, fn, pad=pad)\n",
    "    else:\n",
    "        plot_section(img_slice, df, fn, save_dir=save_dir+\"\\\\\"+df['cls'], wrong_class=wrong_class, pad=pad, noshow=True)"
   ]
  },
  {
   "cell_type": "code",
   "execution_count": 365,
   "metadata": {
    "collapsed": true
   },
   "outputs": [],
   "source": [
    "fn_list = Z_test[~np.equal(y_pred, y_true)]\n",
    "wrong_guesses = np.array(y_pred)[~np.equal(y_pred, y_true)]"
   ]
  },
  {
   "cell_type": "markdown",
   "metadata": {
    "collapsed": true
   },
   "source": [
    "def plot_section(img_slice, row, fn, save_dir=None, wrong_class=None, pad=15, noshow=False):\n",
    "    #plt.subplot(121)\n",
    "    if noshow:\n",
    "        ret = np.transpose(get_cropped_slice(img_slice, row, pad), (1,0,2))\n",
    "        if not os.path.exists(save_dir):\n",
    "            os.makedirs(save_dir)\n",
    "        imsave(\"%s\\\\%s (pred %s).png\" % (save_dir, fn[:-3], wrong_class), ret)\n",
    "        \n",
    "    else:\n",
    "        ret = np.transpose(get_cropped_slice(img_slice[:,:,0], row, pad), (1,0))\n",
    "        plt.imshow(ret, cmap='gray')\n",
    "    #plt.subplot(122)"
   ]
  },
  {
   "cell_type": "code",
   "execution_count": 409,
   "metadata": {
    "scrolled": false
   },
   "outputs": [
    {
     "data": {
      "text/plain": [
       "array(['E100815762_0.npy', '12239513_0.npy', '12042703_2.npy'],\n",
       "      dtype='<U16')"
      ]
     },
     "execution_count": 409,
     "metadata": {},
     "output_type": "execute_result"
    }
   ],
   "source": [
    "Z_test[~np.equal(y_pred, y_true)]"
   ]
  },
  {
   "cell_type": "code",
   "execution_count": 380,
   "metadata": {
    "scrolled": true
   },
   "outputs": [
    {
     "data": {
      "text/plain": [
       "array(['E105152534_0.npy', '13166464_0.npy', '12789019_1.npy',\n",
       "       'E103514998_0.npy', 'E104430882_0.npy', '13064153_0.npy',\n",
       "       '12857716_0.npy', '13064153_1.npy', 'E100718398_0.npy',\n",
       "       'E101636006_0.npy', 'E105464882_0.npy', '12239513_0.npy',\n",
       "       '12229245_0.npy', '12302576_2.npy', '12302576_0.npy'],\n",
       "      dtype='<U16')"
      ]
     },
     "execution_count": 380,
     "metadata": {},
     "output_type": "execute_result"
    }
   ],
   "source": [
    "Z_test"
   ]
  },
  {
   "cell_type": "code",
   "execution_count": null,
   "metadata": {
    "collapsed": true
   },
   "outputs": [],
   "source": []
  },
  {
   "cell_type": "code",
   "execution_count": 443,
   "metadata": {
    "scrolled": true
   },
   "outputs": [
    {
     "ename": "ValueError",
     "evalue": "axes don't match array",
     "output_type": "error",
     "traceback": [
      "\u001b[1;31m---------------------------------------------------------------------------\u001b[0m",
      "\u001b[1;31mValueError\u001b[0m                                Traceback (most recent call last)",
      "\u001b[1;32m<ipython-input-443-692c48a9ccf8>\u001b[0m in \u001b[0;36m<module>\u001b[1;34m()\u001b[0m\n\u001b[0;32m      3\u001b[0m \u001b[0mimg_fn\u001b[0m \u001b[1;33m=\u001b[0m \u001b[1;34m\"E100262351.npy\"\u001b[0m\u001b[1;33m\u001b[0m\u001b[0m\n\u001b[0;32m      4\u001b[0m \u001b[0mimg\u001b[0m \u001b[1;33m=\u001b[0m \u001b[0mnp\u001b[0m\u001b[1;33m.\u001b[0m\u001b[0mload\u001b[0m\u001b[1;33m(\u001b[0m\u001b[1;34m\"full_imgs\\\\\"\u001b[0m\u001b[1;33m+\u001b[0m\u001b[0mimg_fn\u001b[0m\u001b[1;33m)\u001b[0m\u001b[1;33m\u001b[0m\u001b[0m\n\u001b[1;32m----> 5\u001b[1;33m \u001b[0mplot_section\u001b[0m\u001b[1;33m(\u001b[0m\u001b[0mimg\u001b[0m\u001b[1;33m,\u001b[0m \u001b[0mvoi_df\u001b[0m\u001b[1;33m[\u001b[0m\u001b[0mvoi_df\u001b[0m\u001b[1;33m[\u001b[0m\u001b[1;34m\"Filename\"\u001b[0m\u001b[1;33m]\u001b[0m \u001b[1;33m==\u001b[0m \u001b[0mimg_fn\u001b[0m\u001b[1;33m]\u001b[0m\u001b[1;33m.\u001b[0m\u001b[0miloc\u001b[0m\u001b[1;33m[\u001b[0m\u001b[1;36m0\u001b[0m\u001b[1;33m]\u001b[0m\u001b[1;33m,\u001b[0m \u001b[0mpad\u001b[0m\u001b[1;33m=\u001b[0m\u001b[1;36m5\u001b[0m\u001b[1;33m)\u001b[0m\u001b[1;33m\u001b[0m\u001b[0m\n\u001b[0m",
      "\u001b[1;32m<ipython-input-442-ff38a8a43c80>\u001b[0m in \u001b[0;36mplot_section\u001b[1;34m(img_slice, df, save_dir, wrong_class, pad, noshow)\u001b[0m\n\u001b[0;32m      9\u001b[0m     \u001b[1;32melse\u001b[0m\u001b[1;33m:\u001b[0m\u001b[1;33m\u001b[0m\u001b[0m\n\u001b[0;32m     10\u001b[0m         ret = np.transpose(img_slice[df['x1']-pad:df['x2']+pad,\n\u001b[1;32m---> 11\u001b[1;33m                             df['y2']+pad:df['y1']-pad:-1, 0], (1,0))\n\u001b[0m\u001b[0;32m     12\u001b[0m         \u001b[0mplt\u001b[0m\u001b[1;33m.\u001b[0m\u001b[0mimshow\u001b[0m\u001b[1;33m(\u001b[0m\u001b[0mret\u001b[0m\u001b[1;33m,\u001b[0m \u001b[0mcmap\u001b[0m\u001b[1;33m=\u001b[0m\u001b[1;34m'gray'\u001b[0m\u001b[1;33m)\u001b[0m\u001b[1;33m\u001b[0m\u001b[0m\n\u001b[0;32m     13\u001b[0m     \u001b[1;31m#plt.subplot(122)\u001b[0m\u001b[1;33m\u001b[0m\u001b[1;33m\u001b[0m\u001b[0m\n",
      "\u001b[1;32m~\\AppData\\Local\\conda\\conda\\envs\\old-keras\\lib\\site-packages\\numpy\\core\\fromnumeric.py\u001b[0m in \u001b[0;36mtranspose\u001b[1;34m(a, axes)\u001b[0m\n\u001b[0;32m    548\u001b[0m \u001b[1;33m\u001b[0m\u001b[0m\n\u001b[0;32m    549\u001b[0m     \"\"\"\n\u001b[1;32m--> 550\u001b[1;33m     \u001b[1;32mreturn\u001b[0m \u001b[0m_wrapfunc\u001b[0m\u001b[1;33m(\u001b[0m\u001b[0ma\u001b[0m\u001b[1;33m,\u001b[0m \u001b[1;34m'transpose'\u001b[0m\u001b[1;33m,\u001b[0m \u001b[0maxes\u001b[0m\u001b[1;33m)\u001b[0m\u001b[1;33m\u001b[0m\u001b[0m\n\u001b[0m\u001b[0;32m    551\u001b[0m \u001b[1;33m\u001b[0m\u001b[0m\n\u001b[0;32m    552\u001b[0m \u001b[1;33m\u001b[0m\u001b[0m\n",
      "\u001b[1;32m~\\AppData\\Local\\conda\\conda\\envs\\old-keras\\lib\\site-packages\\numpy\\core\\fromnumeric.py\u001b[0m in \u001b[0;36m_wrapfunc\u001b[1;34m(obj, method, *args, **kwds)\u001b[0m\n\u001b[0;32m     55\u001b[0m \u001b[1;32mdef\u001b[0m \u001b[0m_wrapfunc\u001b[0m\u001b[1;33m(\u001b[0m\u001b[0mobj\u001b[0m\u001b[1;33m,\u001b[0m \u001b[0mmethod\u001b[0m\u001b[1;33m,\u001b[0m \u001b[1;33m*\u001b[0m\u001b[0margs\u001b[0m\u001b[1;33m,\u001b[0m \u001b[1;33m**\u001b[0m\u001b[0mkwds\u001b[0m\u001b[1;33m)\u001b[0m\u001b[1;33m:\u001b[0m\u001b[1;33m\u001b[0m\u001b[0m\n\u001b[0;32m     56\u001b[0m     \u001b[1;32mtry\u001b[0m\u001b[1;33m:\u001b[0m\u001b[1;33m\u001b[0m\u001b[0m\n\u001b[1;32m---> 57\u001b[1;33m         \u001b[1;32mreturn\u001b[0m \u001b[0mgetattr\u001b[0m\u001b[1;33m(\u001b[0m\u001b[0mobj\u001b[0m\u001b[1;33m,\u001b[0m \u001b[0mmethod\u001b[0m\u001b[1;33m)\u001b[0m\u001b[1;33m(\u001b[0m\u001b[1;33m*\u001b[0m\u001b[0margs\u001b[0m\u001b[1;33m,\u001b[0m \u001b[1;33m**\u001b[0m\u001b[0mkwds\u001b[0m\u001b[1;33m)\u001b[0m\u001b[1;33m\u001b[0m\u001b[0m\n\u001b[0m\u001b[0;32m     58\u001b[0m \u001b[1;33m\u001b[0m\u001b[0m\n\u001b[0;32m     59\u001b[0m     \u001b[1;31m# An AttributeError occurs if the object does not have\u001b[0m\u001b[1;33m\u001b[0m\u001b[1;33m\u001b[0m\u001b[0m\n",
      "\u001b[1;31mValueError\u001b[0m: axes don't match array"
     ]
    }
   ],
   "source": [
    "voi_df = pd.read_csv('vois.csv')\n",
    "img_fn = \"E100262351.npy\"\n",
    "img = np.load(\"full_imgs\\\\\"+img_fn)\n",
    "plot_section(img, voi_df[voi_df[\"Filename\"] == img_fn].iloc[0], pad=5)"
   ]
  },
  {
   "cell_type": "code",
   "execution_count": 159,
   "metadata": {
    "collapsed": true
   },
   "outputs": [],
   "source": [
    "activ = model2.predict(X_train)\n",
    "#activ = model2.predict(np.expand_dims(X_train[10],axis=0))"
   ]
  },
  {
   "cell_type": "code",
   "execution_count": 166,
   "metadata": {
    "scrolled": true
   },
   "outputs": [
    {
     "data": {
      "text/plain": [
       "<matplotlib.image.AxesImage at 0x1c8e3907550>"
      ]
     },
     "execution_count": 166,
     "metadata": {},
     "output_type": "execute_result"
    },
    {
     "data": {
      "image/png": "[encoded data removed]",
      "text/plain": [
       "<matplotlib.figure.Figure at 0x1c8e38b92b0>"
      ]
     },
     "metadata": {},
     "output_type": "display_data"
    }
   ],
   "source": [
    "plt.imshow(activ[20][:,:,3,5])"
   ]
  },
  {
   "cell_type": "code",
   "execution_count": 162,
   "metadata": {
    "scrolled": true
   },
   "outputs": [
    {
     "data": {
      "text/plain": [
       "array([   0.        ,    0.        ,    0.        ,    0.        ,\n",
       "          0.        ,  121.71251678,   53.23372269,    0.        ,\n",
       "          0.        ,   24.43340492,    0.        ,    0.        ,\n",
       "          0.        ,    0.        ,    7.88301706,    0.        ], dtype=float32)"
      ]
     },
     "execution_count": 162,
     "metadata": {},
     "output_type": "execute_result"
    }
   ],
   "source": [
    "activ[0][5,5,2,:]"
   ]
  },
  {
   "cell_type": "code",
   "execution_count": 316,
   "metadata": {
    "scrolled": true
   },
   "outputs": [
    {
     "name": "stdout",
     "output_type": "stream",
     "text": [
      "Predictions: ['hcc (95.75861% confidence)', 'hcc (99.98515% confidence)', 'hcc (56.77554% confidence)', 'hcc (97.68384% confidence)', 'hcc (96.73136% confidence)', 'hcc (99.99979% confidence)', 'hcc (99.99988% confidence)', 'hcc (99.71866% confidence)', 'cyst (63.61439% confidence)', 'cyst (51.41591% confidence)', 'hcc (99.65365% confidence)', 'hcc (52.72004% confidence)', 'hcc (57.44457% confidence)', 'cyst (99.82330% confidence)', 'cyst (83.69393% confidence)']\n"
     ]
    }
   ],
   "source": [
    "import operator\n",
    "#print(\"Ground truth:\", [cls_mapping[max(enumerate(x), key=operator.itemgetter(1))[0]] for x in Y_val[::30]])\n",
    "Y_ = model.predict(X_test)\n",
    "print(\"Predictions:\", [cls_mapping[max(enumerate(x), key=operator.itemgetter(1))[0]] + \" (%.5f%% confidence)\" % (max(x)*100) for x in Y_])"
   ]
  },
  {
   "cell_type": "code",
   "execution_count": 20,
   "metadata": {
    "scrolled": true
   },
   "outputs": [
    {
     "data": {
      "text/plain": [
       "array([  2.78843247e-04,   9.99721110e-01], dtype=float32)"
      ]
     },
     "execution_count": 20,
     "metadata": {},
     "output_type": "execute_result"
    }
   ],
   "source": [
    "Y_[-1]"
   ]
  },
  {
   "cell_type": "code",
   "execution_count": 19,
   "metadata": {},
   "outputs": [
    {
     "data": {
      "text/plain": [
       "0.6875"
      ]
     },
     "execution_count": 19,
     "metadata": {},
     "output_type": "execute_result"
    }
   ],
   "source": [
    "max(sum(y)/len(y), 1-sum(y)/len(y))"
   ]
  },
  {
   "cell_type": "code",
   "execution_count": 87,
   "metadata": {},
   "outputs": [
    {
     "data": {
      "text/plain": [
       "210"
      ]
     },
     "execution_count": 87,
     "metadata": {},
     "output_type": "execute_result"
    }
   ],
   "source": [
    "len(X_val)"
   ]
  },
  {
   "cell_type": "code",
   "execution_count": 84,
   "metadata": {
    "collapsed": true
   },
   "outputs": [],
   "source": [
    "import time"
   ]
  },
  {
   "cell_type": "code",
   "execution_count": 86,
   "metadata": {
    "scrolled": true
   },
   "outputs": [
    {
     "name": "stdout",
     "output_type": "stream",
     "text": [
      "0.20054101943969727\n"
     ]
    }
   ],
   "source": [
    "a=time.time()\n",
    "Y_ = model.predict(X_val)\n",
    "print(time.time()-a)"
   ]
  },
  {
   "cell_type": "code",
   "execution_count": 136,
   "metadata": {
    "collapsed": true
   },
   "outputs": [],
   "source": [
    "import matplotlib.pyplot as plt\n",
    "%matplotlib inline"
   ]
  },
  {
   "cell_type": "code",
   "execution_count": 150,
   "metadata": {},
   "outputs": [
    {
     "data": {
      "text/plain": [
       "0.0"
      ]
     },
     "execution_count": 150,
     "metadata": {},
     "output_type": "execute_result"
    }
   ],
   "source": [
    "np.amax(X[650,:,:,:,0])"
   ]
  },
  {
   "cell_type": "code",
   "execution_count": 140,
   "metadata": {},
   "outputs": [
    {
     "data": {
      "text/plain": [
       "<matplotlib.image.AxesImage at 0x20b42b02b70>"
      ]
     },
     "execution_count": 140,
     "metadata": {},
     "output_type": "execute_result"
    },
    {
     "data": {
      "image/png": "[encoded data removed]",
      "text/plain": [
       "<matplotlib.figure.Figure at 0x20b424cdcf8>"
      ]
     },
     "metadata": {},
     "output_type": "display_data"
    }
   ],
   "source": [
    "plt.imshow(X[0,:,:,5,0])"
   ]
  }
 ],
 "metadata": {
  "kernelspec": {
   "display_name": "Python 3",
   "language": "python",
   "name": "python3"
  },
  "language_info": {
   "codemirror_mode": {
    "name": "ipython",
    "version": 3
   },
   "file_extension": ".py",
   "mimetype": "text/x-python",
   "name": "python",
   "nbconvert_exporter": "python",
   "pygments_lexer": "ipython3",
   "version": "3.5.0"
  }
 },
 "nbformat": 4,
 "nbformat_minor": 2
}
