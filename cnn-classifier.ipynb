{
 "cells": [
  {
   "cell_type": "code",
   "execution_count": 5,
   "metadata": {
    "scrolled": false
   },
   "outputs": [],
   "source": [
    "from keras.models import Model\n",
    "from keras.optimizers import Adam\n",
    "from keras.callbacks import EarlyStopping\n",
    "from keras.utils import np_utils\n",
    "from sklearn.metrics import confusion_matrix, f1_score, accuracy_score\n",
    "\n",
    "import cnn_builder as cbuild\n",
    "import cnn_methods as cfunc\n",
    "import config\n",
    "import csv\n",
    "import helper_fxns as hf\n",
    "import importlib\n",
    "import matplotlib.pyplot as plt\n",
    "import numpy as np\n",
    "import operator\n",
    "import os\n",
    "import pandas as pd\n",
    "import random\n",
    "%matplotlib inline"
   ]
  },
  {
   "cell_type": "code",
   "execution_count": 49,
   "metadata": {
    "scrolled": true
   },
   "outputs": [],
   "source": [
    "importlib.reload(config)\n",
    "importlib.reload(cfunc)\n",
    "importlib.reload(hf)\n",
    "importlib.reload(cbuild)\n",
    "C = config.Config()"
   ]
  },
  {
   "cell_type": "code",
   "execution_count": null,
   "metadata": {
    "scrolled": true
   },
   "outputs": [
    {
     "name": "stdout",
     "output_type": "stream",
     "text": [
      "6cls accuracy: 0.8  - average: 0.8\n",
      "3cls accuracy: 0.8625  - average: 0.8625\n",
      "6cls accuracy: 0.8  - average: 0.8\n",
      "3cls accuracy: 0.8625  - average: 0.8625\n",
      "6cls accuracy: 0.7625  - average: 0.7875\n",
      "3cls accuracy: 0.8375  - average: 0.854166666667\n",
      "6cls accuracy: 0.8125  - average: 0.79375\n",
      "3cls accuracy: 0.9  - average: 0.865625\n"
     ]
    }
   ],
   "source": [
    "cbuild.overnight_run(C)"
   ]
  },
  {
   "cell_type": "code",
   "execution_count": null,
   "metadata": {
    "collapsed": true
   },
   "outputs": [],
   "source": []
  },
  {
   "cell_type": "code",
   "execution_count": 47,
   "metadata": {
    "collapsed": true
   },
   "outputs": [],
   "source": [
    "def run_all():\n",
    "    \"\"\"Reruns everything except dimensions. Meant for overnight runs.\"\"\"\n",
    "    \n",
    "    import dr_methods as drm\n",
    "    import voi_methods as vm\n",
    "    import artif_gen_methods as agm\n",
    "    \n",
    "    C = config.Config()\n",
    "    drm.load_all_vois(C)\n",
    "    \n",
    "    intensity_df = drm.load_ints(C)\n",
    "    intensity_df.to_csv(C.int_df_path, index=False)\n",
    "    \n",
    "    n = 1500\n",
    "    for cls in C.classes_to_include:\n",
    "        agm.gen_imgs(cls, C, n)\n",
    "        if not os.path.exists(C.orig_dir + cls):\n",
    "            os.makedirs(C.orig_dir + cls)\n",
    "        if not os.path.exists(C.aug_dir + cls):\n",
    "            os.makedirs(C.aug_dir + cls)\n",
    "        if not os.path.exists(C.crops_dir + cls):\n",
    "            os.makedirs(C.crops_dir + cls)\n",
    "            \n",
    "    final_size = C.dims\n",
    "\n",
    "    voi_df_art = pd.read_csv(C.art_voi_path)\n",
    "    voi_df_ven = pd.read_csv(C.ven_voi_path)\n",
    "    voi_df_eq = pd.read_csv(C.eq_voi_path)\n",
    "    intensity_df = pd.read_csv(C.int_df_path)\n",
    "    \n",
    "    small_vois = {}\n",
    "    small_vois = vm.extract_vois(small_vois, C, voi_df_art, voi_df_ven, voi_df_eq, intensity_df)\n",
    "\n",
    "    with open(C.small_voi_path, 'w', newline='') as csv_file:\n",
    "        writer = csv.writer(csv_file)\n",
    "        for key, value in small_vois.items():\n",
    "            writer.writerow([key, value])\n",
    "            \n",
    "    # scaled imgs\n",
    "    t = time.time()\n",
    "    for cls in C.classes_to_include:\n",
    "        for fn in os.listdir(C.crops_dir + cls):\n",
    "            img = np.load(C.crops_dir + cls + \"\\\\\" + fn)\n",
    "            unaug_img = vm.resize_img(img, C.dims, small_vois[fn[:-4]])\n",
    "            np.save(C.orig_dir + cls + \"\\\\\" + fn, unaug_img)\n",
    "    print(time.time()-t)\n",
    "    \n",
    "    # augmented imgs\n",
    "    t = time.time()\n",
    "    for cls in C.classes_to_include:\n",
    "        vm.parallel_augment(cls, small_vois, C)\n",
    "        print(cls, time.time()-t)\n",
    "        \n",
    "    for cls in C.classes_to_include:\n",
    "        vm.save_all_vois(cls, C)\n",
    "        \n",
    "    cbuild.overnight_run(C)"
   ]
  },
  {
   "cell_type": "code",
   "execution_count": 44,
   "metadata": {
    "scrolled": true
   },
   "outputs": [
    {
     "name": "stdout",
     "output_type": "stream",
     "text": [
      "____________________________________________________________________________________________________\n",
      "Layer (type)                     Output Shape          Param #     Connected to                     \n",
      "====================================================================================================\n",
      "input_69 (InputLayer)            (None, 36, 36, 12, 1) 0                                            \n",
      "____________________________________________________________________________________________________\n",
      "input_70 (InputLayer)            (None, 36, 36, 12, 1) 0                                            \n",
      "____________________________________________________________________________________________________\n",
      "input_71 (InputLayer)            (None, 36, 36, 12, 1) 0                                            \n",
      "____________________________________________________________________________________________________\n",
      "conv3d_86 (Conv3D)               (None, 32, 32, 10, 64 1792        input_69[0][0]                   \n",
      "____________________________________________________________________________________________________\n",
      "conv3d_87 (Conv3D)               (None, 32, 32, 10, 64 1792        input_70[0][0]                   \n",
      "____________________________________________________________________________________________________\n",
      "conv3d_88 (Conv3D)               (None, 32, 32, 10, 64 1792        input_71[0][0]                   \n",
      "____________________________________________________________________________________________________\n",
      "batch_normalization_120 (BatchNo (None, 32, 32, 10, 64 256         conv3d_86[0][0]                  \n",
      "____________________________________________________________________________________________________\n",
      "batch_normalization_121 (BatchNo (None, 32, 32, 10, 64 256         conv3d_87[0][0]                  \n",
      "____________________________________________________________________________________________________\n",
      "batch_normalization_122 (BatchNo (None, 32, 32, 10, 64 256         conv3d_88[0][0]                  \n",
      "____________________________________________________________________________________________________\n",
      "elu_25 (ELU)                     (None, 32, 32, 10, 64 0           batch_normalization_120[0][0]    \n",
      "____________________________________________________________________________________________________\n",
      "elu_26 (ELU)                     (None, 32, 32, 10, 64 0           batch_normalization_121[0][0]    \n",
      "____________________________________________________________________________________________________\n",
      "elu_27 (ELU)                     (None, 32, 32, 10, 64 0           batch_normalization_122[0][0]    \n",
      "____________________________________________________________________________________________________\n",
      "max_pooling3d_69 (MaxPooling3D)  (None, 16, 16, 5, 64) 0           elu_25[0][0]                     \n",
      "____________________________________________________________________________________________________\n",
      "max_pooling3d_70 (MaxPooling3D)  (None, 16, 16, 5, 64) 0           elu_26[0][0]                     \n",
      "____________________________________________________________________________________________________\n",
      "max_pooling3d_71 (MaxPooling3D)  (None, 16, 16, 5, 64) 0           elu_27[0][0]                     \n",
      "____________________________________________________________________________________________________\n",
      "concatenate_35 (Concatenate)     (None, 16, 16, 5, 192 0           max_pooling3d_69[0][0]           \n",
      "                                                                   max_pooling3d_70[0][0]           \n",
      "                                                                   max_pooling3d_71[0][0]           \n",
      "____________________________________________________________________________________________________\n",
      "conv3d_89 (Conv3D)               (None, 14, 14, 3, 128 663680      concatenate_35[0][0]             \n",
      "____________________________________________________________________________________________________\n",
      "batch_normalization_123 (BatchNo (None, 14, 14, 3, 128 512         conv3d_89[0][0]                  \n",
      "____________________________________________________________________________________________________\n",
      "elu_28 (ELU)                     (None, 14, 14, 3, 128 0           batch_normalization_123[0][0]    \n",
      "____________________________________________________________________________________________________\n",
      "conv3d_90 (Conv3D)               (None, 12, 12, 1, 100 345700      elu_28[0][0]                     \n",
      "____________________________________________________________________________________________________\n",
      "batch_normalization_124 (BatchNo (None, 12, 12, 1, 100 400         conv3d_90[0][0]                  \n",
      "____________________________________________________________________________________________________\n",
      "elu_29 (ELU)                     (None, 12, 12, 1, 100 0           batch_normalization_124[0][0]    \n",
      "____________________________________________________________________________________________________\n",
      "max_pooling3d_72 (MaxPooling3D)  (None, 6, 6, 1, 100)  0           elu_29[0][0]                     \n",
      "____________________________________________________________________________________________________\n",
      "flatten_18 (Flatten)             (None, 3600)          0           max_pooling3d_72[0][0]           \n",
      "____________________________________________________________________________________________________\n",
      "input_72 (InputLayer)            (None, 2)             0                                            \n",
      "____________________________________________________________________________________________________\n",
      "concatenate_36 (Concatenate)     (None, 3602)          0           flatten_18[0][0]                 \n",
      "                                                                   input_72[0][0]                   \n",
      "____________________________________________________________________________________________________\n",
      "dense_35 (Dense)                 (None, 100)           360300      concatenate_36[0][0]             \n",
      "____________________________________________________________________________________________________\n",
      "batch_normalization_125 (BatchNo (None, 100)           400         dense_35[0][0]                   \n",
      "____________________________________________________________________________________________________\n",
      "elu_30 (ELU)                     (None, 100)           0           batch_normalization_125[0][0]    \n",
      "____________________________________________________________________________________________________\n",
      "dense_36 (Dense)                 (None, 6)             606         elu_30[0][0]                     \n",
      "____________________________________________________________________________________________________\n",
      "batch_normalization_126 (BatchNo (None, 6)             24          dense_36[0][0]                   \n",
      "____________________________________________________________________________________________________\n",
      "activation_26 (Activation)       (None, 6)             0           batch_normalization_126[0][0]    \n",
      "====================================================================================================\n",
      "Total params: 1,377,766\n",
      "Trainable params: 1,376,714\n",
      "Non-trainable params: 1,052\n",
      "____________________________________________________________________________________________________\n"
     ]
    }
   ],
   "source": [
    "model = cbuild.build_cnn(C, 'adam')#Adam(lr=.005)\n",
    "model.summary()"
   ]
  },
  {
   "cell_type": "markdown",
   "metadata": {},
   "source": [
    "model = cbuild.run_cnn(model, C)"
   ]
  },
  {
   "cell_type": "code",
   "execution_count": 26,
   "metadata": {
    "scrolled": true
   },
   "outputs": [
    {
     "name": "stdout",
     "output_type": "stream",
     "text": [
      "{'hcc': 84, 'cholangio': 56, 'fnh': 59, 'colorectal': 72, 'hemangioma': 56, 'cyst': 75}\n"
     ]
    }
   ],
   "source": [
    "nb_classes = len(C.classes_to_include)\n",
    "voi_df = pd.read_csv(C.art_voi_path)\n",
    "orig_data_dict, num_samples = cfunc.collect_unaug_data(C, voi_df)\n",
    "print(num_samples)\n",
    "\n",
    "avg_X2 = {}\n",
    "for cls in C.classes_to_include:\n",
    "    avg_X2[cls] = np.mean(orig_data_dict[cls][1], axis=0)"
   ]
  },
  {
   "cell_type": "code",
   "execution_count": 27,
   "metadata": {
    "scrolled": true
   },
   "outputs": [
    {
     "name": "stdout",
     "output_type": "stream",
     "text": [
      "hcc has 67 samples for training (3350 after augmentation) and 17 for testing\n",
      "cholangio has 45 samples for training (2250 after augmentation) and 11 for testing\n",
      "fnh has 47 samples for training (2350 after augmentation) and 12 for testing\n",
      "colorectal has 58 samples for training (2900 after augmentation) and 14 for testing\n",
      "hemangioma has 45 samples for training (2250 after augmentation) and 11 for testing\n",
      "cyst has 60 samples for training (3000 after augmentation) and 15 for testing\n"
     ]
    }
   ],
   "source": [
    "train_ids = {} #filenames of training set originals\n",
    "test_ids = {} #filenames of test set\n",
    "X_test = []\n",
    "X2_test = []\n",
    "Y_test = []\n",
    "Z_test = []\n",
    "X_train_orig = []\n",
    "X2_train_orig = []\n",
    "Y_train_orig = []\n",
    "Z_train_orig = []\n",
    "\n",
    "train_samples = {}\n",
    "\n",
    "for cls_num, cls in enumerate(orig_data_dict):\n",
    "    cls_num = C.classes_to_include.index(cls)\n",
    "\n",
    "    train_samples[cls] = round(num_samples[cls]*C.train_frac)\n",
    "\n",
    "    order = np.random.permutation(list(range(num_samples[cls])))\n",
    "    train_ids[cls] = list(orig_data_dict[cls][2][order[:train_samples[cls]]])\n",
    "    test_ids[cls] = list(orig_data_dict[cls][2][order[train_samples[cls]:]])\n",
    "\n",
    "    X_test = X_test + list(orig_data_dict[cls][0][order[train_samples[cls]:]])\n",
    "    X2_test = X2_test + list(orig_data_dict[cls][1][order[train_samples[cls]:]])\n",
    "    Y_test = Y_test + [[0] * cls_num + [1] + [0] * (nb_classes - cls_num - 1)] * \\\n",
    "                        (num_samples[cls] - train_samples[cls])\n",
    "    Z_test = Z_test + test_ids[cls]\n",
    "\n",
    "    X_train_orig = X_train_orig + list(orig_data_dict[cls][0][order[:train_samples[cls]]])\n",
    "    X2_train_orig = X2_train_orig + list(orig_data_dict[cls][1][order[:train_samples[cls]]])\n",
    "    Y_train_orig = Y_train_orig + [[0] * cls_num + [1] + [0] * (nb_classes - cls_num - 1)] * \\\n",
    "                        (train_samples[cls])\n",
    "    Z_train_orig = Z_train_orig + train_ids[cls]\n",
    "\n",
    "    print(\"%s has %d samples for training (%d after augmentation) and %d for testing\" %\n",
    "          (cls, train_samples[cls], train_samples[cls] * C.aug_factor, num_samples[cls] - train_samples[cls]))\n",
    "\n",
    "#Y_test = np_utils.to_categorical(Y_test, nb_classes)\n",
    "#Y_train_orig = np_utils.to_categorical(Y_train_orig, nb_classes)\n",
    "X_test = [np.array(X_test), np.array(X2_test)]\n",
    "X_train_orig = [np.array(X_train_orig), np.array(X2_train_orig)]\n",
    "\n",
    "Y_test = np.array(Y_test)\n",
    "Y_train_orig = np.array(Y_train_orig)\n",
    "\n",
    "Z_test = np.array(Z_test)\n",
    "Z_train_orig = np.array(Z_train_orig)\n",
    "\n",
    "X_test = cfunc.separate_phases(X_test)\n",
    "X_train_orig = cfunc.separate_phases(X_train_orig)"
   ]
  },
  {
   "cell_type": "markdown",
   "metadata": {},
   "source": [
    "train_generator = train_generator_func()\n",
    "model_pretrain.fit_generator(train_generator, steps_per_epoch=120, epochs=50)#, callbacks=[early_stopping])"
   ]
  },
  {
   "cell_type": "code",
   "execution_count": 33,
   "metadata": {
    "scrolled": true
   },
   "outputs": [
    {
     "name": "stdout",
     "output_type": "stream",
     "text": [
      "Epoch 1/3\n",
      "1/1 [==============================] - 1s - loss: 1.5403 - acc: 0.4375\n",
      "Epoch 2/3\n",
      "1/1 [==============================] - 0s - loss: 1.1763 - acc: 0.5208\n",
      "Epoch 3/3\n",
      "1/1 [==============================] - 0s - loss: 1.1641 - acc: 0.6458\n"
     ]
    }
   ],
   "source": [
    "#early_stopping = EarlyStopping(monitor='acc', min_delta=0.01, patience=4)\n",
    "train_generator = cbuild.train_generator_func(C, train_ids, voi_df, avg_X2, n=5, n_art=3)\n",
    "hist = model.fit_generator(train_generator, steps_per_epoch=1, epochs=3)#, callbacks=[early_stopping])"
   ]
  },
  {
   "cell_type": "code",
   "execution_count": 36,
   "metadata": {},
   "outputs": [
    {
     "data": {
      "text/plain": [
       "[<matplotlib.lines.Line2D at 0x131094c24a8>]"
      ]
     },
     "execution_count": 36,
     "metadata": {},
     "output_type": "execute_result"
    },
    {
     "data": {
      "image/png": "[encoded data removed]",
      "text/plain": [
       "<matplotlib.figure.Figure at 0x131096dab38>"
      ]
     },
     "metadata": {},
     "output_type": "display_data"
    }
   ],
   "source": [
    "plt.plot(hist.history['loss'])"
   ]
  },
  {
   "cell_type": "markdown",
   "metadata": {
    "scrolled": true
   },
   "source": [
    "hist = model.fit(X_train2, Y_train2, batch_size=32, epochs=200, validation_data=(X_test, Y_test), callbacks=[early_stopping])"
   ]
  },
  {
   "cell_type": "code",
   "execution_count": 92,
   "metadata": {},
   "outputs": [],
   "source": [
    "voi_df_art = pd.read_csv(C.art_voi_path)\n",
    "voi_df_ven = pd.read_csv(C.ven_voi_path)\n",
    "voi_df_eq = pd.read_csv(C.eq_voi_path)\n",
    "\n",
    "with open(C.small_voi_path, 'r') as csv_file:\n",
    "    reader = csv.reader(csv_file)\n",
    "    small_vois = dict(reader)\n",
    "for key in small_vois:\n",
    "    small_vois[key] = [int(x) for x in small_vois[key][1:-1].split(', ')]"
   ]
  },
  {
   "cell_type": "code",
   "execution_count": null,
   "metadata": {
    "collapsed": true
   },
   "outputs": [],
   "source": [
    "cbuild.overnight_run(C)"
   ]
  },
  {
   "cell_type": "code",
   "execution_count": null,
   "metadata": {},
   "outputs": [],
   "source": [
    "C.output_img_dir = \"Z:\\\\OUTPUT\\\\12-08-2d-bn\"\n",
    "C.classes_to_include"
   ]
  },
  {
   "cell_type": "code",
   "execution_count": 58,
   "metadata": {
    "scrolled": true
   },
   "outputs": [],
   "source": [
    "#plot_with_bbox(fn_list[2], cls_mapping[wrong_guesses[2]])\n",
    "Y_pred = model.predict(X_test)\n",
    "y_true = np.array([max(enumerate(x), key=operator.itemgetter(1))[0] for x in Y_test])\n",
    "y_pred = np.array([max(enumerate(x), key=operator.itemgetter(1))[0] for x in Y_pred])\n",
    "\n",
    "cm = confusion_matrix(y_true, y_pred)\n",
    "f1 = f1_score(y_true, y_pred, average=\"weighted\")\n",
    "\n",
    "#cfunc.save_output(Z_test, y_pred, y_true, voi_df_art, small_vois, C.classes_to_include, C)"
   ]
  },
  {
   "cell_type": "code",
   "execution_count": null,
   "metadata": {
    "collapsed": true
   },
   "outputs": [],
   "source": [
    "Y_pred = model.predict(X_train_orig)\n",
    "y_true = np.array([max(enumerate(x), key=operator.itemgetter(1))[0] for x in Y_train_orig])\n",
    "y_pred = np.array([max(enumerate(x), key=operator.itemgetter(1))[0] for x in Y_pred])\n",
    "\n",
    "cm = confusion_matrix(y_true, y_pred)\n",
    "f1 = f1_score(y_true, y_pred, average=\"weighted\")\n",
    "\n",
    "#cfunc.save_output(Z_train_orig, y_pred, y_true, voi_df_art, small_vois, C.classes_to_include, C, save_dir=\"Z:\\\\OUTPUT\\\\12-08-3d\\\\training\")"
   ]
  },
  {
   "cell_type": "code",
   "execution_count": 83,
   "metadata": {
    "scrolled": false
   },
   "outputs": [
    {
     "data": {
      "text/plain": [
       "array([[13,  0,  2, 41,  2, 11],\n",
       "       [ 0,  0,  0, 24, 21,  0],\n",
       "       [ 0,  0, 10, 47,  1,  0],\n",
       "       [ 0,  0,  0, 58,  2,  0],\n",
       "       [ 0,  0,  0, 37,  8,  0],\n",
       "       [ 0,  0,  0, 11,  0, 36]], dtype=int64)"
      ]
     },
     "execution_count": 83,
     "metadata": {},
     "output_type": "execute_result"
    }
   ],
   "source": [
    "cm"
   ]
  },
  {
   "cell_type": "code",
   "execution_count": 60,
   "metadata": {
    "scrolled": true
   },
   "outputs": [],
   "source": [
    "y_true_simp, y_pred_simp, _ = cfunc.condense_cm(y_true, y_pred, C.classes_to_include)"
   ]
  },
  {
   "cell_type": "code",
   "execution_count": 61,
   "metadata": {
    "scrolled": false
   },
   "outputs": [
    {
     "data": {
      "text/plain": [
       "0.86250000000000004"
      ]
     },
     "execution_count": 61,
     "metadata": {},
     "output_type": "execute_result"
    }
   ],
   "source": [
    "accuracy_score(y_true_simp, y_pred_simp)"
   ]
  },
  {
   "cell_type": "code",
   "execution_count": 59,
   "metadata": {
    "scrolled": true
   },
   "outputs": [
    {
     "data": {
      "text/plain": [
       "0.78749999999999998"
      ]
     },
     "execution_count": 59,
     "metadata": {},
     "output_type": "execute_result"
    }
   ],
   "source": [
    "accuracy_score(y_true, y_pred)"
   ]
  },
  {
   "cell_type": "markdown",
   "metadata": {},
   "source": [
    "2d: 77%/84%, 74%/80%\n",
    "3d: 78%/89%\n",
    "2d bn: 77%/82%, \n",
    "3d bn: 84%/87%, 74%/83%\n",
    "3d bn no artif: 84%/87%, 74%/83%\n",
    "3d bn/elu/dilation/3conv/64-128-100-100: 80%/86%, 82%/88%, 84%/91%"
   ]
  },
  {
   "cell_type": "markdown",
   "metadata": {
    "collapsed": true
   },
   "source": [
    "fn_list = Z_test[~np.equal(y_pred, y_true)]\n",
    "wrong_guesses = np.array(y_pred)[~np.equal(y_pred, y_true)]"
   ]
  },
  {
   "cell_type": "markdown",
   "metadata": {
    "collapsed": true
   },
   "source": [
    "activ = model2.predict(X_train)\n",
    "#activ = model2.predict(np.expand_dims(X_train[10],axis=0))"
   ]
  },
  {
   "cell_type": "markdown",
   "metadata": {
    "scrolled": true
   },
   "source": [
    "import operator\n",
    "#print(\"Ground truth:\", [C.classes_to_include[max(enumerate(x), key=operator.itemgetter(1))[0]] for x in Y_val[::30]])\n",
    "Y_ = model.predict(X_test)\n",
    "print(\"Predictions:\", [C.classes_to_include[max(enumerate(x), key=operator.itemgetter(1))[0]] + \" (%.5f%% probability)\" % (max(x)*100) for x in Y_])"
   ]
  }
 ],
 "metadata": {
  "kernelspec": {
   "display_name": "Python 3",
   "language": "python",
   "name": "python3"
  },
  "language_info": {
   "codemirror_mode": {
    "name": "ipython",
    "version": 3
   },
   "file_extension": ".py",
   "mimetype": "text/x-python",
   "name": "python",
   "nbconvert_exporter": "python",
   "pygments_lexer": "ipython3",
   "version": "3.5.0"
  }
 },
 "nbformat": 4,
 "nbformat_minor": 2
}
