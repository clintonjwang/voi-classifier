{
 "cells": [
  {
   "cell_type": "code",
   "execution_count": 3,
   "metadata": {
    "scrolled": true
   },
   "outputs": [
    {
     "name": "stderr",
     "output_type": "stream",
     "text": [
      "Using TensorFlow backend.\n"
     ]
    }
   ],
   "source": [
    "from keras.models import Model\n",
    "from keras.optimizers import Adam\n",
    "from keras.callbacks import EarlyStopping\n",
    "from keras.utils import np_utils\n",
    "from sklearn.metrics import confusion_matrix, f1_score, accuracy_score\n",
    "\n",
    "import cnn_builder as cbuild\n",
    "import cnn_methods as cfunc\n",
    "import config\n",
    "import csv\n",
    "import helper_fxns as hf\n",
    "import importlib\n",
    "import matplotlib.pyplot as plt\n",
    "import numpy as np\n",
    "import operator\n",
    "import os\n",
    "import pandas as pd\n",
    "import random\n",
    "%matplotlib inline"
   ]
  },
  {
   "cell_type": "code",
   "execution_count": 260,
   "metadata": {
    "scrolled": true
   },
   "outputs": [],
   "source": [
    "importlib.reload(config)\n",
    "importlib.reload(cfunc)\n",
    "importlib.reload(hf)\n",
    "importlib.reload(cbuild)\n",
    "C = config.Config()"
   ]
  },
  {
   "cell_type": "code",
   "execution_count": null,
   "metadata": {
    "collapsed": true
   },
   "outputs": [],
   "source": [
    "cbuild.overnight_run(C)"
   ]
  },
  {
   "cell_type": "code",
   "execution_count": 239,
   "metadata": {
    "scrolled": true
   },
   "outputs": [
    {
     "name": "stdout",
     "output_type": "stream",
     "text": [
      "____________________________________________________________________________________________________\n",
      "Layer (type)                     Output Shape          Param #     Connected to                     \n",
      "====================================================================================================\n",
      "input_355 (InputLayer)           (None, 24, 24, 12, 1) 0                                            \n",
      "____________________________________________________________________________________________________\n",
      "input_356 (InputLayer)           (None, 24, 24, 12, 1) 0                                            \n",
      "____________________________________________________________________________________________________\n",
      "input_357 (InputLayer)           (None, 24, 24, 12, 1) 0                                            \n",
      "____________________________________________________________________________________________________\n",
      "conv3d_472 (Conv3D)              (None, 22, 22, 10, 64 1792        input_355[0][0]                  \n",
      "____________________________________________________________________________________________________\n",
      "conv3d_473 (Conv3D)              (None, 22, 22, 10, 64 1792        input_356[0][0]                  \n",
      "____________________________________________________________________________________________________\n",
      "conv3d_474 (Conv3D)              (None, 22, 22, 10, 64 1792        input_357[0][0]                  \n",
      "____________________________________________________________________________________________________\n",
      "batch_normalization_644 (BatchNo (None, 22, 22, 10, 64 256         conv3d_472[0][0]                 \n",
      "____________________________________________________________________________________________________\n",
      "batch_normalization_645 (BatchNo (None, 22, 22, 10, 64 256         conv3d_473[0][0]                 \n",
      "____________________________________________________________________________________________________\n",
      "batch_normalization_646 (BatchNo (None, 22, 22, 10, 64 256         conv3d_474[0][0]                 \n",
      "____________________________________________________________________________________________________\n",
      "elu_434 (ELU)                    (None, 22, 22, 10, 64 0           batch_normalization_644[0][0]    \n",
      "____________________________________________________________________________________________________\n",
      "elu_435 (ELU)                    (None, 22, 22, 10, 64 0           batch_normalization_645[0][0]    \n",
      "____________________________________________________________________________________________________\n",
      "elu_436 (ELU)                    (None, 22, 22, 10, 64 0           batch_normalization_646[0][0]    \n",
      "____________________________________________________________________________________________________\n",
      "max_pooling3d_354 (MaxPooling3D) (None, 11, 11, 10, 64 0           elu_434[0][0]                    \n",
      "____________________________________________________________________________________________________\n",
      "max_pooling3d_355 (MaxPooling3D) (None, 11, 11, 10, 64 0           elu_435[0][0]                    \n",
      "____________________________________________________________________________________________________\n",
      "max_pooling3d_356 (MaxPooling3D) (None, 11, 11, 10, 64 0           elu_436[0][0]                    \n",
      "____________________________________________________________________________________________________\n",
      "concatenate_177 (Concatenate)    (None, 11, 11, 10, 19 0           max_pooling3d_354[0][0]          \n",
      "                                                                   max_pooling3d_355[0][0]          \n",
      "                                                                   max_pooling3d_356[0][0]          \n",
      "____________________________________________________________________________________________________\n",
      "conv3d_475 (Conv3D)              (None, 11, 11, 10, 12 663680      concatenate_177[0][0]            \n",
      "____________________________________________________________________________________________________\n",
      "batch_normalization_647 (BatchNo (None, 11, 11, 10, 12 512         conv3d_475[0][0]                 \n",
      "____________________________________________________________________________________________________\n",
      "elu_437 (ELU)                    (None, 11, 11, 10, 12 0           batch_normalization_647[0][0]    \n",
      "____________________________________________________________________________________________________\n",
      "dropout_9 (Dropout)              (None, 11, 11, 10, 12 0           elu_437[0][0]                    \n",
      "____________________________________________________________________________________________________\n",
      "conv3d_476 (Conv3D)              (None, 11, 11, 10, 12 442496      dropout_9[0][0]                  \n",
      "____________________________________________________________________________________________________\n",
      "batch_normalization_648 (BatchNo (None, 11, 11, 10, 12 512         conv3d_476[0][0]                 \n",
      "____________________________________________________________________________________________________\n",
      "elu_438 (ELU)                    (None, 11, 11, 10, 12 0           batch_normalization_648[0][0]    \n",
      "____________________________________________________________________________________________________\n",
      "dropout_10 (Dropout)             (None, 11, 11, 10, 12 0           elu_438[0][0]                    \n",
      "____________________________________________________________________________________________________\n",
      "conv3d_477 (Conv3D)              (None, 11, 11, 10, 12 442496      dropout_10[0][0]                 \n",
      "____________________________________________________________________________________________________\n",
      "batch_normalization_649 (BatchNo (None, 11, 11, 10, 12 512         conv3d_477[0][0]                 \n",
      "____________________________________________________________________________________________________\n",
      "elu_439 (ELU)                    (None, 11, 11, 10, 12 0           batch_normalization_649[0][0]    \n",
      "____________________________________________________________________________________________________\n",
      "dropout_11 (Dropout)             (None, 11, 11, 10, 12 0           elu_439[0][0]                    \n",
      "____________________________________________________________________________________________________\n",
      "max_pooling3d_357 (MaxPooling3D) (None, 5, 5, 5, 128)  0           dropout_11[0][0]                 \n",
      "____________________________________________________________________________________________________\n",
      "flatten_88 (Flatten)             (None, 16000)         0           max_pooling3d_357[0][0]          \n",
      "____________________________________________________________________________________________________\n",
      "input_358 (InputLayer)           (None, 2)             0                                            \n",
      "____________________________________________________________________________________________________\n",
      "concatenate_178 (Concatenate)    (None, 16002)         0           flatten_88[0][0]                 \n",
      "                                                                   input_358[0][0]                  \n",
      "____________________________________________________________________________________________________\n",
      "dense_175 (Dense)                (None, 100)           1600300     concatenate_178[0][0]            \n",
      "____________________________________________________________________________________________________\n",
      "batch_normalization_650 (BatchNo (None, 100)           400         dense_175[0][0]                  \n",
      "____________________________________________________________________________________________________\n",
      "dropout_12 (Dropout)             (None, 100)           0           batch_normalization_650[0][0]    \n",
      "____________________________________________________________________________________________________\n",
      "elu_440 (ELU)                    (None, 100)           0           dropout_12[0][0]                 \n",
      "____________________________________________________________________________________________________\n",
      "dense_176 (Dense)                (None, 6)             606         elu_440[0][0]                    \n",
      "____________________________________________________________________________________________________\n",
      "batch_normalization_651 (BatchNo (None, 6)             24          dense_176[0][0]                  \n",
      "____________________________________________________________________________________________________\n",
      "activation_211 (Activation)      (None, 6)             0           batch_normalization_651[0][0]    \n",
      "====================================================================================================\n",
      "Total params: 3,157,682\n",
      "Trainable params: 3,156,318\n",
      "Non-trainable params: 1,364\n",
      "____________________________________________________________________________________________________\n"
     ]
    }
   ],
   "source": [
    "model = cbuild.build_cnn(C, 'adam', f=[64,128,128,128], dropout=[0,0])#Adam(lr=.005)\n",
    "model.summary()"
   ]
  },
  {
   "cell_type": "markdown",
   "metadata": {},
   "source": [
    "model = cbuild.run_cnn(model, C)"
   ]
  },
  {
   "cell_type": "code",
   "execution_count": 262,
   "metadata": {
    "scrolled": true
   },
   "outputs": [
    {
     "name": "stdout",
     "output_type": "stream",
     "text": [
      "\n",
      "hcc\n",
      "\n",
      "cholangio\n",
      "\n",
      "colorectal\n",
      "E101346528,E101361319,E101665217,E101665217,E101665217,E102307147,E102857025,E103312835,E103312835,E103359656,E104243475,E104298604,E104298604,E104298604,E105057635,E105370029,E105370029,E105452218,E105452218,E105452218,E105474285,\n",
      "cyst\n",
      "\n",
      "hemangioma\n",
      "\n",
      "fnh\n",
      "12362250,12362250,12362250,12362250,12455319,12552705,12943872,E100168424,E100215900,E100215900,E100215900,E100215900,E100987314,E101099918,E101198113,E101749070,E102341190,E102798599,{'fnh': 87, 'hemangioma': 63, 'hcc': 99, 'cyst': 79, 'cholangio': 49}\n"
     ]
    },
    {
     "ename": "KeyError",
     "evalue": "'colorectal'",
     "output_type": "error",
     "traceback": [
      "\u001b[1;31m---------------------------------------------------------------------------\u001b[0m",
      "\u001b[1;31mKeyError\u001b[0m                                  Traceback (most recent call last)",
      "\u001b[1;32m<ipython-input-262-ee19d36562a3>\u001b[0m in \u001b[0;36m<module>\u001b[1;34m()\u001b[0m\n\u001b[0;32m      6\u001b[0m \u001b[0mavg_X2\u001b[0m \u001b[1;33m=\u001b[0m \u001b[1;33m{\u001b[0m\u001b[1;33m}\u001b[0m\u001b[1;33m\u001b[0m\u001b[0m\n\u001b[0;32m      7\u001b[0m \u001b[1;32mfor\u001b[0m \u001b[0mcls\u001b[0m \u001b[1;32min\u001b[0m \u001b[0mC\u001b[0m\u001b[1;33m.\u001b[0m\u001b[0mclasses_to_include\u001b[0m\u001b[1;33m:\u001b[0m\u001b[1;33m\u001b[0m\u001b[0m\n\u001b[1;32m----> 8\u001b[1;33m     \u001b[0mavg_X2\u001b[0m\u001b[1;33m[\u001b[0m\u001b[0mcls\u001b[0m\u001b[1;33m]\u001b[0m \u001b[1;33m=\u001b[0m \u001b[0mnp\u001b[0m\u001b[1;33m.\u001b[0m\u001b[0mmean\u001b[0m\u001b[1;33m(\u001b[0m\u001b[0morig_data_dict\u001b[0m\u001b[1;33m[\u001b[0m\u001b[0mcls\u001b[0m\u001b[1;33m]\u001b[0m\u001b[1;33m[\u001b[0m\u001b[1;36m1\u001b[0m\u001b[1;33m]\u001b[0m\u001b[1;33m,\u001b[0m \u001b[0maxis\u001b[0m\u001b[1;33m=\u001b[0m\u001b[1;36m0\u001b[0m\u001b[1;33m)\u001b[0m\u001b[1;33m\u001b[0m\u001b[0m\n\u001b[0m",
      "\u001b[1;31mKeyError\u001b[0m: 'colorectal'"
     ]
    }
   ],
   "source": [
    "nb_classes = len(C.classes_to_include)\n",
    "voi_df = pd.read_csv(C.art_voi_path)\n",
    "orig_data_dict, num_samples = cfunc.collect_unaug_data(C, voi_df)\n",
    "print(num_samples)\n",
    "\n",
    "avg_X2 = {}\n",
    "for cls in C.classes_to_include:\n",
    "    avg_X2[cls] = np.mean(orig_data_dict[cls][1], axis=0)"
   ]
  },
  {
   "cell_type": "code",
   "execution_count": null,
   "metadata": {
    "scrolled": false
   },
   "outputs": [],
   "source": [
    "train_ids = {} #filenames of training set originals\n",
    "test_ids = {} #filenames of test set\n",
    "X_test = []\n",
    "X2_test = []\n",
    "Y_test = []\n",
    "Z_test = []\n",
    "X_train_orig = []\n",
    "X2_train_orig = []\n",
    "Y_train_orig = []\n",
    "Z_train_orig = []\n",
    "\n",
    "train_samples = {}\n",
    "\n",
    "for cls_num, cls in enumerate(orig_data_dict):\n",
    "    cls_num = C.classes_to_include.index(cls)\n",
    "\n",
    "    train_samples[cls] = round(num_samples[cls]*C.train_frac)\n",
    "\n",
    "    order = np.random.permutation(list(range(num_samples[cls])))\n",
    "    train_ids[cls] = list(orig_data_dict[cls][2][order[:train_samples[cls]]])\n",
    "    test_ids[cls] = list(orig_data_dict[cls][2][order[train_samples[cls]:]])\n",
    "\n",
    "    X_test = X_test + list(orig_data_dict[cls][0][order[train_samples[cls]:]])\n",
    "    X2_test = X2_test + list(orig_data_dict[cls][1][order[train_samples[cls]:]])\n",
    "    Y_test = Y_test + [[0] * cls_num + [1] + [0] * (nb_classes - cls_num - 1)] * \\\n",
    "                        (num_samples[cls] - train_samples[cls])\n",
    "    Z_test = Z_test + test_ids[cls]\n",
    "\n",
    "    X_train_orig = X_train_orig + list(orig_data_dict[cls][0][order[:train_samples[cls]]])\n",
    "    X2_train_orig = X2_train_orig + list(orig_data_dict[cls][1][order[:train_samples[cls]]])\n",
    "    Y_train_orig = Y_train_orig + [[0] * cls_num + [1] + [0] * (nb_classes - cls_num - 1)] * \\\n",
    "                        (train_samples[cls])\n",
    "    Z_train_orig = Z_train_orig + train_ids[cls]\n",
    "\n",
    "    print(\"%s has %d samples for training (%d after augmentation) and %d for testing\" %\n",
    "          (cls, train_samples[cls], train_samples[cls] * C.aug_factor, num_samples[cls] - train_samples[cls]))\n",
    "\n",
    "#Y_test = np_utils.to_categorical(Y_test, nb_classes)\n",
    "#Y_train_orig = np_utils.to_categorical(Y_train_orig, nb_classes)\n",
    "X_test = [np.array(X_test), np.array(X2_test)]\n",
    "X_train_orig = [np.array(X_train_orig), np.array(X2_train_orig)]\n",
    "\n",
    "Y_test = np.array(Y_test)\n",
    "Y_train_orig = np.array(Y_train_orig)\n",
    "\n",
    "Z_test = np.array(Z_test)\n",
    "Z_train_orig = np.array(Z_train_orig)\n",
    "\n",
    "X_test = cfunc.separate_phases(X_test)\n",
    "X_train_orig = cfunc.separate_phases(X_train_orig)"
   ]
  },
  {
   "cell_type": "markdown",
   "metadata": {},
   "source": [
    "train_generator = train_generator_func()\n",
    "model_pretrain.fit_generator(train_generator, steps_per_epoch=120, epochs=50)#, callbacks=[early_stopping])"
   ]
  },
  {
   "cell_type": "code",
   "execution_count": null,
   "metadata": {
    "collapsed": true
   },
   "outputs": [],
   "source": [
    "#early_stopping = EarlyStopping(monitor='acc', min_delta=0.01, patience=4)\n",
    "train_generator = cbuild.train_generator_func(C, train_ids, voi_df, avg_X2, n=6, n_art=0)\n",
    "hist = model.fit_generator(train_generator, steps_per_epoch=250, epochs=15)#, callbacks=[early_stopping])"
   ]
  },
  {
   "cell_type": "code",
   "execution_count": 233,
   "metadata": {},
   "outputs": [
    {
     "data": {
      "text/plain": [
       "[<matplotlib.lines.Line2D at 0x2d458c76828>]"
      ]
     },
     "execution_count": 233,
     "metadata": {},
     "output_type": "execute_result"
    },
    {
     "data": {
      "image/png": "[encoded data removed]",
      "text/plain": [
       "<matplotlib.figure.Figure at 0x2d45d41ee10>"
      ]
     },
     "metadata": {},
     "output_type": "display_data"
    }
   ],
   "source": [
    "plt.plot(hist.history['loss'])"
   ]
  },
  {
   "cell_type": "markdown",
   "metadata": {
    "scrolled": true
   },
   "source": [
    "hist = model.fit(X_train2, Y_train2, batch_size=32, epochs=200, validation_data=(X_test, Y_test), callbacks=[early_stopping])"
   ]
  },
  {
   "cell_type": "code",
   "execution_count": 225,
   "metadata": {
    "collapsed": true
   },
   "outputs": [],
   "source": [
    "voi_df_art = pd.read_csv(C.art_voi_path)\n",
    "voi_df_ven = pd.read_csv(C.ven_voi_path)\n",
    "voi_df_eq = pd.read_csv(C.eq_voi_path)\n",
    "\n",
    "with open(C.small_voi_path, 'r') as csv_file:\n",
    "    reader = csv.reader(csv_file)\n",
    "    small_vois = dict(reader)\n",
    "for key in small_vois:\n",
    "    small_vois[key] = [int(x) for x in small_vois[key][1:-1].split(', ')]"
   ]
  },
  {
   "cell_type": "code",
   "execution_count": 216,
   "metadata": {},
   "outputs": [
    {
     "data": {
      "text/plain": [
       "['hcc', 'cholangio', 'colorectal', 'cyst', 'hemangioma', 'fnh']"
      ]
     },
     "execution_count": 216,
     "metadata": {},
     "output_type": "execute_result"
    }
   ],
   "source": [
    "C.output_img_dir = \"Z:\\\\OUTPUT\\\\12-fffff\"\n",
    "C.classes_to_include"
   ]
  },
  {
   "cell_type": "code",
   "execution_count": 213,
   "metadata": {},
   "outputs": [
    {
     "name": "stdout",
     "output_type": "stream",
     "text": [
      "-1.06165152979 0.521001031452 -0.126957557564\n"
     ]
    },
    {
     "data": {
      "image/png": "[encoded data removed]",
      "text/plain": [
       "<matplotlib.figure.Figure at 0x2d45189b518>"
      ]
     },
     "metadata": {},
     "output_type": "display_data"
    }
   ],
   "source": [
    "imgtrain = a[0][0][8]\n",
    "img = imgtrain\n",
    "hf.plot_section_auto_1ch(imgtrain[:,:,:,0])\n",
    "print(np.amin(img), np.amax(img), np.mean(img))"
   ]
  },
  {
   "cell_type": "code",
   "execution_count": 214,
   "metadata": {},
   "outputs": [
    {
     "name": "stdout",
     "output_type": "stream",
     "text": [
      "-1.0 0.864150958951 -0.593503949765\n"
     ]
    },
    {
     "data": {
      "image/png": "[encoded data removed]",
      "text/plain": [
       "<matplotlib.figure.Figure at 0x2d451a1f3c8>"
      ]
     },
     "metadata": {},
     "output_type": "display_data"
    }
   ],
   "source": [
    "imgtest = X_test[0][8]\n",
    "img = imgtest\n",
    "print(np.amin(img), np.amax(img), np.mean(img))\n",
    "hf.plot_section_auto_1ch(imgtest[:,:,:,0])"
   ]
  },
  {
   "cell_type": "code",
   "execution_count": 234,
   "metadata": {
    "scrolled": false
   },
   "outputs": [
    {
     "name": "stderr",
     "output_type": "stream",
     "text": [
      "C:\\Users\\Clinton\\AppData\\Local\\conda\\conda\\envs\\old-keras\\lib\\site-packages\\sklearn\\metrics\\classification.py:1135: UndefinedMetricWarning: F-score is ill-defined and being set to 0.0 in labels with no predicted samples.\n",
      "  'precision', 'predicted', average, warn_for)\n"
     ]
    }
   ],
   "source": [
    "#plot_with_bbox(fn_list[2], cls_mapping[wrong_guesses[2]])\n",
    "Y_pred = model.predict(X_test)\n",
    "y_true = np.array([max(enumerate(x), key=operator.itemgetter(1))[0] for x in Y_test])\n",
    "y_pred = np.array([max(enumerate(x), key=operator.itemgetter(1))[0] for x in Y_pred])\n",
    "\n",
    "cm = confusion_matrix(y_true, y_pred)\n",
    "f1 = f1_score(y_true, y_pred, average=\"weighted\")\n",
    "\n",
    "cfunc.save_output(Z_test, y_pred, y_true, voi_df_art, small_vois, C.classes_to_include, C)"
   ]
  },
  {
   "cell_type": "code",
   "execution_count": 227,
   "metadata": {
    "scrolled": true
   },
   "outputs": [],
   "source": [
    "Y_pred = model.predict(X_train_orig)\n",
    "y_true = np.array([max(enumerate(x), key=operator.itemgetter(1))[0] for x in Y_train_orig])\n",
    "y_pred = np.array([max(enumerate(x), key=operator.itemgetter(1))[0] for x in Y_pred])\n",
    "\n",
    "cm = confusion_matrix(y_true, y_pred)\n",
    "f1 = f1_score(y_true, y_pred, average=\"weighted\")\n",
    "\n",
    "cfunc.save_output(Z_train_orig, y_pred, y_true, voi_df_art, small_vois, C.classes_to_include, C)#, save_dir=C.output_img_dir+\"\\\\training\")"
   ]
  },
  {
   "cell_type": "code",
   "execution_count": 76,
   "metadata": {},
   "outputs": [
    {
     "data": {
      "text/plain": [
       "['hcc', 'cholangio', 'colorectal', 'cyst', 'hemangioma', 'fnh']"
      ]
     },
     "execution_count": 76,
     "metadata": {},
     "output_type": "execute_result"
    }
   ],
   "source": [
    "C.classes_to_include"
   ]
  },
  {
   "cell_type": "code",
   "execution_count": 236,
   "metadata": {
    "scrolled": true
   },
   "outputs": [
    {
     "data": {
      "text/plain": [
       "array([[ 0,  0,  0,  0,  0, 20],\n",
       "       [ 0,  5,  0,  0,  3,  2],\n",
       "       [ 0,  1,  5,  0,  5,  1],\n",
       "       [ 0,  0,  0, 10,  6,  0],\n",
       "       [ 0,  0,  0,  0, 11,  2],\n",
       "       [ 0,  1,  0,  0,  0, 13]], dtype=int64)"
      ]
     },
     "execution_count": 236,
     "metadata": {},
     "output_type": "execute_result"
    }
   ],
   "source": [
    "cm"
   ]
  },
  {
   "cell_type": "code",
   "execution_count": 167,
   "metadata": {
    "collapsed": true,
    "scrolled": true
   },
   "outputs": [],
   "source": [
    "y_true_simp, y_pred_simp, _ = cfunc.condense_cm(y_true, y_pred, C.classes_to_include)"
   ]
  },
  {
   "cell_type": "code",
   "execution_count": 168,
   "metadata": {
    "scrolled": false
   },
   "outputs": [
    {
     "data": {
      "text/plain": [
       "0.66265060240963858"
      ]
     },
     "execution_count": 168,
     "metadata": {},
     "output_type": "execute_result"
    }
   ],
   "source": [
    "accuracy_score(y_true_simp, y_pred_simp)"
   ]
  },
  {
   "cell_type": "code",
   "execution_count": 235,
   "metadata": {
    "scrolled": true
   },
   "outputs": [
    {
     "data": {
      "text/plain": [
       "0.51764705882352946"
      ]
     },
     "execution_count": 235,
     "metadata": {},
     "output_type": "execute_result"
    }
   ],
   "source": [
    "accuracy_score(y_true, y_pred)"
   ]
  },
  {
   "cell_type": "code",
   "execution_count": null,
   "metadata": {
    "collapsed": true
   },
   "outputs": [],
   "source": [
    "87%/91%"
   ]
  },
  {
   "cell_type": "markdown",
   "metadata": {},
   "source": [
    "2d: 77%/84%, 74%/80%\n",
    "3d: 78%/89%\n",
    "2d bn: 77%/82%, \n",
    "3d bn: 84%/87%, 74%/83%\n",
    "3d bn no artif: 84%/87%, 74%/83%\n",
    "3d bn/elu/dilation/3conv/64-128-100-100: 80%/86%, 82%/88%, 84%/91%"
   ]
  },
  {
   "cell_type": "markdown",
   "metadata": {
    "collapsed": true
   },
   "source": [
    "fn_list = Z_test[~np.equal(y_pred, y_true)]\n",
    "wrong_guesses = np.array(y_pred)[~np.equal(y_pred, y_true)]"
   ]
  },
  {
   "cell_type": "markdown",
   "metadata": {
    "collapsed": true
   },
   "source": [
    "activ = model2.predict(X_train)\n",
    "#activ = model2.predict(np.expand_dims(X_train[10],axis=0))"
   ]
  },
  {
   "cell_type": "markdown",
   "metadata": {
    "scrolled": true
   },
   "source": [
    "import operator\n",
    "#print(\"Ground truth:\", [C.classes_to_include[max(enumerate(x), key=operator.itemgetter(1))[0]] for x in Y_val[::30]])\n",
    "Y_ = model.predict(X_test)\n",
    "print(\"Predictions:\", [C.classes_to_include[max(enumerate(x), key=operator.itemgetter(1))[0]] + \" (%.5f%% probability)\" % (max(x)*100) for x in Y_])"
   ]
  }
 ],
 "metadata": {
  "kernelspec": {
   "display_name": "Python 3",
   "language": "python",
   "name": "python3"
  },
  "language_info": {
   "codemirror_mode": {
    "name": "ipython",
    "version": 3
   },
   "file_extension": ".py",
   "mimetype": "text/x-python",
   "name": "python",
   "nbconvert_exporter": "python",
   "pygments_lexer": "ipython3",
   "version": "3.5.0"
  }
 },
 "nbformat": 4,
 "nbformat_minor": 2
}
