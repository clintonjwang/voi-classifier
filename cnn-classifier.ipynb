{
 "cells": [
  {
   "cell_type": "code",
   "execution_count": 49,
   "metadata": {
    "scrolled": false
   },
   "outputs": [],
   "source": [
    "import keras.backend as K\n",
    "from keras.models import Model\n",
    "from keras.optimizers import Adam\n",
    "from keras.callbacks import EarlyStopping\n",
    "from keras.utils import np_utils\n",
    "from sklearn.metrics import confusion_matrix, f1_score, accuracy_score\n",
    "\n",
    "import cnn_builder as cbuild\n",
    "import cnn_methods as cfunc\n",
    "import config\n",
    "import csv\n",
    "import helper_fxns as hf\n",
    "import importlib\n",
    "import matplotlib.pyplot as plt\n",
    "import numpy as np\n",
    "import operator\n",
    "import os\n",
    "import pandas as pd\n",
    "import random\n",
    "%matplotlib inline"
   ]
  },
  {
   "cell_type": "code",
   "execution_count": 50,
   "metadata": {
    "scrolled": true
   },
   "outputs": [],
   "source": [
    "importlib.reload(config)\n",
    "importlib.reload(cfunc)\n",
    "importlib.reload(hf)\n",
    "importlib.reload(cbuild)\n",
    "C = config.Config()"
   ]
  },
  {
   "cell_type": "code",
   "execution_count": 51,
   "metadata": {
    "scrolled": true
   },
   "outputs": [
    {
     "name": "stdout",
     "output_type": "stream",
     "text": [
      "____________________________________________________________________________________________________\n",
      "Layer (type)                     Output Shape          Param #     Connected to                     \n",
      "====================================================================================================\n",
      "input_73 (InputLayer)            (None, 36, 36, 12, 1) 0                                            \n",
      "____________________________________________________________________________________________________\n",
      "input_74 (InputLayer)            (None, 36, 36, 12, 1) 0                                            \n",
      "____________________________________________________________________________________________________\n",
      "input_75 (InputLayer)            (None, 36, 36, 12, 1) 0                                            \n",
      "____________________________________________________________________________________________________\n",
      "conv3d_61 (Conv3D)               (None, 34, 34, 11, 64 1216        input_73[0][0]                   \n",
      "____________________________________________________________________________________________________\n",
      "conv3d_62 (Conv3D)               (None, 34, 34, 11, 64 1216        input_74[0][0]                   \n",
      "____________________________________________________________________________________________________\n",
      "conv3d_63 (Conv3D)               (None, 34, 34, 11, 64 1216        input_75[0][0]                   \n",
      "____________________________________________________________________________________________________\n",
      "max_pooling3d_61 (MaxPooling3D)  (None, 17, 17, 5, 64) 0           conv3d_61[0][0]                  \n",
      "____________________________________________________________________________________________________\n",
      "max_pooling3d_62 (MaxPooling3D)  (None, 17, 17, 5, 64) 0           conv3d_62[0][0]                  \n",
      "____________________________________________________________________________________________________\n",
      "max_pooling3d_63 (MaxPooling3D)  (None, 17, 17, 5, 64) 0           conv3d_63[0][0]                  \n",
      "____________________________________________________________________________________________________\n",
      "concatenate_37 (Concatenate)     (None, 17, 17, 5, 192 0           max_pooling3d_61[0][0]           \n",
      "                                                                   max_pooling3d_62[0][0]           \n",
      "                                                                   max_pooling3d_63[0][0]           \n",
      "____________________________________________________________________________________________________\n",
      "conv3d_64 (Conv3D)               (None, 15, 15, 4, 100 345700      concatenate_37[0][0]             \n",
      "____________________________________________________________________________________________________\n",
      "max_pooling3d_64 (MaxPooling3D)  (None, 7, 7, 4, 100)  0           conv3d_64[0][0]                  \n",
      "____________________________________________________________________________________________________\n",
      "dropout_91 (Dropout)             (None, 7, 7, 4, 100)  0           max_pooling3d_64[0][0]           \n",
      "____________________________________________________________________________________________________\n",
      "flatten_19 (Flatten)             (None, 19600)         0           dropout_91[0][0]                 \n",
      "____________________________________________________________________________________________________\n",
      "input_76 (InputLayer)            (None, 2)             0                                            \n",
      "____________________________________________________________________________________________________\n",
      "concatenate_38 (Concatenate)     (None, 19602)         0           flatten_19[0][0]                 \n",
      "                                                                   input_76[0][0]                   \n",
      "____________________________________________________________________________________________________\n",
      "dense_37 (Dense)                 (None, 100)           1960300     concatenate_38[0][0]             \n",
      "____________________________________________________________________________________________________\n",
      "dropout_92 (Dropout)             (None, 100)           0           dense_37[0][0]                   \n",
      "____________________________________________________________________________________________________\n",
      "dense_38 (Dense)                 (None, 6)             606         dropout_92[0][0]                 \n",
      "====================================================================================================\n",
      "Total params: 2,310,254\n",
      "Trainable params: 2,310,254\n",
      "Non-trainable params: 0\n",
      "____________________________________________________________________________________________________\n"
     ]
    }
   ],
   "source": [
    "model = cbuild.build_cnn(C, 'adam')#Adam(lr=0.01))\n",
    "model.summary()"
   ]
  },
  {
   "cell_type": "markdown",
   "metadata": {},
   "source": [
    "model = cbuild.run_cnn(model, C)"
   ]
  },
  {
   "cell_type": "code",
   "execution_count": 52,
   "metadata": {
    "scrolled": false
   },
   "outputs": [
    {
     "name": "stdout",
     "output_type": "stream",
     "text": [
      "{'hemangioma': 56, 'cholangio': 56, 'cyst': 75, 'colorectal': 74, 'hcc': 87, 'fnh': 61}\n"
     ]
    }
   ],
   "source": [
    "nb_classes = len(C.classes_to_include)\n",
    "voi_df = pd.read_csv(C.art_voi_path)\n",
    "intensity_df = pd.read_csv(C.int_df_path)\n",
    "#intensity_df.loc[intensity_df[\"art_int\"] == 0, \"art_int\"] = np.mean(intensity_df[intensity_df[\"art_int\"] > 0][\"art_int\"])\n",
    "#intensity_df.loc[intensity_df[\"ven_int\"] == 0, \"ven_int\"] = np.mean(intensity_df[intensity_df[\"ven_int\"] > 0][\"ven_int\"])\n",
    "#intensity_df.loc[intensity_df[\"eq_int\"] == 0, \"eq_int\"] = np.mean(intensity_df[intensity_df[\"eq_int\"] > 0][\"eq_int\"])\n",
    "\n",
    "orig_data_dict, num_samples = cfunc.collect_unaug_data(C, voi_df, intensity_df)\n",
    "print(num_samples)\n",
    "\n",
    "avg_X2 = {}\n",
    "for cls in C.classes_to_include:\n",
    "    avg_X2[cls] = np.mean(orig_data_dict[cls][1], axis=0)"
   ]
  },
  {
   "cell_type": "code",
   "execution_count": 54,
   "metadata": {},
   "outputs": [
    {
     "name": "stdout",
     "output_type": "stream",
     "text": [
      "hemangioma has 45 samples for training (2250 after augmentation) and 11 for testing\n",
      "cholangio has 45 samples for training (2250 after augmentation) and 11 for testing\n",
      "cyst has 60 samples for training (3000 after augmentation) and 15 for testing\n",
      "colorectal has 59 samples for training (2950 after augmentation) and 15 for testing\n",
      "hcc has 70 samples for training (3500 after augmentation) and 17 for testing\n",
      "fnh has 49 samples for training (2450 after augmentation) and 12 for testing\n"
     ]
    }
   ],
   "source": [
    "train_ids = {} #filenames of training set originals\n",
    "test_ids = {} #filenames of test set\n",
    "X_test = []\n",
    "X2_test = []\n",
    "Y_test = []\n",
    "Z_test = []\n",
    "X_train_orig = []\n",
    "X2_train_orig = []\n",
    "Y_train_orig = []\n",
    "Z_train_orig = []\n",
    "\n",
    "train_samples = {}\n",
    "\n",
    "for cls_num, cls in enumerate(orig_data_dict):\n",
    "    cls_num = C.classes_to_include.index(cls)\n",
    "\n",
    "    train_samples[cls] = round(num_samples[cls]*C.train_frac)\n",
    "\n",
    "    order = np.random.permutation(list(range(num_samples[cls])))\n",
    "    train_ids[cls] = list(orig_data_dict[cls][2][order[:train_samples[cls]]])\n",
    "    test_ids[cls] = list(orig_data_dict[cls][2][order[train_samples[cls]:]])\n",
    "\n",
    "    X_test = X_test + list(orig_data_dict[cls][0][order[train_samples[cls]:]])\n",
    "    X2_test = X2_test + list(orig_data_dict[cls][1][order[train_samples[cls]:]])\n",
    "    Y_test = Y_test + [[0] * cls_num + [1] + [0] * (nb_classes - cls_num - 1)] * \\\n",
    "                        (num_samples[cls] - train_samples[cls])\n",
    "    Z_test = Z_test + test_ids[cls]\n",
    "\n",
    "    X_train_orig = X_train_orig + list(orig_data_dict[cls][0][order[:train_samples[cls]]])\n",
    "    X2_train_orig = X2_train_orig + list(orig_data_dict[cls][1][order[:train_samples[cls]]])\n",
    "    Y_train_orig = Y_train_orig + [[0] * cls_num + [1] + [0] * (nb_classes - cls_num - 1)] * \\\n",
    "                        (train_samples[cls])\n",
    "    Z_train_orig = Z_train_orig + train_ids[cls]\n",
    "\n",
    "    print(\"%s has %d samples for training (%d after augmentation) and %d for testing\" %\n",
    "          (cls, train_samples[cls], train_samples[cls] * C.aug_factor, num_samples[cls] - train_samples[cls]))\n",
    "\n",
    "#Y_test = np_utils.to_categorical(Y_test, nb_classes)\n",
    "#Y_train_orig = np_utils.to_categorical(Y_train_orig, nb_classes)\n",
    "X_test = [np.array(X_test), np.array(X2_test)]\n",
    "X_train_orig = [np.array(X_train_orig), np.array(X2_train_orig)]\n",
    "\n",
    "Y_test = np.array(Y_test)\n",
    "Y_train_orig = np.array(Y_train_orig)\n",
    "\n",
    "Z_test = np.array(Z_test)\n",
    "Z_train_orig = np.array(Z_train_orig)\n",
    "\n",
    "X_test = cfunc.separate_phases(X_test)\n",
    "X_train_orig = cfunc.separate_phases(X_train_orig)"
   ]
  },
  {
   "cell_type": "markdown",
   "metadata": {},
   "source": [
    "train_generator = train_generator_func()\n",
    "model_pretrain.fit_generator(train_generator, steps_per_epoch=120, epochs=50)#, callbacks=[early_stopping])"
   ]
  },
  {
   "cell_type": "code",
   "execution_count": 64,
   "metadata": {
    "scrolled": true
   },
   "outputs": [
    {
     "name": "stdout",
     "output_type": "stream",
     "text": [
      "Epoch 1/100\n",
      "50/50 [==============================] - 12s - loss: 0.4895 - acc: 0.8194    \n",
      "Epoch 2/100\n",
      "50/50 [==============================] - 11s - loss: 0.5108 - acc: 0.7933    \n",
      "Epoch 3/100\n",
      "50/50 [==============================] - 11s - loss: 0.4448 - acc: 0.8278    \n",
      "Epoch 4/100\n",
      "50/50 [==============================] - 11s - loss: 0.4708 - acc: 0.8206    \n",
      "Epoch 5/100\n",
      "50/50 [==============================] - 11s - loss: 0.4379 - acc: 0.8311    \n",
      "Epoch 6/100\n",
      "50/50 [==============================] - 10s - loss: 0.4463 - acc: 0.8194    \n",
      "Epoch 7/100\n",
      "50/50 [==============================] - 10s - loss: 0.4551 - acc: 0.8111    \n",
      "Epoch 8/100\n",
      "50/50 [==============================] - 10s - loss: 0.4571 - acc: 0.8289    \n",
      "Epoch 9/100\n",
      "50/50 [==============================] - 10s - loss: 0.4041 - acc: 0.8422    - ETA: 6\n",
      "Epoch 10/100\n",
      "50/50 [==============================] - 10s - loss: 0.3972 - acc: 0.8456    \n",
      "Epoch 11/100\n",
      "50/50 [==============================] - 10s - loss: 0.4162 - acc: 0.8389    \n",
      "Epoch 12/100\n",
      "50/50 [==============================] - 10s - loss: 0.3774 - acc: 0.8583    \n",
      "Epoch 13/100\n",
      "50/50 [==============================] - 10s - loss: 0.4058 - acc: 0.8372    \n",
      "Epoch 14/100\n",
      "50/50 [==============================] - 10s - loss: 0.3541 - acc: 0.8594    \n",
      "Epoch 15/100\n",
      "50/50 [==============================] - 10s - loss: 0.3529 - acc: 0.8678    \n",
      "Epoch 16/100\n",
      "50/50 [==============================] - 10s - loss: 0.3555 - acc: 0.8511    \n",
      "Epoch 17/100\n",
      "50/50 [==============================] - 10s - loss: 0.3551 - acc: 0.8622    \n",
      "Epoch 18/100\n",
      "50/50 [==============================] - 10s - loss: 0.4006 - acc: 0.8428    \n",
      "Epoch 19/100\n",
      "50/50 [==============================] - 11s - loss: 0.3964 - acc: 0.8422    \n",
      "Epoch 20/100\n",
      "50/50 [==============================] - 10s - loss: 0.3611 - acc: 0.8572    \n",
      "Epoch 21/100\n",
      "50/50 [==============================] - 10s - loss: 0.3819 - acc: 0.8489    \n",
      "Epoch 22/100\n",
      "50/50 [==============================] - 10s - loss: 0.3658 - acc: 0.8550    \n",
      "Epoch 23/100\n",
      "50/50 [==============================] - 10s - loss: 0.3144 - acc: 0.8806    \n",
      "Epoch 24/100\n",
      "50/50 [==============================] - 10s - loss: 0.3566 - acc: 0.8594    \n",
      "Epoch 25/100\n",
      "50/50 [==============================] - 10s - loss: 0.3635 - acc: 0.8567    \n",
      "Epoch 26/100\n",
      "50/50 [==============================] - 10s - loss: 0.3322 - acc: 0.8750    \n",
      "Epoch 27/100\n",
      "50/50 [==============================] - 10s - loss: 0.3575 - acc: 0.8678    \n",
      "Epoch 28/100\n",
      "50/50 [==============================] - 10s - loss: 0.2874 - acc: 0.8906    \n",
      "Epoch 29/100\n",
      "50/50 [==============================] - 10s - loss: 0.3400 - acc: 0.8689    \n",
      "Epoch 30/100\n",
      "50/50 [==============================] - 10s - loss: 0.3258 - acc: 0.8650    \n",
      "Epoch 31/100\n",
      "50/50 [==============================] - 10s - loss: 0.3074 - acc: 0.8811    \n",
      "Epoch 32/100\n",
      "50/50 [==============================] - 10s - loss: 0.2901 - acc: 0.8867    \n",
      "Epoch 33/100\n",
      "50/50 [==============================] - 10s - loss: 0.2784 - acc: 0.8922    \n",
      "Epoch 34/100\n",
      "50/50 [==============================] - 10s - loss: 0.2951 - acc: 0.8778    \n",
      "Epoch 35/100\n",
      "50/50 [==============================] - 10s - loss: 0.3628 - acc: 0.8628    \n",
      "Epoch 36/100\n",
      "50/50 [==============================] - 10s - loss: 0.3117 - acc: 0.8822    \n",
      "Epoch 37/100\n",
      "50/50 [==============================] - 10s - loss: 0.2997 - acc: 0.8822    \n",
      "Epoch 38/100\n",
      "50/50 [==============================] - 10s - loss: 0.3008 - acc: 0.8778    \n",
      "Epoch 39/100\n",
      "50/50 [==============================] - 10s - loss: 0.3332 - acc: 0.8750    \n",
      "Epoch 40/100\n",
      "50/50 [==============================] - 10s - loss: 0.2758 - acc: 0.9000    \n",
      "Epoch 41/100\n",
      "50/50 [==============================] - 10s - loss: 0.2699 - acc: 0.8950    \n",
      "Epoch 42/100\n",
      "50/50 [==============================] - 10s - loss: 0.2817 - acc: 0.8889    \n",
      "Epoch 43/100\n",
      "50/50 [==============================] - 10s - loss: 0.2747 - acc: 0.8922    \n",
      "Epoch 44/100\n",
      "50/50 [==============================] - 10s - loss: 0.2843 - acc: 0.8911    \n",
      "Epoch 45/100\n",
      "50/50 [==============================] - 10s - loss: 0.2879 - acc: 0.8939    \n",
      "Epoch 46/100\n",
      "50/50 [==============================] - 10s - loss: 0.2371 - acc: 0.9128    \n",
      "Epoch 47/100\n",
      "50/50 [==============================] - 10s - loss: 0.2433 - acc: 0.9083    \n",
      "Epoch 48/100\n",
      "50/50 [==============================] - 10s - loss: 0.2557 - acc: 0.9083    \n",
      "Epoch 49/100\n",
      "50/50 [==============================] - 10s - loss: 0.3038 - acc: 0.8867    \n",
      "Epoch 50/100\n",
      "50/50 [==============================] - 10s - loss: 0.2421 - acc: 0.9089    \n",
      "Epoch 51/100\n",
      "50/50 [==============================] - 10s - loss: 0.2949 - acc: 0.8939    \n",
      "Epoch 52/100\n",
      "50/50 [==============================] - 10s - loss: 0.2598 - acc: 0.8972    \n",
      "Epoch 53/100\n",
      "50/50 [==============================] - 10s - loss: 0.2488 - acc: 0.8950    \n",
      "Epoch 54/100\n",
      "50/50 [==============================] - 10s - loss: 0.2090 - acc: 0.9244    \n",
      "Epoch 55/100\n",
      "50/50 [==============================] - 9s - loss: 0.2446 - acc: 0.8961     \n",
      "Epoch 56/100\n",
      "50/50 [==============================] - 10s - loss: 0.2356 - acc: 0.9022    \n",
      "Epoch 57/100\n",
      "50/50 [==============================] - 10s - loss: 0.2473 - acc: 0.9117    - ETA: 6\n",
      "Epoch 58/100\n",
      "50/50 [==============================] - 10s - loss: 0.2125 - acc: 0.9239    \n",
      "Epoch 59/100\n",
      "50/50 [==============================] - 9s - loss: 0.2503 - acc: 0.9028     \n",
      "Epoch 60/100\n",
      "50/50 [==============================] - 10s - loss: 0.2424 - acc: 0.9117    \n",
      "Epoch 61/100\n",
      "50/50 [==============================] - 10s - loss: 0.1945 - acc: 0.9267    \n",
      "Epoch 62/100\n",
      "50/50 [==============================] - 10s - loss: 0.2549 - acc: 0.9033    \n",
      "Epoch 63/100\n",
      "50/50 [==============================] - 10s - loss: 0.2147 - acc: 0.9217    \n",
      "Epoch 64/100\n",
      "50/50 [==============================] - 9s - loss: 0.2653 - acc: 0.8933     \n",
      "Epoch 65/100\n",
      "50/50 [==============================] - 10s - loss: 0.2378 - acc: 0.9050    \n",
      "Epoch 66/100\n",
      "50/50 [==============================] - 9s - loss: 0.2511 - acc: 0.9128     \n",
      "Epoch 67/100\n",
      "50/50 [==============================] - 10s - loss: 0.2309 - acc: 0.9106    \n",
      "Epoch 68/100\n",
      "50/50 [==============================] - 10s - loss: 0.2194 - acc: 0.9156    \n",
      "Epoch 69/100\n",
      "50/50 [==============================] - 9s - loss: 0.2599 - acc: 0.9022     - ETA: 5s -\n",
      "Epoch 70/100\n",
      "50/50 [==============================] - 9s - loss: 0.2384 - acc: 0.9117     \n",
      "Epoch 71/100\n",
      "50/50 [==============================] - 9s - loss: 0.2313 - acc: 0.9100     \n",
      "Epoch 72/100\n",
      "50/50 [==============================] - 10s - loss: 0.2161 - acc: 0.9167    \n",
      "Epoch 73/100\n",
      "50/50 [==============================] - 10s - loss: 0.1886 - acc: 0.9233    \n",
      "Epoch 74/100\n",
      "50/50 [==============================] - 10s - loss: 0.1953 - acc: 0.9172    \n",
      "Epoch 75/100\n",
      "50/50 [==============================] - 10s - loss: 0.2371 - acc: 0.9117    - ETA: 5s - l\n",
      "Epoch 76/100\n",
      "50/50 [==============================] - 10s - loss: 0.2492 - acc: 0.9056    \n",
      "Epoch 77/100\n",
      "50/50 [==============================] - 10s - loss: 0.1751 - acc: 0.9317    \n",
      "Epoch 78/100\n",
      "50/50 [==============================] - 10s - loss: 0.2050 - acc: 0.9161    \n",
      "Epoch 79/100\n",
      "50/50 [==============================] - 10s - loss: 0.2451 - acc: 0.9106    \n",
      "Epoch 80/100\n",
      "50/50 [==============================] - 10s - loss: 0.2733 - acc: 0.8967    \n",
      "Epoch 81/100\n",
      "50/50 [==============================] - 11s - loss: 0.2334 - acc: 0.9161    \n",
      "Epoch 82/100\n",
      "50/50 [==============================] - 10s - loss: 0.2075 - acc: 0.9178    \n",
      "Epoch 83/100\n",
      "50/50 [==============================] - 10s - loss: 0.1916 - acc: 0.9272    \n",
      "Epoch 84/100\n",
      "50/50 [==============================] - 10s - loss: 0.2110 - acc: 0.9133    \n",
      "Epoch 85/100\n",
      "50/50 [==============================] - 10s - loss: 0.2215 - acc: 0.9217    \n",
      "Epoch 86/100\n",
      "50/50 [==============================] - 10s - loss: 0.2023 - acc: 0.9228    \n",
      "Epoch 87/100\n",
      "50/50 [==============================] - 10s - loss: 0.1729 - acc: 0.9350    \n",
      "Epoch 88/100\n",
      "50/50 [==============================] - 10s - loss: 0.1683 - acc: 0.9367    \n",
      "Epoch 89/100\n",
      "50/50 [==============================] - 10s - loss: 0.1891 - acc: 0.9306    \n",
      "Epoch 90/100\n"
     ]
    },
    {
     "name": "stdout",
     "output_type": "stream",
     "text": [
      "50/50 [==============================] - 10s - loss: 0.1945 - acc: 0.9261    \n",
      "Epoch 91/100\n",
      "50/50 [==============================] - 10s - loss: 0.1743 - acc: 0.9339    \n",
      "Epoch 92/100\n",
      "50/50 [==============================] - 10s - loss: 0.1944 - acc: 0.9356    \n",
      "Epoch 93/100\n",
      "50/50 [==============================] - 10s - loss: 0.1904 - acc: 0.9278    \n",
      "Epoch 94/100\n",
      "50/50 [==============================] - 10s - loss: 0.1740 - acc: 0.9261    \n",
      "Epoch 95/100\n",
      "50/50 [==============================] - 10s - loss: 0.2013 - acc: 0.9244    \n",
      "Epoch 96/100\n",
      "50/50 [==============================] - 10s - loss: 0.2004 - acc: 0.9200    \n",
      "Epoch 97/100\n",
      "50/50 [==============================] - 10s - loss: 0.2069 - acc: 0.9267    \n",
      "Epoch 98/100\n",
      "50/50 [==============================] - 10s - loss: 0.1730 - acc: 0.9378    \n",
      "Epoch 99/100\n",
      "50/50 [==============================] - 10s - loss: 0.1539 - acc: 0.9411    \n",
      "Epoch 100/100\n",
      "50/50 [==============================] - 10s - loss: 0.2139 - acc: 0.9178    \n"
     ]
    },
    {
     "data": {
      "text/plain": [
       "<keras.callbacks.History at 0x274104a1f98>"
      ]
     },
     "execution_count": 64,
     "metadata": {},
     "output_type": "execute_result"
    }
   ],
   "source": [
    "#early_stopping = EarlyStopping(monitor='acc', min_delta=0.01, patience=4)\n",
    "train_generator = cbuild.train_generator_func(C, train_ids, intensity_df, voi_df, avg_X2, n=6, n_art=0)\n",
    "model.fit_generator(train_generator, steps_per_epoch=50, epochs=100)#, callbacks=[early_stopping])"
   ]
  },
  {
   "cell_type": "markdown",
   "metadata": {
    "scrolled": true
   },
   "source": [
    "hist = model.fit(X_train2, Y_train2, batch_size=32, epochs=200, validation_data=(X_test, Y_test), callbacks=[early_stopping])"
   ]
  },
  {
   "cell_type": "code",
   "execution_count": 56,
   "metadata": {},
   "outputs": [],
   "source": [
    "voi_df_art = pd.read_csv(C.art_voi_path)\n",
    "voi_df_ven = pd.read_csv(C.ven_voi_path)\n",
    "voi_df_eq = pd.read_csv(C.eq_voi_path)\n",
    "\n",
    "with open(C.small_voi_path, 'r') as csv_file:\n",
    "    reader = csv.reader(csv_file)\n",
    "    small_vois = dict(reader)\n",
    "    \n",
    "for key in small_vois:\n",
    "    small_vois[key] = [int(x) for x in small_vois[key][1:-1].split(', ')]"
   ]
  },
  {
   "cell_type": "code",
   "execution_count": null,
   "metadata": {
    "collapsed": true
   },
   "outputs": [],
   "source": [
    "cbuild.overnight_run(C)"
   ]
  },
  {
   "cell_type": "code",
   "execution_count": 57,
   "metadata": {},
   "outputs": [
    {
     "data": {
      "text/plain": [
       "['hcc', 'cholangio', 'colorectal', 'cyst', 'hemangioma', 'fnh']"
      ]
     },
     "execution_count": 57,
     "metadata": {},
     "output_type": "execute_result"
    }
   ],
   "source": [
    "C.output_img_dir = \"Z:\\\\OUTPUT\\\\12-08-3d\"\n",
    "C.classes_to_include"
   ]
  },
  {
   "cell_type": "code",
   "execution_count": 65,
   "metadata": {
    "scrolled": true
   },
   "outputs": [],
   "source": [
    "#plot_with_bbox(fn_list[2], cls_mapping[wrong_guesses[2]])\n",
    "Y_pred = model.predict(X_test)\n",
    "y_true = np.array([max(enumerate(x), key=operator.itemgetter(1))[0] for x in Y_test])\n",
    "y_pred = np.array([max(enumerate(x), key=operator.itemgetter(1))[0] for x in Y_pred])\n",
    "\n",
    "cm = confusion_matrix(y_true, y_pred)\n",
    "f1 = f1_score(y_true, y_pred, average=\"weighted\")\n",
    "\n",
    "cfunc.save_output(Z_test, y_pred, y_true, voi_df_art, small_vois, C.classes_to_include, C)"
   ]
  },
  {
   "cell_type": "code",
   "execution_count": 63,
   "metadata": {
    "scrolled": true
   },
   "outputs": [],
   "source": [
    "Y_pred = model.predict(X_train_orig)\n",
    "y_true = np.array([max(enumerate(x), key=operator.itemgetter(1))[0] for x in Y_train_orig])\n",
    "y_pred = np.array([max(enumerate(x), key=operator.itemgetter(1))[0] for x in Y_pred])\n",
    "\n",
    "cm = confusion_matrix(y_true, y_pred)\n",
    "f1 = f1_score(y_true, y_pred, average=\"weighted\")\n",
    "\n",
    "cfunc.save_output(Z_train_orig, y_pred, y_true, voi_df_art, small_vois, C.classes_to_include, C, save_dir=\"Z:\\\\OUTPUT\\\\12-08-3d\\\\training\")"
   ]
  },
  {
   "cell_type": "code",
   "execution_count": 62,
   "metadata": {
    "scrolled": true
   },
   "outputs": [
    {
     "data": {
      "text/plain": [
       "array([[14,  0,  0,  0,  0,  3],\n",
       "       [ 0,  6,  3,  0,  2,  0],\n",
       "       [ 0,  2, 12,  0,  1,  0],\n",
       "       [ 0,  0,  1, 14,  0,  0],\n",
       "       [ 0,  0,  1,  3,  7,  0],\n",
       "       [ 2,  0,  0,  0,  0, 10]], dtype=int64)"
      ]
     },
     "execution_count": 62,
     "metadata": {},
     "output_type": "execute_result"
    }
   ],
   "source": [
    "cm"
   ]
  },
  {
   "cell_type": "code",
   "execution_count": 67,
   "metadata": {
    "scrolled": true
   },
   "outputs": [],
   "source": [
    "y_true_simp, y_pred_simp, _ = cfunc.condense_cm(y_true, y_pred, C.classes_to_include)"
   ]
  },
  {
   "cell_type": "code",
   "execution_count": 68,
   "metadata": {
    "scrolled": false
   },
   "outputs": [
    {
     "data": {
      "text/plain": [
       "0.88888888888888884"
      ]
     },
     "execution_count": 68,
     "metadata": {},
     "output_type": "execute_result"
    }
   ],
   "source": [
    "accuracy_score(y_true_simp, y_pred_simp)"
   ]
  },
  {
   "cell_type": "code",
   "execution_count": 66,
   "metadata": {
    "scrolled": false
   },
   "outputs": [
    {
     "data": {
      "text/plain": [
       "0.77777777777777779"
      ]
     },
     "execution_count": 66,
     "metadata": {},
     "output_type": "execute_result"
    }
   ],
   "source": [
    "accuracy_score(y_true, y_pred)"
   ]
  },
  {
   "cell_type": "markdown",
   "metadata": {},
   "source": [
    "4 cls: 94/94%, 86/88%, 86%/90%\n",
    "5 cls: 80%/89%, 72%/86%, 84%/86%\n",
    "\n",
    "6 cls no artificial, separate phases: 75%/84%\n",
    "\n",
    "6 cls 2d: 77%/84%, 74%/80%\n",
    "6 cls 3d: 78%/89%"
   ]
  },
  {
   "cell_type": "markdown",
   "metadata": {
    "collapsed": true
   },
   "source": [
    "fn_list = Z_test[~np.equal(y_pred, y_true)]\n",
    "wrong_guesses = np.array(y_pred)[~np.equal(y_pred, y_true)]"
   ]
  },
  {
   "cell_type": "markdown",
   "metadata": {
    "collapsed": true
   },
   "source": [
    "activ = model2.predict(X_train)\n",
    "#activ = model2.predict(np.expand_dims(X_train[10],axis=0))"
   ]
  },
  {
   "cell_type": "markdown",
   "metadata": {
    "scrolled": true
   },
   "source": [
    "import operator\n",
    "#print(\"Ground truth:\", [C.classes_to_include[max(enumerate(x), key=operator.itemgetter(1))[0]] for x in Y_val[::30]])\n",
    "Y_ = model.predict(X_test)\n",
    "print(\"Predictions:\", [C.classes_to_include[max(enumerate(x), key=operator.itemgetter(1))[0]] + \" (%.5f%% probability)\" % (max(x)*100) for x in Y_])"
   ]
  }
 ],
 "metadata": {
  "kernelspec": {
   "display_name": "Python 3",
   "language": "python",
   "name": "python3"
  },
  "language_info": {
   "codemirror_mode": {
    "name": "ipython",
    "version": 3
   },
   "file_extension": ".py",
   "mimetype": "text/x-python",
   "name": "python",
   "nbconvert_exporter": "python",
   "pygments_lexer": "ipython3",
   "version": "3.5.0"
  }
 },
 "nbformat": 4,
 "nbformat_minor": 2
}
