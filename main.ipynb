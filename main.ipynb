{
 "cells": [
  {
   "cell_type": "code",
   "execution_count": 1,
   "metadata": {},
   "outputs": [
    {
     "name": "stderr",
     "output_type": "stream",
     "text": [
      "Using TensorFlow backend.\n"
     ]
    }
   ],
   "source": [
    "import keras.backend as K\n",
    "from keras.layers import Input, Add, Dense, Activation, Flatten, Dropout, Conv3D, MaxPooling3D, ZeroPadding3D, AveragePooling3D, TimeDistributed\n",
    "from keras.models import Model\n",
    "from keras.regularizers import l1, l2\n",
    "from keras.optimizers import Adam, SGD\n",
    "from keras.constraints import max_norm\n",
    "from keras.layers.noise import GaussianNoise\n",
    "from keras.callbacks import EarlyStopping\n",
    "from keras.utils import np_utils\n",
    "import matplotlib.pyplot as plt\n",
    "import config\n",
    "import importlib\n",
    "import os\n",
    "import numpy as np\n",
    "import tensorflow as tf\n",
    "%matplotlib inline"
   ]
  },
  {
   "cell_type": "markdown",
   "metadata": {},
   "source": [
    "from keras.datasets import mnist\n",
    "\n",
    "(x_train, y_train), (x_test, y_test) = mnist.load_data()\n",
    "\n",
    "nb_classes = C.nb_classes\n",
    "\n",
    "X_train = np.expand_dims(x_train,axis=3)\n",
    "X_train = np.expand_dims(X_train,axis=4)\n",
    "X_test = np.expand_dims(x_test,axis=3)\n",
    "X_test = np.expand_dims(X_test,axis=4)\n",
    "X_train = X_train.astype('float32')\n",
    "X_test = X_test.astype('float32')\n",
    "X_train /= 255\n",
    "X_test /= 255\n",
    "Y_train = np_utils.to_categorical(y_train, nb_classes)\n",
    "Y_test = np_utils.to_categorical(y_test, nb_classes)"
   ]
  },
  {
   "cell_type": "code",
   "execution_count": 2,
   "metadata": {
    "scrolled": false
   },
   "outputs": [
    {
     "data": {
      "text/plain": [
       "<module 'config' from 'C:\\\\Users\\\\Clinton\\\\Documents\\\\voi-classifier\\\\config.py'>"
      ]
     },
     "execution_count": 2,
     "metadata": {},
     "output_type": "execute_result"
    }
   ],
   "source": [
    "importlib.reload(config)"
   ]
  },
  {
   "cell_type": "code",
   "execution_count": 141,
   "metadata": {
    "collapsed": true,
    "scrolled": true
   },
   "outputs": [],
   "source": [
    "C = config.Config()\n",
    "dims = C.dims\n",
    "voi_img = Input(shape=(dims[0], dims[1], dims[2], C.nb_channels))\n",
    "#x = Dropout(0.2)(voi_img)\n",
    "#x = GaussianNoise(1)(x)\n",
    "#x = ZeroPadding3D(padding=(3,3,2))(voi_img)\n",
    "#x = Conv3D(filters=128, kernel_size=(3,3,2), activation='relu', kernel_regularizer=l2(.01))(x)\n",
    "x = Conv3D(filters=32, kernel_size=(3,3,1), activation='relu')(voi_img)\n",
    "x = Conv3D(filters=64, kernel_size=(3,3,1), activation='relu')(x)\n",
    "x = Dropout(0.2)(x)\n",
    "#x = Dropout(0.2)(x)\n",
    "intermed = MaxPooling3D((2, 2, 2))(x)\n",
    "x = Flatten()(intermed)\n",
    "x = Dense(128, activation='relu')(x)#, kernel_initializer='normal', kernel_regularizer=l1(.01), kernel_constraint=max_norm(3.))(x)\n",
    "x = Dropout(0.5)(x)\n",
    "pred_class = Dense(C.nb_classes, activation='softmax')(x)#Dense(C.nb_classes, activation='softmax')(x)"
   ]
  },
  {
   "cell_type": "code",
   "execution_count": 142,
   "metadata": {
    "scrolled": false
   },
   "outputs": [
    {
     "name": "stdout",
     "output_type": "stream",
     "text": [
      "_________________________________________________________________\n",
      "Layer (type)                 Output Shape              Param #   \n",
      "=================================================================\n",
      "input_11 (InputLayer)        (None, 20, 20, 10, 2)     0         \n",
      "_________________________________________________________________\n",
      "conv3d_21 (Conv3D)           (None, 18, 18, 10, 32)    608       \n",
      "_________________________________________________________________\n",
      "conv3d_22 (Conv3D)           (None, 16, 16, 10, 64)    18496     \n",
      "_________________________________________________________________\n",
      "dropout_21 (Dropout)         (None, 16, 16, 10, 64)    0         \n",
      "_________________________________________________________________\n",
      "max_pooling3d_11 (MaxPooling (None, 8, 8, 5, 64)       0         \n",
      "_________________________________________________________________\n",
      "flatten_11 (Flatten)         (None, 20480)             0         \n",
      "_________________________________________________________________\n",
      "dense_21 (Dense)             (None, 128)               2621568   \n",
      "_________________________________________________________________\n",
      "dropout_22 (Dropout)         (None, 128)               0         \n",
      "_________________________________________________________________\n",
      "dense_22 (Dense)             (None, 2)                 258       \n",
      "=================================================================\n",
      "Total params: 2,640,930\n",
      "Trainable params: 2,640,930\n",
      "Non-trainable params: 0\n",
      "_________________________________________________________________\n"
     ]
    }
   ],
   "source": [
    "optim = Adam(lr=0.01)#, decay=0.001)\n",
    "early_stopping = EarlyStopping(min_delta=0.01, patience=5)\n",
    "\n",
    "model = Model(voi_img, pred_class)\n",
    "model.compile(optimizer='adam', loss='categorical_crossentropy', metrics=['accuracy'])\n",
    "model.summary()"
   ]
  },
  {
   "cell_type": "code",
   "execution_count": 5,
   "metadata": {
    "collapsed": true
   },
   "outputs": [],
   "source": [
    "model2 = Model(voi_img, intermed)\n",
    "\n",
    "for l in range(2,len(model2.layers)):\n",
    "    model2.layers[l].set_weights(model.layers[l].get_weights())"
   ]
  },
  {
   "cell_type": "markdown",
   "metadata": {},
   "source": [
    "X_train = []\n",
    "Y_train = []\n",
    "\n",
    "for _ in range(10):\n",
    "    X_train.append(np.ones(dims + [C.nb_channels]))\n",
    "    Y_train.append([1,0])\n",
    "for _ in range(10):\n",
    "    X_train.append(np.ones(dims + [C.nb_channels]))\n",
    "    X_train[-1][5:15,5:15,5:7,0] = 2\n",
    "    Y_train.append([0,1])\n",
    "    \n",
    "X_train = np.array(X_train) # X[:total_size//2]\n",
    "#X_val = np.array(X_test)\n",
    "Y_train = np.array(Y_train) # Y[:total_size//2]\n",
    "#Y_val = np.array(Y_test)"
   ]
  },
  {
   "cell_type": "code",
   "execution_count": 123,
   "metadata": {
    "scrolled": true
   },
   "outputs": [],
   "source": [
    "data_dict = {}\n",
    "max_samples = {}\n",
    "base_dir = \"..\\\\liver-mr-processor\\\\train_imgs\\\\\"\n",
    "\n",
    "least_in_one_class = np.Inf\n",
    "\n",
    "for class_name in os.listdir(base_dir):\n",
    "    x = np.empty((10000, dims[0], dims[1], dims[2], C.nb_channels))\n",
    "    z = []\n",
    "    \n",
    "    for index, img_fn in enumerate(os.listdir(base_dir+class_name)):\n",
    "        x[index] = np.load(base_dir+class_name+\"\\\\\"+img_fn)\n",
    "        z.append(img_fn)\n",
    "    \n",
    "    x.resize((index, dims[0], dims[1], dims[2], C.nb_channels))\n",
    "    data_dict[class_name] = [x,np.array(z)]\n",
    "    max_samples[class_name] = index\n",
    "    \n",
    "    least_in_one_class = min(index, least_in_one_class)"
   ]
  },
  {
   "cell_type": "code",
   "execution_count": 134,
   "metadata": {
    "collapsed": true
   },
   "outputs": [],
   "source": [
    "Z_cyst = data_dict[\"cyst\"][1]"
   ]
  },
  {
   "cell_type": "code",
   "execution_count": 136,
   "metadata": {},
   "outputs": [
    {
     "data": {
      "text/plain": [
       "array([ 0.47784024,  0.52215981], dtype=float32)"
      ]
     },
     "execution_count": 136,
     "metadata": {},
     "output_type": "execute_result"
    }
   ],
   "source": [
    "Y_[-4]"
   ]
  },
  {
   "cell_type": "code",
   "execution_count": 145,
   "metadata": {},
   "outputs": [
    {
     "data": {
      "text/plain": [
       "'E100529980_0.npy'"
      ]
     },
     "execution_count": 145,
     "metadata": {},
     "output_type": "execute_result"
    }
   ],
   "source": [
    "Z_cyst[-4]"
   ]
  },
  {
   "cell_type": "code",
   "execution_count": 124,
   "metadata": {
    "collapsed": true
   },
   "outputs": [],
   "source": [
    "X_cyst = data_dict[\"cyst\"][0]\n",
    "X_cyst = np.array(X_cyst) # X[:total_size//2]\n",
    "X_cyst /= 255"
   ]
  },
  {
   "cell_type": "code",
   "execution_count": 125,
   "metadata": {
    "collapsed": true
   },
   "outputs": [],
   "source": [
    "X_hcc = data_dict[\"hcc\"][0]\n",
    "X_hcc = np.array(X_hcc) # X[:total_size//2]\n",
    "X_hcc /= 255"
   ]
  },
  {
   "cell_type": "code",
   "execution_count": 114,
   "metadata": {
    "collapsed": true
   },
   "outputs": [],
   "source": [
    "X_train = []\n",
    "Y_train = []\n",
    "Z_train = []\n",
    "X_test = []\n",
    "Y_test = []\n",
    "Z_test = []\n",
    "#train_frac = 0.75\n",
    "cls_mapping = []\n",
    "\n",
    "for cls_num, cls in enumerate(data_dict):\n",
    "    if cls == \"cyst\":\n",
    "        train_frac = 1.4\n",
    "    else:\n",
    "        train_frac = 0.8\n",
    "    #order = np.random.permutation(list(range(max_samples)))\n",
    "    order = list(range(max_samples[cls]))\n",
    "    X_train = X_train + list(data_dict[cls][0][order[:round(least_in_one_class*train_frac)]])\n",
    "    X_test = X_test + list(data_dict[cls][0][order[round(least_in_one_class*train_frac):]])\n",
    "    Z_train = Z_train + list(data_dict[cls][1][order[:round(least_in_one_class*train_frac)]])\n",
    "    Z_test = Z_test + list(data_dict[cls][1][order[round(least_in_one_class*train_frac):]])\n",
    "    Y_train = Y_train + [[0] * cls_num + [1] + [0] * (C.nb_classes - cls_num - 1)] * (round(least_in_one_class*train_frac))\n",
    "    Y_test = Y_test + [[0] * cls_num + [1] + [0] * (C.nb_classes - cls_num - 1)] * \\\n",
    "                        (max_samples[cls] - round(least_in_one_class*train_frac))\n",
    "        \n",
    "    cls_mapping.append(cls)"
   ]
  },
  {
   "cell_type": "code",
   "execution_count": 115,
   "metadata": {
    "collapsed": true
   },
   "outputs": [],
   "source": [
    "X_train = np.array(X_train) # X[:total_size//2]\n",
    "X_train /= 255\n",
    "X_val = np.array(X_test)\n",
    "X_val /= 255\n",
    "#X_val = X[total_size//2:total_size*3//4]\n",
    "#X_test = X[total_size*3//4:]\n",
    "Y_train = np.array(Y_train)\n",
    "Y_val = np.array(Y_test)\n",
    "Z_train = np.array(Z_train)\n",
    "Z_val = np.array(Z_test)\n",
    "#Y_val = Y[total_size//2:total_size*3//4]\n",
    "#Y_test = Y[total_size*3//4:]"
   ]
  },
  {
   "cell_type": "code",
   "execution_count": 116,
   "metadata": {
    "scrolled": true
   },
   "outputs": [
    {
     "data": {
      "text/plain": [
       "21.933333333333334"
      ]
     },
     "execution_count": 116,
     "metadata": {},
     "output_type": "execute_result"
    }
   ],
   "source": [
    "len(Z_train)/30"
   ]
  },
  {
   "cell_type": "code",
   "execution_count": 117,
   "metadata": {},
   "outputs": [
    {
     "data": {
      "text/plain": [
       "11.0"
      ]
     },
     "execution_count": 117,
     "metadata": {},
     "output_type": "execute_result"
    }
   ],
   "source": [
    "len(Z_val)/30"
   ]
  },
  {
   "cell_type": "code",
   "execution_count": 42,
   "metadata": {
    "collapsed": true
   },
   "outputs": [],
   "source": [
    "#X = np.array([z for z in x])\n",
    "#Y = np.array(y)\n",
    "#Y = np.array([[0,1] if y[x] == 1 else [1,0] for x in range(len(y))])\n",
    "#Y = K.constant(y, dtype=tf.int32)\n",
    "#Y = K.one_hot(Y, C.nb_classes)\n",
    "\n",
    "#total_size = X.shape[0]\n",
    "\n",
    "#order = np.random.permutation(list(range(total_size)))\n",
    "#X = X[order]\n",
    "#Y = Y[order]"
   ]
  },
  {
   "cell_type": "markdown",
   "metadata": {},
   "source": [
    "def train_generator(X, Y):\n",
    "    while True:\n",
    "        for i in range(len(X)):\n",
    "            yield np.expand_dims(X[i], axis=0), np.expand_dims(Y[i], axis=0)"
   ]
  },
  {
   "cell_type": "markdown",
   "metadata": {},
   "source": [
    "num_epochs = 10\n",
    "epoch_length = 100\n",
    "best_loss = np.Inf\n",
    "losses = np.zeros(epoch_length)\n",
    "acc = np.zeros(epoch_length)\n",
    "\n",
    "data_gen_train = train_generator(X_train, Y_train)\n",
    "for epoch_num in range(num_epochs):\n",
    "    print('Epoch {}/{}'.format(epoch_num + 1, num_epochs))\n",
    "    iter_num = 0\n",
    "    \n",
    "    while True:\n",
    "        X, Y = next(data_gen_train)\n",
    "        losses[iter_num], acc[iter_num] = model.train_on_batch(X, Y)\n",
    "\n",
    "        iter_num += 1\n",
    "        if iter_num == epoch_length:\n",
    "            curr_loss = np.mean(losses)\n",
    "            curr_acc = np.mean(acc)\n",
    "            print(\"Mean Loss:\", curr_loss, \"// Mean Accuracy:\", curr_acc)\n",
    "\n",
    "            if curr_loss < best_loss:\n",
    "                print('Total loss decreased from {} to {}, saving weights'.format(best_loss,curr_loss))\n",
    "                best_loss = curr_loss\n",
    "                model.save_weights(C.model_path)\n",
    "            break"
   ]
  },
  {
   "cell_type": "code",
   "execution_count": 143,
   "metadata": {
    "scrolled": true
   },
   "outputs": [
    {
     "name": "stdout",
     "output_type": "stream",
     "text": [
      "Train on 658 samples, validate on 330 samples\n",
      "Epoch 1/200\n",
      "658/658 [==============================] - 1s - loss: 0.7848 - acc: 0.5350 - val_loss: 0.5602 - val_acc: 0.8182\n",
      "Epoch 2/200\n",
      "658/658 [==============================] - 0s - loss: 0.6343 - acc: 0.6581 - val_loss: 0.4769 - val_acc: 0.8182\n",
      "Epoch 3/200\n",
      "658/658 [==============================] - 0s - loss: 0.4798 - acc: 0.7401 - val_loss: 0.6404 - val_acc: 0.6727\n",
      "Epoch 4/200\n",
      "658/658 [==============================] - 0s - loss: 0.4194 - acc: 0.7994 - val_loss: 0.5685 - val_acc: 0.8212\n",
      "Epoch 5/200\n",
      "658/658 [==============================] - 0s - loss: 0.3721 - acc: 0.8116 - val_loss: 0.7230 - val_acc: 0.8212\n",
      "Epoch 6/200\n",
      "658/658 [==============================] - 0s - loss: 0.3474 - acc: 0.8435 - val_loss: 0.5105 - val_acc: 0.8667\n",
      "Epoch 7/200\n",
      "658/658 [==============================] - 0s - loss: 0.3031 - acc: 0.8480 - val_loss: 0.4781 - val_acc: 0.8212\n",
      "Epoch 8/200\n",
      "658/658 [==============================] - 0s - loss: 0.2345 - acc: 0.9088 - val_loss: 0.5565 - val_acc: 0.8212\n",
      "Epoch 9/200\n",
      "658/658 [==============================] - 0s - loss: 0.1940 - acc: 0.9164 - val_loss: 0.4622 - val_acc: 0.8212\n",
      "Epoch 10/200\n",
      "658/658 [==============================] - 0s - loss: 0.1993 - acc: 0.9179 - val_loss: 0.3448 - val_acc: 0.8727\n",
      "Epoch 11/200\n",
      "658/658 [==============================] - 0s - loss: 0.1615 - acc: 0.9407 - val_loss: 0.2849 - val_acc: 0.8879\n",
      "Epoch 12/200\n",
      "658/658 [==============================] - 0s - loss: 0.1353 - acc: 0.9635 - val_loss: 0.2275 - val_acc: 0.8848\n",
      "Epoch 13/200\n",
      "658/658 [==============================] - 0s - loss: 0.1186 - acc: 0.9666 - val_loss: 0.3393 - val_acc: 0.8303\n",
      "Epoch 14/200\n",
      "658/658 [==============================] - 0s - loss: 0.0937 - acc: 0.9635 - val_loss: 0.2353 - val_acc: 0.8909\n",
      "Epoch 15/200\n",
      "658/658 [==============================] - 0s - loss: 0.0759 - acc: 0.9742 - val_loss: 0.2025 - val_acc: 0.8909\n",
      "Epoch 16/200\n",
      "658/658 [==============================] - 0s - loss: 0.0644 - acc: 0.9802 - val_loss: 0.2069 - val_acc: 0.9000\n",
      "Epoch 17/200\n",
      "658/658 [==============================] - 0s - loss: 0.0505 - acc: 0.9924 - val_loss: 0.2133 - val_acc: 0.8667\n",
      "Epoch 18/200\n",
      "658/658 [==============================] - 0s - loss: 0.0434 - acc: 0.9909 - val_loss: 0.1767 - val_acc: 0.9061\n",
      "Epoch 19/200\n",
      "658/658 [==============================] - 0s - loss: 0.0392 - acc: 0.9939 - val_loss: 0.2139 - val_acc: 0.8727\n",
      "Epoch 20/200\n",
      "658/658 [==============================] - 0s - loss: 0.0410 - acc: 0.9909 - val_loss: 0.1891 - val_acc: 0.8788\n",
      "Epoch 21/200\n",
      "658/658 [==============================] - 0s - loss: 0.0493 - acc: 0.9848 - val_loss: 0.1915 - val_acc: 0.9061\n",
      "Epoch 22/200\n",
      "658/658 [==============================] - 0s - loss: 0.0523 - acc: 0.9787 - val_loss: 0.2545 - val_acc: 0.8939\n",
      "Epoch 23/200\n",
      "658/658 [==============================] - 0s - loss: 0.0476 - acc: 0.9924 - val_loss: 0.1915 - val_acc: 0.8970\n",
      "Epoch 24/200\n",
      "658/658 [==============================] - 0s - loss: 0.0370 - acc: 0.9909 - val_loss: 0.1601 - val_acc: 0.9273\n",
      "Epoch 25/200\n",
      "658/658 [==============================] - 0s - loss: 0.0341 - acc: 0.9954 - val_loss: 0.1647 - val_acc: 0.9030\n",
      "Epoch 26/200\n",
      "658/658 [==============================] - 0s - loss: 0.0309 - acc: 0.9954 - val_loss: 0.1433 - val_acc: 0.9364\n",
      "Epoch 27/200\n",
      "658/658 [==============================] - 0s - loss: 0.0231 - acc: 0.9939 - val_loss: 0.1425 - val_acc: 0.9485\n",
      "Epoch 28/200\n",
      "658/658 [==============================] - 0s - loss: 0.0216 - acc: 0.9970 - val_loss: 0.1546 - val_acc: 0.9394\n",
      "Epoch 29/200\n",
      "658/658 [==============================] - 0s - loss: 0.0281 - acc: 0.9924 - val_loss: 0.1321 - val_acc: 0.9364\n",
      "Epoch 30/200\n",
      "658/658 [==============================] - 0s - loss: 0.0215 - acc: 0.9970 - val_loss: 0.1122 - val_acc: 0.9576\n",
      "Epoch 31/200\n",
      "658/658 [==============================] - 0s - loss: 0.0234 - acc: 0.9939 - val_loss: 0.1337 - val_acc: 0.9636\n",
      "Epoch 32/200\n",
      "658/658 [==============================] - 0s - loss: 0.0207 - acc: 0.9939 - val_loss: 0.1319 - val_acc: 0.9606\n",
      "Epoch 33/200\n",
      "658/658 [==============================] - 0s - loss: 0.0159 - acc: 0.9970 - val_loss: 0.1100 - val_acc: 0.9667\n",
      "Epoch 34/200\n",
      "658/658 [==============================] - 0s - loss: 0.0164 - acc: 0.9985 - val_loss: 0.1196 - val_acc: 0.9697\n",
      "Epoch 35/200\n",
      "658/658 [==============================] - 0s - loss: 0.0112 - acc: 1.0000 - val_loss: 0.1160 - val_acc: 0.9667\n",
      "Epoch 36/200\n",
      "658/658 [==============================] - 0s - loss: 0.0262 - acc: 0.9954 - val_loss: 0.1719 - val_acc: 0.9152\n",
      "Epoch 37/200\n",
      "658/658 [==============================] - 0s - loss: 0.0165 - acc: 0.9954 - val_loss: 0.1173 - val_acc: 0.9606\n",
      "Epoch 38/200\n",
      "658/658 [==============================] - 0s - loss: 0.0154 - acc: 0.9970 - val_loss: 0.1301 - val_acc: 0.9485\n",
      "Epoch 39/200\n",
      "658/658 [==============================] - 0s - loss: 0.0145 - acc: 0.9970 - val_loss: 0.1372 - val_acc: 0.9545\n",
      "Epoch 40/200\n",
      "658/658 [==============================] - 0s - loss: 0.0140 - acc: 0.9970 - val_loss: 0.1314 - val_acc: 0.9424\n",
      "Epoch 41/200\n",
      "658/658 [==============================] - 0s - loss: 0.0115 - acc: 0.9970 - val_loss: 0.1078 - val_acc: 0.9455\n",
      "Epoch 42/200\n",
      "658/658 [==============================] - 0s - loss: 0.0160 - acc: 1.0000 - val_loss: 0.1208 - val_acc: 0.9606\n",
      "Epoch 43/200\n",
      "658/658 [==============================] - 0s - loss: 0.0165 - acc: 0.9985 - val_loss: 0.1279 - val_acc: 0.9485\n",
      "Epoch 44/200\n",
      "658/658 [==============================] - 0s - loss: 0.0092 - acc: 1.0000 - val_loss: 0.0912 - val_acc: 0.9788\n",
      "Epoch 45/200\n",
      "658/658 [==============================] - 0s - loss: 0.0121 - acc: 1.0000 - val_loss: 0.1288 - val_acc: 0.9485\n",
      "Epoch 46/200\n",
      "658/658 [==============================] - 0s - loss: 0.0147 - acc: 0.9985 - val_loss: 0.0865 - val_acc: 0.9788\n",
      "Epoch 47/200\n",
      "658/658 [==============================] - 0s - loss: 0.0126 - acc: 0.9985 - val_loss: 0.0891 - val_acc: 0.9848\n",
      "Epoch 48/200\n",
      "658/658 [==============================] - 0s - loss: 0.0092 - acc: 0.9985 - val_loss: 0.1429 - val_acc: 0.9485\n",
      "Epoch 49/200\n",
      "658/658 [==============================] - 0s - loss: 0.0058 - acc: 1.0000 - val_loss: 0.1248 - val_acc: 0.9515\n",
      "Epoch 50/200\n",
      "658/658 [==============================] - 0s - loss: 0.0064 - acc: 0.9985 - val_loss: 0.0985 - val_acc: 0.9727\n",
      "Epoch 51/200\n",
      "658/658 [==============================] - 0s - loss: 0.0110 - acc: 0.9954 - val_loss: 0.1277 - val_acc: 0.9545\n",
      "Epoch 52/200\n",
      "658/658 [==============================] - 0s - loss: 0.0137 - acc: 0.9970 - val_loss: 0.1381 - val_acc: 0.9061\n",
      "Epoch 53/200\n",
      "658/658 [==============================] - 0s - loss: 0.0129 - acc: 0.9924 - val_loss: 0.1229 - val_acc: 0.9515\n",
      "Epoch 54/200\n",
      "658/658 [==============================] - 0s - loss: 0.0117 - acc: 1.0000 - val_loss: 0.1367 - val_acc: 0.9303\n",
      "Epoch 55/200\n",
      "658/658 [==============================] - 0s - loss: 0.0089 - acc: 1.0000 - val_loss: 0.1081 - val_acc: 0.9545\n",
      "Epoch 56/200\n",
      "658/658 [==============================] - 0s - loss: 0.0104 - acc: 1.0000 - val_loss: 0.1224 - val_acc: 0.9424\n",
      "Epoch 57/200\n",
      "658/658 [==============================] - 0s - loss: 0.0129 - acc: 0.9954 - val_loss: 0.0775 - val_acc: 0.9727\n",
      "Epoch 58/200\n",
      "658/658 [==============================] - 0s - loss: 0.0164 - acc: 0.9954 - val_loss: 0.1048 - val_acc: 0.9515\n",
      "Epoch 59/200\n",
      "658/658 [==============================] - 0s - loss: 0.0106 - acc: 0.9985 - val_loss: 0.1904 - val_acc: 0.9121\n",
      "Epoch 60/200\n",
      "658/658 [==============================] - 0s - loss: 0.0077 - acc: 1.0000 - val_loss: 0.1685 - val_acc: 0.9152\n",
      "Epoch 61/200\n",
      "658/658 [==============================] - 0s - loss: 0.0113 - acc: 1.0000 - val_loss: 0.0826 - val_acc: 0.9727\n",
      "Epoch 62/200\n",
      "658/658 [==============================] - 0s - loss: 0.0066 - acc: 0.9985 - val_loss: 0.0653 - val_acc: 0.9818\n",
      "Epoch 63/200\n",
      "658/658 [==============================] - 0s - loss: 0.0083 - acc: 1.0000 - val_loss: 0.1121 - val_acc: 0.9606\n",
      "Epoch 64/200\n",
      "658/658 [==============================] - 0s - loss: 0.0102 - acc: 0.9985 - val_loss: 0.0743 - val_acc: 0.9788\n",
      "Epoch 65/200\n",
      "658/658 [==============================] - 0s - loss: 0.0090 - acc: 0.9985 - val_loss: 0.0952 - val_acc: 0.9545\n",
      "Epoch 66/200\n"
     ]
    },
    {
     "name": "stdout",
     "output_type": "stream",
     "text": [
      "658/658 [==============================] - 0s - loss: 0.0088 - acc: 1.0000 - val_loss: 0.1153 - val_acc: 0.9394\n",
      "Epoch 67/200\n",
      "658/658 [==============================] - 0s - loss: 0.0080 - acc: 1.0000 - val_loss: 0.0758 - val_acc: 0.9848\n",
      "Epoch 68/200\n",
      "658/658 [==============================] - 0s - loss: 0.0101 - acc: 1.0000 - val_loss: 0.0736 - val_acc: 0.9788\n",
      "Epoch 69/200\n",
      "658/658 [==============================] - 0s - loss: 0.0077 - acc: 0.9985 - val_loss: 0.0791 - val_acc: 0.9758\n",
      "Epoch 70/200\n",
      "658/658 [==============================] - 0s - loss: 0.0094 - acc: 1.0000 - val_loss: 0.0890 - val_acc: 0.9697\n",
      "Epoch 71/200\n",
      "658/658 [==============================] - 0s - loss: 0.0102 - acc: 1.0000 - val_loss: 0.0697 - val_acc: 0.9788\n",
      "Epoch 72/200\n",
      "658/658 [==============================] - 0s - loss: 0.0052 - acc: 1.0000 - val_loss: 0.0755 - val_acc: 0.9758\n",
      "Epoch 73/200\n",
      "658/658 [==============================] - 0s - loss: 0.0063 - acc: 1.0000 - val_loss: 0.0743 - val_acc: 0.9758\n",
      "Epoch 74/200\n",
      "658/658 [==============================] - 0s - loss: 0.0130 - acc: 0.9985 - val_loss: 0.1077 - val_acc: 0.9576\n",
      "Epoch 75/200\n",
      "658/658 [==============================] - 0s - loss: 0.0071 - acc: 1.0000 - val_loss: 0.0867 - val_acc: 0.9667\n",
      "Epoch 76/200\n",
      "658/658 [==============================] - 0s - loss: 0.0091 - acc: 0.9985 - val_loss: 0.0970 - val_acc: 0.9606\n",
      "Epoch 77/200\n",
      "658/658 [==============================] - 0s - loss: 0.0074 - acc: 1.0000 - val_loss: 0.0841 - val_acc: 0.9788\n",
      "Epoch 78/200\n",
      "658/658 [==============================] - 0s - loss: 0.0036 - acc: 1.0000 - val_loss: 0.0680 - val_acc: 0.9818\n",
      "Epoch 79/200\n",
      "658/658 [==============================] - 0s - loss: 0.0147 - acc: 0.9954 - val_loss: 0.0620 - val_acc: 0.9788\n",
      "Epoch 80/200\n",
      "658/658 [==============================] - 0s - loss: 0.0051 - acc: 0.9985 - val_loss: 0.1375 - val_acc: 0.9303\n",
      "Epoch 81/200\n",
      "658/658 [==============================] - 0s - loss: 0.0101 - acc: 1.0000 - val_loss: 0.1152 - val_acc: 0.9576\n",
      "Epoch 82/200\n",
      "658/658 [==============================] - 0s - loss: 0.0091 - acc: 1.0000 - val_loss: 0.0931 - val_acc: 0.9697\n",
      "Epoch 83/200\n",
      "658/658 [==============================] - 0s - loss: 0.0071 - acc: 1.0000 - val_loss: 0.0985 - val_acc: 0.9636\n",
      "Epoch 84/200\n",
      "658/658 [==============================] - 0s - loss: 0.0076 - acc: 0.9985 - val_loss: 0.1285 - val_acc: 0.9455\n",
      "Epoch 85/200\n",
      "658/658 [==============================] - 0s - loss: 0.0172 - acc: 0.9985 - val_loss: 0.0831 - val_acc: 0.9727\n",
      "Epoch 86/200\n",
      "658/658 [==============================] - 0s - loss: 0.0143 - acc: 0.9985 - val_loss: 0.0940 - val_acc: 0.9758\n",
      "Epoch 87/200\n",
      "658/658 [==============================] - 0s - loss: 0.0123 - acc: 1.0000 - val_loss: 0.0969 - val_acc: 0.9606\n",
      "Epoch 88/200\n",
      "658/658 [==============================] - 0s - loss: 0.0123 - acc: 1.0000 - val_loss: 0.0974 - val_acc: 0.9636\n",
      "Epoch 89/200\n",
      "658/658 [==============================] - 0s - loss: 0.0061 - acc: 1.0000 - val_loss: 0.1765 - val_acc: 0.9152\n",
      "Epoch 90/200\n",
      "658/658 [==============================] - 0s - loss: 0.0073 - acc: 1.0000 - val_loss: 0.1814 - val_acc: 0.9152\n",
      "Epoch 91/200\n",
      "658/658 [==============================] - 0s - loss: 0.0083 - acc: 1.0000 - val_loss: 0.1748 - val_acc: 0.9152\n",
      "Epoch 92/200\n",
      "658/658 [==============================] - 0s - loss: 0.0058 - acc: 0.9985 - val_loss: 0.1169 - val_acc: 0.9394\n",
      "Epoch 93/200\n",
      "658/658 [==============================] - 0s - loss: 0.0102 - acc: 0.9985 - val_loss: 0.0651 - val_acc: 0.9818\n",
      "Epoch 94/200\n",
      "658/658 [==============================] - 0s - loss: 0.0070 - acc: 1.0000 - val_loss: 0.0522 - val_acc: 0.9848\n",
      "Epoch 95/200\n",
      "658/658 [==============================] - 0s - loss: 0.0064 - acc: 1.0000 - val_loss: 0.0905 - val_acc: 0.9667\n",
      "Epoch 96/200\n",
      "658/658 [==============================] - 0s - loss: 0.0054 - acc: 1.0000 - val_loss: 0.1275 - val_acc: 0.9455\n",
      "Epoch 97/200\n",
      "658/658 [==============================] - 0s - loss: 0.0147 - acc: 0.9985 - val_loss: 0.0397 - val_acc: 0.9939\n",
      "Epoch 98/200\n",
      "658/658 [==============================] - 0s - loss: 0.0080 - acc: 0.9970 - val_loss: 0.1323 - val_acc: 0.9333\n",
      "Epoch 99/200\n",
      "658/658 [==============================] - 0s - loss: 0.0111 - acc: 1.0000 - val_loss: 0.2879 - val_acc: 0.8848\n",
      "Epoch 100/200\n",
      "658/658 [==============================] - 0s - loss: 0.0087 - acc: 1.0000 - val_loss: 0.2520 - val_acc: 0.8939\n",
      "Epoch 101/200\n",
      "658/658 [==============================] - 0s - loss: 0.0079 - acc: 1.0000 - val_loss: 0.1836 - val_acc: 0.9182\n",
      "Epoch 102/200\n",
      "658/658 [==============================] - 0s - loss: 0.0050 - acc: 0.9985 - val_loss: 0.1073 - val_acc: 0.9515\n",
      "Epoch 103/200\n",
      "658/658 [==============================] - 0s - loss: 0.0082 - acc: 0.9985 - val_loss: 0.0981 - val_acc: 0.9485\n",
      "Epoch 104/200\n",
      "658/658 [==============================] - 0s - loss: 0.0087 - acc: 1.0000 - val_loss: 0.0659 - val_acc: 0.9727\n",
      "Epoch 105/200\n",
      "658/658 [==============================] - 0s - loss: 0.0161 - acc: 0.9939 - val_loss: 0.0624 - val_acc: 0.9788\n",
      "Epoch 106/200\n",
      "658/658 [==============================] - 0s - loss: 0.0084 - acc: 1.0000 - val_loss: 0.1428 - val_acc: 0.9455\n",
      "Epoch 107/200\n",
      "658/658 [==============================] - 0s - loss: 0.0107 - acc: 1.0000 - val_loss: 0.1017 - val_acc: 0.9364\n",
      "Epoch 108/200\n",
      "658/658 [==============================] - 0s - loss: 0.0121 - acc: 0.9985 - val_loss: 0.0815 - val_acc: 0.9636\n",
      "Epoch 109/200\n",
      "658/658 [==============================] - 0s - loss: 0.0108 - acc: 1.0000 - val_loss: 0.1919 - val_acc: 0.9242\n",
      "Epoch 110/200\n",
      "658/658 [==============================] - 0s - loss: 0.0112 - acc: 1.0000 - val_loss: 0.1972 - val_acc: 0.9273\n",
      "Epoch 111/200\n",
      "658/658 [==============================] - 0s - loss: 0.0074 - acc: 1.0000 - val_loss: 0.0778 - val_acc: 0.9606\n",
      "Epoch 112/200\n",
      "658/658 [==============================] - 0s - loss: 0.0062 - acc: 0.9985 - val_loss: 0.0528 - val_acc: 0.9788\n",
      "Epoch 113/200\n",
      "658/658 [==============================] - 0s - loss: 0.0051 - acc: 1.0000 - val_loss: 0.1012 - val_acc: 0.9545\n",
      "Epoch 114/200\n",
      "658/658 [==============================] - 0s - loss: 0.0039 - acc: 1.0000 - val_loss: 0.1832 - val_acc: 0.9364\n",
      "Epoch 115/200\n",
      "658/658 [==============================] - 0s - loss: 0.0118 - acc: 1.0000 - val_loss: 0.2075 - val_acc: 0.9273\n",
      "Epoch 116/200\n",
      "658/658 [==============================] - 0s - loss: 0.0067 - acc: 1.0000 - val_loss: 0.1918 - val_acc: 0.9273\n",
      "Epoch 117/200\n",
      "658/658 [==============================] - 0s - loss: 0.0083 - acc: 0.9985 - val_loss: 0.1663 - val_acc: 0.9303\n",
      "Epoch 118/200\n",
      "658/658 [==============================] - 0s - loss: 0.0059 - acc: 1.0000 - val_loss: 0.1159 - val_acc: 0.9394\n",
      "Epoch 119/200\n",
      "658/658 [==============================] - 0s - loss: 0.0072 - acc: 1.0000 - val_loss: 0.0879 - val_acc: 0.9545\n",
      "Epoch 120/200\n",
      "658/658 [==============================] - 0s - loss: 0.0086 - acc: 1.0000 - val_loss: 0.0858 - val_acc: 0.9576\n",
      "Epoch 121/200\n",
      "658/658 [==============================] - 0s - loss: 0.0104 - acc: 1.0000 - val_loss: 0.0864 - val_acc: 0.9606\n",
      "Epoch 122/200\n",
      "658/658 [==============================] - 0s - loss: 0.0042 - acc: 1.0000 - val_loss: 0.0890 - val_acc: 0.9606\n",
      "Epoch 123/200\n",
      "658/658 [==============================] - 0s - loss: 0.0034 - acc: 1.0000 - val_loss: 0.0904 - val_acc: 0.9606\n",
      "Epoch 124/200\n",
      "658/658 [==============================] - 0s - loss: 0.0040 - acc: 1.0000 - val_loss: 0.0977 - val_acc: 0.9485\n",
      "Epoch 125/200\n",
      "658/658 [==============================] - 0s - loss: 0.0117 - acc: 1.0000 - val_loss: 0.0997 - val_acc: 0.9485\n",
      "Epoch 126/200\n",
      "658/658 [==============================] - 0s - loss: 0.0074 - acc: 1.0000 - val_loss: 0.0773 - val_acc: 0.9697\n",
      "Epoch 127/200\n",
      "658/658 [==============================] - 0s - loss: 0.0062 - acc: 0.9985 - val_loss: 0.0903 - val_acc: 0.9545\n",
      "Epoch 128/200\n",
      "658/658 [==============================] - 0s - loss: 0.0111 - acc: 1.0000 - val_loss: 0.1498 - val_acc: 0.9364\n",
      "Epoch 129/200\n",
      "658/658 [==============================] - 0s - loss: 0.0064 - acc: 1.0000 - val_loss: 0.1710 - val_acc: 0.9303\n",
      "Epoch 130/200\n",
      "658/658 [==============================] - 0s - loss: 0.0036 - acc: 1.0000 - val_loss: 0.0588 - val_acc: 0.9758\n",
      "Epoch 131/200\n"
     ]
    },
    {
     "name": "stdout",
     "output_type": "stream",
     "text": [
      "658/658 [==============================] - 0s - loss: 0.0071 - acc: 0.9985 - val_loss: 0.0183 - val_acc: 1.0000\n",
      "Epoch 132/200\n",
      "658/658 [==============================] - 0s - loss: 0.0074 - acc: 1.0000 - val_loss: 0.0337 - val_acc: 0.9879\n",
      "Epoch 133/200\n",
      "658/658 [==============================] - 0s - loss: 0.0118 - acc: 0.9985 - val_loss: 0.0703 - val_acc: 0.9727\n",
      "Epoch 134/200\n",
      "658/658 [==============================] - 0s - loss: 0.0060 - acc: 1.0000 - val_loss: 0.0740 - val_acc: 0.9727\n",
      "Epoch 135/200\n",
      "658/658 [==============================] - 0s - loss: 0.0074 - acc: 1.0000 - val_loss: 0.0676 - val_acc: 0.9758\n",
      "Epoch 136/200\n",
      "658/658 [==============================] - 0s - loss: 0.0103 - acc: 1.0000 - val_loss: 0.0922 - val_acc: 0.9545\n",
      "Epoch 137/200\n",
      "658/658 [==============================] - 0s - loss: 0.0049 - acc: 1.0000 - val_loss: 0.1114 - val_acc: 0.9455\n",
      "Epoch 138/200\n",
      "658/658 [==============================] - 0s - loss: 0.0078 - acc: 1.0000 - val_loss: 0.0776 - val_acc: 0.9697\n",
      "Epoch 139/200\n",
      "658/658 [==============================] - 0s - loss: 0.0068 - acc: 1.0000 - val_loss: 0.0701 - val_acc: 0.9758\n",
      "Epoch 140/200\n",
      "658/658 [==============================] - 0s - loss: 0.0073 - acc: 1.0000 - val_loss: 0.0782 - val_acc: 0.9727\n",
      "Epoch 141/200\n",
      "658/658 [==============================] - 0s - loss: 0.0037 - acc: 1.0000 - val_loss: 0.0849 - val_acc: 0.9697\n",
      "Epoch 142/200\n",
      "658/658 [==============================] - 0s - loss: 0.0083 - acc: 0.9985 - val_loss: 0.0641 - val_acc: 0.9727\n",
      "Epoch 143/200\n",
      "658/658 [==============================] - 0s - loss: 0.0071 - acc: 0.9985 - val_loss: 0.0472 - val_acc: 0.9818\n",
      "Epoch 144/200\n",
      "658/658 [==============================] - 0s - loss: 0.0059 - acc: 1.0000 - val_loss: 0.0478 - val_acc: 0.9818\n",
      "Epoch 145/200\n",
      "658/658 [==============================] - 0s - loss: 0.0090 - acc: 1.0000 - val_loss: 0.0655 - val_acc: 0.9758\n",
      "Epoch 146/200\n",
      "658/658 [==============================] - 0s - loss: 0.0078 - acc: 1.0000 - val_loss: 0.0577 - val_acc: 0.9758\n",
      "Epoch 147/200\n",
      "658/658 [==============================] - 0s - loss: 0.0105 - acc: 1.0000 - val_loss: 0.0382 - val_acc: 0.9848\n",
      "Epoch 148/200\n",
      "658/658 [==============================] - 0s - loss: 0.0067 - acc: 0.9985 - val_loss: 0.0495 - val_acc: 0.9818\n",
      "Epoch 149/200\n",
      "658/658 [==============================] - 0s - loss: 0.0016 - acc: 1.0000 - val_loss: 0.0530 - val_acc: 0.9788\n",
      "Epoch 150/200\n",
      "658/658 [==============================] - 0s - loss: 0.0128 - acc: 1.0000 - val_loss: 0.0472 - val_acc: 0.9818\n",
      "Epoch 151/200\n",
      "658/658 [==============================] - 0s - loss: 0.0098 - acc: 1.0000 - val_loss: 0.0601 - val_acc: 0.9758\n",
      "Epoch 152/200\n",
      "658/658 [==============================] - 0s - loss: 0.0038 - acc: 1.0000 - val_loss: 0.0634 - val_acc: 0.9727\n",
      "Epoch 153/200\n",
      "658/658 [==============================] - 0s - loss: 0.0021 - acc: 1.0000 - val_loss: 0.0653 - val_acc: 0.9727\n",
      "Epoch 154/200\n",
      "658/658 [==============================] - 0s - loss: 0.0069 - acc: 1.0000 - val_loss: 0.0657 - val_acc: 0.9727\n",
      "Epoch 155/200\n",
      "658/658 [==============================] - 0s - loss: 0.0052 - acc: 1.0000 - val_loss: 0.0649 - val_acc: 0.9727\n",
      "Epoch 156/200\n",
      "658/658 [==============================] - 0s - loss: 0.0085 - acc: 1.0000 - val_loss: 0.0875 - val_acc: 0.9697\n",
      "Epoch 157/200\n",
      "658/658 [==============================] - 0s - loss: 0.0109 - acc: 1.0000 - val_loss: 0.1002 - val_acc: 0.9606\n",
      "Epoch 158/200\n",
      "658/658 [==============================] - 0s - loss: 0.0079 - acc: 1.0000 - val_loss: 0.0866 - val_acc: 0.9697\n",
      "Epoch 159/200\n",
      "658/658 [==============================] - 0s - loss: 0.0122 - acc: 1.0000 - val_loss: 0.1295 - val_acc: 0.9424\n",
      "Epoch 160/200\n",
      "658/658 [==============================] - 0s - loss: 0.0071 - acc: 1.0000 - val_loss: 0.1526 - val_acc: 0.9364\n",
      "Epoch 161/200\n",
      "658/658 [==============================] - 0s - loss: 0.0093 - acc: 1.0000 - val_loss: 0.1217 - val_acc: 0.9424\n",
      "Epoch 162/200\n",
      "658/658 [==============================] - 0s - loss: 0.0037 - acc: 1.0000 - val_loss: 0.1029 - val_acc: 0.9485\n",
      "Epoch 163/200\n",
      "658/658 [==============================] - 0s - loss: 0.0061 - acc: 1.0000 - val_loss: 0.0913 - val_acc: 0.9667\n",
      "Epoch 164/200\n",
      "658/658 [==============================] - 0s - loss: 0.0077 - acc: 1.0000 - val_loss: 0.1063 - val_acc: 0.9485\n",
      "Epoch 165/200\n",
      "658/658 [==============================] - 0s - loss: 0.0066 - acc: 1.0000 - val_loss: 0.1646 - val_acc: 0.9273\n",
      "Epoch 166/200\n",
      "658/658 [==============================] - 0s - loss: 0.0036 - acc: 1.0000 - val_loss: 0.1845 - val_acc: 0.9242\n",
      "Epoch 167/200\n",
      "658/658 [==============================] - 0s - loss: 0.0035 - acc: 1.0000 - val_loss: 0.1853 - val_acc: 0.9242\n",
      "Epoch 168/200\n",
      "658/658 [==============================] - 0s - loss: 0.0066 - acc: 1.0000 - val_loss: 0.1784 - val_acc: 0.9242\n",
      "Epoch 169/200\n",
      "658/658 [==============================] - 0s - loss: 0.0057 - acc: 1.0000 - val_loss: 0.1038 - val_acc: 0.9515\n",
      "Epoch 170/200\n",
      "658/658 [==============================] - 0s - loss: 0.0045 - acc: 1.0000 - val_loss: 0.0664 - val_acc: 0.9758\n",
      "Epoch 171/200\n",
      "658/658 [==============================] - 0s - loss: 0.0064 - acc: 1.0000 - val_loss: 0.0708 - val_acc: 0.9758\n",
      "Epoch 172/200\n",
      "658/658 [==============================] - 0s - loss: 0.0090 - acc: 1.0000 - val_loss: 0.0918 - val_acc: 0.9636\n",
      "Epoch 173/200\n",
      "658/658 [==============================] - 0s - loss: 0.0067 - acc: 1.0000 - val_loss: 0.1343 - val_acc: 0.9424\n",
      "Epoch 174/200\n",
      "658/658 [==============================] - 0s - loss: 0.0044 - acc: 1.0000 - val_loss: 0.1544 - val_acc: 0.9303\n",
      "Epoch 175/200\n",
      "658/658 [==============================] - 0s - loss: 0.0067 - acc: 1.0000 - val_loss: 0.1209 - val_acc: 0.9515\n",
      "Epoch 176/200\n",
      "658/658 [==============================] - 0s - loss: 0.0052 - acc: 1.0000 - val_loss: 0.1236 - val_acc: 0.9485\n",
      "Epoch 177/200\n",
      "658/658 [==============================] - 0s - loss: 0.0073 - acc: 1.0000 - val_loss: 0.1358 - val_acc: 0.9394\n",
      "Epoch 178/200\n",
      "658/658 [==============================] - 0s - loss: 0.0059 - acc: 1.0000 - val_loss: 0.1305 - val_acc: 0.9424\n",
      "Epoch 179/200\n",
      "658/658 [==============================] - 0s - loss: 0.0090 - acc: 1.0000 - val_loss: 0.1051 - val_acc: 0.9394\n",
      "Epoch 180/200\n",
      "658/658 [==============================] - 0s - loss: 0.0084 - acc: 0.9970 - val_loss: 0.0778 - val_acc: 0.9667\n",
      "Epoch 181/200\n",
      "658/658 [==============================] - 0s - loss: 0.0064 - acc: 1.0000 - val_loss: 0.2359 - val_acc: 0.9061\n",
      "Epoch 182/200\n",
      "658/658 [==============================] - 0s - loss: 0.0071 - acc: 1.0000 - val_loss: 0.2901 - val_acc: 0.8848\n",
      "Epoch 183/200\n",
      "658/658 [==============================] - 0s - loss: 0.0062 - acc: 1.0000 - val_loss: 0.2475 - val_acc: 0.9030\n",
      "Epoch 184/200\n",
      "658/658 [==============================] - 0s - loss: 0.0055 - acc: 1.0000 - val_loss: 0.2011 - val_acc: 0.9242\n",
      "Epoch 185/200\n",
      "658/658 [==============================] - 0s - loss: 0.0037 - acc: 1.0000 - val_loss: 0.1832 - val_acc: 0.9273\n",
      "Epoch 186/200\n",
      "658/658 [==============================] - 0s - loss: 0.0062 - acc: 1.0000 - val_loss: 0.1967 - val_acc: 0.9212\n",
      "Epoch 187/200\n",
      "658/658 [==============================] - 0s - loss: 0.0027 - acc: 1.0000 - val_loss: 0.1599 - val_acc: 0.9273\n",
      "Epoch 188/200\n",
      "658/658 [==============================] - 0s - loss: 0.0057 - acc: 1.0000 - val_loss: 0.1204 - val_acc: 0.9394\n",
      "Epoch 189/200\n",
      "658/658 [==============================] - 0s - loss: 0.0037 - acc: 1.0000 - val_loss: 0.1025 - val_acc: 0.9576\n",
      "Epoch 190/200\n",
      "658/658 [==============================] - 0s - loss: 0.0056 - acc: 0.9985 - val_loss: 0.1333 - val_acc: 0.9424\n",
      "Epoch 191/200\n",
      "658/658 [==============================] - 0s - loss: 0.0089 - acc: 1.0000 - val_loss: 0.1648 - val_acc: 0.9364\n",
      "Epoch 192/200\n",
      "658/658 [==============================] - 0s - loss: 0.0065 - acc: 1.0000 - val_loss: 0.1985 - val_acc: 0.9333\n",
      "Epoch 193/200\n",
      "658/658 [==============================] - 0s - loss: 0.0066 - acc: 1.0000 - val_loss: 0.2092 - val_acc: 0.9333\n",
      "Epoch 194/200\n",
      "658/658 [==============================] - 0s - loss: 0.0056 - acc: 1.0000 - val_loss: 0.2047 - val_acc: 0.9333\n",
      "Epoch 195/200\n",
      "658/658 [==============================] - 0s - loss: 0.0092 - acc: 1.0000 - val_loss: 0.1848 - val_acc: 0.9364\n",
      "Epoch 196/200\n"
     ]
    },
    {
     "name": "stdout",
     "output_type": "stream",
     "text": [
      "658/658 [==============================] - 0s - loss: 0.0080 - acc: 1.0000 - val_loss: 0.1720 - val_acc: 0.9394\n",
      "Epoch 197/200\n",
      "658/658 [==============================] - 0s - loss: 0.0079 - acc: 1.0000 - val_loss: 0.1941 - val_acc: 0.9303\n",
      "Epoch 198/200\n",
      "658/658 [==============================] - 0s - loss: 0.0052 - acc: 1.0000 - val_loss: 0.1065 - val_acc: 0.9485\n",
      "Epoch 199/200\n",
      "658/658 [==============================] - 0s - loss: 0.0058 - acc: 1.0000 - val_loss: 0.0244 - val_acc: 0.9939\n",
      "Epoch 200/200\n",
      "658/658 [==============================] - 0s - loss: 0.0035 - acc: 0.9985 - val_loss: 0.0265 - val_acc: 0.9939\n"
     ]
    }
   ],
   "source": [
    "hist = model.fit(X_train, Y_train, batch_size=128, epochs=200, validation_data=(X_val, Y_val)) #callbacks=[early_stopping]"
   ]
  },
  {
   "cell_type": "code",
   "execution_count": 127,
   "metadata": {},
   "outputs": [
    {
     "data": {
      "text/plain": [
       "array([[  4.70719121e-15,   1.00000000e+00],\n",
       "       [  5.68544777e-14,   1.00000000e+00],\n",
       "       [  1.99857548e-18,   1.00000000e+00],\n",
       "       [  1.62834822e-05,   9.99983668e-01],\n",
       "       [  2.65297940e-11,   1.00000000e+00],\n",
       "       [  3.26242852e-12,   1.00000000e+00],\n",
       "       [  4.11501969e-06,   9.99995828e-01],\n",
       "       [  1.92551225e-10,   1.00000000e+00],\n",
       "       [  6.02835673e-04,   9.99397159e-01],\n",
       "       [  2.27131158e-09,   1.00000000e+00],\n",
       "       [  4.50570951e-05,   9.99954939e-01],\n",
       "       [  5.96788668e-05,   9.99940276e-01],\n",
       "       [  5.31585003e-14,   1.00000000e+00],\n",
       "       [  6.96933782e-08,   9.99999881e-01],\n",
       "       [  1.58653242e-13,   1.00000000e+00],\n",
       "       [  1.53077719e-26,   1.00000000e+00],\n",
       "       [  2.25973595e-02,   9.77402627e-01],\n",
       "       [  4.77840245e-01,   5.22159815e-01],\n",
       "       [  2.87815639e-11,   1.00000000e+00],\n",
       "       [  1.31480746e-28,   1.00000000e+00],\n",
       "       [  1.57597730e-12,   1.00000000e+00],\n",
       "       [  1.88092380e-12,   1.00000000e+00]], dtype=float32)"
      ]
     },
     "execution_count": 127,
     "metadata": {},
     "output_type": "execute_result"
    }
   ],
   "source": [
    "model.predict(X_cyst)"
   ]
  },
  {
   "cell_type": "code",
   "execution_count": 159,
   "metadata": {
    "collapsed": true
   },
   "outputs": [],
   "source": [
    "activ = model2.predict(X_train)\n",
    "#activ = model2.predict(np.expand_dims(X_train[10],axis=0))"
   ]
  },
  {
   "cell_type": "code",
   "execution_count": 166,
   "metadata": {},
   "outputs": [
    {
     "data": {
      "text/plain": [
       "<matplotlib.image.AxesImage at 0x1c8e3907550>"
      ]
     },
     "execution_count": 166,
     "metadata": {},
     "output_type": "execute_result"
    },
    {
     "data": {
      "image/png": "[encoded data removed]",
      "text/plain": [
       "<matplotlib.figure.Figure at 0x1c8e38b92b0>"
      ]
     },
     "metadata": {},
     "output_type": "display_data"
    }
   ],
   "source": [
    "plt.imshow(activ[20][:,:,3,5])"
   ]
  },
  {
   "cell_type": "code",
   "execution_count": 162,
   "metadata": {},
   "outputs": [
    {
     "data": {
      "text/plain": [
       "array([   0.        ,    0.        ,    0.        ,    0.        ,\n",
       "          0.        ,  121.71251678,   53.23372269,    0.        ,\n",
       "          0.        ,   24.43340492,    0.        ,    0.        ,\n",
       "          0.        ,    0.        ,    7.88301706,    0.        ], dtype=float32)"
      ]
     },
     "execution_count": 162,
     "metadata": {},
     "output_type": "execute_result"
    }
   ],
   "source": [
    "activ[0][5,5,2,:]"
   ]
  },
  {
   "cell_type": "code",
   "execution_count": 113,
   "metadata": {},
   "outputs": [
    {
     "data": {
      "text/plain": [
       "array(['12296182_23.npy', '13028374_2.npy', 'E104657225_14.npy',\n",
       "       '12972894_6.npy'],\n",
       "      dtype='<U17')"
      ]
     },
     "execution_count": 113,
     "metadata": {},
     "output_type": "execute_result"
    }
   ],
   "source": [
    "Z_val[::30]"
   ]
  },
  {
   "cell_type": "code",
   "execution_count": 133,
   "metadata": {},
   "outputs": [
    {
     "data": {
      "text/plain": [
       "array([ 0.47784024,  0.52215981], dtype=float32)"
      ]
     },
     "execution_count": 133,
     "metadata": {},
     "output_type": "execute_result"
    }
   ],
   "source": [
    "Y_[-5]"
   ]
  },
  {
   "cell_type": "code",
   "execution_count": 144,
   "metadata": {
    "scrolled": true
   },
   "outputs": [
    {
     "name": "stdout",
     "output_type": "stream",
     "text": [
      "Predictions: ['cyst (100.00000% confidence)', 'cyst (100.00000% confidence)', 'cyst (100.00000% confidence)', 'cyst (99.99998% confidence)', 'cyst (100.00000% confidence)', 'cyst (100.00000% confidence)', 'cyst (100.00000% confidence)', 'cyst (100.00000% confidence)', 'cyst (99.99858% confidence)', 'cyst (100.00000% confidence)', 'cyst (99.99996% confidence)', 'cyst (99.99999% confidence)', 'cyst (100.00000% confidence)', 'cyst (100.00000% confidence)', 'cyst (100.00000% confidence)', 'cyst (100.00000% confidence)', 'cyst (99.60698% confidence)', 'hcc (70.35562% confidence)', 'cyst (100.00000% confidence)', 'cyst (100.00000% confidence)', 'cyst (100.00000% confidence)', 'cyst (100.00000% confidence)']\n"
     ]
    }
   ],
   "source": [
    "import operator\n",
    "#print(\"Ground truth:\", [cls_mapping[max(enumerate(x), key=operator.itemgetter(1))[0]] for x in Y_val[::30]])\n",
    "Y_ = model.predict(X_cyst)\n",
    "print(\"Predictions:\", [cls_mapping[max(enumerate(x), key=operator.itemgetter(1))[0]] + \" (%.5f%% confidence)\" % (max(x)*100) for x in Y_])"
   ]
  },
  {
   "cell_type": "code",
   "execution_count": 147,
   "metadata": {
    "scrolled": true
   },
   "outputs": [
    {
     "data": {
      "image/png": "[encoded data removed]",
      "text/plain": [
       "<matplotlib.figure.Figure at 0x266df7b4da0>"
      ]
     },
     "metadata": {},
     "output_type": "display_data"
    }
   ],
   "source": [
    "import pandas as pd\n",
    "voi_df = pd.read_csv('..\\\\liver-mr-processor\\\\vois.csv')\n",
    "img_fn = \"12972894.npy\"\n",
    "img = np.load(\"..\\\\liver-mr-processor\\\\full_imgs\\\\\"+img_fn)\n",
    "plot_section(img, voi_df[voi_df[\"Filename\"] == img_fn].iloc[0], pad=15)"
   ]
  },
  {
   "cell_type": "code",
   "execution_count": 136,
   "metadata": {
    "collapsed": true
   },
   "outputs": [],
   "source": [
    "def plot_section(img, df, pad=30):\n",
    "    plt.subplot(121)\n",
    "    plt.imshow(np.transpose(img[df['x1']-pad:df['x2']+pad,\n",
    "                                df['y2']+pad:df['y1']-pad:-1,\n",
    "                                (df['z1']+df['z2'])//2, 0], (1,0)), cmap='gray')\n",
    "    plt.subplot(122)\n",
    "    plt.imshow(np.transpose(img[df['x1']-pad:df['x2']+pad,\n",
    "                                df['y2']+pad:df['y1']-pad:-1,\n",
    "                                (df['z1']+df['z2'])//2, 1], (1,0)), cmap='gray')"
   ]
  },
  {
   "cell_type": "code",
   "execution_count": 20,
   "metadata": {
    "scrolled": true
   },
   "outputs": [
    {
     "data": {
      "text/plain": [
       "array([  2.78843247e-04,   9.99721110e-01], dtype=float32)"
      ]
     },
     "execution_count": 20,
     "metadata": {},
     "output_type": "execute_result"
    }
   ],
   "source": [
    "Y_[-1]"
   ]
  },
  {
   "cell_type": "code",
   "execution_count": 19,
   "metadata": {},
   "outputs": [
    {
     "data": {
      "text/plain": [
       "0.6875"
      ]
     },
     "execution_count": 19,
     "metadata": {},
     "output_type": "execute_result"
    }
   ],
   "source": [
    "max(sum(y)/len(y), 1-sum(y)/len(y))"
   ]
  },
  {
   "cell_type": "code",
   "execution_count": 87,
   "metadata": {},
   "outputs": [
    {
     "data": {
      "text/plain": [
       "210"
      ]
     },
     "execution_count": 87,
     "metadata": {},
     "output_type": "execute_result"
    }
   ],
   "source": [
    "len(X_val)"
   ]
  },
  {
   "cell_type": "code",
   "execution_count": 84,
   "metadata": {
    "collapsed": true
   },
   "outputs": [],
   "source": [
    "import time"
   ]
  },
  {
   "cell_type": "code",
   "execution_count": 86,
   "metadata": {
    "scrolled": true
   },
   "outputs": [
    {
     "name": "stdout",
     "output_type": "stream",
     "text": [
      "0.20054101943969727\n"
     ]
    }
   ],
   "source": [
    "a=time.time()\n",
    "Y_ = model.predict(X_val)\n",
    "print(time.time()-a)"
   ]
  },
  {
   "cell_type": "code",
   "execution_count": 136,
   "metadata": {
    "collapsed": true
   },
   "outputs": [],
   "source": [
    "import matplotlib.pyplot as plt\n",
    "%matplotlib inline"
   ]
  },
  {
   "cell_type": "code",
   "execution_count": 150,
   "metadata": {},
   "outputs": [
    {
     "data": {
      "text/plain": [
       "0.0"
      ]
     },
     "execution_count": 150,
     "metadata": {},
     "output_type": "execute_result"
    }
   ],
   "source": [
    "np.amax(X[650,:,:,:,0])"
   ]
  },
  {
   "cell_type": "code",
   "execution_count": 140,
   "metadata": {},
   "outputs": [
    {
     "data": {
      "text/plain": [
       "<matplotlib.image.AxesImage at 0x20b42b02b70>"
      ]
     },
     "execution_count": 140,
     "metadata": {},
     "output_type": "execute_result"
    },
    {
     "data": {
      "image/png": "[encoded data removed]",
      "text/plain": [
       "<matplotlib.figure.Figure at 0x20b424cdcf8>"
      ]
     },
     "metadata": {},
     "output_type": "display_data"
    }
   ],
   "source": [
    "plt.imshow(X[0,:,:,5,0])"
   ]
  }
 ],
 "metadata": {
  "kernelspec": {
   "display_name": "Python 3",
   "language": "python",
   "name": "python3"
  },
  "language_info": {
   "codemirror_mode": {
    "name": "ipython",
    "version": 3
   },
   "file_extension": ".py",
   "mimetype": "text/x-python",
   "name": "python",
   "nbconvert_exporter": "python",
   "pygments_lexer": "ipython3",
   "version": "3.5.0"
  }
 },
 "nbformat": 4,
 "nbformat_minor": 2
}
