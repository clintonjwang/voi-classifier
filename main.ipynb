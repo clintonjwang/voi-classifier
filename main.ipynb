{
 "cells": [
  {
   "cell_type": "code",
   "execution_count": 1,
   "metadata": {},
   "outputs": [
    {
     "name": "stderr",
     "output_type": "stream",
     "text": [
      "Using TensorFlow backend.\n"
     ]
    }
   ],
   "source": [
    "import keras.backend as K\n",
    "from keras.layers import Input, Add, Dense, Activation, Flatten, Dropout, Conv3D, MaxPooling3D, ZeroPadding3D, AveragePooling3D, TimeDistributed\n",
    "from keras.models import Model\n",
    "from keras.regularizers import l1, l2\n",
    "from keras.optimizers import Adam, SGD\n",
    "from keras.constraints import max_norm\n",
    "from keras.layers.noise import GaussianNoise\n",
    "from keras.callbacks import EarlyStopping\n",
    "from keras.utils import np_utils\n",
    "import matplotlib.pyplot as plt\n",
    "import config\n",
    "import importlib\n",
    "import os\n",
    "import numpy as np\n",
    "import tensorflow as tf\n",
    "%matplotlib inline"
   ]
  },
  {
   "cell_type": "markdown",
   "metadata": {},
   "source": [
    "from keras.datasets import mnist\n",
    "\n",
    "(x_train, y_train), (x_test, y_test) = mnist.load_data()\n",
    "\n",
    "nb_classes = C.nb_classes\n",
    "\n",
    "X_train = np.expand_dims(x_train,axis=3)\n",
    "X_train = np.expand_dims(X_train,axis=4)\n",
    "X_test = np.expand_dims(x_test,axis=3)\n",
    "X_test = np.expand_dims(X_test,axis=4)\n",
    "X_train = X_train.astype('float32')\n",
    "X_test = X_test.astype('float32')\n",
    "X_train /= 255\n",
    "X_test /= 255\n",
    "Y_train = np_utils.to_categorical(y_train, nb_classes)\n",
    "Y_test = np_utils.to_categorical(y_test, nb_classes)"
   ]
  },
  {
   "cell_type": "code",
   "execution_count": 95,
   "metadata": {
    "scrolled": false
   },
   "outputs": [
    {
     "data": {
      "text/plain": [
       "<module 'config' from 'C:\\\\Users\\\\Clinton\\\\Documents\\\\voi-classifier\\\\config.py'>"
      ]
     },
     "execution_count": 95,
     "metadata": {},
     "output_type": "execute_result"
    }
   ],
   "source": [
    "importlib.reload(config)"
   ]
  },
  {
   "cell_type": "code",
   "execution_count": 195,
   "metadata": {
    "collapsed": true,
    "scrolled": true
   },
   "outputs": [],
   "source": [
    "C = config.Config()\n",
    "dims = C.dims\n",
    "voi_img = Input(shape=(dims[0], dims[1], dims[2], C.nb_channels))\n",
    "x = voi_img\n",
    "#x = Dropout(0.2)(x)\n",
    "#x = GaussianNoise(1)(x)\n",
    "#x = ZeroPadding3D(padding=(3,3,2))(voi_img)\n",
    "#x = Conv3D(filters=128, kernel_size=(3,3,2), activation='relu', kernel_regularizer=l2(.01))(x)\n",
    "x = Conv3D(filters=32, kernel_size=(3,3,1), activation='relu')(x)\n",
    "#x = Dropout(0.5)(x)\n",
    "x = MaxPooling3D((2, 2, 2))(x)\n",
    "x = Conv3D(filters=64, kernel_size=(3,3,1), activation='relu')(x)\n",
    "x = Dropout(0.5)(x)\n",
    "#x = Conv3D(filters=128, kernel_size=(2,2,2), activation='relu')(x)\n",
    "x = MaxPooling3D((2, 2, 2))(x)\n",
    "x = Flatten()(x)\n",
    "x = Dense(164, activation='relu')(x)#, kernel_initializer='normal', kernel_regularizer=l1(.01), kernel_constraint=max_norm(3.))(x)\n",
    "x = Dropout(0.5)(x)\n",
    "pred_class = Dense(C.nb_classes, activation='softmax')(x)#Dense(C.nb_classes, activation='softmax')(x)"
   ]
  },
  {
   "cell_type": "code",
   "execution_count": 196,
   "metadata": {
    "scrolled": false
   },
   "outputs": [
    {
     "name": "stdout",
     "output_type": "stream",
     "text": [
      "_________________________________________________________________\n",
      "Layer (type)                 Output Shape              Param #   \n",
      "=================================================================\n",
      "input_18 (InputLayer)        (None, 24, 24, 12, 1)     0         \n",
      "_________________________________________________________________\n",
      "conv3d_36 (Conv3D)           (None, 22, 22, 12, 32)    320       \n",
      "_________________________________________________________________\n",
      "max_pooling3d_18 (MaxPooling (None, 11, 11, 6, 32)     0         \n",
      "_________________________________________________________________\n",
      "conv3d_37 (Conv3D)           (None, 9, 9, 6, 64)       18496     \n",
      "_________________________________________________________________\n",
      "dropout_45 (Dropout)         (None, 9, 9, 6, 64)       0         \n",
      "_________________________________________________________________\n",
      "max_pooling3d_19 (MaxPooling (None, 4, 4, 3, 64)       0         \n",
      "_________________________________________________________________\n",
      "flatten_18 (Flatten)         (None, 3072)              0         \n",
      "_________________________________________________________________\n",
      "dense_35 (Dense)             (None, 164)               503972    \n",
      "_________________________________________________________________\n",
      "dropout_46 (Dropout)         (None, 164)               0         \n",
      "_________________________________________________________________\n",
      "dense_36 (Dense)             (None, 4)                 660       \n",
      "=================================================================\n",
      "Total params: 523,448\n",
      "Trainable params: 523,448\n",
      "Non-trainable params: 0\n",
      "_________________________________________________________________\n"
     ]
    }
   ],
   "source": [
    "optim = Adam(lr=0.001)#, decay=0.001)\n",
    "early_stopping = EarlyStopping(min_delta=0.001, patience=10)\n",
    "\n",
    "model = Model(voi_img, pred_class)\n",
    "model.compile(optimizer='adam', loss='categorical_crossentropy', metrics=['accuracy'])\n",
    "model.summary()"
   ]
  },
  {
   "cell_type": "markdown",
   "metadata": {
    "collapsed": true
   },
   "source": [
    "model2 = Model(voi_img, intermed)\n",
    "\n",
    "for l in range(2,len(model2.layers)):\n",
    "    model2.layers[l].set_weights(model.layers[l].get_weights())"
   ]
  },
  {
   "cell_type": "markdown",
   "metadata": {},
   "source": [
    "X_train = []\n",
    "Y_train = []\n",
    "\n",
    "for _ in range(10):\n",
    "    X_train.append(np.ones(dims + [C.nb_channels]))\n",
    "    Y_train.append([1,0])\n",
    "for _ in range(10):\n",
    "    X_train.append(np.ones(dims + [C.nb_channels]))\n",
    "    X_train[-1][5:15,5:15,5:7,0] = 2\n",
    "    Y_train.append([0,1])\n",
    "    \n",
    "X_train = np.array(X_train) # X[:total_size//2]\n",
    "#X_val = np.array(X_test)\n",
    "Y_train = np.array(Y_train) # Y[:total_size//2]\n",
    "#Y_val = np.array(Y_test)"
   ]
  },
  {
   "cell_type": "code",
   "execution_count": 197,
   "metadata": {
    "scrolled": true
   },
   "outputs": [],
   "source": [
    "data_dict = {}\n",
    "max_samples = {}\n",
    "base_dir = \"..\\\\liver-mr-processor\\\\train_imgs\\\\\"\n",
    "\n",
    "least_in_one_class = np.Inf\n",
    "\n",
    "for class_name in os.listdir(base_dir):\n",
    "    x = np.empty((10000, dims[0], dims[1], dims[2], C.nb_channels))\n",
    "    z = []\n",
    "    \n",
    "    for index, img_fn in enumerate(os.listdir(base_dir+class_name)):\n",
    "        try:\n",
    "            x[index] = np.load(base_dir+class_name+\"\\\\\"+img_fn)\n",
    "            z.append(img_fn)\n",
    "        except Exception as e:\n",
    "            print(class_name+\"\\\\\"+img_fn, e)\n",
    "    \n",
    "    x.resize((index, dims[0], dims[1], dims[2], C.nb_channels))\n",
    "    data_dict[class_name] = [x,np.array(z)]\n",
    "    max_samples[class_name] = index\n",
    "    \n",
    "    least_in_one_class = min(index, least_in_one_class)"
   ]
  },
  {
   "cell_type": "code",
   "execution_count": 198,
   "metadata": {},
   "outputs": [],
   "source": [
    "X_train = []\n",
    "Y_train = []\n",
    "Z_train = []\n",
    "X_test = []\n",
    "Y_test = []\n",
    "Z_test = []\n",
    "#train_frac = 0.75\n",
    "cls_mapping = []\n",
    "\n",
    "for cls_num, cls in enumerate(data_dict):\n",
    "    if cls == \"cyst\":\n",
    "        train_frac = 1\n",
    "    elif cls == \"fnh\":\n",
    "        train_frac = 1.6\n",
    "    else:\n",
    "        train_frac = 0.68\n",
    "    order = np.random.permutation(list(range(max_samples[cls])))\n",
    "    #order = list(range(max_samples[cls]))\n",
    "    X_train = X_train + list(data_dict[cls][0][order[:round(least_in_one_class*train_frac)]])\n",
    "    X_test = X_test + list(data_dict[cls][0][order[round(least_in_one_class*train_frac):]])\n",
    "    Z_train = Z_train + list(data_dict[cls][1][order[:round(least_in_one_class*train_frac)]])\n",
    "    Z_test = Z_test + list(data_dict[cls][1][order[round(least_in_one_class*train_frac):]])\n",
    "    Y_train = Y_train + [[0] * cls_num + [1] + [0] * (C.nb_classes - cls_num - 1)] * (round(least_in_one_class*train_frac))\n",
    "    Y_test = Y_test + [[0] * cls_num + [1] + [0] * (C.nb_classes - cls_num - 1)] * \\\n",
    "                        (max_samples[cls] - round(least_in_one_class*train_frac))\n",
    "        \n",
    "    cls_mapping.append(cls)"
   ]
  },
  {
   "cell_type": "markdown",
   "metadata": {
    "collapsed": true
   },
   "source": [
    "Z_cyst = data_dict[\"cyst\"][1]"
   ]
  },
  {
   "cell_type": "markdown",
   "metadata": {},
   "source": [
    "Y_[-4]"
   ]
  },
  {
   "cell_type": "markdown",
   "metadata": {},
   "source": [
    "Z_cyst[-4]"
   ]
  },
  {
   "cell_type": "markdown",
   "metadata": {
    "collapsed": true
   },
   "source": [
    "X_cyst = data_dict[\"cyst\"][0]\n",
    "X_cyst = np.array(X_cyst) # X[:total_size//2]\n",
    "X_cyst /= 255"
   ]
  },
  {
   "cell_type": "markdown",
   "metadata": {
    "collapsed": true
   },
   "source": [
    "X_hcc = data_dict[\"hcc\"][0]\n",
    "X_hcc = np.array(X_hcc) # X[:total_size//2]\n",
    "X_hcc /= 255"
   ]
  },
  {
   "cell_type": "code",
   "execution_count": 199,
   "metadata": {
    "collapsed": true
   },
   "outputs": [],
   "source": [
    "X_train = np.array(X_train) # X[:total_size//2]\n",
    "X_train /= 255\n",
    "X_val = np.array(X_test)\n",
    "X_val /= 255\n",
    "#X_val = X[total_size//2:total_size*3//4]\n",
    "#X_test = X[total_size*3//4:]\n",
    "Y_train = np.array(Y_train)\n",
    "Y_val = np.array(Y_test)\n",
    "Z_train = np.array(Z_train)\n",
    "Z_val = np.array(Z_test)\n",
    "#Y_val = Y[total_size//2:total_size*3//4]\n",
    "#Y_test = Y[total_size*3//4:]"
   ]
  },
  {
   "cell_type": "code",
   "execution_count": 200,
   "metadata": {},
   "outputs": [
    {
     "data": {
      "text/plain": [
       "100.16666666666667"
      ]
     },
     "execution_count": 200,
     "metadata": {},
     "output_type": "execute_result"
    }
   ],
   "source": [
    "len(Z_train)/30"
   ]
  },
  {
   "cell_type": "code",
   "execution_count": 201,
   "metadata": {
    "scrolled": true
   },
   "outputs": [
    {
     "data": {
      "text/plain": [
       "37.03333333333333"
      ]
     },
     "execution_count": 201,
     "metadata": {},
     "output_type": "execute_result"
    }
   ],
   "source": [
    "len(Z_val)/30"
   ]
  },
  {
   "cell_type": "code",
   "execution_count": 202,
   "metadata": {
    "collapsed": true
   },
   "outputs": [],
   "source": [
    "#X = np.array([z for z in x])\n",
    "#Y = np.array(y)\n",
    "#Y = np.array([[0,1] if y[x] == 1 else [1,0] for x in range(len(y))])\n",
    "#Y = K.constant(y, dtype=tf.int32)\n",
    "#Y = K.one_hot(Y, C.nb_classes)\n",
    "\n",
    "#total_size = X.shape[0]\n",
    "\n",
    "#order = np.random.permutation(list(range(total_size)))\n",
    "#X = X[order]\n",
    "#Y = Y[order]"
   ]
  },
  {
   "cell_type": "markdown",
   "metadata": {},
   "source": [
    "def train_generator(X, Y):\n",
    "    while True:\n",
    "        for i in range(len(X)):\n",
    "            yield np.expand_dims(X[i], axis=0), np.expand_dims(Y[i], axis=0)"
   ]
  },
  {
   "cell_type": "markdown",
   "metadata": {},
   "source": [
    "num_epochs = 10\n",
    "epoch_length = 100\n",
    "best_loss = np.Inf\n",
    "losses = np.zeros(epoch_length)\n",
    "acc = np.zeros(epoch_length)\n",
    "\n",
    "data_gen_train = train_generator(X_train, Y_train)\n",
    "for epoch_num in range(num_epochs):\n",
    "    print('Epoch {}/{}'.format(epoch_num + 1, num_epochs))\n",
    "    iter_num = 0\n",
    "    \n",
    "    while True:\n",
    "        X, Y = next(data_gen_train)\n",
    "        losses[iter_num], acc[iter_num] = model.train_on_batch(X, Y)\n",
    "\n",
    "        iter_num += 1\n",
    "        if iter_num == epoch_length:\n",
    "            curr_loss = np.mean(losses)\n",
    "            curr_acc = np.mean(acc)\n",
    "            print(\"Mean Loss:\", curr_loss, \"// Mean Accuracy:\", curr_acc)\n",
    "\n",
    "            if curr_loss < best_loss:\n",
    "                print('Total loss decreased from {} to {}, saving weights'.format(best_loss,curr_loss))\n",
    "                best_loss = curr_loss\n",
    "                model.save_weights(C.model_path)\n",
    "            break"
   ]
  },
  {
   "cell_type": "code",
   "execution_count": 203,
   "metadata": {
    "scrolled": true
   },
   "outputs": [
    {
     "name": "stdout",
     "output_type": "stream",
     "text": [
      "Train on 3005 samples, validate on 1111 samples\n",
      "Epoch 1/200\n",
      "3005/3005 [==============================] - 1s - loss: 1.3169 - acc: 0.4000 - val_loss: 1.3387 - val_acc: 0.3825\n",
      "Epoch 2/200\n",
      "3005/3005 [==============================] - 1s - loss: 1.2156 - acc: 0.4230 - val_loss: 1.2284 - val_acc: 0.4113\n",
      "Epoch 3/200\n",
      "3005/3005 [==============================] - 1s - loss: 1.0945 - acc: 0.4862 - val_loss: 1.1424 - val_acc: 0.4176\n",
      "Epoch 4/200\n",
      "3005/3005 [==============================] - 1s - loss: 0.9903 - acc: 0.5594 - val_loss: 1.0836 - val_acc: 0.5050\n",
      "Epoch 5/200\n",
      "3005/3005 [==============================] - 1s - loss: 0.8986 - acc: 0.6020 - val_loss: 1.0067 - val_acc: 0.5941\n",
      "Epoch 6/200\n",
      "3005/3005 [==============================] - 1s - loss: 0.8372 - acc: 0.6419 - val_loss: 0.9843 - val_acc: 0.6040\n",
      "Epoch 7/200\n",
      "3005/3005 [==============================] - 1s - loss: 0.8062 - acc: 0.6629 - val_loss: 0.9144 - val_acc: 0.6625\n",
      "Epoch 8/200\n",
      "3005/3005 [==============================] - 1s - loss: 0.7409 - acc: 0.6922 - val_loss: 0.9021 - val_acc: 0.6796\n",
      "Epoch 9/200\n",
      "3005/3005 [==============================] - 1s - loss: 0.6814 - acc: 0.7208 - val_loss: 0.8745 - val_acc: 0.6787\n",
      "Epoch 10/200\n",
      "3005/3005 [==============================] - 1s - loss: 0.6744 - acc: 0.7178 - val_loss: 0.7931 - val_acc: 0.7138\n",
      "Epoch 11/200\n",
      "3005/3005 [==============================] - 1s - loss: 0.6302 - acc: 0.7464 - val_loss: 0.8016 - val_acc: 0.6643\n",
      "Epoch 12/200\n",
      "3005/3005 [==============================] - 1s - loss: 0.6332 - acc: 0.7424 - val_loss: 0.7885 - val_acc: 0.6868\n",
      "Epoch 13/200\n",
      "3005/3005 [==============================] - 1s - loss: 0.5904 - acc: 0.7637 - val_loss: 0.8141 - val_acc: 0.6670\n",
      "Epoch 14/200\n",
      "3005/3005 [==============================] - 1s - loss: 0.5413 - acc: 0.7917 - val_loss: 0.6874 - val_acc: 0.7516\n",
      "Epoch 15/200\n",
      "3005/3005 [==============================] - 1s - loss: 0.5362 - acc: 0.7810 - val_loss: 0.7064 - val_acc: 0.7237\n",
      "Epoch 16/200\n",
      "3005/3005 [==============================] - 1s - loss: 0.5035 - acc: 0.8010 - val_loss: 0.6760 - val_acc: 0.7912\n",
      "Epoch 17/200\n",
      "3005/3005 [==============================] - 1s - loss: 0.4716 - acc: 0.8200 - val_loss: 0.6389 - val_acc: 0.8164\n",
      "Epoch 18/200\n",
      "3005/3005 [==============================] - 1s - loss: 0.4353 - acc: 0.8376 - val_loss: 0.6033 - val_acc: 0.8128\n",
      "Epoch 19/200\n",
      "3005/3005 [==============================] - 1s - loss: 0.4361 - acc: 0.8393 - val_loss: 0.6256 - val_acc: 0.8011\n",
      "Epoch 20/200\n",
      "3005/3005 [==============================] - 1s - loss: 0.4324 - acc: 0.8266 - val_loss: 0.6041 - val_acc: 0.8263\n",
      "Epoch 21/200\n",
      "3005/3005 [==============================] - 1s - loss: 0.4378 - acc: 0.8290 - val_loss: 0.6002 - val_acc: 0.8020\n",
      "Epoch 22/200\n",
      "3005/3005 [==============================] - 1s - loss: 0.3860 - acc: 0.8519 - val_loss: 0.5373 - val_acc: 0.8344\n",
      "Epoch 23/200\n",
      "3005/3005 [==============================] - 1s - loss: 0.3736 - acc: 0.8622 - val_loss: 0.5728 - val_acc: 0.7858\n",
      "Epoch 24/200\n",
      "3005/3005 [==============================] - 1s - loss: 0.3597 - acc: 0.8669 - val_loss: 0.5145 - val_acc: 0.8362\n",
      "Epoch 25/200\n",
      "3005/3005 [==============================] - 1s - loss: 0.3529 - acc: 0.8636 - val_loss: 0.5194 - val_acc: 0.8452\n",
      "Epoch 26/200\n",
      "3005/3005 [==============================] - 1s - loss: 0.3419 - acc: 0.8725 - val_loss: 0.4889 - val_acc: 0.8416\n",
      "Epoch 27/200\n",
      "3005/3005 [==============================] - 1s - loss: 0.3350 - acc: 0.8649 - val_loss: 0.4911 - val_acc: 0.8443\n",
      "Epoch 28/200\n",
      "3005/3005 [==============================] - 1s - loss: 0.3099 - acc: 0.8809 - val_loss: 0.4772 - val_acc: 0.8470\n",
      "Epoch 29/200\n",
      "3005/3005 [==============================] - 1s - loss: 0.2920 - acc: 0.8945 - val_loss: 0.4694 - val_acc: 0.8461\n",
      "Epoch 30/200\n",
      "3005/3005 [==============================] - 1s - loss: 0.2829 - acc: 0.8948 - val_loss: 0.4688 - val_acc: 0.8488\n",
      "Epoch 31/200\n",
      "3005/3005 [==============================] - 1s - loss: 0.2870 - acc: 0.8932 - val_loss: 0.4930 - val_acc: 0.8227\n",
      "Epoch 32/200\n",
      "3005/3005 [==============================] - 1s - loss: 0.2750 - acc: 0.8985 - val_loss: 0.4752 - val_acc: 0.8290\n",
      "Epoch 33/200\n",
      "3005/3005 [==============================] - 1s - loss: 0.2599 - acc: 0.8972 - val_loss: 0.4160 - val_acc: 0.8830\n",
      "Epoch 34/200\n",
      "3005/3005 [==============================] - 1s - loss: 0.2310 - acc: 0.9151 - val_loss: 0.3936 - val_acc: 0.8785\n",
      "Epoch 35/200\n",
      "3005/3005 [==============================] - 1s - loss: 0.2479 - acc: 0.9138 - val_loss: 0.4203 - val_acc: 0.8740\n",
      "Epoch 36/200\n",
      "3005/3005 [==============================] - 1s - loss: 0.2299 - acc: 0.9148 - val_loss: 0.4064 - val_acc: 0.8623\n",
      "Epoch 37/200\n",
      "3005/3005 [==============================] - 1s - loss: 0.2282 - acc: 0.9175 - val_loss: 0.3818 - val_acc: 0.9037\n",
      "Epoch 38/200\n",
      "3005/3005 [==============================] - 1s - loss: 0.2292 - acc: 0.9171 - val_loss: 0.4282 - val_acc: 0.8542\n",
      "Epoch 39/200\n",
      "3005/3005 [==============================] - 1s - loss: 0.2524 - acc: 0.8988 - val_loss: 0.4627 - val_acc: 0.8236\n",
      "Epoch 40/200\n",
      "3005/3005 [==============================] - 1s - loss: 0.2234 - acc: 0.9185 - val_loss: 0.3888 - val_acc: 0.8821\n",
      "Epoch 41/200\n",
      "3005/3005 [==============================] - 1s - loss: 0.2079 - acc: 0.9221 - val_loss: 0.3677 - val_acc: 0.8884\n",
      "Epoch 42/200\n",
      "3005/3005 [==============================] - 1s - loss: 0.1815 - acc: 0.9271 - val_loss: 0.3538 - val_acc: 0.8893\n",
      "Epoch 43/200\n",
      "3005/3005 [==============================] - 1s - loss: 0.1777 - acc: 0.9381 - val_loss: 0.3900 - val_acc: 0.8731\n",
      "Epoch 44/200\n",
      "3005/3005 [==============================] - 1s - loss: 0.1815 - acc: 0.9334 - val_loss: 0.3678 - val_acc: 0.8812\n",
      "Epoch 45/200\n",
      "3005/3005 [==============================] - 1s - loss: 0.1647 - acc: 0.9418 - val_loss: 0.3546 - val_acc: 0.8830\n",
      "Epoch 46/200\n",
      "3005/3005 [==============================] - 1s - loss: 0.1713 - acc: 0.9374 - val_loss: 0.3734 - val_acc: 0.8740\n",
      "Epoch 47/200\n",
      "3005/3005 [==============================] - 1s - loss: 0.1706 - acc: 0.9371 - val_loss: 0.3205 - val_acc: 0.9127\n",
      "Epoch 48/200\n",
      "3005/3005 [==============================] - 1s - loss: 0.1595 - acc: 0.9401 - val_loss: 0.3544 - val_acc: 0.8884\n",
      "Epoch 49/200\n",
      "3005/3005 [==============================] - 1s - loss: 0.1428 - acc: 0.9527 - val_loss: 0.3255 - val_acc: 0.8965\n",
      "Epoch 50/200\n",
      "3005/3005 [==============================] - 1s - loss: 0.1648 - acc: 0.9438 - val_loss: 0.3281 - val_acc: 0.9001\n",
      "Epoch 51/200\n",
      "3005/3005 [==============================] - 1s - loss: 0.1574 - acc: 0.9428 - val_loss: 0.3047 - val_acc: 0.9181\n",
      "Epoch 52/200\n",
      "3005/3005 [==============================] - 1s - loss: 0.1577 - acc: 0.9511 - val_loss: 0.3677 - val_acc: 0.8758\n",
      "Epoch 53/200\n",
      "3005/3005 [==============================] - 1s - loss: 0.1544 - acc: 0.9411 - val_loss: 0.2990 - val_acc: 0.9145\n",
      "Epoch 54/200\n",
      "3005/3005 [==============================] - 1s - loss: 0.1539 - acc: 0.9431 - val_loss: 0.2919 - val_acc: 0.9127\n",
      "Epoch 55/200\n",
      "3005/3005 [==============================] - 1s - loss: 0.1407 - acc: 0.9491 - val_loss: 0.3511 - val_acc: 0.8794\n",
      "Epoch 56/200\n",
      "3005/3005 [==============================] - 1s - loss: 0.1337 - acc: 0.9524 - val_loss: 0.3004 - val_acc: 0.9010\n",
      "Epoch 57/200\n",
      "3005/3005 [==============================] - 1s - loss: 0.1460 - acc: 0.9474 - val_loss: 0.3107 - val_acc: 0.9028\n",
      "Epoch 58/200\n",
      "3005/3005 [==============================] - 1s - loss: 0.1288 - acc: 0.9547 - val_loss: 0.2824 - val_acc: 0.9127\n",
      "Epoch 59/200\n",
      "3005/3005 [==============================] - 1s - loss: 0.1268 - acc: 0.9544 - val_loss: 0.3084 - val_acc: 0.9091\n",
      "Epoch 60/200\n",
      "3005/3005 [==============================] - 1s - loss: 0.1298 - acc: 0.9571 - val_loss: 0.2850 - val_acc: 0.9244\n",
      "Epoch 61/200\n",
      "3005/3005 [==============================] - 1s - loss: 0.1270 - acc: 0.9564 - val_loss: 0.3208 - val_acc: 0.8857\n",
      "Epoch 62/200\n",
      "3005/3005 [==============================] - 1s - loss: 0.1212 - acc: 0.9577 - val_loss: 0.3167 - val_acc: 0.9028\n",
      "Epoch 63/200\n",
      "3005/3005 [==============================] - 1s - loss: 0.1400 - acc: 0.9484 - val_loss: 0.2905 - val_acc: 0.9127\n",
      "Epoch 64/200\n",
      "3005/3005 [==============================] - 1s - loss: 0.1465 - acc: 0.9524 - val_loss: 0.2943 - val_acc: 0.9064\n",
      "Epoch 65/200\n"
     ]
    },
    {
     "name": "stdout",
     "output_type": "stream",
     "text": [
      "3005/3005 [==============================] - 1s - loss: 0.1139 - acc: 0.9584 - val_loss: 0.2641 - val_acc: 0.9217\n",
      "Epoch 66/200\n",
      "3005/3005 [==============================] - 1s - loss: 0.0984 - acc: 0.9677 - val_loss: 0.3107 - val_acc: 0.8911\n",
      "Epoch 67/200\n",
      "3005/3005 [==============================] - 1s - loss: 0.1175 - acc: 0.9574 - val_loss: 0.3179 - val_acc: 0.8920\n",
      "Epoch 68/200\n",
      "3005/3005 [==============================] - 1s - loss: 0.1183 - acc: 0.9584 - val_loss: 0.2966 - val_acc: 0.9055\n",
      "Epoch 69/200\n",
      "3005/3005 [==============================] - 1s - loss: 0.0967 - acc: 0.9671 - val_loss: 0.2875 - val_acc: 0.8983\n",
      "Epoch 70/200\n",
      "3005/3005 [==============================] - 1s - loss: 0.1026 - acc: 0.9621 - val_loss: 0.2767 - val_acc: 0.9127\n",
      "Epoch 71/200\n",
      "3005/3005 [==============================] - 1s - loss: 0.0991 - acc: 0.9674 - val_loss: 0.2866 - val_acc: 0.9163\n",
      "Epoch 72/200\n",
      "3005/3005 [==============================] - 1s - loss: 0.0809 - acc: 0.9734 - val_loss: 0.2793 - val_acc: 0.9100\n",
      "Epoch 73/200\n",
      "3005/3005 [==============================] - 1s - loss: 0.1039 - acc: 0.9617 - val_loss: 0.2758 - val_acc: 0.9154\n",
      "Epoch 74/200\n",
      "3005/3005 [==============================] - 1s - loss: 0.0956 - acc: 0.9687 - val_loss: 0.2635 - val_acc: 0.9190\n",
      "Epoch 75/200\n",
      "3005/3005 [==============================] - 1s - loss: 0.0895 - acc: 0.9674 - val_loss: 0.2823 - val_acc: 0.9163\n",
      "Epoch 76/200\n",
      "3005/3005 [==============================] - 1s - loss: 0.0969 - acc: 0.9661 - val_loss: 0.2507 - val_acc: 0.9271\n",
      "Epoch 77/200\n",
      "3005/3005 [==============================] - 1s - loss: 0.0841 - acc: 0.9687 - val_loss: 0.2754 - val_acc: 0.9118\n",
      "Epoch 78/200\n",
      "3005/3005 [==============================] - 1s - loss: 0.0911 - acc: 0.9697 - val_loss: 0.2857 - val_acc: 0.9199\n",
      "Epoch 79/200\n",
      "3005/3005 [==============================] - 1s - loss: 0.0866 - acc: 0.9704 - val_loss: 0.2361 - val_acc: 0.9307\n",
      "Epoch 80/200\n",
      "3005/3005 [==============================] - 1s - loss: 0.0840 - acc: 0.9714 - val_loss: 0.2931 - val_acc: 0.9019\n",
      "Epoch 81/200\n",
      "3005/3005 [==============================] - 1s - loss: 0.0797 - acc: 0.9717 - val_loss: 0.3041 - val_acc: 0.8929\n",
      "Epoch 82/200\n",
      "3005/3005 [==============================] - 1s - loss: 0.0909 - acc: 0.9687 - val_loss: 0.2606 - val_acc: 0.9163\n",
      "Epoch 83/200\n",
      "3005/3005 [==============================] - 1s - loss: 0.0816 - acc: 0.9707 - val_loss: 0.2842 - val_acc: 0.9109\n",
      "Epoch 84/200\n",
      "3005/3005 [==============================] - 1s - loss: 0.0960 - acc: 0.9654 - val_loss: 0.2492 - val_acc: 0.9244\n",
      "Epoch 85/200\n",
      "3005/3005 [==============================] - 1s - loss: 0.0989 - acc: 0.9671 - val_loss: 0.2620 - val_acc: 0.9163\n",
      "Epoch 86/200\n",
      "3005/3005 [==============================] - 1s - loss: 0.0906 - acc: 0.9684 - val_loss: 0.2509 - val_acc: 0.9226\n",
      "Epoch 87/200\n",
      "3005/3005 [==============================] - 1s - loss: 0.0854 - acc: 0.9737 - val_loss: 0.3150 - val_acc: 0.8875\n",
      "Epoch 88/200\n",
      "3005/3005 [==============================] - 1s - loss: 0.0753 - acc: 0.9700 - val_loss: 0.2305 - val_acc: 0.9280\n",
      "Epoch 89/200\n",
      "3005/3005 [==============================] - 1s - loss: 0.0704 - acc: 0.9784 - val_loss: 0.2350 - val_acc: 0.9280\n",
      "Epoch 90/200\n",
      "3005/3005 [==============================] - 1s - loss: 0.0834 - acc: 0.9681 - val_loss: 0.2631 - val_acc: 0.9271\n",
      "Epoch 91/200\n",
      "3005/3005 [==============================] - 1s - loss: 0.0844 - acc: 0.9697 - val_loss: 0.2586 - val_acc: 0.9226\n",
      "Epoch 92/200\n",
      "3005/3005 [==============================] - 1s - loss: 0.0805 - acc: 0.9720 - val_loss: 0.2660 - val_acc: 0.9181\n",
      "Epoch 93/200\n",
      "3005/3005 [==============================] - 1s - loss: 0.0630 - acc: 0.9780 - val_loss: 0.2745 - val_acc: 0.9172\n",
      "Epoch 94/200\n",
      "3005/3005 [==============================] - 1s - loss: 0.0776 - acc: 0.9724 - val_loss: 0.2757 - val_acc: 0.9181\n",
      "Epoch 95/200\n",
      "3005/3005 [==============================] - 1s - loss: 0.1107 - acc: 0.9594 - val_loss: 0.2900 - val_acc: 0.9100\n",
      "Epoch 96/200\n",
      "3005/3005 [==============================] - 1s - loss: 0.1191 - acc: 0.9571 - val_loss: 0.2713 - val_acc: 0.9118\n",
      "Epoch 97/200\n",
      "3005/3005 [==============================] - 1s - loss: 0.0854 - acc: 0.9700 - val_loss: 0.2684 - val_acc: 0.9199\n",
      "Epoch 98/200\n",
      "3005/3005 [==============================] - 1s - loss: 0.0774 - acc: 0.9707 - val_loss: 0.2579 - val_acc: 0.9262\n",
      "Epoch 99/200\n",
      "3005/3005 [==============================] - 1s - loss: 0.0727 - acc: 0.9737 - val_loss: 0.2349 - val_acc: 0.9289\n",
      "Epoch 100/200\n",
      "3005/3005 [==============================] - 1s - loss: 0.0743 - acc: 0.9747 - val_loss: 0.3628 - val_acc: 0.8821\n",
      "Epoch 101/200\n",
      "3005/3005 [==============================] - 1s - loss: 0.0673 - acc: 0.9774 - val_loss: 0.2561 - val_acc: 0.9190\n",
      "Epoch 102/200\n",
      "3005/3005 [==============================] - 1s - loss: 0.0626 - acc: 0.9787 - val_loss: 0.2640 - val_acc: 0.9154\n",
      "Epoch 103/200\n",
      "3005/3005 [==============================] - 1s - loss: 0.0697 - acc: 0.9744 - val_loss: 0.3279 - val_acc: 0.8857\n",
      "Epoch 104/200\n",
      "3005/3005 [==============================] - 1s - loss: 0.0816 - acc: 0.9684 - val_loss: 0.2133 - val_acc: 0.9388\n",
      "Epoch 105/200\n",
      "3005/3005 [==============================] - 1s - loss: 0.0633 - acc: 0.9777 - val_loss: 0.2957 - val_acc: 0.9001\n",
      "Epoch 106/200\n",
      "3005/3005 [==============================] - 1s - loss: 0.0705 - acc: 0.9730 - val_loss: 0.2794 - val_acc: 0.9091\n",
      "Epoch 107/200\n",
      "3005/3005 [==============================] - 1s - loss: 0.0867 - acc: 0.9681 - val_loss: 0.3002 - val_acc: 0.8965\n",
      "Epoch 108/200\n",
      "3005/3005 [==============================] - 1s - loss: 0.1074 - acc: 0.9587 - val_loss: 0.3113 - val_acc: 0.9046\n",
      "Epoch 109/200\n",
      "3005/3005 [==============================] - 1s - loss: 0.0841 - acc: 0.9651 - val_loss: 0.2424 - val_acc: 0.9217\n",
      "Epoch 110/200\n",
      "3005/3005 [==============================] - 1s - loss: 0.0696 - acc: 0.9754 - val_loss: 0.3172 - val_acc: 0.8947\n",
      "Epoch 111/200\n",
      "3005/3005 [==============================] - 1s - loss: 0.0602 - acc: 0.9790 - val_loss: 0.2597 - val_acc: 0.9145\n",
      "Epoch 112/200\n",
      "3005/3005 [==============================] - 1s - loss: 0.0552 - acc: 0.9810 - val_loss: 0.2605 - val_acc: 0.9226\n",
      "Epoch 113/200\n",
      "3005/3005 [==============================] - 1s - loss: 0.0647 - acc: 0.9760 - val_loss: 0.2853 - val_acc: 0.9010\n",
      "Epoch 114/200\n",
      "3005/3005 [==============================] - 1s - loss: 0.0677 - acc: 0.9790 - val_loss: 0.2870 - val_acc: 0.9154\n",
      "Epoch 115/200\n",
      "3005/3005 [==============================] - 1s - loss: 0.0600 - acc: 0.9774 - val_loss: 0.2627 - val_acc: 0.9190\n",
      "Epoch 116/200\n",
      "3005/3005 [==============================] - 1s - loss: 0.0636 - acc: 0.9794 - val_loss: 0.2415 - val_acc: 0.9217\n",
      "Epoch 117/200\n",
      "3005/3005 [==============================] - 1s - loss: 0.0577 - acc: 0.9787 - val_loss: 0.2604 - val_acc: 0.9208\n",
      "Epoch 118/200\n",
      "3005/3005 [==============================] - 1s - loss: 0.0590 - acc: 0.9787 - val_loss: 0.2567 - val_acc: 0.9208\n",
      "Epoch 119/200\n",
      "3005/3005 [==============================] - 1s - loss: 0.0578 - acc: 0.9790 - val_loss: 0.2515 - val_acc: 0.9118\n",
      "Epoch 120/200\n",
      "3005/3005 [==============================] - 1s - loss: 0.0522 - acc: 0.9830 - val_loss: 0.2460 - val_acc: 0.9199\n",
      "Epoch 121/200\n",
      "3005/3005 [==============================] - 1s - loss: 0.0503 - acc: 0.9840 - val_loss: 0.2496 - val_acc: 0.9307\n",
      "Epoch 122/200\n",
      "3005/3005 [==============================] - 1s - loss: 0.0522 - acc: 0.9857 - val_loss: 0.2568 - val_acc: 0.9226\n",
      "Epoch 123/200\n",
      "3005/3005 [==============================] - 1s - loss: 0.0589 - acc: 0.9790 - val_loss: 0.2310 - val_acc: 0.9271\n",
      "Epoch 124/200\n",
      "3005/3005 [==============================] - 1s - loss: 0.0637 - acc: 0.9747 - val_loss: 0.3113 - val_acc: 0.9073\n",
      "Epoch 125/200\n",
      "3005/3005 [==============================] - 1s - loss: 0.0616 - acc: 0.9790 - val_loss: 0.2862 - val_acc: 0.9082\n",
      "Epoch 126/200\n",
      "3005/3005 [==============================] - 1s - loss: 0.0694 - acc: 0.9767 - val_loss: 0.2394 - val_acc: 0.9199\n",
      "Epoch 127/200\n",
      "3005/3005 [==============================] - 1s - loss: 0.0683 - acc: 0.9774 - val_loss: 0.3238 - val_acc: 0.9082\n",
      "Epoch 128/200\n",
      "3005/3005 [==============================] - 1s - loss: 0.0512 - acc: 0.9810 - val_loss: 0.2833 - val_acc: 0.9154\n",
      "Epoch 129/200\n"
     ]
    },
    {
     "name": "stdout",
     "output_type": "stream",
     "text": [
      "3005/3005 [==============================] - 1s - loss: 0.0593 - acc: 0.9804 - val_loss: 0.3369 - val_acc: 0.8974\n",
      "Epoch 130/200\n",
      "3005/3005 [==============================] - 1s - loss: 0.0527 - acc: 0.9830 - val_loss: 0.2353 - val_acc: 0.9280\n",
      "Epoch 131/200\n",
      "3005/3005 [==============================] - 1s - loss: 0.0497 - acc: 0.9837 - val_loss: 0.2330 - val_acc: 0.9334\n",
      "Epoch 132/200\n",
      "3005/3005 [==============================] - 1s - loss: 0.0466 - acc: 0.9864 - val_loss: 0.2332 - val_acc: 0.9271\n",
      "Epoch 133/200\n",
      "3005/3005 [==============================] - 1s - loss: 0.0462 - acc: 0.9860 - val_loss: 0.2540 - val_acc: 0.9235\n",
      "Epoch 134/200\n",
      "3005/3005 [==============================] - 1s - loss: 0.0476 - acc: 0.9840 - val_loss: 0.2201 - val_acc: 0.9379\n",
      "Epoch 135/200\n",
      "3005/3005 [==============================] - 1s - loss: 0.0411 - acc: 0.9864 - val_loss: 0.2692 - val_acc: 0.9118\n",
      "Epoch 136/200\n",
      "3005/3005 [==============================] - 1s - loss: 0.0486 - acc: 0.9790 - val_loss: 0.2222 - val_acc: 0.9361\n",
      "Epoch 137/200\n",
      "3005/3005 [==============================] - 1s - loss: 0.0560 - acc: 0.9794 - val_loss: 0.2778 - val_acc: 0.9118\n",
      "Epoch 138/200\n",
      "3005/3005 [==============================] - 1s - loss: 0.0534 - acc: 0.9790 - val_loss: 0.2385 - val_acc: 0.9298\n",
      "Epoch 139/200\n",
      "3005/3005 [==============================] - 1s - loss: 0.0458 - acc: 0.9834 - val_loss: 0.2826 - val_acc: 0.9145\n",
      "Epoch 140/200\n",
      "3005/3005 [==============================] - 1s - loss: 0.0554 - acc: 0.9804 - val_loss: 0.2751 - val_acc: 0.9055\n",
      "Epoch 141/200\n",
      "3005/3005 [==============================] - 1s - loss: 0.0677 - acc: 0.9767 - val_loss: 0.2841 - val_acc: 0.9109\n",
      "Epoch 142/200\n",
      "3005/3005 [==============================] - 1s - loss: 0.0485 - acc: 0.9817 - val_loss: 0.2733 - val_acc: 0.9190\n",
      "Epoch 143/200\n",
      "3005/3005 [==============================] - 1s - loss: 0.0581 - acc: 0.9824 - val_loss: 0.3162 - val_acc: 0.9127\n",
      "Epoch 144/200\n",
      "3005/3005 [==============================] - 1s - loss: 0.0680 - acc: 0.9764 - val_loss: 0.2483 - val_acc: 0.9226\n",
      "Epoch 145/200\n",
      "3005/3005 [==============================] - 1s - loss: 0.0618 - acc: 0.9780 - val_loss: 0.2629 - val_acc: 0.9163\n",
      "Epoch 146/200\n",
      "3005/3005 [==============================] - 1s - loss: 0.0565 - acc: 0.9824 - val_loss: 0.2564 - val_acc: 0.9289\n",
      "Epoch 147/200\n",
      "3005/3005 [==============================] - 1s - loss: 0.0478 - acc: 0.9820 - val_loss: 0.2314 - val_acc: 0.9325\n",
      "Epoch 148/200\n",
      "3005/3005 [==============================] - 1s - loss: 0.0462 - acc: 0.9827 - val_loss: 0.3104 - val_acc: 0.9055\n",
      "Epoch 149/200\n",
      "3005/3005 [==============================] - 1s - loss: 0.0478 - acc: 0.9814 - val_loss: 0.2765 - val_acc: 0.9244\n",
      "Epoch 150/200\n",
      "3005/3005 [==============================] - 1s - loss: 0.0444 - acc: 0.9827 - val_loss: 0.2644 - val_acc: 0.9181\n",
      "Epoch 151/200\n",
      "3005/3005 [==============================] - 1s - loss: 0.0514 - acc: 0.9830 - val_loss: 0.2442 - val_acc: 0.9280\n",
      "Epoch 152/200\n",
      "3005/3005 [==============================] - 1s - loss: 0.0416 - acc: 0.9874 - val_loss: 0.2122 - val_acc: 0.9361\n",
      "Epoch 153/200\n",
      "3005/3005 [==============================] - 1s - loss: 0.0556 - acc: 0.9800 - val_loss: 0.2457 - val_acc: 0.9289\n",
      "Epoch 154/200\n",
      "3005/3005 [==============================] - 1s - loss: 0.0447 - acc: 0.9860 - val_loss: 0.2796 - val_acc: 0.9181\n",
      "Epoch 155/200\n",
      "3005/3005 [==============================] - 1s - loss: 0.0881 - acc: 0.9700 - val_loss: 0.2431 - val_acc: 0.9217\n",
      "Epoch 156/200\n",
      "3005/3005 [==============================] - 1s - loss: 0.0873 - acc: 0.9710 - val_loss: 0.2400 - val_acc: 0.9217\n",
      "Epoch 157/200\n",
      "3005/3005 [==============================] - 1s - loss: 0.0573 - acc: 0.9787 - val_loss: 0.2318 - val_acc: 0.9325\n",
      "Epoch 158/200\n",
      "3005/3005 [==============================] - 1s - loss: 0.0580 - acc: 0.9760 - val_loss: 0.2401 - val_acc: 0.9262\n",
      "Epoch 159/200\n",
      "3005/3005 [==============================] - 1s - loss: 0.0476 - acc: 0.9830 - val_loss: 0.2503 - val_acc: 0.9289\n",
      "Epoch 160/200\n",
      "3005/3005 [==============================] - 1s - loss: 0.0552 - acc: 0.9797 - val_loss: 0.2490 - val_acc: 0.9181\n",
      "Epoch 161/200\n",
      "3005/3005 [==============================] - 1s - loss: 0.0585 - acc: 0.9810 - val_loss: 0.2369 - val_acc: 0.9334\n",
      "Epoch 162/200\n",
      "3005/3005 [==============================] - 1s - loss: 0.0459 - acc: 0.9844 - val_loss: 0.2561 - val_acc: 0.9190\n",
      "Epoch 163/200\n",
      "3005/3005 [==============================] - 1s - loss: 0.0517 - acc: 0.9794 - val_loss: 0.2317 - val_acc: 0.9352\n",
      "Epoch 164/200\n",
      "3005/3005 [==============================] - 1s - loss: 0.0524 - acc: 0.9797 - val_loss: 0.2563 - val_acc: 0.9226\n",
      "Epoch 165/200\n",
      "3005/3005 [==============================] - 1s - loss: 0.0602 - acc: 0.9794 - val_loss: 0.2375 - val_acc: 0.9244\n",
      "Epoch 166/200\n",
      "3005/3005 [==============================] - 1s - loss: 0.0466 - acc: 0.9820 - val_loss: 0.2299 - val_acc: 0.9370\n",
      "Epoch 167/200\n",
      "3005/3005 [==============================] - 1s - loss: 0.0539 - acc: 0.9814 - val_loss: 0.2560 - val_acc: 0.9307\n",
      "Epoch 168/200\n",
      "3005/3005 [==============================] - 1s - loss: 0.0498 - acc: 0.9820 - val_loss: 0.3117 - val_acc: 0.9136\n",
      "Epoch 169/200\n",
      "3005/3005 [==============================] - 1s - loss: 0.0443 - acc: 0.9834 - val_loss: 0.2497 - val_acc: 0.9244\n",
      "Epoch 170/200\n",
      "3005/3005 [==============================] - 1s - loss: 0.0443 - acc: 0.9864 - val_loss: 0.2426 - val_acc: 0.9289\n",
      "Epoch 171/200\n",
      "3005/3005 [==============================] - 1s - loss: 0.0504 - acc: 0.9817 - val_loss: 0.2351 - val_acc: 0.9280\n",
      "Epoch 172/200\n",
      "3005/3005 [==============================] - 1s - loss: 0.0643 - acc: 0.9790 - val_loss: 0.3337 - val_acc: 0.8893\n",
      "Epoch 173/200\n",
      "3005/3005 [==============================] - 1s - loss: 0.0823 - acc: 0.9657 - val_loss: 0.2435 - val_acc: 0.9280\n",
      "Epoch 174/200\n",
      "3005/3005 [==============================] - 1s - loss: 0.0419 - acc: 0.9840 - val_loss: 0.2419 - val_acc: 0.9289\n",
      "Epoch 175/200\n",
      "3005/3005 [==============================] - 1s - loss: 0.0452 - acc: 0.9860 - val_loss: 0.3338 - val_acc: 0.9046\n",
      "Epoch 176/200\n",
      "3005/3005 [==============================] - 1s - loss: 0.0571 - acc: 0.9760 - val_loss: 0.2747 - val_acc: 0.9244\n",
      "Epoch 177/200\n",
      "3005/3005 [==============================] - 1s - loss: 0.0445 - acc: 0.9840 - val_loss: 0.2471 - val_acc: 0.9334\n",
      "Epoch 178/200\n",
      "3005/3005 [==============================] - 1s - loss: 0.0521 - acc: 0.9810 - val_loss: 0.2455 - val_acc: 0.9262\n",
      "Epoch 179/200\n",
      "3005/3005 [==============================] - 1s - loss: 0.0427 - acc: 0.9844 - val_loss: 0.2504 - val_acc: 0.9280\n",
      "Epoch 180/200\n",
      "3005/3005 [==============================] - 1s - loss: 0.0397 - acc: 0.9837 - val_loss: 0.2939 - val_acc: 0.9082\n",
      "Epoch 181/200\n",
      "3005/3005 [==============================] - 1s - loss: 0.0455 - acc: 0.9824 - val_loss: 0.2621 - val_acc: 0.9289\n",
      "Epoch 182/200\n",
      "3005/3005 [==============================] - 1s - loss: 0.0438 - acc: 0.9844 - val_loss: 0.2732 - val_acc: 0.9235\n",
      "Epoch 183/200\n",
      "3005/3005 [==============================] - 1s - loss: 0.0477 - acc: 0.9837 - val_loss: 0.2398 - val_acc: 0.9334\n",
      "Epoch 184/200\n",
      "3005/3005 [==============================] - 1s - loss: 0.0382 - acc: 0.9860 - val_loss: 0.2718 - val_acc: 0.9262\n",
      "Epoch 185/200\n",
      "3005/3005 [==============================] - 1s - loss: 0.0352 - acc: 0.9860 - val_loss: 0.2676 - val_acc: 0.9271\n",
      "Epoch 186/200\n",
      "3005/3005 [==============================] - 1s - loss: 0.0331 - acc: 0.9884 - val_loss: 0.3337 - val_acc: 0.9064\n",
      "Epoch 187/200\n",
      "3005/3005 [==============================] - 1s - loss: 0.0847 - acc: 0.9697 - val_loss: 0.2918 - val_acc: 0.9199\n",
      "Epoch 188/200\n",
      "3005/3005 [==============================] - 1s - loss: 0.0793 - acc: 0.9684 - val_loss: 0.2510 - val_acc: 0.9244\n",
      "Epoch 189/200\n",
      "3005/3005 [==============================] - 1s - loss: 0.0554 - acc: 0.9787 - val_loss: 0.2628 - val_acc: 0.9334\n",
      "Epoch 190/200\n",
      "3005/3005 [==============================] - 1s - loss: 0.0418 - acc: 0.9830 - val_loss: 0.2801 - val_acc: 0.9118\n",
      "Epoch 191/200\n",
      "3005/3005 [==============================] - 1s - loss: 0.0455 - acc: 0.9837 - val_loss: 0.2759 - val_acc: 0.9271\n",
      "Epoch 192/200\n",
      "3005/3005 [==============================] - 1s - loss: 0.0371 - acc: 0.9874 - val_loss: 0.2119 - val_acc: 0.9379\n",
      "Epoch 193/200\n"
     ]
    },
    {
     "name": "stdout",
     "output_type": "stream",
     "text": [
      "3005/3005 [==============================] - 1s - loss: 0.0318 - acc: 0.9884 - val_loss: 0.2385 - val_acc: 0.9343\n",
      "Epoch 194/200\n",
      "3005/3005 [==============================] - 1s - loss: 0.0308 - acc: 0.9897 - val_loss: 0.3118 - val_acc: 0.9244\n",
      "Epoch 195/200\n",
      "3005/3005 [==============================] - 1s - loss: 0.0402 - acc: 0.9874 - val_loss: 0.2894 - val_acc: 0.9208\n",
      "Epoch 196/200\n",
      "3005/3005 [==============================] - 1s - loss: 0.0342 - acc: 0.9894 - val_loss: 0.3025 - val_acc: 0.9136\n",
      "Epoch 197/200\n",
      "3005/3005 [==============================] - 1s - loss: 0.0438 - acc: 0.9837 - val_loss: 0.3150 - val_acc: 0.9190\n",
      "Epoch 198/200\n",
      "3005/3005 [==============================] - 1s - loss: 0.0301 - acc: 0.9910 - val_loss: 0.2563 - val_acc: 0.9361\n",
      "Epoch 199/200\n",
      "3005/3005 [==============================] - 1s - loss: 0.0309 - acc: 0.9887 - val_loss: 0.2663 - val_acc: 0.9352\n",
      "Epoch 200/200\n",
      "3005/3005 [==============================] - 1s - loss: 0.0328 - acc: 0.9877 - val_loss: 0.2560 - val_acc: 0.9289\n"
     ]
    }
   ],
   "source": [
    "hist = model.fit(X_train, Y_train, batch_size=128, epochs=200, validation_data=(X_val, Y_val)) #callbacks=[early_stopping]"
   ]
  },
  {
   "cell_type": "code",
   "execution_count": 143,
   "metadata": {
    "collapsed": true
   },
   "outputs": [],
   "source": [
    "from sklearn.metrics import confusion_matrix\n",
    "import operator"
   ]
  },
  {
   "cell_type": "code",
   "execution_count": 157,
   "metadata": {
    "scrolled": true
   },
   "outputs": [
    {
     "data": {
      "text/plain": [
       "array([[226,  15,  21,   6],\n",
       "       [  0, 183,  41,   4],\n",
       "       [  2,   6, 333,   8],\n",
       "       [  0,   7,  10, 143]], dtype=int64)"
      ]
     },
     "execution_count": 157,
     "metadata": {},
     "output_type": "execute_result"
    }
   ],
   "source": [
    "Y_pred = model.predict(X_val)\n",
    "y_true = [max(enumerate(x), key=operator.itemgetter(1))[0] for x in Y_val]\n",
    "y_pred = [max(enumerate(x), key=operator.itemgetter(1))[0] for x in Y_pred]\n",
    "\n",
    "confusion_matrix(y_true, y_pred)"
   ]
  },
  {
   "cell_type": "code",
   "execution_count": 153,
   "metadata": {},
   "outputs": [
    {
     "data": {
      "text/plain": [
       "array([0, 0, 0, 1])"
      ]
     },
     "execution_count": 153,
     "metadata": {},
     "output_type": "execute_result"
    }
   ],
   "source": [
    "Y_val[1000]"
   ]
  },
  {
   "cell_type": "code",
   "execution_count": 127,
   "metadata": {},
   "outputs": [
    {
     "data": {
      "text/plain": [
       "array([[  4.70719121e-15,   1.00000000e+00],\n",
       "       [  5.68544777e-14,   1.00000000e+00],\n",
       "       [  1.99857548e-18,   1.00000000e+00],\n",
       "       [  1.62834822e-05,   9.99983668e-01],\n",
       "       [  2.65297940e-11,   1.00000000e+00],\n",
       "       [  3.26242852e-12,   1.00000000e+00],\n",
       "       [  4.11501969e-06,   9.99995828e-01],\n",
       "       [  1.92551225e-10,   1.00000000e+00],\n",
       "       [  6.02835673e-04,   9.99397159e-01],\n",
       "       [  2.27131158e-09,   1.00000000e+00],\n",
       "       [  4.50570951e-05,   9.99954939e-01],\n",
       "       [  5.96788668e-05,   9.99940276e-01],\n",
       "       [  5.31585003e-14,   1.00000000e+00],\n",
       "       [  6.96933782e-08,   9.99999881e-01],\n",
       "       [  1.58653242e-13,   1.00000000e+00],\n",
       "       [  1.53077719e-26,   1.00000000e+00],\n",
       "       [  2.25973595e-02,   9.77402627e-01],\n",
       "       [  4.77840245e-01,   5.22159815e-01],\n",
       "       [  2.87815639e-11,   1.00000000e+00],\n",
       "       [  1.31480746e-28,   1.00000000e+00],\n",
       "       [  1.57597730e-12,   1.00000000e+00],\n",
       "       [  1.88092380e-12,   1.00000000e+00]], dtype=float32)"
      ]
     },
     "execution_count": 127,
     "metadata": {},
     "output_type": "execute_result"
    }
   ],
   "source": [
    "model.predict(X_cyst)"
   ]
  },
  {
   "cell_type": "code",
   "execution_count": 159,
   "metadata": {
    "collapsed": true
   },
   "outputs": [],
   "source": [
    "activ = model2.predict(X_train)\n",
    "#activ = model2.predict(np.expand_dims(X_train[10],axis=0))"
   ]
  },
  {
   "cell_type": "code",
   "execution_count": 166,
   "metadata": {},
   "outputs": [
    {
     "data": {
      "text/plain": [
       "<matplotlib.image.AxesImage at 0x1c8e3907550>"
      ]
     },
     "execution_count": 166,
     "metadata": {},
     "output_type": "execute_result"
    },
    {
     "data": {
      "image/png": "[encoded data removed]",
      "text/plain": [
       "<matplotlib.figure.Figure at 0x1c8e38b92b0>"
      ]
     },
     "metadata": {},
     "output_type": "display_data"
    }
   ],
   "source": [
    "plt.imshow(activ[20][:,:,3,5])"
   ]
  },
  {
   "cell_type": "code",
   "execution_count": 162,
   "metadata": {},
   "outputs": [
    {
     "data": {
      "text/plain": [
       "array([   0.        ,    0.        ,    0.        ,    0.        ,\n",
       "          0.        ,  121.71251678,   53.23372269,    0.        ,\n",
       "          0.        ,   24.43340492,    0.        ,    0.        ,\n",
       "          0.        ,    0.        ,    7.88301706,    0.        ], dtype=float32)"
      ]
     },
     "execution_count": 162,
     "metadata": {},
     "output_type": "execute_result"
    }
   ],
   "source": [
    "activ[0][5,5,2,:]"
   ]
  },
  {
   "cell_type": "code",
   "execution_count": 113,
   "metadata": {},
   "outputs": [
    {
     "data": {
      "text/plain": [
       "array(['12296182_23.npy', '13028374_2.npy', 'E104657225_14.npy',\n",
       "       '12972894_6.npy'],\n",
       "      dtype='<U17')"
      ]
     },
     "execution_count": 113,
     "metadata": {},
     "output_type": "execute_result"
    }
   ],
   "source": [
    "Z_val[::30]"
   ]
  },
  {
   "cell_type": "code",
   "execution_count": 133,
   "metadata": {},
   "outputs": [
    {
     "data": {
      "text/plain": [
       "array([ 0.47784024,  0.52215981], dtype=float32)"
      ]
     },
     "execution_count": 133,
     "metadata": {},
     "output_type": "execute_result"
    }
   ],
   "source": [
    "Y_[-5]"
   ]
  },
  {
   "cell_type": "code",
   "execution_count": 162,
   "metadata": {},
   "outputs": [
    {
     "data": {
      "text/plain": [
       "0.8881987577639752"
      ]
     },
     "execution_count": 162,
     "metadata": {},
     "output_type": "execute_result"
    }
   ],
   "source": [
    "143/(143+18)"
   ]
  },
  {
   "cell_type": "code",
   "execution_count": null,
   "metadata": {
    "collapsed": true
   },
   "outputs": [],
   "source": [
    "(15+6+7)/"
   ]
  },
  {
   "cell_type": "code",
   "execution_count": 144,
   "metadata": {
    "scrolled": true
   },
   "outputs": [
    {
     "name": "stdout",
     "output_type": "stream",
     "text": [
      "Predictions: ['cyst (100.00000% confidence)', 'cyst (100.00000% confidence)', 'cyst (100.00000% confidence)', 'cyst (99.99998% confidence)', 'cyst (100.00000% confidence)', 'cyst (100.00000% confidence)', 'cyst (100.00000% confidence)', 'cyst (100.00000% confidence)', 'cyst (99.99858% confidence)', 'cyst (100.00000% confidence)', 'cyst (99.99996% confidence)', 'cyst (99.99999% confidence)', 'cyst (100.00000% confidence)', 'cyst (100.00000% confidence)', 'cyst (100.00000% confidence)', 'cyst (100.00000% confidence)', 'cyst (99.60698% confidence)', 'hcc (70.35562% confidence)', 'cyst (100.00000% confidence)', 'cyst (100.00000% confidence)', 'cyst (100.00000% confidence)', 'cyst (100.00000% confidence)']\n"
     ]
    }
   ],
   "source": [
    "import operator\n",
    "#print(\"Ground truth:\", [cls_mapping[max(enumerate(x), key=operator.itemgetter(1))[0]] for x in Y_val[::30]])\n",
    "Y_ = model.predict(X_cyst)\n",
    "print(\"Predictions:\", [cls_mapping[max(enumerate(x), key=operator.itemgetter(1))[0]] + \" (%.5f%% confidence)\" % (max(x)*100) for x in Y_])"
   ]
  },
  {
   "cell_type": "code",
   "execution_count": 147,
   "metadata": {
    "scrolled": true
   },
   "outputs": [
    {
     "data": {
      "image/png": "[encoded data removed]",
      "text/plain": [
       "<matplotlib.figure.Figure at 0x266df7b4da0>"
      ]
     },
     "metadata": {},
     "output_type": "display_data"
    }
   ],
   "source": [
    "import pandas as pd\n",
    "voi_df = pd.read_csv('..\\\\liver-mr-processor\\\\vois.csv')\n",
    "img_fn = \"12972894.npy\"\n",
    "img = np.load(\"..\\\\liver-mr-processor\\\\full_imgs\\\\\"+img_fn)\n",
    "plot_section(img, voi_df[voi_df[\"Filename\"] == img_fn].iloc[0], pad=15)"
   ]
  },
  {
   "cell_type": "code",
   "execution_count": 136,
   "metadata": {
    "collapsed": true
   },
   "outputs": [],
   "source": [
    "def plot_section(img, df, pad=30):\n",
    "    plt.subplot(121)\n",
    "    plt.imshow(np.transpose(img[df['x1']-pad:df['x2']+pad,\n",
    "                                df['y2']+pad:df['y1']-pad:-1,\n",
    "                                (df['z1']+df['z2'])//2, 0], (1,0)), cmap='gray')\n",
    "    plt.subplot(122)\n",
    "    plt.imshow(np.transpose(img[df['x1']-pad:df['x2']+pad,\n",
    "                                df['y2']+pad:df['y1']-pad:-1,\n",
    "                                (df['z1']+df['z2'])//2, 1], (1,0)), cmap='gray')"
   ]
  },
  {
   "cell_type": "code",
   "execution_count": 20,
   "metadata": {
    "scrolled": true
   },
   "outputs": [
    {
     "data": {
      "text/plain": [
       "array([  2.78843247e-04,   9.99721110e-01], dtype=float32)"
      ]
     },
     "execution_count": 20,
     "metadata": {},
     "output_type": "execute_result"
    }
   ],
   "source": [
    "Y_[-1]"
   ]
  },
  {
   "cell_type": "code",
   "execution_count": 19,
   "metadata": {},
   "outputs": [
    {
     "data": {
      "text/plain": [
       "0.6875"
      ]
     },
     "execution_count": 19,
     "metadata": {},
     "output_type": "execute_result"
    }
   ],
   "source": [
    "max(sum(y)/len(y), 1-sum(y)/len(y))"
   ]
  },
  {
   "cell_type": "code",
   "execution_count": 87,
   "metadata": {},
   "outputs": [
    {
     "data": {
      "text/plain": [
       "210"
      ]
     },
     "execution_count": 87,
     "metadata": {},
     "output_type": "execute_result"
    }
   ],
   "source": [
    "len(X_val)"
   ]
  },
  {
   "cell_type": "code",
   "execution_count": 84,
   "metadata": {
    "collapsed": true
   },
   "outputs": [],
   "source": [
    "import time"
   ]
  },
  {
   "cell_type": "code",
   "execution_count": 86,
   "metadata": {
    "scrolled": true
   },
   "outputs": [
    {
     "name": "stdout",
     "output_type": "stream",
     "text": [
      "0.20054101943969727\n"
     ]
    }
   ],
   "source": [
    "a=time.time()\n",
    "Y_ = model.predict(X_val)\n",
    "print(time.time()-a)"
   ]
  },
  {
   "cell_type": "code",
   "execution_count": 136,
   "metadata": {
    "collapsed": true
   },
   "outputs": [],
   "source": [
    "import matplotlib.pyplot as plt\n",
    "%matplotlib inline"
   ]
  },
  {
   "cell_type": "code",
   "execution_count": 150,
   "metadata": {},
   "outputs": [
    {
     "data": {
      "text/plain": [
       "0.0"
      ]
     },
     "execution_count": 150,
     "metadata": {},
     "output_type": "execute_result"
    }
   ],
   "source": [
    "np.amax(X[650,:,:,:,0])"
   ]
  },
  {
   "cell_type": "code",
   "execution_count": 140,
   "metadata": {},
   "outputs": [
    {
     "data": {
      "text/plain": [
       "<matplotlib.image.AxesImage at 0x20b42b02b70>"
      ]
     },
     "execution_count": 140,
     "metadata": {},
     "output_type": "execute_result"
    },
    {
     "data": {
      "image/png": "[encoded data removed]",
      "text/plain": [
       "<matplotlib.figure.Figure at 0x20b424cdcf8>"
      ]
     },
     "metadata": {},
     "output_type": "display_data"
    }
   ],
   "source": [
    "plt.imshow(X[0,:,:,5,0])"
   ]
  }
 ],
 "metadata": {
  "kernelspec": {
   "display_name": "Python 3",
   "language": "python",
   "name": "python3"
  },
  "language_info": {
   "codemirror_mode": {
    "name": "ipython",
    "version": 3
   },
   "file_extension": ".py",
   "mimetype": "text/x-python",
   "name": "python",
   "nbconvert_exporter": "python",
   "pygments_lexer": "ipython3",
   "version": "3.5.0"
  }
 },
 "nbformat": 4,
 "nbformat_minor": 2
}
