{
 "cells": [
  {
   "cell_type": "code",
   "execution_count": null,
   "metadata": {
    "collapsed": true
   },
   "outputs": [],
   "source": [
    "#DONE 1. demonstrate test locally\n",
    "    # bonus: set up tensorboard\n",
    "# 2. demonstrate test at \n",
    "# 3. change to smaller ResNet\n",
    "# 4. demonstrate on a dcm slice\n",
    "# 5. demonstrate in 3d"
   ]
  },
  {
   "cell_type": "code",
   "execution_count": 9,
   "metadata": {
    "collapsed": true
   },
   "outputs": [],
   "source": [
    "import importlib"
   ]
  },
  {
   "cell_type": "code",
   "execution_count": null,
   "metadata": {
    "collapsed": true
   },
   "outputs": [],
   "source": [
    "importlib.reload()"
   ]
  },
  {
   "cell_type": "code",
   "execution_count": null,
   "metadata": {
    "collapsed": true
   },
   "outputs": [],
   "source": [
    "keras.layers.convolutional.Conv2D()"
   ]
  },
  {
   "cell_type": "code",
   "execution_count": 1,
   "metadata": {},
   "outputs": [
    {
     "name": "stderr",
     "output_type": "stream",
     "text": [
      "Using TensorFlow backend.\n"
     ]
    }
   ],
   "source": [
    "import keras"
   ]
  },
  {
   "cell_type": "code",
   "execution_count": 1,
   "metadata": {},
   "outputs": [
    {
     "name": "stderr",
     "output_type": "stream",
     "text": [
      "Using TensorFlow backend.\n"
     ]
    }
   ],
   "source": [
    "import cv2\n",
    "import os\n",
    "import keras\n",
    "import train_frcnn\n",
    "import importlib"
   ]
  },
  {
   "cell_type": "code",
   "execution_count": 21,
   "metadata": {},
   "outputs": [
    {
     "data": {
      "text/plain": [
       "<module 'train_frcnn' from '/Users/clintonwang/Documents/Work/voi-detection/train_frcnn.py'>"
      ]
     },
     "execution_count": 21,
     "metadata": {},
     "output_type": "execute_result"
    }
   ],
   "source": [
    "importlib.reload(train_frcnn)"
   ]
  },
  {
   "cell_type": "code",
   "execution_count": 23,
   "metadata": {},
   "outputs": [
    {
     "data": {
      "text/plain": [
       "256"
      ]
     },
     "execution_count": 23,
     "metadata": {},
     "output_type": "execute_result"
    }
   ],
   "source": [
    "os.system(\"python train_frcnn.py\")"
   ]
  },
  {
   "cell_type": "code",
   "execution_count": 27,
   "metadata": {
    "collapsed": true
   },
   "outputs": [],
   "source": [
    "from functools import partial"
   ]
  },
  {
   "cell_type": "code",
   "execution_count": 41,
   "metadata": {
    "collapsed": true
   },
   "outputs": [],
   "source": [
    "basetwo = partial(print, sep='/', end='.')"
   ]
  },
  {
   "cell_type": "code",
   "execution_count": 42,
   "metadata": {},
   "outputs": [
    {
     "name": "stdout",
     "output_type": "stream",
     "text": [
      "hi/there/mate."
     ]
    }
   ],
   "source": [
    "basetwo('hi','there','mate')"
   ]
  },
  {
   "cell_type": "code",
   "execution_count": 18,
   "metadata": {
    "collapsed": true
   },
   "outputs": [],
   "source": [
    "x_dim = 50\n",
    "y_dim = 50\n",
    "z_dim = 3\n",
    "dim_tuple = (z_dim, x_dim, y_dim)\n",
    "\n",
    "train_frcnn\n",
    "model.compile(optimizer='rmsprop',\n",
    "              loss='categorical_crossentropy',\n",
    "              metrics=['accuracy'])"
   ]
  },
  {
   "cell_type": "code",
   "execution_count": 21,
   "metadata": {
    "scrolled": true
   },
   "outputs": [
    {
     "name": "stdout",
     "output_type": "stream",
     "text": [
      "Epoch 1/10\n",
      "10/10 [==============================] - 11s - loss: 1.7511 - acc: 0.2000\n",
      "Epoch 2/10\n",
      "10/10 [==============================] - 1s - loss: 0.7666 - acc: 1.0000\n",
      "Epoch 3/10\n",
      "10/10 [==============================] - 1s - loss: 0.7474 - acc: 1.0000\n",
      "Epoch 4/10\n",
      "10/10 [==============================] - 1s - loss: 0.7412 - acc: 1.0000\n",
      "Epoch 5/10\n",
      "10/10 [==============================] - 1s - loss: 0.7357 - acc: 1.0000\n",
      "Epoch 6/10\n",
      "10/10 [==============================] - 1s - loss: 0.7305 - acc: 1.0000\n",
      "Epoch 7/10\n",
      "10/10 [==============================] - 1s - loss: 0.7254 - acc: 1.0000\n",
      "Epoch 8/10\n",
      "10/10 [==============================] - 1s - loss: 0.7205 - acc: 1.0000\n",
      "Epoch 9/10\n",
      "10/10 [==============================] - 1s - loss: 0.7156 - acc: 1.0000\n",
      "Epoch 10/10\n",
      "10/10 [==============================] - 1s - loss: 0.7108 - acc: 1.0000\n"
     ]
    },
    {
     "data": {
      "text/plain": [
       "<keras.callbacks.History at 0x11c34d588>"
      ]
     },
     "execution_count": 21,
     "metadata": {},
     "output_type": "execute_result"
    }
   ],
   "source": [
    "# Generate dummy data\n",
    "train_size = 10\n",
    "import numpy as np\n",
    "data = np.random.random((train_size, z_dim, x_dim, y_dim))\n",
    "labels = np.random.randint(2, size=(train_size, 1))\n",
    "\n",
    "# Convert labels to categorical one-hot encoding\n",
    "one_hot_labels = keras.utils.to_categorical(labels, num_classes=2)\n",
    "\n",
    "# Train the model, iterating on the data in batches of 32 samples\n",
    "model.fit(data, one_hot_labels, epochs=10, batch_size=32)"
   ]
  }
 ],
 "metadata": {
  "anaconda-cloud": {},
  "kernelspec": {
   "display_name": "Python 3",
   "language": "python",
   "name": "python3"
  },
  "language_info": {
   "codemirror_mode": {
    "name": "ipython",
    "version": 3
   },
   "file_extension": ".py",
   "mimetype": "text/x-python",
   "name": "python",
   "nbconvert_exporter": "python",
   "pygments_lexer": "ipython3",
   "version": "3.6.2"
  }
 },
 "nbformat": 4,
 "nbformat_minor": 1
}
