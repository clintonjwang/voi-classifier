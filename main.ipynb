{
 "cells": [
  {
   "cell_type": "code",
   "execution_count": null,
   "metadata": {
    "collapsed": true
   },
   "outputs": [],
   "source": [
    "# 1. demonstrate in python 3 on random images\n",
    "    # bonus: set up tensorboard\n",
    "    # bonus: speed up tensorflow by installing the binary build (SSE warning)\n",
    "# 2. change to smaller ResNet\n",
    "# 3. demonstrate on a dcm slice\n",
    "# 4. demonstrate on "
   ]
  },
  {
   "cell_type": "code",
   "execution_count": 3,
   "metadata": {
    "collapsed": true
   },
   "outputs": [],
   "source": [
    "import pip"
   ]
  },
  {
   "cell_type": "code",
   "execution_count": 4,
   "metadata": {},
   "outputs": [
    {
     "name": "stdout",
     "output_type": "stream",
     "text": [
      "[('cp36', 'cp36m', 'macosx_10_12_x86_64'), ('cp36', 'cp36m', 'macosx_10_12_intel'), ('cp36', 'cp36m', 'macosx_10_12_fat64'), ('cp36', 'cp36m', 'macosx_10_12_fat32'), ('cp36', 'cp36m', 'macosx_10_12_universal'), ('cp36', 'cp36m', 'macosx_10_11_x86_64'), ('cp36', 'cp36m', 'macosx_10_11_intel'), ('cp36', 'cp36m', 'macosx_10_11_fat64'), ('cp36', 'cp36m', 'macosx_10_11_fat32'), ('cp36', 'cp36m', 'macosx_10_11_universal'), ('cp36', 'cp36m', 'macosx_10_10_x86_64'), ('cp36', 'cp36m', 'macosx_10_10_intel'), ('cp36', 'cp36m', 'macosx_10_10_fat64'), ('cp36', 'cp36m', 'macosx_10_10_fat32'), ('cp36', 'cp36m', 'macosx_10_10_universal'), ('cp36', 'cp36m', 'macosx_10_9_x86_64'), ('cp36', 'cp36m', 'macosx_10_9_intel'), ('cp36', 'cp36m', 'macosx_10_9_fat64'), ('cp36', 'cp36m', 'macosx_10_9_fat32'), ('cp36', 'cp36m', 'macosx_10_9_universal'), ('cp36', 'cp36m', 'macosx_10_8_x86_64'), ('cp36', 'cp36m', 'macosx_10_8_intel'), ('cp36', 'cp36m', 'macosx_10_8_fat64'), ('cp36', 'cp36m', 'macosx_10_8_fat32'), ('cp36', 'cp36m', 'macosx_10_8_universal'), ('cp36', 'cp36m', 'macosx_10_7_x86_64'), ('cp36', 'cp36m', 'macosx_10_7_intel'), ('cp36', 'cp36m', 'macosx_10_7_fat64'), ('cp36', 'cp36m', 'macosx_10_7_fat32'), ('cp36', 'cp36m', 'macosx_10_7_universal'), ('cp36', 'cp36m', 'macosx_10_6_x86_64'), ('cp36', 'cp36m', 'macosx_10_6_intel'), ('cp36', 'cp36m', 'macosx_10_6_fat64'), ('cp36', 'cp36m', 'macosx_10_6_fat32'), ('cp36', 'cp36m', 'macosx_10_6_universal'), ('cp36', 'cp36m', 'macosx_10_5_x86_64'), ('cp36', 'cp36m', 'macosx_10_5_intel'), ('cp36', 'cp36m', 'macosx_10_5_fat64'), ('cp36', 'cp36m', 'macosx_10_5_fat32'), ('cp36', 'cp36m', 'macosx_10_5_universal'), ('cp36', 'cp36m', 'macosx_10_4_intel'), ('cp36', 'cp36m', 'macosx_10_4_fat32'), ('cp36', 'cp36m', 'macosx_10_4_universal'), ('cp36', 'cp36m', 'macosx_10_3_fat32'), ('cp36', 'cp36m', 'macosx_10_3_universal'), ('cp36', 'cp36m', 'macosx_10_2_fat32'), ('cp36', 'cp36m', 'macosx_10_2_universal'), ('cp36', 'cp36m', 'macosx_10_1_fat32'), ('cp36', 'cp36m', 'macosx_10_1_universal'), ('cp36', 'cp36m', 'macosx_10_0_fat32'), ('cp36', 'cp36m', 'macosx_10_0_universal'), ('cp36', 'abi3', 'macosx_10_12_x86_64'), ('cp36', 'abi3', 'macosx_10_12_intel'), ('cp36', 'abi3', 'macosx_10_12_fat64'), ('cp36', 'abi3', 'macosx_10_12_fat32'), ('cp36', 'abi3', 'macosx_10_12_universal'), ('cp36', 'abi3', 'macosx_10_11_x86_64'), ('cp36', 'abi3', 'macosx_10_11_intel'), ('cp36', 'abi3', 'macosx_10_11_fat64'), ('cp36', 'abi3', 'macosx_10_11_fat32'), ('cp36', 'abi3', 'macosx_10_11_universal'), ('cp36', 'abi3', 'macosx_10_10_x86_64'), ('cp36', 'abi3', 'macosx_10_10_intel'), ('cp36', 'abi3', 'macosx_10_10_fat64'), ('cp36', 'abi3', 'macosx_10_10_fat32'), ('cp36', 'abi3', 'macosx_10_10_universal'), ('cp36', 'abi3', 'macosx_10_9_x86_64'), ('cp36', 'abi3', 'macosx_10_9_intel'), ('cp36', 'abi3', 'macosx_10_9_fat64'), ('cp36', 'abi3', 'macosx_10_9_fat32'), ('cp36', 'abi3', 'macosx_10_9_universal'), ('cp36', 'abi3', 'macosx_10_8_x86_64'), ('cp36', 'abi3', 'macosx_10_8_intel'), ('cp36', 'abi3', 'macosx_10_8_fat64'), ('cp36', 'abi3', 'macosx_10_8_fat32'), ('cp36', 'abi3', 'macosx_10_8_universal'), ('cp36', 'abi3', 'macosx_10_7_x86_64'), ('cp36', 'abi3', 'macosx_10_7_intel'), ('cp36', 'abi3', 'macosx_10_7_fat64'), ('cp36', 'abi3', 'macosx_10_7_fat32'), ('cp36', 'abi3', 'macosx_10_7_universal'), ('cp36', 'abi3', 'macosx_10_6_x86_64'), ('cp36', 'abi3', 'macosx_10_6_intel'), ('cp36', 'abi3', 'macosx_10_6_fat64'), ('cp36', 'abi3', 'macosx_10_6_fat32'), ('cp36', 'abi3', 'macosx_10_6_universal'), ('cp36', 'abi3', 'macosx_10_5_x86_64'), ('cp36', 'abi3', 'macosx_10_5_intel'), ('cp36', 'abi3', 'macosx_10_5_fat64'), ('cp36', 'abi3', 'macosx_10_5_fat32'), ('cp36', 'abi3', 'macosx_10_5_universal'), ('cp36', 'abi3', 'macosx_10_4_intel'), ('cp36', 'abi3', 'macosx_10_4_fat32'), ('cp36', 'abi3', 'macosx_10_4_universal'), ('cp36', 'abi3', 'macosx_10_3_fat32'), ('cp36', 'abi3', 'macosx_10_3_universal'), ('cp36', 'abi3', 'macosx_10_2_fat32'), ('cp36', 'abi3', 'macosx_10_2_universal'), ('cp36', 'abi3', 'macosx_10_1_fat32'), ('cp36', 'abi3', 'macosx_10_1_universal'), ('cp36', 'abi3', 'macosx_10_0_fat32'), ('cp36', 'abi3', 'macosx_10_0_universal'), ('cp36', 'none', 'macosx_10_12_x86_64'), ('cp36', 'none', 'macosx_10_12_intel'), ('cp36', 'none', 'macosx_10_12_fat64'), ('cp36', 'none', 'macosx_10_12_fat32'), ('cp36', 'none', 'macosx_10_12_universal'), ('cp36', 'none', 'macosx_10_11_x86_64'), ('cp36', 'none', 'macosx_10_11_intel'), ('cp36', 'none', 'macosx_10_11_fat64'), ('cp36', 'none', 'macosx_10_11_fat32'), ('cp36', 'none', 'macosx_10_11_universal'), ('cp36', 'none', 'macosx_10_10_x86_64'), ('cp36', 'none', 'macosx_10_10_intel'), ('cp36', 'none', 'macosx_10_10_fat64'), ('cp36', 'none', 'macosx_10_10_fat32'), ('cp36', 'none', 'macosx_10_10_universal'), ('cp36', 'none', 'macosx_10_9_x86_64'), ('cp36', 'none', 'macosx_10_9_intel'), ('cp36', 'none', 'macosx_10_9_fat64'), ('cp36', 'none', 'macosx_10_9_fat32'), ('cp36', 'none', 'macosx_10_9_universal'), ('cp36', 'none', 'macosx_10_8_x86_64'), ('cp36', 'none', 'macosx_10_8_intel'), ('cp36', 'none', 'macosx_10_8_fat64'), ('cp36', 'none', 'macosx_10_8_fat32'), ('cp36', 'none', 'macosx_10_8_universal'), ('cp36', 'none', 'macosx_10_7_x86_64'), ('cp36', 'none', 'macosx_10_7_intel'), ('cp36', 'none', 'macosx_10_7_fat64'), ('cp36', 'none', 'macosx_10_7_fat32'), ('cp36', 'none', 'macosx_10_7_universal'), ('cp36', 'none', 'macosx_10_6_x86_64'), ('cp36', 'none', 'macosx_10_6_intel'), ('cp36', 'none', 'macosx_10_6_fat64'), ('cp36', 'none', 'macosx_10_6_fat32'), ('cp36', 'none', 'macosx_10_6_universal'), ('cp36', 'none', 'macosx_10_5_x86_64'), ('cp36', 'none', 'macosx_10_5_intel'), ('cp36', 'none', 'macosx_10_5_fat64'), ('cp36', 'none', 'macosx_10_5_fat32'), ('cp36', 'none', 'macosx_10_5_universal'), ('cp36', 'none', 'macosx_10_4_intel'), ('cp36', 'none', 'macosx_10_4_fat32'), ('cp36', 'none', 'macosx_10_4_universal'), ('cp36', 'none', 'macosx_10_3_fat32'), ('cp36', 'none', 'macosx_10_3_universal'), ('cp36', 'none', 'macosx_10_2_fat32'), ('cp36', 'none', 'macosx_10_2_universal'), ('cp36', 'none', 'macosx_10_1_fat32'), ('cp36', 'none', 'macosx_10_1_universal'), ('cp36', 'none', 'macosx_10_0_fat32'), ('cp36', 'none', 'macosx_10_0_universal'), ('cp35', 'abi3', 'macosx_10_12_x86_64'), ('cp35', 'abi3', 'macosx_10_12_intel'), ('cp35', 'abi3', 'macosx_10_12_fat64'), ('cp35', 'abi3', 'macosx_10_12_fat32'), ('cp35', 'abi3', 'macosx_10_12_universal'), ('cp35', 'abi3', 'macosx_10_11_x86_64'), ('cp35', 'abi3', 'macosx_10_11_intel'), ('cp35', 'abi3', 'macosx_10_11_fat64'), ('cp35', 'abi3', 'macosx_10_11_fat32'), ('cp35', 'abi3', 'macosx_10_11_universal'), ('cp35', 'abi3', 'macosx_10_10_x86_64'), ('cp35', 'abi3', 'macosx_10_10_intel'), ('cp35', 'abi3', 'macosx_10_10_fat64'), ('cp35', 'abi3', 'macosx_10_10_fat32'), ('cp35', 'abi3', 'macosx_10_10_universal'), ('cp35', 'abi3', 'macosx_10_9_x86_64'), ('cp35', 'abi3', 'macosx_10_9_intel'), ('cp35', 'abi3', 'macosx_10_9_fat64'), ('cp35', 'abi3', 'macosx_10_9_fat32'), ('cp35', 'abi3', 'macosx_10_9_universal'), ('cp35', 'abi3', 'macosx_10_8_x86_64'), ('cp35', 'abi3', 'macosx_10_8_intel'), ('cp35', 'abi3', 'macosx_10_8_fat64'), ('cp35', 'abi3', 'macosx_10_8_fat32'), ('cp35', 'abi3', 'macosx_10_8_universal'), ('cp35', 'abi3', 'macosx_10_7_x86_64'), ('cp35', 'abi3', 'macosx_10_7_intel'), ('cp35', 'abi3', 'macosx_10_7_fat64'), ('cp35', 'abi3', 'macosx_10_7_fat32'), ('cp35', 'abi3', 'macosx_10_7_universal'), ('cp35', 'abi3', 'macosx_10_6_x86_64'), ('cp35', 'abi3', 'macosx_10_6_intel'), ('cp35', 'abi3', 'macosx_10_6_fat64'), ('cp35', 'abi3', 'macosx_10_6_fat32'), ('cp35', 'abi3', 'macosx_10_6_universal'), ('cp35', 'abi3', 'macosx_10_5_x86_64'), ('cp35', 'abi3', 'macosx_10_5_intel'), ('cp35', 'abi3', 'macosx_10_5_fat64'), ('cp35', 'abi3', 'macosx_10_5_fat32'), ('cp35', 'abi3', 'macosx_10_5_universal'), ('cp35', 'abi3', 'macosx_10_4_intel'), ('cp35', 'abi3', 'macosx_10_4_fat32'), ('cp35', 'abi3', 'macosx_10_4_universal'), ('cp35', 'abi3', 'macosx_10_3_fat32'), ('cp35', 'abi3', 'macosx_10_3_universal'), ('cp35', 'abi3', 'macosx_10_2_fat32'), ('cp35', 'abi3', 'macosx_10_2_universal'), ('cp35', 'abi3', 'macosx_10_1_fat32'), ('cp35', 'abi3', 'macosx_10_1_universal'), ('cp35', 'abi3', 'macosx_10_0_fat32'), ('cp35', 'abi3', 'macosx_10_0_universal'), ('cp34', 'abi3', 'macosx_10_12_x86_64'), ('cp34', 'abi3', 'macosx_10_12_intel'), ('cp34', 'abi3', 'macosx_10_12_fat64'), ('cp34', 'abi3', 'macosx_10_12_fat32'), ('cp34', 'abi3', 'macosx_10_12_universal'), ('cp34', 'abi3', 'macosx_10_11_x86_64'), ('cp34', 'abi3', 'macosx_10_11_intel'), ('cp34', 'abi3', 'macosx_10_11_fat64'), ('cp34', 'abi3', 'macosx_10_11_fat32'), ('cp34', 'abi3', 'macosx_10_11_universal'), ('cp34', 'abi3', 'macosx_10_10_x86_64'), ('cp34', 'abi3', 'macosx_10_10_intel'), ('cp34', 'abi3', 'macosx_10_10_fat64'), ('cp34', 'abi3', 'macosx_10_10_fat32'), ('cp34', 'abi3', 'macosx_10_10_universal'), ('cp34', 'abi3', 'macosx_10_9_x86_64'), ('cp34', 'abi3', 'macosx_10_9_intel'), ('cp34', 'abi3', 'macosx_10_9_fat64'), ('cp34', 'abi3', 'macosx_10_9_fat32'), ('cp34', 'abi3', 'macosx_10_9_universal'), ('cp34', 'abi3', 'macosx_10_8_x86_64'), ('cp34', 'abi3', 'macosx_10_8_intel'), ('cp34', 'abi3', 'macosx_10_8_fat64'), ('cp34', 'abi3', 'macosx_10_8_fat32'), ('cp34', 'abi3', 'macosx_10_8_universal'), ('cp34', 'abi3', 'macosx_10_7_x86_64'), ('cp34', 'abi3', 'macosx_10_7_intel'), ('cp34', 'abi3', 'macosx_10_7_fat64'), ('cp34', 'abi3', 'macosx_10_7_fat32'), ('cp34', 'abi3', 'macosx_10_7_universal'), ('cp34', 'abi3', 'macosx_10_6_x86_64'), ('cp34', 'abi3', 'macosx_10_6_intel'), ('cp34', 'abi3', 'macosx_10_6_fat64'), ('cp34', 'abi3', 'macosx_10_6_fat32'), ('cp34', 'abi3', 'macosx_10_6_universal'), ('cp34', 'abi3', 'macosx_10_5_x86_64'), ('cp34', 'abi3', 'macosx_10_5_intel'), ('cp34', 'abi3', 'macosx_10_5_fat64'), ('cp34', 'abi3', 'macosx_10_5_fat32'), ('cp34', 'abi3', 'macosx_10_5_universal'), ('cp34', 'abi3', 'macosx_10_4_intel'), ('cp34', 'abi3', 'macosx_10_4_fat32'), ('cp34', 'abi3', 'macosx_10_4_universal'), ('cp34', 'abi3', 'macosx_10_3_fat32'), ('cp34', 'abi3', 'macosx_10_3_universal'), ('cp34', 'abi3', 'macosx_10_2_fat32'), ('cp34', 'abi3', 'macosx_10_2_universal'), ('cp34', 'abi3', 'macosx_10_1_fat32'), ('cp34', 'abi3', 'macosx_10_1_universal'), ('cp34', 'abi3', 'macosx_10_0_fat32'), ('cp34', 'abi3', 'macosx_10_0_universal'), ('cp33', 'abi3', 'macosx_10_12_x86_64'), ('cp33', 'abi3', 'macosx_10_12_intel'), ('cp33', 'abi3', 'macosx_10_12_fat64'), ('cp33', 'abi3', 'macosx_10_12_fat32'), ('cp33', 'abi3', 'macosx_10_12_universal'), ('cp33', 'abi3', 'macosx_10_11_x86_64'), ('cp33', 'abi3', 'macosx_10_11_intel'), ('cp33', 'abi3', 'macosx_10_11_fat64'), ('cp33', 'abi3', 'macosx_10_11_fat32'), ('cp33', 'abi3', 'macosx_10_11_universal'), ('cp33', 'abi3', 'macosx_10_10_x86_64'), ('cp33', 'abi3', 'macosx_10_10_intel'), ('cp33', 'abi3', 'macosx_10_10_fat64'), ('cp33', 'abi3', 'macosx_10_10_fat32'), ('cp33', 'abi3', 'macosx_10_10_universal'), ('cp33', 'abi3', 'macosx_10_9_x86_64'), ('cp33', 'abi3', 'macosx_10_9_intel'), ('cp33', 'abi3', 'macosx_10_9_fat64'), ('cp33', 'abi3', 'macosx_10_9_fat32'), ('cp33', 'abi3', 'macosx_10_9_universal'), ('cp33', 'abi3', 'macosx_10_8_x86_64'), ('cp33', 'abi3', 'macosx_10_8_intel'), ('cp33', 'abi3', 'macosx_10_8_fat64'), ('cp33', 'abi3', 'macosx_10_8_fat32'), ('cp33', 'abi3', 'macosx_10_8_universal'), ('cp33', 'abi3', 'macosx_10_7_x86_64'), ('cp33', 'abi3', 'macosx_10_7_intel'), ('cp33', 'abi3', 'macosx_10_7_fat64'), ('cp33', 'abi3', 'macosx_10_7_fat32'), ('cp33', 'abi3', 'macosx_10_7_universal'), ('cp33', 'abi3', 'macosx_10_6_x86_64'), ('cp33', 'abi3', 'macosx_10_6_intel'), ('cp33', 'abi3', 'macosx_10_6_fat64'), ('cp33', 'abi3', 'macosx_10_6_fat32'), ('cp33', 'abi3', 'macosx_10_6_universal'), ('cp33', 'abi3', 'macosx_10_5_x86_64'), ('cp33', 'abi3', 'macosx_10_5_intel'), ('cp33', 'abi3', 'macosx_10_5_fat64'), ('cp33', 'abi3', 'macosx_10_5_fat32'), ('cp33', 'abi3', 'macosx_10_5_universal'), ('cp33', 'abi3', 'macosx_10_4_intel'), ('cp33', 'abi3', 'macosx_10_4_fat32'), ('cp33', 'abi3', 'macosx_10_4_universal'), ('cp33', 'abi3', 'macosx_10_3_fat32'), ('cp33', 'abi3', 'macosx_10_3_universal'), ('cp33', 'abi3', 'macosx_10_2_fat32'), ('cp33', 'abi3', 'macosx_10_2_universal'), ('cp33', 'abi3', 'macosx_10_1_fat32'), ('cp33', 'abi3', 'macosx_10_1_universal'), ('cp33', 'abi3', 'macosx_10_0_fat32'), ('cp33', 'abi3', 'macosx_10_0_universal'), ('cp32', 'abi3', 'macosx_10_12_x86_64'), ('cp32', 'abi3', 'macosx_10_12_intel'), ('cp32', 'abi3', 'macosx_10_12_fat64'), ('cp32', 'abi3', 'macosx_10_12_fat32'), ('cp32', 'abi3', 'macosx_10_12_universal'), ('cp32', 'abi3', 'macosx_10_11_x86_64'), ('cp32', 'abi3', 'macosx_10_11_intel'), ('cp32', 'abi3', 'macosx_10_11_fat64'), ('cp32', 'abi3', 'macosx_10_11_fat32'), ('cp32', 'abi3', 'macosx_10_11_universal'), ('cp32', 'abi3', 'macosx_10_10_x86_64'), ('cp32', 'abi3', 'macosx_10_10_intel'), ('cp32', 'abi3', 'macosx_10_10_fat64'), ('cp32', 'abi3', 'macosx_10_10_fat32'), ('cp32', 'abi3', 'macosx_10_10_universal'), ('cp32', 'abi3', 'macosx_10_9_x86_64'), ('cp32', 'abi3', 'macosx_10_9_intel'), ('cp32', 'abi3', 'macosx_10_9_fat64'), ('cp32', 'abi3', 'macosx_10_9_fat32'), ('cp32', 'abi3', 'macosx_10_9_universal'), ('cp32', 'abi3', 'macosx_10_8_x86_64'), ('cp32', 'abi3', 'macosx_10_8_intel'), ('cp32', 'abi3', 'macosx_10_8_fat64'), ('cp32', 'abi3', 'macosx_10_8_fat32'), ('cp32', 'abi3', 'macosx_10_8_universal'), ('cp32', 'abi3', 'macosx_10_7_x86_64'), ('cp32', 'abi3', 'macosx_10_7_intel'), ('cp32', 'abi3', 'macosx_10_7_fat64'), ('cp32', 'abi3', 'macosx_10_7_fat32'), ('cp32', 'abi3', 'macosx_10_7_universal'), ('cp32', 'abi3', 'macosx_10_6_x86_64'), ('cp32', 'abi3', 'macosx_10_6_intel'), ('cp32', 'abi3', 'macosx_10_6_fat64'), ('cp32', 'abi3', 'macosx_10_6_fat32'), ('cp32', 'abi3', 'macosx_10_6_universal'), ('cp32', 'abi3', 'macosx_10_5_x86_64'), ('cp32', 'abi3', 'macosx_10_5_intel'), ('cp32', 'abi3', 'macosx_10_5_fat64'), ('cp32', 'abi3', 'macosx_10_5_fat32'), ('cp32', 'abi3', 'macosx_10_5_universal'), ('cp32', 'abi3', 'macosx_10_4_intel'), ('cp32', 'abi3', 'macosx_10_4_fat32'), ('cp32', 'abi3', 'macosx_10_4_universal'), ('cp32', 'abi3', 'macosx_10_3_fat32'), ('cp32', 'abi3', 'macosx_10_3_universal'), ('cp32', 'abi3', 'macosx_10_2_fat32'), ('cp32', 'abi3', 'macosx_10_2_universal'), ('cp32', 'abi3', 'macosx_10_1_fat32'), ('cp32', 'abi3', 'macosx_10_1_universal'), ('cp32', 'abi3', 'macosx_10_0_fat32'), ('cp32', 'abi3', 'macosx_10_0_universal'), ('py3', 'none', 'macosx_10_12_x86_64'), ('py3', 'none', 'macosx_10_12_intel'), ('py3', 'none', 'macosx_10_12_fat64'), ('py3', 'none', 'macosx_10_12_fat32'), ('py3', 'none', 'macosx_10_12_universal'), ('py3', 'none', 'macosx_10_11_x86_64'), ('py3', 'none', 'macosx_10_11_intel'), ('py3', 'none', 'macosx_10_11_fat64'), ('py3', 'none', 'macosx_10_11_fat32'), ('py3', 'none', 'macosx_10_11_universal'), ('py3', 'none', 'macosx_10_10_x86_64'), ('py3', 'none', 'macosx_10_10_intel'), ('py3', 'none', 'macosx_10_10_fat64'), ('py3', 'none', 'macosx_10_10_fat32'), ('py3', 'none', 'macosx_10_10_universal'), ('py3', 'none', 'macosx_10_9_x86_64'), ('py3', 'none', 'macosx_10_9_intel'), ('py3', 'none', 'macosx_10_9_fat64'), ('py3', 'none', 'macosx_10_9_fat32'), ('py3', 'none', 'macosx_10_9_universal'), ('py3', 'none', 'macosx_10_8_x86_64'), ('py3', 'none', 'macosx_10_8_intel'), ('py3', 'none', 'macosx_10_8_fat64'), ('py3', 'none', 'macosx_10_8_fat32'), ('py3', 'none', 'macosx_10_8_universal'), ('py3', 'none', 'macosx_10_7_x86_64'), ('py3', 'none', 'macosx_10_7_intel'), ('py3', 'none', 'macosx_10_7_fat64'), ('py3', 'none', 'macosx_10_7_fat32'), ('py3', 'none', 'macosx_10_7_universal'), ('py3', 'none', 'macosx_10_6_x86_64'), ('py3', 'none', 'macosx_10_6_intel'), ('py3', 'none', 'macosx_10_6_fat64'), ('py3', 'none', 'macosx_10_6_fat32'), ('py3', 'none', 'macosx_10_6_universal'), ('py3', 'none', 'macosx_10_5_x86_64'), ('py3', 'none', 'macosx_10_5_intel'), ('py3', 'none', 'macosx_10_5_fat64'), ('py3', 'none', 'macosx_10_5_fat32'), ('py3', 'none', 'macosx_10_5_universal'), ('py3', 'none', 'macosx_10_4_intel'), ('py3', 'none', 'macosx_10_4_fat32'), ('py3', 'none', 'macosx_10_4_universal'), ('py3', 'none', 'macosx_10_3_fat32'), ('py3', 'none', 'macosx_10_3_universal'), ('py3', 'none', 'macosx_10_2_fat32'), ('py3', 'none', 'macosx_10_2_universal'), ('py3', 'none', 'macosx_10_1_fat32'), ('py3', 'none', 'macosx_10_1_universal'), ('py3', 'none', 'macosx_10_0_fat32'), ('py3', 'none', 'macosx_10_0_universal'), ('cp36', 'none', 'any'), ('cp3', 'none', 'any'), ('py36', 'none', 'any'), ('py3', 'none', 'any'), ('py35', 'none', 'any'), ('py34', 'none', 'any'), ('py33', 'none', 'any'), ('py32', 'none', 'any'), ('py31', 'none', 'any'), ('py30', 'none', 'any')]\n"
     ]
    }
   ],
   "source": [
    "print(pip.pep425tags.get_supported())"
   ]
  },
  {
   "cell_type": "code",
   "execution_count": 19,
   "metadata": {
    "collapsed": true
   },
   "outputs": [],
   "source": [
    "#import sys\n",
    "#sys.path.append(\"./tests\")"
   ]
  },
  {
   "cell_type": "code",
   "execution_count": 1,
   "metadata": {},
   "outputs": [
    {
     "name": "stderr",
     "output_type": "stream",
     "text": [
      "Using TensorFlow backend.\n"
     ]
    }
   ],
   "source": [
    "import cv2\n",
    "import os\n",
    "import keras\n",
    "import train_frcnn\n",
    "import importlib"
   ]
  },
  {
   "cell_type": "code",
   "execution_count": 21,
   "metadata": {},
   "outputs": [
    {
     "data": {
      "text/plain": [
       "<module 'train_frcnn' from '/Users/clintonwang/Documents/Work/voi-detection/train_frcnn.py'>"
      ]
     },
     "execution_count": 21,
     "metadata": {},
     "output_type": "execute_result"
    }
   ],
   "source": [
    "importlib.reload(train_frcnn)"
   ]
  },
  {
   "cell_type": "code",
   "execution_count": 23,
   "metadata": {},
   "outputs": [
    {
     "data": {
      "text/plain": [
       "256"
      ]
     },
     "execution_count": 23,
     "metadata": {},
     "output_type": "execute_result"
    }
   ],
   "source": [
    "os.system(\"python train_frcnn.py\")"
   ]
  },
  {
   "cell_type": "code",
   "execution_count": 27,
   "metadata": {
    "collapsed": true
   },
   "outputs": [],
   "source": [
    "from functools import partial"
   ]
  },
  {
   "cell_type": "code",
   "execution_count": 41,
   "metadata": {
    "collapsed": true
   },
   "outputs": [],
   "source": [
    "basetwo = partial(print, sep='/', end='.')"
   ]
  },
  {
   "cell_type": "code",
   "execution_count": 42,
   "metadata": {},
   "outputs": [
    {
     "name": "stdout",
     "output_type": "stream",
     "text": [
      "hi/there/mate."
     ]
    }
   ],
   "source": [
    "basetwo('hi','there','mate')"
   ]
  },
  {
   "cell_type": "code",
   "execution_count": 18,
   "metadata": {
    "collapsed": true
   },
   "outputs": [],
   "source": [
    "x_dim = 50\n",
    "y_dim = 50\n",
    "z_dim = 3\n",
    "dim_tuple = (z_dim, x_dim, y_dim)\n",
    "\n",
    "train_frcnn\n",
    "model.compile(optimizer='rmsprop',\n",
    "              loss='categorical_crossentropy',\n",
    "              metrics=['accuracy'])"
   ]
  },
  {
   "cell_type": "code",
   "execution_count": null,
   "metadata": {
    "collapsed": true
   },
   "outputs": [],
   "source": []
  },
  {
   "cell_type": "code",
   "execution_count": 21,
   "metadata": {
    "scrolled": true
   },
   "outputs": [
    {
     "name": "stdout",
     "output_type": "stream",
     "text": [
      "Epoch 1/10\n",
      "10/10 [==============================] - 11s - loss: 1.7511 - acc: 0.2000\n",
      "Epoch 2/10\n",
      "10/10 [==============================] - 1s - loss: 0.7666 - acc: 1.0000\n",
      "Epoch 3/10\n",
      "10/10 [==============================] - 1s - loss: 0.7474 - acc: 1.0000\n",
      "Epoch 4/10\n",
      "10/10 [==============================] - 1s - loss: 0.7412 - acc: 1.0000\n",
      "Epoch 5/10\n",
      "10/10 [==============================] - 1s - loss: 0.7357 - acc: 1.0000\n",
      "Epoch 6/10\n",
      "10/10 [==============================] - 1s - loss: 0.7305 - acc: 1.0000\n",
      "Epoch 7/10\n",
      "10/10 [==============================] - 1s - loss: 0.7254 - acc: 1.0000\n",
      "Epoch 8/10\n",
      "10/10 [==============================] - 1s - loss: 0.7205 - acc: 1.0000\n",
      "Epoch 9/10\n",
      "10/10 [==============================] - 1s - loss: 0.7156 - acc: 1.0000\n",
      "Epoch 10/10\n",
      "10/10 [==============================] - 1s - loss: 0.7108 - acc: 1.0000\n"
     ]
    },
    {
     "data": {
      "text/plain": [
       "<keras.callbacks.History at 0x11c34d588>"
      ]
     },
     "execution_count": 21,
     "metadata": {},
     "output_type": "execute_result"
    }
   ],
   "source": [
    "# Generate dummy data\n",
    "train_size = 10\n",
    "import numpy as np\n",
    "data = np.random.random((train_size, z_dim, x_dim, y_dim))\n",
    "labels = np.random.randint(2, size=(train_size, 1))\n",
    "\n",
    "# Convert labels to categorical one-hot encoding\n",
    "one_hot_labels = keras.utils.to_categorical(labels, num_classes=2)\n",
    "\n",
    "# Train the model, iterating on the data in batches of 32 samples\n",
    "model.fit(data, one_hot_labels, epochs=10, batch_size=32)"
   ]
  }
 ],
 "metadata": {
  "anaconda-cloud": {},
  "kernelspec": {
   "display_name": "Python 3",
   "language": "python",
   "name": "python3"
  },
  "language_info": {
   "codemirror_mode": {
    "name": "ipython",
    "version": 3
   },
   "file_extension": ".py",
   "mimetype": "text/x-python",
   "name": "python",
   "nbconvert_exporter": "python",
   "pygments_lexer": "ipython3",
   "version": "3.6.1"
  }
 },
 "nbformat": 4,
 "nbformat_minor": 1
}
