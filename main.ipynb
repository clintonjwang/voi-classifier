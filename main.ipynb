{
 "cells": [
  {
   "cell_type": "code",
   "execution_count": null,
   "metadata": {
    "collapsed": true
   },
   "outputs": [],
   "source": [
    "#DONE 1. demonstrate test locally\n",
    "    # bonus: set up tensorboard\n",
    "# 2. demonstrate test at \n",
    "# 3. change to smaller ResNet\n",
    "# 4. demonstrate on a dcm slice\n",
    "# 5. demonstrate in 3d"
   ]
  },
  {
   "cell_type": "code",
   "execution_count": 13,
   "metadata": {
    "collapsed": true
   },
   "outputs": [],
   "source": [
    "import numpy as np\n",
    "from skimage import transform"
   ]
  },
  {
   "cell_type": "code",
   "execution_count": 6,
   "metadata": {
    "collapsed": true
   },
   "outputs": [],
   "source": [
    "a=np.zeros((10,10,10,3))"
   ]
  },
  {
   "cell_type": "code",
   "execution_count": 17,
   "metadata": {
    "collapsed": true
   },
   "outputs": [],
   "source": [
    "np.save('img2', img)"
   ]
  },
  {
   "cell_type": "code",
   "execution_count": 10,
   "metadata": {
    "collapsed": true
   },
   "outputs": [],
   "source": [
    "img = np.load(r'imgs\\img3.npy')"
   ]
  },
  {
   "cell_type": "code",
   "execution_count": 15,
   "metadata": {},
   "outputs": [
    {
     "data": {
      "text/plain": [
       "(26, 24, 30, 3)"
      ]
     },
     "execution_count": 15,
     "metadata": {},
     "output_type": "execute_result"
    }
   ],
   "source": [
    "img.shape"
   ]
  },
  {
   "cell_type": "code",
   "execution_count": 14,
   "metadata": {},
   "outputs": [],
   "source": [
    "img = transform.downscale_local_mean(img, (10,10,3,1))"
   ]
  },
  {
   "cell_type": "code",
   "execution_count": 18,
   "metadata": {
    "collapsed": true
   },
   "outputs": [],
   "source": [
    "a = np.zeros((3,5))"
   ]
  },
  {
   "cell_type": "code",
   "execution_count": null,
   "metadata": {
    "collapsed": true
   },
   "outputs": [],
   "source": []
  },
  {
   "cell_type": "code",
   "execution_count": null,
   "metadata": {
    "collapsed": true
   },
   "outputs": [],
   "source": []
  },
  {
   "cell_type": "code",
   "execution_count": 2,
   "metadata": {},
   "outputs": [
    {
     "name": "stderr",
     "output_type": "stream",
     "text": [
      "Using TensorFlow backend.\n"
     ]
    }
   ],
   "source": [
    "from keras.layers import Input, Add, Dense, Activation, Flatten, Conv3D, MaxPooling3D, ZeroPadding3D, \\\n",
    "    AveragePooling3D, TimeDistributed\n",
    "from keras import backend as K\n",
    "from keras_frcnn.RoiPoolingConv import RoiPoolingConv\n",
    "from keras_frcnn.FixedBatchNormalization import FixedBatchNormalization\n",
    "from keras.models import Model\n",
    "from keras.engine import Layer, InputSpec\n",
    "from keras import initializers, regularizers\n",
    "from keras import backend as K\n",
    "from keras.optimizers import Adam\n",
    "from keras.layers import Input\n",
    "from keras.callbacks import TensorBoard\n",
    "from keras_frcnn import config, data_generators\n",
    "from keras_frcnn import losses as klosses\n",
    "import keras_frcnn.roi_helpers as roi_helpers\n",
    "from keras.utils import generic_utils\n",
    "from functools import partial\n",
    "import pickle\n",
    "import random\n",
    "from keras_frcnn import resnet as nn"
   ]
  },
  {
   "cell_type": "code",
   "execution_count": 3,
   "metadata": {
    "collapsed": true
   },
   "outputs": [],
   "source": [
    "\n",
    "class FixedBatchNormalization(Layer):\n",
    "\n",
    "    def __init__(self, epsilon=1e-3, axis=-1,\n",
    "                 weights=None, beta_init='zero', gamma_init='one',\n",
    "                 gamma_regularizer=None, beta_regularizer=None, **kwargs):\n",
    "        self.supports_masking = True\n",
    "        self.beta_init = initializers.get(beta_init)\n",
    "        self.gamma_init = initializers.get(gamma_init)\n",
    "        self.epsilon = epsilon\n",
    "        self.axis = axis\n",
    "        self.gamma_regularizer = regularizers.get(gamma_regularizer)\n",
    "        self.beta_regularizer = regularizers.get(beta_regularizer)\n",
    "        self.initial_weights = weights\n",
    "        super(FixedBatchNormalization, self).__init__(**kwargs)\n",
    "\n",
    "    def build(self, input_shape):\n",
    "        self.input_spec = [InputSpec(shape=input_shape)]\n",
    "        shape = (input_shape[self.axis],)\n",
    "\n",
    "        self.gamma = self.add_weight(shape,\n",
    "                                     initializer=self.gamma_init,\n",
    "                                     regularizer=self.gamma_regularizer,\n",
    "                                     name='{}_gamma'.format(self.name),\n",
    "                                     trainable=False)\n",
    "        self.beta = self.add_weight(shape,\n",
    "                                    initializer=self.beta_init,\n",
    "                                    regularizer=self.beta_regularizer,\n",
    "                                    name='{}_beta'.format(self.name),\n",
    "                                    trainable=False)\n",
    "        self.running_mean = self.add_weight(shape, initializer='zero',\n",
    "                                            name='{}_running_mean'.format(self.name),\n",
    "                                            trainable=False)\n",
    "        self.running_std = self.add_weight(shape, initializer='one',\n",
    "                                           name='{}_running_std'.format(self.name),\n",
    "                                           trainable=False)\n",
    "\n",
    "        if self.initial_weights is not None:\n",
    "            self.set_weights(self.initial_weights)\n",
    "            del self.initial_weights\n",
    "\n",
    "        self.built = True\n",
    "\n",
    "    def call(self, x, mask=None):\n",
    "\n",
    "        assert self.built, 'Layer must be built before being called'\n",
    "        input_shape = K.int_shape(x)\n",
    "\n",
    "        reduction_axes = list(range(len(input_shape)))\n",
    "        del reduction_axes[self.axis]\n",
    "        broadcast_shape = [1] * len(input_shape)\n",
    "        broadcast_shape[self.axis] = input_shape[self.axis]\n",
    "\n",
    "        if sorted(reduction_axes) == range(K.ndim(x))[:-1]:\n",
    "            x_normed = K.batch_normalization(\n",
    "                x, self.running_mean, self.running_std,\n",
    "                self.beta, self.gamma,\n",
    "                epsilon=self.epsilon)\n",
    "        else:\n",
    "            # need broadcasting\n",
    "            broadcast_running_mean = K.reshape(self.running_mean, broadcast_shape)\n",
    "            broadcast_running_std = K.reshape(self.running_std, broadcast_shape)\n",
    "            broadcast_beta = K.reshape(self.beta, broadcast_shape)\n",
    "            broadcast_gamma = K.reshape(self.gamma, broadcast_shape)\n",
    "            x_normed = K.batch_normalization(\n",
    "                x, broadcast_running_mean, broadcast_running_std,\n",
    "                broadcast_beta, broadcast_gamma,\n",
    "                epsilon=self.epsilon)\n",
    "\n",
    "        return x_normed\n",
    "\n",
    "    def get_config(self):\n",
    "        config = {'epsilon': self.epsilon,\n",
    "                  'axis': self.axis,\n",
    "                  'gamma_regularizer': self.gamma_regularizer.get_config() if self.gamma_regularizer else None,\n",
    "                  'beta_regularizer': self.beta_regularizer.get_config() if self.beta_regularizer else None}\n",
    "        base_config = super(FixedBatchNormalization, self).get_config()\n",
    "        return dict(list(base_config.items()) + list(config.items()))"
   ]
  },
  {
   "cell_type": "code",
   "execution_count": null,
   "metadata": {
    "collapsed": true
   },
   "outputs": [],
   "source": []
  },
  {
   "cell_type": "code",
   "execution_count": 4,
   "metadata": {
    "collapsed": true
   },
   "outputs": [],
   "source": [
    "def add_block(type, input_tensor, filters, block_name, strides=(2,2,2), trainable=True, input_shape=None):\n",
    "    conv_name_base = 'res' + block_name + '_'\n",
    "    bn_name_base = 'bn' + block_name + '_'\n",
    "\n",
    "    n_layers = len(filters)\n",
    "    if n_layers == 3:\n",
    "        kernels = [1,3,1]\n",
    "    elif n_layers == 2:\n",
    "        kernels = [3,3]\n",
    "    else:\n",
    "        raise ValueError(\"Unhandled layer size %d in add_block!\" % n_layers)\n",
    "\n",
    "    bn_layer = partial(FixedBatchNormalization, axis = 4)\n",
    "\n",
    "    if 'td' in type:\n",
    "        k_init = 'normal'\n",
    "    else:\n",
    "        k_init = 'glorot_uniform'\n",
    "\n",
    "    for layer in range(n_layers):\n",
    "        conv_name = conv_name_base + str(layer)\n",
    "        bn_name = bn_name_base + str(layer)\n",
    "\n",
    "        conv_layer = partial(Conv3D, filters[layer],\n",
    "            (kernels[layer], kernels[layer], kernels[layer]),\n",
    "            kernel_initializer = k_init,\n",
    "            padding='same', trainable=trainable)\n",
    "\n",
    "        if type == \"identity\":\n",
    "            x = conv_layer(name = conv_name)(x if layer != 0 else input_tensor)\n",
    "            x = bn_layer(name = bn_name)(x)\n",
    "        \n",
    "        elif type == \"id-td\":\n",
    "            x = TimeDistributed(conv_layer(),\n",
    "                name = conv_name)(x if layer != 0 else input_tensor)\n",
    "            x = TimeDistributed(bn_layer(), name = bn_name)(x)\n",
    "        \n",
    "        elif type == \"conv\":\n",
    "            x = conv_layer(strides = strides if layer == 0 else (1,1,1),\n",
    "                name = conv_name)(x if layer != 0 else input_tensor)\n",
    "            x = bn_layer(name = bn_name)(x)\n",
    "        \n",
    "        elif type == \"conv-td\":\n",
    "            if layer == 0 and input_shape is not None:\n",
    "                x = TimeDistributed(conv_layer(\n",
    "                    strides = strides,\n",
    "                    input_shape = input_shape),\n",
    "                    name = conv_name)(input_tensor)\n",
    "            else:\n",
    "                x = TimeDistributed(conv_layer(), name = conv_name)(x)\n",
    "            \n",
    "            x = TimeDistributed(bn_layer(), name = bn_name)(x)\n",
    "\n",
    "        else:\n",
    "            raise ValueError(\"Unrecognized type %s in add_block\" % type)\n",
    "\n",
    "        if layer != n_layers - 1:\n",
    "            x = Activation('relu')(x)\n",
    "\n",
    "    if \"id\" in type:\n",
    "        x = Add()([x, input_tensor])\n",
    "        x = Activation('relu')(x)\n",
    "\n",
    "    elif type == \"conv\":\n",
    "        shortcut = Conv3D(filters[-1], (1,1,1), strides=strides,\n",
    "                    name=conv_name_base + 'shortcut', trainable=trainable)(input_tensor)\n",
    "        shortcut = bn_layer(name=bn_name_base + 'shortcut')(shortcut)\n",
    "\n",
    "        x = Add()([x, shortcut])\n",
    "        x = Activation('relu')(x)\n",
    "\n",
    "    elif type == \"conv-td\":\n",
    "        shortcut = TimeDistributed(Conv3D(filters[-1], (1,1,1), strides=strides,\n",
    "                    trainable=trainable, kernel_initializer='normal'), \n",
    "                    name=conv_name_base + 'shortcut')(input_tensor)\n",
    "        shortcut = TimeDistributed(bn_layer(),\n",
    "                    name=bn_name_base + 'shortcut')(shortcut)\n",
    "\n",
    "        x = Add()([x, shortcut])\n",
    "        x = Activation('relu')(x)\n",
    "\n",
    "    else:\n",
    "        raise ValueError(\"Bad type %s in add_block()\" % type)\n",
    "\n",
    "    return x\n",
    "\n",
    "def add_blocks(x, block_types, nb_filters, block_num, trainable, stride=True):\n",
    "    for i, block_type in enumerate(block_types):\n",
    "        x = add_block(block_type, x, nb_filters,\n",
    "            block_name=str(block_num)+chr(ord('a')+i),\n",
    "            trainable=trainable, strides=(2,2,2) if stride else (1,1,1))\n",
    "    return x"
   ]
  },
  {
   "cell_type": "code",
   "execution_count": 14,
   "metadata": {
    "scrolled": true
   },
   "outputs": [
    {
     "name": "stdout",
     "output_type": "stream",
     "text": [
      "____________________________________________________________________________________________________\n",
      "Layer (type)                     Output Shape          Param #     Connected to                     \n",
      "====================================================================================================\n",
      "input_2 (InputLayer)             (None, 3, 256, 240, 5 0                                            \n",
      "____________________________________________________________________________________________________\n",
      "zero_padding3d_2 (ZeroPadding3D) (None, 3, 262, 246, 1 0           input_2[0][0]                    \n",
      "____________________________________________________________________________________________________\n",
      "conv1 (Conv3D)                   (None, 64, 128, 120,  65920       zero_padding3d_2[0][0]           \n",
      "____________________________________________________________________________________________________\n",
      "bn1 (FixedBatchNormalization)    (None, 64, 128, 120,  12          conv1[0][0]                      \n",
      "____________________________________________________________________________________________________\n",
      "activation_2 (Activation)        (None, 64, 128, 120,  0           bn1[0][0]                        \n",
      "____________________________________________________________________________________________________\n",
      "max_pooling3d_2 (MaxPooling3D)   (None, 64, 63, 59, 1) 0           activation_2[0][0]               \n",
      "____________________________________________________________________________________________________\n",
      "res2a_0 (Conv3D)                 (None, 64, 63, 59, 1) 4160        max_pooling3d_2[0][0]            \n",
      "____________________________________________________________________________________________________\n",
      "bn2a_0 (FixedBatchNormalization) (None, 64, 63, 59, 1) 4           res2a_0[0][0]                    \n",
      "____________________________________________________________________________________________________\n",
      "activation_3 (Activation)        (None, 64, 63, 59, 1) 0           bn2a_0[0][0]                     \n",
      "____________________________________________________________________________________________________\n",
      "res2a_1 (Conv3D)                 (None, 64, 63, 59, 1) 110656      activation_3[0][0]               \n",
      "____________________________________________________________________________________________________\n",
      "bn2a_1 (FixedBatchNormalization) (None, 64, 63, 59, 1) 4           res2a_1[0][0]                    \n",
      "____________________________________________________________________________________________________\n",
      "activation_4 (Activation)        (None, 64, 63, 59, 1) 0           bn2a_1[0][0]                     \n",
      "____________________________________________________________________________________________________\n",
      "res2a_2 (Conv3D)                 (None, 256, 63, 59, 1 16640       activation_4[0][0]               \n",
      "____________________________________________________________________________________________________\n",
      "res2a_shortcut (Conv3D)          (None, 256, 63, 59, 1 16640       max_pooling3d_2[0][0]            \n",
      "____________________________________________________________________________________________________\n",
      "bn2a_2 (FixedBatchNormalization) (None, 256, 63, 59, 1 4           res2a_2[0][0]                    \n",
      "____________________________________________________________________________________________________\n",
      "bn2a_shortcut (FixedBatchNormali (None, 256, 63, 59, 1 4           res2a_shortcut[0][0]             \n",
      "____________________________________________________________________________________________________\n",
      "add_1 (Add)                      (None, 256, 63, 59, 1 0           bn2a_2[0][0]                     \n",
      "                                                                   bn2a_shortcut[0][0]              \n",
      "____________________________________________________________________________________________________\n",
      "activation_5 (Activation)        (None, 256, 63, 59, 1 0           add_1[0][0]                      \n",
      "____________________________________________________________________________________________________\n",
      "res2b_0 (Conv3D)                 (None, 64, 63, 59, 1) 16448       activation_5[0][0]               \n",
      "____________________________________________________________________________________________________\n",
      "bn2b_0 (FixedBatchNormalization) (None, 64, 63, 59, 1) 4           res2b_0[0][0]                    \n",
      "____________________________________________________________________________________________________\n",
      "activation_6 (Activation)        (None, 64, 63, 59, 1) 0           bn2b_0[0][0]                     \n",
      "____________________________________________________________________________________________________\n",
      "res2b_1 (Conv3D)                 (None, 64, 63, 59, 1) 110656      activation_6[0][0]               \n",
      "____________________________________________________________________________________________________\n",
      "bn2b_1 (FixedBatchNormalization) (None, 64, 63, 59, 1) 4           res2b_1[0][0]                    \n",
      "____________________________________________________________________________________________________\n",
      "activation_7 (Activation)        (None, 64, 63, 59, 1) 0           bn2b_1[0][0]                     \n",
      "____________________________________________________________________________________________________\n",
      "res2b_2 (Conv3D)                 (None, 256, 63, 59, 1 16640       activation_7[0][0]               \n",
      "____________________________________________________________________________________________________\n",
      "bn2b_2 (FixedBatchNormalization) (None, 256, 63, 59, 1 4           res2b_2[0][0]                    \n",
      "____________________________________________________________________________________________________\n",
      "add_2 (Add)                      (None, 256, 63, 59, 1 0           bn2b_2[0][0]                     \n",
      "                                                                   activation_5[0][0]               \n",
      "____________________________________________________________________________________________________\n",
      "activation_8 (Activation)        (None, 256, 63, 59, 1 0           add_2[0][0]                      \n",
      "____________________________________________________________________________________________________\n",
      "res3a_0 (Conv3D)                 (None, 128, 32, 30, 1 32896       activation_8[0][0]               \n",
      "____________________________________________________________________________________________________\n",
      "bn3a_0 (FixedBatchNormalization) (None, 128, 32, 30, 1 4           res3a_0[0][0]                    \n",
      "____________________________________________________________________________________________________\n",
      "activation_9 (Activation)        (None, 128, 32, 30, 1 0           bn3a_0[0][0]                     \n",
      "____________________________________________________________________________________________________\n",
      "res3a_1 (Conv3D)                 (None, 128, 32, 30, 1 442496      activation_9[0][0]               \n",
      "____________________________________________________________________________________________________\n",
      "bn3a_1 (FixedBatchNormalization) (None, 128, 32, 30, 1 4           res3a_1[0][0]                    \n",
      "____________________________________________________________________________________________________\n",
      "activation_10 (Activation)       (None, 128, 32, 30, 1 0           bn3a_1[0][0]                     \n",
      "____________________________________________________________________________________________________\n",
      "res3a_2 (Conv3D)                 (None, 512, 32, 30, 1 66048       activation_10[0][0]              \n",
      "____________________________________________________________________________________________________\n",
      "res3a_shortcut (Conv3D)          (None, 512, 32, 30, 1 131584      activation_8[0][0]               \n",
      "____________________________________________________________________________________________________\n",
      "bn3a_2 (FixedBatchNormalization) (None, 512, 32, 30, 1 4           res3a_2[0][0]                    \n",
      "____________________________________________________________________________________________________\n",
      "bn3a_shortcut (FixedBatchNormali (None, 512, 32, 30, 1 4           res3a_shortcut[0][0]             \n",
      "____________________________________________________________________________________________________\n",
      "add_3 (Add)                      (None, 512, 32, 30, 1 0           bn3a_2[0][0]                     \n",
      "                                                                   bn3a_shortcut[0][0]              \n",
      "____________________________________________________________________________________________________\n",
      "activation_11 (Activation)       (None, 512, 32, 30, 1 0           add_3[0][0]                      \n",
      "____________________________________________________________________________________________________\n",
      "res3b_0 (Conv3D)                 (None, 128, 32, 30, 1 65664       activation_11[0][0]              \n",
      "____________________________________________________________________________________________________\n",
      "bn3b_0 (FixedBatchNormalization) (None, 128, 32, 30, 1 4           res3b_0[0][0]                    \n",
      "____________________________________________________________________________________________________\n",
      "activation_12 (Activation)       (None, 128, 32, 30, 1 0           bn3b_0[0][0]                     \n",
      "____________________________________________________________________________________________________\n",
      "res3b_1 (Conv3D)                 (None, 128, 32, 30, 1 442496      activation_12[0][0]              \n",
      "____________________________________________________________________________________________________\n",
      "bn3b_1 (FixedBatchNormalization) (None, 128, 32, 30, 1 4           res3b_1[0][0]                    \n",
      "____________________________________________________________________________________________________\n",
      "activation_13 (Activation)       (None, 128, 32, 30, 1 0           bn3b_1[0][0]                     \n",
      "____________________________________________________________________________________________________\n",
      "res3b_2 (Conv3D)                 (None, 512, 32, 30, 1 66048       activation_13[0][0]              \n",
      "____________________________________________________________________________________________________\n",
      "bn3b_2 (FixedBatchNormalization) (None, 512, 32, 30, 1 4           res3b_2[0][0]                    \n",
      "____________________________________________________________________________________________________\n",
      "add_4 (Add)                      (None, 512, 32, 30, 1 0           bn3b_2[0][0]                     \n",
      "                                                                   activation_11[0][0]              \n",
      "____________________________________________________________________________________________________\n",
      "activation_14 (Activation)       (None, 512, 32, 30, 1 0           add_4[0][0]                      \n",
      "____________________________________________________________________________________________________\n",
      "res4a_0 (Conv3D)                 (None, 256, 16, 15, 1 131328      activation_14[0][0]              \n",
      "____________________________________________________________________________________________________\n",
      "bn4a_0 (FixedBatchNormalization) (None, 256, 16, 15, 1 4           res4a_0[0][0]                    \n",
      "____________________________________________________________________________________________________\n",
      "activation_15 (Activation)       (None, 256, 16, 15, 1 0           bn4a_0[0][0]                     \n",
      "____________________________________________________________________________________________________\n",
      "res4a_1 (Conv3D)                 (None, 256, 16, 15, 1 1769728     activation_15[0][0]              \n",
      "____________________________________________________________________________________________________\n",
      "bn4a_1 (FixedBatchNormalization) (None, 256, 16, 15, 1 4           res4a_1[0][0]                    \n",
      "____________________________________________________________________________________________________\n",
      "activation_16 (Activation)       (None, 256, 16, 15, 1 0           bn4a_1[0][0]                     \n",
      "____________________________________________________________________________________________________\n",
      "res4a_2 (Conv3D)                 (None, 1024, 16, 15,  263168      activation_16[0][0]              \n",
      "____________________________________________________________________________________________________\n",
      "res4a_shortcut (Conv3D)          (None, 1024, 16, 15,  525312      activation_14[0][0]              \n",
      "____________________________________________________________________________________________________\n",
      "bn4a_2 (FixedBatchNormalization) (None, 1024, 16, 15,  4           res4a_2[0][0]                    \n",
      "____________________________________________________________________________________________________\n",
      "bn4a_shortcut (FixedBatchNormali (None, 1024, 16, 15,  4           res4a_shortcut[0][0]             \n",
      "____________________________________________________________________________________________________\n",
      "add_5 (Add)                      (None, 1024, 16, 15,  0           bn4a_2[0][0]                     \n",
      "                                                                   bn4a_shortcut[0][0]              \n",
      "____________________________________________________________________________________________________\n",
      "activation_17 (Activation)       (None, 1024, 16, 15,  0           add_5[0][0]                      \n",
      "____________________________________________________________________________________________________\n",
      "res4b_0 (Conv3D)                 (None, 256, 16, 15, 1 262400      activation_17[0][0]              \n",
      "____________________________________________________________________________________________________\n",
      "bn4b_0 (FixedBatchNormalization) (None, 256, 16, 15, 1 4           res4b_0[0][0]                    \n",
      "____________________________________________________________________________________________________\n",
      "activation_18 (Activation)       (None, 256, 16, 15, 1 0           bn4b_0[0][0]                     \n",
      "____________________________________________________________________________________________________\n",
      "res4b_1 (Conv3D)                 (None, 256, 16, 15, 1 1769728     activation_18[0][0]              \n",
      "____________________________________________________________________________________________________\n",
      "bn4b_1 (FixedBatchNormalization) (None, 256, 16, 15, 1 4           res4b_1[0][0]                    \n",
      "____________________________________________________________________________________________________\n",
      "activation_19 (Activation)       (None, 256, 16, 15, 1 0           bn4b_1[0][0]                     \n",
      "____________________________________________________________________________________________________\n",
      "res4b_2 (Conv3D)                 (None, 1024, 16, 15,  263168      activation_19[0][0]              \n",
      "____________________________________________________________________________________________________\n",
      "bn4b_2 (FixedBatchNormalization) (None, 1024, 16, 15,  4           res4b_2[0][0]                    \n",
      "____________________________________________________________________________________________________\n",
      "add_6 (Add)                      (None, 1024, 16, 15,  0           bn4b_2[0][0]                     \n",
      "                                                                   activation_17[0][0]              \n",
      "____________________________________________________________________________________________________\n",
      "activation_20 (Activation)       (None, 1024, 16, 15,  0           add_6[0][0]                      \n",
      "____________________________________________________________________________________________________\n",
      "rpn_conv1 (Conv3D)               (None, 512, 16, 15, 1 14156288    activation_20[0][0]              \n",
      "____________________________________________________________________________________________________\n",
      "rpn_out_class (Conv3D)           (None, 6, 16, 15, 1)  3078        rpn_conv1[0][0]                  \n",
      "____________________________________________________________________________________________________\n",
      "rpn_out_regress (Conv3D)         (None, 33, 16, 15, 1) 16929       rpn_conv1[0][0]                  \n",
      "====================================================================================================\n",
      "Total params: 20,766,215\n",
      "Trainable params: 20,766,119\n",
      "Non-trainable params: 96\n",
      "____________________________________________________________________________________________________\n"
     ]
    }
   ],
   "source": [
    "K.set_image_dim_ordering('th')\n",
    "img_input = Input(shape=(3, 256, 240, 5))\n",
    "x = ZeroPadding3D((3,3,3))(img_input)\n",
    "x = Conv3D(64, (7,7,7), strides=(2,2,2), name='conv1', trainable=True)(x)\n",
    "x = FixedBatchNormalization(axis=4, name='bn1')(x)\n",
    "x = Activation('relu')(x)\n",
    "x = MaxPooling3D((3,3,3), strides=(2,2,2))(x)\n",
    "x = add_blocks(x, ('conv' + ' identity').split(),\n",
    "    nb_filters=[64, 64, 256], block_num=2, trainable=True, stride=False)\n",
    "x = add_blocks(x, ('conv' + ' identity').split(),\n",
    "    nb_filters=[128, 128, 512], block_num=3, trainable=True)\n",
    "x = add_blocks(x, ('conv' + ' identity').split(),\n",
    "    nb_filters=[256, 256, 1024], block_num=4, trainable=True)\n",
    "x = Conv3D(512, (3,3,3), padding='same', activation='relu', kernel_initializer='normal', name='rpn_conv1')(x)\n",
    "\n",
    "x_class = Conv3D(6, (1,1,1), activation='sigmoid', kernel_initializer='uniform', name='rpn_out_class')(x)\n",
    "x_regr = Conv3D(33, (1,1,1), activation='linear', kernel_initializer='zero', name='rpn_out_regress')(x)\n",
    "model_rpn = Model(img_input, [x_class, x_regr])\n",
    "model_rpn.compile(optimizer=Adam(lr=1e-5), loss=[klosses.rpn_loss_cls(6), klosses.rpn_loss_regr(10)])\n",
    "model_rpn.summary()"
   ]
  },
  {
   "cell_type": "code",
   "execution_count": null,
   "metadata": {
    "collapsed": true
   },
   "outputs": [],
   "source": []
  },
  {
   "cell_type": "code",
   "execution_count": 6,
   "metadata": {},
   "outputs": [
    {
     "name": "stdout",
     "output_type": "stream",
     "text": [
      "Parsing annotation files\n",
      "Training images per class:\n",
      "{'bg': 0, 'cyst': 2, 'hcc': 2}\n",
      "Num classes (including bg) = 3\n"
     ]
    }
   ],
   "source": [
    "all_imgs, classes_count, class_mapping = data_generators.get_data(\"train_list.txt\")"
   ]
  },
  {
   "cell_type": "code",
   "execution_count": 7,
   "metadata": {
    "collapsed": true
   },
   "outputs": [],
   "source": [
    "def get_config_obj(class_mapping, config_filename):\n",
    "    C = config.Config()\n",
    "    C.rot_90 = False\n",
    "    C.model_path = \"model_frcnn.hdf5\"\n",
    "    C.num_rois = 4\n",
    "    C.network = \"resnet50\"\n",
    "    C.base_net_weights = None\n",
    "    C.class_mapping = class_mapping\n",
    "\n",
    "    with open(config_filename, 'wb') as config_f:\n",
    "        pickle.dump(C,config_f)\n",
    "        print('Config has been written to %s, and can be loaded when testing' % config_filename)\n",
    "\n",
    "    return C\n",
    "\n",
    "def get_data_gens(all_imgs, classes_count, C):\n",
    "    \"\"\"Get train/val generators\"\"\"\n",
    "    random.shuffle(all_imgs)\n",
    "\n",
    "    train_imgs = [s for s in all_imgs if s['imageset'] == 'trainval']\n",
    "    val_imgs = [s for s in all_imgs if s['imageset'] == 'test']\n",
    "\n",
    "    print('Num train samples {}'.format(len(train_imgs)))\n",
    "    print('Num val samples {}'.format(len(val_imgs)))\n",
    "\n",
    "    data_gen_train = data_generators.get_anchor_gt(train_imgs, classes_count, C, nn.get_img_output_length, mode='train')\n",
    "    data_gen_val = data_generators.get_anchor_gt(val_imgs, classes_count, C, nn.get_img_output_length, mode='val')\n",
    "\n",
    "    return data_gen_train, data_gen_val\n"
   ]
  },
  {
   "cell_type": "code",
   "execution_count": 8,
   "metadata": {
    "scrolled": true
   },
   "outputs": [
    {
     "name": "stdout",
     "output_type": "stream",
     "text": [
      "Config has been written to config.pickle, and can be loaded when testing\n"
     ]
    }
   ],
   "source": [
    "C = get_config_obj(class_mapping, \"config.pickle\")"
   ]
  },
  {
   "cell_type": "code",
   "execution_count": 9,
   "metadata": {},
   "outputs": [
    {
     "name": "stdout",
     "output_type": "stream",
     "text": [
      "Num train samples 2\n",
      "Num val samples 1\n"
     ]
    }
   ],
   "source": [
    "data_gen_train, data_gen_val = get_data_gens(all_imgs, classes_count, C)"
   ]
  },
  {
   "cell_type": "code",
   "execution_count": 10,
   "metadata": {},
   "outputs": [
    {
     "name": "stdout",
     "output_type": "stream",
     "text": [
      "Checkpoint: GT box coordinates\n",
      "./imgs/img1.npy: anchor size 1 out of 3\n",
      "./imgs/img1.npy: anchor size 2 out of 3\n",
      "./imgs/img1.npy: anchor size 3 out of 3\n"
     ]
    }
   ],
   "source": [
    "X, Y, img_data = next(data_gen_train)"
   ]
  },
  {
   "cell_type": "code",
   "execution_count": 16,
   "metadata": {
    "collapsed": true
   },
   "outputs": [],
   "source": [
    "X=X.transpose([0,4,1,2,3])\n",
    "X.shape"
   ]
  },
  {
   "cell_type": "code",
   "execution_count": 12,
   "metadata": {
    "scrolled": true
   },
   "outputs": [
    {
     "data": {
      "text/plain": [
       "(1, 16, 15, 1, 6)"
      ]
     },
     "execution_count": 12,
     "metadata": {},
     "output_type": "execute_result"
    }
   ],
   "source": [
    "Y[0]=Y[0].transpose([0,4,1,2,3])\n",
    "Y[0].shape"
   ]
  },
  {
   "cell_type": "code",
   "execution_count": 18,
   "metadata": {},
   "outputs": [
    {
     "data": {
      "text/plain": [
       "(1, 33, 16, 15, 1)"
      ]
     },
     "execution_count": 18,
     "metadata": {},
     "output_type": "execute_result"
    }
   ],
   "source": [
    "Y[1]=Y[1].transpose([0,4,1,2,3])\n",
    "Y[1].shape"
   ]
  },
  {
   "cell_type": "code",
   "execution_count": null,
   "metadata": {
    "collapsed": true
   },
   "outputs": [],
   "source": [
    "loss_rpn = model_rpn.train_on_batch(X, Y)"
   ]
  },
  {
   "cell_type": "code",
   "execution_count": null,
   "metadata": {
    "collapsed": true
   },
   "outputs": [],
   "source": []
  },
  {
   "cell_type": "code",
   "execution_count": 8,
   "metadata": {
    "collapsed": true
   },
   "outputs": [],
   "source": [
    "import tensorflow as tf\n",
    "from tensorflow.python import debug as tf_debug\n",
    "sess = tf.Session()\n",
    "sess = tf_debug.LocalCLIDebugWrapperSession(sess)\n",
    "sess.add_tensor_filter(\"has_inf_or_nan\", tf_debug.has_inf_or_nan)"
   ]
  },
  {
   "cell_type": "code",
   "execution_count": 3,
   "metadata": {},
   "outputs": [
    {
     "name": "stderr",
     "output_type": "stream",
     "text": [
      "Using TensorFlow backend.\n"
     ]
    }
   ],
   "source": [
    "import os\n",
    "import keras\n",
    "import train_frcnn\n",
    "import importlib"
   ]
  },
  {
   "cell_type": "code",
   "execution_count": 21,
   "metadata": {},
   "outputs": [
    {
     "data": {
      "text/plain": [
       "<module 'train_frcnn' from '/Users/clintonwang/Documents/Work/voi-detection/train_frcnn.py'>"
      ]
     },
     "execution_count": 21,
     "metadata": {},
     "output_type": "execute_result"
    }
   ],
   "source": [
    "importlib.reload(train_frcnn)"
   ]
  },
  {
   "cell_type": "code",
   "execution_count": 18,
   "metadata": {
    "collapsed": true
   },
   "outputs": [],
   "source": [
    "x_dim = 50\n",
    "y_dim = 50\n",
    "z_dim = 3\n",
    "dim_tuple = (z_dim, x_dim, y_dim)\n",
    "\n",
    "model.compile(optimizer='rmsprop',\n",
    "              loss='categorical_crossentropy',\n",
    "              metrics=['accuracy'])"
   ]
  },
  {
   "cell_type": "code",
   "execution_count": 21,
   "metadata": {
    "scrolled": true
   },
   "outputs": [
    {
     "name": "stdout",
     "output_type": "stream",
     "text": [
      "Epoch 1/10\n",
      "10/10 [==============================] - 11s - loss: 1.7511 - acc: 0.2000\n",
      "Epoch 2/10\n",
      "10/10 [==============================] - 1s - loss: 0.7666 - acc: 1.0000\n",
      "Epoch 3/10\n",
      "10/10 [==============================] - 1s - loss: 0.7474 - acc: 1.0000\n",
      "Epoch 4/10\n",
      "10/10 [==============================] - 1s - loss: 0.7412 - acc: 1.0000\n",
      "Epoch 5/10\n",
      "10/10 [==============================] - 1s - loss: 0.7357 - acc: 1.0000\n",
      "Epoch 6/10\n",
      "10/10 [==============================] - 1s - loss: 0.7305 - acc: 1.0000\n",
      "Epoch 7/10\n",
      "10/10 [==============================] - 1s - loss: 0.7254 - acc: 1.0000\n",
      "Epoch 8/10\n",
      "10/10 [==============================] - 1s - loss: 0.7205 - acc: 1.0000\n",
      "Epoch 9/10\n",
      "10/10 [==============================] - 1s - loss: 0.7156 - acc: 1.0000\n",
      "Epoch 10/10\n",
      "10/10 [==============================] - 1s - loss: 0.7108 - acc: 1.0000\n"
     ]
    },
    {
     "data": {
      "text/plain": [
       "<keras.callbacks.History at 0x11c34d588>"
      ]
     },
     "execution_count": 21,
     "metadata": {},
     "output_type": "execute_result"
    }
   ],
   "source": [
    "# Generate dummy data\n",
    "train_size = 10\n",
    "import numpy as np\n",
    "data = np.random.random((train_size, z_dim, x_dim, y_dim))\n",
    "labels = np.random.randint(2, size=(train_size, 1))\n",
    "\n",
    "# Convert labels to categorical one-hot encoding\n",
    "one_hot_labels = keras.utils.to_categorical(labels, num_classes=2)\n",
    "\n",
    "# Train the model, iterating on the data in batches of 32 samples\n",
    "model.fit(data, one_hot_labels, epochs=10, batch_size=32)"
   ]
  }
 ],
 "metadata": {
  "anaconda-cloud": {},
  "kernelspec": {
   "display_name": "Python 3",
   "language": "python",
   "name": "python3"
  },
  "language_info": {
   "codemirror_mode": {
    "name": "ipython",
    "version": 3
   },
   "file_extension": ".py",
   "mimetype": "text/x-python",
   "name": "python",
   "nbconvert_exporter": "python",
   "pygments_lexer": "ipython3",
   "version": "3.5.0"
  }
 },
 "nbformat": 4,
 "nbformat_minor": 1
}
