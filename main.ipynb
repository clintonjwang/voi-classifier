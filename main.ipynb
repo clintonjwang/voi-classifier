{
 "cells": [
  {
   "cell_type": "code",
   "execution_count": 1,
   "metadata": {},
   "outputs": [
    {
     "name": "stderr",
     "output_type": "stream",
     "text": [
      "Using TensorFlow backend.\n"
     ]
    }
   ],
   "source": [
    "import keras.backend as K"
   ]
  },
  {
   "cell_type": "code",
   "execution_count": 63,
   "metadata": {},
   "outputs": [],
   "source": [
    "from keras.layers import Input, Add, Dense, Activation, Flatten, Dropout, Conv3D, MaxPooling3D, ZeroPadding3D, AveragePooling3D, TimeDistributed\n",
    "from keras.models import Model\n",
    "import config\n",
    "import importlib\n",
    "import os\n",
    "import numpy as np"
   ]
  },
  {
   "cell_type": "code",
   "execution_count": 3,
   "metadata": {
    "collapsed": true
   },
   "outputs": [],
   "source": [
    "import tensorflow as tf"
   ]
  },
  {
   "cell_type": "code",
   "execution_count": 75,
   "metadata": {},
   "outputs": [
    {
     "data": {
      "text/plain": [
       "<module 'config' from 'C:\\\\Users\\\\Clinton\\\\Documents\\\\voi-classifier\\\\config.py'>"
      ]
     },
     "execution_count": 75,
     "metadata": {},
     "output_type": "execute_result"
    }
   ],
   "source": [
    "importlib.reload(config)"
   ]
  },
  {
   "cell_type": "code",
   "execution_count": 4,
   "metadata": {
    "collapsed": true
   },
   "outputs": [],
   "source": [
    "C = config.Config()"
   ]
  },
  {
   "cell_type": "code",
   "execution_count": 126,
   "metadata": {
    "scrolled": true
   },
   "outputs": [],
   "source": [
    "dims=[32,49,10]\n",
    "voi_img = Input(shape=(dims[0], dims[1], dims[2], C.nb_channels))\n",
    "x = Conv3D(filters=64, kernel_size=(3,3,2), activation='relu')(voi_img)\n",
    "x = Conv3D(filters=64, kernel_size=(3,3,2), activation='relu')(voi_img)\n",
    "x = MaxPooling3D((2, 2, 1))(x)\n",
    "#x = Conv3D(filters=48, kernel_size=(1,1,1), activation='relu')(x)\n",
    "x = Conv3D(filters=128, kernel_size=(3,3,2), activation='relu')(x)\n",
    "x = Conv3D(filters=128, kernel_size=(3,3,2), activation='relu')(x)\n",
    "x = MaxPooling3D((2, 2, 1))(x)\n",
    "#x = Conv3D(filters=32, kernel_size=(1,1,1), activation='relu')(x)\n",
    "#x = Conv3D(filters=32, kernel_size=(2,2,2), activation='relu')(x)\n",
    "#x = Dropout(0.2)(x)\n",
    "x = Flatten()(x)\n",
    "x = Dense(10, activation='relu')(x)\n",
    "pred_class = Dense(1, activation='sigmoid')(x)#Dense(C.nb_classes, activation='softmax')(x)"
   ]
  },
  {
   "cell_type": "code",
   "execution_count": 130,
   "metadata": {
    "scrolled": true
   },
   "outputs": [
    {
     "name": "stdout",
     "output_type": "stream",
     "text": [
      "_________________________________________________________________\n",
      "Layer (type)                 Output Shape              Param #   \n",
      "=================================================================\n",
      "input_14 (InputLayer)        (None, 32, 49, 10, 2)     0         \n",
      "_________________________________________________________________\n",
      "conv3d_64 (Conv3D)           (None, 30, 47, 9, 64)     2368      \n",
      "_________________________________________________________________\n",
      "max_pooling3d_22 (MaxPooling (None, 15, 23, 9, 64)     0         \n",
      "_________________________________________________________________\n",
      "conv3d_65 (Conv3D)           (None, 13, 21, 8, 128)    147584    \n",
      "_________________________________________________________________\n",
      "conv3d_66 (Conv3D)           (None, 11, 19, 7, 128)    295040    \n",
      "_________________________________________________________________\n",
      "max_pooling3d_23 (MaxPooling (None, 5, 9, 7, 128)      0         \n",
      "_________________________________________________________________\n",
      "flatten_14 (Flatten)         (None, 40320)             0         \n",
      "_________________________________________________________________\n",
      "dense_17 (Dense)             (None, 10)                403210    \n",
      "_________________________________________________________________\n",
      "dense_18 (Dense)             (None, 1)                 11        \n",
      "=================================================================\n",
      "Total params: 848,213\n",
      "Trainable params: 848,213\n",
      "Non-trainable params: 0\n",
      "_________________________________________________________________\n"
     ]
    }
   ],
   "source": [
    "model = Model(voi_img, pred_class)\n",
    "model.compile(optimizer='adam', loss='binary_crossentropy', metrics=['accuracy'])\n",
    "model.summary()"
   ]
  },
  {
   "cell_type": "code",
   "execution_count": null,
   "metadata": {
    "collapsed": true
   },
   "outputs": [],
   "source": []
  },
  {
   "cell_type": "code",
   "execution_count": 48,
   "metadata": {},
   "outputs": [],
   "source": [
    "z = np.load(base_dir+\"cyst\\\\12042703_0.npy\")"
   ]
  },
  {
   "cell_type": "code",
   "execution_count": 49,
   "metadata": {},
   "outputs": [
    {
     "data": {
      "text/plain": [
       "(32, 49, 10, 38)"
      ]
     },
     "execution_count": 49,
     "metadata": {},
     "output_type": "execute_result"
    }
   ],
   "source": [
    "z.shape"
   ]
  },
  {
   "cell_type": "code",
   "execution_count": 103,
   "metadata": {
    "scrolled": true
   },
   "outputs": [],
   "source": [
    "max_samples = 5000\n",
    "x = np.empty((max_samples, dims[0], dims[1], dims[2], C.nb_channels))\n",
    "y = []\n",
    "\n",
    "base_dir = \"..\\\\liver-mr-processor\\\\train_imgs\\\\\"\n",
    "index = 0\n",
    "for cl_num, class_name in enumerate(os.listdir(base_dir)):\n",
    "    for img_fn in os.listdir(base_dir+class_name):\n",
    "        #try:\n",
    "        x[index] = np.load(base_dir+class_name+\"\\\\\"+img_fn)\n",
    "        #except:\n",
    "        #    print(class_name+\"\\\\\"+img_fn)\n",
    "        index += 1\n",
    "        y.append(cl_num)\n",
    "\n",
    "x.resize((index, dims[0], dims[1], dims[2], C.nb_channels))"
   ]
  },
  {
   "cell_type": "code",
   "execution_count": 128,
   "metadata": {},
   "outputs": [],
   "source": [
    "Y=y\n",
    "#Y = np.array([[0,1] if y[x] == 1 else [1,0] for x in range(len(y))])\n",
    "#Y = K.constant(y, dtype=tf.int32)\n",
    "#Y = K.one_hot(Y, C.nb_classes)"
   ]
  },
  {
   "cell_type": "code",
   "execution_count": 106,
   "metadata": {
    "collapsed": true
   },
   "outputs": [],
   "source": [
    "X = np.array([z for z in x])"
   ]
  },
  {
   "cell_type": "code",
   "execution_count": 107,
   "metadata": {},
   "outputs": [
    {
     "data": {
      "text/plain": [
       "(1650, 32, 49, 10, 2)"
      ]
     },
     "execution_count": 107,
     "metadata": {},
     "output_type": "execute_result"
    }
   ],
   "source": [
    "X.shape"
   ]
  },
  {
   "cell_type": "code",
   "execution_count": 136,
   "metadata": {
    "collapsed": true
   },
   "outputs": [],
   "source": [
    "import matplotlib.pyplot as plt\n",
    "%matplotlib inline"
   ]
  },
  {
   "cell_type": "code",
   "execution_count": 150,
   "metadata": {},
   "outputs": [
    {
     "data": {
      "text/plain": [
       "0.0"
      ]
     },
     "execution_count": 150,
     "metadata": {},
     "output_type": "execute_result"
    }
   ],
   "source": [
    "np.amax(X[650,:,:,:,0])"
   ]
  },
  {
   "cell_type": "code",
   "execution_count": 140,
   "metadata": {},
   "outputs": [
    {
     "data": {
      "text/plain": [
       "<matplotlib.image.AxesImage at 0x20b42b02b70>"
      ]
     },
     "execution_count": 140,
     "metadata": {},
     "output_type": "execute_result"
    },
    {
     "data": {
      "image/png": "[encoded data removed]",
      "text/plain": [
       "<matplotlib.figure.Figure at 0x20b424cdcf8>"
      ]
     },
     "metadata": {},
     "output_type": "display_data"
    }
   ],
   "source": [
    "plt.imshow(X[0,:,:,5,0])"
   ]
  },
  {
   "cell_type": "code",
   "execution_count": 132,
   "metadata": {
    "collapsed": true
   },
   "outputs": [],
   "source": [
    "Y_ = model.predict(X)"
   ]
  },
  {
   "cell_type": "code",
   "execution_count": 131,
   "metadata": {
    "scrolled": true
   },
   "outputs": [
    {
     "name": "stdout",
     "output_type": "stream",
     "text": [
      "Train on 1320 samples, validate on 330 samples\n",
      "Epoch 1/8\n",
      "1320/1320 [==============================] - 5s - loss: 2.6271 - acc: 0.8311 - val_loss: 16.1181 - val_acc: 0.0000e+00\n",
      "Epoch 2/8\n",
      "1320/1320 [==============================] - 4s - loss: 2.6863 - acc: 0.8333 - val_loss: 16.1181 - val_acc: 0.0000e+00\n",
      "Epoch 3/8\n",
      "1320/1320 [==============================] - 4s - loss: 2.6863 - acc: 0.8333 - val_loss: 16.1181 - val_acc: 0.0000e+00\n",
      "Epoch 4/8\n",
      "1320/1320 [==============================] - 4s - loss: 2.6863 - acc: 0.8333 - val_loss: 16.1181 - val_acc: 0.0000e+00\n",
      "Epoch 5/8\n",
      "1320/1320 [==============================] - 4s - loss: 2.6863 - acc: 0.8333 - val_loss: 16.1181 - val_acc: 0.0000e+00\n",
      "Epoch 6/8\n",
      "1320/1320 [==============================] - 4s - loss: 2.6863 - acc: 0.8333 - val_loss: 16.1181 - val_acc: 0.0000e+00\n",
      "Epoch 7/8\n",
      "1320/1320 [==============================] - 4s - loss: 2.6863 - acc: 0.8333 - val_loss: 16.1181 - val_acc: 0.0000e+00\n",
      "Epoch 8/8\n",
      "1320/1320 [==============================] - 4s - loss: 2.6863 - acc: 0.8333 - val_loss: 16.1181 - val_acc: 0.0000e+00\n"
     ]
    }
   ],
   "source": [
    "hist = model.fit(X, Y, batch_size=32, epochs=8, validation_split=0.2)"
   ]
  },
  {
   "cell_type": "code",
   "execution_count": 94,
   "metadata": {},
   "outputs": [
    {
     "data": {
      "text/plain": [
       "0.6666666666666667"
      ]
     },
     "execution_count": 94,
     "metadata": {},
     "output_type": "execute_result"
    }
   ],
   "source": [
    "max(sum(y)/len(y), 1-sum(y)/len(y))"
   ]
  },
  {
   "cell_type": "code",
   "execution_count": 108,
   "metadata": {},
   "outputs": [
    {
     "data": {
      "text/plain": [
       "(1650, 2)"
      ]
     },
     "execution_count": 108,
     "metadata": {},
     "output_type": "execute_result"
    }
   ],
   "source": [
    "Y.shape"
   ]
  },
  {
   "cell_type": "code",
   "execution_count": 73,
   "metadata": {
    "scrolled": true
   },
   "outputs": [
    {
     "data": {
      "text/plain": [
       "{'acc': [1.0, 1.0, 1.0, 1.0, 1.0, 1.0, 1.0, 1.0],\n",
       " 'loss': [1.1920930376163597e-07,\n",
       "  1.1920930376163597e-07,\n",
       "  1.1920930376163597e-07,\n",
       "  1.1920930376163597e-07,\n",
       "  1.1920930376163597e-07,\n",
       "  1.1920930376163597e-07,\n",
       "  1.1920930376163597e-07,\n",
       "  1.1920930376163597e-07],\n",
       " 'val_acc': [0.33734939759036142,\n",
       "  0.33734939759036142,\n",
       "  0.33734939759036142,\n",
       "  0.33734939759036142,\n",
       "  0.33734939759036142,\n",
       "  0.33734939759036142,\n",
       "  0.33734939759036142,\n",
       "  0.33734939759036142],\n",
       " 'val_loss': [10.682890466896884,\n",
       "  10.682890466896884,\n",
       "  10.682890283056052,\n",
       "  10.682890283056052,\n",
       "  10.682890283056052,\n",
       "  10.682890283056052,\n",
       "  10.682890283056052,\n",
       "  10.682890283056052]}"
      ]
     },
     "execution_count": 73,
     "metadata": {},
     "output_type": "execute_result"
    }
   ],
   "source": [
    "hist.history"
   ]
  },
  {
   "cell_type": "code",
   "execution_count": null,
   "metadata": {
    "collapsed": true
   },
   "outputs": [],
   "source": []
  }
 ],
 "metadata": {
  "kernelspec": {
   "display_name": "Python 3",
   "language": "python",
   "name": "python3"
  },
  "language_info": {
   "codemirror_mode": {
    "name": "ipython",
    "version": 3
   },
   "file_extension": ".py",
   "mimetype": "text/x-python",
   "name": "python",
   "nbconvert_exporter": "python",
   "pygments_lexer": "ipython3",
   "version": "3.5.0"
  }
 },
 "nbformat": 4,
 "nbformat_minor": 2
}
