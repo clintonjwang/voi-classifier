{
 "cells": [
  {
   "cell_type": "code",
   "execution_count": 127,
   "metadata": {},
   "outputs": [],
   "source": [
    "import keras.backend as K\n",
    "from keras.layers import Input, Add, Dense, Activation, Flatten, Dropout, Conv3D, MaxPooling3D, ZeroPadding3D, AveragePooling3D, TimeDistributed\n",
    "from keras.models import Model\n",
    "from keras.regularizers import l1, l2\n",
    "from keras.optimizers import Adam, SGD\n",
    "from keras.constraints import max_norm\n",
    "from keras.layers.noise import GaussianNoise\n",
    "from keras.callbacks import EarlyStopping\n",
    "from keras.utils import np_utils\n",
    "from sklearn.metrics import confusion_matrix, f1_score\n",
    "import operator\n",
    "import matplotlib.pyplot as plt\n",
    "import config\n",
    "import importlib\n",
    "import os\n",
    "import copy\n",
    "import pandas as pd\n",
    "import re\n",
    "import numpy as np\n",
    "from scipy.misc import imsave\n",
    "import tensorflow as tf\n",
    "%matplotlib inline"
   ]
  },
  {
   "cell_type": "markdown",
   "metadata": {},
   "source": [
    "from keras.datasets import mnist\n",
    "\n",
    "(x_train, y_train), (x_test, y_test) = mnist.load_data()\n",
    "\n",
    "nb_classes = C.nb_classes\n",
    "\n",
    "X_train = np.expand_dims(x_train,axis=3)\n",
    "X_train = np.expand_dims(X_train,axis=4)\n",
    "X_test = np.expand_dims(x_test,axis=3)\n",
    "X_test = np.expand_dims(X_test,axis=4)\n",
    "X_train = X_train.astype('float32')\n",
    "X_test = X_test.astype('float32')\n",
    "X_train /= 255\n",
    "X_test /= 255\n",
    "Y_train = np_utils.to_categorical(y_train, nb_classes)\n",
    "Y_test = np_utils.to_categorical(y_test, nb_classes)"
   ]
  },
  {
   "cell_type": "code",
   "execution_count": 131,
   "metadata": {
    "scrolled": true
   },
   "outputs": [
    {
     "data": {
      "text/plain": [
       "<module 'config' from 'C:\\\\Users\\\\Clinton\\\\Documents\\\\voi-classifier\\\\config.py'>"
      ]
     },
     "execution_count": 131,
     "metadata": {},
     "output_type": "execute_result"
    }
   ],
   "source": [
    "importlib.reload(config)"
   ]
  },
  {
   "cell_type": "code",
   "execution_count": 132,
   "metadata": {
    "collapsed": true,
    "scrolled": true
   },
   "outputs": [],
   "source": [
    "C = config.Config()\n",
    "dims = C.dims\n",
    "voi_img = Input(shape=(dims[0], dims[1], dims[2], C.nb_channels))\n",
    "x = voi_img\n",
    "#x = GaussianNoise(1)(x)\n",
    "#x = ZeroPadding3D(padding=(3,3,2))(voi_img)\n",
    "#x = Conv3D(filters=128, kernel_size=(3,3,2), activation='relu')(x)\n",
    "x = Conv3D(filters=32, kernel_size=(3,3,1), activation='relu', kernel_constraint=max_norm(4.))(x)\n",
    "x = Dropout(0.5)(x)\n",
    "x = MaxPooling3D((2, 2, 1))(x)\n",
    "x = Conv3D(filters=64, kernel_size=(3,3,2), activation='relu', kernel_constraint=max_norm(4.))(x)\n",
    "x = Dropout(0.5)(x)\n",
    "#x = Conv3D(filters=128, kernel_size=(2,2,2), activation='relu')(x)\n",
    "x = MaxPooling3D((2, 2, 2))(x)\n",
    "x = Flatten()(x)\n",
    "x = Dense(128, activation='relu', kernel_constraint=max_norm(4.))(x)#, kernel_initializer='normal', kernel_regularizer=l1(.01), kernel_constraint=max_norm(3.))(x)\n",
    "x = Dropout(0.5)(x)\n",
    "pred_class = Dense(C.nb_classes, activation='softmax')(x)#Dense(C.nb_classes, activation='softmax')(x)"
   ]
  },
  {
   "cell_type": "code",
   "execution_count": 133,
   "metadata": {
    "scrolled": true
   },
   "outputs": [
    {
     "name": "stdout",
     "output_type": "stream",
     "text": [
      "_________________________________________________________________\n",
      "Layer (type)                 Output Shape              Param #   \n",
      "=================================================================\n",
      "input_10 (InputLayer)        (None, 24, 24, 12, 1)     0         \n",
      "_________________________________________________________________\n",
      "conv3d_19 (Conv3D)           (None, 22, 22, 12, 32)    320       \n",
      "_________________________________________________________________\n",
      "dropout_28 (Dropout)         (None, 22, 22, 12, 32)    0         \n",
      "_________________________________________________________________\n",
      "max_pooling3d_19 (MaxPooling (None, 11, 11, 12, 32)    0         \n",
      "_________________________________________________________________\n",
      "conv3d_20 (Conv3D)           (None, 9, 9, 11, 64)      36928     \n",
      "_________________________________________________________________\n",
      "dropout_29 (Dropout)         (None, 9, 9, 11, 64)      0         \n",
      "_________________________________________________________________\n",
      "max_pooling3d_20 (MaxPooling (None, 4, 4, 5, 64)       0         \n",
      "_________________________________________________________________\n",
      "flatten_10 (Flatten)         (None, 5120)              0         \n",
      "_________________________________________________________________\n",
      "dense_19 (Dense)             (None, 128)               655488    \n",
      "_________________________________________________________________\n",
      "dropout_30 (Dropout)         (None, 128)               0         \n",
      "_________________________________________________________________\n",
      "dense_20 (Dense)             (None, 5)                 645       \n",
      "=================================================================\n",
      "Total params: 693,381\n",
      "Trainable params: 693,381\n",
      "Non-trainable params: 0\n",
      "_________________________________________________________________\n"
     ]
    }
   ],
   "source": [
    "optim = Adam(lr=0.01)#, decay=0.001)\n",
    "early_stopping = EarlyStopping(min_delta=0.001, patience=10)\n",
    "\n",
    "model = Model(voi_img, pred_class)\n",
    "model.compile(optimizer='adam', loss='categorical_crossentropy', metrics=['accuracy'])\n",
    "model.summary()"
   ]
  },
  {
   "cell_type": "markdown",
   "metadata": {
    "collapsed": true
   },
   "source": [
    "model2 = Model(voi_img, intermed)\n",
    "\n",
    "for l in range(2,len(model2.layers)):\n",
    "    model2.layers[l].set_weights(model.layers[l].get_weights())"
   ]
  },
  {
   "cell_type": "markdown",
   "metadata": {},
   "source": [
    "X_train = []\n",
    "Y_train = []\n",
    "\n",
    "for _ in range(10):\n",
    "    X_train.append(np.ones(dims + [C.nb_channels]))\n",
    "    Y_train.append([1,0])\n",
    "for _ in range(10):\n",
    "    X_train.append(np.ones(dims + [C.nb_channels]))\n",
    "    X_train[-1][5:15,5:15,5:7,0] = 2\n",
    "    Y_train.append([0,1])\n",
    "    \n",
    "X_train = np.array(X_train) # X[:total_size//2]\n",
    "#X_val = np.array(X_test)\n",
    "Y_train = np.array(Y_train) # Y[:total_size//2]\n",
    "#Y_val = np.array(Y_test)"
   ]
  },
  {
   "cell_type": "code",
   "execution_count": 134,
   "metadata": {
    "collapsed": true
   },
   "outputs": [],
   "source": [
    "classes = ['cyst', 'hcc', 'fnh', 'hemangioma', 'adenoma']"
   ]
  },
  {
   "cell_type": "code",
   "execution_count": 135,
   "metadata": {
    "scrolled": true
   },
   "outputs": [],
   "source": [
    "orig_data_dict = {}\n",
    "num_samples = {}\n",
    "    \n",
    "for class_name in classes:#os.listdir(C.orig_dir):\n",
    "    x = np.empty((10000, dims[0], dims[1], dims[2], C.nb_channels))\n",
    "    z = []\n",
    "    \n",
    "    for index, img_fn in enumerate(os.listdir(C.orig_dir+class_name)):\n",
    "        try:\n",
    "            x[index] = np.load(C.orig_dir+class_name+\"\\\\\"+img_fn)\n",
    "        except:\n",
    "            raise ValueError(C.orig_dir+class_name+\"\\\\\"+img_fn + \" not found\")\n",
    "        z.append(img_fn)\n",
    "    \n",
    "    x.resize((index, dims[0], dims[1], dims[2], C.nb_channels)) #shrink first dimension to fit\n",
    "    orig_data_dict[class_name] = [x,np.array(z)]\n",
    "    num_samples[class_name] = index"
   ]
  },
  {
   "cell_type": "code",
   "execution_count": 136,
   "metadata": {
    "scrolled": true
   },
   "outputs": [
    {
     "data": {
      "text/plain": [
       "{'adenoma': 38, 'cyst': 74, 'fnh': 59, 'hcc': 50, 'hemangioma': 53}"
      ]
     },
     "execution_count": 136,
     "metadata": {},
     "output_type": "execute_result"
    }
   ],
   "source": [
    "num_samples"
   ]
  },
  {
   "cell_type": "code",
   "execution_count": 138,
   "metadata": {},
   "outputs": [
    {
     "name": "stdout",
     "output_type": "stream",
     "text": [
      "hcc has 38 samples for training (3800 after augmentation) and 12 for testing\n",
      "cyst has 56 samples for training (5600 after augmentation) and 18 for testing\n",
      "hemangioma has 40 samples for training (4000 after augmentation) and 13 for testing\n",
      "adenoma has 28 samples for training (2800 after augmentation) and 10 for testing\n",
      "fnh has 44 samples for training (4400 after augmentation) and 15 for testing\n"
     ]
    }
   ],
   "source": [
    "train_ids = {} #filenames of training set originals\n",
    "test_ids = {} #filenames of test set\n",
    "X_test = []\n",
    "Y_test = []\n",
    "Z_test = []\n",
    "X_train_orig = []\n",
    "Y_train_orig = []\n",
    "Z_train_orig = []\n",
    "cls_mapping = []\n",
    "\n",
    "train_frac = {\"cyst\": 0.75, \"fnh\": 0.75, \"hcc\": 0.75, \"hemangioma\": 0.75, 'adenoma': 0.75}\n",
    "train_samples = {}\n",
    "\n",
    "for cls_num, cls in enumerate(orig_data_dict):\n",
    "    train_samples[cls] = round(num_samples[cls]*train_frac[cls])\n",
    "    \n",
    "    order = np.random.permutation(list(range(num_samples[cls])))\n",
    "    train_ids[cls] = list(orig_data_dict[cls][1][order[:train_samples[cls]]])\n",
    "    test_ids[cls] = list(orig_data_dict[cls][1][order[train_samples[cls]:]])\n",
    "    \n",
    "    X_test = X_test + list(orig_data_dict[cls][0][order[train_samples[cls]:]])\n",
    "    Y_test = Y_test + [[0] * cls_num + [1] + [0] * (C.nb_classes - cls_num - 1)] * \\\n",
    "                        (num_samples[cls] - train_samples[cls])\n",
    "    Z_test = Z_test + list(orig_data_dict[cls][1][order[train_samples[cls]:]])\n",
    "    cls_mapping.append(cls)\n",
    "    \n",
    "    X_train_orig = X_train_orig + list(orig_data_dict[cls][0][order[:train_samples[cls]]])\n",
    "    Y_train_orig = Y_train_orig + [[0] * cls_num + [1] + [0] * (C.nb_classes - cls_num - 1)] * \\\n",
    "                        (train_samples[cls])\n",
    "    Z_train_orig = Z_train_orig + list(orig_data_dict[cls][1][order[:train_samples[cls]]])\n",
    "    \n",
    "    print(\"%s has %d samples for training (%d after augmentation) and %d for testing\" %\n",
    "          (cls, train_samples[cls], train_samples[cls] * C.aug_factor[cls], num_samples[cls] - train_samples[cls]))"
   ]
  },
  {
   "cell_type": "code",
   "execution_count": 139,
   "metadata": {},
   "outputs": [
    {
     "data": {
      "text/plain": [
       "{'adenoma': 28, 'cyst': 56, 'fnh': 44, 'hcc': 38, 'hemangioma': 40}"
      ]
     },
     "execution_count": 139,
     "metadata": {},
     "output_type": "execute_result"
    }
   ],
   "source": [
    "train_samples"
   ]
  },
  {
   "cell_type": "code",
   "execution_count": 140,
   "metadata": {
    "collapsed": true
   },
   "outputs": [],
   "source": [
    "aug_data_dict = {}\n",
    "\n",
    "for class_name in classes:#os.listdir(C.aug_dir):\n",
    "    x_train = np.empty((10000, dims[0], dims[1], dims[2], C.nb_channels))\n",
    "    x_val = np.empty((10000, dims[0], dims[1], dims[2], C.nb_channels))\n",
    "    z = []\n",
    "    \n",
    "    train_cnt = 0\n",
    "    val_cnt = 0\n",
    "    for img_fn in os.listdir(C.aug_dir+class_name):\n",
    "            \n",
    "        if \"_\".join(img_fn.split(\"_\")[:2])+\".npy\" in train_ids[class_name]:\n",
    "            try:\n",
    "                x_train[train_cnt] = np.load(C.aug_dir+class_name+\"\\\\\"+img_fn)\n",
    "            except:\n",
    "                raise ValueError(C.aug_dir+class_name+\"\\\\\"+img_fn + \" cannot be loaded\")\n",
    "            train_cnt += 1\n",
    "            z.append(img_fn)\n",
    "            \n",
    "        else:\n",
    "            try:\n",
    "                x_val[val_cnt] = np.load(C.aug_dir+class_name+\"\\\\\"+img_fn)\n",
    "            except:\n",
    "                raise ValueError(C.aug_dir+class_name+\"\\\\\"+img_fn + \" cannot be loaded\")\n",
    "            val_cnt += 1\n",
    "    \n",
    "    x_train.resize((train_cnt, dims[0], dims[1], dims[2], C.nb_channels)) #shrink first dimension to fit\n",
    "    x_val.resize((val_cnt, dims[0], dims[1], dims[2], C.nb_channels)) #shrink first dimension to fit\n",
    "    aug_data_dict[class_name] = {'train': [x_train,np.array(z)], 'val': x_val}"
   ]
  },
  {
   "cell_type": "code",
   "execution_count": 141,
   "metadata": {},
   "outputs": [],
   "source": [
    "X_train = []\n",
    "Y_train = []\n",
    "Z_train = []\n",
    "X_val = []\n",
    "Y_val = []\n",
    "Z_val = []\n",
    "\n",
    "for cls_num, cls in enumerate(aug_data_dict):\n",
    "    X_train = X_train + list(aug_data_dict[cls]['train'][0])\n",
    "    Y_train = Y_train + [[0] * cls_num + [1] + [0] * (C.nb_classes - cls_num - 1)] * len(aug_data_dict[cls]['train'][0])\n",
    "    Z_train = Z_train + list(aug_data_dict[cls]['train'][1])\n",
    "    \n",
    "    X_val = X_val + list(aug_data_dict[cls]['val'])\n",
    "    Y_val = Y_val + [[0] * cls_num + [1] + [0] * (C.nb_classes - cls_num - 1)] * len(aug_data_dict[cls]['val'])"
   ]
  },
  {
   "cell_type": "markdown",
   "metadata": {
    "collapsed": true
   },
   "source": [
    "Z_cyst = data_dict[\"cyst\"][1]"
   ]
  },
  {
   "cell_type": "markdown",
   "metadata": {},
   "source": [
    "Y_[-4]"
   ]
  },
  {
   "cell_type": "markdown",
   "metadata": {},
   "source": [
    "Z_cyst[-4]"
   ]
  },
  {
   "cell_type": "markdown",
   "metadata": {
    "collapsed": true
   },
   "source": [
    "X_cyst = data_dict[\"cyst\"][0]\n",
    "X_cyst = np.array(X_cyst) # X[:total_size//2]\n",
    "X_cyst /= 255"
   ]
  },
  {
   "cell_type": "markdown",
   "metadata": {
    "collapsed": true
   },
   "source": [
    "X_hcc = data_dict[\"hcc\"][0]\n",
    "X_hcc = np.array(X_hcc) # X[:total_size//2]\n",
    "X_hcc /= 255"
   ]
  },
  {
   "cell_type": "code",
   "execution_count": 142,
   "metadata": {
    "collapsed": true
   },
   "outputs": [],
   "source": [
    "X_train = np.array([2 * (x - np.amin(x)) / (np.amax(x) - np.amin(x)) - 1 for x in X_train]) #scale from -1 to 1\n",
    "X_val = np.array([2 * (x - np.amin(x)) / (np.amax(x) - np.amin(x)) - 1 for x in X_val]) #scale from -1 to 1\n",
    "X_test = np.array([2 * (x - np.amin(x)) / (np.amax(x) - np.amin(x)) - 1 for x in X_test]) #scale from -1 to 1\n",
    "X_train_orig = np.array([2 * (x - np.amin(x)) / (np.amax(x) - np.amin(x)) - 1 for x in X_train_orig]) #scale from -1 to 1\n",
    "\n",
    "#X_train = np.array(X_train) / 255 # X[:total_size//2]\n",
    "#X_val = np.array(X_val) / 255\n",
    "#X_test = np.array(X_test) / 255\n",
    "#X_train_orig = np.array(X_train_orig) / 255\n",
    "\n",
    "Y_train = np.array(Y_train)\n",
    "Y_val = np.array(Y_val)\n",
    "Y_train_orig = np.array(Y_train_orig)\n",
    "\n",
    "Z_train = np.array(Z_train)\n",
    "Z_test = np.array(Z_test)\n",
    "Z_train_orig = np.array(Z_train_orig)\n"
   ]
  },
  {
   "cell_type": "code",
   "execution_count": 28,
   "metadata": {
    "collapsed": true
   },
   "outputs": [],
   "source": [
    "#X = np.array([z for z in x])\n",
    "#Y = np.array(y)\n",
    "#Y = np.array([[0,1] if y[x] == 1 else [1,0] for x in range(len(y))])\n",
    "#Y = K.constant(y, dtype=tf.int32)\n",
    "#Y = K.one_hot(Y, C.nb_classes)\n",
    "\n",
    "#total_size = X.shape[0]\n",
    "\n",
    "#order = np.random.permutation(list(range(total_size)))\n",
    "#X = X[order]\n",
    "#Y = Y[order]"
   ]
  },
  {
   "cell_type": "code",
   "execution_count": 143,
   "metadata": {
    "scrolled": true
   },
   "outputs": [
    {
     "name": "stdout",
     "output_type": "stream",
     "text": [
      "Train on 10300 samples, validate on 3650 samples\n",
      "Epoch 1/200\n",
      "10300/10300 [==============================] - 11s - loss: 1.2053 - acc: 0.4845 - val_loss: 1.2972 - val_acc: 0.4507\n",
      "Epoch 2/200\n",
      "10300/10300 [==============================] - 8s - loss: 0.8984 - acc: 0.6287 - val_loss: 1.1724 - val_acc: 0.4989\n",
      "Epoch 3/200\n",
      "10300/10300 [==============================] - 8s - loss: 0.6761 - acc: 0.7271 - val_loss: 1.1261 - val_acc: 0.4896\n",
      "Epoch 4/200\n",
      "10300/10300 [==============================] - 8s - loss: 0.4865 - acc: 0.8098 - val_loss: 1.1090 - val_acc: 0.5008\n",
      "Epoch 5/200\n",
      "10300/10300 [==============================] - 8s - loss: 0.3723 - acc: 0.8483 - val_loss: 1.1300 - val_acc: 0.4975\n",
      "Epoch 6/200\n",
      "10300/10300 [==============================] - 8s - loss: 0.3026 - acc: 0.8861 - val_loss: 1.1618 - val_acc: 0.4918\n",
      "Epoch 7/200\n",
      "10300/10300 [==============================] - 8s - loss: 0.2489 - acc: 0.9072 - val_loss: 1.2457 - val_acc: 0.4978\n",
      "Epoch 8/200\n",
      "10300/10300 [==============================] - 8s - loss: 0.2226 - acc: 0.9133 - val_loss: 1.2088 - val_acc: 0.5156\n",
      "Epoch 9/200\n",
      "10300/10300 [==============================] - 8s - loss: 0.1951 - acc: 0.9217 - val_loss: 1.2382 - val_acc: 0.5079\n",
      "Epoch 10/200\n",
      "10300/10300 [==============================] - 8s - loss: 0.1783 - acc: 0.9310 - val_loss: 1.2415 - val_acc: 0.5164\n",
      "Epoch 11/200\n",
      "10300/10300 [==============================] - 8s - loss: 0.1620 - acc: 0.9374 - val_loss: 1.2945 - val_acc: 0.5118\n",
      "Epoch 12/200\n",
      "10300/10300 [==============================] - 8s - loss: 0.1604 - acc: 0.9373 - val_loss: 1.4426 - val_acc: 0.5126\n",
      "Epoch 13/200\n",
      "10300/10300 [==============================] - 8s - loss: 0.1421 - acc: 0.9461 - val_loss: 1.3437 - val_acc: 0.5115\n",
      "Epoch 14/200\n",
      "10300/10300 [==============================] - 8s - loss: 0.1517 - acc: 0.9430 - val_loss: 1.3112 - val_acc: 0.5003\n",
      "Epoch 15/200\n",
      "10300/10300 [==============================] - 8s - loss: 0.1269 - acc: 0.9531 - val_loss: 1.3377 - val_acc: 0.5233\n",
      "Epoch 16/200\n",
      "10300/10300 [==============================] - 8s - loss: 0.1296 - acc: 0.9528 - val_loss: 1.3976 - val_acc: 0.5148\n",
      "Epoch 17/200\n",
      "10300/10300 [==============================] - 8s - loss: 0.1259 - acc: 0.9543 - val_loss: 1.4388 - val_acc: 0.4942\n",
      "Epoch 18/200\n",
      "10300/10300 [==============================] - 8s - loss: 0.1235 - acc: 0.9544 - val_loss: 1.4042 - val_acc: 0.5162\n",
      "Epoch 19/200\n",
      "10300/10300 [==============================] - 8s - loss: 0.1203 - acc: 0.9542 - val_loss: 1.5392 - val_acc: 0.4978\n",
      "Epoch 20/200\n",
      "10300/10300 [==============================] - 8s - loss: 0.1080 - acc: 0.9606 - val_loss: 1.3291 - val_acc: 0.5321\n",
      "Epoch 21/200\n",
      "10300/10300 [==============================] - 8s - loss: 0.0959 - acc: 0.9648 - val_loss: 1.5038 - val_acc: 0.5085\n",
      "Epoch 22/200\n",
      "10300/10300 [==============================] - 8s - loss: 0.1084 - acc: 0.9596 - val_loss: 1.4251 - val_acc: 0.5205\n",
      "Epoch 23/200\n",
      "10300/10300 [==============================] - 8s - loss: 0.1117 - acc: 0.9590 - val_loss: 1.4544 - val_acc: 0.5290\n",
      "Epoch 24/200\n",
      "10300/10300 [==============================] - 8s - loss: 0.0990 - acc: 0.9636 - val_loss: 1.4360 - val_acc: 0.5151\n",
      "Epoch 25/200\n",
      "10300/10300 [==============================] - 8s - loss: 0.1026 - acc: 0.9628 - val_loss: 1.4358 - val_acc: 0.5192\n",
      "Epoch 26/200\n",
      "10300/10300 [==============================] - 8s - loss: 0.0844 - acc: 0.9687 - val_loss: 1.5085 - val_acc: 0.5162\n",
      "Epoch 27/200\n",
      "10300/10300 [==============================] - 8s - loss: 0.0919 - acc: 0.9648 - val_loss: 1.4735 - val_acc: 0.5178\n",
      "Epoch 28/200\n",
      "10300/10300 [==============================] - 8s - loss: 0.0943 - acc: 0.9665 - val_loss: 1.4518 - val_acc: 0.5153\n",
      "Epoch 29/200\n",
      "10300/10300 [==============================] - 8s - loss: 0.0874 - acc: 0.9683 - val_loss: 1.5610 - val_acc: 0.4997\n",
      "Epoch 30/200\n",
      "10300/10300 [==============================] - 8s - loss: 0.0938 - acc: 0.9673 - val_loss: 1.4486 - val_acc: 0.5326\n",
      "Epoch 31/200\n",
      "10300/10300 [==============================] - 8s - loss: 0.0866 - acc: 0.9703 - val_loss: 1.5099 - val_acc: 0.5060\n",
      "Epoch 32/200\n",
      "10300/10300 [==============================] - 8s - loss: 0.0927 - acc: 0.9670 - val_loss: 1.4029 - val_acc: 0.5214\n",
      "Epoch 33/200\n",
      "10300/10300 [==============================] - 8s - loss: 0.0821 - acc: 0.9718 - val_loss: 1.4858 - val_acc: 0.5258\n",
      "Epoch 34/200\n",
      "10300/10300 [==============================] - 8s - loss: 0.0786 - acc: 0.9714 - val_loss: 1.4038 - val_acc: 0.5233\n",
      "Epoch 35/200\n",
      "10300/10300 [==============================] - 8s - loss: 0.0771 - acc: 0.9703 - val_loss: 1.5010 - val_acc: 0.5027\n",
      "Epoch 36/200\n",
      "10300/10300 [==============================] - 8s - loss: 0.0798 - acc: 0.9718 - val_loss: 1.5932 - val_acc: 0.5186\n",
      "Epoch 37/200\n",
      "10300/10300 [==============================] - 8s - loss: 0.0770 - acc: 0.9729 - val_loss: 1.5318 - val_acc: 0.5058\n",
      "Epoch 38/200\n",
      "10300/10300 [==============================] - 8s - loss: 0.0808 - acc: 0.9709 - val_loss: 1.5157 - val_acc: 0.5214\n",
      "Epoch 39/200\n",
      "10300/10300 [==============================] - 8s - loss: 0.0786 - acc: 0.9726 - val_loss: 1.4372 - val_acc: 0.5403\n",
      "Epoch 40/200\n",
      "10300/10300 [==============================] - 8s - loss: 0.0732 - acc: 0.9750 - val_loss: 1.5684 - val_acc: 0.5186\n",
      "Epoch 41/200\n",
      "10300/10300 [==============================] - 8s - loss: 0.0675 - acc: 0.9766 - val_loss: 1.5443 - val_acc: 0.5329\n",
      "Epoch 42/200\n",
      "10300/10300 [==============================] - 8s - loss: 0.0760 - acc: 0.9737 - val_loss: 1.4862 - val_acc: 0.5332\n",
      "Epoch 43/200\n",
      "10300/10300 [==============================] - 8s - loss: 0.0805 - acc: 0.9695 - val_loss: 1.4283 - val_acc: 0.5359\n",
      "Epoch 44/200\n",
      "10300/10300 [==============================] - 8s - loss: 0.0750 - acc: 0.9763 - val_loss: 1.5070 - val_acc: 0.5422\n",
      "Epoch 45/200\n",
      "10300/10300 [==============================] - 8s - loss: 0.0690 - acc: 0.9758 - val_loss: 1.5735 - val_acc: 0.5271\n",
      "Epoch 46/200\n",
      "10300/10300 [==============================] - 8s - loss: 0.0719 - acc: 0.9758 - val_loss: 1.5379 - val_acc: 0.5414\n",
      "Epoch 47/200\n",
      "10300/10300 [==============================] - 8s - loss: 0.0736 - acc: 0.9755 - val_loss: 1.4709 - val_acc: 0.5321\n",
      "Epoch 48/200\n",
      "10300/10300 [==============================] - 8s - loss: 0.0601 - acc: 0.9781 - val_loss: 1.5643 - val_acc: 0.5153\n",
      "Epoch 49/200\n",
      "10300/10300 [==============================] - 8s - loss: 0.0787 - acc: 0.9731 - val_loss: 1.4073 - val_acc: 0.5485\n",
      "Epoch 50/200\n",
      "10300/10300 [==============================] - 8s - loss: 0.0798 - acc: 0.9711 - val_loss: 1.4817 - val_acc: 0.5449\n",
      "Epoch 51/200\n",
      "10300/10300 [==============================] - 8s - loss: 0.0644 - acc: 0.9783 - val_loss: 1.5725 - val_acc: 0.5178\n",
      "Epoch 52/200\n",
      "10300/10300 [==============================] - 8s - loss: 0.0670 - acc: 0.9762 - val_loss: 1.6713 - val_acc: 0.5129\n",
      "Epoch 53/200\n",
      "10300/10300 [==============================] - 8s - loss: 0.0722 - acc: 0.9737 - val_loss: 1.5180 - val_acc: 0.5436\n",
      "Epoch 54/200\n",
      "10300/10300 [==============================] - 8s - loss: 0.0710 - acc: 0.9744 - val_loss: 1.4447 - val_acc: 0.5425\n",
      "Epoch 55/200\n",
      "10300/10300 [==============================] - 8s - loss: 0.0720 - acc: 0.9755 - val_loss: 1.4613 - val_acc: 0.5414\n",
      "Epoch 56/200\n",
      "10300/10300 [==============================] - 8s - loss: 0.0625 - acc: 0.9782 - val_loss: 1.4680 - val_acc: 0.5274\n",
      "Epoch 57/200\n",
      "10300/10300 [==============================] - 8s - loss: 0.0637 - acc: 0.9773 - val_loss: 1.5274 - val_acc: 0.5266\n",
      "Epoch 58/200\n",
      "10300/10300 [==============================] - 8s - loss: 0.0576 - acc: 0.9795 - val_loss: 1.4989 - val_acc: 0.5249\n",
      "Epoch 59/200\n",
      "10300/10300 [==============================] - 8s - loss: 0.0644 - acc: 0.9784 - val_loss: 1.6748 - val_acc: 0.5419\n",
      "Epoch 60/200\n",
      "10300/10300 [==============================] - 8s - loss: 0.0603 - acc: 0.9796 - val_loss: 1.6310 - val_acc: 0.5321\n",
      "Epoch 61/200\n",
      "10300/10300 [==============================] - 8s - loss: 0.0724 - acc: 0.9754 - val_loss: 1.4115 - val_acc: 0.5534\n",
      "Epoch 62/200\n",
      "10300/10300 [==============================] - 8s - loss: 0.0535 - acc: 0.9795 - val_loss: 1.4945 - val_acc: 0.5323\n",
      "Epoch 63/200\n",
      "10300/10300 [==============================] - 8s - loss: 0.0730 - acc: 0.9737 - val_loss: 1.3771 - val_acc: 0.5625\n",
      "Epoch 64/200\n"
     ]
    },
    {
     "name": "stdout",
     "output_type": "stream",
     "text": [
      "10300/10300 [==============================] - 8s - loss: 0.0640 - acc: 0.9776 - val_loss: 1.5603 - val_acc: 0.5299\n",
      "Epoch 65/200\n",
      "10300/10300 [==============================] - 8s - loss: 0.0624 - acc: 0.9784 - val_loss: 1.4725 - val_acc: 0.5403\n",
      "Epoch 66/200\n",
      "10300/10300 [==============================] - 8s - loss: 0.0561 - acc: 0.9809 - val_loss: 1.4343 - val_acc: 0.5447\n",
      "Epoch 67/200\n",
      "10300/10300 [==============================] - 7s - loss: 0.0573 - acc: 0.9791 - val_loss: 1.4054 - val_acc: 0.5584\n",
      "Epoch 68/200\n",
      "10300/10300 [==============================] - 8s - loss: 0.0528 - acc: 0.9824 - val_loss: 1.5239 - val_acc: 0.5271\n",
      "Epoch 69/200\n",
      "10300/10300 [==============================] - 8s - loss: 0.0489 - acc: 0.9829 - val_loss: 1.5702 - val_acc: 0.5260\n",
      "Epoch 70/200\n",
      "10300/10300 [==============================] - 8s - loss: 0.0686 - acc: 0.9782 - val_loss: 1.4648 - val_acc: 0.5290\n",
      "Epoch 71/200\n",
      "10300/10300 [==============================] - 7s - loss: 0.0540 - acc: 0.9815 - val_loss: 1.5825 - val_acc: 0.5490\n",
      "Epoch 72/200\n",
      "10300/10300 [==============================] - 7s - loss: 0.0593 - acc: 0.9801 - val_loss: 1.5259 - val_acc: 0.5279\n",
      "Epoch 73/200\n",
      "10300/10300 [==============================] - 8s - loss: 0.0556 - acc: 0.9804 - val_loss: 1.6641 - val_acc: 0.5296\n",
      "Epoch 74/200\n",
      "10300/10300 [==============================] - 8s - loss: 0.0567 - acc: 0.9813 - val_loss: 1.5174 - val_acc: 0.5378\n",
      "Epoch 75/200\n",
      "10300/10300 [==============================] - 8s - loss: 0.0547 - acc: 0.9824 - val_loss: 1.4831 - val_acc: 0.5474\n",
      "Epoch 76/200\n",
      "10300/10300 [==============================] - 8s - loss: 0.0576 - acc: 0.9820 - val_loss: 1.5518 - val_acc: 0.5348\n",
      "Epoch 77/200\n",
      "10300/10300 [==============================] - 7s - loss: 0.0650 - acc: 0.9788 - val_loss: 1.4765 - val_acc: 0.5285\n",
      "Epoch 78/200\n",
      "10300/10300 [==============================] - 8s - loss: 0.0469 - acc: 0.9846 - val_loss: 1.6828 - val_acc: 0.5227\n",
      "Epoch 79/200\n",
      "10300/10300 [==============================] - 8s - loss: 0.0523 - acc: 0.9832 - val_loss: 1.5675 - val_acc: 0.5384\n",
      "Epoch 80/200\n",
      "10300/10300 [==============================] - 8s - loss: 0.0530 - acc: 0.9817 - val_loss: 1.5314 - val_acc: 0.5411\n",
      "Epoch 81/200\n",
      "10300/10300 [==============================] - 8s - loss: 0.0455 - acc: 0.9848 - val_loss: 1.6088 - val_acc: 0.5195\n",
      "Epoch 82/200\n",
      "10300/10300 [==============================] - 8s - loss: 0.0533 - acc: 0.9814 - val_loss: 1.6166 - val_acc: 0.5430\n",
      "Epoch 83/200\n",
      "10300/10300 [==============================] - 8s - loss: 0.0643 - acc: 0.9788 - val_loss: 1.5660 - val_acc: 0.5266\n",
      "Epoch 84/200\n",
      "10300/10300 [==============================] - 8s - loss: 0.0508 - acc: 0.9821 - val_loss: 1.6076 - val_acc: 0.5512\n",
      "Epoch 85/200\n",
      "10300/10300 [==============================] - 8s - loss: 0.0495 - acc: 0.9829 - val_loss: 1.5554 - val_acc: 0.5485\n",
      "Epoch 86/200\n",
      "10300/10300 [==============================] - 8s - loss: 0.0533 - acc: 0.9826 - val_loss: 1.4457 - val_acc: 0.5649\n",
      "Epoch 87/200\n",
      "10300/10300 [==============================] - 8s - loss: 0.0504 - acc: 0.9831 - val_loss: 1.7651 - val_acc: 0.5277\n",
      "Epoch 88/200\n",
      "10300/10300 [==============================] - 8s - loss: 0.0541 - acc: 0.9812 - val_loss: 1.5595 - val_acc: 0.5460\n",
      "Epoch 89/200\n",
      "10300/10300 [==============================] - 8s - loss: 0.0632 - acc: 0.9783 - val_loss: 1.5057 - val_acc: 0.5490\n",
      "Epoch 90/200\n",
      "10300/10300 [==============================] - 8s - loss: 0.0441 - acc: 0.9842 - val_loss: 1.5479 - val_acc: 0.5496\n",
      "Epoch 91/200\n",
      "10300/10300 [==============================] - 8s - loss: 0.0455 - acc: 0.9855 - val_loss: 1.6009 - val_acc: 0.5605\n",
      "Epoch 92/200\n",
      "10300/10300 [==============================] - 8s - loss: 0.0606 - acc: 0.9801 - val_loss: 1.4952 - val_acc: 0.5452\n",
      "Epoch 93/200\n",
      "10300/10300 [==============================] - 8s - loss: 0.0475 - acc: 0.9833 - val_loss: 1.5831 - val_acc: 0.5247\n",
      "Epoch 94/200\n",
      "10300/10300 [==============================] - 8s - loss: 0.0534 - acc: 0.9817 - val_loss: 1.5281 - val_acc: 0.5342\n",
      "Epoch 95/200\n",
      "10300/10300 [==============================] - 8s - loss: 0.0564 - acc: 0.9818 - val_loss: 1.4352 - val_acc: 0.5589\n",
      "Epoch 96/200\n",
      "10300/10300 [==============================] - 8s - loss: 0.0487 - acc: 0.9841 - val_loss: 1.5694 - val_acc: 0.5397\n",
      "Epoch 97/200\n",
      "10300/10300 [==============================] - 8s - loss: 0.0419 - acc: 0.9852 - val_loss: 1.4849 - val_acc: 0.5378\n",
      "Epoch 98/200\n",
      "10300/10300 [==============================] - 8s - loss: 0.0540 - acc: 0.9819 - val_loss: 1.4291 - val_acc: 0.5611\n",
      "Epoch 99/200\n",
      "10300/10300 [==============================] - 8s - loss: 0.0498 - acc: 0.9835 - val_loss: 1.4982 - val_acc: 0.5285\n",
      "Epoch 100/200\n",
      "10300/10300 [==============================] - 8s - loss: 0.0437 - acc: 0.9850 - val_loss: 1.5518 - val_acc: 0.5389\n",
      "Epoch 101/200\n",
      "10300/10300 [==============================] - 8s - loss: 0.0443 - acc: 0.9861 - val_loss: 1.5560 - val_acc: 0.5299\n",
      "Epoch 102/200\n",
      "10300/10300 [==============================] - 8s - loss: 0.0476 - acc: 0.9851 - val_loss: 1.5623 - val_acc: 0.5107\n",
      "Epoch 103/200\n",
      "10300/10300 [==============================] - 8s - loss: 0.0479 - acc: 0.9829 - val_loss: 1.6409 - val_acc: 0.5312\n",
      "Epoch 104/200\n",
      "10300/10300 [==============================] - 8s - loss: 0.0459 - acc: 0.9861 - val_loss: 1.5558 - val_acc: 0.5564\n",
      "Epoch 105/200\n",
      "10300/10300 [==============================] - 8s - loss: 0.0434 - acc: 0.9851 - val_loss: 1.6704 - val_acc: 0.5296\n",
      "Epoch 106/200\n",
      "10300/10300 [==============================] - 8s - loss: 0.0367 - acc: 0.9877 - val_loss: 1.6882 - val_acc: 0.5244\n",
      "Epoch 107/200\n",
      "10300/10300 [==============================] - 8s - loss: 0.0521 - acc: 0.9838 - val_loss: 1.6613 - val_acc: 0.5014\n",
      "Epoch 108/200\n",
      "10300/10300 [==============================] - 8s - loss: 0.0498 - acc: 0.9834 - val_loss: 1.6421 - val_acc: 0.5323\n",
      "Epoch 109/200\n",
      "10300/10300 [==============================] - 8s - loss: 0.0452 - acc: 0.9850 - val_loss: 1.5863 - val_acc: 0.5288\n",
      "Epoch 110/200\n",
      "10300/10300 [==============================] - 8s - loss: 0.0502 - acc: 0.9835 - val_loss: 1.4858 - val_acc: 0.5359\n",
      "Epoch 111/200\n",
      "10300/10300 [==============================] - 8s - loss: 0.0420 - acc: 0.9840 - val_loss: 1.5210 - val_acc: 0.5332\n",
      "Epoch 112/200\n",
      "10300/10300 [==============================] - 8s - loss: 0.0443 - acc: 0.9856 - val_loss: 1.5768 - val_acc: 0.5419\n",
      "Epoch 113/200\n",
      "10300/10300 [==============================] - 8s - loss: 0.0430 - acc: 0.9848 - val_loss: 1.3773 - val_acc: 0.5537\n",
      "Epoch 114/200\n",
      "10300/10300 [==============================] - 8s - loss: 0.0526 - acc: 0.9824 - val_loss: 1.4371 - val_acc: 0.5463\n",
      "Epoch 115/200\n",
      "10300/10300 [==============================] - 8s - loss: 0.0500 - acc: 0.9827 - val_loss: 1.4958 - val_acc: 0.5488\n",
      "Epoch 116/200\n",
      "10300/10300 [==============================] - 8s - loss: 0.0379 - acc: 0.9869 - val_loss: 1.5545 - val_acc: 0.5521\n",
      "Epoch 117/200\n",
      "10300/10300 [==============================] - 8s - loss: 0.0476 - acc: 0.9830 - val_loss: 1.4941 - val_acc: 0.5414\n",
      "Epoch 118/200\n",
      "10300/10300 [==============================] - 8s - loss: 0.0436 - acc: 0.9867 - val_loss: 1.5649 - val_acc: 0.5468\n",
      "Epoch 119/200\n",
      "10300/10300 [==============================] - 8s - loss: 0.0435 - acc: 0.9848 - val_loss: 1.6723 - val_acc: 0.5337\n",
      "Epoch 120/200\n",
      "10300/10300 [==============================] - 8s - loss: 0.0411 - acc: 0.9862 - val_loss: 1.4986 - val_acc: 0.5353\n",
      "Epoch 121/200\n",
      "10300/10300 [==============================] - 8s - loss: 0.0446 - acc: 0.9850 - val_loss: 1.6342 - val_acc: 0.5296\n",
      "Epoch 122/200\n",
      "10300/10300 [==============================] - 8s - loss: 0.0418 - acc: 0.9848 - val_loss: 1.6878 - val_acc: 0.5085\n",
      "Epoch 123/200\n",
      "10300/10300 [==============================] - 8s - loss: 0.0464 - acc: 0.9834 - val_loss: 1.4253 - val_acc: 0.5512\n",
      "Epoch 124/200\n",
      "10300/10300 [==============================] - 8s - loss: 0.0394 - acc: 0.9860 - val_loss: 1.5084 - val_acc: 0.5416\n",
      "Epoch 125/200\n",
      "10300/10300 [==============================] - 8s - loss: 0.0338 - acc: 0.9898 - val_loss: 1.6241 - val_acc: 0.5403\n",
      "Epoch 126/200\n",
      "10300/10300 [==============================] - 8s - loss: 0.0436 - acc: 0.9863 - val_loss: 1.5921 - val_acc: 0.5485\n",
      "Epoch 127/200\n"
     ]
    },
    {
     "name": "stdout",
     "output_type": "stream",
     "text": [
      "10300/10300 [==============================] - 8s - loss: 0.0553 - acc: 0.9825 - val_loss: 1.6365 - val_acc: 0.5274\n",
      "Epoch 128/200\n",
      "10300/10300 [==============================] - 8s - loss: 0.0484 - acc: 0.9850 - val_loss: 1.6036 - val_acc: 0.5186\n",
      "Epoch 129/200\n",
      "10300/10300 [==============================] - 8s - loss: 0.0519 - acc: 0.9839 - val_loss: 1.4804 - val_acc: 0.5389\n",
      "Epoch 130/200\n",
      "10300/10300 [==============================] - 8s - loss: 0.0392 - acc: 0.9864 - val_loss: 1.4723 - val_acc: 0.5321\n",
      "Epoch 131/200\n",
      "10300/10300 [==============================] - 7s - loss: 0.0321 - acc: 0.9901 - val_loss: 1.5541 - val_acc: 0.5318\n",
      "Epoch 132/200\n",
      "10300/10300 [==============================] - 8s - loss: 0.0360 - acc: 0.9876 - val_loss: 1.5139 - val_acc: 0.5203\n",
      "Epoch 133/200\n",
      "10300/10300 [==============================] - 8s - loss: 0.0486 - acc: 0.9849 - val_loss: 1.5391 - val_acc: 0.5238\n",
      "Epoch 134/200\n",
      "10300/10300 [==============================] - 8s - loss: 0.0381 - acc: 0.9876 - val_loss: 1.5993 - val_acc: 0.5118\n",
      "Epoch 135/200\n",
      "10300/10300 [==============================] - 8s - loss: 0.0412 - acc: 0.9861 - val_loss: 1.5499 - val_acc: 0.5274\n",
      "Epoch 136/200\n",
      "10300/10300 [==============================] - 8s - loss: 0.0543 - acc: 0.9830 - val_loss: 1.5940 - val_acc: 0.5205\n",
      "Epoch 137/200\n",
      "10300/10300 [==============================] - 8s - loss: 0.0435 - acc: 0.9852 - val_loss: 1.4880 - val_acc: 0.5688\n",
      "Epoch 138/200\n",
      "10300/10300 [==============================] - 8s - loss: 0.0379 - acc: 0.9891 - val_loss: 1.5462 - val_acc: 0.5548\n",
      "Epoch 139/200\n",
      "10300/10300 [==============================] - 8s - loss: 0.0456 - acc: 0.9869 - val_loss: 1.5178 - val_acc: 0.5447\n",
      "Epoch 140/200\n",
      "10300/10300 [==============================] - 8s - loss: 0.0399 - acc: 0.9871 - val_loss: 1.4834 - val_acc: 0.5474\n",
      "Epoch 141/200\n",
      "10300/10300 [==============================] - 8s - loss: 0.0463 - acc: 0.9845 - val_loss: 1.3881 - val_acc: 0.5362\n",
      "Epoch 142/200\n",
      "10300/10300 [==============================] - 8s - loss: 0.0431 - acc: 0.9859 - val_loss: 1.6144 - val_acc: 0.5342\n",
      "Epoch 143/200\n",
      "10300/10300 [==============================] - 8s - loss: 0.0453 - acc: 0.9853 - val_loss: 1.4276 - val_acc: 0.5438\n",
      "Epoch 144/200\n",
      "10300/10300 [==============================] - 8s - loss: 0.0404 - acc: 0.9861 - val_loss: 1.5974 - val_acc: 0.5181\n",
      "Epoch 145/200\n",
      "10300/10300 [==============================] - 8s - loss: 0.0504 - acc: 0.9833 - val_loss: 1.5197 - val_acc: 0.5364\n",
      "Epoch 146/200\n",
      "10300/10300 [==============================] - 8s - loss: 0.0365 - acc: 0.9878 - val_loss: 1.5114 - val_acc: 0.5238\n",
      "Epoch 147/200\n",
      "10300/10300 [==============================] - 8s - loss: 0.0362 - acc: 0.9889 - val_loss: 1.6136 - val_acc: 0.5307\n",
      "Epoch 148/200\n",
      "10300/10300 [==============================] - 8s - loss: 0.0357 - acc: 0.9883 - val_loss: 1.5963 - val_acc: 0.5584\n",
      "Epoch 149/200\n",
      "10300/10300 [==============================] - 8s - loss: 0.0584 - acc: 0.9817 - val_loss: 1.5756 - val_acc: 0.5266\n",
      "Epoch 150/200\n",
      "10300/10300 [==============================] - 8s - loss: 0.0489 - acc: 0.9844 - val_loss: 1.4870 - val_acc: 0.5290\n",
      "Epoch 151/200\n",
      "10300/10300 [==============================] - 8s - loss: 0.0393 - acc: 0.9887 - val_loss: 1.6170 - val_acc: 0.5321\n",
      "Epoch 152/200\n",
      "10300/10300 [==============================] - 8s - loss: 0.0390 - acc: 0.9879 - val_loss: 1.5771 - val_acc: 0.5290\n",
      "Epoch 153/200\n",
      "10300/10300 [==============================] - 8s - loss: 0.0305 - acc: 0.9888 - val_loss: 1.5474 - val_acc: 0.5515\n",
      "Epoch 154/200\n",
      "10300/10300 [==============================] - 8s - loss: 0.0413 - acc: 0.9865 - val_loss: 1.6151 - val_acc: 0.5340\n",
      "Epoch 155/200\n",
      "10300/10300 [==============================] - 8s - loss: 0.0466 - acc: 0.9847 - val_loss: 1.4867 - val_acc: 0.5447\n",
      "Epoch 156/200\n",
      "10300/10300 [==============================] - 8s - loss: 0.0386 - acc: 0.9867 - val_loss: 1.5025 - val_acc: 0.5611\n",
      "Epoch 157/200\n",
      "10300/10300 [==============================] - 8s - loss: 0.0459 - acc: 0.9848 - val_loss: 1.4860 - val_acc: 0.5268\n",
      "Epoch 158/200\n",
      "10300/10300 [==============================] - 8s - loss: 0.0438 - acc: 0.9851 - val_loss: 1.5853 - val_acc: 0.5416\n",
      "Epoch 159/200\n",
      "10300/10300 [==============================] - 8s - loss: 0.0360 - acc: 0.9873 - val_loss: 1.4580 - val_acc: 0.5419\n",
      "Epoch 160/200\n",
      "10300/10300 [==============================] - 8s - loss: 0.0431 - acc: 0.9845 - val_loss: 1.5438 - val_acc: 0.5444\n",
      "Epoch 161/200\n",
      "10300/10300 [==============================] - 8s - loss: 0.0416 - acc: 0.9849 - val_loss: 1.4368 - val_acc: 0.5490\n",
      "Epoch 162/200\n",
      "10300/10300 [==============================] - 8s - loss: 0.0373 - acc: 0.9887 - val_loss: 1.5984 - val_acc: 0.5403\n",
      "Epoch 163/200\n",
      "10300/10300 [==============================] - 8s - loss: 0.0377 - acc: 0.9874 - val_loss: 1.5553 - val_acc: 0.5397\n",
      "Epoch 164/200\n",
      "10300/10300 [==============================] - 8s - loss: 0.0415 - acc: 0.9853 - val_loss: 1.5285 - val_acc: 0.5471\n",
      "Epoch 165/200\n",
      "10300/10300 [==============================] - 8s - loss: 0.0328 - acc: 0.9889 - val_loss: 1.6804 - val_acc: 0.5200\n",
      "Epoch 166/200\n",
      "10300/10300 [==============================] - 8s - loss: 0.0489 - acc: 0.9858 - val_loss: 1.5758 - val_acc: 0.5197\n",
      "Epoch 167/200\n",
      "10300/10300 [==============================] - 8s - loss: 0.0331 - acc: 0.9889 - val_loss: 1.5436 - val_acc: 0.5540\n",
      "Epoch 168/200\n",
      "10300/10300 [==============================] - 8s - loss: 0.0387 - acc: 0.9880 - val_loss: 1.6365 - val_acc: 0.5345\n",
      "Epoch 169/200\n",
      "10300/10300 [==============================] - 8s - loss: 0.0337 - acc: 0.9888 - val_loss: 1.5119 - val_acc: 0.5603\n",
      "Epoch 170/200\n",
      "10300/10300 [==============================] - 8s - loss: 0.0388 - acc: 0.9867 - val_loss: 1.6078 - val_acc: 0.5225\n",
      "Epoch 171/200\n",
      "10300/10300 [==============================] - 8s - loss: 0.0453 - acc: 0.9851 - val_loss: 1.3585 - val_acc: 0.5545\n",
      "Epoch 172/200\n",
      "10300/10300 [==============================] - 8s - loss: 0.0358 - acc: 0.9873 - val_loss: 1.3477 - val_acc: 0.5742\n",
      "Epoch 173/200\n",
      "10300/10300 [==============================] - 8s - loss: 0.0353 - acc: 0.9879 - val_loss: 1.5047 - val_acc: 0.5249\n",
      "Epoch 174/200\n",
      "10300/10300 [==============================] - 8s - loss: 0.0374 - acc: 0.9879 - val_loss: 1.5029 - val_acc: 0.5405\n",
      "Epoch 175/200\n",
      "10300/10300 [==============================] - 8s - loss: 0.0454 - acc: 0.9856 - val_loss: 1.3798 - val_acc: 0.5562\n",
      "Epoch 176/200\n",
      "10300/10300 [==============================] - 8s - loss: 0.0347 - acc: 0.9885 - val_loss: 1.4916 - val_acc: 0.5447\n",
      "Epoch 177/200\n",
      "10300/10300 [==============================] - 8s - loss: 0.0245 - acc: 0.9922 - val_loss: 1.5272 - val_acc: 0.5512\n",
      "Epoch 178/200\n",
      "10300/10300 [==============================] - 8s - loss: 0.0322 - acc: 0.9893 - val_loss: 1.4251 - val_acc: 0.5718\n",
      "Epoch 179/200\n",
      "10300/10300 [==============================] - 8s - loss: 0.0445 - acc: 0.9853 - val_loss: 1.6252 - val_acc: 0.5312\n",
      "Epoch 180/200\n",
      "10300/10300 [==============================] - 8s - loss: 0.0435 - acc: 0.9859 - val_loss: 1.4673 - val_acc: 0.5340\n",
      "Epoch 181/200\n",
      "10300/10300 [==============================] - 8s - loss: 0.0446 - acc: 0.9861 - val_loss: 1.4303 - val_acc: 0.5400\n",
      "Epoch 182/200\n",
      "10300/10300 [==============================] - 8s - loss: 0.0447 - acc: 0.9866 - val_loss: 1.4589 - val_acc: 0.5288\n",
      "Epoch 183/200\n",
      "10300/10300 [==============================] - 8s - loss: 0.0384 - acc: 0.9873 - val_loss: 1.4649 - val_acc: 0.5504\n",
      "Epoch 184/200\n",
      "10300/10300 [==============================] - 8s - loss: 0.0407 - acc: 0.9874 - val_loss: 1.5861 - val_acc: 0.5197\n",
      "Epoch 185/200\n",
      "10300/10300 [==============================] - 8s - loss: 0.0419 - acc: 0.9872 - val_loss: 1.5478 - val_acc: 0.5310\n",
      "Epoch 186/200\n",
      "10300/10300 [==============================] - 8s - loss: 0.0298 - acc: 0.9885 - val_loss: 1.5275 - val_acc: 0.5238\n",
      "Epoch 187/200\n",
      "10300/10300 [==============================] - 8s - loss: 0.0308 - acc: 0.9899 - val_loss: 1.5780 - val_acc: 0.5266\n",
      "Epoch 188/200\n",
      "10300/10300 [==============================] - 8s - loss: 0.0312 - acc: 0.9898 - val_loss: 1.5626 - val_acc: 0.5307\n",
      "Epoch 189/200\n",
      "10300/10300 [==============================] - 8s - loss: 0.0324 - acc: 0.9879 - val_loss: 1.5550 - val_acc: 0.5468\n",
      "Epoch 190/200\n"
     ]
    },
    {
     "name": "stdout",
     "output_type": "stream",
     "text": [
      "10300/10300 [==============================] - 8s - loss: 0.0500 - acc: 0.9860 - val_loss: 1.4891 - val_acc: 0.5167\n",
      "Epoch 191/200\n",
      "10300/10300 [==============================] - 7s - loss: 0.0397 - acc: 0.9866 - val_loss: 1.4710 - val_acc: 0.5241\n",
      "Epoch 192/200\n",
      "10300/10300 [==============================] - 8s - loss: 0.0452 - acc: 0.9869 - val_loss: 1.5482 - val_acc: 0.5488\n",
      "Epoch 193/200\n",
      "10300/10300 [==============================] - 8s - loss: 0.0355 - acc: 0.9883 - val_loss: 1.4537 - val_acc: 0.5605\n",
      "Epoch 194/200\n",
      "10300/10300 [==============================] - 8s - loss: 0.0332 - acc: 0.9889 - val_loss: 1.4960 - val_acc: 0.5493\n",
      "Epoch 195/200\n",
      "10300/10300 [==============================] - 8s - loss: 0.0450 - acc: 0.9850 - val_loss: 1.5782 - val_acc: 0.5345\n",
      "Epoch 196/200\n",
      "10300/10300 [==============================] - 8s - loss: 0.0412 - acc: 0.9883 - val_loss: 1.5169 - val_acc: 0.5318\n",
      "Epoch 197/200\n",
      "10300/10300 [==============================] - 8s - loss: 0.0403 - acc: 0.9864 - val_loss: 1.6017 - val_acc: 0.5323\n",
      "Epoch 198/200\n",
      "10300/10300 [==============================] - 8s - loss: 0.0426 - acc: 0.9871 - val_loss: 1.4467 - val_acc: 0.5323\n",
      "Epoch 199/200\n",
      "10300/10300 [==============================] - 8s - loss: 0.0310 - acc: 0.9902 - val_loss: 1.5923 - val_acc: 0.5468\n",
      "Epoch 200/200\n",
      "10300/10300 [==============================] - 8s - loss: 0.0311 - acc: 0.9903 - val_loss: 1.4742 - val_acc: 0.5600\n"
     ]
    }
   ],
   "source": [
    "hist = model.fit(X_train, Y_train, batch_size=32, epochs=200, validation_data=(X_val, Y_val)) #callbacks=[early_stopping]"
   ]
  },
  {
   "cell_type": "markdown",
   "metadata": {},
   "source": [
    "def train_generator(X, Y):\n",
    "    while True:\n",
    "        for i in range(len(X)):\n",
    "            yield np.expand_dims(X[i], axis=0), np.expand_dims(Y[i], axis=0)"
   ]
  },
  {
   "cell_type": "markdown",
   "metadata": {},
   "source": [
    "num_epochs = 10\n",
    "epoch_length = 100\n",
    "best_loss = np.Inf\n",
    "losses = np.zeros(epoch_length)\n",
    "acc = np.zeros(epoch_length)\n",
    "\n",
    "data_gen_train = train_generator(X_train, Y_train)\n",
    "for epoch_num in range(num_epochs):\n",
    "    print('Epoch {}/{}'.format(epoch_num + 1, num_epochs))\n",
    "    iter_num = 0\n",
    "    \n",
    "    while True:\n",
    "        X, Y = next(data_gen_train)\n",
    "        losses[iter_num], acc[iter_num] = model.train_on_batch(X, Y)\n",
    "\n",
    "        iter_num += 1\n",
    "        if iter_num == epoch_length:\n",
    "            curr_loss = np.mean(losses)\n",
    "            curr_acc = np.mean(acc)\n",
    "            print(\"Mean Loss:\", curr_loss, \"// Mean Accuracy:\", curr_acc)\n",
    "\n",
    "            if curr_loss < best_loss:\n",
    "                print('Total loss decreased from {} to {}, saving weights'.format(best_loss,curr_loss))\n",
    "                best_loss = curr_loss\n",
    "                model.save_weights(C.model_path)\n",
    "            break"
   ]
  },
  {
   "cell_type": "code",
   "execution_count": 122,
   "metadata": {},
   "outputs": [],
   "source": [
    "# TODO: modify to handle padding going out of bounds\n",
    "def plot_with_bbox(fn, wrong_class, pad=15, draw_bbox=False, save_dir=None):\n",
    "    voi_df = pd.read_csv('vois.csv')\n",
    "    z = re.search(r'^(.*)_(\\d*)\\.', fn)\n",
    "    \n",
    "    img_fn = z.group(1) + \".npy\"\n",
    "    df = voi_df[voi_df[\"Filename\"] == img_fn].iloc[int(z.group(2))]\n",
    "    \n",
    "    img = np.load(\"full_imgs\\\\\"+img_fn)\n",
    "    #if\n",
    "    slice_num = (df['z1']+df['z2'])//2\n",
    "    img_slice = img[:,:, slice_num, 0]\n",
    "    img_slice = np.stack([img_slice, copy.deepcopy(img_slice), copy.deepcopy(img_slice)], axis=2)\n",
    "    \n",
    "    if draw_bbox:\n",
    "        img_slice[df['x1']:df['x2'], df['y2'], 0] = 1\n",
    "        img_slice[df['x1']:df['x2'], df['y2'], 1:] = 0\n",
    "        \n",
    "        img_slice[df['x1']:df['x2'], df['y1'], 0] = 1\n",
    "        img_slice[df['x1']:df['x2'], df['y1'], 1:] = 0\n",
    "        \n",
    "        img_slice[df['x1'], df['y1']:df['y2'], 0] = 1\n",
    "        img_slice[df['x1'], df['y1']:df['y2'], 1:] = 0\n",
    "        \n",
    "        img_slice[df['x2'], df['y1']:df['y2'], 0] = 1\n",
    "        img_slice[df['x2'], df['y1']:df['y2'], 1:] = 0\n",
    "        \n",
    "    if save_dir is None:\n",
    "        plot_section(img_slice, df, fn, pad=pad)\n",
    "    else:\n",
    "        plot_section(img_slice, df, fn, save_dir=save_dir+\"\\\\\"+df['cls'], wrong_class=wrong_class, pad=pad, noshow=True)"
   ]
  },
  {
   "cell_type": "code",
   "execution_count": 123,
   "metadata": {
    "collapsed": true
   },
   "outputs": [],
   "source": [
    "def get_cropped_slice(img_slice, df, pad):\n",
    "    x1 = max(df['x1']-pad, 0)\n",
    "    x2 = min(df['x2']+pad, img_slice.shape[0])\n",
    "    y1 = max(df['y1']-pad, 0)\n",
    "    y2 = min(df['y2']+pad, img_slice.shape[1])\n",
    "    \n",
    "    return img_slice[x1:x2, y2:y1:-1]"
   ]
  },
  {
   "cell_type": "code",
   "execution_count": 124,
   "metadata": {
    "collapsed": true
   },
   "outputs": [],
   "source": [
    "def plot_section(img_slice, row, fn, save_dir=None, wrong_class=None, pad=15, noshow=False):\n",
    "    #plt.subplot(121)\n",
    "    if noshow:\n",
    "        ret = np.transpose(get_cropped_slice(img_slice, row, pad), (1,0,2))\n",
    "        if not os.path.exists(save_dir):\n",
    "            os.makedirs(save_dir)\n",
    "        imsave(\"%s\\\\%s (pred %s).png\" % (save_dir, fn[:-3], wrong_class), ret)\n",
    "        \n",
    "    else:\n",
    "        ret = np.transpose(get_cropped_slice(img_slice[:,:,0], row, pad), (1,0))\n",
    "        plt.imshow(ret, cmap='gray')\n",
    "    #plt.subplot(122)"
   ]
  },
  {
   "cell_type": "code",
   "execution_count": 125,
   "metadata": {
    "scrolled": true
   },
   "outputs": [],
   "source": [
    "#plot_with_bbox(fn_list[2], cls_mapping[wrong_guesses[2]])\n",
    "Y_pred = model.predict(X_test)\n",
    "y_true = [max(enumerate(x), key=operator.itemgetter(1))[0] for x in Y_test]\n",
    "y_pred = [max(enumerate(x), key=operator.itemgetter(1))[0] for x in Y_pred]\n",
    "\n",
    "cm = confusion_matrix(y_true, y_pred)\n",
    "f1 = f1_score(y_true, y_pred, average=\"weighted\")\n",
    "\n",
    "save_dir = \"classified_imgs\"\n",
    "if not os.path.exists(save_dir):\n",
    "    os.makedirs(save_dir)\n",
    "    \n",
    "#for i in range(len(Z_test)):\n",
    "#    plot_with_bbox(Z_test[i], cls_mapping[np.array(y_pred)[i]], pad=30, draw_bbox=True, save_dir=save_dir)"
   ]
  },
  {
   "cell_type": "code",
   "execution_count": 56,
   "metadata": {},
   "outputs": [],
   "source": [
    "Y_pred = model.predict(X_test)\n",
    "y_true = [max(enumerate(x), key=operator.itemgetter(1))[0] for x in Y_test]\n",
    "y_pred = [max(enumerate(x), key=operator.itemgetter(1))[0] for x in Y_pred]\n",
    "cm = confusion_matrix(y_true, y_pred)\n",
    "f1 = f1_score(y_true, y_pred, average=\"weighted\")"
   ]
  },
  {
   "cell_type": "code",
   "execution_count": 126,
   "metadata": {},
   "outputs": [
    {
     "data": {
      "text/plain": [
       "array([[ 8,  1,  2,  1],\n",
       "       [ 1, 14,  1,  2],\n",
       "       [ 1,  4,  7,  1],\n",
       "       [ 5,  1,  2,  6]], dtype=int64)"
      ]
     },
     "execution_count": 126,
     "metadata": {},
     "output_type": "execute_result"
    }
   ],
   "source": [
    "cm"
   ]
  },
  {
   "cell_type": "code",
   "execution_count": 44,
   "metadata": {
    "scrolled": true
   },
   "outputs": [],
   "source": [
    "Y_pred = model.predict(X_train_orig)\n",
    "y_true = [max(enumerate(x), key=operator.itemgetter(1))[0] for x in Y_train_orig]\n",
    "y_pred = [max(enumerate(x), key=operator.itemgetter(1))[0] for x in Y_pred]\n",
    "\n",
    "cm = confusion_matrix(y_true, y_pred)\n",
    "f1 = f1_score(y_true, y_pred, average=\"weighted\")\n",
    "\n",
    "#for i in range(len(Z_train_orig)):\n",
    "#    plot_with_bbox(Z_train_orig[i], cls_mapping[np.array(y_pred)[i]], pad=30, draw_bbox=True, save_dir=save_dir)"
   ]
  },
  {
   "cell_type": "code",
   "execution_count": null,
   "metadata": {
    "collapsed": true
   },
   "outputs": [],
   "source": []
  },
  {
   "cell_type": "code",
   "execution_count": 365,
   "metadata": {
    "collapsed": true
   },
   "outputs": [],
   "source": [
    "fn_list = Z_test[~np.equal(y_pred, y_true)]\n",
    "wrong_guesses = np.array(y_pred)[~np.equal(y_pred, y_true)]"
   ]
  },
  {
   "cell_type": "code",
   "execution_count": 409,
   "metadata": {
    "scrolled": false
   },
   "outputs": [
    {
     "data": {
      "text/plain": [
       "array(['E100815762_0.npy', '12239513_0.npy', '12042703_2.npy'],\n",
       "      dtype='<U16')"
      ]
     },
     "execution_count": 409,
     "metadata": {},
     "output_type": "execute_result"
    }
   ],
   "source": [
    "Z_test[~np.equal(y_pred, y_true)]"
   ]
  },
  {
   "cell_type": "code",
   "execution_count": 380,
   "metadata": {
    "scrolled": true
   },
   "outputs": [
    {
     "data": {
      "text/plain": [
       "array(['E105152534_0.npy', '13166464_0.npy', '12789019_1.npy',\n",
       "       'E103514998_0.npy', 'E104430882_0.npy', '13064153_0.npy',\n",
       "       '12857716_0.npy', '13064153_1.npy', 'E100718398_0.npy',\n",
       "       'E101636006_0.npy', 'E105464882_0.npy', '12239513_0.npy',\n",
       "       '12229245_0.npy', '12302576_2.npy', '12302576_0.npy'],\n",
       "      dtype='<U16')"
      ]
     },
     "execution_count": 380,
     "metadata": {},
     "output_type": "execute_result"
    }
   ],
   "source": [
    "Z_test"
   ]
  },
  {
   "cell_type": "code",
   "execution_count": null,
   "metadata": {
    "collapsed": true
   },
   "outputs": [],
   "source": []
  },
  {
   "cell_type": "code",
   "execution_count": 443,
   "metadata": {
    "scrolled": true
   },
   "outputs": [
    {
     "ename": "ValueError",
     "evalue": "axes don't match array",
     "output_type": "error",
     "traceback": [
      "\u001b[1;31m---------------------------------------------------------------------------\u001b[0m",
      "\u001b[1;31mValueError\u001b[0m                                Traceback (most recent call last)",
      "\u001b[1;32m<ipython-input-443-692c48a9ccf8>\u001b[0m in \u001b[0;36m<module>\u001b[1;34m()\u001b[0m\n\u001b[0;32m      3\u001b[0m \u001b[0mimg_fn\u001b[0m \u001b[1;33m=\u001b[0m \u001b[1;34m\"E100262351.npy\"\u001b[0m\u001b[1;33m\u001b[0m\u001b[0m\n\u001b[0;32m      4\u001b[0m \u001b[0mimg\u001b[0m \u001b[1;33m=\u001b[0m \u001b[0mnp\u001b[0m\u001b[1;33m.\u001b[0m\u001b[0mload\u001b[0m\u001b[1;33m(\u001b[0m\u001b[1;34m\"full_imgs\\\\\"\u001b[0m\u001b[1;33m+\u001b[0m\u001b[0mimg_fn\u001b[0m\u001b[1;33m)\u001b[0m\u001b[1;33m\u001b[0m\u001b[0m\n\u001b[1;32m----> 5\u001b[1;33m \u001b[0mplot_section\u001b[0m\u001b[1;33m(\u001b[0m\u001b[0mimg\u001b[0m\u001b[1;33m,\u001b[0m \u001b[0mvoi_df\u001b[0m\u001b[1;33m[\u001b[0m\u001b[0mvoi_df\u001b[0m\u001b[1;33m[\u001b[0m\u001b[1;34m\"Filename\"\u001b[0m\u001b[1;33m]\u001b[0m \u001b[1;33m==\u001b[0m \u001b[0mimg_fn\u001b[0m\u001b[1;33m]\u001b[0m\u001b[1;33m.\u001b[0m\u001b[0miloc\u001b[0m\u001b[1;33m[\u001b[0m\u001b[1;36m0\u001b[0m\u001b[1;33m]\u001b[0m\u001b[1;33m,\u001b[0m \u001b[0mpad\u001b[0m\u001b[1;33m=\u001b[0m\u001b[1;36m5\u001b[0m\u001b[1;33m)\u001b[0m\u001b[1;33m\u001b[0m\u001b[0m\n\u001b[0m",
      "\u001b[1;32m<ipython-input-442-ff38a8a43c80>\u001b[0m in \u001b[0;36mplot_section\u001b[1;34m(img_slice, df, save_dir, wrong_class, pad, noshow)\u001b[0m\n\u001b[0;32m      9\u001b[0m     \u001b[1;32melse\u001b[0m\u001b[1;33m:\u001b[0m\u001b[1;33m\u001b[0m\u001b[0m\n\u001b[0;32m     10\u001b[0m         ret = np.transpose(img_slice[df['x1']-pad:df['x2']+pad,\n\u001b[1;32m---> 11\u001b[1;33m                             df['y2']+pad:df['y1']-pad:-1, 0], (1,0))\n\u001b[0m\u001b[0;32m     12\u001b[0m         \u001b[0mplt\u001b[0m\u001b[1;33m.\u001b[0m\u001b[0mimshow\u001b[0m\u001b[1;33m(\u001b[0m\u001b[0mret\u001b[0m\u001b[1;33m,\u001b[0m \u001b[0mcmap\u001b[0m\u001b[1;33m=\u001b[0m\u001b[1;34m'gray'\u001b[0m\u001b[1;33m)\u001b[0m\u001b[1;33m\u001b[0m\u001b[0m\n\u001b[0;32m     13\u001b[0m     \u001b[1;31m#plt.subplot(122)\u001b[0m\u001b[1;33m\u001b[0m\u001b[1;33m\u001b[0m\u001b[0m\n",
      "\u001b[1;32m~\\AppData\\Local\\conda\\conda\\envs\\old-keras\\lib\\site-packages\\numpy\\core\\fromnumeric.py\u001b[0m in \u001b[0;36mtranspose\u001b[1;34m(a, axes)\u001b[0m\n\u001b[0;32m    548\u001b[0m \u001b[1;33m\u001b[0m\u001b[0m\n\u001b[0;32m    549\u001b[0m     \"\"\"\n\u001b[1;32m--> 550\u001b[1;33m     \u001b[1;32mreturn\u001b[0m \u001b[0m_wrapfunc\u001b[0m\u001b[1;33m(\u001b[0m\u001b[0ma\u001b[0m\u001b[1;33m,\u001b[0m \u001b[1;34m'transpose'\u001b[0m\u001b[1;33m,\u001b[0m \u001b[0maxes\u001b[0m\u001b[1;33m)\u001b[0m\u001b[1;33m\u001b[0m\u001b[0m\n\u001b[0m\u001b[0;32m    551\u001b[0m \u001b[1;33m\u001b[0m\u001b[0m\n\u001b[0;32m    552\u001b[0m \u001b[1;33m\u001b[0m\u001b[0m\n",
      "\u001b[1;32m~\\AppData\\Local\\conda\\conda\\envs\\old-keras\\lib\\site-packages\\numpy\\core\\fromnumeric.py\u001b[0m in \u001b[0;36m_wrapfunc\u001b[1;34m(obj, method, *args, **kwds)\u001b[0m\n\u001b[0;32m     55\u001b[0m \u001b[1;32mdef\u001b[0m \u001b[0m_wrapfunc\u001b[0m\u001b[1;33m(\u001b[0m\u001b[0mobj\u001b[0m\u001b[1;33m,\u001b[0m \u001b[0mmethod\u001b[0m\u001b[1;33m,\u001b[0m \u001b[1;33m*\u001b[0m\u001b[0margs\u001b[0m\u001b[1;33m,\u001b[0m \u001b[1;33m**\u001b[0m\u001b[0mkwds\u001b[0m\u001b[1;33m)\u001b[0m\u001b[1;33m:\u001b[0m\u001b[1;33m\u001b[0m\u001b[0m\n\u001b[0;32m     56\u001b[0m     \u001b[1;32mtry\u001b[0m\u001b[1;33m:\u001b[0m\u001b[1;33m\u001b[0m\u001b[0m\n\u001b[1;32m---> 57\u001b[1;33m         \u001b[1;32mreturn\u001b[0m \u001b[0mgetattr\u001b[0m\u001b[1;33m(\u001b[0m\u001b[0mobj\u001b[0m\u001b[1;33m,\u001b[0m \u001b[0mmethod\u001b[0m\u001b[1;33m)\u001b[0m\u001b[1;33m(\u001b[0m\u001b[1;33m*\u001b[0m\u001b[0margs\u001b[0m\u001b[1;33m,\u001b[0m \u001b[1;33m**\u001b[0m\u001b[0mkwds\u001b[0m\u001b[1;33m)\u001b[0m\u001b[1;33m\u001b[0m\u001b[0m\n\u001b[0m\u001b[0;32m     58\u001b[0m \u001b[1;33m\u001b[0m\u001b[0m\n\u001b[0;32m     59\u001b[0m     \u001b[1;31m# An AttributeError occurs if the object does not have\u001b[0m\u001b[1;33m\u001b[0m\u001b[1;33m\u001b[0m\u001b[0m\n",
      "\u001b[1;31mValueError\u001b[0m: axes don't match array"
     ]
    }
   ],
   "source": [
    "voi_df = pd.read_csv('vois.csv')\n",
    "img_fn = \"E100262351.npy\"\n",
    "img = np.load(\"full_imgs\\\\\"+img_fn)\n",
    "plot_section(img, voi_df[voi_df[\"Filename\"] == img_fn].iloc[0], pad=5)"
   ]
  },
  {
   "cell_type": "code",
   "execution_count": 159,
   "metadata": {
    "collapsed": true
   },
   "outputs": [],
   "source": [
    "activ = model2.predict(X_train)\n",
    "#activ = model2.predict(np.expand_dims(X_train[10],axis=0))"
   ]
  },
  {
   "cell_type": "code",
   "execution_count": 166,
   "metadata": {
    "scrolled": true
   },
   "outputs": [
    {
     "data": {
      "text/plain": [
       "<matplotlib.image.AxesImage at 0x1c8e3907550>"
      ]
     },
     "execution_count": 166,
     "metadata": {},
     "output_type": "execute_result"
    },
    {
     "data": {
      "image/png": "[encoded data removed]",
      "text/plain": [
       "<matplotlib.figure.Figure at 0x1c8e38b92b0>"
      ]
     },
     "metadata": {},
     "output_type": "display_data"
    }
   ],
   "source": [
    "plt.imshow(activ[20][:,:,3,5])"
   ]
  },
  {
   "cell_type": "code",
   "execution_count": 162,
   "metadata": {
    "scrolled": true
   },
   "outputs": [
    {
     "data": {
      "text/plain": [
       "array([   0.        ,    0.        ,    0.        ,    0.        ,\n",
       "          0.        ,  121.71251678,   53.23372269,    0.        ,\n",
       "          0.        ,   24.43340492,    0.        ,    0.        ,\n",
       "          0.        ,    0.        ,    7.88301706,    0.        ], dtype=float32)"
      ]
     },
     "execution_count": 162,
     "metadata": {},
     "output_type": "execute_result"
    }
   ],
   "source": [
    "activ[0][5,5,2,:]"
   ]
  },
  {
   "cell_type": "code",
   "execution_count": 316,
   "metadata": {
    "scrolled": true
   },
   "outputs": [
    {
     "name": "stdout",
     "output_type": "stream",
     "text": [
      "Predictions: ['hcc (95.75861% confidence)', 'hcc (99.98515% confidence)', 'hcc (56.77554% confidence)', 'hcc (97.68384% confidence)', 'hcc (96.73136% confidence)', 'hcc (99.99979% confidence)', 'hcc (99.99988% confidence)', 'hcc (99.71866% confidence)', 'cyst (63.61439% confidence)', 'cyst (51.41591% confidence)', 'hcc (99.65365% confidence)', 'hcc (52.72004% confidence)', 'hcc (57.44457% confidence)', 'cyst (99.82330% confidence)', 'cyst (83.69393% confidence)']\n"
     ]
    }
   ],
   "source": [
    "import operator\n",
    "#print(\"Ground truth:\", [cls_mapping[max(enumerate(x), key=operator.itemgetter(1))[0]] for x in Y_val[::30]])\n",
    "Y_ = model.predict(X_test)\n",
    "print(\"Predictions:\", [cls_mapping[max(enumerate(x), key=operator.itemgetter(1))[0]] + \" (%.5f%% confidence)\" % (max(x)*100) for x in Y_])"
   ]
  },
  {
   "cell_type": "code",
   "execution_count": 20,
   "metadata": {
    "scrolled": true
   },
   "outputs": [
    {
     "data": {
      "text/plain": [
       "array([  2.78843247e-04,   9.99721110e-01], dtype=float32)"
      ]
     },
     "execution_count": 20,
     "metadata": {},
     "output_type": "execute_result"
    }
   ],
   "source": [
    "Y_[-1]"
   ]
  },
  {
   "cell_type": "code",
   "execution_count": 19,
   "metadata": {},
   "outputs": [
    {
     "data": {
      "text/plain": [
       "0.6875"
      ]
     },
     "execution_count": 19,
     "metadata": {},
     "output_type": "execute_result"
    }
   ],
   "source": [
    "max(sum(y)/len(y), 1-sum(y)/len(y))"
   ]
  },
  {
   "cell_type": "code",
   "execution_count": 87,
   "metadata": {},
   "outputs": [
    {
     "data": {
      "text/plain": [
       "210"
      ]
     },
     "execution_count": 87,
     "metadata": {},
     "output_type": "execute_result"
    }
   ],
   "source": [
    "len(X_val)"
   ]
  },
  {
   "cell_type": "code",
   "execution_count": 84,
   "metadata": {
    "collapsed": true
   },
   "outputs": [],
   "source": [
    "import time"
   ]
  },
  {
   "cell_type": "code",
   "execution_count": 86,
   "metadata": {
    "scrolled": true
   },
   "outputs": [
    {
     "name": "stdout",
     "output_type": "stream",
     "text": [
      "0.20054101943969727\n"
     ]
    }
   ],
   "source": [
    "a=time.time()\n",
    "Y_ = model.predict(X_val)\n",
    "print(time.time()-a)"
   ]
  },
  {
   "cell_type": "code",
   "execution_count": 136,
   "metadata": {
    "collapsed": true
   },
   "outputs": [],
   "source": [
    "import matplotlib.pyplot as plt\n",
    "%matplotlib inline"
   ]
  },
  {
   "cell_type": "code",
   "execution_count": 150,
   "metadata": {},
   "outputs": [
    {
     "data": {
      "text/plain": [
       "0.0"
      ]
     },
     "execution_count": 150,
     "metadata": {},
     "output_type": "execute_result"
    }
   ],
   "source": [
    "np.amax(X[650,:,:,:,0])"
   ]
  },
  {
   "cell_type": "code",
   "execution_count": 140,
   "metadata": {},
   "outputs": [
    {
     "data": {
      "text/plain": [
       "<matplotlib.image.AxesImage at 0x20b42b02b70>"
      ]
     },
     "execution_count": 140,
     "metadata": {},
     "output_type": "execute_result"
    },
    {
     "data": {
      "image/png": "[encoded data removed]",
      "text/plain": [
       "<matplotlib.figure.Figure at 0x20b424cdcf8>"
      ]
     },
     "metadata": {},
     "output_type": "display_data"
    }
   ],
   "source": [
    "plt.imshow(X[0,:,:,5,0])"
   ]
  }
 ],
 "metadata": {
  "kernelspec": {
   "display_name": "Python 3",
   "language": "python",
   "name": "python3"
  },
  "language_info": {
   "codemirror_mode": {
    "name": "ipython",
    "version": 3
   },
   "file_extension": ".py",
   "mimetype": "text/x-python",
   "name": "python",
   "nbconvert_exporter": "python",
   "pygments_lexer": "ipython3",
   "version": "3.5.0"
  }
 },
 "nbformat": 4,
 "nbformat_minor": 2
}
