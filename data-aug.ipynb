{
 "cells": [
  {
   "cell_type": "markdown",
   "metadata": {},
   "source": [
    "Only used for faster-RCNN"
   ]
  },
  {
   "cell_type": "code",
   "execution_count": 26,
   "metadata": {
    "collapsed": true
   },
   "outputs": [],
   "source": [
    "import helper_fxns as hf\n",
    "import transforms as tr\n",
    "import importlib\n",
    "import matplotlib\n",
    "import matplotlib.pyplot as plt\n",
    "import numpy as np\n",
    "import os\n",
    "from pylab import get_cmap\n",
    "import requests\n",
    "import sys\n",
    "from skimage.draw import polygon\n",
    "import cv2\n",
    "import copy"
   ]
  },
  {
   "cell_type": "code",
   "execution_count": 24,
   "metadata": {},
   "outputs": [
    {
     "data": {
      "text/plain": [
       "<module 'transforms' from 'C:\\\\Users\\\\Clinton\\\\Documents\\\\liver-mr-processor\\\\transforms.py'>"
      ]
     },
     "execution_count": 24,
     "metadata": {},
     "output_type": "execute_result"
    }
   ],
   "source": [
    "importlib.reload(tr)"
   ]
  },
  {
   "cell_type": "code",
   "execution_count": null,
   "metadata": {
    "collapsed": true
   },
   "outputs": [],
   "source": [
    "def make_isometric(img, mrn, aug_rois, vox_dims):\n",
    "    img = tr.scaley(tr.scalex(img, scale), scale)\n",
    "    np.save(\"train_imgs\\\\\"+mrn, img)\n",
    "    \n",
    "    aug_rois += [[mrn+\".npy\"] + [str(round(int(roi[x])*scale)) for x in range(1,5)] + roi[5:]\n",
    "                for roi in rois if roi[0] == mrn+\".npy\"]\n",
    "    \n",
    "    return img, aug_rois"
   ]
  },
  {
   "cell_type": "code",
   "execution_count": 27,
   "metadata": {
    "collapsed": true
   },
   "outputs": [],
   "source": [
    "def downsample(img, mrn, aug_rois, scale=1.0):\n",
    "    img = tr.scaley(tr.scalex(img, scale), scale)\n",
    "    np.save(\"train_imgs\\\\\"+mrn, img)\n",
    "    \n",
    "    aug_rois += [[mrn+\".npy\"] + [str(round(int(roi[x])*scale)) for x in range(1,5)] + roi[5:]\n",
    "                for roi in rois if roi[0] == mrn+\".npy\"]\n",
    "    \n",
    "    return img, aug_rois"
   ]
  },
  {
   "cell_type": "code",
   "execution_count": 28,
   "metadata": {
    "collapsed": true
   },
   "outputs": [],
   "source": [
    "def aug_noise(img, mrn, aug_rois):\n",
    "    mrn_rois = [x for x in rois if x[0] == mrn+\".npy\"]\n",
    "    \n",
    "    k_size = 5\n",
    "    np.save(\"train_imgs\\\\\"+mrn+\"_b\"+str(k_size), cv2.blur(img,(k_size,k_size)))\n",
    "    for roi in mrn_rois:\n",
    "        aug_rois.append([mrn+\"_b\"+str(k_size)+\".npy\"] + roi[1:])\n",
    "    \n",
    "    return aug_rois"
   ]
  },
  {
   "cell_type": "code",
   "execution_count": 29,
   "metadata": {
    "collapsed": true
   },
   "outputs": [],
   "source": [
    "def aug_scaling(img, mrn, aug_rois):\n",
    "    mrn_rois = [x for x in rois if x[0] == mrn+\".npy\"]\n",
    "    \n",
    "    for scale in [1.2,1.4]:\n",
    "        np.save(\"train_imgs\\\\\"+mrn+\"_sx\"+str(scale)[-1], tr.scalex(img, scale))\n",
    "        for roi in mrn_rois:\n",
    "            aug_rois.append([mrn+\"_sx\"+str(scale)[-1]+\".npy\",\n",
    "                             str(round(int(roi[1])*scale)), str(round(int(roi[2])*scale))] + roi[3:])\n",
    "            \n",
    "        np.save(\"train_imgs\\\\\"+mrn+\"_sy\"+str(scale)[-1], tr.scaley(img, scale))\n",
    "        for roi in mrn_rois:\n",
    "            aug_rois.append([mrn+\"_sy\"+str(scale)[-1]+\".npy\"] + roi[1:3] +\n",
    "                            [str(round(int(roi[3])*scale)), str(round(int(roi[4])*scale))] + roi[5:])\n",
    "            \n",
    "        np.save(\"train_imgs\\\\\"+mrn+\"_sz\"+str(scale)[-1], tr.scalez(img, scale))\n",
    "        for roi in mrn_rois:\n",
    "            aug_rois.append([mrn+\"_sz\"+str(scale)[-1]+\".npy\"] + roi[1:5] +\n",
    "                            [str(round(int(roi[5])*scale)), str(round(int(roi[6])*scale))] + roi[7:])\n",
    "    \n",
    "    return aug_rois"
   ]
  },
  {
   "cell_type": "code",
   "execution_count": 30,
   "metadata": {
    "collapsed": true
   },
   "outputs": [],
   "source": [
    "def aug_rotation(img, mrn, aug_rois):\n",
    "    mrn_rois = [x for x in rois if x[0] == mrn+\".npy\"]\n",
    "    \n",
    "    for angle in [15,30,345,330]:\n",
    "        np.save(\"train_imgs\\\\\"+mrn+\"_r\"+str(angle), tr.rotate(img, angle))\n",
    "        for roi in mrn_rois:\n",
    "            aug_rois.append([mrn+\"_r\"+str(angle)+\".npy\"] + roi[1:])\n",
    "    \n",
    "    return aug_rois"
   ]
  },
  {
   "cell_type": "code",
   "execution_count": 31,
   "metadata": {
    "collapsed": true
   },
   "outputs": [],
   "source": [
    "with open(\"train_list.txt\", \"r\") as f:\n",
    "    rois = [x.split(',') for x in f.read().split(\"\\n\")]\n",
    "aug_rois = []#[roi.split(\",\") for roi in rois]"
   ]
  },
  {
   "cell_type": "code",
   "execution_count": 32,
   "metadata": {
    "collapsed": true,
    "scrolled": true
   },
   "outputs": [],
   "source": [
    "for mrn in os.listdir(\"imgs\\\\\"):\n",
    "    img = np.load(\"imgs\\\\\"+mrn)\n",
    "    img, aug_rois = downsample(img, mrn[:-4], aug_rois)\n",
    "    np.save(\"train_imgs\\\\\"+mrn, img)\n",
    "    aug_rois = aug_rotation(img, mrn[:-4], aug_rois)\n",
    "    aug_rois = aug_scaling(img, mrn[:-4], aug_rois)\n",
    "    #aug_rois = aug_noise(img, mrn[:-4], aug_rois)"
   ]
  },
  {
   "cell_type": "code",
   "execution_count": 33,
   "metadata": {
    "collapsed": true
   },
   "outputs": [],
   "source": [
    "with open('aug_train_list.txt', 'w') as f:\n",
    "    for roi in aug_rois:\n",
    "        f.write(\",\".join(roi) + \"\\n\")"
   ]
  },
  {
   "cell_type": "code",
   "execution_count": null,
   "metadata": {
    "collapsed": true
   },
   "outputs": [],
   "source": []
  }
 ],
 "metadata": {
  "anaconda-cloud": {},
  "kernelspec": {
   "display_name": "Python 3",
   "language": "python",
   "name": "python3"
  },
  "language_info": {
   "codemirror_mode": {
    "name": "ipython",
    "version": 3
   },
   "file_extension": ".py",
   "mimetype": "text/x-python",
   "name": "python",
   "nbconvert_exporter": "python",
   "pygments_lexer": "ipython3",
   "version": "3.5.0"
  }
 },
 "nbformat": 4,
 "nbformat_minor": 1
}
