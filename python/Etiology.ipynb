{
 "cells": [
  {
   "cell_type": "code",
   "execution_count": 1,
   "metadata": {
    "ExecuteTime": {
     "end_time": "2018-05-09T03:25:32.849135Z",
     "start_time": "2018-05-09T03:25:29.532350Z"
    }
   },
   "outputs": [
    {
     "name": "stderr",
     "output_type": "stream",
     "text": [
      "C:\\Users\\Clinton\\AppData\\Local\\conda\\conda\\envs\\old-keras\\lib\\site-packages\\h5py\\__init__.py:34: FutureWarning: Conversion of the second argument of issubdtype from `float` to `np.floating` is deprecated. In future, it will be treated as `np.float64 == np.dtype(float).type`.\n",
      "  from ._conv import register_converters as _register_converters\n"
     ]
    }
   ],
   "source": [
    "import artif_gen_methods as agm\n",
    "import config\n",
    "import dr_methods as drm\n",
    "import niftiutils.helper_fxns as hf\n",
    "import niftiutils.private as prv\n",
    "import niftiutils.visualization as vis\n",
    "import importlib\n",
    "import matplotlib.pyplot as plt\n",
    "import numpy as np\n",
    "import glob\n",
    "import os\n",
    "from os.path import *\n",
    "import pandas as pd\n",
    "import shutil\n",
    "import time\n",
    "import voi_methods as vm\n",
    "import re\n",
    "import operator\n",
    "import csv\n",
    "%matplotlib inline"
   ]
  },
  {
   "cell_type": "code",
   "execution_count": 28,
   "metadata": {
    "ExecuteTime": {
     "end_time": "2018-05-09T18:40:30.110471Z",
     "start_time": "2018-05-09T18:40:30.108467Z"
    },
    "collapsed": true
   },
   "outputs": [],
   "source": [
    "base_dir = \"D:\\\\Etiology\\\\Imaging\""
   ]
  },
  {
   "cell_type": "code",
   "execution_count": 17,
   "metadata": {
    "ExecuteTime": {
     "end_time": "2018-05-08T04:04:56.682367Z",
     "start_time": "2018-05-08T03:56:21.004555Z"
    },
    "collapsed": true
   },
   "outputs": [],
   "source": [
    "for fn in glob.glob(r\"D:\\Etiology\\Imaging\\*\\*20s*\"):\n",
    "    lesion_id = basename(dirname(fn))\n",
    "    lesion_id = lesion_id[:lesion_id.find(' ')]\n",
    "    targ_dir = join(r\"D:\\Etiology\\Imaging-Ordered\", lesion_id, \"20s\")\n",
    "    if not exists(targ_dir):\n",
    "        shutil.copytree(fn, targ_dir)"
   ]
  },
  {
   "cell_type": "code",
   "execution_count": 119,
   "metadata": {
    "ExecuteTime": {
     "end_time": "2018-05-10T18:59:02.792519Z",
     "start_time": "2018-05-10T18:59:01.782221Z"
    }
   },
   "outputs": [],
   "source": [
    "lesions = []\n",
    "for fn in glob.glob(join(base_dir, \"*\", r\"20s\")):\n",
    "    les_dir = dirname(fn)\n",
    "    if exists(join(les_dir, \"20s\")) and exists(join(les_dir, \"70s\")) and exists(join(les_dir, \"3min\")):\n",
    "        lesions.append(basename(les_dir))"
   ]
  },
  {
   "cell_type": "code",
   "execution_count": 120,
   "metadata": {
    "ExecuteTime": {
     "end_time": "2018-05-10T18:59:03.272877Z",
     "start_time": "2018-05-10T18:59:03.269870Z"
    }
   },
   "outputs": [
    {
     "data": {
      "text/plain": [
       "356"
      ]
     },
     "execution_count": 120,
     "metadata": {},
     "output_type": "execute_result"
    }
   ],
   "source": [
    "len(lesions)"
   ]
  },
  {
   "cell_type": "code",
   "execution_count": 118,
   "metadata": {
    "ExecuteTime": {
     "end_time": "2018-05-10T18:54:06.444801Z",
     "start_time": "2018-05-10T18:54:06.390504Z"
    },
    "collapsed": true
   },
   "outputs": [],
   "source": [
    "pd.DataFrame(lesions).to_excel(\"D:\\\\test.xlsx\", index=False)"
   ]
  },
  {
   "cell_type": "code",
   "execution_count": null,
   "metadata": {
    "collapsed": true
   },
   "outputs": [],
   "source": [
    "for fn in glob.glob(join(base_dir, \"*\", r\"Segs\\tumor_20s.off\")):\n",
    "    os.rename(fn, join(dirname(fn), \"20s.off\"))"
   ]
  },
  {
   "cell_type": "code",
   "execution_count": 100,
   "metadata": {
    "ExecuteTime": {
     "end_time": "2018-05-10T18:46:57.384859Z",
     "start_time": "2018-05-10T18:46:56.121788Z"
    }
   },
   "outputs": [
    {
     "data": {
      "text/plain": [
       "532"
      ]
     },
     "execution_count": 100,
     "metadata": {},
     "output_type": "execute_result"
    }
   ],
   "source": [
    "lesions = []\n",
    "for fn in glob.glob(join(base_dir, \"*\", r\"Segs\\Tumor\\20s.off\")):\n",
    "    if join(dirname(dirname(fn)))\n",
    "    lesion_id = fn[len(base_dir)+1 : fn.find(\"\\\\\", len(base_dir)+1)]"
   ]
  },
  {
   "cell_type": "code",
   "execution_count": 102,
   "metadata": {
    "ExecuteTime": {
     "end_time": "2018-05-10T18:49:54.747139Z",
     "start_time": "2018-05-10T18:49:24.183407Z"
    }
   },
   "outputs": [],
   "source": [
    "for ext in [\".off\", \".ids\", \".ics\"]:\n",
    "    for fn in glob.glob(join(base_dir, \"*\", r\"Segs\\Tumor\\20s\"+ext)):\n",
    "        new_name = join(dirname(dirname(fn)), \"tumor_20s\"+ext)\n",
    "        if not exists(new_name):\n",
    "            os.rename(fn, new_name)\n",
    "        #lesion_id = fn[len(base_dir)+1 : fn.find(\"\\\\\", len(base_dir)+1)]"
   ]
  },
  {
   "cell_type": "code",
   "execution_count": 95,
   "metadata": {
    "ExecuteTime": {
     "end_time": "2018-05-09T19:16:57.202194Z",
     "start_time": "2018-05-09T19:16:57.159082Z"
    },
    "scrolled": true
   },
   "outputs": [],
   "source": [
    "A = [basename(fn) for fn in glob.glob(r\"D:\\Etiology\\Imaging\\*\\Segs\\*.off\")]\n",
    "#list(A)[:50]\n",
    "A = set([a[a.find('_')+1:] for a in A])\n",
    "A = set([a[a.find(' ')+1:] for a in A])"
   ]
  },
  {
   "cell_type": "code",
   "execution_count": null,
   "metadata": {
    "ExecuteTime": {
     "end_time": "2018-05-09T19:16:58.074647Z",
     "start_time": "2018-05-09T19:16:58.070608Z"
    },
    "collapsed": true
   },
   "outputs": [],
   "source": [
    "list(A)[:50]"
   ]
  },
  {
   "cell_type": "code",
   "execution_count": 28,
   "metadata": {
    "ExecuteTime": {
     "end_time": "2018-05-08T13:32:17.972167Z",
     "start_time": "2018-05-08T13:32:17.963144Z"
    },
    "collapsed": true
   },
   "outputs": [],
   "source": [
    "for fn in glob.glob(r\"D:\\Etiology\\Imaging\\*\\Segs\\Tumor\"):\n",
    "    lesion_id = basename(fn)\n",
    "    lesion_id = lesion_id[:lesion_id.find('_')]\n",
    "    if not exists(join(dirname(fn), lesion_id)):\n",
    "        os.rename(fn, join(dirname(fn), lesion_id))"
   ]
  },
  {
   "cell_type": "code",
   "execution_count": 17,
   "metadata": {
    "ExecuteTime": {
     "end_time": "2018-05-08T16:31:46.822086Z",
     "start_time": "2018-05-08T16:31:46.262563Z"
    },
    "collapsed": true,
    "scrolled": false
   },
   "outputs": [],
   "source": [
    "for fn in glob.glob(\"D:\\\\Etiology\\\\Imaging-Ordered\\\\*\\\\*\\\\.wbvTemp.out\"):\n",
    "    try:\n",
    "        os.remove(fn)\n",
    "    except Exception as e:\n",
    "        hf.handleRemoveReadonly(os.remove, fn, e)"
   ]
  },
  {
   "cell_type": "code",
   "execution_count": 55,
   "metadata": {
    "ExecuteTime": {
     "end_time": "2018-05-08T22:29:29.217525Z",
     "start_time": "2018-05-08T22:29:29.180424Z"
    }
   },
   "outputs": [
    {
     "data": {
      "text/plain": [
       "548"
      ]
     },
     "execution_count": 55,
     "metadata": {},
     "output_type": "execute_result"
    }
   ],
   "source": [
    "len([f for f in glob.glob(\"D:\\\\Etiology\\\\Imaging-Ordered\\\\*\\\\\"+ph)])"
   ]
  },
  {
   "cell_type": "code",
   "execution_count": 3,
   "metadata": {
    "ExecuteTime": {
     "end_time": "2018-05-09T03:25:41.202989Z",
     "start_time": "2018-05-09T03:25:41.160875Z"
    },
    "scrolled": true
   },
   "outputs": [
    {
     "data": {
      "text/plain": [
       "483"
      ]
     },
     "execution_count": 3,
     "metadata": {},
     "output_type": "execute_result"
    }
   ],
   "source": [
    "[f for f in glob.glob(\"D:\\\\Etiology\\\\Imaging-Ordered\\\\*\\\\\"+ph)].index(fn)"
   ]
  },
  {
   "cell_type": "code",
   "execution_count": 4,
   "metadata": {
    "ExecuteTime": {
     "end_time": "2018-05-09T03:28:42.352720Z",
     "start_time": "2018-05-09T03:25:45.396886Z"
    },
    "scrolled": true
   },
   "outputs": [],
   "source": [
    "ph = \"20s\"\n",
    "for fn in glob.glob(\"D:\\\\Etiology\\\\Imaging-Ordered\\\\*\\\\\"+ph)[484:]:\n",
    "    lesion_id = basename(dirname(fn))\n",
    "    nii_dir = join(dirname(fn), \"nii_dir\")\n",
    "    targ_dir = join(nii_dir, ph+\".nii.gz\")\n",
    "    if not exists(targ_dir):\n",
    "        if not exists(nii_dir):\n",
    "            os.makedirs(nii_dir)\n",
    "        I,D = hf.dcm_load(fn, True, True)\n",
    "        hf.save_nii(I, targ_dir, D)"
   ]
  },
  {
   "cell_type": "code",
   "execution_count": 7,
   "metadata": {
    "ExecuteTime": {
     "end_time": "2018-05-09T13:41:06.686650Z",
     "start_time": "2018-05-09T13:41:06.627477Z"
    },
    "collapsed": true
   },
   "outputs": [],
   "source": [
    "lesions = [basename(dirname(dirname(fn))) for fn in glob.glob(\"D:\\\\Etiology\\\\Imaging\\\\*\\\\nii_dir\\\\20s.nii.gz\")]"
   ]
  },
  {
   "cell_type": "code",
   "execution_count": 18,
   "metadata": {
    "ExecuteTime": {
     "end_time": "2018-05-08T04:13:08.681646Z",
     "start_time": "2018-05-08T04:04:56.692502Z"
    },
    "collapsed": true
   },
   "outputs": [],
   "source": [
    "img_dir = \"D:\\\\Etiology\\\\Imaging\\\\*\\\\\"\n",
    "for fn in glob.glob(img_dir+\"*70s*\") + glob.glob(img_dir+\"*Venous*\") + glob.glob(img_dir+\"Ph2*\") + glob.glob(img_dir+\"*70_s*\"):\n",
    "    lesion_id = basename(dirname(fn))\n",
    "    lesion_id = lesion_id[:lesion_id.find(' ')]\n",
    "    targ_dir = join(r\"D:\\Etiology\\Imaging-Ordered\", lesion_id, \"70s\")\n",
    "    if not exists(targ_dir):\n",
    "        shutil.copytree(fn, targ_dir)"
   ]
  },
  {
   "cell_type": "code",
   "execution_count": 19,
   "metadata": {
    "ExecuteTime": {
     "end_time": "2018-05-08T04:21:49.462114Z",
     "start_time": "2018-05-08T04:13:08.693542Z"
    },
    "collapsed": true
   },
   "outputs": [],
   "source": [
    "img_dir = \"D:\\\\Etiology\\\\Imaging\\\\*\\\\\"\n",
    "for fn in glob.glob(img_dir+\"*3min*\") + glob.glob(img_dir+\"*Delay*\") + glob.glob(img_dir+\"*Equ*\") + glob.glob(img_dir+\"Ph3*\") + glob.glob(img_dir+\"*3_min*\"):\n",
    "    lesion_id = basename(dirname(fn))\n",
    "    lesion_id = lesion_id[:lesion_id.find(' ')]\n",
    "    targ_dir = join(r\"D:\\Etiology\\Imaging-Ordered\", lesion_id, \"3min\")\n",
    "    if not exists(targ_dir):\n",
    "        shutil.copytree(fn, targ_dir)"
   ]
  },
  {
   "cell_type": "markdown",
   "metadata": {},
   "source": [
    "img_dir = \"D:\\\\Etiology\\\\Imaging\\\\*\\\\\"\n",
    "for fn in glob.glob(img_dir+\"*20s*\") + glob.glob(img_dir+\"*Arter*\") + glob.glob(img_dir+\"Ph1*\") + glob.glob(img_dir+\"*20_s*\"):\n",
    "    lesion_id = basename(dirname(fn))\n",
    "    lesion_id = lesion_id[:lesion_id.find(' ')]\n",
    "    targ_dir = join(r\"D:\\Etiology\\Imaging-Ordered\", lesion_id, \"70s\")\n",
    "    if not exists(targ_dir):\n",
    "        shutil.copytree(fn, targ_dir)"
   ]
  },
  {
   "cell_type": "code",
   "execution_count": 7,
   "metadata": {
    "ExecuteTime": {
     "end_time": "2018-05-07T21:24:47.225834Z",
     "start_time": "2018-05-07T21:24:45.011868Z"
    },
    "collapsed": true
   },
   "outputs": [],
   "source": [
    "for fn in glob.glob(r\"D:\\Etiology\\Imaging\\*\"):\n",
    "    DCE = [x for x in os.listdir(join(fn, mod)) if (\"vibe\" in x or \"post\" in x) and x.endswith('.gz')]\n",
    "    if len(DCE) > 0 and not exists(join(fn, mod, \"mr30_equ.nii.gz\")):\n",
    "        DCE = sort_by_series_num([x for x in DCE if \"min\" not in x])\n",
    "\n",
    "        print(fn, DCE[-1], DCE[0], sep=\"\\n\") #sort_by_series_num(PRE)[-1], \n",
    "        correct = input()\n",
    "        if correct == \"0\":\n",
    "            #os.rename(join(accnum, PRE[0]), join(accnum, \"T1_BL\"))\n",
    "            os.rename(join(fn, mod, DCE[-1]), join(fn, mod, \"mr30_equ.nii.gz\"))\n",
    "        elif correct == \"q\":\n",
    "            break\n",
    "        else:\n",
    "            continue"
   ]
  },
  {
   "cell_type": "code",
   "execution_count": 12,
   "metadata": {
    "ExecuteTime": {
     "end_time": "2018-05-07T22:26:12.816785Z",
     "start_time": "2018-05-07T22:15:47.221084Z"
    },
    "collapsed": true
   },
   "outputs": [],
   "source": [
    "for fn in glob.glob(r\"Z:\\Sophie\\CBCTs\\*\"):\n",
    "    lesion_id = basename(fn)\n",
    "    cbct_dir = join(r\"D:\\Lipiodol\\Data\", lesion_id, \"CBCT\")\n",
    "    shutil.move(fn, cbct_dir)"
   ]
  },
  {
   "cell_type": "code",
   "execution_count": null,
   "metadata": {
    "collapsed": true
   },
   "outputs": [],
   "source": []
  }
 ],
 "metadata": {
  "kernelspec": {
   "display_name": "Python 3",
   "language": "python",
   "name": "python3"
  },
  "language_info": {
   "codemirror_mode": {
    "name": "ipython",
    "version": 3
   },
   "file_extension": ".py",
   "mimetype": "text/x-python",
   "name": "python",
   "nbconvert_exporter": "python",
   "pygments_lexer": "ipython3",
   "version": "3.5.0"
  },
  "varInspector": {
   "cols": {
    "lenName": 16,
    "lenType": 16,
    "lenVar": 40
   },
   "kernels_config": {
    "python": {
     "delete_cmd_postfix": "",
     "delete_cmd_prefix": "del ",
     "library": "var_list.py",
     "varRefreshCmd": "print(var_dic_list())"
    },
    "r": {
     "delete_cmd_postfix": ") ",
     "delete_cmd_prefix": "rm(",
     "library": "var_list.r",
     "varRefreshCmd": "cat(var_dic_list()) "
    }
   },
   "types_to_exclude": [
    "module",
    "function",
    "builtin_function_or_method",
    "instance",
    "_Feature"
   ],
   "window_display": false
  }
 },
 "nbformat": 4,
 "nbformat_minor": 2
}
