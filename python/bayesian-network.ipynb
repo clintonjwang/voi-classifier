{
 "cells": [
  {
   "cell_type": "code",
   "execution_count": 54,
   "metadata": {
    "collapsed": true,
    "scrolled": false
   },
   "outputs": [],
   "source": [
    "from keras.models import Model\n",
    "import keras.models\n",
    "import keras.layers as layers\n",
    "from keras.optimizers import Adam\n",
    "from keras.callbacks import EarlyStopping\n",
    "from keras.utils import np_utils\n",
    "from sklearn.metrics import confusion_matrix, f1_score, accuracy_score\n",
    "from keras import backend as K\n",
    "\n",
    "import argparse\n",
    "import cnn_analyzer as cnna\n",
    "import cnn_builder as cbuild\n",
    "import cnn_runner as crun\n",
    "import config\n",
    "import csv\n",
    "import dr_methods as drm\n",
    "import niftiutils.helper_fxns as hf\n",
    "import importlib\n",
    "import itertools\n",
    "from math import sqrt, log, pi, exp\n",
    "import matplotlib.pyplot as plt\n",
    "from numba import jit, njit, prange, vectorize, guvectorize\n",
    "from numpy import matmul, diag\n",
    "import numpy as np\n",
    "import operator\n",
    "import os\n",
    "import pandas as pd\n",
    "import random\n",
    "import scipy\n",
    "import time\n",
    "import voi_methods as vm\n",
    "%matplotlib inline"
   ]
  },
  {
   "cell_type": "code",
   "execution_count": 134,
   "metadata": {
    "collapsed": true
   },
   "outputs": [],
   "source": [
    "importlib.reload(config)\n",
    "importlib.reload(hf)\n",
    "importlib.reload(cbuild)\n",
    "importlib.reload(crun)\n",
    "importlib.reload(vm)\n",
    "C = config.Config()\n",
    "T = config.Hyperparams()"
   ]
  },
  {
   "cell_type": "code",
   "execution_count": 5,
   "metadata": {
    "collapsed": true
   },
   "outputs": [],
   "source": [
    "model = keras.models.load_model(os.path.join(C.model_dir, \"models_305.hdf5\")) #models_305\n",
    "model_dense_outputs = cbuild.build_pretrain_model(model)"
   ]
  },
  {
   "cell_type": "code",
   "execution_count": 7,
   "metadata": {
    "collapsed": true
   },
   "outputs": [],
   "source": [
    "orig_data_dict, num_samples = cbuild._collect_unaug_data()\n",
    "filters_by_cls = {cls: model_dense_outputs.predict(orig_data_dict[cls][0], verbose=False) for cls in C.classes_to_include}\n",
    "filter_results = np.concatenate([filters_by_cls[cls] for cls in C.classes_to_include], axis=0)\n",
    "\n",
    "filter_avgs = np.mean(filter_results, axis=0)\n",
    "filter_stds = np.std(filter_results, axis=0)"
   ]
  },
  {
   "cell_type": "code",
   "execution_count": 26,
   "metadata": {
    "collapsed": true
   },
   "outputs": [],
   "source": [
    "Z_test = ['E106097391_0', 'E104978772_1', '12900535_0', 'E100150242_0', 'E105490014_0', 'E103147618_0', 'E103510187_0', 'E104657225_0', 'E100551966_0', 'E101388602_0', 'E100215900_8', 'E100215900_7', 'E104045692_0', '13104521_0', 'E100383453_0', '12943286_0', '12271995_0', 'E102315724_0', 'E104949189_0', 'E100511083_1', 'E101579471_0', '13018986_1', '13203550_8', '13112385_0', '12712463_0', '12361082_0', '13028374_0', 'E103985934_1', 'E100529980_0', '12042703_3', '12961059_0', 'E105724706_2', 'E100592424_2', 'E103104254_0', 'E104546069_0', 'E101665217_1', '12090000_0', 'E100592424_1', '12961059_1', 'E105474285_0', '12502068_1', 'E100814791_0', 'E102613189_0', 'E105427046_0', 'E102881031_1', 'E102929168_0', 'E102310482_0', 'E102095465_0', 'E101811299_0', 'E104737273_0', '12890053_0', 'E100168661_1', '12637865_0', 'E100168661_2', '12239783_0', '12707781_0', '12706568_1', '12823036_0', '12404081_0', '12365693_1']\n",
    "num_units = 100 # number of dense units\n",
    "indices = np.array(hf.flatten([orig_data_dict[cls][1] for cls in C.classes_to_include]))\n",
    "test_indices = np.where(np.isin(indices, Z_test))[0]\n",
    "test_names = indices[test_indices]\n",
    "imgs = np.array(hf.flatten([orig_data_dict[cls][0] for cls in C.classes_to_include]))\n",
    "test_imgs = imgs[test_indices]\n",
    "\n",
    "test_size=len(test_names)\n",
    "voi_df = drm.get_voi_dfs()[0]"
   ]
  },
  {
   "cell_type": "code",
   "execution_count": 44,
   "metadata": {
    "collapsed": true
   },
   "outputs": [],
   "source": [
    "model_final_outputs = cbuild.build_pretrain_model(model, last_layer=\"pre-softmax\")"
   ]
  },
  {
   "cell_type": "markdown",
   "metadata": {},
   "source": [
    "## Variability in augmentation"
   ]
  },
  {
   "cell_type": "code",
   "execution_count": 48,
   "metadata": {
    "collapsed": true
   },
   "outputs": [],
   "source": [
    "aug_factor=100\n",
    "\n",
    "aug_means = np.empty((test_size, num_units))\n",
    "aug_stds = np.empty((test_size, num_units))\n",
    "aug_accuracy = np.empty(test_size)\n",
    "\n",
    "for test_id in range(test_size):\n",
    "    voi_row = voi_df.loc[test_names[test_id]]\n",
    "    \n",
    "    outputs = np.empty((aug_factor, num_units))\n",
    "    classif = np.empty(aug_factor)\n",
    "    for aug_id in range(aug_factor):\n",
    "        img = np.load(os.path.join(C.aug_dir, voi_row['cls'], \"%s_%d.npy\" % (test_names[test_id], aug_id)))\n",
    "        outputs[aug_id] = model_dense_outputs.predict(np.expand_dims(img, 0))[0]\n",
    "        classif[aug_id], _ = max(enumerate(model.predict(np.expand_dims(img, 0))[0]), key=operator.itemgetter(1))\n",
    "    \n",
    "    cls_accuracy[test_id] = sum(classif == C.classes_to_include.index(voi_row['cls']))/aug_factor\n",
    "    aug_means[test_id] = np.mean(outputs, 0)\n",
    "    aug_stds[test_id] = np.std(outputs, 0)"
   ]
  },
  {
   "cell_type": "markdown",
   "metadata": {},
   "source": [
    "The standard deviation of the dense unit values is very large for the same lesion"
   ]
  },
  {
   "cell_type": "markdown",
   "metadata": {},
   "source": [
    "## Variability in VOI selection"
   ]
  },
  {
   "cell_type": "code",
   "execution_count": 135,
   "metadata": {},
   "outputs": [],
   "source": [
    "small_voi_df = pd.read_csv(C.small_voi_path)\n",
    "voi_factor=50\n",
    "voi_means = np.empty((test_size, num_units))\n",
    "voi_stds = np.empty((test_size, num_units))\n",
    "voi_accuracy = np.empty(test_size)\n",
    "\n",
    "for test_id in range(test_size):\n",
    "    lesion_id = test_names[test_id]\n",
    "    coords = vm._get_voi_coords(small_voi_df[small_voi_df[\"id\"] == lesion_id])\n",
    "    voi_row = voi_df.loc[test_names[test_id]]\n",
    "    \n",
    "    outputs = np.empty((voi_factor, num_units))\n",
    "    classif = np.empty(voi_factor)\n",
    "    for voi_id in range(voi_factor):\n",
    "        dx = scipy.random.normal(0, 2, 3)\n",
    "        voi = list(map(int, hf.flatten([coords[:2]+dx[0], coords[2:4]+dx[1], coords[4:]+dx[2]])))\n",
    "        img = vm.save_unaugmented_set(cls=voi_row[\"cls\"], lesion_ids=[lesion_id], custom_vois=[voi],\n",
    "                                      return_img_only=True, lesion_ratio=random.uniform(0.65,.85))[0]\n",
    "        img = np.expand_dims(img, 0)\n",
    "        outputs[voi_id] = model_dense_outputs.predict(img)[0]\n",
    "        classif[voi_id], _ = max(enumerate(model.predict(img)[0]), key=operator.itemgetter(1))\n",
    "        \n",
    "    cls_accuracy[test_id] = sum(classif == C.classes_to_include.index(voi_row['cls']))/voi_factor\n",
    "    voi_means[test_id] = np.mean(outputs, 0)\n",
    "    voi_stds[test_id] = np.std(outputs, 0)"
   ]
  },
  {
   "cell_type": "markdown",
   "metadata": {},
   "source": [
    "## Variability with dropout"
   ]
  },
  {
   "cell_type": "code",
   "execution_count": null,
   "metadata": {
    "collapsed": true
   },
   "outputs": [],
   "source": []
  },
  {
   "cell_type": "code",
   "execution_count": null,
   "metadata": {
    "collapsed": true
   },
   "outputs": [],
   "source": []
  },
  {
   "cell_type": "code",
   "execution_count": null,
   "metadata": {
    "collapsed": true
   },
   "outputs": [],
   "source": []
  },
  {
   "cell_type": "markdown",
   "metadata": {},
   "source": [
    "## Homoscedastic uncertainty"
   ]
  },
  {
   "cell_type": "code",
   "execution_count": null,
   "metadata": {
    "collapsed": true
   },
   "outputs": [],
   "source": []
  },
  {
   "cell_type": "code",
   "execution_count": null,
   "metadata": {
    "collapsed": true
   },
   "outputs": [],
   "source": []
  },
  {
   "cell_type": "code",
   "execution_count": null,
   "metadata": {
    "collapsed": true
   },
   "outputs": [],
   "source": []
  },
  {
   "cell_type": "code",
   "execution_count": null,
   "metadata": {
    "collapsed": true
   },
   "outputs": [],
   "source": []
  }
 ],
 "metadata": {
  "kernelspec": {
   "display_name": "Python 3",
   "language": "python",
   "name": "python3"
  },
  "language_info": {
   "codemirror_mode": {
    "name": "ipython",
    "version": 3
   },
   "file_extension": ".py",
   "mimetype": "text/x-python",
   "name": "python",
   "nbconvert_exporter": "python",
   "pygments_lexer": "ipython3",
   "version": "3.5.0"
  }
 },
 "nbformat": 4,
 "nbformat_minor": 2
}
