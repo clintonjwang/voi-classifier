{
 "cells": [
  {
   "cell_type": "code",
   "execution_count": 263,
   "metadata": {
    "ExecuteTime": {
     "end_time": "2018-05-14T03:56:53.124841Z",
     "start_time": "2018-05-14T03:56:53.085708Z"
    },
    "scrolled": true
   },
   "outputs": [],
   "source": [
    "import csv\n",
    "import importlib\n",
    "import itertools\n",
    "import operator\n",
    "import os\n",
    "import random\n",
    "import time\n",
    "from math import e, exp, log, pi, sqrt\n",
    "\n",
    "import keras.layers as layers\n",
    "import copy\n",
    "import keras.models\n",
    "import matplotlib.pyplot as plt\n",
    "import numpy as np\n",
    "import pandas as pd\n",
    "import scipy\n",
    "from keras import backend as K\n",
    "from keras.callbacks import EarlyStopping\n",
    "from keras.models import Model\n",
    "from keras.optimizers import Adam\n",
    "from keras.utils import np_utils\n",
    "from numba import guvectorize, jit, njit, prange, vectorize\n",
    "from sklearn.metrics import accuracy_score, confusion_matrix, f1_score\n",
    "\n",
    "from os.path import *\n",
    "import glob\n",
    "import cnn_builder as cbuild\n",
    "import cnn_runner as crun\n",
    "import config\n",
    "import dr_methods as drm\n",
    "import feature_interpretation as cnna\n",
    "import niftiutils.helper_fxns as hf\n",
    "import niftiutils.private as prv\n",
    "import niftiutils.transforms as tr\n",
    "import niftiutils.visualization as vis\n",
    "import voi_methods as vm\n",
    "\n",
    "%matplotlib inline\n",
    "np.set_printoptions(3)"
   ]
  },
  {
   "cell_type": "code",
   "execution_count": 2,
   "metadata": {
    "ExecuteTime": {
     "end_time": "2018-05-14T00:35:07.595247Z",
     "start_time": "2018-05-14T00:35:07.587198Z"
    },
    "collapsed": true
   },
   "outputs": [],
   "source": [
    "importlib.reload(config)\n",
    "importlib.reload(hf)\n",
    "importlib.reload(cbuild)\n",
    "importlib.reload(crun)\n",
    "C = config.Config()\n",
    "T = config.Hyperparams()"
   ]
  },
  {
   "cell_type": "code",
   "execution_count": 5,
   "metadata": {
    "ExecuteTime": {
     "end_time": "2018-05-14T00:35:28.725101Z",
     "start_time": "2018-05-14T00:35:23.529110Z"
    },
    "scrolled": true
   },
   "outputs": [],
   "source": [
    "Z_reader = ['E103312835_1','12823036_0','12569915_0','E102093118_0','E102782525_0','12799652_0','E100894274_0','12874178_3','E100314676_0','12842070_0','13092836_2','12239783_0','12783467_0','13092966_0','E100962970_0','E100183257_1','E102634440_0','E106182827_0','12582632_0','E100121654_0','E100407633_0','E105310461_0','12788616_0','E101225606_0','12678910_1','E101083458_1','12324408_0','13031955_0','E101415263_0','E103192914_0','12888679_2','E106096969_0','E100192709_1','13112385_1','E100718398_0','12207268_0','E105244287_0','E102095465_0','E102613189_0','12961059_0','11907521_0','E105311123_0','12552705_0','E100610622_0','12975280_0','E105918926_0','E103020139_1','E101069048_1','E105427046_0','13028374_0','E100262351_0','12302576_0','12451831_0','E102929168_0','E100383453_0','E105344747_0','12569826_0','E100168661_0','12530153_0','E104697262_0']\n",
    "orig_data_dict, num_samples = cbuild._collect_unaug_data()\n",
    "\n",
    "features_by_cls, feat_count = cnna.collect_features()\n",
    "feat_count.pop(\"homogeneous texture\")\n",
    "#feat_count.pop(\"central scar\")\n",
    "all_features = sorted(list(feat_count.keys()))\n",
    "cls_features = {f: [c for c in C.classes_to_include if f in features_by_cls[c]] for f in all_features}\n",
    "\n",
    "Z_features = cnna.get_annotated_files(features_by_cls)\n",
    "Z_features.pop(\"homogeneous texture\")\n",
    "#Z_features.pop(\"central scar\")\n",
    "\n",
    "num_features = len(all_features)\n",
    "\n",
    "voi_df = drm.get_voi_dfs()[0]\n",
    "M = keras.models.load_model(join(C.model_dir, \"model_reader_new21.hdf5\"))"
   ]
  },
  {
   "cell_type": "code",
   "execution_count": null,
   "metadata": {
    "ExecuteTime": {
     "end_time": "2018-05-14T04:02:03.007953Z",
     "start_time": "2018-05-14T04:02:03.002963Z"
    },
    "collapsed": true
   },
   "outputs": [],
   "source": [
    "M.layers[5].get_weights()[1]"
   ]
  },
  {
   "cell_type": "code",
   "execution_count": 251,
   "metadata": {
    "ExecuteTime": {
     "end_time": "2018-05-14T03:34:20.961397Z",
     "start_time": "2018-05-14T03:34:20.959394Z"
    }
   },
   "outputs": [],
   "source": [
    "lesion_id = z_test = Z_reader[0]"
   ]
  },
  {
   "cell_type": "code",
   "execution_count": 252,
   "metadata": {
    "ExecuteTime": {
     "end_time": "2018-05-14T03:34:20.988498Z",
     "start_time": "2018-05-14T03:34:20.962401Z"
    }
   },
   "outputs": [],
   "source": [
    "cls = voi_df.loc[lesion_id][\"cls\"]\n",
    "y_test = np_utils.to_categorical(C.classes_to_include.index(cls), 6)\n",
    "loss = K.categorical_crossentropy(y_test, M.output)"
   ]
  },
  {
   "cell_type": "code",
   "execution_count": 253,
   "metadata": {
    "ExecuteTime": {
     "end_time": "2018-05-14T03:34:21.372642Z",
     "start_time": "2018-05-14T03:34:20.989474Z"
    },
    "collapsed": true
   },
   "outputs": [],
   "source": [
    "W = M.get_weights()\n",
    "del W[20:22]\n",
    "del W[14:16]\n",
    "del W[8:10]\n",
    "del W[-4:-2]"
   ]
  },
  {
   "cell_type": "code",
   "execution_count": 282,
   "metadata": {
    "ExecuteTime": {
     "end_time": "2018-05-14T03:59:38.290645Z",
     "start_time": "2018-05-14T03:59:38.284628Z"
    },
    "collapsed": true
   },
   "outputs": [],
   "source": [
    "def perturb_weights(W_true, t):\n",
    "    eps = 1e-5\n",
    "    W = copy.deepcopy(W_true)\n",
    "    t_ix = 0\n",
    "    \n",
    "    for w_ix in range(len(W)):\n",
    "        W[w_ix] += eps * np.reshape(t[t_ix:t_ix+W[w_ix].size], W[w_ix].shape)\n",
    "        t_ix += W[w_ix].size\n",
    "        \n",
    "    return W"
   ]
  },
  {
   "cell_type": "code",
   "execution_count": 283,
   "metadata": {
    "ExecuteTime": {
     "end_time": "2018-05-14T03:59:40.378368Z",
     "start_time": "2018-05-14T03:59:40.369345Z"
    },
    "collapsed": true
   },
   "outputs": [],
   "source": [
    "W_new = perturb_weights(W, g_test)"
   ]
  },
  {
   "cell_type": "markdown",
   "metadata": {
    "ExecuteTime": {
     "end_time": "2018-05-14T03:57:41.535479Z",
     "start_time": "2018-05-14T03:57:39.791290Z"
    }
   },
   "source": [
    "g = K.gradients(loss, M.trainable_weights)\n",
    "g_fxn = K.function(M.trainable_weights + [M.input, K.learning_phase()], g)\n",
    "\n",
    "W_new = perturb_weights(W, g_test)\n",
    "g_i_plus = g_fxn(W_new + [x_test, 0])\n",
    "g_i_plus = np.concatenate([x.flatten() for x in g_test_plus], 0)\n",
    "\n",
    "g_test = g_fxn(W + [x_test, 0])\n",
    "g_test = np.concatenate([x.flatten() for x in g_test], 0)"
   ]
  },
  {
   "cell_type": "code",
   "execution_count": 288,
   "metadata": {
    "ExecuteTime": {
     "end_time": "2018-05-14T04:00:20.440401Z",
     "start_time": "2018-05-14T04:00:20.402301Z"
    },
    "collapsed": true
   },
   "outputs": [],
   "source": []
  },
  {
   "cell_type": "code",
   "execution_count": 90,
   "metadata": {
    "ExecuteTime": {
     "end_time": "2018-05-14T01:01:44.765917Z",
     "start_time": "2018-05-14T01:01:43.086242Z"
    }
   },
   "outputs": [],
   "source": [
    "g = K.gradients(loss, M.trainable_weights)\n",
    "g_fxn = K.function([M.input, K.learning_phase()], g)\n",
    "g_test = g_fxn([x_test, 0])\n",
    "g_test = np.concatenate([x.flatten() for x in g_test], 0)"
   ]
  },
  {
   "cell_type": "code",
   "execution_count": 54,
   "metadata": {
    "ExecuteTime": {
     "end_time": "2018-05-14T00:52:33.240376Z",
     "start_time": "2018-05-14T00:52:33.236367Z"
    },
    "collapsed": true
   },
   "outputs": [],
   "source": [
    "x_test = np.load(join(C.orig_dir, cls, lesion_id+\".npy\"))\n",
    "x_test = np.expand_dims(x_test,0)"
   ]
  },
  {
   "cell_type": "code",
   "execution_count": null,
   "metadata": {
    "collapsed": true
   },
   "outputs": [],
   "source": [
    "def get_grad(lesion_id, perturb_W=None):\n",
    "    C = config.Config()\n",
    "    \n",
    "    cls = voi_df.loc[lesion_id][\"cls\"]\n",
    "    x_i = np.load(join(C.orig_dir, cls, lesion_id+\".npy\"))\n",
    "    x_i = np.expand_dims(x_i,0)\n",
    "\n",
    "    y_i = np_utils.to_categorical(C.classes_to_include.index(cls), 6)\n",
    "    loss_i = K.categorical_crossentropy(y_i, M.output)\n",
    "\n",
    "    g_fxn = K.function([M.input, K.learning_phase()], K.gradients(loss_i, M.trainable_weights))\n",
    "    g_i = g_fxn([x_i, 0])\n",
    "    g_i = np.concatenate([x.flatten() for x in g_i], 0)\n",
    "    \n",
    "    if perturb_W is not None:\n",
    "        g_fxn = K.function(M.trainable_weights + [M.input, K.learning_phase()], K.gradients(loss_i, M.trainable_weights))\n",
    "        g_i_plus = g_fxn(perturb_W + [x_i, 0])\n",
    "        g_i_plus = np.concatenate([x.flatten() for x in g_i_plus], 0)\n",
    "        \n",
    "        return g_i, g_i_plus\n",
    "    \n",
    "    return g_i"
   ]
  },
  {
   "cell_type": "code",
   "execution_count": 336,
   "metadata": {
    "ExecuteTime": {
     "end_time": "2018-05-14T04:47:16.208455Z",
     "start_time": "2018-05-14T04:47:16.181355Z"
    }
   },
   "outputs": [],
   "source": [
    "def get_HVP(W_new, Z_sample):\n",
    "    \n",
    "    Ht = np.zeros(g_test.shape)\n",
    "    for lesion_id in Z_sample:\n",
    "        cls = voi_df.loc[lesion_id][\"cls\"]\n",
    "        x_i = np.load(join(C.orig_dir, cls, lesion_id+\".npy\"))\n",
    "        x_i = np.expand_dims(x_i,0)\n",
    "\n",
    "        y_i = np_utils.to_categorical(C.classes_to_include.index(cls), 6)\n",
    "        loss_i = K.categorical_crossentropy(y_i, M.output)\n",
    "\n",
    "        g_fxn = K.function(M.trainable_weights + [M.input, K.learning_phase()], K.gradients(loss_i, M.trainable_weights))\n",
    "\n",
    "        g_i_plus = g_fxn(W_new + [x_i, 0])\n",
    "        g_i_plus = np.concatenate([x.flatten() for x in g_i_plus], 0)\n",
    "\n",
    "        g_fxn = K.function([M.input, K.learning_phase()], K.gradients(loss_i, M.trainable_weights))\n",
    "\n",
    "        g_i = g_fxn([x_i, 0])\n",
    "        g_i = np.concatenate([x.flatten() for x in g_i], 0)\n",
    "\n",
    "        Ht += (g_i_plus - g_i)/eps\n",
    "        \n",
    "    return Ht / len(Z_sample)"
   ]
  },
  {
   "cell_type": "code",
   "execution_count": 328,
   "metadata": {
    "ExecuteTime": {
     "end_time": "2018-05-14T04:38:17.298203Z",
     "start_time": "2018-05-14T04:38:17.295195Z"
    }
   },
   "outputs": [],
   "source": [
    "Z_full = np.concatenate([orig_data_dict[cls][-1] for cls in C.classes_to_include],0)"
   ]
  },
  {
   "cell_type": "code",
   "execution_count": 329,
   "metadata": {
    "ExecuteTime": {
     "end_time": "2018-05-14T04:38:17.312269Z",
     "start_time": "2018-05-14T04:38:17.299205Z"
    },
    "collapsed": true
   },
   "outputs": [],
   "source": [
    "t_k = np.zeros(g_test.shape)\n",
    "r_k = g_test#-Ht\n",
    "p_k = r_k"
   ]
  },
  {
   "cell_type": "code",
   "execution_count": 337,
   "metadata": {
    "ExecuteTime": {
     "end_time": "2018-05-14T05:17:26.362139Z",
     "start_time": "2018-05-14T04:47:17.524894Z"
    },
    "collapsed": true
   },
   "outputs": [],
   "source": [
    "num_iters = 10\n",
    "for _ in range(num_iters):\n",
    "    Z_sample = random.sample(list(Z_full), 15)\n",
    "    \n",
    "    W_new = perturb_weights(W, p_k)\n",
    "    Hp = get_HVP(W_new, Z_sample)\n",
    "\n",
    "    alpha = -np.dot(r_k, r_k) / np.dot(p_k, Hp)\n",
    "    t_k += alpha * p_k\n",
    "    r_k2 = r_k - alpha * Hp\n",
    "\n",
    "    beta = np.dot(r_k2, r_k2) / np.dot(r_k, r_k)\n",
    "    r_k = r_k2\n",
    "    p_k = r_k + beta*p_k"
   ]
  },
  {
   "cell_type": "code",
   "execution_count": 338,
   "metadata": {
    "ExecuteTime": {
     "end_time": "2018-05-14T05:17:26.675445Z",
     "start_time": "2018-05-14T05:17:26.665942Z"
    },
    "collapsed": true
   },
   "outputs": [],
   "source": [
    "s_test = t_k"
   ]
  },
  {
   "cell_type": "code",
   "execution_count": null,
   "metadata": {
    "collapsed": true
   },
   "outputs": [],
   "source": [
    "np.dot()"
   ]
  }
 ],
 "metadata": {
  "kernelspec": {
   "display_name": "Python 3",
   "language": "python",
   "name": "python3"
  },
  "language_info": {
   "codemirror_mode": {
    "name": "ipython",
    "version": 3
   },
   "file_extension": ".py",
   "mimetype": "text/x-python",
   "name": "python",
   "nbconvert_exporter": "python",
   "pygments_lexer": "ipython3",
   "version": "3.5.0"
  },
  "varInspector": {
   "cols": {
    "lenName": 16,
    "lenType": 16,
    "lenVar": 40
   },
   "kernels_config": {
    "python": {
     "delete_cmd_postfix": "",
     "delete_cmd_prefix": "del ",
     "library": "var_list.py",
     "varRefreshCmd": "print(var_dic_list())"
    },
    "r": {
     "delete_cmd_postfix": ") ",
     "delete_cmd_prefix": "rm(",
     "library": "var_list.r",
     "varRefreshCmd": "cat(var_dic_list()) "
    }
   },
   "types_to_exclude": [
    "module",
    "function",
    "builtin_function_or_method",
    "instance",
    "_Feature"
   ],
   "window_display": false
  }
 },
 "nbformat": 4,
 "nbformat_minor": 2
}
