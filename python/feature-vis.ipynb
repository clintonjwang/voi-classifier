{
 "cells": [
  {
   "cell_type": "code",
   "execution_count": 1,
   "metadata": {
    "ExecuteTime": {
     "end_time": "2018-05-22T15:18:31.114321Z",
     "start_time": "2018-05-22T15:18:26.501210Z"
    }
   },
   "outputs": [
    {
     "name": "stderr",
     "output_type": "stream",
     "text": [
      "C:\\Users\\Clinton\\AppData\\Local\\conda\\conda\\envs\\old-keras\\lib\\site-packages\\h5py\\__init__.py:34: FutureWarning: Conversion of the second argument of issubdtype from `float` to `np.floating` is deprecated. In future, it will be treated as `np.float64 == np.dtype(float).type`.\n",
      "  from ._conv import register_converters as _register_converters\n",
      "Using TensorFlow backend.\n",
      "C:\\Users\\Clinton\\AppData\\Local\\conda\\conda\\envs\\old-keras\\lib\\site-packages\\dicom\\__init__.py:53: UserWarning: \n",
      "This code is using an older version of pydicom, which is no longer \n",
      "maintained as of Jan 2017.  You can access the new pydicom features and API \n",
      "by installing `pydicom` from PyPI.\n",
      "See 'Transitioning to pydicom 1.x' section at pydicom.readthedocs.org \n",
      "for more information.\n",
      "\n",
      "  warnings.warn(msg)\n"
     ]
    }
   ],
   "source": [
    "import copy\n",
    "import csv\n",
    "import glob\n",
    "import importlib\n",
    "import itertools\n",
    "import operator\n",
    "import os\n",
    "import random\n",
    "import time\n",
    "from math import exp, log, pi, sqrt\n",
    "from os.path import *\n",
    "\n",
    "import cvxpy as cvx\n",
    "import keras.layers as layers\n",
    "import keras.models\n",
    "import matplotlib.pyplot as plt\n",
    "import numpy as np\n",
    "import pandas as pd\n",
    "import scipy\n",
    "import scipy.sparse as sp\n",
    "from keras import backend as K\n",
    "from keras.callbacks import EarlyStopping\n",
    "from keras.models import Model\n",
    "from keras.optimizers import Adam\n",
    "from keras.utils import np_utils\n",
    "from numba import njit\n",
    "from scipy.optimize import minimize\n",
    "from skimage.transform import rescale, resize\n",
    "from sklearn.decomposition import NMF, PCA\n",
    "from sklearn.metrics import accuracy_score, confusion_matrix, f1_score\n",
    "\n",
    "import cnn_builder as cbuild\n",
    "import config\n",
    "import cv2\n",
    "import dr_methods as drm\n",
    "import feature_interpretation as cnna\n",
    "import niftiutils.helper_fxns as hf\n",
    "import niftiutils.transforms as tr\n",
    "import niftiutils.visualization as vis\n",
    "import voi_methods as vm\n",
    "\n",
    "%matplotlib inline\n",
    "np.set_printoptions(3)"
   ]
  },
  {
   "cell_type": "code",
   "execution_count": 2,
   "metadata": {
    "ExecuteTime": {
     "end_time": "2018-05-22T15:18:31.128566Z",
     "start_time": "2018-05-22T15:18:31.121548Z"
    },
    "collapsed": true
   },
   "outputs": [],
   "source": [
    "importlib.reload(config)\n",
    "importlib.reload(hf)\n",
    "importlib.reload(cbuild)\n",
    "C = config.Config()"
   ]
  },
  {
   "cell_type": "markdown",
   "metadata": {
    "heading_collapsed": true
   },
   "source": [
    "## Misc"
   ]
  },
  {
   "cell_type": "markdown",
   "metadata": {
    "ExecuteTime": {
     "end_time": "2018-04-18T04:53:10.135921Z",
     "start_time": "2018-04-18T04:53:10.053616Z"
    },
    "hidden": true
   },
   "source": [
    "preds=model.predict(X_test)"
   ]
  },
  {
   "cell_type": "markdown",
   "metadata": {
    "ExecuteTime": {
     "end_time": "2018-04-18T04:53:10.545281Z",
     "start_time": "2018-04-18T04:53:10.541242Z"
    },
    "hidden": true
   },
   "source": [
    "pred=[list(P).index(max(P)) for P in preds]"
   ]
  },
  {
   "cell_type": "code",
   "execution_count": 5,
   "metadata": {
    "ExecuteTime": {
     "end_time": "2018-04-29T20:54:48.028204Z",
     "start_time": "2018-04-29T20:54:42.094395Z"
    },
    "collapsed": true,
    "hidden": true,
    "scrolled": true
   },
   "outputs": [],
   "source": [
    "Z_reader = ['E103312835_1','12823036_0','12569915_0','E102093118_0','E102782525_0','12799652_0','E100894274_0','12874178_3','E100314676_0','12842070_0','13092836_2','12239783_0','12783467_0','13092966_0','E100962970_0','E100183257_1','E102634440_0','E106182827_0','12582632_0','E100121654_0','E100407633_0','E105310461_0','12788616_0','E101225606_0','12678910_1','E101083458_1','12324408_0','13031955_0','E101415263_0','E103192914_0','12888679_2','E106096969_0','E100192709_1','13112385_1','E100718398_0','12207268_0','E105244287_0','E102095465_0','E102613189_0','12961059_0','11907521_0','E105311123_0','12552705_0','E100610622_0','12975280_0','E105918926_0','E103020139_1','E101069048_1','E105427046_0','13028374_0','E100262351_0','12302576_0','12451831_0','E102929168_0','E100383453_0','E105344747_0','12569826_0','E100168661_0','12530153_0','E104697262_0']\n",
    "orig_data_dict, num_samples = cbuild._collect_unaug_data()\n",
    "\n",
    "features_by_cls, feat_count = cnna.collect_features()\n",
    "feat_count.pop(\"homogeneous texture\")\n",
    "#feat_count.pop(\"central scar\")\n",
    "all_features = sorted(list(feat_count.keys()))\n",
    "cls_features = {f: [c for c in C.classes_to_include if f in features_by_cls[c]] for f in all_features}\n",
    "\n",
    "Z_features = cnna.get_annotated_files(features_by_cls)\n",
    "Z_features.pop(\"homogeneous texture\")\n",
    "#Z_features.pop(\"central scar\")\n",
    "\n",
    "num_features = len(all_features)\n",
    "\n",
    "rcnn = False\n",
    "num_channels = 128#64*3\n",
    "\n",
    "voi_df = drm.get_voi_dfs()[0]"
   ]
  },
  {
   "cell_type": "code",
   "execution_count": null,
   "metadata": {
    "ExecuteTime": {
     "end_time": "2018-04-29T20:54:48.504020Z",
     "start_time": "2018-04-29T20:54:48.494860Z"
    },
    "collapsed": true,
    "hidden": true
   },
   "outputs": [],
   "source": [
    "for f in sorted(Z_features):\n",
    "    print(f, len(Z_features[f]))"
   ]
  },
  {
   "cell_type": "markdown",
   "metadata": {
    "ExecuteTime": {
     "end_time": "2018-04-21T15:30:54.269214Z",
     "start_time": "2018-04-21T15:30:46.249404Z"
    },
    "hidden": true
   },
   "source": [
    "M = keras.models.load_model(join(C.model_dir, \"model_reader_new1.hdf5\"))"
   ]
  },
  {
   "cell_type": "code",
   "execution_count": null,
   "metadata": {
    "ExecuteTime": {
     "end_time": "2018-04-29T22:35:24.698084Z",
     "start_time": "2018-04-29T22:15:14.813374Z"
    },
    "collapsed": true,
    "hidden": true
   },
   "outputs": [],
   "source": [
    "C = config.Config()\n",
    "T = config.Hyperparams()\n",
    "T.get_best_hyperparams()\n",
    "T.padding = ['same', 'same']\n",
    "T.epochs = 25\n",
    "T.steps_per_epoch = 300\n",
    "Z_reader = ['E103312835_1','12823036_0','12569915_0','E102093118_0','E102782525_0','12799652_0','E100894274_0','12874178_3','E100314676_0','12842070_0','13092836_2','12239783_0','12783467_0','13092966_0','E100962970_0','E100183257_1','E102634440_0','E106182827_0','12582632_0','E100121654_0','E100407633_0','E105310461_0','12788616_0','E101225606_0','12678910_1','E101083458_1','12324408_0','13031955_0','E101415263_0','E103192914_0','12888679_2','E106096969_0','E100192709_1','13112385_1','E100718398_0','12207268_0','E105244287_0','E102095465_0','E102613189_0','12961059_0','11907521_0','E105311123_0','12552705_0','E100610622_0','12975280_0','E105918926_0','E103020139_1','E101069048_1','E105427046_0','13028374_0','E100262351_0','12302576_0','12451831_0','E102929168_0','E100383453_0','E105344747_0','12569826_0','E100168661_0','12530153_0','E104697262_0']\n",
    "\n",
    "ix=0\n",
    "X_test, Y_test, train_generator, num_samples, train_orig, Z = cbuild.get_cnn_data(n=4, Z_test_fixed=Z_reader)\n",
    "Z_test, Z_train_orig = Z\n",
    "X_train_orig, Y_train_orig = train_orig\n",
    "model = cbuild.build_cnn_hyperparams(T)\n",
    "hist = model.fit_generator(train_generator, steps_per_epoch=T.steps_per_epoch, epochs=T.epochs, validation_data=[X_test, Y_test])\n",
    "model.save(join(C.model_dir, \"model_reader_newpad%d.hdf5\" % ix))"
   ]
  },
  {
   "cell_type": "code",
   "execution_count": null,
   "metadata": {
    "ExecuteTime": {
     "end_time": "2018-04-26T03:22:33.608515Z",
     "start_time": "2018-04-26T03:21:44.417356Z"
    },
    "collapsed": true,
    "hidden": true
   },
   "outputs": [],
   "source": [
    "importlib.reload(cbuild)\n",
    "importlib.reload(config)\n",
    "C = config.Config()\n",
    "T = config.Hyperparams()\n",
    "T.get_best_hyperparams()\n",
    "T.epochs = 25\n",
    "T.steps_per_epoch = 300\n",
    "Z_reader = ['E103312835_1','12823036_0','12569915_0','E102093118_0','E102782525_0','12799652_0','E100894274_0','12874178_3','E100314676_0','12842070_0','13092836_2','12239783_0','12783467_0','13092966_0','E100962970_0','E100183257_1','E102634440_0','E106182827_0','12582632_0','E100121654_0','E100407633_0','E105310461_0','12788616_0','E101225606_0','12678910_1','E101083458_1','12324408_0','13031955_0','E101415263_0','E103192914_0','12888679_2','E106096969_0','E100192709_1','13112385_1','E100718398_0','12207268_0','E105244287_0','E102095465_0','E102613189_0','12961059_0','11907521_0','E105311123_0','12552705_0','E100610622_0','12975280_0','E105918926_0','E103020139_1','E101069048_1','E105427046_0','13028374_0','E100262351_0','12302576_0','12451831_0','E102929168_0','E100383453_0','E105344747_0','12569826_0','E100168661_0','12530153_0','E104697262_0']\n",
    "\n",
    "for ix in range(40,41):\n",
    "    X_test, Y_test, train_generator, num_samples, train_orig, Z = cbuild.get_cnn_data(n=4, Z_test_fixed=Z_reader)\n",
    "    Z_test, Z_train_orig = Z\n",
    "    X_train_orig, Y_train_orig = train_orig\n",
    "    model = cbuild.build_cnn_hyperparams(T)\n",
    "    hist = model.fit_generator(train_generator, steps_per_epoch=T.steps_per_epoch, epochs=T.epochs, validation_data=[X_test, Y_test])\n",
    "    model.save(join(C.model_dir, \"model_reader_new%d.hdf5\" % ix))"
   ]
  },
  {
   "cell_type": "code",
   "execution_count": 7,
   "metadata": {
    "ExecuteTime": {
     "end_time": "2018-04-27T13:11:22.463522Z",
     "start_time": "2018-04-27T13:11:22.076492Z"
    },
    "collapsed": true,
    "hidden": true
   },
   "outputs": [],
   "source": [
    "super_cm=[]\n",
    "X_test, Y_test, train_generator, num_samples, train_orig, Z = cbuild.get_cnn_data(n=4, Z_test_fixed=Z_reader)\n",
    "for model_ix in range(21,41):\n",
    "    M = keras.models.load_model(join(C.model_dir, \"model_reader_new%d.hdf5\" % model_ix))\n",
    "    Y_pred = M.predict(X_test)\n",
    "    y_true = np.array([max(enumerate(x), key=operator.itemgetter(1))[0] for x in Y_test])\n",
    "    y_pred = np.array([max(enumerate(x), key=operator.itemgetter(1))[0] for x in Y_pred])\n",
    "    super_cm.append(confusion_matrix(y_true, y_pred))#M.evaluate(X_test, Y_test)[1])"
   ]
  },
  {
   "cell_type": "code",
   "execution_count": 87,
   "metadata": {
    "ExecuteTime": {
     "end_time": "2018-04-26T21:41:01.668022Z",
     "start_time": "2018-04-26T21:41:01.659264Z"
    },
    "collapsed": true,
    "hidden": true
   },
   "outputs": [],
   "source": [
    "hf.pickle_dump(super_cm, join(C.base_dir, \"data\", \"supercm.bin\"))"
   ]
  },
  {
   "cell_type": "code",
   "execution_count": 11,
   "metadata": {
    "ExecuteTime": {
     "end_time": "2018-04-27T13:11:59.458539Z",
     "start_time": "2018-04-27T13:11:59.456553Z"
    },
    "collapsed": true,
    "hidden": true
   },
   "outputs": [],
   "source": [
    "super_cm = hf.pickle_load(join(C.base_dir, \"data\", \"supercm.bin\"))"
   ]
  },
  {
   "cell_type": "code",
   "execution_count": 12,
   "metadata": {
    "ExecuteTime": {
     "end_time": "2018-04-27T13:12:12.176908Z",
     "start_time": "2018-04-27T13:12:12.174902Z"
    },
    "collapsed": true,
    "hidden": true
   },
   "outputs": [],
   "source": [
    "sumcm = np.stack(super_cm,0).sum(0)"
   ]
  },
  {
   "cell_type": "code",
   "execution_count": 13,
   "metadata": {
    "ExecuteTime": {
     "end_time": "2018-04-27T13:12:19.537665Z",
     "start_time": "2018-04-27T13:12:19.529645Z"
    },
    "hidden": true
   },
   "outputs": [
    {
     "name": "stdout",
     "output_type": "stream",
     "text": [
      "164\t0\t5\t0\t1\t29\t\n",
      "0\t153\t7\t0\t0\t4\t\n",
      "2\t35\t188\t0\t2\t2\t\n",
      "0\t0\t0\t199\t1\t0\t\n",
      "0\t0\t0\t1\t187\t0\t\n",
      "34\t12\t0\t0\t9\t165\t\n"
     ]
    }
   ],
   "source": [
    "for i in range(C.nb_classes):\n",
    "    for j in range(C.nb_classes):\n",
    "        print(sumcm[j,i],end='\\t')\n",
    "    print()"
   ]
  },
  {
   "cell_type": "code",
   "execution_count": 12,
   "metadata": {
    "ExecuteTime": {
     "end_time": "2018-04-26T03:23:32.230194Z",
     "start_time": "2018-04-26T03:23:30.929525Z"
    },
    "collapsed": true,
    "hidden": true
   },
   "outputs": [],
   "source": [
    "for f in Z_features:\n",
    "    save_path = \"D:\\\\labeled_features\\\\\"+f.replace('/', '-')\n",
    "    if not exists(save_path):\n",
    "        os.makedirs(save_path)\n",
    "    vm.save_vois_as_imgs(lesion_ids=Z_features[f], save_dir=save_path, separate_by_cls=False)"
   ]
  },
  {
   "cell_type": "code",
   "execution_count": null,
   "metadata": {
    "ExecuteTime": {
     "end_time": "2018-04-22T02:43:46.458678Z",
     "start_time": "2018-04-22T02:42:58.955486Z"
    },
    "collapsed": true,
    "hidden": true
   },
   "outputs": [],
   "source": [
    "vm.reset_accnum(\"E101483252\")"
   ]
  },
  {
   "cell_type": "code",
   "execution_count": null,
   "metadata": {
    "ExecuteTime": {
     "end_time": "2018-04-22T02:46:46.578046Z",
     "start_time": "2018-04-22T02:46:46.559998Z"
    },
    "collapsed": true,
    "hidden": true
   },
   "outputs": [],
   "source": [
    "voi_df[voi_df[\"acc_num\"] == \"E103985934\"]"
   ]
  },
  {
   "cell_type": "markdown",
   "metadata": {},
   "source": [
    "# Feature ID"
   ]
  },
  {
   "cell_type": "code",
   "execution_count": 51,
   "metadata": {
    "ExecuteTime": {
     "end_time": "2018-04-21T15:35:09.249289Z",
     "start_time": "2018-04-21T15:35:09.066386Z"
    },
    "collapsed": true
   },
   "outputs": [],
   "source": [
    "feature_sheet = pd.read_excel(C.xls_name, \"Descriptions\")"
   ]
  },
  {
   "cell_type": "code",
   "execution_count": 64,
   "metadata": {
    "ExecuteTime": {
     "end_time": "2018-04-21T15:48:41.316722Z",
     "start_time": "2018-04-21T15:48:40.735319Z"
    },
    "collapsed": true
   },
   "outputs": [],
   "source": [
    "orig_data_dict, num_samples = cbuild._collect_unaug_data()\n",
    "all_imgs = [orig_data_dict[cls][0] for cls in C.classes_to_include]\n",
    "all_imgs = np.array(hf.flatten(all_imgs))\n",
    "\n",
    "all_lesionids = [orig_data_dict[cls][1] for cls in C.classes_to_include]\n",
    "all_lesionids = np.array(hf.flatten(all_lesionids))"
   ]
  },
  {
   "cell_type": "code",
   "execution_count": 57,
   "metadata": {
    "ExecuteTime": {
     "end_time": "2018-04-26T16:31:17.111071Z",
     "start_time": "2018-04-26T14:40:28.164722Z"
    },
    "collapsed": true
   },
   "outputs": [],
   "source": [
    "importlib.reload(cnna)\n",
    "DFs = cnna.feature_id_bulk(range(21,41))\n",
    "#DFs += cnna.feature_id_bulk(range(11,21))"
   ]
  },
  {
   "cell_type": "code",
   "execution_count": 58,
   "metadata": {
    "ExecuteTime": {
     "end_time": "2018-04-26T16:31:19.624834Z",
     "start_time": "2018-04-26T16:31:19.590412Z"
    },
    "collapsed": true
   },
   "outputs": [],
   "source": [
    "hf.pickle_dump(DFs, join(C.base_dir, \"data\", \"DFs4.bin\"))"
   ]
  },
  {
   "cell_type": "code",
   "execution_count": 7,
   "metadata": {
    "ExecuteTime": {
     "end_time": "2018-04-29T20:55:04.682727Z",
     "start_time": "2018-04-29T20:55:04.668685Z"
    },
    "collapsed": true
   },
   "outputs": [],
   "source": [
    "DFs = hf.pickle_load(join(C.base_dir, \"data\", \"DFs4.bin\"))"
   ]
  },
  {
   "cell_type": "code",
   "execution_count": 8,
   "metadata": {
    "ExecuteTime": {
     "end_time": "2018-04-29T20:55:15.229666Z",
     "start_time": "2018-04-29T20:55:15.222646Z"
    },
    "collapsed": true
   },
   "outputs": [],
   "source": [
    "filtered_DFs = copy.deepcopy(DFs)"
   ]
  },
  {
   "cell_type": "code",
   "execution_count": 9,
   "metadata": {
    "ExecuteTime": {
     "end_time": "2018-04-29T20:55:18.791784Z",
     "start_time": "2018-04-29T20:55:16.634575Z"
    },
    "collapsed": true,
    "scrolled": true
   },
   "outputs": [],
   "source": [
    "for df in filtered_DFs:\n",
    "    for ix, row in df.iterrows():\n",
    "        if row[-7] > row[-5] + 50:# and row[-3] < 0:\n",
    "            row[-6] = np.nan\n",
    "            row[-4] = np.nan\n",
    "            row[-2] = np.nan\n",
    "        elif row[-5] > row[-3] + 25:# and row[-3] < 0:\n",
    "            row[-4] = np.nan\n",
    "            row[-2] = np.nan\n",
    "        elif row[-3] > row[-1] + 25:# and row[-1] < 0:\n",
    "            row[-2] = np.nan\n",
    "        df.loc[ix] = row"
   ]
  },
  {
   "cell_type": "code",
   "execution_count": 10,
   "metadata": {
    "ExecuteTime": {
     "end_time": "2018-04-29T20:55:58.159769Z",
     "start_time": "2018-04-29T20:55:20.185114Z"
    },
    "collapsed": true
   },
   "outputs": [],
   "source": [
    "importlib.reload(cnna)\n",
    "feat_df, cls_df, MISCLS, FIRST, MISFIRST, prec_history, recall_history = cnna.process_feat_id_dfs(all_features, filtered_DFs)"
   ]
  },
  {
   "cell_type": "code",
   "execution_count": 22,
   "metadata": {
    "ExecuteTime": {
     "end_time": "2018-04-29T21:05:07.747964Z",
     "start_time": "2018-04-29T21:05:07.739943Z"
    },
    "scrolled": true
   },
   "outputs": [
    {
     "name": "stdout",
     "output_type": "stream",
     "text": [
      "arterial phase enhancement - 0.05620322746301306\n",
      "central scar - 0.21664822839511327\n",
      "enhancing rim/capsule - 0.07474060805586594\n",
      "heterogeneous lesion - 0.048344535913172205\n",
      "hyperenhancing mass on delayed phase - 0.062250531195965055\n",
      "hypoenhancing core - 0.044931090620768846\n",
      "infiltrative growth - 0.1133230392883992\n",
      "isointense on venous/delayed phase - 0.08650671957653717\n",
      "nodular growth - 0.14020427998584017\n",
      "nodular or discontinuous enhancement - 0.09967267620633345\n",
      "progressive centripetal filling - 0.08493900405297754\n",
      "progressive enhancement - 0.05388530552653148\n",
      "thin-walled - 0.08544638233285431\n",
      "washout - 0.10044269089980018\n"
     ]
    }
   ],
   "source": [
    "for k in sorted(all_features):\n",
    "    print(k,'-',np.std(prec_history[k]))"
   ]
  },
  {
   "cell_type": "code",
   "execution_count": 28,
   "metadata": {
    "ExecuteTime": {
     "end_time": "2018-04-29T21:34:15.573803Z",
     "start_time": "2018-04-29T21:34:15.548768Z"
    },
    "collapsed": true
   },
   "outputs": [],
   "source": [
    "filtered_DFs[9].to_excel(\"D:\\\\best_results.xlsx\")"
   ]
  },
  {
   "cell_type": "code",
   "execution_count": null,
   "metadata": {
    "ExecuteTime": {
     "end_time": "2018-04-29T21:28:04.074938Z",
     "start_time": "2018-04-29T21:28:04.070956Z"
    },
    "collapsed": true
   },
   "outputs": [],
   "source": [
    "prec_history[\"total\"].index(max(prec_history[\"total\"]))"
   ]
  },
  {
   "cell_type": "code",
   "execution_count": null,
   "metadata": {
    "ExecuteTime": {
     "end_time": "2018-04-29T21:02:59.056464Z",
     "start_time": "2018-04-29T21:02:59.052452Z"
    },
    "collapsed": true
   },
   "outputs": [],
   "source": [
    "np.std(prec_history[\"total\"])"
   ]
  },
  {
   "cell_type": "code",
   "execution_count": 36,
   "metadata": {
    "ExecuteTime": {
     "end_time": "2018-04-19T03:53:54.222439Z",
     "start_time": "2018-04-19T03:53:54.217452Z"
    },
    "collapsed": true,
    "scrolled": true
   },
   "outputs": [],
   "source": [
    "np.save(join(C.base_dir, \"data\", \"miscls\"), MISCLS)\n",
    "np.save(join(C.base_dir, \"data\", \"first\"), FIRST)\n",
    "np.save(join(C.base_dir, \"data\", \"misfirst\"), MISFIRST)"
   ]
  },
  {
   "cell_type": "code",
   "execution_count": 78,
   "metadata": {
    "ExecuteTime": {
     "end_time": "2018-04-26T20:41:22.546333Z",
     "start_time": "2018-04-26T20:41:22.538312Z"
    }
   },
   "outputs": [
    {
     "name": "stdout",
     "output_type": "stream",
     "text": [
      "3339.0 3080.0\n"
     ]
    },
    {
     "data": {
      "text/plain": [
       "(0.7646001796945193, 0.8288961038961039)"
      ]
     },
     "execution_count": 78,
     "metadata": {},
     "output_type": "execute_result"
    }
   ],
   "source": [
    "print(cls_df[\"pred_freq\"].sum(), cls_df[\"true_freq\"].sum())\n",
    "(cls_df[\"num_correct\"].sum()/cls_df[\"pred_freq\"].sum(), cls_df[\"num_correct\"].sum()/cls_df[\"true_freq\"].sum())"
   ]
  },
  {
   "cell_type": "code",
   "execution_count": 63,
   "metadata": {
    "ExecuteTime": {
     "end_time": "2018-04-26T19:59:18.506782Z",
     "start_time": "2018-04-26T19:59:18.459622Z"
    },
    "collapsed": true
   },
   "outputs": [],
   "source": [
    "feat_df.to_csv(join(C.base_dir, \"data\", \"feat_df.csv\"))\n",
    "cls_df.to_csv(join(C.base_dir, \"data\", \"cls_df.csv\"))"
   ]
  },
  {
   "cell_type": "markdown",
   "metadata": {},
   "source": [
    "answer_features = hf.flatten(answer_key[['feature_1', 'feature_2', 'feature_3', 'feature_4']].values)\n",
    "unique, counts = np.unique(answer_features, return_counts=True)\n",
    "base_freq = dict(zip(unique, counts))\n",
    "base_freq.pop('nan')\n",
    "\n",
    "features = hf.flatten(df[['feature_1', 'feature_2', 'feature_3', 'feature_4']].values)\n",
    "unique, counts = np.unique(features, return_counts=True)\n",
    "freq = dict(zip(unique, counts))\n",
    "for f in base_freq.keys():\n",
    "    if f in freq:\n",
    "        print(f, freq[f])\n",
    "    else:\n",
    "        print(f, 0)"
   ]
  },
  {
   "cell_type": "markdown",
   "metadata": {
    "heading_collapsed": true
   },
   "source": [
    "# Feature mapping"
   ]
  },
  {
   "cell_type": "markdown",
   "metadata": {
    "heading_collapsed": true,
    "hidden": true
   },
   "source": [
    "## Load model"
   ]
  },
  {
   "cell_type": "code",
   "execution_count": 3,
   "metadata": {
    "ExecuteTime": {
     "end_time": "2018-04-10T13:15:50.053227Z",
     "start_time": "2018-04-10T13:15:43.456367Z"
    },
    "collapsed": true,
    "hidden": true
   },
   "outputs": [],
   "source": [
    "model = keras.models.load_model(join(C.model_dir, \"model_no_pad.hdf5\"))\n",
    "front_model = cbuild.pretrain_cnn(model, padding=['same','same'], last_layer=-3, add_activ=True)"
   ]
  },
  {
   "cell_type": "code",
   "execution_count": null,
   "metadata": {
    "collapsed": true,
    "hidden": true
   },
   "outputs": [],
   "source": [
    "model = keras.models.load_model(join(C.model_dir, \"model_resid1.hdf5\"))\n",
    "front_model = cbuild.pretrain_cnn(model, padding=['same','same'], pool_sizes = [(2,2,2),(2,2,2)],\n",
    "                                              f=[64,64,64,64,64,64,64], skip_con=True, last_layer=-4)"
   ]
  },
  {
   "cell_type": "code",
   "execution_count": null,
   "metadata": {
    "collapsed": true,
    "hidden": true
   },
   "outputs": [],
   "source": [
    "model = keras.models.load_model(join(C.model_dir, \"model_rcnn1.hdf5\"))\n",
    "front_model = cbuild.build_rcnn(trained_model=model, padding=['same','same'], last_layer=-3, kernel_size=(3,3,2),\n",
    "                                    f=[64,64,64,64,64], pool_sizes=[(2,2,2),(2,2,2)], add_activ=True)"
   ]
  },
  {
   "cell_type": "code",
   "execution_count": 46,
   "metadata": {
    "ExecuteTime": {
     "end_time": "2018-04-29T23:00:44.694930Z",
     "start_time": "2018-04-29T23:00:36.069780Z"
    },
    "collapsed": true,
    "hidden": true
   },
   "outputs": [],
   "source": [
    "model_ix = 0\n",
    "model = keras.models.load_model(join(C.model_dir, \"model_reader_newpad%d.hdf5\" % model_ix)) #models_305\n",
    "front_model = cbuild.pretrain_cnn(model, padding=['same','same'], last_layer=-3, add_activ=True)"
   ]
  },
  {
   "cell_type": "markdown",
   "metadata": {
    "collapsed": true,
    "hidden": true
   },
   "source": [
    "pca = PCA()\n",
    "all_c3_tr = pca.fit_transform(all_conv3_ch)\n",
    "pca.singular_values_"
   ]
  },
  {
   "cell_type": "code",
   "execution_count": 47,
   "metadata": {
    "ExecuteTime": {
     "end_time": "2018-04-29T23:00:52.209056Z",
     "start_time": "2018-04-29T23:00:51.349603Z"
    },
    "collapsed": true,
    "hidden": true
   },
   "outputs": [],
   "source": [
    "orig_data_dict, num_samples = cbuild._collect_unaug_data()\n",
    "\n",
    "features_by_cls, feat_count = cnna.collect_features()\n",
    "feat_count.pop(\"homogeneous texture\")\n",
    "#feat_count.pop(\"central scar\")\n",
    "all_features = sorted(list(feat_count.keys()))\n",
    "cls_features = {f: [c for c in C.classes_to_include if f in features_by_cls[c]] for f in all_features}\n",
    "\n",
    "Z_features = cnna.get_annotated_files(features_by_cls)\n",
    "Z_features.pop(\"homogeneous texture\")\n",
    "#Z_features.pop(\"central scar\")\n",
    "\n",
    "num_features = len(all_features)\n",
    "\n",
    "rcnn = False\n",
    "num_channels = 128#64*3\n",
    "\n",
    "voi_df = drm.get_voi_dfs()[0]"
   ]
  },
  {
   "cell_type": "markdown",
   "metadata": {
    "hidden": true
   },
   "source": [
    "### Calculate average activations for whole population and feature subpops"
   ]
  },
  {
   "cell_type": "code",
   "execution_count": 48,
   "metadata": {
    "ExecuteTime": {
     "end_time": "2018-04-29T23:03:18.924674Z",
     "start_time": "2018-04-29T23:00:56.005259Z"
    },
    "collapsed": true,
    "hidden": true
   },
   "outputs": [],
   "source": [
    "Z = np.concatenate([orig_data_dict[cls][1] for cls in C.classes_to_include], 0)\n",
    "aug_factor = 20\n",
    "\n",
    "#all_conv2_ch = np.empty([0,128])\n",
    "#all_conv3_ch = np.empty([0,128])\n",
    "all_conv_ch = np.empty([aug_factor*len(Z),12,12,6,num_channels])\n",
    "\n",
    "for img_id in range(len(Z)):\n",
    "    voi_row = voi_df.loc[Z[img_id]]\n",
    "    for aug_id in range(aug_factor):\n",
    "        img = np.load(join(C.aug_dir, voi_row['cls'], \"%s_%d.npy\" % (Z[img_id], aug_id)))\n",
    "        activ = front_model.predict(np.expand_dims(img, 0))\n",
    "        all_conv_ch[img_id*aug_factor+aug_id] = activ"
   ]
  },
  {
   "cell_type": "code",
   "execution_count": 49,
   "metadata": {
    "ExecuteTime": {
     "end_time": "2018-04-29T23:03:24.330496Z",
     "start_time": "2018-04-29T23:03:22.534141Z"
    },
    "collapsed": true,
    "hidden": true
   },
   "outputs": [],
   "source": [
    "all_conv_ch = all_conv_ch.mean(0)\n",
    "all_conv_sh = cnna.get_shells(all_conv_ch, all_conv_ch.shape[:3])"
   ]
  },
  {
   "cell_type": "code",
   "execution_count": 52,
   "metadata": {
    "ExecuteTime": {
     "end_time": "2018-04-29T23:07:27.621386Z",
     "start_time": "2018-04-29T23:06:21.291870Z"
    },
    "collapsed": true,
    "hidden": true
   },
   "outputs": [],
   "source": [
    "aug_factor = 75\n",
    "num_annot = 10\n",
    "f_conv_ch = {f:np.empty([aug_factor*num_annot,12,12,6,num_channels]) for f in all_features}\n",
    "f_conv_sh = {f:np.empty([4,num_channels]) for f in all_features}\n",
    "for f_ix in range(num_features):#relevant_features:\n",
    "    f = all_features[f_ix]\n",
    "    Z_f = Z_features[f][:num_annot]\n",
    "    for img_id in range(len(Z_f)):\n",
    "        voi_row = voi_df.loc[Z_f[img_id]]\n",
    "        for aug_id in range(aug_factor):\n",
    "            img = np.load(join(C.aug_dir, voi_row['cls'], \"%s_%d.npy\" % (Z_f[img_id], aug_id)))\n",
    "            activ = front_model.predict(np.expand_dims(img, 0))\n",
    "            if rcnn:\n",
    "                activ = np.concatenate(activ[0], -1)\n",
    "            f_conv_ch[f][img_id*aug_factor+aug_id] = activ"
   ]
  },
  {
   "cell_type": "code",
   "execution_count": 53,
   "metadata": {
    "ExecuteTime": {
     "end_time": "2018-04-29T23:07:33.190151Z",
     "start_time": "2018-04-29T23:07:31.290377Z"
    },
    "collapsed": true,
    "hidden": true
   },
   "outputs": [],
   "source": [
    "f_conv_sh = {f:np.empty([4,num_channels]) for f in all_features}\n",
    "for f_ix in range(num_features):\n",
    "    f = all_features[f_ix]\n",
    "    f_conv_ch[f] = f_conv_ch[f].mean(0)\n",
    "    f_conv_sh[f] = cnna.get_shells(f_conv_ch[f], f_conv_ch[f].shape[:3])"
   ]
  },
  {
   "cell_type": "code",
   "execution_count": 55,
   "metadata": {
    "ExecuteTime": {
     "end_time": "2018-04-29T23:08:56.634895Z",
     "start_time": "2018-04-29T23:08:56.630884Z"
    },
    "hidden": true,
    "scrolled": false
   },
   "outputs": [
    {
     "name": "stdout",
     "output_type": "stream",
     "text": [
      "[(0, 'arterial phase enhancement'), (1, 'central scar'), (2, 'enhancing rim/capsule'), (3, 'heterogeneous lesion'), (4, 'hyperenhancing mass on delayed phase'), (5, 'hypoenhancing core'), (6, 'infiltrative growth'), (7, 'isointense on venous/delayed phase'), (8, 'nodular growth'), (9, 'nodular or discontinuous enhancement'), (10, 'progressive centripetal filling'), (11, 'progressive enhancement'), (12, 'thin-walled'), (13, 'washout')]\n"
     ]
    }
   ],
   "source": [
    "print(list(zip(range(len(all_features)), all_features)))"
   ]
  },
  {
   "cell_type": "code",
   "execution_count": 536,
   "metadata": {
    "ExecuteTime": {
     "end_time": "2018-04-30T03:34:26.090286Z",
     "start_time": "2018-04-30T03:34:26.084244Z"
    },
    "hidden": true
   },
   "outputs": [
    {
     "name": "stdout",
     "output_type": "stream",
     "text": [
      "['progressive enhancement' 'nodular growth' 'heterogeneous lesion']\n"
     ]
    }
   ],
   "source": [
    "relevant_features = [11,8,3]\n",
    "#[5,2,11] #colorectal, [2,0,13] #hcc, [11,8,3] #cholangio, [5,12] #cyst [7,0] #fnh # [4,9,10] #hemangioma\n",
    "img_dir = \"D:\\\\feature_analysis\\\\\"+cls\n",
    "if not exists(img_dir):\n",
    "    os.makedirs(img_dir)\n",
    "\n",
    "num_rel_f = len(relevant_features)\n",
    "print(np.array(all_features)[relevant_features])"
   ]
  },
  {
   "cell_type": "code",
   "execution_count": 535,
   "metadata": {
    "ExecuteTime": {
     "end_time": "2018-04-30T03:34:17.306241Z",
     "start_time": "2018-04-30T03:34:17.242071Z"
    },
    "collapsed": true,
    "hidden": true
   },
   "outputs": [],
   "source": [
    "cls = 'cholangio'\n",
    "cls_img_set = orig_data_dict[cls][0]\n",
    "\n",
    "#12783467_0 hcc\n",
    "#12961059_0 crc\n",
    "#E102634440_0 icc E102095465_0\n",
    "#12569826_0 cyst\n",
    "#E100121654_0 hemangioma\n",
    "#E101415263_0 fnh E104189184_0\n",
    "\n",
    "img_id = list(orig_data_dict[cls][1]).index('E102634440_0')\n",
    "x = cls_img_set[img_id]\n",
    "h_ic_rot = cnna.get_rotations(x, front_model, rcnn)\n",
    "test_neurons = h_ic_rot.mean(0)"
   ]
  },
  {
   "cell_type": "markdown",
   "metadata": {
    "heading_collapsed": true,
    "hidden": true
   },
   "source": [
    "### new approach"
   ]
  },
  {
   "cell_type": "markdown",
   "metadata": {
    "ExecuteTime": {
     "end_time": "2018-04-10T13:19:51.118147Z",
     "start_time": "2018-04-10T13:19:51.114137Z"
    },
    "collapsed": true,
    "hidden": true
   },
   "source": [
    "dims = (12,12,6)\n",
    "I = 12*12\n",
    "A = num_rel_f\n",
    "J = num_channels\n",
    "K = I*J\n",
    "K3 = K*3\n",
    "alpha = 1\n",
    "beta = 1"
   ]
  },
  {
   "cell_type": "code",
   "execution_count": null,
   "metadata": {
    "collapsed": true,
    "hidden": true
   },
   "outputs": [],
   "source": [
    "# h_ka = np.empty(K,A)\n",
    "# h_ka = ln(max(n_ka – n_avg_k, 0) + 1)\n",
    "# g_ka = np.empty((K,A))\n",
    "# n = \n",
    "# m = \n",
    "# G_k = np.eye(K)\n",
    "\n",
    "# g_ka = argmin( norm(h_k*(g_ka.sum(-1) - n - m)) + norm(matmul(G_ka), g_ka) )\n",
    "# g_ka = matmul( matmul( np.inv(diag(h_k**2) + matmul(G_ka.T, G_ka)) , diag(h_k).T ) , matmul(diag(h_k), (n - m)) )"
   ]
  },
  {
   "cell_type": "code",
   "execution_count": 55,
   "metadata": {
    "collapsed": true,
    "hidden": true,
    "scrolled": true
   },
   "outputs": [],
   "source": [
    "G = np.diag([alpha]*I, 0)\n",
    "for i in range(I-1,0,-1):\n",
    "    G += np.diag([-beta]*i, i-I)"
   ]
  },
  {
   "cell_type": "code",
   "execution_count": 56,
   "metadata": {
    "collapsed": true,
    "hidden": true
   },
   "outputs": [],
   "source": [
    "G = sp.block_diag(tuple([G]*J*3))"
   ]
  },
  {
   "cell_type": "code",
   "execution_count": 57,
   "metadata": {
    "hidden": true
   },
   "outputs": [
    {
     "data": {
      "text/plain": [
       "(55296, 55296)"
      ]
     },
     "execution_count": 57,
     "metadata": {},
     "output_type": "execute_result"
    }
   ],
   "source": [
    "G.shape"
   ]
  },
  {
   "cell_type": "code",
   "execution_count": 143,
   "metadata": {
    "hidden": true
   },
   "outputs": [
    {
     "data": {
      "text/plain": [
       "<module 'cnn_analyzer' from 'C:\\\\Users\\\\Clinton\\\\Documents\\\\voi-classifier\\\\python\\\\cnn_analyzer.py'>"
      ]
     },
     "execution_count": 143,
     "metadata": {},
     "output_type": "execute_result"
    }
   ],
   "source": [
    "importlib.reload(cnna)"
   ]
  },
  {
   "cell_type": "code",
   "execution_count": 63,
   "metadata": {
    "collapsed": true,
    "hidden": true
   },
   "outputs": [],
   "source": [
    "slice_num = test_neurons.shape[2]//2"
   ]
  },
  {
   "cell_type": "code",
   "execution_count": 64,
   "metadata": {
    "collapsed": true,
    "hidden": true
   },
   "outputs": [],
   "source": [
    "n_k = test_neurons[:,:,slice_num].flatten()\n",
    "m_k = cnna.average_shells(all_conv_ch, dims)[:,:,slice_num].flatten()\n",
    "# this ordering splits feature elements, i.e. [F1 F2 F3]\n",
    "# within each feature, channels are grouped so spatial indices are split, i.e. F1 = [S(0,0,0) S2(1,0,0) ... S(11,11,5)]"
   ]
  },
  {
   "cell_type": "code",
   "execution_count": 67,
   "metadata": {
    "collapsed": true,
    "hidden": true
   },
   "outputs": [],
   "source": [
    "nu_ja = np.stack([f_conv_ch[f].mean((0,1))[slice_num] for f in np.array(all_features)[relevant_features]], -1)\n",
    "nu_javg = all_conv_ch.mean((0,1))[slice_num]"
   ]
  },
  {
   "cell_type": "code",
   "execution_count": 161,
   "metadata": {
    "collapsed": true,
    "hidden": true
   },
   "outputs": [],
   "source": [
    "h_ja = np.empty((J, num_rel_f))\n",
    "for f_ix in range(num_rel_f):\n",
    "    dnu = nu_ja[:,f_ix] - nu_javg\n",
    "    dnu[dnu < 0] = 0\n",
    "    h_ja[:,f_ix] = np.log(dnu + 1)\n",
    "h_ja = np.tile(h_ja, (I,1,1))"
   ]
  },
  {
   "cell_type": "code",
   "execution_count": 166,
   "metadata": {
    "hidden": true
   },
   "outputs": [
    {
     "data": {
      "text/plain": [
       "(144, 128, 3)"
      ]
     },
     "execution_count": 166,
     "metadata": {},
     "output_type": "execute_result"
    }
   ],
   "source": [
    "h_ja.shape"
   ]
  },
  {
   "cell_type": "code",
   "execution_count": 172,
   "metadata": {
    "hidden": true
   },
   "outputs": [
    {
     "data": {
      "text/plain": [
       "(18432, 18432)"
      ]
     },
     "execution_count": 172,
     "metadata": {},
     "output_type": "execute_result"
    }
   ],
   "source": [
    "np.diag(h_ja[:,:,0].flatten()).shape"
   ]
  },
  {
   "cell_type": "code",
   "execution_count": null,
   "metadata": {
    "collapsed": true,
    "hidden": true
   },
   "outputs": [],
   "source": [
    "h_k = sp.bmat([sp.diags(h_ja[:,:,0].flatten()), sp.diags(h_ja[:,:,1].flatten()), sp.diags(h_ja[:,:,2].flatten())])"
   ]
  },
  {
   "cell_type": "code",
   "execution_count": null,
   "metadata": {
    "collapsed": true,
    "hidden": true
   },
   "outputs": [],
   "source": [
    "h_k.shape"
   ]
  },
  {
   "cell_type": "code",
   "execution_count": 102,
   "metadata": {
    "collapsed": true,
    "hidden": true
   },
   "outputs": [],
   "source": [
    "b = n_k - m_k"
   ]
  },
  {
   "cell_type": "code",
   "execution_count": 131,
   "metadata": {
    "hidden": true
   },
   "outputs": [
    {
     "data": {
      "text/plain": [
       "(55296, 55296)"
      ]
     },
     "execution_count": 131,
     "metadata": {},
     "output_type": "execute_result"
    }
   ],
   "source": [
    "G.shape"
   ]
  },
  {
   "cell_type": "code",
   "execution_count": null,
   "metadata": {
    "collapsed": true,
    "hidden": true
   },
   "outputs": [],
   "source": [
    "x = cvx.Variable(3*K,1)\n",
    "objective = cvx.Minimize(cvx.sum_squares(h_k*x - b) + cvx.norm(x,1) + cvx.sum_squares(G*x))\n",
    "constraints = [-1 <= x, x <= 100]\n",
    "prob = cvx.Problem(objective, constraints)\n",
    "\n",
    "# The optimal objective is returned by prob.solve().\n",
    "result = prob.solve()\n",
    "# The optimal value for x is stored in x.value.\n",
    "X = x.value"
   ]
  },
  {
   "cell_type": "code",
   "execution_count": 106,
   "metadata": {
    "hidden": true
   },
   "outputs": [
    {
     "data": {
      "text/plain": [
       "(55296, 1)"
      ]
     },
     "execution_count": 106,
     "metadata": {},
     "output_type": "execute_result"
    }
   ],
   "source": [
    "X.shape"
   ]
  },
  {
   "cell_type": "code",
   "execution_count": null,
   "metadata": {
    "collapsed": true,
    "hidden": true
   },
   "outputs": [],
   "source": [
    "gauss = cnna.get_gaussian_mask()"
   ]
  },
  {
   "cell_type": "code",
   "execution_count": 108,
   "metadata": {
    "hidden": true
   },
   "outputs": [
    {
     "data": {
      "text/plain": [
       "0.2760379650044357"
      ]
     },
     "execution_count": 108,
     "metadata": {},
     "output_type": "execute_result"
    }
   ],
   "source": [
    "X.max()"
   ]
  },
  {
   "cell_type": "code",
   "execution_count": 127,
   "metadata": {
    "collapsed": true,
    "hidden": true
   },
   "outputs": [],
   "source": [
    "g = np.reshape(np.array(X), (3,12,12,num_channels))\n",
    "#g = np.transpose(g, (3,0,1,2))\n",
    "g = g.sum(-1)\n",
    "g = np.stack([g]*3, -1)"
   ]
  },
  {
   "cell_type": "code",
   "execution_count": null,
   "metadata": {
    "collapsed": true,
    "hidden": true
   },
   "outputs": [],
   "source": [
    "g.max()"
   ]
  },
  {
   "cell_type": "markdown",
   "metadata": {
    "hidden": true,
    "scrolled": true
   },
   "source": [
    "plt.imshow(g[0])"
   ]
  },
  {
   "cell_type": "markdown",
   "metadata": {
    "hidden": true
   },
   "source": [
    "plt.imshow(g[1])"
   ]
  },
  {
   "cell_type": "markdown",
   "metadata": {
    "hidden": true
   },
   "source": [
    "plt.imshow(g[2])"
   ]
  },
  {
   "cell_type": "markdown",
   "metadata": {
    "collapsed": true,
    "heading_collapsed": true,
    "hidden": true
   },
   "source": [
    "## old approach"
   ]
  },
  {
   "cell_type": "code",
   "execution_count": 545,
   "metadata": {
    "ExecuteTime": {
     "end_time": "2018-04-30T03:35:25.860725Z",
     "start_time": "2018-04-30T03:35:25.805607Z"
    },
    "collapsed": true,
    "hidden": true
   },
   "outputs": [],
   "source": [
    "importlib.reload(cnna)\n",
    "W = cnna.calculate_W(f_conv_ch, all_features, relevant_features, num_rel_f, num_channels)"
   ]
  },
  {
   "cell_type": "code",
   "execution_count": 546,
   "metadata": {
    "ExecuteTime": {
     "end_time": "2018-04-30T03:35:29.192214Z",
     "start_time": "2018-04-30T03:35:28.312031Z"
    },
    "hidden": true,
    "scrolled": true
   },
   "outputs": [
    {
     "name": "stdout",
     "output_type": "stream",
     "text": [
      "['progressive enhancement' 'nodular growth' 'heterogeneous lesion']\n"
     ]
    },
    {
     "data": {
      "image/png": "[encoded data removed]",
      "text/plain": [
       "<matplotlib.figure.Figure at 0x162c71f3d68>"
      ]
     },
     "metadata": {},
     "output_type": "display_data"
    }
   ],
   "source": [
    "gauss = cnna.get_gaussian_mask(3)\n",
    "z = orig_data_dict[cls][1][img_id]\n",
    "\n",
    "fixed_width = 100\n",
    "bw = False\n",
    "width = x.shape[0]\n",
    "overlaid_img_clr = np.zeros((width*3, x.shape[1], 3))\n",
    "overlaid_img = x - np.amin(x)\n",
    "\n",
    "high_window = [1,1,1] #relative intensity\n",
    "low_window = [0.4,0.2,0.] #relative intensity\n",
    "\n",
    "sal_map = cnna.get_saliency_map(W, test_neurons, num_rel_f)\n",
    "RGB = []\n",
    "if bw:\n",
    "    for f_num in range(3):\n",
    "        sal_map_f = overlaid_img[:,:,:,f_num]\n",
    "        hi_thresh = sal_map_f.max()*1\n",
    "        lo_thresh = sal_map_f.max()*0.2\n",
    "        sal_map_f[sal_map_f > hi_thresh] = hi_thresh\n",
    "        sal_map_f[sal_map_f < lo_thresh] = lo_thresh\n",
    "        sal_map_f -= sal_map_f.min()\n",
    "        RGB.append(sal_map_f[:,:,sal_map_f.shape[2]//2])\n",
    "else:\n",
    "    for f_num in range(num_rel_f):\n",
    "        sal_map[f_num] *= gauss\n",
    "        sal_map[f_num] -= sal_map[f_num].min()\n",
    "        hi_thresh = sal_map[f_num].max()*high_window[f_num]\n",
    "        lo_thresh = sal_map[f_num].max()*low_window[f_num]\n",
    "        sal_map[f_num][sal_map[f_num] > hi_thresh] = hi_thresh\n",
    "        sal_map[f_num][sal_map[f_num] < lo_thresh] = lo_thresh\n",
    "        sal_map[f_num] -= sal_map[f_num].min()\n",
    "        sal_map_f = tr.scale3d(sal_map[f_num], (2,2,2))\n",
    "        RGB.append(sal_map_f[:,:,sal_map_f.shape[2]//2])\n",
    "    \n",
    "overlaid_img_clr[:width,:,0] = RGB[0]\n",
    "overlaid_img_clr[width:width*2,:,0] = overlaid_img_clr[width:width*2,:,1] = RGB[1]\n",
    "if bw or num_rel_f >= 3:\n",
    "    overlaid_img_clr[width*2:,:,1] = RGB[2]\n",
    "    \n",
    "overlaid_img_clr -= overlaid_img_clr.min() - 0\n",
    "overlaid_img_clr *= 1 / overlaid_img_clr.max()\n",
    "\n",
    "if bw:\n",
    "    overlaid_img_clr = overlaid_img_clr.mean(-1)\n",
    "    overlaid_img_clr = np.transpose(np.tile(overlaid_img_clr, (3,1,1)), (1,2,0))\n",
    "\n",
    "overlaid_img_clr[:width] *= 1 / overlaid_img_clr[:width].max()\n",
    "overlaid_img_clr[width:width*2] *= 1 / overlaid_img_clr[width:width*2].max()\n",
    "if bw or num_rel_f >= 3:\n",
    "    overlaid_img_clr[width*2:] *= 1 / overlaid_img_clr[width*2:].max()\n",
    "\n",
    "fig = plt.imshow(overlaid_img_clr)\n",
    "fig.get_figure().set_figheight(7)\n",
    "fig.axes.get_xaxis().set_visible(False)\n",
    "fig.axes.get_yaxis().set_visible(False)\n",
    "print(np.array(all_features)[relevant_features])"
   ]
  },
  {
   "cell_type": "code",
   "execution_count": 505,
   "metadata": {
    "collapsed": true,
    "hidden": true
   },
   "outputs": [],
   "source": [
    "lesion_imgs = [np.stack([RGB[i]]*3, axis=-1) for i in range(3)]\n",
    "for i in range(3):\n",
    "    lesion_imgs[i] -= lesion_imgs[i].min()\n",
    "    lesion_imgs[i] = ((lesion_imgs[i]/lesion_imgs[i].max())* 255).astype('uint8')"
   ]
  },
  {
   "cell_type": "code",
   "execution_count": 523,
   "metadata": {
    "collapsed": true,
    "hidden": true
   },
   "outputs": [],
   "source": [
    "segs = [RGB[i] > np.percentile(RGB[i], 80) for i in range(3)]\n",
    "#segs = [RGB[i] > np.amax(RGB[i])*.5 for i in range(3)]\n",
    "contour = [masks.get_contour(segs[i]) for i in range(3)]"
   ]
  },
  {
   "cell_type": "code",
   "execution_count": null,
   "metadata": {
    "collapsed": true,
    "hidden": true
   },
   "outputs": [],
   "source": [
    "b = cv2.drawContours(copy.deepcopy(lesion_imgs[1]), contour[2], -1, (255,0,0), 1)\n",
    "#b[b < 100] = 100\n",
    "#b[b > 200] = 200\n",
    "b -= b.min()\n",
    "b = b/b.max()\n",
    "fig = plt.imshow(b)\n",
    "fig.get_figure().set_figheight(7)\n",
    "fig.axes.get_xaxis().set_visible(False)\n",
    "fig.axes.get_yaxis().set_visible(False)"
   ]
  },
  {
   "cell_type": "code",
   "execution_count": null,
   "metadata": {
    "ExecuteTime": {
     "end_time": "2018-04-30T02:27:10.023992Z",
     "start_time": "2018-04-30T02:27:10.009956Z"
    },
    "collapsed": true,
    "hidden": true
   },
   "outputs": [],
   "source": [
    "plt.imsave(join(dirname(img_dir), \"samples\", z+\"_eq_washout.png\"), resize(b, [fixed_width, fixed_width]))"
   ]
  },
  {
   "cell_type": "markdown",
   "metadata": {
    "hidden": true
   },
   "source": [
    "a = np.ones([20,20,3], dtype='uint8')\n",
    "a[3:16,3:10,:] = 245\n",
    "_,thresh = cv2.threshold(a[:,:,0],127,255,0)\n",
    "_,contours,_ = cv2.findContours(thresh, cv2.RETR_TREE, cv2.CHAIN_APPROX_NONE)\n",
    "b = cv2.drawContours(a, contours, 0, (0,255,0), 1)\n",
    "plt.imshow(b/255)"
   ]
  },
  {
   "cell_type": "code",
   "execution_count": 534,
   "metadata": {
    "ExecuteTime": {
     "end_time": "2018-04-30T02:56:13.433886Z",
     "start_time": "2018-04-30T02:56:13.419846Z"
    },
    "hidden": true
   },
   "outputs": [
    {
     "name": "stderr",
     "output_type": "stream",
     "text": [
      "C:\\Users\\Clinton\\AppData\\Local\\conda\\conda\\envs\\old-keras\\lib\\site-packages\\skimage\\transform\\_warps.py:84: UserWarning: The default mode, 'constant', will be changed to 'reflect' in skimage 0.15.\n",
      "  warn(\"The default mode, 'constant', will be changed to 'reflect' in \"\n"
     ]
    }
   ],
   "source": [
    "plt.imsave(join(img_dir, z+\"_new.png\"), resize(overlaid_img_clr, [fixed_width*3, fixed_width]))#(fig*255/fig.max()).astype(int))"
   ]
  },
  {
   "cell_type": "code",
   "execution_count": 494,
   "metadata": {
    "ExecuteTime": {
     "end_time": "2018-04-30T02:49:41.945059Z",
     "start_time": "2018-04-30T02:49:41.930021Z"
    },
    "hidden": true
   },
   "outputs": [
    {
     "name": "stderr",
     "output_type": "stream",
     "text": [
      "C:\\Users\\Clinton\\AppData\\Local\\conda\\conda\\envs\\old-keras\\lib\\site-packages\\skimage\\transform\\_warps.py:84: UserWarning: The default mode, 'constant', will be changed to 'reflect' in skimage 0.15.\n",
      "  warn(\"The default mode, 'constant', will be changed to 'reflect' in \"\n"
     ]
    }
   ],
   "source": [
    "plt.imsave(join(img_dir, z+\"_bw.png\"), resize(overlaid_img_clr, [fixed_width*3, fixed_width]))#(fig*255/fig.max()).astype(int))"
   ]
  },
  {
   "cell_type": "markdown",
   "metadata": {
    "collapsed": true,
    "heading_collapsed": true,
    "hidden": true
   },
   "source": [
    "## Feature scoring"
   ]
  },
  {
   "cell_type": "code",
   "execution_count": 120,
   "metadata": {
    "collapsed": true,
    "hidden": true
   },
   "outputs": [],
   "source": [
    "importlib.reload(cbuild)\n",
    "back_model = cbuild.build_cnn(trained_model=model, padding=['same','same'], pool_sizes = [(2,2,2),(2,2,2)],\n",
    "                                          f=[64,64,64,64,64,64,64], skip_con=True)"
   ]
  },
  {
   "cell_type": "code",
   "execution_count": 129,
   "metadata": {
    "ExecuteTime": {
     "end_time": "2018-04-29T23:29:09.117059Z",
     "start_time": "2018-04-29T23:29:06.281828Z"
    },
    "collapsed": true,
    "hidden": true
   },
   "outputs": [],
   "source": [
    "importlib.reload(cbuild)\n",
    "back_model = cbuild.build_cnn(trained_model=model, padding=['same','same'])"
   ]
  },
  {
   "cell_type": "code",
   "execution_count": 62,
   "metadata": {
    "collapsed": true,
    "hidden": true,
    "scrolled": true
   },
   "outputs": [],
   "source": [
    "back_model = cbuild.build_rcnn(trained_model=model, padding=['same','same'], kernel_size=(3,3,2),\n",
    "                                    f=[64,64,64,64,64], pool_sizes = [(2,2,2),(2,2,2)], first_layer=-2)"
   ]
  },
  {
   "cell_type": "code",
   "execution_count": 540,
   "metadata": {
    "ExecuteTime": {
     "end_time": "2018-04-30T03:34:48.945062Z",
     "start_time": "2018-04-30T03:34:48.941051Z"
    },
    "collapsed": true,
    "hidden": true
   },
   "outputs": [],
   "source": [
    "z_bias = back_model.layers[-1].get_weights()[1]"
   ]
  },
  {
   "cell_type": "code",
   "execution_count": 423,
   "metadata": {
    "ExecuteTime": {
     "end_time": "2018-04-30T02:35:04.999572Z",
     "start_time": "2018-04-30T02:35:04.995561Z"
    },
    "hidden": true,
    "scrolled": false
   },
   "outputs": [
    {
     "data": {
      "text/plain": [
       "['hcc', 'cholangio', 'colorectal', 'cyst', 'hemangioma', 'fnh']"
      ]
     },
     "execution_count": 423,
     "metadata": {},
     "output_type": "execute_result"
    }
   ],
   "source": [
    "C.classes_to_include"
   ]
  },
  {
   "cell_type": "code",
   "execution_count": 539,
   "metadata": {
    "ExecuteTime": {
     "end_time": "2018-04-30T03:34:45.084941Z",
     "start_time": "2018-04-30T03:34:45.078955Z"
    },
    "collapsed": true,
    "hidden": true
   },
   "outputs": [],
   "source": [
    "def get_cls_sep(z, cls_num=1):\n",
    "    if cls != C.classes_to_include[cls_num]:\n",
    "        print(\"Check cls_num\")\n",
    "        return\n",
    "    ixs = list(set(range(len(C.classes_to_include))).difference([cls_num]))\n",
    "    return z[cls_num] - max(z[ixs])"
   ]
  },
  {
   "cell_type": "code",
   "execution_count": 444,
   "metadata": {
    "ExecuteTime": {
     "end_time": "2018-04-30T02:38:11.990955Z",
     "start_time": "2018-04-30T02:38:11.986917Z"
    },
    "collapsed": true,
    "hidden": true
   },
   "outputs": [],
   "source": [
    "def split_rcnn(c):\n",
    "    if not rcnn:\n",
    "        return c\n",
    "    return np.array([c[:,:,:,:192//3], c[:,:,:,192//3:192*2//3], c[:,:,:,192*2//3:]])"
   ]
  },
  {
   "cell_type": "code",
   "execution_count": 541,
   "metadata": {
    "ExecuteTime": {
     "end_time": "2018-04-30T03:34:51.356957Z",
     "start_time": "2018-04-30T03:34:51.353947Z"
    },
    "collapsed": true,
    "hidden": true
   },
   "outputs": [],
   "source": [
    "test_n = split_rcnn(test_neurons)"
   ]
  },
  {
   "cell_type": "code",
   "execution_count": 547,
   "metadata": {
    "ExecuteTime": {
     "end_time": "2018-04-30T03:35:32.024486Z",
     "start_time": "2018-04-30T03:35:31.539208Z"
    },
    "hidden": true,
    "scrolled": true
   },
   "outputs": [
    {
     "data": {
      "text/plain": [
       "array([0.69209229, 0.30963196, 0.05749841])"
      ]
     },
     "execution_count": 547,
     "metadata": {},
     "output_type": "execute_result"
    }
   ],
   "source": [
    "sal_map = cnna.get_saliency_map(W, test_neurons, num_rel_f)\n",
    "\n",
    "z_actual = back_model.predict(np.expand_dims(test_n,0))[0] - z_bias\n",
    "\n",
    "h_ja = np.zeros((num_rel_f, test_neurons.shape[-1]))\n",
    "for f_num in range(num_rel_f):\n",
    "    h_ja[f_num] = f_conv_ch[all_features[relevant_features[f_num]]].mean((0,1,2))\n",
    "\n",
    "test_n_ch = test_neurons.mean((0,1,2))\n",
    "\n",
    "if num_rel_f == 3:\n",
    "    fxn = lambda w: sum((w[0]*h_ja[0] + w[1]*h_ja[1] + w[2]*h_ja[2] - test_n_ch)**2) - \\\n",
    "               .1*(log(w[0]) + log(w[1]) + log(w[2]))\n",
    "elif num_rel_f == 2:\n",
    "    fxn = lambda w: sum((w[0]*h_ja[0] + w[1]*h_ja[1] - test_n_ch)**2) - \\\n",
    "               .1*(log(w[0]) + log(w[1]))\n",
    "sol = minimize(fxn, [1,1,1], bounds = ((0.0001, None), (0.0001, None), (0.0001, None)))\n",
    "w_a = sol['x']\n",
    "w_a"
   ]
  },
  {
   "cell_type": "code",
   "execution_count": 505,
   "metadata": {
    "ExecuteTime": {
     "end_time": "2018-04-30T02:51:47.876634Z",
     "start_time": "2018-04-30T02:51:47.871623Z"
    },
    "collapsed": true,
    "hidden": true
   },
   "outputs": [],
   "source": [
    "def get_diff(a,b):\n",
    "    return a-b"
   ]
  },
  {
   "cell_type": "code",
   "execution_count": 370,
   "metadata": {
    "ExecuteTime": {
     "end_time": "2018-04-30T02:23:43.915282Z",
     "start_time": "2018-04-30T02:23:43.904253Z"
    },
    "collapsed": true,
    "hidden": true
   },
   "outputs": [],
   "source": [
    "contrib_sample = np.zeros(test_neurons.shape)\n",
    "for ch_ix in range(test_neurons.shape[-1]):\n",
    "    contrib_sample[:,:,:,ch_ix] = test_neurons[:,:,:,ch_ix] - w_a[0]*h_ja[0, ch_ix] - w_a[1]*h_ja[1, ch_ix]\n",
    "\n",
    "z_base = back_model.predict(np.expand_dims(split_rcnn(contrib_sample),0))[0] - z_bias"
   ]
  },
  {
   "cell_type": "code",
   "execution_count": 371,
   "metadata": {
    "ExecuteTime": {
     "end_time": "2018-04-30T02:23:46.361981Z",
     "start_time": "2018-04-30T02:23:46.356244Z"
    },
    "collapsed": true,
    "hidden": true
   },
   "outputs": [],
   "source": [
    "dz_actual = get_cls_sep(z_actual)\n",
    "dz_base = get_cls_sep(z_base)\n",
    "den = dz_actual - dz_base"
   ]
  },
  {
   "cell_type": "code",
   "execution_count": 372,
   "metadata": {
    "ExecuteTime": {
     "end_time": "2018-04-30T02:23:48.628201Z",
     "start_time": "2018-04-30T02:23:48.609151Z"
    },
    "collapsed": true,
    "hidden": true
   },
   "outputs": [],
   "source": [
    "contrib_sample = np.zeros((num_rel_f, *test_neurons.shape))\n",
    "for f_num in range(num_rel_f):\n",
    "    for ch_ix in range(test_neurons.shape[-1]):\n",
    "        contrib_sample[f_num,:,:,:,ch_ix] = test_neurons[:,:,:,ch_ix] - w_a[f_num]*h_ja[f_num, ch_ix]# * (sal_map[f_num] > np.median(sal_map[f_num]))\n",
    "\n",
    "z_onef = np.empty((num_rel_f, 6))\n",
    "for f_num in range(num_rel_f):\n",
    "    z_onef[f_num] = back_model.predict(np.expand_dims(split_rcnn(contrib_sample[f_num]),0))[0] - z_bias"
   ]
  },
  {
   "cell_type": "code",
   "execution_count": 373,
   "metadata": {
    "ExecuteTime": {
     "end_time": "2018-04-30T02:23:51.144824Z",
     "start_time": "2018-04-30T02:23:51.140813Z"
    },
    "collapsed": true,
    "hidden": true
   },
   "outputs": [],
   "source": [
    "dz_0 = get_cls_sep(z_onef[0])\n",
    "dz_1 = get_cls_sep(z_onef[1])"
   ]
  },
  {
   "cell_type": "code",
   "execution_count": 374,
   "metadata": {
    "ExecuteTime": {
     "end_time": "2018-04-30T02:23:53.413166Z",
     "start_time": "2018-04-30T02:23:53.408152Z"
    },
    "collapsed": true,
    "hidden": true
   },
   "outputs": [],
   "source": [
    "num_0 = []\n",
    "num_0.append(get_diff(dz_0,dz_base))\n",
    "num_0.append(get_diff(dz_actual,dz_1))\n",
    "\n",
    "num_1 = []\n",
    "num_1.append(get_diff(dz_1,dz_base))\n",
    "num_1.append(get_diff(dz_actual,dz_0))"
   ]
  },
  {
   "cell_type": "code",
   "execution_count": 375,
   "metadata": {
    "ExecuteTime": {
     "end_time": "2018-04-30T02:23:55.695614Z",
     "start_time": "2018-04-30T02:23:55.690594Z"
    },
    "hidden": true
   },
   "outputs": [
    {
     "data": {
      "text/plain": [
       "(0.9599141953135638, 0.0400857632214758)"
      ]
     },
     "execution_count": 375,
     "metadata": {},
     "output_type": "execute_result"
    }
   ],
   "source": [
    "np.mean(num_0) / den, np.mean(num_1) / den"
   ]
  },
  {
   "cell_type": "code",
   "execution_count": null,
   "metadata": {
    "collapsed": true,
    "hidden": true
   },
   "outputs": [],
   "source": []
  },
  {
   "cell_type": "code",
   "execution_count": 548,
   "metadata": {
    "ExecuteTime": {
     "end_time": "2018-04-30T03:35:34.582187Z",
     "start_time": "2018-04-30T03:35:34.386549Z"
    },
    "collapsed": true,
    "hidden": true
   },
   "outputs": [],
   "source": [
    "contrib_sample = np.zeros(test_neurons.shape)\n",
    "for ch_ix in range(test_neurons.shape[-1]):\n",
    "    contrib_sample[:,:,:,ch_ix] = test_neurons[:,:,:,ch_ix] - w_a[0]*h_ja[0, ch_ix] - w_a[1]*h_ja[1, ch_ix] - w_a[2]*h_ja[2, ch_ix]\n",
    "\n",
    "z_base = back_model.predict(np.expand_dims(split_rcnn(contrib_sample),0))[0] - z_bias\n",
    "\n",
    "z_onef = np.zeros((num_rel_f, 6))\n",
    "for ch_ix in range(test_neurons.shape[-1]):\n",
    "    contrib_sample[:,:,:,ch_ix] = test_neurons[:,:,:,ch_ix] - w_a[0]*h_ja[0, ch_ix] - w_a[1]*h_ja[1, ch_ix]\n",
    "z_onef[2] = back_model.predict(np.expand_dims(split_rcnn(contrib_sample),0))[0] - z_bias\n",
    "for ch_ix in range(test_neurons.shape[-1]):\n",
    "    contrib_sample[:,:,:,ch_ix] = test_neurons[:,:,:,ch_ix] - w_a[0]*h_ja[0, ch_ix] - w_a[2]*h_ja[2, ch_ix]\n",
    "z_onef[1] = back_model.predict(np.expand_dims(split_rcnn(contrib_sample),0))[0] - z_bias\n",
    "for ch_ix in range(test_neurons.shape[-1]):\n",
    "    contrib_sample[:,:,:,ch_ix] = test_neurons[:,:,:,ch_ix] - w_a[1]*h_ja[1, ch_ix] - w_a[2]*h_ja[2, ch_ix]\n",
    "z_onef[0] = back_model.predict(np.expand_dims(split_rcnn(contrib_sample),0))[0] - z_bias\n",
    "\n",
    "contrib_sample = np.zeros((num_rel_f, *test_neurons.shape))\n",
    "for f_num in range(num_rel_f):\n",
    "    for ch_ix in range(test_neurons.shape[-1]):\n",
    "        contrib_sample[f_num,:,:,:,ch_ix] = test_neurons[:,:,:,ch_ix] - w_a[f_num]*h_ja[f_num, ch_ix]# * (sal_map[f_num] > np.median(sal_map[f_num]))\n",
    "\n",
    "    \n",
    "z_twof = np.empty((num_rel_f, 6))\n",
    "for f_num in range(num_rel_f):\n",
    "    z_twof[f_num] = back_model.predict(np.expand_dims(split_rcnn(contrib_sample[f_num]),0))[0] - z_bias\n",
    "\n",
    "dz_actual = get_cls_sep(z_actual)\n",
    "dz_base = get_cls_sep(z_base)\n",
    "den = dz_actual - dz_base\n",
    "\n",
    "C.classes_to_include\n",
    "\n",
    "dz_0 = get_cls_sep(z_onef[0])\n",
    "dz_1 = get_cls_sep(z_onef[1])\n",
    "dz_2 = get_cls_sep(z_onef[2])\n",
    "dz_01 = get_cls_sep(z_twof[2])\n",
    "dz_02 = get_cls_sep(z_twof[1])\n",
    "dz_12 = get_cls_sep(z_twof[0])\n",
    "\n",
    "num_0 = []\n",
    "num_0.append(get_diff(dz_0,dz_base))\n",
    "num_0.append(get_diff(dz_actual,dz_12))\n",
    "num_0.append(get_diff(dz_01,dz_1))\n",
    "num_0.append(get_diff(dz_02,dz_2))\n",
    "\n",
    "num_1 = []\n",
    "num_1.append(get_diff(dz_1,dz_base))\n",
    "num_1.append(get_diff(dz_actual,dz_02))\n",
    "num_1.append(get_diff(dz_01,dz_0))\n",
    "num_1.append(get_diff(dz_12,dz_2))\n",
    "\n",
    "num_2 = []\n",
    "num_2.append(get_diff(dz_2,dz_base))\n",
    "num_2.append(get_diff(dz_actual,dz_01))\n",
    "num_2.append(get_diff(dz_02,dz_0))\n",
    "num_2.append(get_diff(dz_12,dz_1))"
   ]
  },
  {
   "cell_type": "markdown",
   "metadata": {
    "collapsed": true,
    "hidden": true
   },
   "source": [
    "rat0 = np.mean([num_0[i] / (num_0[i]+num_1[i]+num_2[i]) for i in range(4)])\n",
    "rat1 = np.mean([num_1[i] / (num_0[i]+num_1[i]+num_2[i]) for i in range(4)])\n",
    "rat2 = np.mean([num_2[i] / (num_0[i]+num_1[i]+num_2[i]) for i in range(4)])"
   ]
  },
  {
   "cell_type": "code",
   "execution_count": 549,
   "metadata": {
    "ExecuteTime": {
     "end_time": "2018-04-30T03:35:36.959440Z",
     "start_time": "2018-04-30T03:35:36.956432Z"
    },
    "collapsed": true,
    "hidden": true
   },
   "outputs": [],
   "source": [
    "den = sum([np.mean(num_0), np.mean(num_1), np.mean(num_2)])"
   ]
  },
  {
   "cell_type": "code",
   "execution_count": 433,
   "metadata": {
    "ExecuteTime": {
     "end_time": "2018-04-30T02:36:10.072012Z",
     "start_time": "2018-04-30T02:36:10.066978Z"
    },
    "hidden": true
   },
   "outputs": [
    {
     "data": {
      "text/plain": [
       "array([0.39474632, 0.5974937 , 0.00775998])"
      ]
     },
     "execution_count": 433,
     "metadata": {},
     "output_type": "execute_result"
    }
   ],
   "source": [
    "[get_diff(dz_actual,dz_12), get_diff(dz_actual,dz_02), get_diff(dz_actual,dz_01)] / np.sum([get_diff(dz_actual,dz_12), get_diff(dz_actual,dz_02), get_diff(dz_actual,dz_01)])"
   ]
  },
  {
   "cell_type": "code",
   "execution_count": 550,
   "metadata": {
    "ExecuteTime": {
     "end_time": "2018-04-30T03:35:39.491412Z",
     "start_time": "2018-04-30T03:35:39.485397Z"
    },
    "hidden": true,
    "scrolled": false
   },
   "outputs": [
    {
     "data": {
      "text/plain": [
       "(0.6382034940505372, 0.29672371006297193, 0.06507279588649086)"
      ]
     },
     "execution_count": 550,
     "metadata": {},
     "output_type": "execute_result"
    }
   ],
   "source": [
    "np.mean(num_0) / den, np.mean(num_1) / den, np.mean(num_2) / den"
   ]
  },
  {
   "cell_type": "markdown",
   "metadata": {
    "hidden": true
   },
   "source": [
    "H_JA0 = np.tile(w_a[0]*h_ja[0], (*test_neurons.shape[:3], 1))\n",
    "H_JA1 = np.tile(w_a[1]*h_ja[1], (*test_neurons.shape[:3], 1))\n",
    "H_JA2 = np.tile(w_a[2]*h_ja[2], (*test_neurons.shape[:3], 1))"
   ]
  },
  {
   "cell_type": "markdown",
   "metadata": {
    "hidden": true,
    "scrolled": true
   },
   "source": [
    "P = 0\n",
    "Q = 0\n",
    "KL = 0\n",
    "for df0 in np.linspace(0,1,10):\n",
    "    for df1 in np.linspace(0,1,10):\n",
    "        #pos = test_neurons - df0*H_JA0 - df1*H_JA1\n",
    "        #z_temp = back_model.predict(np.expand_dims(pos,0))[0] - z_bias\n",
    "        #if get_cls_sep(z_temp) > 0:\n",
    "        #    P += 1\n",
    "            \n",
    "        for df2 in np.linspace(0,1,10):\n",
    "            neg = test_neurons - df2*H_JA0 - df1*H_JA1 - df0*H_JA2\n",
    "            z_temp = back_model.predict(np.expand_dims(neg,0))[0] - z_bias\n",
    "            if df2==0:\n",
    "                P = get_cls_sep(z_temp)\n",
    "                Z = copy.deepcopy(z_temp)\n",
    "            Q += get_cls_sep(z_temp) / 10\n",
    "        KL += (exp(P) - exp(sum(Z)))*(P-Q)\n",
    "KL"
   ]
  },
  {
   "cell_type": "code",
   "execution_count": null,
   "metadata": {
    "collapsed": true,
    "hidden": true
   },
   "outputs": [],
   "source": []
  },
  {
   "cell_type": "code",
   "execution_count": null,
   "metadata": {
    "collapsed": true,
    "hidden": true
   },
   "outputs": [],
   "source": []
  },
  {
   "cell_type": "code",
   "execution_count": null,
   "metadata": {
    "collapsed": true,
    "hidden": true
   },
   "outputs": [],
   "source": []
  },
  {
   "cell_type": "code",
   "execution_count": 246,
   "metadata": {
    "hidden": true,
    "scrolled": false
   },
   "outputs": [
    {
     "data": {
      "text/plain": [
       "{'activation_22': <keras.layers.core.Activation at 0x19019d296a0>,\n",
       " 'activation_23': <keras.layers.core.Activation at 0x19019da3b70>,\n",
       " 'activation_24': <keras.layers.core.Activation at 0x19019e215c0>,\n",
       " 'batch_normalization_28': <keras.layers.normalization.BatchNormalization at 0x19019d315c0>,\n",
       " 'batch_normalization_29': <keras.layers.normalization.BatchNormalization at 0x19019d53cf8>,\n",
       " 'batch_normalization_30': <keras.layers.normalization.BatchNormalization at 0x19019deff98>,\n",
       " 'concatenate_10': <keras.layers.merge.Concatenate at 0x19019cc9c88>,\n",
       " 'conv3d_43': <keras.layers.convolutional.Conv3D at 0x190d524a898>,\n",
       " 'conv3d_44': <keras.layers.convolutional.Conv3D at 0x190a69bd4a8>,\n",
       " 'conv3d_45': <keras.layers.convolutional.Conv3D at 0x19019ce1ba8>,\n",
       " 'conv3d_46': <keras.layers.convolutional.Conv3D at 0x19019d0f080>,\n",
       " 'conv3d_47': <keras.layers.convolutional.Conv3D at 0x19019d5ee48>,\n",
       " 'dropout_18': <keras.layers.core.Dropout at 0x19019d29780>,\n",
       " 'dropout_19': <keras.layers.core.Dropout at 0x19019d496a0>,\n",
       " 'lambda_28': <keras.layers.core.Lambda at 0x190d524ac18>,\n",
       " 'lambda_29': <keras.layers.core.Lambda at 0x190d524a080>,\n",
       " 'lambda_30': <keras.layers.core.Lambda at 0x190d5285908>,\n",
       " 'max_pooling3d_11': <keras.layers.pooling.MaxPooling3D at 0x19019d290b8>}"
      ]
     },
     "execution_count": 246,
     "metadata": {},
     "output_type": "execute_result"
    }
   ],
   "source": [
    "layer_dict = dict([(layer.name, layer) for layer in model_conv3_pre.layers[1:]])\n",
    "layer_dict"
   ]
  },
  {
   "cell_type": "code",
   "execution_count": 272,
   "metadata": {
    "hidden": true,
    "scrolled": false
   },
   "outputs": [
    {
     "data": {
      "text/plain": [
       "<module 'cnn_analyzer' from 'C:\\\\Users\\\\Clinton\\\\Documents\\\\voi-classifier\\\\python\\\\cnn_analyzer.py'>"
      ]
     },
     "execution_count": 272,
     "metadata": {},
     "output_type": "execute_result"
    }
   ],
   "source": [
    "importlib.reload(cnna)"
   ]
  },
  {
   "cell_type": "code",
   "execution_count": 168,
   "metadata": {
    "collapsed": true,
    "hidden": true
   },
   "outputs": [],
   "source": [
    "test_neurons = rcnn_conv3.predict(np.expand_dims(x,0))[0]\n",
    "test_n = np.concatenate(test_neurons, -1)"
   ]
  },
  {
   "cell_type": "code",
   "execution_count": 95,
   "metadata": {
    "hidden": true,
    "scrolled": true
   },
   "outputs": [
    {
     "data": {
      "image/png": "[encoded data removed]",
      "text/plain": [
       "<matplotlib.figure.Figure at 0x210cf5fee48>"
      ]
     },
     "metadata": {},
     "output_type": "display_data"
    }
   ],
   "source": [
    "hf.draw_slices(x)"
   ]
  },
  {
   "cell_type": "code",
   "execution_count": 175,
   "metadata": {
    "hidden": true
   },
   "outputs": [
    {
     "ename": "ValueError",
     "evalue": "could not broadcast input array from shape (12,12,6,192) into shape (12,12,6)",
     "output_type": "error",
     "traceback": [
      "\u001b[1;31m---------------------------------------------------------------------------\u001b[0m",
      "\u001b[1;31mValueError\u001b[0m                                Traceback (most recent call last)",
      "\u001b[1;32m<ipython-input-175-5de0927efe31>\u001b[0m in \u001b[0;36m<module>\u001b[1;34m()\u001b[0m\n\u001b[0;32m      5\u001b[0m     \u001b[0mh_ja\u001b[0m\u001b[1;33m[\u001b[0m\u001b[0mf_num\u001b[0m\u001b[1;33m]\u001b[0m \u001b[1;33m=\u001b[0m \u001b[0mf_rcnn3_ch\u001b[0m\u001b[1;33m[\u001b[0m\u001b[0mall_features\u001b[0m\u001b[1;33m[\u001b[0m\u001b[0mrelevant_features\u001b[0m\u001b[1;33m[\u001b[0m\u001b[0mf_num\u001b[0m\u001b[1;33m]\u001b[0m\u001b[1;33m]\u001b[0m\u001b[1;33m]\u001b[0m\u001b[1;33m.\u001b[0m\u001b[0mmean\u001b[0m\u001b[1;33m(\u001b[0m\u001b[1;33m(\u001b[0m\u001b[1;36m0\u001b[0m\u001b[1;33m,\u001b[0m\u001b[1;36m1\u001b[0m\u001b[1;33m,\u001b[0m\u001b[1;36m2\u001b[0m\u001b[1;33m)\u001b[0m\u001b[1;33m)\u001b[0m\u001b[1;33m\u001b[0m\u001b[0m\n\u001b[0;32m      6\u001b[0m \u001b[1;33m\u001b[0m\u001b[0m\n\u001b[1;32m----> 7\u001b[1;33m \u001b[0mcontrib_sample\u001b[0m\u001b[1;33m[\u001b[0m\u001b[0mf_num\u001b[0m\u001b[1;33m,\u001b[0m\u001b[1;33m:\u001b[0m\u001b[1;33m,\u001b[0m\u001b[1;33m:\u001b[0m\u001b[1;33m,\u001b[0m\u001b[1;33m:\u001b[0m\u001b[1;33m,\u001b[0m\u001b[0mch_ix\u001b[0m\u001b[1;33m]\u001b[0m \u001b[1;33m=\u001b[0m \u001b[0mtest_n_ch\u001b[0m \u001b[1;33m=\u001b[0m \u001b[0mtest_n\u001b[0m\u001b[1;33m\u001b[0m\u001b[0m\n\u001b[0m\u001b[0;32m      8\u001b[0m \u001b[1;33m\u001b[0m\u001b[0m\n\u001b[0;32m      9\u001b[0m sol = minimize(lambda w: sum((w[0]*h_ja[0] + w[1]*h_ja[1] + w[2]*h_ja[2] - test_n_ch)**2) - .001*(log(w[0]) + log(w[1]) + log(w[2])), [15,1,1],\n",
      "\u001b[1;31mValueError\u001b[0m: could not broadcast input array from shape (12,12,6,192) into shape (12,12,6)"
     ]
    }
   ],
   "source": [
    "sal_map = cnna.get_saliency_map(W, test_n, num_rel_f)\n",
    "\n",
    "h_ja = np.zeros((num_rel_f, test_neurons.shape[-1]*3))\n",
    "for f_num in range(num_rel_f):\n",
    "    h_ja[f_num] = f_rcnn3_ch[all_features[relevant_features[f_num]]].mean((0,1,2))\n",
    "\n",
    "contrib_sample[f_num,:,:,:,ch_ix] = test_n_ch = test_n\n",
    "\n",
    "sol = minimize(lambda w: sum((w[0]*h_ja[0] + w[1]*h_ja[1] + w[2]*h_ja[2] - test_n_ch)**2) - .001*(log(w[0]) + log(w[1]) + log(w[2])), [15,1,1],\n",
    "         bounds = ((0.001, None), (0.001, None), (0.001, None)))\n",
    "w_a = sol['x']"
   ]
  },
  {
   "cell_type": "code",
   "execution_count": 228,
   "metadata": {
    "collapsed": true,
    "hidden": true
   },
   "outputs": [],
   "source": [
    "h_ja_full = copy.deepcopy(h_ja)"
   ]
  },
  {
   "cell_type": "code",
   "execution_count": 1358,
   "metadata": {
    "collapsed": true,
    "hidden": true
   },
   "outputs": [],
   "source": [
    "h_ja = copy.deepcopy(h_ja_full)"
   ]
  },
  {
   "cell_type": "code",
   "execution_count": 229,
   "metadata": {
    "collapsed": true,
    "hidden": true
   },
   "outputs": [],
   "source": [
    "for f_num in range(num_rel_f):\n",
    "    h_ja[f_num] = w_a[f_num]*h_ja[f_num]\n",
    "    #h_ja[f_num][h_ja[f_num] < np.median(h_ja[f_num])] = 0\n",
    "    h_ja[f_num] /= h_ja[f_num][h_ja[f_num] > 0].mean()\n",
    "for ch_ix in range(test_neurons.shape[-1]):\n",
    "    h_ja[:, ch_ix][h_ja[:, ch_ix] != np.max(h_ja[:, ch_ix])] = 0"
   ]
  },
  {
   "cell_type": "code",
   "execution_count": 1387,
   "metadata": {
    "collapsed": true,
    "hidden": true
   },
   "outputs": [],
   "source": [
    "w_a = w_a/w_a.mean()"
   ]
  },
  {
   "cell_type": "code",
   "execution_count": 248,
   "metadata": {
    "collapsed": true,
    "hidden": true
   },
   "outputs": [],
   "source": [
    "gauss = cnna.get_gaussian_mask(2)\n",
    "sal_map = cnna.get_saliency_map(W, test_neurons, num_rel_f)\n",
    "for f_num in range(num_rel_f):\n",
    "    sal_map[f_num] *= gauss\n",
    "    #sal_map[f_num][sal_map[f_num] < np.median(sal_map[f_num])] = 0\n",
    "    sal_map[f_num] -= sal_map[f_num].min()\n",
    "    sal_map[f_num] /= sal_map[f_num].mean()\n",
    "    for ch_ix in range(test_neurons.shape[-1]):\n",
    "        contrib_sample[f_num,:,:,:,ch_ix] = test_neurons[:,:,:,ch_ix] - h_ja[f_num,ch_ix]*sal_map[f_num] \\\n",
    "                + 0#h_ja[f_num-1,ch_ix]*sal_map[f_num-1]/2 + h_ja[f_num-2,ch_ix]*sal_map[f_num-2]/2\n",
    "contrib_sample[contrib_sample < 0] = 0"
   ]
  },
  {
   "cell_type": "code",
   "execution_count": 262,
   "metadata": {
    "hidden": true,
    "scrolled": false
   },
   "outputs": [
    {
     "data": {
      "text/plain": [
       "<module 'cnn_analyzer' from 'C:\\\\Users\\\\Clinton\\\\Documents\\\\voi-classifier\\\\python\\\\cnn_analyzer.py'>"
      ]
     },
     "execution_count": 262,
     "metadata": {},
     "output_type": "execute_result"
    }
   ],
   "source": [
    "importlib.reload(cnna)"
   ]
  },
  {
   "cell_type": "code",
   "execution_count": 244,
   "metadata": {
    "hidden": true,
    "scrolled": true
   },
   "outputs": [
    {
     "data": {
      "text/plain": [
       "TensorShape([Dimension(None), Dimension(24), Dimension(24), Dimension(12), Dimension(3)])"
      ]
     },
     "execution_count": 244,
     "metadata": {},
     "output_type": "execute_result"
    }
   ],
   "source": [
    "rcnn_conv3.input.shape"
   ]
  },
  {
   "cell_type": "code",
   "execution_count": 205,
   "metadata": {
    "hidden": true
   },
   "outputs": [
    {
     "data": {
      "text/plain": [
       "(12, 12, 6)"
      ]
     },
     "execution_count": 205,
     "metadata": {},
     "output_type": "execute_result"
    }
   ],
   "source": [
    "gauss.shape"
   ]
  },
  {
   "cell_type": "code",
   "execution_count": 263,
   "metadata": {
    "hidden": true,
    "scrolled": true
   },
   "outputs": [
    {
     "data": {
      "image/png": "[encoded data removed]",
      "text/plain": [
       "<matplotlib.figure.Figure at 0x1f583ae29b0>"
      ]
     },
     "metadata": {},
     "output_type": "display_data"
    }
   ],
   "source": [
    "for f_num in range(num_rel_f):\n",
    "    #print(all_features[relevant_features[f_num]])\n",
    "    x_est = cnna.visualize_activations(rcnn_conv3, join(img_dir, \"2f\"+all_features[relevant_features[f_num]]+\".png\"),\n",
    "                         split_rcnn(contrib_sample[f_num]), init_img=x, rotate=True, stepsize=.1, num_steps=2)"
   ]
  },
  {
   "cell_type": "code",
   "execution_count": null,
   "metadata": {
    "collapsed": true,
    "hidden": true
   },
   "outputs": [],
   "source": []
  },
  {
   "cell_type": "markdown",
   "metadata": {
    "hidden": true
   },
   "source": [
    "h_ja = copy.deepcopy(h_ja_full)\n",
    "for f_num in range(num_rel_f):\n",
    "    #h_ja[f_num] = w_a[f_num]*h_ja[f_num]\n",
    "    #h_ja[f_num][h_ja[f_num] < np.median(h_ja[f_num])] = 0\n",
    "    h_ja[f_num] /= h_ja[f_num][h_ja[f_num] > 0].mean()\n",
    "for ch_ix in range(test_neurons.shape[-1]):\n",
    "    h_ja[:, ch_ix][h_ja[:, ch_ix] != np.max(h_ja[:, ch_ix])] = 0\n",
    "    \n",
    "f_num = 0\n",
    "sal_map = get_saliency_map(W, test_neurons, num_rel_f)\n",
    "sal_map[f_num] *= gauss\n",
    "sal_map[f_num][sal_map[f_num] < np.median(sal_map[f_num])] = 0\n",
    "sal_map[f_num] -= sal_map[f_num].min()\n",
    "sal_map[f_num] /= sal_map[f_num].mean()\n",
    "for ch_ix in range(test_neurons.shape[-1]):\n",
    "    contrib_sample[f_num,:,:,:,ch_ix] = test_neurons[:,:,:,ch_ix] - h_ja[f_num,ch_ix]*sal_map[f_num] \\\n",
    "            + h_ja[f_num-1,ch_ix]*sal_map[f_num-1]/10 + h_ja[f_num-2,ch_ix]*sal_map[f_num-2]/10\n",
    "contrib_sample[contrib_sample < 0] = 0\n",
    "print(all_features[relevant_features[f_num]])\n",
    "x_est = cnna.visualize_activations(model_conv3_pre, join(img_dir, \"2f\"+all_features[relevant_features[f_num]]+\".png\"),\n",
    "                     contrib_sample[f_num], init_img=x, rotate=False, stepsize=.1, num_steps=1)"
   ]
  },
  {
   "cell_type": "code",
   "execution_count": null,
   "metadata": {
    "collapsed": true,
    "hidden": true
   },
   "outputs": [],
   "source": [
    "for r in range(4):\n",
    "    x_est = cnna.visualize_activations(model_conv3_pre, join(img_dir, \"2f\"+all_features[relevant_features[f_num]]+\".png\"),\n",
    "                         contrib_sample[f_num], init_img=x, rotate=False, stepsize=.5, num_steps=1)"
   ]
  },
  {
   "cell_type": "code",
   "execution_count": 1287,
   "metadata": {
    "collapsed": true,
    "hidden": true
   },
   "outputs": [],
   "source": [
    "h_ic = [model_conv3_pre.predict(np.expand_dims(np.rot90(x,r),0))[0] for r in range(4)]\n",
    "h_ic += [model_conv3_pre.predict(np.expand_dims(np.flipud(np.rot90(x,r)),0))[0] for r in range(4)]\n",
    "h_ic += [model_conv3_pre.predict(np.expand_dims(np.fliplr(np.rot90(x,r)),0))[0] for r in range(4)]\n",
    "\n",
    "for r in range(len(h_ic)):\n",
    "    h_ic[r][h_ic[r] < 0] = 0\n",
    "\n",
    "h_ic_rot = [np.rot90(h_ic[r], 4-r) for r in range(4)] #rotated back into original frame\n",
    "h_ic_rot += [np.rot90(np.flipud(h_ic[r]), 4-r) for r in range(4,8)]\n",
    "h_ic_rot += [np.rot90(np.fliplr(h_ic[r]), 4-r) for r in range(8,12)]\n",
    "\n",
    "h_ic_rot = np.array(h_ic_rot)"
   ]
  },
  {
   "cell_type": "code",
   "execution_count": 1295,
   "metadata": {
    "hidden": true
   },
   "outputs": [
    {
     "name": "stdout",
     "output_type": "stream",
     "text": [
      "progressive uniform enhancement (crc)\n"
     ]
    },
    {
     "data": {
      "image/png": "[encoded data removed]",
      "text/plain": [
       "<matplotlib.figure.Figure at 0x1947b9acfd0>"
      ]
     },
     "metadata": {},
     "output_type": "display_data"
    }
   ],
   "source": [
    "x_est=[]\n",
    "for r in range(12):\n",
    "    test_neurons = h_ic_rot[r]\n",
    "    sal_map = cnna.get_saliency_map(W, test_neurons, num_rel_f)\n",
    "\n",
    "    z_actual = model_conv3_input.predict(np.expand_dims(test_neurons,0))[0] - z_bias\n",
    "\n",
    "    h_ja = np.zeros((num_rel_f, test_neurons.shape[-1]))\n",
    "    for f_num in range(num_rel_f):\n",
    "        h_ja[f_num] = conv3_ch_plus[all_features[relevant_features[f_num]]].mean((0,1,2))\n",
    "\n",
    "    test_n_ch = test_neurons.mean((0,1,2))\n",
    "\n",
    "    sol = minimize(lambda w: sum((w[0]*h_ja[0] + w[1]*h_ja[1] + w[2]*h_ja[2] - test_n_ch)**2) - .001*(log(w[0]) + log(w[1]) + log(w[2])), [15,1,1],\n",
    "             bounds = ((0.001, None), (0.001, None), (0.001, None)))\n",
    "    w_a = sol['x']\n",
    "\n",
    "    for f_num in range(num_rel_f):\n",
    "        #h_ja[f_num] = w_a[f_num]*h_ja[f_num]\n",
    "        #h_ja[f_num][h_ja[f_num] < np.median(h_ja[f_num])] = 0\n",
    "        h_ja[f_num] /= h_ja[f_num][h_ja[f_num] > 0].mean()\n",
    "    for ch_ix in range(test_neurons.shape[-1]):\n",
    "        h_ja[:, ch_ix][h_ja[:, ch_ix] != np.max(h_ja[:, ch_ix])] = 0\n",
    "\n",
    "    contrib_sample = np.zeros((num_rel_f, *test_neurons.shape))\n",
    "    \n",
    "    #for f_num in range(num_rel_f):\n",
    "    f_num = 0\n",
    "    for ch_ix in range(test_neurons.shape[-1]):\n",
    "        contrib_sample[f_num,:,:,:,ch_ix] = test_neurons[:,:,:,ch_ix] - w_a[f_num]*h_ja[f_num, ch_ix]\n",
    "\n",
    "    sal_map = cnna.get_saliency_map(W, test_neurons, num_rel_f)\n",
    "    sal_map[f_num] *= gauss\n",
    "    sal_map[f_num][sal_map[f_num] < np.median(sal_map[f_num])] = 0\n",
    "    sal_map[f_num] -= sal_map[f_num].min()\n",
    "    sal_map[f_num] /= sal_map[f_num].mean()\n",
    "    for ch_ix in range(test_neurons.shape[-1]):\n",
    "        contrib_sample[f_num,:,:,:,ch_ix] = test_neurons[:,:,:,ch_ix] - h_ja[f_num,ch_ix]*sal_map[f_num] \\\n",
    "                + h_ja[f_num-1,ch_ix]*sal_map[f_num-1] + h_ja[f_num-2,ch_ix]*sal_map[f_num-2]\n",
    "    contrib_sample[contrib_sample < 0] = 0\n",
    "    x_est.append(cnna.visualize_activations(model_conv3_pre, join(img_dir, \"2f\"+all_features[relevant_features[f_num]]+\".png\"),\n",
    "                         contrib_sample[f_num], init_img=x, rotate=False, stepsize=.1, num_steps=1))\n",
    "print(all_features[relevant_features[f_num]])"
   ]
  },
  {
   "cell_type": "code",
   "execution_count": 1302,
   "metadata": {
    "collapsed": true,
    "hidden": true
   },
   "outputs": [],
   "source": [
    "x_est_avg = np.min(np.array(x_est),0)"
   ]
  },
  {
   "cell_type": "code",
   "execution_count": 1303,
   "metadata": {
    "hidden": true
   },
   "outputs": [
    {
     "data": {
      "image/png": "[encoded data removed]",
      "text/plain": [
       "<matplotlib.figure.Figure at 0x1907c577940>"
      ]
     },
     "metadata": {},
     "output_type": "display_data"
    }
   ],
   "source": [
    "hf.draw_slices(x_est_avg)"
   ]
  },
  {
   "cell_type": "code",
   "execution_count": null,
   "metadata": {
    "collapsed": true,
    "hidden": true
   },
   "outputs": [],
   "source": []
  },
  {
   "cell_type": "code",
   "execution_count": 989,
   "metadata": {
    "hidden": true
   },
   "outputs": [
    {
     "data": {
      "text/plain": [
       "<module 'cnn_analyzer' from 'C:\\\\Users\\\\Clinton\\\\Documents\\\\voi-classifier\\\\python\\\\cnn_analyzer.py'>"
      ]
     },
     "execution_count": 989,
     "metadata": {},
     "output_type": "execute_result"
    }
   ],
   "source": [
    "importlib.reload(cnna)"
   ]
  },
  {
   "cell_type": "code",
   "execution_count": 1395,
   "metadata": {
    "hidden": true,
    "scrolled": true
   },
   "outputs": [
    {
     "data": {
      "image/png": "[encoded data removed]",
      "text/plain": [
       "<matplotlib.figure.Figure at 0x194bd31f240>"
      ]
     },
     "metadata": {},
     "output_type": "display_data"
    }
   ],
   "source": [
    "f_num = 0\n",
    "x_est = cnna.visualize_activations(model_conv3_pre, join(img_dir, \"test.png\"),\n",
    "                     test_neurons, init_img=x, rotate=False, stepsize=.01, num_steps=100)"
   ]
  },
  {
   "cell_type": "code",
   "execution_count": null,
   "metadata": {
    "collapsed": true,
    "hidden": true
   },
   "outputs": [],
   "source": [
    "contrib_sample = np.zeros((num_rel_f, *test_neurons.shape))\n",
    "for f_num in range(num_rel_f):\n",
    "    for ch_ix in range(test_neurons.shape[-1]):\n",
    "        contrib_sample[f_num,:,:,:,ch_ix] = test_neurons[:,:,:,ch_ix] - w_a[f_num]*h_ja[f_num, ch_ix]"
   ]
  },
  {
   "cell_type": "code",
   "execution_count": 5,
   "metadata": {
    "collapsed": true,
    "hidden": true
   },
   "outputs": [],
   "source": [
    "orig_data_dict, num_samples = cbuild._collect_unaug_data()\n",
    "filters_by_cls = {cls: model_dense_outputs.predict(orig_data_dict[cls][0], verbose=False) for cls in C.classes_to_include}\n",
    "fig = cnna.tsne(filters_by_cls)\n",
    "fig.show()"
   ]
  },
  {
   "cell_type": "code",
   "execution_count": 224,
   "metadata": {
    "hidden": true,
    "scrolled": true
   },
   "outputs": [
    {
     "data": {
      "text/plain": [
       "137"
      ]
     },
     "execution_count": 224,
     "metadata": {},
     "output_type": "execute_result"
    }
   ],
   "source": [
    "len(hf.flatten([list(feature_sheet[\"evidence1\"+cls].dropna().values) for cls in C.classes_to_include]))"
   ]
  },
  {
   "cell_type": "markdown",
   "metadata": {
    "collapsed": true,
    "hidden": true
   },
   "source": [
    "model_conv1 = cbuild.pretrain_model(model, last_layer=-6, add_activ=True)\n",
    "model_conv2 = cbuild.pretrain_model(model, last_layer=-5, add_activ=True)\n",
    "model_conv3 = cbuild.pretrain_model(model, last_layer=-4, add_activ=True)\n",
    "model_dense = cbuild.pretrain_model(model, last_layer=-3, add_activ=True)"
   ]
  },
  {
   "cell_type": "markdown",
   "metadata": {
    "collapsed": true,
    "hidden": true
   },
   "source": [
    "cls = 'cyst'\n",
    "cls_img_set = orig_data_dict[cls][0]\n",
    "cls_activ_set = model_conv3.predict(cls_img_set)\n",
    "\n",
    "nmf = NMF(4)\n",
    "cls_activ_set_xform = nmf.fit_transform(cls_activ_set.mean((1,2,3)))\n",
    "\n",
    "nmf_comps = [nmf.components_[i] * (nmf.components_[i] > np.median(nmf.components_,0)*2) for i in range(4)]"
   ]
  },
  {
   "cell_type": "code",
   "execution_count": 187,
   "metadata": {
    "hidden": true
   },
   "outputs": [
    {
     "data": {
      "text/plain": [
       "<module 'cnn_analyzer' from 'C:\\\\Users\\\\Clinton\\\\Documents\\\\voi-classifier\\\\python\\\\cnn_analyzer.py'>"
      ]
     },
     "execution_count": 187,
     "metadata": {},
     "output_type": "execute_result"
    }
   ],
   "source": [
    "importlib.reload(cnna)"
   ]
  },
  {
   "cell_type": "code",
   "execution_count": null,
   "metadata": {
    "collapsed": true,
    "hidden": true
   },
   "outputs": [],
   "source": [
    "cnna.visualize_layer_weighted(model_frozen, 'conv3d_11', \"D:\\\\filters\", K.constant(nmf_comps[0]))"
   ]
  },
  {
   "cell_type": "code",
   "execution_count": 277,
   "metadata": {
    "collapsed": true,
    "hidden": true
   },
   "outputs": [],
   "source": [
    "activs0 = cls_activ_set[:,:,:,:,nmf_comps[1] > 0]\n",
    "activ_map0 = activs0.mean(4)"
   ]
  },
  {
   "cell_type": "code",
   "execution_count": 278,
   "metadata": {
    "collapsed": true,
    "hidden": true
   },
   "outputs": [],
   "source": [
    "activ_map0, _ = tr.rescale_img(np.transpose(activ_map0, (1,2,3,0)), cls_img_set[img_id].shape[:3])\n",
    "activ_map0 = np.transpose(activ_map0, (3,0,1,2))"
   ]
  },
  {
   "cell_type": "code",
   "execution_count": 282,
   "metadata": {
    "hidden": true
   },
   "outputs": [
    {
     "data": {
      "image/png": "[encoded data removed]",
      "text/plain": [
       "<matplotlib.figure.Figure at 0x177a007b710>"
      ]
     },
     "metadata": {},
     "output_type": "display_data"
    }
   ],
   "source": [
    "img_id = 1\n",
    "alpha = 1.\n",
    "overlaid_img = cls_img_set[img_id] - np.amin(cls_img_set[img_id])\n",
    "overlaid_img = np.stack([((activ_map0[img_id] > np.mean(activ_map0[img_id])*alpha)+.5) * overlaid_img[:,:,:,i] for i in range(3)], 3)\n",
    "hf.draw_slices(overlaid_img)"
   ]
  },
  {
   "cell_type": "code",
   "execution_count": null,
   "metadata": {
    "collapsed": true,
    "hidden": true
   },
   "outputs": [],
   "source": [
    "hf.draw_slices(cls_img_set[img_id])"
   ]
  },
  {
   "cell_type": "code",
   "execution_count": null,
   "metadata": {
    "collapsed": true,
    "hidden": true
   },
   "outputs": [],
   "source": []
  },
  {
   "cell_type": "code",
   "execution_count": null,
   "metadata": {
    "collapsed": true,
    "hidden": true
   },
   "outputs": [],
   "source": []
  },
  {
   "cell_type": "code",
   "execution_count": 596,
   "metadata": {
    "collapsed": true,
    "hidden": true
   },
   "outputs": [],
   "source": [
    "dw = np.linspace(0,5,100)\n",
    "dy = np.empty((num_rel_f, len(dw)))\n",
    "w_f = np.empty(num_rel_f)\n",
    "\n",
    "for f_num in range(num_rel_f):\n",
    "    for w_ix in range(len(dw)):\n",
    "        z_f = model_conv3_input.predict(np.expand_dims(test_neurons - dw[w_ix]*contrib_sample[f_num],0))[0]\n",
    "        dy[f_num,w_ix] = z_f[1] - np.amax(z_f[[0,2,3,4,5]])\n",
    "    #w_f[f_num] = (dy[f_num] < 0).nonzero()[0][0]"
   ]
  },
  {
   "cell_type": "code",
   "execution_count": 464,
   "metadata": {
    "hidden": true
   },
   "outputs": [
    {
     "data": {
      "text/plain": [
       "array([  0.12477922, -13.959014  , -11.985743  , -11.229456  ],\n",
       "      dtype=float32)"
      ]
     },
     "execution_count": 464,
     "metadata": {},
     "output_type": "execute_result"
    }
   ],
   "source": [
    "z_f[:1]+z_f[2:]"
   ]
  },
  {
   "cell_type": "code",
   "execution_count": null,
   "metadata": {
    "collapsed": true,
    "hidden": true
   },
   "outputs": [],
   "source": [
    "f_num = 2\n",
    "[dy[f_num][i] - dy[f_num][i-1] for i in range(1,len(dy[f_num]))]"
   ]
  },
  {
   "cell_type": "code",
   "execution_count": null,
   "metadata": {
    "collapsed": true,
    "hidden": true
   },
   "outputs": [],
   "source": [
    "dy[0]"
   ]
  },
  {
   "cell_type": "code",
   "execution_count": 500,
   "metadata": {
    "hidden": true
   },
   "outputs": [
    {
     "data": {
      "text/plain": [
       "26"
      ]
     },
     "execution_count": 500,
     "metadata": {},
     "output_type": "execute_result"
    }
   ],
   "source": []
  },
  {
   "cell_type": "code",
   "execution_count": 361,
   "metadata": {
    "collapsed": true,
    "hidden": true
   },
   "outputs": [],
   "source": [
    "sal_map = cnna.get_saliency_map(W, test_neurons, num_rel_f)\n",
    "z_f = np.empty((num_rel_f, 6))\n",
    "for f_num in range(num_rel_f):\n",
    "    contrib_sample = np.transpose(np.tile(sal_map[f_num], (128,1,1,1)), (1,2,3,0)) + test_neurons\n",
    "    #print(all_features[relevant_features[f_num]])\n",
    "    z_f[f_num] = model_conv3_input.predict(np.expand_dims(contrib_sample,0)) - z_actual"
   ]
  },
  {
   "cell_type": "code",
   "execution_count": 388,
   "metadata": {
    "collapsed": true,
    "hidden": true
   },
   "outputs": [],
   "source": [
    "noise = np.random.normal(size=(1000,*test_neurons.shape))"
   ]
  },
  {
   "cell_type": "code",
   "execution_count": 389,
   "metadata": {
    "collapsed": true,
    "hidden": true
   },
   "outputs": [],
   "source": [
    "z_base = model_conv3_input.predict(noise)"
   ]
  },
  {
   "cell_type": "code",
   "execution_count": 366,
   "metadata": {
    "collapsed": true,
    "hidden": true
   },
   "outputs": [],
   "source": [
    "z_base = model_conv3_input.predict(np.expand_dims(np.ones(test_neurons.shape),0))"
   ]
  },
  {
   "cell_type": "code",
   "execution_count": 397,
   "metadata": {
    "collapsed": true,
    "hidden": true
   },
   "outputs": [],
   "source": [
    "z_base = z_base.mean(0)"
   ]
  },
  {
   "cell_type": "code",
   "execution_count": 398,
   "metadata": {
    "collapsed": true,
    "hidden": true
   },
   "outputs": [],
   "source": [
    "Z = np.concatenate((z_f, np.expand_dims(z_base,0)))"
   ]
  },
  {
   "cell_type": "code",
   "execution_count": 400,
   "metadata": {
    "hidden": true
   },
   "outputs": [
    {
     "data": {
      "text/plain": [
       "(4, 6)"
      ]
     },
     "execution_count": 400,
     "metadata": {},
     "output_type": "execute_result"
    }
   ],
   "source": [
    "W = Z.shape"
   ]
  },
  {
   "cell_type": "code",
   "execution_count": 362,
   "metadata": {
    "hidden": true,
    "scrolled": true
   },
   "outputs": [
    {
     "data": {
      "text/plain": [
       "array([[-3.15560436,  0.9448576 , -1.96781707, -0.67129517, -2.05151415,\n",
       "         2.70983791],\n",
       "       [-1.69611597, -0.05921125, -1.89745355,  0.80170631, -2.63591051,\n",
       "         1.83641386],\n",
       "       [-1.55328608,  0.75187254, -1.75524974, -0.0799427 , -1.24825335,\n",
       "         1.33727264]])"
      ]
     },
     "execution_count": 362,
     "metadata": {},
     "output_type": "execute_result"
    }
   ],
   "source": [
    "z_f"
   ]
  },
  {
   "cell_type": "code",
   "execution_count": null,
   "metadata": {
    "collapsed": true,
    "hidden": true
   },
   "outputs": [],
   "source": [
    "model_conv3_input.predict(np.expand_dims(test_neurons,0))"
   ]
  },
  {
   "cell_type": "code",
   "execution_count": 318,
   "metadata": {
    "hidden": true
   },
   "outputs": [
    {
     "data": {
      "text/plain": [
       "['hcc', 'cholangio', 'colorectal', 'cyst', 'hemangioma', 'fnh']"
      ]
     },
     "execution_count": 318,
     "metadata": {},
     "output_type": "execute_result"
    }
   ],
   "source": [
    "C.classes_to_include"
   ]
  },
  {
   "cell_type": "code",
   "execution_count": null,
   "metadata": {
    "collapsed": true,
    "hidden": true
   },
   "outputs": [],
   "source": []
  }
 ],
 "metadata": {
  "kernelspec": {
   "display_name": "Python 3",
   "language": "python",
   "name": "python3"
  },
  "language_info": {
   "codemirror_mode": {
    "name": "ipython",
    "version": 3
   },
   "file_extension": ".py",
   "mimetype": "text/x-python",
   "name": "python",
   "nbconvert_exporter": "python",
   "pygments_lexer": "ipython3",
   "version": "3.5.0"
  },
  "varInspector": {
   "cols": {
    "lenName": 16,
    "lenType": 16,
    "lenVar": 40
   },
   "kernels_config": {
    "python": {
     "delete_cmd_postfix": "",
     "delete_cmd_prefix": "del ",
     "library": "var_list.py",
     "varRefreshCmd": "print(var_dic_list())"
    },
    "r": {
     "delete_cmd_postfix": ") ",
     "delete_cmd_prefix": "rm(",
     "library": "var_list.r",
     "varRefreshCmd": "cat(var_dic_list()) "
    }
   },
   "types_to_exclude": [
    "module",
    "function",
    "builtin_function_or_method",
    "instance",
    "_Feature"
   ],
   "window_display": false
  }
 },
 "nbformat": 4,
 "nbformat_minor": 2
}
