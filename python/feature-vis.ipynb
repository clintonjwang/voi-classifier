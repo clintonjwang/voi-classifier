{
 "cells": [
  {
   "cell_type": "code",
   "execution_count": 1,
   "metadata": {},
   "outputs": [
    {
     "name": "stderr",
     "output_type": "stream",
     "text": [
      "C:\\Users\\Clinton\\AppData\\Local\\conda\\conda\\envs\\old-keras\\lib\\site-packages\\h5py\\__init__.py:34: FutureWarning: Conversion of the second argument of issubdtype from `float` to `np.floating` is deprecated. In future, it will be treated as `np.float64 == np.dtype(float).type`.\n",
      "  from ._conv import register_converters as _register_converters\n",
      "Using TensorFlow backend.\n"
     ]
    }
   ],
   "source": [
    "from sklearn.decomposition import NMF\n",
    "\n",
    "from keras.models import Model\n",
    "import keras.models\n",
    "import keras.layers as layers\n",
    "from keras.optimizers import Adam\n",
    "from keras.callbacks import EarlyStopping\n",
    "from keras.utils import np_utils\n",
    "from sklearn.metrics import confusion_matrix, f1_score, accuracy_score\n",
    "from keras import backend as K\n",
    "\n",
    "import copy\n",
    "import cnn_analyzer as cnna\n",
    "import cnn_builder as cbuild\n",
    "import config\n",
    "import csv\n",
    "import niftiutils.helper_fxns as hf\n",
    "import niftiutils.transforms as tr\n",
    "import importlib\n",
    "import itertools\n",
    "from math import sqrt, log, pi, exp\n",
    "import matplotlib.pyplot as plt\n",
    "from numba import jit, njit, prange, vectorize, guvectorize\n",
    "from numpy import matmul, diag\n",
    "import numpy as np\n",
    "import operator\n",
    "import os\n",
    "from os.path import *\n",
    "import pandas as pd\n",
    "import random\n",
    "import scipy\n",
    "from scipy.optimize import minimize\n",
    "import time\n",
    "%matplotlib inline"
   ]
  },
  {
   "cell_type": "code",
   "execution_count": null,
   "metadata": {
    "collapsed": true
   },
   "outputs": [],
   "source": []
  },
  {
   "cell_type": "raw",
   "metadata": {
    "collapsed": true,
    "scrolled": true
   },
   "source": [
    "importlib.reload(config)\n",
    "importlib.reload(hf)\n",
    "importlib.reload(cbuild)\n",
    "C = config.Config()"
   ]
  },
  {
   "cell_type": "code",
   "execution_count": 3,
   "metadata": {
    "collapsed": true
   },
   "outputs": [],
   "source": [
    "model = keras.models.load_model(os.path.join(C.model_dir, \"model_no_pad.hdf5\"))"
   ]
  },
  {
   "cell_type": "code",
   "execution_count": null,
   "metadata": {
    "collapsed": true
   },
   "outputs": [],
   "source": [
    "model = keras.models.load_model(os.path.join(C.model_dir, \"models_305.hdf5\")) #models_305"
   ]
  },
  {
   "cell_type": "code",
   "execution_count": 61,
   "metadata": {
    "collapsed": true
   },
   "outputs": [],
   "source": []
  },
  {
   "cell_type": "code",
   "execution_count": null,
   "metadata": {
    "collapsed": true
   },
   "outputs": [],
   "source": []
  },
  {
   "cell_type": "markdown",
   "metadata": {
    "collapsed": true
   },
   "source": [
    "def kl_div(m1, sig1, m2, sig2, one_sided=\"none\"):\n",
    "    #returns kl(p,q) where p~N(m1,s1), q~N(m2,s2)\n",
    "    ret = np.log(sig2/sig1) + (sig1**2+(m1-m2)**2)/(2*sig2**2) - .5\n",
    "    if one_sided==\"less\":\n",
    "        return ret * (m1 < m2)\n",
    "    elif one_sided==\"greater\":\n",
    "        return ret * (m1 > m2)\n",
    "    else:\n",
    "        return ret"
   ]
  },
  {
   "cell_type": "code",
   "execution_count": null,
   "metadata": {
    "collapsed": true
   },
   "outputs": [],
   "source": []
  },
  {
   "cell_type": "code",
   "execution_count": 13,
   "metadata": {
    "scrolled": true
   },
   "outputs": [
    {
     "data": {
      "text/plain": [
       "<module 'cnn_builder' from 'C:\\\\Users\\\\Clinton\\\\Documents\\\\voi-classifier\\\\python\\\\cnn_builder.py'>"
      ]
     },
     "execution_count": 13,
     "metadata": {},
     "output_type": "execute_result"
    }
   ],
   "source": [
    "importlib.reload(cbuild)"
   ]
  },
  {
   "cell_type": "code",
   "execution_count": 279,
   "metadata": {
    "collapsed": true
   },
   "outputs": [],
   "source": [
    "#model_conv1_pre = cbuild.build_pretrain_model(model, padding=['same','same'], last_layer=-6)#, add_activ=True)\n",
    "#model_conv2_pre = cbuild.build_pretrain_model(model, padding=['same','same'], last_layer=-5)#, add_activ=True)\n",
    "model_conv3_pre = cbuild.build_pretrain_model(model, padding=['same','same'], last_layer=-4, add_activ=True)\n",
    "#model_dense_pre = cbuild.build_pretrain_model(model, padding=['same','same'], last_layer=-3)#, add_activ=True)"
   ]
  },
  {
   "cell_type": "code",
   "execution_count": 363,
   "metadata": {
    "collapsed": true
   },
   "outputs": [],
   "source": [
    "orig_data_dict, num_samples = cbuild._collect_unaug_data()\n",
    "\n",
    "features_by_cls, feat_count = cnna.collect_features()\n",
    "#feat_count.pop(\"central scar\")\n",
    "all_features = sorted(list(feat_count.keys()))\n",
    "cls_features = {f: [c for c in C.classes_to_include if f in features_by_cls[c]] for f in all_features}\n",
    "\n",
    "Z_features = cnna.get_annotated_files(features_by_cls)\n",
    "#Z_features.pop(\"central scar\")"
   ]
  },
  {
   "cell_type": "code",
   "execution_count": 9,
   "metadata": {
    "collapsed": true
   },
   "outputs": [],
   "source": [
    "import dr_methods as drm\n",
    "voi_df = drm.get_voi_dfs()[0]"
   ]
  },
  {
   "cell_type": "code",
   "execution_count": 10,
   "metadata": {
    "collapsed": true
   },
   "outputs": [],
   "source": [
    "Z = np.concatenate([orig_data_dict[cls][1] for cls in C.classes_to_include], 0)\n",
    "\n",
    "all_conv2_ch = np.empty([0,128])\n",
    "all_conv3_ch = np.empty([0,128])\n",
    "\n",
    "aug_factor = 10\n",
    "for img_id in range(len(Z)):\n",
    "    voi_row = voi_df.loc[Z[img_id]]\n",
    "    for aug_id in range(aug_factor):\n",
    "        img = np.load(os.path.join(C.aug_dir, voi_row['cls'], \"%s_%d.npy\" % (Z[img_id], aug_id)))\n",
    "        activ = model_conv2_pre.predict(np.expand_dims(img, 0))\n",
    "        all_conv2_ch = np.concatenate([all_conv2_ch, activ.mean(axis=(1,2,3))], axis=0)\n",
    "        activ = model_conv3_pre.predict(np.expand_dims(img, 0))\n",
    "        all_conv3_ch = np.concatenate([all_conv3_ch, activ.mean(axis=(1,2,3))], axis=0)"
   ]
  },
  {
   "cell_type": "code",
   "execution_count": null,
   "metadata": {
    "collapsed": true
   },
   "outputs": [],
   "source": []
  },
  {
   "cell_type": "code",
   "execution_count": 364,
   "metadata": {
    "collapsed": true
   },
   "outputs": [],
   "source": [
    "num_features = len(all_features)"
   ]
  },
  {
   "cell_type": "markdown",
   "metadata": {},
   "source": [
    "D = np.empty((8,8,4))\n",
    "for x in range(D.shape[0]):\n",
    "    for y in range(D.shape[1]):\n",
    "        for z in range(D.shape[2]):\n",
    "            D[x,y,z] = (D.shape[0]-.5-x)**2 + (D.shape[1]-.5-y)**2 + 4*(D.shape[2]-.5-z)**2\n",
    "\n",
    "def get_shells(activ, D):\n",
    "    shell4 = activ[0, D > 85, :].mean(axis=0)\n",
    "    shell3 = activ[0, (D <= 85) & (D > 62), :].mean(axis=0)\n",
    "    shell2 = activ[0, (D <= 62) & (D > 39), :].mean(axis=0)\n",
    "    shell1 = activ[0, D <= 39, :].mean(axis=0)\n",
    "    return np.expand_dims(np.stack([shell1, shell2, shell3, shell4], 0), 0)"
   ]
  },
  {
   "cell_type": "markdown",
   "metadata": {},
   "source": [
    "feature_conv3_ch['central scar'] =np.empty([0,12,12,6,128])"
   ]
  },
  {
   "cell_type": "code",
   "execution_count": 365,
   "metadata": {
    "collapsed": true
   },
   "outputs": [],
   "source": [
    "#feature_conv1_ch = {f:np.empty([0,12,12,6,64*3]) for f in all_features}\n",
    "#feature_conv2_ch = {f:np.empty([0,12,12,6,128]) for f in all_features}\n",
    "#feature_conv3_ch = {f:np.empty([0,12,12,6,128]) for f in all_features}\n",
    "#feature_conv3_sh = {f:np.empty([0,4,128]) for f in all_features}\n",
    "aug_factor = 80\n",
    "for f_ix in range(num_features):#relevant_features:\n",
    "    f = all_features[f_ix]\n",
    "    Z_f = Z_features[f]\n",
    "    for img_id in range(len(Z_f)):\n",
    "        voi_row = voi_df.loc[Z_f[img_id]]\n",
    "        for aug_id in range(aug_factor):\n",
    "            img = np.load(os.path.join(C.aug_dir, voi_row['cls'], \"%s_%d.npy\" % (Z_f[img_id], aug_id)))\n",
    "            #activ = model_conv1_pre.predict(np.expand_dims(img, 0))\n",
    "            #activ = np.expand_dims(tr.scale3d(activ[0], (.5,.5,.5)),0)\n",
    "            #feature_conv1_ch[f] = np.concatenate([feature_conv1_ch[f], activ], axis=0)\n",
    "            #activ = model_conv2_pre.predict(np.expand_dims(img, 0))\n",
    "            #feature_conv2_ch[f] = np.concatenate([feature_conv2_ch[f], activ], axis=0)\n",
    "            activ = model_conv3_pre.predict(np.expand_dims(img, 0))\n",
    "            feature_conv3_ch[f] = np.concatenate([feature_conv3_ch[f], activ], axis=0)\n",
    "            #feature_conv3_sh[f] = np.concatenate([feature_conv3_sh[f], get_shells(activ, D)], axis=0)"
   ]
  },
  {
   "cell_type": "code",
   "execution_count": 366,
   "metadata": {
    "collapsed": true
   },
   "outputs": [],
   "source": [
    "conv3_ch_plus = copy.deepcopy(feature_conv3_ch)\n",
    "for f_ix in range(num_features):\n",
    "    f = all_features[f_ix]\n",
    "    conv3_ch_plus[f][conv3_ch_plus[f] < 0] = 0\n",
    "    conv3_ch_plus[f] = conv3_ch_plus[f].mean(0)"
   ]
  },
  {
   "cell_type": "markdown",
   "metadata": {
    "collapsed": true
   },
   "source": [
    "conv3_sh_plus = {}\n",
    "for i, f_ix in enumerate(relevant_features):\n",
    "    f = all_features[f_ix]\n",
    "    activ = conv3_ch_plus[f]\n",
    "    shell4 = activ[D > 85, :].mean(0)\n",
    "    shell3 = activ[(D <= 85) & (D > 62), :].mean(0)\n",
    "    shell2 = activ[(D <= 62) & (D > 39), :].mean(0)\n",
    "    shell1 = activ[D <= 39, :].mean(0)\n",
    "    conv3_sh_plus[f] = np.stack([shell1, shell2, shell3, shell4], 0)"
   ]
  },
  {
   "cell_type": "markdown",
   "metadata": {},
   "source": [
    "feature_avgs = np.zeros((4,128))\n",
    "for i, f_ix in enumerate(relevant_features):\n",
    "    f = all_features[f_ix]\n",
    "    feature_avgs[i] = conv3_sh_plus[f].mean(0).max(0)\n",
    "    \n",
    "channel_separations = np.empty((4,128))\n",
    "for i in range(4):\n",
    "    channel_separations[i] = np.amax(feature_avgs, 0) - feature_avgs[i]"
   ]
  },
  {
   "cell_type": "code",
   "execution_count": null,
   "metadata": {
    "collapsed": true
   },
   "outputs": [],
   "source": []
  },
  {
   "cell_type": "markdown",
   "metadata": {},
   "source": [
    "active_neuron_ixs = np.where(h_ic_rot[0] > 0)\n",
    "\n",
    "num_active_neurons = active_neuron_ixs[0].size\n",
    "\n",
    "H = h_ic[h_ic > 0]\n",
    "np.matmul(H, W)"
   ]
  },
  {
   "cell_type": "code",
   "execution_count": 9,
   "metadata": {
    "collapsed": true
   },
   "outputs": [],
   "source": [
    "@njit\n",
    "def get_spatial_overlap(w, f_c3_ch):\n",
    "    relevant_features = ch_weights.keys()\n",
    "    \n",
    "    ch_weights2 = np.zeros(num_rel_f,128)\n",
    "    for ch in range(128):\n",
    "        f_c3_ch[:,:,:,:,ch] = (f_c3_ch[:,:,:,:,ch] - np.mean(f_c3_ch[:,:,:,:,ch]))# / np.std(f_c3_ch[:,:,:,:,ch])\n",
    "        \n",
    "        if ch_weights[ch] > 0:\n",
    "            w = np.zeros(f_c3_ch.shape[:4])\n",
    "            for i in range(128):\n",
    "                if ch_weights[i] > 0:\n",
    "                    w += ch_weights[i] * f_c3_ch[:,:,:,:,i]\n",
    "            w = w / np.sum(ch_weights)\n",
    "            ch_weights2[ch] = np.sum(f_c3_ch[:,:,:,:,ch] * w)\n",
    "            \n",
    "    return ch_weights2"
   ]
  },
  {
   "cell_type": "code",
   "execution_count": 936,
   "metadata": {},
   "outputs": [
    {
     "data": {
      "text/plain": [
       "83"
      ]
     },
     "execution_count": 936,
     "metadata": {},
     "output_type": "execute_result"
    }
   ],
   "source": [
    "cls = 'colorectal'\n",
    "cls_img_set = orig_data_dict[cls][0]\n",
    "\n",
    "#13010227_0 hcc\n",
    "#12739056_2 crc\n",
    "#E102095465_0 icc\n",
    "#12207268_0 cyst\n",
    "#13130745_0 hemangioma \n",
    "#E104189184_0 fnh\n",
    "list(orig_data_dict[cls][1]).index('12739056_2')"
   ]
  },
  {
   "cell_type": "code",
   "execution_count": 1270,
   "metadata": {
    "scrolled": false
   },
   "outputs": [],
   "source": [
    "#cls_activ_set = model_conv3_pre.predict(cls_img_set)\n",
    "\n",
    "img_id = 83\n",
    "x = cls_img_set[img_id]\n",
    "\n",
    "h_ic = [model_conv3_pre.predict(np.expand_dims(np.rot90(x,r),0))[0] for r in range(4)]\n",
    "h_ic += [model_conv3_pre.predict(np.expand_dims(np.flipud(np.rot90(x,r)),0))[0] for r in range(4)]\n",
    "h_ic += [model_conv3_pre.predict(np.expand_dims(np.fliplr(np.rot90(x,r)),0))[0] for r in range(4)]\n",
    "\n",
    "for r in range(len(h_ic)):\n",
    "    h_ic[r][h_ic[r] < 0] = 0\n",
    "\n",
    "h_ic_rot = [np.rot90(h_ic[r], 4-r) for r in range(4)] #rotated back into original frame\n",
    "h_ic_rot += [np.rot90(np.flipud(h_ic[r]), 4-r) for r in range(4,8)]\n",
    "h_ic_rot += [np.rot90(np.fliplr(h_ic[r]), 4-r) for r in range(8,12)]\n",
    "\n",
    "h_ic_rot = np.array(h_ic_rot)\n",
    "test_neurons = h_ic_rot.mean(0)"
   ]
  },
  {
   "cell_type": "code",
   "execution_count": 571,
   "metadata": {
    "scrolled": false
   },
   "outputs": [
    {
     "name": "stdout",
     "output_type": "stream",
     "text": [
      "[(0, 'arterial enhancement'), (1, 'central scar'), (2, 'continuous enhancing rim'), (3, 'delayed isointensity'), (4, 'heterogeneous'), (5, 'homogeneous'), (6, 'hyperintense mass on delayed phase'), (7, 'hypointense without enhancement'), (8, 'infiltrative'), (9, 'lobulated margins'), (10, 'nodular or discontinuous enhancement'), (11, 'progressive centripetal filling'), (12, 'progressive uniform enhancement'), (13, 'progressive uniform enhancement (crc)'), (14, 'regular spherical hypointense mass'), (15, 'thin well-defined walls'), (16, 'venous washout')]\n"
     ]
    }
   ],
   "source": [
    "print(list(zip(range(len(all_features)), all_features)))"
   ]
  },
  {
   "cell_type": "code",
   "execution_count": 1271,
   "metadata": {},
   "outputs": [
    {
     "name": "stdout",
     "output_type": "stream",
     "text": [
      "['progressive uniform enhancement (crc)' 'continuous enhancing rim'\n",
      " 'regular spherical hypointense mass']\n"
     ]
    }
   ],
   "source": [
    "relevant_features = [13,2,14]\n",
    "#[13,2,14] #colorectal, [16, 0, 4] #hcc, [4,9,12] #cholangio, [7, 14, 15] #cyst [1, 3, 0] #fnh # [6, 10, 11] #hemangioma\n",
    "img_dir = \"D:\\\\feature_analysis\\\\crc\"\n",
    "if not exists(img_dir):\n",
    "    os.makedirs(img_dir)\n",
    "\n",
    "num_rel_f = len(relevant_features)\n",
    "print(np.array(all_features)[relevant_features])"
   ]
  },
  {
   "cell_type": "code",
   "execution_count": 1272,
   "metadata": {
    "collapsed": true
   },
   "outputs": [],
   "source": [
    "num_channels = 128\n",
    "feature_avgs = np.zeros((num_rel_f, num_channels))\n",
    "for i, f_ix in enumerate(relevant_features):\n",
    "    f = all_features[f_ix]\n",
    "    feature_avgs[i] = conv3_ch_plus[f].mean((0,1,2))\n",
    "    #feature_avgs[i] = conv3_ch_plus[f].mean((0,1,2))\n",
    "    \n",
    "channel_separations = np.empty((num_rel_f, num_channels)) # separation between channel mean activations for the relevant features\n",
    "for i in range(num_rel_f):\n",
    "    channel_separations[i] = (np.amax(feature_avgs, 0) - feature_avgs[i]) / np.mean(feature_avgs, 0)\n",
    "\n",
    "channel_separations *= 10\n",
    "\n",
    "W = np.zeros((num_rel_f, num_channels))\n",
    "for ch_ix in range(num_channels):\n",
    "    #f_ix = list(channel_separations[:,ch_ix]).index(0)\n",
    "    #W[f_ix,ch_ix] = channel_separations[:,ch_ix].mean()\n",
    "    W[:,ch_ix] = np.median(channel_separations[:,ch_ix]) - channel_separations[:,ch_ix]\n",
    "    \n",
    "W[W < 0] = 0"
   ]
  },
  {
   "cell_type": "code",
   "execution_count": 381,
   "metadata": {
    "collapsed": true
   },
   "outputs": [],
   "source": [
    "test_neurons = h_ic_rot[0]"
   ]
  },
  {
   "cell_type": "code",
   "execution_count": 285,
   "metadata": {
    "collapsed": true
   },
   "outputs": [],
   "source": [
    "def get_saliency_map(W, test_neurons, num_rel_f):\n",
    "    sal_map = np.zeros((num_rel_f, *test_neurons.shape[:3]))\n",
    "    for f_num in range(num_rel_f):\n",
    "        for ch_ix in range(test_neurons.shape[-1]):\n",
    "            sal_map[f_num] += W[f_num, ch_ix] * test_neurons[:,:,:,ch_ix]\n",
    "        sal_map[f_num] /= np.sum(W[f_num])\n",
    "        \n",
    "        \n",
    "    #for f_num in range(num_rel_f):\n",
    "    #    for spatial_ix in np.ndindex(test_neurons.shape[:-1]):\n",
    "    #        sal_map[f_num, spatial_ix] = sal_map[f_num, spatial_ix]**2 / sal_map[:, spatial_ix].sum()\n",
    "            \n",
    "    return sal_map"
   ]
  },
  {
   "cell_type": "code",
   "execution_count": 286,
   "metadata": {
    "scrolled": true
   },
   "outputs": [
    {
     "data": {
      "text/plain": [
       "[12, 2, 13]"
      ]
     },
     "execution_count": 286,
     "metadata": {},
     "output_type": "execute_result"
    }
   ],
   "source": [
    "relevant_features"
   ]
  },
  {
   "cell_type": "markdown",
   "metadata": {},
   "source": [
    "alpha\n",
    "\n",
    "[3, 7, 10] = [.9,1.3,1.2] icc\n",
    "[13, 0, 3] = [1,1.4,2] hcc\n",
    "[12,2,13] = [1.2,.95,1.8] crc\n",
    "[5, 11, 12] = [.8,1.1,1.2] cyst\n",
    "[9, 4, 8] = [1.5,1.4,1.7] hem\n",
    "\n",
    "[3, 0, 1] = ... fnh\n",
    "\n",
    "beta\n",
    "[3, 7, 10] = [1.1,1.3,1.8] icc\n",
    "[13, 0, 3] = [1.8,1.1,1.2] hcc\n",
    "[12,2,13] = [1.5,1.5,1.8] crc\n",
    "[5, 11, 12] = [1.1,1.1,1.3] cyst\n",
    "[9, 4, 8] = [1.1,1.3,1.5] hem\n",
    "[2, 0, 11] = ... fnh"
   ]
  },
  {
   "cell_type": "code",
   "execution_count": 1280,
   "metadata": {},
   "outputs": [],
   "source": [
    "gauss = np.zeros((12,12))\n",
    "\n",
    "for i in range(gauss.shape[0]):\n",
    "    for j in range(gauss.shape[1]):\n",
    "        dx = abs(i - gauss.shape[0]/2+.5)\n",
    "        dy = abs(j - gauss.shape[1]/2+.5)\n",
    "        gauss[i,j] = scipy.stats.norm.pdf((dx**2 + dy**2)**.5, 0, gauss.shape[0]//3)\n",
    "gauss = np.transpose(np.tile(gauss, (6,1,1)), (1,2,0))"
   ]
  },
  {
   "cell_type": "code",
   "execution_count": 1285,
   "metadata": {
    "scrolled": true
   },
   "outputs": [
    {
     "name": "stdout",
     "output_type": "stream",
     "text": [
      "['progressive uniform enhancement (crc)' 'continuous enhancing rim'\n",
      " 'regular spherical hypointense mass']\n"
     ]
    },
    {
     "data": {
      "image/png": "[encoded data removed]",
      "text/plain": [
       "<matplotlib.figure.Figure at 0x1946f1f4828>"
      ]
     },
     "metadata": {},
     "output_type": "display_data"
    }
   ],
   "source": [
    "z = orig_data_dict[cls][1][img_id]\n",
    "\n",
    "bw = False\n",
    "width = x.shape[0]\n",
    "overlaid_img_clr = np.zeros((width*3, x.shape[1], 3))\n",
    "overlaid_img = x - np.amin(x)\n",
    "\n",
    "high_window = [1,.7,1] #relative intensity\n",
    "low_window = [0.2,0.1,0.05] #relative intensity\n",
    "\n",
    "sal_map = get_saliency_map(W, test_neurons, num_rel_f)\n",
    "RGB = []\n",
    "for f_num in range(num_rel_f):\n",
    "    sal_map[f_num] *= gauss\n",
    "    sal_map[f_num] -= sal_map[f_num].min()\n",
    "    hi_thresh = sal_map[f_num].max()*high_window[f_num]\n",
    "    lo_thresh = sal_map[f_num].max()*low_window[f_num]\n",
    "    sal_map[f_num][sal_map[f_num] > hi_thresh] = hi_thresh\n",
    "    sal_map[f_num][sal_map[f_num] < lo_thresh] = lo_thresh\n",
    "    sal_map[f_num] -= sal_map[f_num].min()\n",
    "    sal_map_f = tr.scale3d(sal_map[f_num], (2,2,2))\n",
    "    if bw:\n",
    "        sal_map_f = overlaid_img[:,:,:,f_num]\n",
    "        hi_thresh = sal_map_f.max()*1\n",
    "        lo_thresh = sal_map_f.max()*0\n",
    "        sal_map_f[sal_map_f > hi_thresh] = hi_thresh\n",
    "        sal_map_f[sal_map_f < lo_thresh] = lo_thresh\n",
    "        sal_map_f -= sal_map_f.min()\n",
    "    RGB.append(sal_map_f[:,:,sal_map_f.shape[2]//2])\n",
    "    \n",
    "overlaid_img_clr[:width,:,0] = RGB[0]\n",
    "overlaid_img_clr[width:width*2,:,0] = overlaid_img_clr[width:width*2,:,1] = RGB[1]\n",
    "overlaid_img_clr[width*2:,:,1] = RGB[2]\n",
    "    \n",
    "overlaid_img_clr -= overlaid_img_clr.min() - 0\n",
    "overlaid_img_clr *= 1 / overlaid_img_clr.max()\n",
    "\n",
    "if bw:\n",
    "    overlaid_img_clr = overlaid_img_clr.mean(-1)\n",
    "    overlaid_img_clr = np.transpose(np.tile(overlaid_img_clr, (3,1,1)), (1,2,0))\n",
    "\n",
    "overlaid_img_clr[:width] *= 1 / overlaid_img_clr[:width].max()\n",
    "overlaid_img_clr[width:width*2] *= 1 / overlaid_img_clr[width:width*2].max()\n",
    "overlaid_img_clr[width*2:] *= 1 / overlaid_img_clr[width*2:].max()\n",
    "\n",
    "fig = plt.imshow(overlaid_img_clr)\n",
    "fig.get_figure().set_figheight(7)\n",
    "fig.axes.get_xaxis().set_visible(False)\n",
    "fig.axes.get_yaxis().set_visible(False)\n",
    "print(np.array(all_features)[relevant_features])"
   ]
  },
  {
   "cell_type": "code",
   "execution_count": 1286,
   "metadata": {},
   "outputs": [
    {
     "name": "stderr",
     "output_type": "stream",
     "text": [
      "C:\\Users\\Clinton\\AppData\\Local\\conda\\conda\\envs\\old-keras\\lib\\site-packages\\skimage\\transform\\_warps.py:84: UserWarning: The default mode, 'constant', will be changed to 'reflect' in skimage 0.15.\n",
      "  warn(\"The default mode, 'constant', will be changed to 'reflect' in \"\n"
     ]
    }
   ],
   "source": [
    "from skimage.transform import rescale, resize\n",
    "fixed_width = 100\n",
    "plt.imsave(join(img_dir, z+\".png\"), resize(overlaid_img_clr, [fixed_width*3, fixed_width]))#(fig*255/fig.max()).astype(int))"
   ]
  },
  {
   "cell_type": "code",
   "execution_count": 921,
   "metadata": {
    "scrolled": true
   },
   "outputs": [
    {
     "name": "stderr",
     "output_type": "stream",
     "text": [
      "C:\\Users\\Clinton\\AppData\\Local\\conda\\conda\\envs\\old-keras\\lib\\site-packages\\skimage\\transform\\_warps.py:84: UserWarning: The default mode, 'constant', will be changed to 'reflect' in skimage 0.15.\n",
      "  warn(\"The default mode, 'constant', will be changed to 'reflect' in \"\n"
     ]
    }
   ],
   "source": [
    "plt.imsave(join(img_dir, z+\"_bw.png\"), resize(overlaid_img_clr, [fixed_width*3, fixed_width]))#(fig*255/fig.max()).astype(int))"
   ]
  },
  {
   "cell_type": "code",
   "execution_count": null,
   "metadata": {
    "collapsed": true
   },
   "outputs": [],
   "source": [
    "import scipy.stats.gaussian_kde\n",
    "\n",
    "import sklearn."
   ]
  },
  {
   "cell_type": "code",
   "execution_count": 47,
   "metadata": {
    "collapsed": true
   },
   "outputs": [],
   "source": [
    "#model_conv1_input = cbuild.build_pretrain_model_back(model, first_layer=-5)\n",
    "#model_conv2_input = cbuild.build_pretrain_model_back(model, first_layer=-4)\n",
    "model_conv3_input = cbuild.build_pretrain_model_back(model, first_layer=-3)"
   ]
  },
  {
   "cell_type": "code",
   "execution_count": 423,
   "metadata": {
    "collapsed": true
   },
   "outputs": [],
   "source": [
    "z_bias = model_conv3_input.layers[-1].get_weights()[1]"
   ]
  },
  {
   "cell_type": "code",
   "execution_count": 424,
   "metadata": {
    "scrolled": true
   },
   "outputs": [
    {
     "data": {
      "text/plain": [
       "<module 'cnn_builder' from 'C:\\\\Users\\\\Clinton\\\\Documents\\\\voi-classifier\\\\python\\\\cnn_builder.py'>"
      ]
     },
     "execution_count": 424,
     "metadata": {},
     "output_type": "execute_result"
    }
   ],
   "source": [
    "importlib.reload(cbuild)"
   ]
  },
  {
   "cell_type": "code",
   "execution_count": 831,
   "metadata": {},
   "outputs": [
    {
     "data": {
      "text/plain": [
       "['hcc', 'cholangio', 'colorectal', 'cyst', 'hemangioma', 'fnh']"
      ]
     },
     "execution_count": 831,
     "metadata": {},
     "output_type": "execute_result"
    }
   ],
   "source": [
    "C.classes_to_include"
   ]
  },
  {
   "cell_type": "code",
   "execution_count": 1071,
   "metadata": {
    "collapsed": true
   },
   "outputs": [],
   "source": [
    "def get_cls_sep(z, cls_num=2):\n",
    "    if cls != C.classes_to_include[cls_num]:\n",
    "        print(\"Check cls_num\")\n",
    "        return\n",
    "    ixs = list(set(range(len(C.classes_to_include))).difference([cls_num]))\n",
    "    return z[cls_num] - max(z[ixs])"
   ]
  },
  {
   "cell_type": "code",
   "execution_count": 1115,
   "metadata": {},
   "outputs": [
    {
     "data": {
      "text/plain": [
       "array([0.66999966, 0.24978798, 0.15646354])"
      ]
     },
     "execution_count": 1115,
     "metadata": {},
     "output_type": "execute_result"
    }
   ],
   "source": [
    "sal_map = get_saliency_map(W, test_neurons, num_rel_f)\n",
    "\n",
    "z_actual = model_conv3_input.predict(np.expand_dims(test_neurons,0))[0] - z_bias\n",
    "\n",
    "h_ja = np.zeros((num_rel_f, test_neurons.shape[-1]))\n",
    "for f_num in range(num_rel_f):\n",
    "    h_ja[f_num] = conv3_ch_plus[all_features[relevant_features[f_num]]].mean((0,1,2))\n",
    "\n",
    "test_n_ch = test_neurons.mean((0,1,2))\n",
    "\n",
    "sol = minimize(lambda w: sum((w[0]*h_ja[0] + w[1]*h_ja[1] + w[2]*h_ja[2] - test_n_ch)**2) - .001*(log(w[0]) + log(w[1]) + log(w[2])), [15,1,1],\n",
    "         bounds = ((0.001, None), (0.001, None), (0.001, None)))\n",
    "w_a = sol['x']\n",
    "w_a"
   ]
  },
  {
   "cell_type": "code",
   "execution_count": 1116,
   "metadata": {},
   "outputs": [],
   "source": [
    "contrib_sample = np.zeros(test_neurons.shape)\n",
    "for ch_ix in range(test_neurons.shape[-1]):\n",
    "    contrib_sample[:,:,:,ch_ix] = test_neurons[:,:,:,ch_ix] - w_a[0]*h_ja[0, ch_ix] - w_a[1]*h_ja[1, ch_ix] - w_a[2]*h_ja[2, ch_ix]\n",
    "z_base = model_conv3_input.predict(np.expand_dims(contrib_sample,0))[0] - z_bias\n",
    "\n",
    "z_onef = np.zeros((num_rel_f, 6))\n",
    "for ch_ix in range(test_neurons.shape[-1]):\n",
    "    contrib_sample[:,:,:,ch_ix] = test_neurons[:,:,:,ch_ix] - w_a[0]*h_ja[0, ch_ix] - w_a[1]*h_ja[1, ch_ix]\n",
    "z_onef[2] = model_conv3_input.predict(np.expand_dims(contrib_sample,0))[0] - z_bias\n",
    "for ch_ix in range(test_neurons.shape[-1]):\n",
    "    contrib_sample[:,:,:,ch_ix] = test_neurons[:,:,:,ch_ix] - w_a[0]*h_ja[0, ch_ix] - w_a[2]*h_ja[2, ch_ix]\n",
    "z_onef[1] = model_conv3_input.predict(np.expand_dims(contrib_sample,0))[0] - z_bias\n",
    "for ch_ix in range(test_neurons.shape[-1]):\n",
    "    contrib_sample[:,:,:,ch_ix] = test_neurons[:,:,:,ch_ix] - w_a[1]*h_ja[1, ch_ix] - w_a[2]*h_ja[2, ch_ix]\n",
    "z_onef[0] = model_conv3_input.predict(np.expand_dims(contrib_sample,0))[0] - z_bias\n",
    "\n",
    "contrib_sample = np.zeros((num_rel_f, *test_neurons.shape))\n",
    "for f_num in range(num_rel_f):\n",
    "    for ch_ix in range(test_neurons.shape[-1]):\n",
    "        contrib_sample[f_num,:,:,:,ch_ix] = test_neurons[:,:,:,ch_ix] - w_a[f_num]*h_ja[f_num, ch_ix]# * (sal_map[f_num] > np.median(sal_map[f_num]))\n",
    "\n",
    "z_twof = np.empty((num_rel_f, 6))\n",
    "for f_num in range(num_rel_f):\n",
    "    z_twof[f_num] = model_conv3_input.predict(np.expand_dims(contrib_sample[f_num],0))[0] - z_bias\n",
    "\n",
    "dz_actual = get_cls_sep(z_actual)\n",
    "dz_base = get_cls_sep(z_base)\n",
    "den = dz_actual - dz_base\n",
    "\n",
    "C.classes_to_include\n",
    "\n",
    "dz_0 = get_cls_sep(z_onef[0])\n",
    "dz_1 = get_cls_sep(z_onef[1])\n",
    "dz_2 = get_cls_sep(z_onef[2])\n",
    "dz_01 = get_cls_sep(z_twof[2])\n",
    "dz_02 = get_cls_sep(z_twof[1])\n",
    "dz_12 = get_cls_sep(z_twof[0])\n",
    "\n",
    "num_0 = []\n",
    "num_0.append(dz_0 - dz_base)\n",
    "num_0.append(dz_actual - dz_12)\n",
    "num_0.append(dz_01 - dz_1)\n",
    "num_0.append(dz_02 - dz_2)\n",
    "\n",
    "num_1 = []\n",
    "num_1.append(dz_1 - dz_base)\n",
    "num_1.append(dz_actual - dz_02)\n",
    "num_1.append(dz_01 - dz_0)\n",
    "num_1.append(dz_12 - dz_2)\n",
    "\n",
    "num_2 = []\n",
    "num_2.append(dz_2 - dz_base)\n",
    "num_2.append(dz_actual - dz_01)\n",
    "num_2.append(dz_02 - dz_0)\n",
    "num_2.append(dz_12 - dz_1)"
   ]
  },
  {
   "cell_type": "code",
   "execution_count": 998,
   "metadata": {
    "collapsed": true
   },
   "outputs": [],
   "source": [
    "den = sum([np.mean(num_0), np.mean(num_1), np.mean(num_2)])"
   ]
  },
  {
   "cell_type": "code",
   "execution_count": 999,
   "metadata": {},
   "outputs": [
    {
     "data": {
      "text/plain": [
       "0.6685110723580159"
      ]
     },
     "execution_count": 999,
     "metadata": {},
     "output_type": "execute_result"
    }
   ],
   "source": [
    "np.mean(num_0) / den"
   ]
  },
  {
   "cell_type": "code",
   "execution_count": 1000,
   "metadata": {},
   "outputs": [
    {
     "data": {
      "text/plain": [
       "0.20369422130758424"
      ]
     },
     "execution_count": 1000,
     "metadata": {},
     "output_type": "execute_result"
    }
   ],
   "source": [
    "np.mean(num_1) / den"
   ]
  },
  {
   "cell_type": "code",
   "execution_count": 1001,
   "metadata": {},
   "outputs": [
    {
     "data": {
      "text/plain": [
       "0.1277947063343999"
      ]
     },
     "execution_count": 1001,
     "metadata": {},
     "output_type": "execute_result"
    }
   ],
   "source": [
    "np.mean(num_2) / den"
   ]
  },
  {
   "cell_type": "code",
   "execution_count": null,
   "metadata": {
    "collapsed": true
   },
   "outputs": [],
   "source": []
  },
  {
   "cell_type": "code",
   "execution_count": 246,
   "metadata": {
    "scrolled": true
   },
   "outputs": [
    {
     "data": {
      "text/plain": [
       "{'activation_22': <keras.layers.core.Activation at 0x19019d296a0>,\n",
       " 'activation_23': <keras.layers.core.Activation at 0x19019da3b70>,\n",
       " 'activation_24': <keras.layers.core.Activation at 0x19019e215c0>,\n",
       " 'batch_normalization_28': <keras.layers.normalization.BatchNormalization at 0x19019d315c0>,\n",
       " 'batch_normalization_29': <keras.layers.normalization.BatchNormalization at 0x19019d53cf8>,\n",
       " 'batch_normalization_30': <keras.layers.normalization.BatchNormalization at 0x19019deff98>,\n",
       " 'concatenate_10': <keras.layers.merge.Concatenate at 0x19019cc9c88>,\n",
       " 'conv3d_43': <keras.layers.convolutional.Conv3D at 0x190d524a898>,\n",
       " 'conv3d_44': <keras.layers.convolutional.Conv3D at 0x190a69bd4a8>,\n",
       " 'conv3d_45': <keras.layers.convolutional.Conv3D at 0x19019ce1ba8>,\n",
       " 'conv3d_46': <keras.layers.convolutional.Conv3D at 0x19019d0f080>,\n",
       " 'conv3d_47': <keras.layers.convolutional.Conv3D at 0x19019d5ee48>,\n",
       " 'dropout_18': <keras.layers.core.Dropout at 0x19019d29780>,\n",
       " 'dropout_19': <keras.layers.core.Dropout at 0x19019d496a0>,\n",
       " 'lambda_28': <keras.layers.core.Lambda at 0x190d524ac18>,\n",
       " 'lambda_29': <keras.layers.core.Lambda at 0x190d524a080>,\n",
       " 'lambda_30': <keras.layers.core.Lambda at 0x190d5285908>,\n",
       " 'max_pooling3d_11': <keras.layers.pooling.MaxPooling3D at 0x19019d290b8>}"
      ]
     },
     "execution_count": 246,
     "metadata": {},
     "output_type": "execute_result"
    }
   ],
   "source": [
    "layer_dict = dict([(layer.name, layer) for layer in model_conv3_pre.layers[1:]])\n",
    "layer_dict"
   ]
  },
  {
   "cell_type": "code",
   "execution_count": 272,
   "metadata": {
    "scrolled": false
   },
   "outputs": [
    {
     "data": {
      "text/plain": [
       "<module 'cnn_analyzer' from 'C:\\\\Users\\\\Clinton\\\\Documents\\\\voi-classifier\\\\python\\\\cnn_analyzer.py'>"
      ]
     },
     "execution_count": 272,
     "metadata": {},
     "output_type": "execute_result"
    }
   ],
   "source": [
    "importlib.reload(cnna)"
   ]
  },
  {
   "cell_type": "code",
   "execution_count": 1070,
   "metadata": {},
   "outputs": [],
   "source": [
    "test_neurons = model_conv3_pre.predict(np.expand_dims(x,0))[0]"
   ]
  },
  {
   "cell_type": "code",
   "execution_count": 1263,
   "metadata": {},
   "outputs": [
    {
     "data": {
      "image/png": "[encoded data removed]",
      "text/plain": [
       "<matplotlib.figure.Figure at 0x19454dcfeb8>"
      ]
     },
     "metadata": {},
     "output_type": "display_data"
    }
   ],
   "source": [
    "hf.draw_slices(x)"
   ]
  },
  {
   "cell_type": "code",
   "execution_count": 1159,
   "metadata": {
    "collapsed": true
   },
   "outputs": [],
   "source": [
    "h_ja = copy.deepcopy(h_ja_full)"
   ]
  },
  {
   "cell_type": "code",
   "execution_count": 1117,
   "metadata": {
    "collapsed": true
   },
   "outputs": [],
   "source": [
    "h_ja_full = copy.deepcopy(h_ja)"
   ]
  },
  {
   "cell_type": "code",
   "execution_count": 1160,
   "metadata": {},
   "outputs": [],
   "source": [
    "for f_num in range(num_rel_f):\n",
    "    h_ja[f_num] = w_a[f_num]*h_ja[f_num]\n",
    "    #h_ja[f_num][h_ja[f_num] < np.median(h_ja[f_num])] = 0\n",
    "    h_ja[f_num] /= h_ja[f_num][h_ja[f_num] > 0].mean()\n",
    "for ch_ix in range(test_neurons.shape[-1]):\n",
    "    h_ja[:, ch_ix][h_ja[:, ch_ix] != np.max(h_ja[:, ch_ix])] = 0"
   ]
  },
  {
   "cell_type": "code",
   "execution_count": 1182,
   "metadata": {
    "collapsed": true
   },
   "outputs": [],
   "source": [
    "gauss = np.zeros((12,12))\n",
    "\n",
    "for i in range(gauss.shape[0]):\n",
    "    for j in range(gauss.shape[1]):\n",
    "        dx = abs(i - gauss.shape[0]/2+.5)\n",
    "        dy = abs(j - gauss.shape[1]/2+.5)\n",
    "        gauss[i,j] = scipy.stats.norm.pdf((dx**2 + dy**2)**.5, 0, gauss.shape[0]//3)\n",
    "gauss = np.transpose(np.tile(gauss, (6,1,1)), (1,2,0))"
   ]
  },
  {
   "cell_type": "code",
   "execution_count": 1225,
   "metadata": {
    "collapsed": true
   },
   "outputs": [],
   "source": [
    "w_a = w_a/w_a.mean()"
   ]
  },
  {
   "cell_type": "code",
   "execution_count": 1230,
   "metadata": {},
   "outputs": [],
   "source": [
    "sal_map = get_saliency_map(W, test_neurons, num_rel_f)\n",
    "for f_num in range(num_rel_f):\n",
    "    sal_map[f_num] *= gauss\n",
    "    sal_map[f_num][sal_map[f_num] < np.median(sal_map[f_num])] = 0\n",
    "    sal_map[f_num] -= sal_map[f_num].min()\n",
    "    sal_map[f_num] /= sal_map[f_num].mean()\n",
    "    for ch_ix in range(test_neurons.shape[-1]):\n",
    "        contrib_sample[f_num,:,:,:,ch_ix] = test_neurons[:,:,:,ch_ix] - h_ja[f_num,ch_ix]*sal_map[f_num] \\\n",
    "                + h_ja[f_num-1,ch_ix]*sal_map[f_num-1] + h_ja[f_num-2,ch_ix]*sal_map[f_num-2]\n",
    "contrib_sample[contrib_sample < 0] = 0"
   ]
  },
  {
   "cell_type": "code",
   "execution_count": 1231,
   "metadata": {
    "scrolled": false
   },
   "outputs": [
    {
     "data": {
      "image/png": "[encoded data removed]",
      "text/plain": [
       "<matplotlib.figure.Figure at 0x194483e3be0>"
      ]
     },
     "metadata": {},
     "output_type": "display_data"
    }
   ],
   "source": [
    "for f_num in range(num_rel_f):\n",
    "    #print(all_features[relevant_features[f_num]])\n",
    "    x_est = cnna.visualize_activations(model_conv3_pre, join(img_dir, \"2f\"+all_features[relevant_features[f_num]]+\".png\"),\n",
    "                         contrib_sample[f_num], init_img=x, rotate=False, stepsize=.1, num_steps=1)"
   ]
  },
  {
   "cell_type": "code",
   "execution_count": 1268,
   "metadata": {},
   "outputs": [
    {
     "name": "stdout",
     "output_type": "stream",
     "text": [
      "progressive uniform enhancement (crc)\n"
     ]
    },
    {
     "data": {
      "image/png": "[encoded data removed]",
      "text/plain": [
       "<matplotlib.figure.Figure at 0x1946b91c470>"
      ]
     },
     "metadata": {},
     "output_type": "display_data"
    }
   ],
   "source": [
    "h_ja = copy.deepcopy(h_ja_full)\n",
    "for f_num in range(num_rel_f):\n",
    "    #h_ja[f_num] = w_a[f_num]*h_ja[f_num]\n",
    "    #h_ja[f_num][h_ja[f_num] < np.median(h_ja[f_num])] = 0\n",
    "    h_ja[f_num] /= h_ja[f_num][h_ja[f_num] > 0].mean()\n",
    "for ch_ix in range(test_neurons.shape[-1]):\n",
    "    h_ja[:, ch_ix][h_ja[:, ch_ix] != np.max(h_ja[:, ch_ix])] = 0\n",
    "    \n",
    "f_num = 0\n",
    "sal_map = get_saliency_map(W, test_neurons, num_rel_f)\n",
    "sal_map[f_num] *= gauss\n",
    "sal_map[f_num][sal_map[f_num] < np.median(sal_map[f_num])] = 0\n",
    "sal_map[f_num] -= sal_map[f_num].min()\n",
    "sal_map[f_num] /= sal_map[f_num].mean()\n",
    "for ch_ix in range(test_neurons.shape[-1]):\n",
    "    contrib_sample[f_num,:,:,:,ch_ix] = test_neurons[:,:,:,ch_ix] - h_ja[f_num,ch_ix]*sal_map[f_num] \\\n",
    "            + h_ja[f_num-1,ch_ix]*sal_map[f_num-1] + h_ja[f_num-2,ch_ix]*sal_map[f_num-2]\n",
    "contrib_sample[contrib_sample < 0] = 0\n",
    "print(all_features[relevant_features[f_num]])\n",
    "x_est = cnna.visualize_activations(model_conv3_pre, join(img_dir, \"2f\"+all_features[relevant_features[f_num]]+\".png\"),\n",
    "                     contrib_sample[f_num], init_img=x, rotate=False, stepsize=.1, num_steps=1)"
   ]
  },
  {
   "cell_type": "code",
   "execution_count": null,
   "metadata": {
    "collapsed": true
   },
   "outputs": [],
   "source": [
    "for r in range(4):\n",
    "    x_est = cnna.visualize_activations(model_conv3_pre, join(img_dir, \"2f\"+all_features[relevant_features[f_num]]+\".png\"),\n",
    "                         contrib_sample[f_num], init_img=x, rotate=False, stepsize=.1, num_steps=1)"
   ]
  },
  {
   "cell_type": "code",
   "execution_count": 1287,
   "metadata": {
    "collapsed": true
   },
   "outputs": [],
   "source": [
    "h_ic = [model_conv3_pre.predict(np.expand_dims(np.rot90(x,r),0))[0] for r in range(4)]\n",
    "h_ic += [model_conv3_pre.predict(np.expand_dims(np.flipud(np.rot90(x,r)),0))[0] for r in range(4)]\n",
    "h_ic += [model_conv3_pre.predict(np.expand_dims(np.fliplr(np.rot90(x,r)),0))[0] for r in range(4)]\n",
    "\n",
    "for r in range(len(h_ic)):\n",
    "    h_ic[r][h_ic[r] < 0] = 0\n",
    "\n",
    "h_ic_rot = [np.rot90(h_ic[r], 4-r) for r in range(4)] #rotated back into original frame\n",
    "h_ic_rot += [np.rot90(np.flipud(h_ic[r]), 4-r) for r in range(4,8)]\n",
    "h_ic_rot += [np.rot90(np.fliplr(h_ic[r]), 4-r) for r in range(8,12)]\n",
    "\n",
    "h_ic_rot = np.array(h_ic_rot)"
   ]
  },
  {
   "cell_type": "code",
   "execution_count": null,
   "metadata": {},
   "outputs": [],
   "source": [
    "x_est=[]\n",
    "for r in range(12):\n",
    "    test_neurons = h_ic_rot[r]\n",
    "    sal_map = get_saliency_map(W, test_neurons, num_rel_f)\n",
    "\n",
    "    z_actual = model_conv3_input.predict(np.expand_dims(test_neurons,0))[0] - z_bias\n",
    "\n",
    "    h_ja = np.zeros((num_rel_f, test_neurons.shape[-1]))\n",
    "    for f_num in range(num_rel_f):\n",
    "        h_ja[f_num] = conv3_ch_plus[all_features[relevant_features[f_num]]].mean((0,1,2))\n",
    "\n",
    "    test_n_ch = test_neurons.mean((0,1,2))\n",
    "\n",
    "    sol = minimize(lambda w: sum((w[0]*h_ja[0] + w[1]*h_ja[1] + w[2]*h_ja[2] - test_n_ch)**2) - .001*(log(w[0]) + log(w[1]) + log(w[2])), [15,1,1],\n",
    "             bounds = ((0.001, None), (0.001, None), (0.001, None)))\n",
    "    w_a = sol['x']\n",
    "\n",
    "    for f_num in range(num_rel_f):\n",
    "        #h_ja[f_num] = w_a[f_num]*h_ja[f_num]\n",
    "        #h_ja[f_num][h_ja[f_num] < np.median(h_ja[f_num])] = 0\n",
    "        h_ja[f_num] /= h_ja[f_num][h_ja[f_num] > 0].mean()\n",
    "    for ch_ix in range(test_neurons.shape[-1]):\n",
    "        h_ja[:, ch_ix][h_ja[:, ch_ix] != np.max(h_ja[:, ch_ix])] = 0\n",
    "\n",
    "    contrib_sample = np.zeros((num_rel_f, *test_neurons.shape))\n",
    "    \n",
    "    #for f_num in range(num_rel_f):\n",
    "    f_num = 0\n",
    "    for ch_ix in range(test_neurons.shape[-1]):\n",
    "        contrib_sample[f_num,:,:,:,ch_ix] = test_neurons[:,:,:,ch_ix] - w_a[f_num]*h_ja[f_num, ch_ix]\n",
    "\n",
    "    sal_map = get_saliency_map(W, test_neurons, num_rel_f)\n",
    "    sal_map[f_num] *= gauss\n",
    "    sal_map[f_num][sal_map[f_num] < np.median(sal_map[f_num])] = 0\n",
    "    sal_map[f_num] -= sal_map[f_num].min()\n",
    "    sal_map[f_num] /= sal_map[f_num].mean()\n",
    "    for ch_ix in range(test_neurons.shape[-1]):\n",
    "        contrib_sample[f_num,:,:,:,ch_ix] = test_neurons[:,:,:,ch_ix] - h_ja[f_num,ch_ix]*sal_map[f_num] \\\n",
    "                + h_ja[f_num-1,ch_ix]*sal_map[f_num-1] + h_ja[f_num-2,ch_ix]*sal_map[f_num-2]\n",
    "    contrib_sample[contrib_sample < 0] = 0\n",
    "    x_est.append(cnna.visualize_activations(model_conv3_pre, join(img_dir, \"2f\"+all_features[relevant_features[f_num]]+\".png\"),\n",
    "                         contrib_sample[f_num], init_img=x, rotate=False, stepsize=.1, num_steps=1))\n",
    "print(all_features[relevant_features[f_num]])"
   ]
  },
  {
   "cell_type": "code",
   "execution_count": null,
   "metadata": {
    "collapsed": true
   },
   "outputs": [],
   "source": [
    "x_est_avg = np.array(x_est).max(0)"
   ]
  },
  {
   "cell_type": "code",
   "execution_count": null,
   "metadata": {},
   "outputs": [],
   "source": [
    "hf.draw_slices(x_est_avg)"
   ]
  },
  {
   "cell_type": "code",
   "execution_count": null,
   "metadata": {
    "collapsed": true
   },
   "outputs": [],
   "source": []
  },
  {
   "cell_type": "code",
   "execution_count": 989,
   "metadata": {},
   "outputs": [
    {
     "data": {
      "text/plain": [
       "<module 'cnn_analyzer' from 'C:\\\\Users\\\\Clinton\\\\Documents\\\\voi-classifier\\\\python\\\\cnn_analyzer.py'>"
      ]
     },
     "execution_count": 989,
     "metadata": {},
     "output_type": "execute_result"
    }
   ],
   "source": [
    "importlib.reload(cnna)"
   ]
  },
  {
   "cell_type": "code",
   "execution_count": 1156,
   "metadata": {
    "scrolled": true
   },
   "outputs": [
    {
     "data": {
      "image/png": "[encoded data removed]",
      "text/plain": [
       "<matplotlib.figure.Figure at 0x1913573c898>"
      ]
     },
     "metadata": {},
     "output_type": "display_data"
    }
   ],
   "source": [
    "f_num = 0\n",
    "x_est = cnna.visualize_activations(model_conv3_pre, join(img_dir, \"test.png\"),\n",
    "                     test_neurons, init_img=x, rotate=False, stepsize=.01, num_steps=100)"
   ]
  },
  {
   "cell_type": "code",
   "execution_count": null,
   "metadata": {
    "collapsed": true
   },
   "outputs": [],
   "source": [
    "contrib_sample = np.zeros((num_rel_f, *test_neurons.shape))\n",
    "for f_num in range(num_rel_f):\n",
    "    for ch_ix in range(test_neurons.shape[-1]):\n",
    "        contrib_sample[f_num,:,:,:,ch_ix] = test_neurons[:,:,:,ch_ix] - w_a[f_num]*h_ja[f_num, ch_ix]"
   ]
  },
  {
   "cell_type": "code",
   "execution_count": 5,
   "metadata": {
    "collapsed": true
   },
   "outputs": [],
   "source": [
    "orig_data_dict, num_samples = cbuild._collect_unaug_data()\n",
    "filters_by_cls = {cls: model_dense_outputs.predict(orig_data_dict[cls][0], verbose=False) for cls in C.classes_to_include}\n",
    "fig = cnna.tsne(filters_by_cls)\n",
    "fig.show()"
   ]
  },
  {
   "cell_type": "code",
   "execution_count": 224,
   "metadata": {
    "scrolled": true
   },
   "outputs": [
    {
     "data": {
      "text/plain": [
       "137"
      ]
     },
     "execution_count": 224,
     "metadata": {},
     "output_type": "execute_result"
    }
   ],
   "source": [
    "len(hf.flatten([list(feature_sheet[\"evidence1\"+cls].dropna().values) for cls in C.classes_to_include]))"
   ]
  },
  {
   "cell_type": "markdown",
   "metadata": {
    "collapsed": true
   },
   "source": [
    "model_conv1 = cbuild.build_pretrain_model(model, last_layer=-6, add_activ=True)\n",
    "model_conv2 = cbuild.build_pretrain_model(model, last_layer=-5, add_activ=True)\n",
    "model_conv3 = cbuild.build_pretrain_model(model, last_layer=-4, add_activ=True)\n",
    "model_dense = cbuild.build_pretrain_model(model, last_layer=-3, add_activ=True)"
   ]
  },
  {
   "cell_type": "markdown",
   "metadata": {
    "collapsed": true
   },
   "source": [
    "cls = 'cyst'\n",
    "cls_img_set = orig_data_dict[cls][0]\n",
    "cls_activ_set = model_conv3.predict(cls_img_set)\n",
    "\n",
    "nmf = NMF(4)\n",
    "cls_activ_set_xform = nmf.fit_transform(cls_activ_set.mean((1,2,3)))\n",
    "\n",
    "nmf_comps = [nmf.components_[i] * (nmf.components_[i] > np.median(nmf.components_,0)*2) for i in range(4)]"
   ]
  },
  {
   "cell_type": "code",
   "execution_count": 187,
   "metadata": {},
   "outputs": [
    {
     "data": {
      "text/plain": [
       "<module 'cnn_analyzer' from 'C:\\\\Users\\\\Clinton\\\\Documents\\\\voi-classifier\\\\python\\\\cnn_analyzer.py'>"
      ]
     },
     "execution_count": 187,
     "metadata": {},
     "output_type": "execute_result"
    }
   ],
   "source": [
    "importlib.reload(cnna)"
   ]
  },
  {
   "cell_type": "code",
   "execution_count": null,
   "metadata": {
    "collapsed": true
   },
   "outputs": [],
   "source": [
    "cnna.visualize_layer_weighted(model_frozen, 'conv3d_11', \"D:\\\\filters\", K.constant(nmf_comps[0]))"
   ]
  },
  {
   "cell_type": "code",
   "execution_count": 277,
   "metadata": {
    "collapsed": true
   },
   "outputs": [],
   "source": [
    "activs0 = cls_activ_set[:,:,:,:,nmf_comps[1] > 0]\n",
    "activ_map0 = activs0.mean(4)"
   ]
  },
  {
   "cell_type": "code",
   "execution_count": 278,
   "metadata": {
    "collapsed": true
   },
   "outputs": [],
   "source": [
    "activ_map0, _ = tr.rescale_img(np.transpose(activ_map0, (1,2,3,0)), cls_img_set[img_id].shape[:3])\n",
    "activ_map0 = np.transpose(activ_map0, (3,0,1,2))"
   ]
  },
  {
   "cell_type": "code",
   "execution_count": 282,
   "metadata": {},
   "outputs": [
    {
     "data": {
      "image/png": "[encoded data removed]",
      "text/plain": [
       "<matplotlib.figure.Figure at 0x177a007b710>"
      ]
     },
     "metadata": {},
     "output_type": "display_data"
    }
   ],
   "source": [
    "img_id = 1\n",
    "alpha = 1.\n",
    "overlaid_img = cls_img_set[img_id] - np.amin(cls_img_set[img_id])\n",
    "overlaid_img = np.stack([((activ_map0[img_id] > np.mean(activ_map0[img_id])*alpha)+.5) * overlaid_img[:,:,:,i] for i in range(3)], 3)\n",
    "hf.draw_slices(overlaid_img)"
   ]
  },
  {
   "cell_type": "code",
   "execution_count": null,
   "metadata": {
    "collapsed": true
   },
   "outputs": [],
   "source": [
    "hf.draw_slices(cls_img_set[img_id])"
   ]
  },
  {
   "cell_type": "code",
   "execution_count": null,
   "metadata": {
    "collapsed": true
   },
   "outputs": [],
   "source": []
  },
  {
   "cell_type": "code",
   "execution_count": null,
   "metadata": {
    "collapsed": true
   },
   "outputs": [],
   "source": []
  },
  {
   "cell_type": "code",
   "execution_count": 596,
   "metadata": {
    "collapsed": true
   },
   "outputs": [],
   "source": [
    "dw = np.linspace(0,5,100)\n",
    "dy = np.empty((num_rel_f, len(dw)))\n",
    "w_f = np.empty(num_rel_f)\n",
    "\n",
    "for f_num in range(num_rel_f):\n",
    "    for w_ix in range(len(dw)):\n",
    "        z_f = model_conv3_input.predict(np.expand_dims(test_neurons - dw[w_ix]*contrib_sample[f_num],0))[0]\n",
    "        dy[f_num,w_ix] = z_f[1] - np.amax(z_f[[0,2,3,4,5]])\n",
    "    #w_f[f_num] = (dy[f_num] < 0).nonzero()[0][0]"
   ]
  },
  {
   "cell_type": "code",
   "execution_count": 464,
   "metadata": {},
   "outputs": [
    {
     "data": {
      "text/plain": [
       "array([  0.12477922, -13.959014  , -11.985743  , -11.229456  ],\n",
       "      dtype=float32)"
      ]
     },
     "execution_count": 464,
     "metadata": {},
     "output_type": "execute_result"
    }
   ],
   "source": [
    "z_f[:1]+z_f[2:]"
   ]
  },
  {
   "cell_type": "code",
   "execution_count": null,
   "metadata": {
    "collapsed": true
   },
   "outputs": [],
   "source": [
    "f_num = 2\n",
    "[dy[f_num][i] - dy[f_num][i-1] for i in range(1,len(dy[f_num]))]"
   ]
  },
  {
   "cell_type": "code",
   "execution_count": null,
   "metadata": {
    "collapsed": true
   },
   "outputs": [],
   "source": [
    "dy[0]"
   ]
  },
  {
   "cell_type": "code",
   "execution_count": 500,
   "metadata": {},
   "outputs": [
    {
     "data": {
      "text/plain": [
       "26"
      ]
     },
     "execution_count": 500,
     "metadata": {},
     "output_type": "execute_result"
    }
   ],
   "source": []
  },
  {
   "cell_type": "code",
   "execution_count": 361,
   "metadata": {
    "collapsed": true
   },
   "outputs": [],
   "source": [
    "sal_map = get_saliency_map(W, test_neurons, num_rel_f)\n",
    "z_f = np.empty((num_rel_f, 6))\n",
    "for f_num in range(num_rel_f):\n",
    "    contrib_sample = np.transpose(np.tile(sal_map[f_num], (128,1,1,1)), (1,2,3,0)) + test_neurons\n",
    "    #print(all_features[relevant_features[f_num]])\n",
    "    z_f[f_num] = model_conv3_input.predict(np.expand_dims(contrib_sample,0)) - z_actual"
   ]
  },
  {
   "cell_type": "code",
   "execution_count": 388,
   "metadata": {
    "collapsed": true
   },
   "outputs": [],
   "source": [
    "noise = np.random.normal(size=(1000,*test_neurons.shape))"
   ]
  },
  {
   "cell_type": "code",
   "execution_count": 389,
   "metadata": {
    "collapsed": true
   },
   "outputs": [],
   "source": [
    "z_base = model_conv3_input.predict(noise)"
   ]
  },
  {
   "cell_type": "code",
   "execution_count": 366,
   "metadata": {
    "collapsed": true
   },
   "outputs": [],
   "source": [
    "z_base = model_conv3_input.predict(np.expand_dims(np.ones(test_neurons.shape),0))"
   ]
  },
  {
   "cell_type": "code",
   "execution_count": 397,
   "metadata": {
    "collapsed": true
   },
   "outputs": [],
   "source": [
    "z_base = z_base.mean(0)"
   ]
  },
  {
   "cell_type": "code",
   "execution_count": 398,
   "metadata": {
    "collapsed": true
   },
   "outputs": [],
   "source": [
    "Z = np.concatenate((z_f, np.expand_dims(z_base,0)))"
   ]
  },
  {
   "cell_type": "code",
   "execution_count": 400,
   "metadata": {},
   "outputs": [
    {
     "data": {
      "text/plain": [
       "(4, 6)"
      ]
     },
     "execution_count": 400,
     "metadata": {},
     "output_type": "execute_result"
    }
   ],
   "source": [
    "W = Z.shape"
   ]
  },
  {
   "cell_type": "code",
   "execution_count": 362,
   "metadata": {
    "scrolled": true
   },
   "outputs": [
    {
     "data": {
      "text/plain": [
       "array([[-3.15560436,  0.9448576 , -1.96781707, -0.67129517, -2.05151415,\n",
       "         2.70983791],\n",
       "       [-1.69611597, -0.05921125, -1.89745355,  0.80170631, -2.63591051,\n",
       "         1.83641386],\n",
       "       [-1.55328608,  0.75187254, -1.75524974, -0.0799427 , -1.24825335,\n",
       "         1.33727264]])"
      ]
     },
     "execution_count": 362,
     "metadata": {},
     "output_type": "execute_result"
    }
   ],
   "source": [
    "z_f"
   ]
  },
  {
   "cell_type": "code",
   "execution_count": null,
   "metadata": {
    "collapsed": true
   },
   "outputs": [],
   "source": [
    "model_conv3_input.predict(np.expand_dims(test_neurons,0))"
   ]
  },
  {
   "cell_type": "code",
   "execution_count": 318,
   "metadata": {},
   "outputs": [
    {
     "data": {
      "text/plain": [
       "['hcc', 'cholangio', 'colorectal', 'cyst', 'hemangioma', 'fnh']"
      ]
     },
     "execution_count": 318,
     "metadata": {},
     "output_type": "execute_result"
    }
   ],
   "source": [
    "C.classes_to_include"
   ]
  },
  {
   "cell_type": "code",
   "execution_count": null,
   "metadata": {
    "collapsed": true
   },
   "outputs": [],
   "source": []
  }
 ],
 "metadata": {
  "kernelspec": {
   "display_name": "Python 3",
   "language": "python",
   "name": "python3"
  },
  "language_info": {
   "codemirror_mode": {
    "name": "ipython",
    "version": 3
   },
   "file_extension": ".py",
   "mimetype": "text/x-python",
   "name": "python",
   "nbconvert_exporter": "python",
   "pygments_lexer": "ipython3",
   "version": "3.5.0"
  }
 },
 "nbformat": 4,
 "nbformat_minor": 2
}
