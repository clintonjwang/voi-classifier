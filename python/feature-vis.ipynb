{
 "cells": [
  {
   "cell_type": "code",
   "execution_count": 1,
   "metadata": {},
   "outputs": [
    {
     "name": "stderr",
     "output_type": "stream",
     "text": [
      "C:\\Users\\Clinton\\AppData\\Local\\conda\\conda\\envs\\old-keras\\lib\\site-packages\\h5py\\__init__.py:34: FutureWarning: Conversion of the second argument of issubdtype from `float` to `np.floating` is deprecated. In future, it will be treated as `np.float64 == np.dtype(float).type`.\n",
      "  from ._conv import register_converters as _register_converters\n",
      "Using TensorFlow backend.\n"
     ]
    }
   ],
   "source": [
    "from sklearn.decomposition import NMF\n",
    "\n",
    "from keras.models import Model\n",
    "import keras.models\n",
    "import keras.layers as layers\n",
    "from keras.optimizers import Adam\n",
    "from keras.callbacks import EarlyStopping\n",
    "from keras.utils import np_utils\n",
    "from sklearn.metrics import confusion_matrix, f1_score, accuracy_score\n",
    "from keras import backend as K\n",
    "\n",
    "import copy\n",
    "import cnn_analyzer as cnna\n",
    "import cnn_builder as cbuild\n",
    "import config\n",
    "import csv\n",
    "import niftiutils.helper_fxns as hf\n",
    "import niftiutils.transforms as tr\n",
    "import importlib\n",
    "import itertools\n",
    "from math import sqrt, log, pi, exp\n",
    "import matplotlib.pyplot as plt\n",
    "from numba import jit, njit, prange, vectorize, guvectorize\n",
    "from numpy import matmul, diag\n",
    "import numpy as np\n",
    "import operator\n",
    "import os\n",
    "from os.path import *\n",
    "import pandas as pd\n",
    "import random\n",
    "import scipy\n",
    "import time\n",
    "%matplotlib inline"
   ]
  },
  {
   "cell_type": "code",
   "execution_count": 2,
   "metadata": {
    "collapsed": true,
    "scrolled": true
   },
   "outputs": [],
   "source": [
    "importlib.reload(config)\n",
    "importlib.reload(hf)\n",
    "importlib.reload(cbuild)\n",
    "C = config.Config()"
   ]
  },
  {
   "cell_type": "code",
   "execution_count": 3,
   "metadata": {
    "collapsed": true
   },
   "outputs": [],
   "source": [
    "model = keras.models.load_model(os.path.join(C.model_dir, \"model_no_pad.hdf5\"))"
   ]
  },
  {
   "cell_type": "code",
   "execution_count": null,
   "metadata": {
    "collapsed": true
   },
   "outputs": [],
   "source": [
    "model = keras.models.load_model(os.path.join(C.model_dir, \"models_305.hdf5\")) #models_305"
   ]
  },
  {
   "cell_type": "code",
   "execution_count": 4,
   "metadata": {
    "collapsed": true
   },
   "outputs": [],
   "source": [
    "orig_data_dict, num_samples = cbuild._collect_unaug_data()"
   ]
  },
  {
   "cell_type": "code",
   "execution_count": null,
   "metadata": {
    "collapsed": true
   },
   "outputs": [],
   "source": [
    "layer_dict = dict([(layer.name, layer) for layer in model_frozen.layers[1:]])\n",
    "layer_dict"
   ]
  },
  {
   "cell_type": "code",
   "execution_count": 82,
   "metadata": {
    "collapsed": true
   },
   "outputs": [],
   "source": [
    "init_img = orig_data_dict['hcc'][0][0]"
   ]
  },
  {
   "cell_type": "code",
   "execution_count": 117,
   "metadata": {
    "collapsed": true
   },
   "outputs": [],
   "source": [
    "channel_ixs = list(range(2,4))"
   ]
  },
  {
   "cell_type": "code",
   "execution_count": null,
   "metadata": {
    "collapsed": true
   },
   "outputs": [],
   "source": [
    "cnna.visualize_layer(model_frozen, 'conv3d_11', \"D:\\\\filters\", channel_ixs)#, init_img=init_img)"
   ]
  },
  {
   "cell_type": "code",
   "execution_count": 16,
   "metadata": {
    "collapsed": true
   },
   "outputs": [],
   "source": [
    "model_trunc = cbuild.build_pretrain_model(model, last_layer=-2)"
   ]
  },
  {
   "cell_type": "code",
   "execution_count": 5,
   "metadata": {
    "collapsed": true
   },
   "outputs": [],
   "source": [
    "orig_data_dict, num_samples = cbuild._collect_unaug_data()\n",
    "filters_by_cls = {cls: model_dense_outputs.predict(orig_data_dict[cls][0], verbose=False) for cls in C.classes_to_include}\n",
    "fig = cnna.tsne(filters_by_cls)\n",
    "fig.show()"
   ]
  },
  {
   "cell_type": "code",
   "execution_count": 224,
   "metadata": {
    "scrolled": true
   },
   "outputs": [
    {
     "data": {
      "text/plain": [
       "137"
      ]
     },
     "execution_count": 224,
     "metadata": {},
     "output_type": "execute_result"
    }
   ],
   "source": [
    "len(hf.flatten([list(feature_sheet[\"evidence1\"+cls].dropna().values) for cls in C.classes_to_include]))"
   ]
  },
  {
   "cell_type": "markdown",
   "metadata": {
    "collapsed": true
   },
   "source": [
    "model_conv1 = cbuild.build_pretrain_model(model, last_layer=-6, add_activ=True)\n",
    "model_conv2 = cbuild.build_pretrain_model(model, last_layer=-5, add_activ=True)\n",
    "model_conv3 = cbuild.build_pretrain_model(model, last_layer=-4, add_activ=True)\n",
    "model_dense = cbuild.build_pretrain_model(model, last_layer=-3, add_activ=True)"
   ]
  },
  {
   "cell_type": "code",
   "execution_count": 304,
   "metadata": {
    "collapsed": true
   },
   "outputs": [],
   "source": [
    "cls = 'cyst'\n",
    "cls_img_set = orig_data_dict[cls][0]\n",
    "cls_activ_set = model_conv3.predict(cls_img_set)\n",
    "\n",
    "nmf = NMF(4)\n",
    "cls_activ_set_xform = nmf.fit_transform(cls_activ_set.mean((1,2,3)))\n",
    "\n",
    "nmf_comps = [nmf.components_[i] * (nmf.components_[i] > np.median(nmf.components_,0)*2) for i in range(4)]"
   ]
  },
  {
   "cell_type": "code",
   "execution_count": 187,
   "metadata": {},
   "outputs": [
    {
     "data": {
      "text/plain": [
       "<module 'cnn_analyzer' from 'C:\\\\Users\\\\Clinton\\\\Documents\\\\voi-classifier\\\\python\\\\cnn_analyzer.py'>"
      ]
     },
     "execution_count": 187,
     "metadata": {},
     "output_type": "execute_result"
    }
   ],
   "source": [
    "importlib.reload(cnna)"
   ]
  },
  {
   "cell_type": "code",
   "execution_count": null,
   "metadata": {
    "collapsed": true
   },
   "outputs": [],
   "source": [
    "cnna.visualize_layer_weighted(model_frozen, 'conv3d_11', \"D:\\\\filters\", K.constant(nmf_comps[0]))"
   ]
  },
  {
   "cell_type": "code",
   "execution_count": 277,
   "metadata": {
    "collapsed": true
   },
   "outputs": [],
   "source": [
    "activs0 = cls_activ_set[:,:,:,:,nmf_comps[1] > 0]\n",
    "activ_map0 = activs0.mean(4)"
   ]
  },
  {
   "cell_type": "code",
   "execution_count": 278,
   "metadata": {
    "collapsed": true
   },
   "outputs": [],
   "source": [
    "activ_map0, _ = tr.rescale_img(np.transpose(activ_map0, (1,2,3,0)), cls_img_set[img_id].shape[:3])\n",
    "activ_map0 = np.transpose(activ_map0, (3,0,1,2))"
   ]
  },
  {
   "cell_type": "code",
   "execution_count": 282,
   "metadata": {},
   "outputs": [
    {
     "data": {
      "image/png": "[encoded data removed]",
      "text/plain": [
       "<matplotlib.figure.Figure at 0x177a007b710>"
      ]
     },
     "metadata": {},
     "output_type": "display_data"
    }
   ],
   "source": [
    "img_id = 1\n",
    "alpha = 1.\n",
    "overlaid_img = cls_img_set[img_id] - np.amin(cls_img_set[img_id])\n",
    "overlaid_img = np.stack([((activ_map0[img_id] > np.mean(activ_map0[img_id])*alpha)+.5) * overlaid_img[:,:,:,i] for i in range(3)], 3)\n",
    "hf.draw_slices(overlaid_img)"
   ]
  },
  {
   "cell_type": "code",
   "execution_count": null,
   "metadata": {
    "collapsed": true
   },
   "outputs": [],
   "source": [
    "hf.draw_slices(cls_img_set[img_id])"
   ]
  },
  {
   "cell_type": "code",
   "execution_count": 61,
   "metadata": {
    "collapsed": true
   },
   "outputs": [],
   "source": []
  },
  {
   "cell_type": "code",
   "execution_count": null,
   "metadata": {
    "collapsed": true
   },
   "outputs": [],
   "source": []
  },
  {
   "cell_type": "code",
   "execution_count": 4,
   "metadata": {
    "collapsed": true
   },
   "outputs": [],
   "source": [
    "def kl_div(m1, sig1, m2, sig2, one_sided=\"none\"):\n",
    "    #returns kl(p,q) where p~N(m1,s1), q~N(m2,s2)\n",
    "    ret = np.log(sig2/sig1) + (sig1**2+(m1-m2)**2)/(2*sig2**2) - .5\n",
    "    if one_sided==\"less\":\n",
    "        return ret * (m1 < m2)\n",
    "    elif one_sided==\"greater\":\n",
    "        return ret * (m1 > m2)\n",
    "    else:\n",
    "        return ret"
   ]
  },
  {
   "cell_type": "code",
   "execution_count": 13,
   "metadata": {},
   "outputs": [
    {
     "data": {
      "text/plain": [
       "<module 'cnn_builder' from 'C:\\\\Users\\\\Clinton\\\\Documents\\\\voi-classifier\\\\python\\\\cnn_builder.py'>"
      ]
     },
     "execution_count": 13,
     "metadata": {},
     "output_type": "execute_result"
    }
   ],
   "source": [
    "importlib.reload(cbuild)"
   ]
  },
  {
   "cell_type": "code",
   "execution_count": 5,
   "metadata": {
    "collapsed": true
   },
   "outputs": [],
   "source": [
    "model_conv1_pre = cbuild.build_pretrain_model(model, padding=['same','same'], last_layer=-6)#, add_activ=True)\n",
    "model_conv2_pre = cbuild.build_pretrain_model(model, padding=['same','same'], last_layer=-5)#, add_activ=True)\n",
    "model_conv3_pre = cbuild.build_pretrain_model(model, padding=['same','same'], last_layer=-4)#, add_activ=True)\n",
    "model_dense_pre = cbuild.build_pretrain_model(model, padding=['same','same'], last_layer=-3)#, add_activ=True)"
   ]
  },
  {
   "cell_type": "code",
   "execution_count": 8,
   "metadata": {},
   "outputs": [
    {
     "data": {
      "text/plain": [
       "['12572068_0', '13092836_1', 'E103354630_0', 'E105921537_0', 'E106010098_0']"
      ]
     },
     "execution_count": 8,
     "metadata": {},
     "output_type": "execute_result"
    }
   ],
   "source": [
    "orig_data_dict, num_samples = cbuild._collect_unaug_data()\n",
    "\n",
    "features_by_cls, feat_count = cnna.collect_features()\n",
    "feat_count.pop(\"central scar\")\n",
    "all_features = sorted(list(feat_count.keys()))\n",
    "cls_features = {f: [c for c in C.classes_to_include if f in features_by_cls[c]] for f in all_features}\n",
    "\n",
    "Z_features = cnna.get_annotated_files(features_by_cls)\n",
    "Z_features.pop(\"central scar\")"
   ]
  },
  {
   "cell_type": "code",
   "execution_count": 9,
   "metadata": {
    "collapsed": true
   },
   "outputs": [],
   "source": [
    "import dr_methods as drm\n",
    "voi_df = drm.get_voi_dfs()[0]"
   ]
  },
  {
   "cell_type": "code",
   "execution_count": 10,
   "metadata": {
    "collapsed": true
   },
   "outputs": [],
   "source": [
    "Z = np.concatenate([orig_data_dict[cls][1] for cls in C.classes_to_include], 0)\n",
    "\n",
    "all_conv2_ch = np.empty([0,128])\n",
    "all_conv3_ch = np.empty([0,128])\n",
    "\n",
    "aug_factor = 10\n",
    "for img_id in range(len(Z)):\n",
    "    voi_row = voi_df.loc[Z[img_id]]\n",
    "    for aug_id in range(aug_factor):\n",
    "        img = np.load(os.path.join(C.aug_dir, voi_row['cls'], \"%s_%d.npy\" % (Z[img_id], aug_id)))\n",
    "        activ = model_conv2_pre.predict(np.expand_dims(img, 0))\n",
    "        all_conv2_ch = np.concatenate([all_conv2_ch, activ.mean(axis=(1,2,3))], axis=0)\n",
    "        activ = model_conv3_pre.predict(np.expand_dims(img, 0))\n",
    "        all_conv3_ch = np.concatenate([all_conv3_ch, activ.mean(axis=(1,2,3))], axis=0)"
   ]
  },
  {
   "cell_type": "code",
   "execution_count": null,
   "metadata": {
    "collapsed": true
   },
   "outputs": [],
   "source": []
  },
  {
   "cell_type": "code",
   "execution_count": 11,
   "metadata": {
    "scrolled": true
   },
   "outputs": [
    {
     "name": "stdout",
     "output_type": "stream",
     "text": [
      "[(0, 'arterial enhancement'), (1, 'continuous enhancing rim'), (2, 'delayed isointensity'), (3, 'heterogeneous'), (4, 'hyperintense mass on delayed phase'), (5, 'hypointense without enhancement'), (6, 'infiltrative'), (7, 'lobulated margins'), (8, 'nodular or discontinuous enhancement'), (9, 'progressive centripetal filling'), (10, 'progressive or concentric enhancement'), (11, 'regular spherical hypointense mass'), (12, 'thin well-defined walls'), (13, 'venous washout')]\n"
     ]
    }
   ],
   "source": [
    "print(list(zip(range(len(all_features)), all_features)))"
   ]
  },
  {
   "cell_type": "code",
   "execution_count": 199,
   "metadata": {
    "collapsed": true
   },
   "outputs": [],
   "source": [
    "relevant_features = [3,7,10] #cholangio, [1,10,11] #colorectal, [0,3,13] #hcc, \n",
    "img_dir = \"D:\\\\feature_analysis\\\\cholangio\"\n",
    "if not exists(img_dir):\n",
    "    os.makedirs(img_dir)\n",
    "\n",
    "num_rel_f = len(relevant_features)"
   ]
  },
  {
   "cell_type": "markdown",
   "metadata": {},
   "source": [
    "D = np.empty((8,8,4))\n",
    "for x in range(D.shape[0]):\n",
    "    for y in range(D.shape[1]):\n",
    "        for z in range(D.shape[2]):\n",
    "            D[x,y,z] = (D.shape[0]-.5-x)**2 + (D.shape[1]-.5-y)**2 + 4*(D.shape[2]-.5-z)**2\n",
    "\n",
    "def get_shells(activ, D):\n",
    "    shell4 = activ[0, D > 85, :].mean(axis=0)\n",
    "    shell3 = activ[0, (D <= 85) & (D > 62), :].mean(axis=0)\n",
    "    shell2 = activ[0, (D <= 62) & (D > 39), :].mean(axis=0)\n",
    "    shell1 = activ[0, D <= 39, :].mean(axis=0)\n",
    "    return np.expand_dims(np.stack([shell1, shell2, shell3, shell4], 0), 0)"
   ]
  },
  {
   "cell_type": "code",
   "execution_count": 13,
   "metadata": {},
   "outputs": [],
   "source": [
    "num_features = len(all_features)"
   ]
  },
  {
   "cell_type": "code",
   "execution_count": 14,
   "metadata": {
    "collapsed": true
   },
   "outputs": [],
   "source": [
    "#feature_conv1_ch = {f:np.empty([0,12,12,6,64*3]) for f in all_features}\n",
    "#feature_conv2_ch = {f:np.empty([0,12,12,6,128]) for f in all_features}\n",
    "feature_conv3_ch = {f:np.empty([0,12,12,6,128]) for f in all_features}\n",
    "#feature_conv3_sh = {f:np.empty([0,4,128]) for f in all_features}\n",
    "aug_factor = 80\n",
    "for f_ix in range(num_features):#relevant_features:\n",
    "    f = all_features[f_ix]\n",
    "    Z_f = Z_features[f]\n",
    "    for img_id in range(len(Z_f)):\n",
    "        voi_row = voi_df.loc[Z_f[img_id]]\n",
    "        for aug_id in range(aug_factor):\n",
    "            img = np.load(os.path.join(C.aug_dir, voi_row['cls'], \"%s_%d.npy\" % (Z_f[img_id], aug_id)))\n",
    "            #activ = model_conv1_pre.predict(np.expand_dims(img, 0))\n",
    "            #activ = np.expand_dims(tr.scale3d(activ[0], (.5,.5,.5)),0)\n",
    "            #feature_conv1_ch[f] = np.concatenate([feature_conv1_ch[f], activ], axis=0)\n",
    "            #activ = model_conv2_pre.predict(np.expand_dims(img, 0))\n",
    "            #feature_conv2_ch[f] = np.concatenate([feature_conv2_ch[f], activ], axis=0)\n",
    "            activ = model_conv3_pre.predict(np.expand_dims(img, 0))\n",
    "            feature_conv3_ch[f] = np.concatenate([feature_conv3_ch[f], activ], axis=0)\n",
    "            #feature_conv3_sh[f] = np.concatenate([feature_conv3_sh[f], get_shells(activ, D)], axis=0)"
   ]
  },
  {
   "cell_type": "code",
   "execution_count": 113,
   "metadata": {
    "collapsed": true
   },
   "outputs": [],
   "source": [
    "conv1_ch_plus = copy.deepcopy(feature_conv1_ch)\n",
    "for i, f_ix in enumerate(relevant_features):\n",
    "    f = all_features[f_ix]\n",
    "    conv1_ch_plus[f][conv1_ch_plus[f] < 0] = 0\n",
    "    conv1_ch_plus[f] = conv1_ch_plus[f].mean(0)"
   ]
  },
  {
   "cell_type": "code",
   "execution_count": 82,
   "metadata": {
    "collapsed": true
   },
   "outputs": [],
   "source": [
    "conv2_ch_plus = copy.deepcopy(feature_conv2_ch)\n",
    "for i, f_ix in enumerate(relevant_features):\n",
    "    f = all_features[f_ix]\n",
    "    conv2_ch_plus[f][conv2_ch_plus[f] < 0] = 0\n",
    "    conv2_ch_plus[f] = conv2_ch_plus[f].mean(0)"
   ]
  },
  {
   "cell_type": "code",
   "execution_count": 554,
   "metadata": {
    "collapsed": true
   },
   "outputs": [],
   "source": [
    "conv3_ch_plus = copy.deepcopy(feature_conv3_ch)\n",
    "for i, f_ix in enumerate(relevant_features):\n",
    "    f = all_features[f_ix]\n",
    "    conv3_ch_plus[f][conv3_ch_plus[f] < 0] = 0\n",
    "    conv3_ch_plus[f] = conv3_ch_plus[f].mean(0)"
   ]
  },
  {
   "cell_type": "code",
   "execution_count": 194,
   "metadata": {
    "collapsed": true
   },
   "outputs": [],
   "source": [
    "conv3_sh_plus = {}\n",
    "for i, f_ix in enumerate(relevant_features):\n",
    "    f = all_features[f_ix]\n",
    "    activ = conv3_ch_plus[f]\n",
    "    shell4 = activ[D > 85, :].mean(0)\n",
    "    shell3 = activ[(D <= 85) & (D > 62), :].mean(0)\n",
    "    shell2 = activ[(D <= 62) & (D > 39), :].mean(0)\n",
    "    shell1 = activ[D <= 39, :].mean(0)\n",
    "    conv3_sh_plus[f] = np.stack([shell1, shell2, shell3, shell4], 0)"
   ]
  },
  {
   "cell_type": "code",
   "execution_count": null,
   "metadata": {
    "collapsed": true
   },
   "outputs": [],
   "source": []
  },
  {
   "cell_type": "code",
   "execution_count": 488,
   "metadata": {
    "collapsed": true
   },
   "outputs": [],
   "source": [
    "num_channels = 128\n",
    "feature_avgs = np.zeros((num_rel_f, num_channels))\n",
    "for i, f_ix in enumerate(relevant_features):\n",
    "    f = all_features[f_ix]\n",
    "    feature_avgs[i] = conv3_ch_plus[f].mean((0,1,2))\n",
    "    #feature_avgs[i] = conv3_ch_plus[f].mean((0,1,2))\n",
    "    \n",
    "channel_separations = np.empty((num_rel_f, num_channels)) # separation between channel mean activations for the relevant features\n",
    "for i in range(num_rel_f):\n",
    "    channel_separations[i] = (np.amax(feature_avgs, 0) - feature_avgs[i]) / np.mean(feature_avgs, 0)\n",
    "\n",
    "channel_separations *= 10\n",
    "\n",
    "W = np.zeros((num_rel_f, num_channels))\n",
    "for ch_ix in range(num_channels):\n",
    "    #f_ix = list(channel_separations[:,ch_ix]).index(0)\n",
    "    #W[f_ix,ch_ix] = channel_separations[:,ch_ix].mean()\n",
    "    W[:,ch_ix] = np.median(channel_separations[:,ch_ix]) - channel_separations[:,ch_ix]\n",
    "    \n",
    "W[W < 0] = 0"
   ]
  },
  {
   "cell_type": "markdown",
   "metadata": {},
   "source": [
    "feature_avgs = np.zeros((4,128))\n",
    "for i, f_ix in enumerate(relevant_features):\n",
    "    f = all_features[f_ix]\n",
    "    feature_avgs[i] = conv3_sh_plus[f].mean(0).max(0)\n",
    "    \n",
    "channel_separations = np.empty((4,128))\n",
    "for i in range(4):\n",
    "    channel_separations[i] = np.amax(feature_avgs, 0) - feature_avgs[i]"
   ]
  },
  {
   "cell_type": "code",
   "execution_count": null,
   "metadata": {
    "collapsed": true
   },
   "outputs": [],
   "source": []
  },
  {
   "cell_type": "markdown",
   "metadata": {},
   "source": [
    "active_neuron_ixs = np.where(h_ic_rot[0] > 0)\n",
    "\n",
    "num_active_neurons = active_neuron_ixs[0].size\n",
    "\n",
    "H = h_ic[h_ic > 0]\n",
    "np.matmul(H, W)"
   ]
  },
  {
   "cell_type": "code",
   "execution_count": 9,
   "metadata": {
    "collapsed": true
   },
   "outputs": [],
   "source": [
    "@njit\n",
    "def get_spatial_overlap(w, f_c3_ch):\n",
    "    relevant_features = ch_weights.keys()\n",
    "    \n",
    "    ch_weights2 = np.zeros(num_rel_f,128)\n",
    "    for ch in range(128):\n",
    "        f_c3_ch[:,:,:,:,ch] = (f_c3_ch[:,:,:,:,ch] - np.mean(f_c3_ch[:,:,:,:,ch]))# / np.std(f_c3_ch[:,:,:,:,ch])\n",
    "        \n",
    "        if ch_weights[ch] > 0:\n",
    "            w = np.zeros(f_c3_ch.shape[:4])\n",
    "            for i in range(128):\n",
    "                if ch_weights[i] > 0:\n",
    "                    w += ch_weights[i] * f_c3_ch[:,:,:,:,i]\n",
    "            w = w / np.sum(ch_weights)\n",
    "            ch_weights2[ch] = np.sum(f_c3_ch[:,:,:,:,ch] * w)\n",
    "            \n",
    "    return ch_weights2"
   ]
  },
  {
   "cell_type": "code",
   "execution_count": 204,
   "metadata": {},
   "outputs": [
    {
     "data": {
      "text/plain": [
       "34"
      ]
     },
     "execution_count": 204,
     "metadata": {},
     "output_type": "execute_result"
    }
   ],
   "source": [
    "#13064153_3 hcc\n",
    "#E105724706_3 crc\n",
    "#E102095465_0 icc\n",
    "list(orig_data_dict[cls][1]).index('E102095465_0')"
   ]
  },
  {
   "cell_type": "code",
   "execution_count": 205,
   "metadata": {
    "collapsed": true,
    "scrolled": false
   },
   "outputs": [],
   "source": [
    "cls = 'cholangio'\n",
    "cls_img_set = orig_data_dict[cls][0]\n",
    "#cls_activ_set = model_conv3_pre.predict(cls_img_set)\n",
    "\n",
    "img_id = 34\n",
    "x = cls_img_set[img_id]"
   ]
  },
  {
   "cell_type": "code",
   "execution_count": 323,
   "metadata": {
    "collapsed": true
   },
   "outputs": [],
   "source": [
    "#h_ic = [model_conv1_pre.predict(np.expand_dims(np.rot90(x,r),0))[0] for r in range(4)]\n",
    "#h_ic = [model_conv2_pre.predict(np.expand_dims(np.rot90(x,r),0))[0] for r in range(4)]\n",
    "h_ic = [model_conv3_pre.predict(np.expand_dims(np.rot90(x,r),0))[0] for r in range(4)]\n",
    "\n",
    "h_ic_plus = copy.deepcopy(h_ic)\n",
    "for r in range(4):\n",
    "    h_ic_plus[r][h_ic_plus[r] < 0] = 0\n",
    "\n",
    "h_ic_rot = [np.rot90(h_ic_plus[r], 4-r) for r in range(4)] #rotated back into original frame\n",
    "\n",
    "h_ic_rot = np.array(h_ic_rot)\n",
    "test_neurons = h_ic_rot.mean(0)"
   ]
  },
  {
   "cell_type": "markdown",
   "metadata": {},
   "source": [
    "H = [h_ic_rot[a][active_neuron_ixs] for a in range(4)]"
   ]
  },
  {
   "cell_type": "markdown",
   "metadata": {},
   "source": [
    "np.sum(3*np.matmul(H[0], W) - np.matmul(H[1], W) - np.matmul(H[2], W) - np.matmul(H[3], W))"
   ]
  },
  {
   "cell_type": "markdown",
   "metadata": {},
   "source": [
    "h_ca = {f_ix: feature_conv3_ch[all_features[f_ix]].mean((0,1,2,3)) for f_ix in relevant_features}\n",
    "h_ca_plus = {f_ix: feature_conv3_ch[all_features[f_ix]][feature_conv3_ch[all_features[f_ix]] > 0].mean((0,1,2,3)) for f_ix in relevant_features}"
   ]
  },
  {
   "cell_type": "markdown",
   "metadata": {},
   "source": [
    "tmp = np.tile(h_ca[f_ix], list(h_ic.shape[:3])+[1])"
   ]
  },
  {
   "cell_type": "markdown",
   "metadata": {},
   "source": [
    "for f_ix in relevant_features:\n",
    "    w_ica[f_ix] = h_ic_plus / (np.abs(h_ic_plus - h_ca[f_ix]) + 1e-5)"
   ]
  },
  {
   "cell_type": "markdown",
   "metadata": {},
   "source": [
    "x = cls_img_set[img_id]\n",
    "test_neurons = model_conv3_pre.predict(np.expand_dims(x,0))[0]\n",
    "test_neurons[test_neurons < 0] = 0"
   ]
  },
  {
   "cell_type": "code",
   "execution_count": 152,
   "metadata": {
    "collapsed": true
   },
   "outputs": [],
   "source": [
    "m = all_conv2_ch.mean(0)\n",
    "s = all_conv2_ch.std(0)\n",
    "ch_weights = np.empty((num_rel_f, num_channels))\n",
    "for f_num, f_ix in enumerate(relevant_features):\n",
    "    f_c3_ch = feature_conv2_ch[all_features[f_ix]]\n",
    "    avg_f_conv3_ch = f_c3_ch.mean((1,2,3))\n",
    "    f_m = avg_f_conv3_ch.mean(0)\n",
    "    f_s = avg_f_conv3_ch.std(0)\n",
    "\n",
    "    ch_weights[f_num] = np.log(kl_div(m, s, f_m, f_s, 'less')+1) #kl_div(m, s, f_m, f_s, 'less')"
   ]
  },
  {
   "cell_type": "markdown",
   "metadata": {},
   "source": [
    "img_id = 0\n",
    "z = orig_data_dict[cls][1][img_id]\n",
    "\n",
    "ch_weights2 = get_spatial_overlap(ch_weights, feature_conv3_ch, z)\n",
    "ch_weights2[ch_weights2 < np.median(ch_weights2) / 2] = 0 #np.median(ch_weights2) / 2\n",
    "ch_weights[all_features[f_ix]] *= ch_weights2\n",
    "ch_weights[all_features[f_ix]] /= np.mean(ch_weights[all_features[f_ix]])"
   ]
  },
  {
   "cell_type": "code",
   "execution_count": 75,
   "metadata": {
    "collapsed": true
   },
   "outputs": [],
   "source": [
    "def get_saliency_map(W, test_neurons, num_rel_f):\n",
    "    sal_map = np.zeros((num_rel_f, *test_neurons.shape[:3]))\n",
    "    for f_num in range(num_rel_f):\n",
    "        for ch_ix in range(test_neurons.shape[-1]):\n",
    "            sal_map[f_num] += W[f_num, ch_ix] * test_neurons[:,:,:,ch_ix]\n",
    "        sal_map[f_num] /= np.sum(W[f_num])\n",
    "        \n",
    "        \n",
    "    #for f_num in range(num_rel_f):\n",
    "    #    for spatial_ix in np.ndindex(test_neurons.shape[:-1]):\n",
    "    #        sal_map[f_num, spatial_ix] = sal_map[f_num, spatial_ix]**2 / sal_map[:, spatial_ix].sum()\n",
    "            \n",
    "    return sal_map"
   ]
  },
  {
   "cell_type": "code",
   "execution_count": 319,
   "metadata": {
    "collapsed": true
   },
   "outputs": [],
   "source": [
    "test_neurons = h_ic_rot[0]"
   ]
  },
  {
   "cell_type": "code",
   "execution_count": 103,
   "metadata": {
    "collapsed": true
   },
   "outputs": [],
   "source": [
    "test_neurons = tr.scale3d(test_neurons, (.5,.5,.5))"
   ]
  },
  {
   "cell_type": "code",
   "execution_count": null,
   "metadata": {
    "collapsed": true
   },
   "outputs": [],
   "source": [
    "z = orig_data_dict[cls][1][img_id]\n",
    "#layer_type = 'conv1'\n",
    "layer_type = 'conv3'\n",
    "#for f_num, f_ix in enumerate(relevant_features):\n",
    "sal_map = get_saliency_map(W, test_neurons, num_rel_f)\n",
    "alpha = 1.2\n",
    "for f_num in range(num_rel_f):\n",
    "    sal_map_f = sal_map[f_num]\n",
    "        \n",
    "    sal_map_f = tr.scale3d(sal_map_f, (2,2,2))\n",
    "    sal_map_f = (sal_map_f > np.mean(sal_map_f[sal_map_f > 0])*alpha)+.3\n",
    "\n",
    "    #for img_id in range(len(cls_img_set)):\n",
    "    overlaid_img = x - np.amin(x)\n",
    "    overlaid_img = np.stack([sal_map_f * overlaid_img[:,:,:,i] for i in range(3)], 3)\n",
    "    hf.draw_slices(overlaid_img[:,::-1,:], save_path=img_dir+\"\\\\%s %s (%s).png\" % (layer_type, z, all_features[relevant_features[f_num]]))"
   ]
  },
  {
   "cell_type": "code",
   "execution_count": 325,
   "metadata": {},
   "outputs": [
    {
     "data": {
      "text/plain": [
       "[3, 7, 10]"
      ]
     },
     "execution_count": 325,
     "metadata": {},
     "output_type": "execute_result"
    }
   ],
   "source": [
    "relevant_features"
   ]
  },
  {
   "cell_type": "markdown",
   "metadata": {},
   "source": [
    "alpha\n",
    "[3, 7, 10] = [.9,1.3,1.2]\n",
    "\n",
    "beta\n",
    "[3, 7, 10] = [1.1,1.3,1.8]"
   ]
  },
  {
   "cell_type": "code",
   "execution_count": 336,
   "metadata": {
    "scrolled": false
   },
   "outputs": [
    {
     "name": "stdout",
     "output_type": "stream",
     "text": [
      "['heterogeneous' 'lobulated margins'\n",
      " 'progressive or concentric enhancement']\n"
     ]
    },
    {
     "data": {
      "image/png": "[encoded data removed]",
      "text/plain": [
       "<matplotlib.figure.Figure at 0x268b4cc70b8>"
      ]
     },
     "metadata": {},
     "output_type": "display_data"
    }
   ],
   "source": [
    "width = x.shape[0]\n",
    "overlaid_img_clr = np.empty((width*3, x.shape[1], 3))\n",
    "overlaid_img = x - np.amin(x)\n",
    "\n",
    "alpha = [.9,1.3,1.2] #[1.3,1.5,2] #inverse area [.9,1.3,1.2]\n",
    "beta = [1.1,1.3,1.8] #importance\n",
    "\n",
    "sal_map = get_saliency_map(W, test_neurons, num_rel_f)\n",
    "#sal_map *= 0\n",
    "for f_num in range(num_rel_f):\n",
    "    sal_map_f = sal_map[f_num]\n",
    "    sal_map[f_num] = sal_map_f > np.mean(sal_map_f[sal_map_f > 0])*alpha[f_num]\n",
    "    sal_map[f_num] *= beta[f_num]\n",
    "for f_num in range(num_rel_f):\n",
    "    sal_map[f_num, sal_map[f_num,:] != sal_map.max(0)] /= 2\n",
    "for f_num in range(num_rel_f):\n",
    "    sal_map_f = sal_map[f_num] / beta[f_num]\n",
    "    sal_map_f = tr.scale3d(sal_map_f, (2,2,2))\n",
    "    sal_map_f = np.stack([2*sal_map_f + overlaid_img[:,:,:,i] for i in range(3)], 3)\n",
    "    sal_map_f = sal_map_f[:,:,sal_map_f.shape[2]//2,:]\n",
    "    overlaid_img_clr[:width,:,f_num] = sal_map_f[:,:,0]\n",
    "    overlaid_img_clr[width:width*2,:,f_num] = sal_map_f[:,:,1]\n",
    "    overlaid_img_clr[width*2:,:,f_num] = sal_map_f[:,:,2]\n",
    "\n",
    "overlaid_img_clr -= overlaid_img_clr.min() - 0\n",
    "overlaid_img_clr *= 1 / overlaid_img_clr.max()\n",
    "\n",
    "fig = plt.imshow(overlaid_img_clr)\n",
    "fig.get_figure().set_figheight(7)\n",
    "fig.axes.get_xaxis().set_visible(False)\n",
    "fig.axes.get_yaxis().set_visible(False)\n",
    "print(np.array(all_features)[relevant_features])"
   ]
  },
  {
   "cell_type": "code",
   "execution_count": 337,
   "metadata": {},
   "outputs": [
    {
     "name": "stderr",
     "output_type": "stream",
     "text": [
      "C:\\Users\\Clinton\\AppData\\Local\\conda\\conda\\envs\\old-keras\\lib\\site-packages\\skimage\\transform\\_warps.py:84: UserWarning: The default mode, 'constant', will be changed to 'reflect' in skimage 0.15.\n",
      "  warn(\"The default mode, 'constant', will be changed to 'reflect' in \"\n"
     ]
    }
   ],
   "source": [
    "from skimage.transform import rescale, resize\n",
    "fixed_width = 100\n",
    "plt.imsave(join(img_dir, z+\".png\"), resize(overlaid_img_clr, [fixed_width*3, fixed_width]))#(fig*255/fig.max()).astype(int))"
   ]
  },
  {
   "cell_type": "code",
   "execution_count": 211,
   "metadata": {},
   "outputs": [
    {
     "name": "stderr",
     "output_type": "stream",
     "text": [
      "C:\\Users\\Clinton\\AppData\\Local\\conda\\conda\\envs\\old-keras\\lib\\site-packages\\skimage\\transform\\_warps.py:84: UserWarning: The default mode, 'constant', will be changed to 'reflect' in skimage 0.15.\n",
      "  warn(\"The default mode, 'constant', will be changed to 'reflect' in \"\n"
     ]
    }
   ],
   "source": [
    "plt.imsave(join(img_dir, z+\"_bw.png\"), resize(overlaid_img_clr, [fixed_width*3, fixed_width]))#(fig*255/fig.max()).astype(int))"
   ]
  },
  {
   "cell_type": "code",
   "execution_count": null,
   "metadata": {
    "collapsed": true
   },
   "outputs": [],
   "source": [
    "import scipy.stats.gaussian_kde"
   ]
  },
  {
   "cell_type": "code",
   "execution_count": null,
   "metadata": {
    "collapsed": true
   },
   "outputs": [],
   "source": [
    "import sklearn."
   ]
  },
  {
   "cell_type": "code",
   "execution_count": 603,
   "metadata": {
    "collapsed": true
   },
   "outputs": [],
   "source": [
    "sal_map = get_saliency_map(W, test_neurons, num_rel_f)"
   ]
  },
  {
   "cell_type": "code",
   "execution_count": 253,
   "metadata": {
    "collapsed": true
   },
   "outputs": [],
   "source": [
    "saliency_score = np.empty(num_rel_f)"
   ]
  },
  {
   "cell_type": "code",
   "execution_count": null,
   "metadata": {
    "collapsed": true
   },
   "outputs": [],
   "source": [
    "layer_dict = dict([(layer.name, layer) for layer in model.layers[1:]])\n",
    "layer_dict"
   ]
  },
  {
   "cell_type": "code",
   "execution_count": 505,
   "metadata": {},
   "outputs": [
    {
     "data": {
      "text/plain": [
       "[<keras.engine.topology.InputLayer at 0x268bd9f7cc0>,\n",
       " <keras.layers.core.Activation at 0x268bd9d3e80>,\n",
       " <keras.layers.core.Dropout at 0x268bd9f7b38>,\n",
       " <keras.layers.pooling.MaxPooling3D at 0x268bd9f7b00>,\n",
       " <keras.layers.core.Flatten at 0x268bd9f7d68>,\n",
       " <keras.layers.core.Dense at 0x268bd9fd7f0>,\n",
       " <keras.layers.normalization.BatchNormalization at 0x268bda04ef0>,\n",
       " <keras.layers.core.Dropout at 0x268bd9f0a90>,\n",
       " <keras.layers.core.Activation at 0x268bdb04748>,\n",
       " <keras.layers.core.Dense at 0x268bda41a58>]"
      ]
     },
     "execution_count": 505,
     "metadata": {},
     "output_type": "execute_result"
    }
   ],
   "source": [
    "model_conv3_input.layers"
   ]
  },
  {
   "cell_type": "code",
   "execution_count": 510,
   "metadata": {},
   "outputs": [],
   "source": [
    "z_bias = model_conv3_input.layers[-1].get_weights()[1]"
   ]
  },
  {
   "cell_type": "code",
   "execution_count": 314,
   "metadata": {
    "scrolled": true
   },
   "outputs": [
    {
     "data": {
      "text/plain": [
       "<module 'cnn_builder' from 'C:\\\\Users\\\\Clinton\\\\Documents\\\\voi-classifier\\\\python\\\\cnn_builder.py'>"
      ]
     },
     "execution_count": 314,
     "metadata": {},
     "output_type": "execute_result"
    }
   ],
   "source": [
    "importlib.reload(cbuild)"
   ]
  },
  {
   "cell_type": "code",
   "execution_count": 474,
   "metadata": {},
   "outputs": [],
   "source": [
    "#model_conv1_input = cbuild.build_pretrain_model_back(model, first_layer=-5)\n",
    "#model_conv2_input = cbuild.build_pretrain_model_back(model, first_layer=-4)\n",
    "model_conv3_input = cbuild.build_pretrain_model_back(model, first_layer=-3)"
   ]
  },
  {
   "cell_type": "code",
   "execution_count": 616,
   "metadata": {
    "scrolled": true
   },
   "outputs": [],
   "source": [
    "z_actual = model_conv3_input.predict(np.expand_dims(test_neurons,0)) - z_bias"
   ]
  },
  {
   "cell_type": "code",
   "execution_count": 563,
   "metadata": {},
   "outputs": [],
   "source": [
    "h_ja = np.zeros((num_rel_f, test_neurons.shape[-1]))\n",
    "for f_num in range(num_rel_f):\n",
    "    h_ja[f_num] = conv3_ch_plus[all_features[relevant_features[f_num]]].mean((0,1,2))"
   ]
  },
  {
   "cell_type": "code",
   "execution_count": 538,
   "metadata": {
    "collapsed": true
   },
   "outputs": [],
   "source": [
    "from scipy.optimize import minimize"
   ]
  },
  {
   "cell_type": "code",
   "execution_count": 540,
   "metadata": {
    "collapsed": true
   },
   "outputs": [],
   "source": [
    "test_n_ch = test_neurons.mean((0,1,2))"
   ]
  },
  {
   "cell_type": "code",
   "execution_count": 697,
   "metadata": {},
   "outputs": [
    {
     "data": {
      "text/plain": [
       "array([0.32331757, 0.622332  , 0.06743605])"
      ]
     },
     "execution_count": 697,
     "metadata": {},
     "output_type": "execute_result"
    }
   ],
   "source": [
    "sol = minimize(lambda w: sum((w[0]*h_ja[0] + w[1]*h_ja[1] + w[2]*h_ja[2] - test_n_ch)**2) - .0005*(log(w[0]) + log(w[1]) + log(w[2])), [15,1,1],\n",
    "         bounds = ((0.001, None), (0.001, None), (0.001, None)))\n",
    "w_a = sol['x']\n",
    "w_a"
   ]
  },
  {
   "cell_type": "code",
   "execution_count": 698,
   "metadata": {},
   "outputs": [],
   "source": [
    "contrib_sample = np.zeros(test_neurons.shape)\n",
    "for ch_ix in range(test_neurons.shape[-1]):\n",
    "    contrib_sample[:,:,:,ch_ix] = test_neurons[:,:,:,ch_ix] - w_a[0]*h_ja[0, ch_ix] - w_a[1]*h_ja[1, ch_ix] - w_a[2]*h_ja[2, ch_ix]\n",
    "z_base = model_conv3_input.predict(np.expand_dims(contrib_sample,0))[0] - z_bias\n",
    "\n",
    "z_onef = np.zeros((num_rel_f, 6))\n",
    "for ch_ix in range(test_neurons.shape[-1]):\n",
    "    contrib_sample[:,:,:,ch_ix] = test_neurons[:,:,:,ch_ix] - w_a[0]*h_ja[0, ch_ix] - w_a[1]*h_ja[1, ch_ix]\n",
    "z_onef[2] = model_conv3_input.predict(np.expand_dims(contrib_sample,0))[0] - z_bias\n",
    "for ch_ix in range(test_neurons.shape[-1]):\n",
    "    contrib_sample[:,:,:,ch_ix] = test_neurons[:,:,:,ch_ix] - w_a[0]*h_ja[0, ch_ix] - w_a[2]*h_ja[2, ch_ix]\n",
    "z_onef[1] = model_conv3_input.predict(np.expand_dims(contrib_sample,0))[0] - z_bias\n",
    "for ch_ix in range(test_neurons.shape[-1]):\n",
    "    contrib_sample[:,:,:,ch_ix] = test_neurons[:,:,:,ch_ix] - w_a[1]*h_ja[1, ch_ix] - w_a[2]*h_ja[2, ch_ix]\n",
    "z_onef[0] = model_conv3_input.predict(np.expand_dims(contrib_sample,0))[0] - z_bias"
   ]
  },
  {
   "cell_type": "code",
   "execution_count": 699,
   "metadata": {},
   "outputs": [],
   "source": [
    "contrib_sample = np.zeros((num_rel_f, *test_neurons.shape))\n",
    "for f_num in range(num_rel_f):\n",
    "    for ch_ix in range(test_neurons.shape[-1]):\n",
    "        contrib_sample[f_num,:,:,:,ch_ix] = test_neurons[:,:,:,ch_ix] - w_a[f_num]*h_ja[f_num, ch_ix]# * (sal_map[f_num] > np.median(sal_map[f_num]))\n",
    "    #contrib_sample[f_num] /= np.mean(h_ja[f_num])\n",
    "    #contrib_sample[f_num] = (contrib_sample[f_num] - contrib_sample[f_num].mean())/contrib_sample[f_num].std()\n",
    "\n",
    "z_twof = np.empty((num_rel_f, 6))\n",
    "for f_num in range(num_rel_f):\n",
    "    z_twof[f_num] = model_conv3_input.predict(np.expand_dims(contrib_sample[f_num],0))[0] - z_bias\n",
    "    #print(z_f[1] - np.amax(z_f[[0,2,3,4,5]]))"
   ]
  },
  {
   "cell_type": "code",
   "execution_count": 700,
   "metadata": {},
   "outputs": [],
   "source": [
    "dz_actual = z_actual[1] - np.amax(z_actual[[0,2,3,4,5]])\n",
    "dz_base = z_base[1] - np.amax(z_base[[0,2,3,4,5]])\n",
    "den = dz_actual - dz_base"
   ]
  },
  {
   "cell_type": "code",
   "execution_count": 701,
   "metadata": {
    "collapsed": true
   },
   "outputs": [],
   "source": [
    "def get_cls_sep(z, cls_num=1):\n",
    "    ixs = list(set(range(len(C.classes_to_include))).difference([cls_num]))\n",
    "    return z[cls_num] - max(z[ixs])"
   ]
  },
  {
   "cell_type": "code",
   "execution_count": 702,
   "metadata": {},
   "outputs": [],
   "source": [
    "dz_0 = get_cls_sep(z_onef[0])\n",
    "dz_1 = get_cls_sep(z_onef[1])\n",
    "dz_2 = get_cls_sep(z_onef[2])\n",
    "dz_01 = get_cls_sep(z_twof[2])\n",
    "dz_02 = get_cls_sep(z_twof[1])\n",
    "dz_12 = get_cls_sep(z_twof[0])"
   ]
  },
  {
   "cell_type": "code",
   "execution_count": 703,
   "metadata": {},
   "outputs": [],
   "source": [
    "num_0 = []\n",
    "num_0.append(dz_0 - dz_base)\n",
    "num_0.append(dz_actual - dz_12)\n",
    "num_0.append(dz_01 - dz_1)\n",
    "num_0.append(dz_02 - dz_2)"
   ]
  },
  {
   "cell_type": "code",
   "execution_count": 704,
   "metadata": {
    "collapsed": true
   },
   "outputs": [],
   "source": [
    "num_1 = []\n",
    "num_1.append(dz_1 - dz_base)\n",
    "num_1.append(dz_actual - dz_02)\n",
    "num_1.append(dz_01 - dz_0)\n",
    "num_1.append(dz_12 - dz_2)"
   ]
  },
  {
   "cell_type": "code",
   "execution_count": 705,
   "metadata": {
    "collapsed": true
   },
   "outputs": [],
   "source": [
    "num_2 = []\n",
    "num_2.append(dz_2 - dz_base)\n",
    "num_2.append(dz_actual - dz_01)\n",
    "num_2.append(dz_02 - dz_0)\n",
    "num_2.append(dz_12 - dz_1)"
   ]
  },
  {
   "cell_type": "code",
   "execution_count": 706,
   "metadata": {},
   "outputs": [
    {
     "data": {
      "text/plain": [
       "0.3145101778958197"
      ]
     },
     "execution_count": 706,
     "metadata": {},
     "output_type": "execute_result"
    }
   ],
   "source": [
    "np.mean(num_0 / den)"
   ]
  },
  {
   "cell_type": "code",
   "execution_count": 707,
   "metadata": {},
   "outputs": [
    {
     "data": {
      "text/plain": [
       "0.6168631414236131"
      ]
     },
     "execution_count": 707,
     "metadata": {},
     "output_type": "execute_result"
    }
   ],
   "source": [
    "np.mean(num_1 / den)"
   ]
  },
  {
   "cell_type": "code",
   "execution_count": 708,
   "metadata": {
    "scrolled": true
   },
   "outputs": [
    {
     "data": {
      "text/plain": [
       "0.0672456577946311"
      ]
     },
     "execution_count": 708,
     "metadata": {},
     "output_type": "execute_result"
    }
   ],
   "source": [
    "np.mean(num_2 / den)"
   ]
  },
  {
   "cell_type": "code",
   "execution_count": 709,
   "metadata": {},
   "outputs": [
    {
     "data": {
      "text/plain": [
       "0.9986189771140639"
      ]
     },
     "execution_count": 709,
     "metadata": {},
     "output_type": "execute_result"
    }
   ],
   "source": [
    "sum([np.mean(num_0 / den), np.mean(num_1 / den), np.mean(num_2 / den)])"
   ]
  },
  {
   "cell_type": "code",
   "execution_count": 621,
   "metadata": {},
   "outputs": [
    {
     "data": {
      "text/plain": [
       "array([[-3.45049644,  4.40980577,  4.40105391, -8.56682014, -7.18586779,\n",
       "        -6.77498007],\n",
       "       [-3.06025767,  4.00764942,  4.48123026, -8.19426918, -6.92342043,\n",
       "        -6.73755074],\n",
       "       [-3.94124246,  4.87050104,  4.20485258, -9.01467514, -7.47838974,\n",
       "        -6.79935169]])"
      ]
     },
     "execution_count": 621,
     "metadata": {},
     "output_type": "execute_result"
    }
   ],
   "source": [
    "z_f"
   ]
  },
  {
   "cell_type": "code",
   "execution_count": 596,
   "metadata": {},
   "outputs": [],
   "source": [
    "dw = np.linspace(0,5,100)\n",
    "dy = np.empty((num_rel_f, len(dw)))\n",
    "w_f = np.empty(num_rel_f)\n",
    "\n",
    "for f_num in range(num_rel_f):\n",
    "    for w_ix in range(len(dw)):\n",
    "        z_f = model_conv3_input.predict(np.expand_dims(test_neurons - dw[w_ix]*contrib_sample[f_num],0))[0]\n",
    "        dy[f_num,w_ix] = z_f[1] - np.amax(z_f[[0,2,3,4,5]])\n",
    "    #w_f[f_num] = (dy[f_num] < 0).nonzero()[0][0]"
   ]
  },
  {
   "cell_type": "code",
   "execution_count": 464,
   "metadata": {},
   "outputs": [
    {
     "data": {
      "text/plain": [
       "array([  0.12477922, -13.959014  , -11.985743  , -11.229456  ],\n",
       "      dtype=float32)"
      ]
     },
     "execution_count": 464,
     "metadata": {},
     "output_type": "execute_result"
    }
   ],
   "source": [
    "z_f[:1]+z_f[2:]"
   ]
  },
  {
   "cell_type": "code",
   "execution_count": 484,
   "metadata": {},
   "outputs": [
    {
     "data": {
      "text/plain": [
       "array([[[[-1.31236228e-01,  1.36393856e+00, -1.31236228e-01, ...,\n",
       "           4.43203269e-01, -1.31236228e-01,  5.35002832e-01],\n",
       "         [-1.31236228e-01,  1.97703985e+00, -1.31236228e-01, ...,\n",
       "           3.94861275e-02, -1.31236228e-01, -1.31236228e-01],\n",
       "         [-1.31236228e-01,  2.17243995e+00, -1.31236228e-01, ...,\n",
       "           6.57017606e-02, -1.31236228e-01, -1.31236228e-01],\n",
       "         [-1.31236228e-01,  1.93542298e+00, -1.31236228e-01, ...,\n",
       "           1.89224992e-01, -1.31236228e-01,  1.18721771e+00],\n",
       "         [-1.31236228e-01,  2.08023177e+00, -1.31236228e-01, ...,\n",
       "           3.10991529e-01, -1.31236228e-01,  1.22305096e+00],\n",
       "         [-1.31236228e-01,  2.80714769e+00, -1.31236228e-01, ...,\n",
       "           1.07539614e-01, -1.31236228e-01, -1.31236228e-01]],\n",
       "\n",
       "        [[-1.31236228e-01, -1.31236228e-01, -1.31236228e-01, ...,\n",
       "           1.07988032e-02, -1.31236228e-01,  2.82011462e+00],\n",
       "         [-1.31236228e-01,  6.13186573e-01, -1.31236228e-01, ...,\n",
       "          -1.81733583e-02, -1.31236228e-01, -1.31236228e-01],\n",
       "         [-1.31236228e-01,  1.61216398e+00, -1.31236228e-01, ...,\n",
       "           9.72172776e-02, -1.31236228e-01, -1.31236228e-01],\n",
       "         [-1.31236228e-01,  1.09002745e+00, -1.31236228e-01, ...,\n",
       "           1.13194321e-01, -1.31236228e-01, -1.31236228e-01],\n",
       "         [-1.31236228e-01,  1.17837922e+00, -1.31236228e-01, ...,\n",
       "           2.44595737e-01, -1.31236228e-01,  2.15273822e-01],\n",
       "         [-1.31236228e-01,  2.00377990e+00, -1.31236228e-01, ...,\n",
       "          -5.63070963e-02, -1.31236228e-01, -1.31236228e-01]],\n",
       "\n",
       "        [[-1.31236228e-01, -1.31236228e-01, -1.31236228e-01, ...,\n",
       "           1.13991448e-01, -1.31236228e-01,  4.13123942e-01],\n",
       "         [-1.31236228e-01,  4.18582385e-02, -1.31236228e-01, ...,\n",
       "          -1.23250322e-01, -1.31236228e-01, -1.31236228e-01],\n",
       "         [-1.31236228e-01,  8.00001636e-01, -1.31236228e-01, ...,\n",
       "           5.93490994e-02, -1.31236228e-01, -1.31236228e-01],\n",
       "         [-1.31236228e-01,  6.96475227e-01, -1.31236228e-01, ...,\n",
       "          -1.31236228e-01, -1.31236228e-01, -1.31236228e-01],\n",
       "         [-1.31236228e-01,  7.18111559e-01, -1.31236228e-01, ...,\n",
       "          -1.31236228e-01, -1.31236228e-01, -1.31236228e-01],\n",
       "         [-1.31236228e-01,  1.02082556e+00, -1.31236228e-01, ...,\n",
       "          -1.31236228e-01, -1.31236228e-01, -1.31236228e-01]],\n",
       "\n",
       "        ...,\n",
       "\n",
       "        [[-1.31236228e-01,  5.10793111e-01, -1.31236228e-01, ...,\n",
       "          -7.23665607e-02, -1.31236228e-01, -1.31236228e-01],\n",
       "         [-1.31236228e-01,  2.23823873e+00, -1.31236228e-01, ...,\n",
       "          -2.69543228e-02, -1.31236228e-01, -1.31236228e-01],\n",
       "         [-1.31236228e-01,  2.30995294e+00, -1.31236228e-01, ...,\n",
       "          -2.01962095e-02, -1.31236228e-01, -1.31236228e-01],\n",
       "         [-1.31236228e-01,  8.01479237e-01, -1.31236228e-01, ...,\n",
       "          -1.19268482e-01, -1.31236228e-01, -1.31236228e-01],\n",
       "         [-1.31236228e-01,  8.13545841e-01, -1.31236228e-01, ...,\n",
       "          -1.31236228e-01, -1.31236228e-01, -1.31236228e-01],\n",
       "         [-1.31236228e-01,  1.17227649e+00, -1.31236228e-01, ...,\n",
       "          -1.31236228e-01, -1.31236228e-01, -1.31236228e-01]],\n",
       "\n",
       "        [[-1.31236228e-01,  6.43607980e-01, -1.31236228e-01, ...,\n",
       "          -1.31236228e-01, -1.31236228e-01, -1.31236228e-01],\n",
       "         [-1.31236228e-01,  2.62866936e+00, -1.31236228e-01, ...,\n",
       "          -1.31236228e-01, -1.31236228e-01, -1.31236228e-01],\n",
       "         [-1.31236228e-01,  2.20438038e+00, -1.31236228e-01, ...,\n",
       "          -1.31236228e-01, -1.31236228e-01, -1.31236228e-01],\n",
       "         [-1.31236228e-01,  4.72542508e-01, -1.31236228e-01, ...,\n",
       "          -1.26186284e-01, -1.31236228e-01, -1.31236228e-01],\n",
       "         [-1.31236228e-01,  8.69310418e-01, -1.31236228e-01, ...,\n",
       "          -1.31236228e-01, -1.31236228e-01, -1.31236228e-01],\n",
       "         [-1.31236228e-01,  1.27795261e+00, -1.31236228e-01, ...,\n",
       "          -1.31236228e-01, -1.31236228e-01, -1.31236228e-01]],\n",
       "\n",
       "        [[-1.31236228e-01,  1.36339362e+00, -1.31236228e-01, ...,\n",
       "          -3.31331896e-02, -1.31236228e-01, -1.31236228e-01],\n",
       "         [-1.31236228e-01,  2.82492384e+00, -1.31236228e-01, ...,\n",
       "          -7.61790518e-02, -1.31236228e-01, -1.31236228e-01],\n",
       "         [-1.31236228e-01,  2.15829249e+00, -1.31236228e-01, ...,\n",
       "          -4.10856280e-02, -1.31236228e-01, -1.31236228e-01],\n",
       "         [-1.31236228e-01,  6.87954150e-01, -1.31236228e-01, ...,\n",
       "           1.26721666e-02, -1.31236228e-01, -1.31236228e-01],\n",
       "         [-1.31236228e-01,  1.35436532e+00, -1.31236228e-01, ...,\n",
       "          -1.31236228e-01, -1.31236228e-01, -1.31236228e-01],\n",
       "         [-1.31236228e-01,  1.75047737e+00, -1.31236228e-01, ...,\n",
       "          -1.31236228e-01, -1.31236228e-01, -1.31236228e-01]]],\n",
       "\n",
       "\n",
       "       [[[-1.31236228e-01,  1.63964230e+00, -1.31236228e-01, ...,\n",
       "           3.29495247e-01, -1.31236228e-01,  4.49632318e-01],\n",
       "         [-1.31236228e-01,  8.73614612e-01, -1.31236228e-01, ...,\n",
       "           4.14435047e-02, -1.31236228e-01, -1.31236228e-01],\n",
       "         [-1.31236228e-01,  1.79887548e+00, -1.31236228e-01, ...,\n",
       "          -1.31236228e-01, -1.31236228e-01, -1.31236228e-01],\n",
       "         [-1.31236228e-01,  1.83323295e+00, -1.31236228e-01, ...,\n",
       "           4.28391318e-02, -1.31236228e-01,  2.82510762e+00],\n",
       "         [-1.31236228e-01,  2.33572386e+00, -1.31236228e-01, ...,\n",
       "          -2.12130841e-02, -1.31236228e-01,  4.96049107e+00],\n",
       "         [-1.31236228e-01,  2.91231301e+00, -1.31236228e-01, ...,\n",
       "          -1.21800434e-01, -1.31236228e-01, -1.31236228e-01]],\n",
       "\n",
       "        [[-1.31236228e-01, -1.31236228e-01, -1.31236228e-01, ...,\n",
       "           8.94603274e-02, -1.31236228e-01,  6.10992593e+00],\n",
       "         [-1.31236228e-01,  4.75087552e-02, -1.31236228e-01, ...,\n",
       "           9.97872306e-02, -1.31236228e-01, -1.31236228e-01],\n",
       "         [-1.31236228e-01,  9.44580446e-01, -1.31236228e-01, ...,\n",
       "           1.22103236e-01, -1.31236228e-01, -1.31236228e-01],\n",
       "         [-1.31236228e-01,  8.68136234e-01, -1.31236228e-01, ...,\n",
       "           5.18988765e-02, -1.31236228e-01,  1.37874972e+00],\n",
       "         [-1.31236228e-01,  1.42011828e+00, -1.31236228e-01, ...,\n",
       "           1.59760909e-01, -1.31236228e-01,  1.37305059e+00],\n",
       "         [-1.31236228e-01,  1.98806427e+00, -1.31236228e-01, ...,\n",
       "          -1.31236228e-01, -1.31236228e-01, -1.31236228e-01]],\n",
       "\n",
       "        [[-1.31236228e-01, -1.31236228e-01, -1.31236228e-01, ...,\n",
       "          -4.33085247e-03, -1.31236228e-01,  5.02478369e+00],\n",
       "         [-1.31236228e-01, -1.31236228e-01, -1.31236228e-01, ...,\n",
       "          -1.15175760e-01, -1.31236228e-01,  9.01265352e-01],\n",
       "         [-1.31236228e-01, -8.24232867e-02, -1.31236228e-01, ...,\n",
       "           2.84063049e-01, -1.31236228e-01, -1.31236228e-01],\n",
       "         [-1.31236228e-01,  2.30422009e-01, -1.31236228e-01, ...,\n",
       "          -1.31236228e-01, -1.31236228e-01, -1.31236228e-01],\n",
       "         [-1.31236228e-01,  3.49659909e-01, -1.31236228e-01, ...,\n",
       "          -1.31236228e-01, -1.31236228e-01, -1.31236228e-01],\n",
       "         [-1.31236228e-01,  3.64893492e-01, -1.31236228e-01, ...,\n",
       "          -1.31236228e-01, -1.31236228e-01, -1.31236228e-01]],\n",
       "\n",
       "        ...,\n",
       "\n",
       "        [[-1.31236228e-01,  3.76644841e-02, -1.31236228e-01, ...,\n",
       "          -7.83336473e-02, -1.31236228e-01, -1.31236228e-01],\n",
       "         [-1.31236228e-01,  8.69608562e-01, -1.31236228e-01, ...,\n",
       "           1.33041375e-02, -1.31236228e-01, -1.31236228e-01],\n",
       "         [-1.31236228e-01,  1.49986166e+00, -1.31236228e-01, ...,\n",
       "           6.14730920e-02, -1.31236228e-01, -1.31236228e-01],\n",
       "         [-1.31236228e-01, -1.31236228e-01, -1.31236228e-01, ...,\n",
       "          -9.87927325e-02, -1.31236228e-01, -1.31236228e-01],\n",
       "         [-1.31236228e-01,  5.97578522e-01, -1.31236228e-01, ...,\n",
       "          -1.31236228e-01, -1.31236228e-01, -1.31236228e-01],\n",
       "         [-1.31236228e-01,  1.00556185e+00, -1.31236228e-01, ...,\n",
       "          -1.31236228e-01, -1.31236228e-01, -1.31236228e-01]],\n",
       "\n",
       "        [[-1.31236228e-01, -1.31236228e-01, -1.31236228e-01, ...,\n",
       "          -1.31236228e-01, -1.31236228e-01, -1.31236228e-01],\n",
       "         [-1.31236228e-01,  9.18387347e-01, -1.31236228e-01, ...,\n",
       "          -1.31236228e-01, -1.31236228e-01, -1.31236228e-01],\n",
       "         [-1.31236228e-01,  1.30582712e+00, -1.31236228e-01, ...,\n",
       "          -4.17563654e-02, -1.31236228e-01, -1.31236228e-01],\n",
       "         [-1.31236228e-01, -1.31236228e-01, -1.31236228e-01, ...,\n",
       "          -1.31236228e-01, -1.31236228e-01, -1.31236228e-01],\n",
       "         [-1.31236228e-01,  4.87890515e-01, -1.31236228e-01, ...,\n",
       "          -1.31236228e-01, -1.31236228e-01, -1.31236228e-01],\n",
       "         [-1.31236228e-01,  9.34534442e-01, -1.31236228e-01, ...,\n",
       "          -1.31236228e-01, -1.31236228e-01, -1.31236228e-01]],\n",
       "\n",
       "        [[-1.31236228e-01,  1.88416363e-01, -1.31236228e-01, ...,\n",
       "          -1.31236228e-01, -1.31236228e-01, -1.31236228e-01],\n",
       "         [-1.31236228e-01,  1.61689775e+00, -1.31236228e-01, ...,\n",
       "          -1.26593112e-01, -1.31236228e-01, -1.31236228e-01],\n",
       "         [-1.31236228e-01,  1.77291725e+00, -1.31236228e-01, ...,\n",
       "           2.87751836e-02, -1.31236228e-01, -1.31236228e-01],\n",
       "         [-1.31236228e-01,  1.22411015e-01, -1.31236228e-01, ...,\n",
       "          -1.31236228e-01, -1.31236228e-01, -1.31236228e-01],\n",
       "         [-1.31236228e-01,  1.10124180e+00, -1.31236228e-01, ...,\n",
       "          -1.31236228e-01, -1.31236228e-01, -1.31236228e-01],\n",
       "         [-1.31236228e-01,  1.36257086e+00, -1.31236228e-01, ...,\n",
       "          -1.31236228e-01, -1.31236228e-01, -1.31236228e-01]]],\n",
       "\n",
       "\n",
       "       [[[-1.31236228e-01,  2.78025323e+00, -1.31236228e-01, ...,\n",
       "           6.33996506e-02, -1.31236228e-01, -1.31236228e-01],\n",
       "         [-1.31236228e-01, -4.15412377e-03, -1.31236228e-01, ...,\n",
       "          -5.29401407e-03, -1.31236228e-01, -1.31236228e-01],\n",
       "         [-1.31236228e-01,  6.89650871e-01, -1.31236228e-01, ...,\n",
       "          -1.31236228e-01, -1.31236228e-01, -1.31236228e-01],\n",
       "         [-1.31236228e-01,  1.40770771e+00, -1.31236228e-01, ...,\n",
       "          -3.26795638e-02, -1.31236228e-01,  8.46815746e-01],\n",
       "         [-1.31236228e-01,  2.67672061e+00, -1.31236228e-01, ...,\n",
       "          -1.26702177e-01, -1.31236228e-01,  3.96532626e+00],\n",
       "         [-1.31236228e-01,  2.94136038e+00, -1.31236228e-01, ...,\n",
       "          -1.31236228e-01, -1.31236228e-01, -1.31236228e-01]],\n",
       "\n",
       "        [[-1.31236228e-01,  7.71593233e-01, -1.31236228e-01, ...,\n",
       "           3.73438382e-02, -1.31236228e-01,  2.50599301e+00],\n",
       "         [-1.31236228e-01, -1.04865087e-01, -1.31236228e-01, ...,\n",
       "           3.22946878e-01, -1.31236228e-01, -1.31236228e-01],\n",
       "         [-1.31236228e-01, -7.44839314e-02, -1.31236228e-01, ...,\n",
       "          -5.43259382e-02, -1.31236228e-01, -1.31236228e-01],\n",
       "         [-1.31236228e-01,  4.47145107e-01, -1.31236228e-01, ...,\n",
       "          -3.94715399e-02, -1.31236228e-01, -1.31236228e-01],\n",
       "         [-1.31236228e-01,  1.92190696e+00, -1.31236228e-01, ...,\n",
       "           1.18935819e-01, -1.31236228e-01,  2.86361205e-01],\n",
       "         [-1.31236228e-01,  2.06288520e+00, -1.31236228e-01, ...,\n",
       "          -1.31236228e-01, -1.31236228e-01, -1.31236228e-01]],\n",
       "\n",
       "        [[-1.31236228e-01, -1.31236228e-01, -1.31236228e-01, ...,\n",
       "           2.54321526e-03, -1.31236228e-01,  5.46207726e+00],\n",
       "         [-1.31236228e-01, -1.31236228e-01, -1.31236228e-01, ...,\n",
       "          -1.23044316e-01, -1.31236228e-01,  1.66605747e+00],\n",
       "         [-1.31236228e-01, -1.31236228e-01, -1.31236228e-01, ...,\n",
       "           2.19779372e-01, -1.31236228e-01, -1.31236228e-01],\n",
       "         [-1.31236228e-01, -1.31236228e-01, -1.31236228e-01, ...,\n",
       "          -1.31236228e-01, -1.31236228e-01, -1.31236228e-01],\n",
       "         [-1.31236228e-01,  2.91964458e-01, -1.31236228e-01, ...,\n",
       "          -1.31236228e-01, -1.31236228e-01, -1.31236228e-01],\n",
       "         [-1.31236228e-01,  2.07953103e-01, -1.31236228e-01, ...,\n",
       "          -1.31236228e-01, -1.31236228e-01, -1.31236228e-01]],\n",
       "\n",
       "        ...,\n",
       "\n",
       "        [[-1.31236228e-01, -1.31236228e-01, -1.31236228e-01, ...,\n",
       "           7.26474770e-02, -1.31236228e-01, -1.31236228e-01],\n",
       "         [-1.31236228e-01, -1.31236228e-01, -1.31236228e-01, ...,\n",
       "           1.18505566e-01, -1.31236228e-01, -1.31236228e-01],\n",
       "         [-1.31236228e-01, -2.36223847e-02, -1.31236228e-01, ...,\n",
       "          -4.30598269e-02, -1.31236228e-01, -1.31236228e-01],\n",
       "         [-1.31236228e-01, -1.31236228e-01, -1.31236228e-01, ...,\n",
       "          -1.31236228e-01, -1.31236228e-01, -1.31236228e-01],\n",
       "         [-1.31236228e-01,  1.39912405e-01, -1.31236228e-01, ...,\n",
       "          -1.31236228e-01, -1.31236228e-01, -1.31236228e-01],\n",
       "         [-1.31236228e-01,  9.89561882e-01, -1.31236228e-01, ...,\n",
       "          -1.31236228e-01, -1.31236228e-01, -1.31236228e-01]],\n",
       "\n",
       "        [[-1.31236228e-01, -1.31236228e-01, -1.31236228e-01, ...,\n",
       "          -6.98636626e-02, -1.31236228e-01, -1.31236228e-01],\n",
       "         [-1.31236228e-01, -1.31236228e-01, -1.31236228e-01, ...,\n",
       "          -9.51690809e-03, -1.31236228e-01, -1.31236228e-01],\n",
       "         [-1.31236228e-01,  2.72752162e-01, -1.31236228e-01, ...,\n",
       "          -6.94746907e-02, -1.31236228e-01, -1.31236228e-01],\n",
       "         [-1.31236228e-01, -1.31236228e-01, -1.31236228e-01, ...,\n",
       "          -1.31236228e-01, -1.31236228e-01, -1.31236228e-01],\n",
       "         [-1.31236228e-01,  6.57519272e-02, -1.31236228e-01, ...,\n",
       "          -1.31236228e-01, -1.31236228e-01, -1.31236228e-01],\n",
       "         [-1.31236228e-01,  6.28563202e-01, -1.31236228e-01, ...,\n",
       "          -1.31236228e-01, -1.31236228e-01, -1.31236228e-01]],\n",
       "\n",
       "        [[-1.31236228e-01, -1.31236228e-01, -1.31236228e-01, ...,\n",
       "          -1.31236228e-01, -1.31236228e-01, -1.31236228e-01],\n",
       "         [-1.31236228e-01, -1.28115240e-01, -1.31236228e-01, ...,\n",
       "          -1.31236228e-01, -1.31236228e-01, -1.31236228e-01],\n",
       "         [-1.31236228e-01,  1.23613904e+00, -1.31236228e-01, ...,\n",
       "          -4.04096810e-02, -1.31236228e-01, -1.31236228e-01],\n",
       "         [-1.31236228e-01,  4.63217032e-02, -1.31236228e-01, ...,\n",
       "          -1.13901518e-01, -1.31236228e-01, -1.31236228e-01],\n",
       "         [-1.31236228e-01,  7.70434426e-01, -1.31236228e-01, ...,\n",
       "          -1.31236228e-01, -1.31236228e-01, -1.31236228e-01],\n",
       "         [-1.31236228e-01,  1.10484501e+00, -1.31236228e-01, ...,\n",
       "          -1.31236228e-01, -1.31236228e-01, -1.31236228e-01]]],\n",
       "\n",
       "\n",
       "       ...,\n",
       "\n",
       "\n",
       "       [[[-1.31236228e-01, -1.31236228e-01, -1.31236228e-01, ...,\n",
       "          -1.31236228e-01, -1.31236228e-01,  8.59708448e+00],\n",
       "         [-1.31236228e-01, -1.31236228e-01, -1.31236228e-01, ...,\n",
       "          -1.31236228e-01, -1.31236228e-01,  1.22981227e+01],\n",
       "         [-1.31236228e-01, -1.31236228e-01, -1.31236228e-01, ...,\n",
       "          -1.31236228e-01, -1.31236228e-01,  9.24555228e+00],\n",
       "         [-1.31236228e-01, -1.31236228e-01, -1.31236228e-01, ...,\n",
       "           3.56129405e-02, -1.31236228e-01,  5.70243620e+00],\n",
       "         [-1.31236228e-01, -1.31236228e-01, -1.31236228e-01, ...,\n",
       "           9.13825551e-02, -1.31236228e-01,  3.73613234e+00],\n",
       "         [-1.31236228e-01,  9.93909510e-01, -1.31236228e-01, ...,\n",
       "           1.63210810e-01, -1.31236228e-01, -1.31236228e-01]],\n",
       "\n",
       "        [[-1.31236228e-01, -1.31236228e-01, -1.31236228e-01, ...,\n",
       "          -1.31236228e-01, -1.31236228e-01,  1.33372641e+01],\n",
       "         [-1.31236228e-01, -1.31236228e-01, -1.31236228e-01, ...,\n",
       "          -1.31236228e-01, -1.31236228e-01,  1.87115002e+01],\n",
       "         [-1.31236228e-01, -1.31236228e-01, -1.31236228e-01, ...,\n",
       "          -1.31236228e-01, -1.31236228e-01,  1.39054583e+01],\n",
       "         [-1.31236228e-01, -1.31236228e-01, -1.31236228e-01, ...,\n",
       "           2.31941187e-02, -1.31236228e-01,  7.13390185e+00],\n",
       "         [-1.31236228e-01, -1.31236228e-01, -1.31236228e-01, ...,\n",
       "          -4.27921408e-02, -1.31236228e-01,  3.94598294e+00],\n",
       "         [-1.31236228e-01,  1.87373895e-01, -1.31236228e-01, ...,\n",
       "          -4.85883635e-02, -1.31236228e-01, -1.31236228e-01]],\n",
       "\n",
       "        [[-1.31236228e-01, -1.31236228e-01, -1.31236228e-01, ...,\n",
       "          -1.31236228e-01, -1.31236228e-01,  8.00598834e+00],\n",
       "         [-1.31236228e-01, -1.31236228e-01, -1.31236228e-01, ...,\n",
       "          -1.31236228e-01, -1.31236228e-01,  1.28523725e+01],\n",
       "         [-1.31236228e-01, -1.31236228e-01, -1.31236228e-01, ...,\n",
       "          -1.31236228e-01, -1.31236228e-01,  9.79325424e+00],\n",
       "         [-1.31236228e-01, -1.31236228e-01, -1.31236228e-01, ...,\n",
       "           3.71275898e-02, -1.31236228e-01,  3.83367924e+00],\n",
       "         [-1.31236228e-01, -1.31236228e-01, -1.31236228e-01, ...,\n",
       "          -1.09525543e-01, -1.31236228e-01,  1.47011205e+00],\n",
       "         [-1.31236228e-01,  1.50187698e-01, -1.31236228e-01, ...,\n",
       "          -1.27734512e-01, -1.31236228e-01, -1.31236228e-01]],\n",
       "\n",
       "        ...,\n",
       "\n",
       "        [[-1.31236228e-01,  2.36631807e+00, -1.31236228e-01, ...,\n",
       "           7.08330808e-01, -1.31236228e-01, -1.31236228e-01],\n",
       "         [-1.31236228e-01,  1.27085227e+00, -1.31236228e-01, ...,\n",
       "           5.05576158e-01, -1.31236228e-01, -1.31236228e-01],\n",
       "         [-1.31236228e-01, -1.31236228e-01, -1.31236228e-01, ...,\n",
       "           4.88279546e-01, -1.31236228e-01,  3.25553146e+00],\n",
       "         [-1.31236228e-01,  1.19493897e-01, -1.31236228e-01, ...,\n",
       "           5.79326970e-01, -1.31236228e-01,  2.98970713e-01],\n",
       "         [-1.31236228e-01, -1.31236228e-01, -1.31236228e-01, ...,\n",
       "           4.06472070e-01, -1.31236228e-01, -1.31236228e-01],\n",
       "         [-1.31236228e-01, -5.70691128e-02, -1.31236228e-01, ...,\n",
       "          -1.31236228e-01, -1.31236228e-01, -1.31236228e-01]],\n",
       "\n",
       "        [[-1.31236228e-01,  2.27241367e+00, -1.31236228e-01, ...,\n",
       "           2.81725225e-01, -1.31236228e-01, -1.31236228e-01],\n",
       "         [-1.31236228e-01,  1.06094983e+00, -1.31236228e-01, ...,\n",
       "           3.71733508e-01, -1.31236228e-01,  1.60781848e-01],\n",
       "         [-1.31236228e-01, -1.31236228e-01, -1.31236228e-01, ...,\n",
       "           5.13965675e-01, -1.31236228e-01,  1.10834421e+01],\n",
       "         [-1.31236228e-01,  1.07608034e+00, -1.31236228e-01, ...,\n",
       "           6.34859184e-01, -1.31236228e-01,  2.86543751e+00],\n",
       "         [-1.31236228e-01, -1.31236228e-01, -1.31236228e-01, ...,\n",
       "           1.92528991e-01, -1.31236228e-01, -1.31236228e-01],\n",
       "         [-1.31236228e-01,  7.07633779e-01, -1.31236228e-01, ...,\n",
       "          -1.31236228e-01, -1.31236228e-01, -1.31236228e-01]],\n",
       "\n",
       "        [[-1.31236228e-01,  1.85607227e+00, -1.31236228e-01, ...,\n",
       "          -2.87447630e-02, -1.31236228e-01, -1.31236228e-01],\n",
       "         [-1.31236228e-01,  4.51955957e-01, -1.31236228e-01, ...,\n",
       "           8.57392095e-02, -1.31236228e-01, -1.31236228e-01],\n",
       "         [-1.31236228e-01, -1.13954954e-01, -1.31236228e-01, ...,\n",
       "           3.31921134e-01, -1.31236228e-01,  5.72527690e+00],\n",
       "         [-1.31236228e-01,  2.11408560e+00, -1.31236228e-01, ...,\n",
       "           4.87738117e-01, -1.31236228e-01, -9.66280531e-02],\n",
       "         [-1.31236228e-01,  3.88029205e-01, -1.31236228e-01, ...,\n",
       "           1.10898299e-01, -1.31236228e-01, -1.31236228e-01],\n",
       "         [-1.31236228e-01,  1.63071367e+00, -1.31236228e-01, ...,\n",
       "          -1.31236228e-01, -1.31236228e-01, -1.31236228e-01]]],\n",
       "\n",
       "\n",
       "       [[[-1.31236228e-01, -1.31236228e-01, -1.31236228e-01, ...,\n",
       "          -1.31236228e-01, -1.31236228e-01,  1.15493520e+01],\n",
       "         [-1.31236228e-01, -1.31236228e-01, -1.31236228e-01, ...,\n",
       "          -1.31236228e-01, -1.31236228e-01,  1.52520040e+01],\n",
       "         [-1.31236228e-01, -1.31236228e-01, -1.31236228e-01, ...,\n",
       "          -1.31236228e-01, -1.31236228e-01,  1.58757597e+01],\n",
       "         [-1.31236228e-01, -1.31236228e-01, -1.31236228e-01, ...,\n",
       "          -1.31236228e-01, -1.31236228e-01,  1.50675992e+01],\n",
       "         [-1.31236228e-01, -1.31236228e-01, -1.31236228e-01, ...,\n",
       "          -1.31236228e-01, -1.31236228e-01,  1.36548989e+01],\n",
       "         [-1.31236228e-01,  1.10272085e+00, -1.31236228e-01, ...,\n",
       "           4.44291965e-01, -1.31236228e-01, -1.31236228e-01]],\n",
       "\n",
       "        [[-1.31236228e-01, -1.31236228e-01, -1.31236228e-01, ...,\n",
       "          -1.31236228e-01, -1.31236228e-01,  1.63289956e+01],\n",
       "         [-1.31236228e-01, -1.31236228e-01, -1.31236228e-01, ...,\n",
       "          -1.31236228e-01, -1.31236228e-01,  2.32779847e+01],\n",
       "         [-1.31236228e-01, -1.31236228e-01, -1.31236228e-01, ...,\n",
       "          -1.31236228e-01, -1.31236228e-01,  2.38269390e+01],\n",
       "         [-1.31236228e-01, -1.31236228e-01, -1.31236228e-01, ...,\n",
       "          -1.31236228e-01, -1.31236228e-01,  1.84389463e+01],\n",
       "         [-1.31236228e-01, -1.31236228e-01, -1.31236228e-01, ...,\n",
       "          -1.31236228e-01, -1.31236228e-01,  1.43296195e+01],\n",
       "         [-1.31236228e-01,  6.37565954e-01, -1.31236228e-01, ...,\n",
       "           1.50847286e-01, -1.31236228e-01, -1.31236228e-01]],\n",
       "\n",
       "        [[-1.31236228e-01, -1.31236228e-01, -1.31236228e-01, ...,\n",
       "          -3.60126866e-02, -1.31236228e-01,  6.40950741e+00],\n",
       "         [-1.31236228e-01, -1.31236228e-01, -1.31236228e-01, ...,\n",
       "          -1.31236228e-01, -1.31236228e-01,  1.56313264e+01],\n",
       "         [-1.31236228e-01, -1.31236228e-01, -1.31236228e-01, ...,\n",
       "          -1.31236228e-01, -1.31236228e-01,  1.66524522e+01],\n",
       "         [-1.31236228e-01, -1.31236228e-01, -1.31236228e-01, ...,\n",
       "          -1.31236228e-01, -1.31236228e-01,  8.53482551e+00],\n",
       "         [-1.31236228e-01, -1.31236228e-01, -1.31236228e-01, ...,\n",
       "          -1.31236228e-01, -1.31236228e-01,  3.01809094e+00],\n",
       "         [-1.31236228e-01,  2.63787854e-01, -1.31236228e-01, ...,\n",
       "           6.17170679e-02, -1.31236228e-01, -1.31236228e-01]],\n",
       "\n",
       "        ...,\n",
       "\n",
       "        [[-1.31236228e-01,  2.86013721e+00, -1.31236228e-01, ...,\n",
       "           2.82272899e-01, -1.31236228e-01, -1.31236228e-01],\n",
       "         [-1.31236228e-01,  2.88911402e-01, -1.31236228e-01, ...,\n",
       "           4.04771577e-02, -1.31236228e-01, -1.31236228e-01],\n",
       "         [-1.31236228e-01, -1.31236228e-01, -1.31236228e-01, ...,\n",
       "           3.94315552e-01, -1.31236228e-01,  5.05686528e-02],\n",
       "         [-1.31236228e-01,  2.21643336e-01, -1.31236228e-01, ...,\n",
       "           5.16471465e-01, -1.31236228e-01, -1.31236228e-01],\n",
       "         [-1.31236228e-01, -1.31236228e-01, -1.31236228e-01, ...,\n",
       "           2.41240520e-01, -1.31236228e-01, -1.31236228e-01],\n",
       "         [-1.31236228e-01, -1.20512873e-01, -1.31236228e-01, ...,\n",
       "          -1.31236228e-01, -1.31236228e-01, -1.31236228e-01]],\n",
       "\n",
       "        [[-1.31236228e-01,  3.29462358e+00, -1.31236228e-01, ...,\n",
       "           3.64376692e-02, -1.31236228e-01, -1.31236228e-01],\n",
       "         [-1.31236228e-01,  4.45538959e-01, -1.31236228e-01, ...,\n",
       "          -1.31236228e-01, -1.31236228e-01, -1.31236228e-01],\n",
       "         [-1.31236228e-01, -1.31236228e-01, -1.31236228e-01, ...,\n",
       "           3.68118875e-01, -1.31236228e-01,  9.38785290e+00],\n",
       "         [-1.31236228e-01,  1.77102080e+00, -1.31236228e-01, ...,\n",
       "           4.31987913e-01, -1.31236228e-01,  1.81568476e+00],\n",
       "         [-1.31236228e-01, -1.31236228e-01, -1.31236228e-01, ...,\n",
       "           8.30897305e-02, -1.31236228e-01, -1.31236228e-01],\n",
       "         [-1.31236228e-01,  4.60826208e-01, -1.31236228e-01, ...,\n",
       "          -1.31236228e-01, -1.31236228e-01, -1.31236228e-01]],\n",
       "\n",
       "        [[-1.31236228e-01,  2.68754969e+00, -1.31236228e-01, ...,\n",
       "          -1.31236228e-01, -1.31236228e-01, -1.31236228e-01],\n",
       "         [-1.31236228e-01,  3.84852152e-01, -1.31236228e-01, ...,\n",
       "          -5.63945388e-02, -1.31236228e-01, -1.31236228e-01],\n",
       "         [-1.31236228e-01, -1.94250055e-02, -1.31236228e-01, ...,\n",
       "           3.65959152e-01, -1.31236228e-01,  6.92302438e+00],\n",
       "         [-1.31236228e-01,  2.68078340e+00, -1.31236228e-01, ...,\n",
       "           3.33881916e-01, -1.31236228e-01,  3.90797863e-01],\n",
       "         [-1.31236228e-01,  3.25617055e-01, -1.31236228e-01, ...,\n",
       "           3.99207741e-02, -1.31236228e-01, -1.31236228e-01],\n",
       "         [-1.31236228e-01,  1.63570454e+00, -1.31236228e-01, ...,\n",
       "          -1.31236228e-01, -1.31236228e-01, -1.31236228e-01]]],\n",
       "\n",
       "\n",
       "       [[[-1.31236228e-01,  1.86140553e-01, -1.31236228e-01, ...,\n",
       "           3.16023193e-01, -1.31236228e-01,  5.76224273e+00],\n",
       "         [-1.31236228e-01, -1.31236228e-01, -1.31236228e-01, ...,\n",
       "           1.18324608e-01, -1.31236228e-01,  8.05178776e+00],\n",
       "         [-1.31236228e-01, -1.31236228e-01, -1.31236228e-01, ...,\n",
       "          -1.31236228e-01, -1.31236228e-01,  7.81852954e+00],\n",
       "         [-1.31236228e-01, -1.31236228e-01, -1.31236228e-01, ...,\n",
       "          -1.31236228e-01, -1.31236228e-01,  7.46994702e+00],\n",
       "         [-1.31236228e-01, -1.31236228e-01, -1.31236228e-01, ...,\n",
       "          -1.31236228e-01, -1.31236228e-01,  7.76539390e+00],\n",
       "         [-1.31236228e-01,  1.59967043e+00, -1.31236228e-01, ...,\n",
       "           6.93322120e-01, -1.31236228e-01, -1.31236228e-01]],\n",
       "\n",
       "        [[-1.31236228e-01, -7.74136695e-02, -1.31236228e-01, ...,\n",
       "           1.29285867e-01, -1.31236228e-01,  5.94929078e+00],\n",
       "         [-1.31236228e-01, -1.31236228e-01, -1.31236228e-01, ...,\n",
       "          -6.99063560e-02, -1.31236228e-01,  9.37876723e+00],\n",
       "         [-1.31236228e-01, -1.31236228e-01, -1.31236228e-01, ...,\n",
       "          -1.31236228e-01, -1.31236228e-01,  9.05339850e+00],\n",
       "         [-1.31236228e-01, -1.31236228e-01, -1.31236228e-01, ...,\n",
       "          -1.31236228e-01, -1.31236228e-01,  7.11852440e+00],\n",
       "         [-1.31236228e-01, -1.31236228e-01, -1.31236228e-01, ...,\n",
       "          -1.31236228e-01, -1.31236228e-01,  6.93060263e+00],\n",
       "         [-1.31236228e-01,  1.36898391e+00, -1.31236228e-01, ...,\n",
       "           4.50578909e-01, -1.31236228e-01, -1.31236228e-01]],\n",
       "\n",
       "        [[-1.31236228e-01, -1.31236228e-01, -1.31236228e-01, ...,\n",
       "          -3.84344386e-02, -1.31236228e-01,  8.26130462e-01],\n",
       "         [-1.31236228e-01, -1.31236228e-01, -1.31236228e-01, ...,\n",
       "          -1.31236228e-01, -1.31236228e-01,  3.02187379e+00],\n",
       "         [-1.31236228e-01, -1.31236228e-01, -1.31236228e-01, ...,\n",
       "          -1.31236228e-01, -1.31236228e-01,  2.42101586e+00],\n",
       "         [-1.31236228e-01, -1.31236228e-01, -1.31236228e-01, ...,\n",
       "          -1.31236228e-01, -1.31236228e-01,  1.20572108e+00],\n",
       "         [-1.31236228e-01, -1.31236228e-01, -1.31236228e-01, ...,\n",
       "          -1.31236228e-01, -1.31236228e-01, -1.31236228e-01],\n",
       "         [-1.31236228e-01,  1.15723272e+00, -1.31236228e-01, ...,\n",
       "           2.41834925e-01, -1.31236228e-01, -1.31236228e-01]],\n",
       "\n",
       "        ...,\n",
       "\n",
       "        [[-1.31236228e-01,  2.94957635e+00, -1.31236228e-01, ...,\n",
       "           2.99184027e-01, -1.31236228e-01, -1.31236228e-01],\n",
       "         [-1.31236228e-01,  6.15467806e-02, -1.31236228e-01, ...,\n",
       "           7.21461873e-02, -1.31236228e-01, -1.31236228e-01],\n",
       "         [-1.31236228e-01,  2.92659597e-02, -1.31236228e-01, ...,\n",
       "           3.25508059e-01, -1.31236228e-01, -1.31236228e-01],\n",
       "         [-1.31236228e-01,  1.10477597e+00, -1.31236228e-01, ...,\n",
       "           3.74492186e-01, -1.31236228e-01, -1.31236228e-01],\n",
       "         [-1.31236228e-01, -1.31236228e-01, -1.31236228e-01, ...,\n",
       "           3.53688680e-01, -1.31236228e-01, -1.31236228e-01],\n",
       "         [-1.31236228e-01,  5.90237592e-01, -1.31236228e-01, ...,\n",
       "          -1.31236228e-01, -1.31236228e-01, -1.31236228e-01]],\n",
       "\n",
       "        [[-1.31236228e-01,  3.36447385e+00, -1.31236228e-01, ...,\n",
       "           4.50053667e-02, -1.31236228e-01, -1.31236228e-01],\n",
       "         [-1.31236228e-01,  1.36207826e-01, -1.31236228e-01, ...,\n",
       "          -3.39922755e-02, -1.31236228e-01, -1.31236228e-01],\n",
       "         [-1.31236228e-01, -1.31236228e-01, -1.31236228e-01, ...,\n",
       "           4.33064997e-01, -1.31236228e-01,  2.24494678e+00],\n",
       "         [-1.31236228e-01,  2.48027179e+00, -1.31236228e-01, ...,\n",
       "           4.46746536e-01, -1.31236228e-01, -1.31236228e-01],\n",
       "         [-1.31236228e-01, -1.31236228e-01, -1.31236228e-01, ...,\n",
       "          -6.13933823e-03, -1.31236228e-01, -1.31236228e-01],\n",
       "         [-1.31236228e-01,  1.18425510e+00, -1.31236228e-01, ...,\n",
       "          -1.31236228e-01, -1.31236228e-01, -1.31236228e-01]],\n",
       "\n",
       "        [[-1.31236228e-01,  3.11697151e+00, -1.31236228e-01, ...,\n",
       "           8.62078380e-03, -1.31236228e-01, -1.31236228e-01],\n",
       "         [-1.31236228e-01,  6.33041636e-01, -1.31236228e-01, ...,\n",
       "           9.34470915e-02, -1.31236228e-01, -1.31236228e-01],\n",
       "         [-1.31236228e-01,  3.44810301e-01, -1.31236228e-01, ...,\n",
       "           6.52870400e-01, -1.31236228e-01,  3.25599945e+00],\n",
       "         [-1.31236228e-01,  3.13384081e+00, -1.31236228e-01, ...,\n",
       "           4.56602670e-01, -1.31236228e-01, -1.31236228e-01],\n",
       "         [-1.31236228e-01,  7.16907936e-01, -1.31236228e-01, ...,\n",
       "           3.33091515e-02, -1.31236228e-01, -1.31236228e-01],\n",
       "         [-1.31236228e-01,  2.05375710e+00, -1.31236228e-01, ...,\n",
       "          -7.28638019e-02, -1.31236228e-01, -1.31236228e-01]]]])"
      ]
     },
     "execution_count": 484,
     "metadata": {},
     "output_type": "execute_result"
    }
   ],
   "source": [
    "contrib_sample[f_num]"
   ]
  },
  {
   "cell_type": "code",
   "execution_count": null,
   "metadata": {
    "collapsed": true
   },
   "outputs": [],
   "source": [
    "f_num = 2\n",
    "[dy[f_num][i] - dy[f_num][i-1] for i in range(1,len(dy[f_num]))]"
   ]
  },
  {
   "cell_type": "code",
   "execution_count": null,
   "metadata": {
    "collapsed": true
   },
   "outputs": [],
   "source": [
    "dy[0]"
   ]
  },
  {
   "cell_type": "code",
   "execution_count": 500,
   "metadata": {},
   "outputs": [
    {
     "data": {
      "text/plain": [
       "26"
      ]
     },
     "execution_count": 500,
     "metadata": {},
     "output_type": "execute_result"
    }
   ],
   "source": []
  },
  {
   "cell_type": "code",
   "execution_count": 361,
   "metadata": {},
   "outputs": [],
   "source": [
    "sal_map = get_saliency_map(W, test_neurons, num_rel_f)\n",
    "z_f = np.empty((num_rel_f, 6))\n",
    "for f_num in range(num_rel_f):\n",
    "    contrib_sample = np.transpose(np.tile(sal_map[f_num], (128,1,1,1)), (1,2,3,0)) + test_neurons\n",
    "    #print(all_features[relevant_features[f_num]])\n",
    "    z_f[f_num] = model_conv3_input.predict(np.expand_dims(contrib_sample,0)) - z_actual"
   ]
  },
  {
   "cell_type": "code",
   "execution_count": 388,
   "metadata": {},
   "outputs": [],
   "source": [
    "noise = np.random.normal(size=(1000,*test_neurons.shape))"
   ]
  },
  {
   "cell_type": "code",
   "execution_count": 389,
   "metadata": {
    "collapsed": true
   },
   "outputs": [],
   "source": [
    "z_base = model_conv3_input.predict(noise)"
   ]
  },
  {
   "cell_type": "code",
   "execution_count": 366,
   "metadata": {
    "collapsed": true
   },
   "outputs": [],
   "source": [
    "z_base = model_conv3_input.predict(np.expand_dims(np.ones(test_neurons.shape),0))"
   ]
  },
  {
   "cell_type": "code",
   "execution_count": 397,
   "metadata": {},
   "outputs": [],
   "source": [
    "z_base = z_base.mean(0)"
   ]
  },
  {
   "cell_type": "code",
   "execution_count": 398,
   "metadata": {},
   "outputs": [],
   "source": [
    "Z = np.concatenate((z_f, np.expand_dims(z_base,0)))"
   ]
  },
  {
   "cell_type": "code",
   "execution_count": 400,
   "metadata": {},
   "outputs": [
    {
     "data": {
      "text/plain": [
       "(4, 6)"
      ]
     },
     "execution_count": 400,
     "metadata": {},
     "output_type": "execute_result"
    }
   ],
   "source": [
    "W = Z.shape"
   ]
  },
  {
   "cell_type": "code",
   "execution_count": 362,
   "metadata": {
    "scrolled": true
   },
   "outputs": [
    {
     "data": {
      "text/plain": [
       "array([[-3.15560436,  0.9448576 , -1.96781707, -0.67129517, -2.05151415,\n",
       "         2.70983791],\n",
       "       [-1.69611597, -0.05921125, -1.89745355,  0.80170631, -2.63591051,\n",
       "         1.83641386],\n",
       "       [-1.55328608,  0.75187254, -1.75524974, -0.0799427 , -1.24825335,\n",
       "         1.33727264]])"
      ]
     },
     "execution_count": 362,
     "metadata": {},
     "output_type": "execute_result"
    }
   ],
   "source": [
    "z_f"
   ]
  },
  {
   "cell_type": "code",
   "execution_count": null,
   "metadata": {
    "collapsed": true
   },
   "outputs": [],
   "source": [
    "model_conv3_input.predict(np.expand_dims(test_neurons,0))"
   ]
  },
  {
   "cell_type": "code",
   "execution_count": 318,
   "metadata": {},
   "outputs": [
    {
     "data": {
      "text/plain": [
       "['hcc', 'cholangio', 'colorectal', 'cyst', 'hemangioma', 'fnh']"
      ]
     },
     "execution_count": 318,
     "metadata": {},
     "output_type": "execute_result"
    }
   ],
   "source": [
    "C.classes_to_include"
   ]
  },
  {
   "cell_type": "code",
   "execution_count": null,
   "metadata": {
    "collapsed": true
   },
   "outputs": [],
   "source": []
  }
 ],
 "metadata": {
  "kernelspec": {
   "display_name": "Python 3",
   "language": "python",
   "name": "python3"
  },
  "language_info": {
   "codemirror_mode": {
    "name": "ipython",
    "version": 3
   },
   "file_extension": ".py",
   "mimetype": "text/x-python",
   "name": "python",
   "nbconvert_exporter": "python",
   "pygments_lexer": "ipython3",
   "version": "3.5.0"
  }
 },
 "nbformat": 4,
 "nbformat_minor": 2
}
