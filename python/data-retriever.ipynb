{
 "cells": [
  {
   "cell_type": "markdown",
   "metadata": {
    "heading_collapsed": true
   },
   "source": [
    "### Imports"
   ]
  },
  {
   "cell_type": "code",
   "execution_count": 408,
   "metadata": {
    "ExecuteTime": {
     "end_time": "2018-05-20T17:54:08.881661Z",
     "start_time": "2018-05-20T17:54:08.820499Z"
    },
    "hidden": true,
    "scrolled": false
   },
   "outputs": [],
   "source": [
    "import copy\n",
    "import glob\n",
    "import importlib\n",
    "import math\n",
    "import operator\n",
    "import os\n",
    "import shutil\n",
    "import time\n",
    "from math import ceil, floor\n",
    "from os.path import *\n",
    "\n",
    "import matplotlib.pyplot as plt\n",
    "import numpy as np\n",
    "import pandas as pd\n",
    "import scipy.ndimage.morphology\n",
    "import skimage.measure\n",
    "\n",
    "import config\n",
    "import dr_methods as drm\n",
    "import niftiutils.helper_fxns as hf\n",
    "import niftiutils.masks as masks\n",
    "import niftiutils.registration as reg\n",
    "import niftiutils.transforms as tr\n",
    "import niftiutils.visualization as vis\n",
    "import voi_methods as vm\n",
    "\n",
    "%matplotlib inline\n",
    "np.set_printoptions(3)"
   ]
  },
  {
   "cell_type": "code",
   "execution_count": 2,
   "metadata": {
    "ExecuteTime": {
     "end_time": "2018-05-18T03:56:22.246299Z",
     "start_time": "2018-05-18T03:56:22.240280Z"
    },
    "collapsed": true,
    "hidden": true
   },
   "outputs": [],
   "source": [
    "importlib.reload(config)\n",
    "importlib.reload(hf)\n",
    "importlib.reload(vm)\n",
    "importlib.reload(drm)\n",
    "C = config.Config(\"etiology\")"
   ]
  },
  {
   "cell_type": "markdown",
   "metadata": {
    "collapsed": true,
    "hidden": true
   },
   "source": [
    "for sheet in C.sheetnames:\n",
    "    src_data_df = pd.read_excel(C.xls_name, sheet)\n",
    "    a = []\n",
    "    for _, row in src_data_df.iterrows():\n",
    "        a.append(row[\"z2\"] - row[\"z1\"])\n",
    "    print(np.median(a) / C.lesion_ratio)"
   ]
  },
  {
   "cell_type": "markdown",
   "metadata": {},
   "source": [
    "# Generate data"
   ]
  },
  {
   "cell_type": "code",
   "execution_count": 33,
   "metadata": {
    "ExecuteTime": {
     "end_time": "2018-04-12T20:54:48.216817Z",
     "start_time": "2018-04-12T20:54:48.212799Z"
    },
    "collapsed": true
   },
   "outputs": [],
   "source": [
    "def sort_by_series_num(arr):\n",
    "    return sorted(arr, key=lambda x: int(x[x.rfind(\"_\")+1:]))\n",
    "\n",
    "def semiauto_rename_phases(lesion_dir):\n",
    "    for accnum in glob.glob(join(lesion_dir, \"*\")):\n",
    "        fnames = [join(accnum, x) for x in C.phases]\n",
    "        if np.all([exists(fnames[i]) for i in range(len(fnames))]):\n",
    "            continue\n",
    "\n",
    "        #PRE = [x for x in os.listdir(accnum) if \"pre\" in x] #(\"vibe\" in x or \"axial abd\" in x) and \n",
    "        #if len(PRE) > 1:\n",
    "        #    PRE = [x for x in PRE if \"reg\" in x]\n",
    "\n",
    "        DCE = [x for x in os.listdir(accnum) if (\"vibe\" in x or \"dynamic\" in x) and \"post\" in x and \"sub\" not in x]\n",
    "        if len(DCE) > 0:\n",
    "            DCE = sort_by_series_num([x for x in DCE if \"min\" not in x])\n",
    "        else:\n",
    "            DCE = [x for x in os.listdir(accnum) if \"art\" in x and \"reg\" in x] + \\\n",
    "                    [x for x in os.listdir(accnum) if (\"port\" in x or \"pv\" in x) and \"reg\" in x] + \\\n",
    "                    [x for x in os.listdir(accnum) if \"equ\" in x and \"reg\" in x]\n",
    "        if len(DCE) == 0:\n",
    "            DCE = [x for x in os.listdir(accnum) if \"ART\" in x] + \\\n",
    "                    [x for x in os.listdir(accnum) if \"PV\" in x] + \\\n",
    "                    [x for x in os.listdir(accnum) if \"DL\" in x]\n",
    "        if len(DCE) < 3: #len(PRE) == 0 or \n",
    "            continue\n",
    "\n",
    "        print(accnum, DCE[0], DCE[1], DCE[2], sep=\"\\n\") #sort_by_series_num(PRE)[-1], \n",
    "        correct = input()\n",
    "        if correct == \"0\":\n",
    "            for i in range(len(C.phases)):\n",
    "                os.rename(join(accnum, DCE[i]), join(accnum, C.phases[i]))\n",
    "        elif correct == \"q\":\n",
    "            return\n",
    "        else:\n",
    "            continue"
   ]
  },
  {
   "cell_type": "code",
   "execution_count": 157,
   "metadata": {
    "ExecuteTime": {
     "end_time": "2018-05-19T01:58:57.579093Z",
     "start_time": "2018-05-19T01:58:57.570070Z"
    },
    "collapsed": true
   },
   "outputs": [],
   "source": [
    "importlib.reload(drm)\n",
    "accnum_xls_path = r\"C:\\Users\\Clinton\\Box\\Rad-Etiology Correlation\\hklc_master.xlsx\"\n",
    "drm.build_coords_df(accnum_xls_path)"
   ]
  },
  {
   "cell_type": "code",
   "execution_count": null,
   "metadata": {
    "ExecuteTime": {
     "end_time": "2018-04-12T19:47:59.067261Z",
     "start_time": "2018-04-12T19:47:59.045201Z"
    },
    "collapsed": true
   },
   "outputs": [],
   "source": [
    "drm.report_missing_folders()"
   ]
  },
  {
   "cell_type": "code",
   "execution_count": 24,
   "metadata": {
    "ExecuteTime": {
     "end_time": "2018-05-18T04:12:39.777953Z",
     "start_time": "2018-05-18T04:12:39.773940Z"
    }
   },
   "outputs": [],
   "source": [
    "voi_df_art = voi_df_art[(voi_df_art['real_dx'] > 0) & (voi_df_art['real_dy'] > 0) & (voi_df_art['real_dz'] > 0)]"
   ]
  },
  {
   "cell_type": "code",
   "execution_count": 27,
   "metadata": {
    "ExecuteTime": {
     "end_time": "2018-05-18T04:13:08.176369Z",
     "start_time": "2018-05-18T04:13:08.165338Z"
    },
    "collapsed": true
   },
   "outputs": [],
   "source": [
    "voi_df_art.to_csv(C.art_voi_path)"
   ]
  },
  {
   "cell_type": "code",
   "execution_count": null,
   "metadata": {
    "ExecuteTime": {
     "end_time": "2018-05-18T04:09:22.936336Z",
     "start_time": "2018-05-18T04:09:22.869131Z"
    },
    "collapsed": true
   },
   "outputs": [],
   "source": [
    "for cat in C.sheetnames:\n",
    "    print(len(dfs[cat]))\n",
    "    dfs[cat] = dfs[cat][(dfs[cat]['dx']>0) & (dfs[cat]['dy']>0) & (dfs[cat]['dz']>0)]\n",
    "    print(len(dfs[cat]))"
   ]
  },
  {
   "cell_type": "code",
   "execution_count": null,
   "metadata": {
    "ExecuteTime": {
     "end_time": "2018-05-17T15:46:24.718401Z",
     "start_time": "2018-05-17T15:46:21.171057Z"
    },
    "collapsed": true
   },
   "outputs": [],
   "source": [
    "load_dir = join(C.dcm_dirs[0], \"4090578\")\n",
    "art, D = hf.dcm_load(join(load_dir, C.phases[0]))\n",
    "ven, E = hf.dcm_load(join(load_dir, C.phases[1]))\n",
    "eq = hf.dcm_load(join(load_dir, C.phases[2]))[0]\n",
    "\n",
    "art.shape, ven.shape, eq.shape"
   ]
  },
  {
   "cell_type": "code",
   "execution_count": 536,
   "metadata": {
    "ExecuteTime": {
     "end_time": "2018-05-21T00:29:13.779094Z",
     "start_time": "2018-05-21T00:29:10.927196Z"
    },
    "collapsed": true
   },
   "outputs": [],
   "source": [
    "hf.split_dcm(join(load_dir, C.phases[2]))\n",
    "shutil.rmtree(join(load_dir, C.phases[1]))\n",
    "shutil.rmtree(join(load_dir, C.phases[2]))\n",
    "shutil.rmtree(join(load_dir, C.phases[2])+\"_bin0\")\n",
    "os.rename(join(load_dir, C.phases[2])+\"_bin1\", join(load_dir, C.phases[1]))\n",
    "os.rename(join(load_dir, C.phases[2])+\"_bin2\", join(load_dir, C.phases[2]))"
   ]
  },
  {
   "cell_type": "code",
   "execution_count": 537,
   "metadata": {
    "ExecuteTime": {
     "end_time": "2018-05-21T00:29:14.092914Z",
     "start_time": "2018-05-21T00:29:14.088932Z"
    },
    "scrolled": true
   },
   "outputs": [
    {
     "name": "stdout",
     "output_type": "stream",
     "text": [
      "D:\\Etiology\\Imaging\\4457722\n"
     ]
    }
   ],
   "source": [
    "print(load_dir)"
   ]
  },
  {
   "cell_type": "code",
   "execution_count": 851,
   "metadata": {
    "ExecuteTime": {
     "end_time": "2018-05-17T15:46:27.562898Z",
     "start_time": "2018-05-17T15:46:26.802539Z"
    },
    "collapsed": true
   },
   "outputs": [],
   "source": [
    "art = tr.rescale_img(art, E, D)\n",
    "eq = tr.rescale_img(eq, E, D)\n",
    "\n",
    "importlib.reload(hf)\n",
    "hf.create_dicom(art, join(load_dir, C.phases[0]), E, True)\n",
    "hf.create_dicom(eq, join(load_dir, C.phases[2]), E, True)"
   ]
  },
  {
   "cell_type": "code",
   "execution_count": 369,
   "metadata": {
    "ExecuteTime": {
     "end_time": "2018-05-20T03:16:10.036664Z",
     "start_time": "2018-05-20T03:04:52.365175Z"
    },
    "scrolled": true
   },
   "outputs": [
    {
     "name": "stdout",
     "output_type": "stream",
     "text": [
      "HBV\n",
      ".......HCV\n",
      "........................Nonviral\n",
      "................"
     ]
    }
   ],
   "source": [
    "importlib.reload(drm)\n",
    "drm.build_coords_df(accnum_xls_path, overwrite=True)"
   ]
  },
  {
   "cell_type": "code",
   "execution_count": 381,
   "metadata": {
    "ExecuteTime": {
     "end_time": "2018-05-20T14:55:32.208712Z",
     "start_time": "2018-05-20T14:55:24.978353Z"
    },
    "collapsed": true
   },
   "outputs": [],
   "source": [
    "importlib.reload(drm)\n",
    "drm.dcm2npy_batch(None, ['5205315'], overwrite=True)"
   ]
  },
  {
   "cell_type": "code",
   "execution_count": 383,
   "metadata": {
    "ExecuteTime": {
     "end_time": "2018-05-20T14:55:55.536720Z",
     "start_time": "2018-05-20T14:55:55.141839Z"
    }
   },
   "outputs": [],
   "source": [
    "drm.check_dims_df()"
   ]
  },
  {
   "cell_type": "code",
   "execution_count": 384,
   "metadata": {
    "ExecuteTime": {
     "end_time": "2018-05-20T14:57:37.032649Z",
     "start_time": "2018-05-20T14:57:29.161410Z"
    }
   },
   "outputs": [
    {
     "name": "stdout",
     "output_type": "stream",
     "text": [
      "................................................"
     ]
    }
   ],
   "source": [
    "importlib.reload(drm)\n",
    "drm.load_vois_batch(overwrite=True)"
   ]
  },
  {
   "cell_type": "code",
   "execution_count": 401,
   "metadata": {
    "ExecuteTime": {
     "end_time": "2018-05-20T17:53:11.473612Z",
     "start_time": "2018-05-20T17:53:11.470603Z"
    },
    "collapsed": true
   },
   "outputs": [],
   "source": [
    "import copy"
   ]
  },
  {
   "cell_type": "code",
   "execution_count": 406,
   "metadata": {
    "ExecuteTime": {
     "end_time": "2018-05-20T17:53:56.239854Z",
     "start_time": "2018-05-20T17:53:56.236820Z"
    },
    "collapsed": true
   },
   "outputs": [],
   "source": [
    "min_dims = C.dims"
   ]
  },
  {
   "cell_type": "code",
   "execution_count": 410,
   "metadata": {
    "ExecuteTime": {
     "end_time": "2018-05-20T17:54:22.351999Z",
     "start_time": "2018-05-20T17:54:22.348962Z"
    },
    "collapsed": true
   },
   "outputs": [],
   "source": [
    "side_padding = math.ceil(max(xpad, ypad, zpad) / 2)"
   ]
  },
  {
   "cell_type": "code",
   "execution_count": 452,
   "metadata": {
    "ExecuteTime": {
     "end_time": "2018-05-20T20:08:31.857237Z",
     "start_time": "2018-05-20T20:08:31.850212Z"
    },
    "collapsed": true
   },
   "outputs": [],
   "source": [
    "dims_df.to_csv(C.dims_df_path)"
   ]
  },
  {
   "cell_type": "code",
   "execution_count": 535,
   "metadata": {
    "ExecuteTime": {
     "end_time": "2018-05-21T00:28:59.679048Z",
     "start_time": "2018-05-21T00:28:59.676008Z"
    }
   },
   "outputs": [],
   "source": [
    "load_dir = join(C.dcm_dirs[0], accnum)"
   ]
  },
  {
   "cell_type": "code",
   "execution_count": 538,
   "metadata": {
    "ExecuteTime": {
     "end_time": "2018-05-21T00:30:34.391362Z",
     "start_time": "2018-05-21T00:30:18.084353Z"
    },
    "scrolled": true
   },
   "outputs": [],
   "source": [
    "importlib.reload(drm)\n",
    "accnum = \"4457722\"\n",
    "drm.dcm2npy_batch(accnums=[accnum], overwrite=True, downsample=2)\n",
    "#drm.load_vois_batch(accnums=[\"993310\"], overwrite=True)"
   ]
  },
  {
   "cell_type": "code",
   "execution_count": 506,
   "metadata": {
    "ExecuteTime": {
     "end_time": "2018-05-20T21:15:25.648458Z",
     "start_time": "2018-05-20T21:15:25.621881Z"
    }
   },
   "outputs": [
    {
     "data": {
      "text/plain": [
       "(128, 108, 120, 3)"
      ]
     },
     "execution_count": 506,
     "metadata": {},
     "output_type": "execute_result"
    }
   ],
   "source": [
    "I = np.load(join(C.full_img_dir, \"HCV\", accnum+\".npy\"))\n",
    "I.shape"
   ]
  },
  {
   "cell_type": "code",
   "execution_count": 539,
   "metadata": {
    "ExecuteTime": {
     "end_time": "2018-05-21T00:39:34.960586Z",
     "start_time": "2018-05-21T00:30:34.495963Z"
    },
    "scrolled": false
   },
   "outputs": [
    {
     "name": "stdout",
     "output_type": "stream",
     "text": [
      ".."
     ]
    }
   ],
   "source": [
    "importlib.reload(vm)\n",
    "vm.extract_vois()"
   ]
  },
  {
   "cell_type": "code",
   "execution_count": null,
   "metadata": {
    "ExecuteTime": {
     "end_time": "2018-05-20T20:41:55.422979Z",
     "start_time": "2018-05-20T20:41:55.405961Z"
    },
    "collapsed": true
   },
   "outputs": [],
   "source": [
    "voi_df_art = drm.get_voi_dfs()[0]\n",
    "voi_df_art.loc[accnum+\"_0\"]"
   ]
  },
  {
   "cell_type": "code",
   "execution_count": 469,
   "metadata": {
    "ExecuteTime": {
     "end_time": "2018-05-20T20:33:58.520752Z",
     "start_time": "2018-05-20T20:33:58.275039Z"
    }
   },
   "outputs": [
    {
     "data": {
      "image/png": "[encoded data removed]",
      "text/plain": [
       "<matplotlib.figure.Figure at 0x23020792390>"
      ]
     },
     "metadata": {},
     "output_type": "display_data"
    }
   ],
   "source": [
    "vis.draw_slices(I)"
   ]
  },
  {
   "cell_type": "code",
   "execution_count": 518,
   "metadata": {
    "ExecuteTime": {
     "end_time": "2018-05-20T21:26:35.906809Z",
     "start_time": "2018-05-20T21:26:35.879737Z"
    },
    "collapsed": true
   },
   "outputs": [],
   "source": [
    "voi_df_art = drm.get_voi_dfs()[0]\n",
    "voi_df_art = voi_df_art[(voi_df_art[\"real_dx\"] < 50) & (voi_df_art[\"real_dy\"] < 50) & (voi_df_art[\"real_dz\"] < 50)]\n",
    "voi_df_art.to_csv(C.art_voi_path)"
   ]
  },
  {
   "cell_type": "code",
   "execution_count": 509,
   "metadata": {
    "ExecuteTime": {
     "end_time": "2018-05-20T21:25:15.321866Z",
     "start_time": "2018-05-20T21:25:15.308805Z"
    },
    "collapsed": true
   },
   "outputs": [],
   "source": [
    "voi_df_art = drm.get_voi_dfs()[0]\n",
    "#voi_df_art = voi_df_art[(voi_df_art[\"real_dx\"] > 0) & (voi_df_art[\"real_dy\"] > 0) & (voi_df_art[\"real_dz\"] > 0)]\n",
    "#voi_df_art = voi_df_art[(voi_df_art[\"x1\"] > 0) & (voi_df_art[\"y1\"] > 0) & (voi_df_art[\"z1\"] > 0)]\n",
    "#voi_df_art.to_csv(C.art_voi_path)"
   ]
  },
  {
   "cell_type": "code",
   "execution_count": null,
   "metadata": {
    "collapsed": true
   },
   "outputs": [],
   "source": []
  },
  {
   "cell_type": "code",
   "execution_count": 313,
   "metadata": {
    "ExecuteTime": {
     "end_time": "2018-05-19T16:42:12.115094Z",
     "start_time": "2018-05-19T16:42:12.109079Z"
    },
    "collapsed": true
   },
   "outputs": [],
   "source": [
    "cls = \"HBV\"\n",
    "I_path = glob.glob(join(C.full_img_dir, cls, \"*\"))[0]\n",
    "cI_path = glob.glob(join(C.crops_dir, cls, \"*\"))[0]\n",
    "lesion_id = basename(fn)[:-4]\n",
    "accnum = lesion_id[:lesion_id.find('_')]\n",
    "load_dir = join(C.dcm_dirs[0], accnum)"
   ]
  },
  {
   "cell_type": "code",
   "execution_count": 255,
   "metadata": {
    "ExecuteTime": {
     "end_time": "2018-05-19T16:06:37.433509Z",
     "start_time": "2018-05-19T16:06:37.428469Z"
    },
    "collapsed": true
   },
   "outputs": [],
   "source": [
    "dims_df = pd.read_csv(C.dims_df_path, index_col=0)\n",
    "D = dims_df.loc[int(accnum)].values"
   ]
  },
  {
   "cell_type": "code",
   "execution_count": 301,
   "metadata": {
    "ExecuteTime": {
     "end_time": "2018-05-19T16:22:36.439116Z",
     "start_time": "2018-05-19T16:22:33.662813Z"
    },
    "collapsed": true
   },
   "outputs": [],
   "source": [
    "off_path = join(load_dir, \"Segs\", \"tumor_20s.off\")\n",
    "masks.off2ids(off_path)\n",
    "\n",
    "importlib.reload(masks)\n",
    "M_path = glob.glob(join(load_dir, \"Segs\", \"*_0.ids\"))[0]"
   ]
  },
  {
   "cell_type": "code",
   "execution_count": null,
   "metadata": {
    "ExecuteTime": {
     "end_time": "2018-05-19T16:49:04.219800Z",
     "start_time": "2018-05-19T16:49:04.202784Z"
    },
    "collapsed": true
   },
   "outputs": [],
   "source": [
    "voi_df_art = drm.get_voi_dfs()[0]\n",
    "voi_df_art[(voi_df_art[\"accnum\"] == accnum)]"
   ]
  },
  {
   "cell_type": "code",
   "execution_count": null,
   "metadata": {
    "ExecuteTime": {
     "end_time": "2018-05-19T16:48:15.372580Z",
     "start_time": "2018-05-19T16:48:11.687299Z"
    },
    "collapsed": true
   },
   "outputs": [],
   "source": [
    "importlib.reload(vm)\n",
    "vm.extract_vois(None, [accnum], overwrite=True)"
   ]
  },
  {
   "cell_type": "code",
   "execution_count": 314,
   "metadata": {
    "ExecuteTime": {
     "end_time": "2018-05-19T16:42:27.191401Z",
     "start_time": "2018-05-19T16:42:18.622093Z"
    }
   },
   "outputs": [],
   "source": [
    "I = np.load(I_path)"
   ]
  },
  {
   "cell_type": "code",
   "execution_count": 349,
   "metadata": {
    "ExecuteTime": {
     "end_time": "2018-05-19T16:51:17.202740Z",
     "start_time": "2018-05-19T16:51:17.188705Z"
    },
    "collapsed": true
   },
   "outputs": [],
   "source": [
    "cI = np.load(cI_path)"
   ]
  },
  {
   "cell_type": "code",
   "execution_count": 294,
   "metadata": {
    "ExecuteTime": {
     "end_time": "2018-05-19T16:20:14.929624Z",
     "start_time": "2018-05-19T16:20:12.920263Z"
    }
   },
   "outputs": [],
   "source": [
    "importlib.reload(masks)\n",
    "M=masks.crop_img_to_mask_vicinity(join(load_dir, 'T1_20s'), M_path, padding=.5, add_mask_cont=True)"
   ]
  },
  {
   "cell_type": "code",
   "execution_count": 346,
   "metadata": {
    "ExecuteTime": {
     "end_time": "2018-05-19T16:48:31.035389Z",
     "start_time": "2018-05-19T16:48:31.030353Z"
    },
    "collapsed": true
   },
   "outputs": [],
   "source": [
    "small_voi_df = pd.read_csv(C.small_voi_path, index_col=0)\n",
    "small_voi_df[\"accnum\"] = small_voi_df[\"accnum\"].astype(str)"
   ]
  },
  {
   "cell_type": "code",
   "execution_count": null,
   "metadata": {
    "ExecuteTime": {
     "end_time": "2018-05-19T16:48:31.378458Z",
     "start_time": "2018-05-19T16:48:31.373446Z"
    },
    "collapsed": true
   },
   "outputs": [],
   "source": [
    "small_voi_df.loc[lesion_id]"
   ]
  },
  {
   "cell_type": "code",
   "execution_count": null,
   "metadata": {
    "ExecuteTime": {
     "end_time": "2018-05-19T21:55:16.269024Z",
     "start_time": "2018-05-19T16:54:53.479610Z"
    },
    "collapsed": true
   },
   "outputs": [],
   "source": [
    "importlib.reload(drm)\n",
    "drm.off2ids_batch(accnum_xls_path)"
   ]
  },
  {
   "cell_type": "code",
   "execution_count": 237,
   "metadata": {
    "ExecuteTime": {
     "end_time": "2018-05-19T15:47:53.419399Z",
     "start_time": "2018-05-19T15:47:50.221040Z"
    }
   },
   "outputs": [],
   "source": [
    "masks.create_dcm_with_mask(join(load_dir, 'T1_20s'), M_path, \"D:\\\\Test\", overwrite=True)"
   ]
  },
  {
   "cell_type": "code",
   "execution_count": null,
   "metadata": {
    "ExecuteTime": {
     "end_time": "2018-05-01T21:02:24.373881Z",
     "start_time": "2018-05-01T21:02:19.589670Z"
    },
    "collapsed": true
   },
   "outputs": [],
   "source": [
    "importlib.reload(vm)\n",
    "[vm.reset_accnum(x) for x in [\"12807018\"]];"
   ]
  },
  {
   "cell_type": "markdown",
   "metadata": {
    "ExecuteTime": {
     "end_time": "2018-04-17T16:32:42.107390Z",
     "start_time": "2018-04-17T16:31:40.510382Z"
    }
   },
   "source": [
    "vm.reload_accnum('hcc', ['E100793044', '13216353', 'E101892543', '13278054', 'E101779513', 'E101686218'], augment=True, overwrite=True)"
   ]
  },
  {
   "cell_type": "code",
   "execution_count": 100,
   "metadata": {
    "ExecuteTime": {
     "end_time": "2018-04-17T18:24:09.500544Z",
     "start_time": "2018-04-17T18:24:09.496533Z"
    },
    "collapsed": true
   },
   "outputs": [],
   "source": [
    "small_voi_df = pd.read_csv(C.small_voi_path)\n",
    "small_voi_df[small_voi_df[\"acc_num\"] == \"E101779513\"]"
   ]
  },
  {
   "cell_type": "code",
   "execution_count": null,
   "metadata": {
    "ExecuteTime": {
     "end_time": "2018-05-17T16:50:24.156137Z",
     "start_time": "2018-05-17T16:50:23.705853Z"
    },
    "collapsed": true
   },
   "outputs": [],
   "source": [
    "importlib.reload(vm)\n",
    "#vm.extract_vois()#cls=\"abscess\")\n",
    "vm.save_unaugmented_set()\n",
    "vm.save_augmented_set()\n",
    "#vm.parallel_augment(num_cores=3)#, overwrite=100)"
   ]
  },
  {
   "cell_type": "code",
   "execution_count": 919,
   "metadata": {
    "ExecuteTime": {
     "end_time": "2018-05-17T19:18:55.252357Z",
     "start_time": "2018-05-17T19:18:55.238322Z"
    },
    "collapsed": true
   },
   "outputs": [],
   "source": [
    "voi_df_art, voi_df_ven, voi_df_eq = drm.get_voi_dfs()"
   ]
  },
  {
   "cell_type": "code",
   "execution_count": null,
   "metadata": {
    "ExecuteTime": {
     "end_time": "2018-05-17T19:17:47.172617Z",
     "start_time": "2018-05-17T19:17:46.777260Z"
    },
    "collapsed": true
   },
   "outputs": [],
   "source": [
    "importlib.reload(vm)\n",
    "vm.xref_dirs_with_excel()"
   ]
  },
  {
   "cell_type": "code",
   "execution_count": 3,
   "metadata": {
    "ExecuteTime": {
     "end_time": "2018-04-26T02:53:13.308393Z",
     "start_time": "2018-04-26T02:53:13.304381Z"
    },
    "collapsed": true
   },
   "outputs": [],
   "source": [
    "Z_reader = ['E103312835_1','12823036_0','12569915_0','E102093118_0','E102782525_0','12799652_0','E100894274_0','12874178_3','E100314676_0','12842070_0','13092836_2','12239783_0','12783467_0','13092966_0','E100962970_0','E100183257_1','E102634440_0','E106182827_0','12582632_0','E100121654_0','E100407633_0','E105310461_0','12788616_0','E101225606_0','12678910_1','E101083458_1','12324408_0','13031955_0','E101415263_0','E103192914_0','12888679_2','E106096969_0','E100192709_1','13112385_1','E100718398_0','12207268_0','E105244287_0','E102095465_0','E102613189_0','12961059_0','11907521_0','E105311123_0','12552705_0','E100610622_0','12975280_0','E105918926_0','E103020139_1','E101069048_1','E105427046_0','13028374_0','E100262351_0','12302576_0','12451831_0','E102929168_0','E100383453_0','E105344747_0','12569826_0','E100168661_0','12530153_0','E104697262_0']"
   ]
  },
  {
   "cell_type": "code",
   "execution_count": 5,
   "metadata": {
    "ExecuteTime": {
     "end_time": "2018-04-26T02:55:55.754096Z",
     "start_time": "2018-04-26T02:55:55.263505Z"
    },
    "collapsed": true,
    "scrolled": true
   },
   "outputs": [],
   "source": [
    "importlib.reload(vm)\n",
    "vm.save_vois_as_imgs(save_dir=\"D:\\\\Paula-project\\\\screenshots\\\\small\", separate_by_cls=True)\n",
    "vm.save_imgs_with_bbox(save_dir=\"D:\\\\Paula-project\\\\screenshots\\\\large\", separate_by_cls=True)"
   ]
  },
  {
   "cell_type": "code",
   "execution_count": null,
   "metadata": {
    "collapsed": true
   },
   "outputs": [],
   "source": [
    "voi_df_art[voi_df_art['id'].str.contains('2424_2')]\n",
    "#voi_df_art[voi_df_art.index.str.contains('9185_0')]"
   ]
  },
  {
   "cell_type": "code",
   "execution_count": 109,
   "metadata": {
    "collapsed": true
   },
   "outputs": [],
   "source": [
    "d=[]\n",
    "for i in range(6):\n",
    "    df = pd.read_excel('Z:\\\\Prototype1e.xlsx', sheetname=C.sheetnames[i])\n",
    "    d.append(df[df['Run'] <= 2]['Diameter'].values)\n",
    "d = np.concatenate(d)\n",
    "np.std(d)"
   ]
  },
  {
   "cell_type": "markdown",
   "metadata": {
    "heading_collapsed": true
   },
   "source": [
    "# Plotting"
   ]
  },
  {
   "cell_type": "code",
   "execution_count": 12,
   "metadata": {
    "ExecuteTime": {
     "end_time": "2018-05-13T16:36:32.301138Z",
     "start_time": "2018-05-13T16:36:32.298109Z"
    },
    "collapsed": true,
    "hidden": true
   },
   "outputs": [],
   "source": [
    "Z = [\"12569826_2\", \"E103354676_1\", \"E100459207_2\", \"13010227_0\", \"13003974_0\", \"12874178_0\"]"
   ]
  },
  {
   "cell_type": "code",
   "execution_count": null,
   "metadata": {
    "collapsed": true,
    "hidden": true
   },
   "outputs": [],
   "source": [
    "vm.save_imgs_with_bbox(Z)"
   ]
  },
  {
   "cell_type": "code",
   "execution_count": 29,
   "metadata": {
    "ExecuteTime": {
     "end_time": "2018-05-02T04:02:13.060177Z",
     "start_time": "2018-05-02T04:01:27.058755Z"
    },
    "collapsed": true,
    "hidden": true
   },
   "outputs": [],
   "source": [
    "drm.dcm2npy_batch(acc_nums=[\"13216353\"], overwrite=True)"
   ]
  },
  {
   "cell_type": "code",
   "execution_count": 37,
   "metadata": {
    "ExecuteTime": {
     "end_time": "2018-05-02T04:08:01.334608Z",
     "start_time": "2018-05-02T04:07:48.800451Z"
    },
    "hidden": true,
    "scrolled": true
   },
   "outputs": [
    {
     "name": "stdout",
     "output_type": "stream",
     "text": [
      "."
     ]
    }
   ],
   "source": [
    "vm.reset_accnum(\"13216353\")"
   ]
  },
  {
   "cell_type": "code",
   "execution_count": 3,
   "metadata": {
    "ExecuteTime": {
     "end_time": "2018-05-13T16:35:11.952656Z",
     "start_time": "2018-05-13T16:35:11.941623Z"
    },
    "collapsed": true,
    "hidden": true
   },
   "outputs": [],
   "source": [
    "voi_df_art, voi_df_ven, voi_df_eq = drm.get_voi_dfs()"
   ]
  },
  {
   "cell_type": "code",
   "execution_count": 11,
   "metadata": {
    "ExecuteTime": {
     "end_time": "2018-05-13T16:36:25.070201Z",
     "start_time": "2018-05-13T16:36:25.058143Z"
    },
    "hidden": true
   },
   "outputs": [
    {
     "data": {
      "text/html": [
       "<div>\n",
       "<style>\n",
       "    .dataframe thead tr:only-child th {\n",
       "        text-align: right;\n",
       "    }\n",
       "\n",
       "    .dataframe thead th {\n",
       "        text-align: left;\n",
       "    }\n",
       "\n",
       "    .dataframe tbody tr th {\n",
       "        vertical-align: top;\n",
       "    }\n",
       "</style>\n",
       "<table border=\"1\" class=\"dataframe\">\n",
       "  <thead>\n",
       "    <tr style=\"text-align: right;\">\n",
       "      <th></th>\n",
       "      <th>acc_num</th>\n",
       "      <th>x1</th>\n",
       "      <th>x2</th>\n",
       "      <th>y1</th>\n",
       "      <th>y2</th>\n",
       "      <th>z1</th>\n",
       "      <th>z2</th>\n",
       "      <th>cls</th>\n",
       "      <th>real_dx</th>\n",
       "      <th>real_dy</th>\n",
       "      <th>real_dz</th>\n",
       "      <th>run_num</th>\n",
       "    </tr>\n",
       "  </thead>\n",
       "  <tbody>\n",
       "    <tr>\n",
       "      <th>12874178_0</th>\n",
       "      <td>12874178</td>\n",
       "      <td>49</td>\n",
       "      <td>80</td>\n",
       "      <td>81</td>\n",
       "      <td>109</td>\n",
       "      <td>44</td>\n",
       "      <td>65</td>\n",
       "      <td>hemangioma</td>\n",
       "      <td>45.208335</td>\n",
       "      <td>40.833334</td>\n",
       "      <td>63.0</td>\n",
       "      <td>1</td>\n",
       "    </tr>\n",
       "    <tr>\n",
       "      <th>12874178_1</th>\n",
       "      <td>12874178</td>\n",
       "      <td>70</td>\n",
       "      <td>80</td>\n",
       "      <td>81</td>\n",
       "      <td>94</td>\n",
       "      <td>17</td>\n",
       "      <td>24</td>\n",
       "      <td>hemangioma</td>\n",
       "      <td>14.583334</td>\n",
       "      <td>18.958334</td>\n",
       "      <td>21.0</td>\n",
       "      <td>1</td>\n",
       "    </tr>\n",
       "    <tr>\n",
       "      <th>12874178_2</th>\n",
       "      <td>12874178</td>\n",
       "      <td>73</td>\n",
       "      <td>85</td>\n",
       "      <td>86</td>\n",
       "      <td>97</td>\n",
       "      <td>78</td>\n",
       "      <td>86</td>\n",
       "      <td>hemangioma</td>\n",
       "      <td>17.500000</td>\n",
       "      <td>16.041667</td>\n",
       "      <td>24.0</td>\n",
       "      <td>1</td>\n",
       "    </tr>\n",
       "    <tr>\n",
       "      <th>12874178_3</th>\n",
       "      <td>12874178</td>\n",
       "      <td>90</td>\n",
       "      <td>104</td>\n",
       "      <td>69</td>\n",
       "      <td>80</td>\n",
       "      <td>73</td>\n",
       "      <td>81</td>\n",
       "      <td>hemangioma</td>\n",
       "      <td>20.416667</td>\n",
       "      <td>16.041667</td>\n",
       "      <td>24.0</td>\n",
       "      <td>1</td>\n",
       "    </tr>\n",
       "  </tbody>\n",
       "</table>\n",
       "</div>"
      ],
      "text/plain": [
       "             acc_num  x1   x2  y1   y2  z1  z2         cls    real_dx  \\\n",
       "12874178_0  12874178  49   80  81  109  44  65  hemangioma  45.208335   \n",
       "12874178_1  12874178  70   80  81   94  17  24  hemangioma  14.583334   \n",
       "12874178_2  12874178  73   85  86   97  78  86  hemangioma  17.500000   \n",
       "12874178_3  12874178  90  104  69   80  73  81  hemangioma  20.416667   \n",
       "\n",
       "              real_dy  real_dz  run_num  \n",
       "12874178_0  40.833334     63.0        1  \n",
       "12874178_1  18.958334     21.0        1  \n",
       "12874178_2  16.041667     24.0        1  \n",
       "12874178_3  16.041667     24.0        1  "
      ]
     },
     "execution_count": 11,
     "metadata": {},
     "output_type": "execute_result"
    }
   ],
   "source": [
    "voi_df_art[voi_df_art[\"acc_num\"].str.startswith(\"1287\")]"
   ]
  },
  {
   "cell_type": "code",
   "execution_count": null,
   "metadata": {
    "ExecuteTime": {
     "end_time": "2018-05-01T20:52:22.309738Z",
     "start_time": "2018-05-01T20:52:22.013951Z"
    },
    "collapsed": true,
    "hidden": true
   },
   "outputs": [],
   "source": [
    "importlib.reload(drm)\n",
    "cls = \"hcc\"\n",
    "acc_num = 'E103301795'\n",
    "img = np.load(C.full_img_dir+\"\\\\\"+cls + \"\\\\\"+acc_num + \".npy\")\n",
    "vis.draw_flipped_slices(img, voi_df_art[(voi_df_art[\"acc_num\"] == acc_num) & (voi_df_art[\"cls\"] == cls)].iloc[0])\n",
    "print(np.amin(img), np.amax(img), np.mean(img))\n",
    "#hf.plot_section_auto(img)"
   ]
  },
  {
   "cell_type": "code",
   "execution_count": 61,
   "metadata": {
    "ExecuteTime": {
     "end_time": "2018-04-21T15:40:53.407366Z",
     "start_time": "2018-04-21T15:38:49.299589Z"
    },
    "hidden": true,
    "scrolled": true
   },
   "outputs": [
    {
     "name": "stdout",
     "output_type": "stream",
     "text": [
      "......."
     ]
    },
    {
     "data": {
      "text/plain": [
       "[None, None, None, None, None, None, None]"
      ]
     },
     "execution_count": 61,
     "metadata": {},
     "output_type": "execute_result"
    }
   ],
   "source": [
    "importlib.reload(vm)\n",
    "[vm.reset_accnum(x[:-2]) for x in ['13010227_0', 'E105993177_0',\n",
    " 'E100852770_0', 'E103835733_0', '12888679_0', 'E100458776_0', 'E100894274_0']]"
   ]
  },
  {
   "cell_type": "code",
   "execution_count": 38,
   "metadata": {
    "ExecuteTime": {
     "end_time": "2018-05-02T04:08:01.543681Z",
     "start_time": "2018-05-02T04:08:01.414498Z"
    },
    "hidden": true
   },
   "outputs": [
    {
     "name": "stdout",
     "output_type": "stream",
     "text": [
      "-0.9749059606481485 0.9052014807754605 -0.0664152584179922\n"
     ]
    },
    {
     "data": {
      "image/png": "[encoded data removed]",
      "text/plain": [
       "<matplotlib.figure.Figure at 0x206c9ff6eb8>"
      ]
     },
     "metadata": {},
     "output_type": "display_data"
    }
   ],
   "source": [
    "importlib.reload(vm)\n",
    "img = vm.plot_check(2, \"13216353\", normalize=[-1,1])\n",
    "print(np.amin(img), np.amax(img), np.mean(img))"
   ]
  },
  {
   "cell_type": "code",
   "execution_count": null,
   "metadata": {
    "collapsed": true,
    "hidden": true
   },
   "outputs": [],
   "source": [
    "for cls in C.classes_to_include:\n",
    "    print(cls)\n",
    "    print('\\n'.join([x[:-4] for x in os.listdir(\"E:\\\\lesion_imgs_small\\\\\"+cls)]))\n",
    "    #vm.save_vois_as_imgs(cls=cls, save_dir=\"E:\\\\lesion_imgs_small\\\\\"+cls, fn_suffix=\"\")"
   ]
  },
  {
   "cell_type": "code",
   "execution_count": 294,
   "metadata": {
    "collapsed": true,
    "hidden": true
   },
   "outputs": [],
   "source": [
    "lids = ['E106097391_0.npy', 'E104978772_1.npy', '12900535_0.npy', 'E100150242_0.npy', 'E105490014_0.npy', 'E103147618_0.npy', 'E103510187_0.npy', 'E104657225_0.npy', 'E100551966_0.npy', 'E101388602_0.npy', 'E100215900_8.npy', 'E100215900_7.npy', 'E104045692_0.npy', '13104521_0.npy', 'E100383453_0.npy', '12943286_0.npy', '12271995_0.npy', 'E102315724_0.npy', 'E104949189_0.npy', 'E100511083_1.npy', 'E101579471_0.npy', '13018986_1.npy', '13203550_8.npy', '13112385_0.npy', '12712463_0.npy', '12361082_0.npy', '13028374_0.npy', 'E103985934_1.npy', 'E100529980_0.npy', '12042703_3.npy', '12961059_0.npy', 'E105724706_2.npy', 'E100592424_2.npy', 'E103104254_0.npy', 'E104546069_0.npy', 'E101665217_1.npy', '12090000_0.npy', 'E100592424_1.npy', '12961059_1.npy', 'E105474285_0.npy', '12502068_1.npy', 'E100814791_0.npy', 'E102613189_0.npy', 'E105427046_0.npy', 'E102881031_1.npy', 'E102929168_0.npy', 'E102310482_0.npy', 'E102095465_0.npy', 'E101811299_0.npy', 'E104737273_0.npy', '12890053_0.npy', 'E100168661_1.npy', '12637865_0.npy', 'E100168661_2.npy', '12239783_0.npy', '12707781_0.npy', '12706568_1.npy', '12823036_0.npy', '12404081_0.npy', '12365693_1.npy']"
   ]
  },
  {
   "cell_type": "code",
   "execution_count": 301,
   "metadata": {
    "collapsed": true,
    "hidden": true
   },
   "outputs": [],
   "source": [
    "lids = ['13018986_1', '13203550_8', 'E100168661_1', '12706568_1', 'E104189184_0', 'E100215900_7', '12900535_0', 'E100551966_0',\n",
    "       'E102310482_0', 'E102095465_0', 'E105474285_0', 'E105724706_2']"
   ]
  },
  {
   "cell_type": "code",
   "execution_count": 32,
   "metadata": {
    "collapsed": true,
    "hidden": true
   },
   "outputs": [],
   "source": [
    "misclass_img = ['E100610622_0', '12788616_0', '13092836_2', 'E100407633_0', 'E103312835_1', 'E103020139_1']"
   ]
  },
  {
   "cell_type": "code",
   "execution_count": null,
   "metadata": {
    "collapsed": true,
    "hidden": true
   },
   "outputs": [],
   "source": [
    "vm.save_imgs_with_bbox(lesion_ids=misclass_img, save_dir=\"E:\\\\Z_test\", separate_by_cls=False)"
   ]
  },
  {
   "cell_type": "code",
   "execution_count": 8,
   "metadata": {
    "ExecuteTime": {
     "end_time": "2018-04-24T14:37:00.870441Z",
     "start_time": "2018-04-24T14:37:00.196177Z"
    },
    "collapsed": true,
    "hidden": true
   },
   "outputs": [],
   "source": [
    "importlib.reload(vm)\n",
    "save_dir = \"D:\\\\Paula-project\\\\screenshots\"\n",
    "#save_dir = \"E:\\\\lesion_imgs_small\"\n",
    "vm.save_vois_as_imgs(save_dir=save_dir, separate_by_cls=True, normalize=[-1,1])"
   ]
  },
  {
   "cell_type": "markdown",
   "metadata": {
    "heading_collapsed": true
   },
   "source": [
    "# Generate reader study samples"
   ]
  },
  {
   "cell_type": "code",
   "execution_count": 24,
   "metadata": {
    "collapsed": true,
    "hidden": true,
    "scrolled": true
   },
   "outputs": [],
   "source": [
    "voi_df_art, voi_df_ven, voi_df_eq = drm.get_voi_dfs()"
   ]
  },
  {
   "cell_type": "code",
   "execution_count": 120,
   "metadata": {
    "collapsed": true,
    "hidden": true
   },
   "outputs": [],
   "source": [
    "Z_reader = ['E103312835_1','12823036_0','12569915_0','E102093118_0','E102782525_0','12799652_0','E100894274_0','12874178_3','E100314676_0','12842070_0','13092836_2','12239783_0','12783467_0','13092966_0','E100962970_0','E100183257_1','E102634440_0','E106182827_0','12582632_0','E100121654_0','E100407633_0','E105310461_0','12788616_0','E101225606_0','12678910_1','E101083458_1','12324408_0','13031955_0','E101415263_0','E103192914_0','12888679_2','E106096969_0','E100192709_1','13112385_1','E100718398_0','12207268_0','E105244287_0','E102095465_0','E102613189_0','12961059_0','11907521_0','E105311123_0','12552705_0','E100610622_0','12975280_0','E105918926_0','E103020139_1','E101069048_1','E105427046_0','13028374_0','E100262351_0','12302576_0','12451831_0','E102929168_0','E100383453_0','E105344747_0','12569826_0','E100168661_0','12530153_0','E104697262_0']\n",
    "\n",
    "banned_accnums = [z[:z.find('_')] for z in Z_reader]\n",
    "\n",
    "voi_reader = voi_df_art[voi_df_art[\"id\"].isin(Z_reader)]#voi_df_art[voi_df_art.index.isin(Z_reader)]"
   ]
  },
  {
   "cell_type": "code",
   "execution_count": 260,
   "metadata": {
    "collapsed": true,
    "hidden": true
   },
   "outputs": [],
   "source": [
    "f_map = {}\n",
    "b_map = {}\n",
    "cls_map = {}\n",
    "\n",
    "for cls in C.classes_to_include:\n",
    "    for index, row in voi_reader[voi_reader['cls'] == cls].iterrows():\n",
    "        img_id = str(sum([row[\"x1\"], row[\"x2\"], row[\"y1\"], row[\"y2\"]])*10+row[\"z1\"])\n",
    "        acc_num = row[\"Filename\"][:-4] #row[\"acc_num\"]\n",
    "        f_map[row[\"id\"]] = img_id\n",
    "        b_map[img_id] = row[\"id\"]#acc_num\n",
    "        cls_map[row[\"id\"]] = row[\"cls\"]#acc_num\n",
    "        #if cls == \"fnh\":#img_id == \"4613\":\n",
    "        print(\"Z:\\\\DICOMs\\\\\" + cls + \"\\\\\" + acc_num, \n",
    "              row[\"x1\"], row[\"x2\"], row[\"y1\"], row[\"z1\"], \"---\", img_id)\n",
    "        try:\n",
    "            print(b_map[img_id])\n",
    "        except:\n",
    "            pass\n",
    "\n",
    "#f_map['E100199185'] = '46130'\n",
    "#b_map['4613'] = \"12678910_1\"\n",
    "#b_map['46130'] = \"E100199185_0\""
   ]
  },
  {
   "cell_type": "code",
   "execution_count": 262,
   "metadata": {
    "collapsed": true,
    "hidden": true
   },
   "outputs": [],
   "source": [
    "with open('Z:\\\\answer_key.csv', 'w', newline='') as csvfile:\n",
    "    writer = csv.writer(csvfile)\n",
    "    for k in Z_reader:\n",
    "        writer.writerow([k, f_map[k], cls_map[k]])"
   ]
  },
  {
   "cell_type": "code",
   "execution_count": null,
   "metadata": {
    "collapsed": true,
    "hidden": true
   },
   "outputs": [],
   "source": [
    "hitlist = []\n",
    "replacements = []\n",
    "\n",
    "for secret_id in ['4181', '2858', '3505', '4194', '2821', '5912', '5047'] + ['4354', '3049', '5438'] + ['46130']:#['4158', '5720', '46130', '7444']:\n",
    "    print(cls_map[b_map[secret_id]])\n",
    "    hitlist.append(b_map[secret_id])\n",
    "    replacements.append(cls_map[b_map[secret_id]])"
   ]
  },
  {
   "cell_type": "code",
   "execution_count": 165,
   "metadata": {
    "collapsed": true,
    "hidden": true
   },
   "outputs": [],
   "source": [
    "for secret_id in ['4181', '2858', '3505', '4194', '2821', '5912', '5047']:\n",
    "    base_dir = r\"Z:\\Inter-reader study\\DICOMs\"\n",
    "    shutil.move(os.path.join(base_dir, secret_id), os.path.join(base_dir, \"Unused\", secret_id))"
   ]
  },
  {
   "cell_type": "code",
   "execution_count": 33,
   "metadata": {
    "collapsed": true,
    "hidden": true
   },
   "outputs": [],
   "source": [
    "multi_accnums = [accnum for accnum, count in zip(*np.unique(list(b_map.values()), return_counts=True)) if count>1]\n",
    "print(multi_accnums)"
   ]
  },
  {
   "cell_type": "code",
   "execution_count": 276,
   "metadata": {
    "collapsed": true,
    "hidden": true
   },
   "outputs": [],
   "source": [
    "for _, row in voi_reader.iterrows():\n",
    "    cls = row[\"cls\"]\n",
    "    acc_num = str(row[\"Filename\"])[:-4]\n",
    "    for protocol in [\"T1_AP\", \"T1_VP\", \"T1_EQ\"]:\n",
    "        target_dir = os.path.join(\"Z:\\\\Inter-reader study\\\\DICOMs\\\\extras\", row['id'], protocol)\n",
    "        shutil.copytree(os.path.join(\"Z:\\\\DICOMs\", cls, acc_num, protocol), target_dir)"
   ]
  },
  {
   "cell_type": "code",
   "execution_count": null,
   "metadata": {
    "collapsed": true,
    "hidden": true
   },
   "outputs": [],
   "source": [
    "for acc_num in f_map:\n",
    "    try:\n",
    "        os.rename(os.path.join(\"Z:\\\\Inter-reader study\\\\DICOMs\", acc_num),\n",
    "                  os.path.join(\"Z:\\\\Inter-reader study\\\\DICOMs\", f_map[acc_num]))\n",
    "    except Exception as e:\n",
    "        print(acc_num, e)"
   ]
  },
  {
   "cell_type": "markdown",
   "metadata": {
    "heading_collapsed": true
   },
   "source": [
    "# Read Run Stats"
   ]
  },
  {
   "cell_type": "code",
   "execution_count": 64,
   "metadata": {
    "ExecuteTime": {
     "end_time": "2018-05-02T14:38:04.171263Z",
     "start_time": "2018-05-02T14:38:04.167253Z"
    },
    "collapsed": true,
    "hidden": true
   },
   "outputs": [],
   "source": [
    "a = ['E106158268_0','E102424706_0','12570256_0','E100574689_0','E106120112_0','E100899012_0','E103678771_0','E105095742_0','E100899012_1','13278054_0','E100834987_0','13094833_0','E102088195_1','E101554830_0','12801670_0','E100304876_1','13013150_0','12807018_0','E101449797_0','12249331_0','E101686218_0','12993437_1','E101158768_0','E101356604_0','E105124678_0','12993437_0','E100793044_0','E104587275_0','E104099161_0','E105152299_0','E102031795_1','E100623842_0','E102388865_0','E103301795_0','E100814791_0','13160747_0','E101880575_0','12248774_1','12914169_0','E101442376_0','13197011_0']"
   ]
  },
  {
   "cell_type": "code",
   "execution_count": 66,
   "metadata": {
    "ExecuteTime": {
     "end_time": "2018-05-02T14:38:35.532113Z",
     "start_time": "2018-05-02T14:38:31.656212Z"
    },
    "collapsed": true,
    "hidden": true
   },
   "outputs": [],
   "source": [
    "vm.save_vois_as_imgs(save_dir=r\"Z:\\Paula\\Screenshots\")"
   ]
  },
  {
   "cell_type": "code",
   "execution_count": 25,
   "metadata": {
    "ExecuteTime": {
     "end_time": "2018-05-15T14:26:42.298072Z",
     "start_time": "2018-05-15T14:26:39.297019Z"
    },
    "hidden": true
   },
   "outputs": [
    {
     "name": "stderr",
     "output_type": "stream",
     "text": [
      "Using TensorFlow backend.\n"
     ]
    }
   ],
   "source": [
    "import cnn_builder as cbuild\n",
    "A = cbuild._collect_unaug_data()"
   ]
  },
  {
   "cell_type": "code",
   "execution_count": null,
   "metadata": {
    "ExecuteTime": {
     "end_time": "2018-05-02T14:10:59.282173Z",
     "start_time": "2018-05-02T14:10:59.239032Z"
    },
    "collapsed": true,
    "hidden": true
   },
   "outputs": [],
   "source": [
    "df = pd.read_csv(C.run_stats_path)\n",
    "\n",
    "df = df.dropna(subset=['misclassified_test'])\n",
    "df = df.loc[:,['misclassified_test','misclassified_train']]\n",
    "#df = df.dropna()\n",
    "#b = a.iloc[0]['y_pred_raw']\n",
    "#b = hf.str_to_lists(b)\n",
    "\n",
    "mis_test = df['misclassified_train'].values\n",
    "mis_test += df['misclassified_test'].values\n",
    "\n",
    "mis_test = ''.join(mis_test)\n",
    "mis_test = mis_test.replace(' ','')\n",
    "mis_test = mis_test.replace(\"'\",\"\")\n",
    "mis_test = re.sub(r'\\]\\[', ',', mis_test)\n",
    "mis_test = mis_test.replace(\"[\",\"\")\n",
    "mis_test = mis_test.replace(\"]\",\"\")\n",
    "\n",
    "mis_test = mis_test.split(',')\n",
    "\n",
    "unique, counts = np.unique(mis_test, return_counts=True)\n",
    "\n",
    "x = dict(zip(unique, counts))\n",
    "\n",
    "sorted_x = sorted(x.items(), key=operator.itemgetter(1), reverse=True)\n",
    "sorted_x"
   ]
  },
  {
   "cell_type": "code",
   "execution_count": null,
   "metadata": {
    "ExecuteTime": {
     "end_time": "2018-05-02T14:12:28.747925Z",
     "start_time": "2018-05-02T14:12:28.726900Z"
    },
    "collapsed": true,
    "hidden": true
   },
   "outputs": [],
   "source": [
    "for z in sorted_x:\n",
    "    print(z[0],'\\t',z[1])"
   ]
  },
  {
   "cell_type": "code",
   "execution_count": 18,
   "metadata": {
    "ExecuteTime": {
     "end_time": "2018-04-24T14:42:00.707325Z",
     "start_time": "2018-04-24T14:41:59.957067Z"
    },
    "collapsed": true,
    "hidden": true
   },
   "outputs": [],
   "source": [
    "vm.save_vois_as_imgs(lesion_ids=[k for k in x if x[k]>2 and k!=\"\"], save_dir=\"Z:\\\\Paula\\\\Misclassifications\", separate_by_cls=True, normalize=[-1,1])"
   ]
  },
  {
   "cell_type": "markdown",
   "metadata": {
    "collapsed": true,
    "hidden": true,
    "scrolled": true
   },
   "source": [
    "df = pd.read_csv(C.run_stats_path)\n",
    "df = df[(df['test_num'] == 10) & (~df['time_dist']) & (df['steps_per_epoch'] == 750) & (df['timestamp'] < 1515879326)]"
   ]
  },
  {
   "cell_type": "code",
   "execution_count": 15,
   "metadata": {
    "ExecuteTime": {
     "end_time": "2018-05-15T14:21:55.831585Z",
     "start_time": "2018-05-15T14:21:55.824566Z"
    },
    "collapsed": true,
    "hidden": true
   },
   "outputs": [],
   "source": [
    "df = pd.read_csv(C.run_stats_path)"
   ]
  },
  {
   "cell_type": "code",
   "execution_count": 17,
   "metadata": {
    "ExecuteTime": {
     "end_time": "2018-05-15T14:22:08.197066Z",
     "start_time": "2018-05-15T14:22:08.194057Z"
    },
    "hidden": true
   },
   "outputs": [
    {
     "name": "stdout",
     "output_type": "stream",
     "text": [
      "D:\\Paula-project\\data\\overnight_run.csv\n"
     ]
    }
   ],
   "source": [
    "print(C.run_stats_path)"
   ]
  },
  {
   "cell_type": "code",
   "execution_count": 33,
   "metadata": {
    "ExecuteTime": {
     "end_time": "2018-05-15T14:27:53.683948Z",
     "start_time": "2018-05-15T14:27:53.680938Z"
    },
    "collapsed": true,
    "hidden": true
   },
   "outputs": [],
   "source": [
    "train_acc = [1-x.count(\"_\")/140 for x in df['misclassified_train'].values] #434"
   ]
  },
  {
   "cell_type": "code",
   "execution_count": 4,
   "metadata": {
    "ExecuteTime": {
     "end_time": "2018-05-12T15:31:12.322235Z",
     "start_time": "2018-05-12T15:31:12.300153Z"
    },
    "hidden": true
   },
   "outputs": [
    {
     "name": "stdout",
     "output_type": "stream",
     "text": [
      "695.0\t135.0\t\n",
      "55.0\t615.0\t\n"
     ]
    }
   ],
   "source": [
    "cms = df['confusion_matrix'].values\n",
    "cms = ''.join(cms)\n",
    "\n",
    "supercm = hf.str_to_lists(cms, dtype=int)\n",
    "supercm = [supercm[rownum:rownum+C.nb_classes] for rownum in range(0,len(supercm),C.nb_classes)]\n",
    "supercm = np.array(supercm)\n",
    "\n",
    "cm_sum = np.empty((C.nb_classes,C.nb_classes))\n",
    "\n",
    "for i in range(C.nb_classes):\n",
    "    for j in range(C.nb_classes):\n",
    "        cm_sum[i,j] = np.sum(supercm[:,i,j])\n",
    "\n",
    "for i in range(C.nb_classes):\n",
    "    for j in range(C.nb_classes):\n",
    "        print(cm_sum[j,i],end='\\t')\n",
    "    print()"
   ]
  },
  {
   "cell_type": "code",
   "execution_count": 7,
   "metadata": {
    "ExecuteTime": {
     "end_time": "2018-05-02T14:13:02.458326Z",
     "start_time": "2018-05-02T14:13:02.454315Z"
    },
    "hidden": true
   },
   "outputs": [
    {
     "data": {
      "text/plain": [
       "750.0"
      ]
     },
     "execution_count": 7,
     "metadata": {},
     "output_type": "execute_result"
    }
   ],
   "source": [
    "np.sum(cm_sum[0,:])"
   ]
  },
  {
   "cell_type": "code",
   "execution_count": 12,
   "metadata": {
    "ExecuteTime": {
     "end_time": "2018-05-02T14:14:47.291297Z",
     "start_time": "2018-05-02T14:14:47.287286Z"
    },
    "collapsed": true,
    "hidden": true
   },
   "outputs": [],
   "source": [
    "avg_tpr = cm_sum[0,0]/np.sum(cm_sum[0,:])\n",
    "avg_fpr = np.sum(cm_sum[1:,0])/np.sum(cm_sum[1:,:])"
   ]
  },
  {
   "cell_type": "code",
   "execution_count": 7,
   "metadata": {
    "collapsed": true,
    "hidden": true
   },
   "outputs": [],
   "source": [
    "fpr = [np.sum(cm[1:,0])/np.sum(cm[1:,:]) for cm in supercm]\n",
    "tpr = [cm[0,0]/np.sum(cm[0,:]) for cm in supercm]"
   ]
  },
  {
   "cell_type": "code",
   "execution_count": null,
   "metadata": {
    "collapsed": true,
    "hidden": true
   },
   "outputs": [],
   "source": []
  },
  {
   "cell_type": "code",
   "execution_count": 5,
   "metadata": {
    "ExecuteTime": {
     "end_time": "2018-05-12T15:31:20.592267Z",
     "start_time": "2018-05-12T15:31:20.540129Z"
    },
    "collapsed": true,
    "hidden": true
   },
   "outputs": [],
   "source": [
    "test_num = 10\n",
    "truths = df['y_true'].values\n",
    "truths = ''.join(truths)\n",
    "truths = hf.str_to_lists(truths, dtype=int)\n",
    "truths = np.array(truths)\n",
    "\n",
    "predictions = df['y_pred_raw'].values\n",
    "predictions = ''.join(predictions)\n",
    "predictions = hf.str_to_lists(predictions, dtype=float)\n",
    "predictions = [predictions[rownum:rownum+test_num] for rownum in range(0,len(predictions),test_num)]\n",
    "predictions = np.array(predictions)\n",
    "\n",
    "hcc_thresh = []\n",
    "nonhcc_thresh = []\n",
    "thresh_dict = {}\n",
    "\n",
    "for run_num in range(len(df)):\n",
    "    for lesion_num in range(test_num):\n",
    "        if truths[run_num, lesion_num] == C.classes_to_include.index('hcc'):\n",
    "            hcc_thresh.append(predictions[run_num, lesion_num, 0])\n",
    "            if predictions[run_num, lesion_num, 0] in thresh_dict:\n",
    "                thresh_dict[predictions[run_num, lesion_num, 0]+1e-6] = 'hcc'\n",
    "            else:\n",
    "                thresh_dict[predictions[run_num, lesion_num, 0]] = 'hcc'\n",
    "        else:\n",
    "            nonhcc_thresh.append(predictions[run_num, lesion_num, 0])\n",
    "            if predictions[run_num, lesion_num, 0] in thresh_dict:\n",
    "                thresh_dict[predictions[run_num, lesion_num, 0]+1e-6] = 'non-hcc'\n",
    "            else:\n",
    "                thresh_dict[predictions[run_num, lesion_num, 0]] = 'non-hcc'"
   ]
  },
  {
   "cell_type": "code",
   "execution_count": 190,
   "metadata": {
    "ExecuteTime": {
     "end_time": "2018-05-12T16:20:15.592664Z",
     "start_time": "2018-05-12T16:20:15.575620Z"
    },
    "collapsed": true,
    "hidden": true
   },
   "outputs": [],
   "source": [
    "true = len(thresh_dict)//2\n",
    "false = len(thresh_dict)//2\n",
    "TPR = [true/true]\n",
    "FPR = [false/false]\n",
    "a=0\n",
    "hcc_correct = len(thresh_dict)//2\n",
    "hcc_wrong = len(thresh_dict)//2\n",
    "for key in sorted(thresh_dict):\n",
    "    if key > minT[1]:\n",
    "        break\n",
    "    if key > minT[0]:\n",
    "        a+=1\n",
    "        if thresh_dict[key] != 'hcc':\n",
    "            hcc_wrong -= 1\n",
    "    elif thresh_dict[key] == 'hcc':\n",
    "        hcc_correct -= 1\n",
    "    else:\n",
    "        hcc_wrong -= 1\n",
    "    TPR.append(hcc_correct/true)\n",
    "    FPR.append(hcc_wrong/false)"
   ]
  },
  {
   "cell_type": "code",
   "execution_count": 189,
   "metadata": {
    "ExecuteTime": {
     "end_time": "2018-05-12T16:20:14.846187Z",
     "start_time": "2018-05-12T16:20:14.843151Z"
    },
    "collapsed": true,
    "hidden": true
   },
   "outputs": [],
   "source": [
    "minT=[.68,.99]"
   ]
  },
  {
   "cell_type": "code",
   "execution_count": 191,
   "metadata": {
    "ExecuteTime": {
     "end_time": "2018-05-12T16:20:17.160184Z",
     "start_time": "2018-05-12T16:20:17.156171Z"
    },
    "hidden": true
   },
   "outputs": [
    {
     "data": {
      "text/plain": [
       "(0.9, 0.9)"
      ]
     },
     "execution_count": 191,
     "metadata": {},
     "output_type": "execute_result"
    }
   ],
   "source": [
    "R = (1-FPR[-1], TPR[-1])\n",
    "R"
   ]
  },
  {
   "cell_type": "code",
   "execution_count": 186,
   "metadata": {
    "ExecuteTime": {
     "end_time": "2018-05-12T16:16:28.230414Z",
     "start_time": "2018-05-12T16:16:28.226404Z"
    },
    "hidden": true
   },
   "outputs": [
    {
     "data": {
      "text/plain": [
       "0.6206666666666667"
      ]
     },
     "execution_count": 186,
     "metadata": {},
     "output_type": "execute_result"
    }
   ],
   "source": [
    "a/len(thresh_dict)"
   ]
  },
  {
   "cell_type": "code",
   "execution_count": 180,
   "metadata": {
    "ExecuteTime": {
     "end_time": "2018-05-12T16:16:15.494887Z",
     "start_time": "2018-05-12T16:16:15.491851Z"
    },
    "collapsed": true,
    "hidden": true
   },
   "outputs": [],
   "source": [
    "hcc_fpos_cost = 12000\n",
    "hcc_miss_cost = 5000\n",
    "biopsy_cost = 1400"
   ]
  },
  {
   "cell_type": "code",
   "execution_count": 81,
   "metadata": {
    "ExecuteTime": {
     "end_time": "2018-05-12T15:55:21.899605Z",
     "start_time": "2018-05-12T15:55:21.896597Z"
    },
    "collapsed": true,
    "hidden": true
   },
   "outputs": [],
   "source": [
    "nonhcc_thresh = np.array(nonhcc_thresh)\n",
    "hcc_thresh = np.array(hcc_thresh)\n",
    "all_thresh = np.array(list(thresh_dict.keys()))"
   ]
  },
  {
   "cell_type": "code",
   "execution_count": 178,
   "metadata": {
    "ExecuteTime": {
     "end_time": "2018-05-12T16:15:50.727027Z",
     "start_time": "2018-05-12T16:15:50.723016Z"
    },
    "hidden": true
   },
   "outputs": [
    {
     "data": {
      "text/plain": [
       "11"
      ]
     },
     "execution_count": 178,
     "metadata": {},
     "output_type": "execute_result"
    }
   ],
   "source": [
    "(hcc_thresh < minT[0]).sum()"
   ]
  },
  {
   "cell_type": "code",
   "execution_count": 183,
   "metadata": {
    "ExecuteTime": {
     "end_time": "2018-05-12T16:16:21.744695Z",
     "start_time": "2018-05-12T16:16:21.740684Z"
    },
    "hidden": true
   },
   "outputs": [
    {
     "data": {
      "text/plain": [
       "0"
      ]
     },
     "execution_count": 183,
     "metadata": {},
     "output_type": "execute_result"
    }
   ],
   "source": [
    "(nonhcc_thresh > minT[1]).sum()"
   ]
  },
  {
   "cell_type": "code",
   "execution_count": 200,
   "metadata": {
    "ExecuteTime": {
     "end_time": "2018-05-12T16:23:51.747240Z",
     "start_time": "2018-05-12T16:23:51.740223Z"
    },
    "hidden": true
   },
   "outputs": [
    {
     "data": {
      "text/plain": [
       "(1.0, 0.0)"
      ]
     },
     "execution_count": 200,
     "metadata": {},
     "output_type": "execute_result"
    }
   ],
   "source": [
    "true_spec = (nonhcc_thresh < minT[0]).sum() / (750 - ((nonhcc_thresh < minT[1]) & (nonhcc_thresh > minT[0])).sum())\n",
    "true_sens = (hcc_thresh > minT[1]).sum() / (750 - ((hcc_thresh < minT[1]) & (hcc_thresh > minT[0])).sum())\n",
    "true_spec, true_sens"
   ]
  },
  {
   "cell_type": "code",
   "execution_count": 155,
   "metadata": {
    "ExecuteTime": {
     "end_time": "2018-05-12T16:12:38.761251Z",
     "start_time": "2018-05-12T16:12:38.757252Z"
    },
    "collapsed": true,
    "hidden": true
   },
   "outputs": [],
   "source": [
    "fun = lambda T: hcc_fpos_cost * (nonhcc_thresh > T[1]).sum() + hcc_miss_cost * (hcc_thresh < T[0]).sum() + \\\n",
    "        biopsy_cost * ((all_thresh < T[1]) & (all_thresh > T[0])).sum()"
   ]
  },
  {
   "cell_type": "code",
   "execution_count": 165,
   "metadata": {
    "ExecuteTime": {
     "end_time": "2018-05-12T16:14:17.087948Z",
     "start_time": "2018-05-12T16:14:17.084940Z"
    },
    "collapsed": true,
    "hidden": true
   },
   "outputs": [],
   "source": [
    "import math"
   ]
  },
  {
   "cell_type": "code",
   "execution_count": 198,
   "metadata": {
    "ExecuteTime": {
     "end_time": "2018-05-12T16:23:48.311452Z",
     "start_time": "2018-05-12T16:23:48.204168Z"
    },
    "hidden": true
   },
   "outputs": [
    {
     "name": "stderr",
     "output_type": "stream",
     "text": [
      "C:\\Users\\Clinton\\AppData\\Local\\conda\\conda\\envs\\old-keras\\lib\\site-packages\\ipykernel_launcher.py:3: DeprecationWarning: object of type <class 'numpy.float64'> cannot be safely interpreted as an integer.\n",
      "  This is separate from the ipykernel package so we can avoid doing imports until\n"
     ]
    }
   ],
   "source": [
    "minC=1e10\n",
    "for T1 in np.linspace(0,1,100,False):\n",
    "    for T2 in np.linspace(T1,1,(1-T1)*100+1):\n",
    "        C = fun([T1,T2])\n",
    "        if minC > C:\n",
    "            minC = C\n",
    "            minT = [T1,T2]"
   ]
  },
  {
   "cell_type": "code",
   "execution_count": 170,
   "metadata": {
    "ExecuteTime": {
     "end_time": "2018-05-12T16:14:41.337231Z",
     "start_time": "2018-05-12T16:14:41.333220Z"
    },
    "hidden": true
   },
   "outputs": [
    {
     "data": {
      "text/plain": [
       "1028000"
      ]
     },
     "execution_count": 170,
     "metadata": {},
     "output_type": "execute_result"
    }
   ],
   "source": [
    "minC"
   ]
  },
  {
   "cell_type": "code",
   "execution_count": 199,
   "metadata": {
    "ExecuteTime": {
     "end_time": "2018-05-12T16:23:49.388405Z",
     "start_time": "2018-05-12T16:23:49.385396Z"
    },
    "hidden": true
   },
   "outputs": [
    {
     "data": {
      "text/plain": [
       "[0.03, 1.0]"
      ]
     },
     "execution_count": 199,
     "metadata": {},
     "output_type": "execute_result"
    }
   ],
   "source": [
    "minT"
   ]
  },
  {
   "cell_type": "code",
   "execution_count": 93,
   "metadata": {
    "ExecuteTime": {
     "end_time": "2018-05-12T15:57:41.778833Z",
     "start_time": "2018-05-12T15:57:41.754768Z"
    },
    "hidden": true,
    "scrolled": false
   },
   "outputs": [
    {
     "data": {
      "text/plain": [
       "                        fun: 1234000\n",
       " lowest_optimization_result:       fun: 1234000\n",
       " hess_inv: array([[1, 0],\n",
       "       [0, 1]])\n",
       "      jac: array([0., 0.])\n",
       "  message: 'Optimization terminated successfully.'\n",
       "     nfev: 4\n",
       "      nit: 0\n",
       "     njev: 1\n",
       "   status: 0\n",
       "  success: True\n",
       "        x: array([0.50207778, 0.44547252])\n",
       "                    message: ['requested number of basinhopping iterations completed successfully']\n",
       "      minimization_failures: 0\n",
       "                       nfev: 428\n",
       "                        nit: 100\n",
       "                       njev: 107\n",
       "                          x: array([0.50207778, 0.44547252])"
      ]
     },
     "execution_count": 93,
     "metadata": {},
     "output_type": "execute_result"
    }
   ],
   "source": [
    "scipy.optimize.basinhopping(fun, [0,1], T=.1)"
   ]
  },
  {
   "cell_type": "code",
   "execution_count": null,
   "metadata": {
    "collapsed": true,
    "hidden": true
   },
   "outputs": [],
   "source": []
  },
  {
   "cell_type": "code",
   "execution_count": 62,
   "metadata": {
    "ExecuteTime": {
     "end_time": "2018-05-02T14:35:23.162268Z",
     "start_time": "2018-05-02T14:35:23.159260Z"
    },
    "hidden": true
   },
   "outputs": [
    {
     "data": {
      "text/plain": [
       "((0.25066666666666665, 0.9786666666666667),\n",
       " (0.18, 0.9266666666666666),\n",
       " (0.12533333333333332, 0.7893333333333333))"
      ]
     },
     "execution_count": 62,
     "metadata": {},
     "output_type": "execute_result"
    }
   ],
   "source": [
    "rates05, (avg_fpr, avg_tpr), rates95"
   ]
  },
  {
   "cell_type": "code",
   "execution_count": 13,
   "metadata": {
    "ExecuteTime": {
     "end_time": "2018-05-02T14:14:49.290510Z",
     "start_time": "2018-05-02T14:14:49.286499Z"
    },
    "hidden": true
   },
   "outputs": [
    {
     "data": {
      "text/plain": [
       "(0.18, 0.9266666666666666)"
      ]
     },
     "execution_count": 13,
     "metadata": {},
     "output_type": "execute_result"
    }
   ],
   "source": [
    "avg_fpr, avg_tpr"
   ]
  },
  {
   "cell_type": "code",
   "execution_count": 6,
   "metadata": {
    "ExecuteTime": {
     "end_time": "2018-05-04T18:13:01.264660Z",
     "start_time": "2018-05-04T18:13:01.143314Z"
    },
    "hidden": true
   },
   "outputs": [
    {
     "data": {
      "text/plain": [
       "[<matplotlib.text.Text at 0x2c9e6d03198>,\n",
       " <matplotlib.text.Text at 0x2c9e6b9da90>,\n",
       " <matplotlib.text.Text at 0x2c9e6bb1ac8>,\n",
       " <matplotlib.text.Text at 0x2c9e6be4550>,\n",
       " <matplotlib.text.Text at 0x2c9e6beba58>,\n",
       " <matplotlib.text.Text at 0x2c9e6bf3550>,\n",
       " <matplotlib.text.Text at 0x2c9e6bf7048>,\n",
       " <matplotlib.text.Text at 0x2c9e6bf7b00>]"
      ]
     },
     "execution_count": 6,
     "metadata": {},
     "output_type": "execute_result"
    },
    {
     "data": {
      "image/png": "[encoded data removed]",
      "text/plain": [
       "<matplotlib.figure.Figure at 0x2c9e6cf99e8>"
      ]
     },
     "metadata": {},
     "output_type": "display_data"
    }
   ],
   "source": [
    "plt.style.use('seaborn')\n",
    "fig, ax = plt.subplots(1,1,figsize=(6, 6))\n",
    "ax.plot(FPR, TPR, 'k', label='Model', linewidth=2)\n",
    "#ax.plot(.04, 1, 'ko', label='ModelReader', markersize=12)\n",
    "#ax.plot(0, .7, 'k^', label='RAD2', markersize=12)\n",
    "#ax.plot(0, .6, 'k ^', label='RAD1', markersize=12)\n",
    "#ax.plot(avg_fpr, avg_tpr, 'ko', label='ModelAvg', markersize=10)\n",
    "#ax.plot(rates10[0], rates10[1], 'ko', label='10%', markersize=10)\n",
    "#ax.plot(rates95[0], rates95[1], 'ko', label='90%', markersize=10)\n",
    "#ax.plot(rates05[0], rates05[1], 'ko', label='5%', markersize=10)\n",
    "#ax.plot(rates98[0], rates98[1], 'ko', label='95%', markersize=10)\n",
    "#ax.plot(fpr, tpr, 'o', ms=5)\n",
    "ax.plot([0,1], [0,1], 'k--', lw=1)\n",
    "vals = ax.get_xticks()\n",
    "ax.set_xticklabels(['{:3.0f}%'.format(x*100) for x in vals], size=20, color='k')\n",
    "vals = ax.get_yticks()\n",
    "ax.set_yticklabels(['{:3.0f}%'.format(x*100) for x in vals], size=20, color='k')\n",
    "\n",
    "#ax.xaxis.set_major_formatter(plt.FuncFormatter('{:.0f}%'.format))\n",
    "#ax.yaxis.set_major_formatter(plt.FuncFormatter('{:.0f}%'.format))"
   ]
  },
  {
   "cell_type": "code",
   "execution_count": 56,
   "metadata": {
    "hidden": true,
    "scrolled": true
   },
   "outputs": [
    {
     "data": {
      "text/plain": [
       "[<matplotlib.lines.Line2D at 0x1fcb624feb8>]"
      ]
     },
     "execution_count": 56,
     "metadata": {},
     "output_type": "execute_result"
    }
   ],
   "source": [
    "sp.plot(FPR, TPR, 'k', label='Model', linewidth=3)\n",
    "sp.plot(.1, .9, 'g^', label='Model', markersize=10)\n",
    "sp.plot(.43, 1., 'r^', label='R2', markersize=10)\n",
    "sp.plot(.67, 1., 'b^', label='R1', markersize=10)"
   ]
  },
  {
   "cell_type": "code",
   "execution_count": null,
   "metadata": {
    "collapsed": true,
    "hidden": true
   },
   "outputs": [],
   "source": []
  },
  {
   "cell_type": "code",
   "execution_count": 63,
   "metadata": {
    "ExecuteTime": {
     "end_time": "2018-05-02T14:35:52.906942Z",
     "start_time": "2018-05-02T14:35:52.902932Z"
    },
    "hidden": true
   },
   "outputs": [
    {
     "data": {
      "text/plain": [
       "0.9124888888888876"
      ]
     },
     "execution_count": 63,
     "metadata": {},
     "output_type": "execute_result"
    }
   ],
   "source": [
    "AUC = sum([(FPR[i]-FPR[i+1])*TPR[i] for i in range(len(FPR)-1)])\n",
    "AUC"
   ]
  },
  {
   "cell_type": "markdown",
   "metadata": {
    "hidden": true
   },
   "source": [
    "a = run_stats.loc[:,['y_true','y_pred_raw']]\n",
    "a = a.dropna()\n",
    "b = a.iloc[0]['y_pred_raw']\n",
    "b = hf.str_to_lists(b)"
   ]
  },
  {
   "cell_type": "markdown",
   "metadata": {
    "heading_collapsed": true
   },
   "source": [
    "# Influence analysis"
   ]
  },
  {
   "cell_type": "code",
   "execution_count": 415,
   "metadata": {
    "ExecuteTime": {
     "end_time": "2018-05-16T16:46:23.437763Z",
     "start_time": "2018-05-16T16:46:23.434756Z"
    },
    "collapsed": true,
    "hidden": true
   },
   "outputs": [],
   "source": [
    "C = config.Config(\"lirads\")"
   ]
  },
  {
   "cell_type": "code",
   "execution_count": 435,
   "metadata": {
    "ExecuteTime": {
     "end_time": "2018-05-16T18:28:33.323939Z",
     "start_time": "2018-05-16T18:28:33.307897Z"
    },
    "collapsed": true,
    "hidden": true
   },
   "outputs": [],
   "source": [
    "inf_df = pd.read_excel(r\"D:\\feature_analysis\\influence21.xlsx\")"
   ]
  },
  {
   "cell_type": "code",
   "execution_count": 419,
   "metadata": {
    "ExecuteTime": {
     "end_time": "2018-05-16T18:25:09.052257Z",
     "start_time": "2018-05-16T18:25:08.780841Z"
    },
    "collapsed": true,
    "hidden": true
   },
   "outputs": [],
   "source": [
    "DFs = hf.pickle_load(join(C.base_dir, \"data\", \"DFs4.bin\"))"
   ]
  },
  {
   "cell_type": "code",
   "execution_count": 420,
   "metadata": {
    "ExecuteTime": {
     "end_time": "2018-05-16T18:25:33.533779Z",
     "start_time": "2018-05-16T18:25:30.719000Z"
    },
    "collapsed": true,
    "hidden": true
   },
   "outputs": [],
   "source": [
    "for df in DFs:\n",
    "    for ix, row in df.iterrows():\n",
    "        if row[-7] > row[-5] + 50:# and row[-3] < 0:\n",
    "            row[-6] = np.nan\n",
    "            row[-4] = np.nan\n",
    "            row[-2] = np.nan\n",
    "        elif row[-5] > row[-3] + 25:# and row[-3] < 0:\n",
    "            row[-4] = np.nan\n",
    "            row[-2] = np.nan\n",
    "        elif row[-3] > row[-1] + 25:# and row[-1] < 0:\n",
    "            row[-2] = np.nan\n",
    "        df.loc[ix] = row"
   ]
  },
  {
   "cell_type": "code",
   "execution_count": 436,
   "metadata": {
    "ExecuteTime": {
     "end_time": "2018-05-16T18:28:37.887403Z",
     "start_time": "2018-05-16T18:28:37.882389Z"
    },
    "collapsed": true,
    "hidden": true,
    "scrolled": true
   },
   "outputs": [],
   "source": [
    "inf_df = pd.concat([inf_df, DFs[0][[\"true_cls\", \"pred_cls\"]]], axis=1, join='inner')"
   ]
  },
  {
   "cell_type": "code",
   "execution_count": 439,
   "metadata": {
    "ExecuteTime": {
     "end_time": "2018-05-16T18:46:19.056971Z",
     "start_time": "2018-05-16T18:46:19.050934Z"
    },
    "collapsed": true,
    "hidden": true
   },
   "outputs": [],
   "source": [
    "inf_df.dropna(inplace=True)"
   ]
  },
  {
   "cell_type": "code",
   "execution_count": 465,
   "metadata": {
    "ExecuteTime": {
     "end_time": "2018-05-16T18:52:42.051963Z",
     "start_time": "2018-05-16T18:52:41.866803Z"
    },
    "collapsed": true,
    "hidden": true,
    "scrolled": true
   },
   "outputs": [],
   "source": [
    "for lesion_id, row in inf_df.iterrows():\n",
    "    R = row.values[:-2]\n",
    "    den = R[R > 0].sum()\n",
    "    if den != 0:\n",
    "        R = R/den\n",
    "    else:\n",
    "        R = [np.nan]*len(R)\n",
    "    inf_df.loc[lesion_id] = list(R) + list(row.values[-2:])"
   ]
  },
  {
   "cell_type": "code",
   "execution_count": 467,
   "metadata": {
    "ExecuteTime": {
     "end_time": "2018-05-16T18:52:51.940468Z",
     "start_time": "2018-05-16T18:52:51.936457Z"
    },
    "collapsed": true,
    "hidden": true
   },
   "outputs": [],
   "source": [
    "inf_df.dropna(inplace=True)"
   ]
  },
  {
   "cell_type": "code",
   "execution_count": null,
   "metadata": {
    "ExecuteTime": {
     "end_time": "2018-05-16T19:08:31.618284Z",
     "start_time": "2018-05-16T19:08:31.607254Z"
    },
    "collapsed": true,
    "hidden": true
   },
   "outputs": [],
   "source": [
    "inf_df[inf_df > 0][inf_df[\"pred_cls\"] == \"colorectal\"].mean(0)"
   ]
  },
  {
   "cell_type": "code",
   "execution_count": 470,
   "metadata": {
    "ExecuteTime": {
     "end_time": "2018-05-16T19:04:06.397977Z",
     "start_time": "2018-05-16T19:04:06.393966Z"
    },
    "collapsed": true,
    "hidden": true
   },
   "outputs": [],
   "source": [
    "group_df = pd.DataFrame(columns=inf_df.columns[:-2])"
   ]
  },
  {
   "cell_type": "code",
   "execution_count": 484,
   "metadata": {
    "ExecuteTime": {
     "end_time": "2018-05-16T19:08:44.317502Z",
     "start_time": "2018-05-16T19:08:44.280423Z"
    },
    "collapsed": true,
    "hidden": true
   },
   "outputs": [],
   "source": [
    "for cls in np.unique(inf_df[\"pred_cls\"]):\n",
    "    group_df.loc[cls] = inf_df[inf_df > 0][inf_df[\"pred_cls\"] == cls].mean(0)"
   ]
  },
  {
   "cell_type": "code",
   "execution_count": 486,
   "metadata": {
    "ExecuteTime": {
     "end_time": "2018-05-16T19:08:54.429632Z",
     "start_time": "2018-05-16T19:08:54.405569Z"
    },
    "collapsed": true,
    "hidden": true
   },
   "outputs": [],
   "source": [
    "group_df.transpose().to_excel(r\"D:\\feature_analysis\\feature_influence.xlsx\")"
   ]
  }
 ],
 "metadata": {
  "anaconda-cloud": {},
  "kernelspec": {
   "display_name": "Python 3",
   "language": "python",
   "name": "python3"
  },
  "language_info": {
   "codemirror_mode": {
    "name": "ipython",
    "version": 3
   },
   "file_extension": ".py",
   "mimetype": "text/x-python",
   "name": "python",
   "nbconvert_exporter": "python",
   "pygments_lexer": "ipython3",
   "version": "3.5.0"
  },
  "varInspector": {
   "cols": {
    "lenName": 16,
    "lenType": 16,
    "lenVar": 40
   },
   "kernels_config": {
    "python": {
     "delete_cmd_postfix": "",
     "delete_cmd_prefix": "del ",
     "library": "var_list.py",
     "varRefreshCmd": "print(var_dic_list())"
    },
    "r": {
     "delete_cmd_postfix": ") ",
     "delete_cmd_prefix": "rm(",
     "library": "var_list.r",
     "varRefreshCmd": "cat(var_dic_list()) "
    }
   },
   "position": {
    "height": "381px",
    "left": "896.091px",
    "right": "20px",
    "top": "120px",
    "width": "350px"
   },
   "types_to_exclude": [
    "module",
    "function",
    "builtin_function_or_method",
    "instance",
    "_Feature"
   ],
   "window_display": false
  }
 },
 "nbformat": 4,
 "nbformat_minor": 1
}
