{
 "cells": [
  {
   "cell_type": "markdown",
   "metadata": {},
   "source": [
    "Retrieves images from \"raw_imgs\" folder and stores them in \"full_imgs\". Retrieves spreadsheet listing VOIs and stores them in text file."
   ]
  },
  {
   "cell_type": "markdown",
   "metadata": {},
   "source": [
    "TODO: function to read existing vois, drop one class, then load the class back in. Requires that drm.load_imgs write to a DataFrame rather than an array"
   ]
  },
  {
   "cell_type": "code",
   "execution_count": 1,
   "metadata": {
    "scrolled": false
   },
   "outputs": [],
   "source": [
    "import config\n",
    "import dr_methods as drm\n",
    "import helper_fxns as hf\n",
    "import importlib\n",
    "import matplotlib.pyplot as plt\n",
    "import numpy as np\n",
    "import os\n",
    "import pandas as pd\n",
    "import time\n",
    "import voi_methods as vm\n",
    "%matplotlib inline"
   ]
  },
  {
   "cell_type": "code",
   "execution_count": 2,
   "metadata": {
    "collapsed": true,
    "scrolled": true
   },
   "outputs": [],
   "source": [
    "importlib.reload(config)\n",
    "importlib.reload(hf)\n",
    "importlib.reload(vm)\n",
    "importlib.reload(drm)\n",
    "C = config.Config()"
   ]
  },
  {
   "cell_type": "markdown",
   "metadata": {},
   "source": [
    "# Reload images and VOIs"
   ]
  },
  {
   "cell_type": "code",
   "execution_count": null,
   "metadata": {
    "collapsed": true
   },
   "outputs": [],
   "source": [
    "drm.load_vois_all(C)"
   ]
  },
  {
   "cell_type": "code",
   "execution_count": 234,
   "metadata": {
    "collapsed": true
   },
   "outputs": [],
   "source": [
    "for cls in C.classes_to_include:\n",
    "    if not os.path.exists(C.full_img_dir + \"\\\\\" + cls):\n",
    "        os.makedirs(C.full_img_dir + \"\\\\\" + cls)\n",
    "    if not os.path.exists(C.orig_dir + cls):\n",
    "        os.makedirs(C.orig_dir + cls)\n",
    "    if not os.path.exists(C.aug_dir + cls):\n",
    "        os.makedirs(C.aug_dir + cls)\n",
    "    if not os.path.exists(C.crops_dir + cls):\n",
    "        os.makedirs(C.crops_dir + cls)"
   ]
  },
  {
   "cell_type": "code",
   "execution_count": null,
   "metadata": {
    "collapsed": true
   },
   "outputs": [],
   "source": [
    "voi_dfs = init_voi_dfs()"
   ]
  },
  {
   "cell_type": "code",
   "execution_count": null,
   "metadata": {
    "collapsed": true
   },
   "outputs": [],
   "source": [
    "#dims_df = pd.DataFrame(columns = [\"AccNum\", \"x\", \"y\", \"z\"])\n",
    "dims_df = pd.read_csv(C.dims_df_path)\n",
    "voi_df_art = pd.DataFrame(columns = [\"Filename\", \"x1\", \"x2\", \"y1\", \"y2\", \"z1\", \"z2\", \"cls\",\n",
    "                                     \"flipz\", \"real_dx\", \"real_dy\", \"real_dz\", \"id\", \"lesion_num\"])\n",
    "voi_df_ven = pd.DataFrame(columns = [\"id\", \"x1\", \"x2\", \"y1\", \"y2\", \"z1\", \"z2\"]) #voi_df_ven only contains entries where manually specified\n",
    "voi_df_eq = pd.DataFrame(columns = [\"id\", \"x1\", \"x2\", \"y1\", \"y2\", \"z1\", \"z2\"]) #voi_df_ven only contains entries where manually specified\n",
    "voi_dfs = [voi_df_art, voi_df_ven, voi_df_eq]"
   ]
  },
  {
   "cell_type": "code",
   "execution_count": null,
   "metadata": {
    "collapsed": true
   },
   "outputs": [],
   "source": [
    "voi_df_art = pd.read_csv(C.art_voi_path)\n",
    "voi_df_ven = pd.read_csv(C.ven_voi_path)\n",
    "voi_df_eq = pd.read_csv(C.eq_voi_path)\n",
    "voi_dfs = [voi_df_art, voi_df_ven, voi_df_eq]\n",
    "dims_df = pd.read_csv(C.dims_df_path)\n",
    "intensity_df = pd.read_csv(C.int_df_path)\n",
    "#intensity_df = drm.get_intensities(C, cls=\"hcc\", acc_num='E106046622')"
   ]
  },
  {
   "cell_type": "code",
   "execution_count": null,
   "metadata": {
    "collapsed": true
   },
   "outputs": [],
   "source": [
    "intensity_df = drm.get_intensities(C, cls=\"hemangioma\", acc_num='13138944')"
   ]
  },
  {
   "cell_type": "code",
   "execution_count": null,
   "metadata": {
    "collapsed": true
   },
   "outputs": [],
   "source": [
    "patient_info_df = pd.DataFrame(columns = [\"MRN\", \"Sex\", \"AccNum\", \"AgeAtImaging\", \"cls\"])\n",
    "for i in [C.sheetnames.index(x) for x in ['HCC']]:\n",
    "    #drm.check_folders(img_dirs[i], xls_name, sheetnames[i], C)\n",
    "    #dims_df = drm.load_imgs(img_dirs[i], cls_names[i], xls_name, sheetnames[i], dims_df, C)\n",
    "    #voi_dfs = drm.load_vois_batch(cls_names[i], xls_name, sheetnames[i], voi_dfs, dims_df, C)#, acc_nums=['E104764948','E106046622'])\n",
    "    #intensity_df = drm.get_intensities(C, cls=cls_names[i], acc_num='E106046622')\n",
    "    patient_info_df = drm.load_patient_info(\"Z:\\\\\"+C.img_dirs[i], C.cls_names[i], C.sheetnames[i], patient_info_df, C,\n",
    "                                           acc_nums=['12916368'])\n",
    "patient_info_df.to_csv('Z:\\\\patient_info_missing.csv', index=False)"
   ]
  },
  {
   "cell_type": "code",
   "execution_count": null,
   "metadata": {
    "collapsed": true
   },
   "outputs": [],
   "source": [
    "voi_df_art, voi_df_ven, voi_df_eq = voi_dfs\n",
    "voi_df_art.to_csv(C.art_voi_path, index=False)\n",
    "voi_df_ven.to_csv(C.ven_voi_path, index=False)\n",
    "voi_df_eq.to_csv(C.eq_voi_path, index=False)"
   ]
  },
  {
   "cell_type": "code",
   "execution_count": null,
   "metadata": {
    "collapsed": true
   },
   "outputs": [],
   "source": [
    "dims_df.to_csv(C.dims_df_path, index=False)"
   ]
  },
  {
   "cell_type": "code",
   "execution_count": null,
   "metadata": {
    "collapsed": true
   },
   "outputs": [],
   "source": [
    "#drm.delete_imgs(['12916368', 'E102556695'], 'hcc', C)\n",
    "#drm.delete_imgs(0, cls, C, xls_name, sheetname)\n",
    "drm.reload_imgs([\"1291416\"], \"hcc\", C)"
   ]
  },
  {
   "cell_type": "code",
   "execution_count": null,
   "metadata": {
    "collapsed": true
   },
   "outputs": [],
   "source": [
    "vm.xref_dirs_with_excel(C)"
   ]
  },
  {
   "cell_type": "markdown",
   "metadata": {},
   "source": [
    "# Generate cropped imgs"
   ]
  },
  {
   "cell_type": "code",
   "execution_count": null,
   "metadata": {
    "collapsed": true
   },
   "outputs": [],
   "source": [
    "for acc_num in ['1291416', '1306415', 'E103199782']:\n",
    "    vm.reload_accnum(acc_num, \"hcc\", C, augment=False, overwrite=True)"
   ]
  },
  {
   "cell_type": "code",
   "execution_count": 8,
   "metadata": {
    "collapsed": true
   },
   "outputs": [],
   "source": [
    "voi_df_art = pd.read_csv(C.art_voi_path)\n",
    "voi_df_ven = pd.read_csv(C.ven_voi_path)\n",
    "voi_df_eq = pd.read_csv(C.eq_voi_path)\n",
    "intensity_df = pd.read_csv(C.int_df_path)"
   ]
  },
  {
   "cell_type": "code",
   "execution_count": null,
   "metadata": {},
   "outputs": [
    {
     "name": "stdout",
     "output_type": "stream",
     "text": [
      ".............."
     ]
    }
   ],
   "source": [
    "small_voi_df = pd.DataFrame(columns=[\"id\", \"acc_num\", \"cls\", \"coords\"])\n",
    "small_voi_df = vm.extract_vois(small_voi_df, C, voi_df_art, voi_df_ven, voi_df_eq, debug=True)#, classes=[\"fnh\"], acc_nums=[\"E100165687\"])\n",
    "small_voi_df.to_csv(C.small_voi_path, index=False)"
   ]
  },
  {
   "cell_type": "code",
   "execution_count": null,
   "metadata": {},
   "outputs": [],
   "source": [
    "# scaled imgs\n",
    "vm.save_lesion_imgs(C)\n",
    "\n",
    "for cls in C.classes_to_include:\n",
    "    vm.save_vois_as_imgs(cls, C)"
   ]
  },
  {
   "cell_type": "code",
   "execution_count": null,
   "metadata": {
    "collapsed": true
   },
   "outputs": [],
   "source": [
    "# augmented imgs\n",
    "t = time.time()\n",
    "for cls in C.classes_to_include:\n",
    "    vm.parallel_augment(cls, small_vois, C, num_cores=3, overwrite=True)\n",
    "    print(cls, time.time()-t)"
   ]
  },
  {
   "cell_type": "markdown",
   "metadata": {},
   "source": [
    "# Plotting"
   ]
  },
  {
   "cell_type": "code",
   "execution_count": null,
   "metadata": {
    "collapsed": true
   },
   "outputs": [],
   "source": [
    "voi_df_art = pd.read_csv(C.art_voi_path)\n",
    "voi_df_art[voi_df_art[\"Filename\"] == \"11534565.npy\"]"
   ]
  },
  {
   "cell_type": "code",
   "execution_count": null,
   "metadata": {
    "collapsed": true
   },
   "outputs": [],
   "source": [
    "# can be used to determine if an image is flipped\n",
    "cls = \"cholangio\"\n",
    "acc_num = '11534565'#acc_nums[0]\n",
    "img_fn = acc_num + \".npy\"\n",
    "img = np.load(C.full_img_dir+\"\\\\\"+cls + \"\\\\\"+img_fn)\n",
    "hf.plot_slice_flips(img, voi_df_art[(voi_df_art[\"Filename\"] == img_fn) & (voi_df_art[\"cls\"] == cls)].iloc[0], flipz=\"both\", pad=10)\n",
    "print(np.amin(img), np.amax(img), np.mean(img))\n",
    "#hf.plot_section_auto(img)"
   ]
  },
  {
   "cell_type": "code",
   "execution_count": null,
   "metadata": {
    "collapsed": true
   },
   "outputs": [],
   "source": [
    "# Cropped, rescaled or augmented imgs\n",
    "img = drm.plot_check(\"cholangio\", 2, C, \"11534565\"+\"_0\")\n",
    "print(np.amin(img), np.amax(img), np.mean(img))"
   ]
  },
  {
   "cell_type": "markdown",
   "metadata": {},
   "source": [
    "# Run CNN"
   ]
  },
  {
   "cell_type": "code",
   "execution_count": null,
   "metadata": {
    "collapsed": true
   },
   "outputs": [],
   "source": [
    "import cnn_builder as cbuild\n",
    "importlib.reload(cbuild)\n",
    "cbuild.overnight_run(C)"
   ]
  },
  {
   "cell_type": "markdown",
   "metadata": {},
   "source": [
    "# Situational"
   ]
  },
  {
   "cell_type": "code",
   "execution_count": 76,
   "metadata": {
    "collapsed": true
   },
   "outputs": [],
   "source": [
    "df = pd.read_excel(xls_name, sheetname)\n",
    "df = drm.preprocess_df(df, C)\n",
    "acc_nums = list(set(df['Patient E Number'].dropna().astype(str).tolist()))"
   ]
  },
  {
   "cell_type": "code",
   "execution_count": null,
   "metadata": {
    "collapsed": true
   },
   "outputs": [],
   "source": [
    "for img_fn in sorted(set(voi_df[voi_df[\"cls\"] == \"cyst\"]['Filename'])):\n",
    "    img = np.load(\"full_imgs\\\\\"+img_fn)\n",
    "    if np.sum(img[img.shape[0]*1//5:img.shape[0]*4//5,img.shape[1]//5:img.shape[1]*2//5,:img.shape[2]//3]) > \\\n",
    "            np.sum(img[img.shape[0]*1//5:img.shape[0]*4//5,img.shape[1]//5:img.shape[1]*2//5,(img.shape[2]+1)*2//3:]):\n",
    "        print(img_fn)"
   ]
  },
  {
   "cell_type": "markdown",
   "metadata": {},
   "source": [
    "for cls in os.listdir(C.aug_dir):#classes_to_include:\n",
    "    for img_fn in os.listdir(C.aug_dir + cls):\n",
    "        if \"refl\" in img_fn:\n",
    "            os.remove(C.aug_dir + cls + \"\\\\\" + img_fn)\n",
    "\n",
    "img = img * 2 - 1\n",
    "\n",
    "for cls in C.classes_to_include:\n",
    "    fns = os.listdir(C.crops_dir + cls)\n",
    "    for fn in fns:\n",
    "        img = np.load(C.crops_dir + cls + \"\\\\\" + fn)\n",
    "        img = img * 2 - 1\n",
    "        np.save(C.crops_dir + cls + \"\\\\\" + fn, img)\n",
    "\n",
    "for cls in C.classes_to_include:\n",
    "    fns = os.listdir(C.orig_dir + cls)\n",
    "    for fn in fns:\n",
    "        img = np.load(C.orig_dir + cls + \"\\\\\" + fn)\n",
    "        img = img * 2 - 1\n",
    "        np.save(C.orig_dir + cls + \"\\\\\" + fn, img)\n",
    "\n",
    "for cls in C.classes_to_include:\n",
    "    fns = os.listdir(C.aug_dir + cls)\n",
    "    for fn in fns:\n",
    "        img = np.load(C.aug_dir + cls + \"\\\\\" + fn)\n",
    "        img = img * 2 - 1\n",
    "        np.save(C.aug_dir + cls + \"\\\\\" + fn, img)\n",
    "\n",
    "for cls in os.listdir(C.aug_dir):#classes_to_include:\n",
    "    for img_fn in os.listdir(C.aug_dir + cls):\n",
    "        if \"refl\" not in img_fn:\n",
    "            img = np.load(C.aug_dir + cls + \"\\\\\" + img_fn)\n",
    "            aug_img = tr.generate_reflected_img(img)\n",
    "            np.save(C.aug_dir + cls + \"\\\\\" + img_fn[:-4] + \"-refl\", aug_img)"
   ]
  }
 ],
 "metadata": {
  "anaconda-cloud": {},
  "kernelspec": {
   "display_name": "Python 3",
   "language": "python",
   "name": "python3"
  },
  "language_info": {
   "codemirror_mode": {
    "name": "ipython",
    "version": 3
   },
   "file_extension": ".py",
   "mimetype": "text/x-python",
   "name": "python",
   "nbconvert_exporter": "python",
   "pygments_lexer": "ipython3",
   "version": "3.5.0"
  }
 },
 "nbformat": 4,
 "nbformat_minor": 1
}
