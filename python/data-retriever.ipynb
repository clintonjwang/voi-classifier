{
 "cells": [
  {
   "cell_type": "markdown",
   "metadata": {},
   "source": [
    "### Imports"
   ]
  },
  {
   "cell_type": "code",
   "execution_count": 70,
   "metadata": {
    "ExecuteTime": {
     "end_time": "2018-07-05T04:24:00.312791Z",
     "start_time": "2018-07-05T04:24:00.278851Z"
    }
   },
   "outputs": [],
   "source": [
    "import copy\n",
    "import glob\n",
    "import importlib\n",
    "import math\n",
    "import operator\n",
    "import os\n",
    "import shutil\n",
    "import time\n",
    "import re\n",
    "from math import ceil, floor\n",
    "from os.path import *\n",
    "\n",
    "import matplotlib.pyplot as plt\n",
    "import numpy as np\n",
    "import pandas as pd\n",
    "import scipy.ndimage.morphology\n",
    "import skimage.measure\n",
    "\n",
    "import config\n",
    "import dr_methods as drm\n",
    "import niftiutils.helper_fxns as hf\n",
    "import niftiutils.masks as masks\n",
    "import niftiutils.registration as reg\n",
    "import niftiutils.transforms as tr\n",
    "import niftiutils.visualization as vis\n",
    "import voi_methods as vm\n",
    "import seg_methods as sm\n",
    "import random\n",
    "\n",
    "%matplotlib inline\n",
    "np.set_printoptions(3)"
   ]
  },
  {
   "cell_type": "code",
   "execution_count": 71,
   "metadata": {
    "ExecuteTime": {
     "end_time": "2018-07-05T04:24:01.244342Z",
     "start_time": "2018-07-05T04:24:01.223370Z"
    },
    "collapsed": true
   },
   "outputs": [],
   "source": [
    "importlib.reload(config)\n",
    "importlib.reload(hf)\n",
    "importlib.reload(vm)\n",
    "importlib.reload(drm)\n",
    "C = config.Config()"
   ]
  },
  {
   "cell_type": "code",
   "execution_count": 14,
   "metadata": {
    "ExecuteTime": {
     "end_time": "2018-07-04T13:37:42.221699Z",
     "start_time": "2018-07-04T13:37:42.210697Z"
    },
    "collapsed": true
   },
   "outputs": [],
   "source": [
    "lesion_df = drm.get_lesion_df()"
   ]
  },
  {
   "cell_type": "markdown",
   "metadata": {},
   "source": [
    "# Generate data"
   ]
  },
  {
   "cell_type": "markdown",
   "metadata": {
    "heading_collapsed": true
   },
   "source": [
    "### Load DCM"
   ]
  },
  {
   "cell_type": "code",
   "execution_count": 147,
   "metadata": {
    "ExecuteTime": {
     "end_time": "2018-07-04T02:17:44.264405Z",
     "start_time": "2018-07-04T02:17:44.258422Z"
    },
    "hidden": true
   },
   "outputs": [],
   "source": [
    "accnum = \"E102224998\"\n",
    "if hasattr(C, 'dcm_dirs'):\n",
    "    cls = 'hcv'\n",
    "    cls_num = C.cls_names.index(cls)\n",
    "    load_dir = join(C.dcm_dirs[cls_num], accnum)\n",
    "else:\n",
    "    load_dir = join(C.dcm_dir, accnum)"
   ]
  },
  {
   "cell_type": "code",
   "execution_count": null,
   "metadata": {
    "ExecuteTime": {
     "end_time": "2018-07-04T02:17:55.127135Z",
     "start_time": "2018-07-04T02:17:45.565743Z"
    },
    "collapsed": true,
    "hidden": true
   },
   "outputs": [],
   "source": [
    "importlib.reload(hf)\n",
    "art, D = hf.dcm_load(join(load_dir, C.phase_dirs[0]))#, flip_z=True)\n",
    "ven, E = hf.dcm_load(join(load_dir, C.phase_dirs[1]))\n",
    "eq, _ = hf.dcm_load(join(load_dir, C.phase_dirs[2]))#, flip_z=True)\n",
    "\n",
    "art.shape, ven.shape, eq.shape"
   ]
  },
  {
   "cell_type": "code",
   "execution_count": 143,
   "metadata": {
    "ExecuteTime": {
     "end_time": "2018-07-04T02:12:30.977794Z",
     "start_time": "2018-07-04T02:09:10.547251Z"
    },
    "hidden": true
   },
   "outputs": [],
   "source": [
    "importlib.reload(hf)\n",
    "art, D = hf.dcm_load(r\"Z:\\Sophie\\Etiologyproject\\Additional MRIs\\E104515795\\art_603\")\n",
    "ven, E = hf.dcm_load(r\"Z:\\Sophie\\Etiologyproject\\Additional MRIs\\E104515795\\pv_604\")\n",
    "eq, _ = hf.dcm_load(r\"Z:\\Sophie\\Etiologyproject\\Additional MRIs\\E104515795\\delayed_606\")"
   ]
  },
  {
   "cell_type": "code",
   "execution_count": 149,
   "metadata": {
    "ExecuteTime": {
     "end_time": "2018-07-04T02:17:57.600535Z",
     "start_time": "2018-07-04T02:17:57.596546Z"
    },
    "hidden": true
   },
   "outputs": [
    {
     "name": "stdout",
     "output_type": "stream",
     "text": [
      "Z:\\Sophie\\Etiologyproject\\Additional MRIs\\E102224998\n"
     ]
    }
   ],
   "source": [
    "print(load_dir)"
   ]
  },
  {
   "cell_type": "code",
   "execution_count": 144,
   "metadata": {
    "ExecuteTime": {
     "end_time": "2018-07-04T02:12:33.696520Z",
     "start_time": "2018-07-04T02:12:31.333383Z"
    },
    "collapsed": true,
    "hidden": true
   },
   "outputs": [],
   "source": [
    "art = np.mean(art,-1)\n",
    "ven = np.mean(ven,-1)\n",
    "eq = np.mean(eq,-1)"
   ]
  },
  {
   "cell_type": "code",
   "execution_count": 100,
   "metadata": {
    "ExecuteTime": {
     "end_time": "2018-06-14T15:32:40.769478Z",
     "start_time": "2018-06-14T15:32:39.067123Z"
    },
    "collapsed": true,
    "hidden": true
   },
   "outputs": [],
   "source": [
    "hf.save_nii(art, join(load_dir, \"nii_dir\", \"20s.nii.gz\"), D)\n",
    "hf.save_nii(ven, join(load_dir, \"nii_dir\", \"70s.nii.gz\"), D)\n",
    "hf.save_nii(eq, join(load_dir, \"nii_dir\", \"3min.nii.gz\"), D)"
   ]
  },
  {
   "cell_type": "code",
   "execution_count": 117,
   "metadata": {
    "ExecuteTime": {
     "end_time": "2018-06-14T15:41:03.984525Z",
     "start_time": "2018-06-14T15:41:01.418426Z"
    },
    "collapsed": true,
    "hidden": true
   },
   "outputs": [],
   "source": [
    "art,_ = hf.nii_load(join(load_dir, \"nii_dir\", \"20s.nii.gz\"))\n",
    "ven,_ = hf.nii_load(join(load_dir, \"nii_dir\", \"70s.nii.gz\"))\n",
    "eq,_ = hf.nii_load(join(load_dir, \"nii_dir\", \"3min.nii.gz\"))"
   ]
  },
  {
   "cell_type": "code",
   "execution_count": 119,
   "metadata": {
    "ExecuteTime": {
     "end_time": "2018-06-14T15:52:17.305851Z",
     "start_time": "2018-06-14T15:42:24.410582Z"
    },
    "collapsed": true,
    "hidden": true
   },
   "outputs": [],
   "source": [
    "accnums=[\"4750142\"]\n",
    "#load_dir = join(C.dcm_dirs[0], accnums[0])\n",
    "#masks.off2ids(join(load_dir, 'Segs', 'tumor_20s.off'), R=[2,2,3])\n",
    "importlib.reload(drm)\n",
    "drm.dcm2npy(accnums=accnums, overwrite=True)\n",
    "drm.tricolorize(accnums)\n",
    "vm.extract_seg_vois(accnums)\n",
    "vm.save_seg_set(accnums, num_cores=1)"
   ]
  },
  {
   "cell_type": "code",
   "execution_count": null,
   "metadata": {
    "ExecuteTime": {
     "end_time": "2018-06-14T15:16:11.110418Z",
     "start_time": "2018-06-14T15:16:10.586050Z"
    },
    "collapsed": true,
    "hidden": true
   },
   "outputs": [],
   "source": [
    "hf.split_dcm(join(load_dir, C.phase_dirs[2]))\n",
    "shutil.rmtree(join(load_dir, C.phase_dirs[1]))\n",
    "shutil.rmtree(join(load_dir, C.phase_dirs[2]))\n",
    "shutil.rmtree(join(load_dir, C.phase_dirs[2])+\"_bin0\")\n",
    "os.rename(join(load_dir, C.phase_dirs[2])+\"_bin1\", join(load_dir, C.phase_dirs[1]))\n",
    "os.rename(join(load_dir, C.phase_dirs[2])+\"_bin2\", join(load_dir, C.phase_dirs[2]))"
   ]
  },
  {
   "cell_type": "code",
   "execution_count": 145,
   "metadata": {
    "ExecuteTime": {
     "end_time": "2018-07-04T02:14:15.260617Z",
     "start_time": "2018-07-04T02:12:34.026579Z"
    },
    "collapsed": true,
    "hidden": true
   },
   "outputs": [],
   "source": [
    "#art = tr.rescale_img(art, E, D)\n",
    "#eq = tr.rescale_img(eq, E, D)\n",
    "\n",
    "importlib.reload(hf)\n",
    "hf.create_dicom(art, join(load_dir, C.phase_dirs[0]), E, True)\n",
    "hf.create_dicom(ven, join(load_dir, C.phase_dirs[1]), E, True)\n",
    "hf.create_dicom(eq, join(load_dir, C.phase_dirs[2]), E, True)"
   ]
  },
  {
   "cell_type": "markdown",
   "metadata": {},
   "source": [
    "### Load npys"
   ]
  },
  {
   "cell_type": "code",
   "execution_count": 73,
   "metadata": {
    "ExecuteTime": {
     "end_time": "2018-07-05T04:24:56.304157Z",
     "start_time": "2018-07-05T04:24:55.360606Z"
    },
    "collapsed": true
   },
   "outputs": [],
   "source": [
    "src_data_df = drm.get_coords_df()\n",
    "accnum_df = drm.get_accnum_df()\n",
    "lesion_df = drm.get_lesion_df()"
   ]
  },
  {
   "cell_type": "code",
   "execution_count": 382,
   "metadata": {
    "ExecuteTime": {
     "end_time": "2018-07-04T04:13:39.037435Z",
     "start_time": "2018-07-04T04:13:38.724380Z"
    },
    "collapsed": true
   },
   "outputs": [],
   "source": [
    "vm.remove_lesion_id(\"13030383_0\")"
   ]
  },
  {
   "cell_type": "markdown",
   "metadata": {
    "ExecuteTime": {
     "end_time": "2018-07-03T19:53:27.392450Z",
     "start_time": "2018-07-03T19:53:27.387464Z"
    }
   },
   "source": [
    "root = C.dcm_dirs[C.cls_names.index(cls)]\n",
    "load_dir = join(root, accnum)\n",
    "art,D = hf.dcm_load(join(load_dir, C.phase_dirs[0]))"
   ]
  },
  {
   "cell_type": "code",
   "execution_count": 373,
   "metadata": {
    "ExecuteTime": {
     "end_time": "2018-07-04T04:07:41.031671Z",
     "start_time": "2018-07-04T04:07:40.485128Z"
    }
   },
   "outputs": [],
   "source": [
    "#accnum = \"12042703\"\n",
    "cls = 'hcc'\n",
    "src_data_df = drm.get_coords_df(cls)\n",
    "accnums = ['E100142484']#list(set(src_data_df.loc[src_data_df[\"Run\"] > 2, 'acc #'].values))"
   ]
  },
  {
   "cell_type": "code",
   "execution_count": 92,
   "metadata": {
    "ExecuteTime": {
     "end_time": "2018-07-05T04:45:52.460272Z",
     "start_time": "2018-07-05T04:45:52.457253Z"
    },
    "collapsed": true
   },
   "outputs": [],
   "source": [
    "cls = None\n",
    "accnums = ['E103001171', 'E103510187', 'E102375251', 'E101681012']#src_data_df.loc[src_data_df[\"Flipped\"] == \"Yes\", 'acc #'].values"
   ]
  },
  {
   "cell_type": "code",
   "execution_count": null,
   "metadata": {
    "ExecuteTime": {
     "end_time": "2018-07-04T15:47:15.566041Z",
     "start_time": "2018-07-04T15:47:08.282317Z"
    },
    "collapsed": true
   },
   "outputs": [],
   "source": [
    "drm.semiauto_rename_phases()"
   ]
  },
  {
   "cell_type": "code",
   "execution_count": null,
   "metadata": {
    "ExecuteTime": {
     "end_time": "2018-07-04T15:47:20.634112Z",
     "start_time": "2018-07-04T15:47:15.907100Z"
    },
    "collapsed": true
   },
   "outputs": [],
   "source": [
    "importlib.reload(drm)\n",
    "drm.missing_dcms()"
   ]
  },
  {
   "cell_type": "code",
   "execution_count": 76,
   "metadata": {
    "ExecuteTime": {
     "end_time": "2018-07-05T04:26:19.156680Z",
     "start_time": "2018-07-05T04:26:08.405396Z"
    },
    "scrolled": true
   },
   "outputs": [],
   "source": [
    "importlib.reload(drm)\n",
    "drm.dcm2nii()#cls=cls, accnums=accnums)"
   ]
  },
  {
   "cell_type": "code",
   "execution_count": null,
   "metadata": {
    "ExecuteTime": {
     "end_time": "2018-07-05T04:46:15.631822Z",
     "start_time": "2018-07-05T04:45:55.341259Z"
    },
    "collapsed": true
   },
   "outputs": [],
   "source": [
    "importlib.reload(drm)\n",
    "drm.dcm2npy(cls=cls, accnums=accnums, overwrite=True)"
   ]
  },
  {
   "cell_type": "code",
   "execution_count": null,
   "metadata": {
    "ExecuteTime": {
     "end_time": "2018-07-04T16:25:17.822118Z",
     "start_time": "2018-07-04T16:21:24.510708Z"
    },
    "collapsed": true
   },
   "outputs": [],
   "source": [
    "drm.load_vois(overwrite=True)\n",
    "vm.extract_vois(overwrite=True)"
   ]
  },
  {
   "cell_type": "code",
   "execution_count": null,
   "metadata": {
    "ExecuteTime": {
     "end_time": "2018-07-04T16:49:00.291749Z",
     "start_time": "2018-07-04T16:47:23.258426Z"
    },
    "collapsed": true
   },
   "outputs": [],
   "source": [
    "importlib.reload(vm)\n",
    "vm.save_unaugmented_set(overwrite=True)\n",
    "vm.save_augmented_set(overwrite=True)"
   ]
  },
  {
   "cell_type": "code",
   "execution_count": 95,
   "metadata": {
    "ExecuteTime": {
     "end_time": "2018-07-05T04:46:28.272378Z",
     "start_time": "2018-07-05T04:46:27.350717Z"
    },
    "collapsed": true
   },
   "outputs": [],
   "source": [
    "vm.save_vois_as_imgs(save_dir=\"D:\\\\Etiology\\\\screenshots\")"
   ]
  },
  {
   "cell_type": "markdown",
   "metadata": {
    "ExecuteTime": {
     "end_time": "2018-07-04T03:06:03.806558Z",
     "start_time": "2018-07-04T03:06:03.423580Z"
    },
    "collapsed": true
   },
   "source": [
    "importlib.reload(drm)\n",
    "drm.load_vois(cls=cls, accnums=accnums, overwrite=True)"
   ]
  },
  {
   "cell_type": "markdown",
   "metadata": {
    "ExecuteTime": {
     "end_time": "2018-07-04T02:39:36.469003Z",
     "start_time": "2018-07-04T02:39:29.967565Z"
    }
   },
   "source": [
    "importlib.reload(vm)\n",
    "vm.extract_vois(cls=cls, accnums=accnums, overwrite=True)"
   ]
  },
  {
   "cell_type": "code",
   "execution_count": 94,
   "metadata": {
    "ExecuteTime": {
     "end_time": "2018-07-05T04:46:26.765309Z",
     "start_time": "2018-07-05T04:46:16.216147Z"
    }
   },
   "outputs": [
    {
     "name": "stdout",
     "output_type": "stream",
     "text": [
      ".........."
     ]
    }
   ],
   "source": [
    "importlib.reload(vm)\n",
    "vm.load_accnum(cls=cls, accnums=accnums)"
   ]
  },
  {
   "cell_type": "code",
   "execution_count": 378,
   "metadata": {
    "ExecuteTime": {
     "end_time": "2018-07-04T04:09:14.851963Z",
     "start_time": "2018-07-04T04:09:14.666721Z"
    },
    "collapsed": true
   },
   "outputs": [],
   "source": [
    "lesion_df = drm.get_lesion_df()\n",
    "vm.save_vois_as_imgs(cls=cls, lesion_ids=lesion_df[lesion_df[\"run_num\"]>2].index, save_dir=\"E:\\\\check_these\")"
   ]
  },
  {
   "cell_type": "code",
   "execution_count": 375,
   "metadata": {
    "ExecuteTime": {
     "end_time": "2018-07-04T04:07:45.584682Z",
     "start_time": "2018-07-04T04:07:44.103840Z"
    },
    "scrolled": false
   },
   "outputs": [
    {
     "data": {
      "image/png": "[encoded data removed]",
      "text/plain": [
       "<matplotlib.figure.Figure at 0x20ea737a278>"
      ]
     },
     "metadata": {},
     "output_type": "display_data"
    }
   ],
   "source": [
    "importlib.reload(vm)\n",
    "vm.plot_check(0, accnums[0]+\"_0\", None, slice_frac=.8);"
   ]
  },
  {
   "cell_type": "markdown",
   "metadata": {
    "heading_collapsed": true
   },
   "source": [
    "#### JHU Etiology"
   ]
  },
  {
   "cell_type": "code",
   "execution_count": null,
   "metadata": {
    "ExecuteTime": {
     "end_time": "2018-06-14T14:21:01.416534Z",
     "start_time": "2018-06-14T14:20:57.304130Z"
    },
    "collapsed": true,
    "hidden": true
   },
   "outputs": [],
   "source": [
    "importlib.reload(drm)\n",
    "accnum_xls_path = r\"C:\\Users\\Clinton\\Box\\Rad-Etiology Correlation\\hklc_master.xlsx\"\n",
    "drm.build_coords_df(accnum_xls_path)"
   ]
  },
  {
   "cell_type": "code",
   "execution_count": null,
   "metadata": {
    "ExecuteTime": {
     "end_time": "2018-06-14T14:18:16.789380Z",
     "start_time": "2018-06-14T14:18:15.560036Z"
    },
    "collapsed": true,
    "hidden": true
   },
   "outputs": [],
   "source": [
    "input_df = pd.read_excel(accnum_xls_path,\n",
    "             sheetname=\"Prelim Analysis Patients\", index_col=0, parse_cols=\"A,J\")\n",
    "accnum_dict = {category: list(input_df[input_df[\"Category\"] == category].index.astype(str)) for category in C.sheetnames}\n",
    "accnum_dict[\"HBV\"]"
   ]
  },
  {
   "cell_type": "code",
   "execution_count": 133,
   "metadata": {
    "ExecuteTime": {
     "end_time": "2018-06-13T17:41:35.765917Z",
     "start_time": "2018-06-13T17:41:35.761927Z"
    },
    "collapsed": true,
    "hidden": true
   },
   "outputs": [],
   "source": [
    "accnum = \"2435642\"\n",
    "load_dir = join(C.dcm_dirs[0], accnum)"
   ]
  },
  {
   "cell_type": "code",
   "execution_count": 37,
   "metadata": {
    "ExecuteTime": {
     "end_time": "2018-05-31T14:50:58.675154Z",
     "start_time": "2018-05-31T14:50:58.556471Z"
    },
    "collapsed": true,
    "hidden": true
   },
   "outputs": [],
   "source": [
    "I = np.load(join(C.full_img_dir, accnum+\"_tumorseg.npy\"))"
   ]
  },
  {
   "cell_type": "code",
   "execution_count": null,
   "metadata": {
    "collapsed": true,
    "hidden": true
   },
   "outputs": [],
   "source": [
    "t = time.time()\n",
    "masks.off2ids(join(load_dir, 'Segs', 'liver.off'), R=[2,2,3], num_foci=1)\n",
    "print(time.time() - t)"
   ]
  },
  {
   "cell_type": "code",
   "execution_count": 10,
   "metadata": {
    "ExecuteTime": {
     "end_time": "2018-05-30T23:15:32.358154Z",
     "start_time": "2018-05-30T23:15:31.036208Z"
    },
    "collapsed": true,
    "hidden": true
   },
   "outputs": [],
   "source": [
    "accnum_xls_path = r\"C:\\Users\\Clinton\\Box\\Rad-Etiology Correlation\\hklc_master.xlsx\"\n",
    "input_df = pd.read_excel(accnum_xls_path,\n",
    "             sheetname=\"Prelim Analysis Patients\", index_col=0, parse_cols=\"A,J\")\n",
    "\n",
    "accnum_dict = {category: list(input_df[input_df[\"Category\"] == category].index.astype(str)) for category in C.sheetnames}\n",
    "accnum_dict['Nonviral'] = accnum_dict[\"Nonviral\"][37:]\n",
    "accnum_dict.pop('HBV');\n",
    "accnum_dict.pop('HCV');"
   ]
  },
  {
   "cell_type": "code",
   "execution_count": null,
   "metadata": {
    "ExecuteTime": {
     "end_time": "2018-05-31T02:47:23.001377Z",
     "start_time": "2018-05-31T02:47:19.161755Z"
    },
    "collapsed": true,
    "hidden": true
   },
   "outputs": [],
   "source": [
    "importlib.reload(drm)\n",
    "accnum_xls_path = r\"C:\\Users\\Clinton\\Box\\Rad-Etiology Correlation\\hklc_master.xlsx\"\n",
    "drm.off2ids_batch(accnum_dict=accnum_dict)"
   ]
  },
  {
   "cell_type": "code",
   "execution_count": 140,
   "metadata": {
    "ExecuteTime": {
     "end_time": "2018-05-30T16:18:38.921393Z",
     "start_time": "2018-05-30T16:18:38.918405Z"
    },
    "collapsed": true,
    "hidden": true
   },
   "outputs": [],
   "source": [
    "off_path=join(base_dir, \"1800356\", \"Segs\", \"tumor_20s.off\")"
   ]
  },
  {
   "cell_type": "code",
   "execution_count": 141,
   "metadata": {
    "ExecuteTime": {
     "end_time": "2018-05-30T16:18:58.238753Z",
     "start_time": "2018-05-30T16:18:46.454646Z"
    },
    "collapsed": true,
    "hidden": true
   },
   "outputs": [],
   "source": [
    "importlib.reload(masks)\n",
    "masks.off2ids(off_path)"
   ]
  },
  {
   "cell_type": "markdown",
   "metadata": {
    "heading_collapsed": true
   },
   "source": [
    "### Vois"
   ]
  },
  {
   "cell_type": "code",
   "execution_count": 313,
   "metadata": {
    "ExecuteTime": {
     "end_time": "2018-05-19T16:42:12.115094Z",
     "start_time": "2018-05-19T16:42:12.109079Z"
    },
    "collapsed": true,
    "hidden": true
   },
   "outputs": [],
   "source": [
    "cls = \"HBV\"\n",
    "I_path = glob.glob(join(C.full_img_dir, cls, \"*\"))[0]\n",
    "cI_path = glob.glob(join(C.crops_dir, cls, \"*\"))[0]\n",
    "lesion_id = basename(fn)[:-4]\n",
    "accnum = lesion_id[:lesion_id.find('_')]\n",
    "load_dir = join(C.dcm_dirs[0], accnum)"
   ]
  },
  {
   "cell_type": "code",
   "execution_count": 301,
   "metadata": {
    "ExecuteTime": {
     "end_time": "2018-05-19T16:22:36.439116Z",
     "start_time": "2018-05-19T16:22:33.662813Z"
    },
    "collapsed": true,
    "hidden": true
   },
   "outputs": [],
   "source": [
    "off_path = join(load_dir, \"Segs\", \"tumor_20s.off\")\n",
    "masks.off2ids(off_path)\n",
    "\n",
    "importlib.reload(masks)\n",
    "M_path = glob.glob(join(load_dir, \"Segs\", \"*_0.ids\"))[0]"
   ]
  },
  {
   "cell_type": "code",
   "execution_count": 294,
   "metadata": {
    "ExecuteTime": {
     "end_time": "2018-05-19T16:20:14.929624Z",
     "start_time": "2018-05-19T16:20:12.920263Z"
    },
    "collapsed": true,
    "hidden": true
   },
   "outputs": [],
   "source": [
    "importlib.reload(masks)\n",
    "M = masks.crop_img_to_mask_vicinity(join(load_dir, 'T1_20s'), M_path, padding=.5, add_mask_cont=True)"
   ]
  },
  {
   "cell_type": "code",
   "execution_count": 237,
   "metadata": {
    "ExecuteTime": {
     "end_time": "2018-05-19T15:47:53.419399Z",
     "start_time": "2018-05-19T15:47:50.221040Z"
    },
    "collapsed": true,
    "hidden": true
   },
   "outputs": [],
   "source": [
    "masks.create_dcm_with_mask(join(load_dir, 'T1_20s'), M_path, \"D:\\\\Test\", overwrite=True)"
   ]
  },
  {
   "cell_type": "code",
   "execution_count": null,
   "metadata": {
    "ExecuteTime": {
     "end_time": "2018-05-01T21:02:24.373881Z",
     "start_time": "2018-05-01T21:02:19.589670Z"
    },
    "collapsed": true,
    "hidden": true
   },
   "outputs": [],
   "source": [
    "importlib.reload(vm)\n",
    "[vm.reset_accnum(x) for x in [\"12807018\"]];"
   ]
  },
  {
   "cell_type": "code",
   "execution_count": null,
   "metadata": {
    "ExecuteTime": {
     "start_time": "2018-05-21T21:29:57.122Z"
    },
    "collapsed": true,
    "hidden": true
   },
   "outputs": [],
   "source": [
    "vm.save_augmented_set(cls=\"nonviral\", overwrite=False)"
   ]
  },
  {
   "cell_type": "code",
   "execution_count": null,
   "metadata": {
    "ExecuteTime": {
     "end_time": "2018-07-02T22:53:28.509797Z",
     "start_time": "2018-07-02T22:53:26.795956Z"
    },
    "collapsed": true,
    "hidden": true
   },
   "outputs": [],
   "source": [
    "df = pd.concat([pd.read_excel(C.coord_xls_path, sheetname) for sheetname in C.sheetnames])"
   ]
  },
  {
   "cell_type": "code",
   "execution_count": null,
   "metadata": {
    "ExecuteTime": {
     "end_time": "2018-07-02T22:50:49.292749Z",
     "start_time": "2018-07-02T22:50:44.171601Z"
    },
    "collapsed": true,
    "hidden": true
   },
   "outputs": [],
   "source": [
    "importlib.reload(vm)\n",
    "vm.xref_dirs_with_excel(fix_inplace=False)"
   ]
  },
  {
   "cell_type": "markdown",
   "metadata": {
    "heading_collapsed": true
   },
   "source": [
    "# Plotting"
   ]
  },
  {
   "cell_type": "code",
   "execution_count": 188,
   "metadata": {
    "ExecuteTime": {
     "end_time": "2018-06-13T18:53:47.431045Z",
     "start_time": "2018-06-13T18:53:30.835555Z"
    },
    "collapsed": true,
    "hidden": true,
    "scrolled": true
   },
   "outputs": [],
   "source": [
    "importlib.reload(vm)\n",
    "vm.save_segs_as_imgs(save_dir=r\"D:\\Etiology\\imgs\\samples\", normalize=[-1,1])"
   ]
  },
  {
   "cell_type": "code",
   "execution_count": 35,
   "metadata": {
    "ExecuteTime": {
     "end_time": "2018-06-06T20:16:50.971092Z",
     "start_time": "2018-06-06T20:16:50.967102Z"
    },
    "collapsed": true,
    "hidden": true
   },
   "outputs": [],
   "source": [
    "accnum = \"4252236\"\n",
    "load_dir = join(C.dcm_dirs[0], accnum)\n",
    "\n",
    "art,D = hf.load_img(join(load_dir, \"nii_dir\", \"20s.nii.gz\"))#hf.dcm_load(join(load_dir, C.phase_dirs[0]))\n",
    "ven,_ = hf.load_img(join(load_dir, \"nii_dir\", \"70s.nii.gz\")) #hf.dcm_load(join(load_dir, C.phase_dirs[1]))[0]\n",
    "eq,_ = hf.load_img(join(load_dir, \"nii_dir\", \"3min.nii.gz\")) #hf.dcm_load(join(load_dir, C.phase_dirs[2]))[0]"
   ]
  },
  {
   "cell_type": "code",
   "execution_count": null,
   "metadata": {
    "ExecuteTime": {
     "end_time": "2018-06-07T16:29:34.735947Z",
     "start_time": "2018-06-07T15:30:23.253352Z"
    },
    "collapsed": true,
    "hidden": true
   },
   "outputs": [],
   "source": [
    "for fn in glob.glob(r\"D:\\Etiology\\Imaging\\*\\T1_20s\")[512:]:\n",
    "    try:\n",
    "        load_dir = dirname(fn)\n",
    "        accnum = basename(load_dir)\n",
    "        art,D = hf.load_img(join(load_dir, \"T1_20s\"))\n",
    "        ven,_ = hf.load_img(join(load_dir, \"T1_70s\"))\n",
    "        eq,_ = hf.load_img(join(load_dir, \"T1_3min\"))\n",
    "    except:\n",
    "        continue\n",
    "        \n",
    "    try:\n",
    "        if exists(join(load_dir, \"nii_dir\")):\n",
    "            shutil.rmtree(join(load_dir, \"nii_dir\"))\n",
    "            time.sleep(0.01)\n",
    "        os.makedirs(join(load_dir, \"nii_dir\"))\n",
    "        hf.save_nii(art, join(load_dir, \"nii_dir\", \"20s.nii.gz\"), D)\n",
    "        hf.save_nii(ven, join(load_dir, \"nii_dir\", \"70s.nii.gz\"), D)\n",
    "        hf.save_nii(eq, join(load_dir, \"nii_dir\", \"3min.nii.gz\"), D)\n",
    "        \n",
    "        art, ven, eq, slice_shift = reg.crop_reg(art, ven, eq)\n",
    "        img = np.stack((art, ven, eq), -1)\n",
    "        \n",
    "        downsample = 1\n",
    "        if np.product(art.shape) > C.max_size:\n",
    "            downsample = 2\n",
    "            img = tr.scale3d(img, [1/downsample, 1/downsample, 1])\n",
    "            D = [D[0]*downsample, D[1]*downsample, D[2]]\n",
    "\n",
    "        np.save(join(C.full_img_dir, accnum+\".npy\"), img)\n",
    "        sm.save_segs([accnum], downsample, slice_shift, art.shape[-1])\n",
    "    except:\n",
    "        raise ValueError(accnum)"
   ]
  },
  {
   "cell_type": "code",
   "execution_count": null,
   "metadata": {
    "ExecuteTime": {
     "end_time": "2018-05-21T21:58:02.462611Z",
     "start_time": "2018-05-21T21:58:01.595165Z"
    },
    "collapsed": true,
    "hidden": true
   },
   "outputs": [],
   "source": [
    "importlib.reload(drm)\n",
    "cls = \"hbv\"\n",
    "acc_num = '790003'\n",
    "img = np.load(C.full_img_dir+\"\\\\\"+cls + \"\\\\\"+acc_num + \".npy\")\n",
    "vis.draw_flipped_slices(img, voi_df_art[(voi_df_art[\"acc_num\"] == acc_num) & (voi_df_art[\"cls\"] == cls)].iloc[0])\n",
    "print(np.amin(img), np.amax(img), np.mean(img))\n",
    "#hf.plot_section_auto(img)"
   ]
  },
  {
   "cell_type": "code",
   "execution_count": 61,
   "metadata": {
    "ExecuteTime": {
     "end_time": "2018-04-21T15:40:53.407366Z",
     "start_time": "2018-04-21T15:38:49.299589Z"
    },
    "hidden": true,
    "scrolled": true
   },
   "outputs": [
    {
     "name": "stdout",
     "output_type": "stream",
     "text": [
      "......."
     ]
    },
    {
     "data": {
      "text/plain": [
       "[None, None, None, None, None, None, None]"
      ]
     },
     "execution_count": 61,
     "metadata": {},
     "output_type": "execute_result"
    }
   ],
   "source": [
    "importlib.reload(vm)\n",
    "[vm.reset_accnum(x[:-2]) for x in ['13010227_0', 'E105993177_0',\n",
    " 'E100852770_0', 'E103835733_0', '12888679_0', 'E100458776_0', 'E100894274_0']]"
   ]
  },
  {
   "cell_type": "code",
   "execution_count": 38,
   "metadata": {
    "ExecuteTime": {
     "end_time": "2018-05-02T04:08:01.543681Z",
     "start_time": "2018-05-02T04:08:01.414498Z"
    },
    "hidden": true
   },
   "outputs": [
    {
     "name": "stdout",
     "output_type": "stream",
     "text": [
      "-0.9749059606481485 0.9052014807754605 -0.0664152584179922\n"
     ]
    },
    {
     "data": {
      "image/png": "[encoded data removed]",
      "text/plain": [
       "<matplotlib.figure.Figure at 0x206c9ff6eb8>"
      ]
     },
     "metadata": {},
     "output_type": "display_data"
    }
   ],
   "source": [
    "importlib.reload(vm)\n",
    "img = vm.plot_check(2, \"13216353\", normalize=[-1,1])\n",
    "print(np.amin(img), np.amax(img), np.mean(img))"
   ]
  },
  {
   "cell_type": "code",
   "execution_count": null,
   "metadata": {
    "collapsed": true,
    "hidden": true
   },
   "outputs": [],
   "source": [
    "for cls in C.classes_to_include:\n",
    "    print(cls)\n",
    "    print('\\n'.join([x[:-4] for x in os.listdir(\"E:\\\\lesion_imgs_small\\\\\"+cls)]))\n",
    "    #vm.save_vois_as_imgs(cls=cls, save_dir=\"E:\\\\lesion_imgs_small\\\\\"+cls, fn_suffix=\"\")"
   ]
  },
  {
   "cell_type": "code",
   "execution_count": 294,
   "metadata": {
    "collapsed": true,
    "hidden": true
   },
   "outputs": [],
   "source": [
    "lids = ['E106097391_0.npy', 'E104978772_1.npy', '12900535_0.npy', 'E100150242_0.npy', 'E105490014_0.npy', 'E103147618_0.npy', 'E103510187_0.npy', 'E104657225_0.npy', 'E100551966_0.npy', 'E101388602_0.npy', 'E100215900_8.npy', 'E100215900_7.npy', 'E104045692_0.npy', '13104521_0.npy', 'E100383453_0.npy', '12943286_0.npy', '12271995_0.npy', 'E102315724_0.npy', 'E104949189_0.npy', 'E100511083_1.npy', 'E101579471_0.npy', '13018986_1.npy', '13203550_8.npy', '13112385_0.npy', '12712463_0.npy', '12361082_0.npy', '13028374_0.npy', 'E103985934_1.npy', 'E100529980_0.npy', '12042703_3.npy', '12961059_0.npy', 'E105724706_2.npy', 'E100592424_2.npy', 'E103104254_0.npy', 'E104546069_0.npy', 'E101665217_1.npy', '12090000_0.npy', 'E100592424_1.npy', '12961059_1.npy', 'E105474285_0.npy', '12502068_1.npy', 'E100814791_0.npy', 'E102613189_0.npy', 'E105427046_0.npy', 'E102881031_1.npy', 'E102929168_0.npy', 'E102310482_0.npy', 'E102095465_0.npy', 'E101811299_0.npy', 'E104737273_0.npy', '12890053_0.npy', 'E100168661_1.npy', '12637865_0.npy', 'E100168661_2.npy', '12239783_0.npy', '12707781_0.npy', '12706568_1.npy', '12823036_0.npy', '12404081_0.npy', '12365693_1.npy']"
   ]
  },
  {
   "cell_type": "code",
   "execution_count": 301,
   "metadata": {
    "collapsed": true,
    "hidden": true
   },
   "outputs": [],
   "source": [
    "lids = ['13018986_1', '13203550_8', 'E100168661_1', '12706568_1', 'E104189184_0', 'E100215900_7', '12900535_0', 'E100551966_0',\n",
    "       'E102310482_0', 'E102095465_0', 'E105474285_0', 'E105724706_2']"
   ]
  },
  {
   "cell_type": "code",
   "execution_count": 32,
   "metadata": {
    "collapsed": true,
    "hidden": true
   },
   "outputs": [],
   "source": [
    "misclass_img = ['E100610622_0', '12788616_0', '13092836_2', 'E100407633_0', 'E103312835_1', 'E103020139_1']"
   ]
  },
  {
   "cell_type": "code",
   "execution_count": null,
   "metadata": {
    "collapsed": true,
    "hidden": true
   },
   "outputs": [],
   "source": [
    "vm.save_imgs_with_bbox(lesion_ids=misclass_img, save_dir=\"E:\\\\Z_test\", separate_by_cls=False)"
   ]
  },
  {
   "cell_type": "code",
   "execution_count": 8,
   "metadata": {
    "ExecuteTime": {
     "end_time": "2018-04-24T14:37:00.870441Z",
     "start_time": "2018-04-24T14:37:00.196177Z"
    },
    "collapsed": true,
    "hidden": true
   },
   "outputs": [],
   "source": [
    "importlib.reload(vm)\n",
    "save_dir = \"D:\\\\Paula-project\\\\screenshots\"\n",
    "#save_dir = \"E:\\\\lesion_imgs_small\"\n",
    "vm.save_vois_as_imgs(save_dir=save_dir, separate_by_cls=True, normalize=[-1,1])"
   ]
  },
  {
   "cell_type": "markdown",
   "metadata": {
    "heading_collapsed": true
   },
   "source": [
    "# Generate reader study samples"
   ]
  },
  {
   "cell_type": "code",
   "execution_count": 24,
   "metadata": {
    "collapsed": true,
    "hidden": true,
    "scrolled": true
   },
   "outputs": [],
   "source": [
    "voi_df_art, voi_df_ven, voi_df_eq = drm.get_voi_dfs()"
   ]
  },
  {
   "cell_type": "code",
   "execution_count": 120,
   "metadata": {
    "collapsed": true,
    "hidden": true
   },
   "outputs": [],
   "source": [
    "Z_reader = ['E103312835_1','12823036_0','12569915_0','E102093118_0','E102782525_0','12799652_0','E100894274_0','12874178_3','E100314676_0','12842070_0','13092836_2','12239783_0','12783467_0','13092966_0','E100962970_0','E100183257_1','E102634440_0','E106182827_0','12582632_0','E100121654_0','E100407633_0','E105310461_0','12788616_0','E101225606_0','12678910_1','E101083458_1','12324408_0','13031955_0','E101415263_0','E103192914_0','12888679_2','E106096969_0','E100192709_1','13112385_1','E100718398_0','12207268_0','E105244287_0','E102095465_0','E102613189_0','12961059_0','11907521_0','E105311123_0','12552705_0','E100610622_0','12975280_0','E105918926_0','E103020139_1','E101069048_1','E105427046_0','13028374_0','E100262351_0','12302576_0','12451831_0','E102929168_0','E100383453_0','E105344747_0','12569826_0','E100168661_0','12530153_0','E104697262_0']\n",
    "\n",
    "banned_accnums = [z[:z.find('_')] for z in Z_reader]\n",
    "\n",
    "voi_reader = voi_df_art[voi_df_art[\"id\"].isin(Z_reader)]#voi_df_art[voi_df_art.index.isin(Z_reader)]"
   ]
  },
  {
   "cell_type": "code",
   "execution_count": 260,
   "metadata": {
    "collapsed": true,
    "hidden": true
   },
   "outputs": [],
   "source": [
    "f_map = {}\n",
    "b_map = {}\n",
    "cls_map = {}\n",
    "\n",
    "for cls in C.classes_to_include:\n",
    "    for index, row in voi_reader[voi_reader['cls'] == cls].iterrows():\n",
    "        img_id = str(sum([row[\"x1\"], row[\"x2\"], row[\"y1\"], row[\"y2\"]])*10+row[\"z1\"])\n",
    "        acc_num = row[\"Filename\"][:-4] #row[\"acc_num\"]\n",
    "        f_map[row[\"id\"]] = img_id\n",
    "        b_map[img_id] = row[\"id\"]#acc_num\n",
    "        cls_map[row[\"id\"]] = row[\"cls\"]#acc_num\n",
    "        #if cls == \"fnh\":#img_id == \"4613\":\n",
    "        print(\"Z:\\\\DICOMs\\\\\" + cls + \"\\\\\" + acc_num, \n",
    "              row[\"x1\"], row[\"x2\"], row[\"y1\"], row[\"z1\"], \"---\", img_id)\n",
    "        try:\n",
    "            print(b_map[img_id])\n",
    "        except:\n",
    "            pass\n",
    "\n",
    "#f_map['E100199185'] = '46130'\n",
    "#b_map['4613'] = \"12678910_1\"\n",
    "#b_map['46130'] = \"E100199185_0\""
   ]
  },
  {
   "cell_type": "code",
   "execution_count": 262,
   "metadata": {
    "collapsed": true,
    "hidden": true
   },
   "outputs": [],
   "source": [
    "with open('Z:\\\\answer_key.csv', 'w', newline='') as csvfile:\n",
    "    writer = csv.writer(csvfile)\n",
    "    for k in Z_reader:\n",
    "        writer.writerow([k, f_map[k], cls_map[k]])"
   ]
  },
  {
   "cell_type": "code",
   "execution_count": null,
   "metadata": {
    "collapsed": true,
    "hidden": true
   },
   "outputs": [],
   "source": [
    "hitlist = []\n",
    "replacements = []\n",
    "\n",
    "for secret_id in ['4181', '2858', '3505', '4194', '2821', '5912', '5047'] + ['4354', '3049', '5438'] + ['46130']:#['4158', '5720', '46130', '7444']:\n",
    "    print(cls_map[b_map[secret_id]])\n",
    "    hitlist.append(b_map[secret_id])\n",
    "    replacements.append(cls_map[b_map[secret_id]])"
   ]
  },
  {
   "cell_type": "code",
   "execution_count": 165,
   "metadata": {
    "collapsed": true,
    "hidden": true
   },
   "outputs": [],
   "source": [
    "for secret_id in ['4181', '2858', '3505', '4194', '2821', '5912', '5047']:\n",
    "    base_dir = r\"Z:\\Inter-reader study\\DICOMs\"\n",
    "    shutil.move(os.path.join(base_dir, secret_id), os.path.join(base_dir, \"Unused\", secret_id))"
   ]
  },
  {
   "cell_type": "code",
   "execution_count": 33,
   "metadata": {
    "collapsed": true,
    "hidden": true
   },
   "outputs": [],
   "source": [
    "multi_accnums = [accnum for accnum, count in zip(*np.unique(list(b_map.values()), return_counts=True)) if count>1]\n",
    "print(multi_accnums)"
   ]
  },
  {
   "cell_type": "code",
   "execution_count": 276,
   "metadata": {
    "collapsed": true,
    "hidden": true
   },
   "outputs": [],
   "source": [
    "for _, row in voi_reader.iterrows():\n",
    "    cls = row[\"cls\"]\n",
    "    acc_num = str(row[\"Filename\"])[:-4]\n",
    "    for protocol in [\"T1_AP\", \"T1_VP\", \"T1_EQ\"]:\n",
    "        target_dir = os.path.join(\"Z:\\\\Inter-reader study\\\\DICOMs\\\\extras\", row['id'], protocol)\n",
    "        shutil.copytree(os.path.join(\"Z:\\\\DICOMs\", cls, acc_num, protocol), target_dir)"
   ]
  },
  {
   "cell_type": "code",
   "execution_count": null,
   "metadata": {
    "collapsed": true,
    "hidden": true
   },
   "outputs": [],
   "source": [
    "for acc_num in f_map:\n",
    "    try:\n",
    "        os.rename(os.path.join(\"Z:\\\\Inter-reader study\\\\DICOMs\", acc_num),\n",
    "                  os.path.join(\"Z:\\\\Inter-reader study\\\\DICOMs\", f_map[acc_num]))\n",
    "    except Exception as e:\n",
    "        print(acc_num, e)"
   ]
  },
  {
   "cell_type": "markdown",
   "metadata": {
    "heading_collapsed": true
   },
   "source": [
    "# Read Run Stats"
   ]
  },
  {
   "cell_type": "code",
   "execution_count": 64,
   "metadata": {
    "ExecuteTime": {
     "end_time": "2018-05-02T14:38:04.171263Z",
     "start_time": "2018-05-02T14:38:04.167253Z"
    },
    "collapsed": true,
    "hidden": true
   },
   "outputs": [],
   "source": [
    "a = ['E106158268_0','E102424706_0','12570256_0','E100574689_0','E106120112_0','E100899012_0','E103678771_0','E105095742_0','E100899012_1','13278054_0','E100834987_0','13094833_0','E102088195_1','E101554830_0','12801670_0','E100304876_1','13013150_0','12807018_0','E101449797_0','12249331_0','E101686218_0','12993437_1','E101158768_0','E101356604_0','E105124678_0','12993437_0','E100793044_0','E104587275_0','E104099161_0','E105152299_0','E102031795_1','E100623842_0','E102388865_0','E103301795_0','E100814791_0','13160747_0','E101880575_0','12248774_1','12914169_0','E101442376_0','13197011_0']"
   ]
  },
  {
   "cell_type": "code",
   "execution_count": 57,
   "metadata": {
    "ExecuteTime": {
     "end_time": "2018-07-02T18:42:51.210622Z",
     "start_time": "2018-07-02T18:42:51.182697Z"
    },
    "collapsed": true,
    "hidden": true
   },
   "outputs": [],
   "source": [
    "df = pd.read_csv(C.run_stats_path)"
   ]
  },
  {
   "cell_type": "code",
   "execution_count": null,
   "metadata": {
    "collapsed": true,
    "hidden": true
   },
   "outputs": [],
   "source": [
    "for cls in C.cls_names:\n",
    "    for x,y in sorted_x:"
   ]
  },
  {
   "cell_type": "code",
   "execution_count": null,
   "metadata": {
    "ExecuteTime": {
     "end_time": "2018-07-02T00:04:16.530643Z",
     "start_time": "2018-07-02T00:04:16.479783Z"
    },
    "collapsed": true,
    "hidden": true
   },
   "outputs": [],
   "source": [
    "df = df.dropna(subset=['miscls_test'])\n",
    "df = df.loc[:,['miscls_test','miscls_train']] #df.model_num.str.startswith('fixZ-ens')\n",
    "#df = df.dropna()\n",
    "#b = a.iloc[0]['y_pred_raw']\n",
    "#b = hf.str_to_lists(b)\n",
    "\n",
    "mis_test = df['miscls_test'].values\n",
    "mis_test += df['miscls_train'].values\n",
    "\n",
    "mis_test = ''.join(mis_test)\n",
    "mis_test = mis_test.replace(' ','')\n",
    "mis_test = mis_test.replace(\"'\",\"\")\n",
    "mis_test = re.sub(r'\\]\\[', ',', mis_test)\n",
    "mis_test = mis_test.replace(\"[\",\"\")\n",
    "mis_test = mis_test.replace(\"]\",\"\")\n",
    "\n",
    "mis_test = mis_test.split(',')\n",
    "\n",
    "unique, counts = np.unique(mis_test, return_counts=True)\n",
    "\n",
    "x = dict(zip(unique, counts))\n",
    "\n",
    "sorted_x = sorted(x.items(), key=operator.itemgetter(1), reverse=True)\n",
    "for x,y in sorted_x:\n",
    "    print(x,y)"
   ]
  },
  {
   "cell_type": "code",
   "execution_count": null,
   "metadata": {
    "ExecuteTime": {
     "end_time": "2018-05-02T14:12:28.747925Z",
     "start_time": "2018-05-02T14:12:28.726900Z"
    },
    "collapsed": true,
    "hidden": true
   },
   "outputs": [],
   "source": [
    "for z in sorted_x:\n",
    "    print(z[0],'\\t',z[1])"
   ]
  },
  {
   "cell_type": "code",
   "execution_count": 18,
   "metadata": {
    "ExecuteTime": {
     "end_time": "2018-04-24T14:42:00.707325Z",
     "start_time": "2018-04-24T14:41:59.957067Z"
    },
    "collapsed": true,
    "hidden": true
   },
   "outputs": [],
   "source": [
    "vm.save_vois_as_imgs(lesion_ids=[k for k in x if x[k]>2 and k!=\"\"], save_dir=\"Z:\\\\Paula\\\\Misclassifications\", separate_by_cls=True, normalize=[-1,1])"
   ]
  },
  {
   "cell_type": "markdown",
   "metadata": {
    "collapsed": true,
    "hidden": true,
    "scrolled": true
   },
   "source": [
    "df = pd.read_csv(C.run_stats_path)\n",
    "df = df[(df['test_num'] == 10) & (~df['time_dist']) & (df['steps_per_epoch'] == 750) & (df['timestamp'] < 1515879326)]"
   ]
  },
  {
   "cell_type": "code",
   "execution_count": 68,
   "metadata": {
    "ExecuteTime": {
     "end_time": "2018-07-05T04:11:32.393570Z",
     "start_time": "2018-07-05T04:11:32.370630Z"
    },
    "collapsed": true,
    "hidden": true
   },
   "outputs": [],
   "source": [
    "df = pd.read_csv(C.run_stats_path)\n",
    "df = df[(df['hcc'] == 141) & (df['clinical_inputs'] == 2) & (df['steps_per_epoch']>100)]\n",
    "#df = df[~df.model_num.str.startswith('fixZ-ens')]"
   ]
  },
  {
   "cell_type": "code",
   "execution_count": 56,
   "metadata": {
    "ExecuteTime": {
     "end_time": "2018-07-04T19:43:59.057242Z",
     "start_time": "2018-07-04T19:43:59.049263Z"
    },
    "hidden": true
   },
   "outputs": [
    {
     "data": {
      "text/plain": [
       "(0.7316666666666667, 0.7316666666666667)"
      ]
     },
     "execution_count": 56,
     "metadata": {},
     "output_type": "execute_result"
    }
   ],
   "source": [
    "df.acc6cls.mean(), df.acc3cls.mean()"
   ]
  },
  {
   "cell_type": "code",
   "execution_count": 79,
   "metadata": {
    "ExecuteTime": {
     "end_time": "2018-07-02T18:48:10.595183Z",
     "start_time": "2018-07-02T18:48:10.591193Z"
    },
    "hidden": true
   },
   "outputs": [],
   "source": [
    "train_acc = [1-x.count(\"_\")/434 for x in df['miscls_train'].values] #434"
   ]
  },
  {
   "cell_type": "code",
   "execution_count": 69,
   "metadata": {
    "ExecuteTime": {
     "end_time": "2018-07-05T04:11:32.876369Z",
     "start_time": "2018-07-05T04:11:32.868392Z"
    },
    "hidden": true,
    "scrolled": true
   },
   "outputs": [
    {
     "name": "stdout",
     "output_type": "stream",
     "text": [
      "76.0%\n",
      "6.3%\n",
      "87.8%\n",
      "5.0%\n"
     ]
    },
    {
     "data": {
      "text/plain": [
       "[None, None, None, None]"
      ]
     },
     "execution_count": 69,
     "metadata": {},
     "output_type": "execute_result"
    }
   ],
   "source": [
    "[print(\"%.1f%%\"%(x*100)) for x in (np.mean(df.acc6cls), np.std(df.acc6cls), df.acc3cls.mean(), df.acc3cls.std())]"
   ]
  },
  {
   "cell_type": "code",
   "execution_count": null,
   "metadata": {
    "collapsed": true,
    "hidden": true
   },
   "outputs": [],
   "source": [
    "76.5%\n",
    "5.6%\n",
    "85.5%\n",
    "4.4%"
   ]
  },
  {
   "cell_type": "code",
   "execution_count": null,
   "metadata": {
    "ExecuteTime": {
     "end_time": "2018-07-02T00:06:30.764401Z",
     "start_time": "2018-07-02T00:06:30.745451Z"
    },
    "collapsed": true,
    "hidden": true
   },
   "outputs": [],
   "source": [
    "cms = df['confusion_matrix'].values\n",
    "cms = ''.join(cms)\n",
    "\n",
    "supercm = hf.str_to_lists(cms, dtype=int)\n",
    "supercm = [supercm[rownum:rownum+C.nb_classes] for rownum in range(0,len(supercm),C.nb_classes)]\n",
    "supercm = np.array(supercm)\n",
    "\n",
    "cm_sum = np.empty((C.nb_classes,C.nb_classes), int)\n",
    "\n",
    "for i in range(C.nb_classes):\n",
    "    for j in range(C.nb_classes):\n",
    "        cm_sum[i,j] = np.sum(supercm[:,i,j])\n",
    "\n",
    "for i in range(C.nb_classes):\n",
    "    for j in range(C.nb_classes):\n",
    "        print(cm_sum[j,i],end='\\t')\n",
    "    print()"
   ]
  },
  {
   "cell_type": "code",
   "execution_count": 112,
   "metadata": {
    "ExecuteTime": {
     "end_time": "2018-06-30T21:38:19.013617Z",
     "start_time": "2018-06-30T21:38:19.008631Z"
    },
    "hidden": true,
    "scrolled": true
   },
   "outputs": [
    {
     "data": {
      "text/plain": [
       "150.0"
      ]
     },
     "execution_count": 112,
     "metadata": {},
     "output_type": "execute_result"
    }
   ],
   "source": [
    "np.sum(cm_sum[0,:])"
   ]
  },
  {
   "cell_type": "code",
   "execution_count": 29,
   "metadata": {
    "ExecuteTime": {
     "end_time": "2018-07-02T00:13:21.608233Z",
     "start_time": "2018-07-02T00:13:21.603222Z"
    },
    "collapsed": true,
    "hidden": true
   },
   "outputs": [],
   "source": [
    "avg_tpr = cm_sum[0,0]/np.sum(cm_sum[0,:])\n",
    "avg_fpr = np.sum(cm_sum[1:,0])/np.sum(cm_sum[1:,:])"
   ]
  },
  {
   "cell_type": "code",
   "execution_count": 30,
   "metadata": {
    "ExecuteTime": {
     "end_time": "2018-07-02T00:13:21.920375Z",
     "start_time": "2018-07-02T00:13:21.915389Z"
    },
    "collapsed": true,
    "hidden": true
   },
   "outputs": [],
   "source": [
    "fpr = [np.sum(cm[1:,0])/np.sum(cm[1:,:]) for cm in supercm]\n",
    "tpr = [cm[0,0]/np.sum(cm[0,:]) for cm in supercm]"
   ]
  },
  {
   "cell_type": "code",
   "execution_count": 33,
   "metadata": {
    "ExecuteTime": {
     "end_time": "2018-07-02T00:15:23.285508Z",
     "start_time": "2018-07-02T00:15:23.215695Z"
    },
    "collapsed": true,
    "hidden": true
   },
   "outputs": [],
   "source": [
    "importlib.reload(hf)\n",
    "truths = df['y_true'].values\n",
    "truths = ''.join(truths)\n",
    "truths = hf.str_to_lists(truths, dtype=int)\n",
    "truths = np.array(truths)\n",
    "test_num = truths.shape[1]\n",
    "\n",
    "predictions = df['y_pred_raw'].values\n",
    "predictions = ''.join(predictions)\n",
    "predictions = hf.str_to_lists(predictions, dtype=float)\n",
    "predictions = [predictions[rownum:rownum+test_num] for rownum in range(0,len(predictions),test_num)]\n",
    "predictions = np.array(predictions)\n",
    "\n",
    "hcc_thresh = []\n",
    "nonhcc_thresh = []\n",
    "thresh_dict = {}\n",
    "\n",
    "for run_num in range(len(df)):\n",
    "    for lesion_num in range(test_num):\n",
    "        if truths[run_num, lesion_num] == C.cls_names.index('hcc'):\n",
    "            hcc_thresh.append(predictions[run_num, lesion_num, 0])\n",
    "            if predictions[run_num, lesion_num, 0] in thresh_dict:\n",
    "                thresh_dict[predictions[run_num, lesion_num, 0]+random.random()*1e-5] = 'hcc'\n",
    "            else:\n",
    "                thresh_dict[predictions[run_num, lesion_num, 0]] = 'hcc'\n",
    "        else:\n",
    "            nonhcc_thresh.append(predictions[run_num, lesion_num, 0])\n",
    "            if predictions[run_num, lesion_num, 0] in thresh_dict:\n",
    "                thresh_dict[predictions[run_num, lesion_num, 0]+random.random()*1e-5] = 'non-hcc'\n",
    "            else:\n",
    "                thresh_dict[predictions[run_num, lesion_num, 0]] = 'non-hcc'"
   ]
  },
  {
   "cell_type": "code",
   "execution_count": 37,
   "metadata": {
    "ExecuteTime": {
     "end_time": "2018-07-02T00:15:40.702917Z",
     "start_time": "2018-07-02T00:15:40.698928Z"
    },
    "hidden": true
   },
   "outputs": [
    {
     "data": {
      "text/plain": [
       "300"
      ]
     },
     "execution_count": 37,
     "metadata": {},
     "output_type": "execute_result"
    }
   ],
   "source": [
    "len(thresh_dict)"
   ]
  },
  {
   "cell_type": "code",
   "execution_count": 38,
   "metadata": {
    "ExecuteTime": {
     "end_time": "2018-07-02T00:16:37.678071Z",
     "start_time": "2018-07-02T00:16:37.654135Z"
    },
    "collapsed": true,
    "hidden": true
   },
   "outputs": [],
   "source": [
    "minT = [1,1] #minT=[.68,.99]\n",
    "\n",
    "true = 50#len(thresh_dict)//2\n",
    "false = 300-50#len(thresh_dict)//2\n",
    "TPR = [true/true]\n",
    "FPR = [false/false]\n",
    "a=0\n",
    "hcc_correct = 50#len(thresh_dict)//2\n",
    "hcc_wrong = 300-50#len(thresh_dict)//2\n",
    "for key in sorted(thresh_dict):\n",
    "    if key > minT[1]:\n",
    "        break\n",
    "    if key > minT[0]:\n",
    "        a+=1\n",
    "        if thresh_dict[key] != 'hcc':\n",
    "            hcc_wrong -= 1\n",
    "    elif thresh_dict[key] == 'hcc':\n",
    "        hcc_correct -= 1\n",
    "    else:\n",
    "        hcc_wrong -= 1\n",
    "    TPR.append(hcc_correct/true)\n",
    "    FPR.append(hcc_wrong/false)"
   ]
  },
  {
   "cell_type": "code",
   "execution_count": 39,
   "metadata": {
    "ExecuteTime": {
     "end_time": "2018-07-02T00:16:39.057784Z",
     "start_time": "2018-07-02T00:16:39.052796Z"
    },
    "hidden": true
   },
   "outputs": [
    {
     "data": {
      "text/plain": [
       "(1.0, 0.0)"
      ]
     },
     "execution_count": 39,
     "metadata": {},
     "output_type": "execute_result"
    }
   ],
   "source": [
    "R = (1-FPR[-1], TPR[-1])\n",
    "R"
   ]
  },
  {
   "cell_type": "code",
   "execution_count": 186,
   "metadata": {
    "ExecuteTime": {
     "end_time": "2018-05-12T16:16:28.230414Z",
     "start_time": "2018-05-12T16:16:28.226404Z"
    },
    "hidden": true
   },
   "outputs": [
    {
     "data": {
      "text/plain": [
       "0.6206666666666667"
      ]
     },
     "execution_count": 186,
     "metadata": {},
     "output_type": "execute_result"
    }
   ],
   "source": [
    "a/len(thresh_dict)"
   ]
  },
  {
   "cell_type": "code",
   "execution_count": 180,
   "metadata": {
    "ExecuteTime": {
     "end_time": "2018-05-12T16:16:15.494887Z",
     "start_time": "2018-05-12T16:16:15.491851Z"
    },
    "collapsed": true,
    "hidden": true
   },
   "outputs": [],
   "source": [
    "hcc_fpos_cost = 12000\n",
    "hcc_miss_cost = 5000\n",
    "biopsy_cost = 1400"
   ]
  },
  {
   "cell_type": "code",
   "execution_count": 81,
   "metadata": {
    "ExecuteTime": {
     "end_time": "2018-05-12T15:55:21.899605Z",
     "start_time": "2018-05-12T15:55:21.896597Z"
    },
    "collapsed": true,
    "hidden": true
   },
   "outputs": [],
   "source": [
    "nonhcc_thresh = np.array(nonhcc_thresh)\n",
    "hcc_thresh = np.array(hcc_thresh)\n",
    "all_thresh = np.array(list(thresh_dict.keys()))"
   ]
  },
  {
   "cell_type": "code",
   "execution_count": 178,
   "metadata": {
    "ExecuteTime": {
     "end_time": "2018-05-12T16:15:50.727027Z",
     "start_time": "2018-05-12T16:15:50.723016Z"
    },
    "hidden": true
   },
   "outputs": [
    {
     "data": {
      "text/plain": [
       "11"
      ]
     },
     "execution_count": 178,
     "metadata": {},
     "output_type": "execute_result"
    }
   ],
   "source": [
    "(hcc_thresh < minT[0]).sum()"
   ]
  },
  {
   "cell_type": "code",
   "execution_count": 183,
   "metadata": {
    "ExecuteTime": {
     "end_time": "2018-05-12T16:16:21.744695Z",
     "start_time": "2018-05-12T16:16:21.740684Z"
    },
    "hidden": true
   },
   "outputs": [
    {
     "data": {
      "text/plain": [
       "0"
      ]
     },
     "execution_count": 183,
     "metadata": {},
     "output_type": "execute_result"
    }
   ],
   "source": [
    "(nonhcc_thresh > minT[1]).sum()"
   ]
  },
  {
   "cell_type": "code",
   "execution_count": 200,
   "metadata": {
    "ExecuteTime": {
     "end_time": "2018-05-12T16:23:51.747240Z",
     "start_time": "2018-05-12T16:23:51.740223Z"
    },
    "hidden": true
   },
   "outputs": [
    {
     "data": {
      "text/plain": [
       "(1.0, 0.0)"
      ]
     },
     "execution_count": 200,
     "metadata": {},
     "output_type": "execute_result"
    }
   ],
   "source": [
    "true_spec = (nonhcc_thresh < minT[0]).sum() / (750 - ((nonhcc_thresh < minT[1]) & (nonhcc_thresh > minT[0])).sum())\n",
    "true_sens = (hcc_thresh > minT[1]).sum() / (750 - ((hcc_thresh < minT[1]) & (hcc_thresh > minT[0])).sum())\n",
    "true_spec, true_sens"
   ]
  },
  {
   "cell_type": "code",
   "execution_count": 155,
   "metadata": {
    "ExecuteTime": {
     "end_time": "2018-05-12T16:12:38.761251Z",
     "start_time": "2018-05-12T16:12:38.757252Z"
    },
    "collapsed": true,
    "hidden": true
   },
   "outputs": [],
   "source": [
    "fun = lambda T: hcc_fpos_cost * (nonhcc_thresh > T[1]).sum() + hcc_miss_cost * (hcc_thresh < T[0]).sum() + \\\n",
    "        biopsy_cost * ((all_thresh < T[1]) & (all_thresh > T[0])).sum()"
   ]
  },
  {
   "cell_type": "code",
   "execution_count": 165,
   "metadata": {
    "ExecuteTime": {
     "end_time": "2018-05-12T16:14:17.087948Z",
     "start_time": "2018-05-12T16:14:17.084940Z"
    },
    "collapsed": true,
    "hidden": true
   },
   "outputs": [],
   "source": [
    "import math"
   ]
  },
  {
   "cell_type": "code",
   "execution_count": 198,
   "metadata": {
    "ExecuteTime": {
     "end_time": "2018-05-12T16:23:48.311452Z",
     "start_time": "2018-05-12T16:23:48.204168Z"
    },
    "hidden": true
   },
   "outputs": [
    {
     "name": "stderr",
     "output_type": "stream",
     "text": [
      "C:\\Users\\Clinton\\AppData\\Local\\conda\\conda\\envs\\old-keras\\lib\\site-packages\\ipykernel_launcher.py:3: DeprecationWarning: object of type <class 'numpy.float64'> cannot be safely interpreted as an integer.\n",
      "  This is separate from the ipykernel package so we can avoid doing imports until\n"
     ]
    }
   ],
   "source": [
    "minC=1e10\n",
    "for T1 in np.linspace(0,1,100,False):\n",
    "    for T2 in np.linspace(T1,1,(1-T1)*100+1):\n",
    "        C = fun([T1,T2])\n",
    "        if minC > C:\n",
    "            minC = C\n",
    "            minT = [T1,T2]"
   ]
  },
  {
   "cell_type": "code",
   "execution_count": 62,
   "metadata": {
    "ExecuteTime": {
     "end_time": "2018-05-02T14:35:23.162268Z",
     "start_time": "2018-05-02T14:35:23.159260Z"
    },
    "hidden": true
   },
   "outputs": [
    {
     "data": {
      "text/plain": [
       "((0.25066666666666665, 0.9786666666666667),\n",
       " (0.18, 0.9266666666666666),\n",
       " (0.12533333333333332, 0.7893333333333333))"
      ]
     },
     "execution_count": 62,
     "metadata": {},
     "output_type": "execute_result"
    }
   ],
   "source": [
    "rates05, (avg_fpr, avg_tpr), rates95"
   ]
  },
  {
   "cell_type": "code",
   "execution_count": 41,
   "metadata": {
    "ExecuteTime": {
     "end_time": "2018-07-02T00:17:02.002419Z",
     "start_time": "2018-07-02T00:17:01.829880Z"
    },
    "hidden": true
   },
   "outputs": [
    {
     "data": {
      "text/plain": [
       "[<matplotlib.text.Text at 0x135bacfff60>,\n",
       " <matplotlib.text.Text at 0x135bacff748>,\n",
       " <matplotlib.text.Text at 0x135bad3d668>,\n",
       " <matplotlib.text.Text at 0x135bad4da58>,\n",
       " <matplotlib.text.Text at 0x135bad33320>,\n",
       " <matplotlib.text.Text at 0x135bad33f60>,\n",
       " <matplotlib.text.Text at 0x135b98e8a58>,\n",
       " <matplotlib.text.Text at 0x135b98e3550>]"
      ]
     },
     "execution_count": 41,
     "metadata": {},
     "output_type": "execute_result"
    },
    {
     "data": {
      "image/png": "[encoded data removed]",
      "text/plain": [
       "<matplotlib.figure.Figure at 0x135bad8a048>"
      ]
     },
     "metadata": {},
     "output_type": "display_data"
    }
   ],
   "source": [
    "plt.style.use('seaborn')\n",
    "fig, ax = plt.subplots(1,1,figsize=(6, 6))\n",
    "ax.plot(FPR, TPR, 'k', label='Model', linewidth=2)\n",
    "#ax.plot(.04, 1, 'ko', label='ModelReader', markersize=12)\n",
    "ax.plot(0, .7, 'k^', label='RAD2', markersize=12)\n",
    "ax.plot(0, .6, 'k ^', label='RAD1', markersize=12)\n",
    "ax.plot(avg_fpr, avg_tpr, 'ko', label='ModelAvg', markersize=10)\n",
    "#ax.plot(rates10[0], rates10[1], 'ko', label='10%', markersize=10)\n",
    "#ax.plot(rates95[0], rates95[1], 'ko', label='90%', markersize=10)\n",
    "#ax.plot(rates05[0], rates05[1], 'ko', label='5%', markersize=10)\n",
    "#ax.plot(rates98[0], rates98[1], 'ko', label='95%', markersize=10)\n",
    "#ax.plot(fpr, tpr, 'o', ms=5)\n",
    "ax.plot([0,1], [0,1], 'k--', lw=1)\n",
    "vals = ax.get_xticks()\n",
    "ax.set_xticklabels(['{:3.0f}%'.format(x*100) for x in vals], size=20, color='k')\n",
    "vals = ax.get_yticks()\n",
    "ax.set_yticklabels(['{:3.0f}%'.format(x*100) for x in vals], size=20, color='k')\n",
    "\n",
    "#ax.xaxis.set_major_formatter(plt.FuncFormatter('{:.0f}%'.format))\n",
    "#ax.yaxis.set_major_formatter(plt.FuncFormatter('{:.0f}%'.format))"
   ]
  },
  {
   "cell_type": "code",
   "execution_count": 56,
   "metadata": {
    "hidden": true,
    "scrolled": true
   },
   "outputs": [
    {
     "data": {
      "text/plain": [
       "[<matplotlib.lines.Line2D at 0x1fcb624feb8>]"
      ]
     },
     "execution_count": 56,
     "metadata": {},
     "output_type": "execute_result"
    }
   ],
   "source": [
    "sp.plot(FPR, TPR, 'k', label='Model', linewidth=3)\n",
    "sp.plot(.1, .9, 'g^', label='Model', markersize=10)\n",
    "sp.plot(.43, 1., 'r^', label='R2', markersize=10)\n",
    "sp.plot(.67, 1., 'b^', label='R1', markersize=10)"
   ]
  },
  {
   "cell_type": "code",
   "execution_count": null,
   "metadata": {
    "ExecuteTime": {
     "end_time": "2018-06-30T21:41:33.580675Z",
     "start_time": "2018-06-30T21:41:33.574691Z"
    },
    "collapsed": true,
    "hidden": true
   },
   "outputs": [],
   "source": [
    "AUC = sum([(FPR[i]-FPR[i+1])*TPR[i] for i in range(len(FPR)-1)])\n",
    "AUC"
   ]
  },
  {
   "cell_type": "markdown",
   "metadata": {
    "hidden": true
   },
   "source": [
    "a = run_stats.loc[:,['y_true','y_pred_raw']]\n",
    "a = a.dropna()\n",
    "b = a.iloc[0]['y_pred_raw']\n",
    "b = hf.str_to_lists(b)"
   ]
  },
  {
   "cell_type": "markdown",
   "metadata": {
    "heading_collapsed": true
   },
   "source": [
    "# Influence analysis"
   ]
  },
  {
   "cell_type": "code",
   "execution_count": 415,
   "metadata": {
    "ExecuteTime": {
     "end_time": "2018-05-16T16:46:23.437763Z",
     "start_time": "2018-05-16T16:46:23.434756Z"
    },
    "collapsed": true,
    "hidden": true
   },
   "outputs": [],
   "source": [
    "C = config.Config(\"lirads\")"
   ]
  },
  {
   "cell_type": "code",
   "execution_count": 435,
   "metadata": {
    "ExecuteTime": {
     "end_time": "2018-05-16T18:28:33.323939Z",
     "start_time": "2018-05-16T18:28:33.307897Z"
    },
    "collapsed": true,
    "hidden": true
   },
   "outputs": [],
   "source": [
    "inf_df = pd.read_excel(r\"D:\\feature_analysis\\influence21.xlsx\")"
   ]
  },
  {
   "cell_type": "code",
   "execution_count": 419,
   "metadata": {
    "ExecuteTime": {
     "end_time": "2018-05-16T18:25:09.052257Z",
     "start_time": "2018-05-16T18:25:08.780841Z"
    },
    "collapsed": true,
    "hidden": true
   },
   "outputs": [],
   "source": [
    "DFs = hf.pickle_load(join(C.base_dir, \"data\", \"DFs4.bin\"))"
   ]
  },
  {
   "cell_type": "code",
   "execution_count": 420,
   "metadata": {
    "ExecuteTime": {
     "end_time": "2018-05-16T18:25:33.533779Z",
     "start_time": "2018-05-16T18:25:30.719000Z"
    },
    "collapsed": true,
    "hidden": true
   },
   "outputs": [],
   "source": [
    "for df in DFs:\n",
    "    for ix, row in df.iterrows():\n",
    "        if row[-7] > row[-5] + 50:# and row[-3] < 0:\n",
    "            row[-6] = np.nan\n",
    "            row[-4] = np.nan\n",
    "            row[-2] = np.nan\n",
    "        elif row[-5] > row[-3] + 25:# and row[-3] < 0:\n",
    "            row[-4] = np.nan\n",
    "            row[-2] = np.nan\n",
    "        elif row[-3] > row[-1] + 25:# and row[-1] < 0:\n",
    "            row[-2] = np.nan\n",
    "        df.loc[ix] = row"
   ]
  },
  {
   "cell_type": "code",
   "execution_count": 436,
   "metadata": {
    "ExecuteTime": {
     "end_time": "2018-05-16T18:28:37.887403Z",
     "start_time": "2018-05-16T18:28:37.882389Z"
    },
    "collapsed": true,
    "hidden": true,
    "scrolled": true
   },
   "outputs": [],
   "source": [
    "inf_df = pd.concat([inf_df, DFs[0][[\"true_cls\", \"pred_cls\"]]], axis=1, join='inner')"
   ]
  },
  {
   "cell_type": "code",
   "execution_count": 439,
   "metadata": {
    "ExecuteTime": {
     "end_time": "2018-05-16T18:46:19.056971Z",
     "start_time": "2018-05-16T18:46:19.050934Z"
    },
    "collapsed": true,
    "hidden": true
   },
   "outputs": [],
   "source": [
    "inf_df.dropna(inplace=True)"
   ]
  },
  {
   "cell_type": "code",
   "execution_count": 465,
   "metadata": {
    "ExecuteTime": {
     "end_time": "2018-05-16T18:52:42.051963Z",
     "start_time": "2018-05-16T18:52:41.866803Z"
    },
    "collapsed": true,
    "hidden": true,
    "scrolled": true
   },
   "outputs": [],
   "source": [
    "for lesion_id, row in inf_df.iterrows():\n",
    "    R = row.values[:-2]\n",
    "    den = R[R > 0].sum()\n",
    "    if den != 0:\n",
    "        R = R/den\n",
    "    else:\n",
    "        R = [np.nan]*len(R)\n",
    "    inf_df.loc[lesion_id] = list(R) + list(row.values[-2:])"
   ]
  },
  {
   "cell_type": "code",
   "execution_count": 467,
   "metadata": {
    "ExecuteTime": {
     "end_time": "2018-05-16T18:52:51.940468Z",
     "start_time": "2018-05-16T18:52:51.936457Z"
    },
    "collapsed": true,
    "hidden": true
   },
   "outputs": [],
   "source": [
    "inf_df.dropna(inplace=True)"
   ]
  },
  {
   "cell_type": "code",
   "execution_count": null,
   "metadata": {
    "ExecuteTime": {
     "end_time": "2018-05-16T19:08:31.618284Z",
     "start_time": "2018-05-16T19:08:31.607254Z"
    },
    "collapsed": true,
    "hidden": true
   },
   "outputs": [],
   "source": [
    "inf_df[inf_df > 0][inf_df[\"pred_cls\"] == \"colorectal\"].mean(0)"
   ]
  },
  {
   "cell_type": "code",
   "execution_count": 470,
   "metadata": {
    "ExecuteTime": {
     "end_time": "2018-05-16T19:04:06.397977Z",
     "start_time": "2018-05-16T19:04:06.393966Z"
    },
    "collapsed": true,
    "hidden": true
   },
   "outputs": [],
   "source": [
    "group_df = pd.DataFrame(columns=inf_df.columns[:-2])"
   ]
  },
  {
   "cell_type": "code",
   "execution_count": 484,
   "metadata": {
    "ExecuteTime": {
     "end_time": "2018-05-16T19:08:44.317502Z",
     "start_time": "2018-05-16T19:08:44.280423Z"
    },
    "collapsed": true,
    "hidden": true
   },
   "outputs": [],
   "source": [
    "for cls in np.unique(inf_df[\"pred_cls\"]):\n",
    "    group_df.loc[cls] = inf_df[inf_df > 0][inf_df[\"pred_cls\"] == cls].mean(0)"
   ]
  },
  {
   "cell_type": "code",
   "execution_count": 486,
   "metadata": {
    "ExecuteTime": {
     "end_time": "2018-05-16T19:08:54.429632Z",
     "start_time": "2018-05-16T19:08:54.405569Z"
    },
    "collapsed": true,
    "hidden": true
   },
   "outputs": [],
   "source": [
    "group_df.transpose().to_excel(r\"D:\\feature_analysis\\feature_influence.xlsx\")"
   ]
  }
 ],
 "metadata": {
  "anaconda-cloud": {},
  "kernelspec": {
   "display_name": "Python 3",
   "language": "python",
   "name": "python3"
  },
  "language_info": {
   "codemirror_mode": {
    "name": "ipython",
    "version": 3
   },
   "file_extension": ".py",
   "mimetype": "text/x-python",
   "name": "python",
   "nbconvert_exporter": "python",
   "pygments_lexer": "ipython3",
   "version": "3.5.0"
  },
  "varInspector": {
   "cols": {
    "lenName": 16,
    "lenType": 16,
    "lenVar": 40
   },
   "kernels_config": {
    "python": {
     "delete_cmd_postfix": "",
     "delete_cmd_prefix": "del ",
     "library": "var_list.py",
     "varRefreshCmd": "print(var_dic_list())"
    },
    "r": {
     "delete_cmd_postfix": ") ",
     "delete_cmd_prefix": "rm(",
     "library": "var_list.r",
     "varRefreshCmd": "cat(var_dic_list()) "
    }
   },
   "position": {
    "height": "381px",
    "left": "896.091px",
    "right": "20px",
    "top": "120px",
    "width": "350px"
   },
   "types_to_exclude": [
    "module",
    "function",
    "builtin_function_or_method",
    "instance",
    "_Feature"
   ],
   "window_display": false
  }
 },
 "nbformat": 4,
 "nbformat_minor": 1
}
