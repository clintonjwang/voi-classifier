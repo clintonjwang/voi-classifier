{
 "cells": [
  {
   "cell_type": "markdown",
   "metadata": {},
   "source": [
    "Retrieves images from \"raw_imgs\" folder and stores them in \"full_imgs\". Retrieves spreadsheet listing VOIs and stores them in text file."
   ]
  },
  {
   "cell_type": "markdown",
   "metadata": {},
   "source": [
    "TODO: function to read existing vois, drop one class, then load the class back in. Requires that drm.load_imgs write to a DataFrame rather than an array"
   ]
  },
  {
   "cell_type": "code",
   "execution_count": 1,
   "metadata": {
    "scrolled": true
   },
   "outputs": [
    {
     "name": "stderr",
     "output_type": "stream",
     "text": [
      "Using TensorFlow backend.\n"
     ]
    }
   ],
   "source": [
    "import cnn_builder as cbuild\n",
    "import cnn_methods as cfunc\n",
    "import config\n",
    "import csv\n",
    "import dr_methods as drm\n",
    "import helper_fxns as hf\n",
    "import importlib\n",
    "import matplotlib.pyplot as plt\n",
    "import numpy as np\n",
    "import os\n",
    "import pandas as pd\n",
    "import pyelastix\n",
    "import time\n",
    "import transforms as tr\n",
    "import voi_methods as vm\n",
    "%matplotlib inline"
   ]
  },
  {
   "cell_type": "code",
   "execution_count": 44,
   "metadata": {
    "scrolled": true
   },
   "outputs": [],
   "source": [
    "importlib.reload(cbuild)\n",
    "importlib.reload(cfunc)\n",
    "importlib.reload(config)\n",
    "importlib.reload(hf)\n",
    "importlib.reload(tr)\n",
    "importlib.reload(vm)\n",
    "importlib.reload(drm)\n",
    "C = config.Config()"
   ]
  },
  {
   "cell_type": "markdown",
   "metadata": {},
   "source": [
    "# Reload images and VOIs"
   ]
  },
  {
   "cell_type": "code",
   "execution_count": null,
   "metadata": {
    "collapsed": true
   },
   "outputs": [],
   "source": [
    "drm.load_vois_all(C)"
   ]
  },
  {
   "cell_type": "code",
   "execution_count": 47,
   "metadata": {
    "collapsed": true
   },
   "outputs": [],
   "source": [
    "for cls in C.classes_to_include:\n",
    "    if not os.path.exists(C.full_img_dir + \"\\\\\" + cls):\n",
    "        os.makedirs(C.full_img_dir + \"\\\\\" + cls)\n",
    "    if not os.path.exists(C.orig_dir + cls):\n",
    "        os.makedirs(C.orig_dir + cls)\n",
    "    if not os.path.exists(C.aug_dir + cls):\n",
    "        os.makedirs(C.aug_dir + cls)\n",
    "    if not os.path.exists(C.crops_dir + cls):\n",
    "        os.makedirs(C.crops_dir + cls)"
   ]
  },
  {
   "cell_type": "code",
   "execution_count": 71,
   "metadata": {
    "collapsed": true
   },
   "outputs": [],
   "source": [
    "#dims_df = pd.DataFrame(columns = [\"AccNum\", \"x\", \"y\", \"z\"])\n",
    "dims_df = pd.read_csv(C.dims_df_path)\n",
    "voi_df_art = pd.DataFrame(columns = [\"Filename\", \"x1\", \"x2\", \"y1\", \"y2\", \"z1\", \"z2\", \"cls\",\n",
    "                                     \"flipz\", \"real_dx\", \"real_dy\", \"real_dz\", \"id\", \"lesion_num\"])\n",
    "voi_df_ven = pd.DataFrame(columns = [\"id\", \"x1\", \"x2\", \"y1\", \"y2\", \"z1\", \"z2\"]) #voi_df_ven only contains entries where manually specified\n",
    "voi_df_eq = pd.DataFrame(columns = [\"id\", \"x1\", \"x2\", \"y1\", \"y2\", \"z1\", \"z2\"]) #voi_df_ven only contains entries where manually specified\n",
    "voi_dfs = [voi_df_art, voi_df_ven, voi_df_eq]"
   ]
  },
  {
   "cell_type": "code",
   "execution_count": 4,
   "metadata": {
    "collapsed": true
   },
   "outputs": [],
   "source": [
    "voi_df_art = pd.read_csv(C.art_voi_path)\n",
    "voi_df_ven = pd.read_csv(C.ven_voi_path)\n",
    "voi_df_eq = pd.read_csv(C.eq_voi_path)\n",
    "voi_dfs = [voi_df_art, voi_df_ven, voi_df_eq]\n",
    "dims_df = pd.read_csv(C.dims_df_path)\n",
    "intensity_df = pd.read_csv(C.int_df_path)\n",
    "#intensity_df = drm.get_intensities(C, cls=\"hcc\", acc_num='E106046622')"
   ]
  },
  {
   "cell_type": "code",
   "execution_count": 26,
   "metadata": {
    "collapsed": true
   },
   "outputs": [],
   "source": [
    "intensity_df = drm.get_intensities(C, cls=\"hemangioma\", acc_num='13138944')"
   ]
  },
  {
   "cell_type": "code",
   "execution_count": 101,
   "metadata": {
    "scrolled": true
   },
   "outputs": [
    {
     "name": "stdout",
     "output_type": "stream",
     "text": [
      "\n",
      "Loading DCMs of type Cholangio\n",
      "Overall time: 1.1657507419586182\n"
     ]
    }
   ],
   "source": [
    "patient_info_df = pd.DataFrame(columns = [\"MRN\", \"Sex\", \"AccNum\", \"AgeAtImaging\", \"cls\"])\n",
    "for i in [C.sheetnames.index(x) for x in ['Cholangio']]:\n",
    "    #drm.check_folders(img_dirs[i], xls_name, sheetnames[i], C)\n",
    "    #dims_df = drm.load_imgs(img_dirs[i], cls_names[i], xls_name, sheetnames[i], dims_df, C)\n",
    "    #voi_dfs = drm.load_vois_batch(cls_names[i], xls_name, sheetnames[i], voi_dfs, dims_df, C)#, acc_nums=['E104764948','E106046622'])\n",
    "    #intensity_df = drm.get_intensities(C, cls=cls_names[i], acc_num='E106046622')\n",
    "    patient_info_df = drm.load_patient_info(\"Z:\\\\\"+C.img_dirs[i], C.cls_names[i], C.sheetnames[i], patient_info_df, C,\n",
    "                                           acc_nums=['11534565','E102310482'])\n",
    "patient_info_df.to_csv('Z:\\\\patient_info_missing.csv', index=False)"
   ]
  },
  {
   "cell_type": "code",
   "execution_count": 345,
   "metadata": {
    "collapsed": true
   },
   "outputs": [],
   "source": [
    "voi_df_art, voi_df_ven, voi_df_eq = voi_dfs\n",
    "voi_df_art.to_csv(C.art_voi_path, index=False)\n",
    "voi_df_ven.to_csv(C.ven_voi_path, index=False)\n",
    "voi_df_eq.to_csv(C.eq_voi_path, index=False)"
   ]
  },
  {
   "cell_type": "code",
   "execution_count": 346,
   "metadata": {
    "collapsed": true
   },
   "outputs": [],
   "source": [
    "dims_df.to_csv(C.dims_df_path, index=False)"
   ]
  },
  {
   "cell_type": "code",
   "execution_count": null,
   "metadata": {},
   "outputs": [
    {
     "name": "stdout",
     "output_type": "stream",
     "text": [
      "\n",
      "Loading DCM for ['E102310482']\n"
     ]
    }
   ],
   "source": [
    "#drm.delete_imgs(['12916368', 'E102556695'], 'hcc', C)\n",
    "#drm.delete_imgs(0, cls, C, xls_name, sheetname)\n",
    "drm.reload_img(\"E102310482\", \"cholangio\", C)"
   ]
  },
  {
   "cell_type": "markdown",
   "metadata": {},
   "source": [
    "# Generate cropped imgs"
   ]
  },
  {
   "cell_type": "code",
   "execution_count": null,
   "metadata": {
    "scrolled": true
   },
   "outputs": [],
   "source": [
    "for acc_num in ['E102310482']:\n",
    "    vm.reload_accnum(acc_num, \"cholangio\", C, augment=True, overwrite=True)"
   ]
  },
  {
   "cell_type": "code",
   "execution_count": 45,
   "metadata": {
    "collapsed": true
   },
   "outputs": [],
   "source": [
    "voi_df_art = pd.read_csv(C.art_voi_path)\n",
    "voi_df_ven = pd.read_csv(C.ven_voi_path)\n",
    "voi_df_eq = pd.read_csv(C.eq_voi_path)\n",
    "intensity_df = pd.read_csv(C.int_df_path)\n",
    "\n",
    "#C.classes_to_include = ['hcc', 'cholangio', 'colorectal', 'cyst', 'hemangioma', 'fnh']\n",
    "\n",
    "with open(C.small_voi_path, 'r') as csv_file:\n",
    "    reader = csv.reader(csv_file)\n",
    "    small_vois = dict(reader)\n",
    "for key in small_vois:\n",
    "    small_vois[key] = [int(x) for x in small_vois[key][1:-1].split(', ')]"
   ]
  },
  {
   "cell_type": "code",
   "execution_count": 48,
   "metadata": {},
   "outputs": [
    {
     "name": "stdout",
     "output_type": "stream",
     "text": [
      ".....................\n",
      "710.1280641555786\n"
     ]
    }
   ],
   "source": [
    "small_vois = {}\n",
    "small_vois = vm.extract_vois(small_vois, C, voi_df_art, voi_df_ven, voi_df_eq, intensity_df)\n",
    "\n",
    "with open(C.small_voi_path, 'w', newline='') as csv_file:\n",
    "    writer = csv.writer(csv_file)\n",
    "    for key, value in small_vois.items():\n",
    "        writer.writerow([key, value])"
   ]
  },
  {
   "cell_type": "code",
   "execution_count": 49,
   "metadata": {},
   "outputs": [
    {
     "name": "stdout",
     "output_type": "stream",
     "text": [
      "47.16417598724365\n"
     ]
    }
   ],
   "source": [
    "# scaled imgs\n",
    "t = time.time()\n",
    "for cls in C.classes_to_include:\n",
    "    for fn in os.listdir(C.crops_dir + cls):\n",
    "        img = np.load(C.crops_dir + cls + \"\\\\\" + fn)\n",
    "        try:\n",
    "            unaug_img = vm.resize_img(img, C, small_vois[fn[:-4]])\n",
    "        except Exception as e:\n",
    "            print(cls, e)\n",
    "            continue\n",
    "        np.save(C.orig_dir + cls + \"\\\\\" + fn, unaug_img)\n",
    "print(time.time()-t)\n",
    "\n",
    "for cls in C.classes_to_include:\n",
    "    vm.save_vois_as_imgs(cls, C)"
   ]
  },
  {
   "cell_type": "code",
   "execution_count": 70,
   "metadata": {
    "scrolled": true
   },
   "outputs": [
    {
     "name": "stdout",
     "output_type": "stream",
     "text": [
      "hcc 158.17009925842285\n",
      "cholangio 235.76278376579285\n",
      "colorectal 354.5679666996002\n",
      "cyst 634.770115852356\n",
      "hemangioma 793.7477686405182\n",
      "fnh 1024.9949328899384\n"
     ]
    }
   ],
   "source": [
    "# augmented imgs\n",
    "t = time.time()\n",
    "for cls in C.classes_to_include:\n",
    "    vm.parallel_augment(cls, small_vois, C, num_cores=3, overwrite=50)\n",
    "    print(cls, time.time()-t)"
   ]
  },
  {
   "cell_type": "markdown",
   "metadata": {},
   "source": [
    "# Plotting"
   ]
  },
  {
   "cell_type": "code",
   "execution_count": 113,
   "metadata": {
    "scrolled": true
   },
   "outputs": [
    {
     "data": {
      "text/html": [
       "<div>\n",
       "<style>\n",
       "    .dataframe thead tr:only-child th {\n",
       "        text-align: right;\n",
       "    }\n",
       "\n",
       "    .dataframe thead th {\n",
       "        text-align: left;\n",
       "    }\n",
       "\n",
       "    .dataframe tbody tr th {\n",
       "        vertical-align: top;\n",
       "    }\n",
       "</style>\n",
       "<table border=\"1\" class=\"dataframe\">\n",
       "  <thead>\n",
       "    <tr style=\"text-align: right;\">\n",
       "      <th></th>\n",
       "      <th>Filename</th>\n",
       "      <th>x1</th>\n",
       "      <th>x2</th>\n",
       "      <th>y1</th>\n",
       "      <th>y2</th>\n",
       "      <th>z1</th>\n",
       "      <th>z2</th>\n",
       "      <th>cls</th>\n",
       "      <th>flipz</th>\n",
       "      <th>real_dx</th>\n",
       "      <th>real_dy</th>\n",
       "      <th>real_dz</th>\n",
       "      <th>id</th>\n",
       "      <th>lesion_num</th>\n",
       "    </tr>\n",
       "  </thead>\n",
       "  <tbody>\n",
       "    <tr>\n",
       "      <th>472</th>\n",
       "      <td>E104949189.npy</td>\n",
       "      <td>74</td>\n",
       "      <td>87</td>\n",
       "      <td>61</td>\n",
       "      <td>73</td>\n",
       "      <td>42</td>\n",
       "      <td>52</td>\n",
       "      <td>fnh</td>\n",
       "      <td>False</td>\n",
       "      <td>17.152199</td>\n",
       "      <td>15.832799</td>\n",
       "      <td>30.0</td>\n",
       "      <td>E104949189_0</td>\n",
       "      <td>0</td>\n",
       "    </tr>\n",
       "  </tbody>\n",
       "</table>\n",
       "</div>"
      ],
      "text/plain": [
       "           Filename  x1  x2  y1  y2  z1  z2  cls  flipz    real_dx    real_dy  \\\n",
       "472  E104949189.npy  74  87  61  73  42  52  fnh  False  17.152199  15.832799   \n",
       "\n",
       "     real_dz            id  lesion_num  \n",
       "472     30.0  E104949189_0           0  "
      ]
     },
     "execution_count": 113,
     "metadata": {},
     "output_type": "execute_result"
    }
   ],
   "source": [
    "voi_df_art = pd.read_csv(C.art_voi_path)\n",
    "voi_df_art[voi_df_art[\"Filename\"] == \"E104949189.npy\"]"
   ]
  },
  {
   "cell_type": "code",
   "execution_count": 114,
   "metadata": {},
   "outputs": [
    {
     "name": "stdout",
     "output_type": "stream",
     "text": [
      "-0.00952623 255.0 8.38156\n"
     ]
    },
    {
     "data": {
      "image/png": "[encoded data removed]",
      "text/plain": [
       "<matplotlib.figure.Figure at 0x1ea8c489ef0>"
      ]
     },
     "metadata": {},
     "output_type": "display_data"
    }
   ],
   "source": [
    "# can be used to determine if an image is flipped\n",
    "cls = \"fnh\"\n",
    "acc_num = 'E104949189'#acc_nums[0]\n",
    "img_fn = acc_num + \".npy\"\n",
    "img = np.load(C.full_img_dir+\"\\\\\"+cls + \"\\\\\"+img_fn)\n",
    "hf.plot_slice_flips(img, voi_df_art[(voi_df_art[\"Filename\"] == img_fn) & (voi_df_art[\"cls\"] == cls)].iloc[0], flipz=\"both\", pad=10)\n",
    "print(np.amin(img), np.amax(img), np.mean(img))\n",
    "#hf.plot_section_auto(img)"
   ]
  },
  {
   "cell_type": "code",
   "execution_count": null,
   "metadata": {
    "scrolled": false
   },
   "outputs": [],
   "source": [
    "# Cropped, rescaled or augmented imgs\n",
    "img = drm.plot_check(\"cholangio\", 2, C, \"E102310482\"+\"_0\")\n",
    "print(np.amin(img), np.amax(img), np.mean(img))"
   ]
  },
  {
   "cell_type": "markdown",
   "metadata": {},
   "source": [
    "# Run CNN"
   ]
  },
  {
   "cell_type": "code",
   "execution_count": null,
   "metadata": {
    "collapsed": true
   },
   "outputs": [],
   "source": [
    "cbuild.overnight_run(C)"
   ]
  },
  {
   "cell_type": "markdown",
   "metadata": {},
   "source": [
    "# Situational"
   ]
  },
  {
   "cell_type": "markdown",
   "metadata": {},
   "source": [
    "for img_fn in os.listdir(C.full_img_dir):\n",
    "    try:\n",
    "        cls = voi_df_art[voi_df_art[\"Filename\"] == img_fn][\"cls\"].values[0]\n",
    "        os.rename(C.full_img_dir + \"\\\\\" + img_fn, C.full_img_dir + \"\\\\\" + cls + \"\\\\\" + img_fn)\n",
    "    except:\n",
    "        continue"
   ]
  },
  {
   "cell_type": "code",
   "execution_count": 76,
   "metadata": {
    "collapsed": true
   },
   "outputs": [],
   "source": [
    "df = pd.read_excel(xls_name, sheetname)\n",
    "df = drm.preprocess_df(df, C)\n",
    "acc_nums = list(set(df['Patient E Number'].dropna().astype(str).tolist()))"
   ]
  },
  {
   "cell_type": "code",
   "execution_count": null,
   "metadata": {
    "collapsed": true
   },
   "outputs": [],
   "source": [
    "xls_name = 'Z:\\\\Prototype1d.xlsx'\n",
    "img_dir = \"Z:\\\\cholangio\"\n",
    "cls = 'cholangio'\n",
    "sheetname=\"Cholangio\"\n",
    "df = pd.read_excel(xls_name, sheetname)\n",
    "accnums = df[df['Run'] > C.run_num]['Patient E Number'].values"
   ]
  },
  {
   "cell_type": "code",
   "execution_count": null,
   "metadata": {
    "collapsed": true
   },
   "outputs": [],
   "source": [
    "for img_fn in sorted(set(voi_df[voi_df[\"cls\"] == \"cyst\"]['Filename'])):\n",
    "    img = np.load(\"full_imgs\\\\\"+img_fn)\n",
    "    if np.sum(img[img.shape[0]*1//5:img.shape[0]*4//5,img.shape[1]//5:img.shape[1]*2//5,:img.shape[2]//3]) > \\\n",
    "            np.sum(img[img.shape[0]*1//5:img.shape[0]*4//5,img.shape[1]//5:img.shape[1]*2//5,(img.shape[2]+1)*2//3:]):\n",
    "        print(img_fn)"
   ]
  },
  {
   "cell_type": "markdown",
   "metadata": {},
   "source": [
    "for cls in os.listdir(C.aug_dir):#classes_to_include:\n",
    "    for img_fn in os.listdir(C.aug_dir + cls):\n",
    "        if \"refl\" in img_fn:\n",
    "            os.remove(C.aug_dir + cls + \"\\\\\" + img_fn)\n",
    "\n",
    "img = img * 2 - 1\n",
    "\n",
    "for cls in C.classes_to_include:\n",
    "    fns = os.listdir(C.crops_dir + cls)\n",
    "    for fn in fns:\n",
    "        img = np.load(C.crops_dir + cls + \"\\\\\" + fn)\n",
    "        img = img * 2 - 1\n",
    "        np.save(C.crops_dir + cls + \"\\\\\" + fn, img)\n",
    "\n",
    "for cls in C.classes_to_include:\n",
    "    fns = os.listdir(C.orig_dir + cls)\n",
    "    for fn in fns:\n",
    "        img = np.load(C.orig_dir + cls + \"\\\\\" + fn)\n",
    "        img = img * 2 - 1\n",
    "        np.save(C.orig_dir + cls + \"\\\\\" + fn, img)\n",
    "\n",
    "for cls in C.classes_to_include:\n",
    "    fns = os.listdir(C.aug_dir + cls)\n",
    "    for fn in fns:\n",
    "        img = np.load(C.aug_dir + cls + \"\\\\\" + fn)\n",
    "        img = img * 2 - 1\n",
    "        np.save(C.aug_dir + cls + \"\\\\\" + fn, img)\n",
    "\n",
    "for cls in os.listdir(C.aug_dir):#classes_to_include:\n",
    "    for img_fn in os.listdir(C.aug_dir + cls):\n",
    "        if \"refl\" not in img_fn:\n",
    "            img = np.load(C.aug_dir + cls + \"\\\\\" + img_fn)\n",
    "            aug_img = tr.generate_reflected_img(img)\n",
    "            np.save(C.aug_dir + cls + \"\\\\\" + img_fn[:-4] + \"-refl\", aug_img)"
   ]
  }
 ],
 "metadata": {
  "anaconda-cloud": {},
  "kernelspec": {
   "display_name": "Python 3",
   "language": "python",
   "name": "python3"
  },
  "language_info": {
   "codemirror_mode": {
    "name": "ipython",
    "version": 3
   },
   "file_extension": ".py",
   "mimetype": "text/x-python",
   "name": "python",
   "nbconvert_exporter": "python",
   "pygments_lexer": "ipython3",
   "version": "3.5.0"
  }
 },
 "nbformat": 4,
 "nbformat_minor": 1
}
