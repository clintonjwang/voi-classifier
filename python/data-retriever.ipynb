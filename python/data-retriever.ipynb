{
 "cells": [
  {
   "cell_type": "markdown",
   "metadata": {},
   "source": [
    "Retrieves images from \"raw_imgs\" folder and stores them in \"full_imgs\". Retrieves spreadsheet listing VOIs and stores them in text file."
   ]
  },
  {
   "cell_type": "markdown",
   "metadata": {},
   "source": [
    "TODO: function to read existing vois, drop one class, then load the class back in. Requires that drm.load_imgs write to a DataFrame rather than an array"
   ]
  },
  {
   "cell_type": "markdown",
   "metadata": {},
   "source": [
    "E100587476_2, E105066561_0, E102928774_0, E103835733_0"
   ]
  },
  {
   "cell_type": "markdown",
   "metadata": {
    "heading_collapsed": true
   },
   "source": [
    "### Imports"
   ]
  },
  {
   "cell_type": "code",
   "execution_count": 1,
   "metadata": {
    "ExecuteTime": {
     "end_time": "2018-05-01T20:51:39.353757Z",
     "start_time": "2018-05-01T20:51:38.238610Z"
    },
    "hidden": true,
    "scrolled": false
   },
   "outputs": [
    {
     "name": "stderr",
     "output_type": "stream",
     "text": [
      "C:\\Users\\Clinton\\AppData\\Local\\conda\\conda\\envs\\old-keras\\lib\\site-packages\\h5py\\__init__.py:34: FutureWarning: Conversion of the second argument of issubdtype from `float` to `np.floating` is deprecated. In future, it will be treated as `np.float64 == np.dtype(float).type`.\n",
      "  from ._conv import register_converters as _register_converters\n"
     ]
    }
   ],
   "source": [
    "import artif_gen_methods as agm\n",
    "import config\n",
    "import dr_methods as drm\n",
    "import niftiutils.helper_fxns as hf\n",
    "import niftiutils.private as prv\n",
    "import niftiutils.visualization as vis\n",
    "import importlib\n",
    "import matplotlib.pyplot as plt\n",
    "import numpy as np\n",
    "import glob\n",
    "import os\n",
    "from os.path import *\n",
    "import pandas as pd\n",
    "import shutil\n",
    "import time\n",
    "import voi_methods as vm\n",
    "import re\n",
    "import operator\n",
    "import csv\n",
    "%matplotlib inline"
   ]
  },
  {
   "cell_type": "code",
   "execution_count": 2,
   "metadata": {
    "ExecuteTime": {
     "end_time": "2018-05-01T20:51:39.377796Z",
     "start_time": "2018-05-01T20:51:39.367769Z"
    },
    "collapsed": true,
    "hidden": true
   },
   "outputs": [],
   "source": [
    "importlib.reload(config)\n",
    "importlib.reload(hf)\n",
    "importlib.reload(vm)\n",
    "importlib.reload(drm)\n",
    "importlib.reload(agm)\n",
    "C = config.Config()"
   ]
  },
  {
   "cell_type": "markdown",
   "metadata": {
    "hidden": true
   },
   "source": [
    "df = pd.read_excel('Z:\\\\Prototype1e.xlsx', sheetname='Sheet1')"
   ]
  },
  {
   "cell_type": "markdown",
   "metadata": {
    "hidden": true
   },
   "source": [
    "for i in range(0,len(df),4):\n",
    "    df.loc[i,['x3','x4', 'y3','y4', 'z3','z4']] = df.iloc[i+1][['x1','x2', 'y1','y2', 'z1','z2']].values\n",
    "    df.loc[i,['x5','x6', 'y5','y6', 'z5','z6']] = df.iloc[i+2][['x1','x2', 'y1','y2', 'z1','z2']].values\n",
    "    df.loc[i,[x+\"-20\" for x in ['x1','x2', 'y1','y2', 'z1','z2']]] = df.iloc[i+3][['x1','x2', 'y1','y2', 'z1','z2']].values"
   ]
  },
  {
   "cell_type": "markdown",
   "metadata": {
    "hidden": true
   },
   "source": [
    "df.drop(list(range(1,max(df.index),4)),inplace=True)\n",
    "df.drop(list(range(2,max(df.index),4)),inplace=True)\n",
    "df.drop(list(range(3,max(df.index),4)),inplace=True)"
   ]
  },
  {
   "cell_type": "markdown",
   "metadata": {
    "hidden": true
   },
   "source": [
    "df.loc[0,['x3','x4', 'y3','y4', 'z3','z4']] = df.iloc[1][['x1','x2', 'y1','y2', 'z1','z2']].values"
   ]
  },
  {
   "cell_type": "markdown",
   "metadata": {
    "hidden": true
   },
   "source": [
    "df.drop([max(df.index)],inplace=True)"
   ]
  },
  {
   "cell_type": "markdown",
   "metadata": {
    "hidden": true
   },
   "source": [
    "df"
   ]
  },
  {
   "cell_type": "markdown",
   "metadata": {
    "hidden": true
   },
   "source": [
    "df[['x3','x4', 'y3','y4', 'z3','z4']] = df[['x3','x4', 'y3','y4', 'z3','z4']].astype(int)"
   ]
  },
  {
   "cell_type": "markdown",
   "metadata": {
    "hidden": true
   },
   "source": [
    "df[['x5','x6', 'y5','y6', 'z5','z6']] = df[['x5','x6', 'y5','y6', 'z5','z6']].astype(int)"
   ]
  },
  {
   "cell_type": "markdown",
   "metadata": {
    "hidden": true
   },
   "source": [
    "df[[x+\"-20\" for x in ['x1','x2', 'y1','y2', 'z1','z2']]] = df[[x+\"-20\" for x in ['x1','x2', 'y1','y2', 'z1','z2']]].astype(int)"
   ]
  },
  {
   "cell_type": "markdown",
   "metadata": {
    "hidden": true
   },
   "source": [
    "df.to_csv(\"Z:\\\\hi.csv\", index=False)"
   ]
  },
  {
   "cell_type": "code",
   "execution_count": null,
   "metadata": {
    "collapsed": true,
    "hidden": true
   },
   "outputs": [],
   "source": [
    "for sheet in C.sheetnames:\n",
    "    src_data_df = pd.read_excel(C.xls_name, sheet)\n",
    "    a = []\n",
    "    for _, row in src_data_df.iterrows():\n",
    "        a.append(row[\"z2\"] - row[\"z1\"])\n",
    "    print(np.median(a) / C.lesion_ratio)"
   ]
  },
  {
   "cell_type": "markdown",
   "metadata": {
    "heading_collapsed": true
   },
   "source": [
    "# Generate data"
   ]
  },
  {
   "cell_type": "code",
   "execution_count": null,
   "metadata": {
    "ExecuteTime": {
     "end_time": "2018-04-12T19:47:59.067261Z",
     "start_time": "2018-04-12T19:47:59.045201Z"
    },
    "collapsed": true,
    "hidden": true
   },
   "outputs": [],
   "source": [
    "cls = \"net\"\n",
    "C = config.Config()\n",
    "\n",
    "try:\n",
    "    dims_df = pd.read_csv(C.dims_df_path)\n",
    "except FileNotFoundError:\n",
    "    dims_df = pd.DataFrame(columns = [\"AccNum\", \"x\", \"y\", \"z\"])\n",
    "\n",
    "i = C.cls_names.index(cls)\n",
    "\n",
    "src_data_df = pd.read_excel(C.xls_name, \"NET\")\n",
    "src_data_df = drm._filter_voi_df(src_data_df, C)\n",
    "\n",
    "if not os.path.exists(os.path.join(C.full_img_dir, cls)):\n",
    "    os.makedirs(os.path.join(C.full_img_dir, cls))\n",
    "\n",
    "acc_nums = list(set(src_data_df['Patient E Number'].values))\n",
    "\n",
    "for cnt, acc_num in enumerate(acc_nums):\n",
    "    dims_df = drm._dcm2npy(load_dir=os.path.join(C.img_dirs[i], acc_num),\n",
    "        save_path=os.path.join(C.full_img_dir, cls, str(acc_num) + \".npy\"), dims_df=dims_df,\n",
    "        info=src_data_df.loc[src_data_df['Patient E Number'].astype(str) == acc_num],\n",
    "        overwrite=False, verbose=False)"
   ]
  },
  {
   "cell_type": "code",
   "execution_count": 5,
   "metadata": {
    "ExecuteTime": {
     "end_time": "2018-04-12T20:14:25.606994Z",
     "start_time": "2018-04-12T20:12:00.486465Z"
    },
    "collapsed": true,
    "hidden": true
   },
   "outputs": [],
   "source": [
    "a = hf.load_dcm_header(r\"Z:\\Paula\\E101686218\\ax lava dynaplan bh autovoice_10\")"
   ]
  },
  {
   "cell_type": "code",
   "execution_count": 58,
   "metadata": {
    "ExecuteTime": {
     "end_time": "2018-04-17T16:58:34.423998Z",
     "start_time": "2018-04-17T16:58:34.335764Z"
    },
    "collapsed": true,
    "hidden": true
   },
   "outputs": [],
   "source": [
    "df = pd.read_excel(C.xls_name, \"HCC\")"
   ]
  },
  {
   "cell_type": "code",
   "execution_count": 37,
   "metadata": {
    "ExecuteTime": {
     "end_time": "2018-04-17T14:49:43.448617Z",
     "start_time": "2018-04-17T14:46:47.784376Z"
    },
    "collapsed": true,
    "hidden": true
   },
   "outputs": [],
   "source": [
    "importlib.reload(hf)\n",
    "hf.split_dcm(r\"Z:\\Paula\\Imaging\\E105160323\\T1_multiphase\")"
   ]
  },
  {
   "cell_type": "code",
   "execution_count": 61,
   "metadata": {
    "ExecuteTime": {
     "end_time": "2018-04-12T21:53:27.664092Z",
     "start_time": "2018-04-12T21:53:25.285623Z"
    },
    "collapsed": true,
    "hidden": true,
    "scrolled": true
   },
   "outputs": [],
   "source": [
    "importlib.reload(drm)\n",
    "drm.report_missing_folders()#cls=\"adenoma\")"
   ]
  },
  {
   "cell_type": "code",
   "execution_count": 33,
   "metadata": {
    "ExecuteTime": {
     "end_time": "2018-04-12T20:54:48.216817Z",
     "start_time": "2018-04-12T20:54:48.212799Z"
    },
    "collapsed": true,
    "hidden": true
   },
   "outputs": [],
   "source": [
    "def sort_by_series_num(arr):\n",
    "    return sorted(arr, key=lambda x: int(x[x.rfind(\"_\")+1:]))\n",
    "\n",
    "def semiauto_rename_phases(lesion_dir):\n",
    "    for accnum in glob.glob(join(lesion_dir, \"*\")):\n",
    "        fnames = [join(accnum, x) for x in [\"T1_BL\", \"T1_AP\", \"T1_VP\", \"T1_EQ\"]]\n",
    "        if np.all([exists(fnames[i]) for i in range(len(fnames))]):\n",
    "            continue\n",
    "\n",
    "        PRE = [x for x in os.listdir(accnum) if \"pre\" in x] #(\"vibe\" in x or \"axial abd\" in x) and \n",
    "        if len(PRE) > 1:\n",
    "            PRE = [x for x in PRE if \"reg\" in x]\n",
    "\n",
    "        DCE = [x for x in os.listdir(accnum) if (\"vibe\" in x or \"dynamic\" in x) and \"post\" in x and \"sub\" not in x]\n",
    "        if len(DCE) > 0:\n",
    "            DCE = sort_by_series_num([x for x in DCE if \"min\" not in x])\n",
    "        else:\n",
    "            DCE = [x for x in os.listdir(accnum) if \"art\" in x and \"reg\" in x] + \\\n",
    "                    [x for x in os.listdir(accnum) if (\"port\" in x or \"pv\" in x) and \"reg\" in x] + \\\n",
    "                    [x for x in os.listdir(accnum) if \"equ\" in x and \"reg\" in x]\n",
    "        if len(DCE) == 0:\n",
    "            DCE = [x for x in os.listdir(accnum) if \"ART\" in x] + \\\n",
    "                    [x for x in os.listdir(accnum) if \"PV\" in x] + \\\n",
    "                    [x for x in os.listdir(accnum) if \"DL\" in x]\n",
    "        if len(DCE) < 3: #len(PRE) == 0 or \n",
    "            continue\n",
    "\n",
    "        print(accnum, DCE[0], DCE[1], DCE[2], sep=\"\\n\") #sort_by_series_num(PRE)[-1], \n",
    "        correct = input()\n",
    "        if correct == \"0\":\n",
    "            #os.rename(join(accnum, PRE[0]), join(accnum, \"T1_BL\"))\n",
    "            os.rename(join(accnum, DCE[0]), join(accnum, \"T1_AP\"))\n",
    "            os.rename(join(accnum, DCE[1]), join(accnum, \"T1_VP\"))\n",
    "            os.rename(join(accnum, DCE[2]), join(accnum, \"T1_EQ\"))\n",
    "        elif correct == \"q\":\n",
    "            return\n",
    "        else:\n",
    "            continue"
   ]
  },
  {
   "cell_type": "code",
   "execution_count": 15,
   "metadata": {
    "ExecuteTime": {
     "end_time": "2018-04-16T22:34:23.914847Z",
     "start_time": "2018-04-16T22:34:23.911839Z"
    },
    "hidden": true
   },
   "outputs": [
    {
     "data": {
      "text/plain": [
       "'Z:\\\\Paula\\\\13216353\\\\T1_multiphase'"
      ]
     },
     "execution_count": 15,
     "metadata": {},
     "output_type": "execute_result"
    }
   ],
   "source": [
    "join(C.img_dirs[0], '13216353', 'T1_multiphase')"
   ]
  },
  {
   "cell_type": "code",
   "execution_count": 17,
   "metadata": {
    "ExecuteTime": {
     "end_time": "2018-04-16T22:36:05.619866Z",
     "start_time": "2018-04-16T22:34:56.247439Z"
    },
    "collapsed": true,
    "hidden": true
   },
   "outputs": [],
   "source": [
    "head = hf.load_dcm_header(join(C.img_dirs[0], '13216353', 'T1_multiphase'))"
   ]
  },
  {
   "cell_type": "code",
   "execution_count": 31,
   "metadata": {
    "ExecuteTime": {
     "end_time": "2018-04-29T14:32:50.711070Z",
     "start_time": "2018-04-29T14:32:17.241049Z"
    },
    "collapsed": true,
    "hidden": true
   },
   "outputs": [],
   "source": [
    "importlib.reload(drm)\n",
    "drm.dcm2npy_batch(acc_nums=['E102088195'], overwrite=True)#cls=\"adenoma\", acc_nums=['E100693392'], overwrite=True)"
   ]
  },
  {
   "cell_type": "code",
   "execution_count": null,
   "metadata": {
    "ExecuteTime": {
     "end_time": "2018-04-13T22:28:53.183928Z",
     "start_time": "2018-04-13T22:20:57.241485Z"
    },
    "collapsed": true,
    "hidden": true
   },
   "outputs": [],
   "source": [
    "drm.load_patient_info()#'hcc', acc_nums=['E100398240'], overwrite=False)"
   ]
  },
  {
   "cell_type": "code",
   "execution_count": 95,
   "metadata": {
    "ExecuteTime": {
     "end_time": "2018-04-17T18:23:37.141233Z",
     "start_time": "2018-04-17T18:23:36.683382Z"
    },
    "collapsed": true,
    "hidden": true,
    "scrolled": true
   },
   "outputs": [],
   "source": [
    "importlib.reload(drm)\n",
    "drm.load_vois_batch(\"hcc\", [\"E101779513\"], overwrite=True)#acc_nums=[\"E101686218\", \"E106120112\", \"E102256903\", \"E104476566\", \"E105228237\"], overwrite=True)"
   ]
  },
  {
   "cell_type": "code",
   "execution_count": 3,
   "metadata": {
    "ExecuteTime": {
     "end_time": "2018-05-01T20:52:05.257354Z",
     "start_time": "2018-05-01T20:52:04.964922Z"
    },
    "collapsed": true,
    "hidden": true
   },
   "outputs": [],
   "source": [
    "voi_df_art, voi_df_ven, voi_df_eq = drm.get_voi_dfs()"
   ]
  },
  {
   "cell_type": "code",
   "execution_count": 74,
   "metadata": {
    "ExecuteTime": {
     "end_time": "2018-04-17T18:15:05.057094Z",
     "start_time": "2018-04-17T18:15:05.048097Z"
    },
    "hidden": true
   },
   "outputs": [
    {
     "data": {
      "text/html": [
       "<div>\n",
       "<style>\n",
       "    .dataframe thead tr:only-child th {\n",
       "        text-align: right;\n",
       "    }\n",
       "\n",
       "    .dataframe thead th {\n",
       "        text-align: left;\n",
       "    }\n",
       "\n",
       "    .dataframe tbody tr th {\n",
       "        vertical-align: top;\n",
       "    }\n",
       "</style>\n",
       "<table border=\"1\" class=\"dataframe\">\n",
       "  <thead>\n",
       "    <tr style=\"text-align: right;\">\n",
       "      <th></th>\n",
       "      <th>acc_num</th>\n",
       "      <th>x1</th>\n",
       "      <th>x2</th>\n",
       "      <th>y1</th>\n",
       "      <th>y2</th>\n",
       "      <th>z1</th>\n",
       "      <th>z2</th>\n",
       "      <th>cls</th>\n",
       "      <th>real_dx</th>\n",
       "      <th>real_dy</th>\n",
       "      <th>real_dz</th>\n",
       "      <th>run_num</th>\n",
       "    </tr>\n",
       "  </thead>\n",
       "  <tbody>\n",
       "  </tbody>\n",
       "</table>\n",
       "</div>"
      ],
      "text/plain": [
       "Empty DataFrame\n",
       "Columns: [acc_num, x1, x2, y1, y2, z1, z2, cls, real_dx, real_dy, real_dz, run_num]\n",
       "Index: []"
      ]
     },
     "execution_count": 74,
     "metadata": {},
     "output_type": "execute_result"
    }
   ],
   "source": [
    "voi_df_art[(voi_df_art[\"real_dz\"] <= 0) | (voi_df_art[\"real_dy\"] <= 0) | (voi_df_art[\"real_dx\"] <= 0)]"
   ]
  },
  {
   "cell_type": "code",
   "execution_count": 12,
   "metadata": {
    "ExecuteTime": {
     "end_time": "2018-05-01T21:02:24.373881Z",
     "start_time": "2018-05-01T21:02:19.589670Z"
    },
    "hidden": true
   },
   "outputs": [
    {
     "name": "stdout",
     "output_type": "stream",
     "text": [
      "."
     ]
    },
    {
     "data": {
      "text/plain": [
       "[None]"
      ]
     },
     "execution_count": 12,
     "metadata": {},
     "output_type": "execute_result"
    }
   ],
   "source": [
    "importlib.reload(vm)\n",
    "[vm.reset_accnum(x) for x in [\"12807018\"]]"
   ]
  },
  {
   "cell_type": "markdown",
   "metadata": {
    "ExecuteTime": {
     "end_time": "2018-04-17T16:32:42.107390Z",
     "start_time": "2018-04-17T16:31:40.510382Z"
    },
    "hidden": true
   },
   "source": [
    "vm.reload_accnum('hcc', ['E100793044', '13216353', 'E101892543', '13278054', 'E101779513', 'E101686218'], augment=True, overwrite=True)"
   ]
  },
  {
   "cell_type": "code",
   "execution_count": 139,
   "metadata": {
    "ExecuteTime": {
     "end_time": "2018-04-17T20:20:01.921411Z",
     "start_time": "2018-04-17T20:19:52.266860Z"
    },
    "hidden": true,
    "scrolled": true
   },
   "outputs": [
    {
     "name": "stdout",
     "output_type": "stream",
     "text": [
      "."
     ]
    }
   ],
   "source": [
    "importlib.reload(vm)\n",
    "vm.extract_vois(\"hcc\", [\"E101892543\"])"
   ]
  },
  {
   "cell_type": "code",
   "execution_count": 100,
   "metadata": {
    "ExecuteTime": {
     "end_time": "2018-04-17T18:24:09.500544Z",
     "start_time": "2018-04-17T18:24:09.496533Z"
    },
    "collapsed": true,
    "hidden": true
   },
   "outputs": [],
   "source": [
    "small_voi_df = pd.read_csv(C.small_voi_path)\n",
    "small_voi_df[small_voi_df[\"acc_num\"] == \"E101779513\"]"
   ]
  },
  {
   "cell_type": "code",
   "execution_count": 4,
   "metadata": {
    "ExecuteTime": {
     "end_time": "2018-04-23T20:58:42.257921Z",
     "start_time": "2018-04-23T20:38:47.557155Z"
    },
    "hidden": true,
    "scrolled": true
   },
   "outputs": [
    {
     "name": "stdout",
     "output_type": "stream",
     "text": [
      "hcc 678.7057266235352\n",
      "non-hcc 491.1044969558716\n"
     ]
    }
   ],
   "source": [
    "importlib.reload(vm)\n",
    "#vm.extract_vois()#cls=\"abscess\")\n",
    "vm.save_unaugmented_set()\n",
    "vm.save_augmented_set()\n",
    "#vm.parallel_augment(num_cores=3)#, overwrite=100)"
   ]
  },
  {
   "cell_type": "code",
   "execution_count": null,
   "metadata": {
    "ExecuteTime": {
     "end_time": "2018-04-17T20:17:00.964525Z",
     "start_time": "2018-04-17T20:16:44.826356Z"
    },
    "collapsed": true,
    "hidden": true
   },
   "outputs": [],
   "source": [
    "importlib.reload(vm)\n",
    "vm.xref_dirs_with_excel()"
   ]
  },
  {
   "cell_type": "code",
   "execution_count": 15,
   "metadata": {
    "collapsed": true,
    "hidden": true
   },
   "outputs": [],
   "source": [
    "for d in glob.glob(join(\"E:\\\\for_charlie\\\\small\", \"*\")):\n",
    "    dd=basename(d)\n",
    "    os.rename(d, join(dirname(d), prv.encode(dd[:dd.find('_')])+dd[dd.find('_'):]))"
   ]
  },
  {
   "cell_type": "code",
   "execution_count": 3,
   "metadata": {
    "ExecuteTime": {
     "end_time": "2018-04-26T02:53:13.308393Z",
     "start_time": "2018-04-26T02:53:13.304381Z"
    },
    "collapsed": true,
    "hidden": true
   },
   "outputs": [],
   "source": [
    "Z_reader = ['E103312835_1','12823036_0','12569915_0','E102093118_0','E102782525_0','12799652_0','E100894274_0','12874178_3','E100314676_0','12842070_0','13092836_2','12239783_0','12783467_0','13092966_0','E100962970_0','E100183257_1','E102634440_0','E106182827_0','12582632_0','E100121654_0','E100407633_0','E105310461_0','12788616_0','E101225606_0','12678910_1','E101083458_1','12324408_0','13031955_0','E101415263_0','E103192914_0','12888679_2','E106096969_0','E100192709_1','13112385_1','E100718398_0','12207268_0','E105244287_0','E102095465_0','E102613189_0','12961059_0','11907521_0','E105311123_0','12552705_0','E100610622_0','12975280_0','E105918926_0','E103020139_1','E101069048_1','E105427046_0','13028374_0','E100262351_0','12302576_0','12451831_0','E102929168_0','E100383453_0','E105344747_0','12569826_0','E100168661_0','12530153_0','E104697262_0']"
   ]
  },
  {
   "cell_type": "code",
   "execution_count": 5,
   "metadata": {
    "ExecuteTime": {
     "end_time": "2018-04-26T02:55:55.754096Z",
     "start_time": "2018-04-26T02:55:55.263505Z"
    },
    "collapsed": true,
    "hidden": true,
    "scrolled": true
   },
   "outputs": [],
   "source": [
    "importlib.reload(vm)\n",
    "vm.save_vois_as_imgs(lesion_ids=Z_reader, save_dir=\"E:\\\\Reader study\", separate_by_cls=True)"
   ]
  },
  {
   "cell_type": "code",
   "execution_count": null,
   "metadata": {
    "ExecuteTime": {
     "end_time": "2018-04-17T20:12:56.306918Z",
     "start_time": "2018-04-17T20:12:36.357462Z"
    },
    "collapsed": true,
    "hidden": true
   },
   "outputs": [],
   "source": [
    "vm.save_vois_as_imgs(save_dir=\"D:\\\\Paula-project\\\\screenshots\\\\small\", separate_by_cls=True)\n",
    "vm.save_imgs_with_bbox(save_dir=\"D:\\\\Paula-project\\\\screenshots\\\\large\", separate_by_cls=True)"
   ]
  },
  {
   "cell_type": "code",
   "execution_count": null,
   "metadata": {
    "collapsed": true,
    "hidden": true
   },
   "outputs": [],
   "source": [
    "voi_df_art[voi_df_art['id'].str.contains('2424_2')]\n",
    "#voi_df_art[voi_df_art.index.str.contains('9185_0')]"
   ]
  },
  {
   "cell_type": "code",
   "execution_count": 109,
   "metadata": {
    "collapsed": true,
    "hidden": true
   },
   "outputs": [],
   "source": [
    "d=[]\n",
    "for i in range(6):\n",
    "    df = pd.read_excel('Z:\\\\Prototype1e.xlsx', sheetname=C.sheetnames[i])\n",
    "    d.append(df[df['Run'] <= 2]['Diameter'].values)\n",
    "d = np.concatenate(d)\n",
    "np.std(d)"
   ]
  },
  {
   "cell_type": "markdown",
   "metadata": {},
   "source": [
    "# Plotting"
   ]
  },
  {
   "cell_type": "code",
   "execution_count": 164,
   "metadata": {
    "ExecuteTime": {
     "end_time": "2018-04-29T15:49:38.250977Z",
     "start_time": "2018-04-29T15:48:10.207175Z"
    },
    "collapsed": true
   },
   "outputs": [],
   "source": [
    "drm.dcm2npy_batch(acc_nums=[\"E104201087\"])"
   ]
  },
  {
   "cell_type": "code",
   "execution_count": 26,
   "metadata": {
    "ExecuteTime": {
     "end_time": "2018-05-01T23:51:56.540980Z",
     "start_time": "2018-05-01T23:51:45.592984Z"
    }
   },
   "outputs": [
    {
     "ename": "ValueError",
     "evalue": "img is empty",
     "output_type": "error",
     "traceback": [
      "\u001b[1;31m---------------------------------------------------------------------------\u001b[0m",
      "\u001b[1;31mValueError\u001b[0m                                Traceback (most recent call last)",
      "\u001b[1;32m<ipython-input-26-5ffa6a449cc4>\u001b[0m in \u001b[0;36m<module>\u001b[1;34m()\u001b[0m\n\u001b[1;32m----> 1\u001b[1;33m \u001b[0mvm\u001b[0m\u001b[1;33m.\u001b[0m\u001b[0mreset_accnum\u001b[0m\u001b[1;33m(\u001b[0m\u001b[1;34m\"13216353\"\u001b[0m\u001b[1;33m)\u001b[0m\u001b[1;33m\u001b[0m\u001b[0m\n\u001b[0m",
      "\u001b[1;32m~\\Documents\\voi-classifier\\python\\voi_methods.py\u001b[0m in \u001b[0;36mreset_accnum\u001b[1;34m(acc_num)\u001b[0m\n\u001b[0;32m    207\u001b[0m \u001b[1;33m\u001b[0m\u001b[0m\n\u001b[0;32m    208\u001b[0m         \u001b[1;32mfor\u001b[0m \u001b[0mcls\u001b[0m \u001b[1;32min\u001b[0m \u001b[0mC\u001b[0m\u001b[1;33m.\u001b[0m\u001b[0mclasses_to_include\u001b[0m\u001b[1;33m:\u001b[0m\u001b[1;33m\u001b[0m\u001b[0m\n\u001b[1;32m--> 209\u001b[1;33m                 \u001b[0mreload_accnum\u001b[0m\u001b[1;33m(\u001b[0m\u001b[0mcls\u001b[0m\u001b[1;33m,\u001b[0m \u001b[0macc_nums\u001b[0m\u001b[1;33m=\u001b[0m\u001b[1;33m[\u001b[0m\u001b[0macc_num\u001b[0m\u001b[1;33m]\u001b[0m\u001b[1;33m,\u001b[0m \u001b[0maugment\u001b[0m\u001b[1;33m=\u001b[0m\u001b[1;32mTrue\u001b[0m\u001b[1;33m)\u001b[0m\u001b[1;33m\u001b[0m\u001b[0m\n\u001b[0m\u001b[0;32m    210\u001b[0m \u001b[1;33m\u001b[0m\u001b[0m\n\u001b[0;32m    211\u001b[0m \u001b[1;32mdef\u001b[0m \u001b[0mreload_accnum\u001b[0m\u001b[1;33m(\u001b[0m\u001b[0mcls\u001b[0m\u001b[1;33m=\u001b[0m\u001b[1;32mNone\u001b[0m\u001b[1;33m,\u001b[0m \u001b[0macc_nums\u001b[0m\u001b[1;33m=\u001b[0m\u001b[1;32mNone\u001b[0m\u001b[1;33m,\u001b[0m \u001b[0maugment\u001b[0m\u001b[1;33m=\u001b[0m\u001b[1;32mTrue\u001b[0m\u001b[1;33m)\u001b[0m\u001b[1;33m:\u001b[0m\u001b[1;33m\u001b[0m\u001b[0m\n",
      "\u001b[1;32m~\\Documents\\voi-classifier\\python\\voi_methods.py\u001b[0m in \u001b[0;36mreload_accnum\u001b[1;34m(cls, acc_nums, augment)\u001b[0m\n\u001b[0;32m    219\u001b[0m                         \u001b[0mos\u001b[0m\u001b[1;33m.\u001b[0m\u001b[0mmakedirs\u001b[0m\u001b[1;33m(\u001b[0m\u001b[0mjoin\u001b[0m\u001b[1;33m(\u001b[0m\u001b[0mbase_dir\u001b[0m\u001b[1;33m,\u001b[0m \u001b[0mcls\u001b[0m\u001b[1;33m)\u001b[0m\u001b[1;33m)\u001b[0m\u001b[1;33m\u001b[0m\u001b[0m\n\u001b[0;32m    220\u001b[0m \u001b[1;33m\u001b[0m\u001b[0m\n\u001b[1;32m--> 221\u001b[1;33m         \u001b[0mextract_vois\u001b[0m\u001b[1;33m(\u001b[0m\u001b[0mcls\u001b[0m\u001b[1;33m,\u001b[0m \u001b[0macc_nums\u001b[0m\u001b[1;33m)\u001b[0m\u001b[1;33m\u001b[0m\u001b[0m\n\u001b[0m\u001b[0;32m    222\u001b[0m         \u001b[0msave_unaugmented_set\u001b[0m\u001b[1;33m(\u001b[0m\u001b[0mcls\u001b[0m\u001b[1;33m,\u001b[0m \u001b[0macc_nums\u001b[0m\u001b[1;33m)\u001b[0m\u001b[1;33m\u001b[0m\u001b[0m\n\u001b[0;32m    223\u001b[0m         \u001b[1;32mif\u001b[0m \u001b[0maugment\u001b[0m\u001b[1;33m:\u001b[0m\u001b[1;33m\u001b[0m\u001b[0m\n",
      "\u001b[1;32m~\\Documents\\voi-classifier\\python\\dr_methods.py\u001b[0m in \u001b[0;36mwrapper\u001b[1;34m(*args, **kwargs)\u001b[0m\n\u001b[0;32m     46\u001b[0m                                 \u001b[0mresult\u001b[0m \u001b[1;33m=\u001b[0m \u001b[0mfunc\u001b[0m\u001b[1;33m(\u001b[0m\u001b[0mcls\u001b[0m\u001b[1;33m,\u001b[0m \u001b[1;33m*\u001b[0m\u001b[0margs\u001b[0m\u001b[1;33m[\u001b[0m\u001b[1;36m1\u001b[0m\u001b[1;33m:\u001b[0m\u001b[1;33m]\u001b[0m\u001b[1;33m,\u001b[0m \u001b[1;33m**\u001b[0m\u001b[0mkwargs\u001b[0m\u001b[1;33m)\u001b[0m\u001b[1;33m\u001b[0m\u001b[0m\n\u001b[0;32m     47\u001b[0m                 \u001b[1;32melse\u001b[0m\u001b[1;33m:\u001b[0m\u001b[1;33m\u001b[0m\u001b[0m\n\u001b[1;32m---> 48\u001b[1;33m                         \u001b[0mresult\u001b[0m \u001b[1;33m=\u001b[0m \u001b[0mfunc\u001b[0m\u001b[1;33m(\u001b[0m\u001b[1;33m*\u001b[0m\u001b[0margs\u001b[0m\u001b[1;33m,\u001b[0m \u001b[1;33m**\u001b[0m\u001b[0mkwargs\u001b[0m\u001b[1;33m)\u001b[0m\u001b[1;33m\u001b[0m\u001b[0m\n\u001b[0m\u001b[0;32m     49\u001b[0m                 \u001b[1;32mreturn\u001b[0m \u001b[0mresult\u001b[0m\u001b[1;33m\u001b[0m\u001b[0m\n\u001b[0;32m     50\u001b[0m \u001b[1;33m\u001b[0m\u001b[0m\n",
      "\u001b[1;32m~\\Documents\\voi-classifier\\python\\voi_methods.py\u001b[0m in \u001b[0;36mextract_vois\u001b[1;34m(cls, acc_nums)\u001b[0m\n\u001b[0;32m    392\u001b[0m \u001b[1;33m\u001b[0m\u001b[0m\n\u001b[0;32m    393\u001b[0m                         \u001b[0mcropped_img\u001b[0m\u001b[1;33m,\u001b[0m \u001b[0msmall_voi\u001b[0m \u001b[1;33m=\u001b[0m \u001b[0m_extract_voi\u001b[0m\u001b[1;33m(\u001b[0m\u001b[0mimg\u001b[0m\u001b[1;33m,\u001b[0m \u001b[0mcopy\u001b[0m\u001b[1;33m.\u001b[0m\u001b[0mdeepcopy\u001b[0m\u001b[1;33m(\u001b[0m\u001b[0mvoi_row\u001b[0m\u001b[1;33m)\u001b[0m\u001b[1;33m,\u001b[0m \u001b[0mC\u001b[0m\u001b[1;33m.\u001b[0m\u001b[0mdims\u001b[0m\u001b[1;33m,\u001b[0m \u001b[0mven_voi\u001b[0m\u001b[1;33m=\u001b[0m\u001b[0mven_voi\u001b[0m\u001b[1;33m,\u001b[0m \u001b[0meq_voi\u001b[0m\u001b[1;33m=\u001b[0m\u001b[0meq_voi\u001b[0m\u001b[1;33m)\u001b[0m\u001b[1;33m\u001b[0m\u001b[0m\n\u001b[1;32m--> 394\u001b[1;33m                         \u001b[0mcropped_img\u001b[0m \u001b[1;33m=\u001b[0m \u001b[0mtr\u001b[0m\u001b[1;33m.\u001b[0m\u001b[0mnormalize_intensity\u001b[0m\u001b[1;33m(\u001b[0m\u001b[0mcropped_img\u001b[0m\u001b[1;33m,\u001b[0m \u001b[0mmax_intensity\u001b[0m\u001b[1;33m=\u001b[0m\u001b[1;36m1\u001b[0m\u001b[1;33m,\u001b[0m \u001b[0mmin_intensity\u001b[0m\u001b[1;33m=\u001b[0m\u001b[1;33m-\u001b[0m\u001b[1;36m1\u001b[0m\u001b[1;33m)\u001b[0m\u001b[1;33m\u001b[0m\u001b[0m\n\u001b[0m\u001b[0;32m    395\u001b[0m                         \u001b[1;31m#cropped_img = tr.normalize_intensity(cropped_img, max_intensity=2, min_intensity=None) - 1\u001b[0m\u001b[1;33m\u001b[0m\u001b[1;33m\u001b[0m\u001b[0m\n\u001b[0;32m    396\u001b[0m                         \u001b[1;31m#cropped_img = _scale_intensity_df(cropped_img, intensity_df[intensity_df[\"acc_num\"] == img_fn[:img_fn.find('.')]])\u001b[0m\u001b[1;33m\u001b[0m\u001b[1;33m\u001b[0m\u001b[0m\n",
      "\u001b[1;32mc:\\users\\clinton\\documents\\niftiutils\\niftiutils\\transforms.py\u001b[0m in \u001b[0;36mnormalize_intensity\u001b[1;34m(img, max_intensity, min_intensity, fraction, out_type)\u001b[0m\n\u001b[0;32m     51\u001b[0m         \u001b[1;32mif\u001b[0m \u001b[0mlen\u001b[0m\u001b[1;33m(\u001b[0m\u001b[0mimg\u001b[0m\u001b[1;33m.\u001b[0m\u001b[0mshape\u001b[0m\u001b[1;33m)\u001b[0m \u001b[1;33m==\u001b[0m \u001b[1;36m4\u001b[0m\u001b[1;33m:\u001b[0m\u001b[1;33m\u001b[0m\u001b[0m\n\u001b[0;32m     52\u001b[0m                 \u001b[1;32mfor\u001b[0m \u001b[0mch\u001b[0m \u001b[1;32min\u001b[0m \u001b[0mrange\u001b[0m\u001b[1;33m(\u001b[0m\u001b[0mimg\u001b[0m\u001b[1;33m.\u001b[0m\u001b[0mshape\u001b[0m\u001b[1;33m[\u001b[0m\u001b[1;33m-\u001b[0m\u001b[1;36m1\u001b[0m\u001b[1;33m]\u001b[0m\u001b[1;33m)\u001b[0m\u001b[1;33m:\u001b[0m\u001b[1;33m\u001b[0m\u001b[0m\n\u001b[1;32m---> 53\u001b[1;33m                         \u001b[0mimg\u001b[0m\u001b[1;33m[\u001b[0m\u001b[1;33m...\u001b[0m\u001b[1;33m,\u001b[0m\u001b[0mch\u001b[0m\u001b[1;33m]\u001b[0m \u001b[1;33m=\u001b[0m \u001b[0mnormalize_intensity\u001b[0m\u001b[1;33m(\u001b[0m\u001b[0mimg\u001b[0m\u001b[1;33m[\u001b[0m\u001b[1;33m...\u001b[0m\u001b[1;33m,\u001b[0m\u001b[0mch\u001b[0m\u001b[1;33m]\u001b[0m\u001b[1;33m,\u001b[0m \u001b[1;33m*\u001b[0m\u001b[0mget_arg_values\u001b[0m\u001b[1;33m(\u001b[0m\u001b[0mcurrentframe\u001b[0m\u001b[1;33m(\u001b[0m\u001b[1;33m)\u001b[0m\u001b[1;33m)\u001b[0m\u001b[1;33m[\u001b[0m\u001b[1;36m1\u001b[0m\u001b[1;33m:\u001b[0m\u001b[1;33m]\u001b[0m\u001b[1;33m)\u001b[0m\u001b[1;33m\u001b[0m\u001b[0m\n\u001b[0m\u001b[0;32m     54\u001b[0m \u001b[1;33m\u001b[0m\u001b[0m\n\u001b[0;32m     55\u001b[0m         \u001b[1;32melif\u001b[0m \u001b[0mlen\u001b[0m\u001b[1;33m(\u001b[0m\u001b[0mimg\u001b[0m\u001b[1;33m.\u001b[0m\u001b[0mshape\u001b[0m\u001b[1;33m)\u001b[0m \u001b[1;33m==\u001b[0m \u001b[1;36m3\u001b[0m\u001b[1;33m:\u001b[0m\u001b[1;33m\u001b[0m\u001b[0m\n",
      "\u001b[1;32mc:\\users\\clinton\\documents\\niftiutils\\niftiutils\\transforms.py\u001b[0m in \u001b[0;36mnormalize_intensity\u001b[1;34m(img, max_intensity, min_intensity, fraction, out_type)\u001b[0m\n\u001b[0;32m     64\u001b[0m                 \u001b[0mimg\u001b[0m \u001b[1;33m-=\u001b[0m \u001b[0mimg\u001b[0m\u001b[1;33m.\u001b[0m\u001b[0mmin\u001b[0m\u001b[1;33m(\u001b[0m\u001b[1;33m)\u001b[0m\u001b[1;33m\u001b[0m\u001b[0m\n\u001b[0;32m     65\u001b[0m                 \u001b[1;32mif\u001b[0m \u001b[0mimg\u001b[0m\u001b[1;33m.\u001b[0m\u001b[0mmax\u001b[0m\u001b[1;33m(\u001b[0m\u001b[1;33m)\u001b[0m \u001b[1;33m==\u001b[0m \u001b[1;36m0\u001b[0m\u001b[1;33m:\u001b[0m\u001b[1;33m\u001b[0m\u001b[0m\n\u001b[1;32m---> 66\u001b[1;33m                         \u001b[1;32mraise\u001b[0m \u001b[0mValueError\u001b[0m\u001b[1;33m(\u001b[0m\u001b[1;34m\"img is empty\"\u001b[0m\u001b[1;33m)\u001b[0m\u001b[1;33m\u001b[0m\u001b[0m\n\u001b[0m\u001b[0;32m     67\u001b[0m \u001b[1;33m\u001b[0m\u001b[0m\n\u001b[0;32m     68\u001b[0m                 \u001b[0mimg\u001b[0m \u001b[1;33m=\u001b[0m \u001b[0mimg\u001b[0m \u001b[1;33m*\u001b[0m \u001b[1;33m(\u001b[0m\u001b[0mtarget_max\u001b[0m \u001b[1;33m-\u001b[0m \u001b[0mtarget_min\u001b[0m\u001b[1;33m)\u001b[0m \u001b[1;33m/\u001b[0m \u001b[0mimg\u001b[0m\u001b[1;33m.\u001b[0m\u001b[0mmax\u001b[0m\u001b[1;33m(\u001b[0m\u001b[1;33m)\u001b[0m \u001b[1;33m+\u001b[0m \u001b[0mtarget_min\u001b[0m\u001b[1;33m\u001b[0m\u001b[0m\n",
      "\u001b[1;31mValueError\u001b[0m: img is empty"
     ]
    }
   ],
   "source": [
    "vm.reset_accnum(\"13216353\")"
   ]
  },
  {
   "cell_type": "code",
   "execution_count": 169,
   "metadata": {
    "ExecuteTime": {
     "end_time": "2018-04-29T15:50:28.669074Z",
     "start_time": "2018-04-29T15:50:28.663058Z"
    },
    "collapsed": true
   },
   "outputs": [],
   "source": [
    "voi_df_art, voi_df_ven, voi_df_eq = drm.get_voi_dfs()"
   ]
  },
  {
   "cell_type": "code",
   "execution_count": 170,
   "metadata": {
    "ExecuteTime": {
     "end_time": "2018-04-29T15:50:30.211414Z",
     "start_time": "2018-04-29T15:50:30.198379Z"
    }
   },
   "outputs": [
    {
     "data": {
      "text/html": [
       "<div>\n",
       "<style>\n",
       "    .dataframe thead tr:only-child th {\n",
       "        text-align: right;\n",
       "    }\n",
       "\n",
       "    .dataframe thead th {\n",
       "        text-align: left;\n",
       "    }\n",
       "\n",
       "    .dataframe tbody tr th {\n",
       "        vertical-align: top;\n",
       "    }\n",
       "</style>\n",
       "<table border=\"1\" class=\"dataframe\">\n",
       "  <thead>\n",
       "    <tr style=\"text-align: right;\">\n",
       "      <th></th>\n",
       "      <th>acc_num</th>\n",
       "      <th>x1</th>\n",
       "      <th>x2</th>\n",
       "      <th>y1</th>\n",
       "      <th>y2</th>\n",
       "      <th>z1</th>\n",
       "      <th>z2</th>\n",
       "      <th>cls</th>\n",
       "      <th>real_dx</th>\n",
       "      <th>real_dy</th>\n",
       "      <th>real_dz</th>\n",
       "      <th>run_num</th>\n",
       "    </tr>\n",
       "  </thead>\n",
       "  <tbody>\n",
       "    <tr>\n",
       "      <th>E106097366_0</th>\n",
       "      <td>E106097366</td>\n",
       "      <td>109</td>\n",
       "      <td>142</td>\n",
       "      <td>212</td>\n",
       "      <td>237</td>\n",
       "      <td>39</td>\n",
       "      <td>49</td>\n",
       "      <td>hcc</td>\n",
       "      <td>22.916666</td>\n",
       "      <td>17.36111</td>\n",
       "      <td>30.0</td>\n",
       "      <td>1</td>\n",
       "    </tr>\n",
       "  </tbody>\n",
       "</table>\n",
       "</div>"
      ],
      "text/plain": [
       "                 acc_num   x1   x2   y1   y2  z1  z2  cls    real_dx  \\\n",
       "E106097366_0  E106097366  109  142  212  237  39  49  hcc  22.916666   \n",
       "\n",
       "               real_dy  real_dz  run_num  \n",
       "E106097366_0  17.36111     30.0        1  "
      ]
     },
     "execution_count": 170,
     "metadata": {},
     "output_type": "execute_result"
    }
   ],
   "source": [
    "voi_df_art[voi_df_art[\"acc_num\"] == \"E106097366\"]"
   ]
  },
  {
   "cell_type": "code",
   "execution_count": null,
   "metadata": {
    "ExecuteTime": {
     "end_time": "2018-05-01T20:52:22.309738Z",
     "start_time": "2018-05-01T20:52:22.013951Z"
    },
    "collapsed": true
   },
   "outputs": [],
   "source": [
    "importlib.reload(drm)\n",
    "cls = \"hcc\"\n",
    "acc_num = 'E103301795'\n",
    "img = np.load(C.full_img_dir+\"\\\\\"+cls + \"\\\\\"+acc_num + \".npy\")\n",
    "vis.draw_flipped_slices(img, voi_df_art[(voi_df_art[\"acc_num\"] == acc_num) & (voi_df_art[\"cls\"] == cls)].iloc[0])\n",
    "print(np.amin(img), np.amax(img), np.mean(img))\n",
    "#hf.plot_section_auto(img)"
   ]
  },
  {
   "cell_type": "code",
   "execution_count": 61,
   "metadata": {
    "ExecuteTime": {
     "end_time": "2018-04-21T15:40:53.407366Z",
     "start_time": "2018-04-21T15:38:49.299589Z"
    },
    "scrolled": true
   },
   "outputs": [
    {
     "name": "stdout",
     "output_type": "stream",
     "text": [
      "......."
     ]
    },
    {
     "data": {
      "text/plain": [
       "[None, None, None, None, None, None, None]"
      ]
     },
     "execution_count": 61,
     "metadata": {},
     "output_type": "execute_result"
    }
   ],
   "source": [
    "importlib.reload(vm)\n",
    "[vm.reset_accnum(x[:-2]) for x in ['13010227_0', 'E105993177_0',\n",
    " 'E100852770_0', 'E103835733_0', '12888679_0', 'E100458776_0', 'E100894274_0']]"
   ]
  },
  {
   "cell_type": "code",
   "execution_count": null,
   "metadata": {
    "ExecuteTime": {
     "end_time": "2018-05-01T22:41:37.146699Z",
     "start_time": "2018-05-01T22:41:26.363Z"
    }
   },
   "outputs": [],
   "source": [
    "importlib.reload(vm)\n",
    "img = vm.plot_check(2, \"13216353\", normalize=[-1,1])\n",
    "print(np.amin(img), np.amax(img), np.mean(img))"
   ]
  },
  {
   "cell_type": "code",
   "execution_count": null,
   "metadata": {
    "collapsed": true
   },
   "outputs": [],
   "source": [
    "for cls in C.classes_to_include:\n",
    "    print(cls)\n",
    "    print('\\n'.join([x[:-4] for x in os.listdir(\"E:\\\\lesion_imgs_small\\\\\"+cls)]))\n",
    "    #vm.save_vois_as_imgs(cls=cls, save_dir=\"E:\\\\lesion_imgs_small\\\\\"+cls, fn_suffix=\"\")"
   ]
  },
  {
   "cell_type": "code",
   "execution_count": 294,
   "metadata": {
    "collapsed": true
   },
   "outputs": [],
   "source": [
    "lids = ['E106097391_0.npy', 'E104978772_1.npy', '12900535_0.npy', 'E100150242_0.npy', 'E105490014_0.npy', 'E103147618_0.npy', 'E103510187_0.npy', 'E104657225_0.npy', 'E100551966_0.npy', 'E101388602_0.npy', 'E100215900_8.npy', 'E100215900_7.npy', 'E104045692_0.npy', '13104521_0.npy', 'E100383453_0.npy', '12943286_0.npy', '12271995_0.npy', 'E102315724_0.npy', 'E104949189_0.npy', 'E100511083_1.npy', 'E101579471_0.npy', '13018986_1.npy', '13203550_8.npy', '13112385_0.npy', '12712463_0.npy', '12361082_0.npy', '13028374_0.npy', 'E103985934_1.npy', 'E100529980_0.npy', '12042703_3.npy', '12961059_0.npy', 'E105724706_2.npy', 'E100592424_2.npy', 'E103104254_0.npy', 'E104546069_0.npy', 'E101665217_1.npy', '12090000_0.npy', 'E100592424_1.npy', '12961059_1.npy', 'E105474285_0.npy', '12502068_1.npy', 'E100814791_0.npy', 'E102613189_0.npy', 'E105427046_0.npy', 'E102881031_1.npy', 'E102929168_0.npy', 'E102310482_0.npy', 'E102095465_0.npy', 'E101811299_0.npy', 'E104737273_0.npy', '12890053_0.npy', 'E100168661_1.npy', '12637865_0.npy', 'E100168661_2.npy', '12239783_0.npy', '12707781_0.npy', '12706568_1.npy', '12823036_0.npy', '12404081_0.npy', '12365693_1.npy']"
   ]
  },
  {
   "cell_type": "code",
   "execution_count": 301,
   "metadata": {
    "collapsed": true
   },
   "outputs": [],
   "source": [
    "lids = ['13018986_1', '13203550_8', 'E100168661_1', '12706568_1', 'E104189184_0', 'E100215900_7', '12900535_0', 'E100551966_0',\n",
    "       'E102310482_0', 'E102095465_0', 'E105474285_0', 'E105724706_2']"
   ]
  },
  {
   "cell_type": "code",
   "execution_count": 32,
   "metadata": {
    "collapsed": true
   },
   "outputs": [],
   "source": [
    "misclass_img = ['E100610622_0', '12788616_0', '13092836_2', 'E100407633_0', 'E103312835_1', 'E103020139_1']"
   ]
  },
  {
   "cell_type": "code",
   "execution_count": null,
   "metadata": {
    "collapsed": true
   },
   "outputs": [],
   "source": [
    "vm.save_imgs_with_bbox(lesion_ids=misclass_img, save_dir=\"E:\\\\Z_test\", separate_by_cls=False)"
   ]
  },
  {
   "cell_type": "code",
   "execution_count": 8,
   "metadata": {
    "ExecuteTime": {
     "end_time": "2018-04-24T14:37:00.870441Z",
     "start_time": "2018-04-24T14:37:00.196177Z"
    },
    "collapsed": true
   },
   "outputs": [],
   "source": [
    "importlib.reload(vm)\n",
    "save_dir = \"D:\\\\Paula-project\\\\screenshots\"\n",
    "#save_dir = \"E:\\\\lesion_imgs_small\"\n",
    "vm.save_vois_as_imgs(save_dir=save_dir, separate_by_cls=True, normalize=[-1,1])"
   ]
  },
  {
   "cell_type": "markdown",
   "metadata": {
    "heading_collapsed": true
   },
   "source": [
    "# Generate reader study samples"
   ]
  },
  {
   "cell_type": "code",
   "execution_count": 24,
   "metadata": {
    "collapsed": true,
    "hidden": true,
    "scrolled": true
   },
   "outputs": [],
   "source": [
    "voi_df_art, voi_df_ven, voi_df_eq = drm.get_voi_dfs()"
   ]
  },
  {
   "cell_type": "code",
   "execution_count": 120,
   "metadata": {
    "collapsed": true,
    "hidden": true
   },
   "outputs": [],
   "source": [
    "Z_reader = ['E103312835_1','12823036_0','12569915_0','E102093118_0','E102782525_0','12799652_0','E100894274_0','12874178_3','E100314676_0','12842070_0','13092836_2','12239783_0','12783467_0','13092966_0','E100962970_0','E100183257_1','E102634440_0','E106182827_0','12582632_0','E100121654_0','E100407633_0','E105310461_0','12788616_0','E101225606_0','12678910_1','E101083458_1','12324408_0','13031955_0','E101415263_0','E103192914_0','12888679_2','E106096969_0','E100192709_1','13112385_1','E100718398_0','12207268_0','E105244287_0','E102095465_0','E102613189_0','12961059_0','11907521_0','E105311123_0','12552705_0','E100610622_0','12975280_0','E105918926_0','E103020139_1','E101069048_1','E105427046_0','13028374_0','E100262351_0','12302576_0','12451831_0','E102929168_0','E100383453_0','E105344747_0','12569826_0','E100168661_0','12530153_0','E104697262_0']\n",
    "\n",
    "banned_accnums = [z[:z.find('_')] for z in Z_reader]\n",
    "\n",
    "voi_reader = voi_df_art[voi_df_art[\"id\"].isin(Z_reader)]#voi_df_art[voi_df_art.index.isin(Z_reader)]"
   ]
  },
  {
   "cell_type": "code",
   "execution_count": 260,
   "metadata": {
    "collapsed": true,
    "hidden": true
   },
   "outputs": [],
   "source": [
    "f_map = {}\n",
    "b_map = {}\n",
    "cls_map = {}\n",
    "\n",
    "for cls in C.classes_to_include:\n",
    "    for index, row in voi_reader[voi_reader['cls'] == cls].iterrows():\n",
    "        img_id = str(sum([row[\"x1\"], row[\"x2\"], row[\"y1\"], row[\"y2\"]])*10+row[\"z1\"])\n",
    "        acc_num = row[\"Filename\"][:-4] #row[\"acc_num\"]\n",
    "        f_map[row[\"id\"]] = img_id\n",
    "        b_map[img_id] = row[\"id\"]#acc_num\n",
    "        cls_map[row[\"id\"]] = row[\"cls\"]#acc_num\n",
    "        #if cls == \"fnh\":#img_id == \"4613\":\n",
    "        print(\"Z:\\\\DICOMs\\\\\" + cls + \"\\\\\" + acc_num, \n",
    "              row[\"x1\"], row[\"x2\"], row[\"y1\"], row[\"z1\"], \"---\", img_id)\n",
    "        try:\n",
    "            print(b_map[img_id])\n",
    "        except:\n",
    "            pass\n",
    "\n",
    "#f_map['E100199185'] = '46130'\n",
    "#b_map['4613'] = \"12678910_1\"\n",
    "#b_map['46130'] = \"E100199185_0\""
   ]
  },
  {
   "cell_type": "code",
   "execution_count": 262,
   "metadata": {
    "collapsed": true,
    "hidden": true
   },
   "outputs": [],
   "source": [
    "with open('Z:\\\\answer_key.csv', 'w', newline='') as csvfile:\n",
    "    writer = csv.writer(csvfile)\n",
    "    for k in Z_reader:\n",
    "        writer.writerow([k, f_map[k], cls_map[k]])"
   ]
  },
  {
   "cell_type": "code",
   "execution_count": null,
   "metadata": {
    "collapsed": true,
    "hidden": true
   },
   "outputs": [],
   "source": [
    "hitlist = []\n",
    "replacements = []\n",
    "\n",
    "for secret_id in ['4181', '2858', '3505', '4194', '2821', '5912', '5047'] + ['4354', '3049', '5438'] + ['46130']:#['4158', '5720', '46130', '7444']:\n",
    "    print(cls_map[b_map[secret_id]])\n",
    "    hitlist.append(b_map[secret_id])\n",
    "    replacements.append(cls_map[b_map[secret_id]])"
   ]
  },
  {
   "cell_type": "code",
   "execution_count": 165,
   "metadata": {
    "collapsed": true,
    "hidden": true
   },
   "outputs": [],
   "source": [
    "for secret_id in ['4181', '2858', '3505', '4194', '2821', '5912', '5047']:\n",
    "    base_dir = r\"Z:\\Inter-reader study\\DICOMs\"\n",
    "    shutil.move(os.path.join(base_dir, secret_id), os.path.join(base_dir, \"Unused\", secret_id))"
   ]
  },
  {
   "cell_type": "code",
   "execution_count": 33,
   "metadata": {
    "collapsed": true,
    "hidden": true
   },
   "outputs": [],
   "source": [
    "multi_accnums = [accnum for accnum, count in zip(*np.unique(list(b_map.values()), return_counts=True)) if count>1]\n",
    "print(multi_accnums)"
   ]
  },
  {
   "cell_type": "code",
   "execution_count": 276,
   "metadata": {
    "collapsed": true,
    "hidden": true
   },
   "outputs": [],
   "source": [
    "for _, row in voi_reader.iterrows():\n",
    "    cls = row[\"cls\"]\n",
    "    acc_num = str(row[\"Filename\"])[:-4]\n",
    "    for protocol in [\"T1_AP\", \"T1_VP\", \"T1_EQ\"]:\n",
    "        target_dir = os.path.join(\"Z:\\\\Inter-reader study\\\\DICOMs\\\\extras\", row['id'], protocol)\n",
    "        shutil.copytree(os.path.join(\"Z:\\\\DICOMs\", cls, acc_num, protocol), target_dir)"
   ]
  },
  {
   "cell_type": "code",
   "execution_count": null,
   "metadata": {
    "collapsed": true,
    "hidden": true
   },
   "outputs": [],
   "source": [
    "for acc_num in f_map:\n",
    "    try:\n",
    "        os.rename(os.path.join(\"Z:\\\\Inter-reader study\\\\DICOMs\", acc_num),\n",
    "                  os.path.join(\"Z:\\\\Inter-reader study\\\\DICOMs\", f_map[acc_num]))\n",
    "    except Exception as e:\n",
    "        print(acc_num, e)"
   ]
  },
  {
   "cell_type": "markdown",
   "metadata": {
    "heading_collapsed": true
   },
   "source": [
    "# Read Run Stats"
   ]
  },
  {
   "cell_type": "code",
   "execution_count": 47,
   "metadata": {
    "ExecuteTime": {
     "end_time": "2018-05-01T19:38:22.984397Z",
     "start_time": "2018-05-01T19:38:22.980387Z"
    },
    "collapsed": true,
    "hidden": true
   },
   "outputs": [],
   "source": [
    "a = ['E106158268_0','E102424706_0','12570256_0','E100574689_0','E103301795_0','E106120112_0','E100899012_0','E105095742_0','12807018_0','E103678771_0','13278054_0','13094833_0','E100899012_1','E102088195_1','E100834987_0','12801670_0','13013150_0','E101554830_0','E100304876_1','E100793044_0','E101449797_0','E105124678_0','E101686218_0','12249331_0','E101158768_0','E101356604_0','12993437_0']"
   ]
  },
  {
   "cell_type": "code",
   "execution_count": 50,
   "metadata": {
    "ExecuteTime": {
     "end_time": "2018-05-01T19:40:04.265385Z",
     "start_time": "2018-05-01T19:40:00.036181Z"
    },
    "collapsed": true,
    "hidden": true
   },
   "outputs": [],
   "source": [
    "vm.save_vois_as_imgs(save_dir=r\"Z:\\Paula\\Screenshots\")"
   ]
  },
  {
   "cell_type": "code",
   "execution_count": null,
   "metadata": {
    "collapsed": true,
    "hidden": true
   },
   "outputs": [],
   "source": []
  },
  {
   "cell_type": "code",
   "execution_count": 4,
   "metadata": {
    "ExecuteTime": {
     "end_time": "2018-05-01T15:28:19.912019Z",
     "start_time": "2018-05-01T15:28:19.872854Z"
    },
    "hidden": true,
    "scrolled": true
   },
   "outputs": [
    {
     "data": {
      "text/plain": [
       "[('E106158268_0', 164),\n",
       " ('E102424706_0', 163),\n",
       " ('12570256_0', 151),\n",
       " ('E100574689_0', 132),\n",
       " ('E103301795_0', 116),\n",
       " ('E106120112_0', 107),\n",
       " ('E100899012_0', 101),\n",
       " ('E105095742_0', 87),\n",
       " ('12807018_0', 86),\n",
       " ('E103678771_0', 67),\n",
       " ('13278054_0', 62),\n",
       " ('13094833_0', 55),\n",
       " ('E100899012_1', 53),\n",
       " ('E102088195_1', 53),\n",
       " ('E100834987_0', 50),\n",
       " ('', 36),\n",
       " ('12801670_0', 33),\n",
       " ('13013150_0', 32),\n",
       " ('E101554830_0', 23),\n",
       " ('E100304876_1', 19),\n",
       " ('E100793044_0', 14),\n",
       " ('E101449797_0', 13),\n",
       " ('E105124678_0', 12),\n",
       " ('E101686218_0', 11),\n",
       " ('12249331_0', 11),\n",
       " ('E101158768_0', 11),\n",
       " ('E101356604_0', 10),\n",
       " ('12993437_0', 10),\n",
       " ('E101523098_2', 9),\n",
       " ('E105152299_0', 8),\n",
       " ('E104587275_0', 7),\n",
       " ('12993437_1', 7),\n",
       " ('E101880575_0', 5),\n",
       " ('13003974_0', 4),\n",
       " ('E104099161_0', 4),\n",
       " ('12914169_0', 4),\n",
       " ('E100623842_0', 4),\n",
       " ('13216353_0', 3),\n",
       " ('13160747_0', 3),\n",
       " ('E100767497_0', 3),\n",
       " ('12150654_0', 2),\n",
       " ('E100201679_0', 2),\n",
       " ('13222034_1', 2),\n",
       " ('E105344790_0', 2),\n",
       " ('13197011_0', 2),\n",
       " ('E102031795_1', 2),\n",
       " ('E102256903_0', 1),\n",
       " ('E104833037_0', 1),\n",
       " ('E100352680_1', 1),\n",
       " ('E101779513_0', 1),\n",
       " ('E100207241_0', 1),\n",
       " ('E104082888_0', 1),\n",
       " ('E105492224_0', 1),\n",
       " ('12489661_0', 1),\n",
       " ('E102388865_0', 1),\n",
       " ('E101453378_0', 1),\n",
       " ('E105333398_0', 1),\n",
       " ('E102027289_0', 1),\n",
       " ('E101068962_0', 1),\n",
       " ('E101523098_3', 1),\n",
       " ('13222034_0', 1),\n",
       " ('E101453378_1', 1),\n",
       " ('E102088195_0', 1),\n",
       " ('E101072162_0', 1)]"
      ]
     },
     "execution_count": 4,
     "metadata": {},
     "output_type": "execute_result"
    }
   ],
   "source": [
    "df = pd.read_csv(C.run_stats_path)\n",
    "\n",
    "df = df.dropna(subset=['misclassified_test'])\n",
    "df = df.loc[:,['misclassified_test','misclassified_train']]\n",
    "#df = df.dropna()\n",
    "#b = a.iloc[0]['y_pred_raw']\n",
    "#b = hf.str_to_lists(b)\n",
    "\n",
    "mis_test = df['misclassified_train'].values\n",
    "mis_test += df['misclassified_test'].values\n",
    "\n",
    "mis_test = ''.join(mis_test)\n",
    "mis_test = mis_test.replace(' ','')\n",
    "mis_test = mis_test.replace(\"'\",\"\")\n",
    "mis_test = re.sub(r'\\]\\[', ',', mis_test)\n",
    "mis_test = mis_test.replace(\"[\",\"\")\n",
    "mis_test = mis_test.replace(\"]\",\"\")\n",
    "\n",
    "mis_test = mis_test.split(',')\n",
    "\n",
    "unique, counts = np.unique(mis_test, return_counts=True)\n",
    "\n",
    "x = dict(zip(unique, counts))\n",
    "\n",
    "sorted_x = sorted(x.items(), key=operator.itemgetter(1), reverse=True)\n",
    "sorted_x"
   ]
  },
  {
   "cell_type": "code",
   "execution_count": 46,
   "metadata": {
    "ExecuteTime": {
     "end_time": "2018-05-01T19:36:44.137679Z",
     "start_time": "2018-05-01T19:36:44.116622Z"
    },
    "hidden": true,
    "scrolled": true
   },
   "outputs": [
    {
     "name": "stdout",
     "output_type": "stream",
     "text": [
      "E106158268_0 \t 164\n",
      "E102424706_0 \t 163\n",
      "12570256_0 \t 151\n",
      "E100574689_0 \t 132\n",
      "E103301795_0 \t 116\n",
      "E106120112_0 \t 107\n",
      "E100899012_0 \t 101\n",
      "E105095742_0 \t 87\n",
      "12807018_0 \t 86\n",
      "E103678771_0 \t 67\n",
      "13278054_0 \t 62\n",
      "13094833_0 \t 55\n",
      "E100899012_1 \t 53\n",
      "E102088195_1 \t 53\n",
      "E100834987_0 \t 50\n",
      " \t 36\n",
      "12801670_0 \t 33\n",
      "13013150_0 \t 32\n",
      "E101554830_0 \t 23\n",
      "E100304876_1 \t 19\n",
      "E100793044_0 \t 14\n",
      "E101449797_0 \t 13\n",
      "E105124678_0 \t 12\n",
      "E101686218_0 \t 11\n",
      "12249331_0 \t 11\n",
      "E101158768_0 \t 11\n",
      "E101356604_0 \t 10\n",
      "12993437_0 \t 10\n",
      "E101523098_2 \t 9\n",
      "E105152299_0 \t 8\n",
      "E104587275_0 \t 7\n",
      "12993437_1 \t 7\n",
      "E101880575_0 \t 5\n",
      "13003974_0 \t 4\n",
      "E104099161_0 \t 4\n",
      "12914169_0 \t 4\n",
      "E100623842_0 \t 4\n",
      "13216353_0 \t 3\n",
      "13160747_0 \t 3\n",
      "E100767497_0 \t 3\n",
      "12150654_0 \t 2\n",
      "E100201679_0 \t 2\n",
      "13222034_1 \t 2\n",
      "E105344790_0 \t 2\n",
      "13197011_0 \t 2\n",
      "E102031795_1 \t 2\n",
      "E102256903_0 \t 1\n",
      "E104833037_0 \t 1\n",
      "E100352680_1 \t 1\n",
      "E101779513_0 \t 1\n",
      "E100207241_0 \t 1\n",
      "E104082888_0 \t 1\n",
      "E105492224_0 \t 1\n",
      "12489661_0 \t 1\n",
      "E102388865_0 \t 1\n",
      "E101453378_0 \t 1\n",
      "E105333398_0 \t 1\n",
      "E102027289_0 \t 1\n",
      "E101068962_0 \t 1\n",
      "E101523098_3 \t 1\n",
      "13222034_0 \t 1\n",
      "E101453378_1 \t 1\n",
      "E102088195_0 \t 1\n",
      "E101072162_0 \t 1\n"
     ]
    }
   ],
   "source": [
    "for z in sorted_x:\n",
    "    print(z[0],'\\t',z[1])"
   ]
  },
  {
   "cell_type": "code",
   "execution_count": 18,
   "metadata": {
    "ExecuteTime": {
     "end_time": "2018-04-24T14:42:00.707325Z",
     "start_time": "2018-04-24T14:41:59.957067Z"
    },
    "collapsed": true,
    "hidden": true
   },
   "outputs": [],
   "source": [
    "vm.save_vois_as_imgs(lesion_ids=[k for k in x if x[k]>2 and k!=\"\"], save_dir=\"Z:\\\\Paula\\\\Misclassifications\", separate_by_cls=True, normalize=[-1,1])"
   ]
  },
  {
   "cell_type": "markdown",
   "metadata": {
    "collapsed": true,
    "hidden": true,
    "scrolled": true
   },
   "source": [
    "df = pd.read_csv(C.run_stats_path)\n",
    "df = df[(df['test_num'] == 10) & (~df['time_dist']) & (df['steps_per_epoch'] == 750) & (df['timestamp'] < 1515879326)]"
   ]
  },
  {
   "cell_type": "code",
   "execution_count": 6,
   "metadata": {
    "ExecuteTime": {
     "end_time": "2018-05-01T18:49:17.373971Z",
     "start_time": "2018-05-01T18:49:17.361940Z"
    },
    "collapsed": true,
    "hidden": true
   },
   "outputs": [],
   "source": [
    "df = pd.read_csv(C.run_stats_path)"
   ]
  },
  {
   "cell_type": "code",
   "execution_count": 21,
   "metadata": {
    "collapsed": true,
    "hidden": true
   },
   "outputs": [],
   "source": [
    "train_acc = [1-x.count(\"npy\")/434 for x in df['misclassified_train'].values]"
   ]
  },
  {
   "cell_type": "code",
   "execution_count": 7,
   "metadata": {
    "ExecuteTime": {
     "end_time": "2018-05-01T18:49:20.630324Z",
     "start_time": "2018-05-01T18:49:20.613278Z"
    },
    "hidden": true
   },
   "outputs": [
    {
     "name": "stdout",
     "output_type": "stream",
     "text": [
      "725.0\t143.0\t\n",
      "70.0\t652.0\t\n"
     ]
    }
   ],
   "source": [
    "cms = df['confusion_matrix'].values\n",
    "cms = ''.join(cms)\n",
    "\n",
    "supercm = hf.str_to_lists(cms, dtype=int)\n",
    "supercm = [supercm[rownum:rownum+C.nb_classes] for rownum in range(0,len(supercm),C.nb_classes)]\n",
    "supercm = np.array(supercm)\n",
    "\n",
    "cm_sum = np.empty((C.nb_classes,C.nb_classes))\n",
    "\n",
    "for i in range(C.nb_classes):\n",
    "    for j in range(C.nb_classes):\n",
    "        cm_sum[i,j] = np.sum(supercm[:,i,j])\n",
    "\n",
    "for i in range(C.nb_classes):\n",
    "    for j in range(C.nb_classes):\n",
    "        print(cm_sum[j,i],end='\\t')\n",
    "    print()"
   ]
  },
  {
   "cell_type": "code",
   "execution_count": 8,
   "metadata": {
    "ExecuteTime": {
     "end_time": "2018-05-01T18:49:33.272914Z",
     "start_time": "2018-05-01T18:49:33.267901Z"
    },
    "hidden": true
   },
   "outputs": [
    {
     "data": {
      "text/plain": [
       "795.0"
      ]
     },
     "execution_count": 8,
     "metadata": {},
     "output_type": "execute_result"
    }
   ],
   "source": [
    "np.sum(cm_sum[0,:])"
   ]
  },
  {
   "cell_type": "code",
   "execution_count": 9,
   "metadata": {
    "ExecuteTime": {
     "end_time": "2018-05-01T18:52:40.039486Z",
     "start_time": "2018-05-01T18:52:40.035480Z"
    },
    "collapsed": true,
    "hidden": true
   },
   "outputs": [],
   "source": [
    "avg_tpr = cm_sum[0,0]/np.sum(cm_sum[0,:])\n",
    "avg_fpr = np.sum(cm_sum[1:,0])/np.sum(cm_sum[1:,:])"
   ]
  },
  {
   "cell_type": "code",
   "execution_count": 7,
   "metadata": {
    "collapsed": true,
    "hidden": true
   },
   "outputs": [],
   "source": [
    "fpr = [np.sum(cm[1:,0])/np.sum(cm[1:,:]) for cm in supercm]\n",
    "tpr = [cm[0,0]/np.sum(cm[0,:]) for cm in supercm]"
   ]
  },
  {
   "cell_type": "code",
   "execution_count": null,
   "metadata": {
    "collapsed": true,
    "hidden": true
   },
   "outputs": [],
   "source": []
  },
  {
   "cell_type": "code",
   "execution_count": 37,
   "metadata": {
    "ExecuteTime": {
     "end_time": "2018-05-01T19:33:42.450291Z",
     "start_time": "2018-05-01T19:33:42.404174Z"
    },
    "collapsed": true,
    "hidden": true
   },
   "outputs": [],
   "source": [
    "test_num = 10\n",
    "truths = df['y_true'].values\n",
    "truths = ''.join(truths)\n",
    "truths = hf.str_to_lists(truths, dtype=int)\n",
    "truths = np.array(truths)\n",
    "\n",
    "predictions = df['y_pred_raw'].values\n",
    "predictions = ''.join(predictions)\n",
    "predictions = hf.str_to_lists(predictions, dtype=float)\n",
    "predictions = [predictions[rownum:rownum+test_num] for rownum in range(0,len(predictions),test_num)]\n",
    "predictions = np.array(predictions)\n",
    "\n",
    "hcc_thresh = []\n",
    "nonhcc_thresh = []\n",
    "thresh_dict = {}\n",
    "\n",
    "for run_num in range(len(df)):\n",
    "    for lesion_num in range(test_num):\n",
    "        if truths[run_num, lesion_num] == C.classes_to_include.index('hcc'):\n",
    "            hcc_thresh.append(predictions[run_num, lesion_num, 0])\n",
    "            if predictions[run_num, lesion_num, 0] in thresh_dict:\n",
    "                thresh_dict[predictions[run_num, lesion_num, 0]+1e-6] = 'hcc'\n",
    "            else:\n",
    "                thresh_dict[predictions[run_num, lesion_num, 0]] = 'hcc'\n",
    "        else:\n",
    "            nonhcc_thresh.append(predictions[run_num, lesion_num, 0])\n",
    "            if predictions[run_num, lesion_num, 0] in thresh_dict:\n",
    "                thresh_dict[predictions[run_num, lesion_num, 0]+1e-6] = 'non-hcc'\n",
    "            else:\n",
    "                thresh_dict[predictions[run_num, lesion_num, 0]] = 'non-hcc'"
   ]
  },
  {
   "cell_type": "code",
   "execution_count": 39,
   "metadata": {
    "ExecuteTime": {
     "end_time": "2018-05-01T19:33:48.935292Z",
     "start_time": "2018-05-01T19:33:48.931301Z"
    },
    "hidden": true
   },
   "outputs": [
    {
     "data": {
      "text/plain": [
       "1590"
      ]
     },
     "execution_count": 39,
     "metadata": {},
     "output_type": "execute_result"
    }
   ],
   "source": [
    "len(thresh_dict)"
   ]
  },
  {
   "cell_type": "code",
   "execution_count": 43,
   "metadata": {
    "ExecuteTime": {
     "end_time": "2018-05-01T19:34:07.037526Z",
     "start_time": "2018-05-01T19:34:07.028001Z"
    },
    "collapsed": true,
    "hidden": true
   },
   "outputs": [],
   "source": [
    "true = 1590//2\n",
    "false = 1590//2\n",
    "TPR = [true/true]\n",
    "FPR = [false/false]\n",
    "\n",
    "hcc_correct = 1590//2\n",
    "hcc_wrong = 1590//2\n",
    "for key in sorted(thresh_dict):\n",
    "    if thresh_dict[key] == 'hcc':\n",
    "        hcc_correct -= 1\n",
    "    else:\n",
    "        hcc_wrong -= 1\n",
    "    TPR.append(hcc_correct/true)\n",
    "    FPR.append(hcc_wrong/false)"
   ]
  },
  {
   "cell_type": "code",
   "execution_count": 41,
   "metadata": {
    "ExecuteTime": {
     "end_time": "2018-05-01T19:33:55.224381Z",
     "start_time": "2018-05-01T19:33:55.220376Z"
    },
    "hidden": true
   },
   "outputs": [
    {
     "data": {
      "text/plain": [
       "(0.17987421383647798, 0.9119496855345912)"
      ]
     },
     "execution_count": 41,
     "metadata": {},
     "output_type": "execute_result"
    }
   ],
   "source": [
    "avg_fpr, avg_tpr"
   ]
  },
  {
   "cell_type": "code",
   "execution_count": 44,
   "metadata": {
    "ExecuteTime": {
     "end_time": "2018-05-01T19:34:08.318266Z",
     "start_time": "2018-05-01T19:34:08.196911Z"
    },
    "hidden": true
   },
   "outputs": [
    {
     "data": {
      "text/plain": [
       "[<matplotlib.text.Text at 0x1e9da707908>,\n",
       " <matplotlib.text.Text at 0x1e9da6fa390>,\n",
       " <matplotlib.text.Text at 0x1e9da6fe6d8>,\n",
       " <matplotlib.text.Text at 0x1e9da74c978>,\n",
       " <matplotlib.text.Text at 0x1e9da751470>,\n",
       " <matplotlib.text.Text at 0x1e9da751f28>,\n",
       " <matplotlib.text.Text at 0x1e9da755a20>,\n",
       " <matplotlib.text.Text at 0x1e9da73c390>]"
      ]
     },
     "execution_count": 44,
     "metadata": {},
     "output_type": "execute_result"
    },
    {
     "data": {
      "image/png": "[encoded data removed]",
      "text/plain": [
       "<matplotlib.figure.Figure at 0x1e9da4aba90>"
      ]
     },
     "metadata": {},
     "output_type": "display_data"
    }
   ],
   "source": [
    "plt.style.use('seaborn')\n",
    "fig, ax = plt.subplots(1,1,figsize=(6, 6))\n",
    "ax.plot(FPR, TPR, 'k', label='Model', linewidth=2)\n",
    "#ax.plot(.04, 1, 'ko', label='ModelReader', markersize=12)\n",
    "#ax.plot(0, .7, 'k^', label='RAD2', markersize=12)\n",
    "#ax.plot(0, .6, 'k ^', label='RAD1', markersize=12)\n",
    "ax.plot(avg_fpr, avg_tpr, 'ko', label='ModelAvg', markersize=12)\n",
    "#ax.plot(fpr, tpr, 'o', ms=5)\n",
    "ax.plot([0,1], [0,1], 'k--', lw=1)\n",
    "vals = ax.get_xticks()\n",
    "ax.set_xticklabels(['{:3.0f}%'.format(x*100) for x in vals], size=20, color='k')\n",
    "vals = ax.get_yticks()\n",
    "ax.set_yticklabels(['{:3.0f}%'.format(x*100) for x in vals], size=20, color='k')\n",
    "\n",
    "#ax.xaxis.set_major_formatter(plt.FuncFormatter('{:.0f}%'.format))\n",
    "#ax.yaxis.set_major_formatter(plt.FuncFormatter('{:.0f}%'.format))"
   ]
  },
  {
   "cell_type": "code",
   "execution_count": 56,
   "metadata": {
    "hidden": true,
    "scrolled": true
   },
   "outputs": [
    {
     "data": {
      "text/plain": [
       "[<matplotlib.lines.Line2D at 0x1fcb624feb8>]"
      ]
     },
     "execution_count": 56,
     "metadata": {},
     "output_type": "execute_result"
    }
   ],
   "source": [
    "sp.plot(FPR, TPR, 'k', label='Model', linewidth=3)\n",
    "sp.plot(.1, .9, 'g^', label='Model', markersize=10)\n",
    "sp.plot(.43, 1., 'r^', label='R2', markersize=10)\n",
    "sp.plot(.67, 1., 'b^', label='R1', markersize=10)"
   ]
  },
  {
   "cell_type": "code",
   "execution_count": null,
   "metadata": {
    "collapsed": true,
    "hidden": true
   },
   "outputs": [],
   "source": []
  },
  {
   "cell_type": "code",
   "execution_count": 45,
   "metadata": {
    "ExecuteTime": {
     "end_time": "2018-05-01T19:35:10.873409Z",
     "start_time": "2018-05-01T19:35:10.868424Z"
    },
    "hidden": true
   },
   "outputs": [
    {
     "data": {
      "text/plain": [
       "0.9009295518373531"
      ]
     },
     "execution_count": 45,
     "metadata": {},
     "output_type": "execute_result"
    }
   ],
   "source": [
    "AUC = sum([(FPR[i]-FPR[i+1])*TPR[i] for i in range(len(FPR)-1)])\n",
    "AUC"
   ]
  },
  {
   "cell_type": "markdown",
   "metadata": {
    "hidden": true
   },
   "source": [
    "a = run_stats.loc[:,['y_true','y_pred_raw']]\n",
    "a = a.dropna()\n",
    "b = a.iloc[0]['y_pred_raw']\n",
    "b = hf.str_to_lists(b)"
   ]
  },
  {
   "cell_type": "markdown",
   "metadata": {},
   "source": [
    "# Artificial images"
   ]
  },
  {
   "cell_type": "code",
   "execution_count": null,
   "metadata": {
    "collapsed": true
   },
   "outputs": [],
   "source": [
    "agm.gen_imgs()\n",
    "img = agm.visualize_gen_img('hemangioma')"
   ]
  }
 ],
 "metadata": {
  "anaconda-cloud": {},
  "kernelspec": {
   "display_name": "Python 3",
   "language": "python",
   "name": "python3"
  },
  "language_info": {
   "codemirror_mode": {
    "name": "ipython",
    "version": 3
   },
   "file_extension": ".py",
   "mimetype": "text/x-python",
   "name": "python",
   "nbconvert_exporter": "python",
   "pygments_lexer": "ipython3",
   "version": "3.5.0"
  },
  "varInspector": {
   "cols": {
    "lenName": 16,
    "lenType": 16,
    "lenVar": 40
   },
   "kernels_config": {
    "python": {
     "delete_cmd_postfix": "",
     "delete_cmd_prefix": "del ",
     "library": "var_list.py",
     "varRefreshCmd": "print(var_dic_list())"
    },
    "r": {
     "delete_cmd_postfix": ") ",
     "delete_cmd_prefix": "rm(",
     "library": "var_list.r",
     "varRefreshCmd": "cat(var_dic_list()) "
    }
   },
   "types_to_exclude": [
    "module",
    "function",
    "builtin_function_or_method",
    "instance",
    "_Feature"
   ],
   "window_display": false
  }
 },
 "nbformat": 4,
 "nbformat_minor": 1
}
