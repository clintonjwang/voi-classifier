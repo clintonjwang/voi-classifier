{
 "cells": [
  {
   "cell_type": "markdown",
   "metadata": {},
   "source": [
    "Retrieves images from \"raw_imgs\" folder and stores them in \"full_imgs\". Retrieves spreadsheet listing VOIs and stores them in text file."
   ]
  },
  {
   "cell_type": "markdown",
   "metadata": {},
   "source": [
    "TODO: function to read existing vois, drop one class, then load the class back in. Requires that drm.load_imgs write to a DataFrame rather than an array"
   ]
  },
  {
   "cell_type": "code",
   "execution_count": 3,
   "metadata": {
    "collapsed": true,
    "scrolled": false
   },
   "outputs": [],
   "source": [
    "import config\n",
    "import dr_methods as drm\n",
    "import helper_fxns as hf\n",
    "import importlib\n",
    "import matplotlib.pyplot as plt\n",
    "import numpy as np\n",
    "import os\n",
    "import pandas as pd\n",
    "import time\n",
    "import voi_methods as vm\n",
    "%matplotlib inline"
   ]
  },
  {
   "cell_type": "code",
   "execution_count": 12,
   "metadata": {
    "collapsed": true,
    "scrolled": true
   },
   "outputs": [],
   "source": [
    "importlib.reload(config)\n",
    "importlib.reload(hf)\n",
    "importlib.reload(vm)\n",
    "importlib.reload(drm)\n",
    "C = config.Config()"
   ]
  },
  {
   "cell_type": "markdown",
   "metadata": {},
   "source": [
    "# Read Run Stats"
   ]
  },
  {
   "cell_type": "code",
   "execution_count": 74,
   "metadata": {
    "collapsed": true
   },
   "outputs": [],
   "source": [
    "import re\n",
    "import operator\n",
    "\n",
    "df = pd.read_csv(C.run_stats_path)\n",
    "\n",
    "df = df.dropna(subset=['misclassified_test'])\n",
    "df = df.loc[:,['misclassified_test','misclassified_train']]\n",
    "#df = df.dropna()\n",
    "#b = a.iloc[0]['y_pred_raw']\n",
    "#b = hf.str_to_lists(b)\n",
    "\n",
    "mis_test = df['misclassified_train'].values\n",
    "#mis_test = df['misclassified_test'].values\n",
    "\n",
    "mis_test = ''.join(mis_test)\n",
    "mis_test = mis_test.replace(' ','')\n",
    "mis_test = mis_test.replace(\"'\",\"\")\n",
    "mis_test = re.sub(r'\\]\\[', ',', mis_test)\n",
    "mis_test = mis_test.replace(\"[\",\"\")\n",
    "mis_test = mis_test.replace(\"]\",\"\")\n",
    "\n",
    "mis_test = mis_test.split(',')\n",
    "\n",
    "unique, counts = np.unique(mis_test, return_counts=True)\n",
    "\n",
    "x = dict(zip(unique, counts))\n",
    "\n",
    "sorted_x = sorted(x.items(), key=operator.itemgetter(1), reverse=True)"
   ]
  },
  {
   "cell_type": "code",
   "execution_count": null,
   "metadata": {
    "collapsed": true
   },
   "outputs": [],
   "source": [
    "sorted_x"
   ]
  },
  {
   "cell_type": "markdown",
   "metadata": {},
   "source": [
    "# Reload images and VOIs"
   ]
  },
  {
   "cell_type": "code",
   "execution_count": null,
   "metadata": {
    "collapsed": true
   },
   "outputs": [],
   "source": [
    "drm.load_vois_all(C)"
   ]
  },
  {
   "cell_type": "code",
   "execution_count": 234,
   "metadata": {
    "collapsed": true
   },
   "outputs": [],
   "source": [
    "for cls in C.classes_to_include:\n",
    "    if not os.path.exists(C.full_img_dir + \"\\\\\" + cls):\n",
    "        os.makedirs(C.full_img_dir + \"\\\\\" + cls)\n",
    "    if not os.path.exists(C.orig_dir + cls):\n",
    "        os.makedirs(C.orig_dir + cls)\n",
    "    if not os.path.exists(C.aug_dir + cls):\n",
    "        os.makedirs(C.aug_dir + cls)\n",
    "    if not os.path.exists(C.crops_dir + cls):\n",
    "        os.makedirs(C.crops_dir + cls)"
   ]
  },
  {
   "cell_type": "code",
   "execution_count": null,
   "metadata": {
    "collapsed": true
   },
   "outputs": [],
   "source": [
    "voi_dfs = init_voi_dfs()"
   ]
  },
  {
   "cell_type": "code",
   "execution_count": null,
   "metadata": {
    "collapsed": true
   },
   "outputs": [],
   "source": [
    "#dims_df = pd.DataFrame(columns = [\"AccNum\", \"x\", \"y\", \"z\"])\n",
    "dims_df = pd.read_csv(C.dims_df_path)\n",
    "voi_df_art = pd.DataFrame(columns = [\"Filename\", \"x1\", \"x2\", \"y1\", \"y2\", \"z1\", \"z2\", \"cls\",\n",
    "                                     \"flipz\", \"real_dx\", \"real_dy\", \"real_dz\", \"id\", \"lesion_num\"])\n",
    "voi_df_ven = pd.DataFrame(columns = [\"id\", \"x1\", \"x2\", \"y1\", \"y2\", \"z1\", \"z2\"]) #voi_df_ven only contains entries where manually specified\n",
    "voi_df_eq = pd.DataFrame(columns = [\"id\", \"x1\", \"x2\", \"y1\", \"y2\", \"z1\", \"z2\"]) #voi_df_ven only contains entries where manually specified\n",
    "voi_dfs = [voi_df_art, voi_df_ven, voi_df_eq]"
   ]
  },
  {
   "cell_type": "code",
   "execution_count": 183,
   "metadata": {
    "collapsed": true
   },
   "outputs": [],
   "source": [
    "voi_df_art = pd.read_csv(C.art_voi_path)\n",
    "voi_df_ven = pd.read_csv(C.ven_voi_path)\n",
    "voi_df_eq = pd.read_csv(C.eq_voi_path)\n",
    "voi_dfs = [voi_df_art, voi_df_ven, voi_df_eq]\n",
    "dims_df = pd.read_csv(C.dims_df_path)\n",
    "intensity_df = pd.read_csv(C.int_df_path)\n",
    "#intensity_df = drm.get_intensities(C, cls=\"hcc\", acc_num='E106046622')"
   ]
  },
  {
   "cell_type": "code",
   "execution_count": null,
   "metadata": {
    "collapsed": true
   },
   "outputs": [],
   "source": [
    "intensity_df = drm.get_intensities(C, cls=\"hemangioma\", acc_num='13138944')"
   ]
  },
  {
   "cell_type": "code",
   "execution_count": null,
   "metadata": {
    "collapsed": true
   },
   "outputs": [],
   "source": [
    "patient_info_df = pd.DataFrame(columns = [\"MRN\", \"Sex\", \"AccNum\", \"AgeAtImaging\", \"cls\"])\n",
    "for i in [C.sheetnames.index(x) for x in ['HCC']]:\n",
    "    #drm.check_folders(img_dirs[i], xls_name, sheetnames[i], C)\n",
    "    #dims_df = drm.load_imgs(img_dirs[i], cls_names[i], xls_name, sheetnames[i], dims_df, C)\n",
    "    #voi_dfs = drm.load_vois_batch(cls_names[i], voi_dfs, dims_df, C)#, acc_nums=['E104764948','E106046622'])\n",
    "    #intensity_df = drm.get_intensities(C, cls=cls_names[i], acc_num='E106046622')\n",
    "    patient_info_df = drm.load_patient_info(\"Z:\\\\\"+C.img_dirs[i], C.cls_names[i], C.sheetnames[i], patient_info_df, C,\n",
    "                                           acc_nums=['12916368'])\n",
    "patient_info_df.to_csv('Z:\\\\patient_info_missing.csv', index=False)"
   ]
  },
  {
   "cell_type": "code",
   "execution_count": 187,
   "metadata": {
    "collapsed": true
   },
   "outputs": [],
   "source": [
    "#voi_df_art, voi_df_ven, voi_df_eq = voi_dfs\n",
    "voi_df_art.to_csv(C.art_voi_path, index=False)\n",
    "voi_df_ven.to_csv(C.ven_voi_path, index=False)\n",
    "voi_df_eq.to_csv(C.eq_voi_path, index=False)"
   ]
  },
  {
   "cell_type": "code",
   "execution_count": null,
   "metadata": {
    "collapsed": true
   },
   "outputs": [],
   "source": [
    "dims_df.to_csv(C.dims_df_path, index=False)"
   ]
  },
  {
   "cell_type": "code",
   "execution_count": null,
   "metadata": {
    "collapsed": true
   },
   "outputs": [],
   "source": [
    "#drm.delete_imgs(['12916368', 'E102556695'], 'hcc', C)\n",
    "#drm.delete_imgs(0, cls, C, xls_name, sheetname)\n",
    "drm.reload_imgs([\"E100165687\"], \"hemangioma\", C)"
   ]
  },
  {
   "cell_type": "code",
   "execution_count": null,
   "metadata": {
    "collapsed": true
   },
   "outputs": [],
   "source": [
    "vm.xref_dirs_with_excel(C)"
   ]
  },
  {
   "cell_type": "code",
   "execution_count": 73,
   "metadata": {},
   "outputs": [
    {
     "data": {
      "text/html": [
       "<div>\n",
       "<style>\n",
       "    .dataframe thead tr:only-child th {\n",
       "        text-align: right;\n",
       "    }\n",
       "\n",
       "    .dataframe thead th {\n",
       "        text-align: left;\n",
       "    }\n",
       "\n",
       "    .dataframe tbody tr th {\n",
       "        vertical-align: top;\n",
       "    }\n",
       "</style>\n",
       "<table border=\"1\" class=\"dataframe\">\n",
       "  <thead>\n",
       "    <tr style=\"text-align: right;\">\n",
       "      <th></th>\n",
       "      <th>Filename</th>\n",
       "      <th>x1</th>\n",
       "      <th>x2</th>\n",
       "      <th>y1</th>\n",
       "      <th>y2</th>\n",
       "      <th>z1</th>\n",
       "      <th>z2</th>\n",
       "      <th>cls</th>\n",
       "      <th>flipz</th>\n",
       "      <th>real_dx</th>\n",
       "      <th>real_dy</th>\n",
       "      <th>real_dz</th>\n",
       "      <th>id</th>\n",
       "      <th>lesion_num</th>\n",
       "    </tr>\n",
       "  </thead>\n",
       "  <tbody>\n",
       "    <tr>\n",
       "      <th>71</th>\n",
       "      <td>12678910.npy</td>\n",
       "      <td>79</td>\n",
       "      <td>87</td>\n",
       "      <td>127</td>\n",
       "      <td>138</td>\n",
       "      <td>44</td>\n",
       "      <td>50</td>\n",
       "      <td>hemangioma</td>\n",
       "      <td>False</td>\n",
       "      <td>9.722222</td>\n",
       "      <td>13.368056</td>\n",
       "      <td>18.0</td>\n",
       "      <td>12678910_0</td>\n",
       "      <td>0</td>\n",
       "    </tr>\n",
       "    <tr>\n",
       "      <th>72</th>\n",
       "      <td>12678910.npy</td>\n",
       "      <td>99</td>\n",
       "      <td>114</td>\n",
       "      <td>113</td>\n",
       "      <td>130</td>\n",
       "      <td>53</td>\n",
       "      <td>63</td>\n",
       "      <td>hemangioma</td>\n",
       "      <td>False</td>\n",
       "      <td>18.229167</td>\n",
       "      <td>20.659722</td>\n",
       "      <td>30.0</td>\n",
       "      <td>12678910_1</td>\n",
       "      <td>1</td>\n",
       "    </tr>\n",
       "    <tr>\n",
       "      <th>73</th>\n",
       "      <td>12678910.npy</td>\n",
       "      <td>127</td>\n",
       "      <td>140</td>\n",
       "      <td>106</td>\n",
       "      <td>124</td>\n",
       "      <td>71</td>\n",
       "      <td>76</td>\n",
       "      <td>hemangioma</td>\n",
       "      <td>False</td>\n",
       "      <td>15.798611</td>\n",
       "      <td>21.875000</td>\n",
       "      <td>15.0</td>\n",
       "      <td>12678910_2</td>\n",
       "      <td>2</td>\n",
       "    </tr>\n",
       "  </tbody>\n",
       "</table>\n",
       "</div>"
      ],
      "text/plain": [
       "        Filename   x1   x2   y1   y2  z1  z2         cls  flipz    real_dx  \\\n",
       "71  12678910.npy   79   87  127  138  44  50  hemangioma  False   9.722222   \n",
       "72  12678910.npy   99  114  113  130  53  63  hemangioma  False  18.229167   \n",
       "73  12678910.npy  127  140  106  124  71  76  hemangioma  False  15.798611   \n",
       "\n",
       "      real_dy  real_dz          id  lesion_num  \n",
       "71  13.368056     18.0  12678910_0           0  \n",
       "72  20.659722     30.0  12678910_1           1  \n",
       "73  21.875000     15.0  12678910_2           2  "
      ]
     },
     "execution_count": 73,
     "metadata": {},
     "output_type": "execute_result"
    }
   ],
   "source": [
    "voi_df_art = pd.read_csv(C.art_voi_path)\n",
    "voi_df_art[voi_df_art[\"Filename\"] == \"12678910.npy\"]"
   ]
  },
  {
   "cell_type": "markdown",
   "metadata": {},
   "source": [
    "# Generate cropped imgs"
   ]
  },
  {
   "cell_type": "code",
   "execution_count": 62,
   "metadata": {},
   "outputs": [
    {
     "data": {
      "text/html": [
       "<div>\n",
       "<style>\n",
       "    .dataframe thead tr:only-child th {\n",
       "        text-align: right;\n",
       "    }\n",
       "\n",
       "    .dataframe thead th {\n",
       "        text-align: left;\n",
       "    }\n",
       "\n",
       "    .dataframe tbody tr th {\n",
       "        vertical-align: top;\n",
       "    }\n",
       "</style>\n",
       "<table border=\"1\" class=\"dataframe\">\n",
       "  <thead>\n",
       "    <tr style=\"text-align: right;\">\n",
       "      <th></th>\n",
       "      <th>id</th>\n",
       "      <th>acc_num</th>\n",
       "      <th>cls</th>\n",
       "      <th>coords</th>\n",
       "    </tr>\n",
       "  </thead>\n",
       "  <tbody>\n",
       "    <tr>\n",
       "      <th>145</th>\n",
       "      <td>13094833_0</td>\n",
       "      <td>13094833</td>\n",
       "      <td>cholangio</td>\n",
       "      <td>[27, 57, 24, 51, 11, 24]</td>\n",
       "    </tr>\n",
       "  </tbody>\n",
       "</table>\n",
       "</div>"
      ],
      "text/plain": [
       "             id   acc_num        cls                    coords\n",
       "145  13094833_0  13094833  cholangio  [27, 57, 24, 51, 11, 24]"
      ]
     },
     "execution_count": 62,
     "metadata": {},
     "output_type": "execute_result"
    }
   ],
   "source": [
    "small_voi_df = pd.read_csv(C.small_voi_path)\n",
    "small_voi_df[small_voi_df[\"acc_num\"] == \"13094833\"]"
   ]
  },
  {
   "cell_type": "code",
   "execution_count": 29,
   "metadata": {
    "scrolled": false
   },
   "outputs": [
    {
     "name": "stdout",
     "output_type": "stream",
     "text": [
      "\n",
      "Loading VOIs for ['E103985934']\n",
      ".Overall time: 1.4305405616760254\n",
      ".\n",
      "2.0651533603668213\n",
      "0.06147456169128418\n"
     ]
    }
   ],
   "source": [
    "for acc_num in ['E103985934']:\n",
    "    vm.reload_accnum(acc_num, \"cyst\", C, augment=True, overwrite=True)"
   ]
  },
  {
   "cell_type": "code",
   "execution_count": 102,
   "metadata": {
    "collapsed": true
   },
   "outputs": [],
   "source": [
    "voi_df_art = pd.read_csv(C.art_voi_path)\n",
    "voi_df_ven = pd.read_csv(C.ven_voi_path)\n",
    "voi_df_eq = pd.read_csv(C.eq_voi_path)\n",
    "intensity_df = pd.read_csv(C.int_df_path)"
   ]
  },
  {
   "cell_type": "code",
   "execution_count": 12,
   "metadata": {
    "collapsed": true
   },
   "outputs": [],
   "source": [
    "#small_voi_df = pd.DataFrame(columns=[\"id\", \"acc_num\", \"cls\", \"coords\"])\n",
    "#small_voi_df = vm.extract_vois(small_voi_df, C, voi_df_art, voi_df_ven, voi_df_eq, debug=True)#, classes=[\"fnh\"], acc_nums=[\"E100165687\"])\n",
    "small_voi_df.to_csv(C.small_voi_path, index=False)"
   ]
  },
  {
   "cell_type": "code",
   "execution_count": null,
   "metadata": {
    "collapsed": true
   },
   "outputs": [],
   "source": [
    "# scaled imgs\n",
    "vm.save_unaugment_set()\n",
    "\n",
    "for cls in C.classes_to_include:\n",
    "    vm.save_vois_as_imgs(cls, C)"
   ]
  },
  {
   "cell_type": "code",
   "execution_count": 13,
   "metadata": {},
   "outputs": [
    {
     "name": "stdout",
     "output_type": "stream",
     "text": [
      "hcc 171.11602544784546\n",
      "cholangio 239.56331133842468\n",
      "colorectal 373.1854989528656\n",
      "cyst 596.2553129196167\n",
      "hemangioma 722.2835092544556\n",
      "fnh 916.3784506320953\n"
     ]
    }
   ],
   "source": [
    "# augmented imgs\n",
    "vm.parallel_augment(num_cores=3, overwrite=100)"
   ]
  },
  {
   "cell_type": "markdown",
   "metadata": {},
   "source": [
    "# Plotting"
   ]
  },
  {
   "cell_type": "code",
   "execution_count": 60,
   "metadata": {},
   "outputs": [
    {
     "data": {
      "text/html": [
       "<div>\n",
       "<style>\n",
       "    .dataframe thead tr:only-child th {\n",
       "        text-align: right;\n",
       "    }\n",
       "\n",
       "    .dataframe thead th {\n",
       "        text-align: left;\n",
       "    }\n",
       "\n",
       "    .dataframe tbody tr th {\n",
       "        vertical-align: top;\n",
       "    }\n",
       "</style>\n",
       "<table border=\"1\" class=\"dataframe\">\n",
       "  <thead>\n",
       "    <tr style=\"text-align: right;\">\n",
       "      <th></th>\n",
       "      <th>Filename</th>\n",
       "      <th>x1</th>\n",
       "      <th>x2</th>\n",
       "      <th>y1</th>\n",
       "      <th>y2</th>\n",
       "      <th>z1</th>\n",
       "      <th>z2</th>\n",
       "      <th>cls</th>\n",
       "      <th>flipz</th>\n",
       "      <th>real_dx</th>\n",
       "      <th>real_dy</th>\n",
       "      <th>real_dz</th>\n",
       "      <th>id</th>\n",
       "      <th>lesion_num</th>\n",
       "    </tr>\n",
       "  </thead>\n",
       "  <tbody>\n",
       "    <tr>\n",
       "      <th>289</th>\n",
       "      <td>E105427046.npy</td>\n",
       "      <td>141</td>\n",
       "      <td>202</td>\n",
       "      <td>177</td>\n",
       "      <td>243</td>\n",
       "      <td>11</td>\n",
       "      <td>25</td>\n",
       "      <td>cholangio</td>\n",
       "      <td>False</td>\n",
       "      <td>47.65625</td>\n",
       "      <td>51.5625</td>\n",
       "      <td>49.0</td>\n",
       "      <td>E105427046_0</td>\n",
       "      <td>0</td>\n",
       "    </tr>\n",
       "  </tbody>\n",
       "</table>\n",
       "</div>"
      ],
      "text/plain": [
       "           Filename   x1   x2   y1   y2  z1  z2        cls  flipz   real_dx  \\\n",
       "289  E105427046.npy  141  202  177  243  11  25  cholangio  False  47.65625   \n",
       "\n",
       "     real_dy  real_dz            id  lesion_num  \n",
       "289  51.5625     49.0  E105427046_0           0  "
      ]
     },
     "execution_count": 60,
     "metadata": {},
     "output_type": "execute_result"
    }
   ],
   "source": [
    "voi_df_art = pd.read_csv(C.art_voi_path)\n",
    "voi_df_art[voi_df_art[\"Filename\"] == \"E105427046.npy\"]"
   ]
  },
  {
   "cell_type": "code",
   "execution_count": null,
   "metadata": {
    "collapsed": true
   },
   "outputs": [],
   "source": [
    "# can be used to determine if an image is flipped\n",
    "cls = \"cholangio\"\n",
    "acc_num = '11534565'#acc_nums[0]\n",
    "img_fn = acc_num + \".npy\"\n",
    "img = np.load(C.full_img_dir+\"\\\\\"+cls + \"\\\\\"+img_fn)\n",
    "hf.plot_slice_flips(img, voi_df_art[(voi_df_art[\"Filename\"] == img_fn) & (voi_df_art[\"cls\"] == cls)].iloc[0], flipz=\"both\", pad=10)\n",
    "print(np.amin(img), np.amax(img), np.mean(img))\n",
    "#hf.plot_section_auto(img)"
   ]
  },
  {
   "cell_type": "code",
   "execution_count": 81,
   "metadata": {},
   "outputs": [
    {
     "name": "stdout",
     "output_type": "stream",
     "text": [
      "-1.0 0.803167420814 -0.103097555201\n"
     ]
    },
    {
     "data": {
      "image/png": "[encoded data removed]",
      "text/plain": [
       "<matplotlib.figure.Figure at 0x20763661160>"
      ]
     },
     "metadata": {},
     "output_type": "display_data"
    }
   ],
   "source": [
    "# Cropped, rescaled or augmented imgs\n",
    "img = drm.plot_check(\"cholangio\", 2, C, \"13094833\"+\"_0\")\n",
    "print(np.amin(img), np.amax(img), np.mean(img))"
   ]
  },
  {
   "cell_type": "markdown",
   "metadata": {},
   "source": [
    "# Run CNN"
   ]
  },
  {
   "cell_type": "code",
   "execution_count": null,
   "metadata": {
    "collapsed": true
   },
   "outputs": [],
   "source": [
    "import cnn_builder as cbuild\n",
    "importlib.reload(cbuild)\n",
    "cbuild.overnight_run(C)"
   ]
  },
  {
   "cell_type": "markdown",
   "metadata": {},
   "source": [
    "# Situational"
   ]
  },
  {
   "cell_type": "code",
   "execution_count": 76,
   "metadata": {
    "collapsed": true
   },
   "outputs": [],
   "source": [
    "df = pd.read_excel(xls_name, sheetname)\n",
    "df = drm.preprocess_df(df, C)\n",
    "acc_nums = list(set(df['Patient E Number'].dropna().astype(str).tolist()))"
   ]
  },
  {
   "cell_type": "code",
   "execution_count": null,
   "metadata": {
    "collapsed": true
   },
   "outputs": [],
   "source": [
    "for img_fn in sorted(set(voi_df[voi_df[\"cls\"] == \"cyst\"]['Filename'])):\n",
    "    img = np.load(\"full_imgs\\\\\"+img_fn)\n",
    "    if np.sum(img[img.shape[0]*1//5:img.shape[0]*4//5,img.shape[1]//5:img.shape[1]*2//5,:img.shape[2]//3]) > \\\n",
    "            np.sum(img[img.shape[0]*1//5:img.shape[0]*4//5,img.shape[1]//5:img.shape[1]*2//5,(img.shape[2]+1)*2//3:]):\n",
    "        print(img_fn)"
   ]
  },
  {
   "cell_type": "markdown",
   "metadata": {},
   "source": [
    "for cls in os.listdir(C.aug_dir):#classes_to_include:\n",
    "    for img_fn in os.listdir(C.aug_dir + cls):\n",
    "        if \"refl\" in img_fn:\n",
    "            os.remove(C.aug_dir + cls + \"\\\\\" + img_fn)\n",
    "\n",
    "img = img * 2 - 1\n",
    "\n",
    "for cls in C.classes_to_include:\n",
    "    fns = os.listdir(C.crops_dir + cls)\n",
    "    for fn in fns:\n",
    "        img = np.load(C.crops_dir + cls + \"\\\\\" + fn)\n",
    "        img = img * 2 - 1\n",
    "        np.save(C.crops_dir + cls + \"\\\\\" + fn, img)\n",
    "\n",
    "for cls in C.classes_to_include:\n",
    "    fns = os.listdir(C.orig_dir + cls)\n",
    "    for fn in fns:\n",
    "        img = np.load(C.orig_dir + cls + \"\\\\\" + fn)\n",
    "        img = img * 2 - 1\n",
    "        np.save(C.orig_dir + cls + \"\\\\\" + fn, img)\n",
    "\n",
    "for cls in C.classes_to_include:\n",
    "    fns = os.listdir(C.aug_dir + cls)\n",
    "    for fn in fns:\n",
    "        img = np.load(C.aug_dir + cls + \"\\\\\" + fn)\n",
    "        img = img * 2 - 1\n",
    "        np.save(C.aug_dir + cls + \"\\\\\" + fn, img)\n",
    "\n",
    "for cls in os.listdir(C.aug_dir):#classes_to_include:\n",
    "    for img_fn in os.listdir(C.aug_dir + cls):\n",
    "        if \"refl\" not in img_fn:\n",
    "            img = np.load(C.aug_dir + cls + \"\\\\\" + img_fn)\n",
    "            aug_img = tr.generate_reflected_img(img)\n",
    "            np.save(C.aug_dir + cls + \"\\\\\" + img_fn[:-4] + \"-refl\", aug_img)"
   ]
  }
 ],
 "metadata": {
  "anaconda-cloud": {},
  "kernelspec": {
   "display_name": "Python 3",
   "language": "python",
   "name": "python3"
  },
  "language_info": {
   "codemirror_mode": {
    "name": "ipython",
    "version": 3
   },
   "file_extension": ".py",
   "mimetype": "text/x-python",
   "name": "python",
   "nbconvert_exporter": "python",
   "pygments_lexer": "ipython3",
   "version": "3.5.0"
  }
 },
 "nbformat": 4,
 "nbformat_minor": 1
}
