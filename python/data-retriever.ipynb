{
 "cells": [
  {
   "cell_type": "markdown",
   "metadata": {},
   "source": [
    "Retrieves images from \"raw_imgs\" folder and stores them in \"full_imgs\". Retrieves spreadsheet listing VOIs and stores them in text file."
   ]
  },
  {
   "cell_type": "markdown",
   "metadata": {},
   "source": [
    "TODO: function to read existing vois, drop one class, then load the class back in. Requires that drm.load_imgs write to a DataFrame rather than an array"
   ]
  },
  {
   "cell_type": "markdown",
   "metadata": {},
   "source": [
    "E100587476_2, E105066561_0, E102928774_0, E103835733_0"
   ]
  },
  {
   "cell_type": "code",
   "execution_count": 1,
   "metadata": {
    "scrolled": true
   },
   "outputs": [
    {
     "name": "stderr",
     "output_type": "stream",
     "text": [
      "C:\\Users\\Clinton\\AppData\\Local\\conda\\conda\\envs\\old-keras\\lib\\site-packages\\h5py\\__init__.py:34: FutureWarning: Conversion of the second argument of issubdtype from `float` to `np.floating` is deprecated. In future, it will be treated as `np.float64 == np.dtype(float).type`.\n",
      "  from ._conv import register_converters as _register_converters\n"
     ]
    }
   ],
   "source": [
    "import argparse\n",
    "import artif_gen_methods as agm\n",
    "import config\n",
    "import dr_methods as drm\n",
    "import niftiutils.helper_fxns as hf\n",
    "import importlib\n",
    "import matplotlib.pyplot as plt\n",
    "import numpy as np\n",
    "import os\n",
    "import pandas as pd\n",
    "import shutil\n",
    "import time\n",
    "import voi_methods as vm\n",
    "import re\n",
    "import operator\n",
    "import csv\n",
    "%matplotlib inline"
   ]
  },
  {
   "cell_type": "code",
   "execution_count": 2,
   "metadata": {
    "collapsed": true,
    "scrolled": true
   },
   "outputs": [],
   "source": [
    "importlib.reload(config)\n",
    "importlib.reload(hf)\n",
    "importlib.reload(vm)\n",
    "importlib.reload(drm)\n",
    "importlib.reload(agm)\n",
    "C = config.Config()"
   ]
  },
  {
   "cell_type": "markdown",
   "metadata": {},
   "source": [
    "df = pd.read_excel('Z:\\\\Prototype1e.xlsx', sheetname='Sheet1')"
   ]
  },
  {
   "cell_type": "markdown",
   "metadata": {},
   "source": [
    "for i in range(0,len(df),4):\n",
    "    df.loc[i,['x3','x4', 'y3','y4', 'z3','z4']] = df.iloc[i+1][['x1','x2', 'y1','y2', 'z1','z2']].values\n",
    "    df.loc[i,['x5','x6', 'y5','y6', 'z5','z6']] = df.iloc[i+2][['x1','x2', 'y1','y2', 'z1','z2']].values\n",
    "    df.loc[i,[x+\"-20\" for x in ['x1','x2', 'y1','y2', 'z1','z2']]] = df.iloc[i+3][['x1','x2', 'y1','y2', 'z1','z2']].values"
   ]
  },
  {
   "cell_type": "markdown",
   "metadata": {},
   "source": [
    "df.drop(list(range(1,max(df.index),4)),inplace=True)\n",
    "df.drop(list(range(2,max(df.index),4)),inplace=True)\n",
    "df.drop(list(range(3,max(df.index),4)),inplace=True)"
   ]
  },
  {
   "cell_type": "markdown",
   "metadata": {},
   "source": [
    "df.loc[0,['x3','x4', 'y3','y4', 'z3','z4']] = df.iloc[1][['x1','x2', 'y1','y2', 'z1','z2']].values"
   ]
  },
  {
   "cell_type": "markdown",
   "metadata": {},
   "source": [
    "df.drop([max(df.index)],inplace=True)"
   ]
  },
  {
   "cell_type": "markdown",
   "metadata": {},
   "source": [
    "df"
   ]
  },
  {
   "cell_type": "markdown",
   "metadata": {},
   "source": [
    "df[['x3','x4', 'y3','y4', 'z3','z4']] = df[['x3','x4', 'y3','y4', 'z3','z4']].astype(int)"
   ]
  },
  {
   "cell_type": "markdown",
   "metadata": {},
   "source": [
    "df[['x5','x6', 'y5','y6', 'z5','z6']] = df[['x5','x6', 'y5','y6', 'z5','z6']].astype(int)"
   ]
  },
  {
   "cell_type": "markdown",
   "metadata": {},
   "source": [
    "df[[x+\"-20\" for x in ['x1','x2', 'y1','y2', 'z1','z2']]] = df[[x+\"-20\" for x in ['x1','x2', 'y1','y2', 'z1','z2']]].astype(int)"
   ]
  },
  {
   "cell_type": "markdown",
   "metadata": {},
   "source": [
    "df.to_csv(\"Z:\\\\hi.csv\", index=False)"
   ]
  },
  {
   "cell_type": "code",
   "execution_count": null,
   "metadata": {
    "collapsed": true
   },
   "outputs": [],
   "source": [
    "for sheet in C.sheetnames:\n",
    "    src_data_df = pd.read_excel(C.xls_name, sheet)\n",
    "    a = []\n",
    "    for _, row in src_data_df.iterrows():\n",
    "        a.append(row[\"z2\"] - row[\"z1\"])\n",
    "    print(np.median(a) / C.lesion_ratio)"
   ]
  },
  {
   "cell_type": "markdown",
   "metadata": {},
   "source": [
    "# Generate data"
   ]
  },
  {
   "cell_type": "code",
   "execution_count": null,
   "metadata": {
    "collapsed": true
   },
   "outputs": [],
   "source": [
    "cls = \"net\"\n",
    "C = config.Config()\n",
    "\n",
    "try:\n",
    "    dims_df = pd.read_csv(C.dims_df_path)\n",
    "except FileNotFoundError:\n",
    "    dims_df = pd.DataFrame(columns = [\"AccNum\", \"x\", \"y\", \"z\"])\n",
    "\n",
    "i = C.cls_names.index(cls)\n",
    "\n",
    "src_data_df = pd.read_excel(C.xls_name, \"NET\")\n",
    "src_data_df = drm._filter_voi_df(src_data_df, C)\n",
    "\n",
    "if not os.path.exists(os.path.join(C.full_img_dir, cls)):\n",
    "    os.makedirs(os.path.join(C.full_img_dir, cls))\n",
    "\n",
    "acc_nums = list(set(src_data_df['Patient E Number'].values))\n",
    "\n",
    "for cnt, acc_num in enumerate(acc_nums):\n",
    "    dims_df = drm._dcm2npy(load_dir=os.path.join(C.img_dirs[i], acc_num),\n",
    "        save_path=os.path.join(C.full_img_dir, cls, str(acc_num) + \".npy\"), dims_df=dims_df,\n",
    "        info=src_data_df.loc[src_data_df['Patient E Number'].astype(str) == acc_num],\n",
    "        overwrite=False, verbose=False)"
   ]
  },
  {
   "cell_type": "code",
   "execution_count": null,
   "metadata": {
    "collapsed": true
   },
   "outputs": [],
   "source": [
    "drm.report_missing_folders(cls=\"adenoma\")"
   ]
  },
  {
   "cell_type": "code",
   "execution_count": 58,
   "metadata": {
    "collapsed": true
   },
   "outputs": [],
   "source": [
    "drm.dcm2npy_batch(cls=\"adenoma\", acc_nums=['E100693392'], overwrite=True)"
   ]
  },
  {
   "cell_type": "code",
   "execution_count": 3,
   "metadata": {
    "collapsed": true
   },
   "outputs": [],
   "source": [
    "voi_df_art, voi_df_ven, voi_df_eq = drm.get_voi_dfs()"
   ]
  },
  {
   "cell_type": "code",
   "execution_count": null,
   "metadata": {
    "collapsed": true
   },
   "outputs": [],
   "source": [
    "drm.load_patient_info(overwrite=False)"
   ]
  },
  {
   "cell_type": "code",
   "execution_count": null,
   "metadata": {
    "collapsed": true
   },
   "outputs": [],
   "source": [
    "drm.load_vois_batch(cls=\"adenoma\", overwrite=False)"
   ]
  },
  {
   "cell_type": "code",
   "execution_count": 5,
   "metadata": {
    "collapsed": true
   },
   "outputs": [],
   "source": [
    "vm.reset_accnum('E103985934')"
   ]
  },
  {
   "cell_type": "code",
   "execution_count": 8,
   "metadata": {},
   "outputs": [
    {
     "name": "stdout",
     "output_type": "stream",
     "text": [
      "."
     ]
    }
   ],
   "source": [
    "vm.reload_accnum('colorectal', ['E101346528'], augment=True, overwrite=True)"
   ]
  },
  {
   "cell_type": "code",
   "execution_count": null,
   "metadata": {
    "collapsed": true
   },
   "outputs": [],
   "source": [
    "vm.extract_vois(cls=\"abscess\")\n",
    "vm.save_unaugmented_set(cls=\"net\")\n",
    "vm.save_augmented_set(cls=\"net\")\n",
    "vm.parallel_augment(num_cores=3, overwrite=100)"
   ]
  },
  {
   "cell_type": "code",
   "execution_count": null,
   "metadata": {
    "collapsed": true
   },
   "outputs": [],
   "source": [
    "vm.xref_dirs_with_excel()"
   ]
  },
  {
   "cell_type": "code",
   "execution_count": 9,
   "metadata": {
    "collapsed": true
   },
   "outputs": [],
   "source": [
    "import glob\n",
    "from os.path import *\n",
    "import niftiutils.private as prv"
   ]
  },
  {
   "cell_type": "code",
   "execution_count": 15,
   "metadata": {
    "collapsed": true
   },
   "outputs": [],
   "source": [
    "for d in glob.glob(join(\"E:\\\\for_charlie\\\\small\", \"*\")):\n",
    "    dd=basename(d)\n",
    "    os.rename(d, join(dirname(d), prv.encode(dd[:dd.find('_')])+dd[dd.find('_'):]))"
   ]
  },
  {
   "cell_type": "code",
   "execution_count": 2,
   "metadata": {
    "collapsed": true
   },
   "outputs": [],
   "source": [
    "Z_reader = ['E103312835_1','12823036_0','12569915_0','E102093118_0','E102782525_0','12799652_0','E100894274_0','12874178_3','E100314676_0','12842070_0','13092836_2','12239783_0','12783467_0','13092966_0','E100962970_0','E100183257_1','E102634440_0','E106182827_0','12582632_0','E100121654_0','E100407633_0','E105310461_0','12788616_0','E101225606_0','12678910_1','E101083458_1','12324408_0','13031955_0','E101415263_0','E103192914_0','12888679_2','E106096969_0','E100192709_1','13112385_1','E100718398_0','12207268_0','E105244287_0','E102095465_0','E102613189_0','12961059_0','11907521_0','E105311123_0','12552705_0','E100610622_0','12975280_0','E105918926_0','E103020139_1','E101069048_1','E105427046_0','13028374_0','E100262351_0','12302576_0','12451831_0','E102929168_0','E100383453_0','E105344747_0','12569826_0','E100168661_0','12530153_0','E104697262_0']"
   ]
  },
  {
   "cell_type": "code",
   "execution_count": 13,
   "metadata": {
    "scrolled": true
   },
   "outputs": [
    {
     "name": "stderr",
     "output_type": "stream",
     "text": [
      "C:\\Users\\Clinton\\AppData\\Local\\conda\\conda\\envs\\old-keras\\lib\\site-packages\\skimage\\transform\\_warps.py:84: UserWarning: The default mode, 'constant', will be changed to 'reflect' in skimage 0.15.\n",
      "  warn(\"The default mode, 'constant', will be changed to 'reflect' in \"\n"
     ]
    }
   ],
   "source": [
    "#vm.save_vois_as_imgs(cls=\"cyst\", save_dir=\"D:\\\\imgs\")\n",
    "vm.save_imgs_with_bbox(lesion_ids=Z_reader, save_dir=\"E:\\\\for_charlie\\\\large\", separate_by_cls=False)"
   ]
  },
  {
   "cell_type": "code",
   "execution_count": null,
   "metadata": {
    "collapsed": true
   },
   "outputs": [],
   "source": [
    "voi_df_art[voi_df_art['id'].str.contains('2424_2')]\n",
    "#voi_df_art[voi_df_art.index.str.contains('9185_0')]"
   ]
  },
  {
   "cell_type": "code",
   "execution_count": 109,
   "metadata": {
    "collapsed": true
   },
   "outputs": [],
   "source": [
    "d=[]\n",
    "for i in range(6):\n",
    "    df = pd.read_excel('Z:\\\\Prototype1e.xlsx', sheetname=C.sheetnames[i])\n",
    "    d.append(df[df['Run'] <= 2]['Diameter'].values)\n",
    "d = np.concatenate(d)\n",
    "np.std(d)"
   ]
  },
  {
   "cell_type": "markdown",
   "metadata": {},
   "source": [
    "# Plotting"
   ]
  },
  {
   "cell_type": "code",
   "execution_count": 4,
   "metadata": {
    "scrolled": true
   },
   "outputs": [
    {
     "data": {
      "text/html": [
       "<div>\n",
       "<style>\n",
       "    .dataframe thead tr:only-child th {\n",
       "        text-align: right;\n",
       "    }\n",
       "\n",
       "    .dataframe thead th {\n",
       "        text-align: left;\n",
       "    }\n",
       "\n",
       "    .dataframe tbody tr th {\n",
       "        vertical-align: top;\n",
       "    }\n",
       "</style>\n",
       "<table border=\"1\" class=\"dataframe\">\n",
       "  <thead>\n",
       "    <tr style=\"text-align: right;\">\n",
       "      <th></th>\n",
       "      <th>acc_num</th>\n",
       "      <th>x1</th>\n",
       "      <th>x2</th>\n",
       "      <th>y1</th>\n",
       "      <th>y2</th>\n",
       "      <th>z1</th>\n",
       "      <th>z2</th>\n",
       "      <th>cls</th>\n",
       "      <th>real_dx</th>\n",
       "      <th>real_dy</th>\n",
       "      <th>real_dz</th>\n",
       "      <th>run_num</th>\n",
       "    </tr>\n",
       "  </thead>\n",
       "  <tbody>\n",
       "    <tr>\n",
       "      <th>E105464882_0</th>\n",
       "      <td>E105464882</td>\n",
       "      <td>77</td>\n",
       "      <td>96</td>\n",
       "      <td>62</td>\n",
       "      <td>80</td>\n",
       "      <td>37</td>\n",
       "      <td>47</td>\n",
       "      <td>hcc</td>\n",
       "      <td>22.5625</td>\n",
       "      <td>21.375</td>\n",
       "      <td>30.0</td>\n",
       "      <td>2</td>\n",
       "    </tr>\n",
       "  </tbody>\n",
       "</table>\n",
       "</div>"
      ],
      "text/plain": [
       "                 acc_num  x1  x2  y1  y2  z1  z2  cls  real_dx  real_dy  \\\n",
       "E105464882_0  E105464882  77  96  62  80  37  47  hcc  22.5625   21.375   \n",
       "\n",
       "              real_dz  run_num  \n",
       "E105464882_0     30.0        2  "
      ]
     },
     "execution_count": 4,
     "metadata": {},
     "output_type": "execute_result"
    }
   ],
   "source": [
    "voi_df_art[voi_df_art[\"acc_num\"] == \"E105464882\"]"
   ]
  },
  {
   "cell_type": "code",
   "execution_count": 6,
   "metadata": {
    "scrolled": true
   },
   "outputs": [
    {
     "data": {
      "text/plain": [
       "<module 'dr_methods' from 'C:\\\\Users\\\\Clinton\\\\Documents\\\\voi-classifier\\\\python\\\\dr_methods.py'>"
      ]
     },
     "execution_count": 6,
     "metadata": {},
     "output_type": "execute_result"
    }
   ],
   "source": [
    "importlib.reload(drm)"
   ]
  },
  {
   "cell_type": "code",
   "execution_count": null,
   "metadata": {
    "collapsed": true
   },
   "outputs": [],
   "source": [
    "cls = \"adenoma\"\n",
    "acc_num = '13091906'\n",
    "img = np.load(C.full_img_dir+\"\\\\\"+cls + \"\\\\\"+acc_num + \".npy\")\n",
    "hf.draw_flipped_slices(img, voi_df_art[(voi_df_art[\"acc_num\"] == acc_num) & (voi_df_art[\"cls\"] == cls)].iloc[0])\n",
    "print(np.amin(img), np.amax(img), np.mean(img))\n",
    "#hf.plot_section_auto(img)"
   ]
  },
  {
   "cell_type": "code",
   "execution_count": 9,
   "metadata": {},
   "outputs": [
    {
     "name": "stdout",
     "output_type": "stream",
     "text": [
      "-0.5983146067415727 0.4433520599250929 -0.05956764207301801\n"
     ]
    },
    {
     "data": {
      "image/png": "[encoded data removed]",
      "text/plain": [
       "<matplotlib.figure.Figure at 0x1f8d5edcd68>"
      ]
     },
     "metadata": {},
     "output_type": "display_data"
    }
   ],
   "source": [
    "img = drm.plot_check(2, \"E101346528\", normalize=None)\n",
    "print(np.amin(img), np.amax(img), np.mean(img))"
   ]
  },
  {
   "cell_type": "code",
   "execution_count": 5,
   "metadata": {},
   "outputs": [
    {
     "name": "stdout",
     "output_type": "stream",
     "text": [
      "-0.4266715132424692 0.3641281429550014 -0.05031929943056337\n"
     ]
    },
    {
     "data": {
      "image/png": "[encoded data removed]",
      "text/plain": [
       "<matplotlib.figure.Figure at 0x1f8d3c81a20>"
      ]
     },
     "metadata": {},
     "output_type": "display_data"
    }
   ],
   "source": [
    "img = drm.plot_check(2, \"E101346528\", normalize=None)\n",
    "print(np.amin(img), np.amax(img), np.mean(img))"
   ]
  },
  {
   "cell_type": "code",
   "execution_count": null,
   "metadata": {
    "collapsed": true
   },
   "outputs": [],
   "source": [
    "for cls in C.classes_to_include:\n",
    "    print(cls)\n",
    "    print('\\n'.join([x[:-4] for x in os.listdir(\"E:\\\\lesion_imgs_small\\\\\"+cls)]))\n",
    "    #vm.save_vois_as_imgs(cls=cls, save_dir=\"E:\\\\lesion_imgs_small\\\\\"+cls, fn_suffix=\"\")"
   ]
  },
  {
   "cell_type": "code",
   "execution_count": 294,
   "metadata": {
    "collapsed": true
   },
   "outputs": [],
   "source": [
    "lids = ['E106097391_0.npy', 'E104978772_1.npy', '12900535_0.npy', 'E100150242_0.npy', 'E105490014_0.npy', 'E103147618_0.npy', 'E103510187_0.npy', 'E104657225_0.npy', 'E100551966_0.npy', 'E101388602_0.npy', 'E100215900_8.npy', 'E100215900_7.npy', 'E104045692_0.npy', '13104521_0.npy', 'E100383453_0.npy', '12943286_0.npy', '12271995_0.npy', 'E102315724_0.npy', 'E104949189_0.npy', 'E100511083_1.npy', 'E101579471_0.npy', '13018986_1.npy', '13203550_8.npy', '13112385_0.npy', '12712463_0.npy', '12361082_0.npy', '13028374_0.npy', 'E103985934_1.npy', 'E100529980_0.npy', '12042703_3.npy', '12961059_0.npy', 'E105724706_2.npy', 'E100592424_2.npy', 'E103104254_0.npy', 'E104546069_0.npy', 'E101665217_1.npy', '12090000_0.npy', 'E100592424_1.npy', '12961059_1.npy', 'E105474285_0.npy', '12502068_1.npy', 'E100814791_0.npy', 'E102613189_0.npy', 'E105427046_0.npy', 'E102881031_1.npy', 'E102929168_0.npy', 'E102310482_0.npy', 'E102095465_0.npy', 'E101811299_0.npy', 'E104737273_0.npy', '12890053_0.npy', 'E100168661_1.npy', '12637865_0.npy', 'E100168661_2.npy', '12239783_0.npy', '12707781_0.npy', '12706568_1.npy', '12823036_0.npy', '12404081_0.npy', '12365693_1.npy']"
   ]
  },
  {
   "cell_type": "code",
   "execution_count": 301,
   "metadata": {
    "collapsed": true
   },
   "outputs": [],
   "source": [
    "lids = ['13018986_1', '13203550_8', 'E100168661_1', '12706568_1', 'E104189184_0', 'E100215900_7', '12900535_0', 'E100551966_0',\n",
    "       'E102310482_0', 'E102095465_0', 'E105474285_0', 'E105724706_2']"
   ]
  },
  {
   "cell_type": "code",
   "execution_count": 32,
   "metadata": {
    "collapsed": true
   },
   "outputs": [],
   "source": [
    "misclass_img = ['E100610622_0', '12788616_0', '13092836_2', 'E100407633_0', 'E103312835_1', 'E103020139_1']"
   ]
  },
  {
   "cell_type": "code",
   "execution_count": null,
   "metadata": {
    "collapsed": true
   },
   "outputs": [],
   "source": [
    "vm.save_imgs_with_bbox(lesion_ids=misclass_img, save_dir=\"E:\\\\Z_test\", separate_by_cls=False)"
   ]
  },
  {
   "cell_type": "code",
   "execution_count": 33,
   "metadata": {
    "collapsed": true
   },
   "outputs": [],
   "source": [
    "vm.save_vois_as_imgs(lesion_ids=misclass_img, save_dir=\"E:\\\\Z_test_small\", separate_by_cls=False)"
   ]
  },
  {
   "cell_type": "markdown",
   "metadata": {},
   "source": [
    "# Generate reader study samples"
   ]
  },
  {
   "cell_type": "code",
   "execution_count": 24,
   "metadata": {
    "collapsed": true,
    "scrolled": true
   },
   "outputs": [],
   "source": [
    "voi_df_art, voi_df_ven, voi_df_eq = drm.get_voi_dfs()"
   ]
  },
  {
   "cell_type": "code",
   "execution_count": 120,
   "metadata": {
    "collapsed": true
   },
   "outputs": [],
   "source": [
    "Z_reader = ['E103312835_1','12823036_0','12569915_0','E102093118_0','E102782525_0','12799652_0','E100894274_0','12874178_3','E100314676_0','12842070_0','13092836_2','12239783_0','12783467_0','13092966_0','E100962970_0','E100183257_1','E102634440_0','E106182827_0','12582632_0','E100121654_0','E100407633_0','E105310461_0','12788616_0','E101225606_0','12678910_1','E101083458_1','12324408_0','13031955_0','E101415263_0','E103192914_0','12888679_2','E106096969_0','E100192709_1','13112385_1','E100718398_0','12207268_0','E105244287_0','E102095465_0','E102613189_0','12961059_0','11907521_0','E105311123_0','12552705_0','E100610622_0','12975280_0','E105918926_0','E103020139_1','E101069048_1','E105427046_0','13028374_0','E100262351_0','12302576_0','12451831_0','E102929168_0','E100383453_0','E105344747_0','12569826_0','E100168661_0','12530153_0','E104697262_0']\n",
    "\n",
    "banned_accnums = [z[:z.find('_')] for z in Z_reader]\n",
    "\n",
    "voi_reader = voi_df_art[voi_df_art[\"id\"].isin(Z_reader)]#voi_df_art[voi_df_art.index.isin(Z_reader)]"
   ]
  },
  {
   "cell_type": "code",
   "execution_count": 260,
   "metadata": {
    "collapsed": true
   },
   "outputs": [],
   "source": [
    "f_map = {}\n",
    "b_map = {}\n",
    "cls_map = {}\n",
    "\n",
    "for cls in C.classes_to_include:\n",
    "    for index, row in voi_reader[voi_reader['cls'] == cls].iterrows():\n",
    "        img_id = str(sum([row[\"x1\"], row[\"x2\"], row[\"y1\"], row[\"y2\"]])*10+row[\"z1\"])\n",
    "        acc_num = row[\"Filename\"][:-4] #row[\"acc_num\"]\n",
    "        f_map[row[\"id\"]] = img_id\n",
    "        b_map[img_id] = row[\"id\"]#acc_num\n",
    "        cls_map[row[\"id\"]] = row[\"cls\"]#acc_num\n",
    "        #if cls == \"fnh\":#img_id == \"4613\":\n",
    "        print(\"Z:\\\\DICOMs\\\\\" + cls + \"\\\\\" + acc_num, \n",
    "              row[\"x1\"], row[\"x2\"], row[\"y1\"], row[\"z1\"], \"---\", img_id)\n",
    "        try:\n",
    "            print(b_map[img_id])\n",
    "        except:\n",
    "            pass\n",
    "\n",
    "#f_map['E100199185'] = '46130'\n",
    "#b_map['4613'] = \"12678910_1\"\n",
    "#b_map['46130'] = \"E100199185_0\""
   ]
  },
  {
   "cell_type": "code",
   "execution_count": 262,
   "metadata": {
    "collapsed": true
   },
   "outputs": [],
   "source": [
    "with open('Z:\\\\answer_key.csv', 'w', newline='') as csvfile:\n",
    "    writer = csv.writer(csvfile)\n",
    "    for k in Z_reader:\n",
    "        writer.writerow([k, f_map[k], cls_map[k]])"
   ]
  },
  {
   "cell_type": "code",
   "execution_count": null,
   "metadata": {
    "collapsed": true
   },
   "outputs": [],
   "source": [
    "hitlist = []\n",
    "replacements = []\n",
    "\n",
    "for secret_id in ['4181', '2858', '3505', '4194', '2821', '5912', '5047'] + ['4354', '3049', '5438'] + ['46130']:#['4158', '5720', '46130', '7444']:\n",
    "    print(cls_map[b_map[secret_id]])\n",
    "    hitlist.append(b_map[secret_id])\n",
    "    replacements.append(cls_map[b_map[secret_id]])"
   ]
  },
  {
   "cell_type": "code",
   "execution_count": 165,
   "metadata": {
    "collapsed": true
   },
   "outputs": [],
   "source": [
    "for secret_id in ['4181', '2858', '3505', '4194', '2821', '5912', '5047']:\n",
    "    base_dir = r\"Z:\\Inter-reader study\\DICOMs\"\n",
    "    shutil.move(os.path.join(base_dir, secret_id), os.path.join(base_dir, \"Unused\", secret_id))"
   ]
  },
  {
   "cell_type": "code",
   "execution_count": 33,
   "metadata": {
    "collapsed": true
   },
   "outputs": [],
   "source": [
    "multi_accnums = [accnum for accnum, count in zip(*np.unique(list(b_map.values()), return_counts=True)) if count>1]\n",
    "print(multi_accnums)"
   ]
  },
  {
   "cell_type": "code",
   "execution_count": 276,
   "metadata": {
    "collapsed": true
   },
   "outputs": [],
   "source": [
    "for _, row in voi_reader.iterrows():\n",
    "    cls = row[\"cls\"]\n",
    "    acc_num = str(row[\"Filename\"])[:-4]\n",
    "    for protocol in [\"T1_AP\", \"T1_VP\", \"T1_EQ\"]:\n",
    "        target_dir = os.path.join(\"Z:\\\\Inter-reader study\\\\DICOMs\\\\extras\", row['id'], protocol)\n",
    "        shutil.copytree(os.path.join(\"Z:\\\\DICOMs\", cls, acc_num, protocol), target_dir)"
   ]
  },
  {
   "cell_type": "code",
   "execution_count": null,
   "metadata": {
    "collapsed": true
   },
   "outputs": [],
   "source": [
    "for acc_num in f_map:\n",
    "    try:\n",
    "        os.rename(os.path.join(\"Z:\\\\Inter-reader study\\\\DICOMs\", acc_num),\n",
    "                  os.path.join(\"Z:\\\\Inter-reader study\\\\DICOMs\", f_map[acc_num]))\n",
    "    except Exception as e:\n",
    "        print(acc_num, e)"
   ]
  },
  {
   "cell_type": "markdown",
   "metadata": {},
   "source": [
    "# Read Run Stats"
   ]
  },
  {
   "cell_type": "code",
   "execution_count": 24,
   "metadata": {
    "collapsed": true
   },
   "outputs": [],
   "source": [
    "a = ['12823036_0','12799652_0','12874178_3','12842070_0','12239783_0','E100121654_0','12788616_0','12678910_1','11907521_0','E100168661_0']"
   ]
  },
  {
   "cell_type": "code",
   "execution_count": 26,
   "metadata": {},
   "outputs": [
    {
     "data": {
      "text/plain": [
       "[('12788616_0.npy', 4),\n",
       " ('12823036_0.npy', 3),\n",
       " ('12678910_1.npy', 2),\n",
       " ('E100168661_0.npy', 1),\n",
       " ('12239783_0.npy', 1),\n",
       " ('12842070_0.npy', 1),\n",
       " ('E100121654_0.npy', 1),\n",
       " ('12799652_0.npy', 1),\n",
       " ('12874178_3.npy', 1),\n",
       " ('11907521_0.npy', 1)]"
      ]
     },
     "execution_count": 26,
     "metadata": {},
     "output_type": "execute_result"
    }
   ],
   "source": [
    "[x for x in sorted_x if x[0][:-4] in a]"
   ]
  },
  {
   "cell_type": "code",
   "execution_count": null,
   "metadata": {
    "collapsed": true
   },
   "outputs": [],
   "source": []
  },
  {
   "cell_type": "code",
   "execution_count": 23,
   "metadata": {},
   "outputs": [
    {
     "data": {
      "text/plain": [
       "[('', 29),\n",
       " ('12324408_0.npy', 11),\n",
       " ('E100815255_1.npy', 11),\n",
       " ('12917515_0.npy', 10),\n",
       " ('E105427046_0.npy', 10),\n",
       " ('13094833_0.npy', 9),\n",
       " ('13147226_1.npy', 9),\n",
       " ('E101415263_0.npy', 9),\n",
       " ('E100592424_2.npy', 8),\n",
       " ('13260276_0.npy', 7),\n",
       " ('E102860472_1.npy', 7),\n",
       " ('E103418455_0.npy', 7),\n",
       " ('12631540_0.npy', 7),\n",
       " ('12362250_6.npy', 7),\n",
       " ('12569915_0.npy', 7),\n",
       " ('E103192914_0.npy', 7),\n",
       " ('E101544573_0.npy', 6),\n",
       " ('12975280_0.npy', 6),\n",
       " ('12814666_2.npy', 6),\n",
       " ('E101083458_0.npy', 6),\n",
       " ('13147226_2.npy', 6),\n",
       " ('E101166449_0.npy', 6),\n",
       " ('E100962970_0.npy', 6),\n",
       " ('E102677567_1.npy', 5),\n",
       " ('E100168424_0.npy', 5),\n",
       " ('12831275_1.npy', 5),\n",
       " ('E103359656_0.npy', 5),\n",
       " ('E102677567_3.npy', 5),\n",
       " ('13031955_0.npy', 5),\n",
       " ('E101083458_2.npy', 5),\n",
       " ('11534565_0.npy', 5),\n",
       " ('E100207768_0.npy', 5),\n",
       " ('12960946_0.npy', 5),\n",
       " ('E104406701_0.npy', 4),\n",
       " ('E102307147_0.npy', 4),\n",
       " ('E100383453_0.npy', 4),\n",
       " ('12788616_0.npy', 4),\n",
       " ('E101179822_1.npy', 4),\n",
       " ('13109809_0.npy', 4),\n",
       " ('E104099180_0.npy', 4),\n",
       " ('12206657_0.npy', 4),\n",
       " ('12229245_0.npy', 4),\n",
       " ('E103020139_2.npy', 4),\n",
       " ('E102265444_0.npy', 4),\n",
       " ('12249331_0.npy', 4),\n",
       " ('12961059_1.npy', 4),\n",
       " ('E100278227_0.npy', 4),\n",
       " ('E104298604_0.npy', 4),\n",
       " ('12572068_0.npy', 4),\n",
       " ('12874178_0.npy', 4),\n",
       " ('12702482_0.npy', 4),\n",
       " ('12914169_1.npy', 4),\n",
       " ('E100142782_3.npy', 4),\n",
       " ('E101665217_0.npy', 4),\n",
       " ('E101000485_0.npy', 4),\n",
       " ('12739056_0.npy', 3),\n",
       " ('E100814791_0.npy', 3),\n",
       " ('E101068962_0.npy', 3),\n",
       " ('E101083458_1.npy', 3),\n",
       " ('E103985934_0.npy', 3),\n",
       " ('12789019_1.npy', 3),\n",
       " ('E101636006_0.npy', 3),\n",
       " ('E103514998_0.npy', 3),\n",
       " ('12823036_0.npy', 3),\n",
       " ('12914169_0.npy', 3),\n",
       " ('E102093118_0.npy', 3),\n",
       " ('E103647211_0.npy', 3),\n",
       " ('E100556920_0.npy', 3),\n",
       " ('E105368141_0.npy', 3),\n",
       " ('E103147618_0.npy', 3),\n",
       " ('E105978800_0.npy', 3),\n",
       " ('12961059_2.npy', 3),\n",
       " ('E101083458_3.npy', 3),\n",
       " ('E102315724_0.npy', 3),\n",
       " ('E100936782_0.npy', 3),\n",
       " ('E100407633_0.npy', 3),\n",
       " ('12569826_0.npy', 2),\n",
       " ('E104478369_0.npy', 2),\n",
       " ('E103776968_0.npy', 2),\n",
       " ('E100533092_0.npy', 2),\n",
       " ('E105344747_1.npy', 2),\n",
       " ('E103312835_0.npy', 2),\n",
       " ('E100262351_0.npy', 2),\n",
       " ('12090000_0.npy', 2),\n",
       " ('E101218384_5.npy', 2),\n",
       " ('13253894_0.npy', 2),\n",
       " ('12859243_1.npy', 2),\n",
       " ('12361082_1.npy', 2),\n",
       " ('12843139_1.npy', 2),\n",
       " ('12206539_0.npy', 2),\n",
       " ('E100168661_1.npy', 2),\n",
       " ('E100761453_0.npy', 2),\n",
       " ('12362250_1.npy', 2),\n",
       " ('12729396_0.npy', 2),\n",
       " ('12365693_2.npy', 2),\n",
       " ('12716818_0.npy', 2),\n",
       " ('E100353838_0.npy', 2),\n",
       " ('E100563300_0.npy', 2),\n",
       " ('E100121078_2.npy', 2),\n",
       " ('E101442376_0.npy', 2),\n",
       " ('12678910_1.npy', 2),\n",
       " ('13092836_1.npy', 2),\n",
       " ('E103200384_3.npy', 2),\n",
       " ('13067898_0.npy', 2),\n",
       " ('E103200384_2.npy', 2),\n",
       " ('E105044354_0.npy', 2),\n",
       " ('E105057635_0.npy', 2),\n",
       " ('E103897522_1.npy', 2),\n",
       " ('E104824034_0.npy', 2),\n",
       " ('E101811299_0.npy', 2),\n",
       " ('E103835733_0.npy', 2),\n",
       " ('12896772_0.npy', 2),\n",
       " ('E105370029_0.npy', 2),\n",
       " ('E104298604_1.npy', 2),\n",
       " ('E100348595_0.npy', 2),\n",
       " ('E105474285_0.npy', 2),\n",
       " ('E104546069_0.npy', 2),\n",
       " ('E100852770_0.npy', 2),\n",
       " ('E102860472_0.npy', 2),\n",
       " ('E104099161_0.npy', 2),\n",
       " ('E100551966_0.npy', 2),\n",
       " ('E103171388_0.npy', 2),\n",
       " ('12569826_1.npy', 2),\n",
       " ('E100893651_0.npy', 2),\n",
       " ('E100273365_0.npy', 2),\n",
       " ('E101346528_0.npy', 1),\n",
       " ('E105311123_0.npy', 1),\n",
       " ('E100670434_0.npy', 1),\n",
       " ('12365693_0.npy', 1),\n",
       " ('12362250_2.npy', 1),\n",
       " ('12799652_5.npy', 1),\n",
       " ('E100768911_0.npy', 1),\n",
       " ('E100121078_0.npy', 1),\n",
       " ('E102613189_0.npy', 1),\n",
       " ('E103985934_9.npy', 1),\n",
       " ('E100142782_0.npy', 1),\n",
       " ('E104298604_2.npy', 1),\n",
       " ('E100770947_0.npy', 1),\n",
       " ('12882479_0.npy', 1),\n",
       " ('E100563616_0.npy', 1),\n",
       " ('12362250_3.npy', 1),\n",
       " ('E100142782_2.npy', 1),\n",
       " ('E100215900_1.npy', 1),\n",
       " ('12888679_2.npy', 1),\n",
       " ('E100215900_5.npy', 1),\n",
       " ('12582632_0.npy', 1),\n",
       " ('13203550_7.npy', 1),\n",
       " ('13203550_1.npy', 1),\n",
       " ('12706568_0.npy', 1),\n",
       " ('13138944_0.npy', 1),\n",
       " ('E104270981_0.npy', 1),\n",
       " ('E102928774_0.npy', 1),\n",
       " ('12532324_0.npy', 1),\n",
       " ('E103020139_0.npy', 1),\n",
       " ('E103200384_1.npy', 1),\n",
       " ('E102860857_0.npy', 1),\n",
       " ('E101361319_0.npy', 1),\n",
       " ('13133279_0.npy', 1),\n",
       " ('12942917_0.npy', 1),\n",
       " ('12678910_2.npy', 1),\n",
       " ('E105310461_0.npy', 1),\n",
       " ('E100587476_1.npy', 1),\n",
       " ('13085691_0.npy', 1),\n",
       " ('E101218384_7.npy', 1),\n",
       " ('E106096969_0.npy', 1),\n",
       " ('E100815255_2.npy', 1),\n",
       " ('E100217760_0.npy', 1),\n",
       " ('E100261633_0.npy', 1),\n",
       " ('E100592424_0.npy', 1),\n",
       " ('12314736_1.npy', 1),\n",
       " ('12704214_0.npy', 1),\n",
       " ('E104737273_0.npy', 1),\n",
       " ('E104697262_0.npy', 1),\n",
       " ('12799652_2.npy', 1),\n",
       " ('E100592424_1.npy', 1),\n",
       " ('E100936782_1.npy', 1),\n",
       " ('E101218384_8.npy', 1),\n",
       " ('E100165687_4.npy', 1),\n",
       " ('E100173471_0.npy', 1),\n",
       " ('13051264_2.npy', 1),\n",
       " ('E100168661_0.npy', 1),\n",
       " ('12239783_0.npy', 1),\n",
       " ('E101218384_4.npy', 1),\n",
       " ('12874178_2.npy', 1),\n",
       " ('12170979_0.npy', 1),\n",
       " ('E101396972_0.npy', 1),\n",
       " ('13064153_1.npy', 1),\n",
       " ('E102307244_0.npy', 1),\n",
       " ('E106200941_1.npy', 1),\n",
       " ('E100183257_0.npy', 1),\n",
       " ('12659595_0.npy', 1),\n",
       " ('E105724706_0.npy', 1),\n",
       " ('E103985934_4.npy', 1),\n",
       " ('E104546069_2.npy', 1),\n",
       " ('E100815255_3.npy', 1),\n",
       " ('12972894_0.npy', 1),\n",
       " ('E103921713_0.npy', 1),\n",
       " ('E105724706_5.npy', 1),\n",
       " ('E102881031_0.npy', 1),\n",
       " ('E102373071_0.npy', 1),\n",
       " ('E104546069_1.npy', 1),\n",
       " ('E100459207_0.npy', 1),\n",
       " ('E101218384_6.npy', 1),\n",
       " ('13018986_1.npy', 1),\n",
       " ('13147226_0.npy', 1),\n",
       " ('12643382_0.npy', 1),\n",
       " ('E103921713_1.npy', 1),\n",
       " ('E104504259_0.npy', 1),\n",
       " ('12783467_0.npy', 1),\n",
       " ('12362250_0.npy', 1),\n",
       " ('E103985934_3.npy', 1),\n",
       " ('E100815255_0.npy', 1),\n",
       " ('13064153_0.npy', 1),\n",
       " ('12706568_1.npy', 1),\n",
       " ('E103200384_0.npy', 1),\n",
       " ('12888679_1.npy', 1),\n",
       " ('12719857_0.npy', 1),\n",
       " ('12365693_3.npy', 1),\n",
       " ('E101083458_4.npy', 1),\n",
       " ('12842070_0.npy', 1),\n",
       " ('12042703_2.npy', 1),\n",
       " ('E101964450_0.npy', 1),\n",
       " ('12404081_0.npy', 1),\n",
       " ('E100570696_0.npy', 1),\n",
       " ('E103510187_0.npy', 1),\n",
       " ('E104657225_0.npy', 1),\n",
       " ('E101808884_0.npy', 1),\n",
       " ('E100998852_0.npy', 1),\n",
       " ('12814666_0.npy', 1),\n",
       " ('E104937316_0.npy', 1),\n",
       " ('12042703_1.npy', 1),\n",
       " ('E101414242_0.npy', 1),\n",
       " ('E100215900_6.npy', 1),\n",
       " ('E102341190_0.npy', 1),\n",
       " ('E100458776_0.npy', 1),\n",
       " ('E104312766_0.npy', 1),\n",
       " ('13147226_3.npy', 1),\n",
       " ('E105724706_6.npy', 1),\n",
       " ('12843139_0.npy', 1),\n",
       " ('12365693_1.npy', 1),\n",
       " ('13051264_3.npy', 1),\n",
       " ('E100587476_0.npy', 1),\n",
       " ('E103312835_3.npy', 1),\n",
       " ('12584110_0.npy', 1),\n",
       " ('E105724706_7.npy', 1),\n",
       " ('E105724706_3.npy', 1),\n",
       " ('E101069048_1.npy', 1),\n",
       " ('E103306623_0.npy', 1),\n",
       " ('E103354676_1.npy', 1),\n",
       " ('12708393_0.npy', 1),\n",
       " ('E106200941_0.npy', 1),\n",
       " ('E100121654_0.npy', 1),\n",
       " ('12637865_0.npy', 1),\n",
       " ('E101665217_1.npy', 1),\n",
       " ('E100183257_1.npy', 1),\n",
       " ('E100779275_0.npy', 1),\n",
       " ('13011683_0.npy', 1),\n",
       " ('12314736_0.npy', 1),\n",
       " ('12791882_0.npy', 1),\n",
       " ('E101018553_0.npy', 1),\n",
       " ('12558045_0.npy', 1),\n",
       " ('12890053_0.npy', 1),\n",
       " ('13173746_0.npy', 1),\n",
       " ('E101689936_0.npy', 1),\n",
       " ('E100802142_0.npy', 1),\n",
       " ('E100121078_3.npy', 1),\n",
       " ('12362250_5.npy', 1),\n",
       " ('12919851_0.npy', 1),\n",
       " ('12799652_0.npy', 1),\n",
       " ('E103200384_6.npy', 1),\n",
       " ('E104189184_0.npy', 1),\n",
       " ('E101218384_2.npy', 1),\n",
       " ('E100385703_0.npy', 1),\n",
       " ('12874178_1.npy', 1),\n",
       " ('13064153_2.npy', 1),\n",
       " ('E105047582_0.npy', 1),\n",
       " ('E102857025_0.npy', 1),\n",
       " ('E103354676_0.npy', 1),\n",
       " ('E100992235_0.npy', 1),\n",
       " ('E101218384_0.npy', 1),\n",
       " ('E102095465_0.npy', 1),\n",
       " ('12919851_2.npy', 1),\n",
       " ('12758138_0.npy', 1),\n",
       " ('E105599954_0.npy', 1),\n",
       " ('E101218384_3.npy', 1),\n",
       " ('E104243475_0.npy', 1),\n",
       " ('E102677567_2.npy', 1),\n",
       " ('E100150242_0.npy', 1),\n",
       " ('E100215900_12.npy', 1),\n",
       " ('E100168661_2.npy', 1),\n",
       " ('E105460400_0.npy', 1),\n",
       " ('12887252_0.npy', 1),\n",
       " ('12911673_0.npy', 1),\n",
       " ('12739056_1.npy', 1),\n",
       " ('12361082_0.npy', 1),\n",
       " ('12874178_3.npy', 1),\n",
       " ('E102064716_1.npy', 1),\n",
       " ('E102064716_0.npy', 1),\n",
       " ('13064153_3.npy', 1),\n",
       " ('E100215900_7.npy', 1),\n",
       " ('E103278261_0.npy', 1),\n",
       " ('E105993177_0.npy', 1),\n",
       " ('E100545184_0.npy', 1),\n",
       " ('E103312835_1.npy', 1),\n",
       " ('E100199185_0.npy', 1),\n",
       " ('13038029_0.npy', 1),\n",
       " ('11907521_0.npy', 1),\n",
       " ('E105426183_0.npy', 1),\n",
       " ('12799652_1.npy', 1),\n",
       " ('13108286_0.npy', 1),\n",
       " ('E101516755_0.npy', 1),\n",
       " ('12961059_0.npy', 1),\n",
       " ('13130745_0.npy', 1),\n",
       " ('E104945571_0.npy', 1),\n",
       " ('E101665217_2.npy', 1),\n",
       " ('E101290891_0.npy', 1),\n",
       " ('12799652_4.npy', 1),\n",
       " ('12814666_1.npy', 1),\n",
       " ('E102064716_2.npy', 1),\n",
       " ('E105724706_1.npy', 1),\n",
       " ('12569826_2.npy', 1),\n",
       " ('12799652_3.npy', 1),\n",
       " ('12572068_1.npy', 1),\n",
       " ('E101225606_0.npy', 1),\n",
       " ('12884208_0.npy', 1),\n",
       " ('13092966_0.npy', 1),\n",
       " ('E100192709_1.npy', 1),\n",
       " ('12023378_0.npy', 1),\n",
       " ('E103020139_1.npy', 1),\n",
       " ('E102634440_0.npy', 1),\n",
       " ('12611737_0.npy', 1),\n",
       " ('E100142782_4.npy', 1),\n",
       " ('E102375251_0.npy', 1),\n",
       " ('12831275_0.npy', 1),\n",
       " ('E101179822_0.npy', 1),\n",
       " ('E101994410_0.npy', 1),\n",
       " ('11957947_0.npy', 1),\n",
       " ('E106017876_0.npy', 1),\n",
       " ('12707781_0.npy', 1),\n",
       " ('12678910_0.npy', 1),\n",
       " ('E100142782_1.npy', 1),\n",
       " ('E104764948_0.npy', 1),\n",
       " ('12724004_0.npy', 1),\n",
       " ('E104858530_0.npy', 1),\n",
       " ('E102307244_1.npy', 1),\n",
       " ('13140075_0.npy', 1),\n",
       " ('E100987314_0.npy', 1),\n",
       " ('12888679_0.npy', 1),\n",
       " ('E100121078_1.npy', 1),\n",
       " ('E104978772_0.npy', 1),\n",
       " ('12362250_4.npy', 1),\n",
       " ('E100215900_8.npy', 1),\n",
       " ('E103572101_0.npy', 1),\n",
       " ('E105724706_2.npy', 1),\n",
       " ('12111877_0.npy', 1),\n",
       " ('12947326_0.npy', 1),\n",
       " ('13003974_0.npy', 1),\n",
       " ('E100192709_0.npy', 1),\n",
       " ('13038029_1.npy', 1),\n",
       " ('E100215900_2.npy', 1),\n",
       " ('E102929168_0.npy', 1),\n",
       " ('12502068_1.npy', 1),\n",
       " ('E101218384_1.npy', 1),\n",
       " ('12502068_0.npy', 1),\n",
       " ('E102310482_0.npy', 1),\n",
       " ('12837102_0.npy', 1),\n",
       " ('E100551966_1.npy', 1),\n",
       " ('13260276_1.npy', 1),\n",
       " ('E105724706_4.npy', 1),\n",
       " ('E103104254_0.npy', 1),\n",
       " ('E100122773_0.npy', 1),\n",
       " ('E106046622_1.npy', 1),\n",
       " ('E100288902_0.npy', 1),\n",
       " ('13253894_1.npy', 1),\n",
       " ('E102522273_0.npy', 1)]"
      ]
     },
     "execution_count": 23,
     "metadata": {},
     "output_type": "execute_result"
    }
   ],
   "source": [
    "df = pd.read_csv(C.run_stats_path)\n",
    "\n",
    "df = df.dropna(subset=['misclassified_test'])\n",
    "df = df.loc[:,['misclassified_test','misclassified_train']]\n",
    "#df = df.dropna()\n",
    "#b = a.iloc[0]['y_pred_raw']\n",
    "#b = hf.str_to_lists(b)\n",
    "\n",
    "mis_test = df['misclassified_train'].values\n",
    "mis_test += df['misclassified_test'].values\n",
    "\n",
    "mis_test = ''.join(mis_test)\n",
    "mis_test = mis_test.replace(' ','')\n",
    "mis_test = mis_test.replace(\"'\",\"\")\n",
    "mis_test = re.sub(r'\\]\\[', ',', mis_test)\n",
    "mis_test = mis_test.replace(\"[\",\"\")\n",
    "mis_test = mis_test.replace(\"]\",\"\")\n",
    "\n",
    "mis_test = mis_test.split(',')\n",
    "\n",
    "unique, counts = np.unique(mis_test, return_counts=True)\n",
    "\n",
    "x = dict(zip(unique, counts))\n",
    "\n",
    "sorted_x = sorted(x.items(), key=operator.itemgetter(1), reverse=True)\n",
    "sorted_x"
   ]
  },
  {
   "cell_type": "code",
   "execution_count": 3,
   "metadata": {
    "collapsed": true,
    "scrolled": true
   },
   "outputs": [],
   "source": [
    "df = pd.read_csv(C.run_stats_path)\n",
    "df = df[(df['test_num'] == 10) & (~df['time_dist']) & (df['steps_per_epoch'] == 750) & (df['timestamp'] < 1515879326)]"
   ]
  },
  {
   "cell_type": "code",
   "execution_count": 18,
   "metadata": {},
   "outputs": [
    {
     "data": {
      "text/plain": [
       "0.91916666660000002"
      ]
     },
     "execution_count": 18,
     "metadata": {},
     "output_type": "execute_result"
    }
   ],
   "source": [
    "np.mean(df['acc6cls'])"
   ]
  },
  {
   "cell_type": "code",
   "execution_count": 21,
   "metadata": {
    "collapsed": true
   },
   "outputs": [],
   "source": [
    "train_acc = [1-x.count(\"npy\")/434 for x in df['misclassified_train'].values]"
   ]
  },
  {
   "cell_type": "code",
   "execution_count": 4,
   "metadata": {
    "scrolled": false
   },
   "outputs": [
    {
     "name": "stdout",
     "output_type": "stream",
     "text": [
      "187.0\t4.0\t1.0\t0.0\t0.0\t11.0\t\n",
      "1.0\t180.0\t18.0\t0.0\t10.0\t6.0\t\n",
      "3.0\t6.0\t177.0\t3.0\t7.0\t0.0\t\n",
      "0.0\t0.0\t1.0\t197.0\t2.0\t0.0\t\n",
      "1.0\t2.0\t3.0\t0.0\t181.0\t2.0\t\n",
      "8.0\t8.0\t0.0\t0.0\t0.0\t181.0\t\n"
     ]
    }
   ],
   "source": [
    "cms = df['confusion_matrix'].values\n",
    "\n",
    "cms = ''.join(cms)\n",
    "\n",
    "ret = hf.str_to_lists(cms, dtype=int)\n",
    "\n",
    "supercm = ret\n",
    "\n",
    "supercm = [supercm[rownum:rownum+6] for rownum in range(0,len(supercm),6)]\n",
    "\n",
    "supercm = np.array(supercm)\n",
    "\n",
    "cm_sum = np.empty((6,6))\n",
    "\n",
    "for i in range(6):\n",
    "    for j in range(6):\n",
    "        cm_sum[i,j] = np.sum(supercm[:,i,j])\n",
    "\n",
    "for i in range(6):\n",
    "    for j in range(6):\n",
    "        print(cm_sum[j,i],end='\\t')\n",
    "    print()"
   ]
  },
  {
   "cell_type": "code",
   "execution_count": 5,
   "metadata": {},
   "outputs": [
    {
     "data": {
      "text/plain": [
       "13.0"
      ]
     },
     "execution_count": 5,
     "metadata": {},
     "output_type": "execute_result"
    }
   ],
   "source": [
    "np.sum(cm_sum[0,:])-187"
   ]
  },
  {
   "cell_type": "code",
   "execution_count": 6,
   "metadata": {
    "collapsed": true
   },
   "outputs": [],
   "source": [
    "avg_tpr = cm_sum[0,0]/np.sum(cm_sum[0,:])\n",
    "avg_fpr = np.sum(cm_sum[1:,0])/np.sum(cm_sum[1:,:])"
   ]
  },
  {
   "cell_type": "code",
   "execution_count": 7,
   "metadata": {
    "collapsed": true
   },
   "outputs": [],
   "source": [
    "fpr = [np.sum(cm[1:,0])/np.sum(cm[1:,:]) for cm in supercm]\n",
    "tpr = [cm[0,0]/np.sum(cm[0,:]) for cm in supercm]"
   ]
  },
  {
   "cell_type": "code",
   "execution_count": 8,
   "metadata": {
    "collapsed": true
   },
   "outputs": [],
   "source": [
    "truths = df['y_true'].values\n",
    "truths = ''.join(truths)\n",
    "truths = hf.str_to_lists(truths, dtype=int)\n",
    "truths = np.array(truths)\n",
    "\n",
    "predictions = df['y_pred_raw'].values\n",
    "predictions = ''.join(predictions)\n",
    "predictions = hf.str_to_lists(predictions, dtype=float)\n",
    "predictions = [predictions[rownum:rownum+60] for rownum in range(0,len(predictions),60)]\n",
    "predictions = np.array(predictions)\n",
    "\n",
    "hcc_thresh = []\n",
    "nonhcc_thresh = []\n",
    "thresh_dict = {}\n",
    "\n",
    "for run_num in range(20):\n",
    "    for lesion_num in range(60):\n",
    "        if truths[run_num, lesion_num] == C.classes_to_include.index('hcc'):\n",
    "            hcc_thresh.append(predictions[run_num, lesion_num, 0])\n",
    "            thresh_dict[predictions[run_num, lesion_num, 0]] = 'hcc'\n",
    "        else:\n",
    "            nonhcc_thresh.append(predictions[run_num, lesion_num, 0])\n",
    "            thresh_dict[predictions[run_num, lesion_num, 0]] = 'non-hcc'"
   ]
  },
  {
   "cell_type": "code",
   "execution_count": 9,
   "metadata": {
    "collapsed": true
   },
   "outputs": [],
   "source": [
    "TPR = [200/200]\n",
    "FPR = [1000/1000]\n",
    "\n",
    "hcc_correct = 200\n",
    "hcc_wrong = 1000\n",
    "for key in sorted(thresh_dict):\n",
    "    if thresh_dict[key] == 'hcc':\n",
    "        hcc_correct -= 1\n",
    "    else:\n",
    "        hcc_wrong -= 1\n",
    "    TPR.append(hcc_correct/200)\n",
    "    FPR.append(hcc_wrong/1000)"
   ]
  },
  {
   "cell_type": "code",
   "execution_count": 10,
   "metadata": {},
   "outputs": [
    {
     "data": {
      "text/plain": [
       "(0.016, 0.93500000000000005)"
      ]
     },
     "execution_count": 10,
     "metadata": {},
     "output_type": "execute_result"
    }
   ],
   "source": [
    "avg_fpr, avg_tpr"
   ]
  },
  {
   "cell_type": "code",
   "execution_count": 14,
   "metadata": {},
   "outputs": [
    {
     "data": {
      "text/plain": [
       "[<matplotlib.text.Text at 0x1584e20a2b0>,\n",
       " <matplotlib.text.Text at 0x1584e20e9e8>,\n",
       " <matplotlib.text.Text at 0x1584e228d68>,\n",
       " <matplotlib.text.Text at 0x1584e26a710>,\n",
       " <matplotlib.text.Text at 0x1584e25fc50>,\n",
       " <matplotlib.text.Text at 0x1584e261668>,\n",
       " <matplotlib.text.Text at 0x1584e271940>,\n",
       " <matplotlib.text.Text at 0x1584e273438>]"
      ]
     },
     "execution_count": 14,
     "metadata": {},
     "output_type": "execute_result"
    },
    {
     "data": {
      "image/png": "[encoded data removed]",
      "text/plain": [
       "<matplotlib.figure.Figure at 0x1584e19a278>"
      ]
     },
     "metadata": {},
     "output_type": "display_data"
    }
   ],
   "source": [
    "plt.style.use('seaborn')\n",
    "fig, ax = plt.subplots(1,1,figsize=(6, 6))\n",
    "ax.plot(FPR, TPR, 'k', label='Model', linewidth=2)\n",
    "ax.plot(.04, 1, 'ko', label='ModelReader', markersize=12)\n",
    "ax.plot(0, .7, 'k^', label='RAD2', markersize=12)\n",
    "ax.plot(0, .6, 'k^', label='RAD1', markersize=12)\n",
    "ax.plot(avg_fpr, avg_tpr, 'ko', label='ModelAvg', markersize=12)\n",
    "#ax.plot(fpr, tpr, 'o', ms=5)\n",
    "ax.plot([0,1], [0,1], 'k--', lw=1)\n",
    "vals = ax.get_xticks()\n",
    "ax.set_xticklabels(['{:3.0f}%'.format(x*100) for x in vals], size=20, color='k')\n",
    "vals = ax.get_yticks()\n",
    "ax.set_yticklabels(['{:3.0f}%'.format(x*100) for x in vals], size=20, color='k')\n",
    "\n",
    "#ax.xaxis.set_major_formatter(plt.FuncFormatter('{:.0f}%'.format))\n",
    "#ax.yaxis.set_major_formatter(plt.FuncFormatter('{:.0f}%'.format))"
   ]
  },
  {
   "cell_type": "code",
   "execution_count": 56,
   "metadata": {
    "scrolled": true
   },
   "outputs": [
    {
     "data": {
      "text/plain": [
       "[<matplotlib.lines.Line2D at 0x1fcb624feb8>]"
      ]
     },
     "execution_count": 56,
     "metadata": {},
     "output_type": "execute_result"
    }
   ],
   "source": [
    "sp.plot(FPR, TPR, 'k', label='Model', linewidth=3)\n",
    "sp.plot(.1, .9, 'g^', label='Model', markersize=10)\n",
    "sp.plot(.43, 1., 'r^', label='R2', markersize=10)\n",
    "sp.plot(.67, 1., 'b^', label='R1', markersize=10)"
   ]
  },
  {
   "cell_type": "code",
   "execution_count": null,
   "metadata": {
    "collapsed": true
   },
   "outputs": [],
   "source": []
  },
  {
   "cell_type": "code",
   "execution_count": 37,
   "metadata": {},
   "outputs": [
    {
     "data": {
      "text/plain": [
       "0.9922300000000035"
      ]
     },
     "execution_count": 37,
     "metadata": {},
     "output_type": "execute_result"
    }
   ],
   "source": [
    "AUC = sum([(FPR[i]-FPR[i+1])*TPR[i] for i in range(len(FPR)-1)])\n",
    "AUC"
   ]
  },
  {
   "cell_type": "markdown",
   "metadata": {},
   "source": [
    "a = run_stats.loc[:,['y_true','y_pred_raw']]\n",
    "a = a.dropna()\n",
    "b = a.iloc[0]['y_pred_raw']\n",
    "b = hf.str_to_lists(b)"
   ]
  },
  {
   "cell_type": "markdown",
   "metadata": {},
   "source": [
    "# Artificial images"
   ]
  },
  {
   "cell_type": "code",
   "execution_count": null,
   "metadata": {
    "collapsed": true
   },
   "outputs": [],
   "source": [
    "agm.gen_imgs()\n",
    "img = agm.visualize_gen_img('hemangioma')"
   ]
  }
 ],
 "metadata": {
  "anaconda-cloud": {},
  "kernelspec": {
   "display_name": "Python 3",
   "language": "python",
   "name": "python3"
  },
  "language_info": {
   "codemirror_mode": {
    "name": "ipython",
    "version": 3
   },
   "file_extension": ".py",
   "mimetype": "text/x-python",
   "name": "python",
   "nbconvert_exporter": "python",
   "pygments_lexer": "ipython3",
   "version": "3.5.0"
  }
 },
 "nbformat": 4,
 "nbformat_minor": 1
}
