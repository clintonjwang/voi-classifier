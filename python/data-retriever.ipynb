{
 "cells": [
  {
   "cell_type": "markdown",
   "metadata": {},
   "source": [
    "Retrieves images from \"raw_imgs\" folder and stores them in \"full_imgs\". Retrieves spreadsheet listing VOIs and stores them in text file."
   ]
  },
  {
   "cell_type": "markdown",
   "metadata": {},
   "source": [
    "TODO: function to read existing vois, drop one class, then load the class back in. Requires that drm.load_imgs write to a DataFrame rather than an array"
   ]
  },
  {
   "cell_type": "code",
   "execution_count": 118,
   "metadata": {
    "scrolled": true
   },
   "outputs": [],
   "source": [
    "import artif_gen_methods as agm\n",
    "import config\n",
    "import dr_methods as drm\n",
    "import niftiutils.helper_fxns as hf\n",
    "import importlib\n",
    "import matplotlib.pyplot as plt\n",
    "import numpy as np\n",
    "import os\n",
    "import pandas as pd\n",
    "import shutil\n",
    "import time\n",
    "import voi_methods as vm\n",
    "%matplotlib inline"
   ]
  },
  {
   "cell_type": "code",
   "execution_count": 208,
   "metadata": {
    "scrolled": true
   },
   "outputs": [],
   "source": [
    "importlib.reload(config)\n",
    "importlib.reload(hf)\n",
    "importlib.reload(vm)\n",
    "importlib.reload(drm)\n",
    "importlib.reload(agm)\n",
    "C = config.Config()"
   ]
  },
  {
   "cell_type": "markdown",
   "metadata": {},
   "source": [
    "# Generate data"
   ]
  },
  {
   "cell_type": "code",
   "execution_count": null,
   "metadata": {
    "collapsed": true
   },
   "outputs": [],
   "source": [
    "drm.dcm2npy_batch()"
   ]
  },
  {
   "cell_type": "code",
   "execution_count": 20,
   "metadata": {
    "collapsed": true
   },
   "outputs": [],
   "source": [
    "voi_df_art, voi_df_ven, voi_df_eq = drm.get_voi_dfs()"
   ]
  },
  {
   "cell_type": "code",
   "execution_count": null,
   "metadata": {
    "collapsed": true
   },
   "outputs": [],
   "source": [
    "vm.xref_dirs_with_excel()"
   ]
  },
  {
   "cell_type": "code",
   "execution_count": null,
   "metadata": {
    "collapsed": true
   },
   "outputs": [],
   "source": [
    "drm.load_patient_info(overwrite=False)"
   ]
  },
  {
   "cell_type": "code",
   "execution_count": null,
   "metadata": {
    "collapsed": true
   },
   "outputs": [],
   "source": [
    "drm.report_missing_folders()"
   ]
  },
  {
   "cell_type": "code",
   "execution_count": null,
   "metadata": {
    "collapsed": true
   },
   "outputs": [],
   "source": [
    "drm.load_vois_batch(cls=None, overwrite=False)"
   ]
  },
  {
   "cell_type": "code",
   "execution_count": null,
   "metadata": {
    "collapsed": true
   },
   "outputs": [],
   "source": [
    "vm.extract_vois()"
   ]
  },
  {
   "cell_type": "code",
   "execution_count": null,
   "metadata": {
    "collapsed": true
   },
   "outputs": [],
   "source": [
    "vm.reload_accnum('hcc', ['E105464882'], augment=True, overwrite=True)"
   ]
  },
  {
   "cell_type": "code",
   "execution_count": null,
   "metadata": {
    "collapsed": true
   },
   "outputs": [],
   "source": [
    "vm.save_unaugment_set()\n",
    "vm.save_vois_as_imgs()"
   ]
  },
  {
   "cell_type": "code",
   "execution_count": null,
   "metadata": {
    "collapsed": true
   },
   "outputs": [],
   "source": [
    "vm.parallel_augment(num_cores=3, overwrite=100)"
   ]
  },
  {
   "cell_type": "code",
   "execution_count": 270,
   "metadata": {},
   "outputs": [
    {
     "data": {
      "text/html": [
       "<div>\n",
       "<style>\n",
       "    .dataframe thead tr:only-child th {\n",
       "        text-align: right;\n",
       "    }\n",
       "\n",
       "    .dataframe thead th {\n",
       "        text-align: left;\n",
       "    }\n",
       "\n",
       "    .dataframe tbody tr th {\n",
       "        vertical-align: top;\n",
       "    }\n",
       "</style>\n",
       "<table border=\"1\" class=\"dataframe\">\n",
       "  <thead>\n",
       "    <tr style=\"text-align: right;\">\n",
       "      <th></th>\n",
       "      <th>Filename</th>\n",
       "      <th>x1</th>\n",
       "      <th>x2</th>\n",
       "      <th>y1</th>\n",
       "      <th>y2</th>\n",
       "      <th>z1</th>\n",
       "      <th>z2</th>\n",
       "      <th>cls</th>\n",
       "      <th>flipz</th>\n",
       "      <th>real_dx</th>\n",
       "      <th>real_dy</th>\n",
       "      <th>real_dz</th>\n",
       "      <th>id</th>\n",
       "      <th>lesion_num</th>\n",
       "    </tr>\n",
       "  </thead>\n",
       "  <tbody>\n",
       "    <tr>\n",
       "      <th>176</th>\n",
       "      <td>E100592424.npy</td>\n",
       "      <td>64</td>\n",
       "      <td>99</td>\n",
       "      <td>50</td>\n",
       "      <td>82</td>\n",
       "      <td>43</td>\n",
       "      <td>61</td>\n",
       "      <td>colorectal</td>\n",
       "      <td>False</td>\n",
       "      <td>54.6875</td>\n",
       "      <td>50.0</td>\n",
       "      <td>54.0</td>\n",
       "      <td>E100592424_2</td>\n",
       "      <td>2</td>\n",
       "    </tr>\n",
       "  </tbody>\n",
       "</table>\n",
       "</div>"
      ],
      "text/plain": [
       "           Filename  x1  x2  y1  y2  z1  z2         cls  flipz  real_dx  \\\n",
       "176  E100592424.npy  64  99  50  82  43  61  colorectal  False  54.6875   \n",
       "\n",
       "     real_dy  real_dz            id  lesion_num  \n",
       "176     50.0     54.0  E100592424_2           2  "
      ]
     },
     "execution_count": 270,
     "metadata": {},
     "output_type": "execute_result"
    }
   ],
   "source": [
    "voi_df_art[voi_df_art['id'].str.contains('2424_2')]\n",
    "#voi_df_art[voi_df_art.index.str.contains('9185_0')]"
   ]
  },
  {
   "cell_type": "markdown",
   "metadata": {},
   "source": [
    "# Plotting"
   ]
  },
  {
   "cell_type": "code",
   "execution_count": 127,
   "metadata": {},
   "outputs": [
    {
     "data": {
      "text/html": [
       "<div>\n",
       "<style>\n",
       "    .dataframe thead tr:only-child th {\n",
       "        text-align: right;\n",
       "    }\n",
       "\n",
       "    .dataframe thead th {\n",
       "        text-align: left;\n",
       "    }\n",
       "\n",
       "    .dataframe tbody tr th {\n",
       "        vertical-align: top;\n",
       "    }\n",
       "</style>\n",
       "<table border=\"1\" class=\"dataframe\">\n",
       "  <thead>\n",
       "    <tr style=\"text-align: right;\">\n",
       "      <th></th>\n",
       "      <th>Filename</th>\n",
       "      <th>x1</th>\n",
       "      <th>x2</th>\n",
       "      <th>y1</th>\n",
       "      <th>y2</th>\n",
       "      <th>z1</th>\n",
       "      <th>z2</th>\n",
       "      <th>cls</th>\n",
       "      <th>flipz</th>\n",
       "      <th>real_dx</th>\n",
       "      <th>real_dy</th>\n",
       "      <th>real_dz</th>\n",
       "      <th>id</th>\n",
       "      <th>lesion_num</th>\n",
       "    </tr>\n",
       "  </thead>\n",
       "  <tbody>\n",
       "    <tr>\n",
       "      <th>3</th>\n",
       "      <td>E100610622.npy</td>\n",
       "      <td>180</td>\n",
       "      <td>192</td>\n",
       "      <td>157</td>\n",
       "      <td>171</td>\n",
       "      <td>48</td>\n",
       "      <td>54</td>\n",
       "      <td>cyst</td>\n",
       "      <td>False</td>\n",
       "      <td>15.75</td>\n",
       "      <td>18.375</td>\n",
       "      <td>18.0</td>\n",
       "      <td>E100610622_0</td>\n",
       "      <td>0</td>\n",
       "    </tr>\n",
       "  </tbody>\n",
       "</table>\n",
       "</div>"
      ],
      "text/plain": [
       "         Filename   x1   x2   y1   y2  z1  z2   cls  flipz  real_dx  real_dy  \\\n",
       "3  E100610622.npy  180  192  157  171  48  54  cyst  False    15.75   18.375   \n",
       "\n",
       "   real_dz            id  lesion_num  \n",
       "3     18.0  E100610622_0           0  "
      ]
     },
     "execution_count": 127,
     "metadata": {},
     "output_type": "execute_result"
    }
   ],
   "source": [
    "#voi_df_art[voi_df_art[\"acc_num\"] == \"12874178\"]\n",
    "voi_df_art[voi_df_art[\"Filename\"] == \"12678910.npy\"]"
   ]
  },
  {
   "cell_type": "code",
   "execution_count": null,
   "metadata": {
    "collapsed": true
   },
   "outputs": [],
   "source": [
    "cls = \"hcc\"\n",
    "acc_num = 'E103224933'\n",
    "img = np.load(C.full_img_dir+\"\\\\\"+cls + \"\\\\\"+acc_num + \".npy\")\n",
    "hf.plot_slice_flips(img, voi_df_art[(voi_df_art[\"acc_num\"] == acc_num) & (voi_df_art[\"cls\"] == cls)].iloc[0])\n",
    "print(np.amin(img), np.amax(img), np.mean(img))\n",
    "#hf.plot_section_auto(img)"
   ]
  },
  {
   "cell_type": "code",
   "execution_count": 171,
   "metadata": {},
   "outputs": [
    {
     "name": "stdout",
     "output_type": "stream",
     "text": [
      "-1.00267556682 1.0 -0.25959287858\n"
     ]
    },
    {
     "data": {
      "image/png": "[encoded data removed]",
      "text/plain": [
       "<matplotlib.figure.Figure at 0x17b5e300c88>"
      ]
     },
     "metadata": {},
     "output_type": "display_data"
    }
   ],
   "source": [
    "img = drm.plot_check(1, \"12961059_0\", normalize=[-.8,.5])\n",
    "print(np.amin(img), np.amax(img), np.mean(img))"
   ]
  },
  {
   "cell_type": "code",
   "execution_count": 204,
   "metadata": {},
   "outputs": [],
   "source": [
    "vm.save_vois_as_imgs(lesion_ids=replacement_Z, save_dir=r\"Z:\\Inter-reader study\\DICOMs\\subs\")"
   ]
  },
  {
   "cell_type": "code",
   "execution_count": 217,
   "metadata": {},
   "outputs": [
    {
     "name": "stderr",
     "output_type": "stream",
     "text": [
      "C:\\Users\\Clinton\\AppData\\Local\\conda\\conda\\envs\\old-keras\\lib\\site-packages\\skimage\\transform\\_warps.py:84: UserWarning: The default mode, 'constant', will be changed to 'reflect' in skimage 0.15.\n",
      "  warn(\"The default mode, 'constant', will be changed to 'reflect' in \"\n"
     ]
    }
   ],
   "source": [
    "vm.save_imgs_with_bbox(lesion_ids=replacement_Z2, save_dir=r\"Z:\\Inter-reader study\\DICOMs\\subs2\")"
   ]
  },
  {
   "cell_type": "markdown",
   "metadata": {},
   "source": [
    "# Generate reader study samples"
   ]
  },
  {
   "cell_type": "code",
   "execution_count": 166,
   "metadata": {},
   "outputs": [
    {
     "data": {
      "text/plain": [
       "['colorectal',\n",
       " 'cholangio',\n",
       " 'cyst',\n",
       " 'fnh',\n",
       " 'fnh',\n",
       " 'fnh',\n",
       " 'fnh',\n",
       " 'hemangioma',\n",
       " 'cyst',\n",
       " 'fnh']"
      ]
     },
     "execution_count": 166,
     "metadata": {},
     "output_type": "execute_result"
    }
   ],
   "source": [
    "replacements"
   ]
  },
  {
   "cell_type": "code",
   "execution_count": 210,
   "metadata": {},
   "outputs": [
    {
     "name": "stdout",
     "output_type": "stream",
     "text": [
      "cholangio 11534565_0.npy\n",
      "cholangio E103171388_0.npy\n",
      "hcc E100262351_0.npy\n",
      "cholangio E103647211_0.npy\n"
     ]
    }
   ],
   "source": [
    "for cls in ['cholangio',\n",
    "'cholangio',\n",
    "'hcc',\n",
    "'cholangio']:\n",
    "    print(cls, random.choice([z for z in os.listdir(C.orig_dir + cls) if z[:z.find('_')] not in banned_accnums]))"
   ]
  },
  {
   "cell_type": "code",
   "execution_count": 24,
   "metadata": {
    "collapsed": true,
    "scrolled": true
   },
   "outputs": [],
   "source": [
    "voi_df_art, voi_df_ven, voi_df_eq = drm.get_voi_dfs()"
   ]
  },
  {
   "cell_type": "code",
   "execution_count": 149,
   "metadata": {
    "collapsed": true
   },
   "outputs": [],
   "source": [
    "voi_df_art = pd.read_csv(\"..\\\\data\\\\voi_art.csv\")"
   ]
  },
  {
   "cell_type": "code",
   "execution_count": 186,
   "metadata": {},
   "outputs": [],
   "source": [
    "old_Z_reader = ['12888679_2.npy', 'E101218384_5.npy', '12324408_0.npy', '12975280_0.npy', 'E100962970_0.npy', 'E101083458_1.npy', 'E105311123_0.npy', 'E104697262_0.npy', 'E100183257_1.npy', 'E103312835_1.npy', '13203550_7.npy', '12207268_0.npy', 'E100610622_0.npy', 'E100718398_0.npy', '12302576_0.npy', '12207268_2.npy', '12530153_0.npy', '13028374_0.npy', '12451831_0.npy', '12569826_0.npy', '12678910_1.npy', '12239783_0.npy', '12842070_0.npy', '12799652_0.npy', '12678910_0.npy', '12823036_0.npy', '11907521_0.npy', 'E100168661_0.npy', '12874178_3.npy', '12788616_0.npy', 'E102093118_0.npy', 'E105310461_0.npy', 'E103200384_1.npy', 'E102634440_0.npy', '12569915_0.npy', 'E102095465_0.npy', 'E102929168_0.npy', 'E102613189_0.npy', 'E103020139_1.npy', '12582632_0.npy', 'E100894274_0.npy', 'E100407633_0.npy', 'E101069048_1.npy', 'E101225606_0.npy', '13031955_0.npy', '12783467_0.npy', '13092966_0.npy', 'E105344747_0.npy', 'E100199185_0.npy', 'E106096969_0.npy', '12362250_5.npy', 'E100192709_1.npy', 'E105244287_0.npy', 'E106182827_0.npy', '13092836_2.npy', '12362250_4.npy', 'E104853578_1.npy', 'E100215900_8.npy', 'E102677567_0.npy', 'E100383453_0.npy']\n",
    "old_Z_reader = [z[:-4] for z in old_Z_reader]"
   ]
  },
  {
   "cell_type": "code",
   "execution_count": 163,
   "metadata": {
    "collapsed": true
   },
   "outputs": [],
   "source": [
    "banned_accnums = [z[:z.find('_')] for z in old_Z_reader]"
   ]
  },
  {
   "cell_type": "code",
   "execution_count": 257,
   "metadata": {},
   "outputs": [
    {
     "data": {
      "text/plain": [
       "60"
      ]
     },
     "execution_count": 257,
     "metadata": {},
     "output_type": "execute_result"
    }
   ],
   "source": [
    "len(Z_reader)"
   ]
  },
  {
   "cell_type": "code",
   "execution_count": 256,
   "metadata": {},
   "outputs": [],
   "source": [
    "Z_reader = list(set(old_Z_reader).difference(hitlist)) + replacement_Z + ['E100262351_0']"
   ]
  },
  {
   "cell_type": "code",
   "execution_count": 148,
   "metadata": {
    "collapsed": true
   },
   "outputs": [],
   "source": [
    "#Z_reader = ['12569915_0', 'E106182827_0', 'E101225606_0', '12362250_5', '12799652_0', '12239783_0', 'E100962970_0', '12678910_0', '12823036_0', 'E101069048_1', 'E100168661_0', '13092836_2', '12207268_0', 'E102093118_0', '12842070_0', '12874178_3', '12788616_0', '12783467_0', 'E100192709_1', 'E100718398_0', '12569826_0', '12678910_1', 'E102634440_0', 'E100407633_0', 'E100894274_0', 'E105310461_0', '12530153_0', '13028374_0', 'E105344747_0', 'E106096969_0', '12975280_0', '12451831_0', 'E103020139_1', 'E104697262_0', 'E102929168_0', 'E102613189_0', 'E105244287_0', 'E102095465_0', 'E100383453_0', 'E101083458_1', '12888679_2', '13092966_0', '12302576_0', '12207268_2', '12324408_0', 'E100199185_0', '13031955_0', 'E100183257_1', 'E105311123_0', 'E100610622_0', '12582632_0', '11907521_0', 'E103312835_1']"
   ]
  },
  {
   "cell_type": "code",
   "execution_count": 246,
   "metadata": {
    "collapsed": true
   },
   "outputs": [],
   "source": [
    "replacement_Z = ['12961059_0.npy','E105427046_0.npy','13112385_1.npy','E101415263_0.npy','12552705_0.npy','E105918926_0.npy','E103192914_0.npy','E100121654_0.npy','E100314676_0.npy','E102782525_0.npy']\n",
    "replacement_Z = [z[:-4] for z in replacement_Z]"
   ]
  },
  {
   "cell_type": "code",
   "execution_count": 243,
   "metadata": {
    "collapsed": true
   },
   "outputs": [],
   "source": [
    "replacement_Z2 = ['11534565_0', 'E103171388_0', 'E100262351_0', 'E103647211_0']"
   ]
  },
  {
   "cell_type": "code",
   "execution_count": 160,
   "metadata": {},
   "outputs": [
    {
     "data": {
      "text/plain": [
       "50"
      ]
     },
     "execution_count": 160,
     "metadata": {},
     "output_type": "execute_result"
    }
   ],
   "source": [
    "len(Z_reader)"
   ]
  },
  {
   "cell_type": "code",
   "execution_count": 269,
   "metadata": {
    "collapsed": true,
    "scrolled": false
   },
   "outputs": [],
   "source": [
    "voi_reader = voi_df_art[voi_df_art[\"id\"].isin(Z_reader)]#voi_df_art[voi_df_art.index.isin(Z_reader)]"
   ]
  },
  {
   "cell_type": "code",
   "execution_count": 262,
   "metadata": {},
   "outputs": [],
   "source": [
    "import csv\n",
    "with open('Z:\\\\eggs.csv', 'w', newline='') as csvfile:\n",
    "    spamwriter = csv.writer(csvfile)\n",
    "    for k in Z_reader:\n",
    "        spamwriter.writerow([k, f_map[k], cls_map[k]])"
   ]
  },
  {
   "cell_type": "code",
   "execution_count": 260,
   "metadata": {
    "collapsed": true
   },
   "outputs": [],
   "source": [
    "f_map = {}\n",
    "b_map = {}\n",
    "cls_map = {}"
   ]
  },
  {
   "cell_type": "code",
   "execution_count": 261,
   "metadata": {
    "scrolled": true
   },
   "outputs": [
    {
     "name": "stdout",
     "output_type": "stream",
     "text": [
      "Z:\\DICOMs\\hcc\\E100262351 170 205 209 32 --- 8292\n",
      "E100262351_0\n",
      "Z:\\DICOMs\\hcc\\E106096969 66 93 144 46 --- 4826\n",
      "E106096969_0\n",
      "Z:\\DICOMs\\hcc\\E101225606 107 118 109 51 --- 4611\n",
      "E101225606_0\n",
      "Z:\\DICOMs\\hcc\\E101069048 182 219 155 48 --- 7518\n",
      "E101069048_1\n",
      "Z:\\DICOMs\\hcc\\E105344747 217 241 232 46 --- 9506\n",
      "E105344747_0\n",
      "Z:\\DICOMs\\hcc\\E100407633 88 108 108 70 --- 4340\n",
      "E100407633_0\n",
      "Z:\\DICOMs\\hcc\\13092966 41 53 137 22 --- 3812\n",
      "13092966_0\n",
      "Z:\\DICOMs\\hcc\\12783467 62 71 109 54 --- 3724\n",
      "12783467_0\n",
      "Z:\\DICOMs\\hcc\\13031955 55 73 162 28 --- 4738\n",
      "13031955_0\n",
      "Z:\\DICOMs\\hcc\\E100894274 94 107 58 51 --- 3371\n",
      "E100894274_0\n",
      "Z:\\DICOMs\\cholangio\\12582632 68 112 99 38 --- 4158\n",
      "12582632_0\n",
      "Z:\\DICOMs\\cholangio\\E103020139 163 189 179 44 --- 7444\n",
      "E103020139_1\n",
      "Z:\\DICOMs\\cholangio\\12569915 53 117 44 48 --- 3228\n",
      "12569915_0\n",
      "Z:\\DICOMs\\cholangio\\E102093118 62 111 49 56 --- 3256\n",
      "E102093118_0\n",
      "Z:\\DICOMs\\cholangio\\E102929168 182 274 161 35 --- 8825\n",
      "E102929168_0\n",
      "Z:\\DICOMs\\cholangio\\E102634440 89 121 74 48 --- 4018\n",
      "E102634440_0\n",
      "Z:\\DICOMs\\cholangio\\E105310461 79 139 90 77 --- 4507\n",
      "E105310461_0\n",
      "Z:\\DICOMs\\cholangio\\E105427046 141 202 177 11 --- 7641\n",
      "E105427046_0\n",
      "Z:\\DICOMs\\cholangio\\E102613189 110 168 121 20 --- 5720\n",
      "E102613189_0\n",
      "Z:\\DICOMs\\cholangio\\E102095465 115 154 123 45 --- 5565\n",
      "E102095465_0\n",
      "Z:\\DICOMs\\colorectal\\12324408 112 146 85 56 --- 4646\n",
      "12324408_0\n",
      "Z:\\DICOMs\\colorectal\\12888679 80 88 149 52 --- 4822\n",
      "12888679_2\n",
      "Z:\\DICOMs\\colorectal\\12961059 146 157 137 57 --- 5947\n",
      "12961059_0\n",
      "Z:\\DICOMs\\colorectal\\12975280 138 219 145 60 --- 7250\n",
      "12975280_0\n",
      "Z:\\DICOMs\\colorectal\\E100183257 76 95 99 24 --- 3914\n",
      "E100183257_1\n",
      "Z:\\DICOMs\\colorectal\\E100962970 59 76 116 28 --- 3858\n",
      "E100962970_0\n",
      "Z:\\DICOMs\\colorectal\\E101083458 111 131 100 29 --- 4619\n",
      "E101083458_1\n",
      "Z:\\DICOMs\\colorectal\\E103312835 49 59 77 37 --- 2797\n",
      "E103312835_1\n",
      "Z:\\DICOMs\\colorectal\\E104697262 224 259 312 38 --- 11488\n",
      "E104697262_0\n",
      "Z:\\DICOMs\\colorectal\\E105311123 116 128 180 28 --- 6208\n",
      "E105311123_0\n",
      "Z:\\DICOMs\\cyst\\E100610622 180 192 157 48 --- 7048\n",
      "E100610622_0\n",
      "Z:\\DICOMs\\cyst\\E100314676 57 69 107 34 --- 3564\n",
      "E100314676_0\n",
      "Z:\\DICOMs\\cyst\\13112385 81 98 146 52 --- 4952\n",
      "13112385_1\n",
      "Z:\\DICOMs\\cyst\\E100718398 98 106 138 68 --- 4968\n",
      "E100718398_0\n",
      "Z:\\DICOMs\\cyst\\12530153 183 216 297 69 --- 10379\n",
      "12530153_0\n",
      "Z:\\DICOMs\\cyst\\12451831 212 237 197 50 --- 8740\n",
      "12451831_0\n",
      "Z:\\DICOMs\\cyst\\12569826 164 217 265 50 --- 9860\n",
      "12569826_0\n",
      "Z:\\DICOMs\\cyst\\13028374 134 165 244 47 --- 8247\n",
      "13028374_0\n",
      "Z:\\DICOMs\\cyst\\12207268 123 135 132 51 --- 5451\n",
      "12207268_0\n",
      "Z:\\DICOMs\\cyst\\12302576 154 169 246 41 --- 8341\n",
      "12302576_0\n",
      "Z:\\DICOMs\\hemangioma\\12874178 90 104 69 73 --- 3503\n",
      "12874178_3\n",
      "Z:\\DICOMs\\hemangioma\\12239783 98 123 62 55 --- 3695\n",
      "12239783_0\n",
      "Z:\\DICOMs\\hemangioma\\12788616 116 129 98 53 --- 4593\n",
      "12788616_0\n",
      "Z:\\DICOMs\\hemangioma\\11907521 164 188 124 47 --- 6197\n",
      "11907521_0\n",
      "Z:\\DICOMs\\hemangioma\\12823036 70 85 55 69 --- 2799\n",
      "12823036_0\n",
      "Z:\\DICOMs\\hemangioma\\12842070 65 81 93 25 --- 3645\n",
      "12842070_0\n",
      "Z:\\DICOMs\\hemangioma\\E100168661 239 273 219 61 --- 9901\n",
      "E100168661_0\n",
      "Z:\\DICOMs\\hemangioma\\E100121654 73 83 129 55 --- 4305\n",
      "E100121654_0\n",
      "Z:\\DICOMs\\hemangioma\\12678910 99 114 113 53 --- 4613\n",
      "12678910_1\n",
      "Z:\\DICOMs\\hemangioma\\12799652 57 78 88 66 --- 3366\n",
      "12799652_0\n",
      "Z:\\DICOMs\\fnh\\E102782525 69 81 81 39 --- 3269\n",
      "E102782525_0\n",
      "Z:\\DICOMs\\fnh\\E101415263 92 108 128 53 --- 4803\n",
      "E101415263_0\n",
      "Z:\\DICOMs\\fnh\\E100192709 123 141 100 75 --- 4915\n",
      "E100192709_1\n",
      "Z:\\DICOMs\\fnh\\E103192914 96 110 127 45 --- 4805\n",
      "E103192914_0\n",
      "Z:\\DICOMs\\fnh\\E100383453 201 257 194 46 --- 9116\n",
      "E100383453_0\n",
      "Z:\\DICOMs\\fnh\\12552705 148 172 157 58 --- 6668\n",
      "12552705_0\n",
      "Z:\\DICOMs\\fnh\\E105244287 116 128 141 50 --- 5460\n",
      "E105244287_0\n",
      "Z:\\DICOMs\\fnh\\E105918926 177 200 163 38 --- 7338\n",
      "E105918926_0\n",
      "Z:\\DICOMs\\fnh\\E106182827 100 142 44 51 --- 4031\n",
      "E106182827_0\n",
      "Z:\\DICOMs\\fnh\\13092836 73 96 87 56 --- 3676\n",
      "13092836_2\n"
     ]
    }
   ],
   "source": [
    "for cls in C.classes_to_include:\n",
    "    for index, row in voi_reader[voi_reader['cls'] == cls].iterrows():\n",
    "        img_id = str(sum([row[\"x1\"], row[\"x2\"], row[\"y1\"], row[\"y2\"]])*10+row[\"z1\"])\n",
    "        acc_num = row[\"Filename\"][:-4] #row[\"acc_num\"]\n",
    "        f_map[row[\"id\"]] = img_id\n",
    "        b_map[img_id] = row[\"id\"]#acc_num\n",
    "        cls_map[row[\"id\"]] = row[\"cls\"]#acc_num\n",
    "        #if cls == \"fnh\":#img_id == \"4613\":\n",
    "        print(\"Z:\\\\DICOMs\\\\\" + cls + \"\\\\\" + acc_num, \n",
    "              row[\"x1\"], row[\"x2\"], row[\"y1\"], row[\"z1\"], \"---\", img_id)\n",
    "        try:\n",
    "            print(b_map[img_id])\n",
    "        except:\n",
    "            pass"
   ]
  },
  {
   "cell_type": "code",
   "execution_count": 190,
   "metadata": {
    "collapsed": true
   },
   "outputs": [],
   "source": [
    "f_map['E100199185'] = '46130'\n",
    "b_map['4613'] = \"12678910_1\"\n",
    "#b_map['46130'] = \"E100199185_0\""
   ]
  },
  {
   "cell_type": "code",
   "execution_count": 237,
   "metadata": {},
   "outputs": [
    {
     "name": "stdout",
     "output_type": "stream",
     "text": [
      "colorectal\n",
      "cholangio\n",
      "cyst\n",
      "fnh\n",
      "fnh\n",
      "fnh\n",
      "fnh\n",
      "hemangioma\n",
      "cyst\n",
      "fnh\n",
      "hcc\n"
     ]
    }
   ],
   "source": [
    "hitlist = []\n",
    "replacements = []\n",
    "\n",
    "for secret_id in ['4181', '2858', '3505', '4194', '2821', '5912', '5047'] + ['4354', '3049', '5438'] + ['46130']:#['4158', '5720', '46130', '7444']:\n",
    "    print(cls_map[b_map[secret_id]])\n",
    "    hitlist.append(b_map[secret_id])\n",
    "    replacements.append(cls_map[b_map[secret_id]])"
   ]
  },
  {
   "cell_type": "code",
   "execution_count": 164,
   "metadata": {
    "collapsed": true
   },
   "outputs": [],
   "source": [
    "import shutil"
   ]
  },
  {
   "cell_type": "code",
   "execution_count": 165,
   "metadata": {
    "collapsed": true
   },
   "outputs": [],
   "source": [
    "for secret_id in ['4181', '2858', '3505', '4194', '2821', '5912', '5047']:\n",
    "    base_dir = r\"Z:\\Inter-reader study\\DICOMs\"\n",
    "    shutil.move(os.path.join(base_dir, secret_id), os.path.join(base_dir, \"Unused\", secret_id))"
   ]
  },
  {
   "cell_type": "code",
   "execution_count": null,
   "metadata": {
    "collapsed": true
   },
   "outputs": [],
   "source": [
    "b_map['7048']"
   ]
  },
  {
   "cell_type": "code",
   "execution_count": 33,
   "metadata": {
    "collapsed": true
   },
   "outputs": [],
   "source": [
    "multi_accnums = [accnum for accnum, count in zip(*np.unique(list(b_map.values()), return_counts=True)) if count>1]"
   ]
  },
  {
   "cell_type": "code",
   "execution_count": 34,
   "metadata": {
    "collapsed": true
   },
   "outputs": [],
   "source": [
    "for accnum in multi_accnums:\n",
    "    f_map[accnum] = '-'.join([k for k in b_map if b_map[k] == accnum])\n",
    "    #print(accnum, '-'.join([k for k in b_map if b_map[k] == accnum]))"
   ]
  },
  {
   "cell_type": "code",
   "execution_count": 276,
   "metadata": {},
   "outputs": [],
   "source": [
    "for _, row in voi_reader.iterrows():\n",
    "    cls = row[\"cls\"]\n",
    "    acc_num = str(row[\"Filename\"])[:-4]\n",
    "    #if row['id'] in [\"E103544209_0\", \"E100199185_0\", \"E100592424_2\"]:\n",
    "    for protocol in [\"T1_AP\", \"T1_VP\", \"T1_EQ\"]:\n",
    "        target_dir = os.path.join(\"Z:\\\\Inter-reader study\\\\DICOMs\\\\extras\", row['id'], protocol)\n",
    "        shutil.copytree(os.path.join(\"Z:\\\\DICOMs\", cls, acc_num, protocol), target_dir)"
   ]
  },
  {
   "cell_type": "code",
   "execution_count": 121,
   "metadata": {},
   "outputs": [
    {
     "name": "stdout",
     "output_type": "stream",
     "text": [
      "E100718398 [WinError 2] The system cannot find the file specified: 'Z:\\\\Inter-reader study\\\\DICOMs\\\\E100718398' -> 'Z:\\\\Inter-reader study\\\\DICOMs\\\\4968'\n",
      "13092836 [WinError 2] The system cannot find the file specified: 'Z:\\\\Inter-reader study\\\\DICOMs\\\\13092836' -> 'Z:\\\\Inter-reader study\\\\DICOMs\\\\3676'\n"
     ]
    }
   ],
   "source": [
    "for acc_num in f_map:\n",
    "    try:\n",
    "        os.rename(os.path.join(\"Z:\\\\Inter-reader study\\\\DICOMs\", acc_num),\n",
    "                  os.path.join(\"Z:\\\\Inter-reader study\\\\DICOMs\", f_map[acc_num]))\n",
    "    except Exception as e:\n",
    "        print(acc_num, e)"
   ]
  },
  {
   "cell_type": "markdown",
   "metadata": {},
   "source": [
    "# Read Run Stats"
   ]
  },
  {
   "cell_type": "code",
   "execution_count": 52,
   "metadata": {
    "collapsed": true
   },
   "outputs": [],
   "source": [
    "import re\n",
    "import operator\n",
    "\n",
    "df = pd.read_csv(C.run_stats_path)\n",
    "\n",
    "df = df.dropna(subset=['misclassified_test'])\n",
    "df = df.loc[:,['misclassified_test','misclassified_train']]\n",
    "#df = df.dropna()\n",
    "#b = a.iloc[0]['y_pred_raw']\n",
    "#b = hf.str_to_lists(b)\n",
    "\n",
    "mis_test = df['misclassified_train'].values\n",
    "#mis_test = df['misclassified_test'].values\n",
    "\n",
    "mis_test = ''.join(mis_test)\n",
    "mis_test = mis_test.replace(' ','')\n",
    "mis_test = mis_test.replace(\"'\",\"\")\n",
    "mis_test = re.sub(r'\\]\\[', ',', mis_test)\n",
    "mis_test = mis_test.replace(\"[\",\"\")\n",
    "mis_test = mis_test.replace(\"]\",\"\")\n",
    "\n",
    "mis_test = mis_test.split(',')\n",
    "\n",
    "unique, counts = np.unique(mis_test, return_counts=True)\n",
    "\n",
    "x = dict(zip(unique, counts))\n",
    "\n",
    "sorted_x = sorted(x.items(), key=operator.itemgetter(1), reverse=True)\n",
    "sorted_x"
   ]
  },
  {
   "cell_type": "code",
   "execution_count": 14,
   "metadata": {
    "collapsed": true
   },
   "outputs": [],
   "source": [
    "df = pd.read_csv(C.run_stats_path)\n",
    "df = df[(df['test_num'] == 10) & (~df['time_dist']) & (df['steps_per_epoch'] == 750) & (df['timestamp'] > 1515210355)]"
   ]
  },
  {
   "cell_type": "code",
   "execution_count": 21,
   "metadata": {
    "collapsed": true
   },
   "outputs": [],
   "source": [
    "train_acc = [1-x.count(\"npy\")/434 for x in df['misclassified_train'].values]"
   ]
  },
  {
   "cell_type": "code",
   "execution_count": 27,
   "metadata": {},
   "outputs": [
    {
     "data": {
      "text/plain": [
       "0.9958525345622119"
      ]
     },
     "execution_count": 27,
     "metadata": {},
     "output_type": "execute_result"
    }
   ],
   "source": [
    "np.mean(train_acc)"
   ]
  },
  {
   "cell_type": "code",
   "execution_count": 112,
   "metadata": {
    "scrolled": true
   },
   "outputs": [
    {
     "name": "stdout",
     "output_type": "stream",
     "text": [
      "187.0\t4.0\t1.0\t0.0\t0.0\t11.0\t\n",
      "1.0\t180.0\t18.0\t0.0\t10.0\t6.0\t\n",
      "3.0\t6.0\t177.0\t3.0\t7.0\t0.0\t\n",
      "0.0\t0.0\t1.0\t197.0\t2.0\t0.0\t\n",
      "1.0\t2.0\t3.0\t0.0\t181.0\t2.0\t\n",
      "8.0\t8.0\t0.0\t0.0\t0.0\t181.0\t\n"
     ]
    }
   ],
   "source": [
    "cms = df['confusion_matrix'].values\n",
    "\n",
    "cms = ''.join(cms)\n",
    "\n",
    "ret = hf.str_to_lists(cms, dtype=int)\n",
    "\n",
    "supercm = ret\n",
    "\n",
    "supercm = [supercm[rownum:rownum+6] for rownum in range(0,len(supercm),6)]\n",
    "\n",
    "supercm = np.array(supercm)\n",
    "\n",
    "cm_sum = np.empty((6,6))\n",
    "\n",
    "for i in range(6):\n",
    "    for j in range(6):\n",
    "        cm_sum[i,j] = np.sum(supercm[:,i,j])\n",
    "\n",
    "for i in range(6):\n",
    "    for j in range(6):\n",
    "        print(cm_sum[j,i],end='\\t')\n",
    "    print()"
   ]
  },
  {
   "cell_type": "code",
   "execution_count": 29,
   "metadata": {
    "collapsed": true
   },
   "outputs": [],
   "source": [
    "truths = df['y_true'].values\n",
    "truths = ''.join(truths)\n",
    "truths = hf.str_to_lists(truths, dtype=int)\n",
    "truths = np.array(truths)\n",
    "\n",
    "predictions = df['y_pred_raw'].values\n",
    "predictions = ''.join(predictions)\n",
    "predictions = hf.str_to_lists(predictions, dtype=float)\n",
    "predictions = [predictions[rownum:rownum+60] for rownum in range(0,len(predictions),60)]\n",
    "predictions = np.array(predictions)\n",
    "\n",
    "hcc_thresh = []\n",
    "nonhcc_thresh = []\n",
    "thresh_dict = {}\n",
    "\n",
    "for run_num in range(20):\n",
    "    for lesion_num in range(60):\n",
    "        if truths[run_num, lesion_num] == C.classes_to_include.index('hcc'):\n",
    "            hcc_thresh.append(predictions[run_num, lesion_num, 0])\n",
    "            thresh_dict[predictions[run_num, lesion_num, 0]] = 'hcc'\n",
    "        else:\n",
    "            nonhcc_thresh.append(predictions[run_num, lesion_num, 0])\n",
    "            thresh_dict[predictions[run_num, lesion_num, 0]] = 'non-hcc'"
   ]
  },
  {
   "cell_type": "code",
   "execution_count": 31,
   "metadata": {},
   "outputs": [
    {
     "data": {
      "text/plain": [
       "[<matplotlib.lines.Line2D at 0x1b9c910f2e8>]"
      ]
     },
     "execution_count": 31,
     "metadata": {},
     "output_type": "execute_result"
    },
    {
     "data": {
      "image/png": "[encoded data removed]",
      "text/plain": [
       "<matplotlib.figure.Figure at 0x1b9c8ff4780>"
      ]
     },
     "metadata": {},
     "output_type": "display_data"
    }
   ],
   "source": [
    "TPR = [200/200]\n",
    "FPR = [1000/1000]\n",
    "\n",
    "hcc_correct = 200\n",
    "hcc_wrong = 1000\n",
    "for key in sorted(thresh_dict):\n",
    "    if thresh_dict[key] == 'hcc':\n",
    "        hcc_correct -= 1\n",
    "    else:\n",
    "        hcc_wrong -= 1\n",
    "    TPR.append(hcc_correct/200)\n",
    "    FPR.append(hcc_wrong/1000)\n",
    "\n",
    "plt.plot(FPR, TPR)"
   ]
  },
  {
   "cell_type": "code",
   "execution_count": 37,
   "metadata": {},
   "outputs": [
    {
     "data": {
      "text/plain": [
       "0.9922300000000035"
      ]
     },
     "execution_count": 37,
     "metadata": {},
     "output_type": "execute_result"
    }
   ],
   "source": [
    "AUC = sum([(FPR[i]-FPR[i+1])*TPR[i] for i in range(len(FPR)-1)])\n",
    "AUC"
   ]
  },
  {
   "cell_type": "markdown",
   "metadata": {},
   "source": [
    "a = run_stats.loc[:,['y_true','y_pred_raw']]\n",
    "a = a.dropna()\n",
    "b = a.iloc[0]['y_pred_raw']\n",
    "b = hf.str_to_lists(b)"
   ]
  },
  {
   "cell_type": "markdown",
   "metadata": {},
   "source": [
    "# Artificial images"
   ]
  },
  {
   "cell_type": "code",
   "execution_count": null,
   "metadata": {
    "collapsed": true
   },
   "outputs": [],
   "source": [
    "agm.gen_imgs()\n",
    "img = agm.visualize_gen_img('hemangioma')"
   ]
  }
 ],
 "metadata": {
  "anaconda-cloud": {},
  "kernelspec": {
   "display_name": "Python 3",
   "language": "python",
   "name": "python3"
  },
  "language_info": {
   "codemirror_mode": {
    "name": "ipython",
    "version": 3
   },
   "file_extension": ".py",
   "mimetype": "text/x-python",
   "name": "python",
   "nbconvert_exporter": "python",
   "pygments_lexer": "ipython3",
   "version": "3.5.0"
  }
 },
 "nbformat": 4,
 "nbformat_minor": 1
}
