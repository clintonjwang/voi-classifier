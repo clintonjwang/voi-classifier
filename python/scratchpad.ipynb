{
 "cells": [
  {
   "cell_type": "code",
   "execution_count": 21,
   "metadata": {
    "ExecuteTime": {
     "end_time": "2018-07-01T00:18:08.994389Z",
     "start_time": "2018-07-01T00:18:08.943504Z"
    }
   },
   "outputs": [],
   "source": [
    "import config\n",
    "import dr_methods as drm\n",
    "import niftiutils.helper_fxns as hf\n",
    "import niftiutils.masks as masks\n",
    "import niftiutils.transforms as tr\n",
    "import niftiutils.visualization as vis\n",
    "import importlib\n",
    "import matplotlib.pyplot as plt\n",
    "import numpy as np\n",
    "import glob\n",
    "import os\n",
    "from os.path import *\n",
    "import pandas as pd\n",
    "import shutil\n",
    "import re\n",
    "import random\n",
    "import seg_methods as sm\n",
    "import time\n",
    "import voi_methods as vm\n",
    "import operator\n",
    "%matplotlib inline\n",
    "import scipy.stats\n",
    "import math\n",
    "import scipy.misc\n",
    "\n",
    "import manifold as mani\n",
    "import keras.layers as layers\n",
    "import matplotlib.pyplot as plt\n",
    "import numpy as np\n",
    "import pandas as pd\n",
    "import scipy.stats\n",
    "from skimage.morphology import ball\n",
    "import seaborn as sns\n",
    "import niftiutils.helper_fxns as hf\n",
    "import niftiutils.masks as masks\n",
    "import niftiutils.registration as reg\n",
    "import niftiutils.transforms as tr\n",
    "from config import Config\n",
    "sns.set(style=\"ticks\")\n",
    "%matplotlib inline"
   ]
  },
  {
   "cell_type": "code",
   "execution_count": null,
   "metadata": {
    "collapsed": true
   },
   "outputs": [],
   "source": []
  },
  {
   "cell_type": "code",
   "execution_count": 15,
   "metadata": {
    "ExecuteTime": {
     "end_time": "2018-06-28T18:48:56.777436Z",
     "start_time": "2018-06-28T18:48:56.764471Z"
    },
    "collapsed": true
   },
   "outputs": [],
   "source": [
    "importlib.reload(config)\n",
    "importlib.reload(vm)\n",
    "C = config.Config()"
   ]
  },
  {
   "cell_type": "code",
   "execution_count": 21,
   "metadata": {
    "ExecuteTime": {
     "end_time": "2018-06-28T18:49:51.708307Z",
     "start_time": "2018-06-28T18:49:51.357532Z"
    }
   },
   "outputs": [
    {
     "data": {
      "image/png": "[encoded data removed]",
      "text/plain": [
       "<matplotlib.figure.Figure at 0x1c99e0ff470>"
      ]
     },
     "metadata": {},
     "output_type": "display_data"
    }
   ],
   "source": [
    "vm.plot_check(2,'E105066561_0', None);"
   ]
  },
  {
   "cell_type": "code",
   "execution_count": 35,
   "metadata": {
    "ExecuteTime": {
     "end_time": "2018-06-26T19:10:57.695060Z",
     "start_time": "2018-06-26T19:10:57.689047Z"
    },
    "collapsed": true
   },
   "outputs": [],
   "source": [
    "img_fns = [fn for fn in glob.glob(join(C.unaug_dir, \"*.npy\"))]"
   ]
  },
  {
   "cell_type": "code",
   "execution_count": null,
   "metadata": {
    "ExecuteTime": {
     "end_time": "2018-06-26T15:17:21.222106Z",
     "start_time": "2018-06-26T15:17:21.185204Z"
    },
    "collapsed": true
   },
   "outputs": [],
   "source": [
    "%matplotlib qt\n",
    "importlib.reload(vm)\n",
    "vm.semiauto_label_lesions()"
   ]
  },
  {
   "cell_type": "code",
   "execution_count": 14,
   "metadata": {
    "ExecuteTime": {
     "end_time": "2018-06-27T02:04:48.548159Z",
     "start_time": "2018-06-27T02:04:41.910673Z"
    },
    "collapsed": true
   },
   "outputs": [],
   "source": [
    "importlib.reload(mani)\n",
    "dm = mani.DiseaseManifold()"
   ]
  },
  {
   "cell_type": "code",
   "execution_count": null,
   "metadata": {
    "ExecuteTime": {
     "end_time": "2018-06-27T02:04:48.569524Z",
     "start_time": "2018-06-27T02:04:48.556538Z"
    },
    "collapsed": true
   },
   "outputs": [],
   "source": [
    "dm.mr_gan.generator.summary()"
   ]
  },
  {
   "cell_type": "code",
   "execution_count": 16,
   "metadata": {
    "ExecuteTime": {
     "end_time": "2018-06-27T02:06:40.886383Z",
     "start_time": "2018-06-27T02:06:40.883392Z"
    },
    "collapsed": true
   },
   "outputs": [],
   "source": [
    "gen = dm._train_gen_encoder(inputs=['z'], outputs=['mr'])"
   ]
  },
  {
   "cell_type": "code",
   "execution_count": 17,
   "metadata": {
    "ExecuteTime": {
     "end_time": "2018-06-27T02:06:43.917288Z",
     "start_time": "2018-06-27T02:06:43.912301Z"
    },
    "collapsed": true
   },
   "outputs": [],
   "source": [
    "def metagen(gen):\n",
    "    while True:\n",
    "        latent_vec, real_img = next(gen)\n",
    "        batch_size = latent_vec.shape[0]\n",
    "        yield latent_vec, np.ones((batch_size, 1))\n",
    "mg = metagen(gen)"
   ]
  },
  {
   "cell_type": "code",
   "execution_count": null,
   "metadata": {
    "ExecuteTime": {
     "end_time": "2018-06-27T02:25:48.465519Z",
     "start_time": "2018-06-27T02:25:15.676339Z"
    },
    "collapsed": true
   },
   "outputs": [],
   "source": [
    "dm.mr_gan.train(epochs=100, gen=gen)"
   ]
  },
  {
   "cell_type": "code",
   "execution_count": null,
   "metadata": {
    "ExecuteTime": {
     "end_time": "2018-06-27T02:25:14.535714Z",
     "start_time": "2018-06-27T02:25:06.403647Z"
    },
    "collapsed": true
   },
   "outputs": [],
   "source": [
    "dm.mr_gan.g_train(epochs=1000, gen=gen)"
   ]
  },
  {
   "cell_type": "code",
   "execution_count": null,
   "metadata": {
    "ExecuteTime": {
     "end_time": "2018-06-27T01:36:57.821120Z",
     "start_time": "2018-06-27T01:36:34.058996Z"
    },
    "collapsed": true
   },
   "outputs": [],
   "source": [
    "dm.mr_gan.generator.fit_generator(gen, 50, epochs=30);"
   ]
  },
  {
   "cell_type": "code",
   "execution_count": null,
   "metadata": {
    "ExecuteTime": {
     "end_time": "2018-06-27T01:57:51.478732Z",
     "start_time": "2018-06-27T01:57:36.382029Z"
    },
    "collapsed": true
   },
   "outputs": [],
   "source": [
    "dm.mr_gan.combined.fit_generator(mg, 100, epochs=50);"
   ]
  },
  {
   "cell_type": "markdown",
   "metadata": {
    "heading_collapsed": true
   },
   "source": [
    "### Patches for Lesion detector"
   ]
  },
  {
   "cell_type": "code",
   "execution_count": 27,
   "metadata": {
    "ExecuteTime": {
     "end_time": "2018-06-20T18:53:21.273085Z",
     "start_time": "2018-06-20T18:53:20.527997Z"
    },
    "collapsed": true,
    "hidden": true
   },
   "outputs": [],
   "source": [
    "I = np.load(join(C.full_img_dir, \"4262153.npy\"))"
   ]
  },
  {
   "cell_type": "code",
   "execution_count": 37,
   "metadata": {
    "ExecuteTime": {
     "end_time": "2018-06-20T18:57:51.832176Z",
     "start_time": "2018-06-20T18:57:50.272259Z"
    },
    "collapsed": true,
    "hidden": true
   },
   "outputs": [],
   "source": [
    "accnum = \"4262153\"\n",
    "load_dir = join(C.dcm_dirs[0], accnum)\n",
    "art,D = hf.load_img(join(load_dir, \"nii_dir\", \"20s.nii.gz\"))\n",
    "ven,_ = hf.load_img(join(load_dir, \"nii_dir\", \"70s.nii.gz\"))\n",
    "eq,_ = hf.load_img(join(load_dir, \"nii_dir\", \"3min.nii.gz\"))\n",
    "I = np.stack((art, ven, eq), -1)"
   ]
  },
  {
   "cell_type": "code",
   "execution_count": 55,
   "metadata": {
    "ExecuteTime": {
     "end_time": "2018-06-20T19:01:34.927919Z",
     "start_time": "2018-06-20T19:01:33.247942Z"
    },
    "hidden": true
   },
   "outputs": [
    {
     "data": {
      "text/plain": [
       "(380, 380, 240, 3)"
      ]
     },
     "execution_count": 55,
     "metadata": {},
     "output_type": "execute_result"
    }
   ],
   "source": [
    "tr.rescale_img(I, [1,1,1], D).shape"
   ]
  },
  {
   "cell_type": "code",
   "execution_count": 97,
   "metadata": {
    "ExecuteTime": {
     "end_time": "2018-06-20T19:05:20.298798Z",
     "start_time": "2018-06-20T19:05:18.399664Z"
    },
    "collapsed": true,
    "hidden": true
   },
   "outputs": [],
   "source": [
    "importlib.reload(tr)\n",
    "cropIs = tr.split_img(I, D, L=100)#, target_dims=[24,24,24])"
   ]
  },
  {
   "cell_type": "code",
   "execution_count": 89,
   "metadata": {
    "ExecuteTime": {
     "end_time": "2018-06-20T19:03:54.613618Z",
     "start_time": "2018-06-20T19:03:54.608633Z"
    },
    "hidden": true,
    "scrolled": true
   },
   "outputs": [
    {
     "data": {
      "text/plain": [
       "5.942105263157892"
      ]
     },
     "execution_count": 89,
     "metadata": {},
     "output_type": "execute_result"
    }
   ],
   "source": [
    "cropIs[-3].max()"
   ]
  },
  {
   "cell_type": "code",
   "execution_count": 102,
   "metadata": {
    "ExecuteTime": {
     "end_time": "2018-06-20T19:05:36.891423Z",
     "start_time": "2018-06-20T19:05:36.736507Z"
    },
    "hidden": true
   },
   "outputs": [
    {
     "name": "stdout",
     "output_type": "stream",
     "text": [
      "(18, 100, 100, 100, 3)\n"
     ]
    },
    {
     "data": {
      "image/png": "[encoded data removed]",
      "text/plain": [
       "<matplotlib.figure.Figure at 0x258484f9748>"
      ]
     },
     "metadata": {},
     "output_type": "display_data"
    }
   ],
   "source": [
    "print(cropIs.shape)\n",
    "vis.draw_slices(cropIs[15], normalize=[0,200])"
   ]
  },
  {
   "cell_type": "markdown",
   "metadata": {
    "heading_collapsed": true
   },
   "source": [
    "### Paula"
   ]
  },
  {
   "cell_type": "code",
   "execution_count": 57,
   "metadata": {
    "ExecuteTime": {
     "end_time": "2018-06-18T14:48:54.021668Z",
     "start_time": "2018-06-18T14:48:51.758073Z"
    },
    "collapsed": true,
    "hidden": true
   },
   "outputs": [],
   "source": [
    "importlib.reload(drm)\n",
    "drm.load_clinical_vars()"
   ]
  },
  {
   "cell_type": "markdown",
   "metadata": {
    "heading_collapsed": true
   },
   "source": [
    "### Etiology"
   ]
  },
  {
   "cell_type": "code",
   "execution_count": 3,
   "metadata": {
    "ExecuteTime": {
     "end_time": "2018-06-25T20:27:40.266526Z",
     "start_time": "2018-06-25T20:27:40.262535Z"
    },
    "collapsed": true,
    "hidden": true
   },
   "outputs": [],
   "source": [
    "xls_path = r\"Z:\\Sophie\\Ethiologyproject\\HCC Etiology Project Master Spreadsheet.xlsx\""
   ]
  },
  {
   "cell_type": "code",
   "execution_count": 114,
   "metadata": {
    "ExecuteTime": {
     "end_time": "2018-06-25T21:26:46.715426Z",
     "start_time": "2018-06-25T21:26:46.265715Z"
    },
    "collapsed": true,
    "hidden": true
   },
   "outputs": [],
   "source": [
    "df = pd.read_excel(xls_path)\n",
    "df = df[df[\"Include\"]==1]"
   ]
  },
  {
   "cell_type": "code",
   "execution_count": 115,
   "metadata": {
    "ExecuteTime": {
     "end_time": "2018-06-25T21:26:49.863431Z",
     "start_time": "2018-06-25T21:26:49.769545Z"
    },
    "collapsed": true,
    "hidden": true,
    "scrolled": true
   },
   "outputs": [],
   "source": [
    "df.loc[df[\"HepC_ViralLoad\"] == '299.000 (3/28/2014) ', \"HepC_ViralLoad\"] = 299\n",
    "\n",
    "df.loc[df[\"HepB_ViralLoad\"] == '<5', \"HepB_ViralLoad\"] = 2.5\n",
    "df.loc[df[\"HepB_ViralLoad\"] == '<20', \"HepB_ViralLoad\"] = 10\n",
    "\n",
    "df.loc[df[\"Tumor_Dx_MRI_Accession\"]==\"E100209927\", \"Alcohol\"] = -1"
   ]
  },
  {
   "cell_type": "code",
   "execution_count": null,
   "metadata": {
    "collapsed": true,
    "hidden": true
   },
   "outputs": [],
   "source": [
    "df = df.fillna(0)"
   ]
  },
  {
   "cell_type": "code",
   "execution_count": null,
   "metadata": {
    "collapsed": true,
    "hidden": true
   },
   "outputs": [],
   "source": [
    "coords_df = pd.read_excel(xls_path, sheetname=1)"
   ]
  },
  {
   "cell_type": "code",
   "execution_count": 116,
   "metadata": {
    "ExecuteTime": {
     "end_time": "2018-06-25T21:26:51.148376Z",
     "start_time": "2018-06-25T21:26:51.145376Z"
    },
    "collapsed": true,
    "hidden": true
   },
   "outputs": [],
   "source": [
    "categories = [\"HBV\", \"HCV\", \"EtOH\", \"NASH\"]"
   ]
  },
  {
   "cell_type": "code",
   "execution_count": 117,
   "metadata": {
    "ExecuteTime": {
     "end_time": "2018-06-25T21:26:51.501424Z",
     "start_time": "2018-06-25T21:26:51.494443Z"
    },
    "collapsed": true,
    "hidden": true
   },
   "outputs": [],
   "source": [
    "DF = {category: df[df[\"Etiology\"] == category] for category in categories}"
   ]
  },
  {
   "cell_type": "code",
   "execution_count": 118,
   "metadata": {
    "ExecuteTime": {
     "end_time": "2018-06-25T18:27:56.103627Z",
     "start_time": "2018-06-25T18:27:56.096647Z"
    },
    "collapsed": true,
    "hidden": true,
    "scrolled": true
   },
   "outputs": [],
   "source": [
    "#DF[\"NASH\"] = df[(df[\"HepC\"] < 1) & (df[\"HepB\"] < 1) & (df[\"Alcohol\"] < 1)]\n",
    "#DF[\"Nonviral\"] = df[(df[\"HepC\"] < 1) & (df[\"HepB\"] < 1)]"
   ]
  },
  {
   "cell_type": "code",
   "execution_count": null,
   "metadata": {
    "ExecuteTime": {
     "end_time": "2018-06-26T16:14:34.848049Z",
     "start_time": "2018-06-26T16:14:33.419580Z"
    },
    "collapsed": true,
    "hidden": true
   },
   "outputs": [],
   "source": [
    "for cls in C.cls_names:\n",
    "    df = pd.read_excel(C.coord_xls_path, sheet_name=C.sheetname)\n",
    "    df = df[df[\"cls\"] == cls]\n",
    "    print(cls, len(df))"
   ]
  },
  {
   "cell_type": "code",
   "execution_count": null,
   "metadata": {
    "ExecuteTime": {
     "end_time": "2018-06-25T21:26:54.142433Z",
     "start_time": "2018-06-25T21:26:54.137437Z"
    },
    "collapsed": true,
    "hidden": true
   },
   "outputs": [],
   "source": [
    "[print(d,len(DF[d])) for d in DF];"
   ]
  },
  {
   "cell_type": "markdown",
   "metadata": {
    "heading_collapsed": true,
    "hidden": true
   },
   "source": [
    "#### P-values"
   ]
  },
  {
   "cell_type": "code",
   "execution_count": 103,
   "metadata": {
    "ExecuteTime": {
     "end_time": "2018-06-25T21:22:06.316217Z",
     "start_time": "2018-06-25T21:22:06.313204Z"
    },
    "collapsed": true,
    "hidden": true
   },
   "outputs": [],
   "source": [
    "cats = list(zip([\"HBV\"]*3+[\"HCV\"]*2+[\"EtOH\"],[\"HCV\",\"EtOH\",\"NASH\",\"EtOH\",\"NASH\",\"NASH\"]))"
   ]
  },
  {
   "cell_type": "code",
   "execution_count": null,
   "metadata": {
    "ExecuteTime": {
     "end_time": "2018-06-25T19:40:12.225031Z",
     "start_time": "2018-06-25T19:40:12.212039Z"
    },
    "collapsed": true,
    "hidden": true
   },
   "outputs": [],
   "source": [
    "col = \"TumorSize\"#\"Age at Diagnosis\"\n",
    "for cat1, cat2 in cats:\n",
    "    print(cat1, cat2, \"%.3f\" % \\\n",
    "          scipy.stats.mannwhitneyu(DF[cat1][col], DF[cat2][col]).pvalue)\n",
    "\n",
    "print(\"%.4f\" % scipy.stats.kruskal(*[DF[cat][col].dropna() for cat in categories])[1])"
   ]
  },
  {
   "cell_type": "code",
   "execution_count": null,
   "metadata": {
    "ExecuteTime": {
     "end_time": "2018-06-25T19:18:19.341658Z",
     "start_time": "2018-06-25T19:18:19.299770Z"
    },
    "collapsed": true,
    "hidden": true
   },
   "outputs": [],
   "source": [
    "for cat1, cat2 in cats:\n",
    "    cont_table = np.array([[sum(DF[cat1][\"Gender\"]==\"M\"), sum(DF[cat1][\"Gender\"]==\"F\")],\n",
    "                           [sum(DF[cat2][\"Gender\"]==\"M\"), sum(DF[cat2][\"Gender\"]==\"F\")]], int)\n",
    "    print(cat1, cat2, \"%.3f\" % \\\n",
    "          scipy.stats.fisher_exact(cont_table)[1])\n",
    "    \n",
    "print(\"%.3f\" % scipy.stats.chi2_contingency(pd.crosstab(df[\"Etiology\"], df[\"Gender\"]))[1])"
   ]
  },
  {
   "cell_type": "code",
   "execution_count": null,
   "metadata": {
    "ExecuteTime": {
     "end_time": "2018-06-25T19:21:22.047045Z",
     "start_time": "2018-06-25T19:21:22.019091Z"
    },
    "collapsed": true,
    "hidden": true
   },
   "outputs": [],
   "source": [
    "xtab = pd.crosstab(df[\"Etiology\"], df[\"BCLC\"])\n",
    "for cat1, cat2 in cats:\n",
    "    cont_table = xtab.loc[[cat1,cat2]]\n",
    "    if \"NASH\" not in [cat1, cat2]:\n",
    "        cont_table.drop(0, axis=1, inplace=True)\n",
    "    print(cat1, cat2, \"%.3f\" % scipy.stats.chi2_contingency(cont_table)[1])\n",
    "print(\"%.3f\" % scipy.stats.chi2_contingency(xtab)[1])"
   ]
  },
  {
   "cell_type": "code",
   "execution_count": null,
   "metadata": {
    "ExecuteTime": {
     "end_time": "2018-06-25T21:23:15.584357Z",
     "start_time": "2018-06-25T21:23:15.561419Z"
    },
    "collapsed": true,
    "hidden": true
   },
   "outputs": [],
   "source": [
    "xtab = pd.crosstab(df[\"Etiology\"], df[\"CPS\"])\n",
    "for cat1, cat2 in cats:\n",
    "    cont_table = xtab.loc[[cat1,cat2]]\n",
    "    print(cat1, cat2, \"%.3f\" % scipy.stats.chi2_contingency(cont_table)[1])\n",
    "print(\"%.3f\" % scipy.stats.chi2_contingency(xtab)[1])"
   ]
  },
  {
   "cell_type": "code",
   "execution_count": null,
   "metadata": {
    "ExecuteTime": {
     "end_time": "2018-06-25T19:34:30.351846Z",
     "start_time": "2018-06-25T19:34:30.323922Z"
    },
    "collapsed": true,
    "hidden": true
   },
   "outputs": [],
   "source": [
    "xtab = pd.crosstab(df[\"Etiology\"], df[\"Cirrhosis\"])\n",
    "xtab.drop(-1, axis=1, inplace=True)\n",
    "for cat1, cat2 in cats:\n",
    "    cont_table = xtab.loc[[cat1,cat2]]\n",
    "    print(cat1, cat2, \"%.3f\" % scipy.stats.fisher_exact(cont_table)[1])\n",
    "print(\"%.3f\" % scipy.stats.chi2_contingency(xtab)[1])"
   ]
  },
  {
   "cell_type": "code",
   "execution_count": null,
   "metadata": {
    "ExecuteTime": {
     "end_time": "2018-06-25T21:22:12.891750Z",
     "start_time": "2018-06-25T21:22:12.857831Z"
    },
    "collapsed": true,
    "hidden": true
   },
   "outputs": [],
   "source": [
    "xtab = pd.crosstab(df[\"Etiology\"], df[\"AFP>400\"])\n",
    "for cat1, cat2 in cats:\n",
    "    cont_table = xtab.loc[[cat1,cat2]]\n",
    "    print(cat1, cat2, \"%.3f\" % scipy.stats.fisher_exact(cont_table)[1])\n",
    "print(\"%.3f\" % scipy.stats.chi2_contingency(xtab)[1])"
   ]
  },
  {
   "cell_type": "code",
   "execution_count": null,
   "metadata": {
    "ExecuteTime": {
     "end_time": "2018-06-25T19:46:29.673521Z",
     "start_time": "2018-06-25T19:46:29.636608Z"
    },
    "collapsed": true,
    "hidden": true
   },
   "outputs": [],
   "source": [
    "xtab = pd.crosstab(df[\"Etiology\"], df[\"Portal_Invasion\"])\n",
    "xtab = xtab[[0,1]]\n",
    "for cat1, cat2 in cats:\n",
    "    cont_table = xtab.loc[[cat1,cat2]]\n",
    "    print(cat1, cat2, \"%.3f\" % scipy.stats.fisher_exact(cont_table)[1])\n",
    "print(\"%.3f\" % scipy.stats.chi2_contingency(xtab)[1])"
   ]
  },
  {
   "cell_type": "code",
   "execution_count": 234,
   "metadata": {
    "ExecuteTime": {
     "end_time": "2018-06-25T19:43:26.024998Z",
     "start_time": "2018-06-25T19:43:26.020014Z"
    },
    "collapsed": true,
    "hidden": true
   },
   "outputs": [],
   "source": [
    "df[\"Unifocal\"] = df[\"NumberLesions\"] == 1"
   ]
  },
  {
   "cell_type": "code",
   "execution_count": null,
   "metadata": {
    "ExecuteTime": {
     "end_time": "2018-06-25T19:45:12.272756Z",
     "start_time": "2018-06-25T19:45:12.244831Z"
    },
    "collapsed": true,
    "hidden": true
   },
   "outputs": [],
   "source": [
    "xtab = pd.crosstab(df[\"Etiology\"], df[\"Unifocal\"])\n",
    "for cat1, cat2 in cats:\n",
    "    cont_table = xtab.loc[[cat1,cat2]]\n",
    "    print(cat1, cat2, \"%.3f\" % scipy.stats.fisher_exact(cont_table)[1])\n",
    "print(\"%.3f\" % scipy.stats.chi2_contingency(xtab)[1])"
   ]
  },
  {
   "cell_type": "markdown",
   "metadata": {
    "heading_collapsed": true,
    "hidden": true
   },
   "source": [
    "#### graphing"
   ]
  },
  {
   "cell_type": "code",
   "execution_count": 43,
   "metadata": {
    "ExecuteTime": {
     "end_time": "2018-06-25T20:39:41.244913Z",
     "start_time": "2018-06-25T20:39:41.222948Z"
    },
    "collapsed": true,
    "hidden": true
   },
   "outputs": [],
   "source": [
    "def set_g_bar(g, save_path):\n",
    "    g.set(yticks=[0.,.2,.4,.6,.8,1.], ylim=(0.,1.));\n",
    "    \"\"\"topbar = plt.Rectangle((0,0),1,1,fc=\"#C3C3C3\", edgecolor = 'none')\n",
    "    midbar = plt.Rectangle((0,0),1,1,fc='#A3A3A3',  edgecolor = 'none')\n",
    "    bottombar = plt.Rectangle((0,0),1,1,fc='#737373',  edgecolor = 'none')\n",
    "    l = plt.legend([bottombar, midbar, topbar],\n",
    "                   ['High Lipiodol', 'Medium Lipiodol', 'Low Lipiodol'], loc='upper left')#, ncol=2, prop={'size':16})\n",
    "    l.draw_frame(False)\"\"\"\n",
    "    \n",
    "    for gax in g.axes[0]:\n",
    "        gax.set_xlabel(\"\")\n",
    "        gax.set_ylabel(\"\")\n",
    "        #gax.tick_params('x',width=0)\n",
    "        gax.set_xticks([], minor=False)\n",
    "        gax.set_yticks([], minor=False)\n",
    "        plt.setp(gax.patches, linewidth=1, edgecolor='k')\n",
    "        \n",
    "    g.set_titles(visible=False)\n",
    "    #g.axes[0][0].set_yticklabels([\"0%\", \"20%\", \"40%\", \"60%\", \"80%\", \"100%\"]);\n",
    "    \n",
    "    sns.despine(top=True, right=True, left=True)\n",
    "    g.fig.subplots_adjust(left=.2, top=.95)\n",
    "    \n",
    "    #g.fig.tight_layout(w_pad=1)\n",
    "    #plt.setp(g.ax.lines,linewidth=1);\n",
    "    g.fig.savefig(save_path, dpi=150, pad_inches=0, transparent=True) #, width=5\n",
    "    plt.close()"
   ]
  },
  {
   "cell_type": "code",
   "execution_count": 140,
   "metadata": {
    "ExecuteTime": {
     "end_time": "2018-06-26T01:50:06.184201Z",
     "start_time": "2018-06-26T01:50:06.015955Z"
    },
    "hidden": true
   },
   "outputs": [
    {
     "data": {
      "text/plain": [
       "<matplotlib.figure.Figure at 0x2586fc89f28>"
      ]
     },
     "metadata": {},
     "output_type": "display_data"
    },
    {
     "data": {
      "image/png": "[encoded data removed]",
      "text/plain": [
       "<matplotlib.figure.Figure at 0x2586f4af588>"
      ]
     },
     "metadata": {},
     "output_type": "display_data"
    }
   ],
   "source": [
    "plt.figure(num=None, figsize=(3,1.5), dpi=100, facecolor='w', edgecolor='k')\n",
    "kwargs = {\"data\":df, \"size\":3, \"kind\":\"bar\", \"color\":\"#C3C3C3\", \"legend\":False}\n",
    "sns.set(style=\"ticks\", font_scale=1.7)\n",
    "g = sns.factorplot(x=\"Etiology\", y=\"Age at Diagnosis\", order=categories, aspect=1.7, **kwargs)\n",
    "g.set(yticks=[50,60,70,80,90], ylim=(50,90));\n",
    "for gax in g.axes[0]:\n",
    "    gax.set_xlabel(\"\")\n",
    "    gax.set_ylabel(\"\")\n",
    "g.fig.savefig(\"D:\\\\Etiology\\\\graphs\\\\age.png\", pad_inches=0, transparent=True) #, width=5"
   ]
  },
  {
   "cell_type": "code",
   "execution_count": null,
   "metadata": {
    "ExecuteTime": {
     "end_time": "2018-06-26T01:53:00.154125Z",
     "start_time": "2018-06-26T01:52:59.984197Z"
    },
    "collapsed": true,
    "hidden": true
   },
   "outputs": [],
   "source": [
    "plt.figure(num=None, figsize=(3,1.5), dpi=100, facecolor='w', edgecolor='k')\n",
    "kwargs = {\"data\":df, \"size\":3, \"kind\":\"bar\", \"color\":\"#C3C3C3\", \"legend\":False}\n",
    "sns.set(style=\"ticks\", font_scale=1.7)\n",
    "g = sns.factorplot(x=\"Etiology\", y=\"TumorSize\", order=categories, aspect=1.7, **kwargs)\n",
    "#g.set(yticks=[50,60,70,80,90], ylim=(50,90));\n",
    "for gax in g.axes[0]:\n",
    "    gax.set_xlabel(\"\")\n",
    "    gax.set_ylabel(\"\")\n",
    "g.fig.savefig(\"D:\\\\Etiology\\\\graphs\\\\lesionsize.png\", pad_inches=0, transparent=True) #, width=5"
   ]
  },
  {
   "cell_type": "code",
   "execution_count": null,
   "metadata": {
    "ExecuteTime": {
     "end_time": "2018-06-25T21:33:24.097372Z",
     "start_time": "2018-06-25T21:33:23.929807Z"
    },
    "collapsed": true,
    "hidden": true
   },
   "outputs": [],
   "source": [
    "xtab = pd.crosstab(df[\"Etiology\"], df[\"Gender\"]).apply(lambda r: r/r.sum(), axis=1)\n",
    "xtab = xtab.loc[categories]\n",
    "\n",
    "plt.figure(num=None, figsize=(3,1.5), dpi=100, facecolor='w', edgecolor='k')\n",
    "p1 = plt.bar(range(4), xtab[\"M\"], width=.8)#, yerr=xtab[\"M\"]\n",
    "p2 = plt.bar(range(4), xtab[\"F\"], width=.8, bottom=xtab[\"M\"])\n",
    "plt.legend((p2, p1), ('Female', 'Male'), bbox_to_anchor=(1,1), borderaxespad=0., fontsize=12)\n",
    "plt.axes().set_yticklabels([\"0%\", \"50%\", \"100%\"]);\n",
    "plt.xticks(range(4), xtab.index)\n",
    "plt.axes().set_yticks([0,.5,1], minor=False)\n",
    "sns.despine(top=True, right=True)\n",
    "ax = plt.axes()\n",
    "for item in ([ax.title, ax.xaxis.label, ax.yaxis.label] +\n",
    "             ax.get_xticklabels() + ax.get_yticklabels()):\n",
    "    item.set_fontsize(12)\n",
    "plt.savefig(\"D:\\\\Etiology\\\\graphs\\\\gender.png\", dpi=150, bbox_inches='tight', pad_inches=0, transparent=True)"
   ]
  },
  {
   "cell_type": "code",
   "execution_count": null,
   "metadata": {
    "ExecuteTime": {
     "end_time": "2018-06-25T20:50:14.461243Z",
     "start_time": "2018-06-25T20:50:14.135686Z"
    },
    "collapsed": true,
    "hidden": true
   },
   "outputs": [],
   "source": [
    "xtab = pd.crosstab(df[\"Etiology\"], df[\"BCLC\"]).apply(lambda r: r/r.sum(), axis=1)\n",
    "xtab = xtab.loc[categories]\n",
    "\n",
    "plt.figure(num=None, figsize=(3,1.5), dpi=100, facecolor='w', edgecolor='k')\n",
    "p = [plt.bar(range(4), xtab[\"D\"], width=.8)]\n",
    "p.append(plt.bar(range(4), xtab[\"C\"], width=.8, bottom=xtab[\"D\"]))\n",
    "p.append(plt.bar(range(4), xtab[\"B\"], width=.8, bottom=xtab[\"D\"]+xtab[\"C\"]))\n",
    "p.append(plt.bar(range(4), xtab[\"A\"], width=.8, bottom=xtab[\"D\"]+xtab[\"C\"]+xtab[\"B\"]))\n",
    "p.append(plt.bar(range(4), xtab[0], width=.8, bottom=xtab[\"D\"]+xtab[\"C\"]+xtab[\"B\"]+xtab[\"A\"]))\n",
    "plt.legend(p[::-1], ('D', 'C', 'B', 'A', '0')[::-1], bbox_to_anchor=(1,1), borderaxespad=0., fontsize=12)\n",
    "plt.axes().set_yticklabels([\"0%\", \"50%\", \"100%\"]);\n",
    "plt.xticks(range(4), xtab.index)\n",
    "plt.axes().set_yticks([0,.5,1], minor=False)\n",
    "sns.despine(top=True, right=True)\n",
    "ax = plt.axes()\n",
    "for item in ([ax.title, ax.xaxis.label, ax.yaxis.label] +\n",
    "             ax.get_xticklabels() + ax.get_yticklabels()):\n",
    "    item.set_fontsize(12)\n",
    "plt.savefig(\"D:\\\\Etiology\\\\graphs\\\\bclc.png\", bbox_inches='tight', pad_inches=0, transparent=True)"
   ]
  },
  {
   "cell_type": "code",
   "execution_count": null,
   "metadata": {
    "ExecuteTime": {
     "end_time": "2018-06-25T20:55:23.336059Z",
     "start_time": "2018-06-25T20:55:23.160761Z"
    },
    "collapsed": true,
    "hidden": true
   },
   "outputs": [],
   "source": [
    "xtab = pd.crosstab(df[\"Etiology\"], df[\"CPS\"]).apply(lambda r: r/r.sum(), axis=1)\n",
    "xtab = xtab.loc[categories]\n",
    "\n",
    "plt.figure(num=None, figsize=(3,1.5), dpi=100, facecolor='w', edgecolor='k')\n",
    "p = [plt.bar(range(4), xtab[\"C\"], width=.8)]\n",
    "p.append(plt.bar(range(4), xtab[\"B\"], width=.8, bottom=xtab[\"C\"]))\n",
    "p.append(plt.bar(range(4), xtab[\"A\"], width=.8, bottom=xtab[\"C\"]+xtab[\"B\"]))\n",
    "plt.legend(p[::-1], ('A', 'B', 'C'), bbox_to_anchor=(1,1), borderaxespad=0., fontsize=12)\n",
    "plt.axes().set_yticklabels([\"0%\", \"50%\", \"100%\"]);\n",
    "plt.xticks(range(4), xtab.index)\n",
    "plt.axes().set_yticks([0,.5,1], minor=False)\n",
    "sns.despine(top=True, right=True)\n",
    "ax = plt.axes()\n",
    "for item in ([ax.title, ax.xaxis.label, ax.yaxis.label] +\n",
    "             ax.get_xticklabels() + ax.get_yticklabels()):\n",
    "    item.set_fontsize(12)\n",
    "plt.savefig(\"D:\\\\Etiology\\\\graphs\\\\cps.png\", bbox_inches='tight', pad_inches=0, transparent=True)"
   ]
  },
  {
   "cell_type": "code",
   "execution_count": null,
   "metadata": {
    "ExecuteTime": {
     "end_time": "2018-06-25T21:10:58.992468Z",
     "start_time": "2018-06-25T21:10:58.824777Z"
    },
    "collapsed": true,
    "hidden": true
   },
   "outputs": [],
   "source": [
    "xtab = pd.crosstab(df[\"Etiology\"], df[\"Cirrhosis\"]).drop(-1,axis=1).apply(lambda r: r/r.sum(), axis=1)\n",
    "xtab = xtab.loc[categories]\n",
    "\n",
    "plt.figure(num=None, figsize=(3,1.5), dpi=100, facecolor='w', edgecolor='k')\n",
    "p1 = plt.bar(range(4), xtab[0], width=.8)\n",
    "p2 = plt.bar(range(4), xtab[1], width=.8, bottom=xtab[0])\n",
    "plt.legend((p2, p1), ('Cirrhosis', 'No Cirrhosis'), bbox_to_anchor=(1,1), borderaxespad=0., fontsize=12)\n",
    "plt.axes().set_yticklabels([\"0%\", \"50%\", \"100%\"]);\n",
    "plt.xticks(range(4), xtab.index)\n",
    "plt.axes().set_yticks([0,.5,1], minor=False)\n",
    "sns.despine(top=True, right=True)\n",
    "ax = plt.axes()\n",
    "for item in ([ax.title, ax.xaxis.label, ax.yaxis.label] +\n",
    "             ax.get_xticklabels() + ax.get_yticklabels()):\n",
    "    item.set_fontsize(12)\n",
    "plt.savefig(\"D:\\\\Etiology\\\\graphs\\\\cirrhosis.png\", dpi=150, bbox_inches='tight', pad_inches=0, transparent=True)"
   ]
  },
  {
   "cell_type": "code",
   "execution_count": null,
   "metadata": {
    "ExecuteTime": {
     "end_time": "2018-06-25T21:24:24.277856Z",
     "start_time": "2018-06-25T21:24:24.105318Z"
    },
    "collapsed": true,
    "hidden": true
   },
   "outputs": [],
   "source": [
    "df[\"AFP>400\"] = df[\"AFP\"]>400\n",
    "xtab = pd.crosstab(df[\"Etiology\"], df[\"AFP>400\"]).apply(lambda r: r/r.sum(), axis=1)\n",
    "xtab = xtab.loc[categories]\n",
    "\n",
    "plt.figure(num=None, figsize=(3,1.5), dpi=100, facecolor='w', edgecolor='k')\n",
    "p1 = plt.bar(range(4), xtab[0], width=.8)\n",
    "p2 = plt.bar(range(4), xtab[1], width=.8, bottom=xtab[0])\n",
    "plt.legend((p2, p1), ('>400ng/mL', '<400ng/mL'), bbox_to_anchor=(1,1), borderaxespad=0., fontsize=12)\n",
    "plt.axes().set_yticklabels([\"0%\", \"50%\", \"100%\"]);\n",
    "plt.xticks(range(4), xtab.index)\n",
    "plt.axes().set_yticks([0,.5,1], minor=False)\n",
    "sns.despine(top=True, right=True)\n",
    "ax = plt.axes()\n",
    "for item in ([ax.title, ax.xaxis.label, ax.yaxis.label] +\n",
    "             ax.get_xticklabels() + ax.get_yticklabels()):\n",
    "    item.set_fontsize(12)\n",
    "plt.savefig(\"D:\\\\Etiology\\\\graphs\\\\afp.png\", dpi=150, bbox_inches='tight', pad_inches=0, transparent=True)"
   ]
  },
  {
   "cell_type": "code",
   "execution_count": null,
   "metadata": {
    "ExecuteTime": {
     "end_time": "2018-06-25T21:24:23.538832Z",
     "start_time": "2018-06-25T21:24:23.369277Z"
    },
    "collapsed": true,
    "hidden": true
   },
   "outputs": [],
   "source": [
    "xtab = pd.crosstab(df[\"Etiology\"], df[\"Portal_Invasion\"]).apply(lambda r: r/r.sum(), axis=1)\n",
    "xtab = xtab.loc[categories]\n",
    "\n",
    "plt.figure(num=None, figsize=(3,1.5), dpi=100, facecolor='w', edgecolor='k')\n",
    "p1 = plt.bar(range(4), xtab[0], width=.8)\n",
    "p2 = plt.bar(range(4), xtab[1], width=.8, bottom=xtab[0])\n",
    "plt.legend((p2, p1), ('Invasion', 'No Invasion'), bbox_to_anchor=(1,1), borderaxespad=0., fontsize=12)\n",
    "plt.axes().set_yticklabels([\"0%\", \"50%\", \"100%\"]);\n",
    "plt.xticks(range(4), xtab.index)\n",
    "plt.axes().set_yticks([0,.5,1], minor=False)\n",
    "sns.despine(top=True, right=True)\n",
    "ax = plt.axes()\n",
    "for item in ([ax.title, ax.xaxis.label, ax.yaxis.label] +\n",
    "             ax.get_xticklabels() + ax.get_yticklabels()):\n",
    "    item.set_fontsize(12)\n",
    "plt.savefig(\"D:\\\\Etiology\\\\graphs\\\\invasion.png\", dpi=150, bbox_inches='tight', pad_inches=0, transparent=True)"
   ]
  },
  {
   "cell_type": "code",
   "execution_count": null,
   "metadata": {
    "ExecuteTime": {
     "end_time": "2018-06-25T21:31:18.709127Z",
     "start_time": "2018-06-25T21:31:18.538004Z"
    },
    "collapsed": true,
    "hidden": true
   },
   "outputs": [],
   "source": [
    "df[\"Multifocal\"] = df[\"NumberLesions\"]!=1\n",
    "xtab = pd.crosstab(df[\"Etiology\"], df[\"Multifocal\"]).apply(lambda r: r/r.sum(), axis=1)\n",
    "xtab = xtab.loc[categories]\n",
    "\n",
    "plt.figure(num=None, figsize=(3,1.5), dpi=100, facecolor='w', edgecolor='k')\n",
    "p1 = plt.bar(range(4), xtab[False], width=.8)\n",
    "p2 = plt.bar(range(4), xtab[True], width=.8, bottom=xtab[False])\n",
    "plt.legend((p2, p1), ('Multifocal', 'Unifocal'), bbox_to_anchor=(1,1), borderaxespad=0., fontsize=12)\n",
    "plt.axes().set_yticklabels([\"0%\", \"50%\", \"100%\"]);\n",
    "plt.xticks(range(4), xtab.index)\n",
    "plt.axes().set_yticks([0,.5,1], minor=False)\n",
    "sns.despine(top=True, right=True)\n",
    "ax = plt.axes()\n",
    "for item in ([ax.title, ax.xaxis.label, ax.yaxis.label] +\n",
    "             ax.get_xticklabels() + ax.get_yticklabels()):\n",
    "    item.set_fontsize(12)\n",
    "plt.savefig(\"D:\\\\Etiology\\\\graphs\\\\multifocal.png\", dpi=150, bbox_inches='tight', pad_inches=0, transparent=True)"
   ]
  },
  {
   "cell_type": "markdown",
   "metadata": {
    "heading_collapsed": true,
    "hidden": true
   },
   "source": [
    "#### etc"
   ]
  },
  {
   "cell_type": "code",
   "execution_count": 66,
   "metadata": {
    "ExecuteTime": {
     "end_time": "2018-06-15T20:07:47.163498Z",
     "start_time": "2018-06-15T20:07:47.033701Z"
    },
    "collapsed": true,
    "hidden": true
   },
   "outputs": [],
   "source": [
    "coords_df = pd.read_excel(xls_path, sheetname=1)"
   ]
  },
  {
   "cell_type": "code",
   "execution_count": 46,
   "metadata": {
    "ExecuteTime": {
     "end_time": "2018-06-14T15:40:01.163955Z",
     "start_time": "2018-06-14T15:39:57.881429Z"
    },
    "collapsed": true,
    "hidden": true
   },
   "outputs": [],
   "source": [
    "importlib.reload(vm)\n",
    "vm.save_segs_as_imgs()"
   ]
  },
  {
   "cell_type": "code",
   "execution_count": 57,
   "metadata": {
    "ExecuteTime": {
     "end_time": "2018-06-14T16:04:31.513686Z",
     "start_time": "2018-06-14T16:04:31.227539Z"
    },
    "collapsed": true,
    "hidden": true
   },
   "outputs": [],
   "source": [
    "importlib.reload(vm)\n",
    "vm.remove_lesion_id(\"5276207\")"
   ]
  },
  {
   "cell_type": "code",
   "execution_count": 23,
   "metadata": {
    "ExecuteTime": {
     "end_time": "2018-06-20T18:51:45.400027Z",
     "start_time": "2018-06-20T18:51:44.879430Z"
    },
    "hidden": true,
    "scrolled": false
   },
   "outputs": [
    {
     "data": {
      "image/png": "[encoded data removed]",
      "text/plain": [
       "<matplotlib.figure.Figure at 0x25848d0c240>"
      ]
     },
     "metadata": {},
     "output_type": "display_data"
    }
   ],
   "source": [
    "importlib.reload(vm)\n",
    "vm.plot_check(1,\"4262153_1\");"
   ]
  },
  {
   "cell_type": "code",
   "execution_count": 62,
   "metadata": {
    "ExecuteTime": {
     "end_time": "2018-06-14T16:18:51.658154Z",
     "start_time": "2018-06-14T16:18:03.021980Z"
    },
    "collapsed": true,
    "hidden": true
   },
   "outputs": [],
   "source": [
    "importlib.reload(vm)\n",
    "vm.save_seg_set(unaug=False, num_cores=2, overwrite=False)"
   ]
  },
  {
   "cell_type": "code",
   "execution_count": null,
   "metadata": {
    "collapsed": true,
    "hidden": true
   },
   "outputs": [],
   "source": []
  },
  {
   "cell_type": "markdown",
   "metadata": {
    "heading_collapsed": true
   },
   "source": [
    "### Semiauto rename"
   ]
  },
  {
   "cell_type": "code",
   "execution_count": null,
   "metadata": {
    "ExecuteTime": {
     "end_time": "2018-06-26T15:04:03.920769Z",
     "start_time": "2018-06-26T15:03:59.736793Z"
    },
    "collapsed": true,
    "hidden": true
   },
   "outputs": [],
   "source": [
    "importlib.reload(hf)\n",
    "hf.semiauto_rename_phases(C.dcm_dir, C.phase_dirs)"
   ]
  },
  {
   "cell_type": "code",
   "execution_count": null,
   "metadata": {
    "collapsed": true,
    "hidden": true
   },
   "outputs": [],
   "source": []
  }
 ],
 "metadata": {
  "kernelspec": {
   "display_name": "Python 3",
   "language": "python",
   "name": "python3"
  },
  "language_info": {
   "codemirror_mode": {
    "name": "ipython",
    "version": 3
   },
   "file_extension": ".py",
   "mimetype": "text/x-python",
   "name": "python",
   "nbconvert_exporter": "python",
   "pygments_lexer": "ipython3",
   "version": "3.5.0"
  },
  "varInspector": {
   "cols": {
    "lenName": 16,
    "lenType": 16,
    "lenVar": 40
   },
   "kernels_config": {
    "python": {
     "delete_cmd_postfix": "",
     "delete_cmd_prefix": "del ",
     "library": "var_list.py",
     "varRefreshCmd": "print(var_dic_list())"
    },
    "r": {
     "delete_cmd_postfix": ") ",
     "delete_cmd_prefix": "rm(",
     "library": "var_list.r",
     "varRefreshCmd": "cat(var_dic_list()) "
    }
   },
   "types_to_exclude": [
    "module",
    "function",
    "builtin_function_or_method",
    "instance",
    "_Feature"
   ],
   "window_display": false
  }
 },
 "nbformat": 4,
 "nbformat_minor": 2
}
