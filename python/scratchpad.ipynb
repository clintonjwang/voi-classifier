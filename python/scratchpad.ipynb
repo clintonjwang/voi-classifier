{
 "cells": [
  {
   "cell_type": "code",
   "execution_count": 9,
   "metadata": {
    "ExecuteTime": {
     "end_time": "2018-05-30T20:44:03.288240Z",
     "start_time": "2018-05-30T20:44:03.272281Z"
    },
    "scrolled": true
   },
   "outputs": [],
   "source": [
    "import config\n",
    "import dr_methods as drm\n",
    "import niftiutils.helper_fxns as hf\n",
    "import niftiutils.masks as masks\n",
    "import niftiutils.visualization as vis\n",
    "import importlib\n",
    "import matplotlib.pyplot as plt\n",
    "import numpy as np\n",
    "import glob\n",
    "import os\n",
    "from os.path import *\n",
    "import pandas as pd\n",
    "import shutil\n",
    "import re\n",
    "import seg_methods as sm\n",
    "import time\n",
    "import voi_methods as vm\n",
    "import operator\n",
    "%matplotlib inline"
   ]
  },
  {
   "cell_type": "code",
   "execution_count": 2,
   "metadata": {
    "ExecuteTime": {
     "end_time": "2018-05-30T19:32:22.655938Z",
     "start_time": "2018-05-30T19:32:22.652946Z"
    },
    "collapsed": true
   },
   "outputs": [],
   "source": [
    "base_dir = \"D:\\\\Etiology\\\\Imaging\""
   ]
  },
  {
   "cell_type": "code",
   "execution_count": 3,
   "metadata": {
    "ExecuteTime": {
     "end_time": "2018-05-30T19:32:22.672891Z",
     "start_time": "2018-05-30T19:32:22.668904Z"
    },
    "collapsed": true
   },
   "outputs": [],
   "source": [
    "C = config.Config()"
   ]
  },
  {
   "cell_type": "code",
   "execution_count": null,
   "metadata": {
    "collapsed": true
   },
   "outputs": [],
   "source": [
    "sm.save_segs()"
   ]
  },
  {
   "cell_type": "code",
   "execution_count": null,
   "metadata": {
    "ExecuteTime": {
     "end_time": "2018-05-30T20:14:31.933968Z",
     "start_time": "2018-05-30T20:08:09.655735Z"
    },
    "collapsed": true
   },
   "outputs": [],
   "source": [
    "importlib.reload(drm)\n",
    "accnum_xls_path = r\"C:\\Users\\Clinton\\Box\\Rad-Etiology Correlation\\hklc_master.xlsx\"\n",
    "drm.build_coords_df(accnum_xls_path)"
   ]
  },
  {
   "cell_type": "code",
   "execution_count": 8,
   "metadata": {
    "ExecuteTime": {
     "end_time": "2018-05-28T22:15:00.543217Z",
     "start_time": "2018-05-28T22:15:00.538201Z"
    },
    "collapsed": true
   },
   "outputs": [],
   "source": [
    "S = [fn for fn in glob.glob(join(C.full_img_dir, \"*.npy\")) if fn.endswith(\"seg.npy\")]"
   ]
  },
  {
   "cell_type": "code",
   "execution_count": 14,
   "metadata": {
    "ExecuteTime": {
     "end_time": "2018-05-28T22:16:34.821276Z",
     "start_time": "2018-05-28T22:16:30.586197Z"
    },
    "collapsed": true
   },
   "outputs": [],
   "source": [
    "for fn in S:\n",
    "    #print(join(dirname(fn), basename(fn)[:-7]+\"tumorseg.npy\"))\n",
    "    os.rename(fn, join(dirname(fn), basename(fn)[:-7]+\"tumorseg.npy\"))"
   ]
  },
  {
   "cell_type": "code",
   "execution_count": 17,
   "metadata": {
    "ExecuteTime": {
     "end_time": "2018-05-08T04:04:56.682367Z",
     "start_time": "2018-05-08T03:56:21.004555Z"
    },
    "collapsed": true
   },
   "outputs": [],
   "source": [
    "for fn in glob.glob(r\"D:\\Etiology\\Imaging\\*\\*20s*\"):\n",
    "    lesion_id = basename(dirname(fn))\n",
    "    lesion_id = lesion_id[:lesion_id.find(' ')]\n",
    "    targ_dir = join(r\"D:\\Etiology\\Imaging-Ordered\", lesion_id, \"20s\")\n",
    "    if not exists(targ_dir):\n",
    "        shutil.copytree(fn, targ_dir)"
   ]
  },
  {
   "cell_type": "code",
   "execution_count": 119,
   "metadata": {
    "ExecuteTime": {
     "end_time": "2018-05-10T18:59:02.792519Z",
     "start_time": "2018-05-10T18:59:01.782221Z"
    },
    "collapsed": true
   },
   "outputs": [],
   "source": [
    "lesions = []\n",
    "for fn in glob.glob(join(base_dir, \"*\", \"Segs\")):\n",
    "    les_dir = dirname(fn)\n",
    "    if exists(join(les_dir, \"20s\")) and exists(join(les_dir, \"70s\")) and exists(join(les_dir, \"3min\")):\n",
    "        lesions.append(basename(les_dir))"
   ]
  },
  {
   "cell_type": "code",
   "execution_count": 118,
   "metadata": {
    "ExecuteTime": {
     "end_time": "2018-05-10T18:54:06.444801Z",
     "start_time": "2018-05-10T18:54:06.390504Z"
    },
    "collapsed": true
   },
   "outputs": [],
   "source": [
    "pd.DataFrame(lesions).to_excel(\"D:\\\\test.xlsx\", index=False)"
   ]
  },
  {
   "cell_type": "code",
   "execution_count": null,
   "metadata": {
    "collapsed": true
   },
   "outputs": [],
   "source": [
    "for fn in glob.glob(join(base_dir, \"*\", \"Segs\", \"liver\", \"*liver*.ids\")):\n",
    "    os.rename(fn, join(dirname(dirname(fn)), \"liver.off\"))"
   ]
  },
  {
   "cell_type": "code",
   "execution_count": null,
   "metadata": {
    "ExecuteTime": {
     "end_time": "2018-05-29T01:36:58.719497Z",
     "start_time": "2018-05-29T01:36:58.078706Z"
    },
    "collapsed": true
   },
   "outputs": [],
   "source": [
    "for fn in glob.glob(join(base_dir, \"*\", \"Segs\", \"tumor_20s.ids\")):\n",
    "    lesion_id = fn[len(base_dir)+1 : fn.find(\"\\\\\", len(base_dir)+1)]\n",
    "    nii_path = join(dirname(dirname(fn)), \"nii_dir\", \"20s.nii.gz\")\n",
    "    npy_path = join(C.full_img_dir, lesion_id+\"_tumorseg.npy\")\n",
    "    if exists(nii_path):# and not exists(npy_path):\n",
    "        print(\".\",end=\"\")\n",
    "        M = masks.get_mask(fn, img_path=nii_path)\n",
    "        np.save(npy_path, M)"
   ]
  },
  {
   "cell_type": "code",
   "execution_count": 6,
   "metadata": {
    "ExecuteTime": {
     "end_time": "2018-05-30T18:15:46.385929Z",
     "start_time": "2018-05-30T18:15:46.215704Z"
    },
    "collapsed": true
   },
   "outputs": [],
   "source": [
    "for fn in glob.glob(r\"F:\\PK CBCT\\*\\masks\\reg\"):\n",
    "    shutil.rmtree(fn)"
   ]
  },
  {
   "cell_type": "code",
   "execution_count": 37,
   "metadata": {
    "ExecuteTime": {
     "end_time": "2018-05-29T20:50:17.575836Z",
     "start_time": "2018-05-29T20:50:17.569852Z"
    }
   },
   "outputs": [
    {
     "data": {
      "text/plain": [
       "642"
      ]
     },
     "execution_count": 37,
     "metadata": {},
     "output_type": "execute_result"
    }
   ],
   "source": [
    "os.listdir(r\"D:\\Etiology\\Imaging\").index(accnum)"
   ]
  },
  {
   "cell_type": "code",
   "execution_count": 32,
   "metadata": {
    "ExecuteTime": {
     "end_time": "2018-05-29T20:31:36.130446Z",
     "start_time": "2018-05-29T18:22:37.840220Z"
    },
    "collapsed": true
   },
   "outputs": [],
   "source": [
    "importlib.reload(sm)\n",
    "for accnum in os.listdir(r\"D:\\Etiology\\Imaging\"):\n",
    "    if not exists(join(r\"D:\\Etiology\\Imaging\", accnum, \"Segs\\\\tumor_20s.off\")):\n",
    "        continue\n",
    "    masks.off2ids(join(r\"D:\\Etiology\\Imaging\", accnum, \"Segs\\\\tumor_20s.off\"))\n",
    "    sm.save_segs([accnum])"
   ]
  },
  {
   "cell_type": "code",
   "execution_count": 20,
   "metadata": {
    "ExecuteTime": {
     "end_time": "2018-05-30T20:55:52.966425Z",
     "start_time": "2018-05-30T20:55:52.920572Z"
    }
   },
   "outputs": [
    {
     "data": {
      "text/plain": [
       "182"
      ]
     },
     "execution_count": 20,
     "metadata": {},
     "output_type": "execute_result"
    }
   ],
   "source": [
    "len(glob.glob(r\"D:\\Etiology\\OrigData\\*\\Pre_Ax_Gad*\"))"
   ]
  },
  {
   "cell_type": "code",
   "execution_count": null,
   "metadata": {
    "ExecuteTime": {
     "end_time": "2018-05-31T01:53:02.824801Z",
     "start_time": "2018-05-31T01:53:02.739494Z"
    },
    "collapsed": true
   },
   "outputs": [],
   "source": [
    "for fn in glob.glob(r\"D:\\Etiology\\Imaging\\*\\T1_20s\"):\n",
    "    if not exists(join(dirname(fn), \"T1_pre\")) and not exists(join(dirname(fn), \"T1_multiphase\")):\n",
    "        print(fn)"
   ]
  },
  {
   "cell_type": "code",
   "execution_count": null,
   "metadata": {
    "ExecuteTime": {
     "end_time": "2018-05-30T23:19:25.965261Z",
     "start_time": "2018-05-30T23:19:25.931351Z"
    },
    "collapsed": true
   },
   "outputs": [],
   "source": [
    "len(glob.glob(r\"D:\\Etiology\\Imaging\\*\\T1_pre\"))"
   ]
  },
  {
   "cell_type": "code",
   "execution_count": null,
   "metadata": {
    "ExecuteTime": {
     "start_time": "2018-05-31T02:03:49.347Z"
    },
    "collapsed": true
   },
   "outputs": [],
   "source": [
    "for fn in glob.glob(r\"D:\\Etiology\\Imaging\\*\"):\n",
    "    lesion_id = basename(fn)\n",
    "    target_dir = join(\"F:\\\\HCCs\", lesion_id)\n",
    "    if not exists(target_dir):\n",
    "        shutil.copytree(fn, target_dir)"
   ]
  },
  {
   "cell_type": "code",
   "execution_count": null,
   "metadata": {
    "collapsed": true
   },
   "outputs": [],
   "source": []
  },
  {
   "cell_type": "code",
   "execution_count": 77,
   "metadata": {
    "ExecuteTime": {
     "end_time": "2018-05-31T02:00:38.741272Z",
     "start_time": "2018-05-31T01:54:13.899264Z"
    }
   },
   "outputs": [],
   "source": [
    "for fn in glob.glob(r\"D:\\Etiology\\OrigData\\*\\*XV_MultiPhase_*0\"):\n",
    "    lesion_id = basename(dirname(fn))[:7]\n",
    "    if re.match(\"\\\\d\",lesion_id[-1]) is None:\n",
    "        lesion_id = lesion_id[:-1]\n",
    "    target_dir = join(base_dir, lesion_id, \"T1_pre\")\n",
    "    if not exists(target_dir):\n",
    "        shutil.copytree(fn, target_dir)"
   ]
  },
  {
   "cell_type": "code",
   "execution_count": null,
   "metadata": {
    "collapsed": true
   },
   "outputs": [],
   "source": [
    "drm.dcm2npy(overwrite=True)"
   ]
  },
  {
   "cell_type": "code",
   "execution_count": 61,
   "metadata": {
    "ExecuteTime": {
     "end_time": "2018-05-29T23:24:42.350291Z",
     "start_time": "2018-05-29T23:24:32.693243Z"
    },
    "collapsed": true
   },
   "outputs": [],
   "source": [
    "importlib.reload(drm)\n",
    "drm.dcm2npy(accnums=['5399031'], overwrite=True)"
   ]
  },
  {
   "cell_type": "code",
   "execution_count": null,
   "metadata": {
    "ExecuteTime": {
     "end_time": "2018-05-29T01:31:52.921103Z",
     "start_time": "2018-05-29T01:31:02.023052Z"
    },
    "collapsed": true
   },
   "outputs": [],
   "source": [
    "for fn in glob.glob(join(base_dir, \"*\", \"Segs\", \"liver.off\")):\n",
    "    if not exists(join(dirname(fn), \"liver.ids\")):\n",
    "        print(\".\",end=\"\")\n",
    "        masks.off2ids(fn, num_tumors=1, R=[3,3,5], minVol=10)"
   ]
  },
  {
   "cell_type": "code",
   "execution_count": 28,
   "metadata": {
    "ExecuteTime": {
     "end_time": "2018-05-28T22:56:47.932134Z",
     "start_time": "2018-05-28T22:56:47.355049Z"
    },
    "collapsed": true
   },
   "outputs": [],
   "source": [
    "for ext in [\".off\", \".ids\", \".ics\"]:\n",
    "    for fn in glob.glob(join(base_dir, \"*\", \"Segs\", \"*liver*\"+ext)):\n",
    "        new_name = join(dirname(fn), \"liver\"+ext)\n",
    "        if not exists(new_name):\n",
    "            os.rename(fn, new_name)\n",
    "        #lesion_id = fn[len(base_dir)+1 : fn.find(\"\\\\\", len(base_dir)+1)]"
   ]
  },
  {
   "cell_type": "code",
   "execution_count": 95,
   "metadata": {
    "ExecuteTime": {
     "end_time": "2018-05-09T19:16:57.202194Z",
     "start_time": "2018-05-09T19:16:57.159082Z"
    },
    "collapsed": true,
    "scrolled": true
   },
   "outputs": [],
   "source": [
    "A = [basename(fn) for fn in glob.glob(r\"D:\\Etiology\\Imaging\\*\\Segs\\*.off\")]\n",
    "#list(A)[:50]\n",
    "A = set([a[a.find('_')+1:] for a in A])\n",
    "A = set([a[a.find(' ')+1:] for a in A])"
   ]
  },
  {
   "cell_type": "code",
   "execution_count": null,
   "metadata": {
    "collapsed": true
   },
   "outputs": [],
   "source": []
  },
  {
   "cell_type": "code",
   "execution_count": 17,
   "metadata": {
    "ExecuteTime": {
     "end_time": "2018-05-08T16:31:46.822086Z",
     "start_time": "2018-05-08T16:31:46.262563Z"
    },
    "collapsed": true,
    "scrolled": false
   },
   "outputs": [],
   "source": [
    "for fn in glob.glob(\"D:\\\\Etiology\\\\Imaging-Ordered\\\\*\\\\*\\\\.wbvTemp.out\"):\n",
    "    try:\n",
    "        os.remove(fn)\n",
    "    except Exception as e:\n",
    "        hf.handleRemoveReadonly(os.remove, fn, e)"
   ]
  },
  {
   "cell_type": "code",
   "execution_count": 55,
   "metadata": {
    "ExecuteTime": {
     "end_time": "2018-05-08T22:29:29.217525Z",
     "start_time": "2018-05-08T22:29:29.180424Z"
    }
   },
   "outputs": [
    {
     "data": {
      "text/plain": [
       "548"
      ]
     },
     "execution_count": 55,
     "metadata": {},
     "output_type": "execute_result"
    }
   ],
   "source": [
    "len([f for f in glob.glob(\"D:\\\\Etiology\\\\Imaging-Ordered\\\\*\\\\\"+ph)])"
   ]
  },
  {
   "cell_type": "code",
   "execution_count": 3,
   "metadata": {
    "ExecuteTime": {
     "end_time": "2018-05-09T03:25:41.202989Z",
     "start_time": "2018-05-09T03:25:41.160875Z"
    },
    "scrolled": true
   },
   "outputs": [
    {
     "data": {
      "text/plain": [
       "483"
      ]
     },
     "execution_count": 3,
     "metadata": {},
     "output_type": "execute_result"
    }
   ],
   "source": [
    "[f for f in glob.glob(\"D:\\\\Etiology\\\\Imaging-Ordered\\\\*\\\\\"+ph)].index(fn)"
   ]
  },
  {
   "cell_type": "code",
   "execution_count": 4,
   "metadata": {
    "ExecuteTime": {
     "end_time": "2018-05-09T03:28:42.352720Z",
     "start_time": "2018-05-09T03:25:45.396886Z"
    },
    "collapsed": true,
    "scrolled": true
   },
   "outputs": [],
   "source": [
    "ph = \"20s\"\n",
    "for fn in glob.glob(\"D:\\\\Etiology\\\\Imaging-Ordered\\\\*\\\\\"+ph)[484:]:\n",
    "    lesion_id = basename(dirname(fn))\n",
    "    nii_dir = join(dirname(fn), \"nii_dir\")\n",
    "    targ_dir = join(nii_dir, ph+\".nii.gz\")\n",
    "    if not exists(targ_dir):\n",
    "        if not exists(nii_dir):\n",
    "            os.makedirs(nii_dir)\n",
    "        I,D = hf.dcm_load(fn, True, True)\n",
    "        hf.save_nii(I, targ_dir, D)"
   ]
  },
  {
   "cell_type": "code",
   "execution_count": 7,
   "metadata": {
    "ExecuteTime": {
     "end_time": "2018-05-09T13:41:06.686650Z",
     "start_time": "2018-05-09T13:41:06.627477Z"
    },
    "collapsed": true
   },
   "outputs": [],
   "source": [
    "lesions = [basename(dirname(dirname(fn))) for fn in glob.glob(\"D:\\\\Etiology\\\\Imaging\\\\*\\\\nii_dir\\\\20s.nii.gz\")]"
   ]
  },
  {
   "cell_type": "code",
   "execution_count": 18,
   "metadata": {
    "ExecuteTime": {
     "end_time": "2018-05-08T04:13:08.681646Z",
     "start_time": "2018-05-08T04:04:56.692502Z"
    },
    "collapsed": true
   },
   "outputs": [],
   "source": [
    "img_dir = \"D:\\\\Etiology\\\\Imaging\\\\*\\\\\"\n",
    "for fn in glob.glob(img_dir+\"*70s*\") + glob.glob(img_dir+\"*Venous*\") + glob.glob(img_dir+\"Ph2*\") + glob.glob(img_dir+\"*70_s*\"):\n",
    "    lesion_id = basename(dirname(fn))\n",
    "    lesion_id = lesion_id[:lesion_id.find(' ')]\n",
    "    targ_dir = join(r\"D:\\Etiology\\Imaging-Ordered\", lesion_id, \"70s\")\n",
    "    if not exists(targ_dir):\n",
    "        shutil.copytree(fn, targ_dir)"
   ]
  },
  {
   "cell_type": "code",
   "execution_count": 19,
   "metadata": {
    "ExecuteTime": {
     "end_time": "2018-05-08T04:21:49.462114Z",
     "start_time": "2018-05-08T04:13:08.693542Z"
    },
    "collapsed": true
   },
   "outputs": [],
   "source": [
    "img_dir = \"D:\\\\Etiology\\\\Imaging\\\\*\\\\\"\n",
    "for fn in glob.glob(img_dir+\"*3min*\") + glob.glob(img_dir+\"*Delay*\") + glob.glob(img_dir+\"*Equ*\") + glob.glob(img_dir+\"Ph3*\") + glob.glob(img_dir+\"*3_min*\"):\n",
    "    lesion_id = basename(dirname(fn))\n",
    "    lesion_id = lesion_id[:lesion_id.find(' ')]\n",
    "    targ_dir = join(r\"D:\\Etiology\\Imaging-Ordered\", lesion_id, \"3min\")\n",
    "    if not exists(targ_dir):\n",
    "        shutil.copytree(fn, targ_dir)"
   ]
  },
  {
   "cell_type": "markdown",
   "metadata": {},
   "source": [
    "img_dir = \"D:\\\\Etiology\\\\Imaging\\\\*\\\\\"\n",
    "for fn in glob.glob(img_dir+\"*20s*\") + glob.glob(img_dir+\"*Arter*\") + glob.glob(img_dir+\"Ph1*\") + glob.glob(img_dir+\"*20_s*\"):\n",
    "    lesion_id = basename(dirname(fn))\n",
    "    lesion_id = lesion_id[:lesion_id.find(' ')]\n",
    "    targ_dir = join(r\"D:\\Etiology\\Imaging-Ordered\", lesion_id, \"70s\")\n",
    "    if not exists(targ_dir):\n",
    "        shutil.copytree(fn, targ_dir)"
   ]
  },
  {
   "cell_type": "code",
   "execution_count": 69,
   "metadata": {
    "ExecuteTime": {
     "end_time": "2018-05-28T20:57:13.246093Z",
     "start_time": "2018-05-28T20:57:13.241079Z"
    },
    "collapsed": true
   },
   "outputs": [],
   "source": [
    "import random"
   ]
  },
  {
   "cell_type": "code",
   "execution_count": 79,
   "metadata": {
    "ExecuteTime": {
     "end_time": "2018-05-28T21:04:56.478116Z",
     "start_time": "2018-05-28T21:04:56.473129Z"
    }
   },
   "outputs": [
    {
     "data": {
      "text/plain": [
       "[slice(None, None, 1), slice(None, None, 1), slice(None, None, 1)]"
      ]
     },
     "execution_count": 79,
     "metadata": {},
     "output_type": "execute_result"
    }
   ],
   "source": [
    "[slice(None, None, (-1)**(random.random() < .5)) for _ in range(3)]"
   ]
  },
  {
   "cell_type": "code",
   "execution_count": 7,
   "metadata": {
    "ExecuteTime": {
     "end_time": "2018-05-07T21:24:47.225834Z",
     "start_time": "2018-05-07T21:24:45.011868Z"
    },
    "collapsed": true
   },
   "outputs": [],
   "source": [
    "for fn in glob.glob(r\"D:\\Etiology\\Imaging\\*\"):\n",
    "    DCE = [x for x in os.listdir(join(fn, mod)) if (\"vibe\" in x or \"post\" in x) and x.endswith('.gz')]\n",
    "    if len(DCE) > 0 and not exists(join(fn, mod, \"mr30_equ.nii.gz\")):\n",
    "        DCE = sort_by_series_num([x for x in DCE if \"min\" not in x])\n",
    "\n",
    "        print(fn, DCE[-1], DCE[0], sep=\"\\n\") #sort_by_series_num(PRE)[-1], \n",
    "        correct = input()\n",
    "        if correct == \"0\":\n",
    "            #os.rename(join(accnum, PRE[0]), join(accnum, \"T1_BL\"))\n",
    "            os.rename(join(fn, mod, DCE[-1]), join(fn, mod, \"mr30_equ.nii.gz\"))\n",
    "        elif correct == \"q\":\n",
    "            break\n",
    "        else:\n",
    "            continue"
   ]
  },
  {
   "cell_type": "code",
   "execution_count": 12,
   "metadata": {
    "ExecuteTime": {
     "end_time": "2018-05-07T22:26:12.816785Z",
     "start_time": "2018-05-07T22:15:47.221084Z"
    },
    "collapsed": true
   },
   "outputs": [],
   "source": [
    "for fn in glob.glob(r\"Z:\\Sophie\\CBCTs\\*\"):\n",
    "    lesion_id = basename(fn)\n",
    "    cbct_dir = join(r\"D:\\Lipiodol\\Data\", lesion_id, \"CBCT\")\n",
    "    shutil.move(fn, cbct_dir)"
   ]
  },
  {
   "cell_type": "code",
   "execution_count": null,
   "metadata": {
    "collapsed": true
   },
   "outputs": [],
   "source": []
  }
 ],
 "metadata": {
  "kernelspec": {
   "display_name": "Python 3",
   "language": "python",
   "name": "python3"
  },
  "language_info": {
   "codemirror_mode": {
    "name": "ipython",
    "version": 3
   },
   "file_extension": ".py",
   "mimetype": "text/x-python",
   "name": "python",
   "nbconvert_exporter": "python",
   "pygments_lexer": "ipython3",
   "version": "3.5.0"
  },
  "varInspector": {
   "cols": {
    "lenName": 16,
    "lenType": 16,
    "lenVar": 40
   },
   "kernels_config": {
    "python": {
     "delete_cmd_postfix": "",
     "delete_cmd_prefix": "del ",
     "library": "var_list.py",
     "varRefreshCmd": "print(var_dic_list())"
    },
    "r": {
     "delete_cmd_postfix": ") ",
     "delete_cmd_prefix": "rm(",
     "library": "var_list.r",
     "varRefreshCmd": "cat(var_dic_list()) "
    }
   },
   "types_to_exclude": [
    "module",
    "function",
    "builtin_function_or_method",
    "instance",
    "_Feature"
   ],
   "window_display": false
  }
 },
 "nbformat": 4,
 "nbformat_minor": 2
}
