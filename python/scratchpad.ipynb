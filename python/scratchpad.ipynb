{
 "cells": [
  {
   "cell_type": "code",
   "execution_count": 2,
   "metadata": {
    "ExecuteTime": {
     "end_time": "2018-06-18T19:22:48.475963Z",
     "start_time": "2018-06-18T19:22:45.259418Z"
    }
   },
   "outputs": [
    {
     "name": "stderr",
     "output_type": "stream",
     "text": [
      "C:\\Users\\Clinton\\AppData\\Local\\conda\\conda\\envs\\old-keras\\lib\\site-packages\\h5py\\__init__.py:34: FutureWarning: Conversion of the second argument of issubdtype from `float` to `np.floating` is deprecated. In future, it will be treated as `np.float64 == np.dtype(float).type`.\n",
      "  from ._conv import register_converters as _register_converters\n",
      "Using TensorFlow backend.\n",
      "C:\\Users\\Clinton\\AppData\\Local\\conda\\conda\\envs\\old-keras\\lib\\site-packages\\dicom\\__init__.py:53: UserWarning: \n",
      "This code is using an older version of pydicom, which is no longer \n",
      "maintained as of Jan 2017.  You can access the new pydicom features and API \n",
      "by installing `pydicom` from PyPI.\n",
      "See 'Transitioning to pydicom 1.x' section at pydicom.readthedocs.org \n",
      "for more information.\n",
      "\n",
      "  warnings.warn(msg)\n"
     ]
    }
   ],
   "source": [
    "import config\n",
    "import dr_methods as drm\n",
    "import niftiutils.helper_fxns as hf\n",
    "import niftiutils.masks as masks\n",
    "import niftiutils.visualization as vis\n",
    "import importlib\n",
    "import matplotlib.pyplot as plt\n",
    "import numpy as np\n",
    "import glob\n",
    "import os\n",
    "from os.path import *\n",
    "import pandas as pd\n",
    "import shutil\n",
    "import re\n",
    "import random\n",
    "import seg_methods as sm\n",
    "import time\n",
    "import voi_methods as vm\n",
    "import operator\n",
    "%matplotlib inline"
   ]
  },
  {
   "cell_type": "code",
   "execution_count": 16,
   "metadata": {
    "ExecuteTime": {
     "end_time": "2018-06-20T18:00:40.897665Z",
     "start_time": "2018-06-20T18:00:40.804325Z"
    },
    "collapsed": true
   },
   "outputs": [],
   "source": [
    "import niftiutils.patches as patch"
   ]
  },
  {
   "cell_type": "code",
   "execution_count": null,
   "metadata": {
    "collapsed": true
   },
   "outputs": [],
   "source": [
    "I = np.linspace()"
   ]
  },
  {
   "cell_type": "code",
   "execution_count": null,
   "metadata": {
    "collapsed": true
   },
   "outputs": [],
   "source": []
  },
  {
   "cell_type": "code",
   "execution_count": 3,
   "metadata": {
    "ExecuteTime": {
     "end_time": "2018-06-18T19:22:48.499891Z",
     "start_time": "2018-06-18T19:22:48.492909Z"
    }
   },
   "outputs": [],
   "source": [
    "importlib.reload(config)\n",
    "C = config.Config()"
   ]
  },
  {
   "cell_type": "markdown",
   "metadata": {
    "heading_collapsed": true
   },
   "source": [
    "### Paula"
   ]
  },
  {
   "cell_type": "code",
   "execution_count": 57,
   "metadata": {
    "ExecuteTime": {
     "end_time": "2018-06-18T14:48:54.021668Z",
     "start_time": "2018-06-18T14:48:51.758073Z"
    },
    "hidden": true
   },
   "outputs": [],
   "source": [
    "importlib.reload(drm)\n",
    "drm.load_clinical_vars()"
   ]
  },
  {
   "cell_type": "markdown",
   "metadata": {
    "heading_collapsed": true
   },
   "source": [
    "### Etiology"
   ]
  },
  {
   "cell_type": "code",
   "execution_count": 64,
   "metadata": {
    "ExecuteTime": {
     "end_time": "2018-06-15T20:07:25.731852Z",
     "start_time": "2018-06-15T20:07:25.724873Z"
    },
    "collapsed": true,
    "hidden": true
   },
   "outputs": [],
   "source": [
    "xls_path = r\"Z:\\Sophie\\Ethiologyproject\\HCC Etiology Project Master Spreadsheet.xlsx\""
   ]
  },
  {
   "cell_type": "code",
   "execution_count": 79,
   "metadata": {
    "ExecuteTime": {
     "end_time": "2018-06-15T20:12:26.975745Z",
     "start_time": "2018-06-15T20:12:26.767326Z"
    },
    "collapsed": true,
    "hidden": true
   },
   "outputs": [],
   "source": [
    "df = pd.read_excel(xls_path)"
   ]
  },
  {
   "cell_type": "code",
   "execution_count": 66,
   "metadata": {
    "ExecuteTime": {
     "end_time": "2018-06-15T20:07:47.163498Z",
     "start_time": "2018-06-15T20:07:47.033701Z"
    },
    "collapsed": true,
    "hidden": true
   },
   "outputs": [],
   "source": [
    "coords_df = pd.read_excel(xls_path, sheetname=1)"
   ]
  },
  {
   "cell_type": "code",
   "execution_count": 72,
   "metadata": {
    "ExecuteTime": {
     "end_time": "2018-06-15T20:10:30.454553Z",
     "start_time": "2018-06-15T20:10:30.447546Z"
    },
    "collapsed": true,
    "hidden": true
   },
   "outputs": [],
   "source": [
    "df = df.fillna(0)"
   ]
  },
  {
   "cell_type": "code",
   "execution_count": 84,
   "metadata": {
    "ExecuteTime": {
     "end_time": "2018-06-15T20:13:43.859462Z",
     "start_time": "2018-06-15T20:13:43.853451Z"
    },
    "collapsed": true,
    "hidden": true
   },
   "outputs": [],
   "source": [
    "df.loc[df[\"HepC_ViralLoad\"] == '299.000 (3/28/2014) ', \"HepC_ViralLoad\"] = 299"
   ]
  },
  {
   "cell_type": "code",
   "execution_count": 119,
   "metadata": {
    "ExecuteTime": {
     "end_time": "2018-06-15T20:26:38.426379Z",
     "start_time": "2018-06-15T20:26:38.414387Z"
    },
    "collapsed": true,
    "hidden": true
   },
   "outputs": [],
   "source": [
    "df.loc[df[\"HepB_ViralLoad\"] == '<5', \"HepB_ViralLoad\"] = 2.5\n",
    "df.loc[df[\"HepB_ViralLoad\"] == '<20', \"HepB_ViralLoad\"] = 10"
   ]
  },
  {
   "cell_type": "code",
   "execution_count": 141,
   "metadata": {
    "ExecuteTime": {
     "end_time": "2018-06-15T20:35:47.720769Z",
     "start_time": "2018-06-15T20:35:47.712791Z"
    },
    "collapsed": true,
    "hidden": true
   },
   "outputs": [],
   "source": [
    "df.loc[df[\"Tumor_Dx_MRI_Accession\"]==\"E100209927\", \"Alcohol\"] = -1"
   ]
  },
  {
   "cell_type": "code",
   "execution_count": 85,
   "metadata": {
    "ExecuteTime": {
     "end_time": "2018-06-15T20:13:45.076824Z",
     "start_time": "2018-06-15T20:13:45.070840Z"
    },
    "hidden": true,
    "scrolled": false
   },
   "outputs": [
    {
     "data": {
      "text/plain": [
       "69"
      ]
     },
     "execution_count": 85,
     "metadata": {},
     "output_type": "execute_result"
    }
   ],
   "source": [
    "len(df[(df[\"Include\"]==1) & (df[\"HepC_ViralLoad\"].astype(float) > 0)])"
   ]
  },
  {
   "cell_type": "code",
   "execution_count": 103,
   "metadata": {
    "ExecuteTime": {
     "end_time": "2018-06-15T20:17:33.874918Z",
     "start_time": "2018-06-15T20:17:33.869932Z"
    },
    "collapsed": true,
    "hidden": true
   },
   "outputs": [],
   "source": [
    "accnums = df[(df[\"Include\"]==1) & (df[\"HepC_ViralLoad\"].astype(float) > 0)][\"Tumor_Dx_MRI_Accession\"]"
   ]
  },
  {
   "cell_type": "code",
   "execution_count": 89,
   "metadata": {
    "ExecuteTime": {
     "end_time": "2018-06-15T20:16:35.202995Z",
     "start_time": "2018-06-15T20:16:35.197985Z"
    },
    "hidden": true
   },
   "outputs": [
    {
     "data": {
      "text/plain": [
       "43"
      ]
     },
     "execution_count": 89,
     "metadata": {},
     "output_type": "execute_result"
    }
   ],
   "source": [
    "len(df[(df[\"Include\"]==1) & (df[\"HepC_ViralLoad\"].astype(float) == 0)])"
   ]
  },
  {
   "cell_type": "code",
   "execution_count": 100,
   "metadata": {
    "ExecuteTime": {
     "end_time": "2018-06-15T20:17:24.370631Z",
     "start_time": "2018-06-15T20:17:24.366616Z"
    },
    "collapsed": true,
    "hidden": true
   },
   "outputs": [],
   "source": [
    "accnums = df[(df[\"Include\"]==1) & (df[\"HepC_ViralLoad\"].astype(float) == 0)][\"Tumor_Dx_MRI_Accession\"]"
   ]
  },
  {
   "cell_type": "code",
   "execution_count": null,
   "metadata": {
    "collapsed": true,
    "hidden": true
   },
   "outputs": [],
   "source": [
    "accnums = df[(df[\"Include\"]==1) & (df[\"HepC_ViralLoad\"].astype(float) == 0) & (df[\"Alcohol\"].astype(float) == 1)][\"Tumor_Dx_MRI_Accession\"]"
   ]
  },
  {
   "cell_type": "code",
   "execution_count": 146,
   "metadata": {
    "ExecuteTime": {
     "end_time": "2018-06-15T20:36:17.891706Z",
     "start_time": "2018-06-15T20:36:17.886719Z"
    },
    "collapsed": true,
    "hidden": true
   },
   "outputs": [],
   "source": [
    "accnums = df[(df[\"Include\"]==1) & (df[\"HepC_ViralLoad\"].astype(float) == 0) & (df[\"NASH\"].astype(float) == 1)][\"Tumor_Dx_MRI_Accession\"]"
   ]
  },
  {
   "cell_type": "code",
   "execution_count": 147,
   "metadata": {
    "ExecuteTime": {
     "end_time": "2018-06-15T20:36:18.674825Z",
     "start_time": "2018-06-15T20:36:18.670805Z"
    },
    "hidden": true
   },
   "outputs": [
    {
     "data": {
      "text/plain": [
       "15"
      ]
     },
     "execution_count": 147,
     "metadata": {},
     "output_type": "execute_result"
    }
   ],
   "source": [
    "len(coords_df[coords_df[\"acc #\"].isin(accnums)])"
   ]
  },
  {
   "cell_type": "code",
   "execution_count": null,
   "metadata": {
    "collapsed": true,
    "hidden": true
   },
   "outputs": [],
   "source": []
  },
  {
   "cell_type": "code",
   "execution_count": 46,
   "metadata": {
    "ExecuteTime": {
     "end_time": "2018-06-14T15:40:01.163955Z",
     "start_time": "2018-06-14T15:39:57.881429Z"
    },
    "collapsed": true,
    "hidden": true
   },
   "outputs": [],
   "source": [
    "importlib.reload(vm)\n",
    "vm.save_segs_as_imgs()"
   ]
  },
  {
   "cell_type": "code",
   "execution_count": 57,
   "metadata": {
    "ExecuteTime": {
     "end_time": "2018-06-14T16:04:31.513686Z",
     "start_time": "2018-06-14T16:04:31.227539Z"
    },
    "collapsed": true,
    "hidden": true
   },
   "outputs": [],
   "source": [
    "importlib.reload(vm)\n",
    "vm.remove_lesion_id(\"5276207\")"
   ]
  },
  {
   "cell_type": "code",
   "execution_count": 17,
   "metadata": {
    "ExecuteTime": {
     "end_time": "2018-06-20T18:35:29.170786Z",
     "start_time": "2018-06-20T18:35:28.509133Z"
    },
    "hidden": true,
    "scrolled": true
   },
   "outputs": [
    {
     "ename": "FileNotFoundError",
     "evalue": "[Errno 2] No such file or directory: 'E:\\\\LIRADS\\\\imgs\\\\rough_crops\\\\4262153_1.npy'",
     "output_type": "error",
     "traceback": [
      "\u001b[1;31m---------------------------------------------------------------------------\u001b[0m",
      "\u001b[1;31mFileNotFoundError\u001b[0m                         Traceback (most recent call last)",
      "\u001b[1;32m<ipython-input-17-ac5820edb008>\u001b[0m in \u001b[0;36m<module>\u001b[1;34m()\u001b[0m\n\u001b[0;32m      1\u001b[0m \u001b[0mimportlib\u001b[0m\u001b[1;33m.\u001b[0m\u001b[0mreload\u001b[0m\u001b[1;33m(\u001b[0m\u001b[0mvm\u001b[0m\u001b[1;33m)\u001b[0m\u001b[1;33m\u001b[0m\u001b[0m\n\u001b[1;32m----> 2\u001b[1;33m \u001b[0mvm\u001b[0m\u001b[1;33m.\u001b[0m\u001b[0mplot_check\u001b[0m\u001b[1;33m(\u001b[0m\u001b[1;36m1\u001b[0m\u001b[1;33m,\u001b[0m\u001b[1;34m\"4262153_1\"\u001b[0m\u001b[1;33m)\u001b[0m\u001b[1;33m;\u001b[0m\u001b[1;33m\u001b[0m\u001b[0m\n\u001b[0m",
      "\u001b[1;32m~\\Documents\\voi-classifier\\python\\voi_methods.py\u001b[0m in \u001b[0;36mplot_check\u001b[1;34m(num, lesion_id, normalize)\u001b[0m\n\u001b[0;32m     56\u001b[0m                 \u001b[0mimg\u001b[0m \u001b[1;33m=\u001b[0m \u001b[0mnp\u001b[0m\u001b[1;33m.\u001b[0m\u001b[0mload\u001b[0m\u001b[1;33m(\u001b[0m\u001b[0mjoin\u001b[0m\u001b[1;33m(\u001b[0m\u001b[0mC\u001b[0m\u001b[1;33m.\u001b[0m\u001b[0mfull_img_dir\u001b[0m\u001b[1;33m,\u001b[0m \u001b[0mlesion_id\u001b[0m\u001b[1;33m[\u001b[0m\u001b[1;33m:\u001b[0m\u001b[0mlesion_id\u001b[0m\u001b[1;33m.\u001b[0m\u001b[0mfind\u001b[0m\u001b[1;33m(\u001b[0m\u001b[1;34m'_'\u001b[0m\u001b[1;33m)\u001b[0m\u001b[1;33m]\u001b[0m \u001b[1;33m+\u001b[0m \u001b[1;34m\".npy\"\u001b[0m\u001b[1;33m)\u001b[0m\u001b[1;33m)\u001b[0m\u001b[1;33m\u001b[0m\u001b[0m\n\u001b[0;32m     57\u001b[0m         \u001b[1;32melif\u001b[0m \u001b[0mnum\u001b[0m \u001b[1;33m==\u001b[0m \u001b[1;36m1\u001b[0m\u001b[1;33m:\u001b[0m\u001b[1;33m\u001b[0m\u001b[0m\n\u001b[1;32m---> 58\u001b[1;33m                 \u001b[0mimg\u001b[0m \u001b[1;33m=\u001b[0m \u001b[0mnp\u001b[0m\u001b[1;33m.\u001b[0m\u001b[0mload\u001b[0m\u001b[1;33m(\u001b[0m\u001b[0mjoin\u001b[0m\u001b[1;33m(\u001b[0m\u001b[0mC\u001b[0m\u001b[1;33m.\u001b[0m\u001b[0mcrops_dir\u001b[0m\u001b[1;33m,\u001b[0m \u001b[0mlesion_id\u001b[0m \u001b[1;33m+\u001b[0m \u001b[1;34m\".npy\"\u001b[0m\u001b[1;33m)\u001b[0m\u001b[1;33m)\u001b[0m\u001b[1;33m\u001b[0m\u001b[0m\n\u001b[0m\u001b[0;32m     59\u001b[0m         \u001b[1;32melif\u001b[0m \u001b[0mnum\u001b[0m \u001b[1;33m==\u001b[0m \u001b[1;36m2\u001b[0m\u001b[1;33m:\u001b[0m\u001b[1;33m\u001b[0m\u001b[0m\n\u001b[0;32m     60\u001b[0m                 \u001b[0mimg\u001b[0m \u001b[1;33m=\u001b[0m \u001b[0mnp\u001b[0m\u001b[1;33m.\u001b[0m\u001b[0mload\u001b[0m\u001b[1;33m(\u001b[0m\u001b[0mjoin\u001b[0m\u001b[1;33m(\u001b[0m\u001b[0mC\u001b[0m\u001b[1;33m.\u001b[0m\u001b[0munaug_dir\u001b[0m\u001b[1;33m,\u001b[0m \u001b[0mlesion_id\u001b[0m \u001b[1;33m+\u001b[0m \u001b[1;34m\".npy\"\u001b[0m\u001b[1;33m)\u001b[0m\u001b[1;33m)\u001b[0m\u001b[1;33m\u001b[0m\u001b[0m\n",
      "\u001b[1;32m~\\AppData\\Local\\conda\\conda\\envs\\old-keras\\lib\\site-packages\\numpy\\lib\\npyio.py\u001b[0m in \u001b[0;36mload\u001b[1;34m(file, mmap_mode, allow_pickle, fix_imports, encoding)\u001b[0m\n\u001b[0;32m    370\u001b[0m     \u001b[0mown_fid\u001b[0m \u001b[1;33m=\u001b[0m \u001b[1;32mFalse\u001b[0m\u001b[1;33m\u001b[0m\u001b[0m\n\u001b[0;32m    371\u001b[0m     \u001b[1;32mif\u001b[0m \u001b[0misinstance\u001b[0m\u001b[1;33m(\u001b[0m\u001b[0mfile\u001b[0m\u001b[1;33m,\u001b[0m \u001b[0mbasestring\u001b[0m\u001b[1;33m)\u001b[0m\u001b[1;33m:\u001b[0m\u001b[1;33m\u001b[0m\u001b[0m\n\u001b[1;32m--> 372\u001b[1;33m         \u001b[0mfid\u001b[0m \u001b[1;33m=\u001b[0m \u001b[0mopen\u001b[0m\u001b[1;33m(\u001b[0m\u001b[0mfile\u001b[0m\u001b[1;33m,\u001b[0m \u001b[1;34m\"rb\"\u001b[0m\u001b[1;33m)\u001b[0m\u001b[1;33m\u001b[0m\u001b[0m\n\u001b[0m\u001b[0;32m    373\u001b[0m         \u001b[0mown_fid\u001b[0m \u001b[1;33m=\u001b[0m \u001b[1;32mTrue\u001b[0m\u001b[1;33m\u001b[0m\u001b[0m\n\u001b[0;32m    374\u001b[0m     \u001b[1;32melif\u001b[0m \u001b[0mis_pathlib_path\u001b[0m\u001b[1;33m(\u001b[0m\u001b[0mfile\u001b[0m\u001b[1;33m)\u001b[0m\u001b[1;33m:\u001b[0m\u001b[1;33m\u001b[0m\u001b[0m\n",
      "\u001b[1;31mFileNotFoundError\u001b[0m: [Errno 2] No such file or directory: 'E:\\\\LIRADS\\\\imgs\\\\rough_crops\\\\4262153_1.npy'"
     ]
    }
   ],
   "source": [
    "importlib.reload(vm)\n",
    "vm.plot_check(1,\"4262153_1\");"
   ]
  },
  {
   "cell_type": "code",
   "execution_count": 62,
   "metadata": {
    "ExecuteTime": {
     "end_time": "2018-06-14T16:18:51.658154Z",
     "start_time": "2018-06-14T16:18:03.021980Z"
    },
    "collapsed": true,
    "hidden": true
   },
   "outputs": [],
   "source": [
    "importlib.reload(vm)\n",
    "vm.save_seg_set(unaug=False, num_cores=2, overwrite=False)"
   ]
  },
  {
   "cell_type": "code",
   "execution_count": null,
   "metadata": {
    "collapsed": true,
    "hidden": true
   },
   "outputs": [],
   "source": []
  },
  {
   "cell_type": "markdown",
   "metadata": {
    "heading_collapsed": true
   },
   "source": [
    "### PSA"
   ]
  },
  {
   "cell_type": "code",
   "execution_count": 1,
   "metadata": {
    "ExecuteTime": {
     "end_time": "2018-06-04T20:56:07.454727Z",
     "start_time": "2018-06-04T20:56:07.451737Z"
    },
    "collapsed": true,
    "hidden": true
   },
   "outputs": [],
   "source": [
    "psa_xls = r\"Z:\\PSA_Sophie_Isa\\PSA_Sophie_Isa_Spreadsheet.xlsx\""
   ]
  },
  {
   "cell_type": "code",
   "execution_count": 55,
   "metadata": {
    "ExecuteTime": {
     "end_time": "2018-06-04T21:39:05.492117Z",
     "start_time": "2018-06-04T21:39:05.099763Z"
    },
    "collapsed": true,
    "hidden": true
   },
   "outputs": [],
   "source": [
    "modality = \"Y90\"\n",
    "df = pd.read_excel(psa_xls, sheetname=modality, header=1)\n",
    "Y = [str(int(mrn.strip()[-7:])) for mrn in df[\"MRN\"].values if mrn.startswith(\"JH\")]"
   ]
  },
  {
   "cell_type": "code",
   "execution_count": 33,
   "metadata": {
    "ExecuteTime": {
     "end_time": "2018-06-04T21:13:25.063327Z",
     "start_time": "2018-06-04T21:13:25.035402Z"
    },
    "collapsed": true,
    "hidden": true,
    "scrolled": true
   },
   "outputs": [],
   "source": [
    "os.makedirs(\"F:\\\\JHU HCCs\\\\\"+modality+\"\\\\00_OriginalData\")"
   ]
  },
  {
   "cell_type": "code",
   "execution_count": 49,
   "metadata": {
    "ExecuteTime": {
     "end_time": "2018-06-04T21:36:34.632515Z",
     "start_time": "2018-06-04T21:36:34.619550Z"
    },
    "collapsed": true,
    "hidden": true
   },
   "outputs": [],
   "source": [
    "for fn in glob.glob(\"F:\\\\JHU HCCs\\\\00_OriginalData\\\\*\"):\n",
    "    if basename(fn)[:6] in A:\n",
    "        os.rename(fn, join(\"F:\\\\JHU HCCs\\\\\"+modality+\"\\\\00_OriginalData\", basename(fn)))"
   ]
  },
  {
   "cell_type": "code",
   "execution_count": null,
   "metadata": {
    "ExecuteTime": {
     "end_time": "2018-06-04T20:57:16.410580Z",
     "start_time": "2018-06-04T20:57:16.378666Z"
    },
    "collapsed": true,
    "hidden": true
   },
   "outputs": [],
   "source": [
    "df[df[\"Imaging available\"]==\"No\"]"
   ]
  },
  {
   "cell_type": "code",
   "execution_count": null,
   "metadata": {
    "ExecuteTime": {
     "end_time": "2018-06-05T20:44:37.546718Z",
     "start_time": "2018-06-05T20:44:37.536745Z"
    },
    "collapsed": true,
    "hidden": true
   },
   "outputs": [],
   "source": [
    "for fn in os.listdir(r\"F:\\JHU HCCs\\Other\\pre_tace_root\"):\n",
    "    print(fn[:7].strip())"
   ]
  },
  {
   "cell_type": "code",
   "execution_count": 62,
   "metadata": {
    "ExecuteTime": {
     "end_time": "2018-06-05T17:30:39.905964Z",
     "start_time": "2018-06-05T17:30:39.899980Z"
    },
    "collapsed": true,
    "hidden": true
   },
   "outputs": [],
   "source": [
    "for fn in glob.glob(\"H:\\\\Missing Imaging\\\\*\"):\n",
    "    if basename(fn)[:7] in D:\n",
    "        shutil.move(fn, join(\"F:\\\\JHU HCCs\\\\DEB-TACE\\\\00_OriginalData\", basename(fn)))"
   ]
  },
  {
   "cell_type": "code",
   "execution_count": 2,
   "metadata": {
    "ExecuteTime": {
     "end_time": "2018-05-30T19:32:22.655938Z",
     "start_time": "2018-05-30T19:32:22.652946Z"
    },
    "collapsed": true,
    "hidden": true
   },
   "outputs": [],
   "source": [
    "base_dir = \"D:\\\\Etiology\\\\Imaging\""
   ]
  },
  {
   "cell_type": "code",
   "execution_count": 3,
   "metadata": {
    "ExecuteTime": {
     "end_time": "2018-05-30T19:32:22.672891Z",
     "start_time": "2018-05-30T19:32:22.668904Z"
    },
    "collapsed": true,
    "hidden": true
   },
   "outputs": [],
   "source": [
    "C = config.Config()"
   ]
  },
  {
   "cell_type": "code",
   "execution_count": null,
   "metadata": {
    "collapsed": true,
    "hidden": true
   },
   "outputs": [],
   "source": [
    "sm.save_segs()"
   ]
  },
  {
   "cell_type": "code",
   "execution_count": null,
   "metadata": {
    "ExecuteTime": {
     "end_time": "2018-05-30T20:14:31.933968Z",
     "start_time": "2018-05-30T20:08:09.655735Z"
    },
    "collapsed": true,
    "hidden": true
   },
   "outputs": [],
   "source": [
    "importlib.reload(drm)\n",
    "accnum_xls_path = r\"C:\\Users\\Clinton\\Box\\Rad-Etiology Correlation\\hklc_master.xlsx\"\n",
    "drm.build_coords_df(accnum_xls_path)"
   ]
  },
  {
   "cell_type": "code",
   "execution_count": 8,
   "metadata": {
    "ExecuteTime": {
     "end_time": "2018-05-28T22:15:00.543217Z",
     "start_time": "2018-05-28T22:15:00.538201Z"
    },
    "collapsed": true,
    "hidden": true
   },
   "outputs": [],
   "source": [
    "S = [fn for fn in glob.glob(join(C.full_img_dir, \"*.npy\")) if fn.endswith(\"seg.npy\")]"
   ]
  },
  {
   "cell_type": "code",
   "execution_count": 14,
   "metadata": {
    "ExecuteTime": {
     "end_time": "2018-05-28T22:16:34.821276Z",
     "start_time": "2018-05-28T22:16:30.586197Z"
    },
    "collapsed": true,
    "hidden": true
   },
   "outputs": [],
   "source": [
    "for fn in S:\n",
    "    #print(join(dirname(fn), basename(fn)[:-7]+\"tumorseg.npy\"))\n",
    "    os.rename(fn, join(dirname(fn), basename(fn)[:-7]+\"tumorseg.npy\"))"
   ]
  },
  {
   "cell_type": "code",
   "execution_count": 17,
   "metadata": {
    "ExecuteTime": {
     "end_time": "2018-05-08T04:04:56.682367Z",
     "start_time": "2018-05-08T03:56:21.004555Z"
    },
    "collapsed": true,
    "hidden": true
   },
   "outputs": [],
   "source": [
    "for fn in glob.glob(r\"D:\\Etiology\\Imaging\\*\\*20s*\"):\n",
    "    lesion_id = basename(dirname(fn))\n",
    "    lesion_id = lesion_id[:lesion_id.find(' ')]\n",
    "    targ_dir = join(r\"D:\\Etiology\\Imaging-Ordered\", lesion_id, \"20s\")\n",
    "    if not exists(targ_dir):\n",
    "        shutil.copytree(fn, targ_dir)"
   ]
  },
  {
   "cell_type": "code",
   "execution_count": null,
   "metadata": {
    "ExecuteTime": {
     "end_time": "2018-05-10T18:59:02.792519Z",
     "start_time": "2018-05-10T18:59:01.782221Z"
    },
    "collapsed": true,
    "hidden": true
   },
   "outputs": [],
   "source": [
    "lesions = []\n",
    "for fn in glob.glob(join(base_dir, \"*\", \"Segs\")):\n",
    "    les_dir = dirname(fn)\n",
    "    if exists(join(les_dir, \"20s\")) and exists(join(les_dir, \"70s\")) and exists(join(les_dir, \"3min\")):\n",
    "        lesions.append(basename(les_dir))"
   ]
  },
  {
   "cell_type": "code",
   "execution_count": null,
   "metadata": {
    "ExecuteTime": {
     "end_time": "2018-05-10T18:54:06.444801Z",
     "start_time": "2018-05-10T18:54:06.390504Z"
    },
    "collapsed": true,
    "hidden": true
   },
   "outputs": [],
   "source": [
    "pd.DataFrame(lesions).to_excel(\"D:\\\\test.xlsx\", index=False)"
   ]
  },
  {
   "cell_type": "code",
   "execution_count": null,
   "metadata": {
    "collapsed": true,
    "hidden": true
   },
   "outputs": [],
   "source": [
    "for fn in glob.glob(join(base_dir, \"*\", \"Segs\", \"liver\", \"*liver*.ids\")):\n",
    "    os.rename(fn, join(dirname(dirname(fn)), \"liver.off\"))"
   ]
  },
  {
   "cell_type": "code",
   "execution_count": null,
   "metadata": {
    "ExecuteTime": {
     "end_time": "2018-05-29T01:36:58.719497Z",
     "start_time": "2018-05-29T01:36:58.078706Z"
    },
    "collapsed": true,
    "hidden": true
   },
   "outputs": [],
   "source": [
    "for fn in glob.glob(join(base_dir, \"*\", \"Segs\", \"tumor_20s.ids\")):\n",
    "    lesion_id = fn[len(base_dir)+1 : fn.find(\"\\\\\", len(base_dir)+1)]\n",
    "    nii_path = join(dirname(dirname(fn)), \"nii_dir\", \"20s.nii.gz\")\n",
    "    npy_path = join(C.full_img_dir, lesion_id+\"_tumorseg.npy\")\n",
    "    if exists(nii_path):# and not exists(npy_path):\n",
    "        print(\".\",end=\"\")\n",
    "        M = masks.get_mask(fn, img_path=nii_path)\n",
    "        np.save(npy_path, M)"
   ]
  },
  {
   "cell_type": "code",
   "execution_count": 6,
   "metadata": {
    "ExecuteTime": {
     "end_time": "2018-05-30T18:15:46.385929Z",
     "start_time": "2018-05-30T18:15:46.215704Z"
    },
    "collapsed": true,
    "hidden": true
   },
   "outputs": [],
   "source": [
    "for fn in glob.glob(r\"F:\\PK CBCT\\*\\masks\\reg\"):\n",
    "    shutil.rmtree(fn)"
   ]
  },
  {
   "cell_type": "code",
   "execution_count": 37,
   "metadata": {
    "ExecuteTime": {
     "end_time": "2018-05-29T20:50:17.575836Z",
     "start_time": "2018-05-29T20:50:17.569852Z"
    },
    "hidden": true
   },
   "outputs": [
    {
     "data": {
      "text/plain": [
       "642"
      ]
     },
     "execution_count": 37,
     "metadata": {},
     "output_type": "execute_result"
    }
   ],
   "source": [
    "os.listdir(r\"D:\\Etiology\\Imaging\").index(accnum)"
   ]
  },
  {
   "cell_type": "code",
   "execution_count": 32,
   "metadata": {
    "ExecuteTime": {
     "end_time": "2018-05-29T20:31:36.130446Z",
     "start_time": "2018-05-29T18:22:37.840220Z"
    },
    "collapsed": true,
    "hidden": true
   },
   "outputs": [],
   "source": [
    "importlib.reload(sm)\n",
    "for accnum in os.listdir(r\"D:\\Etiology\\Imaging\"):\n",
    "    if not exists(join(r\"D:\\Etiology\\Imaging\", accnum, \"Segs\\\\tumor_20s.off\")):\n",
    "        continue\n",
    "    masks.off2ids(join(r\"D:\\Etiology\\Imaging\", accnum, \"Segs\\\\tumor_20s.off\"))\n",
    "    sm.save_segs([accnum])"
   ]
  },
  {
   "cell_type": "code",
   "execution_count": 20,
   "metadata": {
    "ExecuteTime": {
     "end_time": "2018-05-30T20:55:52.966425Z",
     "start_time": "2018-05-30T20:55:52.920572Z"
    },
    "hidden": true
   },
   "outputs": [
    {
     "data": {
      "text/plain": [
       "182"
      ]
     },
     "execution_count": 20,
     "metadata": {},
     "output_type": "execute_result"
    }
   ],
   "source": [
    "len(glob.glob(r\"D:\\Etiology\\OrigData\\*\\Pre_Ax_Gad*\"))"
   ]
  },
  {
   "cell_type": "code",
   "execution_count": null,
   "metadata": {
    "ExecuteTime": {
     "end_time": "2018-05-31T01:53:02.824801Z",
     "start_time": "2018-05-31T01:53:02.739494Z"
    },
    "collapsed": true,
    "hidden": true
   },
   "outputs": [],
   "source": [
    "for fn in glob.glob(r\"D:\\Etiology\\Imaging\\*\\T1_20s\"):\n",
    "    if not exists(join(dirname(fn), \"T1_pre\")) and not exists(join(dirname(fn), \"T1_multiphase\")):\n",
    "        print(fn)"
   ]
  },
  {
   "cell_type": "code",
   "execution_count": null,
   "metadata": {
    "ExecuteTime": {
     "end_time": "2018-05-30T23:19:25.965261Z",
     "start_time": "2018-05-30T23:19:25.931351Z"
    },
    "collapsed": true,
    "hidden": true
   },
   "outputs": [],
   "source": [
    "len(glob.glob(r\"D:\\Etiology\\Imaging\\*\\T1_pre\"))"
   ]
  },
  {
   "cell_type": "code",
   "execution_count": 78,
   "metadata": {
    "ExecuteTime": {
     "end_time": "2018-05-31T03:45:51.928964Z",
     "start_time": "2018-05-31T02:03:49.349514Z"
    },
    "collapsed": true,
    "hidden": true
   },
   "outputs": [],
   "source": [
    "for fn in glob.glob(r\"D:\\Etiology\\Imaging\\*\"):\n",
    "    lesion_id = basename(fn)\n",
    "    target_dir = join(\"F:\\\\HCCs\", lesion_id)\n",
    "    if not exists(target_dir):\n",
    "        shutil.copytree(fn, target_dir)"
   ]
  },
  {
   "cell_type": "code",
   "execution_count": null,
   "metadata": {
    "collapsed": true,
    "hidden": true
   },
   "outputs": [],
   "source": []
  },
  {
   "cell_type": "code",
   "execution_count": 77,
   "metadata": {
    "ExecuteTime": {
     "end_time": "2018-05-31T02:00:38.741272Z",
     "start_time": "2018-05-31T01:54:13.899264Z"
    },
    "collapsed": true,
    "hidden": true
   },
   "outputs": [],
   "source": [
    "for fn in glob.glob(r\"D:\\Etiology\\OrigData\\*\\*XV_MultiPhase_*0\"):\n",
    "    lesion_id = basename(dirname(fn))[:7]\n",
    "    if re.match(\"\\\\d\",lesion_id[-1]) is None:\n",
    "        lesion_id = lesion_id[:-1]\n",
    "    target_dir = join(base_dir, lesion_id, \"T1_pre\")\n",
    "    if not exists(target_dir):\n",
    "        shutil.copytree(fn, target_dir)"
   ]
  },
  {
   "cell_type": "code",
   "execution_count": null,
   "metadata": {
    "collapsed": true,
    "hidden": true
   },
   "outputs": [],
   "source": [
    "drm.dcm2npy(overwrite=True)"
   ]
  },
  {
   "cell_type": "code",
   "execution_count": 61,
   "metadata": {
    "ExecuteTime": {
     "end_time": "2018-05-29T23:24:42.350291Z",
     "start_time": "2018-05-29T23:24:32.693243Z"
    },
    "collapsed": true,
    "hidden": true
   },
   "outputs": [],
   "source": [
    "importlib.reload(drm)\n",
    "drm.dcm2npy(accnums=['5399031'], overwrite=True)"
   ]
  },
  {
   "cell_type": "code",
   "execution_count": null,
   "metadata": {
    "ExecuteTime": {
     "end_time": "2018-05-29T01:31:52.921103Z",
     "start_time": "2018-05-29T01:31:02.023052Z"
    },
    "collapsed": true,
    "hidden": true
   },
   "outputs": [],
   "source": [
    "for fn in glob.glob(join(base_dir, \"*\", \"Segs\", \"liver.off\")):\n",
    "    if not exists(join(dirname(fn), \"liver.ids\")):\n",
    "        print(\".\",end=\"\")\n",
    "        masks.off2ids(fn, num_tumors=1, R=[3,3,5], minVol=10)"
   ]
  },
  {
   "cell_type": "code",
   "execution_count": 28,
   "metadata": {
    "ExecuteTime": {
     "end_time": "2018-05-28T22:56:47.932134Z",
     "start_time": "2018-05-28T22:56:47.355049Z"
    },
    "collapsed": true,
    "hidden": true
   },
   "outputs": [],
   "source": [
    "for ext in [\".off\", \".ids\", \".ics\"]:\n",
    "    for fn in glob.glob(join(base_dir, \"*\", \"Segs\", \"*liver*\"+ext)):\n",
    "        new_name = join(dirname(fn), \"liver\"+ext)\n",
    "        if not exists(new_name):\n",
    "            os.rename(fn, new_name)\n",
    "        #lesion_id = fn[len(base_dir)+1 : fn.find(\"\\\\\", len(base_dir)+1)]"
   ]
  },
  {
   "cell_type": "code",
   "execution_count": 95,
   "metadata": {
    "ExecuteTime": {
     "end_time": "2018-05-09T19:16:57.202194Z",
     "start_time": "2018-05-09T19:16:57.159082Z"
    },
    "collapsed": true,
    "hidden": true,
    "scrolled": true
   },
   "outputs": [],
   "source": [
    "A = [basename(fn) for fn in glob.glob(r\"D:\\Etiology\\Imaging\\*\\Segs\\*.off\")]\n",
    "#list(A)[:50]\n",
    "A = set([a[a.find('_')+1:] for a in A])\n",
    "A = set([a[a.find(' ')+1:] for a in A])"
   ]
  },
  {
   "cell_type": "code",
   "execution_count": null,
   "metadata": {
    "collapsed": true,
    "hidden": true
   },
   "outputs": [],
   "source": []
  },
  {
   "cell_type": "code",
   "execution_count": 17,
   "metadata": {
    "ExecuteTime": {
     "end_time": "2018-05-08T16:31:46.822086Z",
     "start_time": "2018-05-08T16:31:46.262563Z"
    },
    "collapsed": true,
    "hidden": true,
    "scrolled": false
   },
   "outputs": [],
   "source": [
    "for fn in glob.glob(\"D:\\\\Etiology\\\\Imaging-Ordered\\\\*\\\\*\\\\.wbvTemp.out\"):\n",
    "    try:\n",
    "        os.remove(fn)\n",
    "    except Exception as e:\n",
    "        hf.handleRemoveReadonly(os.remove, fn, e)"
   ]
  },
  {
   "cell_type": "code",
   "execution_count": 55,
   "metadata": {
    "ExecuteTime": {
     "end_time": "2018-05-08T22:29:29.217525Z",
     "start_time": "2018-05-08T22:29:29.180424Z"
    },
    "hidden": true
   },
   "outputs": [
    {
     "data": {
      "text/plain": [
       "548"
      ]
     },
     "execution_count": 55,
     "metadata": {},
     "output_type": "execute_result"
    }
   ],
   "source": [
    "len([f for f in glob.glob(\"D:\\\\Etiology\\\\Imaging-Ordered\\\\*\\\\\"+ph)])"
   ]
  },
  {
   "cell_type": "code",
   "execution_count": 3,
   "metadata": {
    "ExecuteTime": {
     "end_time": "2018-05-09T03:25:41.202989Z",
     "start_time": "2018-05-09T03:25:41.160875Z"
    },
    "hidden": true,
    "scrolled": true
   },
   "outputs": [
    {
     "data": {
      "text/plain": [
       "483"
      ]
     },
     "execution_count": 3,
     "metadata": {},
     "output_type": "execute_result"
    }
   ],
   "source": [
    "[f for f in glob.glob(\"D:\\\\Etiology\\\\Imaging-Ordered\\\\*\\\\\"+ph)].index(fn)"
   ]
  },
  {
   "cell_type": "code",
   "execution_count": 4,
   "metadata": {
    "ExecuteTime": {
     "end_time": "2018-05-09T03:28:42.352720Z",
     "start_time": "2018-05-09T03:25:45.396886Z"
    },
    "collapsed": true,
    "hidden": true,
    "scrolled": true
   },
   "outputs": [],
   "source": [
    "ph = \"20s\"\n",
    "for fn in glob.glob(\"D:\\\\Etiology\\\\Imaging-Ordered\\\\*\\\\\"+ph)[484:]:\n",
    "    lesion_id = basename(dirname(fn))\n",
    "    nii_dir = join(dirname(fn), \"nii_dir\")\n",
    "    targ_dir = join(nii_dir, ph+\".nii.gz\")\n",
    "    if not exists(targ_dir):\n",
    "        if not exists(nii_dir):\n",
    "            os.makedirs(nii_dir)\n",
    "        I,D = hf.dcm_load(fn, True, True)\n",
    "        hf.save_nii(I, targ_dir, D)"
   ]
  },
  {
   "cell_type": "code",
   "execution_count": 7,
   "metadata": {
    "ExecuteTime": {
     "end_time": "2018-05-09T13:41:06.686650Z",
     "start_time": "2018-05-09T13:41:06.627477Z"
    },
    "collapsed": true,
    "hidden": true
   },
   "outputs": [],
   "source": [
    "lesions = [basename(dirname(dirname(fn))) for fn in glob.glob(\"D:\\\\Etiology\\\\Imaging\\\\*\\\\nii_dir\\\\20s.nii.gz\")]"
   ]
  },
  {
   "cell_type": "code",
   "execution_count": 18,
   "metadata": {
    "ExecuteTime": {
     "end_time": "2018-05-08T04:13:08.681646Z",
     "start_time": "2018-05-08T04:04:56.692502Z"
    },
    "collapsed": true,
    "hidden": true
   },
   "outputs": [],
   "source": [
    "img_dir = \"D:\\\\Etiology\\\\Imaging\\\\*\\\\\"\n",
    "for fn in glob.glob(img_dir+\"*70s*\") + glob.glob(img_dir+\"*Venous*\") + glob.glob(img_dir+\"Ph2*\") + glob.glob(img_dir+\"*70_s*\"):\n",
    "    lesion_id = basename(dirname(fn))\n",
    "    lesion_id = lesion_id[:lesion_id.find(' ')]\n",
    "    targ_dir = join(r\"D:\\Etiology\\Imaging-Ordered\", lesion_id, \"70s\")\n",
    "    if not exists(targ_dir):\n",
    "        shutil.copytree(fn, targ_dir)"
   ]
  },
  {
   "cell_type": "code",
   "execution_count": 19,
   "metadata": {
    "ExecuteTime": {
     "end_time": "2018-05-08T04:21:49.462114Z",
     "start_time": "2018-05-08T04:13:08.693542Z"
    },
    "collapsed": true,
    "hidden": true
   },
   "outputs": [],
   "source": [
    "img_dir = \"D:\\\\Etiology\\\\Imaging\\\\*\\\\\"\n",
    "for fn in glob.glob(img_dir+\"*3min*\") + glob.glob(img_dir+\"*Delay*\") + glob.glob(img_dir+\"*Equ*\") + glob.glob(img_dir+\"Ph3*\") + glob.glob(img_dir+\"*3_min*\"):\n",
    "    lesion_id = basename(dirname(fn))\n",
    "    lesion_id = lesion_id[:lesion_id.find(' ')]\n",
    "    targ_dir = join(r\"D:\\Etiology\\Imaging-Ordered\", lesion_id, \"3min\")\n",
    "    if not exists(targ_dir):\n",
    "        shutil.copytree(fn, targ_dir)"
   ]
  },
  {
   "cell_type": "markdown",
   "metadata": {
    "hidden": true
   },
   "source": [
    "img_dir = \"D:\\\\Etiology\\\\Imaging\\\\*\\\\\"\n",
    "for fn in glob.glob(img_dir+\"*20s*\") + glob.glob(img_dir+\"*Arter*\") + glob.glob(img_dir+\"Ph1*\") + glob.glob(img_dir+\"*20_s*\"):\n",
    "    lesion_id = basename(dirname(fn))\n",
    "    lesion_id = lesion_id[:lesion_id.find(' ')]\n",
    "    targ_dir = join(r\"D:\\Etiology\\Imaging-Ordered\", lesion_id, \"70s\")\n",
    "    if not exists(targ_dir):\n",
    "        shutil.copytree(fn, targ_dir)"
   ]
  },
  {
   "cell_type": "code",
   "execution_count": 69,
   "metadata": {
    "ExecuteTime": {
     "end_time": "2018-05-28T20:57:13.246093Z",
     "start_time": "2018-05-28T20:57:13.241079Z"
    },
    "collapsed": true,
    "hidden": true
   },
   "outputs": [],
   "source": [
    "import random"
   ]
  },
  {
   "cell_type": "code",
   "execution_count": 79,
   "metadata": {
    "ExecuteTime": {
     "end_time": "2018-05-28T21:04:56.478116Z",
     "start_time": "2018-05-28T21:04:56.473129Z"
    },
    "hidden": true
   },
   "outputs": [
    {
     "data": {
      "text/plain": [
       "[slice(None, None, 1), slice(None, None, 1), slice(None, None, 1)]"
      ]
     },
     "execution_count": 79,
     "metadata": {},
     "output_type": "execute_result"
    }
   ],
   "source": [
    "[slice(None, None, (-1)**(random.random() < .5)) for _ in range(3)]"
   ]
  },
  {
   "cell_type": "markdown",
   "metadata": {
    "heading_collapsed": true
   },
   "source": [
    "### Semiauto rename"
   ]
  },
  {
   "cell_type": "code",
   "execution_count": 7,
   "metadata": {
    "ExecuteTime": {
     "end_time": "2018-05-07T21:24:47.225834Z",
     "start_time": "2018-05-07T21:24:45.011868Z"
    },
    "collapsed": true,
    "hidden": true
   },
   "outputs": [],
   "source": [
    "for fn in glob.glob(r\"D:\\Etiology\\Imaging\\*\"):\n",
    "    DCE = [x for x in os.listdir(join(fn, mod)) if (\"vibe\" in x or \"post\" in x) and x.endswith('.gz')]\n",
    "    if len(DCE) > 0 and not exists(join(fn, mod, \"mr30_equ.nii.gz\")):\n",
    "        DCE = sort_by_series_num([x for x in DCE if \"min\" not in x])\n",
    "\n",
    "        print(fn, DCE[-1], DCE[0], sep=\"\\n\") #sort_by_series_num(PRE)[-1], \n",
    "        correct = input()\n",
    "        if correct == \"0\":\n",
    "            #os.rename(join(accnum, PRE[0]), join(accnum, \"T1_BL\"))\n",
    "            os.rename(join(fn, mod, DCE[-1]), join(fn, mod, \"mr30_equ.nii.gz\"))\n",
    "        elif correct == \"q\":\n",
    "            break\n",
    "        else:\n",
    "            continue"
   ]
  }
 ],
 "metadata": {
  "kernelspec": {
   "display_name": "Python 3",
   "language": "python",
   "name": "python3"
  },
  "language_info": {
   "codemirror_mode": {
    "name": "ipython",
    "version": 3
   },
   "file_extension": ".py",
   "mimetype": "text/x-python",
   "name": "python",
   "nbconvert_exporter": "python",
   "pygments_lexer": "ipython3",
   "version": "3.5.0"
  },
  "varInspector": {
   "cols": {
    "lenName": 16,
    "lenType": 16,
    "lenVar": 40
   },
   "kernels_config": {
    "python": {
     "delete_cmd_postfix": "",
     "delete_cmd_prefix": "del ",
     "library": "var_list.py",
     "varRefreshCmd": "print(var_dic_list())"
    },
    "r": {
     "delete_cmd_postfix": ") ",
     "delete_cmd_prefix": "rm(",
     "library": "var_list.r",
     "varRefreshCmd": "cat(var_dic_list()) "
    }
   },
   "types_to_exclude": [
    "module",
    "function",
    "builtin_function_or_method",
    "instance",
    "_Feature"
   ],
   "window_display": false
  }
 },
 "nbformat": 4,
 "nbformat_minor": 2
}
