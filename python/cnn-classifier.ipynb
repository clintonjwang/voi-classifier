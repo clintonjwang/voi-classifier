{
 "cells": [
  {
   "cell_type": "code",
   "execution_count": 4,
   "metadata": {
    "scrolled": false
   },
   "outputs": [],
   "source": [
    "from keras.models import Model\n",
    "import keras.models\n",
    "import keras.layers as layers\n",
    "from keras.optimizers import Adam\n",
    "from keras.callbacks import EarlyStopping\n",
    "from keras.utils import np_utils\n",
    "from sklearn.metrics import confusion_matrix, f1_score, accuracy_score\n",
    "from keras import backend as K\n",
    "from keras_contrib.layers.normalization import InstanceNormalization\n",
    "\n",
    "import argparse\n",
    "import capsulenet as cnet\n",
    "import cnn_analyzer as cnna\n",
    "import cnn_builder as cbuild\n",
    "import cnn_runner as crun\n",
    "import config\n",
    "import csv\n",
    "import niftiutils.helper_fxns as hf\n",
    "import importlib\n",
    "import matplotlib.pyplot as plt\n",
    "import numpy as np\n",
    "import operator\n",
    "import os\n",
    "import pandas as pd\n",
    "import random\n",
    "%matplotlib inline"
   ]
  },
  {
   "cell_type": "code",
   "execution_count": 2,
   "metadata": {
    "collapsed": true,
    "scrolled": true
   },
   "outputs": [],
   "source": [
    "importlib.reload(cnet)\n",
    "importlib.reload(config)\n",
    "importlib.reload(crun)\n",
    "importlib.reload(hf)\n",
    "importlib.reload(cbuild)\n",
    "C = config.Config()\n",
    "T = config.Hyperparams()\n",
    "T.get_best_hyperparams()"
   ]
  },
  {
   "cell_type": "code",
   "execution_count": 3,
   "metadata": {
    "collapsed": true
   },
   "outputs": [],
   "source": [
    "train_generator, (x_test, y_test), _ = cbuild.load_data_capsnet()\n",
    "(x_train, y_train), _ = next(train_generator)"
   ]
  },
  {
   "cell_type": "code",
   "execution_count": 22,
   "metadata": {
    "collapsed": true
   },
   "outputs": [],
   "source": [
    "parser = argparse.ArgumentParser()\n",
    "parser.add_argument('strings', metavar='STRING', nargs='*', help='String for searching')\n",
    "parser.add_argument('--epochs', default=50, type=int)\n",
    "parser.add_argument('--batch_size', default=2, type=int)\n",
    "parser.add_argument('--lr', default=0.001, type=float,\n",
    "                    help=\"Initial learning rate\")\n",
    "parser.add_argument('--lr_decay', default=0.9, type=float,\n",
    "                    help=\"The value multiplied by lr at each epoch. Set a larger value for larger epochs\")\n",
    "parser.add_argument('--lam_recon', default=0.392, type=float,\n",
    "                    help=\"The coefficient for the loss of decoder\")\n",
    "parser.add_argument('-r', '--routings', default=3, type=int,\n",
    "                    help=\"Number of iterations used in routing algorithm. should > 0\")\n",
    "#parser.add_argument('--shift_fraction', default=0.1, type=float,\n",
    "#                    help=\"Fraction of pixels to shift at most in each direction.\")\n",
    "parser.add_argument('--debug', action='store_true',\n",
    "                    help=\"Save weights by TensorBoard\")\n",
    "parser.add_argument('--save_dir', default='./result')\n",
    "parser.add_argument('-t', '--testing', action='store_true',\n",
    "                    help=\"Test the trained model on testing dataset\")\n",
    "parser.add_argument('--digit', default=5, type=int,\n",
    "                    help=\"Digit to manipulate\")\n",
    "parser.add_argument('-w', '--weights', default=None,\n",
    "                    help=\"The path of the saved weights. Should be specified when testing\")\n",
    "args = parser.parse_args('--epochs 50')# --lr 0.002 --lr_decay 0.87')"
   ]
  },
  {
   "cell_type": "code",
   "execution_count": null,
   "metadata": {
    "collapsed": true
   },
   "outputs": [],
   "source": [
    "importlib.reload(cnet)\n",
    "\n",
    "model, eval_model, manipulate_model = cnet.CapsNet(input_shape=x_train.shape[1:],\n",
    "                                              n_class=len(np.unique(np.argmax(y_train, 1))),\n",
    "                                              routings=args.routings)\n",
    "model.summary()"
   ]
  },
  {
   "cell_type": "code",
   "execution_count": 23,
   "metadata": {
    "scrolled": true
   },
   "outputs": [
    {
     "name": "stdout",
     "output_type": "stream",
     "text": [
      "Epoch 1/50\n",
      " 999/1000 [============================>.] - ETA: 0s - loss: 1.5805 - capsnet_loss: 1.5294 - decoder_loss: 0.1304 - capsnet_acc: 0.2913\n",
      "Epoch 00001: val_capsnet_acc improved from -inf to 0.51667, saving model to ./result/weights-01.h5\n",
      "1000/1000 [==============================] - 168s 168ms/step - loss: 1.5804 - capsnet_loss: 1.5293 - decoder_loss: 0.1304 - capsnet_acc: 0.2914 - val_loss: 1.3561 - val_capsnet_loss: 1.3127 - val_decoder_loss: 0.1108 - val_capsnet_acc: 0.5167\n",
      "Epoch 2/50\n",
      " 999/1000 [============================>.] - ETA: 0s - loss: 1.2966 - capsnet_loss: 1.2451 - decoder_loss: 0.1313 - capsnet_acc: 0.4774\n",
      "Epoch 00002: val_capsnet_acc improved from 0.51667 to 0.60000, saving model to ./result/weights-02.h5\n",
      "1000/1000 [==============================] - 161s 161ms/step - loss: 1.2964 - capsnet_loss: 1.2449 - decoder_loss: 0.1313 - capsnet_acc: 0.4775 - val_loss: 1.1146 - val_capsnet_loss: 1.0707 - val_decoder_loss: 0.1121 - val_capsnet_acc: 0.6000\n",
      "Epoch 3/50\n",
      " 999/1000 [============================>.] - ETA: 0s - loss: 1.0669 - capsnet_loss: 1.0184 - decoder_loss: 0.1237 - capsnet_acc: 0.6074\n",
      "Epoch 00003: val_capsnet_acc improved from 0.60000 to 0.68333, saving model to ./result/weights-03.h5\n",
      "1000/1000 [==============================] - 161s 161ms/step - loss: 1.0667 - capsnet_loss: 1.0183 - decoder_loss: 0.1237 - capsnet_acc: 0.6075 - val_loss: 0.8933 - val_capsnet_loss: 0.8506 - val_decoder_loss: 0.1089 - val_capsnet_acc: 0.6833\n",
      "Epoch 4/50\n",
      " 999/1000 [============================>.] - ETA: 0s - loss: 0.8702 - capsnet_loss: 0.8255 - decoder_loss: 0.1140 - capsnet_acc: 0.7189\n",
      "Epoch 00004: val_capsnet_acc improved from 0.68333 to 0.73333, saving model to ./result/weights-04.h5\n",
      "1000/1000 [==============================] - 161s 161ms/step - loss: 0.8702 - capsnet_loss: 0.8255 - decoder_loss: 0.1140 - capsnet_acc: 0.7190 - val_loss: 0.8597 - val_capsnet_loss: 0.8116 - val_decoder_loss: 0.1227 - val_capsnet_acc: 0.7333\n",
      "Epoch 5/50\n",
      " 999/1000 [============================>.] - ETA: 0s - loss: 0.7722 - capsnet_loss: 0.7297 - decoder_loss: 0.1085 - capsnet_acc: 0.7560\n",
      "Epoch 00005: val_capsnet_acc did not improve\n",
      "1000/1000 [==============================] - 161s 161ms/step - loss: 0.7721 - capsnet_loss: 0.7295 - decoder_loss: 0.1085 - capsnet_acc: 0.7562 - val_loss: 0.8253 - val_capsnet_loss: 0.7856 - val_decoder_loss: 0.1013 - val_capsnet_acc: 0.7333\n",
      "Epoch 6/50\n",
      " 999/1000 [============================>.] - ETA: 0s - loss: 0.6896 - capsnet_loss: 0.6496 - decoder_loss: 0.1019 - capsnet_acc: 0.7916\n",
      "Epoch 00006: val_capsnet_acc did not improve\n",
      "1000/1000 [==============================] - 161s 161ms/step - loss: 0.6895 - capsnet_loss: 0.6496 - decoder_loss: 0.1018 - capsnet_acc: 0.7918 - val_loss: 0.8205 - val_capsnet_loss: 0.7819 - val_decoder_loss: 0.0984 - val_capsnet_acc: 0.6500\n",
      "Epoch 7/50\n",
      " 999/1000 [============================>.] - ETA: 0s - loss: 0.6428 - capsnet_loss: 0.6031 - decoder_loss: 0.1013 - capsnet_acc: 0.8123\n",
      "Epoch 00007: val_capsnet_acc did not improve\n",
      "1000/1000 [==============================] - 161s 161ms/step - loss: 0.6431 - capsnet_loss: 0.6034 - decoder_loss: 0.1013 - capsnet_acc: 0.8122 - val_loss: 0.7903 - val_capsnet_loss: 0.7509 - val_decoder_loss: 0.1005 - val_capsnet_acc: 0.7167\n",
      "Epoch 8/50\n",
      " 999/1000 [============================>.] - ETA: 0s - loss: 0.5880 - capsnet_loss: 0.5501 - decoder_loss: 0.0968 - capsnet_acc: 0.8275\n",
      "Epoch 00008: val_capsnet_acc improved from 0.73333 to 0.73333, saving model to ./result/weights-08.h5\n",
      "1000/1000 [==============================] - 162s 162ms/step - loss: 0.5882 - capsnet_loss: 0.5502 - decoder_loss: 0.0968 - capsnet_acc: 0.8274 - val_loss: 0.7607 - val_capsnet_loss: 0.7222 - val_decoder_loss: 0.0984 - val_capsnet_acc: 0.7333\n",
      "Epoch 9/50\n",
      " 999/1000 [============================>.] - ETA: 0s - loss: 0.5505 - capsnet_loss: 0.5132 - decoder_loss: 0.0953 - capsnet_acc: 0.8363\n",
      "Epoch 00009: val_capsnet_acc did not improve\n",
      "1000/1000 [==============================] - 162s 162ms/step - loss: 0.5506 - capsnet_loss: 0.5133 - decoder_loss: 0.0952 - capsnet_acc: 0.8362 - val_loss: 0.8345 - val_capsnet_loss: 0.7978 - val_decoder_loss: 0.0938 - val_capsnet_acc: 0.7000\n",
      "Epoch 10/50\n",
      " 999/1000 [============================>.] - ETA: 0s - loss: 0.5101 - capsnet_loss: 0.4744 - decoder_loss: 0.0913 - capsnet_acc: 0.8539\n",
      "Epoch 00010: val_capsnet_acc improved from 0.73333 to 0.78333, saving model to ./result/weights-10.h5\n",
      "1000/1000 [==============================] - 162s 162ms/step - loss: 0.5101 - capsnet_loss: 0.4743 - decoder_loss: 0.0912 - capsnet_acc: 0.8540 - val_loss: 0.7265 - val_capsnet_loss: 0.6907 - val_decoder_loss: 0.0912 - val_capsnet_acc: 0.7833\n",
      "Epoch 11/50\n",
      " 999/1000 [============================>.] - ETA: 0s - loss: 0.4867 - capsnet_loss: 0.4510 - decoder_loss: 0.0911 - capsnet_acc: 0.8603\n",
      "Epoch 00011: val_capsnet_acc did not improve\n",
      "1000/1000 [==============================] - 163s 163ms/step - loss: 0.4866 - capsnet_loss: 0.4509 - decoder_loss: 0.0910 - capsnet_acc: 0.8603 - val_loss: 0.6995 - val_capsnet_loss: 0.6640 - val_decoder_loss: 0.0904 - val_capsnet_acc: 0.7667\n",
      "Epoch 12/50\n",
      " 999/1000 [============================>.] - ETA: 0s - loss: 0.4606 - capsnet_loss: 0.4262 - decoder_loss: 0.0876 - capsnet_acc: 0.8657\n",
      "Epoch 00012: val_capsnet_acc did not improve\n",
      "1000/1000 [==============================] - 163s 163ms/step - loss: 0.4605 - capsnet_loss: 0.4262 - decoder_loss: 0.0876 - capsnet_acc: 0.8657 - val_loss: 0.6708 - val_capsnet_loss: 0.6335 - val_decoder_loss: 0.0951 - val_capsnet_acc: 0.7500\n",
      "Epoch 13/50\n",
      " 999/1000 [============================>.] - ETA: 0s - loss: 0.4365 - capsnet_loss: 0.4023 - decoder_loss: 0.0871 - capsnet_acc: 0.8763\n",
      "Epoch 00013: val_capsnet_acc did not improve\n",
      "1000/1000 [==============================] - 162s 162ms/step - loss: 0.4364 - capsnet_loss: 0.4022 - decoder_loss: 0.0871 - capsnet_acc: 0.8763 - val_loss: 0.6816 - val_capsnet_loss: 0.6473 - val_decoder_loss: 0.0875 - val_capsnet_acc: 0.7667\n",
      "Epoch 14/50\n",
      " 999/1000 [============================>.] - ETA: 0s - loss: 0.4119 - capsnet_loss: 0.3781 - decoder_loss: 0.0861 - capsnet_acc: 0.8835\n",
      "Epoch 00014: val_capsnet_acc did not improve\n",
      "1000/1000 [==============================] - 162s 162ms/step - loss: 0.4120 - capsnet_loss: 0.3783 - decoder_loss: 0.0861 - capsnet_acc: 0.8834 - val_loss: 0.7479 - val_capsnet_loss: 0.7134 - val_decoder_loss: 0.0880 - val_capsnet_acc: 0.7667\n",
      "Epoch 15/50\n",
      " 999/1000 [============================>.] - ETA: 0s - loss: 0.3935 - capsnet_loss: 0.3608 - decoder_loss: 0.0834 - capsnet_acc: 0.8919\n",
      "Epoch 00015: val_capsnet_acc did not improve\n",
      "1000/1000 [==============================] - 162s 162ms/step - loss: 0.3935 - capsnet_loss: 0.3607 - decoder_loss: 0.0834 - capsnet_acc: 0.8920 - val_loss: 0.6844 - val_capsnet_loss: 0.6497 - val_decoder_loss: 0.0884 - val_capsnet_acc: 0.7833\n",
      "Epoch 16/50\n",
      " 999/1000 [============================>.] - ETA: 0s - loss: 0.3755 - capsnet_loss: 0.3421 - decoder_loss: 0.0853 - capsnet_acc: 0.9030\n",
      "Epoch 00016: val_capsnet_acc did not improve\n",
      "1000/1000 [==============================] - 161s 161ms/step - loss: 0.3756 - capsnet_loss: 0.3422 - decoder_loss: 0.0853 - capsnet_acc: 0.9028 - val_loss: 0.6184 - val_capsnet_loss: 0.5832 - val_decoder_loss: 0.0896 - val_capsnet_acc: 0.7667\n",
      "Epoch 17/50\n",
      " 999/1000 [============================>.] - ETA: 0s - loss: 0.3572 - capsnet_loss: 0.3248 - decoder_loss: 0.0827 - capsnet_acc: 0.9041\n",
      "Epoch 00017: val_capsnet_acc did not improve\n",
      "1000/1000 [==============================] - 162s 162ms/step - loss: 0.3572 - capsnet_loss: 0.3248 - decoder_loss: 0.0827 - capsnet_acc: 0.9041 - val_loss: 0.6462 - val_capsnet_loss: 0.6123 - val_decoder_loss: 0.0865 - val_capsnet_acc: 0.7667\n",
      "Epoch 18/50\n",
      " 999/1000 [============================>.] - ETA: 0s - loss: 0.3416 - capsnet_loss: 0.3098 - decoder_loss: 0.0811 - capsnet_acc: 0.9097\n",
      "Epoch 00018: val_capsnet_acc did not improve\n",
      "1000/1000 [==============================] - 162s 162ms/step - loss: 0.3415 - capsnet_loss: 0.3098 - decoder_loss: 0.0811 - capsnet_acc: 0.9098 - val_loss: 0.6294 - val_capsnet_loss: 0.5932 - val_decoder_loss: 0.0924 - val_capsnet_acc: 0.7500\n",
      "Epoch 19/50\n"
     ]
    },
    {
     "name": "stdout",
     "output_type": "stream",
     "text": [
      " 999/1000 [============================>.] - ETA: 0s - loss: 0.3360 - capsnet_loss: 0.3041 - decoder_loss: 0.0813 - capsnet_acc: 0.9134\n",
      "Epoch 00019: val_capsnet_acc improved from 0.78333 to 0.80000, saving model to ./result/weights-19.h5\n",
      "1000/1000 [==============================] - 162s 162ms/step - loss: 0.3359 - capsnet_loss: 0.3040 - decoder_loss: 0.0813 - capsnet_acc: 0.9135 - val_loss: 0.5535 - val_capsnet_loss: 0.5203 - val_decoder_loss: 0.0847 - val_capsnet_acc: 0.8000\n",
      "Epoch 20/50\n",
      " 999/1000 [============================>.] - ETA: 0s - loss: 0.3196 - capsnet_loss: 0.2884 - decoder_loss: 0.0796 - capsnet_acc: 0.9163\n",
      "Epoch 00020: val_capsnet_acc improved from 0.80000 to 0.81667, saving model to ./result/weights-20.h5\n",
      "1000/1000 [==============================] - 162s 162ms/step - loss: 0.3197 - capsnet_loss: 0.2885 - decoder_loss: 0.0796 - capsnet_acc: 0.9162 - val_loss: 0.6139 - val_capsnet_loss: 0.5811 - val_decoder_loss: 0.0837 - val_capsnet_acc: 0.8167\n",
      "Epoch 21/50\n",
      " 999/1000 [============================>.] - ETA: 0s - loss: 0.3080 - capsnet_loss: 0.2771 - decoder_loss: 0.0789 - capsnet_acc: 0.9215\n",
      "Epoch 00021: val_capsnet_acc did not improve\n",
      "1000/1000 [==============================] - 162s 162ms/step - loss: 0.3080 - capsnet_loss: 0.2771 - decoder_loss: 0.0789 - capsnet_acc: 0.9215 - val_loss: 0.5814 - val_capsnet_loss: 0.5481 - val_decoder_loss: 0.0851 - val_capsnet_acc: 0.8000\n",
      "Epoch 22/50\n",
      " 999/1000 [============================>.] - ETA: 0s - loss: 0.3035 - capsnet_loss: 0.2729 - decoder_loss: 0.0781 - capsnet_acc: 0.9233\n",
      "Epoch 00022: val_capsnet_acc improved from 0.81667 to 0.83333, saving model to ./result/weights-22.h5\n",
      "1000/1000 [==============================] - 163s 163ms/step - loss: 0.3034 - capsnet_loss: 0.2728 - decoder_loss: 0.0781 - capsnet_acc: 0.9233 - val_loss: 0.5698 - val_capsnet_loss: 0.5371 - val_decoder_loss: 0.0835 - val_capsnet_acc: 0.8333\n",
      "Epoch 23/50\n",
      " 999/1000 [============================>.] - ETA: 0s - loss: 0.2887 - capsnet_loss: 0.2586 - decoder_loss: 0.0770 - capsnet_acc: 0.9248\n",
      "Epoch 00023: val_capsnet_acc improved from 0.83333 to 0.85000, saving model to ./result/weights-23.h5\n",
      "1000/1000 [==============================] - 162s 162ms/step - loss: 0.2887 - capsnet_loss: 0.2585 - decoder_loss: 0.0770 - capsnet_acc: 0.9248 - val_loss: 0.6098 - val_capsnet_loss: 0.5756 - val_decoder_loss: 0.0874 - val_capsnet_acc: 0.8500\n",
      "Epoch 24/50\n",
      " 999/1000 [============================>.] - ETA: 0s - loss: 0.2856 - capsnet_loss: 0.2555 - decoder_loss: 0.0768 - capsnet_acc: 0.9305\n",
      "Epoch 00024: val_capsnet_acc did not improve\n",
      "1000/1000 [==============================] - 162s 162ms/step - loss: 0.2857 - capsnet_loss: 0.2555 - decoder_loss: 0.0768 - capsnet_acc: 0.9305 - val_loss: 0.5965 - val_capsnet_loss: 0.5640 - val_decoder_loss: 0.0830 - val_capsnet_acc: 0.7833\n",
      "Epoch 25/50\n",
      " 999/1000 [============================>.] - ETA: 0s - loss: 0.2776 - capsnet_loss: 0.2478 - decoder_loss: 0.0760 - capsnet_acc: 0.9341\n",
      "Epoch 00025: val_capsnet_acc did not improve\n",
      "1000/1000 [==============================] - 162s 162ms/step - loss: 0.2777 - capsnet_loss: 0.2479 - decoder_loss: 0.0760 - capsnet_acc: 0.9340 - val_loss: 0.5874 - val_capsnet_loss: 0.5550 - val_decoder_loss: 0.0826 - val_capsnet_acc: 0.8333\n",
      "Epoch 26/50\n",
      " 999/1000 [============================>.] - ETA: 0s - loss: 0.2712 - capsnet_loss: 0.2413 - decoder_loss: 0.0763 - capsnet_acc: 0.9363\n",
      "Epoch 00026: val_capsnet_acc did not improve\n",
      "1000/1000 [==============================] - 165s 165ms/step - loss: 0.2711 - capsnet_loss: 0.2412 - decoder_loss: 0.0763 - capsnet_acc: 0.9363 - val_loss: 0.5668 - val_capsnet_loss: 0.5319 - val_decoder_loss: 0.0891 - val_capsnet_acc: 0.8167\n",
      "Epoch 27/50\n",
      " 999/1000 [============================>.] - ETA: 0s - loss: 0.2693 - capsnet_loss: 0.2396 - decoder_loss: 0.0758 - capsnet_acc: 0.9351\n",
      "Epoch 00027: val_capsnet_acc did not improve\n",
      "1000/1000 [==============================] - 162s 162ms/step - loss: 0.2692 - capsnet_loss: 0.2395 - decoder_loss: 0.0758 - capsnet_acc: 0.9352 - val_loss: 0.6128 - val_capsnet_loss: 0.5806 - val_decoder_loss: 0.0822 - val_capsnet_acc: 0.8333\n",
      "Epoch 28/50\n",
      " 999/1000 [============================>.] - ETA: 0s - loss: 0.2584 - capsnet_loss: 0.2288 - decoder_loss: 0.0755 - capsnet_acc: 0.9383\n",
      "Epoch 00028: val_capsnet_acc did not improve\n",
      "1000/1000 [==============================] - 161s 161ms/step - loss: 0.2583 - capsnet_loss: 0.2287 - decoder_loss: 0.0755 - capsnet_acc: 0.9383 - val_loss: 0.6385 - val_capsnet_loss: 0.6058 - val_decoder_loss: 0.0833 - val_capsnet_acc: 0.7833\n",
      "Epoch 29/50\n",
      " 999/1000 [============================>.] - ETA: 0s - loss: 0.2609 - capsnet_loss: 0.2315 - decoder_loss: 0.0750 - capsnet_acc: 0.9389\n",
      "Epoch 00029: val_capsnet_acc did not improve\n",
      "1000/1000 [==============================] - 162s 162ms/step - loss: 0.2608 - capsnet_loss: 0.2314 - decoder_loss: 0.0750 - capsnet_acc: 0.9390 - val_loss: 0.6305 - val_capsnet_loss: 0.5982 - val_decoder_loss: 0.0825 - val_capsnet_acc: 0.7667\n",
      "Epoch 30/50\n",
      " 999/1000 [============================>.] - ETA: 0s - loss: 0.2468 - capsnet_loss: 0.2177 - decoder_loss: 0.0743 - capsnet_acc: 0.9436\n",
      "Epoch 00030: val_capsnet_acc did not improve\n",
      "1000/1000 [==============================] - 163s 163ms/step - loss: 0.2470 - capsnet_loss: 0.2179 - decoder_loss: 0.0743 - capsnet_acc: 0.9435 - val_loss: 0.5706 - val_capsnet_loss: 0.5386 - val_decoder_loss: 0.0815 - val_capsnet_acc: 0.8167\n",
      "Epoch 31/50\n",
      " 999/1000 [============================>.] - ETA: 0s - loss: 0.2453 - capsnet_loss: 0.2161 - decoder_loss: 0.0744 - capsnet_acc: 0.9429\n",
      "Epoch 00031: val_capsnet_acc did not improve\n",
      "1000/1000 [==============================] - 162s 162ms/step - loss: 0.2452 - capsnet_loss: 0.2160 - decoder_loss: 0.0744 - capsnet_acc: 0.9429 - val_loss: 0.5980 - val_capsnet_loss: 0.5665 - val_decoder_loss: 0.0802 - val_capsnet_acc: 0.8167\n",
      "Epoch 32/50\n",
      " 999/1000 [============================>.] - ETA: 0s - loss: 0.2372 - capsnet_loss: 0.2085 - decoder_loss: 0.0734 - capsnet_acc: 0.9485\n",
      "Epoch 00032: val_capsnet_acc did not improve\n",
      "1000/1000 [==============================] - 162s 162ms/step - loss: 0.2374 - capsnet_loss: 0.2086 - decoder_loss: 0.0734 - capsnet_acc: 0.9483 - val_loss: 0.6291 - val_capsnet_loss: 0.5968 - val_decoder_loss: 0.0822 - val_capsnet_acc: 0.7833\n",
      "Epoch 33/50\n",
      " 999/1000 [============================>.] - ETA: 0s - loss: 0.2427 - capsnet_loss: 0.2137 - decoder_loss: 0.0738 - capsnet_acc: 0.9455\n",
      "Epoch 00033: val_capsnet_acc did not improve\n",
      "1000/1000 [==============================] - 162s 162ms/step - loss: 0.2426 - capsnet_loss: 0.2137 - decoder_loss: 0.0738 - capsnet_acc: 0.9456 - val_loss: 0.6718 - val_capsnet_loss: 0.6402 - val_decoder_loss: 0.0805 - val_capsnet_acc: 0.7667\n",
      "Epoch 34/50\n",
      " 999/1000 [============================>.] - ETA: 0s - loss: 0.2368 - capsnet_loss: 0.2079 - decoder_loss: 0.0738 - capsnet_acc: 0.9473\n",
      "Epoch 00034: val_capsnet_acc did not improve\n",
      "1000/1000 [==============================] - 162s 162ms/step - loss: 0.2369 - capsnet_loss: 0.2079 - decoder_loss: 0.0738 - capsnet_acc: 0.9473 - val_loss: 0.6073 - val_capsnet_loss: 0.5754 - val_decoder_loss: 0.0814 - val_capsnet_acc: 0.8000\n",
      "Epoch 35/50\n",
      " 999/1000 [============================>.] - ETA: 0s - loss: 0.2282 - capsnet_loss: 0.1998 - decoder_loss: 0.0726 - capsnet_acc: 0.9493\n",
      "Epoch 00035: val_capsnet_acc did not improve\n",
      "1000/1000 [==============================] - 162s 162ms/step - loss: 0.2282 - capsnet_loss: 0.1997 - decoder_loss: 0.0726 - capsnet_acc: 0.9493 - val_loss: 0.6053 - val_capsnet_loss: 0.5739 - val_decoder_loss: 0.0802 - val_capsnet_acc: 0.8000\n",
      "Epoch 36/50\n",
      " 999/1000 [============================>.] - ETA: 0s - loss: 0.2250 - capsnet_loss: 0.1964 - decoder_loss: 0.0730 - capsnet_acc: 0.9511\n",
      "Epoch 00036: val_capsnet_acc did not improve\n",
      "1000/1000 [==============================] - 162s 162ms/step - loss: 0.2249 - capsnet_loss: 0.1963 - decoder_loss: 0.0730 - capsnet_acc: 0.9512 - val_loss: 0.5568 - val_capsnet_loss: 0.5252 - val_decoder_loss: 0.0806 - val_capsnet_acc: 0.8167\n",
      "Epoch 37/50\n"
     ]
    },
    {
     "name": "stdout",
     "output_type": "stream",
     "text": [
      " 999/1000 [============================>.] - ETA: 0s - loss: 0.2253 - capsnet_loss: 0.1969 - decoder_loss: 0.0724 - capsnet_acc: 0.9508\n",
      "Epoch 00037: val_capsnet_acc did not improve\n",
      "1000/1000 [==============================] - 162s 162ms/step - loss: 0.2252 - capsnet_loss: 0.1968 - decoder_loss: 0.0724 - capsnet_acc: 0.9508 - val_loss: 0.6188 - val_capsnet_loss: 0.5873 - val_decoder_loss: 0.0804 - val_capsnet_acc: 0.8167\n",
      "Epoch 38/50\n",
      " 999/1000 [============================>.] - ETA: 0s - loss: 0.2231 - capsnet_loss: 0.1948 - decoder_loss: 0.0723 - capsnet_acc: 0.9513\n",
      "Epoch 00038: val_capsnet_acc did not improve\n",
      "1000/1000 [==============================] - 161s 161ms/step - loss: 0.2232 - capsnet_loss: 0.1949 - decoder_loss: 0.0723 - capsnet_acc: 0.9513 - val_loss: 0.5908 - val_capsnet_loss: 0.5592 - val_decoder_loss: 0.0807 - val_capsnet_acc: 0.8333\n",
      "Epoch 39/50\n",
      " 999/1000 [============================>.] - ETA: 0s - loss: 0.2314 - capsnet_loss: 0.2029 - decoder_loss: 0.0727 - capsnet_acc: 0.9488\n",
      "Epoch 00039: val_capsnet_acc did not improve\n",
      "1000/1000 [==============================] - 162s 162ms/step - loss: 0.2317 - capsnet_loss: 0.2032 - decoder_loss: 0.0727 - capsnet_acc: 0.9486 - val_loss: 0.6051 - val_capsnet_loss: 0.5738 - val_decoder_loss: 0.0798 - val_capsnet_acc: 0.8167\n",
      "Epoch 40/50\n",
      " 999/1000 [============================>.] - ETA: 0s - loss: 0.2237 - capsnet_loss: 0.1951 - decoder_loss: 0.0730 - capsnet_acc: 0.9520\n",
      "Epoch 00040: val_capsnet_acc did not improve\n",
      "1000/1000 [==============================] - 162s 162ms/step - loss: 0.2237 - capsnet_loss: 0.1951 - decoder_loss: 0.0730 - capsnet_acc: 0.9520 - val_loss: 0.6420 - val_capsnet_loss: 0.6105 - val_decoder_loss: 0.0802 - val_capsnet_acc: 0.8333\n",
      "Epoch 41/50\n",
      " 999/1000 [============================>.] - ETA: 0s - loss: 0.2193 - capsnet_loss: 0.1908 - decoder_loss: 0.0729 - capsnet_acc: 0.9540\n",
      "Epoch 00041: val_capsnet_acc did not improve\n",
      "1000/1000 [==============================] - 162s 162ms/step - loss: 0.2192 - capsnet_loss: 0.1907 - decoder_loss: 0.0729 - capsnet_acc: 0.9541 - val_loss: 0.6175 - val_capsnet_loss: 0.5858 - val_decoder_loss: 0.0808 - val_capsnet_acc: 0.8167\n",
      "Epoch 42/50\n",
      " 999/1000 [============================>.] - ETA: 0s - loss: 0.2191 - capsnet_loss: 0.1911 - decoder_loss: 0.0715 - capsnet_acc: 0.9541\n",
      "Epoch 00042: val_capsnet_acc did not improve\n",
      "1000/1000 [==============================] - 163s 163ms/step - loss: 0.2190 - capsnet_loss: 0.1910 - decoder_loss: 0.0715 - capsnet_acc: 0.9542 - val_loss: 0.5861 - val_capsnet_loss: 0.5548 - val_decoder_loss: 0.0800 - val_capsnet_acc: 0.8500\n",
      "Epoch 43/50\n",
      " 999/1000 [============================>.] - ETA: 0s - loss: 0.2242 - capsnet_loss: 0.1957 - decoder_loss: 0.0727 - capsnet_acc: 0.9511\n",
      "Epoch 00043: val_capsnet_acc did not improve\n",
      "1000/1000 [==============================] - 162s 162ms/step - loss: 0.2243 - capsnet_loss: 0.1959 - decoder_loss: 0.0727 - capsnet_acc: 0.9510 - val_loss: 0.6059 - val_capsnet_loss: 0.5745 - val_decoder_loss: 0.0801 - val_capsnet_acc: 0.8000\n",
      "Epoch 44/50\n",
      " 999/1000 [============================>.] - ETA: 0s - loss: 0.2183 - capsnet_loss: 0.1901 - decoder_loss: 0.0720 - capsnet_acc: 0.9543\n",
      "Epoch 00044: val_capsnet_acc did not improve\n",
      "1000/1000 [==============================] - 162s 162ms/step - loss: 0.2184 - capsnet_loss: 0.1901 - decoder_loss: 0.0720 - capsnet_acc: 0.9543 - val_loss: 0.6274 - val_capsnet_loss: 0.5958 - val_decoder_loss: 0.0805 - val_capsnet_acc: 0.8167\n",
      "Epoch 45/50\n",
      " 999/1000 [============================>.] - ETA: 0s - loss: 0.2192 - capsnet_loss: 0.1911 - decoder_loss: 0.0718 - capsnet_acc: 0.9555\n",
      "Epoch 00045: val_capsnet_acc did not improve\n",
      "1000/1000 [==============================] - 162s 162ms/step - loss: 0.2192 - capsnet_loss: 0.1911 - decoder_loss: 0.0718 - capsnet_acc: 0.9555 - val_loss: 0.5969 - val_capsnet_loss: 0.5651 - val_decoder_loss: 0.0809 - val_capsnet_acc: 0.8333\n",
      "Epoch 46/50\n",
      " 999/1000 [============================>.] - ETA: 0s - loss: 0.2157 - capsnet_loss: 0.1875 - decoder_loss: 0.0718 - capsnet_acc: 0.9540\n",
      "Epoch 00046: val_capsnet_acc did not improve\n",
      "1000/1000 [==============================] - 162s 162ms/step - loss: 0.2156 - capsnet_loss: 0.1875 - decoder_loss: 0.0718 - capsnet_acc: 0.9540 - val_loss: 0.6240 - val_capsnet_loss: 0.5925 - val_decoder_loss: 0.0802 - val_capsnet_acc: 0.8167\n",
      "Epoch 47/50\n",
      " 999/1000 [============================>.] - ETA: 0s - loss: 0.2190 - capsnet_loss: 0.1907 - decoder_loss: 0.0720 - capsnet_acc: 0.9535\n",
      "Epoch 00047: val_capsnet_acc did not improve\n",
      "1000/1000 [==============================] - 162s 162ms/step - loss: 0.2190 - capsnet_loss: 0.1908 - decoder_loss: 0.0720 - capsnet_acc: 0.9534 - val_loss: 0.6181 - val_capsnet_loss: 0.5867 - val_decoder_loss: 0.0802 - val_capsnet_acc: 0.8167\n",
      "Epoch 48/50\n",
      " 999/1000 [============================>.] - ETA: 0s - loss: 0.2261 - capsnet_loss: 0.1978 - decoder_loss: 0.0721 - capsnet_acc: 0.9484\n",
      "Epoch 00048: val_capsnet_acc did not improve\n",
      "1000/1000 [==============================] - 162s 162ms/step - loss: 0.2260 - capsnet_loss: 0.1978 - decoder_loss: 0.0721 - capsnet_acc: 0.9485 - val_loss: 0.6060 - val_capsnet_loss: 0.5747 - val_decoder_loss: 0.0798 - val_capsnet_acc: 0.8167\n",
      "Epoch 49/50\n",
      " 999/1000 [============================>.] - ETA: 0s - loss: 0.2148 - capsnet_loss: 0.1867 - decoder_loss: 0.0716 - capsnet_acc: 0.9561\n",
      "Epoch 00049: val_capsnet_acc did not improve\n",
      "1000/1000 [==============================] - 162s 162ms/step - loss: 0.2147 - capsnet_loss: 0.1867 - decoder_loss: 0.0716 - capsnet_acc: 0.9562 - val_loss: 0.6026 - val_capsnet_loss: 0.5713 - val_decoder_loss: 0.0798 - val_capsnet_acc: 0.8167\n",
      "Epoch 50/50\n",
      " 999/1000 [============================>.] - ETA: 0s - loss: 0.2108 - capsnet_loss: 0.1830 - decoder_loss: 0.0710 - capsnet_acc: 0.9577\n",
      "Epoch 00050: val_capsnet_acc did not improve\n",
      "1000/1000 [==============================] - 162s 162ms/step - loss: 0.2108 - capsnet_loss: 0.1830 - decoder_loss: 0.0710 - capsnet_acc: 0.9577 - val_loss: 0.5975 - val_capsnet_loss: 0.5661 - val_decoder_loss: 0.0801 - val_capsnet_acc: 0.7833\n",
      "Trained model saved to './result/trained_model.h5'\n"
     ]
    },
    {
     "data": {
      "image/png": "[encoded data removed]",
      "text/plain": [
       "<matplotlib.figure.Figure at 0x208495c00b8>"
      ]
     },
     "metadata": {},
     "output_type": "display_data"
    },
    {
     "data": {
      "text/plain": [
       "<keras.engine.training.Model at 0x20825a227b8>"
      ]
     },
     "execution_count": 23,
     "metadata": {},
     "output_type": "execute_result"
    }
   ],
   "source": [
    "cnet.train(model=model, data=(train_generator, (x_test, y_test)), args=args)"
   ]
  },
  {
   "cell_type": "code",
   "execution_count": null,
   "metadata": {
    "collapsed": true
   },
   "outputs": [],
   "source": []
  },
  {
   "cell_type": "code",
   "execution_count": null,
   "metadata": {
    "collapsed": true
   },
   "outputs": [],
   "source": []
  },
  {
   "cell_type": "code",
   "execution_count": 24,
   "metadata": {
    "collapsed": true
   },
   "outputs": [],
   "source": [
    "model.save('E:\\\\trained_model2.h5')"
   ]
  },
  {
   "cell_type": "code",
   "execution_count": 27,
   "metadata": {
    "scrolled": true
   },
   "outputs": [
    {
     "name": "stdout",
     "output_type": "stream",
     "text": [
      "__________________________________________________________________________________________________\n",
      "Layer (type)                    Output Shape         Param #     Connected to                     \n",
      "==================================================================================================\n",
      "input_8 (InputLayer)            (None, 24, 24, 12, 3 0                                            \n",
      "__________________________________________________________________________________________________\n",
      "conv1 (Conv3D)                  (None, 17, 17, 5, 25 393472      input_8[0][0]                    \n",
      "__________________________________________________________________________________________________\n",
      "batch_normalization_7 (BatchNor (None, 17, 17, 5, 25 1024        conv1[0][0]                      \n",
      "__________________________________________________________________________________________________\n",
      "activation_6 (Activation)       (None, 17, 17, 5, 25 0           batch_normalization_7[0][0]      \n",
      "__________________________________________________________________________________________________\n",
      "primarycap_conv3d (Conv3D)      (None, 7, 7, 1, 128) 4096128     activation_6[0][0]               \n",
      "__________________________________________________________________________________________________\n",
      "primarycap_reshape (Reshape)    (None, 784, 8)       0           primarycap_conv3d[0][0]          \n",
      "__________________________________________________________________________________________________\n",
      "primarycap_squash (Lambda)      (None, 784, 8)       0           primarycap_reshape[0][0]         \n",
      "__________________________________________________________________________________________________\n",
      "digitcaps (CapsuleLayer)        (None, 6, 8)         301056      primarycap_squash[0][0]          \n",
      "__________________________________________________________________________________________________\n",
      "input_9 (InputLayer)            (None, 6)            0                                            \n",
      "__________________________________________________________________________________________________\n",
      "mask_8 (Mask)                   (None, 48)           0           digitcaps[0][0]                  \n",
      "                                                                 input_9[0][0]                    \n",
      "__________________________________________________________________________________________________\n",
      "capsnet (Length)                (None, 6)            0           digitcaps[0][0]                  \n",
      "__________________________________________________________________________________________________\n",
      "decoder (Sequential)            (None, 24, 24, 12, 3 12038723    mask_8[0][0]                     \n",
      "==================================================================================================\n",
      "Total params: 16,830,403\n",
      "Trainable params: 16,829,891\n",
      "Non-trainable params: 512\n",
      "__________________________________________________________________________________________________\n"
     ]
    }
   ],
   "source": [
    "#model = keras.models.load_model('E:\\\\trained_model2.h5')\n",
    "model.summary()"
   ]
  },
  {
   "cell_type": "code",
   "execution_count": 60,
   "metadata": {},
   "outputs": [
    {
     "name": "stderr",
     "output_type": "stream",
     "text": [
      "C:\\Users\\Clinton\\AppData\\Local\\conda\\conda\\envs\\old-keras\\lib\\site-packages\\keras\\models.py:255: UserWarning: No training configuration found in save file: the model was *not* compiled. Compile it manually.\n",
      "  warnings.warn('No training configuration found in save file: '\n"
     ]
    }
   ],
   "source": [
    "model = keras.models.load_model('E:\\\\trained_model2.h5')\n",
    "eval_model.load_weights('result2\\\\weights-35.h5')\n",
    "manipulate_model.load_weights('result2\\\\weights-35.h5')"
   ]
  },
  {
   "cell_type": "code",
   "execution_count": 51,
   "metadata": {
    "collapsed": true
   },
   "outputs": [],
   "source": [
    "model.load_weights('./result/weights-35.h5')"
   ]
  },
  {
   "cell_type": "code",
   "execution_count": null,
   "metadata": {
    "collapsed": true
   },
   "outputs": [],
   "source": [
    "C.classes_to_include"
   ]
  },
  {
   "cell_type": "code",
   "execution_count": null,
   "metadata": {
    "collapsed": true
   },
   "outputs": [],
   "source": [
    "importlib.reload(cnet)\n",
    "for i in range(6):\n",
    "    cnet.manipulate_latent(manipulate_model, (x_test, y_test), args, i, multislice=False)"
   ]
  },
  {
   "cell_type": "code",
   "execution_count": null,
   "metadata": {
    "collapsed": true
   },
   "outputs": [],
   "source": [
    "importlib.reload(cnet)\n",
    "cnet.test(model=eval_model, data=(x_test, y_test), args=args)"
   ]
  },
  {
   "cell_type": "code",
   "execution_count": 18,
   "metadata": {
    "collapsed": true
   },
   "outputs": [],
   "source": []
  },
  {
   "cell_type": "code",
   "execution_count": null,
   "metadata": {
    "collapsed": true
   },
   "outputs": [],
   "source": [
    "a = layers.Input([28,28,1])\n",
    "x = layers.Conv2D(4,kernel_size=9,strides=1)(a)\n",
    "x = layers.Conv2D(4,kernel_size=9,strides=2)(x)\n",
    "b = x\n",
    "model = Model(a,b)\n",
    "model.summary(150)"
   ]
  },
  {
   "cell_type": "code",
   "execution_count": 40,
   "metadata": {
    "scrolled": true
   },
   "outputs": [
    {
     "name": "stdout",
     "output_type": "stream",
     "text": [
      "____________________________________________________________________________________________________\n",
      "Layer (type)                                 Output Shape                            Param #        \n",
      "====================================================================================================\n",
      "input_51 (InputLayer)                        (None, 24, 24, 12, 3)                   0              \n",
      "____________________________________________________________________________________________________\n",
      "instance_normalization_3 (InstanceNormalizat (None, 24, 24, 12, 3)                   6              \n",
      "____________________________________________________________________________________________________\n",
      "flatten_10 (Flatten)                         (None, 20736)                           0              \n",
      "____________________________________________________________________________________________________\n",
      "dense_34 (Dense)                             (None, 128)                             2654336        \n",
      "____________________________________________________________________________________________________\n",
      "reshape_18 (Reshape)                         (None, 128, 1, 1, 1, 1)                 0              \n",
      "____________________________________________________________________________________________________\n",
      "time_distributed_23 (TimeDistributed)        (None, 128, 11, 11, 6, 64)              46528          \n",
      "____________________________________________________________________________________________________\n",
      "time_distributed_24 (TimeDistributed)        (None, 128, 24, 24, 12, 64)             131136         \n",
      "====================================================================================================\n",
      "Total params: 2,832,006\n",
      "Trainable params: 2,832,006\n",
      "Non-trainable params: 0\n",
      "____________________________________________________________________________________________________\n"
     ]
    }
   ],
   "source": [
    "a = layers.Input(shape=[24,24,12,3])\n",
    "x = InstanceNormalization(axis=4)(a)\n",
    "x = layers.Flatten()(x)\n",
    "x = layers.Dense(128)(x)\n",
    "x = layers.Reshape(target_shape=(128,1,1,1,1))(x)\n",
    "x = layers.TimeDistributed(layers.Conv3DTranspose(filters=64, kernel_size=[11,11,6], strides=1, padding='valid', activation='relu'))(x)\n",
    "x = layers.TimeDistributed(layers.Conv3DTranspose(filters=64, kernel_size=[4,4,2], strides=2, padding='valid', activation='relu'))(x)\n",
    "#x = layers.Reshape((3, 24, 24, 12))(x)\n",
    "#x = layers.Permute((2,3,4,1))(x)\n",
    "b = x\n",
    "model = Model(a,b)\n",
    "\n",
    "model.summary(100)"
   ]
  },
  {
   "cell_type": "code",
   "execution_count": null,
   "metadata": {
    "collapsed": true
   },
   "outputs": [],
   "source": []
  },
  {
   "cell_type": "code",
   "execution_count": null,
   "metadata": {
    "collapsed": true
   },
   "outputs": [],
   "source": []
  },
  {
   "cell_type": "markdown",
   "metadata": {},
   "source": [
    "C_list = [config.Config(), config.Config()]\n",
    "C_list[0].dims = [36,36,12]\n",
    "C_list[1].dims = [24,24,12]\n",
    "C_list[0].artif_dir = \"E:\\\\imgs\\\\artif_imgs_3612\\\\\"\n",
    "C_list[1].artif_dir = \"E:\\\\imgs\\\\artif_imgs_2412\\\\\"\n",
    "C_list[0].aug_dir = \"E:\\\\imgs\\\\aug_imgs_3612_cropint\\\\\"\n",
    "C_list[1].aug_dir = \"E:\\\\imgs\\\\aug_imgs_2412_cropint\\\\\"\n",
    "C_list[0].orig_dir = \"E:\\\\imgs\\\\orig_imgs_3612_cropint\\\\\"\n",
    "C_list[1].orig_dir = \"E:\\\\imgs\\\\orig_imgs_2412_cropint\\\\\""
   ]
  },
  {
   "cell_type": "code",
   "execution_count": 68,
   "metadata": {
    "collapsed": true
   },
   "outputs": [],
   "source": [
    "Z_reader = ['E103312835_1','12823036_0','12569915_0','E102093118_0','E102782525_0','12799652_0','E100894274_0','12874178_3','E100314676_0','12842070_0','13092836_2','12239783_0','12783467_0','13092966_0','E100962970_0','E100183257_1','E102634440_0','E106182827_0','12582632_0','E100121654_0','E100407633_0','E105310461_0','12788616_0','E101225606_0','12678910_1','E101083458_1','12324408_0','13031955_0','E101415263_0','E103192914_0','12888679_2','E106096969_0','E100192709_1','13112385_1','E100718398_0','12207268_0','E105244287_0','E102095465_0','E102613189_0','12961059_0','11907521_0','E105311123_0','12552705_0','E100610622_0','12975280_0','E105918926_0','E103020139_1','E101069048_1','E105427046_0','13028374_0','E100262351_0','12302576_0','12451831_0','E102929168_0','E100383453_0','E105344747_0','12569826_0','E100168661_0','12530153_0','E104697262_0']"
   ]
  },
  {
   "cell_type": "code",
   "execution_count": 76,
   "metadata": {},
   "outputs": [],
   "source": [
    "importlib.reload(cnet)\n",
    "importlib.reload(config)\n",
    "importlib.reload(hf)\n",
    "importlib.reload(cbuild)\n",
    "importlib.reload(crun)\n",
    "C = config.Config()\n",
    "T = config.Hyperparams()\n",
    "#T.steps_per_epoch = 50\n",
    "#T.epochs= 1\n",
    "#T.get_best_hyperparams()"
   ]
  },
  {
   "cell_type": "code",
   "execution_count": null,
   "metadata": {
    "collapsed": true
   },
   "outputs": [],
   "source": [
    "crun.run_fixed_hyperparams([C], hyperparams=T)#C_list)"
   ]
  },
  {
   "cell_type": "markdown",
   "metadata": {
    "collapsed": true
   },
   "source": [
    "orig_data_dict, num_samples = cbuild._collect_unaug_data()"
   ]
  },
  {
   "cell_type": "code",
   "execution_count": 77,
   "metadata": {
    "scrolled": true
   },
   "outputs": [
    {
     "name": "stdout",
     "output_type": "stream",
     "text": [
      "______________________________________________________________________________________________________________________________________________________\n",
      "Layer (type)                                                       Output Shape                                                Param #                \n",
      "======================================================================================================================================================\n",
      "input_46 (InputLayer)                                              (None, 24, 24, 12, 3)                                       0                      \n",
      "______________________________________________________________________________________________________________________________________________________\n",
      "reshape_41 (Reshape)                                               (None, 24, 24, 12, 3, 1)                                    0                      \n",
      "______________________________________________________________________________________________________________________________________________________\n",
      "permute_41 (Permute)                                               (None, 3, 24, 24, 12, 1)                                    0                      \n",
      "______________________________________________________________________________________________________________________________________________________\n",
      "time_distributed_544 (TimeDistributed)                             (None, 3, 24, 24, 12, 128)                                  4224                   \n",
      "______________________________________________________________________________________________________________________________________________________\n",
      "time_distributed_545 (TimeDistributed)                             (None, 3, 24, 24, 12, 128)                                  0                      \n",
      "______________________________________________________________________________________________________________________________________________________\n",
      "activation_178 (Activation)                                        (None, 3, 24, 24, 12, 128)                                  0                      \n",
      "______________________________________________________________________________________________________________________________________________________\n",
      "time_distributed_546 (TimeDistributed)                             (None, 3, 24, 24, 12, 128)                                  512                    \n",
      "______________________________________________________________________________________________________________________________________________________\n",
      "time_distributed_547 (TimeDistributed)                             (None, 3, 12, 12, 6, 128)                                   0                      \n",
      "______________________________________________________________________________________________________________________________________________________\n",
      "time_distributed_548 (TimeDistributed)                             (None, 3, 9, 9, 5, 128)                                     524416                 \n",
      "______________________________________________________________________________________________________________________________________________________\n",
      "time_distributed_549 (TimeDistributed)                             (None, 3, 9, 9, 5, 128)                                     0                      \n",
      "______________________________________________________________________________________________________________________________________________________\n",
      "activation_179 (Activation)                                        (None, 3, 9, 9, 5, 128)                                     0                      \n",
      "______________________________________________________________________________________________________________________________________________________\n",
      "time_distributed_550 (TimeDistributed)                             (None, 3, 9, 9, 5, 128)                                     512                    \n",
      "______________________________________________________________________________________________________________________________________________________\n",
      "time_distributed_551 (TimeDistributed)                             (None, 3, 6, 6, 4, 128)                                     524416                 \n",
      "______________________________________________________________________________________________________________________________________________________\n",
      "time_distributed_552 (TimeDistributed)                             (None, 3, 6, 6, 4, 128)                                     0                      \n",
      "______________________________________________________________________________________________________________________________________________________\n",
      "activation_180 (Activation)                                        (None, 3, 6, 6, 4, 128)                                     0                      \n",
      "______________________________________________________________________________________________________________________________________________________\n",
      "time_distributed_553 (TimeDistributed)                             (None, 3, 6, 6, 4, 128)                                     512                    \n",
      "______________________________________________________________________________________________________________________________________________________\n",
      "time_distributed_554 (TimeDistributed)                             (None, 3, 3, 3, 3, 128)                                     524416                 \n",
      "______________________________________________________________________________________________________________________________________________________\n",
      "time_distributed_555 (TimeDistributed)                             (None, 3, 3, 3, 3, 128)                                     0                      \n",
      "______________________________________________________________________________________________________________________________________________________\n",
      "activation_181 (Activation)                                        (None, 3, 3, 3, 3, 128)                                     0                      \n",
      "______________________________________________________________________________________________________________________________________________________\n",
      "time_distributed_556 (TimeDistributed)                             (None, 3, 3, 3, 3, 128)                                     512                    \n",
      "______________________________________________________________________________________________________________________________________________________\n",
      "time_distributed_557 (TimeDistributed)                             (None, 3, 3, 3, 3, 128)                                     0                      \n",
      "______________________________________________________________________________________________________________________________________________________\n",
      "time_distributed_558 (TimeDistributed)                             (None, 3, 3456)                                             0                      \n",
      "______________________________________________________________________________________________________________________________________________________\n",
      "simple_rnn_41 (SimpleRNN)                                          (None, 128)                                                 458880                 \n",
      "______________________________________________________________________________________________________________________________________________________\n",
      "batch_normalization_196 (BatchNormalization)                       (None, 128)                                                 512                    \n",
      "______________________________________________________________________________________________________________________________________________________\n",
      "dropout_185 (Dropout)                                              (None, 128)                                                 0                      \n",
      "______________________________________________________________________________________________________________________________________________________\n",
      "dense_33 (Dense)                                                   (None, 6)                                                   774                    \n",
      "======================================================================================================================================================\n",
      "Total params: 2,039,686\n",
      "Trainable params: 2,038,406\n",
      "Non-trainable params: 1,280\n",
      "______________________________________________________________________________________________________________________________________________________\n"
     ]
    }
   ],
   "source": [
    "model = cbuild.build_cnn_hyperparams(T)\n",
    "model.summary(line_length=150)"
   ]
  },
  {
   "cell_type": "code",
   "execution_count": 78,
   "metadata": {
    "scrolled": true
   },
   "outputs": [],
   "source": [
    "X_test, Y_test, train_generator, num_samples, train_orig, Z = cbuild.get_cnn_data(n=4, n_art=0)#, Z_test_fixed=Z_reader)\n",
    "Z_test, Z_train_orig = Z\n",
    "X_train_orig, Y_train_orig = train_orig"
   ]
  },
  {
   "cell_type": "code",
   "execution_count": 59,
   "metadata": {
    "collapsed": true
   },
   "outputs": [],
   "source": [
    "#from keras.utils import multi_gpu_model\n",
    "#model = multi_gpu_model(model, gpus=2)"
   ]
  },
  {
   "cell_type": "code",
   "execution_count": null,
   "metadata": {
    "collapsed": true
   },
   "outputs": [],
   "source": [
    "hist = model.fit_generator(train_generator, steps_per_epoch=T.steps_per_epoch, epochs=T.epochs, validation_data=[X_test, Y_test])#, callbacks=[T.early_stopping])"
   ]
  },
  {
   "cell_type": "code",
   "execution_count": 71,
   "metadata": {
    "collapsed": true
   },
   "outputs": [],
   "source": [
    "model.save('E:\\\\models\\\\model_reader_rcnn.hdf5')"
   ]
  },
  {
   "cell_type": "code",
   "execution_count": 72,
   "metadata": {
    "collapsed": true
   },
   "outputs": [],
   "source": [
    "import dr_methods as drm\n",
    "voi_df_art, voi_df_ven, voi_df_eq = drm.get_voi_dfs()\n",
    "small_voi_df = pd.read_csv(C.small_voi_path)"
   ]
  },
  {
   "cell_type": "code",
   "execution_count": 73,
   "metadata": {
    "scrolled": true
   },
   "outputs": [
    {
     "name": "stdout",
     "output_type": "stream",
     "text": [
      "0.916666666667\n",
      "0.933333333333\n"
     ]
    }
   ],
   "source": [
    "#plot_with_bbox(fn_list[2], cls_mapping[wrong_guesses[2]])\n",
    "Y_pred = model.predict(X_test)\n",
    "y_true = np.array([max(enumerate(x), key=operator.itemgetter(1))[0] for x in Y_test])\n",
    "y_pred = np.array([max(enumerate(x), key=operator.itemgetter(1))[0] for x in Y_pred])\n",
    "\n",
    "cm = confusion_matrix(y_true, y_pred)\n",
    "f1 = f1_score(y_true, y_pred, average=\"weighted\")\n",
    "\n",
    "#save_output(Z_test, y_pred, y_true)\n",
    "\n",
    "print(accuracy_score(y_true, y_pred))\n",
    "y_true_simp, y_pred_simp, _ = cbuild.merge_classes(y_true, y_pred)\n",
    "print(accuracy_score(y_true_simp, y_pred_simp))"
   ]
  },
  {
   "cell_type": "code",
   "execution_count": 205,
   "metadata": {
    "collapsed": true
   },
   "outputs": [],
   "source": [
    "acc6cls = []\n",
    "acc3cls = []"
   ]
  },
  {
   "cell_type": "code",
   "execution_count": 64,
   "metadata": {
    "collapsed": true
   },
   "outputs": [],
   "source": [
    "model = keras.models.load_model(os.path.join(C.model_dir, \"models_305.hdf5\")) #models_305"
   ]
  },
  {
   "cell_type": "code",
   "execution_count": 344,
   "metadata": {
    "scrolled": false
   },
   "outputs": [
    {
     "data": {
      "text/plain": [
       "<module 'cnn_builder' from 'C:\\\\Users\\\\Clinton\\\\Documents\\\\voi-classifier\\\\python\\\\cnn_builder.py'>"
      ]
     },
     "execution_count": 344,
     "metadata": {},
     "output_type": "execute_result"
    }
   ],
   "source": [
    "importlib.reload(cbuild)"
   ]
  },
  {
   "cell_type": "code",
   "execution_count": 345,
   "metadata": {
    "collapsed": true
   },
   "outputs": [],
   "source": [
    "X_test, Y_test, train_generator, num_samples, train_orig, Z = cbuild.get_cnn_data(n=4, n_art=0, Z_test_fixed=Z_reader)\n",
    "Z_test, Z_train_orig = Z"
   ]
  },
  {
   "cell_type": "code",
   "execution_count": 31,
   "metadata": {
    "collapsed": true
   },
   "outputs": [],
   "source": [
    "Y_pred = model.predict(X_test)\n",
    "y_true = np.array([max(enumerate(x), key=operator.itemgetter(1))[0] for x in Y_test])\n",
    "y_pred = np.array([max(enumerate(x), key=operator.itemgetter(1))[0] for x in Y_pred])\n",
    "y_true_simp, y_pred_simp, _ = cbuild.merge_classes(y_true, y_pred)"
   ]
  },
  {
   "cell_type": "code",
   "execution_count": 13,
   "metadata": {},
   "outputs": [
    {
     "data": {
      "text/plain": [
       "0.90000000000000002"
      ]
     },
     "execution_count": 13,
     "metadata": {},
     "output_type": "execute_result"
    }
   ],
   "source": [
    "accuracy_score(y_pred,y_true)"
   ]
  },
  {
   "cell_type": "code",
   "execution_count": 12,
   "metadata": {
    "scrolled": false
   },
   "outputs": [
    {
     "data": {
      "text/plain": [
       "array(['E100610622_0', 'E100314676_0', '13112385_1', 'E100718398_0',\n",
       "       '12530153_0', '12451831_0', '12569826_0', '13028374_0',\n",
       "       '12207268_0', '12302576_0', '12324408_0', '12888679_2',\n",
       "       '12961059_0', '12975280_0', 'E100183257_1', 'E100962970_0',\n",
       "       'E101083458_1', 'E103312835_1', 'E104697262_0', 'E105311123_0',\n",
       "       'E102782525_0', 'E101415263_0', 'E100192709_1', 'E103192914_0',\n",
       "       'E100383453_0', '12552705_0', 'E105244287_0', 'E105918926_0',\n",
       "       'E106182827_0', '13092836_2', '12582632_0', 'E103020139_1',\n",
       "       '12569915_0', 'E102093118_0', 'E102929168_0', 'E102634440_0',\n",
       "       'E105310461_0', 'E105427046_0', 'E102613189_0', 'E102095465_0',\n",
       "       'E100262351_0', 'E106096969_0', 'E101225606_0', 'E101069048_1',\n",
       "       'E105344747_0', 'E100407633_0', '13092966_0', '12783467_0',\n",
       "       '13031955_0', 'E100894274_0', '12874178_3', '12239783_0',\n",
       "       '12788616_0', '11907521_0', '12823036_0', '12842070_0',\n",
       "       'E100168661_0', 'E100121654_0', '12678910_1', '12799652_0'],\n",
       "      dtype='<U12')"
      ]
     },
     "execution_count": 12,
     "metadata": {},
     "output_type": "execute_result"
    }
   ],
   "source": [
    "Z_test"
   ]
  },
  {
   "cell_type": "code",
   "execution_count": 312,
   "metadata": {
    "collapsed": true
   },
   "outputs": [],
   "source": [
    "X_test, Y_test, train_generator, num_samples, train_orig, Z = cbuild.get_cnn_data(n=4, n_art=0, Z_test=Z_reader)\n",
    "Z_test, Z_train_orig = Z\n",
    "Y_pred = model.predict(X_test)\n",
    "y_true = np.array([max(enumerate(x), key=operator.itemgetter(1))[0] for x in Y_test])\n",
    "y_pred = np.array([max(enumerate(x), key=operator.itemgetter(1))[0] for x in Y_pred])\n",
    "y_true_simp, y_pred_simp, _ = cbuild.merge_classes(y_true, y_pred)"
   ]
  },
  {
   "cell_type": "code",
   "execution_count": 42,
   "metadata": {
    "collapsed": true
   },
   "outputs": [],
   "source": [
    "Y_pred = [C.classes_to_include[y] for y in y_pred]\n",
    "Y_true = [C.classes_to_include[y] for y in y_true]"
   ]
  },
  {
   "cell_type": "code",
   "execution_count": 43,
   "metadata": {
    "collapsed": true
   },
   "outputs": [],
   "source": [
    "a = pd.DataFrame([Z_test,Y_pred,Y_true])"
   ]
  },
  {
   "cell_type": "code",
   "execution_count": 45,
   "metadata": {
    "collapsed": true,
    "scrolled": true
   },
   "outputs": [],
   "source": [
    "a.to_csv('E:\\\\hi.csv')"
   ]
  },
  {
   "cell_type": "code",
   "execution_count": null,
   "metadata": {
    "collapsed": true
   },
   "outputs": [],
   "source": []
  },
  {
   "cell_type": "code",
   "execution_count": 221,
   "metadata": {
    "collapsed": true
   },
   "outputs": [],
   "source": [
    "for i in range(19):\n",
    "    model_num = 306+i\n",
    "    X_test, Y_test, train_generator, num_samples, train_orig, Z = cbuild.get_cnn_data(n=4, n_art=0, Z_test=df[df['model_num'] == model_num][\"z_test\"])\n",
    "    X_train_orig, Y_train_orig = train_orig\n",
    "    model = keras.models.load_model(os.path.join(C.model_dir, \"models_%d.hdf5\" % model_num)) #models_305\n",
    "    \n",
    "    Y_pred = model.predict(X_train_orig)\n",
    "    y_true = np.array([max(enumerate(x), key=operator.itemgetter(1))[0] for x in Y_train_orig])\n",
    "    y_pred = np.array([max(enumerate(x), key=operator.itemgetter(1))[0] for x in Y_pred])\n",
    "\n",
    "    acc6cls.append(accuracy_score(y_true, y_pred))\n",
    "\n",
    "    y_true_simp, y_pred_simp, _ = cbuild.merge_classes(y_true, y_pred)\n",
    "\n",
    "    acc3cls.append(accuracy_score(y_true_simp, y_pred_simp))"
   ]
  },
  {
   "cell_type": "code",
   "execution_count": 22,
   "metadata": {
    "collapsed": true
   },
   "outputs": [],
   "source": [
    "df = pd.read_excel(\"Z:\\\\Inter-reader study\\\\Answer key.xlsx\")"
   ]
  },
  {
   "cell_type": "code",
   "execution_count": 23,
   "metadata": {
    "collapsed": true,
    "scrolled": true
   },
   "outputs": [],
   "source": [
    "y_true = df[\"Class\"].values\n",
    "y_pred = df[\"Model\"].values"
   ]
  },
  {
   "cell_type": "code",
   "execution_count": 24,
   "metadata": {
    "collapsed": true
   },
   "outputs": [],
   "source": [
    "cm = confusion_matrix(y_true, y_pred, labels=C.classes_to_include)"
   ]
  },
  {
   "cell_type": "code",
   "execution_count": 46,
   "metadata": {
    "scrolled": false
   },
   "outputs": [
    {
     "name": "stdout",
     "output_type": "stream",
     "text": [
      "10\t0\t1\t0\t0\t1\n",
      "0\t9\t1\t0\t0\t0\n",
      "0\t1\t8\t0\t0\t0\n",
      "0\t0\t0\t10\t0\t0\n",
      "0\t0\t0\t0\t9\t0\n",
      "0\t0\t0\t0\t1\t9\n"
     ]
    }
   ],
   "source": [
    "for i in range(len(cm)):\n",
    "    print('\\t'.join(cm[:,i].astype(str)))"
   ]
  },
  {
   "cell_type": "code",
   "execution_count": 72,
   "metadata": {
    "collapsed": true
   },
   "outputs": [],
   "source": [
    "fn_list = fn_list + list(Z_test[~np.equal(y_pred, y_true)])"
   ]
  },
  {
   "cell_type": "code",
   "execution_count": 74,
   "metadata": {
    "collapsed": true
   },
   "outputs": [],
   "source": [
    "fn_list = fn_list + list(Z_train_orig[~np.equal(y_pred, y_true)])\n",
    "fn_list = fn_list + list(Z_train_orig[~np.equal(y_pred, y_true)])"
   ]
  },
  {
   "cell_type": "code",
   "execution_count": 75,
   "metadata": {
    "collapsed": true
   },
   "outputs": [],
   "source": [
    "fn_x_list = [x+\"(\"+str(voi_df_art[voi_df_art[\"id\"] == x[:-4]][\"x1\"].values[0])+\")\" for x in fn_list]"
   ]
  },
  {
   "cell_type": "code",
   "execution_count": 76,
   "metadata": {
    "collapsed": true
   },
   "outputs": [],
   "source": [
    "unique, counts = np.unique(fn_x_list, return_counts=True)"
   ]
  },
  {
   "cell_type": "code",
   "execution_count": null,
   "metadata": {
    "collapsed": true
   },
   "outputs": [],
   "source": [
    "dict(zip(unique, counts))"
   ]
  },
  {
   "cell_type": "code",
   "execution_count": 195,
   "metadata": {
    "collapsed": true
   },
   "outputs": [],
   "source": [
    "Y_pred = model.predict(X_train_orig)\n",
    "y_true = np.array([max(enumerate(x), key=operator.itemgetter(1))[0] for x in Y_train_orig])\n",
    "y_pred = np.array([max(enumerate(x), key=operator.itemgetter(1))[0] for x in Y_pred])\n",
    "\n",
    "cm = confusion_matrix(y_true, y_pred)\n",
    "f1 = f1_score(y_true, y_pred, average=\"weighted\")\n",
    "\n",
    "#cbuild.save_output(Z_train_orig, y_pred, y_true)#, save_dir=C.output_img_dir+\"\\\\training\")"
   ]
  },
  {
   "cell_type": "code",
   "execution_count": 92,
   "metadata": {
    "collapsed": true
   },
   "outputs": [],
   "source": [
    "model = keras.models.load_model(os.path.join(C.model_dir, \"models_305.hdf5\")) #models_305\n",
    "#cnna.visualize_layer(model, 'conv3d_148')"
   ]
  },
  {
   "cell_type": "code",
   "execution_count": null,
   "metadata": {
    "collapsed": true
   },
   "outputs": [],
   "source": [
    "model.summary()"
   ]
  },
  {
   "cell_type": "code",
   "execution_count": 95,
   "metadata": {},
   "outputs": [
    {
     "data": {
      "text/plain": [
       "<module 'cnn_builder' from 'C:\\\\Users\\\\Clinton\\\\Documents\\\\voi-classifier\\\\python\\\\cnn_builder.py'>"
      ]
     },
     "execution_count": 95,
     "metadata": {},
     "output_type": "execute_result"
    }
   ],
   "source": [
    "importlib.reload(cbuild)"
   ]
  },
  {
   "cell_type": "code",
   "execution_count": 96,
   "metadata": {
    "scrolled": true
   },
   "outputs": [],
   "source": [
    "model_dense_outputs = cbuild.build_pretrain_model(model)"
   ]
  },
  {
   "cell_type": "code",
   "execution_count": null,
   "metadata": {
    "collapsed": true
   },
   "outputs": [],
   "source": []
  },
  {
   "cell_type": "code",
   "execution_count": 97,
   "metadata": {
    "collapsed": true
   },
   "outputs": [],
   "source": [
    "orig_data_dict, num_samples = cbuild._collect_unaug_data()"
   ]
  },
  {
   "cell_type": "code",
   "execution_count": 98,
   "metadata": {
    "collapsed": true
   },
   "outputs": [],
   "source": [
    "filter_results = {cls: model_dense_outputs.predict(orig_data_dict[cls][0], verbose=False) for cls in C.classes_to_include}\n",
    "\n",
    "filter_avgs = np.concatenate([filter_results[cls] for cls in C.classes_to_include], axis=0)\n",
    "filter_avgs = np.mean(filter_avgs, axis=0)\n",
    "\n",
    "filter_cls_avg_unscaled = {cls: np.mean(filter_results[cls], axis=0) for cls in C.classes_to_include}\n",
    "filter_cls_avg_scaled = {cls: np.mean(filter_results[cls], axis=0) / filter_avgs for cls in C.classes_to_include}"
   ]
  },
  {
   "cell_type": "code",
   "execution_count": 115,
   "metadata": {
    "collapsed": true
   },
   "outputs": [],
   "source": [
    "with open('E:\\\\filters.csv', 'w', newline='') as csvfile:\n",
    "    header = ['filter_num'] + C.classes_to_include\n",
    "    writer = csv.writer(csvfile)\n",
    "    writer.writerow(header)\n",
    "    for f_num in range(100):\n",
    "        writer.writerow([f_num] + [filter_cls_avg_scaled[cls][f_num] for cls in C.classes_to_include])"
   ]
  },
  {
   "cell_type": "code",
   "execution_count": null,
   "metadata": {
    "collapsed": true
   },
   "outputs": [],
   "source": []
  },
  {
   "cell_type": "code",
   "execution_count": 224,
   "metadata": {},
   "outputs": [
    {
     "data": {
      "text/plain": [
       "137"
      ]
     },
     "execution_count": 224,
     "metadata": {},
     "output_type": "execute_result"
    }
   ],
   "source": [
    "len(hf.flatten([list(feature_sheet[\"evidence1\"+cls].dropna().values) for cls in C.classes_to_include]))"
   ]
  },
  {
   "cell_type": "code",
   "execution_count": 101,
   "metadata": {
    "collapsed": true,
    "scrolled": true
   },
   "outputs": [],
   "source": [
    "feature_sheet = pd.read_excel(C.xls_name, \"Descriptions\")\n",
    "\n",
    "features_by_cls = {}\n",
    "feat_count = {}\n",
    "for cls in C.classes_to_include:\n",
    "    features_by_cls[cls] = list(feature_sheet[\"evidence1\"+cls].dropna().values)\n",
    "    features_by_cls[cls] = features_by_cls[cls] + list(feature_sheet[\"evidence2\"+cls].dropna().values)\n",
    "#all_features = list(set([f for cls in features for f in features[cls]]))\n",
    "\n",
    "feat_count = dict(zip(*np.unique([f for cls in features_by_cls for f in features_by_cls[cls]], return_counts=True)))\n",
    "all_features = list(feat_count.keys())\n",
    "#for cls in C.classes_to_include:\n",
    "#    features_by_cls[cls] = list(set(features_by_cls[cls]))\n",
    "\n",
    "cls_features = {f: [c for c in C.classes_to_include if f in features_by_cls[c]] for f in all_features}"
   ]
  },
  {
   "cell_type": "code",
   "execution_count": 237,
   "metadata": {},
   "outputs": [
    {
     "name": "stdout",
     "output_type": "stream",
     "text": [
      "continuous enhancing rim (5)\n",
      "progressive or concentric enhancement (5)\n",
      "regular spherical hypointense mass (5)\n"
     ]
    }
   ],
   "source": [
    "z = dict(zip(*np.unique(features_by_cls['colorectal'], return_counts=True)))\n",
    "for k in z:\n",
    "    print(k, \" (\",z[k],\")\", sep=\"\")"
   ]
  },
  {
   "cell_type": "code",
   "execution_count": 102,
   "metadata": {
    "scrolled": false
   },
   "outputs": [
    {
     "data": {
      "text/plain": [
       "{'arterial enhancement': 10,\n",
       " 'central scar': 5,\n",
       " 'continuous enhancing rim': 10,\n",
       " 'delayed isointensity': 10,\n",
       " 'heterogeneous': 10,\n",
       " 'hyperintense mass on delayed phase': 10,\n",
       " 'hypointense without enhancement': 10,\n",
       " 'infiltrative': 10,\n",
       " 'lobulated margins': 10,\n",
       " 'nodular or discontinuous enhancement': 10,\n",
       " 'progressive centripetal filling': 10,\n",
       " 'progressive or concentric enhancement': 10,\n",
       " 'regular spherical hypointense mass': 10,\n",
       " 'thin well-defined walls': 10,\n",
       " 'venous washout': 10}"
      ]
     },
     "execution_count": 102,
     "metadata": {},
     "output_type": "execute_result"
    }
   ],
   "source": [
    "feat_count"
   ]
  },
  {
   "cell_type": "markdown",
   "metadata": {},
   "source": [
    "for col in [c for c in feature_sheet.columns if c.startswith(\"evidence\")]:"
   ]
  },
  {
   "cell_type": "code",
   "execution_count": 103,
   "metadata": {
    "collapsed": true,
    "scrolled": true
   },
   "outputs": [],
   "source": [
    "Z_features_by_cls = {cls: {} for cls in features_by_cls}\n",
    "Z_features = {}\n",
    "\n",
    "for cls in C.classes_to_include:\n",
    "    for f in features_by_cls[cls]:\n",
    "        if f not in Z_features:\n",
    "            Z_features[f] = []\n",
    "            \n",
    "        Z_features_by_cls[cls][f] = [x for x in feature_sheet[feature_sheet[\"evidence1\"+cls] == f][cls].values]\n",
    "        Z_features[f] += [x for x in feature_sheet[feature_sheet[\"evidence1\"+cls] == f][cls].values]\n",
    "        if feature_sheet[\"evidence2\"+cls].dropna().size > 0:\n",
    "            Z_features_by_cls[cls][f] = Z_features_by_cls[cls][f] + [x+\".npy\" for x in feature_sheet[feature_sheet[\"evidence2\"+cls] == f][cls].values]\n",
    "            Z_features[f] += [x for x in feature_sheet[feature_sheet[\"evidence2\"+cls] == f][cls].values]"
   ]
  },
  {
   "cell_type": "code",
   "execution_count": 106,
   "metadata": {
    "collapsed": true
   },
   "outputs": [],
   "source": [
    "feature_filters = {f:np.empty([0,100]) for f in all_features}#{cls: {} for cls in features}\n",
    "feature_filters_scaled = {}#{cls: {} for cls in features}\n",
    "\n",
    "for f in all_features:\n",
    "    for cls in C.classes_to_include:\n",
    "        x_features = orig_data_dict[cls][0][np.where(np.isin(orig_data_dict[cls][1], Z_features[f]))]\n",
    "        if x_features.size > 0:\n",
    "            feature_filters[f] = np.concatenate([feature_filters[f], model_dense_outputs.predict(x_features, verbose=False)], axis=0)# / filter_avgs\n",
    "        \n",
    "    feature_filters[f] = np.mean(feature_filters[f], axis=0)# / filter_avgs\n",
    "\n",
    "    #ff = feature_filters[f]\n",
    "    #feature_filters[f] = np.where(ff > np.mean(ff), ff, 0)\n",
    "\n",
    "    #ff = feature_filters[cls][f]\n",
    "    #feature_filters[cls][f] = np.where(ff > 1*filter_cls_avg_unscaled[cls], ff, 0)\n",
    "\n",
    "    #ff = feature_filters[f]\n",
    "    #feature_filters[f] = np.where(ff > 1.3*filter_avgs, ff, 0)\n",
    "\n",
    "    feature_filters_scaled[f] = feature_filters[f] / filter_avgs"
   ]
  },
  {
   "cell_type": "code",
   "execution_count": 109,
   "metadata": {},
   "outputs": [
    {
     "data": {
      "text/plain": [
       "['regular spherical hypointense mass',\n",
       " 'hyperintense mass on delayed phase',\n",
       " 'delayed isointensity',\n",
       " 'thin well-defined walls',\n",
       " 'infiltrative',\n",
       " 'nodular or discontinuous enhancement',\n",
       " 'lobulated margins',\n",
       " 'progressive or concentric enhancement',\n",
       " 'arterial enhancement',\n",
       " 'progressive centripetal filling',\n",
       " 'heterogeneous',\n",
       " 'central scar',\n",
       " 'venous washout',\n",
       " 'continuous enhancing rim',\n",
       " 'hypointense without enhancement']"
      ]
     },
     "execution_count": 109,
     "metadata": {},
     "output_type": "execute_result"
    }
   ],
   "source": [
    "all_features"
   ]
  },
  {
   "cell_type": "code",
   "execution_count": 108,
   "metadata": {},
   "outputs": [
    {
     "data": {
      "text/plain": [
       "(100,)"
      ]
     },
     "execution_count": 108,
     "metadata": {},
     "output_type": "execute_result"
    }
   ],
   "source": [
    "feature_filters['arterial enhancement'].shape"
   ]
  },
  {
   "cell_type": "code",
   "execution_count": 111,
   "metadata": {
    "collapsed": true
   },
   "outputs": [],
   "source": [
    "Theta = np.array([feature_filters[f] for f in all_features])\n",
    "Theta = np.transpose(Theta, (1,0))\n",
    "Theta.shape"
   ]
  },
  {
   "cell_type": "code",
   "execution_count": 678,
   "metadata": {
    "collapsed": true
   },
   "outputs": [],
   "source": [
    "header = ['filter_num']\n",
    "for cls in C.classes_to_include:\n",
    "    header += [f+\"_\"+cls for f in features_by_cls[cls]]\n",
    "\n",
    "with open('E:\\\\feature_filters.csv', 'w', newline='') as csvfile:\n",
    "    writer = csv.writer(csvfile)\n",
    "    writer.writerow(header)\n",
    "    for f_num in range(100):\n",
    "        writer.writerow([f_num] + [feature_filters[f][f_num] for cls in features for f in features_by_cls[cls]])"
   ]
  },
  {
   "cell_type": "code",
   "execution_count": 679,
   "metadata": {
    "collapsed": true
   },
   "outputs": [],
   "source": [
    "all_features_cls = header[1:]"
   ]
  },
  {
   "cell_type": "code",
   "execution_count": 118,
   "metadata": {
    "collapsed": true
   },
   "outputs": [],
   "source": [
    "Z_test_features = ['E106097391_0', 'E104978772_1', '12900535_0', 'E100150242_0', 'E105490014_0', 'E103147618_0', 'E103510187_0', 'E104657225_0', 'E100551966_0', 'E101388602_0', 'E100215900_8', 'E100215900_7', 'E104045692_0', '13104521_0', 'E100383453_0', '12943286_0', '12271995_0', 'E102315724_0', 'E104949189_0', 'E100511083_1', 'E101579471_0', '13018986_1', '13203550_8', '13112385_0', '12712463_0', '12361082_0', '13028374_0', 'E103985934_1', 'E100529980_0', '12042703_3', '12961059_0', 'E105724706_2', 'E100592424_2', 'E103104254_0', 'E104546069_0', 'E101665217_1', '12090000_0', 'E100592424_1', '12961059_1', 'E105474285_0', '12502068_1', 'E100814791_0', 'E102613189_0', 'E105427046_0', 'E102881031_1', 'E102929168_0', 'E102310482_0', 'E102095465_0', 'E101811299_0', 'E104737273_0', '12890053_0', 'E100168661_1', '12637865_0', 'E100168661_2', '12239783_0', '12707781_0', '12706568_1', '12823036_0', '12404081_0', '12365693_1']\n",
    "\n",
    "x_test = {cls: orig_data_dict[cls][0][np.where(np.isin(orig_data_dict[cls][1], Z_test_features))] for cls in C.classes_to_include}\n",
    "Z_test = {cls: orig_data_dict[cls][1][np.where(np.isin(orig_data_dict[cls][1], Z_test_features))] for cls in C.classes_to_include}"
   ]
  },
  {
   "cell_type": "code",
   "execution_count": 136,
   "metadata": {},
   "outputs": [],
   "source": [
    "filters_test = {}\n",
    "features_test = {}\n",
    "for cls in C.classes_to_include:\n",
    "    filters_test[cls] = model_dense_outputs.predict(x_test[cls], verbose=False)\n",
    "    features_test[cls] = np.linalg.lstsq(Theta, np.transpose(filters_test[cls], (1,0)))[0]\n",
    "    #filters_test[cls] = np.apply_along_axis(lambda x: x / filter_avgs, 1, filters_test[cls])"
   ]
  },
  {
   "cell_type": "code",
   "execution_count": 88,
   "metadata": {
    "collapsed": true
   },
   "outputs": [],
   "source": [
    "def get_evidence_strength(feature_filters, pred_filters):\n",
    "    \"\"\"A good pred_filter has high values for all the key (non-zero) features of feature_filter.\n",
    "    These values should be unscaled.\n",
    "    Returns average percentage of the mean value of the key filters (capped at 100%)\"\"\"\n",
    "    \n",
    "    strength = 0\n",
    "    num_key_filters = sum(feature_filters > 0)\n",
    "    \n",
    "    for i in range(len(pred_filters)):\n",
    "        t = feature_filters[i]\n",
    "        p = pred_filters[i]\n",
    "        \n",
    "        if t == 0:\n",
    "            continue\n",
    "            \n",
    "        strength += min(p/t, 1.1)#t*p / filter_avgs[i]**.7\n",
    "    return (strength / num_key_filters / 1.1)**.3"
   ]
  },
  {
   "cell_type": "code",
   "execution_count": 96,
   "metadata": {
    "collapsed": true
   },
   "outputs": [],
   "source": [
    "cls = \"colorectal\"\n",
    "x_test_quick = orig_data_dict[cls][0][np.where(orig_data_dict[cls][1] == \"E105724706_2.npy\")]\n",
    "x_test_quick = orig_data_dict[\"fnh\"][0][np.where(orig_data_dict[\"fnh\"][1] == \"E104189184_0.npy\")]\n",
    "filters_quick = model_dense_outputs.predict(x_test_quick, verbose=False)"
   ]
  },
  {
   "cell_type": "code",
   "execution_count": null,
   "metadata": {
    "collapsed": true
   },
   "outputs": [],
   "source": [
    "img_num = 0\n",
    "evidence = {}\n",
    "max_strength = 0\n",
    "\n",
    "#cls = true_cls\n",
    "\"\"\"for f in features[cls]:\n",
    "    evidence[f] = get_evidence_strength(feature_filters[cls][f], filters_test[cls][img_num])\n",
    "    max_strength = max(max_strength, evidence[f])\n",
    "\"\"\"\n",
    "#for cls in C.classes_to_include:\n",
    "\n",
    "for f in all_features:\n",
    "    evidence[f + \"/\" + str(cls_features[f])] = get_evidence_strength(feature_filters[f], filters_quick[0])#filters_test[true_cls][img_num])\n",
    "    #max_strength = max(max_strength, evidence[f + \"/\" + str(cls_features[f])])\n",
    "\n",
    "#for f in evidence:\n",
    "#    evidence[f] /= max_strength\n",
    "print(\"Detected features:\")\n",
    "for f,strength in sorted(evidence.items(), key=lambda x:x[1], reverse=True)[:5]:\n",
    "    #if strength > 1:\n",
    "    print(\"- \" + f, \"- %d%%\" % (strength*100))"
   ]
  },
  {
   "cell_type": "code",
   "execution_count": 156,
   "metadata": {
    "scrolled": false
   },
   "outputs": [
    {
     "data": {
      "image/png": "[encoded data removed]",
      "text/plain": [
       "<matplotlib.figure.Figure at 0x1e5ecc3bef0>"
      ]
     },
     "metadata": {},
     "output_type": "display_data"
    }
   ],
   "source": [
    "hf.plot_section_auto(x_test_quick[0])#[true_cls][img_num])"
   ]
  },
  {
   "cell_type": "code",
   "execution_count": 101,
   "metadata": {
    "scrolled": true
   },
   "outputs": [
    {
     "data": {
      "text/plain": [
       "['continuous enhancing rim',\n",
       " 'arterial enhancement',\n",
       " 'hypointense without enhancement',\n",
       " 'venous washout',\n",
       " 'nodular or discontinuous enhancement',\n",
       " 'regular spherical hypointense mass',\n",
       " 'hyperintense mass on delayed phase',\n",
       " 'heterogeneous',\n",
       " 'infiltrative',\n",
       " 'central scar',\n",
       " 'progressive centripetal filling',\n",
       " 'thin well-defined walls',\n",
       " 'delayed isointensity',\n",
       " 'lobulated margins',\n",
       " 'progressive or concentric enhancement']"
      ]
     },
     "execution_count": 101,
     "metadata": {},
     "output_type": "execute_result"
    }
   ],
   "source": []
  },
  {
   "cell_type": "code",
   "execution_count": 135,
   "metadata": {},
   "outputs": [
    {
     "data": {
      "text/plain": [
       "array([ 2.33399877,  3.39090518,  5.96065904,  2.79865371,  2.17864888,\n",
       "        5.05574232,  4.75660604,  3.39981215,  2.19565764,  1.99309854])"
      ]
     },
     "execution_count": 135,
     "metadata": {},
     "output_type": "execute_result"
    }
   ],
   "source": [
    "features_test['cyst'][1]"
   ]
  },
  {
   "cell_type": "code",
   "execution_count": null,
   "metadata": {
    "collapsed": true
   },
   "outputs": [],
   "source": [
    "filters_test[true_cls][img_num]"
   ]
  },
  {
   "cell_type": "code",
   "execution_count": null,
   "metadata": {
    "collapsed": true
   },
   "outputs": [],
   "source": [
    "all_features.index('')"
   ]
  },
  {
   "cell_type": "code",
   "execution_count": 138,
   "metadata": {},
   "outputs": [],
   "source": [
    "output = {}\n",
    "for cls in C.classes_to_include:\n",
    "    for img_num in range(len(filters_test[cls])):\n",
    "        z = Z_test[cls][img_num]\n",
    "        x = np.expand_dims(x_test[cls][img_num], axis=0)\n",
    "        evidence = {}\n",
    "        max_strength = 0\n",
    "        \n",
    "        output[z] = [cls]\n",
    "        \n",
    "        preds = model.predict(x, verbose=False)[0]\n",
    "        for pred_cls, pred_conf in sorted(zip(C.classes_to_include, preds), key=lambda x:x[1], reverse=True)[:2]:\n",
    "            output[z] = output[z] + [pred_cls]\n",
    "        \n",
    "        #for f in all_features:\n",
    "        #    evidence[f + \"/\" + str(cls_features[f])] = get_evidence_strength(feature_filters[f], filters_test[cls][img_num])\n",
    "        \n",
    "        for i in range(len(all_features)):\n",
    "            evidence[all_features[i] + \"/\" + str(cls_features[all_features[i]])] = features_test[cls][i, img_num]\n",
    "        \n",
    "        \n",
    "        f1='infiltrative'\n",
    "        f2='lobulated margins'\n",
    "        if evidence[f1 + \"/\" + str(cls_features[f1])] < evidence[f2 + \"/\" + str(cls_features[f2])]:\n",
    "            evidence.pop(f1 + \"/\" + str(cls_features[f1]))\n",
    "        else:\n",
    "            evidence.pop(f2 + \"/\" + str(cls_features[f2]))\n",
    "        \n",
    "        for f,strength in sorted(evidence.items(), key=lambda x:x[1], reverse=True):\n",
    "            output[z] = output[z] + [f, int(strength*100)]"
   ]
  },
  {
   "cell_type": "code",
   "execution_count": 139,
   "metadata": {
    "collapsed": true
   },
   "outputs": [],
   "source": [
    "with open('E:\\\\filters_pred5.csv', 'w', newline='') as csvfile:\n",
    "    header = ['img_fn', 'agreement1', 'agreement2', 'true_cls', 'pred_cls1', 'pred_cls2'] + \\\n",
    "            [s for i in range(len(all_features)) for s in ['feature_%d' % i,'strength_%d' % i]]\n",
    "    writer = csv.writer(csvfile)\n",
    "    writer.writerow(header)\n",
    "    for z_num in range(len(Z_test_features)):\n",
    "        writer.writerow([Z_test_features[z_num]] + [output[Z_test_features[z_num]][0] in output[Z_test_features[z_num]][5], \\\n",
    "                        output[Z_test_features[z_num]][0] in output[Z_test_features[z_num]][7]] + output[Z_test_features[z_num]])"
   ]
  },
  {
   "cell_type": "code",
   "execution_count": null,
   "metadata": {
    "collapsed": true
   },
   "outputs": [],
   "source": []
  }
 ],
 "metadata": {
  "kernelspec": {
   "display_name": "Python 3",
   "language": "python",
   "name": "python3"
  }
 },
 "nbformat": 4,
 "nbformat_minor": 2
}
