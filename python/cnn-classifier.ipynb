{
 "cells": [
  {
   "cell_type": "code",
   "execution_count": 1,
   "metadata": {
    "ExecuteTime": {
     "end_time": "2018-05-12T15:20:19.860715Z",
     "start_time": "2018-05-12T15:20:17.196757Z"
    },
    "scrolled": false
   },
   "outputs": [
    {
     "name": "stderr",
     "output_type": "stream",
     "text": [
      "C:\\Users\\Clinton\\AppData\\Local\\conda\\conda\\envs\\old-keras\\lib\\site-packages\\h5py\\__init__.py:34: FutureWarning: Conversion of the second argument of issubdtype from `float` to `np.floating` is deprecated. In future, it will be treated as `np.float64 == np.dtype(float).type`.\n",
      "  from ._conv import register_converters as _register_converters\n",
      "Using TensorFlow backend.\n"
     ]
    }
   ],
   "source": [
    "from keras.models import Model\n",
    "import keras.models\n",
    "import keras.layers as layers\n",
    "from keras.optimizers import Adam\n",
    "from keras.callbacks import EarlyStopping\n",
    "from keras.utils import np_utils\n",
    "from sklearn.metrics import confusion_matrix, f1_score, accuracy_score\n",
    "from keras import backend as K\n",
    "\n",
    "import argparse\n",
    "import copy\n",
    "import feature_interpretation as cnna\n",
    "import cnn_builder as cbuild\n",
    "import cnn_runner as crun\n",
    "import config\n",
    "import csv\n",
    "import niftiutils.helper_fxns as hf\n",
    "import niftiutils.transforms as tr\n",
    "import importlib\n",
    "import itertools\n",
    "from math import sqrt, log, pi, exp\n",
    "import matplotlib.pyplot as plt\n",
    "from numba import njit\n",
    "from numpy import matmul, diag\n",
    "import numpy as np\n",
    "import operator\n",
    "import os\n",
    "from os.path import *\n",
    "import pandas as pd\n",
    "import random\n",
    "import scipy\n",
    "import time\n",
    "import dr_methods as drm\n",
    "import voi_methods as vm\n",
    "%matplotlib inline\n",
    "np.set_printoptions(3, suppress=True)"
   ]
  },
  {
   "cell_type": "code",
   "execution_count": 3,
   "metadata": {
    "ExecuteTime": {
     "end_time": "2018-05-12T15:20:25.380047Z",
     "start_time": "2018-05-12T15:20:25.370020Z"
    },
    "collapsed": true
   },
   "outputs": [],
   "source": [
    "importlib.reload(config)\n",
    "importlib.reload(hf)\n",
    "importlib.reload(cbuild)\n",
    "importlib.reload(crun)\n",
    "C = config.Config()\n",
    "T = config.Hyperparams()\n",
    "T.get_best_hyperparams()\n",
    "T.epochs = 30\n",
    "T.steps_per_epoch = 300"
   ]
  },
  {
   "cell_type": "code",
   "execution_count": 36,
   "metadata": {
    "collapsed": true
   },
   "outputs": [],
   "source": [
    "T.padding = ['same', 'same']\n",
    "T.pool_sizes = [(2,2,2),(2,2,2)]\n",
    "T.f = [64,64,64,64,64,64,64]\n",
    "T.skip_con = True\n",
    "T.epochs = 20"
   ]
  },
  {
   "cell_type": "code",
   "execution_count": null,
   "metadata": {
    "ExecuteTime": {
     "end_time": "2018-04-29T19:20:23.742381Z",
     "start_time": "2018-04-29T19:19:12.952562Z"
    },
    "collapsed": true
   },
   "outputs": [],
   "source": [
    "drm.dcm2npy_batch(acc_nums=[\"E100113043\"])"
   ]
  },
  {
   "cell_type": "code",
   "execution_count": null,
   "metadata": {
    "ExecuteTime": {
     "end_time": "2018-04-29T19:22:14.662640Z",
     "start_time": "2018-04-29T19:22:14.527783Z"
    },
    "collapsed": true
   },
   "outputs": [],
   "source": [
    "vm.plot_check(2, \"E102088195\");"
   ]
  },
  {
   "cell_type": "code",
   "execution_count": null,
   "metadata": {
    "ExecuteTime": {
     "end_time": "2018-05-02T04:11:27.139653Z",
     "start_time": "2018-05-02T04:11:26.670940Z"
    },
    "collapsed": true
   },
   "outputs": [],
   "source": [
    "vm.xref_dirs_with_excel()"
   ]
  },
  {
   "cell_type": "code",
   "execution_count": null,
   "metadata": {
    "ExecuteTime": {
     "end_time": "2018-05-02T13:53:09.930757Z",
     "start_time": "2018-05-02T04:11:28.356875Z"
    },
    "collapsed": true
   },
   "outputs": [],
   "source": [
    "crun.run_fixed_hyperparams([C], hyperparams=T)#C_list)"
   ]
  },
  {
   "cell_type": "markdown",
   "metadata": {},
   "source": [
    "\n",
    "C = config.Config()\n",
    "ActivationLayer = layers.Activation\n",
    "activation_args = 'relu'\n",
    "\n",
    "nb_classes = len(C.classes_to_include)\n",
    "\n",
    "context_img = layers.Input(shape=(C.context_dims[0], C.context_dims[1], C.context_dims[2], 3))\n",
    "cx = context_img\n",
    "\n",
    "#cx = InstanceNormalization(axis=4)(cx)\n",
    "cx = layers.Reshape((*C.context_dims, 3, 1))(context_img)\n",
    "cx = layers.Permute((4,1,2,3,5))(cx)\n",
    "cx = layers.TimeDistributed(layers.Conv3D(filters=64, kernel_size=(4,4,1), padding='valid', activation='relu'))(cx)\n",
    "cx = layers.TimeDistributed(layers.MaxPooling3D((2,2,2)))(cx)\n",
    "cx = layers.TimeDistributed(layers.BatchNormalization(axis=4))(cx)\n",
    "cx = layers.TimeDistributed(layers.Conv3D(filters=64, kernel_size=(3,3,1), padding='valid', activation='relu'))(cx)\n",
    "cx = layers.TimeDistributed(layers.BatchNormalization(axis=4))(cx)\n",
    "cx = layers.TimeDistributed(layers.Conv3D(filters=64, kernel_size=(3,3,1), padding='valid', activation='relu'))(cx)\n",
    "cx = layers.TimeDistributed(layers.BatchNormalization(axis=4))(cx)\n",
    "cx = layers.TimeDistributed(layers.Conv3D(filters=64, kernel_size=(3,3,1), padding='same', activation='relu'))(cx)\n",
    "cx = layers.TimeDistributed(layers.BatchNormalization(axis=4))(cx)\n",
    "\n",
    "model = Model(context_img, cx)\n",
    "model.compile(optimizer='adam', loss='categorical_crossentropy', metrics=['accuracy'])"
   ]
  },
  {
   "cell_type": "code",
   "execution_count": 8,
   "metadata": {
    "ExecuteTime": {
     "end_time": "2018-05-12T15:29:44.932766Z",
     "start_time": "2018-05-12T15:29:44.265402Z"
    },
    "scrolled": true
   },
   "outputs": [
    {
     "name": "stdout",
     "output_type": "stream",
     "text": [
      "________________________________________________________________________________________________________________________\n",
      "Layer (type)                           Output Shape               Param #       Connected to                            \n",
      "========================================================================================================================\n",
      "input_2 (InputLayer)                   (None, 24, 24, 12, 3)      0                                                     \n",
      "________________________________________________________________________________________________________________________\n",
      "lambda_8 (Lambda)                      (None, 24, 24, 12, 1)      0             input_2[0][0]                           \n",
      "________________________________________________________________________________________________________________________\n",
      "lambda_9 (Lambda)                      (None, 24, 24, 12, 1)      0             input_2[0][0]                           \n",
      "________________________________________________________________________________________________________________________\n",
      "lambda_10 (Lambda)                     (None, 24, 24, 12, 1)      0             input_2[0][0]                           \n",
      "________________________________________________________________________________________________________________________\n",
      "conv3d_6 (Conv3D)                      (None, 24, 24, 12, 64)     1216          lambda_8[0][0]                          \n",
      "________________________________________________________________________________________________________________________\n",
      "conv3d_7 (Conv3D)                      (None, 24, 24, 12, 64)     1216          lambda_9[0][0]                          \n",
      "________________________________________________________________________________________________________________________\n",
      "conv3d_8 (Conv3D)                      (None, 24, 24, 12, 64)     1216          lambda_10[0][0]                         \n",
      "________________________________________________________________________________________________________________________\n",
      "concatenate_3 (Concatenate)            (None, 24, 24, 12, 192)    0             conv3d_6[0][0]                          \n",
      "                                                                                conv3d_7[0][0]                          \n",
      "                                                                                conv3d_8[0][0]                          \n",
      "________________________________________________________________________________________________________________________\n",
      "activation_5 (Activation)              (None, 24, 24, 12, 192)    0             concatenate_3[0][0]                     \n",
      "________________________________________________________________________________________________________________________\n",
      "lambda_11 (Lambda)                     (None, 24, 24, 12, 192)    0             activation_5[0][0]                      \n",
      "________________________________________________________________________________________________________________________\n",
      "max_pooling3d_3 (MaxPooling3D)         (None, 12, 12, 6, 192)     0             lambda_11[0][0]                         \n",
      "________________________________________________________________________________________________________________________\n",
      "batch_normalization_5 (BatchNormalizat (None, 12, 12, 6, 192)     768           max_pooling3d_3[0][0]                   \n",
      "________________________________________________________________________________________________________________________\n",
      "conv3d_9 (Conv3D)                      (None, 10, 10, 5, 128)     442496        batch_normalization_5[0][0]             \n",
      "________________________________________________________________________________________________________________________\n",
      "batch_normalization_6 (BatchNormalizat (None, 10, 10, 5, 128)     512           conv3d_9[0][0]                          \n",
      "________________________________________________________________________________________________________________________\n",
      "activation_6 (Activation)              (None, 10, 10, 5, 128)     0             batch_normalization_6[0][0]             \n",
      "________________________________________________________________________________________________________________________\n",
      "lambda_12 (Lambda)                     (None, 10, 10, 5, 128)     0             activation_6[0][0]                      \n",
      "________________________________________________________________________________________________________________________\n",
      "conv3d_10 (Conv3D)                     (None, 8, 8, 4, 128)       295040        lambda_12[0][0]                         \n",
      "________________________________________________________________________________________________________________________\n",
      "batch_normalization_7 (BatchNormalizat (None, 8, 8, 4, 128)       512           conv3d_10[0][0]                         \n",
      "________________________________________________________________________________________________________________________\n",
      "activation_7 (Activation)              (None, 8, 8, 4, 128)       0             batch_normalization_7[0][0]             \n",
      "________________________________________________________________________________________________________________________\n",
      "lambda_13 (Lambda)                     (None, 8, 8, 4, 128)       0             activation_7[0][0]                      \n",
      "________________________________________________________________________________________________________________________\n",
      "max_pooling3d_4 (MaxPooling3D)         (None, 4, 4, 4, 128)       0             lambda_13[0][0]                         \n",
      "________________________________________________________________________________________________________________________\n",
      "flatten_2 (Flatten)                    (None, 8192)               0             max_pooling3d_4[0][0]                   \n",
      "________________________________________________________________________________________________________________________\n",
      "dense_4 (Dense)                        (None, 100)                819300        flatten_2[0][0]                         \n",
      "________________________________________________________________________________________________________________________\n",
      "batch_normalization_8 (BatchNormalizat (None, 100)                400           dense_4[0][0]                           \n",
      "________________________________________________________________________________________________________________________\n",
      "lambda_14 (Lambda)                     (None, 100)                0             batch_normalization_8[0][0]             \n",
      "________________________________________________________________________________________________________________________\n",
      "activation_8 (Activation)              (None, 100)                0             lambda_14[0][0]                         \n",
      "________________________________________________________________________________________________________________________\n",
      "dense_6 (Dense)                        (None, 1)                  101           activation_8[0][0]                      \n",
      "________________________________________________________________________________________________________________________\n",
      "dense_5 (Dense)                        (None, 1)                  101           activation_8[0][0]                      \n",
      "________________________________________________________________________________________________________________________\n",
      "leaky_re_lu_2 (LeakyReLU)              (None, 1)                  0             dense_6[0][0]                           \n",
      "________________________________________________________________________________________________________________________\n",
      "concatenate_4 (Concatenate)            (None, 2)                  0             dense_5[0][0]                           \n",
      "                                                                                leaky_re_lu_2[0][0]                     \n",
      "========================================================================================================================\n",
      "Total params: 1,562,878\n",
      "Trainable params: 1,561,782\n",
      "Non-trainable params: 1,096\n",
      "________________________________________________________________________________________________________________________\n"
     ]
    }
   ],
   "source": [
    "importlib.reload(cbuild)\n",
    "model = cbuild.build_cnn_hyperparams(T)\n",
    "model.summary(line_length=120)"
   ]
  },
  {
   "cell_type": "code",
   "execution_count": 9,
   "metadata": {
    "ExecuteTime": {
     "end_time": "2018-05-12T15:35:38.644055Z",
     "start_time": "2018-05-12T15:29:49.344433Z"
    },
    "scrolled": true
   },
   "outputs": [
    {
     "name": "stdout",
     "output_type": "stream",
     "text": [
      "Epoch 1/30\n",
      "300/300 [==============================] - 13s 43ms/step - loss: 0.2921 - acc_logit: 0.8796 - val_loss: 0.5480 - val_acc_logit: 0.7000\n",
      "Epoch 2/30\n",
      "300/300 [==============================] - 11s 38ms/step - loss: 0.2176 - acc_logit: 0.9129 - val_loss: 0.4994 - val_acc_logit: 0.9000\n",
      "Epoch 3/30\n",
      "300/300 [==============================] - 11s 38ms/step - loss: 0.2076 - acc_logit: 0.9146 - val_loss: 0.7892 - val_acc_logit: 0.8000\n",
      "Epoch 4/30\n",
      "300/300 [==============================] - 11s 38ms/step - loss: 0.1856 - acc_logit: 0.9283 - val_loss: 0.8538 - val_acc_logit: 0.9000\n",
      "Epoch 5/30\n",
      "300/300 [==============================] - 12s 39ms/step - loss: 0.1513 - acc_logit: 0.9383 - val_loss: 0.2870 - val_acc_logit: 0.8000\n",
      "Epoch 6/30\n",
      "300/300 [==============================] - 12s 39ms/step - loss: 0.1600 - acc_logit: 0.9296 - val_loss: 0.4918 - val_acc_logit: 0.8000\n",
      "Epoch 7/30\n",
      "300/300 [==============================] - 12s 38ms/step - loss: 0.1491 - acc_logit: 0.9392 - val_loss: 1.4876 - val_acc_logit: 0.8000\n",
      "Epoch 8/30\n",
      "300/300 [==============================] - 12s 38ms/step - loss: 0.1362 - acc_logit: 0.9421 - val_loss: 0.3407 - val_acc_logit: 0.9000\n",
      "Epoch 9/30\n",
      "300/300 [==============================] - 12s 38ms/step - loss: 0.1451 - acc_logit: 0.9425 - val_loss: 0.6616 - val_acc_logit: 0.9000\n",
      "Epoch 10/30\n",
      "300/300 [==============================] - 12s 38ms/step - loss: 0.1266 - acc_logit: 0.9521 - val_loss: 0.7599 - val_acc_logit: 0.9000\n",
      "Epoch 11/30\n",
      "300/300 [==============================] - 11s 38ms/step - loss: 0.1113 - acc_logit: 0.9567 - val_loss: 0.5266 - val_acc_logit: 0.9000\n",
      "Epoch 12/30\n",
      "300/300 [==============================] - 12s 39ms/step - loss: 0.1006 - acc_logit: 0.9554 - val_loss: 0.7518 - val_acc_logit: 0.9000\n",
      "Epoch 13/30\n",
      "300/300 [==============================] - 12s 38ms/step - loss: 0.1313 - acc_logit: 0.9438 - val_loss: 0.9479 - val_acc_logit: 0.9000\n",
      "Epoch 14/30\n",
      "300/300 [==============================] - 12s 39ms/step - loss: 0.0975 - acc_logit: 0.9613 - val_loss: 0.9384 - val_acc_logit: 0.9000\n",
      "Epoch 15/30\n",
      "300/300 [==============================] - 12s 39ms/step - loss: 0.0877 - acc_logit: 0.9671 - val_loss: 0.7310 - val_acc_logit: 0.9000\n",
      "Epoch 16/30\n",
      "300/300 [==============================] - 11s 38ms/step - loss: 0.0996 - acc_logit: 0.9625 - val_loss: 1.8570 - val_acc_logit: 0.9000\n",
      "Epoch 17/30\n",
      "300/300 [==============================] - 11s 38ms/step - loss: 0.0891 - acc_logit: 0.9671 - val_loss: 0.9154 - val_acc_logit: 0.9000\n",
      "Epoch 18/30\n",
      "300/300 [==============================] - 11s 38ms/step - loss: 0.0756 - acc_logit: 0.9692 - val_loss: 0.7913 - val_acc_logit: 0.9000\n",
      "Epoch 19/30\n",
      "300/300 [==============================] - 11s 38ms/step - loss: 0.0923 - acc_logit: 0.9617 - val_loss: 0.6745 - val_acc_logit: 0.9000\n",
      "Epoch 20/30\n",
      "300/300 [==============================] - 11s 38ms/step - loss: 0.0766 - acc_logit: 0.9729 - val_loss: 0.6479 - val_acc_logit: 0.9000\n",
      "Epoch 21/30\n",
      "300/300 [==============================] - 12s 38ms/step - loss: 0.0632 - acc_logit: 0.9750 - val_loss: 0.8269 - val_acc_logit: 0.9000\n",
      "Epoch 22/30\n",
      "300/300 [==============================] - 12s 39ms/step - loss: 0.0695 - acc_logit: 0.9746 - val_loss: 1.1726 - val_acc_logit: 0.9000\n",
      "Epoch 23/30\n",
      "300/300 [==============================] - 12s 39ms/step - loss: 0.0811 - acc_logit: 0.9692 - val_loss: 0.7811 - val_acc_logit: 0.9000\n",
      "Epoch 24/30\n",
      "300/300 [==============================] - 11s 38ms/step - loss: 0.0822 - acc_logit: 0.9704 - val_loss: 0.6612 - val_acc_logit: 0.9000\n",
      "Epoch 25/30\n",
      "300/300 [==============================] - 11s 38ms/step - loss: 0.0730 - acc_logit: 0.9733 - val_loss: 0.0289 - val_acc_logit: 1.0000\n",
      "Epoch 26/30\n",
      "300/300 [==============================] - 12s 39ms/step - loss: 0.0590 - acc_logit: 0.9796 - val_loss: 0.5691 - val_acc_logit: 0.9000\n",
      "Epoch 27/30\n",
      "300/300 [==============================] - 11s 38ms/step - loss: 0.0581 - acc_logit: 0.9796 - val_loss: 1.1797 - val_acc_logit: 0.9000\n",
      "Epoch 28/30\n",
      "300/300 [==============================] - 11s 38ms/step - loss: 0.0597 - acc_logit: 0.9754 - val_loss: 0.6183 - val_acc_logit: 0.9000\n",
      "Epoch 29/30\n",
      "300/300 [==============================] - 11s 38ms/step - loss: 0.0473 - acc_logit: 0.9821 - val_loss: 0.9157 - val_acc_logit: 0.9000\n",
      "Epoch 30/30\n",
      "300/300 [==============================] - 12s 39ms/step - loss: 0.0664 - acc_logit: 0.9762 - val_loss: 0.8637 - val_acc_logit: 0.9000\n"
     ]
    }
   ],
   "source": [
    "importlib.reload(cbuild)\n",
    "#Z_reader = ['E103312835_1','12823036_0','12569915_0','E102093118_0','E102782525_0','12799652_0','E100894274_0','12874178_3','E100314676_0','12842070_0','13092836_2','12239783_0','12783467_0','13092966_0','E100962970_0','E100183257_1','E102634440_0','E106182827_0','12582632_0','E100121654_0','E100407633_0','E105310461_0','12788616_0','E101225606_0','12678910_1','E101083458_1','12324408_0','13031955_0','E101415263_0','E103192914_0','12888679_2','E106096969_0','E100192709_1','13112385_1','E100718398_0','12207268_0','E105244287_0','E102095465_0','E102613189_0','12961059_0','11907521_0','E105311123_0','12552705_0','E100610622_0','12975280_0','E105918926_0','E103020139_1','E101069048_1','E105427046_0','13028374_0','E100262351_0','12302576_0','12451831_0','E102929168_0','E100383453_0','E105344747_0','12569826_0','E100168661_0','12530153_0','E104697262_0']\n",
    "X_test, Y_test, train_generator, num_samples, train_orig, Z = cbuild.get_cnn_data(n=4)#, Z_test_fixed=Z_reader)\n",
    "Z_test, Z_train_orig = Z\n",
    "X_train_orig, Y_train_orig = train_orig\n",
    "hist = model.fit_generator(train_generator, steps_per_epoch=T.steps_per_epoch, epochs=T.epochs, validation_data=[X_test, Y_test])#, callbacks=[T.early_stopping])"
   ]
  },
  {
   "cell_type": "code",
   "execution_count": 10,
   "metadata": {
    "ExecuteTime": {
     "end_time": "2018-05-12T15:42:30.363207Z",
     "start_time": "2018-05-12T15:42:29.920558Z"
    },
    "collapsed": true
   },
   "outputs": [],
   "source": [
    "model.save(join(C.model_dir, \"prob_gauss.hdf5\"))"
   ]
  },
  {
   "cell_type": "code",
   "execution_count": null,
   "metadata": {
    "ExecuteTime": {
     "end_time": "2018-05-10T22:46:55.730496Z",
     "start_time": "2018-05-10T22:46:55.703429Z"
    },
    "collapsed": true
   },
   "outputs": [],
   "source": [
    "model.predict(X_train_orig[20:40])"
   ]
  },
  {
   "cell_type": "code",
   "execution_count": null,
   "metadata": {
    "ExecuteTime": {
     "end_time": "2018-05-10T22:44:57.324854Z",
     "start_time": "2018-05-10T22:44:57.319840Z"
    },
    "collapsed": true
   },
   "outputs": [],
   "source": [
    "Y_train_orig[:20]"
   ]
  },
  {
   "cell_type": "code",
   "execution_count": null,
   "metadata": {
    "ExecuteTime": {
     "end_time": "2018-04-23T23:00:05.315215Z",
     "start_time": "2018-04-23T23:00:05.253050Z"
    },
    "collapsed": true
   },
   "outputs": [],
   "source": [
    "model = cbuild.build_cnn_demogr()\n",
    "model.summary(line_length=120)\n",
    "X_test, Y_test, train_generator, num_samples, train_orig = cbuild.get_cnn_demogr(n=4)\n",
    "hist = model.fit_generator(train_generator, steps_per_epoch=T.steps_per_epoch, epochs=T.epochs, validation_data=[X_test, Y_test])#, callbacks=[T.early_stopping])"
   ]
  },
  {
   "cell_type": "code",
   "execution_count": 6,
   "metadata": {
    "collapsed": true
   },
   "outputs": [],
   "source": [
    "#from keras.utils import multi_gpu_model\n",
    "#model = multi_gpu_model(model, gpus=2)"
   ]
  },
  {
   "cell_type": "code",
   "execution_count": null,
   "metadata": {
    "collapsed": true
   },
   "outputs": [],
   "source": [
    "import voi_methods as vm\n",
    "vm.reset_accnum('E105464882')"
   ]
  },
  {
   "cell_type": "code",
   "execution_count": null,
   "metadata": {
    "collapsed": true
   },
   "outputs": [],
   "source": [
    "hist = model.fit_generator(train_generator, steps_per_epoch=T.steps_per_epoch, epochs=T.epochs, validation_data=[X_test, Y_test])#, callbacks=[T.early_stopping])"
   ]
  },
  {
   "cell_type": "code",
   "execution_count": 82,
   "metadata": {
    "collapsed": true
   },
   "outputs": [],
   "source": [
    "model.save('E:\\\\models\\\\model_demogr.hdf5')"
   ]
  },
  {
   "cell_type": "code",
   "execution_count": null,
   "metadata": {
    "collapsed": true
   },
   "outputs": [],
   "source": [
    "import dr_methods as drm\n",
    "voi_df_art, voi_df_ven, voi_df_eq = drm.get_voi_dfs()\n",
    "small_voi_df = pd.read_csv(C.small_voi_path)"
   ]
  },
  {
   "cell_type": "code",
   "execution_count": null,
   "metadata": {
    "collapsed": true
   },
   "outputs": [],
   "source": [
    "#plot_with_bbox(fn_list[2], cls_mapping[wrong_guesses[2]])\n",
    "Y_pred = model.predict(X_test)\n",
    "y_true = np.array([max(enumerate(x), key=operator.itemgetter(1))[0] for x in Y_test])\n",
    "y_pred = np.array([max(enumerate(x), key=operator.itemgetter(1))[0] for x in Y_pred])\n",
    "\n",
    "cm = confusion_matrix(y_true, y_pred)\n",
    "f1 = f1_score(y_true, y_pred, average=\"weighted\")\n",
    "\n",
    "#save_output(Z_test, y_pred, y_true)\n",
    "\n",
    "print(accuracy_score(y_true, y_pred))\n",
    "#y_true_simp, y_pred_simp, _ = cnna.merge_classes(y_true, y_pred)\n",
    "#print(accuracy_score(y_true_simp, y_pred_simp))"
   ]
  },
  {
   "cell_type": "code",
   "execution_count": null,
   "metadata": {
    "collapsed": true
   },
   "outputs": [],
   "source": []
  },
  {
   "cell_type": "code",
   "execution_count": null,
   "metadata": {
    "collapsed": true
   },
   "outputs": [],
   "source": []
  },
  {
   "cell_type": "code",
   "execution_count": 90,
   "metadata": {
    "scrolled": true
   },
   "outputs": [
    {
     "data": {
      "text/plain": [
       "<module 'cnn_builder' from 'C:\\\\Users\\\\Clinton\\\\Documents\\\\voi-classifier\\\\python\\\\cnn_builder.py'>"
      ]
     },
     "execution_count": 90,
     "metadata": {},
     "output_type": "execute_result"
    }
   ],
   "source": [
    "importlib.reload(cbuild)"
   ]
  },
  {
   "cell_type": "code",
   "execution_count": 3,
   "metadata": {
    "collapsed": true
   },
   "outputs": [],
   "source": [
    "model = keras.models.load_model(os.path.join(C.model_dir, \"models_305.hdf5\")) #models_305"
   ]
  },
  {
   "cell_type": "code",
   "execution_count": null,
   "metadata": {
    "collapsed": true
   },
   "outputs": [],
   "source": [
    "#model_frozen = cbuild.build_frozen_model(model, last_layer=-2)"
   ]
  },
  {
   "cell_type": "code",
   "execution_count": null,
   "metadata": {
    "collapsed": true
   },
   "outputs": [],
   "source": [
    "X_test, Y_test, train_generator, num_samples, train_orig, Z = cbuild.get_cnn_data(n=4, n_art=0, Z_test=Z_reader)\n",
    "Z_test, Z_train_orig = Z\n",
    "Y_pred = model.predict(X_test)\n",
    "y_true = np.array([max(enumerate(x), key=operator.itemgetter(1))[0] for x in Y_test])\n",
    "y_pred = np.array([max(enumerate(x), key=operator.itemgetter(1))[0] for x in Y_pred])\n",
    "y_true_simp, y_pred_simp, _ = cbuild.merge_classes(y_true, y_pred)"
   ]
  },
  {
   "cell_type": "code",
   "execution_count": null,
   "metadata": {
    "collapsed": true
   },
   "outputs": [],
   "source": [
    "Y_pred = [C.classes_to_include[y] for y in y_pred]\n",
    "Y_true = [C.classes_to_include[y] for y in y_true]"
   ]
  },
  {
   "cell_type": "code",
   "execution_count": null,
   "metadata": {
    "collapsed": true
   },
   "outputs": [],
   "source": [
    "a = pd.DataFrame([Z_test,Y_pred,Y_true])"
   ]
  },
  {
   "cell_type": "code",
   "execution_count": null,
   "metadata": {
    "collapsed": true,
    "scrolled": true
   },
   "outputs": [],
   "source": [
    "a.to_csv('E:\\\\temp.csv')"
   ]
  },
  {
   "cell_type": "code",
   "execution_count": null,
   "metadata": {
    "collapsed": true
   },
   "outputs": [],
   "source": [
    "acc6cls = []\n",
    "acc3cls = []\n",
    "\n",
    "for i in range(19):\n",
    "    model_num = 306+i\n",
    "    X_test, Y_test, train_generator, num_samples, train_orig, Z = cbuild.get_cnn_data(n=4, n_art=0, Z_test=df[df['model_num'] == model_num][\"z_test\"])\n",
    "    X_train_orig, Y_train_orig = train_orig\n",
    "    model = keras.models.load_model(os.path.join(C.model_dir, \"models_%d.hdf5\" % model_num)) #models_305\n",
    "    \n",
    "    Y_pred = model.predict(X_train_orig)\n",
    "    y_true = np.array([max(enumerate(x), key=operator.itemgetter(1))[0] for x in Y_train_orig])\n",
    "    y_pred = np.array([max(enumerate(x), key=operator.itemgetter(1))[0] for x in Y_pred])\n",
    "\n",
    "    acc6cls.append(accuracy_score(y_true, y_pred))\n",
    "\n",
    "    y_true_simp, y_pred_simp, _ = cbuild.merge_classes(y_true, y_pred)\n",
    "\n",
    "    acc3cls.append(accuracy_score(y_true_simp, y_pred_simp))"
   ]
  },
  {
   "cell_type": "code",
   "execution_count": null,
   "metadata": {
    "collapsed": true
   },
   "outputs": [],
   "source": [
    "df = pd.read_excel(\"Z:\\\\Inter-reader study\\\\Answer key.xlsx\")"
   ]
  },
  {
   "cell_type": "code",
   "execution_count": null,
   "metadata": {
    "collapsed": true,
    "scrolled": true
   },
   "outputs": [],
   "source": [
    "y_true = df[\"Class\"].values\n",
    "y_pred = df[\"Model\"].values"
   ]
  },
  {
   "cell_type": "code",
   "execution_count": null,
   "metadata": {
    "collapsed": true
   },
   "outputs": [],
   "source": [
    "cm = confusion_matrix(y_true, y_pred, labels=C.classes_to_include)"
   ]
  },
  {
   "cell_type": "code",
   "execution_count": null,
   "metadata": {
    "collapsed": true,
    "scrolled": false
   },
   "outputs": [],
   "source": [
    "for i in range(len(cm)):\n",
    "    print('\\t'.join(cm[:,i].astype(str)))"
   ]
  },
  {
   "cell_type": "code",
   "execution_count": null,
   "metadata": {
    "collapsed": true
   },
   "outputs": [],
   "source": [
    "fn_list = fn_list + list(Z_test[~np.equal(y_pred, y_true)])"
   ]
  },
  {
   "cell_type": "code",
   "execution_count": null,
   "metadata": {
    "collapsed": true
   },
   "outputs": [],
   "source": [
    "fn_list = fn_list + list(Z_train_orig[~np.equal(y_pred, y_true)])\n",
    "fn_list = fn_list + list(Z_train_orig[~np.equal(y_pred, y_true)])"
   ]
  },
  {
   "cell_type": "code",
   "execution_count": null,
   "metadata": {
    "collapsed": true
   },
   "outputs": [],
   "source": [
    "fn_x_list = [x+\"(\"+str(voi_df_art[voi_df_art[\"id\"] == x[:-4]][\"x1\"].values[0])+\")\" for x in fn_list]"
   ]
  },
  {
   "cell_type": "code",
   "execution_count": null,
   "metadata": {
    "collapsed": true
   },
   "outputs": [],
   "source": [
    "unique, counts = np.unique(fn_x_list, return_counts=True)"
   ]
  },
  {
   "cell_type": "code",
   "execution_count": null,
   "metadata": {
    "collapsed": true
   },
   "outputs": [],
   "source": [
    "dict(zip(unique, counts))"
   ]
  },
  {
   "cell_type": "code",
   "execution_count": 195,
   "metadata": {
    "collapsed": true
   },
   "outputs": [],
   "source": [
    "Y_pred = model.predict(X_train_orig)\n",
    "y_true = np.array([max(enumerate(x), key=operator.itemgetter(1))[0] for x in Y_train_orig])\n",
    "y_pred = np.array([max(enumerate(x), key=operator.itemgetter(1))[0] for x in Y_pred])\n",
    "\n",
    "cm = confusion_matrix(y_true, y_pred)\n",
    "f1 = f1_score(y_true, y_pred, average=\"weighted\")\n",
    "\n",
    "#cbuild.save_output(Z_train_orig, y_pred, y_true)#, save_dir=C.output_img_dir+\"\\\\training\")"
   ]
  },
  {
   "cell_type": "code",
   "execution_count": 134,
   "metadata": {
    "scrolled": false
   },
   "outputs": [
    {
     "data": {
      "text/plain": [
       "<module 'cnn_builder' from 'C:\\\\Users\\\\Clinton\\\\Documents\\\\voi-classifier\\\\python\\\\cnn_builder.py'>"
      ]
     },
     "execution_count": 134,
     "metadata": {},
     "output_type": "execute_result"
    }
   ],
   "source": [
    "importlib.reload(cbuild)"
   ]
  },
  {
   "cell_type": "code",
   "execution_count": null,
   "metadata": {
    "collapsed": true
   },
   "outputs": [],
   "source": []
  }
 ],
 "metadata": {
  "kernelspec": {
   "display_name": "Python 3",
   "language": "python",
   "name": "python3"
  },
  "varInspector": {
   "cols": {
    "lenName": 16,
    "lenType": 16,
    "lenVar": 40
   },
   "kernels_config": {
    "python": {
     "delete_cmd_postfix": "",
     "delete_cmd_prefix": "del ",
     "library": "var_list.py",
     "varRefreshCmd": "print(var_dic_list())"
    },
    "r": {
     "delete_cmd_postfix": ") ",
     "delete_cmd_prefix": "rm(",
     "library": "var_list.r",
     "varRefreshCmd": "cat(var_dic_list()) "
    }
   },
   "types_to_exclude": [
    "module",
    "function",
    "builtin_function_or_method",
    "instance",
    "_Feature"
   ],
   "window_display": false
  }
 },
 "nbformat": 4,
 "nbformat_minor": 2
}
