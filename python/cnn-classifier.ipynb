{
 "cells": [
  {
   "cell_type": "code",
   "execution_count": 1,
   "metadata": {
    "ExecuteTime": {
     "end_time": "2018-04-17T17:01:32.709951Z",
     "start_time": "2018-04-17T17:01:27.487801Z"
    },
    "scrolled": false
   },
   "outputs": [
    {
     "name": "stderr",
     "output_type": "stream",
     "text": [
      "C:\\Users\\Clinton\\AppData\\Local\\conda\\conda\\envs\\old-keras\\lib\\site-packages\\h5py\\__init__.py:34: FutureWarning: Conversion of the second argument of issubdtype from `float` to `np.floating` is deprecated. In future, it will be treated as `np.float64 == np.dtype(float).type`.\n",
      "  from ._conv import register_converters as _register_converters\n",
      "Using TensorFlow backend.\n"
     ]
    }
   ],
   "source": [
    "from keras.models import Model\n",
    "import keras.models\n",
    "import keras.layers as layers\n",
    "from keras.optimizers import Adam\n",
    "from keras.callbacks import EarlyStopping\n",
    "from keras.utils import np_utils\n",
    "from sklearn.metrics import confusion_matrix, f1_score, accuracy_score\n",
    "from keras import backend as K\n",
    "\n",
    "import argparse\n",
    "import copy\n",
    "import cnn_analyzer as cnna\n",
    "import cnn_builder as cbuild\n",
    "import cnn_runner as crun\n",
    "import config\n",
    "import csv\n",
    "import niftiutils.helper_fxns as hf\n",
    "import niftiutils.transforms as tr\n",
    "import importlib\n",
    "import itertools\n",
    "from math import sqrt, log, pi, exp\n",
    "import matplotlib.pyplot as plt\n",
    "from numba import njit\n",
    "from numpy import matmul, diag\n",
    "import numpy as np\n",
    "import operator\n",
    "import os\n",
    "from os.path import *\n",
    "import pandas as pd\n",
    "import random\n",
    "import scipy\n",
    "import time\n",
    "%matplotlib inline"
   ]
  },
  {
   "cell_type": "code",
   "execution_count": 11,
   "metadata": {
    "ExecuteTime": {
     "end_time": "2018-04-17T20:42:19.036086Z",
     "start_time": "2018-04-17T20:42:19.022051Z"
    },
    "collapsed": true
   },
   "outputs": [],
   "source": [
    "importlib.reload(config)\n",
    "importlib.reload(hf)\n",
    "importlib.reload(cbuild)\n",
    "importlib.reload(crun)\n",
    "C = config.Config()\n",
    "T = config.Hyperparams()\n",
    "T.epochs = 30\n",
    "T.padding = ['same', 'same']\n",
    "#T.epochs= 1\n",
    "#T.get_best_hyperparams()\n",
    "T.epochs = 50\n",
    "T.steps_per_epoch = 150"
   ]
  },
  {
   "cell_type": "code",
   "execution_count": 36,
   "metadata": {
    "collapsed": true
   },
   "outputs": [],
   "source": [
    "T.padding = ['same', 'same']\n",
    "T.pool_sizes = [(2,2,2),(2,2,2)]\n",
    "T.f = [64,64,64,64,64,64,64]\n",
    "T.skip_con = True\n",
    "T.epochs = 20"
   ]
  },
  {
   "cell_type": "code",
   "execution_count": null,
   "metadata": {
    "ExecuteTime": {
     "end_time": "2018-04-17T20:48:21.523840Z",
     "start_time": "2018-04-17T20:42:22.841505Z"
    },
    "collapsed": true
   },
   "outputs": [],
   "source": [
    "crun.run_fixed_hyperparams([C], hyperparams=T)#C_list)"
   ]
  },
  {
   "cell_type": "markdown",
   "metadata": {},
   "source": [
    "\n",
    "C = config.Config()\n",
    "ActivationLayer = layers.Activation\n",
    "activation_args = 'relu'\n",
    "\n",
    "nb_classes = len(C.classes_to_include)\n",
    "\n",
    "context_img = layers.Input(shape=(C.context_dims[0], C.context_dims[1], C.context_dims[2], 3))\n",
    "cx = context_img\n",
    "\n",
    "#cx = InstanceNormalization(axis=4)(cx)\n",
    "cx = layers.Reshape((*C.context_dims, 3, 1))(context_img)\n",
    "cx = layers.Permute((4,1,2,3,5))(cx)\n",
    "cx = layers.TimeDistributed(layers.Conv3D(filters=64, kernel_size=(4,4,1), padding='valid', activation='relu'))(cx)\n",
    "cx = layers.TimeDistributed(layers.MaxPooling3D((2,2,2)))(cx)\n",
    "cx = layers.TimeDistributed(layers.BatchNormalization(axis=4))(cx)\n",
    "cx = layers.TimeDistributed(layers.Conv3D(filters=64, kernel_size=(3,3,1), padding='valid', activation='relu'))(cx)\n",
    "cx = layers.TimeDistributed(layers.BatchNormalization(axis=4))(cx)\n",
    "cx = layers.TimeDistributed(layers.Conv3D(filters=64, kernel_size=(3,3,1), padding='valid', activation='relu'))(cx)\n",
    "cx = layers.TimeDistributed(layers.BatchNormalization(axis=4))(cx)\n",
    "cx = layers.TimeDistributed(layers.Conv3D(filters=64, kernel_size=(3,3,1), padding='same', activation='relu'))(cx)\n",
    "cx = layers.TimeDistributed(layers.BatchNormalization(axis=4))(cx)\n",
    "\n",
    "model = Model(context_img, cx)\n",
    "model.compile(optimizer='adam', loss='categorical_crossentropy', metrics=['accuracy'])"
   ]
  },
  {
   "cell_type": "code",
   "execution_count": null,
   "metadata": {
    "ExecuteTime": {
     "end_time": "2018-04-17T20:21:18.921652Z",
     "start_time": "2018-04-17T20:21:18.185592Z"
    },
    "collapsed": true
   },
   "outputs": [],
   "source": [
    "model = cbuild.build_cnn_hyperparams(T)\n",
    "model.summary(line_length=120)"
   ]
  },
  {
   "cell_type": "code",
   "execution_count": 10,
   "metadata": {
    "ExecuteTime": {
     "end_time": "2018-04-17T20:25:44.029396Z",
     "start_time": "2018-04-17T20:21:19.156475Z"
    },
    "scrolled": true
   },
   "outputs": [
    {
     "name": "stdout",
     "output_type": "stream",
     "text": [
      "Epoch 1/30\n",
      "100/100 [==============================] - 22s 224ms/step - loss: 0.6701 - acc: 0.6412 - val_loss: 1.2389 - val_acc: 0.5000\n",
      "Epoch 2/30\n",
      "100/100 [==============================] - 14s 136ms/step - loss: 0.6284 - acc: 0.6663 - val_loss: 1.3618 - val_acc: 0.5000\n",
      "Epoch 3/30\n",
      "100/100 [==============================] - 13s 125ms/step - loss: 0.6057 - acc: 0.6775 - val_loss: 0.8996 - val_acc: 0.5000\n",
      "Epoch 4/30\n",
      "100/100 [==============================] - 12s 118ms/step - loss: 0.6677 - acc: 0.6238 - val_loss: 1.1381 - val_acc: 0.5000\n",
      "Epoch 5/30\n",
      "100/100 [==============================] - 11s 113ms/step - loss: 0.6530 - acc: 0.6437 - val_loss: 0.7046 - val_acc: 0.6000\n",
      "Epoch 6/30\n",
      "100/100 [==============================] - 11s 106ms/step - loss: 0.5841 - acc: 0.7200 - val_loss: 0.4714 - val_acc: 0.8000\n",
      "Epoch 7/30\n",
      "100/100 [==============================] - 10s 95ms/step - loss: 0.5510 - acc: 0.7475 - val_loss: 0.3769 - val_acc: 0.9000\n",
      "Epoch 8/30\n",
      "100/100 [==============================] - 9s 90ms/step - loss: 0.6085 - acc: 0.7037 - val_loss: 0.3819 - val_acc: 0.7000\n",
      "Epoch 9/30\n",
      "100/100 [==============================] - 9s 86ms/step - loss: 0.5634 - acc: 0.7113 - val_loss: 0.5760 - val_acc: 0.7000\n",
      "Epoch 10/30\n",
      "100/100 [==============================] - 8s 82ms/step - loss: 0.5458 - acc: 0.7350 - val_loss: 0.4774 - val_acc: 0.8000\n",
      "Epoch 11/30\n",
      "100/100 [==============================] - 7s 73ms/step - loss: 0.5182 - acc: 0.7412 - val_loss: 0.4301 - val_acc: 0.8000\n",
      "Epoch 12/30\n",
      "100/100 [==============================] - 7s 72ms/step - loss: 0.5500 - acc: 0.7463 - val_loss: 0.3942 - val_acc: 0.7000\n",
      "Epoch 13/30\n",
      "100/100 [==============================] - 7s 72ms/step - loss: 0.5415 - acc: 0.7288 - val_loss: 0.4670 - val_acc: 0.8000\n",
      "Epoch 14/30\n",
      "100/100 [==============================] - 7s 72ms/step - loss: 0.5850 - acc: 0.7075 - val_loss: 0.2753 - val_acc: 0.9000\n",
      "Epoch 15/30\n",
      "100/100 [==============================] - 7s 72ms/step - loss: 0.5504 - acc: 0.7200 - val_loss: 0.4330 - val_acc: 0.8000\n",
      "Epoch 16/30\n",
      "100/100 [==============================] - 7s 73ms/step - loss: 0.5407 - acc: 0.7375 - val_loss: 0.6350 - val_acc: 0.6000\n",
      "Epoch 17/30\n",
      "100/100 [==============================] - 7s 73ms/step - loss: 0.5353 - acc: 0.7188 - val_loss: 0.6313 - val_acc: 0.9000\n",
      "Epoch 18/30\n",
      "100/100 [==============================] - 7s 73ms/step - loss: 0.5573 - acc: 0.7087 - val_loss: 0.5899 - val_acc: 0.6000\n",
      "Epoch 19/30\n",
      "100/100 [==============================] - 7s 73ms/step - loss: 0.5297 - acc: 0.7212 - val_loss: 0.5407 - val_acc: 0.8000\n",
      "Epoch 20/30\n",
      "100/100 [==============================] - 7s 72ms/step - loss: 0.5803 - acc: 0.6975 - val_loss: 0.6585 - val_acc: 0.7000\n",
      "Epoch 21/30\n",
      "100/100 [==============================] - 7s 72ms/step - loss: 0.5389 - acc: 0.7400 - val_loss: 0.5306 - val_acc: 0.8000\n",
      "Epoch 22/30\n",
      "100/100 [==============================] - 7s 72ms/step - loss: 0.5645 - acc: 0.7087 - val_loss: 0.6614 - val_acc: 0.8000\n",
      "Epoch 23/30\n",
      "100/100 [==============================] - 7s 72ms/step - loss: 0.5531 - acc: 0.7150 - val_loss: 0.3797 - val_acc: 0.9000\n",
      "Epoch 24/30\n",
      "100/100 [==============================] - 7s 72ms/step - loss: 0.5383 - acc: 0.7450 - val_loss: 0.5345 - val_acc: 0.8000\n",
      "Epoch 25/30\n",
      "100/100 [==============================] - 7s 72ms/step - loss: 0.5373 - acc: 0.7262 - val_loss: 0.3010 - val_acc: 0.9000\n",
      "Epoch 26/30\n",
      "100/100 [==============================] - 7s 72ms/step - loss: 0.5537 - acc: 0.6988 - val_loss: 0.4028 - val_acc: 0.7000\n",
      "Epoch 27/30\n",
      "100/100 [==============================] - 7s 72ms/step - loss: 0.5570 - acc: 0.7175 - val_loss: 0.6177 - val_acc: 0.5000\n",
      "Epoch 28/30\n",
      "100/100 [==============================] - 7s 71ms/step - loss: 0.4910 - acc: 0.7700 - val_loss: 0.5907 - val_acc: 0.9000\n",
      "Epoch 29/30\n",
      "100/100 [==============================] - 7s 72ms/step - loss: 0.5291 - acc: 0.7325 - val_loss: 0.5211 - val_acc: 0.8000\n",
      "Epoch 30/30\n",
      "100/100 [==============================] - 7s 72ms/step - loss: 0.4956 - acc: 0.7600 - val_loss: 0.3031 - val_acc: 0.9000\n"
     ]
    }
   ],
   "source": [
    "importlib.reload(cbuild)\n",
    "#Z_reader = ['E103312835_1','12823036_0','12569915_0','E102093118_0','E102782525_0','12799652_0','E100894274_0','12874178_3','E100314676_0','12842070_0','13092836_2','12239783_0','12783467_0','13092966_0','E100962970_0','E100183257_1','E102634440_0','E106182827_0','12582632_0','E100121654_0','E100407633_0','E105310461_0','12788616_0','E101225606_0','12678910_1','E101083458_1','12324408_0','13031955_0','E101415263_0','E103192914_0','12888679_2','E106096969_0','E100192709_1','13112385_1','E100718398_0','12207268_0','E105244287_0','E102095465_0','E102613189_0','12961059_0','11907521_0','E105311123_0','12552705_0','E100610622_0','12975280_0','E105918926_0','E103020139_1','E101069048_1','E105427046_0','13028374_0','E100262351_0','12302576_0','12451831_0','E102929168_0','E100383453_0','E105344747_0','12569826_0','E100168661_0','12530153_0','E104697262_0']\n",
    "X_test, Y_test, train_generator, num_samples, train_orig, Z = cbuild.get_cnn_data(n=4, n_art=0)#, Z_test_fixed=Z_reader)\n",
    "Z_test, Z_train_orig = Z\n",
    "X_train_orig, Y_train_orig = train_orig\n",
    "hist = model.fit_generator(train_generator, steps_per_epoch=T.steps_per_epoch, epochs=T.epochs, validation_data=[X_test, Y_test])#, callbacks=[T.early_stopping])"
   ]
  },
  {
   "cell_type": "code",
   "execution_count": null,
   "metadata": {
    "collapsed": true
   },
   "outputs": [],
   "source": [
    "model = cbuild.build_cnn_demogr()\n",
    "model.summary(line_length=120)\n",
    "X_test, Y_test, train_generator, num_samples, train_orig = cbuild.get_cnn_demogr(n=4)\n",
    "hist = model.fit_generator(train_generator, steps_per_epoch=T.steps_per_epoch, epochs=T.epochs, validation_data=[X_test, Y_test])#, callbacks=[T.early_stopping])"
   ]
  },
  {
   "cell_type": "code",
   "execution_count": 6,
   "metadata": {
    "collapsed": true
   },
   "outputs": [],
   "source": [
    "#from keras.utils import multi_gpu_model\n",
    "#model = multi_gpu_model(model, gpus=2)"
   ]
  },
  {
   "cell_type": "code",
   "execution_count": null,
   "metadata": {
    "collapsed": true
   },
   "outputs": [],
   "source": [
    "import voi_methods as vm\n",
    "vm.reset_accnum('E105464882')"
   ]
  },
  {
   "cell_type": "code",
   "execution_count": null,
   "metadata": {
    "collapsed": true
   },
   "outputs": [],
   "source": [
    "voi_df = drm"
   ]
  },
  {
   "cell_type": "code",
   "execution_count": 14,
   "metadata": {
    "collapsed": true
   },
   "outputs": [],
   "source": [
    "T.epochs=10"
   ]
  },
  {
   "cell_type": "code",
   "execution_count": 15,
   "metadata": {
    "scrolled": true
   },
   "outputs": [
    {
     "name": "stdout",
     "output_type": "stream",
     "text": [
      "Epoch 1/10\n",
      "750/750 [==============================] - 137s 182ms/step - loss: 0.0930 - acc: 0.9689 - val_loss: 1.5230 - val_acc: 0.8333\n",
      "Epoch 2/10\n",
      "750/750 [==============================] - 130s 173ms/step - loss: 0.0905 - acc: 0.9687 - val_loss: 1.1607 - val_acc: 0.8333\n",
      "Epoch 3/10\n",
      "750/750 [==============================] - 131s 174ms/step - loss: 0.0834 - acc: 0.9713 - val_loss: 2.4844 - val_acc: 0.6667\n",
      "Epoch 4/10\n",
      "750/750 [==============================] - 131s 175ms/step - loss: 0.0889 - acc: 0.9696 - val_loss: 1.7865 - val_acc: 0.8333\n",
      "Epoch 5/10\n",
      "750/750 [==============================] - 131s 175ms/step - loss: 0.0792 - acc: 0.9721 - val_loss: 1.6826 - val_acc: 0.8333\n",
      "Epoch 6/10\n",
      "750/750 [==============================] - 132s 176ms/step - loss: 0.0778 - acc: 0.9733 - val_loss: 1.6794 - val_acc: 0.6667\n",
      "Epoch 7/10\n",
      "750/750 [==============================] - 132s 176ms/step - loss: 0.0752 - acc: 0.9750 - val_loss: 4.1689 - val_acc: 0.6667\n",
      "Epoch 8/10\n",
      "750/750 [==============================] - 132s 176ms/step - loss: 0.0822 - acc: 0.9716 - val_loss: 1.9687 - val_acc: 0.8333\n",
      "Epoch 9/10\n",
      "750/750 [==============================] - 133s 177ms/step - loss: 0.0718 - acc: 0.9752 - val_loss: 2.3382 - val_acc: 0.6667\n",
      "Epoch 10/10\n",
      "750/750 [==============================] - 133s 177ms/step - loss: 0.0701 - acc: 0.9769 - val_loss: 4.3281 - val_acc: 0.6667\n"
     ]
    }
   ],
   "source": [
    "hist = model.fit_generator(train_generator, steps_per_epoch=T.steps_per_epoch, epochs=T.epochs, validation_data=[X_test, Y_test])#, callbacks=[T.early_stopping])"
   ]
  },
  {
   "cell_type": "code",
   "execution_count": 82,
   "metadata": {
    "collapsed": true
   },
   "outputs": [],
   "source": [
    "model.save('E:\\\\models\\\\model_demogr.hdf5')"
   ]
  },
  {
   "cell_type": "code",
   "execution_count": null,
   "metadata": {
    "collapsed": true
   },
   "outputs": [],
   "source": [
    "import dr_methods as drm\n",
    "voi_df_art, voi_df_ven, voi_df_eq = drm.get_voi_dfs()\n",
    "small_voi_df = pd.read_csv(C.small_voi_path)"
   ]
  },
  {
   "cell_type": "code",
   "execution_count": null,
   "metadata": {
    "collapsed": true
   },
   "outputs": [],
   "source": [
    "#plot_with_bbox(fn_list[2], cls_mapping[wrong_guesses[2]])\n",
    "Y_pred = model.predict(X_test)\n",
    "y_true = np.array([max(enumerate(x), key=operator.itemgetter(1))[0] for x in Y_test])\n",
    "y_pred = np.array([max(enumerate(x), key=operator.itemgetter(1))[0] for x in Y_pred])\n",
    "\n",
    "cm = confusion_matrix(y_true, y_pred)\n",
    "f1 = f1_score(y_true, y_pred, average=\"weighted\")\n",
    "\n",
    "#save_output(Z_test, y_pred, y_true)\n",
    "\n",
    "print(accuracy_score(y_true, y_pred))\n",
    "#y_true_simp, y_pred_simp, _ = cnna.merge_classes(y_true, y_pred)\n",
    "#print(accuracy_score(y_true_simp, y_pred_simp))"
   ]
  },
  {
   "cell_type": "code",
   "execution_count": null,
   "metadata": {
    "collapsed": true
   },
   "outputs": [],
   "source": []
  },
  {
   "cell_type": "code",
   "execution_count": null,
   "metadata": {
    "collapsed": true
   },
   "outputs": [],
   "source": []
  },
  {
   "cell_type": "code",
   "execution_count": 90,
   "metadata": {
    "scrolled": true
   },
   "outputs": [
    {
     "data": {
      "text/plain": [
       "<module 'cnn_builder' from 'C:\\\\Users\\\\Clinton\\\\Documents\\\\voi-classifier\\\\python\\\\cnn_builder.py'>"
      ]
     },
     "execution_count": 90,
     "metadata": {},
     "output_type": "execute_result"
    }
   ],
   "source": [
    "importlib.reload(cbuild)"
   ]
  },
  {
   "cell_type": "code",
   "execution_count": 3,
   "metadata": {
    "collapsed": true
   },
   "outputs": [],
   "source": [
    "model = keras.models.load_model(os.path.join(C.model_dir, \"models_305.hdf5\")) #models_305"
   ]
  },
  {
   "cell_type": "code",
   "execution_count": null,
   "metadata": {
    "collapsed": true
   },
   "outputs": [],
   "source": [
    "#model_frozen = cbuild.build_frozen_model(model, last_layer=-2)"
   ]
  },
  {
   "cell_type": "code",
   "execution_count": null,
   "metadata": {
    "collapsed": true
   },
   "outputs": [],
   "source": [
    "X_test, Y_test, train_generator, num_samples, train_orig, Z = cbuild.get_cnn_data(n=4, n_art=0, Z_test=Z_reader)\n",
    "Z_test, Z_train_orig = Z\n",
    "Y_pred = model.predict(X_test)\n",
    "y_true = np.array([max(enumerate(x), key=operator.itemgetter(1))[0] for x in Y_test])\n",
    "y_pred = np.array([max(enumerate(x), key=operator.itemgetter(1))[0] for x in Y_pred])\n",
    "y_true_simp, y_pred_simp, _ = cbuild.merge_classes(y_true, y_pred)"
   ]
  },
  {
   "cell_type": "code",
   "execution_count": null,
   "metadata": {
    "collapsed": true
   },
   "outputs": [],
   "source": [
    "Y_pred = [C.classes_to_include[y] for y in y_pred]\n",
    "Y_true = [C.classes_to_include[y] for y in y_true]"
   ]
  },
  {
   "cell_type": "code",
   "execution_count": null,
   "metadata": {
    "collapsed": true
   },
   "outputs": [],
   "source": [
    "a = pd.DataFrame([Z_test,Y_pred,Y_true])"
   ]
  },
  {
   "cell_type": "code",
   "execution_count": null,
   "metadata": {
    "collapsed": true,
    "scrolled": true
   },
   "outputs": [],
   "source": [
    "a.to_csv('E:\\\\temp.csv')"
   ]
  },
  {
   "cell_type": "code",
   "execution_count": null,
   "metadata": {
    "collapsed": true
   },
   "outputs": [],
   "source": [
    "acc6cls = []\n",
    "acc3cls = []\n",
    "\n",
    "for i in range(19):\n",
    "    model_num = 306+i\n",
    "    X_test, Y_test, train_generator, num_samples, train_orig, Z = cbuild.get_cnn_data(n=4, n_art=0, Z_test=df[df['model_num'] == model_num][\"z_test\"])\n",
    "    X_train_orig, Y_train_orig = train_orig\n",
    "    model = keras.models.load_model(os.path.join(C.model_dir, \"models_%d.hdf5\" % model_num)) #models_305\n",
    "    \n",
    "    Y_pred = model.predict(X_train_orig)\n",
    "    y_true = np.array([max(enumerate(x), key=operator.itemgetter(1))[0] for x in Y_train_orig])\n",
    "    y_pred = np.array([max(enumerate(x), key=operator.itemgetter(1))[0] for x in Y_pred])\n",
    "\n",
    "    acc6cls.append(accuracy_score(y_true, y_pred))\n",
    "\n",
    "    y_true_simp, y_pred_simp, _ = cbuild.merge_classes(y_true, y_pred)\n",
    "\n",
    "    acc3cls.append(accuracy_score(y_true_simp, y_pred_simp))"
   ]
  },
  {
   "cell_type": "code",
   "execution_count": null,
   "metadata": {
    "collapsed": true
   },
   "outputs": [],
   "source": [
    "df = pd.read_excel(\"Z:\\\\Inter-reader study\\\\Answer key.xlsx\")"
   ]
  },
  {
   "cell_type": "code",
   "execution_count": null,
   "metadata": {
    "collapsed": true,
    "scrolled": true
   },
   "outputs": [],
   "source": [
    "y_true = df[\"Class\"].values\n",
    "y_pred = df[\"Model\"].values"
   ]
  },
  {
   "cell_type": "code",
   "execution_count": null,
   "metadata": {
    "collapsed": true
   },
   "outputs": [],
   "source": [
    "cm = confusion_matrix(y_true, y_pred, labels=C.classes_to_include)"
   ]
  },
  {
   "cell_type": "code",
   "execution_count": null,
   "metadata": {
    "collapsed": true,
    "scrolled": false
   },
   "outputs": [],
   "source": [
    "for i in range(len(cm)):\n",
    "    print('\\t'.join(cm[:,i].astype(str)))"
   ]
  },
  {
   "cell_type": "code",
   "execution_count": null,
   "metadata": {
    "collapsed": true
   },
   "outputs": [],
   "source": [
    "fn_list = fn_list + list(Z_test[~np.equal(y_pred, y_true)])"
   ]
  },
  {
   "cell_type": "code",
   "execution_count": null,
   "metadata": {
    "collapsed": true
   },
   "outputs": [],
   "source": [
    "fn_list = fn_list + list(Z_train_orig[~np.equal(y_pred, y_true)])\n",
    "fn_list = fn_list + list(Z_train_orig[~np.equal(y_pred, y_true)])"
   ]
  },
  {
   "cell_type": "code",
   "execution_count": null,
   "metadata": {
    "collapsed": true
   },
   "outputs": [],
   "source": [
    "fn_x_list = [x+\"(\"+str(voi_df_art[voi_df_art[\"id\"] == x[:-4]][\"x1\"].values[0])+\")\" for x in fn_list]"
   ]
  },
  {
   "cell_type": "code",
   "execution_count": null,
   "metadata": {
    "collapsed": true
   },
   "outputs": [],
   "source": [
    "unique, counts = np.unique(fn_x_list, return_counts=True)"
   ]
  },
  {
   "cell_type": "code",
   "execution_count": null,
   "metadata": {
    "collapsed": true
   },
   "outputs": [],
   "source": [
    "dict(zip(unique, counts))"
   ]
  },
  {
   "cell_type": "code",
   "execution_count": 195,
   "metadata": {
    "collapsed": true
   },
   "outputs": [],
   "source": [
    "Y_pred = model.predict(X_train_orig)\n",
    "y_true = np.array([max(enumerate(x), key=operator.itemgetter(1))[0] for x in Y_train_orig])\n",
    "y_pred = np.array([max(enumerate(x), key=operator.itemgetter(1))[0] for x in Y_pred])\n",
    "\n",
    "cm = confusion_matrix(y_true, y_pred)\n",
    "f1 = f1_score(y_true, y_pred, average=\"weighted\")\n",
    "\n",
    "#cbuild.save_output(Z_train_orig, y_pred, y_true)#, save_dir=C.output_img_dir+\"\\\\training\")"
   ]
  },
  {
   "cell_type": "code",
   "execution_count": 134,
   "metadata": {
    "scrolled": false
   },
   "outputs": [
    {
     "data": {
      "text/plain": [
       "<module 'cnn_builder' from 'C:\\\\Users\\\\Clinton\\\\Documents\\\\voi-classifier\\\\python\\\\cnn_builder.py'>"
      ]
     },
     "execution_count": 134,
     "metadata": {},
     "output_type": "execute_result"
    }
   ],
   "source": [
    "importlib.reload(cbuild)"
   ]
  },
  {
   "cell_type": "code",
   "execution_count": null,
   "metadata": {
    "collapsed": true
   },
   "outputs": [],
   "source": []
  }
 ],
 "metadata": {
  "kernelspec": {
   "display_name": "Python 3",
   "language": "python",
   "name": "python3"
  },
  "language_info": {
   "codemirror_mode": {
    "name": "ipython",
    "version": 3
   },
   "file_extension": ".py",
   "mimetype": "text/x-python",
   "name": "python",
   "nbconvert_exporter": "python",
   "pygments_lexer": "ipython3",
   "version": "3.5.0"
  },
  "varInspector": {
   "cols": {
    "lenName": 16,
    "lenType": 16,
    "lenVar": 40
   },
   "kernels_config": {
    "python": {
     "delete_cmd_postfix": "",
     "delete_cmd_prefix": "del ",
     "library": "var_list.py",
     "varRefreshCmd": "print(var_dic_list())"
    },
    "r": {
     "delete_cmd_postfix": ") ",
     "delete_cmd_prefix": "rm(",
     "library": "var_list.r",
     "varRefreshCmd": "cat(var_dic_list()) "
    }
   },
   "types_to_exclude": [
    "module",
    "function",
    "builtin_function_or_method",
    "instance",
    "_Feature"
   ],
   "window_display": false
  }
 },
 "nbformat": 4,
 "nbformat_minor": 2
}
