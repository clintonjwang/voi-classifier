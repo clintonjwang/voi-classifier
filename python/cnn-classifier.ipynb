{
 "cells": [
  {
   "cell_type": "code",
   "execution_count": 2,
   "metadata": {
    "scrolled": false
   },
   "outputs": [
    {
     "name": "stderr",
     "output_type": "stream",
     "text": [
      "C:\\Users\\Clinton\\AppData\\Local\\conda\\conda\\envs\\old-keras\\lib\\site-packages\\h5py\\__init__.py:34: FutureWarning: Conversion of the second argument of issubdtype from `float` to `np.floating` is deprecated. In future, it will be treated as `np.float64 == np.dtype(float).type`.\n",
      "  from ._conv import register_converters as _register_converters\n",
      "Using TensorFlow backend.\n"
     ]
    }
   ],
   "source": [
    "from keras.models import Model\n",
    "import keras.models\n",
    "import keras.layers as layers\n",
    "from keras.optimizers import Adam\n",
    "from keras.callbacks import EarlyStopping\n",
    "from keras.utils import np_utils\n",
    "from sklearn.metrics import confusion_matrix, f1_score, accuracy_score\n",
    "from keras import backend as K\n",
    "\n",
    "import argparse\n",
    "import copy\n",
    "import cnn_analyzer as cnna\n",
    "import cnn_builder as cbuild\n",
    "import cnn_runner as crun\n",
    "import config\n",
    "import csv\n",
    "import niftiutils.helper_fxns as hf\n",
    "import niftiutils.transforms as tr\n",
    "import importlib\n",
    "import itertools\n",
    "from math import sqrt, log, pi, exp\n",
    "import matplotlib.pyplot as plt\n",
    "from numba import jit, njit, prange, vectorize, guvectorize\n",
    "from numpy import matmul, diag\n",
    "import numpy as np\n",
    "import operator\n",
    "import os\n",
    "from os.path import *\n",
    "import pandas as pd\n",
    "import random\n",
    "import scipy\n",
    "import time\n",
    "%matplotlib inline"
   ]
  },
  {
   "cell_type": "code",
   "execution_count": 3,
   "metadata": {},
   "outputs": [],
   "source": [
    "importlib.reload(config)\n",
    "importlib.reload(hf)\n",
    "importlib.reload(cbuild)\n",
    "importlib.reload(crun)\n",
    "C = config.Config()\n",
    "T = config.Hyperparams()\n",
    "#T.steps_per_epoch = 50\n",
    "#T.epochs= 1\n",
    "#T.get_best_hyperparams()"
   ]
  },
  {
   "cell_type": "code",
   "execution_count": 20,
   "metadata": {
    "collapsed": true
   },
   "outputs": [],
   "source": [
    "T.padding = ['same', 'same']\n",
    "T.pool_sizes = [(2,2,2),(2,2,2)]\n",
    "T.f = [64,64,64,64,64,64,64]\n",
    "T.skip_con = True"
   ]
  },
  {
   "cell_type": "code",
   "execution_count": null,
   "metadata": {
    "collapsed": true
   },
   "outputs": [],
   "source": [
    "crun.run_fixed_hyperparams([C], hyperparams=T)#C_list)"
   ]
  },
  {
   "cell_type": "code",
   "execution_count": 21,
   "metadata": {},
   "outputs": [
    {
     "name": "stdout",
     "output_type": "stream",
     "text": [
      "______________________________________________________________________________________________________________________________________________________\n",
      "Layer (type)                                     Output Shape                     Param #           Connected to                                      \n",
      "======================================================================================================================================================\n",
      "input_6 (InputLayer)                             (None, 24, 24, 12, 3)            0                                                                   \n",
      "______________________________________________________________________________________________________________________________________________________\n",
      "lambda_13 (Lambda)                               (None, 24, 24, 12, 1)            0                 input_6[0][0]                                     \n",
      "______________________________________________________________________________________________________________________________________________________\n",
      "lambda_14 (Lambda)                               (None, 24, 24, 12, 1)            0                 input_6[0][0]                                     \n",
      "______________________________________________________________________________________________________________________________________________________\n",
      "lambda_15 (Lambda)                               (None, 24, 24, 12, 1)            0                 input_6[0][0]                                     \n",
      "______________________________________________________________________________________________________________________________________________________\n",
      "conv3d_40 (Conv3D)                               (None, 24, 24, 12, 64)           1216              lambda_13[0][0]                                   \n",
      "______________________________________________________________________________________________________________________________________________________\n",
      "conv3d_41 (Conv3D)                               (None, 24, 24, 12, 64)           1216              lambda_14[0][0]                                   \n",
      "______________________________________________________________________________________________________________________________________________________\n",
      "conv3d_42 (Conv3D)                               (None, 24, 24, 12, 64)           1216              lambda_15[0][0]                                   \n",
      "______________________________________________________________________________________________________________________________________________________\n",
      "concatenate_8 (Concatenate)                      (None, 24, 24, 12, 192)          0                 conv3d_40[0][0]                                   \n",
      "                                                                                                    conv3d_41[0][0]                                   \n",
      "                                                                                                    conv3d_42[0][0]                                   \n",
      "______________________________________________________________________________________________________________________________________________________\n",
      "activation_37 (Activation)                       (None, 24, 24, 12, 192)          0                 concatenate_8[0][0]                               \n",
      "______________________________________________________________________________________________________________________________________________________\n",
      "dropout_37 (Dropout)                             (None, 24, 24, 12, 192)          0                 activation_37[0][0]                               \n",
      "______________________________________________________________________________________________________________________________________________________\n",
      "max_pooling3d_11 (MaxPooling3D)                  (None, 12, 12, 6, 192)           0                 dropout_37[0][0]                                  \n",
      "______________________________________________________________________________________________________________________________________________________\n",
      "batch_normalization_37 (BatchNormalization)      (None, 12, 12, 6, 192)           768               max_pooling3d_11[0][0]                            \n",
      "______________________________________________________________________________________________________________________________________________________\n",
      "conv3d_43 (Conv3D)                               (None, 12, 12, 6, 64)            221248            batch_normalization_37[0][0]                      \n",
      "______________________________________________________________________________________________________________________________________________________\n",
      "batch_normalization_38 (BatchNormalization)      (None, 12, 12, 6, 64)            256               conv3d_43[0][0]                                   \n",
      "______________________________________________________________________________________________________________________________________________________\n",
      "activation_38 (Activation)                       (None, 12, 12, 6, 64)            0                 batch_normalization_38[0][0]                      \n",
      "______________________________________________________________________________________________________________________________________________________\n",
      "dropout_38 (Dropout)                             (None, 12, 12, 6, 64)            0                 activation_38[0][0]                               \n",
      "______________________________________________________________________________________________________________________________________________________\n",
      "conv3d_44 (Conv3D)                               (None, 12, 12, 6, 64)            73792             dropout_38[0][0]                                  \n",
      "______________________________________________________________________________________________________________________________________________________\n",
      "batch_normalization_39 (BatchNormalization)      (None, 12, 12, 6, 64)            256               conv3d_44[0][0]                                   \n",
      "______________________________________________________________________________________________________________________________________________________\n",
      "activation_39 (Activation)                       (None, 12, 12, 6, 64)            0                 batch_normalization_39[0][0]                      \n",
      "______________________________________________________________________________________________________________________________________________________\n",
      "dropout_39 (Dropout)                             (None, 12, 12, 6, 64)            0                 activation_39[0][0]                               \n",
      "______________________________________________________________________________________________________________________________________________________\n",
      "conv3d_45 (Conv3D)                               (None, 12, 12, 6, 64)            73792             dropout_39[0][0]                                  \n",
      "______________________________________________________________________________________________________________________________________________________\n",
      "batch_normalization_40 (BatchNormalization)      (None, 12, 12, 6, 64)            256               conv3d_45[0][0]                                   \n",
      "______________________________________________________________________________________________________________________________________________________\n",
      "activation_40 (Activation)                       (None, 12, 12, 6, 64)            0                 batch_normalization_40[0][0]                      \n",
      "______________________________________________________________________________________________________________________________________________________\n",
      "dropout_40 (Dropout)                             (None, 12, 12, 6, 64)            0                 activation_40[0][0]                               \n",
      "______________________________________________________________________________________________________________________________________________________\n",
      "conv3d_46 (Conv3D)                               (None, 12, 12, 6, 64)            73792             dropout_40[0][0]                                  \n",
      "______________________________________________________________________________________________________________________________________________________\n",
      "batch_normalization_41 (BatchNormalization)      (None, 12, 12, 6, 64)            256               conv3d_46[0][0]                                   \n",
      "______________________________________________________________________________________________________________________________________________________\n",
      "activation_41 (Activation)                       (None, 12, 12, 6, 64)            0                 batch_normalization_41[0][0]                      \n",
      "______________________________________________________________________________________________________________________________________________________\n",
      "dropout_41 (Dropout)                             (None, 12, 12, 6, 64)            0                 activation_41[0][0]                               \n",
      "______________________________________________________________________________________________________________________________________________________\n",
      "conv3d_47 (Conv3D)                               (None, 12, 12, 6, 64)            73792             dropout_41[0][0]                                  \n",
      "______________________________________________________________________________________________________________________________________________________\n",
      "concatenate_9 (Concatenate)                      (None, 12, 12, 6, 128)           0                 conv3d_47[0][0]                                   \n",
      "                                                                                                    conv3d_43[0][0]                                   \n",
      "______________________________________________________________________________________________________________________________________________________\n",
      "batch_normalization_42 (BatchNormalization)      (None, 12, 12, 6, 128)           512               concatenate_9[0][0]                               \n",
      "______________________________________________________________________________________________________________________________________________________\n",
      "activation_42 (Activation)                       (None, 12, 12, 6, 128)           0                 batch_normalization_42[0][0]                      \n",
      "______________________________________________________________________________________________________________________________________________________\n",
      "dropout_42 (Dropout)                             (None, 12, 12, 6, 128)           0                 activation_42[0][0]                               \n",
      "______________________________________________________________________________________________________________________________________________________\n",
      "conv3d_48 (Conv3D)                               (None, 12, 12, 6, 64)            147520            dropout_42[0][0]                                  \n",
      "______________________________________________________________________________________________________________________________________________________\n",
      "batch_normalization_43 (BatchNormalization)      (None, 12, 12, 6, 64)            256               conv3d_48[0][0]                                   \n",
      "______________________________________________________________________________________________________________________________________________________\n",
      "activation_43 (Activation)                       (None, 12, 12, 6, 64)            0                 batch_normalization_43[0][0]                      \n",
      "______________________________________________________________________________________________________________________________________________________\n",
      "dropout_43 (Dropout)                             (None, 12, 12, 6, 64)            0                 activation_43[0][0]                               \n",
      "______________________________________________________________________________________________________________________________________________________\n",
      "max_pooling3d_12 (MaxPooling3D)                  (None, 6, 6, 3, 64)              0                 dropout_43[0][0]                                  \n",
      "______________________________________________________________________________________________________________________________________________________\n",
      "flatten_6 (Flatten)                              (None, 6912)                     0                 max_pooling3d_12[0][0]                            \n",
      "______________________________________________________________________________________________________________________________________________________\n",
      "dense_10 (Dense)                                 (None, 100)                      691300            flatten_6[0][0]                                   \n",
      "______________________________________________________________________________________________________________________________________________________\n",
      "batch_normalization_44 (BatchNormalization)      (None, 100)                      400               dense_10[0][0]                                    \n",
      "______________________________________________________________________________________________________________________________________________________\n",
      "dropout_44 (Dropout)                             (None, 100)                      0                 batch_normalization_44[0][0]                      \n",
      "______________________________________________________________________________________________________________________________________________________\n",
      "activation_44 (Activation)                       (None, 100)                      0                 dropout_44[0][0]                                  \n",
      "______________________________________________________________________________________________________________________________________________________\n",
      "dense_11 (Dense)                                 (None, 6)                        606               activation_44[0][0]                               \n",
      "======================================================================================================================================================\n",
      "Total params: 1,362,450\n",
      "Trainable params: 1,360,970\n",
      "Non-trainable params: 1,480\n",
      "______________________________________________________________________________________________________________________________________________________\n"
     ]
    }
   ],
   "source": [
    "model = cbuild.build_cnn_hyperparams(T)\n",
    "model.summary(line_length=150)"
   ]
  },
  {
   "cell_type": "code",
   "execution_count": 12,
   "metadata": {
    "collapsed": true
   },
   "outputs": [],
   "source": [
    "#Z_reader = ['E103312835_1','12823036_0','12569915_0','E102093118_0','E102782525_0','12799652_0','E100894274_0','12874178_3','E100314676_0','12842070_0','13092836_2','12239783_0','12783467_0','13092966_0','E100962970_0','E100183257_1','E102634440_0','E106182827_0','12582632_0','E100121654_0','E100407633_0','E105310461_0','12788616_0','E101225606_0','12678910_1','E101083458_1','12324408_0','13031955_0','E101415263_0','E103192914_0','12888679_2','E106096969_0','E100192709_1','13112385_1','E100718398_0','12207268_0','E105244287_0','E102095465_0','E102613189_0','12961059_0','11907521_0','E105311123_0','12552705_0','E100610622_0','12975280_0','E105918926_0','E103020139_1','E101069048_1','E105427046_0','13028374_0','E100262351_0','12302576_0','12451831_0','E102929168_0','E100383453_0','E105344747_0','12569826_0','E100168661_0','12530153_0','E104697262_0']\n",
    "X_test, Y_test, train_generator, num_samples, train_orig, Z = cbuild.get_cnn_data(n=4, n_art=0)#, Z_test_fixed=Z_reader)\n",
    "Z_test, Z_train_orig = Z\n",
    "X_train_orig, Y_train_orig = train_orig"
   ]
  },
  {
   "cell_type": "code",
   "execution_count": 6,
   "metadata": {
    "collapsed": true
   },
   "outputs": [],
   "source": [
    "#from keras.utils import multi_gpu_model\n",
    "#model = multi_gpu_model(model, gpus=2)"
   ]
  },
  {
   "cell_type": "code",
   "execution_count": 22,
   "metadata": {
    "scrolled": true
   },
   "outputs": [
    {
     "name": "stdout",
     "output_type": "stream",
     "text": [
      "Epoch 1/30\n",
      "750/750 [==============================] - 261s 348ms/step - loss: 0.7623 - acc: 0.6976 - val_loss: 0.8023 - val_acc: 0.7333\n",
      "Epoch 2/30\n",
      "750/750 [==============================] - 171s 227ms/step - loss: 0.4506 - acc: 0.8261 - val_loss: 0.7141 - val_acc: 0.7833\n",
      "Epoch 3/30\n",
      "750/750 [==============================] - 127s 169ms/step - loss: 0.3439 - acc: 0.8716 - val_loss: 0.4433 - val_acc: 0.8833\n",
      "Epoch 4/30\n",
      "750/750 [==============================] - 105s 139ms/step - loss: 0.2549 - acc: 0.9052 - val_loss: 0.6721 - val_acc: 0.7833\n",
      "Epoch 5/30\n",
      "750/750 [==============================] - 99s 133ms/step - loss: 0.2276 - acc: 0.9173 - val_loss: 0.4041 - val_acc: 0.9000\n",
      "Epoch 6/30\n",
      "750/750 [==============================] - 100s 133ms/step - loss: 0.1781 - acc: 0.9362 - val_loss: 0.4918 - val_acc: 0.8167\n",
      "Epoch 7/30\n",
      "750/750 [==============================] - 100s 133ms/step - loss: 0.1558 - acc: 0.9429 - val_loss: 0.6364 - val_acc: 0.7833\n",
      "Epoch 8/30\n",
      "750/750 [==============================] - 101s 135ms/step - loss: 0.1394 - acc: 0.9494 - val_loss: 0.6466 - val_acc: 0.7833\n",
      "Epoch 9/30\n",
      "750/750 [==============================] - 100s 133ms/step - loss: 0.1245 - acc: 0.9546 - val_loss: 0.7612 - val_acc: 0.7500\n",
      "Epoch 10/30\n",
      "750/750 [==============================] - 100s 133ms/step - loss: 0.1138 - acc: 0.9588 - val_loss: 0.9116 - val_acc: 0.7167\n",
      "Epoch 11/30\n",
      "750/750 [==============================] - 100s 134ms/step - loss: 0.0942 - acc: 0.9674 - val_loss: 0.7355 - val_acc: 0.8667\n",
      "Epoch 12/30\n",
      "750/750 [==============================] - 100s 134ms/step - loss: 0.0862 - acc: 0.9688 - val_loss: 0.8711 - val_acc: 0.7500\n",
      "Epoch 13/30\n",
      "750/750 [==============================] - 100s 134ms/step - loss: 0.0783 - acc: 0.9727 - val_loss: 0.9360 - val_acc: 0.8167\n",
      "Epoch 14/30\n",
      "750/750 [==============================] - 100s 133ms/step - loss: 0.0726 - acc: 0.9751 - val_loss: 1.0252 - val_acc: 0.7667\n",
      "Epoch 15/30\n",
      "750/750 [==============================] - 101s 135ms/step - loss: 0.0611 - acc: 0.9794 - val_loss: 0.8389 - val_acc: 0.8000\n",
      "Epoch 16/30\n",
      "750/750 [==============================] - 101s 134ms/step - loss: 0.0676 - acc: 0.9760 - val_loss: 0.8253 - val_acc: 0.8000\n",
      "Epoch 17/30\n",
      "750/750 [==============================] - 101s 134ms/step - loss: 0.0576 - acc: 0.9794 - val_loss: 0.8910 - val_acc: 0.7833\n",
      "Epoch 18/30\n",
      "750/750 [==============================] - 101s 134ms/step - loss: 0.0503 - acc: 0.9825 - val_loss: 1.0848 - val_acc: 0.8167\n",
      "Epoch 19/30\n",
      "750/750 [==============================] - 101s 134ms/step - loss: 0.0545 - acc: 0.9814 - val_loss: 0.7926 - val_acc: 0.7833\n",
      "Epoch 20/30\n",
      "750/750 [==============================] - 100s 134ms/step - loss: 0.0506 - acc: 0.9817 - val_loss: 0.9223 - val_acc: 0.7667\n",
      "Epoch 21/30\n",
      "750/750 [==============================] - 101s 134ms/step - loss: 0.0452 - acc: 0.9842 - val_loss: 0.7194 - val_acc: 0.8333\n",
      "Epoch 22/30\n",
      "750/750 [==============================] - 101s 135ms/step - loss: 0.0457 - acc: 0.9839 - val_loss: 0.8633 - val_acc: 0.8333\n",
      "Epoch 23/30\n",
      "750/750 [==============================] - 101s 135ms/step - loss: 0.0403 - acc: 0.9859 - val_loss: 1.1292 - val_acc: 0.8167\n",
      "Epoch 24/30\n",
      "750/750 [==============================] - 102s 135ms/step - loss: 0.0351 - acc: 0.9874 - val_loss: 0.6778 - val_acc: 0.8500\n",
      "Epoch 25/30\n",
      "750/750 [==============================] - 101s 134ms/step - loss: 0.0325 - acc: 0.9885 - val_loss: 1.1056 - val_acc: 0.7500\n",
      "Epoch 26/30\n",
      "750/750 [==============================] - 101s 135ms/step - loss: 0.0369 - acc: 0.9869 - val_loss: 1.1617 - val_acc: 0.8000\n",
      "Epoch 27/30\n",
      "750/750 [==============================] - 101s 135ms/step - loss: 0.0344 - acc: 0.9882 - val_loss: 0.8591 - val_acc: 0.8000\n",
      "Epoch 28/30\n",
      "750/750 [==============================] - 102s 136ms/step - loss: 0.0300 - acc: 0.9898 - val_loss: 0.8568 - val_acc: 0.7833\n",
      "Epoch 29/30\n",
      "750/750 [==============================] - 101s 134ms/step - loss: 0.0271 - acc: 0.9911 - val_loss: 1.0762 - val_acc: 0.7667\n",
      "Epoch 30/30\n",
      "750/750 [==============================] - 101s 135ms/step - loss: 0.0337 - acc: 0.9887 - val_loss: 1.1294 - val_acc: 0.8000\n"
     ]
    }
   ],
   "source": [
    "hist = model.fit_generator(train_generator, steps_per_epoch=T.steps_per_epoch, epochs=T.epochs, validation_data=[X_test, Y_test])#, callbacks=[T.early_stopping])"
   ]
  },
  {
   "cell_type": "code",
   "execution_count": 23,
   "metadata": {
    "collapsed": true
   },
   "outputs": [],
   "source": [
    "model.save('E:\\\\models\\\\model_skipcon.hdf5')"
   ]
  },
  {
   "cell_type": "code",
   "execution_count": null,
   "metadata": {
    "collapsed": true
   },
   "outputs": [],
   "source": [
    "import dr_methods as drm\n",
    "voi_df_art, voi_df_ven, voi_df_eq = drm.get_voi_dfs()\n",
    "small_voi_df = pd.read_csv(C.small_voi_path)"
   ]
  },
  {
   "cell_type": "code",
   "execution_count": null,
   "metadata": {
    "collapsed": true
   },
   "outputs": [],
   "source": [
    "#plot_with_bbox(fn_list[2], cls_mapping[wrong_guesses[2]])\n",
    "Y_pred = model.predict(X_test)\n",
    "y_true = np.array([max(enumerate(x), key=operator.itemgetter(1))[0] for x in Y_test])\n",
    "y_pred = np.array([max(enumerate(x), key=operator.itemgetter(1))[0] for x in Y_pred])\n",
    "\n",
    "cm = confusion_matrix(y_true, y_pred)\n",
    "f1 = f1_score(y_true, y_pred, average=\"weighted\")\n",
    "\n",
    "#save_output(Z_test, y_pred, y_true)\n",
    "\n",
    "print(accuracy_score(y_true, y_pred))\n",
    "#y_true_simp, y_pred_simp, _ = cnna.merge_classes(y_true, y_pred)\n",
    "#print(accuracy_score(y_true_simp, y_pred_simp))"
   ]
  },
  {
   "cell_type": "code",
   "execution_count": null,
   "metadata": {
    "collapsed": true
   },
   "outputs": [],
   "source": []
  },
  {
   "cell_type": "code",
   "execution_count": null,
   "metadata": {
    "collapsed": true
   },
   "outputs": [],
   "source": []
  },
  {
   "cell_type": "code",
   "execution_count": 90,
   "metadata": {
    "scrolled": true
   },
   "outputs": [
    {
     "data": {
      "text/plain": [
       "<module 'cnn_builder' from 'C:\\\\Users\\\\Clinton\\\\Documents\\\\voi-classifier\\\\python\\\\cnn_builder.py'>"
      ]
     },
     "execution_count": 90,
     "metadata": {},
     "output_type": "execute_result"
    }
   ],
   "source": [
    "importlib.reload(cbuild)"
   ]
  },
  {
   "cell_type": "code",
   "execution_count": 3,
   "metadata": {
    "collapsed": true
   },
   "outputs": [],
   "source": [
    "model = keras.models.load_model(os.path.join(C.model_dir, \"models_305.hdf5\")) #models_305"
   ]
  },
  {
   "cell_type": "code",
   "execution_count": null,
   "metadata": {
    "collapsed": true
   },
   "outputs": [],
   "source": [
    "#model_frozen = cbuild.build_frozen_model(model, last_layer=-2)"
   ]
  },
  {
   "cell_type": "code",
   "execution_count": null,
   "metadata": {
    "collapsed": true
   },
   "outputs": [],
   "source": [
    "X_test, Y_test, train_generator, num_samples, train_orig, Z = cbuild.get_cnn_data(n=4, n_art=0, Z_test=Z_reader)\n",
    "Z_test, Z_train_orig = Z\n",
    "Y_pred = model.predict(X_test)\n",
    "y_true = np.array([max(enumerate(x), key=operator.itemgetter(1))[0] for x in Y_test])\n",
    "y_pred = np.array([max(enumerate(x), key=operator.itemgetter(1))[0] for x in Y_pred])\n",
    "y_true_simp, y_pred_simp, _ = cbuild.merge_classes(y_true, y_pred)"
   ]
  },
  {
   "cell_type": "code",
   "execution_count": null,
   "metadata": {
    "collapsed": true
   },
   "outputs": [],
   "source": [
    "Y_pred = [C.classes_to_include[y] for y in y_pred]\n",
    "Y_true = [C.classes_to_include[y] for y in y_true]"
   ]
  },
  {
   "cell_type": "code",
   "execution_count": null,
   "metadata": {
    "collapsed": true
   },
   "outputs": [],
   "source": [
    "a = pd.DataFrame([Z_test,Y_pred,Y_true])"
   ]
  },
  {
   "cell_type": "code",
   "execution_count": null,
   "metadata": {
    "collapsed": true,
    "scrolled": true
   },
   "outputs": [],
   "source": [
    "a.to_csv('E:\\\\temp.csv')"
   ]
  },
  {
   "cell_type": "code",
   "execution_count": null,
   "metadata": {
    "collapsed": true
   },
   "outputs": [],
   "source": [
    "acc6cls = []\n",
    "acc3cls = []\n",
    "\n",
    "for i in range(19):\n",
    "    model_num = 306+i\n",
    "    X_test, Y_test, train_generator, num_samples, train_orig, Z = cbuild.get_cnn_data(n=4, n_art=0, Z_test=df[df['model_num'] == model_num][\"z_test\"])\n",
    "    X_train_orig, Y_train_orig = train_orig\n",
    "    model = keras.models.load_model(os.path.join(C.model_dir, \"models_%d.hdf5\" % model_num)) #models_305\n",
    "    \n",
    "    Y_pred = model.predict(X_train_orig)\n",
    "    y_true = np.array([max(enumerate(x), key=operator.itemgetter(1))[0] for x in Y_train_orig])\n",
    "    y_pred = np.array([max(enumerate(x), key=operator.itemgetter(1))[0] for x in Y_pred])\n",
    "\n",
    "    acc6cls.append(accuracy_score(y_true, y_pred))\n",
    "\n",
    "    y_true_simp, y_pred_simp, _ = cbuild.merge_classes(y_true, y_pred)\n",
    "\n",
    "    acc3cls.append(accuracy_score(y_true_simp, y_pred_simp))"
   ]
  },
  {
   "cell_type": "code",
   "execution_count": null,
   "metadata": {
    "collapsed": true
   },
   "outputs": [],
   "source": [
    "df = pd.read_excel(\"Z:\\\\Inter-reader study\\\\Answer key.xlsx\")"
   ]
  },
  {
   "cell_type": "code",
   "execution_count": null,
   "metadata": {
    "collapsed": true,
    "scrolled": true
   },
   "outputs": [],
   "source": [
    "y_true = df[\"Class\"].values\n",
    "y_pred = df[\"Model\"].values"
   ]
  },
  {
   "cell_type": "code",
   "execution_count": null,
   "metadata": {
    "collapsed": true
   },
   "outputs": [],
   "source": [
    "cm = confusion_matrix(y_true, y_pred, labels=C.classes_to_include)"
   ]
  },
  {
   "cell_type": "code",
   "execution_count": null,
   "metadata": {
    "collapsed": true,
    "scrolled": false
   },
   "outputs": [],
   "source": [
    "for i in range(len(cm)):\n",
    "    print('\\t'.join(cm[:,i].astype(str)))"
   ]
  },
  {
   "cell_type": "code",
   "execution_count": null,
   "metadata": {
    "collapsed": true
   },
   "outputs": [],
   "source": [
    "fn_list = fn_list + list(Z_test[~np.equal(y_pred, y_true)])"
   ]
  },
  {
   "cell_type": "code",
   "execution_count": null,
   "metadata": {
    "collapsed": true
   },
   "outputs": [],
   "source": [
    "fn_list = fn_list + list(Z_train_orig[~np.equal(y_pred, y_true)])\n",
    "fn_list = fn_list + list(Z_train_orig[~np.equal(y_pred, y_true)])"
   ]
  },
  {
   "cell_type": "code",
   "execution_count": null,
   "metadata": {
    "collapsed": true
   },
   "outputs": [],
   "source": [
    "fn_x_list = [x+\"(\"+str(voi_df_art[voi_df_art[\"id\"] == x[:-4]][\"x1\"].values[0])+\")\" for x in fn_list]"
   ]
  },
  {
   "cell_type": "code",
   "execution_count": null,
   "metadata": {
    "collapsed": true
   },
   "outputs": [],
   "source": [
    "unique, counts = np.unique(fn_x_list, return_counts=True)"
   ]
  },
  {
   "cell_type": "code",
   "execution_count": null,
   "metadata": {
    "collapsed": true
   },
   "outputs": [],
   "source": [
    "dict(zip(unique, counts))"
   ]
  },
  {
   "cell_type": "code",
   "execution_count": 195,
   "metadata": {
    "collapsed": true
   },
   "outputs": [],
   "source": [
    "Y_pred = model.predict(X_train_orig)\n",
    "y_true = np.array([max(enumerate(x), key=operator.itemgetter(1))[0] for x in Y_train_orig])\n",
    "y_pred = np.array([max(enumerate(x), key=operator.itemgetter(1))[0] for x in Y_pred])\n",
    "\n",
    "cm = confusion_matrix(y_true, y_pred)\n",
    "f1 = f1_score(y_true, y_pred, average=\"weighted\")\n",
    "\n",
    "#cbuild.save_output(Z_train_orig, y_pred, y_true)#, save_dir=C.output_img_dir+\"\\\\training\")"
   ]
  },
  {
   "cell_type": "code",
   "execution_count": 134,
   "metadata": {
    "scrolled": false
   },
   "outputs": [
    {
     "data": {
      "text/plain": [
       "<module 'cnn_builder' from 'C:\\\\Users\\\\Clinton\\\\Documents\\\\voi-classifier\\\\python\\\\cnn_builder.py'>"
      ]
     },
     "execution_count": 134,
     "metadata": {},
     "output_type": "execute_result"
    }
   ],
   "source": [
    "importlib.reload(cbuild)"
   ]
  },
  {
   "cell_type": "code",
   "execution_count": null,
   "metadata": {
    "collapsed": true
   },
   "outputs": [],
   "source": []
  }
 ],
 "metadata": {
  "kernelspec": {
   "display_name": "Python 3",
   "language": "python",
   "name": "python3"
  },
  "language_info": {
   "codemirror_mode": {
    "name": "ipython",
    "version": 3
   },
   "file_extension": ".py",
   "mimetype": "text/x-python",
   "name": "python",
   "nbconvert_exporter": "python",
   "pygments_lexer": "ipython3",
   "version": "3.5.0"
  }
 },
 "nbformat": 4,
 "nbformat_minor": 2
}
