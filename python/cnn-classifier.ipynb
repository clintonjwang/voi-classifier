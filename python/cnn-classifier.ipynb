{
 "cells": [
  {
   "cell_type": "code",
   "execution_count": 1,
   "metadata": {
    "scrolled": true
   },
   "outputs": [
    {
     "name": "stderr",
     "output_type": "stream",
     "text": [
      "Using TensorFlow backend.\n"
     ]
    }
   ],
   "source": [
    "from keras.models import Model\n",
    "from keras.optimizers import Adam\n",
    "from keras.callbacks import EarlyStopping\n",
    "from keras.utils import np_utils\n",
    "from sklearn.metrics import confusion_matrix, f1_score, accuracy_score\n",
    "\n",
    "import cnn_builder as cbuild\n",
    "import config\n",
    "import csv\n",
    "import helper_fxns as hf\n",
    "import importlib\n",
    "import matplotlib.pyplot as plt\n",
    "import numpy as np\n",
    "import operator\n",
    "import os\n",
    "import pandas as pd\n",
    "import random\n",
    "%matplotlib inline"
   ]
  },
  {
   "cell_type": "code",
   "execution_count": 9,
   "metadata": {
    "scrolled": true
   },
   "outputs": [],
   "source": [
    "importlib.reload(config)\n",
    "importlib.reload(hf)\n",
    "importlib.reload(cbuild)\n",
    "C = config.Config()"
   ]
  },
  {
   "cell_type": "code",
   "execution_count": null,
   "metadata": {
    "collapsed": true
   },
   "outputs": [],
   "source": [
    "cbuild.overnight_run([C])#C_list)"
   ]
  },
  {
   "cell_type": "markdown",
   "metadata": {},
   "source": [
    "C_list = [config.Config(), config.Config()]\n",
    "C_list[0].dims = [36,36,12]\n",
    "C_list[1].dims = [24,24,12]\n",
    "C_list[0].artif_dir = \"E:\\\\imgs\\\\artif_imgs_3612\\\\\"\n",
    "C_list[1].artif_dir = \"E:\\\\imgs\\\\artif_imgs_2412\\\\\"\n",
    "C_list[0].aug_dir = \"E:\\\\imgs\\\\aug_imgs_3612_cropint\\\\\"\n",
    "C_list[1].aug_dir = \"E:\\\\imgs\\\\aug_imgs_2412_cropint\\\\\"\n",
    "C_list[0].orig_dir = \"E:\\\\imgs\\\\orig_imgs_3612_cropint\\\\\"\n",
    "C_list[1].orig_dir = \"E:\\\\imgs\\\\orig_imgs_2412_cropint\\\\\""
   ]
  },
  {
   "cell_type": "code",
   "execution_count": 10,
   "metadata": {
    "scrolled": true
   },
   "outputs": [
    {
     "name": "stdout",
     "output_type": "stream",
     "text": [
      "______________________________________________________________________________________________________________________________________________________\n",
      "Layer (type)                                                       Output Shape                                                Param #                \n",
      "======================================================================================================================================================\n",
      "input_3 (InputLayer)                                               (None, 24, 24, 12, 3)                                       0                      \n",
      "______________________________________________________________________________________________________________________________________________________\n",
      "reshape_3 (Reshape)                                                (None, 24, 24, 12, 3, 1)                                    0                      \n",
      "______________________________________________________________________________________________________________________________________________________\n",
      "permute_3 (Permute)                                                (None, 3, 24, 24, 12, 1)                                    0                      \n",
      "______________________________________________________________________________________________________________________________________________________\n",
      "time_distributed_28 (TimeDistributed)                              (None, 3, 22, 22, 11, 64)                                   1216                   \n",
      "______________________________________________________________________________________________________________________________________________________\n",
      "time_distributed_29 (TimeDistributed)                              (None, 3, 22, 22, 11, 64)                                   0                      \n",
      "______________________________________________________________________________________________________________________________________________________\n",
      "dropout_11 (Dropout)                                               (None, 3, 22, 22, 11, 64)                                   0                      \n",
      "______________________________________________________________________________________________________________________________________________________\n",
      "time_distributed_30 (TimeDistributed)                              (None, 3, 11, 11, 11, 64)                                   0                      \n",
      "______________________________________________________________________________________________________________________________________________________\n",
      "time_distributed_31 (TimeDistributed)                              (None, 3, 9, 9, 10, 128)                                    147584                 \n",
      "______________________________________________________________________________________________________________________________________________________\n",
      "time_distributed_32 (TimeDistributed)                              (None, 3, 9, 9, 10, 128)                                    0                      \n",
      "______________________________________________________________________________________________________________________________________________________\n",
      "dropout_12 (Dropout)                                               (None, 3, 9, 9, 10, 128)                                    0                      \n",
      "______________________________________________________________________________________________________________________________________________________\n",
      "time_distributed_33 (TimeDistributed)                              (None, 3, 7, 7, 9, 128)                                     295040                 \n",
      "______________________________________________________________________________________________________________________________________________________\n",
      "time_distributed_34 (TimeDistributed)                              (None, 3, 7, 7, 9, 128)                                     0                      \n",
      "______________________________________________________________________________________________________________________________________________________\n",
      "dropout_13 (Dropout)                                               (None, 3, 7, 7, 9, 128)                                     0                      \n",
      "______________________________________________________________________________________________________________________________________________________\n",
      "time_distributed_35 (TimeDistributed)                              (None, 3, 3, 3, 4, 128)                                     0                      \n",
      "______________________________________________________________________________________________________________________________________________________\n",
      "time_distributed_36 (TimeDistributed)                              (None, 3, 4608)                                             0                      \n",
      "______________________________________________________________________________________________________________________________________________________\n",
      "time_distributed_37 (TimeDistributed)                              (None, 3, 100)                                              460900                 \n",
      "______________________________________________________________________________________________________________________________________________________\n",
      "time_distributed_38 (TimeDistributed)                              (None, 3, 100)                                              0                      \n",
      "______________________________________________________________________________________________________________________________________________________\n",
      "lstm_5 (LSTM)                                                      (None, 3, 100)                                              80400                  \n",
      "______________________________________________________________________________________________________________________________________________________\n",
      "lstm_6 (LSTM)                                                      (None, 100)                                                 80400                  \n",
      "______________________________________________________________________________________________________________________________________________________\n",
      "dense_6 (Dense)                                                    (None, 6)                                                   606                    \n",
      "______________________________________________________________________________________________________________________________________________________\n",
      "batch_normalization_3 (BatchNormalization)                         (None, 6)                                                   24                     \n",
      "______________________________________________________________________________________________________________________________________________________\n",
      "activation_19 (Activation)                                         (None, 6)                                                   0                      \n",
      "======================================================================================================================================================\n",
      "Total params: 1,066,170\n",
      "Trainable params: 1,066,158\n",
      "Non-trainable params: 12\n",
      "______________________________________________________________________________________________________________________________________________________\n"
     ]
    }
   ],
   "source": [
    "model = cbuild.build_cnn(C, 'adam', f=[64,128,128], dropout=[0.1,0.1], padding=['same','valid'],\n",
    "                         merge_layer=-1, dilation_rate=(1,1,1), kernel_size=(3,3,2), non_imaging_inputs=False, time_dist=True)#Adam(lr=.005)\n",
    "model.summary(line_length=150)"
   ]
  },
  {
   "cell_type": "markdown",
   "metadata": {},
   "source": [
    "model = cbuild.run_cnn(model, C)"
   ]
  },
  {
   "cell_type": "code",
   "execution_count": 4,
   "metadata": {
    "collapsed": true,
    "scrolled": true
   },
   "outputs": [],
   "source": [
    "X_test, Y_test, train_generator, num_samples, train_orig, Z = cbuild.get_cnn_data(n=4, n_art=0, run_2d=False)\n",
    "Z_test, Z_train_orig = Z\n",
    "X_train_orig, Y_train_orig = train_orig"
   ]
  },
  {
   "cell_type": "code",
   "execution_count": null,
   "metadata": {
    "scrolled": true
   },
   "outputs": [
    {
     "name": "stdout",
     "output_type": "stream",
     "text": [
      "Epoch 1/5\n",
      " 67/500 [===>..........................] - ETA: 50s - loss: 0.1500 - acc: 0.9471"
     ]
    }
   ],
   "source": [
    "early_stopping = EarlyStopping(monitor='loss', min_delta=0.002, patience=3)\n",
    "hist = model.fit_generator(train_generator, steps_per_epoch=500, epochs=5, callbacks=[early_stopping], validation_data=[X_test, Y_test])"
   ]
  },
  {
   "cell_type": "markdown",
   "metadata": {},
   "source": [
    "model_num=1\n",
    "model.save('E:\\\\models\\\\models_%d.hdf5' % model_num)\n",
    "model_num += 1"
   ]
  },
  {
   "cell_type": "markdown",
   "metadata": {},
   "source": [
    "run_stats = pd.read_csv(C.run_stats_path)"
   ]
  },
  {
   "cell_type": "code",
   "execution_count": 13,
   "metadata": {
    "collapsed": true
   },
   "outputs": [],
   "source": [
    "voi_df_art = pd.read_csv(C.art_voi_path)\n",
    "voi_df_ven = pd.read_csv(C.ven_voi_path)\n",
    "voi_df_eq = pd.read_csv(C.eq_voi_path)\n",
    "small_voi_df = pd.read_csv(C.small_voi_path)"
   ]
  },
  {
   "cell_type": "markdown",
   "metadata": {},
   "source": [
    "a = run_stats.loc[:,['y_true','y_pred_raw']]\n",
    "a = a.dropna()\n",
    "b = a.iloc[0]['y_pred_raw']\n",
    "b = hf.str_to_lists(b)"
   ]
  },
  {
   "cell_type": "code",
   "execution_count": 10,
   "metadata": {
    "scrolled": true
   },
   "outputs": [
    {
     "data": {
      "text/plain": [
       "['hcc', 'cholangio', 'colorectal', 'cyst', 'hemangioma', 'fnh']"
      ]
     },
     "execution_count": 10,
     "metadata": {},
     "output_type": "execute_result"
    }
   ],
   "source": [
    "C.output_img_dir = \"Z:\\\\OUTPUT\\\\1-1\"\n",
    "C.classes_to_include"
   ]
  },
  {
   "cell_type": "code",
   "execution_count": 44,
   "metadata": {
    "scrolled": false
   },
   "outputs": [],
   "source": [
    "#plot_with_bbox(fn_list[2], cls_mapping[wrong_guesses[2]])\n",
    "Y_pred = model.predict(X_test)\n",
    "y_true = np.array([max(enumerate(x), key=operator.itemgetter(1))[0] for x in Y_test])\n",
    "y_pred = np.array([max(enumerate(x), key=operator.itemgetter(1))[0] for x in Y_pred])\n",
    "\n",
    "cm = confusion_matrix(y_true, y_pred)\n",
    "f1 = f1_score(y_true, y_pred, average=\"weighted\")\n",
    "\n",
    "#save_output(Z_test, y_pred, y_true)"
   ]
  },
  {
   "cell_type": "code",
   "execution_count": 52,
   "metadata": {
    "collapsed": true
   },
   "outputs": [],
   "source": [
    "a=next(train_generator)"
   ]
  },
  {
   "cell_type": "code",
   "execution_count": 45,
   "metadata": {},
   "outputs": [
    {
     "data": {
      "text/plain": [
       "array([[ 7,  1,  0,  0,  0,  2],\n",
       "       [ 0,  6,  1,  0,  2,  1],\n",
       "       [ 0,  3,  7,  0,  0,  0],\n",
       "       [ 0,  0,  0, 10,  0,  0],\n",
       "       [ 0,  0,  0,  0, 10,  0],\n",
       "       [ 0,  1,  0,  1,  0,  8]], dtype=int64)"
      ]
     },
     "execution_count": 45,
     "metadata": {},
     "output_type": "execute_result"
    }
   ],
   "source": [
    "cm"
   ]
  },
  {
   "cell_type": "code",
   "execution_count": 72,
   "metadata": {
    "collapsed": true
   },
   "outputs": [],
   "source": [
    "fn_list = fn_list + list(Z_test[~np.equal(y_pred, y_true)])"
   ]
  },
  {
   "cell_type": "code",
   "execution_count": 74,
   "metadata": {
    "collapsed": true
   },
   "outputs": [],
   "source": [
    "fn_list = fn_list + list(Z_train_orig[~np.equal(y_pred, y_true)])\n",
    "fn_list = fn_list + list(Z_train_orig[~np.equal(y_pred, y_true)])"
   ]
  },
  {
   "cell_type": "code",
   "execution_count": 75,
   "metadata": {
    "collapsed": true
   },
   "outputs": [],
   "source": [
    "fn_x_list = [x+\"(\"+str(voi_df_art[voi_df_art[\"id\"] == x[:-4]][\"x1\"].values[0])+\")\" for x in fn_list]"
   ]
  },
  {
   "cell_type": "code",
   "execution_count": 76,
   "metadata": {
    "collapsed": true
   },
   "outputs": [],
   "source": [
    "unique, counts = np.unique(fn_x_list, return_counts=True)"
   ]
  },
  {
   "cell_type": "code",
   "execution_count": null,
   "metadata": {
    "collapsed": true
   },
   "outputs": [],
   "source": [
    "dict(zip(unique, counts))"
   ]
  },
  {
   "cell_type": "code",
   "execution_count": 8,
   "metadata": {
    "scrolled": true
   },
   "outputs": [
    {
     "ename": "NameError",
     "evalue": "name 'X_train_orig' is not defined",
     "output_type": "error",
     "traceback": [
      "\u001b[1;31m---------------------------------------------------------------------------\u001b[0m",
      "\u001b[1;31mNameError\u001b[0m                                 Traceback (most recent call last)",
      "\u001b[1;32m<ipython-input-8-f38e95f21793>\u001b[0m in \u001b[0;36m<module>\u001b[1;34m()\u001b[0m\n\u001b[1;32m----> 1\u001b[1;33m \u001b[0mY_pred\u001b[0m \u001b[1;33m=\u001b[0m \u001b[0mmodel\u001b[0m\u001b[1;33m.\u001b[0m\u001b[0mpredict\u001b[0m\u001b[1;33m(\u001b[0m\u001b[0mX_train_orig\u001b[0m\u001b[1;33m)\u001b[0m\u001b[1;33m\u001b[0m\u001b[0m\n\u001b[0m\u001b[0;32m      2\u001b[0m \u001b[0my_true\u001b[0m \u001b[1;33m=\u001b[0m \u001b[0mnp\u001b[0m\u001b[1;33m.\u001b[0m\u001b[0marray\u001b[0m\u001b[1;33m(\u001b[0m\u001b[1;33m[\u001b[0m\u001b[0mmax\u001b[0m\u001b[1;33m(\u001b[0m\u001b[0menumerate\u001b[0m\u001b[1;33m(\u001b[0m\u001b[0mx\u001b[0m\u001b[1;33m)\u001b[0m\u001b[1;33m,\u001b[0m \u001b[0mkey\u001b[0m\u001b[1;33m=\u001b[0m\u001b[0moperator\u001b[0m\u001b[1;33m.\u001b[0m\u001b[0mitemgetter\u001b[0m\u001b[1;33m(\u001b[0m\u001b[1;36m1\u001b[0m\u001b[1;33m)\u001b[0m\u001b[1;33m)\u001b[0m\u001b[1;33m[\u001b[0m\u001b[1;36m0\u001b[0m\u001b[1;33m]\u001b[0m \u001b[1;32mfor\u001b[0m \u001b[0mx\u001b[0m \u001b[1;32min\u001b[0m \u001b[0mY_train_orig\u001b[0m\u001b[1;33m]\u001b[0m\u001b[1;33m)\u001b[0m\u001b[1;33m\u001b[0m\u001b[0m\n\u001b[0;32m      3\u001b[0m \u001b[0my_pred\u001b[0m \u001b[1;33m=\u001b[0m \u001b[0mnp\u001b[0m\u001b[1;33m.\u001b[0m\u001b[0marray\u001b[0m\u001b[1;33m(\u001b[0m\u001b[1;33m[\u001b[0m\u001b[0mmax\u001b[0m\u001b[1;33m(\u001b[0m\u001b[0menumerate\u001b[0m\u001b[1;33m(\u001b[0m\u001b[0mx\u001b[0m\u001b[1;33m)\u001b[0m\u001b[1;33m,\u001b[0m \u001b[0mkey\u001b[0m\u001b[1;33m=\u001b[0m\u001b[0moperator\u001b[0m\u001b[1;33m.\u001b[0m\u001b[0mitemgetter\u001b[0m\u001b[1;33m(\u001b[0m\u001b[1;36m1\u001b[0m\u001b[1;33m)\u001b[0m\u001b[1;33m)\u001b[0m\u001b[1;33m[\u001b[0m\u001b[1;36m0\u001b[0m\u001b[1;33m]\u001b[0m \u001b[1;32mfor\u001b[0m \u001b[0mx\u001b[0m \u001b[1;32min\u001b[0m \u001b[0mY_pred\u001b[0m\u001b[1;33m]\u001b[0m\u001b[1;33m)\u001b[0m\u001b[1;33m\u001b[0m\u001b[0m\n\u001b[0;32m      4\u001b[0m \u001b[1;33m\u001b[0m\u001b[0m\n\u001b[0;32m      5\u001b[0m \u001b[0mcm\u001b[0m \u001b[1;33m=\u001b[0m \u001b[0mconfusion_matrix\u001b[0m\u001b[1;33m(\u001b[0m\u001b[0my_true\u001b[0m\u001b[1;33m,\u001b[0m \u001b[0my_pred\u001b[0m\u001b[1;33m)\u001b[0m\u001b[1;33m\u001b[0m\u001b[0m\n",
      "\u001b[1;31mNameError\u001b[0m: name 'X_train_orig' is not defined"
     ]
    }
   ],
   "source": [
    "Y_pred = model.predict(X_train_orig)\n",
    "y_true = np.array([max(enumerate(x), key=operator.itemgetter(1))[0] for x in Y_train_orig])\n",
    "y_pred = np.array([max(enumerate(x), key=operator.itemgetter(1))[0] for x in Y_pred])\n",
    "\n",
    "cm = confusion_matrix(y_true, y_pred)\n",
    "f1 = f1_score(y_true, y_pred, average=\"weighted\")\n",
    "\n",
    "#save_output(Z_train_orig, y_pred, y_true)#, save_dir=C.output_img_dir+\"\\\\training\")"
   ]
  },
  {
   "cell_type": "code",
   "execution_count": 33,
   "metadata": {
    "scrolled": true
   },
   "outputs": [
    {
     "data": {
      "text/plain": [
       "0.81818181818181823"
      ]
     },
     "execution_count": 33,
     "metadata": {},
     "output_type": "execute_result"
    }
   ],
   "source": [
    "accuracy_score(y_true, y_pred)"
   ]
  },
  {
   "cell_type": "code",
   "execution_count": 34,
   "metadata": {
    "collapsed": true,
    "scrolled": true
   },
   "outputs": [],
   "source": [
    "y_true_simp, y_pred_simp, _ = condense_cm(y_true, y_pred, C.classes_to_include)"
   ]
  },
  {
   "cell_type": "code",
   "execution_count": 35,
   "metadata": {
    "scrolled": false
   },
   "outputs": [
    {
     "data": {
      "text/plain": [
       "0.875"
      ]
     },
     "execution_count": 35,
     "metadata": {},
     "output_type": "execute_result"
    }
   ],
   "source": [
    "accuracy_score(y_true_simp, y_pred_simp)"
   ]
  },
  {
   "cell_type": "code",
   "execution_count": 36,
   "metadata": {},
   "outputs": [
    {
     "name": "stdout",
     "output_type": "stream",
     "text": [
      "-1.00155053168 0.320249515053 -0.274654581417\n"
     ]
    },
    {
     "data": {
      "image/png": "[encoded data removed]",
      "text/plain": [
       "<matplotlib.figure.Figure at 0x1e433114940>"
      ]
     },
     "metadata": {},
     "output_type": "display_data"
    }
   ],
   "source": [
    "a=next(train_generator)\n",
    "imgtrain = a[0][0][0]\n",
    "img = imgtrain\n",
    "print(np.amin(img), np.amax(img), np.mean(img))\n",
    "hf.plot_section_auto(imgtrain[:,:,:,0])"
   ]
  },
  {
   "cell_type": "code",
   "execution_count": 37,
   "metadata": {
    "scrolled": true
   },
   "outputs": [
    {
     "name": "stdout",
     "output_type": "stream",
     "text": [
      "-0.63184224858 0.858626179186 0.0104835658468\n"
     ]
    },
    {
     "data": {
      "image/png": "[encoded data removed]",
      "text/plain": [
       "<matplotlib.figure.Figure at 0x1e433031c50>"
      ]
     },
     "metadata": {},
     "output_type": "display_data"
    }
   ],
   "source": [
    "imgtest = X_train_orig[0][1]\n",
    "img = imgtest\n",
    "print(np.amin(img), np.amax(img), np.mean(img))\n",
    "hf.plot_section_auto(imgtest[:,:,:,0])"
   ]
  },
  {
   "cell_type": "code",
   "execution_count": 14,
   "metadata": {
    "scrolled": false
   },
   "outputs": [
    {
     "ename": "NameError",
     "evalue": "name 'hist' is not defined",
     "output_type": "error",
     "traceback": [
      "\u001b[1;31m---------------------------------------------------------------------------\u001b[0m",
      "\u001b[1;31mNameError\u001b[0m                                 Traceback (most recent call last)",
      "\u001b[1;32m<ipython-input-14-e1cdc50d63f4>\u001b[0m in \u001b[0;36m<module>\u001b[1;34m()\u001b[0m\n\u001b[1;32m----> 1\u001b[1;33m \u001b[0mplt\u001b[0m\u001b[1;33m.\u001b[0m\u001b[0mplot\u001b[0m\u001b[1;33m(\u001b[0m\u001b[0mhist\u001b[0m\u001b[1;33m.\u001b[0m\u001b[0mhistory\u001b[0m\u001b[1;33m[\u001b[0m\u001b[1;34m'loss'\u001b[0m\u001b[1;33m]\u001b[0m\u001b[1;33m)\u001b[0m\u001b[1;33m\u001b[0m\u001b[0m\n\u001b[0m",
      "\u001b[1;31mNameError\u001b[0m: name 'hist' is not defined"
     ]
    }
   ],
   "source": [
    "plt.plot(hist.history['loss'])"
   ]
  },
  {
   "cell_type": "code",
   "execution_count": 5,
   "metadata": {
    "collapsed": true
   },
   "outputs": [],
   "source": [
    "import keras.models"
   ]
  },
  {
   "cell_type": "code",
   "execution_count": 7,
   "metadata": {
    "scrolled": true
   },
   "outputs": [],
   "source": [
    "model = keras.models.load_model(C.model_save_dir+\"models_8.hdf5\")"
   ]
  },
  {
   "cell_type": "code",
   "execution_count": 8,
   "metadata": {
    "collapsed": true
   },
   "outputs": [],
   "source": [
    "w = model.get_weights()"
   ]
  },
  {
   "cell_type": "code",
   "execution_count": 11,
   "metadata": {},
   "outputs": [
    {
     "name": "stdout",
     "output_type": "stream",
     "text": [
      "____________________________________________________________________________________________________\n",
      "Layer (type)                     Output Shape          Param #     Connected to                     \n",
      "====================================================================================================\n",
      "input_64 (InputLayer)            (None, 24, 24, 12, 1) 0                                            \n",
      "____________________________________________________________________________________________________\n",
      "input_65 (InputLayer)            (None, 24, 24, 12, 1) 0                                            \n",
      "____________________________________________________________________________________________________\n",
      "input_66 (InputLayer)            (None, 24, 24, 12, 1) 0                                            \n",
      "____________________________________________________________________________________________________\n",
      "conv3d_106 (Conv3D)              (None, 24, 24, 12, 64 1216        input_64[0][0]                   \n",
      "____________________________________________________________________________________________________\n",
      "conv3d_107 (Conv3D)              (None, 24, 24, 12, 64 1216        input_65[0][0]                   \n",
      "____________________________________________________________________________________________________\n",
      "conv3d_108 (Conv3D)              (None, 24, 24, 12, 64 1216        input_66[0][0]                   \n",
      "____________________________________________________________________________________________________\n",
      "batch_normalization_148 (BatchNo (None, 24, 24, 12, 64 256         conv3d_106[0][0]                 \n",
      "____________________________________________________________________________________________________\n",
      "batch_normalization_149 (BatchNo (None, 24, 24, 12, 64 256         conv3d_107[0][0]                 \n",
      "____________________________________________________________________________________________________\n",
      "batch_normalization_150 (BatchNo (None, 24, 24, 12, 64 256         conv3d_108[0][0]                 \n",
      "____________________________________________________________________________________________________\n",
      "activation_148 (Activation)      (None, 24, 24, 12, 64 0           batch_normalization_148[0][0]    \n",
      "____________________________________________________________________________________________________\n",
      "activation_149 (Activation)      (None, 24, 24, 12, 64 0           batch_normalization_149[0][0]    \n",
      "____________________________________________________________________________________________________\n",
      "activation_150 (Activation)      (None, 24, 24, 12, 64 0           batch_normalization_150[0][0]    \n",
      "____________________________________________________________________________________________________\n",
      "max_pooling3d_85 (MaxPooling3D)  (None, 12, 12, 12, 64 0           activation_148[0][0]             \n",
      "____________________________________________________________________________________________________\n",
      "max_pooling3d_86 (MaxPooling3D)  (None, 12, 12, 12, 64 0           activation_149[0][0]             \n",
      "____________________________________________________________________________________________________\n",
      "max_pooling3d_87 (MaxPooling3D)  (None, 12, 12, 12, 64 0           activation_150[0][0]             \n",
      "____________________________________________________________________________________________________\n",
      "concatenate_22 (Concatenate)     (None, 12, 12, 12, 19 0           max_pooling3d_85[0][0]           \n",
      "                                                                   max_pooling3d_86[0][0]           \n",
      "                                                                   max_pooling3d_87[0][0]           \n",
      "____________________________________________________________________________________________________\n",
      "conv3d_109 (Conv3D)              (None, 10, 10, 11, 12 442496      concatenate_22[0][0]             \n",
      "____________________________________________________________________________________________________\n",
      "batch_normalization_151 (BatchNo (None, 10, 10, 11, 12 512         conv3d_109[0][0]                 \n",
      "____________________________________________________________________________________________________\n",
      "activation_151 (Activation)      (None, 10, 10, 11, 12 0           batch_normalization_151[0][0]    \n",
      "____________________________________________________________________________________________________\n",
      "dropout_64 (Dropout)             (None, 10, 10, 11, 12 0           activation_151[0][0]             \n",
      "____________________________________________________________________________________________________\n",
      "conv3d_110 (Conv3D)              (None, 8, 8, 10, 128) 295040      dropout_64[0][0]                 \n",
      "____________________________________________________________________________________________________\n",
      "batch_normalization_152 (BatchNo (None, 8, 8, 10, 128) 512         conv3d_110[0][0]                 \n",
      "____________________________________________________________________________________________________\n",
      "activation_152 (Activation)      (None, 8, 8, 10, 128) 0           batch_normalization_152[0][0]    \n",
      "____________________________________________________________________________________________________\n",
      "dropout_65 (Dropout)             (None, 8, 8, 10, 128) 0           activation_152[0][0]             \n",
      "____________________________________________________________________________________________________\n",
      "max_pooling3d_88 (MaxPooling3D)  (None, 4, 4, 5, 128)  0           dropout_65[0][0]                 \n",
      "____________________________________________________________________________________________________\n",
      "flatten_22 (Flatten)             (None, 10240)         0           max_pooling3d_88[0][0]           \n",
      "____________________________________________________________________________________________________\n",
      "dense_43 (Dense)                 (None, 100)           1024100     flatten_22[0][0]                 \n",
      "____________________________________________________________________________________________________\n",
      "batch_normalization_153 (BatchNo (None, 100)           400         dense_43[0][0]                   \n",
      "____________________________________________________________________________________________________\n",
      "dropout_66 (Dropout)             (None, 100)           0           batch_normalization_153[0][0]    \n",
      "____________________________________________________________________________________________________\n",
      "activation_153 (Activation)      (None, 100)           0           dropout_66[0][0]                 \n",
      "____________________________________________________________________________________________________\n",
      "dense_44 (Dense)                 (None, 6)             606         activation_153[0][0]             \n",
      "____________________________________________________________________________________________________\n",
      "batch_normalization_154 (BatchNo (None, 6)             24          dense_44[0][0]                   \n",
      "____________________________________________________________________________________________________\n",
      "activation_154 (Activation)      (None, 6)             0           batch_normalization_154[0][0]    \n",
      "====================================================================================================\n",
      "Total params: 1,768,106\n",
      "Trainable params: 1,766,998\n",
      "Non-trainable params: 1,108\n",
      "____________________________________________________________________________________________________\n"
     ]
    }
   ],
   "source": [
    "model.summary()"
   ]
  },
  {
   "cell_type": "code",
   "execution_count": 29,
   "metadata": {
    "scrolled": true
   },
   "outputs": [
    {
     "data": {
      "text/plain": [
       "42"
      ]
     },
     "execution_count": 29,
     "metadata": {},
     "output_type": "execute_result"
    }
   ],
   "source": [
    "len(w)"
   ]
  },
  {
   "cell_type": "markdown",
   "metadata": {},
   "source": [
    "0-5: first conv layers\n"
   ]
  },
  {
   "cell_type": "code",
   "execution_count": 28,
   "metadata": {},
   "outputs": [
    {
     "data": {
      "text/plain": [
       "42"
      ]
     },
     "execution_count": 28,
     "metadata": {},
     "output_type": "execute_result"
    }
   ],
   "source": [
    "len(model.weights)"
   ]
  },
  {
   "cell_type": "code",
   "execution_count": 40,
   "metadata": {},
   "outputs": [
    {
     "data": {
      "text/plain": [
       "[<keras.layers.convolutional.Conv3D at 0x1d17aff32b0>,\n",
       " <keras.layers.normalization.BatchNormalization at 0x1d17afcf860>,\n",
       " <keras.layers.core.Activation at 0x1d17afffb00>,\n",
       " <keras.layers.core.Dropout at 0x1d17b072eb8>,\n",
       " <keras.layers.convolutional.Conv3D at 0x1d17aff3240>,\n",
       " <keras.layers.normalization.BatchNormalization at 0x1d17b072e80>,\n",
       " <keras.layers.core.Activation at 0x1d17b097be0>,\n",
       " <keras.layers.core.Dropout at 0x1d17b152d68>,\n",
       " <keras.layers.pooling.MaxPooling3D at 0x1d17b15cbe0>,\n",
       " <keras.layers.core.Flatten at 0x1d17b18e630>,\n",
       " <keras.layers.core.Dense at 0x1d17b152be0>]"
      ]
     },
     "execution_count": 40,
     "metadata": {},
     "output_type": "execute_result"
    }
   ],
   "source": [
    "model.layers[16:27]"
   ]
  },
  {
   "cell_type": "code",
   "execution_count": 41,
   "metadata": {},
   "outputs": [],
   "source": [
    "clayer = model.layers[20]"
   ]
  },
  {
   "cell_type": "code",
   "execution_count": 47,
   "metadata": {},
   "outputs": [
    {
     "data": {
      "text/plain": [
       "'conv3d_110'"
      ]
     },
     "execution_count": 47,
     "metadata": {},
     "output_type": "execute_result"
    }
   ],
   "source": [
    "clayer.name"
   ]
  },
  {
   "cell_type": "code",
   "execution_count": 45,
   "metadata": {},
   "outputs": [
    {
     "data": {
      "text/plain": [
       "(3, 3, 2, 128, 128)"
      ]
     },
     "execution_count": 45,
     "metadata": {},
     "output_type": "execute_result"
    }
   ],
   "source": [
    "clayer.get_weights()[0].shape"
   ]
  },
  {
   "cell_type": "code",
   "execution_count": 51,
   "metadata": {},
   "outputs": [
    {
     "ename": "NameError",
     "evalue": "name 'iterate' is not defined",
     "output_type": "error",
     "traceback": [
      "\u001b[1;31m---------------------------------------------------------------------------\u001b[0m",
      "\u001b[1;31mNameError\u001b[0m                                 Traceback (most recent call last)",
      "\u001b[1;32m<ipython-input-51-4d6e8f4c6697>\u001b[0m in \u001b[0;36m<module>\u001b[1;34m()\u001b[0m\n\u001b[0;32m      5\u001b[0m \u001b[1;31m# run gradient ascent for 20 steps\u001b[0m\u001b[1;33m\u001b[0m\u001b[1;33m\u001b[0m\u001b[0m\n\u001b[0;32m      6\u001b[0m \u001b[1;32mfor\u001b[0m \u001b[0mi\u001b[0m \u001b[1;32min\u001b[0m \u001b[0mrange\u001b[0m\u001b[1;33m(\u001b[0m\u001b[1;36m20\u001b[0m\u001b[1;33m)\u001b[0m\u001b[1;33m:\u001b[0m\u001b[1;33m\u001b[0m\u001b[0m\n\u001b[1;32m----> 7\u001b[1;33m     \u001b[0mloss_value\u001b[0m\u001b[1;33m,\u001b[0m \u001b[0mgrads_value\u001b[0m \u001b[1;33m=\u001b[0m \u001b[0miterate\u001b[0m\u001b[1;33m(\u001b[0m\u001b[1;33m[\u001b[0m\u001b[0minput_img_data\u001b[0m\u001b[1;33m]\u001b[0m\u001b[1;33m)\u001b[0m\u001b[1;33m\u001b[0m\u001b[0m\n\u001b[0m\u001b[0;32m      8\u001b[0m     \u001b[0minput_img_data\u001b[0m \u001b[1;33m+=\u001b[0m \u001b[0mgrads_value\u001b[0m \u001b[1;33m*\u001b[0m \u001b[0mstep\u001b[0m\u001b[1;33m\u001b[0m\u001b[0m\n",
      "\u001b[1;31mNameError\u001b[0m: name 'iterate' is not defined"
     ]
    }
   ],
   "source": [
    "import numpy as np\n",
    "\n",
    "# we start from a gray image with some noise\n",
    "input_img_data = np.random.random((1, 3, 12, 24, 24)) * 20 + 128.\n",
    "# run gradient ascent for 20 steps\n",
    "for i in range(20):\n",
    "    loss_value, grads_value = iterate([input_img_data])\n",
    "    input_img_data += grads_value * step"
   ]
  },
  {
   "cell_type": "code",
   "execution_count": 56,
   "metadata": {},
   "outputs": [
    {
     "data": {
      "text/plain": [
       "<tf.Tensor 'input_64:0' shape=(?, 24, 24, 12, 1) dtype=float32>"
      ]
     },
     "execution_count": 56,
     "metadata": {},
     "output_type": "execute_result"
    }
   ],
   "source": [
    "input_img"
   ]
  },
  {
   "cell_type": "code",
   "execution_count": 76,
   "metadata": {},
   "outputs": [
    {
     "data": {
      "text/plain": [
       "<tf.Tensor 'Placeholder_102:0' shape=(?, 24, 24, 12, 3) dtype=float32>"
      ]
     },
     "execution_count": 76,
     "metadata": {},
     "output_type": "execute_result"
    }
   ],
   "source": [
    "K.placeholder((None, 24, 24, 12, 3))"
   ]
  },
  {
   "cell_type": "code",
   "execution_count": 80,
   "metadata": {},
   "outputs": [
    {
     "name": "stdout",
     "output_type": "stream",
     "text": [
      "Processing filter 0\n"
     ]
    },
    {
     "ename": "TypeError",
     "evalue": "unhashable type: 'list'",
     "output_type": "error",
     "traceback": [
      "\u001b[1;31m---------------------------------------------------------------------------\u001b[0m",
      "\u001b[1;31mTypeError\u001b[0m                                 Traceback (most recent call last)",
      "\u001b[1;32m<ipython-input-80-43f8c7017740>\u001b[0m in \u001b[0;36m<module>\u001b[1;34m()\u001b[0m\n\u001b[0;32m     82\u001b[0m     \u001b[1;31m# we run gradient ascent for 20 steps\u001b[0m\u001b[1;33m\u001b[0m\u001b[1;33m\u001b[0m\u001b[0m\n\u001b[0;32m     83\u001b[0m     \u001b[1;32mfor\u001b[0m \u001b[0mi\u001b[0m \u001b[1;32min\u001b[0m \u001b[0mrange\u001b[0m\u001b[1;33m(\u001b[0m\u001b[1;36m20\u001b[0m\u001b[1;33m)\u001b[0m\u001b[1;33m:\u001b[0m\u001b[1;33m\u001b[0m\u001b[0m\n\u001b[1;32m---> 84\u001b[1;33m         \u001b[0mloss_value\u001b[0m\u001b[1;33m,\u001b[0m \u001b[0mgrads_value\u001b[0m \u001b[1;33m=\u001b[0m \u001b[0miterate\u001b[0m\u001b[1;33m(\u001b[0m\u001b[1;33m[\u001b[0m\u001b[0minput_img_data\u001b[0m\u001b[1;33m]\u001b[0m\u001b[1;33m)\u001b[0m\u001b[1;33m\u001b[0m\u001b[0m\n\u001b[0m\u001b[0;32m     85\u001b[0m         \u001b[0minput_img_data\u001b[0m \u001b[1;33m+=\u001b[0m \u001b[0mgrads_value\u001b[0m \u001b[1;33m*\u001b[0m \u001b[0mstep\u001b[0m\u001b[1;33m\u001b[0m\u001b[0m\n\u001b[0;32m     86\u001b[0m \u001b[1;33m\u001b[0m\u001b[0m\n",
      "\u001b[1;32m~\\AppData\\Local\\conda\\conda\\envs\\old-keras\\lib\\site-packages\\keras\\backend\\tensorflow_backend.py\u001b[0m in \u001b[0;36m__call__\u001b[1;34m(self, inputs)\u001b[0m\n\u001b[0;32m   2262\u001b[0m                                           np.expand_dims(sparse_coo.col, 1)), 1)\n\u001b[0;32m   2263\u001b[0m                 \u001b[0mvalue\u001b[0m \u001b[1;33m=\u001b[0m \u001b[1;33m(\u001b[0m\u001b[0mindices\u001b[0m\u001b[1;33m,\u001b[0m \u001b[0msparse_coo\u001b[0m\u001b[1;33m.\u001b[0m\u001b[0mdata\u001b[0m\u001b[1;33m,\u001b[0m \u001b[0msparse_coo\u001b[0m\u001b[1;33m.\u001b[0m\u001b[0mshape\u001b[0m\u001b[1;33m)\u001b[0m\u001b[1;33m\u001b[0m\u001b[0m\n\u001b[1;32m-> 2264\u001b[1;33m             \u001b[0mfeed_dict\u001b[0m\u001b[1;33m[\u001b[0m\u001b[0mtensor\u001b[0m\u001b[1;33m]\u001b[0m \u001b[1;33m=\u001b[0m \u001b[0mvalue\u001b[0m\u001b[1;33m\u001b[0m\u001b[0m\n\u001b[0m\u001b[0;32m   2265\u001b[0m         \u001b[0msession\u001b[0m \u001b[1;33m=\u001b[0m \u001b[0mget_session\u001b[0m\u001b[1;33m(\u001b[0m\u001b[1;33m)\u001b[0m\u001b[1;33m\u001b[0m\u001b[0m\n\u001b[0;32m   2266\u001b[0m         updated = session.run(self.outputs + [self.updates_op],\n",
      "\u001b[1;31mTypeError\u001b[0m: unhashable type: 'list'"
     ]
    }
   ],
   "source": [
    "import time\n",
    "# dimensions of the generated pictures for each filter.\n",
    "img_width = 24\n",
    "img_height = 24\n",
    "img_slices = 12\n",
    "\n",
    "# the name of the layer we want to visualize\n",
    "# (see model definition at keras/applications/vgg16.py)\n",
    "layer_name = 'conv3d_110'\n",
    "\n",
    "# util function to convert a tensor into a valid image\n",
    "\n",
    "def deprocess_image(x):\n",
    "    # normalize tensor: center on 0., ensure std is 0.1\n",
    "    x -= x.mean()\n",
    "    x /= (x.std() + K.epsilon())\n",
    "    x *= 0.1\n",
    "\n",
    "    # clip to [0, 1]\n",
    "    x += 0.5\n",
    "    x = np.clip(x, 0, 1)\n",
    "\n",
    "    # convert to RGB array\n",
    "    x *= 255\n",
    "    if K.image_data_format() == 'channels_first':\n",
    "        x = x.transpose((1, 2, 3, 0))\n",
    "    x = np.clip(x, 0, 255).astype('uint8')\n",
    "    return x\n",
    "\n",
    "# build the VGG16 network with ImageNet weights\n",
    "#model = vgg16.VGG16(weights='imagenet', include_top=False)\n",
    "#print('Model loaded.')\n",
    "\n",
    "#model.summary()\n",
    "\n",
    "# this is the placeholder for the input images\n",
    "input_img = model.input#K.stack(model.input,axis=4)\n",
    "\n",
    "# get the symbolic outputs of each \"key\" layer (we gave them unique names).\n",
    "layer_dict = dict([(layer.name, layer) for layer in model.layers[1:]])\n",
    "\n",
    "\n",
    "def normalize(x):\n",
    "    # utility function to normalize a tensor by its L2 norm\n",
    "    return x / (K.sqrt(K.mean(K.square(x))) + K.epsilon())\n",
    "\n",
    "\n",
    "kept_filters = []\n",
    "for filter_index in range(30):\n",
    "    # we only scan through the first 200 filters,\n",
    "    # but there are actually 512 of them\n",
    "    print('Processing filter %d' % filter_index)\n",
    "    start_time = time.time()\n",
    "\n",
    "    # we build a loss function that maximizes the activation\n",
    "    # of the nth filter of the layer considered\n",
    "    layer_output = layer_dict[layer_name].output\n",
    "    if K.image_data_format() == 'channels_first':\n",
    "        loss = K.mean(layer_output[:, filter_index, :, :, :])\n",
    "    else:\n",
    "        loss = K.mean(layer_output[:, :, :, :, filter_index])\n",
    "\n",
    "    # we compute the gradient of the input picture wrt this loss\n",
    "    grads = K.gradients(loss, input_img)[0]\n",
    "\n",
    "    # normalization trick: we normalize the gradient\n",
    "    grads = normalize(grads)\n",
    "\n",
    "    # this function returns the loss and grads given the input picture\n",
    "    iterate = K.function([input_img], [loss, grads])\n",
    "\n",
    "    # step size for gradient ascent\n",
    "    step = 1.\n",
    "\n",
    "    # we start from a gray image with some random noise\n",
    "    if K.image_data_format() == 'channels_first':\n",
    "        input_img_data = np.random.random((1, 3, img_width, img_height, img_slices))\n",
    "    else:\n",
    "        input_img_data = np.random.random((1, img_width, img_height, img_slices, 3))\n",
    "    input_img_data = (input_img_data - 0.5) * 20 + 128\n",
    "\n",
    "    # we run gradient ascent for 20 steps\n",
    "    for i in range(20):\n",
    "        loss_value, grads_value = iterate([input_img_data])\n",
    "        input_img_data += grads_value * step\n",
    "\n",
    "        print('Current loss value:', loss_value)\n",
    "        if loss_value <= 0.:\n",
    "            # some filters get stuck to 0, we can skip them\n",
    "            break\n",
    "\n",
    "    # decode the resulting input image\n",
    "    if loss_value > 0:\n",
    "        img = deprocess_image(input_img_data[0])\n",
    "        kept_filters.append((img, loss_value))\n",
    "    end_time = time.time()\n",
    "    print('Filter %d processed in %ds' % (filter_index, end_time - start_time))\n",
    "\n",
    "# we will stich the best 64 filters on a 8 x 8 grid.\n",
    "n = 8\n",
    "\n",
    "# the filters that have the highest loss are assumed to be better-looking.\n",
    "# we will only keep the top 64 filters.\n",
    "kept_filters.sort(key=lambda x: x[1], reverse=True)\n",
    "kept_filters = kept_filters[:n * n]\n",
    "\n",
    "# build a black picture with enough space for\n",
    "# our 8 x 8 filters of size 128 x 128, with a 5px margin in between\n",
    "margin = 5\n",
    "width = n * img_width + (n - 1) * margin\n",
    "height = n * img_height + (n - 1) * margin\n",
    "stitched_filters = np.zeros((width, height, 3))\n",
    "\n",
    "# fill the picture with our saved filters\n",
    "for i in range(n):\n",
    "    for j in range(n):\n",
    "        img, loss = kept_filters[i * n + j]\n",
    "        stitched_filters[(img_width + margin) * i: (img_width + margin) * i + img_width,\n",
    "                         (img_height + margin) * j: (img_height + margin) * j + img_height, :] = img[:,:,img.shape[2]//2,:]\n",
    "\n",
    "# save the result to disk\n",
    "imsave('stitched_filters_%dx%d.png' % (n, n), stitched_filters)"
   ]
  },
  {
   "cell_type": "code",
   "execution_count": null,
   "metadata": {
    "collapsed": true
   },
   "outputs": [],
   "source": [
    "fig = plt.imshow(img, cmap='gray')"
   ]
  },
  {
   "cell_type": "code",
   "execution_count": 33,
   "metadata": {},
   "outputs": [
    {
     "name": "stdout",
     "output_type": "stream",
     "text": [
      "{'dtype': 'float32', 'name': 'input_64', 'sparse': False, 'batch_input_shape': (None, 24, 24, 12, 1)}\n",
      "{'dtype': 'float32', 'name': 'input_65', 'sparse': False, 'batch_input_shape': (None, 24, 24, 12, 1)}\n",
      "{'dtype': 'float32', 'name': 'input_66', 'sparse': False, 'batch_input_shape': (None, 24, 24, 12, 1)}\n",
      "{'strides': (1, 1, 1), 'bias_initializer': {'config': {}, 'class_name': 'Zeros'}, 'kernel_regularizer': None, 'dilation_rate': (1, 1, 1), 'trainable': True, 'activation': 'linear', 'padding': 'same', 'filters': 64, 'bias_regularizer': None, 'use_bias': True, 'kernel_constraint': None, 'bias_constraint': None, 'kernel_initializer': {'config': {'seed': None, 'distribution': 'uniform', 'mode': 'fan_avg', 'scale': 1.0}, 'class_name': 'VarianceScaling'}, 'name': 'conv3d_106', 'kernel_size': (3, 3, 2), 'activity_regularizer': None, 'data_format': 'channels_last'}\n",
      "{'strides': (1, 1, 1), 'bias_initializer': {'config': {}, 'class_name': 'Zeros'}, 'kernel_regularizer': None, 'dilation_rate': (1, 1, 1), 'trainable': True, 'activation': 'linear', 'padding': 'same', 'filters': 64, 'bias_regularizer': None, 'use_bias': True, 'kernel_constraint': None, 'bias_constraint': None, 'kernel_initializer': {'config': {'seed': None, 'distribution': 'uniform', 'mode': 'fan_avg', 'scale': 1.0}, 'class_name': 'VarianceScaling'}, 'name': 'conv3d_107', 'kernel_size': (3, 3, 2), 'activity_regularizer': None, 'data_format': 'channels_last'}\n",
      "{'strides': (1, 1, 1), 'bias_initializer': {'config': {}, 'class_name': 'Zeros'}, 'kernel_regularizer': None, 'dilation_rate': (1, 1, 1), 'trainable': True, 'activation': 'linear', 'padding': 'same', 'filters': 64, 'bias_regularizer': None, 'use_bias': True, 'kernel_constraint': None, 'bias_constraint': None, 'kernel_initializer': {'config': {'seed': None, 'distribution': 'uniform', 'mode': 'fan_avg', 'scale': 1.0}, 'class_name': 'VarianceScaling'}, 'name': 'conv3d_108', 'kernel_size': (3, 3, 2), 'activity_regularizer': None, 'data_format': 'channels_last'}\n",
      "{'gamma_initializer': {'config': {}, 'class_name': 'Ones'}, 'moving_variance_initializer': {'config': {}, 'class_name': 'Ones'}, 'beta_regularizer': None, 'trainable': True, 'beta_initializer': {'config': {}, 'class_name': 'Zeros'}, 'axis': -1, 'center': True, 'momentum': 0.99, 'scale': True, 'moving_mean_initializer': {'config': {}, 'class_name': 'Zeros'}, 'name': 'batch_normalization_148', 'gamma_constraint': None, 'gamma_regularizer': None, 'epsilon': 0.001, 'beta_constraint': None}\n",
      "{'gamma_initializer': {'config': {}, 'class_name': 'Ones'}, 'moving_variance_initializer': {'config': {}, 'class_name': 'Ones'}, 'beta_regularizer': None, 'trainable': True, 'beta_initializer': {'config': {}, 'class_name': 'Zeros'}, 'axis': -1, 'center': True, 'momentum': 0.99, 'scale': True, 'moving_mean_initializer': {'config': {}, 'class_name': 'Zeros'}, 'name': 'batch_normalization_149', 'gamma_constraint': None, 'gamma_regularizer': None, 'epsilon': 0.001, 'beta_constraint': None}\n",
      "{'gamma_initializer': {'config': {}, 'class_name': 'Ones'}, 'moving_variance_initializer': {'config': {}, 'class_name': 'Ones'}, 'beta_regularizer': None, 'trainable': True, 'beta_initializer': {'config': {}, 'class_name': 'Zeros'}, 'axis': -1, 'center': True, 'momentum': 0.99, 'scale': True, 'moving_mean_initializer': {'config': {}, 'class_name': 'Zeros'}, 'name': 'batch_normalization_150', 'gamma_constraint': None, 'gamma_regularizer': None, 'epsilon': 0.001, 'beta_constraint': None}\n",
      "{'activation': 'relu', 'name': 'activation_148', 'trainable': True}\n",
      "{'activation': 'relu', 'name': 'activation_149', 'trainable': True}\n",
      "{'activation': 'relu', 'name': 'activation_150', 'trainable': True}\n",
      "{'strides': (2, 2, 1), 'pool_size': (2, 2, 1), 'name': 'max_pooling3d_85', 'trainable': True, 'padding': 'valid', 'data_format': 'channels_last'}\n",
      "{'strides': (2, 2, 1), 'pool_size': (2, 2, 1), 'name': 'max_pooling3d_86', 'trainable': True, 'padding': 'valid', 'data_format': 'channels_last'}\n",
      "{'strides': (2, 2, 1), 'pool_size': (2, 2, 1), 'name': 'max_pooling3d_87', 'trainable': True, 'padding': 'valid', 'data_format': 'channels_last'}\n",
      "{'axis': 4, 'name': 'concatenate_22', 'trainable': True}\n",
      "{'strides': (1, 1, 1), 'bias_initializer': {'config': {}, 'class_name': 'Zeros'}, 'kernel_regularizer': None, 'dilation_rate': (1, 1, 1), 'trainable': True, 'activation': 'linear', 'padding': 'valid', 'filters': 128, 'bias_regularizer': None, 'use_bias': True, 'kernel_constraint': None, 'bias_constraint': None, 'kernel_initializer': {'config': {'seed': None, 'distribution': 'uniform', 'mode': 'fan_avg', 'scale': 1.0}, 'class_name': 'VarianceScaling'}, 'name': 'conv3d_109', 'kernel_size': (3, 3, 2), 'activity_regularizer': None, 'data_format': 'channels_last'}\n",
      "{'gamma_initializer': {'config': {}, 'class_name': 'Ones'}, 'moving_variance_initializer': {'config': {}, 'class_name': 'Ones'}, 'beta_regularizer': None, 'trainable': True, 'beta_initializer': {'config': {}, 'class_name': 'Zeros'}, 'axis': -1, 'center': True, 'momentum': 0.99, 'scale': True, 'moving_mean_initializer': {'config': {}, 'class_name': 'Zeros'}, 'name': 'batch_normalization_151', 'gamma_constraint': None, 'gamma_regularizer': None, 'epsilon': 0.001, 'beta_constraint': None}\n",
      "{'activation': 'relu', 'name': 'activation_151', 'trainable': True}\n",
      "{'rate': 0.1, 'name': 'dropout_64', 'trainable': True}\n",
      "{'strides': (1, 1, 1), 'bias_initializer': {'config': {}, 'class_name': 'Zeros'}, 'kernel_regularizer': None, 'dilation_rate': (1, 1, 1), 'trainable': True, 'activation': 'linear', 'padding': 'valid', 'filters': 128, 'bias_regularizer': None, 'use_bias': True, 'kernel_constraint': None, 'bias_constraint': None, 'kernel_initializer': {'config': {'seed': None, 'distribution': 'uniform', 'mode': 'fan_avg', 'scale': 1.0}, 'class_name': 'VarianceScaling'}, 'name': 'conv3d_110', 'kernel_size': (3, 3, 2), 'activity_regularizer': None, 'data_format': 'channels_last'}\n",
      "{'gamma_initializer': {'config': {}, 'class_name': 'Ones'}, 'moving_variance_initializer': {'config': {}, 'class_name': 'Ones'}, 'beta_regularizer': None, 'trainable': True, 'beta_initializer': {'config': {}, 'class_name': 'Zeros'}, 'axis': -1, 'center': True, 'momentum': 0.99, 'scale': True, 'moving_mean_initializer': {'config': {}, 'class_name': 'Zeros'}, 'name': 'batch_normalization_152', 'gamma_constraint': None, 'gamma_regularizer': None, 'epsilon': 0.001, 'beta_constraint': None}\n",
      "{'activation': 'relu', 'name': 'activation_152', 'trainable': True}\n",
      "{'rate': 0.1, 'name': 'dropout_65', 'trainable': True}\n",
      "{'strides': (2, 2, 2), 'pool_size': (2, 2, 2), 'name': 'max_pooling3d_88', 'trainable': True, 'padding': 'valid', 'data_format': 'channels_last'}\n",
      "{'name': 'flatten_22', 'trainable': True}\n",
      "{'bias_initializer': {'config': {}, 'class_name': 'Zeros'}, 'kernel_regularizer': None, 'trainable': True, 'activation': 'linear', 'units': 100, 'bias_regularizer': None, 'use_bias': True, 'kernel_constraint': None, 'bias_constraint': None, 'kernel_initializer': {'config': {'seed': None, 'distribution': 'uniform', 'mode': 'fan_avg', 'scale': 1.0}, 'class_name': 'VarianceScaling'}, 'name': 'dense_43', 'activity_regularizer': None}\n",
      "{'gamma_initializer': {'config': {}, 'class_name': 'Ones'}, 'moving_variance_initializer': {'config': {}, 'class_name': 'Ones'}, 'beta_regularizer': None, 'trainable': True, 'beta_initializer': {'config': {}, 'class_name': 'Zeros'}, 'axis': -1, 'center': True, 'momentum': 0.99, 'scale': True, 'moving_mean_initializer': {'config': {}, 'class_name': 'Zeros'}, 'name': 'batch_normalization_153', 'gamma_constraint': None, 'gamma_regularizer': None, 'epsilon': 0.001, 'beta_constraint': None}\n",
      "{'rate': 0.1, 'name': 'dropout_66', 'trainable': True}\n",
      "{'activation': 'relu', 'name': 'activation_153', 'trainable': True}\n",
      "{'bias_initializer': {'config': {}, 'class_name': 'Zeros'}, 'kernel_regularizer': None, 'trainable': True, 'activation': 'linear', 'units': 6, 'bias_regularizer': None, 'use_bias': True, 'kernel_constraint': None, 'bias_constraint': None, 'kernel_initializer': {'config': {'seed': None, 'distribution': 'uniform', 'mode': 'fan_avg', 'scale': 1.0}, 'class_name': 'VarianceScaling'}, 'name': 'dense_44', 'activity_regularizer': None}\n",
      "{'gamma_initializer': {'config': {}, 'class_name': 'Ones'}, 'moving_variance_initializer': {'config': {}, 'class_name': 'Ones'}, 'beta_regularizer': None, 'trainable': True, 'beta_initializer': {'config': {}, 'class_name': 'Zeros'}, 'axis': -1, 'center': True, 'momentum': 0.99, 'scale': True, 'moving_mean_initializer': {'config': {}, 'class_name': 'Zeros'}, 'name': 'batch_normalization_154', 'gamma_constraint': None, 'gamma_regularizer': None, 'epsilon': 0.001, 'beta_constraint': None}\n",
      "{'activation': 'softmax', 'name': 'activation_154', 'trainable': True}\n"
     ]
    }
   ],
   "source": [
    "for layer in model.layers:\n",
    "    print(layer.get_config())#, layer.get_weights())"
   ]
  },
  {
   "cell_type": "code",
   "execution_count": 32,
   "metadata": {},
   "outputs": [
    {
     "data": {
      "text/plain": [
       "array([[[[[ -1.23126432e-01,   8.91563296e-02,   1.25984848e-01, ...,\n",
       "             1.76226541e-01,   7.58610480e-03,  -1.09013714e-01],\n",
       "          [ -1.68650709e-02,   1.31507114e-01,  -1.51953474e-02, ...,\n",
       "             1.85953528e-02,  -4.92657125e-02,  -2.04637676e-01],\n",
       "          [ -1.82801723e-01,   5.97427133e-03,  -7.44231567e-02, ...,\n",
       "             2.23880097e-01,  -1.34945856e-02,  -4.60588038e-02],\n",
       "          ..., \n",
       "          [  5.74414842e-02,  -6.29754364e-02,   7.46337464e-03, ...,\n",
       "            -8.40481464e-03,   6.41438831e-03,   1.81427039e-02],\n",
       "          [ -3.14454315e-03,   7.90632591e-02,  -1.36458516e-01, ...,\n",
       "            -5.29522933e-02,  -1.53622255e-01,   1.41329035e-01],\n",
       "          [  1.88589305e-01,   1.13613024e-01,  -9.56826955e-02, ...,\n",
       "             4.29467484e-02,  -2.90436354e-02,   7.35547394e-02]],\n",
       "\n",
       "         [[ -2.34330118e-01,   1.91328555e-01,   1.49007723e-01, ...,\n",
       "             1.35848120e-01,  -1.00585639e-01,   2.63163745e-02],\n",
       "          [ -1.05722763e-01,   1.59552097e-01,  -2.22387072e-03, ...,\n",
       "            -1.74283404e-02,  -1.23714089e-01,  -5.19612283e-02],\n",
       "          [  1.21518031e-01,  -9.86697450e-02,  -8.91265050e-02, ...,\n",
       "             2.05783188e-01,   1.34044185e-01,  -2.10084945e-01],\n",
       "          ..., \n",
       "          [ -1.42879644e-02,  -5.19876461e-03,  -1.17392708e-02, ...,\n",
       "             4.00368012e-02,  -1.29341567e-02,   6.39797524e-02],\n",
       "          [  6.23151176e-02,   7.06326365e-02,  -1.67823315e-01, ...,\n",
       "            -5.60726374e-02,  -1.70913756e-01,   1.23087585e-01],\n",
       "          [  3.29912603e-01,   6.03419468e-02,  -1.31749958e-01, ...,\n",
       "             3.04318089e-02,   1.82525516e-02,   7.07413778e-02]]],\n",
       "\n",
       "\n",
       "        [[[  5.77133857e-02,  -7.39413574e-02,   1.12809427e-01, ...,\n",
       "             1.45184234e-01,   1.14350751e-01,  -3.04710567e-01],\n",
       "          [ -4.38448554e-03,   4.53636460e-02,   1.04582384e-02, ...,\n",
       "            -1.81333162e-02,  -8.25188961e-03,  -2.32268408e-01],\n",
       "          [ -1.23596296e-01,  -2.28725784e-02,  -6.04282171e-02, ...,\n",
       "             2.43852630e-01,   1.55634228e-02,  -5.00572138e-02],\n",
       "          ..., \n",
       "          [ -2.00244691e-02,  -9.79063511e-02,  -3.24552543e-02, ...,\n",
       "             1.50104128e-02,  -2.32018158e-02,   8.88724346e-03],\n",
       "          [ -3.04106355e-01,   7.09515139e-02,  -1.57352269e-01, ...,\n",
       "            -7.26652816e-02,  -2.12814942e-01,   4.42880839e-02],\n",
       "          [ -2.40914002e-02,   2.16763131e-02,  -2.19346702e-01, ...,\n",
       "             6.23770524e-03,  -3.03760171e-01,   9.86941978e-02]],\n",
       "\n",
       "         [[ -2.98690666e-02,   2.46140677e-02,   1.25348628e-01, ...,\n",
       "             5.87123446e-02,   2.14744136e-02,  -1.78971872e-01],\n",
       "          [ -2.70533636e-02,   3.61649022e-02,  -2.30800100e-02, ...,\n",
       "             3.02022938e-02,  -1.40918151e-01,  -8.53373259e-02],\n",
       "          [  2.94495337e-02,  -1.11853227e-01,  -1.75448507e-02, ...,\n",
       "             8.66371915e-02,   1.02440715e-01,  -1.99946612e-01],\n",
       "          ..., \n",
       "          [ -2.32769642e-02,  -6.53662160e-02,   3.82579267e-02, ...,\n",
       "            -3.89118912e-03,  -5.20023331e-02,   5.31764589e-02],\n",
       "          [ -2.50034034e-01,   1.97448153e-02,  -1.20911501e-01, ...,\n",
       "            -1.59802049e-01,  -2.48593211e-01,   1.40652098e-02],\n",
       "          [ -2.46997010e-02,   3.24838166e-03,  -1.26288056e-01, ...,\n",
       "            -9.64897275e-02,  -2.51803339e-01,   6.23355806e-02]]],\n",
       "\n",
       "\n",
       "        [[[  3.61949429e-02,  -1.66690081e-01,   6.79601505e-02, ...,\n",
       "             9.17059928e-02,   9.91250873e-02,  -2.10519597e-01],\n",
       "          [ -1.25180483e-02,   1.03105612e-01,   9.77152027e-04, ...,\n",
       "            -5.52288666e-02,  -2.52545699e-02,  -2.60184288e-01],\n",
       "          [ -1.07641496e-01,  -4.72704805e-02,   9.84770013e-04, ...,\n",
       "             1.45870656e-01,  -8.64979718e-03,   8.73848572e-02],\n",
       "          ..., \n",
       "          [ -7.78414384e-02,  -9.63663235e-02,  -3.13313492e-02, ...,\n",
       "            -2.16229875e-02,  -5.32616228e-02,  -3.37501839e-02],\n",
       "          [ -5.18094838e-01,   6.86517954e-02,  -6.27624914e-02, ...,\n",
       "            -1.18867874e-01,  -1.95185140e-01,   1.00006662e-01],\n",
       "          [ -2.05542177e-01,  -3.96152623e-02,  -5.81853427e-02, ...,\n",
       "            -1.57884091e-01,  -4.73046988e-01,   1.14240140e-01]],\n",
       "\n",
       "         [[  1.48715830e-04,  -7.35174119e-02,   1.47793382e-01, ...,\n",
       "             2.45543625e-02,   3.79774868e-02,  -1.22476928e-01],\n",
       "          [ -3.25731677e-03,   4.84013446e-02,  -8.97418801e-03, ...,\n",
       "            -2.34771129e-02,  -1.21414945e-01,  -5.37738837e-02],\n",
       "          [  3.15705314e-02,  -1.44551829e-01,  -6.66467622e-02, ...,\n",
       "             2.67594866e-02,   1.00102536e-01,  -1.75773397e-01],\n",
       "          ..., \n",
       "          [ -5.61871491e-02,  -5.87342232e-02,  -7.77699519e-03, ...,\n",
       "             3.36265676e-02,  -7.25558549e-02,   1.27132004e-03],\n",
       "          [ -5.31661212e-01,   6.66375309e-02,  -5.64009808e-02, ...,\n",
       "            -1.92752317e-01,  -2.58510917e-01,   6.75598904e-02],\n",
       "          [ -1.37685046e-01,  -2.82488745e-02,  -2.44674962e-02, ...,\n",
       "            -1.66321650e-01,  -5.32906294e-01,   1.01068109e-01]]]],\n",
       "\n",
       "\n",
       "\n",
       "       [[[[ -1.17303386e-01,  -6.59038723e-02,   2.49576252e-02, ...,\n",
       "             1.80136278e-01,  -6.28295839e-02,  -2.28072092e-01],\n",
       "          [  2.02488620e-02,   4.48711924e-02,  -6.86910376e-02, ...,\n",
       "             1.02745462e-03,  -2.19623707e-02,  -2.38187969e-01],\n",
       "          [ -1.35082453e-01,  -1.37926890e-02,   1.41809722e-02, ...,\n",
       "             9.66765881e-02,   3.40049788e-02,  -7.87158459e-02],\n",
       "          ..., \n",
       "          [  5.74069582e-02,  -7.57157244e-03,  -5.43500856e-03, ...,\n",
       "             3.34544480e-02,  -8.86664689e-02,   3.62146832e-02],\n",
       "          [ -4.95302789e-02,   1.26908913e-01,  -1.18248783e-01, ...,\n",
       "            -1.60100117e-01,  -5.44054545e-02,   2.02731669e-01],\n",
       "          [ -2.50964276e-02,   5.72818220e-02,  -1.78204417e-01, ...,\n",
       "            -3.63124395e-03,  -1.09449759e-01,   1.03061058e-01]],\n",
       "\n",
       "         [[ -2.33704567e-01,  -5.75041920e-02,   7.57460818e-02, ...,\n",
       "             1.42823905e-01,  -1.71976909e-01,  -1.56345978e-01],\n",
       "          [ -1.28581539e-01,   5.00865765e-02,  -2.26099845e-02, ...,\n",
       "            -3.20816785e-02,  -1.12332225e-01,  -1.28754929e-01],\n",
       "          [  1.57687247e-01,  -4.93782088e-02,  -1.42836533e-02, ...,\n",
       "            -1.88469347e-02,   6.99545965e-02,  -2.23581105e-01],\n",
       "          ..., \n",
       "          [  1.95676666e-02,  -6.90246699e-03,   4.97656465e-02, ...,\n",
       "             2.60230694e-02,  -9.43586007e-02,   8.53703842e-02],\n",
       "          [  2.05472596e-02,   1.18779391e-01,  -1.29990131e-01, ...,\n",
       "            -1.14942171e-01,  -1.10723488e-01,   1.57430112e-01],\n",
       "          [  6.77984580e-03,   5.95606491e-02,  -1.28110901e-01, ...,\n",
       "            -5.73971756e-02,  -5.51229008e-02,   4.58104312e-02]]],\n",
       "\n",
       "\n",
       "        [[[  1.78985726e-02,  -2.41194531e-01,   1.45019237e-02, ...,\n",
       "             1.58047508e-02,  -1.06371097e-01,  -4.32712018e-01],\n",
       "          [ -8.01977329e-03,  -1.42700933e-02,  -8.12058896e-03, ...,\n",
       "            -1.03210084e-01,  -8.30647722e-02,  -2.22463116e-01],\n",
       "          [ -1.20922148e-01,  -1.07837692e-01,   1.12408318e-01, ...,\n",
       "             1.02211647e-01,  -1.61568273e-03,  -1.28765449e-01],\n",
       "          ..., \n",
       "          [ -3.72608230e-02,  -3.60689349e-02,   3.05087976e-02, ...,\n",
       "            -4.54094894e-02,  -5.52594140e-02,   4.34302390e-02],\n",
       "          [ -2.77711630e-01,   4.67148647e-02,  -2.92406660e-02, ...,\n",
       "            -1.73534140e-01,  -4.25762273e-02,   8.48548487e-02],\n",
       "          [ -2.33094200e-01,   2.31473856e-02,  -2.02272251e-01, ...,\n",
       "            -1.20852694e-01,  -4.06294942e-01,   1.23311840e-01]],\n",
       "\n",
       "         [[ -6.71851784e-02,  -1.90608650e-01,   3.86208296e-02, ...,\n",
       "             1.77310538e-02,  -1.52028203e-01,  -3.43457282e-01],\n",
       "          [ -4.03681137e-02,  -3.26532349e-02,  -1.85514777e-03, ...,\n",
       "            -5.40739298e-02,  -9.65321809e-02,  -1.36132136e-01],\n",
       "          [  8.47946927e-02,  -9.44520012e-02,   8.71106610e-02, ...,\n",
       "            -1.18966177e-01,   1.33799324e-02,  -2.23909542e-01],\n",
       "          ..., \n",
       "          [ -4.16102745e-02,   2.66167726e-02,   2.68315431e-02, ...,\n",
       "            -3.43479142e-02,  -8.61399323e-02,   8.47969577e-02],\n",
       "          [ -1.65521353e-01,   1.92294866e-02,   3.83707918e-02, ...,\n",
       "            -1.92176297e-01,  -1.03256188e-01,   1.82619188e-02],\n",
       "          [ -1.79165319e-01,   9.66507010e-03,  -1.51316404e-01, ...,\n",
       "            -2.01471925e-01,  -3.85918260e-01,   6.94101229e-02]]],\n",
       "\n",
       "\n",
       "        [[[ -6.15025088e-02,  -3.30770016e-01,   1.43500920e-02, ...,\n",
       "            -1.97984953e-03,  -8.44225064e-02,  -3.79280269e-01],\n",
       "          [  1.09615633e-02,   7.38411769e-02,  -4.90645543e-02, ...,\n",
       "            -1.17133893e-01,  -2.26088595e-02,  -2.19563067e-01],\n",
       "          [ -6.69918358e-02,  -7.12792948e-02,   1.52240023e-01, ...,\n",
       "             8.85149464e-02,   5.87258413e-02,   4.13763933e-02],\n",
       "          ..., \n",
       "          [ -7.43011907e-02,  -5.57949170e-02,   2.60010678e-02, ...,\n",
       "            -7.44213164e-02,  -4.07556295e-02,  -2.07648929e-02],\n",
       "          [ -3.34925205e-01,   1.11835852e-01,   1.00465603e-01, ...,\n",
       "            -1.92017287e-01,   1.66309491e-01,   8.07366669e-02],\n",
       "          [ -9.02961344e-02,  -9.58028249e-03,  -1.25305876e-01, ...,\n",
       "            -2.87416220e-01,  -3.24997932e-01,   2.04421312e-01]],\n",
       "\n",
       "         [[ -1.00444026e-01,  -3.01636338e-01,   4.45294455e-02, ...,\n",
       "            -1.06834155e-02,  -6.48189485e-02,  -2.25006625e-01],\n",
       "          [  1.00862402e-02,  -5.32261375e-03,  -4.56548184e-02, ...,\n",
       "            -5.05318902e-02,  -1.02339745e-01,  -8.52173865e-02],\n",
       "          [  9.23314020e-02,  -1.45276740e-01,   9.67222154e-02, ...,\n",
       "            -1.90542713e-01,  -7.43480213e-03,  -1.86066061e-01],\n",
       "          ..., \n",
       "          [ -6.03747517e-02,  -3.16208825e-02,   4.34207618e-02, ...,\n",
       "            -9.94018093e-03,  -4.92429100e-02,   2.54757367e-02],\n",
       "          [ -3.82377446e-01,   1.19632050e-01,   7.61790797e-02, ...,\n",
       "            -2.38435104e-01,   1.13307305e-01,   6.63119629e-02],\n",
       "          [ -4.71338369e-02,  -8.99936855e-02,  -1.02557302e-01, ...,\n",
       "            -2.19051734e-01,  -4.24195141e-01,   1.82625711e-01]]]],\n",
       "\n",
       "\n",
       "\n",
       "       [[[[ -4.48350515e-03,  -5.75898476e-02,   1.04028679e-01, ...,\n",
       "             9.94288251e-02,   3.58922593e-02,  -1.19330712e-01],\n",
       "          [ -1.40568428e-02,   5.77231310e-02,  -1.08201943e-01, ...,\n",
       "            -1.02083653e-01,  -7.90807158e-02,  -2.67595053e-01],\n",
       "          [ -1.77352965e-01,   1.63800091e-01,   2.03238770e-01, ...,\n",
       "             8.82702786e-03,   4.77263182e-02,  -2.13258825e-02],\n",
       "          ..., \n",
       "          [  3.59321535e-02,   8.26354027e-02,   7.59690702e-02, ...,\n",
       "             3.39221321e-02,  -2.09295198e-01,   3.44120804e-03],\n",
       "          [ -5.70211858e-02,   1.20635673e-01,  -8.02202895e-02, ...,\n",
       "            -1.70448527e-01,   1.00041270e-01,   1.25518993e-01],\n",
       "          [ -1.72397226e-01,   7.87749514e-02,  -1.29192814e-01, ...,\n",
       "            -9.39201489e-02,  -2.15151403e-02,   9.43562314e-02]],\n",
       "\n",
       "         [[ -5.29473983e-02,  -1.35907475e-02,   1.56721145e-01, ...,\n",
       "             3.95112373e-02,  -6.71892939e-03,  -9.25249085e-02],\n",
       "          [ -1.67461053e-01,   1.38702989e-01,  -5.71822636e-02, ...,\n",
       "            -9.38935354e-02,   1.75380858e-03,  -1.58416003e-01],\n",
       "          [  1.68441579e-01,   7.03159943e-02,   7.55881444e-02, ...,\n",
       "            -1.51975468e-01,   5.79329878e-02,  -1.70337170e-01],\n",
       "          ..., \n",
       "          [  4.24710698e-02,   9.91510376e-02,   1.05676517e-01, ...,\n",
       "            -2.96457415e-03,  -2.48265177e-01,   3.93141732e-02],\n",
       "          [  1.28084049e-02,   1.02299109e-01,  -5.10817878e-02, ...,\n",
       "            -1.37776986e-01,   7.16692135e-02,   7.60138035e-02],\n",
       "          [ -1.71704561e-01,   3.70555185e-02,  -8.32004771e-02, ...,\n",
       "            -1.61537290e-01,   4.17407304e-02,   3.83636132e-02]]],\n",
       "\n",
       "\n",
       "        [[[  8.06486607e-02,  -1.53252885e-01,   1.00971274e-01, ...,\n",
       "            -1.04687691e-01,  -3.73043399e-03,  -2.38247603e-01],\n",
       "          [  1.45152835e-02,   4.46969941e-02,  -6.40894249e-02, ...,\n",
       "            -1.38765693e-01,  -5.59273958e-02,  -2.40959823e-01],\n",
       "          [ -1.35474563e-01,   4.10125032e-02,   2.34925285e-01, ...,\n",
       "             4.11389209e-02,   1.30231947e-01,  -5.12685776e-02],\n",
       "          ..., \n",
       "          [ -2.00899616e-02,   2.89467461e-02,   6.56852946e-02, ...,\n",
       "            -3.65165025e-02,  -1.44045308e-01,   1.33567601e-02],\n",
       "          [ -2.44924396e-01,   1.10142499e-01,   7.32975826e-02, ...,\n",
       "            -1.56817451e-01,   1.05473615e-01,   1.55491708e-02],\n",
       "          [ -1.84339598e-01,   1.12509280e-01,  -6.95442930e-02, ...,\n",
       "            -2.61846125e-01,  -4.58505824e-02,   1.68524861e-01]],\n",
       "\n",
       "         [[  5.98177761e-02,  -1.06573768e-01,   2.39684552e-01, ...,\n",
       "            -9.56311375e-02,  -1.49169127e-02,  -1.57516673e-01],\n",
       "          [  4.27371403e-03,   4.21118997e-02,  -1.14203952e-02, ...,\n",
       "            -6.91771358e-02,  -2.89317593e-02,  -1.03781529e-01],\n",
       "          [  1.35691062e-01,  -7.46580809e-02,   1.59017563e-01, ...,\n",
       "            -2.19769076e-01,   1.27766412e-02,  -2.49689832e-01],\n",
       "          ..., \n",
       "          [ -5.35825938e-02,   5.60188815e-02,   1.03384696e-01, ...,\n",
       "            -6.56270608e-02,  -1.55647889e-01,   4.42360081e-02],\n",
       "          [ -1.40231743e-01,   7.57899582e-02,   8.43250751e-02, ...,\n",
       "            -1.47581756e-01,   1.14216581e-01,  -9.97709185e-02],\n",
       "          [ -1.90034539e-01,   1.25120550e-01,  -1.51315155e-02, ...,\n",
       "            -2.10926592e-01,  -9.41681936e-02,   7.17363209e-02]]],\n",
       "\n",
       "\n",
       "        [[[  1.05791956e-01,  -3.13468128e-01,   1.20302901e-01, ...,\n",
       "            -1.14899151e-01,   1.01715885e-01,  -2.34609768e-01],\n",
       "          [  4.17524204e-02,   4.42913584e-02,  -1.57207862e-01, ...,\n",
       "            -1.57365859e-01,  -1.72352921e-02,  -2.56175727e-01],\n",
       "          [ -8.77944678e-02,   3.56399058e-03,   2.89044082e-01, ...,\n",
       "             5.57030328e-02,   2.06209153e-01,   6.65950775e-02],\n",
       "          ..., \n",
       "          [ -8.49805400e-02,  -6.86891889e-03,   5.60058020e-02, ...,\n",
       "            -2.65739802e-02,  -6.13810122e-02,  -2.88432669e-02],\n",
       "          [ -2.93739259e-01,   1.06091022e-01,   1.93694964e-01, ...,\n",
       "            -2.37195194e-01,   3.70452344e-01,   1.61571708e-02],\n",
       "          [  4.42758016e-02,   1.03748448e-01,   4.75127660e-02, ...,\n",
       "            -2.42405668e-01,   2.03295052e-02,   1.96712464e-01]],\n",
       "\n",
       "         [[  6.89057708e-02,  -2.28086829e-01,   2.27190971e-01, ...,\n",
       "            -1.18233837e-01,   9.52286348e-02,  -1.03765041e-01],\n",
       "          [  6.67060092e-02,   2.07915585e-02,  -5.17066531e-02, ...,\n",
       "            -5.76015282e-03,  -5.34879379e-02,  -1.31273046e-01],\n",
       "          [  9.27266926e-02,  -8.21591914e-02,   1.67901695e-01, ...,\n",
       "            -2.64271826e-01,   8.35343823e-02,  -1.42228782e-01],\n",
       "          ..., \n",
       "          [ -9.42849815e-02,  -1.36125222e-04,   7.37586841e-02, ...,\n",
       "            -3.95082049e-02,  -1.03008881e-01,   1.56975649e-02],\n",
       "          [ -2.82253176e-01,   2.64776014e-02,   2.40221545e-01, ...,\n",
       "            -2.53366441e-01,   3.18820834e-01,  -4.88206111e-02],\n",
       "          [  6.45428225e-02,   5.74590601e-02,   5.68694957e-02, ...,\n",
       "            -2.87761778e-01,   9.97314416e-03,   2.07512662e-01]]]]], dtype=float32)"
      ]
     },
     "execution_count": 32,
     "metadata": {},
     "output_type": "execute_result"
    }
   ],
   "source": [
    "w[18]"
   ]
  },
  {
   "cell_type": "code",
   "execution_count": 30,
   "metadata": {},
   "outputs": [
    {
     "data": {
      "text/plain": [
       "128"
      ]
     },
     "execution_count": 30,
     "metadata": {},
     "output_type": "execute_result"
    }
   ],
   "source": [
    "w[16].size + w[7].size"
   ]
  },
  {
   "cell_type": "code",
   "execution_count": null,
   "metadata": {
    "collapsed": true
   },
   "outputs": [],
   "source": []
  }
 ],
 "metadata": {
  "kernelspec": {
   "display_name": "Python 3",
   "language": "python",
   "name": "python3"
  },
  "language_info": {
   "codemirror_mode": {
    "name": "ipython",
    "version": 3
   },
   "file_extension": ".py",
   "mimetype": "text/x-python",
   "name": "python",
   "nbconvert_exporter": "python",
   "pygments_lexer": "ipython3",
   "version": "3.5.0"
  }
 },
 "nbformat": 4,
 "nbformat_minor": 2
}
