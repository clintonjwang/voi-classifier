{
 "cells": [
  {
   "cell_type": "code",
   "execution_count": 1,
   "metadata": {
    "scrolled": false
   },
   "outputs": [
    {
     "name": "stderr",
     "output_type": "stream",
     "text": [
      "Using TensorFlow backend.\n"
     ]
    }
   ],
   "source": [
    "from keras.models import Model\n",
    "from keras.optimizers import Adam\n",
    "from keras.callbacks import EarlyStopping\n",
    "from keras.utils import np_utils\n",
    "from sklearn.metrics import confusion_matrix, f1_score, accuracy_score\n",
    "\n",
    "import cnn_builder as cbuild\n",
    "import cnn_methods as cfunc\n",
    "import config\n",
    "import csv\n",
    "import helper_fxns as hf\n",
    "import importlib\n",
    "import matplotlib.pyplot as plt\n",
    "import numpy as np\n",
    "import operator\n",
    "import os\n",
    "import pandas as pd\n",
    "import random\n",
    "%matplotlib inline"
   ]
  },
  {
   "cell_type": "code",
   "execution_count": 5,
   "metadata": {
    "collapsed": true,
    "scrolled": true
   },
   "outputs": [],
   "source": [
    "importlib.reload(config)\n",
    "importlib.reload(cfunc)\n",
    "importlib.reload(hf)\n",
    "importlib.reload(cbuild)\n",
    "C = config.Config()"
   ]
  },
  {
   "cell_type": "code",
   "execution_count": null,
   "metadata": {
    "collapsed": true
   },
   "outputs": [],
   "source": [
    "cbuild.overnight_run([C])#C_list)"
   ]
  },
  {
   "cell_type": "markdown",
   "metadata": {},
   "source": [
    "C_list = [config.Config(), config.Config()]\n",
    "C_list[0].dims = [36,36,12]\n",
    "C_list[1].dims = [24,24,12]\n",
    "C_list[0].artif_dir = \"E:\\\\imgs\\\\artif_imgs_3612\\\\\"\n",
    "C_list[1].artif_dir = \"E:\\\\imgs\\\\artif_imgs_2412\\\\\"\n",
    "C_list[0].aug_dir = \"E:\\\\imgs\\\\aug_imgs_3612_cropint\\\\\"\n",
    "C_list[1].aug_dir = \"E:\\\\imgs\\\\aug_imgs_2412_cropint\\\\\"\n",
    "C_list[0].orig_dir = \"E:\\\\imgs\\\\orig_imgs_3612_cropint\\\\\"\n",
    "C_list[1].orig_dir = \"E:\\\\imgs\\\\orig_imgs_2412_cropint\\\\\""
   ]
  },
  {
   "cell_type": "code",
   "execution_count": 7,
   "metadata": {
    "scrolled": true
   },
   "outputs": [
    {
     "name": "stdout",
     "output_type": "stream",
     "text": [
      "____________________________________________________________________________________________________\n",
      "Layer (type)                     Output Shape          Param #     Connected to                     \n",
      "====================================================================================================\n",
      "input_1 (InputLayer)             (None, 24, 24, 12, 1) 0                                            \n",
      "____________________________________________________________________________________________________\n",
      "input_2 (InputLayer)             (None, 24, 24, 12, 1) 0                                            \n",
      "____________________________________________________________________________________________________\n",
      "input_3 (InputLayer)             (None, 24, 24, 12, 1) 0                                            \n",
      "____________________________________________________________________________________________________\n",
      "conv3d_1 (Conv3D)                (None, 24, 24, 12, 64 1216        input_1[0][0]                    \n",
      "____________________________________________________________________________________________________\n",
      "conv3d_2 (Conv3D)                (None, 24, 24, 12, 64 1216        input_2[0][0]                    \n",
      "____________________________________________________________________________________________________\n",
      "conv3d_3 (Conv3D)                (None, 24, 24, 12, 64 1216        input_3[0][0]                    \n",
      "____________________________________________________________________________________________________\n",
      "batch_normalization_1 (BatchNorm (None, 24, 24, 12, 64 256         conv3d_1[0][0]                   \n",
      "____________________________________________________________________________________________________\n",
      "batch_normalization_2 (BatchNorm (None, 24, 24, 12, 64 256         conv3d_2[0][0]                   \n",
      "____________________________________________________________________________________________________\n",
      "batch_normalization_3 (BatchNorm (None, 24, 24, 12, 64 256         conv3d_3[0][0]                   \n",
      "____________________________________________________________________________________________________\n",
      "activation_1 (Activation)        (None, 24, 24, 12, 64 0           batch_normalization_1[0][0]      \n",
      "____________________________________________________________________________________________________\n",
      "activation_2 (Activation)        (None, 24, 24, 12, 64 0           batch_normalization_2[0][0]      \n",
      "____________________________________________________________________________________________________\n",
      "activation_3 (Activation)        (None, 24, 24, 12, 64 0           batch_normalization_3[0][0]      \n",
      "____________________________________________________________________________________________________\n",
      "max_pooling3d_1 (MaxPooling3D)   (None, 12, 12, 12, 64 0           activation_1[0][0]               \n",
      "____________________________________________________________________________________________________\n",
      "max_pooling3d_2 (MaxPooling3D)   (None, 12, 12, 12, 64 0           activation_2[0][0]               \n",
      "____________________________________________________________________________________________________\n",
      "max_pooling3d_3 (MaxPooling3D)   (None, 12, 12, 12, 64 0           activation_3[0][0]               \n",
      "____________________________________________________________________________________________________\n",
      "concatenate_1 (Concatenate)      (None, 12, 12, 12, 19 0           max_pooling3d_1[0][0]            \n",
      "                                                                   max_pooling3d_2[0][0]            \n",
      "                                                                   max_pooling3d_3[0][0]            \n",
      "____________________________________________________________________________________________________\n",
      "conv3d_4 (Conv3D)                (None, 10, 10, 11, 12 442496      concatenate_1[0][0]              \n",
      "____________________________________________________________________________________________________\n",
      "batch_normalization_4 (BatchNorm (None, 10, 10, 11, 12 512         conv3d_4[0][0]                   \n",
      "____________________________________________________________________________________________________\n",
      "activation_4 (Activation)        (None, 10, 10, 11, 12 0           batch_normalization_4[0][0]      \n",
      "____________________________________________________________________________________________________\n",
      "dropout_1 (Dropout)              (None, 10, 10, 11, 12 0           activation_4[0][0]               \n",
      "____________________________________________________________________________________________________\n",
      "conv3d_5 (Conv3D)                (None, 8, 8, 10, 128) 295040      dropout_1[0][0]                  \n",
      "____________________________________________________________________________________________________\n",
      "batch_normalization_5 (BatchNorm (None, 8, 8, 10, 128) 512         conv3d_5[0][0]                   \n",
      "____________________________________________________________________________________________________\n",
      "activation_5 (Activation)        (None, 8, 8, 10, 128) 0           batch_normalization_5[0][0]      \n",
      "____________________________________________________________________________________________________\n",
      "dropout_2 (Dropout)              (None, 8, 8, 10, 128) 0           activation_5[0][0]               \n",
      "____________________________________________________________________________________________________\n",
      "max_pooling3d_4 (MaxPooling3D)   (None, 4, 4, 5, 128)  0           dropout_2[0][0]                  \n",
      "____________________________________________________________________________________________________\n",
      "flatten_1 (Flatten)              (None, 10240)         0           max_pooling3d_4[0][0]            \n",
      "____________________________________________________________________________________________________\n",
      "dense_1 (Dense)                  (None, 100)           1024100     flatten_1[0][0]                  \n",
      "____________________________________________________________________________________________________\n",
      "batch_normalization_6 (BatchNorm (None, 100)           400         dense_1[0][0]                    \n",
      "____________________________________________________________________________________________________\n",
      "dropout_3 (Dropout)              (None, 100)           0           batch_normalization_6[0][0]      \n",
      "____________________________________________________________________________________________________\n",
      "activation_6 (Activation)        (None, 100)           0           dropout_3[0][0]                  \n",
      "____________________________________________________________________________________________________\n",
      "dense_2 (Dense)                  (None, 6)             606         activation_6[0][0]               \n",
      "____________________________________________________________________________________________________\n",
      "batch_normalization_7 (BatchNorm (None, 6)             24          dense_2[0][0]                    \n",
      "____________________________________________________________________________________________________\n",
      "activation_7 (Activation)        (None, 6)             0           batch_normalization_7[0][0]      \n",
      "====================================================================================================\n",
      "Total params: 1,768,106\n",
      "Trainable params: 1,766,998\n",
      "Non-trainable params: 1,108\n",
      "____________________________________________________________________________________________________\n"
     ]
    }
   ],
   "source": [
    "model = cbuild.build_cnn(C, 'adam', f=[64,128,128], dropout=[0.1,0.1], padding=['same','valid'],\n",
    "                         merge_layer=1, dilation_rate=(1,1,1), kernel_size=(3,3,2), non_imaging_inputs=False)#Adam(lr=.005)\n",
    "model.summary()"
   ]
  },
  {
   "cell_type": "markdown",
   "metadata": {},
   "source": [
    "model = cbuild.run_cnn(model, C)"
   ]
  },
  {
   "cell_type": "code",
   "execution_count": 6,
   "metadata": {
    "scrolled": true
   },
   "outputs": [],
   "source": [
    "X_test, Y_test, train_generator, num_samples, _, Z = cbuild.get_cnn_data(C, n=4, n_art=0, run_2d=False)\n",
    "Z_test, Z_train_orig = Z"
   ]
  },
  {
   "cell_type": "code",
   "execution_count": null,
   "metadata": {
    "collapsed": true
   },
   "outputs": [],
   "source": [
    "early_stopping = EarlyStopping(monitor='loss', min_delta=0.002, patience=3)\n",
    "model.fit_generator(train_generator, steps_per_epoch=100, epochs=5, callbacks=[early_stopping])"
   ]
  },
  {
   "cell_type": "code",
   "execution_count": null,
   "metadata": {
    "collapsed": true
   },
   "outputs": [],
   "source": []
  },
  {
   "cell_type": "code",
   "execution_count": 13,
   "metadata": {
    "collapsed": true
   },
   "outputs": [],
   "source": [
    "voi_df_art = pd.read_csv(C.art_voi_path)\n",
    "voi_df_ven = pd.read_csv(C.ven_voi_path)\n",
    "voi_df_eq = pd.read_csv(C.eq_voi_path)\n",
    "small_voi_df = pd.read_csv(C.small_voi_path)"
   ]
  },
  {
   "cell_type": "code",
   "execution_count": 10,
   "metadata": {
    "scrolled": true
   },
   "outputs": [
    {
     "data": {
      "text/plain": [
       "['hcc', 'cholangio', 'colorectal', 'cyst', 'hemangioma', 'fnh']"
      ]
     },
     "execution_count": 10,
     "metadata": {},
     "output_type": "execute_result"
    }
   ],
   "source": [
    "C.output_img_dir = \"Z:\\\\OUTPUT\\\\12-gg\"\n",
    "C.classes_to_include"
   ]
  },
  {
   "cell_type": "code",
   "execution_count": 71,
   "metadata": {
    "collapsed": true,
    "scrolled": false
   },
   "outputs": [],
   "source": [
    "#plot_with_bbox(fn_list[2], cls_mapping[wrong_guesses[2]])\n",
    "Y_pred = model.predict(X_test)\n",
    "y_true = np.array([max(enumerate(x), key=operator.itemgetter(1))[0] for x in Y_test])\n",
    "y_pred = np.array([max(enumerate(x), key=operator.itemgetter(1))[0] for x in Y_pred])\n",
    "\n",
    "cm = confusion_matrix(y_true, y_pred)\n",
    "f1 = f1_score(y_true, y_pred, average=\"weighted\")\n",
    "\n",
    "#cfunc.save_output(Z_test, y_pred, y_true, voi_df_art, small_voi_df, C.classes_to_include, C)"
   ]
  },
  {
   "cell_type": "code",
   "execution_count": 72,
   "metadata": {
    "collapsed": true
   },
   "outputs": [],
   "source": [
    "fn_list = fn_list + list(Z_test[~np.equal(y_pred, y_true)])"
   ]
  },
  {
   "cell_type": "code",
   "execution_count": 74,
   "metadata": {
    "collapsed": true
   },
   "outputs": [],
   "source": [
    "fn_list = fn_list + list(Z_train_orig[~np.equal(y_pred, y_true)])\n",
    "fn_list = fn_list + list(Z_train_orig[~np.equal(y_pred, y_true)])"
   ]
  },
  {
   "cell_type": "code",
   "execution_count": 75,
   "metadata": {
    "collapsed": true
   },
   "outputs": [],
   "source": [
    "fn_x_list = [x+\"(\"+str(voi_df_art[voi_df_art[\"id\"] == x[:-4]][\"x1\"].values[0])+\")\" for x in fn_list]"
   ]
  },
  {
   "cell_type": "code",
   "execution_count": 76,
   "metadata": {
    "collapsed": true
   },
   "outputs": [],
   "source": [
    "unique, counts = np.unique(fn_x_list, return_counts=True)"
   ]
  },
  {
   "cell_type": "code",
   "execution_count": 77,
   "metadata": {
    "scrolled": true
   },
   "outputs": [
    {
     "data": {
      "text/plain": [
       "{'12090000_0.npy(88)': 1,\n",
       " '12229245_0.npy(89)': 1,\n",
       " '12502068_1.npy(94)': 1,\n",
       " '12569826_1.npy(135)': 1,\n",
       " '12572068_0.npy(133)': 1,\n",
       " '12739056_0.npy(33)': 1,\n",
       " '12802987_0.npy(61)': 1,\n",
       " '12874178_0.npy(49)': 1,\n",
       " '12884208_0.npy(184)': 1,\n",
       " '12892445_0.npy(88)': 1,\n",
       " '12917515_0.npy(87)': 1,\n",
       " '12960946_0.npy(90)': 1,\n",
       " '13031955_0.npy(55)': 1,\n",
       " '13031955_1.npy(78)': 1,\n",
       " '13064153_2.npy(94)': 1,\n",
       " '13067898_0.npy(116)': 1,\n",
       " '13092836_1.npy(123)': 1,\n",
       " '13094833_0.npy(120)': 1,\n",
       " '13147226_2.npy(228)': 1,\n",
       " 'E100217760_0.npy(69)': 1,\n",
       " 'E100269443_0.npy(66)': 1,\n",
       " 'E100288902_0.npy(52)': 2,\n",
       " 'E100385703_0.npy(110)': 1,\n",
       " 'E100563300_0.npy(60)': 2,\n",
       " 'E100587476_0.npy(87)': 1,\n",
       " 'E100592424_2.npy(64)': 2,\n",
       " 'E100761453_0.npy(224)': 1,\n",
       " 'E100962970_0.npy(59)': 1,\n",
       " 'E101083458_0.npy(125)': 1,\n",
       " 'E101083458_3.npy(55)': 3,\n",
       " 'E101083458_4.npy(118)': 1,\n",
       " 'E101166449_0.npy(96)': 4,\n",
       " 'E101179822_1.npy(174)': 1,\n",
       " 'E101414242_0.npy(65)': 4,\n",
       " 'E101442376_0.npy(68)': 2,\n",
       " 'E101483270_0.npy(138)': 2,\n",
       " 'E101544573_0.npy(116)': 1,\n",
       " 'E101588830_0.npy(110)': 1,\n",
       " 'E101636006_0.npy(83)': 3,\n",
       " 'E101665217_2.npy(120)': 2,\n",
       " 'E102095465_0.npy(115)': 1,\n",
       " 'E102307244_1.npy(76)': 2,\n",
       " 'E102677567_3.npy(45)': 1,\n",
       " 'E102860472_0.npy(54)': 1,\n",
       " 'E103020139_2.npy(114)': 1,\n",
       " 'E103192914_0.npy(96)': 1,\n",
       " 'E103312835_1.npy(49)': 3,\n",
       " 'E103354630_0.npy(113)': 1,\n",
       " 'E103776968_0.npy(124)': 1,\n",
       " 'E104406701_0.npy(46)': 1,\n",
       " 'E104945571_0.npy(66)': 1,\n",
       " 'E104948263_0.npy(71)': 2}"
      ]
     },
     "execution_count": 77,
     "metadata": {},
     "output_type": "execute_result"
    }
   ],
   "source": [
    "dict(zip(unique, counts))"
   ]
  },
  {
   "cell_type": "code",
   "execution_count": 73,
   "metadata": {
    "collapsed": true,
    "scrolled": true
   },
   "outputs": [],
   "source": [
    "Y_pred = model.predict(X_train_orig)\n",
    "y_true = np.array([max(enumerate(x), key=operator.itemgetter(1))[0] for x in Y_train_orig])\n",
    "y_pred = np.array([max(enumerate(x), key=operator.itemgetter(1))[0] for x in Y_pred])\n",
    "\n",
    "cm = confusion_matrix(y_true, y_pred)\n",
    "f1 = f1_score(y_true, y_pred, average=\"weighted\")\n",
    "\n",
    "#cfunc.save_output(Z_train_orig, y_pred, y_true, voi_df_art, small_voi_df, C.classes_to_include, C)#, save_dir=C.output_img_dir+\"\\\\training\")"
   ]
  },
  {
   "cell_type": "code",
   "execution_count": 12,
   "metadata": {
    "scrolled": true
   },
   "outputs": [
    {
     "data": {
      "text/plain": [
       "array([[18,  0,  1,  0,  0,  0],\n",
       "       [ 0,  9,  2,  0,  0,  0],\n",
       "       [ 0,  0, 14,  0,  0,  0],\n",
       "       [ 0,  0,  0, 16,  0,  0],\n",
       "       [ 0,  2,  0,  0, 11,  0],\n",
       "       [ 2,  1,  1,  0,  0, 10]], dtype=int64)"
      ]
     },
     "execution_count": 12,
     "metadata": {},
     "output_type": "execute_result"
    }
   ],
   "source": [
    "cm"
   ]
  },
  {
   "cell_type": "code",
   "execution_count": 34,
   "metadata": {
    "collapsed": true,
    "scrolled": true
   },
   "outputs": [],
   "source": [
    "y_true_simp, y_pred_simp, _ = cfunc.condense_cm(y_true, y_pred, C.classes_to_include)"
   ]
  },
  {
   "cell_type": "code",
   "execution_count": 35,
   "metadata": {
    "scrolled": false
   },
   "outputs": [
    {
     "data": {
      "text/plain": [
       "0.875"
      ]
     },
     "execution_count": 35,
     "metadata": {},
     "output_type": "execute_result"
    }
   ],
   "source": [
    "accuracy_score(y_true_simp, y_pred_simp)"
   ]
  },
  {
   "cell_type": "code",
   "execution_count": 33,
   "metadata": {
    "scrolled": true
   },
   "outputs": [
    {
     "data": {
      "text/plain": [
       "0.81818181818181823"
      ]
     },
     "execution_count": 33,
     "metadata": {},
     "output_type": "execute_result"
    }
   ],
   "source": [
    "accuracy_score(y_true, y_pred)"
   ]
  },
  {
   "cell_type": "code",
   "execution_count": 16,
   "metadata": {},
   "outputs": [
    {
     "name": "stdout",
     "output_type": "stream",
     "text": [
      "-3.0 3.0 -1.09655824525\n"
     ]
    },
    {
     "data": {
      "image/png": "[encoded data removed]",
      "text/plain": [
       "<matplotlib.figure.Figure at 0x29f23e24a20>"
      ]
     },
     "metadata": {},
     "output_type": "display_data"
    }
   ],
   "source": [
    "a=next(train_generator)\n",
    "imgtrain = a[0][0][0]\n",
    "img = imgtrain\n",
    "hf.plot_section_auto_1ch(imgtrain[:,:,:,0])\n",
    "print(np.amin(img), np.amax(img), np.mean(img))"
   ]
  },
  {
   "cell_type": "code",
   "execution_count": 25,
   "metadata": {
    "scrolled": true
   },
   "outputs": [
    {
     "name": "stdout",
     "output_type": "stream",
     "text": [
      "-1.0 1.0 0.166082977132\n"
     ]
    },
    {
     "data": {
      "image/png": "[encoded data removed]",
      "text/plain": [
       "<matplotlib.figure.Figure at 0x1f8a63f1978>"
      ]
     },
     "metadata": {},
     "output_type": "display_data"
    }
   ],
   "source": [
    "imgtest = X_train[0][1]\n",
    "img = imgtest\n",
    "print(np.amin(img), np.amax(img), np.mean(img))\n",
    "hf.plot_section_auto_1ch(imgtest[:,:,:,0])"
   ]
  },
  {
   "cell_type": "code",
   "execution_count": null,
   "metadata": {
    "collapsed": true
   },
   "outputs": [],
   "source": []
  },
  {
   "cell_type": "code",
   "execution_count": null,
   "metadata": {
    "collapsed": true
   },
   "outputs": [],
   "source": []
  },
  {
   "cell_type": "code",
   "execution_count": 12,
   "metadata": {
    "scrolled": false
   },
   "outputs": [
    {
     "name": "stdout",
     "output_type": "stream",
     "text": [
      "{'fnh': 84, 'cholangio': 58, 'hcc': 109, 'colorectal': 87, 'hemangioma': 82, 'cyst': 74}\n"
     ]
    }
   ],
   "source": [
    "nb_classes = len(C.classes_to_include)\n",
    "voi_df = pd.read_csv(C.art_voi_path)\n",
    "orig_data_dict, num_samples = cfunc.collect_unaug_data(C, voi_df)\n",
    "print(num_samples)\n",
    "\n",
    "avg_X2 = {}\n",
    "for cls in C.classes_to_include:\n",
    "    avg_X2[cls] = np.mean(orig_data_dict[cls][1], axis=0)"
   ]
  },
  {
   "cell_type": "code",
   "execution_count": 69,
   "metadata": {
    "scrolled": false
   },
   "outputs": [
    {
     "name": "stdout",
     "output_type": "stream",
     "text": [
      "fnh has 55 samples for training (5500 after augmentation) and 14 for testing\n",
      "cholangio has 45 samples for training (4500 after augmentation) and 11 for testing\n",
      "hcc has 74 samples for training (7400 after augmentation) and 19 for testing\n",
      "cyst has 63 samples for training (6300 after augmentation) and 16 for testing\n",
      "colorectal has 58 samples for training (5800 after augmentation) and 14 for testing\n",
      "hemangioma has 54 samples for training (5400 after augmentation) and 13 for testing\n"
     ]
    }
   ],
   "source": [
    "train_ids = {} #filenames of training set originals\n",
    "test_ids = {} #filenames of test set\n",
    "X_test = []\n",
    "X2_test = []\n",
    "Y_test = []\n",
    "Z_test = []\n",
    "X_train_orig = []\n",
    "X2_train_orig = []\n",
    "Y_train_orig = []\n",
    "Z_train_orig = []\n",
    "\n",
    "train_samples = {}\n",
    "\n",
    "for cls_num, cls in enumerate(orig_data_dict):\n",
    "    cls_num = C.classes_to_include.index(cls)\n",
    "\n",
    "    train_samples[cls] = round(num_samples[cls]*C.train_frac)\n",
    "\n",
    "    order = np.random.permutation(list(range(num_samples[cls])))\n",
    "    train_ids[cls] = list(orig_data_dict[cls][2][order[:train_samples[cls]]])\n",
    "    test_ids[cls] = list(orig_data_dict[cls][2][order[train_samples[cls]:]])\n",
    "\n",
    "    X_test = X_test + list(orig_data_dict[cls][0][order[train_samples[cls]:]])\n",
    "    X2_test = X2_test + list(orig_data_dict[cls][1][order[train_samples[cls]:]])\n",
    "    Y_test = Y_test + [[0] * cls_num + [1] + [0] * (nb_classes - cls_num - 1)] * \\\n",
    "                        (num_samples[cls] - train_samples[cls])\n",
    "    Z_test = Z_test + test_ids[cls]\n",
    "\n",
    "    X_train_orig = X_train_orig + list(orig_data_dict[cls][0][order[:train_samples[cls]]])\n",
    "    X2_train_orig = X2_train_orig + list(orig_data_dict[cls][1][order[:train_samples[cls]]])\n",
    "    Y_train_orig = Y_train_orig + [[0] * cls_num + [1] + [0] * (nb_classes - cls_num - 1)] * \\\n",
    "                        (train_samples[cls])\n",
    "    Z_train_orig = Z_train_orig + train_ids[cls]\n",
    "\n",
    "    print(\"%s has %d samples for training (%d after augmentation) and %d for testing\" %\n",
    "          (cls, train_samples[cls], train_samples[cls] * C.aug_factor, num_samples[cls] - train_samples[cls]))\n",
    "\n",
    "#Y_test = np_utils.to_categorical(Y_test, nb_classes)\n",
    "#Y_train_orig = np_utils.to_categorical(Y_train_orig, nb_classes)\n",
    "X_test = [np.array(X_test), np.array(X2_test)]\n",
    "X_train_orig = [np.array(X_train_orig), np.array(X2_train_orig)]\n",
    "\n",
    "Y_test = np.array(Y_test)\n",
    "Y_train_orig = np.array(Y_train_orig)\n",
    "\n",
    "Z_test = np.array(Z_test)\n",
    "Z_train_orig = np.array(Z_train_orig)\n",
    "\n",
    "X_test = cfunc.separate_phases(X_test)\n",
    "X_train_orig = cfunc.separate_phases(X_train_orig)"
   ]
  },
  {
   "cell_type": "code",
   "execution_count": 70,
   "metadata": {
    "scrolled": true
   },
   "outputs": [
    {
     "name": "stdout",
     "output_type": "stream",
     "text": [
      "Epoch 1/25\n",
      "350/350 [==============================] - 48s - loss: 0.8031 - acc: 0.7480 - val_loss: 1.4704 - val_acc: 0.5172\n",
      "Epoch 2/25\n",
      "350/350 [==============================] - 43s - loss: 0.4688 - acc: 0.8742 - val_loss: 0.6460 - val_acc: 0.8391\n",
      "Epoch 3/25\n",
      "350/350 [==============================] - 44s - loss: 0.3346 - acc: 0.9135 - val_loss: 0.7043 - val_acc: 0.7816\n",
      "Epoch 4/25\n",
      "350/350 [==============================] - 43s - loss: 0.2505 - acc: 0.9342 - val_loss: 0.5728 - val_acc: 0.7931\n",
      "Epoch 5/25\n",
      "350/350 [==============================] - 43s - loss: 0.2093 - acc: 0.9439 - val_loss: 0.6325 - val_acc: 0.7471\n",
      "Epoch 6/25\n",
      "350/350 [==============================] - 44s - loss: 0.1657 - acc: 0.9573 - val_loss: 0.5589 - val_acc: 0.8161\n",
      "Epoch 7/25\n",
      "350/350 [==============================] - 44s - loss: 0.1274 - acc: 0.9673 - val_loss: 0.5970 - val_acc: 0.8161\n",
      "Epoch 8/25\n",
      "350/350 [==============================] - 44s - loss: 0.1155 - acc: 0.9720 - val_loss: 0.4255 - val_acc: 0.8391\n",
      "Epoch 9/25\n",
      "350/350 [==============================] - 44s - loss: 0.0957 - acc: 0.9765 - val_loss: 0.6467 - val_acc: 0.8276\n",
      "Epoch 10/25\n",
      "350/350 [==============================] - 44s - loss: 0.0836 - acc: 0.9806 - val_loss: 0.6142 - val_acc: 0.8161\n",
      "Epoch 11/25\n",
      "350/350 [==============================] - 44s - loss: 0.0735 - acc: 0.9818 - val_loss: 0.7045 - val_acc: 0.8161\n",
      "Epoch 12/25\n",
      "350/350 [==============================] - 44s - loss: 0.0713 - acc: 0.9818 - val_loss: 0.6451 - val_acc: 0.8276\n",
      "Epoch 13/25\n",
      "350/350 [==============================] - 44s - loss: 0.0583 - acc: 0.9868 - val_loss: 0.6623 - val_acc: 0.8046\n",
      "Epoch 14/25\n",
      "350/350 [==============================] - 45s - loss: 0.0584 - acc: 0.9848 - val_loss: 0.8417 - val_acc: 0.7931\n",
      "Epoch 15/25\n",
      "350/350 [==============================] - 44s - loss: 0.0477 - acc: 0.9868 - val_loss: 0.5473 - val_acc: 0.8046\n",
      "Epoch 16/25\n",
      "350/350 [==============================] - 44s - loss: 0.0414 - acc: 0.9901 - val_loss: 0.6751 - val_acc: 0.8276\n",
      "Epoch 17/25\n",
      "350/350 [==============================] - 46s - loss: 0.0410 - acc: 0.9887 - val_loss: 0.7414 - val_acc: 0.7931\n",
      "Epoch 18/25\n",
      "350/350 [==============================] - 44s - loss: 0.0491 - acc: 0.9858 - val_loss: 0.5886 - val_acc: 0.8276\n",
      "Epoch 19/25\n",
      "350/350 [==============================] - 44s - loss: 0.0453 - acc: 0.9861 - val_loss: 0.7570 - val_acc: 0.8046\n",
      "Epoch 20/25\n",
      "350/350 [==============================] - 45s - loss: 0.0336 - acc: 0.9918 - val_loss: 0.9105 - val_acc: 0.8276\n",
      "Epoch 21/25\n",
      "350/350 [==============================] - 44s - loss: 0.0339 - acc: 0.9912 - val_loss: 0.8921 - val_acc: 0.7816\n",
      "Epoch 22/25\n",
      "350/350 [==============================] - 44s - loss: 0.0350 - acc: 0.9900 - val_loss: 0.5836 - val_acc: 0.8736\n",
      "Epoch 23/25\n",
      "350/350 [==============================] - 44s - loss: 0.0395 - acc: 0.9876 - val_loss: 0.6790 - val_acc: 0.7931\n",
      "Epoch 24/25\n",
      "350/350 [==============================] - 44s - loss: 0.0270 - acc: 0.9918 - val_loss: 0.5632 - val_acc: 0.8736\n",
      "Epoch 25/25\n",
      "350/350 [==============================] - 44s - loss: 0.0286 - acc: 0.9923 - val_loss: 0.7042 - val_acc: 0.8046\n"
     ]
    }
   ],
   "source": [
    "#early_stopping = EarlyStopping(monitor='acc', min_delta=0.01, patience=4)\n",
    "train_generator = cbuild.train_generator_func(C, train_ids, voi_df, avg_X2, n=4, n_art=0)\n",
    "hist = model.fit_generator(train_generator, steps_per_epoch=350, epochs=25, validation_data=[X_test, Y_test])#, callbacks=[early_stopping])"
   ]
  },
  {
   "cell_type": "code",
   "execution_count": 369,
   "metadata": {
    "scrolled": true
   },
   "outputs": [
    {
     "data": {
      "text/plain": [
       "[<matplotlib.lines.Line2D at 0x2d4acc6bcc0>]"
      ]
     },
     "execution_count": 369,
     "metadata": {},
     "output_type": "execute_result"
    },
    {
     "data": {
      "image/png": "[encoded data removed]",
      "text/plain": [
       "<matplotlib.figure.Figure at 0x2d4acc3c128>"
      ]
     },
     "metadata": {},
     "output_type": "display_data"
    }
   ],
   "source": [
    "plt.plot(hist.history['loss'])"
   ]
  },
  {
   "cell_type": "markdown",
   "metadata": {
    "scrolled": true
   },
   "source": [
    "hist = model.fit(X_train2, Y_train2, batch_size=32, epochs=200, validation_data=(X_test, Y_test), callbacks=[early_stopping])"
   ]
  },
  {
   "cell_type": "markdown",
   "metadata": {},
   "source": [
    "cm = [[],[],[],[],[],[],[]]\n",
    "\n",
    "cm[0] = [[18,0,0,0,0,1],[0,10,0,0,0,1],[0,1,13,0,0,0],[0,0,1,15,0,0],[0,2,0,0,11,0],[1,1,0,0,0,12]]\n",
    "cm[1] = [[19,0,0,0,0,0],[0,11,0,0,0,0],[0,1,13,0,0,0],[0,0,2,14,0,0],[0,1,0,0,12,0],[2,0,0,0,0,12]]\n",
    "cm[2] = [[17,0,0,0,0,2],[0,8,3,0,0,0],[1,1,12,0,0,0],[0,0,0,16,0,0],[1,0,1,1,10,0],[2,1,0,0,1,10]]\n",
    "cm[3] = [[16,0,0,0,0,3],[0,10,1,0,0,0],[0,1,13,0,0,0],[0,0,2,12,1,1],[0,2,1,0,10,0],[3,2,0,0,0,9]]\n",
    "cm[4] = [[15,0,0,0,0,4],[0,7,3,0,1,0],[0,0,14,0,0,0],[0,0,1,15,0,0],[0,0,1,0,11,1],[1,0,0,0,0,13]]\n",
    "cm[5] = [[17,0,0,0,0,2],[0,9,1,0,1,0],[0,0,13,1,0,0],[0,0,1,15,0,0],[0,0,1,0,11,1],[3,1,0,0,0,10]]\n",
    "cm[6] = [[18,0,0,0,0,1],[0,11,0,0,0,0],[2,2,10,0,0,0],[0,0,1,15,0,0],[1,1,1,0,10,0],[5,0,1,0,0,8]]\n",
    "\n",
    "for x in range(7):\n",
    "    cm[x] = np.array(cm[x])\n",
    "cm = np.array(cm)\n",
    "\n",
    "cmf = np.zeros([6,6])\n",
    "for i in range(6):\n",
    "    for j in range(6):\n",
    "        cmf[i,j] = sum(cm[:,i,j])\n",
    "        \n",
    "for i in range(6):\n",
    "    for j in range(6):\n",
    "        print(cmf[j,i],end=\"\\t\")\n",
    "    print(\"\")"
   ]
  },
  {
   "cell_type": "markdown",
   "metadata": {
    "collapsed": true
   },
   "source": [
    "fn_list = Z_test[~np.equal(y_pred, y_true)]\n",
    "wrong_guesses = np.array(y_pred)[~np.equal(y_pred, y_true)]"
   ]
  },
  {
   "cell_type": "markdown",
   "metadata": {
    "collapsed": true
   },
   "source": [
    "activ = model2.predict(X_train)\n",
    "#activ = model2.predict(np.expand_dims(X_train[10],axis=0))"
   ]
  },
  {
   "cell_type": "markdown",
   "metadata": {
    "scrolled": true
   },
   "source": [
    "import operator\n",
    "#print(\"Ground truth:\", [C.classes_to_include[max(enumerate(x), key=operator.itemgetter(1))[0]] for x in Y_val[::30]])\n",
    "Y_ = model.predict(X_test)\n",
    "print(\"Predictions:\", [C.classes_to_include[max(enumerate(x), key=operator.itemgetter(1))[0]] + \" (%.5f%% probability)\" % (max(x)*100) for x in Y_])"
   ]
  }
 ],
 "metadata": {
  "kernelspec": {
   "display_name": "Python 3",
   "language": "python",
   "name": "python3"
  },
  "language_info": {
   "codemirror_mode": {
    "name": "ipython",
    "version": 3
   },
   "file_extension": ".py",
   "mimetype": "text/x-python",
   "name": "python",
   "nbconvert_exporter": "python",
   "pygments_lexer": "ipython3",
   "version": "3.5.0"
  }
 },
 "nbformat": 4,
 "nbformat_minor": 2
}
