{
 "cells": [
  {
   "cell_type": "code",
   "execution_count": 1,
   "metadata": {
    "ExecuteTime": {
     "end_time": "2018-05-10T14:34:43.654292Z",
     "start_time": "2018-05-10T14:34:40.387348Z"
    },
    "scrolled": false
   },
   "outputs": [
    {
     "name": "stderr",
     "output_type": "stream",
     "text": [
      "C:\\Users\\Clinton\\AppData\\Local\\conda\\conda\\envs\\old-keras\\lib\\site-packages\\h5py\\__init__.py:34: FutureWarning: Conversion of the second argument of issubdtype from `float` to `np.floating` is deprecated. In future, it will be treated as `np.float64 == np.dtype(float).type`.\n",
      "  from ._conv import register_converters as _register_converters\n",
      "Using TensorFlow backend.\n"
     ]
    }
   ],
   "source": [
    "from keras.models import Model\n",
    "import keras.models\n",
    "import keras.layers as layers\n",
    "from keras.optimizers import Adam\n",
    "from keras.callbacks import EarlyStopping\n",
    "from keras.utils import np_utils\n",
    "from sklearn.metrics import confusion_matrix, f1_score, accuracy_score\n",
    "from keras import backend as K\n",
    "\n",
    "import argparse\n",
    "import copy\n",
    "import cnn_analyzer as cnna\n",
    "import cnn_builder as cbuild\n",
    "import cnn_runner as crun\n",
    "import config\n",
    "import csv\n",
    "import niftiutils.helper_fxns as hf\n",
    "import niftiutils.transforms as tr\n",
    "import importlib\n",
    "import itertools\n",
    "from math import sqrt, log, pi, exp\n",
    "import matplotlib.pyplot as plt\n",
    "from numba import njit\n",
    "from numpy import matmul, diag\n",
    "import numpy as np\n",
    "import operator\n",
    "import os\n",
    "from os.path import *\n",
    "import pandas as pd\n",
    "import random\n",
    "import scipy\n",
    "import time\n",
    "import dr_methods as drm\n",
    "import voi_methods as vm\n",
    "%matplotlib inline\n",
    "np.set_printoptions(3, suppress=True)"
   ]
  },
  {
   "cell_type": "code",
   "execution_count": 75,
   "metadata": {
    "ExecuteTime": {
     "end_time": "2018-05-10T22:21:34.314132Z",
     "start_time": "2018-05-10T22:21:34.300095Z"
    },
    "collapsed": true
   },
   "outputs": [],
   "source": [
    "importlib.reload(config)\n",
    "importlib.reload(hf)\n",
    "importlib.reload(cbuild)\n",
    "importlib.reload(crun)\n",
    "C = config.Config()\n",
    "T = config.Hyperparams()\n",
    "T.get_best_hyperparams()\n",
    "T.epochs = 30\n",
    "T.steps_per_epoch = 300"
   ]
  },
  {
   "cell_type": "code",
   "execution_count": 36,
   "metadata": {
    "collapsed": true
   },
   "outputs": [],
   "source": [
    "T.padding = ['same', 'same']\n",
    "T.pool_sizes = [(2,2,2),(2,2,2)]\n",
    "T.f = [64,64,64,64,64,64,64]\n",
    "T.skip_con = True\n",
    "T.epochs = 20"
   ]
  },
  {
   "cell_type": "code",
   "execution_count": null,
   "metadata": {
    "ExecuteTime": {
     "end_time": "2018-04-29T19:20:23.742381Z",
     "start_time": "2018-04-29T19:19:12.952562Z"
    },
    "collapsed": true
   },
   "outputs": [],
   "source": [
    "drm.dcm2npy_batch(acc_nums=[\"E100113043\"])"
   ]
  },
  {
   "cell_type": "code",
   "execution_count": null,
   "metadata": {
    "ExecuteTime": {
     "end_time": "2018-04-29T19:22:14.662640Z",
     "start_time": "2018-04-29T19:22:14.527783Z"
    },
    "collapsed": true
   },
   "outputs": [],
   "source": [
    "vm.plot_check(2, \"E102088195\");"
   ]
  },
  {
   "cell_type": "code",
   "execution_count": null,
   "metadata": {
    "ExecuteTime": {
     "end_time": "2018-05-02T04:11:27.139653Z",
     "start_time": "2018-05-02T04:11:26.670940Z"
    },
    "collapsed": true
   },
   "outputs": [],
   "source": [
    "vm.xref_dirs_with_excel()"
   ]
  },
  {
   "cell_type": "code",
   "execution_count": null,
   "metadata": {
    "ExecuteTime": {
     "end_time": "2018-05-02T13:53:09.930757Z",
     "start_time": "2018-05-02T04:11:28.356875Z"
    },
    "collapsed": true
   },
   "outputs": [],
   "source": [
    "crun.run_fixed_hyperparams([C], hyperparams=T)#C_list)"
   ]
  },
  {
   "cell_type": "markdown",
   "metadata": {},
   "source": [
    "\n",
    "C = config.Config()\n",
    "ActivationLayer = layers.Activation\n",
    "activation_args = 'relu'\n",
    "\n",
    "nb_classes = len(C.classes_to_include)\n",
    "\n",
    "context_img = layers.Input(shape=(C.context_dims[0], C.context_dims[1], C.context_dims[2], 3))\n",
    "cx = context_img\n",
    "\n",
    "#cx = InstanceNormalization(axis=4)(cx)\n",
    "cx = layers.Reshape((*C.context_dims, 3, 1))(context_img)\n",
    "cx = layers.Permute((4,1,2,3,5))(cx)\n",
    "cx = layers.TimeDistributed(layers.Conv3D(filters=64, kernel_size=(4,4,1), padding='valid', activation='relu'))(cx)\n",
    "cx = layers.TimeDistributed(layers.MaxPooling3D((2,2,2)))(cx)\n",
    "cx = layers.TimeDistributed(layers.BatchNormalization(axis=4))(cx)\n",
    "cx = layers.TimeDistributed(layers.Conv3D(filters=64, kernel_size=(3,3,1), padding='valid', activation='relu'))(cx)\n",
    "cx = layers.TimeDistributed(layers.BatchNormalization(axis=4))(cx)\n",
    "cx = layers.TimeDistributed(layers.Conv3D(filters=64, kernel_size=(3,3,1), padding='valid', activation='relu'))(cx)\n",
    "cx = layers.TimeDistributed(layers.BatchNormalization(axis=4))(cx)\n",
    "cx = layers.TimeDistributed(layers.Conv3D(filters=64, kernel_size=(3,3,1), padding='same', activation='relu'))(cx)\n",
    "cx = layers.TimeDistributed(layers.BatchNormalization(axis=4))(cx)\n",
    "\n",
    "model = Model(context_img, cx)\n",
    "model.compile(optimizer='adam', loss='categorical_crossentropy', metrics=['accuracy'])"
   ]
  },
  {
   "cell_type": "code",
   "execution_count": 100,
   "metadata": {
    "ExecuteTime": {
     "end_time": "2018-05-10T22:52:47.968921Z",
     "start_time": "2018-05-10T22:52:47.383112Z"
    },
    "scrolled": true
   },
   "outputs": [
    {
     "name": "stdout",
     "output_type": "stream",
     "text": [
      "________________________________________________________________________________________________________________________\n",
      "Layer (type)                           Output Shape               Param #       Connected to                            \n",
      "========================================================================================================================\n",
      "input_40 (InputLayer)                  (None, 24, 24, 12, 3)      0                                                     \n",
      "________________________________________________________________________________________________________________________\n",
      "lambda_118 (Lambda)                    (None, 24, 24, 12, 1)      0             input_40[0][0]                          \n",
      "________________________________________________________________________________________________________________________\n",
      "lambda_119 (Lambda)                    (None, 24, 24, 12, 1)      0             input_40[0][0]                          \n",
      "________________________________________________________________________________________________________________________\n",
      "lambda_120 (Lambda)                    (None, 24, 24, 12, 1)      0             input_40[0][0]                          \n",
      "________________________________________________________________________________________________________________________\n",
      "conv3d_197 (Conv3D)                    (None, 24, 24, 12, 64)     1216          lambda_118[0][0]                        \n",
      "________________________________________________________________________________________________________________________\n",
      "conv3d_198 (Conv3D)                    (None, 24, 24, 12, 64)     1216          lambda_119[0][0]                        \n",
      "________________________________________________________________________________________________________________________\n",
      "conv3d_199 (Conv3D)                    (None, 24, 24, 12, 64)     1216          lambda_120[0][0]                        \n",
      "________________________________________________________________________________________________________________________\n",
      "concatenate_48 (Concatenate)           (None, 24, 24, 12, 192)    0             conv3d_197[0][0]                        \n",
      "                                                                                conv3d_198[0][0]                        \n",
      "                                                                                conv3d_199[0][0]                        \n",
      "________________________________________________________________________________________________________________________\n",
      "activation_155 (Activation)            (None, 24, 24, 12, 192)    0             concatenate_48[0][0]                    \n",
      "________________________________________________________________________________________________________________________\n",
      "dropout_155 (Dropout)                  (None, 24, 24, 12, 192)    0             activation_155[0][0]                    \n",
      "________________________________________________________________________________________________________________________\n",
      "max_pooling3d_79 (MaxPooling3D)        (None, 12, 12, 6, 192)     0             dropout_155[0][0]                       \n",
      "________________________________________________________________________________________________________________________\n",
      "batch_normalization_155 (BatchNormaliz (None, 12, 12, 6, 192)     768           max_pooling3d_79[0][0]                  \n",
      "________________________________________________________________________________________________________________________\n",
      "conv3d_200 (Conv3D)                    (None, 10, 10, 5, 128)     442496        batch_normalization_155[0][0]           \n",
      "________________________________________________________________________________________________________________________\n",
      "batch_normalization_156 (BatchNormaliz (None, 10, 10, 5, 128)     512           conv3d_200[0][0]                        \n",
      "________________________________________________________________________________________________________________________\n",
      "activation_156 (Activation)            (None, 10, 10, 5, 128)     0             batch_normalization_156[0][0]           \n",
      "________________________________________________________________________________________________________________________\n",
      "dropout_156 (Dropout)                  (None, 10, 10, 5, 128)     0             activation_156[0][0]                    \n",
      "________________________________________________________________________________________________________________________\n",
      "conv3d_201 (Conv3D)                    (None, 8, 8, 4, 128)       295040        dropout_156[0][0]                       \n",
      "________________________________________________________________________________________________________________________\n",
      "batch_normalization_157 (BatchNormaliz (None, 8, 8, 4, 128)       512           conv3d_201[0][0]                        \n",
      "________________________________________________________________________________________________________________________\n",
      "activation_157 (Activation)            (None, 8, 8, 4, 128)       0             batch_normalization_157[0][0]           \n",
      "________________________________________________________________________________________________________________________\n",
      "dropout_157 (Dropout)                  (None, 8, 8, 4, 128)       0             activation_157[0][0]                    \n",
      "________________________________________________________________________________________________________________________\n",
      "max_pooling3d_80 (MaxPooling3D)        (None, 4, 4, 4, 128)       0             dropout_157[0][0]                       \n",
      "________________________________________________________________________________________________________________________\n",
      "flatten_40 (Flatten)                   (None, 8192)               0             max_pooling3d_80[0][0]                  \n",
      "________________________________________________________________________________________________________________________\n",
      "dense_84 (Dense)                       (None, 100)                819300        flatten_40[0][0]                        \n",
      "________________________________________________________________________________________________________________________\n",
      "batch_normalization_158 (BatchNormaliz (None, 100)                400           dense_84[0][0]                          \n",
      "________________________________________________________________________________________________________________________\n",
      "dropout_158 (Dropout)                  (None, 100)                0             batch_normalization_158[0][0]           \n",
      "________________________________________________________________________________________________________________________\n",
      "activation_158 (Activation)            (None, 100)                0             dropout_158[0][0]                       \n",
      "________________________________________________________________________________________________________________________\n",
      "dense_86 (Dense)                       (None, 1)                  101           activation_158[0][0]                    \n",
      "________________________________________________________________________________________________________________________\n",
      "dense_85 (Dense)                       (None, 1)                  101           activation_158[0][0]                    \n",
      "________________________________________________________________________________________________________________________\n",
      "leaky_re_lu_9 (LeakyReLU)              (None, 1)                  0             dense_86[0][0]                          \n",
      "________________________________________________________________________________________________________________________\n",
      "concatenate_49 (Concatenate)           (None, 2)                  0             dense_85[0][0]                          \n",
      "                                                                                leaky_re_lu_9[0][0]                     \n",
      "========================================================================================================================\n",
      "Total params: 1,562,878\n",
      "Trainable params: 1,561,782\n",
      "Non-trainable params: 1,096\n",
      "________________________________________________________________________________________________________________________\n"
     ]
    }
   ],
   "source": [
    "importlib.reload(cbuild)\n",
    "model = cbuild.build_cnn_hyperparams(T)\n",
    "model.summary(line_length=120)"
   ]
  },
  {
   "cell_type": "code",
   "execution_count": 101,
   "metadata": {
    "ExecuteTime": {
     "end_time": "2018-05-10T22:59:02.993261Z",
     "start_time": "2018-05-10T22:52:48.492311Z"
    },
    "scrolled": true
   },
   "outputs": [
    {
     "name": "stdout",
     "output_type": "stream",
     "text": [
      "Epoch 1/30\n",
      "300/300 [==============================] - 17s 55ms/step - loss: 0.3018 - acc_logit: 0.8771 - val_loss: 0.2270 - val_acc_logit: 0.9000\n",
      "Epoch 2/30\n",
      "300/300 [==============================] - 12s 41ms/step - loss: 0.2288 - acc_logit: 0.9079 - val_loss: 0.5916 - val_acc_logit: 0.8000\n",
      "Epoch 3/30\n",
      "300/300 [==============================] - 12s 41ms/step - loss: 0.1820 - acc_logit: 0.9254 - val_loss: 0.2322 - val_acc_logit: 0.9000\n",
      "Epoch 4/30\n",
      "300/300 [==============================] - 12s 41ms/step - loss: 0.1934 - acc_logit: 0.9125 - val_loss: 0.4809 - val_acc_logit: 0.9000\n",
      "Epoch 5/30\n",
      "300/300 [==============================] - 12s 41ms/step - loss: 0.1854 - acc_logit: 0.9221 - val_loss: 0.3344 - val_acc_logit: 0.8000\n",
      "Epoch 6/30\n",
      "300/300 [==============================] - 12s 41ms/step - loss: 0.1677 - acc_logit: 0.9358 - val_loss: 0.1865 - val_acc_logit: 0.8000\n",
      "Epoch 7/30\n",
      "300/300 [==============================] - 12s 41ms/step - loss: 0.1420 - acc_logit: 0.9454 - val_loss: 0.4859 - val_acc_logit: 0.9000\n",
      "Epoch 8/30\n",
      "300/300 [==============================] - 12s 41ms/step - loss: 0.1396 - acc_logit: 0.9471 - val_loss: 0.3330 - val_acc_logit: 0.8000\n",
      "Epoch 9/30\n",
      "300/300 [==============================] - 12s 41ms/step - loss: 0.1351 - acc_logit: 0.9442 - val_loss: 0.4149 - val_acc_logit: 0.9000\n",
      "Epoch 10/30\n",
      "300/300 [==============================] - 12s 41ms/step - loss: 0.1475 - acc_logit: 0.9433 - val_loss: 0.5015 - val_acc_logit: 0.8000\n",
      "Epoch 11/30\n",
      "300/300 [==============================] - 12s 41ms/step - loss: 0.1272 - acc_logit: 0.9492 - val_loss: 0.0950 - val_acc_logit: 1.0000\n",
      "Epoch 12/30\n",
      "300/300 [==============================] - 12s 41ms/step - loss: 0.1216 - acc_logit: 0.9492 - val_loss: 0.4201 - val_acc_logit: 0.9000\n",
      "Epoch 13/30\n",
      "300/300 [==============================] - 12s 41ms/step - loss: 0.1261 - acc_logit: 0.9546 - val_loss: 0.3784 - val_acc_logit: 0.8000\n",
      "Epoch 14/30\n",
      "300/300 [==============================] - 12s 41ms/step - loss: 0.0999 - acc_logit: 0.9608 - val_loss: 0.2090 - val_acc_logit: 0.9000\n",
      "Epoch 15/30\n",
      "300/300 [==============================] - 12s 41ms/step - loss: 0.1067 - acc_logit: 0.9550 - val_loss: 0.5010 - val_acc_logit: 0.9000\n",
      "Epoch 16/30\n",
      "300/300 [==============================] - 12s 41ms/step - loss: 0.1000 - acc_logit: 0.9604 - val_loss: 0.2093 - val_acc_logit: 0.9000\n",
      "Epoch 17/30\n",
      "300/300 [==============================] - 12s 41ms/step - loss: 0.1034 - acc_logit: 0.9583 - val_loss: 0.4751 - val_acc_logit: 0.9000\n",
      "Epoch 18/30\n",
      "300/300 [==============================] - 12s 41ms/step - loss: 0.0891 - acc_logit: 0.9650 - val_loss: 0.4703 - val_acc_logit: 0.9000\n",
      "Epoch 19/30\n",
      "300/300 [==============================] - 12s 41ms/step - loss: 0.0852 - acc_logit: 0.9704 - val_loss: 0.3590 - val_acc_logit: 0.8000\n",
      "Epoch 20/30\n",
      "300/300 [==============================] - 12s 41ms/step - loss: 0.0770 - acc_logit: 0.9708 - val_loss: 0.8045 - val_acc_logit: 0.9000\n",
      "Epoch 21/30\n",
      "300/300 [==============================] - 12s 41ms/step - loss: 0.0999 - acc_logit: 0.9613 - val_loss: 0.5042 - val_acc_logit: 0.8000\n",
      "Epoch 22/30\n",
      "300/300 [==============================] - 12s 41ms/step - loss: 0.0787 - acc_logit: 0.9733 - val_loss: 0.5647 - val_acc_logit: 0.8000\n",
      "Epoch 23/30\n",
      "300/300 [==============================] - 12s 41ms/step - loss: 0.0680 - acc_logit: 0.9746 - val_loss: 0.5367 - val_acc_logit: 0.9000\n",
      "Epoch 24/30\n",
      "300/300 [==============================] - 12s 41ms/step - loss: 0.0628 - acc_logit: 0.9746 - val_loss: 0.2174 - val_acc_logit: 0.9000\n",
      "Epoch 25/30\n",
      "300/300 [==============================] - 12s 41ms/step - loss: 0.0715 - acc_logit: 0.9717 - val_loss: 0.1592 - val_acc_logit: 0.9000\n",
      "Epoch 26/30\n",
      "300/300 [==============================] - 12s 41ms/step - loss: 0.0489 - acc_logit: 0.9796 - val_loss: 0.1506 - val_acc_logit: 0.9000\n",
      "Epoch 27/30\n",
      "300/300 [==============================] - 12s 41ms/step - loss: 0.0534 - acc_logit: 0.9792 - val_loss: 0.0888 - val_acc_logit: 0.9000\n",
      "Epoch 28/30\n",
      "300/300 [==============================] - 12s 41ms/step - loss: 0.0545 - acc_logit: 0.9808 - val_loss: 0.1129 - val_acc_logit: 0.9000\n",
      "Epoch 29/30\n",
      "300/300 [==============================] - 12s 41ms/step - loss: 0.0697 - acc_logit: 0.9758 - val_loss: 0.6087 - val_acc_logit: 0.8000\n",
      "Epoch 30/30\n",
      "300/300 [==============================] - 12s 41ms/step - loss: 0.0466 - acc_logit: 0.9821 - val_loss: 0.5528 - val_acc_logit: 0.9000\n"
     ]
    }
   ],
   "source": [
    "importlib.reload(cbuild)\n",
    "#Z_reader = ['E103312835_1','12823036_0','12569915_0','E102093118_0','E102782525_0','12799652_0','E100894274_0','12874178_3','E100314676_0','12842070_0','13092836_2','12239783_0','12783467_0','13092966_0','E100962970_0','E100183257_1','E102634440_0','E106182827_0','12582632_0','E100121654_0','E100407633_0','E105310461_0','12788616_0','E101225606_0','12678910_1','E101083458_1','12324408_0','13031955_0','E101415263_0','E103192914_0','12888679_2','E106096969_0','E100192709_1','13112385_1','E100718398_0','12207268_0','E105244287_0','E102095465_0','E102613189_0','12961059_0','11907521_0','E105311123_0','12552705_0','E100610622_0','12975280_0','E105918926_0','E103020139_1','E101069048_1','E105427046_0','13028374_0','E100262351_0','12302576_0','12451831_0','E102929168_0','E100383453_0','E105344747_0','12569826_0','E100168661_0','12530153_0','E104697262_0']\n",
    "X_test, Y_test, train_generator, num_samples, train_orig, Z = cbuild.get_cnn_data(n=4)#, Z_test_fixed=Z_reader)\n",
    "Z_test, Z_train_orig = Z\n",
    "X_train_orig, Y_train_orig = train_orig\n",
    "hist = model.fit_generator(train_generator, steps_per_epoch=T.steps_per_epoch, epochs=T.epochs, validation_data=[X_test, Y_test])#, callbacks=[T.early_stopping])"
   ]
  },
  {
   "cell_type": "code",
   "execution_count": null,
   "metadata": {
    "ExecuteTime": {
     "end_time": "2018-05-10T22:46:55.730496Z",
     "start_time": "2018-05-10T22:46:55.703429Z"
    },
    "collapsed": true
   },
   "outputs": [],
   "source": [
    "model.predict(X_train_orig[20:40])"
   ]
  },
  {
   "cell_type": "code",
   "execution_count": null,
   "metadata": {
    "ExecuteTime": {
     "end_time": "2018-05-10T22:44:57.324854Z",
     "start_time": "2018-05-10T22:44:57.319840Z"
    },
    "collapsed": true
   },
   "outputs": [],
   "source": [
    "Y_train_orig[:20]"
   ]
  },
  {
   "cell_type": "code",
   "execution_count": null,
   "metadata": {
    "ExecuteTime": {
     "end_time": "2018-04-23T23:00:05.315215Z",
     "start_time": "2018-04-23T23:00:05.253050Z"
    },
    "collapsed": true
   },
   "outputs": [],
   "source": [
    "model = cbuild.build_cnn_demogr()\n",
    "model.summary(line_length=120)\n",
    "X_test, Y_test, train_generator, num_samples, train_orig = cbuild.get_cnn_demogr(n=4)\n",
    "hist = model.fit_generator(train_generator, steps_per_epoch=T.steps_per_epoch, epochs=T.epochs, validation_data=[X_test, Y_test])#, callbacks=[T.early_stopping])"
   ]
  },
  {
   "cell_type": "code",
   "execution_count": 6,
   "metadata": {
    "collapsed": true
   },
   "outputs": [],
   "source": [
    "#from keras.utils import multi_gpu_model\n",
    "#model = multi_gpu_model(model, gpus=2)"
   ]
  },
  {
   "cell_type": "code",
   "execution_count": null,
   "metadata": {
    "collapsed": true
   },
   "outputs": [],
   "source": [
    "import voi_methods as vm\n",
    "vm.reset_accnum('E105464882')"
   ]
  },
  {
   "cell_type": "code",
   "execution_count": null,
   "metadata": {
    "collapsed": true
   },
   "outputs": [],
   "source": [
    "hist = model.fit_generator(train_generator, steps_per_epoch=T.steps_per_epoch, epochs=T.epochs, validation_data=[X_test, Y_test])#, callbacks=[T.early_stopping])"
   ]
  },
  {
   "cell_type": "code",
   "execution_count": 82,
   "metadata": {
    "collapsed": true
   },
   "outputs": [],
   "source": [
    "model.save('E:\\\\models\\\\model_demogr.hdf5')"
   ]
  },
  {
   "cell_type": "code",
   "execution_count": null,
   "metadata": {
    "collapsed": true
   },
   "outputs": [],
   "source": [
    "import dr_methods as drm\n",
    "voi_df_art, voi_df_ven, voi_df_eq = drm.get_voi_dfs()\n",
    "small_voi_df = pd.read_csv(C.small_voi_path)"
   ]
  },
  {
   "cell_type": "code",
   "execution_count": null,
   "metadata": {
    "collapsed": true
   },
   "outputs": [],
   "source": [
    "#plot_with_bbox(fn_list[2], cls_mapping[wrong_guesses[2]])\n",
    "Y_pred = model.predict(X_test)\n",
    "y_true = np.array([max(enumerate(x), key=operator.itemgetter(1))[0] for x in Y_test])\n",
    "y_pred = np.array([max(enumerate(x), key=operator.itemgetter(1))[0] for x in Y_pred])\n",
    "\n",
    "cm = confusion_matrix(y_true, y_pred)\n",
    "f1 = f1_score(y_true, y_pred, average=\"weighted\")\n",
    "\n",
    "#save_output(Z_test, y_pred, y_true)\n",
    "\n",
    "print(accuracy_score(y_true, y_pred))\n",
    "#y_true_simp, y_pred_simp, _ = cnna.merge_classes(y_true, y_pred)\n",
    "#print(accuracy_score(y_true_simp, y_pred_simp))"
   ]
  },
  {
   "cell_type": "code",
   "execution_count": null,
   "metadata": {
    "collapsed": true
   },
   "outputs": [],
   "source": []
  },
  {
   "cell_type": "code",
   "execution_count": null,
   "metadata": {
    "collapsed": true
   },
   "outputs": [],
   "source": []
  },
  {
   "cell_type": "code",
   "execution_count": 90,
   "metadata": {
    "scrolled": true
   },
   "outputs": [
    {
     "data": {
      "text/plain": [
       "<module 'cnn_builder' from 'C:\\\\Users\\\\Clinton\\\\Documents\\\\voi-classifier\\\\python\\\\cnn_builder.py'>"
      ]
     },
     "execution_count": 90,
     "metadata": {},
     "output_type": "execute_result"
    }
   ],
   "source": [
    "importlib.reload(cbuild)"
   ]
  },
  {
   "cell_type": "code",
   "execution_count": 3,
   "metadata": {
    "collapsed": true
   },
   "outputs": [],
   "source": [
    "model = keras.models.load_model(os.path.join(C.model_dir, \"models_305.hdf5\")) #models_305"
   ]
  },
  {
   "cell_type": "code",
   "execution_count": null,
   "metadata": {
    "collapsed": true
   },
   "outputs": [],
   "source": [
    "#model_frozen = cbuild.build_frozen_model(model, last_layer=-2)"
   ]
  },
  {
   "cell_type": "code",
   "execution_count": null,
   "metadata": {
    "collapsed": true
   },
   "outputs": [],
   "source": [
    "X_test, Y_test, train_generator, num_samples, train_orig, Z = cbuild.get_cnn_data(n=4, n_art=0, Z_test=Z_reader)\n",
    "Z_test, Z_train_orig = Z\n",
    "Y_pred = model.predict(X_test)\n",
    "y_true = np.array([max(enumerate(x), key=operator.itemgetter(1))[0] for x in Y_test])\n",
    "y_pred = np.array([max(enumerate(x), key=operator.itemgetter(1))[0] for x in Y_pred])\n",
    "y_true_simp, y_pred_simp, _ = cbuild.merge_classes(y_true, y_pred)"
   ]
  },
  {
   "cell_type": "code",
   "execution_count": null,
   "metadata": {
    "collapsed": true
   },
   "outputs": [],
   "source": [
    "Y_pred = [C.classes_to_include[y] for y in y_pred]\n",
    "Y_true = [C.classes_to_include[y] for y in y_true]"
   ]
  },
  {
   "cell_type": "code",
   "execution_count": null,
   "metadata": {
    "collapsed": true
   },
   "outputs": [],
   "source": [
    "a = pd.DataFrame([Z_test,Y_pred,Y_true])"
   ]
  },
  {
   "cell_type": "code",
   "execution_count": null,
   "metadata": {
    "collapsed": true,
    "scrolled": true
   },
   "outputs": [],
   "source": [
    "a.to_csv('E:\\\\temp.csv')"
   ]
  },
  {
   "cell_type": "code",
   "execution_count": null,
   "metadata": {
    "collapsed": true
   },
   "outputs": [],
   "source": [
    "acc6cls = []\n",
    "acc3cls = []\n",
    "\n",
    "for i in range(19):\n",
    "    model_num = 306+i\n",
    "    X_test, Y_test, train_generator, num_samples, train_orig, Z = cbuild.get_cnn_data(n=4, n_art=0, Z_test=df[df['model_num'] == model_num][\"z_test\"])\n",
    "    X_train_orig, Y_train_orig = train_orig\n",
    "    model = keras.models.load_model(os.path.join(C.model_dir, \"models_%d.hdf5\" % model_num)) #models_305\n",
    "    \n",
    "    Y_pred = model.predict(X_train_orig)\n",
    "    y_true = np.array([max(enumerate(x), key=operator.itemgetter(1))[0] for x in Y_train_orig])\n",
    "    y_pred = np.array([max(enumerate(x), key=operator.itemgetter(1))[0] for x in Y_pred])\n",
    "\n",
    "    acc6cls.append(accuracy_score(y_true, y_pred))\n",
    "\n",
    "    y_true_simp, y_pred_simp, _ = cbuild.merge_classes(y_true, y_pred)\n",
    "\n",
    "    acc3cls.append(accuracy_score(y_true_simp, y_pred_simp))"
   ]
  },
  {
   "cell_type": "code",
   "execution_count": null,
   "metadata": {
    "collapsed": true
   },
   "outputs": [],
   "source": [
    "df = pd.read_excel(\"Z:\\\\Inter-reader study\\\\Answer key.xlsx\")"
   ]
  },
  {
   "cell_type": "code",
   "execution_count": null,
   "metadata": {
    "collapsed": true,
    "scrolled": true
   },
   "outputs": [],
   "source": [
    "y_true = df[\"Class\"].values\n",
    "y_pred = df[\"Model\"].values"
   ]
  },
  {
   "cell_type": "code",
   "execution_count": null,
   "metadata": {
    "collapsed": true
   },
   "outputs": [],
   "source": [
    "cm = confusion_matrix(y_true, y_pred, labels=C.classes_to_include)"
   ]
  },
  {
   "cell_type": "code",
   "execution_count": null,
   "metadata": {
    "collapsed": true,
    "scrolled": false
   },
   "outputs": [],
   "source": [
    "for i in range(len(cm)):\n",
    "    print('\\t'.join(cm[:,i].astype(str)))"
   ]
  },
  {
   "cell_type": "code",
   "execution_count": null,
   "metadata": {
    "collapsed": true
   },
   "outputs": [],
   "source": [
    "fn_list = fn_list + list(Z_test[~np.equal(y_pred, y_true)])"
   ]
  },
  {
   "cell_type": "code",
   "execution_count": null,
   "metadata": {
    "collapsed": true
   },
   "outputs": [],
   "source": [
    "fn_list = fn_list + list(Z_train_orig[~np.equal(y_pred, y_true)])\n",
    "fn_list = fn_list + list(Z_train_orig[~np.equal(y_pred, y_true)])"
   ]
  },
  {
   "cell_type": "code",
   "execution_count": null,
   "metadata": {
    "collapsed": true
   },
   "outputs": [],
   "source": [
    "fn_x_list = [x+\"(\"+str(voi_df_art[voi_df_art[\"id\"] == x[:-4]][\"x1\"].values[0])+\")\" for x in fn_list]"
   ]
  },
  {
   "cell_type": "code",
   "execution_count": null,
   "metadata": {
    "collapsed": true
   },
   "outputs": [],
   "source": [
    "unique, counts = np.unique(fn_x_list, return_counts=True)"
   ]
  },
  {
   "cell_type": "code",
   "execution_count": null,
   "metadata": {
    "collapsed": true
   },
   "outputs": [],
   "source": [
    "dict(zip(unique, counts))"
   ]
  },
  {
   "cell_type": "code",
   "execution_count": 195,
   "metadata": {
    "collapsed": true
   },
   "outputs": [],
   "source": [
    "Y_pred = model.predict(X_train_orig)\n",
    "y_true = np.array([max(enumerate(x), key=operator.itemgetter(1))[0] for x in Y_train_orig])\n",
    "y_pred = np.array([max(enumerate(x), key=operator.itemgetter(1))[0] for x in Y_pred])\n",
    "\n",
    "cm = confusion_matrix(y_true, y_pred)\n",
    "f1 = f1_score(y_true, y_pred, average=\"weighted\")\n",
    "\n",
    "#cbuild.save_output(Z_train_orig, y_pred, y_true)#, save_dir=C.output_img_dir+\"\\\\training\")"
   ]
  },
  {
   "cell_type": "code",
   "execution_count": 134,
   "metadata": {
    "scrolled": false
   },
   "outputs": [
    {
     "data": {
      "text/plain": [
       "<module 'cnn_builder' from 'C:\\\\Users\\\\Clinton\\\\Documents\\\\voi-classifier\\\\python\\\\cnn_builder.py'>"
      ]
     },
     "execution_count": 134,
     "metadata": {},
     "output_type": "execute_result"
    }
   ],
   "source": [
    "importlib.reload(cbuild)"
   ]
  },
  {
   "cell_type": "code",
   "execution_count": null,
   "metadata": {
    "collapsed": true
   },
   "outputs": [],
   "source": []
  }
 ],
 "metadata": {
  "kernelspec": {
   "display_name": "Python 3",
   "language": "python",
   "name": "python3"
  },
  "varInspector": {
   "cols": {
    "lenName": 16,
    "lenType": 16,
    "lenVar": 40
   },
   "kernels_config": {
    "python": {
     "delete_cmd_postfix": "",
     "delete_cmd_prefix": "del ",
     "library": "var_list.py",
     "varRefreshCmd": "print(var_dic_list())"
    },
    "r": {
     "delete_cmd_postfix": ") ",
     "delete_cmd_prefix": "rm(",
     "library": "var_list.r",
     "varRefreshCmd": "cat(var_dic_list()) "
    }
   },
   "types_to_exclude": [
    "module",
    "function",
    "builtin_function_or_method",
    "instance",
    "_Feature"
   ],
   "window_display": false
  }
 },
 "nbformat": 4,
 "nbformat_minor": 2
}
