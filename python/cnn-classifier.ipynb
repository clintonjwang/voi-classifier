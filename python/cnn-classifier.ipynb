{
 "cells": [
  {
   "cell_type": "code",
   "execution_count": 1,
   "metadata": {
    "ExecuteTime": {
     "end_time": "2018-05-09T22:49:29.828746Z",
     "start_time": "2018-05-09T22:49:27.483107Z"
    },
    "scrolled": false
   },
   "outputs": [
    {
     "name": "stderr",
     "output_type": "stream",
     "text": [
      "C:\\Users\\Clinton\\AppData\\Local\\conda\\conda\\envs\\old-keras\\lib\\site-packages\\h5py\\__init__.py:34: FutureWarning: Conversion of the second argument of issubdtype from `float` to `np.floating` is deprecated. In future, it will be treated as `np.float64 == np.dtype(float).type`.\n",
      "  from ._conv import register_converters as _register_converters\n",
      "Using TensorFlow backend.\n"
     ]
    }
   ],
   "source": [
    "from keras.models import Model\n",
    "import keras.models\n",
    "import keras.layers as layers\n",
    "from keras.optimizers import Adam\n",
    "from keras.callbacks import EarlyStopping\n",
    "from keras.utils import np_utils\n",
    "from sklearn.metrics import confusion_matrix, f1_score, accuracy_score\n",
    "from keras import backend as K\n",
    "\n",
    "import argparse\n",
    "import copy\n",
    "import cnn_analyzer as cnna\n",
    "import cnn_builder as cbuild\n",
    "import cnn_runner as crun\n",
    "import config\n",
    "import csv\n",
    "import niftiutils.helper_fxns as hf\n",
    "import niftiutils.transforms as tr\n",
    "import importlib\n",
    "import itertools\n",
    "from math import sqrt, log, pi, exp\n",
    "import matplotlib.pyplot as plt\n",
    "from numba import njit\n",
    "from numpy import matmul, diag\n",
    "import numpy as np\n",
    "import operator\n",
    "import os\n",
    "from os.path import *\n",
    "import pandas as pd\n",
    "import random\n",
    "import scipy\n",
    "import time\n",
    "import dr_methods as drm\n",
    "import voi_methods as vm\n",
    "%matplotlib inline"
   ]
  },
  {
   "cell_type": "code",
   "execution_count": 2,
   "metadata": {
    "ExecuteTime": {
     "end_time": "2018-05-09T22:49:29.856707Z",
     "start_time": "2018-05-09T22:49:29.848686Z"
    },
    "collapsed": true
   },
   "outputs": [],
   "source": [
    "importlib.reload(config)\n",
    "importlib.reload(hf)\n",
    "importlib.reload(cbuild)\n",
    "importlib.reload(crun)\n",
    "C = config.Config()\n",
    "T = config.Hyperparams()\n",
    "T.get_best_hyperparams()\n",
    "T.epochs = 25\n",
    "T.steps_per_epoch = 250"
   ]
  },
  {
   "cell_type": "code",
   "execution_count": 36,
   "metadata": {
    "collapsed": true
   },
   "outputs": [],
   "source": [
    "T.padding = ['same', 'same']\n",
    "T.pool_sizes = [(2,2,2),(2,2,2)]\n",
    "T.f = [64,64,64,64,64,64,64]\n",
    "T.skip_con = True\n",
    "T.epochs = 20"
   ]
  },
  {
   "cell_type": "code",
   "execution_count": null,
   "metadata": {
    "ExecuteTime": {
     "end_time": "2018-04-29T19:20:23.742381Z",
     "start_time": "2018-04-29T19:19:12.952562Z"
    },
    "collapsed": true
   },
   "outputs": [],
   "source": [
    "drm.dcm2npy_batch(acc_nums=[\"E100113043\"])"
   ]
  },
  {
   "cell_type": "code",
   "execution_count": null,
   "metadata": {
    "ExecuteTime": {
     "end_time": "2018-04-29T19:22:14.662640Z",
     "start_time": "2018-04-29T19:22:14.527783Z"
    },
    "collapsed": true
   },
   "outputs": [],
   "source": [
    "vm.plot_check(2, \"E102088195\");"
   ]
  },
  {
   "cell_type": "code",
   "execution_count": 7,
   "metadata": {
    "ExecuteTime": {
     "end_time": "2018-05-02T04:11:27.139653Z",
     "start_time": "2018-05-02T04:11:26.670940Z"
    }
   },
   "outputs": [
    {
     "name": "stdout",
     "output_type": "stream",
     "text": [
      "Checking hcc\n",
      "Checking non-hcc\n"
     ]
    }
   ],
   "source": [
    "vm.xref_dirs_with_excel()"
   ]
  },
  {
   "cell_type": "code",
   "execution_count": null,
   "metadata": {
    "ExecuteTime": {
     "end_time": "2018-05-02T13:53:09.930757Z",
     "start_time": "2018-05-02T04:11:28.356875Z"
    },
    "collapsed": true
   },
   "outputs": [],
   "source": [
    "crun.run_fixed_hyperparams([C], hyperparams=T)#C_list)"
   ]
  },
  {
   "cell_type": "markdown",
   "metadata": {},
   "source": [
    "\n",
    "C = config.Config()\n",
    "ActivationLayer = layers.Activation\n",
    "activation_args = 'relu'\n",
    "\n",
    "nb_classes = len(C.classes_to_include)\n",
    "\n",
    "context_img = layers.Input(shape=(C.context_dims[0], C.context_dims[1], C.context_dims[2], 3))\n",
    "cx = context_img\n",
    "\n",
    "#cx = InstanceNormalization(axis=4)(cx)\n",
    "cx = layers.Reshape((*C.context_dims, 3, 1))(context_img)\n",
    "cx = layers.Permute((4,1,2,3,5))(cx)\n",
    "cx = layers.TimeDistributed(layers.Conv3D(filters=64, kernel_size=(4,4,1), padding='valid', activation='relu'))(cx)\n",
    "cx = layers.TimeDistributed(layers.MaxPooling3D((2,2,2)))(cx)\n",
    "cx = layers.TimeDistributed(layers.BatchNormalization(axis=4))(cx)\n",
    "cx = layers.TimeDistributed(layers.Conv3D(filters=64, kernel_size=(3,3,1), padding='valid', activation='relu'))(cx)\n",
    "cx = layers.TimeDistributed(layers.BatchNormalization(axis=4))(cx)\n",
    "cx = layers.TimeDistributed(layers.Conv3D(filters=64, kernel_size=(3,3,1), padding='valid', activation='relu'))(cx)\n",
    "cx = layers.TimeDistributed(layers.BatchNormalization(axis=4))(cx)\n",
    "cx = layers.TimeDistributed(layers.Conv3D(filters=64, kernel_size=(3,3,1), padding='same', activation='relu'))(cx)\n",
    "cx = layers.TimeDistributed(layers.BatchNormalization(axis=4))(cx)\n",
    "\n",
    "model = Model(context_img, cx)\n",
    "model.compile(optimizer='adam', loss='categorical_crossentropy', metrics=['accuracy'])"
   ]
  },
  {
   "cell_type": "code",
   "execution_count": 3,
   "metadata": {
    "ExecuteTime": {
     "end_time": "2018-05-09T22:49:31.722689Z",
     "start_time": "2018-05-09T22:49:31.147117Z"
    },
    "scrolled": true
   },
   "outputs": [
    {
     "name": "stdout",
     "output_type": "stream",
     "text": [
      "________________________________________________________________________________________________________________________\n",
      "Layer (type)                           Output Shape               Param #       Connected to                            \n",
      "========================================================================================================================\n",
      "input_1 (InputLayer)                   (None, 24, 24, 12, 3)      0                                                     \n",
      "________________________________________________________________________________________________________________________\n",
      "lambda_1 (Lambda)                      (None, 24, 24, 12, 1)      0             input_1[0][0]                           \n",
      "________________________________________________________________________________________________________________________\n",
      "lambda_2 (Lambda)                      (None, 24, 24, 12, 1)      0             input_1[0][0]                           \n",
      "________________________________________________________________________________________________________________________\n",
      "lambda_3 (Lambda)                      (None, 24, 24, 12, 1)      0             input_1[0][0]                           \n",
      "________________________________________________________________________________________________________________________\n",
      "conv3d_1 (Conv3D)                      (None, 24, 24, 12, 64)     1216          lambda_1[0][0]                          \n",
      "________________________________________________________________________________________________________________________\n",
      "conv3d_2 (Conv3D)                      (None, 24, 24, 12, 64)     1216          lambda_2[0][0]                          \n",
      "________________________________________________________________________________________________________________________\n",
      "conv3d_3 (Conv3D)                      (None, 24, 24, 12, 64)     1216          lambda_3[0][0]                          \n",
      "________________________________________________________________________________________________________________________\n",
      "concatenate_1 (Concatenate)            (None, 24, 24, 12, 192)    0             conv3d_1[0][0]                          \n",
      "                                                                                conv3d_2[0][0]                          \n",
      "                                                                                conv3d_3[0][0]                          \n",
      "________________________________________________________________________________________________________________________\n",
      "activation_1 (Activation)              (None, 24, 24, 12, 192)    0             concatenate_1[0][0]                     \n",
      "________________________________________________________________________________________________________________________\n",
      "dropout_1 (Dropout)                    (None, 24, 24, 12, 192)    0             activation_1[0][0]                      \n",
      "________________________________________________________________________________________________________________________\n",
      "max_pooling3d_1 (MaxPooling3D)         (None, 12, 12, 6, 192)     0             dropout_1[0][0]                         \n",
      "________________________________________________________________________________________________________________________\n",
      "batch_normalization_1 (BatchNormalizat (None, 12, 12, 6, 192)     768           max_pooling3d_1[0][0]                   \n",
      "________________________________________________________________________________________________________________________\n",
      "conv3d_4 (Conv3D)                      (None, 10, 10, 5, 128)     442496        batch_normalization_1[0][0]             \n",
      "________________________________________________________________________________________________________________________\n",
      "batch_normalization_2 (BatchNormalizat (None, 10, 10, 5, 128)     512           conv3d_4[0][0]                          \n",
      "________________________________________________________________________________________________________________________\n",
      "activation_2 (Activation)              (None, 10, 10, 5, 128)     0             batch_normalization_2[0][0]             \n",
      "________________________________________________________________________________________________________________________\n",
      "dropout_2 (Dropout)                    (None, 10, 10, 5, 128)     0             activation_2[0][0]                      \n",
      "________________________________________________________________________________________________________________________\n",
      "conv3d_5 (Conv3D)                      (None, 8, 8, 4, 128)       295040        dropout_2[0][0]                         \n",
      "________________________________________________________________________________________________________________________\n",
      "batch_normalization_3 (BatchNormalizat (None, 8, 8, 4, 128)       512           conv3d_5[0][0]                          \n",
      "________________________________________________________________________________________________________________________\n",
      "activation_3 (Activation)              (None, 8, 8, 4, 128)       0             batch_normalization_3[0][0]             \n",
      "________________________________________________________________________________________________________________________\n",
      "dropout_3 (Dropout)                    (None, 8, 8, 4, 128)       0             activation_3[0][0]                      \n",
      "________________________________________________________________________________________________________________________\n",
      "max_pooling3d_2 (MaxPooling3D)         (None, 4, 4, 4, 128)       0             dropout_3[0][0]                         \n",
      "________________________________________________________________________________________________________________________\n",
      "flatten_1 (Flatten)                    (None, 8192)               0             max_pooling3d_2[0][0]                   \n",
      "________________________________________________________________________________________________________________________\n",
      "dense_1 (Dense)                        (None, 100)                819300        flatten_1[0][0]                         \n",
      "________________________________________________________________________________________________________________________\n",
      "batch_normalization_4 (BatchNormalizat (None, 100)                400           dense_1[0][0]                           \n",
      "________________________________________________________________________________________________________________________\n",
      "dropout_4 (Dropout)                    (None, 100)                0             batch_normalization_4[0][0]             \n",
      "________________________________________________________________________________________________________________________\n",
      "activation_4 (Activation)              (None, 100)                0             dropout_4[0][0]                         \n",
      "________________________________________________________________________________________________________________________\n",
      "dense_2 (Dense)                        (None, 2)                  202           activation_4[0][0]                      \n",
      "========================================================================================================================\n",
      "Total params: 1,562,878\n",
      "Trainable params: 1,561,782\n",
      "Non-trainable params: 1,096\n",
      "________________________________________________________________________________________________________________________\n"
     ]
    }
   ],
   "source": [
    "model = cbuild.build_cnn_hyperparams(T)\n",
    "model.summary(line_length=120)"
   ]
  },
  {
   "cell_type": "code",
   "execution_count": 4,
   "metadata": {
    "ExecuteTime": {
     "end_time": "2018-05-09T23:04:44.478439Z",
     "start_time": "2018-05-09T22:49:31.740737Z"
    },
    "scrolled": true
   },
   "outputs": [
    {
     "name": "stdout",
     "output_type": "stream",
     "text": [
      "Epoch 1/25\n",
      "250/250 [==============================] - 181s 725ms/step - loss: 0.3285 - val_loss: 0.4306\n",
      "Epoch 2/25\n",
      "250/250 [==============================] - 86s 344ms/step - loss: 0.2957 - val_loss: 0.3035\n",
      "Epoch 3/25\n",
      "250/250 [==============================] - 65s 260ms/step - loss: 0.2880 - val_loss: 0.3346\n",
      "Epoch 4/25\n",
      "250/250 [==============================] - 54s 216ms/step - loss: 0.2952 - val_loss: 0.2982\n",
      "Epoch 5/25\n",
      "250/250 [==============================] - 44s 176ms/step - loss: 0.2853 - val_loss: 0.3010\n",
      "Epoch 6/25\n",
      "250/250 [==============================] - 38s 151ms/step - loss: 0.2853 - val_loss: 0.3041\n",
      "Epoch 7/25\n",
      "250/250 [==============================] - 33s 130ms/step - loss: 0.2819 - val_loss: 0.2474\n",
      "Epoch 8/25\n",
      "250/250 [==============================] - 28s 113ms/step - loss: 0.2875 - val_loss: 0.2459\n",
      "Epoch 9/25\n",
      "250/250 [==============================] - 26s 102ms/step - loss: nan - val_loss: nan\n",
      "Epoch 10/25\n",
      "250/250 [==============================] - 22s 90ms/step - loss: nan - val_loss: nan\n",
      "Epoch 11/25\n",
      "250/250 [==============================] - 22s 89ms/step - loss: nan - val_loss: nan\n",
      "Epoch 12/25\n",
      "250/250 [==============================] - 22s 89ms/step - loss: nan - val_loss: nan\n",
      "Epoch 13/25\n",
      "250/250 [==============================] - 22s 89ms/step - loss: nan - val_loss: nan\n",
      "Epoch 14/25\n",
      "250/250 [==============================] - 22s 89ms/step - loss: nan - val_loss: nan\n",
      "Epoch 15/25\n",
      "250/250 [==============================] - 22s 89ms/step - loss: nan - val_loss: nan\n",
      "Epoch 16/25\n",
      "250/250 [==============================] - 22s 89ms/step - loss: nan - val_loss: nan\n",
      "Epoch 17/25\n",
      "250/250 [==============================] - 22s 89ms/step - loss: nan - val_loss: nan\n",
      "Epoch 18/25\n",
      "250/250 [==============================] - 22s 89ms/step - loss: nan - val_loss: nan\n",
      "Epoch 19/25\n",
      "250/250 [==============================] - 22s 89ms/step - loss: nan - val_loss: nan\n",
      "Epoch 20/25\n",
      "250/250 [==============================] - 22s 89ms/step - loss: nan - val_loss: nan\n",
      "Epoch 21/25\n",
      "250/250 [==============================] - 22s 89ms/step - loss: nan - val_loss: nan\n",
      "Epoch 22/25\n",
      "250/250 [==============================] - 22s 89ms/step - loss: nan - val_loss: nan\n",
      "Epoch 23/25\n",
      "250/250 [==============================] - 22s 89ms/step - loss: nan - val_loss: nan\n",
      "Epoch 24/25\n",
      "250/250 [==============================] - 22s 89ms/step - loss: nan - val_loss: nan\n",
      "Epoch 25/25\n",
      "250/250 [==============================] - 22s 89ms/step - loss: nan - val_loss: nan\n"
     ]
    }
   ],
   "source": [
    "importlib.reload(cbuild)\n",
    "#Z_reader = ['E103312835_1','12823036_0','12569915_0','E102093118_0','E102782525_0','12799652_0','E100894274_0','12874178_3','E100314676_0','12842070_0','13092836_2','12239783_0','12783467_0','13092966_0','E100962970_0','E100183257_1','E102634440_0','E106182827_0','12582632_0','E100121654_0','E100407633_0','E105310461_0','12788616_0','E101225606_0','12678910_1','E101083458_1','12324408_0','13031955_0','E101415263_0','E103192914_0','12888679_2','E106096969_0','E100192709_1','13112385_1','E100718398_0','12207268_0','E105244287_0','E102095465_0','E102613189_0','12961059_0','11907521_0','E105311123_0','12552705_0','E100610622_0','12975280_0','E105918926_0','E103020139_1','E101069048_1','E105427046_0','13028374_0','E100262351_0','12302576_0','12451831_0','E102929168_0','E100383453_0','E105344747_0','12569826_0','E100168661_0','12530153_0','E104697262_0']\n",
    "X_test, Y_test, train_generator, num_samples, train_orig, Z = cbuild.get_cnn_data(n=4)#, Z_test_fixed=Z_reader)\n",
    "Z_test, Z_train_orig = Z\n",
    "X_train_orig, Y_train_orig = train_orig\n",
    "hist = model.fit_generator(train_generator, steps_per_epoch=T.steps_per_epoch, epochs=T.epochs, validation_data=[X_test, Y_test])#, callbacks=[T.early_stopping])"
   ]
  },
  {
   "cell_type": "code",
   "execution_count": null,
   "metadata": {
    "ExecuteTime": {
     "end_time": "2018-04-23T23:00:05.315215Z",
     "start_time": "2018-04-23T23:00:05.253050Z"
    },
    "collapsed": true
   },
   "outputs": [],
   "source": [
    "model = cbuild.build_cnn_demogr()\n",
    "model.summary(line_length=120)\n",
    "X_test, Y_test, train_generator, num_samples, train_orig = cbuild.get_cnn_demogr(n=4)\n",
    "hist = model.fit_generator(train_generator, steps_per_epoch=T.steps_per_epoch, epochs=T.epochs, validation_data=[X_test, Y_test])#, callbacks=[T.early_stopping])"
   ]
  },
  {
   "cell_type": "code",
   "execution_count": 6,
   "metadata": {
    "collapsed": true
   },
   "outputs": [],
   "source": [
    "#from keras.utils import multi_gpu_model\n",
    "#model = multi_gpu_model(model, gpus=2)"
   ]
  },
  {
   "cell_type": "code",
   "execution_count": null,
   "metadata": {
    "collapsed": true
   },
   "outputs": [],
   "source": [
    "import voi_methods as vm\n",
    "vm.reset_accnum('E105464882')"
   ]
  },
  {
   "cell_type": "code",
   "execution_count": null,
   "metadata": {
    "collapsed": true
   },
   "outputs": [],
   "source": [
    "hist = model.fit_generator(train_generator, steps_per_epoch=T.steps_per_epoch, epochs=T.epochs, validation_data=[X_test, Y_test])#, callbacks=[T.early_stopping])"
   ]
  },
  {
   "cell_type": "code",
   "execution_count": 82,
   "metadata": {
    "collapsed": true
   },
   "outputs": [],
   "source": [
    "model.save('E:\\\\models\\\\model_demogr.hdf5')"
   ]
  },
  {
   "cell_type": "code",
   "execution_count": null,
   "metadata": {
    "collapsed": true
   },
   "outputs": [],
   "source": [
    "import dr_methods as drm\n",
    "voi_df_art, voi_df_ven, voi_df_eq = drm.get_voi_dfs()\n",
    "small_voi_df = pd.read_csv(C.small_voi_path)"
   ]
  },
  {
   "cell_type": "code",
   "execution_count": null,
   "metadata": {
    "collapsed": true
   },
   "outputs": [],
   "source": [
    "#plot_with_bbox(fn_list[2], cls_mapping[wrong_guesses[2]])\n",
    "Y_pred = model.predict(X_test)\n",
    "y_true = np.array([max(enumerate(x), key=operator.itemgetter(1))[0] for x in Y_test])\n",
    "y_pred = np.array([max(enumerate(x), key=operator.itemgetter(1))[0] for x in Y_pred])\n",
    "\n",
    "cm = confusion_matrix(y_true, y_pred)\n",
    "f1 = f1_score(y_true, y_pred, average=\"weighted\")\n",
    "\n",
    "#save_output(Z_test, y_pred, y_true)\n",
    "\n",
    "print(accuracy_score(y_true, y_pred))\n",
    "#y_true_simp, y_pred_simp, _ = cnna.merge_classes(y_true, y_pred)\n",
    "#print(accuracy_score(y_true_simp, y_pred_simp))"
   ]
  },
  {
   "cell_type": "code",
   "execution_count": null,
   "metadata": {
    "collapsed": true
   },
   "outputs": [],
   "source": []
  },
  {
   "cell_type": "code",
   "execution_count": null,
   "metadata": {
    "collapsed": true
   },
   "outputs": [],
   "source": []
  },
  {
   "cell_type": "code",
   "execution_count": 90,
   "metadata": {
    "scrolled": true
   },
   "outputs": [
    {
     "data": {
      "text/plain": [
       "<module 'cnn_builder' from 'C:\\\\Users\\\\Clinton\\\\Documents\\\\voi-classifier\\\\python\\\\cnn_builder.py'>"
      ]
     },
     "execution_count": 90,
     "metadata": {},
     "output_type": "execute_result"
    }
   ],
   "source": [
    "importlib.reload(cbuild)"
   ]
  },
  {
   "cell_type": "code",
   "execution_count": 3,
   "metadata": {
    "collapsed": true
   },
   "outputs": [],
   "source": [
    "model = keras.models.load_model(os.path.join(C.model_dir, \"models_305.hdf5\")) #models_305"
   ]
  },
  {
   "cell_type": "code",
   "execution_count": null,
   "metadata": {
    "collapsed": true
   },
   "outputs": [],
   "source": [
    "#model_frozen = cbuild.build_frozen_model(model, last_layer=-2)"
   ]
  },
  {
   "cell_type": "code",
   "execution_count": null,
   "metadata": {
    "collapsed": true
   },
   "outputs": [],
   "source": [
    "X_test, Y_test, train_generator, num_samples, train_orig, Z = cbuild.get_cnn_data(n=4, n_art=0, Z_test=Z_reader)\n",
    "Z_test, Z_train_orig = Z\n",
    "Y_pred = model.predict(X_test)\n",
    "y_true = np.array([max(enumerate(x), key=operator.itemgetter(1))[0] for x in Y_test])\n",
    "y_pred = np.array([max(enumerate(x), key=operator.itemgetter(1))[0] for x in Y_pred])\n",
    "y_true_simp, y_pred_simp, _ = cbuild.merge_classes(y_true, y_pred)"
   ]
  },
  {
   "cell_type": "code",
   "execution_count": null,
   "metadata": {
    "collapsed": true
   },
   "outputs": [],
   "source": [
    "Y_pred = [C.classes_to_include[y] for y in y_pred]\n",
    "Y_true = [C.classes_to_include[y] for y in y_true]"
   ]
  },
  {
   "cell_type": "code",
   "execution_count": null,
   "metadata": {
    "collapsed": true
   },
   "outputs": [],
   "source": [
    "a = pd.DataFrame([Z_test,Y_pred,Y_true])"
   ]
  },
  {
   "cell_type": "code",
   "execution_count": null,
   "metadata": {
    "collapsed": true,
    "scrolled": true
   },
   "outputs": [],
   "source": [
    "a.to_csv('E:\\\\temp.csv')"
   ]
  },
  {
   "cell_type": "code",
   "execution_count": null,
   "metadata": {
    "collapsed": true
   },
   "outputs": [],
   "source": [
    "acc6cls = []\n",
    "acc3cls = []\n",
    "\n",
    "for i in range(19):\n",
    "    model_num = 306+i\n",
    "    X_test, Y_test, train_generator, num_samples, train_orig, Z = cbuild.get_cnn_data(n=4, n_art=0, Z_test=df[df['model_num'] == model_num][\"z_test\"])\n",
    "    X_train_orig, Y_train_orig = train_orig\n",
    "    model = keras.models.load_model(os.path.join(C.model_dir, \"models_%d.hdf5\" % model_num)) #models_305\n",
    "    \n",
    "    Y_pred = model.predict(X_train_orig)\n",
    "    y_true = np.array([max(enumerate(x), key=operator.itemgetter(1))[0] for x in Y_train_orig])\n",
    "    y_pred = np.array([max(enumerate(x), key=operator.itemgetter(1))[0] for x in Y_pred])\n",
    "\n",
    "    acc6cls.append(accuracy_score(y_true, y_pred))\n",
    "\n",
    "    y_true_simp, y_pred_simp, _ = cbuild.merge_classes(y_true, y_pred)\n",
    "\n",
    "    acc3cls.append(accuracy_score(y_true_simp, y_pred_simp))"
   ]
  },
  {
   "cell_type": "code",
   "execution_count": null,
   "metadata": {
    "collapsed": true
   },
   "outputs": [],
   "source": [
    "df = pd.read_excel(\"Z:\\\\Inter-reader study\\\\Answer key.xlsx\")"
   ]
  },
  {
   "cell_type": "code",
   "execution_count": null,
   "metadata": {
    "collapsed": true,
    "scrolled": true
   },
   "outputs": [],
   "source": [
    "y_true = df[\"Class\"].values\n",
    "y_pred = df[\"Model\"].values"
   ]
  },
  {
   "cell_type": "code",
   "execution_count": null,
   "metadata": {
    "collapsed": true
   },
   "outputs": [],
   "source": [
    "cm = confusion_matrix(y_true, y_pred, labels=C.classes_to_include)"
   ]
  },
  {
   "cell_type": "code",
   "execution_count": null,
   "metadata": {
    "collapsed": true,
    "scrolled": false
   },
   "outputs": [],
   "source": [
    "for i in range(len(cm)):\n",
    "    print('\\t'.join(cm[:,i].astype(str)))"
   ]
  },
  {
   "cell_type": "code",
   "execution_count": null,
   "metadata": {
    "collapsed": true
   },
   "outputs": [],
   "source": [
    "fn_list = fn_list + list(Z_test[~np.equal(y_pred, y_true)])"
   ]
  },
  {
   "cell_type": "code",
   "execution_count": null,
   "metadata": {
    "collapsed": true
   },
   "outputs": [],
   "source": [
    "fn_list = fn_list + list(Z_train_orig[~np.equal(y_pred, y_true)])\n",
    "fn_list = fn_list + list(Z_train_orig[~np.equal(y_pred, y_true)])"
   ]
  },
  {
   "cell_type": "code",
   "execution_count": null,
   "metadata": {
    "collapsed": true
   },
   "outputs": [],
   "source": [
    "fn_x_list = [x+\"(\"+str(voi_df_art[voi_df_art[\"id\"] == x[:-4]][\"x1\"].values[0])+\")\" for x in fn_list]"
   ]
  },
  {
   "cell_type": "code",
   "execution_count": null,
   "metadata": {
    "collapsed": true
   },
   "outputs": [],
   "source": [
    "unique, counts = np.unique(fn_x_list, return_counts=True)"
   ]
  },
  {
   "cell_type": "code",
   "execution_count": null,
   "metadata": {
    "collapsed": true
   },
   "outputs": [],
   "source": [
    "dict(zip(unique, counts))"
   ]
  },
  {
   "cell_type": "code",
   "execution_count": 195,
   "metadata": {
    "collapsed": true
   },
   "outputs": [],
   "source": [
    "Y_pred = model.predict(X_train_orig)\n",
    "y_true = np.array([max(enumerate(x), key=operator.itemgetter(1))[0] for x in Y_train_orig])\n",
    "y_pred = np.array([max(enumerate(x), key=operator.itemgetter(1))[0] for x in Y_pred])\n",
    "\n",
    "cm = confusion_matrix(y_true, y_pred)\n",
    "f1 = f1_score(y_true, y_pred, average=\"weighted\")\n",
    "\n",
    "#cbuild.save_output(Z_train_orig, y_pred, y_true)#, save_dir=C.output_img_dir+\"\\\\training\")"
   ]
  },
  {
   "cell_type": "code",
   "execution_count": 134,
   "metadata": {
    "scrolled": false
   },
   "outputs": [
    {
     "data": {
      "text/plain": [
       "<module 'cnn_builder' from 'C:\\\\Users\\\\Clinton\\\\Documents\\\\voi-classifier\\\\python\\\\cnn_builder.py'>"
      ]
     },
     "execution_count": 134,
     "metadata": {},
     "output_type": "execute_result"
    }
   ],
   "source": [
    "importlib.reload(cbuild)"
   ]
  },
  {
   "cell_type": "code",
   "execution_count": null,
   "metadata": {
    "collapsed": true
   },
   "outputs": [],
   "source": []
  }
 ],
 "metadata": {
  "kernelspec": {
   "display_name": "Python 3",
   "language": "python",
   "name": "python3"
  },
  "language_info": {
   "codemirror_mode": {
    "name": "ipython",
    "version": 3
   },
   "file_extension": ".py",
   "mimetype": "text/x-python",
   "name": "python",
   "nbconvert_exporter": "python",
   "pygments_lexer": "ipython3",
   "version": "3.5.0"
  },
  "varInspector": {
   "cols": {
    "lenName": 16,
    "lenType": 16,
    "lenVar": 40
   },
   "kernels_config": {
    "python": {
     "delete_cmd_postfix": "",
     "delete_cmd_prefix": "del ",
     "library": "var_list.py",
     "varRefreshCmd": "print(var_dic_list())"
    },
    "r": {
     "delete_cmd_postfix": ") ",
     "delete_cmd_prefix": "rm(",
     "library": "var_list.r",
     "varRefreshCmd": "cat(var_dic_list()) "
    }
   },
   "types_to_exclude": [
    "module",
    "function",
    "builtin_function_or_method",
    "instance",
    "_Feature"
   ],
   "window_display": false
  }
 },
 "nbformat": 4,
 "nbformat_minor": 2
}
