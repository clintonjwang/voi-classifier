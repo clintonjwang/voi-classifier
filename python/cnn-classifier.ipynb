{
 "cells": [
  {
   "cell_type": "code",
   "execution_count": 1,
   "metadata": {
    "ExecuteTime": {
     "end_time": "2018-05-28T19:23:07.748358Z",
     "start_time": "2018-05-28T19:23:01.929832Z"
    },
    "scrolled": true
   },
   "outputs": [
    {
     "name": "stderr",
     "output_type": "stream",
     "text": [
      "C:\\Users\\Clinton\\AppData\\Local\\conda\\conda\\envs\\old-keras\\lib\\site-packages\\h5py\\__init__.py:34: FutureWarning: Conversion of the second argument of issubdtype from `float` to `np.floating` is deprecated. In future, it will be treated as `np.float64 == np.dtype(float).type`.\n",
      "  from ._conv import register_converters as _register_converters\n",
      "Using TensorFlow backend.\n",
      "C:\\Users\\Clinton\\AppData\\Local\\conda\\conda\\envs\\old-keras\\lib\\site-packages\\dicom\\__init__.py:53: UserWarning: \n",
      "This code is using an older version of pydicom, which is no longer \n",
      "maintained as of Jan 2017.  You can access the new pydicom features and API \n",
      "by installing `pydicom` from PyPI.\n",
      "See 'Transitioning to pydicom 1.x' section at pydicom.readthedocs.org \n",
      "for more information.\n",
      "\n",
      "  warnings.warn(msg)\n"
     ]
    }
   ],
   "source": [
    "import copy\n",
    "import glob\n",
    "import importlib\n",
    "import itertools\n",
    "import math\n",
    "import operator\n",
    "import os\n",
    "import random\n",
    "import time\n",
    "from os.path import *\n",
    "import psutil\n",
    "import shutil\n",
    "\n",
    "import keras.layers as layers\n",
    "import keras.models\n",
    "import matplotlib.pyplot as plt\n",
    "import numpy as np\n",
    "import pandas as pd\n",
    "import scipy\n",
    "from keras import backend as K\n",
    "from keras.callbacks import EarlyStopping\n",
    "from keras.models import Model\n",
    "from keras.optimizers import Adam\n",
    "from keras.utils import np_utils\n",
    "import tensorflow as tf\n",
    "from sklearn.metrics import accuracy_score, confusion_matrix, f1_score\n",
    "\n",
    "import cnn_builder as cbuild\n",
    "import cnn_runner as crun\n",
    "import config\n",
    "import ddpg.env as denv\n",
    "import ddpg.main as qmain\n",
    "import ddpg.learning_nets as ln\n",
    "import ddpg.task_nets as tn\n",
    "import dr_methods as drm\n",
    "import seg_methods as sm\n",
    "import niftiutils.helper_fxns as hf\n",
    "import niftiutils.transforms as tr\n",
    "import niftiutils.visualization as vis\n",
    "import voi_methods as vm\n",
    "\n",
    "%matplotlib inline\n",
    "np.set_printoptions(3, suppress=True)\n",
    "#np.random.seed(0)"
   ]
  },
  {
   "cell_type": "code",
   "execution_count": 2,
   "metadata": {
    "ExecuteTime": {
     "end_time": "2018-05-28T19:23:08.445741Z",
     "start_time": "2018-05-28T19:23:08.440754Z"
    }
   },
   "outputs": [],
   "source": [
    "importlib.reload(cbuild)\n",
    "C = config.Config()\n",
    "dqn_generator = cbuild._train_gen_ddpg()"
   ]
  },
  {
   "cell_type": "code",
   "execution_count": null,
   "metadata": {
    "ExecuteTime": {
     "start_time": "2018-05-28T19:23:09.399Z"
    },
    "scrolled": true
   },
   "outputs": [
    {
     "name": "stdout",
     "output_type": "stream",
     "text": [
      "WARNING:tensorflow:From C:\\Users\\Clinton\\AppData\\Local\\conda\\conda\\envs\\old-keras\\lib\\site-packages\\keras\\backend\\tensorflow_backend.py:3176: softmax_cross_entropy_with_logits (from tensorflow.python.ops.nn_ops) is deprecated and will be removed in a future version.\n",
      "Instructions for updating:\n",
      "\n",
      "Future major versions of TensorFlow will allow gradients to flow\n",
      "into the labels input on backprop by default.\n",
      "\n",
      "See @{tf.nn.softmax_cross_entropy_with_logits_v2}.\n",
      "\n",
      "Episode 0 Replay Buffer 355\n",
      "\tAction [0.    0.785 0.001 0.769 0.939 0.005 0.843 0.02  0.52  0.037] Reward -0.3\n",
      "\tAction [0.285 0.986 0.782 0.903 0.151 0.008 0.    0.856 0.778 1.   ] Reward 0.0\n",
      "TOTAL REWARD: -0.3 (2 steps)\n",
      "\n",
      "Episode 1 Replay Buffer 357\n",
      "\tAction [0.004 0.975 0.015 0.058 0.983 0.064 0.147 0.751 0.991 0.089] Reward 15.0\n",
      "\tAction [0.023 0.825 0.004 0.013 0.998 0.635 0.183 0.998 0.317 0.917] Reward 2.7\n",
      "\tAction [0.01  0.999 0.    0.47  0.783 0.079 0.049 0.042 0.441 0.687] Reward -5.7\n",
      "\tAction [0.02  0.985 0.845 0.898 0.998 0.054 0.026 0.31  0.751 0.941] Reward 15.0\n",
      "\tAction [0.    0.988 0.055 0.893 0.67  0.1   0.059 0.148 0.967 0.952] Reward 0.0\n",
      "TOTAL REWARD: 27.0 (5 steps)\n",
      "\n",
      "Episode 2 Replay Buffer 362\n",
      "\tAction [0.925 0.982 0.155 0.82  0.014 0.947 0.465 0.677 0.991 0.676] Reward -0.5\n",
      "\tAction [0.582 0.986 0.103 0.999 0.186 0.002 0.104 0.214 0.547 0.998] Reward 0.0\n",
      "Memory use: 2.5480194091796875\n",
      "TOTAL REWARD: -0.5 (2 steps)\n",
      "\n",
      "Episode 3 Replay Buffer 364\n",
      "\tAction [0.001 0.999 0.005 0.004 0.99  0.28  0.195 0.909 0.558 0.996] Reward 0.0\n",
      "TOTAL REWARD: 0.0 (1 steps)\n",
      "\n",
      "Episode 4 Replay Buffer 365\n",
      "\tAction [0.086 0.979 0.646 0.445 0.73  0.008 0.035 0.643 0.971 0.811] Reward -11.7\n",
      "\tAction [0.022 0.832 0.006 0.009 0.699 0.353 0.015 0.55  0.133 0.795] Reward 2.4\n",
      "\tAction [0.038 0.939 0.017 0.498 0.997 0.088 0.061 0.002 0.048 0.733] Reward -0.8\n",
      "\tAction [0.153 0.067 0.117 0.001 0.922 0.358 0.048 0.403 0.571 0.528] Reward 6.8\n",
      "\tAction [0.024 1.    0.954 0.237 0.986 0.993 0.45  0.59  0.604 0.959] Reward 0.0\n",
      "TOTAL REWARD: -3.3 (5 steps)\n",
      "\n",
      "Episode 5 Replay Buffer 370\n",
      "\tAction [0.002 0.779 0.021 0.908 0.594 0.994 0.126 0.312 0.71  0.889] Reward 3.6\n",
      "\tAction [0.694 0.995 0.187 0.986 0.992 0.719 0.673 0.457 0.273 0.992] Reward 0.0\n",
      "Memory use: 2.0697250366210938\n",
      "TOTAL REWARD: 3.6 (2 steps)\n",
      "\n",
      "Episode 6 Replay Buffer 372\n",
      "\tAction [0.308 0.994 0.582 0.994 0.999 0.987 0.003 0.274 0.506 0.998] Reward 0.0\n",
      "TOTAL REWARD: 0.0 (1 steps)\n",
      "\n",
      "Episode 7 Replay Buffer 373\n",
      "\tAction [0.05  0.645 0.001 0.577 0.955 0.978 0.316 0.857 0.988 0.841] Reward -15.0\n",
      "\tAction [0.178 0.661 0.309 0.131 0.986 0.923 0.363 0.005 0.932 0.923] Reward 15.0\n",
      "\tAction [0.01  0.986 0.052 0.041 0.763 0.106 0.089 0.02  0.229 0.849] Reward 2.2\n",
      "\tAction [0.003 0.906 0.148 0.961 0.375 0.986 0.3   0.09  0.994 0.999] Reward 0.0\n",
      "TOTAL REWARD: 2.2 (4 steps)\n",
      "\n",
      "Episode 8 Replay Buffer 377\n",
      "\tAction [0.433 0.95  0.004 0.002 0.962 0.024 0.691 0.34  0.951 0.788] Reward -0.5\n",
      "\tAction [0.22  0.267 0.    0.374 0.991 0.982 0.01  0.036 0.833 0.037] Reward -6.7\n",
      "\tAction [0.237 0.998 0.209 0.666 0.711 0.418 0.01  0.097 0.159 0.978] Reward 0.0\n",
      "Memory use: 2.562366485595703\n",
      "TOTAL REWARD: -7.2 (3 steps)\n",
      "\n",
      "Episode 9 Replay Buffer 380\n",
      "\tAction [0.7   0.995 0.444 0.002 0.932 0.848 0.046 0.414 0.612 0.992] Reward 0.0\n",
      "TOTAL REWARD: 0.0 (1 steps)\n",
      "\n",
      "Episode 10 Replay Buffer 381\n",
      "\tAction [0.729 0.988 0.318 0.973 0.881 0.744 0.003 0.763 0.999 0.01 ] Reward 0.8\n",
      "\tAction [0.375 0.992 0.33  0.995 0.89  0.866 0.002 0.178 0.31  0.332] Reward -1.8\n",
      "\tAction [0.986 0.994 0.928 0.002 0.856 0.848 0.486 0.9   0.99  0.999] Reward 0.0\n",
      "TOTAL REWARD: -1.0 (3 steps)\n",
      "\n",
      "Episode 11 Replay Buffer 384\n",
      "\tAction [0.03  0.982 0.825 0.082 0.969 0.434 0.98  0.147 0.999 0.956] Reward 0.0\n",
      "Memory use: 2.517852783203125\n",
      "TOTAL REWARD: 0.0 (1 steps)\n",
      "\n",
      "Episode 12 Replay Buffer 385\n",
      "\tAction [0.305 0.982 0.04  0.768 0.998 0.855 0.001 0.012 0.953 0.993] Reward 0.0\n",
      "TOTAL REWARD: 0.0 (1 steps)\n",
      "\n",
      "Episode 13 Replay Buffer 386\n",
      "\tAction [0.984 1.    0.793 0.064 0.967 0.26  0.005 0.844 0.035 0.35 ] Reward -0.9\n",
      "\tAction [0.002 0.991 0.002 0.026 0.993 1.    0.011 0.259 1.    0.917] Reward 1.0\n",
      "\tAction [0.318 0.993 0.16  0.584 0.978 0.873 0.219 0.796 0.902 0.998] Reward 0.0\n",
      "TOTAL REWARD: 0.1 (3 steps)\n",
      "\n",
      "Episode 14 Replay Buffer 389\n",
      "\tAction [0.057 0.892 0.002 0.235 1.    0.904 0.009 0.234 0.99  0.877] Reward 2.8\n",
      "\tAction [0.007 0.86  0.957 0.025 0.95  0.993 0.362 0.956 0.982 0.945] Reward -1.3\n",
      "\tAction [0.011 0.997 0.027 0.647 0.066 0.036 0.37  0.009 0.346 0.164] Reward -2.2\n",
      "\tAction [0.634 0.782 0.426 0.041 0.855 0.814 0.19  0.785 0.985 0.541] Reward 0.9\n",
      "\tAction [0.001 0.554 0.105 0.981 0.444 0.1   0.42  0.528 0.563 0.999] Reward 0.0\n",
      "Memory use: 2.6052780151367188\n",
      "TOTAL REWARD: 0.2 (5 steps)\n",
      "\n",
      "Episode 15 Replay Buffer 394\n"
     ]
    }
   ],
   "source": [
    "importlib.reload(qmain)\n",
    "Q = qmain.CRSNet(.8)\n",
    "Q.train(dqn_generator, verbose=True)"
   ]
  },
  {
   "cell_type": "code",
   "execution_count": null,
   "metadata": {
    "collapsed": true
   },
   "outputs": [],
   "source": []
  },
  {
   "cell_type": "code",
   "execution_count": null,
   "metadata": {
    "ExecuteTime": {
     "end_time": "2018-05-28T18:11:58.749023Z",
     "start_time": "2018-05-28T18:11:47.096324Z"
    },
    "collapsed": true
   },
   "outputs": [],
   "source": [
    "importlib.reload(qmain)\n",
    "Q = qmain.CRSNet(1.)\n",
    "\n",
    "replay_conf = {'size': 10000,\n",
    "        'learn_start': 100,\n",
    "        'partition_num': 100,\n",
    "        'total_step': 10000,\n",
    "        'batch_size': 4}\n",
    "BATCH_SIZE = replay_conf[\"batch_size\"]\n",
    "\n",
    "Q.load_models(replay_conf)"
   ]
  },
  {
   "cell_type": "code",
   "execution_count": null,
   "metadata": {
    "ExecuteTime": {
     "end_time": "2018-05-28T18:12:16.001164Z",
     "start_time": "2018-05-28T18:12:15.992160Z"
    },
    "collapsed": true
   },
   "outputs": [],
   "source": [
    "Q.critic.model.summary()"
   ]
  },
  {
   "cell_type": "code",
   "execution_count": null,
   "metadata": {
    "ExecuteTime": {
     "end_time": "2018-05-28T18:12:17.440415Z",
     "start_time": "2018-05-28T18:12:17.431412Z"
    },
    "collapsed": true
   },
   "outputs": [],
   "source": [
    "Q.actor.model.summary()"
   ]
  },
  {
   "cell_type": "code",
   "execution_count": null,
   "metadata": {
    "ExecuteTime": {
     "end_time": "2018-05-28T18:12:19.496073Z",
     "start_time": "2018-05-28T18:12:19.480144Z"
    },
    "collapsed": true
   },
   "outputs": [],
   "source": [
    "Q.env.pred_model.summary()"
   ]
  },
  {
   "cell_type": "code",
   "execution_count": null,
   "metadata": {
    "collapsed": true
   },
   "outputs": [],
   "source": []
  },
  {
   "cell_type": "code",
   "execution_count": 6,
   "metadata": {
    "ExecuteTime": {
     "end_time": "2018-05-28T14:54:39.886003Z",
     "start_time": "2018-05-28T14:54:26.248967Z"
    }
   },
   "outputs": [
    {
     "name": "stdout",
     "output_type": "stream",
     "text": [
      "....................................................................................................100 steps\n"
     ]
    }
   ],
   "source": [
    "importlib.reload(qmain)\n",
    "Q = qmain.CRSNet(.5)\n",
    "img, true_seg, true_cls = next(dqn_generator)\n",
    "seg, seg_var, cls = Q.run(img)"
   ]
  },
  {
   "cell_type": "code",
   "execution_count": null,
   "metadata": {
    "ExecuteTime": {
     "end_time": "2018-05-28T14:54:41.512682Z",
     "start_time": "2018-05-28T14:54:41.378015Z"
    },
    "collapsed": true
   },
   "outputs": [],
   "source": [
    "vis.draw_slices(img)"
   ]
  },
  {
   "cell_type": "code",
   "execution_count": null,
   "metadata": {
    "ExecuteTime": {
     "end_time": "2018-05-28T14:56:11.067887Z",
     "start_time": "2018-05-28T14:56:10.964966Z"
    },
    "collapsed": true
   },
   "outputs": [],
   "source": [
    "vis.draw_slices(true_seg)"
   ]
  },
  {
   "cell_type": "code",
   "execution_count": null,
   "metadata": {
    "ExecuteTime": {
     "end_time": "2018-05-28T14:55:59.697285Z",
     "start_time": "2018-05-28T14:55:59.556932Z"
    },
    "collapsed": true
   },
   "outputs": [],
   "source": [
    "vis.draw_slices(seg, normalize=[0,.05])"
   ]
  },
  {
   "cell_type": "code",
   "execution_count": null,
   "metadata": {
    "collapsed": true
   },
   "outputs": [],
   "source": []
  },
  {
   "cell_type": "code",
   "execution_count": 6,
   "metadata": {
    "ExecuteTime": {
     "end_time": "2018-05-27T19:00:34.911677Z",
     "start_time": "2018-05-27T19:00:05.552852Z"
    },
    "collapsed": true
   },
   "outputs": [],
   "source": [
    "Q.save_weights()"
   ]
  },
  {
   "cell_type": "code",
   "execution_count": 4,
   "metadata": {
    "ExecuteTime": {
     "end_time": "2018-05-28T18:14:13.594692Z",
     "start_time": "2018-05-28T18:14:13.575743Z"
    }
   },
   "outputs": [],
   "source": [
    "shutil.rmtree(C.model_dir)"
   ]
  },
  {
   "cell_type": "code",
   "execution_count": 5,
   "metadata": {
    "ExecuteTime": {
     "end_time": "2018-05-28T18:14:14.287943Z",
     "start_time": "2018-05-28T18:14:14.283953Z"
    }
   },
   "outputs": [],
   "source": [
    "os.makedirs(C.model_dir)"
   ]
  },
  {
   "cell_type": "code",
   "execution_count": null,
   "metadata": {
    "collapsed": true
   },
   "outputs": [],
   "source": []
  },
  {
   "cell_type": "code",
   "execution_count": null,
   "metadata": {
    "ExecuteTime": {
     "end_time": "2018-05-26T19:51:04.504974Z",
     "start_time": "2018-05-26T19:51:01.162486Z"
    },
    "collapsed": true
   },
   "outputs": [],
   "source": [
    "hist = M.fit_generator(gen, steps_per_epoch=2, epochs=2)"
   ]
  },
  {
   "cell_type": "markdown",
   "metadata": {},
   "source": [
    "prediction_model = get_prediction_model()\n",
    "trainable_model = get_trainable_model(prediction_model)\n",
    "trainable_model.compile(optimizer='adam', loss=None)\n",
    "assert len(trainable_model.layers[-1].trainable_weights) == 2  # two log_vars, one for each output\n",
    "assert len(trainable_model.losses) == 1\n",
    "hist = trainable_model.fit([X, Y1, Y2], nb_epoch=nb_epoch, batch_size=batch_size, verbose=0)\n",
    "\n",
    "[np.exp(K.get_value(log_var[0]))**0.5 for log_var in trainable_model.layers[-1].log_vars]"
   ]
  },
  {
   "cell_type": "code",
   "execution_count": null,
   "metadata": {
    "collapsed": true
   },
   "outputs": [],
   "source": []
  },
  {
   "cell_type": "code",
   "execution_count": null,
   "metadata": {
    "ExecuteTime": {
     "end_time": "2018-05-26T01:08:37.572870Z",
     "start_time": "2018-05-26T01:08:37.552924Z"
    },
    "collapsed": true
   },
   "outputs": [],
   "source": [
    "importlib.reload(config)\n",
    "importlib.reload(hf)\n",
    "importlib.reload(cbuild)\n",
    "importlib.reload(crun)\n",
    "C = config.Config('etiology')\n",
    "T = config.Hyperparams()\n",
    "T.get_best_hyperparams()\n",
    "T.epochs = 30\n",
    "T.steps_per_epoch = 300"
   ]
  },
  {
   "cell_type": "code",
   "execution_count": null,
   "metadata": {
    "ExecuteTime": {
     "start_time": "2018-05-21T19:36:55.197Z"
    },
    "collapsed": true
   },
   "outputs": [],
   "source": [
    "importlib.reload(cbuild)\n",
    "importlib.reload(dqna)\n",
    "#dqn_generator = cbuild._train_gen_dqn([])\n",
    "agent = dqna.train_dqn(dqn_generator, agent)"
   ]
  },
  {
   "cell_type": "code",
   "execution_count": null,
   "metadata": {
    "collapsed": true
   },
   "outputs": [],
   "source": [
    "agent.cls_model.fit(cls_generator)"
   ]
  },
  {
   "cell_type": "code",
   "execution_count": null,
   "metadata": {
    "ExecuteTime": {
     "end_time": "2018-05-21T03:15:14.525488Z",
     "start_time": "2018-05-21T03:15:14.521478Z"
    },
    "collapsed": true
   },
   "outputs": [],
   "source": [
    "T.padding = ['same', 'same']\n",
    "T.pool_sizes = [(2,2,2),(2,2,2)]\n",
    "T.f = [64,64,64,64,64,64,64]\n",
    "T.skip_con = True\n",
    "T.epochs = 20"
   ]
  },
  {
   "cell_type": "code",
   "execution_count": null,
   "metadata": {
    "ExecuteTime": {
     "end_time": "2018-05-19T21:34:45.693522Z",
     "start_time": "2018-05-19T21:34:45.678482Z"
    },
    "collapsed": true
   },
   "outputs": [],
   "source": [
    "drm.dcm2npy_batch(acc_nums=[\"E100113043\"])\n",
    "#vm.reset_accnum('E105464882')"
   ]
  },
  {
   "cell_type": "code",
   "execution_count": null,
   "metadata": {
    "ExecuteTime": {
     "end_time": "2018-04-29T19:22:14.662640Z",
     "start_time": "2018-04-29T19:22:14.527783Z"
    },
    "collapsed": true
   },
   "outputs": [],
   "source": [
    "vm.plot_check(2, \"E102088195\");"
   ]
  },
  {
   "cell_type": "code",
   "execution_count": null,
   "metadata": {
    "ExecuteTime": {
     "end_time": "2018-05-02T04:11:27.139653Z",
     "start_time": "2018-05-02T04:11:26.670940Z"
    },
    "collapsed": true
   },
   "outputs": [],
   "source": [
    "vm.xref_dirs_with_excel()"
   ]
  },
  {
   "cell_type": "code",
   "execution_count": null,
   "metadata": {
    "ExecuteTime": {
     "end_time": "2018-05-02T13:53:09.930757Z",
     "start_time": "2018-05-02T04:11:28.356875Z"
    },
    "collapsed": true
   },
   "outputs": [],
   "source": [
    "crun.run_fixed_hyperparams([C], hyperparams=T)#C_list)"
   ]
  },
  {
   "cell_type": "code",
   "execution_count": null,
   "metadata": {
    "ExecuteTime": {
     "end_time": "2018-05-22T15:18:23.881939Z",
     "start_time": "2018-05-22T15:18:20.054251Z"
    },
    "collapsed": true
   },
   "outputs": [],
   "source": [
    "importlib.reload(cbuild)\n",
    "model = cbuild.build_cnn_hyperparams(T)\n",
    "model.summary(line_length=120)"
   ]
  },
  {
   "cell_type": "code",
   "execution_count": null,
   "metadata": {
    "ExecuteTime": {
     "end_time": "2018-05-21T21:56:12.245374Z",
     "start_time": "2018-05-21T21:33:39.982268Z"
    },
    "collapsed": true
   },
   "outputs": [],
   "source": [
    "importlib.reload(cbuild)\n",
    "#Z_reader = ['E103312835_1','12823036_0','12569915_0','E102093118_0','E102782525_0','12799652_0','E100894274_0','12874178_3','E100314676_0','12842070_0','13092836_2','12239783_0','12783467_0','13092966_0','E100962970_0','E100183257_1','E102634440_0','E106182827_0','12582632_0','E100121654_0','E100407633_0','E105310461_0','12788616_0','E101225606_0','12678910_1','E101083458_1','12324408_0','13031955_0','E101415263_0','E103192914_0','12888679_2','E106096969_0','E100192709_1','13112385_1','E100718398_0','12207268_0','E105244287_0','E102095465_0','E102613189_0','12961059_0','11907521_0','E105311123_0','12552705_0','E100610622_0','12975280_0','E105918926_0','E103020139_1','E101069048_1','E105427046_0','13028374_0','E100262351_0','12302576_0','12451831_0','E102929168_0','E100383453_0','E105344747_0','12569826_0','E100168661_0','12530153_0','E104697262_0']\n",
    "X_test, Y_test, train_generator, num_samples, train_orig, Z = cbuild.get_cnn_data(n=4)#, Z_test_fixed=Z_reader)\n",
    "Z_test, Z_train_orig = Z\n",
    "X_train_orig, Y_train_orig = train_orig\n",
    "hist = model.fit_generator(train_generator, steps_per_epoch=T.steps_per_epoch, epochs=T.epochs, validation_data=[X_test, Y_test])#, callbacks=[T.early_stopping])"
   ]
  },
  {
   "cell_type": "code",
   "execution_count": null,
   "metadata": {
    "ExecuteTime": {
     "end_time": "2018-05-12T15:42:30.363207Z",
     "start_time": "2018-05-12T15:42:29.920558Z"
    },
    "collapsed": true
   },
   "outputs": [],
   "source": [
    "model.save(join(C.model_dir, \"model_.hdf5\"))"
   ]
  },
  {
   "cell_type": "code",
   "execution_count": null,
   "metadata": {
    "ExecuteTime": {
     "end_time": "2018-05-10T22:46:55.730496Z",
     "start_time": "2018-05-10T22:46:55.703429Z"
    },
    "collapsed": true
   },
   "outputs": [],
   "source": [
    "model.predict(X_train_orig[20:40])"
   ]
  },
  {
   "cell_type": "code",
   "execution_count": null,
   "metadata": {
    "ExecuteTime": {
     "end_time": "2018-05-10T22:44:57.324854Z",
     "start_time": "2018-05-10T22:44:57.319840Z"
    },
    "collapsed": true
   },
   "outputs": [],
   "source": [
    "Y_train_orig[:20]"
   ]
  },
  {
   "cell_type": "code",
   "execution_count": null,
   "metadata": {
    "collapsed": true
   },
   "outputs": [],
   "source": [
    "hist = model.fit_generator(train_generator, steps_per_epoch=T.steps_per_epoch, epochs=T.epochs, validation_data=[X_test, Y_test])#, callbacks=[T.early_stopping])"
   ]
  },
  {
   "cell_type": "code",
   "execution_count": null,
   "metadata": {
    "collapsed": true
   },
   "outputs": [],
   "source": [
    "#plot_with_bbox(fn_list[2], cls_mapping[wrong_guesses[2]])\n",
    "Y_pred = model.predict(X_test)\n",
    "y_true = np.array([max(enumerate(x), key=operator.itemgetter(1))[0] for x in Y_test])\n",
    "y_pred = np.array([max(enumerate(x), key=operator.itemgetter(1))[0] for x in Y_pred])\n",
    "\n",
    "cm = confusion_matrix(y_true, y_pred)\n",
    "f1 = f1_score(y_true, y_pred, average=\"weighted\")\n",
    "\n",
    "#save_output(Z_test, y_pred, y_true)\n",
    "\n",
    "print(accuracy_score(y_true, y_pred))\n",
    "#y_true_simp, y_pred_simp, _ = cnna.merge_classes(y_true, y_pred)\n",
    "#print(accuracy_score(y_true_simp, y_pred_simp))"
   ]
  }
 ],
 "metadata": {
  "kernelspec": {
   "display_name": "Python 3",
   "language": "python",
   "name": "python3"
  },
  "language_info": {
   "codemirror_mode": {
    "name": "ipython",
    "version": 3
   },
   "file_extension": ".py",
   "mimetype": "text/x-python",
   "name": "python",
   "nbconvert_exporter": "python",
   "pygments_lexer": "ipython3",
   "version": "3.5.0"
  },
  "varInspector": {
   "cols": {
    "lenName": 16,
    "lenType": 16,
    "lenVar": 40
   },
   "kernels_config": {
    "python": {
     "delete_cmd_postfix": "",
     "delete_cmd_prefix": "del ",
     "library": "var_list.py",
     "varRefreshCmd": "print(var_dic_list())"
    },
    "r": {
     "delete_cmd_postfix": ") ",
     "delete_cmd_prefix": "rm(",
     "library": "var_list.r",
     "varRefreshCmd": "cat(var_dic_list()) "
    }
   },
   "types_to_exclude": [
    "module",
    "function",
    "builtin_function_or_method",
    "instance",
    "_Feature"
   ],
   "window_display": false
  }
 },
 "nbformat": 4,
 "nbformat_minor": 2
}
