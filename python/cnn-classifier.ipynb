{
 "cells": [
  {
   "cell_type": "code",
   "execution_count": 1,
   "metadata": {
    "scrolled": false
   },
   "outputs": [
    {
     "name": "stderr",
     "output_type": "stream",
     "text": [
      "Using TensorFlow backend.\n"
     ]
    }
   ],
   "source": [
    "from keras.models import Model\n",
    "import keras.models\n",
    "import keras.layers as layers\n",
    "from keras.optimizers import Adam\n",
    "from keras.callbacks import EarlyStopping\n",
    "from keras.utils import np_utils\n",
    "from sklearn.metrics import confusion_matrix, f1_score, accuracy_score\n",
    "from keras import backend as K\n",
    "from keras_contrib.layers.normalization import InstanceNormalization\n",
    "\n",
    "import argparse\n",
    "import capsulenet as cnet\n",
    "import cnn_analyzer as cnna\n",
    "import cnn_builder as cbuild\n",
    "import config\n",
    "import csv\n",
    "import niftiutils.helper_fxns as hf\n",
    "import importlib\n",
    "import matplotlib.pyplot as plt\n",
    "import numpy as np\n",
    "import operator\n",
    "import os\n",
    "import pandas as pd\n",
    "import random\n",
    "%matplotlib inline"
   ]
  },
  {
   "cell_type": "code",
   "execution_count": 13,
   "metadata": {
    "collapsed": true,
    "scrolled": true
   },
   "outputs": [],
   "source": [
    "importlib.reload(cnet)\n",
    "importlib.reload(config)\n",
    "importlib.reload(hf)\n",
    "importlib.reload(cbuild)\n",
    "C = config.Config()\n",
    "T = config.Hyperparams()\n",
    "T.get_best_hyperparams()"
   ]
  },
  {
   "cell_type": "code",
   "execution_count": 14,
   "metadata": {
    "collapsed": true
   },
   "outputs": [],
   "source": [
    "train_generator, (x_test, y_test), _ = cbuild.load_data_capsnet()\n",
    "(x_train, y_train), _ = next(train_generator)"
   ]
  },
  {
   "cell_type": "code",
   "execution_count": 15,
   "metadata": {},
   "outputs": [],
   "source": [
    "parser = argparse.ArgumentParser()\n",
    "parser.add_argument('strings', metavar='STRING', nargs='*', help='String for searching')\n",
    "parser.add_argument('--epochs', default=25, type=int)\n",
    "parser.add_argument('--batch_size', default=2, type=int)\n",
    "parser.add_argument('--lr', default=0.001, type=float,\n",
    "                    help=\"Initial learning rate\")\n",
    "parser.add_argument('--lr_decay', default=0.9, type=float,\n",
    "                    help=\"The value multiplied by lr at each epoch. Set a larger value for larger epochs\")\n",
    "parser.add_argument('--lam_recon', default=0.392, type=float,\n",
    "                    help=\"The coefficient for the loss of decoder\")\n",
    "parser.add_argument('-r', '--routings', default=3, type=int,\n",
    "                    help=\"Number of iterations used in routing algorithm. should > 0\")\n",
    "#parser.add_argument('--shift_fraction', default=0.1, type=float,\n",
    "#                    help=\"Fraction of pixels to shift at most in each direction.\")\n",
    "parser.add_argument('--debug', action='store_true',\n",
    "                    help=\"Save weights by TensorBoard\")\n",
    "parser.add_argument('--save_dir', default='./result')\n",
    "parser.add_argument('-t', '--testing', action='store_true',\n",
    "                    help=\"Test the trained model on testing dataset\")\n",
    "parser.add_argument('--digit', default=5, type=int,\n",
    "                    help=\"Digit to manipulate\")\n",
    "parser.add_argument('-w', '--weights', default=None,\n",
    "                    help=\"The path of the saved weights. Should be specified when testing\")\n",
    "args = parser.parse_args('--epochs 25')# --lr 0.002 --lr_decay 0.87')"
   ]
  },
  {
   "cell_type": "code",
   "execution_count": 16,
   "metadata": {
    "scrolled": true
   },
   "outputs": [
    {
     "name": "stdout",
     "output_type": "stream",
     "text": [
      "__________________________________________________________________________________________________\n",
      "Layer (type)                    Output Shape         Param #     Connected to                     \n",
      "==================================================================================================\n",
      "input_4 (InputLayer)            (None, 24, 24, 12, 3 0                                            \n",
      "__________________________________________________________________________________________________\n",
      "conv1 (Conv3D)                  (None, 17, 17, 5, 25 393472      input_4[0][0]                    \n",
      "__________________________________________________________________________________________________\n",
      "batch_normalization_1 (BatchNor (None, 17, 17, 5, 25 1024        conv1[0][0]                      \n",
      "__________________________________________________________________________________________________\n",
      "activation_1 (Activation)       (None, 17, 17, 5, 25 0           batch_normalization_1[0][0]      \n",
      "__________________________________________________________________________________________________\n",
      "primarycap_conv3d (Conv3D)      (None, 7, 7, 1, 128) 4096128     activation_1[0][0]               \n",
      "__________________________________________________________________________________________________\n",
      "primarycap_reshape (Reshape)    (None, 784, 8)       0           primarycap_conv3d[0][0]          \n",
      "__________________________________________________________________________________________________\n",
      "primarycap_squash (Lambda)      (None, 784, 8)       0           primarycap_reshape[0][0]         \n",
      "__________________________________________________________________________________________________\n",
      "digitcaps (CapsuleLayer)        (None, 6, 8)         301056      primarycap_squash[0][0]          \n",
      "__________________________________________________________________________________________________\n",
      "input_5 (InputLayer)            (None, 6)            0                                            \n",
      "__________________________________________________________________________________________________\n",
      "mask_4 (Mask)                   (None, 48)           0           digitcaps[0][0]                  \n",
      "                                                                 input_5[0][0]                    \n",
      "__________________________________________________________________________________________________\n",
      "capsnet (Length)                (None, 6)            0           digitcaps[0][0]                  \n",
      "__________________________________________________________________________________________________\n",
      "decoder (Sequential)            (None, 24, 24, 12, 3 5341696     mask_4[0][0]                     \n",
      "==================================================================================================\n",
      "Total params: 10,133,376\n",
      "Trainable params: 10,132,864\n",
      "Non-trainable params: 512\n",
      "__________________________________________________________________________________________________\n"
     ]
    }
   ],
   "source": [
    "importlib.reload(cnet)\n",
    "\n",
    "model, eval_model, manipulate_model = cnet.CapsNet(input_shape=x_train.shape[1:],\n",
    "                                              n_class=len(np.unique(np.argmax(y_train, 1))),\n",
    "                                              routings=args.routings)\n",
    "model.summary()"
   ]
  },
  {
   "cell_type": "code",
   "execution_count": 17,
   "metadata": {},
   "outputs": [
    {
     "name": "stdout",
     "output_type": "stream",
     "text": [
      "Epoch 1/50\n",
      " 999/1000 [============================>.] - ETA: 0s - loss: 1.7538 - capsnet_loss: 1.6852 - decoder_loss: 0.1750 - capsnet_acc: 0.1607\n",
      "Epoch 00001: val_capsnet_acc improved from -inf to 0.20000, saving model to ./result/weights-01.h5\n",
      "1000/1000 [==============================] - 156s 156ms/step - loss: 1.7537 - capsnet_loss: 1.6852 - decoder_loss: 0.1749 - capsnet_acc: 0.1610 - val_loss: 1.7218 - val_capsnet_loss: 1.6575 - val_decoder_loss: 0.1640 - val_capsnet_acc: 0.2000\n",
      "Epoch 2/50\n",
      " 999/1000 [============================>.] - ETA: 0s - loss: 1.6616 - capsnet_loss: 1.6039 - decoder_loss: 0.1473 - capsnet_acc: 0.2207\n",
      "Epoch 00002: val_capsnet_acc improved from 0.20000 to 0.28333, saving model to ./result/weights-02.h5\n",
      "1000/1000 [==============================] - 90s 90ms/step - loss: 1.6617 - capsnet_loss: 1.6039 - decoder_loss: 0.1473 - capsnet_acc: 0.2207 - val_loss: 1.6793 - val_capsnet_loss: 1.6143 - val_decoder_loss: 0.1657 - val_capsnet_acc: 0.2833\n",
      "Epoch 3/50\n",
      " 999/1000 [============================>.] - ETA: 0s - loss: 1.7163 - capsnet_loss: 1.6573 - decoder_loss: 0.1507 - capsnet_acc: 0.2356\n",
      "Epoch 00003: val_capsnet_acc did not improve\n",
      "1000/1000 [==============================] - 83s 83ms/step - loss: 1.7160 - capsnet_loss: 1.6570 - decoder_loss: 0.1507 - capsnet_acc: 0.2355 - val_loss: 1.5588 - val_capsnet_loss: 1.4943 - val_decoder_loss: 0.1644 - val_capsnet_acc: 0.1667\n",
      "Epoch 4/50\n",
      " 999/1000 [============================>.] - ETA: 0s - loss: 1.5274 - capsnet_loss: 1.4672 - decoder_loss: 0.1536 - capsnet_acc: 0.2928\n",
      "Epoch 00004: val_capsnet_acc improved from 0.28333 to 0.35000, saving model to ./result/weights-04.h5\n",
      "1000/1000 [==============================] - 82s 82ms/step - loss: 1.5272 - capsnet_loss: 1.4670 - decoder_loss: 0.1536 - capsnet_acc: 0.2928 - val_loss: 1.4307 - val_capsnet_loss: 1.3661 - val_decoder_loss: 0.1649 - val_capsnet_acc: 0.3500\n",
      "Epoch 5/50\n",
      " 999/1000 [============================>.] - ETA: 0s - loss: 1.3560 - capsnet_loss: 1.2926 - decoder_loss: 0.1617 - capsnet_acc: 0.4144\n",
      "Epoch 00005: val_capsnet_acc improved from 0.35000 to 0.55000, saving model to ./result/weights-05.h5\n",
      "1000/1000 [==============================] - 83s 83ms/step - loss: 1.3559 - capsnet_loss: 1.2925 - decoder_loss: 0.1617 - capsnet_acc: 0.4145 - val_loss: 1.3775 - val_capsnet_loss: 1.3132 - val_decoder_loss: 0.1641 - val_capsnet_acc: 0.5500\n",
      "Epoch 6/50\n",
      " 999/1000 [============================>.] - ETA: 0s - loss: 1.2262 - capsnet_loss: 1.1651 - decoder_loss: 0.1558 - capsnet_acc: 0.5325\n",
      "Epoch 00006: val_capsnet_acc improved from 0.55000 to 0.56667, saving model to ./result/weights-06.h5\n",
      "1000/1000 [==============================] - 83s 83ms/step - loss: 1.2260 - capsnet_loss: 1.1650 - decoder_loss: 0.1558 - capsnet_acc: 0.5325 - val_loss: 1.1584 - val_capsnet_loss: 1.0936 - val_decoder_loss: 0.1652 - val_capsnet_acc: 0.5667\n",
      "Epoch 7/50\n",
      " 999/1000 [============================>.] - ETA: 0s - loss: 1.0303 - capsnet_loss: 0.9703 - decoder_loss: 0.1530 - capsnet_acc: 0.6400\n",
      "Epoch 00007: val_capsnet_acc improved from 0.56667 to 0.63333, saving model to ./result/weights-07.h5\n",
      "1000/1000 [==============================] - 83s 83ms/step - loss: 1.0300 - capsnet_loss: 0.9701 - decoder_loss: 0.1530 - capsnet_acc: 0.6402 - val_loss: 0.9126 - val_capsnet_loss: 0.8484 - val_decoder_loss: 0.1638 - val_capsnet_acc: 0.6333\n",
      "Epoch 8/50\n",
      " 999/1000 [============================>.] - ETA: 0s - loss: 0.9491 - capsnet_loss: 0.8893 - decoder_loss: 0.1528 - capsnet_acc: 0.6823\n",
      "Epoch 00008: val_capsnet_acc did not improve\n",
      "1000/1000 [==============================] - 83s 83ms/step - loss: 0.9488 - capsnet_loss: 0.8890 - decoder_loss: 0.1527 - capsnet_acc: 0.6825 - val_loss: 0.9517 - val_capsnet_loss: 0.8870 - val_decoder_loss: 0.1651 - val_capsnet_acc: 0.5667\n",
      "Epoch 9/50\n",
      " 999/1000 [============================>.] - ETA: 0s - loss: 0.8594 - capsnet_loss: 0.7980 - decoder_loss: 0.1565 - capsnet_acc: 0.7159\n",
      "Epoch 00009: val_capsnet_acc improved from 0.63333 to 0.68333, saving model to ./result/weights-09.h5\n",
      "1000/1000 [==============================] - 82s 82ms/step - loss: 0.8592 - capsnet_loss: 0.7978 - decoder_loss: 0.1566 - capsnet_acc: 0.7158 - val_loss: 0.9118 - val_capsnet_loss: 0.8474 - val_decoder_loss: 0.1644 - val_capsnet_acc: 0.6833\n",
      "Epoch 10/50\n",
      " 999/1000 [============================>.] - ETA: 0s - loss: 0.8379 - capsnet_loss: 0.7775 - decoder_loss: 0.1539 - capsnet_acc: 0.7284\n",
      "Epoch 00010: val_capsnet_acc did not improve\n",
      "1000/1000 [==============================] - 82s 82ms/step - loss: 0.8384 - capsnet_loss: 0.7781 - decoder_loss: 0.1539 - capsnet_acc: 0.7280 - val_loss: 1.1071 - val_capsnet_loss: 1.0424 - val_decoder_loss: 0.1651 - val_capsnet_acc: 0.6667\n",
      "Epoch 11/50\n",
      " 999/1000 [============================>.] - ETA: 0s - loss: 0.7854 - capsnet_loss: 0.7248 - decoder_loss: 0.1546 - capsnet_acc: 0.7497\n",
      "Epoch 00011: val_capsnet_acc improved from 0.68333 to 0.75000, saving model to ./result/weights-11.h5\n",
      "1000/1000 [==============================] - 82s 82ms/step - loss: 0.7856 - capsnet_loss: 0.7250 - decoder_loss: 0.1546 - capsnet_acc: 0.7497 - val_loss: 0.7871 - val_capsnet_loss: 0.7229 - val_decoder_loss: 0.1637 - val_capsnet_acc: 0.7500\n",
      "Epoch 12/50\n",
      " 999/1000 [============================>.] - ETA: 0s - loss: 0.7061 - capsnet_loss: 0.6458 - decoder_loss: 0.1538 - capsnet_acc: 0.7733\n",
      "Epoch 00012: val_capsnet_acc improved from 0.75000 to 0.76667, saving model to ./result/weights-12.h5\n",
      "1000/1000 [==============================] - 82s 82ms/step - loss: 0.7060 - capsnet_loss: 0.6457 - decoder_loss: 0.1538 - capsnet_acc: 0.7735 - val_loss: 0.7645 - val_capsnet_loss: 0.7002 - val_decoder_loss: 0.1642 - val_capsnet_acc: 0.7667\n",
      "Epoch 13/50\n",
      " 999/1000 [============================>.] - ETA: 0s - loss: 0.6703 - capsnet_loss: 0.6122 - decoder_loss: 0.1482 - capsnet_acc: 0.7861\n",
      "Epoch 00013: val_capsnet_acc improved from 0.76667 to 0.78333, saving model to ./result/weights-13.h5\n",
      "1000/1000 [==============================] - 82s 82ms/step - loss: 0.6701 - capsnet_loss: 0.6120 - decoder_loss: 0.1482 - capsnet_acc: 0.7863 - val_loss: 0.7115 - val_capsnet_loss: 0.6471 - val_decoder_loss: 0.1643 - val_capsnet_acc: 0.7833\n",
      "Epoch 14/50\n",
      " 999/1000 [============================>.] - ETA: 0s - loss: 0.6692 - capsnet_loss: 0.6113 - decoder_loss: 0.1478 - capsnet_acc: 0.7945\n",
      "Epoch 00014: val_capsnet_acc did not improve\n",
      "1000/1000 [==============================] - 83s 83ms/step - loss: 0.6690 - capsnet_loss: 0.6111 - decoder_loss: 0.1478 - capsnet_acc: 0.7947 - val_loss: 0.8832 - val_capsnet_loss: 0.8189 - val_decoder_loss: 0.1642 - val_capsnet_acc: 0.7000\n",
      "Epoch 15/50\n",
      " 999/1000 [============================>.] - ETA: 0s - loss: 0.6245 - capsnet_loss: 0.5635 - decoder_loss: 0.1557 - capsnet_acc: 0.8073\n",
      "Epoch 00015: val_capsnet_acc improved from 0.78333 to 0.81667, saving model to ./result/weights-15.h5\n",
      "1000/1000 [==============================] - 82s 82ms/step - loss: 0.6246 - capsnet_loss: 0.5636 - decoder_loss: 0.1557 - capsnet_acc: 0.8072 - val_loss: 0.6316 - val_capsnet_loss: 0.5671 - val_decoder_loss: 0.1644 - val_capsnet_acc: 0.8167\n",
      "Epoch 16/50\n",
      " 999/1000 [============================>.] - ETA: 0s - loss: 0.5935 - capsnet_loss: 0.5333 - decoder_loss: 0.1535 - capsnet_acc: 0.8205\n",
      "Epoch 00016: val_capsnet_acc did not improve\n",
      "1000/1000 [==============================] - 83s 83ms/step - loss: 0.5937 - capsnet_loss: 0.5335 - decoder_loss: 0.1535 - capsnet_acc: 0.8205 - val_loss: 0.6806 - val_capsnet_loss: 0.6163 - val_decoder_loss: 0.1640 - val_capsnet_acc: 0.7833\n",
      "Epoch 17/50\n",
      " 999/1000 [============================>.] - ETA: 0s - loss: 0.5661 - capsnet_loss: 0.5062 - decoder_loss: 0.1529 - capsnet_acc: 0.8273\n",
      "Epoch 00017: val_capsnet_acc did not improve\n",
      "1000/1000 [==============================] - 82s 82ms/step - loss: 0.5670 - capsnet_loss: 0.5071 - decoder_loss: 0.1529 - capsnet_acc: 0.8272 - val_loss: 0.9462 - val_capsnet_loss: 0.8815 - val_decoder_loss: 0.1648 - val_capsnet_acc: 0.7667\n",
      "Epoch 18/50\n",
      " 999/1000 [============================>.] - ETA: 0s - loss: 0.5938 - capsnet_loss: 0.5334 - decoder_loss: 0.1540 - capsnet_acc: 0.8160\n",
      "Epoch 00018: val_capsnet_acc did not improve\n",
      "1000/1000 [==============================] - 83s 83ms/step - loss: 0.5936 - capsnet_loss: 0.5333 - decoder_loss: 0.1539 - capsnet_acc: 0.8162 - val_loss: 0.8292 - val_capsnet_loss: 0.7650 - val_decoder_loss: 0.1640 - val_capsnet_acc: 0.7500\n"
     ]
    },
    {
     "name": "stdout",
     "output_type": "stream",
     "text": [
      "Epoch 19/50\n",
      " 999/1000 [============================>.] - ETA: 0s - loss: 0.5500 - capsnet_loss: 0.4906 - decoder_loss: 0.1514 - capsnet_acc: 0.8340\n",
      "Epoch 00019: val_capsnet_acc did not improve\n",
      "1000/1000 [==============================] - 83s 83ms/step - loss: 0.5499 - capsnet_loss: 0.4906 - decoder_loss: 0.1514 - capsnet_acc: 0.8340 - val_loss: 0.7775 - val_capsnet_loss: 0.7131 - val_decoder_loss: 0.1641 - val_capsnet_acc: 0.7333\n",
      "Epoch 20/50\n",
      " 999/1000 [============================>.] - ETA: 0s - loss: 0.5096 - capsnet_loss: 0.4496 - decoder_loss: 0.1531 - capsnet_acc: 0.8510\n",
      "Epoch 00020: val_capsnet_acc did not improve\n",
      "1000/1000 [==============================] - 83s 83ms/step - loss: 0.5094 - capsnet_loss: 0.4494 - decoder_loss: 0.1531 - capsnet_acc: 0.8512 - val_loss: 0.6543 - val_capsnet_loss: 0.5900 - val_decoder_loss: 0.1641 - val_capsnet_acc: 0.7667\n",
      "Epoch 21/50\n",
      " 999/1000 [============================>.] - ETA: 0s - loss: 0.4994 - capsnet_loss: 0.4410 - decoder_loss: 0.1488 - capsnet_acc: 0.8545\n",
      "Epoch 00021: val_capsnet_acc did not improve\n",
      "1000/1000 [==============================] - 83s 83ms/step - loss: 0.4998 - capsnet_loss: 0.4412 - decoder_loss: 0.1494 - capsnet_acc: 0.8543 - val_loss: 0.7879 - val_capsnet_loss: 0.7236 - val_decoder_loss: 0.1639 - val_capsnet_acc: 0.7000\n",
      "Epoch 22/50\n",
      " 999/1000 [============================>.] - ETA: 0s - loss: 0.5021 - capsnet_loss: 0.4397 - decoder_loss: 0.1592 - capsnet_acc: 0.8522\n",
      "Epoch 00022: val_capsnet_acc did not improve\n",
      "1000/1000 [==============================] - 83s 83ms/step - loss: 0.5018 - capsnet_loss: 0.4394 - decoder_loss: 0.1592 - capsnet_acc: 0.8523 - val_loss: 0.7365 - val_capsnet_loss: 0.6722 - val_decoder_loss: 0.1639 - val_capsnet_acc: 0.7333\n",
      "Epoch 23/50\n",
      " 999/1000 [============================>.] - ETA: 0s - loss: 0.4753 - capsnet_loss: 0.4169 - decoder_loss: 0.1490 - capsnet_acc: 0.8645\n",
      "Epoch 00023: val_capsnet_acc did not improve\n",
      "1000/1000 [==============================] - 83s 83ms/step - loss: 0.4759 - capsnet_loss: 0.4175 - decoder_loss: 0.1490 - capsnet_acc: 0.8643 - val_loss: 0.6550 - val_capsnet_loss: 0.5907 - val_decoder_loss: 0.1639 - val_capsnet_acc: 0.8000\n",
      "Epoch 24/50\n",
      " 999/1000 [============================>.] - ETA: 0s - loss: 0.4674 - capsnet_loss: 0.4083 - decoder_loss: 0.1510 - capsnet_acc: 0.8672\n",
      "Epoch 00024: val_capsnet_acc did not improve\n",
      "1000/1000 [==============================] - 83s 83ms/step - loss: 0.4672 - capsnet_loss: 0.4080 - decoder_loss: 0.1510 - capsnet_acc: 0.8673 - val_loss: 0.7985 - val_capsnet_loss: 0.7341 - val_decoder_loss: 0.1641 - val_capsnet_acc: 0.7500\n",
      "Epoch 25/50\n",
      " 999/1000 [============================>.] - ETA: 0s - loss: 0.4598 - capsnet_loss: 0.4012 - decoder_loss: 0.1494 - capsnet_acc: 0.8670\n",
      "Epoch 00025: val_capsnet_acc did not improve\n",
      "1000/1000 [==============================] - 83s 83ms/step - loss: 0.4598 - capsnet_loss: 0.4013 - decoder_loss: 0.1493 - capsnet_acc: 0.8670 - val_loss: 0.7076 - val_capsnet_loss: 0.6434 - val_decoder_loss: 0.1639 - val_capsnet_acc: 0.7167\n",
      "Epoch 26/50\n",
      " 999/1000 [============================>.] - ETA: 0s - loss: 0.4447 - capsnet_loss: 0.3853 - decoder_loss: 0.1516 - capsnet_acc: 0.8734\n",
      "Epoch 00026: val_capsnet_acc did not improve\n",
      "1000/1000 [==============================] - 83s 83ms/step - loss: 0.4446 - capsnet_loss: 0.3852 - decoder_loss: 0.1516 - capsnet_acc: 0.8735 - val_loss: 0.7384 - val_capsnet_loss: 0.6740 - val_decoder_loss: 0.1642 - val_capsnet_acc: 0.7667\n",
      "Epoch 27/50\n",
      " 999/1000 [============================>.] - ETA: 0s - loss: 0.4403 - capsnet_loss: 0.3816 - decoder_loss: 0.1498 - capsnet_acc: 0.8739\n",
      "Epoch 00027: val_capsnet_acc did not improve\n",
      "1000/1000 [==============================] - 82s 82ms/step - loss: 0.4402 - capsnet_loss: 0.3814 - decoder_loss: 0.1498 - capsnet_acc: 0.8740 - val_loss: 0.6793 - val_capsnet_loss: 0.6149 - val_decoder_loss: 0.1642 - val_capsnet_acc: 0.7833\n",
      "Epoch 28/50\n",
      " 999/1000 [============================>.] - ETA: 0s - loss: 0.4266 - capsnet_loss: 0.3665 - decoder_loss: 0.1532 - capsnet_acc: 0.8820\n",
      "Epoch 00028: val_capsnet_acc did not improve\n",
      "1000/1000 [==============================] - 83s 83ms/step - loss: 0.4266 - capsnet_loss: 0.3664 - decoder_loss: 0.1536 - capsnet_acc: 0.8822 - val_loss: 0.6861 - val_capsnet_loss: 0.6218 - val_decoder_loss: 0.1640 - val_capsnet_acc: 0.7667\n",
      "Epoch 29/50\n",
      " 999/1000 [============================>.] - ETA: 0s - loss: 0.4162 - capsnet_loss: 0.3577 - decoder_loss: 0.1491 - capsnet_acc: 0.8899\n",
      "Epoch 00029: val_capsnet_acc did not improve\n",
      "1000/1000 [==============================] - 83s 83ms/step - loss: 0.4160 - capsnet_loss: 0.3576 - decoder_loss: 0.1492 - capsnet_acc: 0.8900 - val_loss: 0.7248 - val_capsnet_loss: 0.6604 - val_decoder_loss: 0.1641 - val_capsnet_acc: 0.7667\n",
      "Epoch 30/50\n",
      " 999/1000 [============================>.] - ETA: 0s - loss: 0.4096 - capsnet_loss: 0.3500 - decoder_loss: 0.1522 - capsnet_acc: 0.8882\n",
      "Epoch 00030: val_capsnet_acc did not improve\n",
      "1000/1000 [==============================] - 83s 83ms/step - loss: 0.4095 - capsnet_loss: 0.3498 - decoder_loss: 0.1522 - capsnet_acc: 0.8883 - val_loss: 0.7161 - val_capsnet_loss: 0.6519 - val_decoder_loss: 0.1638 - val_capsnet_acc: 0.7333\n",
      "Epoch 31/50\n",
      " 999/1000 [============================>.] - ETA: 0s - loss: 0.4032 - capsnet_loss: 0.3453 - decoder_loss: 0.1477 - capsnet_acc: 0.8931\n",
      "Epoch 00031: val_capsnet_acc did not improve\n",
      "1000/1000 [==============================] - 82s 82ms/step - loss: 0.4034 - capsnet_loss: 0.3455 - decoder_loss: 0.1477 - capsnet_acc: 0.8930 - val_loss: 0.7507 - val_capsnet_loss: 0.6864 - val_decoder_loss: 0.1640 - val_capsnet_acc: 0.7500\n",
      "Epoch 32/50\n",
      " 999/1000 [============================>.] - ETA: 0s - loss: 0.4008 - capsnet_loss: 0.3408 - decoder_loss: 0.1530 - capsnet_acc: 0.8941\n",
      "Epoch 00032: val_capsnet_acc did not improve\n",
      "1000/1000 [==============================] - 82s 82ms/step - loss: 0.4007 - capsnet_loss: 0.3407 - decoder_loss: 0.1530 - capsnet_acc: 0.8942 - val_loss: 0.7059 - val_capsnet_loss: 0.6416 - val_decoder_loss: 0.1639 - val_capsnet_acc: 0.7667\n",
      "Epoch 33/50\n",
      " 999/1000 [============================>.] - ETA: 0s - loss: 0.4075 - capsnet_loss: 0.3464 - decoder_loss: 0.1560 - capsnet_acc: 0.8862\n",
      "Epoch 00033: val_capsnet_acc did not improve\n",
      "1000/1000 [==============================] - 82s 82ms/step - loss: 0.4077 - capsnet_loss: 0.3462 - decoder_loss: 0.1569 - capsnet_acc: 0.8863 - val_loss: 0.7723 - val_capsnet_loss: 0.7080 - val_decoder_loss: 0.1641 - val_capsnet_acc: 0.7500\n",
      "Epoch 34/50\n",
      " 999/1000 [============================>.] - ETA: 0s - loss: 0.3960 - capsnet_loss: 0.3369 - decoder_loss: 0.1507 - capsnet_acc: 0.8941\n",
      "Epoch 00034: val_capsnet_acc did not improve\n",
      "1000/1000 [==============================] - 82s 82ms/step - loss: 0.3960 - capsnet_loss: 0.3369 - decoder_loss: 0.1508 - capsnet_acc: 0.8938 - val_loss: 0.6649 - val_capsnet_loss: 0.6005 - val_decoder_loss: 0.1641 - val_capsnet_acc: 0.7667\n",
      "Epoch 35/50\n",
      " 999/1000 [============================>.] - ETA: 0s - loss: 0.3898 - capsnet_loss: 0.3293 - decoder_loss: 0.1545 - capsnet_acc: 0.8949\n",
      "Epoch 00035: val_capsnet_acc did not improve\n",
      "1000/1000 [==============================] - 83s 83ms/step - loss: 0.3897 - capsnet_loss: 0.3292 - decoder_loss: 0.1544 - capsnet_acc: 0.8948 - val_loss: 0.7347 - val_capsnet_loss: 0.6704 - val_decoder_loss: 0.1640 - val_capsnet_acc: 0.7667\n",
      "Epoch 36/50\n",
      " 999/1000 [============================>.] - ETA: 0s - loss: 0.3842 - capsnet_loss: 0.3235 - decoder_loss: 0.1548 - capsnet_acc: 0.9004\n",
      "Epoch 00036: val_capsnet_acc did not improve\n",
      "1000/1000 [==============================] - 82s 82ms/step - loss: 0.3840 - capsnet_loss: 0.3233 - decoder_loss: 0.1548 - capsnet_acc: 0.9005 - val_loss: 0.7193 - val_capsnet_loss: 0.6549 - val_decoder_loss: 0.1641 - val_capsnet_acc: 0.8000\n",
      "Epoch 37/50\n",
      " 999/1000 [============================>.] - ETA: 0s - loss: 0.3818 - capsnet_loss: 0.3249 - decoder_loss: 0.1450 - capsnet_acc: 0.8941\n",
      "Epoch 00037: val_capsnet_acc did not improve\n",
      "1000/1000 [==============================] - 82s 82ms/step - loss: 0.3822 - capsnet_loss: 0.3253 - decoder_loss: 0.1451 - capsnet_acc: 0.8940 - val_loss: 0.7021 - val_capsnet_loss: 0.6377 - val_decoder_loss: 0.1642 - val_capsnet_acc: 0.7833\n"
     ]
    },
    {
     "name": "stdout",
     "output_type": "stream",
     "text": [
      "Epoch 38/50\n",
      " 999/1000 [============================>.] - ETA: 0s - loss: 0.3932 - capsnet_loss: 0.3339 - decoder_loss: 0.1513 - capsnet_acc: 0.8906\n",
      "Epoch 00038: val_capsnet_acc did not improve\n",
      "1000/1000 [==============================] - 83s 83ms/step - loss: 0.3930 - capsnet_loss: 0.3337 - decoder_loss: 0.1514 - capsnet_acc: 0.8907 - val_loss: 0.6813 - val_capsnet_loss: 0.6170 - val_decoder_loss: 0.1641 - val_capsnet_acc: 0.7667\n",
      "Epoch 39/50\n",
      " 999/1000 [============================>.] - ETA: 0s - loss: 0.3651 - capsnet_loss: 0.3057 - decoder_loss: 0.1515 - capsnet_acc: 0.9051\n",
      "Epoch 00039: val_capsnet_acc did not improve\n",
      "1000/1000 [==============================] - 82s 82ms/step - loss: 0.3649 - capsnet_loss: 0.3056 - decoder_loss: 0.1515 - capsnet_acc: 0.9052 - val_loss: 0.6832 - val_capsnet_loss: 0.6189 - val_decoder_loss: 0.1640 - val_capsnet_acc: 0.7667\n",
      "Epoch 40/50\n",
      " 999/1000 [============================>.] - ETA: 0s - loss: 0.3756 - capsnet_loss: 0.3156 - decoder_loss: 0.1532 - capsnet_acc: 0.8991\n",
      "Epoch 00040: val_capsnet_acc did not improve\n",
      "1000/1000 [==============================] - 83s 83ms/step - loss: 0.3755 - capsnet_loss: 0.3154 - decoder_loss: 0.1532 - capsnet_acc: 0.8992 - val_loss: 0.7125 - val_capsnet_loss: 0.6482 - val_decoder_loss: 0.1641 - val_capsnet_acc: 0.7667\n",
      "Epoch 41/50\n",
      " 999/1000 [============================>.] - ETA: 0s - loss: 0.3682 - capsnet_loss: 0.3081 - decoder_loss: 0.1536 - capsnet_acc: 0.9026\n",
      "Epoch 00041: val_capsnet_acc did not improve\n",
      "1000/1000 [==============================] - 83s 83ms/step - loss: 0.3681 - capsnet_loss: 0.3080 - decoder_loss: 0.1535 - capsnet_acc: 0.9027 - val_loss: 0.7371 - val_capsnet_loss: 0.6727 - val_decoder_loss: 0.1642 - val_capsnet_acc: 0.7500\n",
      "Epoch 42/50\n",
      " 999/1000 [============================>.] - ETA: 0s - loss: 0.3706 - capsnet_loss: 0.3104 - decoder_loss: 0.1538 - capsnet_acc: 0.8984\n",
      "Epoch 00042: val_capsnet_acc did not improve\n",
      "1000/1000 [==============================] - 83s 83ms/step - loss: 0.3706 - capsnet_loss: 0.3103 - decoder_loss: 0.1538 - capsnet_acc: 0.8985 - val_loss: 0.7127 - val_capsnet_loss: 0.6484 - val_decoder_loss: 0.1642 - val_capsnet_acc: 0.7667\n",
      "Epoch 43/50\n",
      " 999/1000 [============================>.] - ETA: 0s - loss: 0.3685 - capsnet_loss: 0.3092 - decoder_loss: 0.1512 - capsnet_acc: 0.9021\n",
      "Epoch 00043: val_capsnet_acc did not improve\n",
      "1000/1000 [==============================] - 83s 83ms/step - loss: 0.3683 - capsnet_loss: 0.3091 - decoder_loss: 0.1512 - capsnet_acc: 0.9022 - val_loss: 0.6996 - val_capsnet_loss: 0.6353 - val_decoder_loss: 0.1641 - val_capsnet_acc: 0.7500\n",
      "Epoch 44/50\n",
      " 999/1000 [============================>.] - ETA: 0s - loss: 0.3724 - capsnet_loss: 0.3117 - decoder_loss: 0.1550 - capsnet_acc: 0.8994\n",
      "Epoch 00044: val_capsnet_acc did not improve\n",
      "1000/1000 [==============================] - 83s 83ms/step - loss: 0.3723 - capsnet_loss: 0.3115 - decoder_loss: 0.1550 - capsnet_acc: 0.8995 - val_loss: 0.6991 - val_capsnet_loss: 0.6348 - val_decoder_loss: 0.1640 - val_capsnet_acc: 0.7500\n",
      "Epoch 45/50\n",
      " 999/1000 [============================>.] - ETA: 0s - loss: 0.3696 - capsnet_loss: 0.3107 - decoder_loss: 0.1504 - capsnet_acc: 0.9049\n",
      "Epoch 00045: val_capsnet_acc did not improve\n",
      "1000/1000 [==============================] - 83s 83ms/step - loss: 0.3695 - capsnet_loss: 0.3106 - decoder_loss: 0.1504 - capsnet_acc: 0.9050 - val_loss: 0.6997 - val_capsnet_loss: 0.6354 - val_decoder_loss: 0.1641 - val_capsnet_acc: 0.7667\n",
      "Epoch 46/50\n",
      " 999/1000 [============================>.] - ETA: 0s - loss: 0.3592 - capsnet_loss: 0.2994 - decoder_loss: 0.1523 - capsnet_acc: 0.9044\n",
      "Epoch 00046: val_capsnet_acc did not improve\n",
      "1000/1000 [==============================] - 82s 82ms/step - loss: 0.3590 - capsnet_loss: 0.2993 - decoder_loss: 0.1523 - capsnet_acc: 0.9045 - val_loss: 0.7169 - val_capsnet_loss: 0.6526 - val_decoder_loss: 0.1641 - val_capsnet_acc: 0.7500\n",
      "Epoch 47/50\n",
      " 999/1000 [============================>.] - ETA: 0s - loss: 0.3579 - capsnet_loss: 0.2985 - decoder_loss: 0.1516 - capsnet_acc: 0.9099\n",
      "Epoch 00047: val_capsnet_acc did not improve\n",
      "1000/1000 [==============================] - 83s 83ms/step - loss: 0.3578 - capsnet_loss: 0.2984 - decoder_loss: 0.1516 - capsnet_acc: 0.9100 - val_loss: 0.7260 - val_capsnet_loss: 0.6616 - val_decoder_loss: 0.1642 - val_capsnet_acc: 0.7667\n",
      "Epoch 48/50\n",
      " 999/1000 [============================>.] - ETA: 0s - loss: 0.3606 - capsnet_loss: 0.3003 - decoder_loss: 0.1540 - capsnet_acc: 0.9069\n",
      "Epoch 00048: val_capsnet_acc did not improve\n",
      "1000/1000 [==============================] - 82s 82ms/step - loss: 0.3606 - capsnet_loss: 0.3003 - decoder_loss: 0.1539 - capsnet_acc: 0.9067 - val_loss: 0.7463 - val_capsnet_loss: 0.6820 - val_decoder_loss: 0.1641 - val_capsnet_acc: 0.7500\n",
      "Epoch 49/50\n",
      " 999/1000 [============================>.] - ETA: 0s - loss: 0.3636 - capsnet_loss: 0.3044 - decoder_loss: 0.1510 - capsnet_acc: 0.9084\n",
      "Epoch 00049: val_capsnet_acc did not improve\n",
      "1000/1000 [==============================] - 83s 83ms/step - loss: 0.3635 - capsnet_loss: 0.3043 - decoder_loss: 0.1510 - capsnet_acc: 0.9085 - val_loss: 0.7456 - val_capsnet_loss: 0.6813 - val_decoder_loss: 0.1642 - val_capsnet_acc: 0.7667\n",
      "Epoch 50/50\n",
      " 999/1000 [============================>.] - ETA: 0s - loss: 0.3600 - capsnet_loss: 0.3005 - decoder_loss: 0.1518 - capsnet_acc: 0.9076\n",
      "Epoch 00050: val_capsnet_acc did not improve\n",
      "1000/1000 [==============================] - 82s 82ms/step - loss: 0.3599 - capsnet_loss: 0.3004 - decoder_loss: 0.1517 - capsnet_acc: 0.9077 - val_loss: 0.7131 - val_capsnet_loss: 0.6488 - val_decoder_loss: 0.1641 - val_capsnet_acc: 0.7833\n",
      "Trained model saved to './result/trained_model.h5'\n"
     ]
    },
    {
     "data": {
      "image/png": "[encoded data removed]",
      "text/plain": [
       "<matplotlib.figure.Figure at 0x2420fe4f940>"
      ]
     },
     "metadata": {},
     "output_type": "display_data"
    },
    {
     "data": {
      "text/plain": [
       "<keras.engine.training.Model at 0x242234cd7b8>"
      ]
     },
     "execution_count": 17,
     "metadata": {},
     "output_type": "execute_result"
    }
   ],
   "source": [
    "cnet.train(model=model, data=(train_generator, (x_test, y_test)), args=args)"
   ]
  },
  {
   "cell_type": "code",
   "execution_count": 42,
   "metadata": {
    "collapsed": true
   },
   "outputs": [],
   "source": [
    "model.save('E:\\\\trained_model2.h5')"
   ]
  },
  {
   "cell_type": "code",
   "execution_count": 43,
   "metadata": {
    "collapsed": true
   },
   "outputs": [],
   "source": [
    "train_generator, (x_test, y_test), Z_test = data"
   ]
  },
  {
   "cell_type": "code",
   "execution_count": 44,
   "metadata": {
    "collapsed": true
   },
   "outputs": [],
   "source": [
    "(x_train, y_train), _ = next(train_generator)"
   ]
  },
  {
   "cell_type": "code",
   "execution_count": 12,
   "metadata": {
    "scrolled": true
   },
   "outputs": [
    {
     "name": "stdout",
     "output_type": "stream",
     "text": [
      "_________________________________________________________________\n",
      "Layer (type)                 Output Shape              Param #   \n",
      "=================================================================\n",
      "input_51 (InputLayer)        (None, 24, 24, 12, 3)     0         \n",
      "_________________________________________________________________\n",
      "instance_normalization_3 (In (None, 24, 24, 12, 3)     6         \n",
      "_________________________________________________________________\n",
      "flatten_10 (Flatten)         (None, 20736)             0         \n",
      "_________________________________________________________________\n",
      "dense_34 (Dense)             (None, 128)               2654336   \n",
      "_________________________________________________________________\n",
      "reshape_18 (Reshape)         (None, 128, 1, 1, 1, 1)   0         \n",
      "_________________________________________________________________\n",
      "time_distributed_23 (TimeDis (None, 128, 11, 11, 6, 64 46528     \n",
      "_________________________________________________________________\n",
      "time_distributed_24 (TimeDis (None, 128, 24, 24, 12, 6 131136    \n",
      "=================================================================\n",
      "Total params: 2,832,006\n",
      "Trainable params: 2,832,006\n",
      "Non-trainable params: 0\n",
      "_________________________________________________________________\n"
     ]
    },
    {
     "name": "stderr",
     "output_type": "stream",
     "text": [
      "C:\\Users\\Clinton\\AppData\\Local\\conda\\conda\\envs\\old-keras\\lib\\site-packages\\keras\\models.py:255: UserWarning: No training configuration found in save file: the model was *not* compiled. Compile it manually.\n",
      "  warnings.warn('No training configuration found in save file: '\n"
     ]
    }
   ],
   "source": [
    "model = keras.models.load_model('E:\\\\trained_model2.h5')\n",
    "model.summary()"
   ]
  },
  {
   "cell_type": "code",
   "execution_count": 60,
   "metadata": {},
   "outputs": [
    {
     "name": "stderr",
     "output_type": "stream",
     "text": [
      "C:\\Users\\Clinton\\AppData\\Local\\conda\\conda\\envs\\old-keras\\lib\\site-packages\\keras\\models.py:255: UserWarning: No training configuration found in save file: the model was *not* compiled. Compile it manually.\n",
      "  warnings.warn('No training configuration found in save file: '\n"
     ]
    }
   ],
   "source": [
    "model = keras.models.load_model('E:\\\\trained_model2.h5')\n",
    "eval_model.load_weights('result2\\\\weights-35.h5')\n",
    "manipulate_model.load_weights('result2\\\\weights-35.h5')"
   ]
  },
  {
   "cell_type": "code",
   "execution_count": 51,
   "metadata": {
    "collapsed": true
   },
   "outputs": [],
   "source": [
    "model.load_weights('./result/weights-35.h5')"
   ]
  },
  {
   "cell_type": "code",
   "execution_count": null,
   "metadata": {
    "collapsed": true
   },
   "outputs": [],
   "source": [
    "C.classes_to_include"
   ]
  },
  {
   "cell_type": "code",
   "execution_count": 63,
   "metadata": {
    "scrolled": false
   },
   "outputs": [
    {
     "name": "stdout",
     "output_type": "stream",
     "text": [
      "------------------------------Begin: manipulate------------------------------\n",
      "manipulated result saved to ./result/manipulate-hcc.png\n",
      "------------------------------End: manipulate------------------------------\n",
      "------------------------------Begin: manipulate------------------------------\n",
      "manipulated result saved to ./result/manipulate-cholangio.png\n",
      "------------------------------End: manipulate------------------------------\n",
      "------------------------------Begin: manipulate------------------------------\n",
      "manipulated result saved to ./result/manipulate-colorectal.png\n",
      "------------------------------End: manipulate------------------------------\n",
      "------------------------------Begin: manipulate------------------------------\n",
      "manipulated result saved to ./result/manipulate-cyst.png\n",
      "------------------------------End: manipulate------------------------------\n",
      "------------------------------Begin: manipulate------------------------------\n",
      "manipulated result saved to ./result/manipulate-hemangioma.png\n",
      "------------------------------End: manipulate------------------------------\n",
      "------------------------------Begin: manipulate------------------------------\n",
      "manipulated result saved to ./result/manipulate-fnh.png\n",
      "------------------------------End: manipulate------------------------------\n"
     ]
    }
   ],
   "source": [
    "importlib.reload(cnet)\n",
    "for i in range(6):\n",
    "    cnet.manipulate_latent(manipulate_model, (x_test, y_test), args, i)"
   ]
  },
  {
   "cell_type": "code",
   "execution_count": null,
   "metadata": {
    "collapsed": true,
    "scrolled": true
   },
   "outputs": [],
   "source": [
    "importlib.reload(cnet)\n",
    "cnet.test(model=eval_model, data=(x_test, y_test), args=args)"
   ]
  },
  {
   "cell_type": "code",
   "execution_count": 18,
   "metadata": {
    "collapsed": true
   },
   "outputs": [],
   "source": []
  },
  {
   "cell_type": "code",
   "execution_count": null,
   "metadata": {
    "collapsed": true
   },
   "outputs": [],
   "source": [
    "a = layers.Input([28,28,1])\n",
    "x = layers.Conv2D(4,kernel_size=9,strides=1)(a)\n",
    "x = layers.Conv2D(4,kernel_size=9,strides=2)(x)\n",
    "b = x\n",
    "model = Model(a,b)\n",
    "model.summary(150)"
   ]
  },
  {
   "cell_type": "code",
   "execution_count": 40,
   "metadata": {
    "scrolled": true
   },
   "outputs": [
    {
     "name": "stdout",
     "output_type": "stream",
     "text": [
      "____________________________________________________________________________________________________\n",
      "Layer (type)                                 Output Shape                            Param #        \n",
      "====================================================================================================\n",
      "input_51 (InputLayer)                        (None, 24, 24, 12, 3)                   0              \n",
      "____________________________________________________________________________________________________\n",
      "instance_normalization_3 (InstanceNormalizat (None, 24, 24, 12, 3)                   6              \n",
      "____________________________________________________________________________________________________\n",
      "flatten_10 (Flatten)                         (None, 20736)                           0              \n",
      "____________________________________________________________________________________________________\n",
      "dense_34 (Dense)                             (None, 128)                             2654336        \n",
      "____________________________________________________________________________________________________\n",
      "reshape_18 (Reshape)                         (None, 128, 1, 1, 1, 1)                 0              \n",
      "____________________________________________________________________________________________________\n",
      "time_distributed_23 (TimeDistributed)        (None, 128, 11, 11, 6, 64)              46528          \n",
      "____________________________________________________________________________________________________\n",
      "time_distributed_24 (TimeDistributed)        (None, 128, 24, 24, 12, 64)             131136         \n",
      "====================================================================================================\n",
      "Total params: 2,832,006\n",
      "Trainable params: 2,832,006\n",
      "Non-trainable params: 0\n",
      "____________________________________________________________________________________________________\n"
     ]
    }
   ],
   "source": [
    "a = layers.Input(shape=[24,24,12,3])\n",
    "x = InstanceNormalization(axis=4)(a)\n",
    "x = layers.Flatten()(x)\n",
    "x = layers.Dense(128)(x)\n",
    "x = layers.Reshape(target_shape=(128,1,1,1,1))(x)\n",
    "x = layers.TimeDistributed(layers.Conv3DTranspose(filters=64, kernel_size=[11,11,6], strides=1, padding='valid', activation='relu'))(x)\n",
    "x = layers.TimeDistributed(layers.Conv3DTranspose(filters=64, kernel_size=[4,4,2], strides=2, padding='valid', activation='relu'))(x)\n",
    "#x = layers.Reshape((3, 24, 24, 12))(x)\n",
    "#x = layers.Permute((2,3,4,1))(x)\n",
    "b = x\n",
    "model = Model(a,b)\n",
    "\n",
    "model.summary(100)"
   ]
  },
  {
   "cell_type": "code",
   "execution_count": null,
   "metadata": {
    "collapsed": true
   },
   "outputs": [],
   "source": []
  },
  {
   "cell_type": "code",
   "execution_count": null,
   "metadata": {
    "collapsed": true
   },
   "outputs": [],
   "source": []
  },
  {
   "cell_type": "markdown",
   "metadata": {},
   "source": [
    "C_list = [config.Config(), config.Config()]\n",
    "C_list[0].dims = [36,36,12]\n",
    "C_list[1].dims = [24,24,12]\n",
    "C_list[0].artif_dir = \"E:\\\\imgs\\\\artif_imgs_3612\\\\\"\n",
    "C_list[1].artif_dir = \"E:\\\\imgs\\\\artif_imgs_2412\\\\\"\n",
    "C_list[0].aug_dir = \"E:\\\\imgs\\\\aug_imgs_3612_cropint\\\\\"\n",
    "C_list[1].aug_dir = \"E:\\\\imgs\\\\aug_imgs_2412_cropint\\\\\"\n",
    "C_list[0].orig_dir = \"E:\\\\imgs\\\\orig_imgs_3612_cropint\\\\\"\n",
    "C_list[1].orig_dir = \"E:\\\\imgs\\\\orig_imgs_2412_cropint\\\\\""
   ]
  },
  {
   "cell_type": "code",
   "execution_count": 68,
   "metadata": {
    "collapsed": true
   },
   "outputs": [],
   "source": [
    "Z_reader = ['E103312835_1','12823036_0','12569915_0','E102093118_0','E102782525_0','12799652_0','E100894274_0','12874178_3','E100314676_0','12842070_0','13092836_2','12239783_0','12783467_0','13092966_0','E100962970_0','E100183257_1','E102634440_0','E106182827_0','12582632_0','E100121654_0','E100407633_0','E105310461_0','12788616_0','E101225606_0','12678910_1','E101083458_1','12324408_0','13031955_0','E101415263_0','E103192914_0','12888679_2','E106096969_0','E100192709_1','13112385_1','E100718398_0','12207268_0','E105244287_0','E102095465_0','E102613189_0','12961059_0','11907521_0','E105311123_0','12552705_0','E100610622_0','12975280_0','E105918926_0','E103020139_1','E101069048_1','E105427046_0','13028374_0','E100262351_0','12302576_0','12451831_0','E102929168_0','E100383453_0','E105344747_0','12569826_0','E100168661_0','12530153_0','E104697262_0']"
   ]
  },
  {
   "cell_type": "code",
   "execution_count": 96,
   "metadata": {
    "collapsed": true
   },
   "outputs": [],
   "source": [
    "importlib.reload(cnet)\n",
    "importlib.reload(config)\n",
    "importlib.reload(hf)\n",
    "importlib.reload(cbuild)\n",
    "C = config.Config()\n",
    "T = config.Hyperparams()\n",
    "#T.steps_per_epoch = 50\n",
    "#T.epochs= 1\n",
    "#T.get_best_hyperparams()"
   ]
  },
  {
   "cell_type": "code",
   "execution_count": null,
   "metadata": {
    "collapsed": true
   },
   "outputs": [],
   "source": [
    "cbuild.run_fixed_hyperparams([C], hyperparams=T)#C_list)"
   ]
  },
  {
   "cell_type": "markdown",
   "metadata": {
    "collapsed": true
   },
   "source": [
    "orig_data_dict, num_samples = cbuild._collect_unaug_data()"
   ]
  },
  {
   "cell_type": "code",
   "execution_count": 97,
   "metadata": {
    "scrolled": true
   },
   "outputs": [
    {
     "name": "stdout",
     "output_type": "stream",
     "text": [
      "______________________________________________________________________________________________________________________________________________________\n",
      "Layer (type)                                                       Output Shape                                                Param #                \n",
      "======================================================================================================================================================\n",
      "input_94 (InputLayer)                                              (None, 24, 24, 12, 3)                                       0                      \n",
      "______________________________________________________________________________________________________________________________________________________\n",
      "reshape_36 (Reshape)                                               (None, 24, 24, 12, 3, 1)                                    0                      \n",
      "______________________________________________________________________________________________________________________________________________________\n",
      "batch_normalization_110 (BatchNormalization)                       (None, 24, 24, 12, 3, 1)                                    12                     \n",
      "______________________________________________________________________________________________________________________________________________________\n",
      "permute_20 (Permute)                                               (None, 3, 24, 24, 12, 1)                                    0                      \n",
      "______________________________________________________________________________________________________________________________________________________\n",
      "time_distributed_210 (TimeDistributed)                             (None, 3, 22, 22, 11, 64)                                   1216                   \n",
      "______________________________________________________________________________________________________________________________________________________\n",
      "batch_normalization_111 (BatchNormalization)                       (None, 3, 22, 22, 11, 64)                                   256                    \n",
      "______________________________________________________________________________________________________________________________________________________\n",
      "time_distributed_211 (TimeDistributed)                             (None, 3, 22, 22, 11, 64)                                   0                      \n",
      "______________________________________________________________________________________________________________________________________________________\n",
      "activation_119 (Activation)                                        (None, 3, 22, 22, 11, 64)                                   0                      \n",
      "______________________________________________________________________________________________________________________________________________________\n",
      "time_distributed_212 (TimeDistributed)                             (None, 3, 11, 11, 5, 64)                                    0                      \n",
      "______________________________________________________________________________________________________________________________________________________\n",
      "time_distributed_213 (TimeDistributed)                             (None, 3, 9, 9, 4, 64)                                      73792                  \n",
      "______________________________________________________________________________________________________________________________________________________\n",
      "batch_normalization_112 (BatchNormalization)                       (None, 3, 9, 9, 4, 64)                                      256                    \n",
      "______________________________________________________________________________________________________________________________________________________\n",
      "time_distributed_214 (TimeDistributed)                             (None, 3, 9, 9, 4, 64)                                      0                      \n",
      "______________________________________________________________________________________________________________________________________________________\n",
      "activation_120 (Activation)                                        (None, 3, 9, 9, 4, 64)                                      0                      \n",
      "______________________________________________________________________________________________________________________________________________________\n",
      "time_distributed_215 (TimeDistributed)                             (None, 3, 7, 7, 3, 128)                                     147584                 \n",
      "______________________________________________________________________________________________________________________________________________________\n",
      "batch_normalization_113 (BatchNormalization)                       (None, 3, 7, 7, 3, 128)                                     512                    \n",
      "______________________________________________________________________________________________________________________________________________________\n",
      "time_distributed_216 (TimeDistributed)                             (None, 3, 7, 7, 3, 128)                                     0                      \n",
      "______________________________________________________________________________________________________________________________________________________\n",
      "activation_121 (Activation)                                        (None, 3, 7, 7, 3, 128)                                     0                      \n",
      "______________________________________________________________________________________________________________________________________________________\n",
      "time_distributed_217 (TimeDistributed)                             (None, 3, 5, 5, 2, 128)                                     295040                 \n",
      "______________________________________________________________________________________________________________________________________________________\n",
      "batch_normalization_114 (BatchNormalization)                       (None, 3, 5, 5, 2, 128)                                     512                    \n",
      "______________________________________________________________________________________________________________________________________________________\n",
      "time_distributed_218 (TimeDistributed)                             (None, 3, 5, 5, 2, 128)                                     0                      \n",
      "______________________________________________________________________________________________________________________________________________________\n",
      "activation_122 (Activation)                                        (None, 3, 5, 5, 2, 128)                                     0                      \n",
      "______________________________________________________________________________________________________________________________________________________\n",
      "time_distributed_219 (TimeDistributed)                             (None, 3, 2, 2, 2, 128)                                     0                      \n",
      "______________________________________________________________________________________________________________________________________________________\n",
      "time_distributed_220 (TimeDistributed)                             (None, 3, 1024)                                             0                      \n",
      "______________________________________________________________________________________________________________________________________________________\n",
      "simple_rnn_18 (SimpleRNN)                                          (None, 128)                                                 147584                 \n",
      "______________________________________________________________________________________________________________________________________________________\n",
      "batch_normalization_115 (BatchNormalization)                       (None, 128)                                                 512                    \n",
      "______________________________________________________________________________________________________________________________________________________\n",
      "activation_123 (Activation)                                        (None, 128)                                                 0                      \n",
      "______________________________________________________________________________________________________________________________________________________\n",
      "dropout_92 (Dropout)                                               (None, 128)                                                 0                      \n",
      "______________________________________________________________________________________________________________________________________________________\n",
      "dense_68 (Dense)                                                   (None, 6)                                                   774                    \n",
      "______________________________________________________________________________________________________________________________________________________\n",
      "batch_normalization_116 (BatchNormalization)                       (None, 6)                                                   24                     \n",
      "______________________________________________________________________________________________________________________________________________________\n",
      "activation_124 (Activation)                                        (None, 6)                                                   0                      \n",
      "======================================================================================================================================================\n",
      "Total params: 668,074\n",
      "Trainable params: 667,032\n",
      "Non-trainable params: 1,042\n",
      "______________________________________________________________________________________________________________________________________________________\n"
     ]
    }
   ],
   "source": [
    "model = cbuild.build_cnn_hyperparams(T)\n",
    "model.summary(line_length=150)"
   ]
  },
  {
   "cell_type": "code",
   "execution_count": 94,
   "metadata": {
    "collapsed": true,
    "scrolled": true
   },
   "outputs": [],
   "source": [
    "X_test, Y_test, train_generator, num_samples, train_orig, Z = cbuild.get_cnn_data(n=4, n_art=0)#, Z_test_fixed=Z_reader)\n",
    "Z_test, Z_train_orig = Z\n",
    "X_train_orig, Y_train_orig = train_orig"
   ]
  },
  {
   "cell_type": "code",
   "execution_count": 59,
   "metadata": {
    "collapsed": true
   },
   "outputs": [],
   "source": [
    "#from keras.utils import multi_gpu_model\n",
    "#model = multi_gpu_model(model, gpus=2)"
   ]
  },
  {
   "cell_type": "code",
   "execution_count": null,
   "metadata": {
    "scrolled": true
   },
   "outputs": [
    {
     "name": "stdout",
     "output_type": "stream",
     "text": [
      "Epoch 1/20\n",
      "750/750 [==============================] - 84s 112ms/step - loss: 0.7299 - acc: 0.7565 - val_loss: 0.4721 - val_acc: 0.8833\n",
      "Epoch 2/20\n",
      "750/750 [==============================] - 79s 105ms/step - loss: 0.4405 - acc: 0.8547 - val_loss: 0.4828 - val_acc: 0.8167\n",
      "Epoch 3/20\n",
      "750/750 [==============================] - 79s 105ms/step - loss: 0.3328 - acc: 0.8856 - val_loss: 0.3714 - val_acc: 0.8500\n",
      "Epoch 4/20\n",
      "750/750 [==============================] - 79s 105ms/step - loss: 0.2592 - acc: 0.9119 - val_loss: 0.4052 - val_acc: 0.8667\n",
      "Epoch 5/20\n",
      "750/750 [==============================] - 79s 105ms/step - loss: 0.2077 - acc: 0.9304 - val_loss: 0.3070 - val_acc: 0.8833\n",
      "Epoch 6/20\n",
      "750/750 [==============================] - 79s 106ms/step - loss: 0.1901 - acc: 0.9340 - val_loss: 0.5502 - val_acc: 0.8500\n",
      "Epoch 7/20\n",
      "750/750 [==============================] - 79s 105ms/step - loss: 0.1577 - acc: 0.9465 - val_loss: 0.5793 - val_acc: 0.7667\n",
      "Epoch 8/20\n",
      "750/750 [==============================] - 79s 105ms/step - loss: 0.1401 - acc: 0.9511 - val_loss: 0.5413 - val_acc: 0.8333\n",
      "Epoch 9/20\n",
      "750/750 [==============================] - 79s 105ms/step - loss: 0.1170 - acc: 0.9598 - val_loss: 0.6781 - val_acc: 0.8333\n",
      "Epoch 10/20\n",
      "750/750 [==============================] - 79s 105ms/step - loss: 0.1018 - acc: 0.9651 - val_loss: 0.3647 - val_acc: 0.8667\n",
      "Epoch 11/20\n",
      "750/750 [==============================] - 80s 106ms/step - loss: 0.1025 - acc: 0.9642 - val_loss: 0.4280 - val_acc: 0.9000\n",
      "Epoch 12/20\n",
      "750/750 [==============================] - 79s 106ms/step - loss: 0.0954 - acc: 0.9681 - val_loss: 0.3162 - val_acc: 0.9000\n",
      "Epoch 13/20\n",
      "750/750 [==============================] - 79s 106ms/step - loss: 0.0855 - acc: 0.9712 - val_loss: 0.4631 - val_acc: 0.8833\n",
      "Epoch 14/20\n",
      "750/750 [==============================] - 79s 106ms/step - loss: 0.0731 - acc: 0.9755 - val_loss: 0.5037 - val_acc: 0.8667\n",
      "Epoch 15/20\n",
      "750/750 [==============================] - 79s 106ms/step - loss: 0.0659 - acc: 0.9777 - val_loss: 0.5650 - val_acc: 0.8333\n",
      "Epoch 16/20\n",
      "371/750 [=============>................] - ETA: 40s - loss: 0.0695 - acc: 0.9762"
     ]
    }
   ],
   "source": [
    "hist = model.fit_generator(train_generator, steps_per_epoch=T.steps_per_epoch, epochs=T.epochs, validation_data=[X_test, Y_test])#, callbacks=[T.early_stopping])"
   ]
  },
  {
   "cell_type": "code",
   "execution_count": 71,
   "metadata": {
    "collapsed": true
   },
   "outputs": [],
   "source": [
    "model.save('E:\\\\models\\\\model_reader_rcnn.hdf5')"
   ]
  },
  {
   "cell_type": "code",
   "execution_count": 72,
   "metadata": {
    "collapsed": true
   },
   "outputs": [],
   "source": [
    "import dr_methods as drm\n",
    "voi_df_art, voi_df_ven, voi_df_eq = drm.get_voi_dfs()\n",
    "small_voi_df = pd.read_csv(C.small_voi_path)"
   ]
  },
  {
   "cell_type": "code",
   "execution_count": 73,
   "metadata": {
    "scrolled": true
   },
   "outputs": [
    {
     "name": "stdout",
     "output_type": "stream",
     "text": [
      "0.916666666667\n",
      "0.933333333333\n"
     ]
    }
   ],
   "source": [
    "#plot_with_bbox(fn_list[2], cls_mapping[wrong_guesses[2]])\n",
    "Y_pred = model.predict(X_test)\n",
    "y_true = np.array([max(enumerate(x), key=operator.itemgetter(1))[0] for x in Y_test])\n",
    "y_pred = np.array([max(enumerate(x), key=operator.itemgetter(1))[0] for x in Y_pred])\n",
    "\n",
    "cm = confusion_matrix(y_true, y_pred)\n",
    "f1 = f1_score(y_true, y_pred, average=\"weighted\")\n",
    "\n",
    "#save_output(Z_test, y_pred, y_true)\n",
    "\n",
    "print(accuracy_score(y_true, y_pred))\n",
    "y_true_simp, y_pred_simp, _ = cbuild.merge_classes(y_true, y_pred)\n",
    "print(accuracy_score(y_true_simp, y_pred_simp))"
   ]
  },
  {
   "cell_type": "code",
   "execution_count": 205,
   "metadata": {
    "collapsed": true
   },
   "outputs": [],
   "source": [
    "acc6cls = []\n",
    "acc3cls = []"
   ]
  },
  {
   "cell_type": "code",
   "execution_count": 64,
   "metadata": {
    "collapsed": true
   },
   "outputs": [],
   "source": [
    "model = keras.models.load_model(os.path.join(C.model_dir, \"models_305.hdf5\")) #models_305"
   ]
  },
  {
   "cell_type": "code",
   "execution_count": 344,
   "metadata": {
    "scrolled": false
   },
   "outputs": [
    {
     "data": {
      "text/plain": [
       "<module 'cnn_builder' from 'C:\\\\Users\\\\Clinton\\\\Documents\\\\voi-classifier\\\\python\\\\cnn_builder.py'>"
      ]
     },
     "execution_count": 344,
     "metadata": {},
     "output_type": "execute_result"
    }
   ],
   "source": [
    "importlib.reload(cbuild)"
   ]
  },
  {
   "cell_type": "code",
   "execution_count": 345,
   "metadata": {
    "collapsed": true
   },
   "outputs": [],
   "source": [
    "X_test, Y_test, train_generator, num_samples, train_orig, Z = cbuild.get_cnn_data(n=4, n_art=0, Z_test_fixed=Z_reader)\n",
    "Z_test, Z_train_orig = Z"
   ]
  },
  {
   "cell_type": "code",
   "execution_count": 31,
   "metadata": {
    "collapsed": true
   },
   "outputs": [],
   "source": [
    "Y_pred = model.predict(X_test)\n",
    "y_true = np.array([max(enumerate(x), key=operator.itemgetter(1))[0] for x in Y_test])\n",
    "y_pred = np.array([max(enumerate(x), key=operator.itemgetter(1))[0] for x in Y_pred])\n",
    "y_true_simp, y_pred_simp, _ = cbuild.merge_classes(y_true, y_pred)"
   ]
  },
  {
   "cell_type": "code",
   "execution_count": 13,
   "metadata": {},
   "outputs": [
    {
     "data": {
      "text/plain": [
       "0.90000000000000002"
      ]
     },
     "execution_count": 13,
     "metadata": {},
     "output_type": "execute_result"
    }
   ],
   "source": [
    "accuracy_score(y_pred,y_true)"
   ]
  },
  {
   "cell_type": "code",
   "execution_count": 12,
   "metadata": {
    "scrolled": false
   },
   "outputs": [
    {
     "data": {
      "text/plain": [
       "array(['E100610622_0', 'E100314676_0', '13112385_1', 'E100718398_0',\n",
       "       '12530153_0', '12451831_0', '12569826_0', '13028374_0',\n",
       "       '12207268_0', '12302576_0', '12324408_0', '12888679_2',\n",
       "       '12961059_0', '12975280_0', 'E100183257_1', 'E100962970_0',\n",
       "       'E101083458_1', 'E103312835_1', 'E104697262_0', 'E105311123_0',\n",
       "       'E102782525_0', 'E101415263_0', 'E100192709_1', 'E103192914_0',\n",
       "       'E100383453_0', '12552705_0', 'E105244287_0', 'E105918926_0',\n",
       "       'E106182827_0', '13092836_2', '12582632_0', 'E103020139_1',\n",
       "       '12569915_0', 'E102093118_0', 'E102929168_0', 'E102634440_0',\n",
       "       'E105310461_0', 'E105427046_0', 'E102613189_0', 'E102095465_0',\n",
       "       'E100262351_0', 'E106096969_0', 'E101225606_0', 'E101069048_1',\n",
       "       'E105344747_0', 'E100407633_0', '13092966_0', '12783467_0',\n",
       "       '13031955_0', 'E100894274_0', '12874178_3', '12239783_0',\n",
       "       '12788616_0', '11907521_0', '12823036_0', '12842070_0',\n",
       "       'E100168661_0', 'E100121654_0', '12678910_1', '12799652_0'],\n",
       "      dtype='<U12')"
      ]
     },
     "execution_count": 12,
     "metadata": {},
     "output_type": "execute_result"
    }
   ],
   "source": [
    "Z_test"
   ]
  },
  {
   "cell_type": "code",
   "execution_count": 312,
   "metadata": {
    "collapsed": true
   },
   "outputs": [],
   "source": [
    "X_test, Y_test, train_generator, num_samples, train_orig, Z = cbuild.get_cnn_data(n=4, n_art=0, Z_test=Z_reader)\n",
    "Z_test, Z_train_orig = Z\n",
    "Y_pred = model.predict(X_test)\n",
    "y_true = np.array([max(enumerate(x), key=operator.itemgetter(1))[0] for x in Y_test])\n",
    "y_pred = np.array([max(enumerate(x), key=operator.itemgetter(1))[0] for x in Y_pred])\n",
    "y_true_simp, y_pred_simp, _ = cbuild.merge_classes(y_true, y_pred)"
   ]
  },
  {
   "cell_type": "code",
   "execution_count": 42,
   "metadata": {
    "collapsed": true
   },
   "outputs": [],
   "source": [
    "Y_pred = [C.classes_to_include[y] for y in y_pred]\n",
    "Y_true = [C.classes_to_include[y] for y in y_true]"
   ]
  },
  {
   "cell_type": "code",
   "execution_count": 43,
   "metadata": {
    "collapsed": true
   },
   "outputs": [],
   "source": [
    "a = pd.DataFrame([Z_test,Y_pred,Y_true])"
   ]
  },
  {
   "cell_type": "code",
   "execution_count": 45,
   "metadata": {
    "collapsed": true,
    "scrolled": true
   },
   "outputs": [],
   "source": [
    "a.to_csv('E:\\\\hi.csv')"
   ]
  },
  {
   "cell_type": "code",
   "execution_count": null,
   "metadata": {
    "collapsed": true
   },
   "outputs": [],
   "source": []
  },
  {
   "cell_type": "code",
   "execution_count": 221,
   "metadata": {
    "collapsed": true
   },
   "outputs": [],
   "source": [
    "for i in range(19):\n",
    "    model_num = 306+i\n",
    "    X_test, Y_test, train_generator, num_samples, train_orig, Z = cbuild.get_cnn_data(n=4, n_art=0, Z_test=df[df['model_num'] == model_num][\"z_test\"])\n",
    "    X_train_orig, Y_train_orig = train_orig\n",
    "    model = keras.models.load_model(os.path.join(C.model_dir, \"models_%d.hdf5\" % model_num)) #models_305\n",
    "    \n",
    "    Y_pred = model.predict(X_train_orig)\n",
    "    y_true = np.array([max(enumerate(x), key=operator.itemgetter(1))[0] for x in Y_train_orig])\n",
    "    y_pred = np.array([max(enumerate(x), key=operator.itemgetter(1))[0] for x in Y_pred])\n",
    "\n",
    "    acc6cls.append(accuracy_score(y_true, y_pred))\n",
    "\n",
    "    y_true_simp, y_pred_simp, _ = cbuild.merge_classes(y_true, y_pred)\n",
    "\n",
    "    acc3cls.append(accuracy_score(y_true_simp, y_pred_simp))"
   ]
  },
  {
   "cell_type": "code",
   "execution_count": 22,
   "metadata": {
    "collapsed": true
   },
   "outputs": [],
   "source": [
    "df = pd.read_excel(\"Z:\\\\Inter-reader study\\\\Answer key.xlsx\")"
   ]
  },
  {
   "cell_type": "code",
   "execution_count": 23,
   "metadata": {
    "collapsed": true,
    "scrolled": true
   },
   "outputs": [],
   "source": [
    "y_true = df[\"Class\"].values\n",
    "y_pred = df[\"Model\"].values"
   ]
  },
  {
   "cell_type": "code",
   "execution_count": 24,
   "metadata": {
    "collapsed": true
   },
   "outputs": [],
   "source": [
    "cm = confusion_matrix(y_true, y_pred, labels=C.classes_to_include)"
   ]
  },
  {
   "cell_type": "code",
   "execution_count": 46,
   "metadata": {
    "scrolled": false
   },
   "outputs": [
    {
     "name": "stdout",
     "output_type": "stream",
     "text": [
      "10\t0\t1\t0\t0\t1\n",
      "0\t9\t1\t0\t0\t0\n",
      "0\t1\t8\t0\t0\t0\n",
      "0\t0\t0\t10\t0\t0\n",
      "0\t0\t0\t0\t9\t0\n",
      "0\t0\t0\t0\t1\t9\n"
     ]
    }
   ],
   "source": [
    "for i in range(len(cm)):\n",
    "    print('\\t'.join(cm[:,i].astype(str)))"
   ]
  },
  {
   "cell_type": "code",
   "execution_count": 72,
   "metadata": {
    "collapsed": true
   },
   "outputs": [],
   "source": [
    "fn_list = fn_list + list(Z_test[~np.equal(y_pred, y_true)])"
   ]
  },
  {
   "cell_type": "code",
   "execution_count": 74,
   "metadata": {
    "collapsed": true
   },
   "outputs": [],
   "source": [
    "fn_list = fn_list + list(Z_train_orig[~np.equal(y_pred, y_true)])\n",
    "fn_list = fn_list + list(Z_train_orig[~np.equal(y_pred, y_true)])"
   ]
  },
  {
   "cell_type": "code",
   "execution_count": 75,
   "metadata": {
    "collapsed": true
   },
   "outputs": [],
   "source": [
    "fn_x_list = [x+\"(\"+str(voi_df_art[voi_df_art[\"id\"] == x[:-4]][\"x1\"].values[0])+\")\" for x in fn_list]"
   ]
  },
  {
   "cell_type": "code",
   "execution_count": 76,
   "metadata": {
    "collapsed": true
   },
   "outputs": [],
   "source": [
    "unique, counts = np.unique(fn_x_list, return_counts=True)"
   ]
  },
  {
   "cell_type": "code",
   "execution_count": null,
   "metadata": {
    "collapsed": true
   },
   "outputs": [],
   "source": [
    "dict(zip(unique, counts))"
   ]
  },
  {
   "cell_type": "code",
   "execution_count": 195,
   "metadata": {
    "collapsed": true
   },
   "outputs": [],
   "source": [
    "Y_pred = model.predict(X_train_orig)\n",
    "y_true = np.array([max(enumerate(x), key=operator.itemgetter(1))[0] for x in Y_train_orig])\n",
    "y_pred = np.array([max(enumerate(x), key=operator.itemgetter(1))[0] for x in Y_pred])\n",
    "\n",
    "cm = confusion_matrix(y_true, y_pred)\n",
    "f1 = f1_score(y_true, y_pred, average=\"weighted\")\n",
    "\n",
    "#cbuild.save_output(Z_train_orig, y_pred, y_true)#, save_dir=C.output_img_dir+\"\\\\training\")"
   ]
  },
  {
   "cell_type": "code",
   "execution_count": 271,
   "metadata": {
    "collapsed": true
   },
   "outputs": [],
   "source": [
    "model = keras.models.load_model(os.path.join(C.model_dir, \"models_305.hdf5\")) #models_305\n",
    "#cnna.visualize_layer(model, 'conv3d_148')"
   ]
  },
  {
   "cell_type": "code",
   "execution_count": null,
   "metadata": {
    "collapsed": true
   },
   "outputs": [],
   "source": [
    "model.summary()"
   ]
  },
  {
   "cell_type": "code",
   "execution_count": null,
   "metadata": {
    "collapsed": true
   },
   "outputs": [],
   "source": [
    "model_filter_outputs.summary()"
   ]
  },
  {
   "cell_type": "code",
   "execution_count": 74,
   "metadata": {
    "collapsed": true,
    "scrolled": true
   },
   "outputs": [],
   "source": [
    "model_dense_outputs = cbuild.build_pretrain_model(model)"
   ]
  },
  {
   "cell_type": "code",
   "execution_count": null,
   "metadata": {
    "collapsed": true
   },
   "outputs": [],
   "source": []
  },
  {
   "cell_type": "code",
   "execution_count": 72,
   "metadata": {
    "collapsed": true
   },
   "outputs": [],
   "source": [
    "orig_data_dict, num_samples = cbuild._collect_unaug_data()"
   ]
  },
  {
   "cell_type": "code",
   "execution_count": 82,
   "metadata": {
    "collapsed": true
   },
   "outputs": [],
   "source": [
    "filter_results = {cls: model_dense_outputs.predict(orig_data_dict[cls][0], verbose=False) for cls in C.classes_to_include}\n",
    "\n",
    "filter_avgs = np.concatenate([filter_results[cls] for cls in C.classes_to_include], axis=0)\n",
    "filter_avgs = np.mean(filter_avgs, axis=0)\n",
    "\n",
    "filter_cls_avg_unscaled = {cls: np.mean(filter_results[cls], axis=0) for cls in C.classes_to_include}\n",
    "filter_cls_avg_scaled = {cls: np.mean(filter_results[cls], axis=0) / filter_avgs for cls in C.classes_to_include}"
   ]
  },
  {
   "cell_type": "code",
   "execution_count": 115,
   "metadata": {
    "collapsed": true
   },
   "outputs": [],
   "source": [
    "with open('E:\\\\filters.csv', 'w', newline='') as csvfile:\n",
    "    header = ['filter_num'] + C.classes_to_include\n",
    "    writer = csv.writer(csvfile)\n",
    "    writer.writerow(header)\n",
    "    for f_num in range(100):\n",
    "        writer.writerow([f_num] + [filter_cls_avg_scaled[cls][f_num] for cls in C.classes_to_include])"
   ]
  },
  {
   "cell_type": "code",
   "execution_count": null,
   "metadata": {
    "collapsed": true
   },
   "outputs": [],
   "source": []
  },
  {
   "cell_type": "code",
   "execution_count": 224,
   "metadata": {},
   "outputs": [
    {
     "data": {
      "text/plain": [
       "137"
      ]
     },
     "execution_count": 224,
     "metadata": {},
     "output_type": "execute_result"
    }
   ],
   "source": [
    "len(hf.flatten([list(feature_sheet[\"evidence1\"+cls].dropna().values) for cls in C.classes_to_include]))"
   ]
  },
  {
   "cell_type": "code",
   "execution_count": 65,
   "metadata": {
    "collapsed": true,
    "scrolled": true
   },
   "outputs": [],
   "source": [
    "feature_sheet = pd.read_excel(C.xls_name, \"Descriptions\")\n",
    "\n",
    "features_by_cls = {}\n",
    "feat_count = {}\n",
    "for cls in C.classes_to_include:\n",
    "    features_by_cls[cls] = list(feature_sheet[\"evidence1\"+cls].dropna().values)\n",
    "    features_by_cls[cls] = features_by_cls[cls] + list(feature_sheet[\"evidence2\"+cls].dropna().values)\n",
    "#all_features = list(set([f for cls in features for f in features[cls]]))\n",
    "\n",
    "feat_count = dict(zip(*np.unique([f for cls in features_by_cls for f in features_by_cls[cls]], return_counts=True)))\n",
    "all_features = list(feat_count.keys())\n",
    "#for cls in C.classes_to_include:\n",
    "#    features_by_cls[cls] = list(set(features_by_cls[cls]))\n",
    "\n",
    "cls_features = {f: [c for c in C.classes_to_include if f in features_by_cls[c]] for f in all_features}"
   ]
  },
  {
   "cell_type": "code",
   "execution_count": 237,
   "metadata": {},
   "outputs": [
    {
     "name": "stdout",
     "output_type": "stream",
     "text": [
      "continuous enhancing rim (5)\n",
      "progressive or concentric enhancement (5)\n",
      "regular spherical hypointense mass (5)\n"
     ]
    }
   ],
   "source": [
    "z = dict(zip(*np.unique(features_by_cls['colorectal'], return_counts=True)))\n",
    "for k in z:\n",
    "    print(k, \" (\",z[k],\")\", sep=\"\")"
   ]
  },
  {
   "cell_type": "code",
   "execution_count": 66,
   "metadata": {
    "scrolled": false
   },
   "outputs": [
    {
     "data": {
      "text/plain": [
       "{'arterial enhancement': 10,\n",
       " 'central scar': 5,\n",
       " 'continuous enhancing rim': 10,\n",
       " 'delayed isointensity': 10,\n",
       " 'heterogeneous': 10,\n",
       " 'hyperintense mass on delayed phase': 10,\n",
       " 'hypointense without enhancement': 10,\n",
       " 'infiltrative': 10,\n",
       " 'lobulated margins': 10,\n",
       " 'nodular or discontinuous enhancement': 10,\n",
       " 'progressive centripetal filling': 10,\n",
       " 'progressive or concentric enhancement': 10,\n",
       " 'regular spherical hypointense mass': 10,\n",
       " 'thin well-defined walls': 10,\n",
       " 'venous washout': 10}"
      ]
     },
     "execution_count": 66,
     "metadata": {},
     "output_type": "execute_result"
    }
   ],
   "source": [
    "feat_count"
   ]
  },
  {
   "cell_type": "markdown",
   "metadata": {},
   "source": [
    "for col in [c for c in feature_sheet.columns if c.startswith(\"evidence\")]:"
   ]
  },
  {
   "cell_type": "code",
   "execution_count": 70,
   "metadata": {
    "collapsed": true,
    "scrolled": true
   },
   "outputs": [],
   "source": [
    "Z_features_by_cls = {cls: {} for cls in features_by_cls}\n",
    "Z_features = {}\n",
    "\n",
    "for cls in C.classes_to_include:\n",
    "    for f in features_by_cls[cls]:\n",
    "        if f not in Z_features:\n",
    "            Z_features[f] = []\n",
    "            \n",
    "        Z_features_by_cls[cls][f] = [x for x in feature_sheet[feature_sheet[\"evidence1\"+cls] == f][cls].values]\n",
    "        Z_features[f] += [x for x in feature_sheet[feature_sheet[\"evidence1\"+cls] == f][cls].values]\n",
    "        if feature_sheet[\"evidence2\"+cls].dropna().size > 0:\n",
    "            Z_features_by_cls[cls][f] = Z_features_by_cls[cls][f] + [x+\".npy\" for x in feature_sheet[feature_sheet[\"evidence2\"+cls] == f][cls].values]\n",
    "            Z_features[f] += [x for x in feature_sheet[feature_sheet[\"evidence2\"+cls] == f][cls].values]"
   ]
  },
  {
   "cell_type": "code",
   "execution_count": 84,
   "metadata": {
    "collapsed": true
   },
   "outputs": [],
   "source": [
    "feature_filters = {f:np.empty([0,100]) for f in all_features}#{cls: {} for cls in features}\n",
    "feature_filters_scaled = {}#{cls: {} for cls in features}"
   ]
  },
  {
   "cell_type": "code",
   "execution_count": 85,
   "metadata": {
    "collapsed": true
   },
   "outputs": [],
   "source": [
    "for f in all_features:\n",
    "    for cls in C.classes_to_include:\n",
    "        x_features = orig_data_dict[cls][0][np.where(np.isin(orig_data_dict[cls][1], Z_features[f]))]\n",
    "        if x_features.size > 0:\n",
    "            feature_filters[f] = np.concatenate([feature_filters[f], model_dense_outputs.predict(x_features, verbose=False)], axis=0)# / filter_avgs\n",
    "        \n",
    "    feature_filters[f] = np.mean(feature_filters[f], axis=0)# / filter_avgs\n",
    "\n",
    "    ff = feature_filters[f]\n",
    "    feature_filters[f] = np.where(ff > np.mean(ff), ff, 0)\n",
    "\n",
    "    #ff = feature_filters[cls][f]\n",
    "    #feature_filters[cls][f] = np.where(ff > 1*filter_cls_avg_unscaled[cls], ff, 0)\n",
    "\n",
    "    ff = feature_filters[f]\n",
    "    feature_filters[f] = np.where(ff > 1.3*filter_avgs, ff, 0)\n",
    "\n",
    "    feature_filters_scaled[f] = feature_filters[f] / filter_avgs"
   ]
  },
  {
   "cell_type": "code",
   "execution_count": 678,
   "metadata": {
    "collapsed": true
   },
   "outputs": [],
   "source": [
    "header = ['filter_num']\n",
    "for cls in C.classes_to_include:\n",
    "    header += [f+\"_\"+cls for f in features_by_cls[cls]]\n",
    "\n",
    "with open('E:\\\\feature_filters.csv', 'w', newline='') as csvfile:\n",
    "    writer = csv.writer(csvfile)\n",
    "    writer.writerow(header)\n",
    "    for f_num in range(100):\n",
    "        writer.writerow([f_num] + [feature_filters[f][f_num] for cls in features for f in features_by_cls[cls]])"
   ]
  },
  {
   "cell_type": "code",
   "execution_count": 679,
   "metadata": {
    "collapsed": true
   },
   "outputs": [],
   "source": [
    "all_features_cls = header[1:]"
   ]
  },
  {
   "cell_type": "code",
   "execution_count": 94,
   "metadata": {
    "collapsed": true
   },
   "outputs": [],
   "source": [
    "Z_test_features = ['E106097391_0', 'E104978772_1', '12900535_0', 'E100150242_0', 'E105490014_0', 'E103147618_0', 'E103510187_0', 'E104657225_0', 'E100551966_0', 'E101388602_0', 'E100215900_8', 'E100215900_7', 'E104045692_0', '13104521_0', 'E100383453_0', '12943286_0', '12271995_0', 'E102315724_0', 'E104949189_0', 'E100511083_1', 'E101579471_0', '13018986_1', '13203550_8', '13112385_0', '12712463_0', '12361082_0', '13028374_0', 'E103985934_1', 'E100529980_0', '12042703_3', '12961059_0', 'E105724706_2', 'E100592424_2', 'E103104254_0', 'E104546069_0', 'E101665217_1', '12090000_0', 'E100592424_1', '12961059_1', 'E105474285_0', '12502068_1', 'E100814791_0', 'E102613189_0', 'E105427046_0', 'E102881031_1', 'E102929168_0', 'E102310482_0', 'E102095465_0', 'E101811299_0', 'E104737273_0', '12890053_0', 'E100168661_1', '12637865_0', 'E100168661_2', '12239783_0', '12707781_0', '12706568_1', '12823036_0', '12404081_0', '12365693_1']\n",
    "\n",
    "x_test = {cls: orig_data_dict[cls][0][np.where(np.isin(orig_data_dict[cls][1], Z_test_features))] for cls in C.classes_to_include}\n",
    "Z_test = {cls: orig_data_dict[cls][1][np.where(np.isin(orig_data_dict[cls][1], Z_test_features))] for cls in C.classes_to_include}"
   ]
  },
  {
   "cell_type": "code",
   "execution_count": 95,
   "metadata": {
    "collapsed": true
   },
   "outputs": [],
   "source": [
    "filters_test = {}\n",
    "for cls in C.classes_to_include:\n",
    "    filters_test[cls] = model_dense_outputs.predict(x_test[cls], verbose=False)\n",
    "    #filters_test[cls] = np.apply_along_axis(lambda x: x / filter_avgs, 1, filters_test[cls])"
   ]
  },
  {
   "cell_type": "code",
   "execution_count": 88,
   "metadata": {
    "collapsed": true
   },
   "outputs": [],
   "source": [
    "def get_evidence_strength(feature_filters, pred_filters):\n",
    "    \"\"\"A good pred_filter has high values for all the key (non-zero) features of feature_filter.\n",
    "    These values should be unscaled.\n",
    "    Returns average percentage of the mean value of the key filters (capped at 100%)\"\"\"\n",
    "    \n",
    "    strength = 0\n",
    "    num_key_filters = sum(feature_filters > 0)\n",
    "    \n",
    "    for i in range(len(pred_filters)):\n",
    "        t = feature_filters[i]\n",
    "        p = pred_filters[i]\n",
    "        \n",
    "        if t == 0:\n",
    "            continue\n",
    "            \n",
    "        strength += min(p/t, 1.1)#t*p / filter_avgs[i]**.7\n",
    "    return (strength / num_key_filters / 1.1)**.3"
   ]
  },
  {
   "cell_type": "code",
   "execution_count": 96,
   "metadata": {
    "collapsed": true
   },
   "outputs": [],
   "source": [
    "cls = \"colorectal\"\n",
    "x_test_quick = orig_data_dict[cls][0][np.where(orig_data_dict[cls][1] == \"E105724706_2.npy\")]\n",
    "x_test_quick = orig_data_dict[\"fnh\"][0][np.where(orig_data_dict[\"fnh\"][1] == \"E104189184_0.npy\")]\n",
    "filters_quick = model_dense_outputs.predict(x_test_quick, verbose=False)"
   ]
  },
  {
   "cell_type": "code",
   "execution_count": null,
   "metadata": {
    "collapsed": true
   },
   "outputs": [],
   "source": [
    "img_num = 0\n",
    "evidence = {}\n",
    "max_strength = 0\n",
    "\n",
    "#cls = true_cls\n",
    "\"\"\"for f in features[cls]:\n",
    "    evidence[f] = get_evidence_strength(feature_filters[cls][f], filters_test[cls][img_num])\n",
    "    max_strength = max(max_strength, evidence[f])\n",
    "\"\"\"\n",
    "#for cls in C.classes_to_include:\n",
    "for f in all_features:\n",
    "    evidence[f + \"/\" + str(cls_features[f])] = get_evidence_strength(feature_filters[f], filters_quick[0])#filters_test[true_cls][img_num])\n",
    "    #max_strength = max(max_strength, evidence[f + \"/\" + str(cls_features[f])])\n",
    "\n",
    "#for f in evidence:\n",
    "#    evidence[f] /= max_strength\n",
    "print(\"Detected features:\")\n",
    "for f,strength in sorted(evidence.items(), key=lambda x:x[1], reverse=True)[:5]:\n",
    "    #if strength > 1:\n",
    "    print(\"- \" + f, \"- %d%%\" % (strength*100))"
   ]
  },
  {
   "cell_type": "code",
   "execution_count": 156,
   "metadata": {
    "scrolled": false
   },
   "outputs": [
    {
     "data": {
      "image/png": "[encoded data removed]",
      "text/plain": [
       "<matplotlib.figure.Figure at 0x1e5ecc3bef0>"
      ]
     },
     "metadata": {},
     "output_type": "display_data"
    }
   ],
   "source": [
    "hf.plot_section_auto(x_test_quick[0])#[true_cls][img_num])"
   ]
  },
  {
   "cell_type": "code",
   "execution_count": 101,
   "metadata": {},
   "outputs": [
    {
     "data": {
      "text/plain": [
       "['continuous enhancing rim',\n",
       " 'arterial enhancement',\n",
       " 'hypointense without enhancement',\n",
       " 'venous washout',\n",
       " 'nodular or discontinuous enhancement',\n",
       " 'regular spherical hypointense mass',\n",
       " 'hyperintense mass on delayed phase',\n",
       " 'heterogeneous',\n",
       " 'infiltrative',\n",
       " 'central scar',\n",
       " 'progressive centripetal filling',\n",
       " 'thin well-defined walls',\n",
       " 'delayed isointensity',\n",
       " 'lobulated margins',\n",
       " 'progressive or concentric enhancement']"
      ]
     },
     "execution_count": 101,
     "metadata": {},
     "output_type": "execute_result"
    }
   ],
   "source": []
  },
  {
   "cell_type": "code",
   "execution_count": null,
   "metadata": {
    "collapsed": true
   },
   "outputs": [],
   "source": [
    "filters_test[true_cls][img_num]"
   ]
  },
  {
   "cell_type": "code",
   "execution_count": 106,
   "metadata": {
    "collapsed": true
   },
   "outputs": [],
   "source": [
    "output = {}\n",
    "for true_cls in C.classes_to_include:\n",
    "    for img_num in range(len(filters_test[true_cls])):\n",
    "        z = Z_test[true_cls][img_num]\n",
    "        x = np.expand_dims(x_test[true_cls][img_num], axis=0)\n",
    "        evidence = {}\n",
    "        max_strength = 0\n",
    "        cls = true_cls\n",
    "        \n",
    "        output[z] = [true_cls]\n",
    "        \n",
    "        preds = model.predict(x, verbose=False)[0]\n",
    "        for pred_cls, pred_conf in sorted(zip(C.classes_to_include, preds), key=lambda x:x[1], reverse=True)[:2]:\n",
    "            output[z] = output[z] + [pred_cls]\n",
    "        \n",
    "        for f in all_features:\n",
    "            evidence[f + \"/\" + str(cls_features[f])] = get_evidence_strength(feature_filters[f], filters_test[true_cls][img_num])\n",
    "        \n",
    "        f1='infiltrative'\n",
    "        f2='lobulated margins'\n",
    "        if evidence[f1 + \"/\" + str(cls_features[f1])] < evidence[f2 + \"/\" + str(cls_features[f2])]:\n",
    "            evidence.pop(f1 + \"/\" + str(cls_features[f1]))\n",
    "        else:\n",
    "            evidence.pop(f2 + \"/\" + str(cls_features[f2]))\n",
    "        \n",
    "        for f,strength in sorted(evidence.items(), key=lambda x:x[1], reverse=True):\n",
    "            output[z] = output[z] + [f, int(strength*100)]"
   ]
  },
  {
   "cell_type": "code",
   "execution_count": 107,
   "metadata": {
    "collapsed": true
   },
   "outputs": [],
   "source": [
    "with open('E:\\\\filters_pred4.csv', 'w', newline='') as csvfile:\n",
    "    header = ['img_fn', 'agreement1', 'agreement2', 'true_cls', 'pred_cls1', 'pred_cls2'] + \\\n",
    "            [s for i in range(len(all_features)) for s in ['feature_%d' % i,'strength_%d' % i]]\n",
    "    writer = csv.writer(csvfile)\n",
    "    writer.writerow(header)\n",
    "    for z_num in range(len(Z_test_features)):\n",
    "        writer.writerow([Z_test_features[z_num]] + [output[Z_test_features[z_num]][0] in output[Z_test_features[z_num]][5], \\\n",
    "                        output[Z_test_features[z_num]][0] in output[Z_test_features[z_num]][7]] + output[Z_test_features[z_num]])"
   ]
  },
  {
   "cell_type": "code",
   "execution_count": null,
   "metadata": {
    "collapsed": true
   },
   "outputs": [],
   "source": []
  }
 ],
 "metadata": {
  "kernelspec": {
   "display_name": "Python 3",
   "language": "python",
   "name": "python3"
  },
  "language_info": {
   "codemirror_mode": {
    "name": "ipython",
    "version": 3
   },
   "file_extension": ".py",
   "mimetype": "text/x-python",
   "name": "python",
   "nbconvert_exporter": "python",
   "pygments_lexer": "ipython3",
   "version": "3.5.0"
  }
 },
 "nbformat": 4,
 "nbformat_minor": 2
}
