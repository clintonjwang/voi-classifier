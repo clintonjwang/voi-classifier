{
 "cells": [
  {
   "cell_type": "code",
   "execution_count": 28,
   "metadata": {
    "ExecuteTime": {
     "end_time": "2018-05-30T23:02:52.277630Z",
     "start_time": "2018-05-30T23:02:52.239703Z"
    }
   },
   "outputs": [],
   "source": [
    "import copy\n",
    "import glob\n",
    "import importlib\n",
    "import itertools\n",
    "import math\n",
    "import operator\n",
    "import os\n",
    "import random\n",
    "import time\n",
    "from os.path import *\n",
    "import psutil\n",
    "import shutil\n",
    "\n",
    "import keras.layers as layers\n",
    "import keras.models\n",
    "import matplotlib.pyplot as plt\n",
    "import numpy as np\n",
    "import pandas as pd\n",
    "import scipy\n",
    "from keras import backend as K\n",
    "from keras.callbacks import EarlyStopping\n",
    "from keras.models import Model\n",
    "from keras.optimizers import Adam\n",
    "from keras.utils import np_utils\n",
    "import tensorflow as tf\n",
    "from sklearn.metrics import accuracy_score, confusion_matrix, f1_score\n",
    "\n",
    "import cnn_builder as cbuild\n",
    "import cnn_runner as crun\n",
    "import config\n",
    "import ddpg.env as denv\n",
    "import ddpg.main as qmain\n",
    "import ddpg.learning_nets as ln\n",
    "import ddpg.task_nets as tn\n",
    "import dr_methods as drm\n",
    "import seg_methods as sm\n",
    "import niftiutils.helper_fxns as hf\n",
    "import niftiutils.masks as masks\n",
    "import niftiutils.transforms as tr\n",
    "import niftiutils.visualization as vis\n",
    "import voi_methods as vm\n",
    "\n",
    "%matplotlib inline\n",
    "np.set_printoptions(3, suppress=True)\n",
    "#np.random.seed(0)"
   ]
  },
  {
   "cell_type": "code",
   "execution_count": 2,
   "metadata": {
    "ExecuteTime": {
     "end_time": "2018-05-30T20:03:23.568158Z",
     "start_time": "2018-05-30T20:03:23.563153Z"
    },
    "collapsed": true
   },
   "outputs": [],
   "source": [
    "def memory():\n",
    "    pid = os.getpid()\n",
    "    py = psutil.Process(pid)\n",
    "    gigs = py.memory_info()[0]/2.**30\n",
    "    print('Memory use:', gigs)\n",
    "    return gigs"
   ]
  },
  {
   "cell_type": "code",
   "execution_count": 3,
   "metadata": {
    "ExecuteTime": {
     "end_time": "2018-05-30T20:03:25.440099Z",
     "start_time": "2018-05-30T20:03:25.435112Z"
    }
   },
   "outputs": [],
   "source": [
    "importlib.reload(cbuild)\n",
    "C = config.Config()\n",
    "dqn_generator = cbuild._train_gen_ddpg()"
   ]
  },
  {
   "cell_type": "code",
   "execution_count": null,
   "metadata": {
    "ExecuteTime": {
     "end_time": "2018-05-30T04:04:33.433925Z",
     "start_time": "2018-05-30T04:04:18.811737Z"
    },
    "collapsed": true
   },
   "outputs": [],
   "source": [
    "# importlib.reload(qmain)\n",
    "Q = qmain.CRSNet(1.)\n",
    "Q.train(dqn_generator, verbose=True)"
   ]
  },
  {
   "cell_type": "code",
   "execution_count": 6,
   "metadata": {
    "ExecuteTime": {
     "end_time": "2018-05-30T02:46:43.326148Z",
     "start_time": "2018-05-30T02:46:19.122730Z"
    },
    "collapsed": true
   },
   "outputs": [],
   "source": [
    "Q.save_models()"
   ]
  },
  {
   "cell_type": "code",
   "execution_count": null,
   "metadata": {
    "collapsed": true
   },
   "outputs": [],
   "source": []
  },
  {
   "cell_type": "code",
   "execution_count": null,
   "metadata": {
    "ExecuteTime": {
     "end_time": "2018-05-30T02:39:18.793979Z",
     "start_time": "2018-05-30T02:39:18.733169Z"
    },
    "collapsed": true
   },
   "outputs": [],
   "source": [
    "shutil.rmtree(C.model_dir)"
   ]
  },
  {
   "cell_type": "code",
   "execution_count": 7,
   "metadata": {
    "ExecuteTime": {
     "end_time": "2018-05-29T14:48:56.767254Z",
     "start_time": "2018-05-29T14:48:56.763264Z"
    }
   },
   "outputs": [],
   "source": [
    "os.makedirs(C.model_dir)"
   ]
  },
  {
   "cell_type": "code",
   "execution_count": null,
   "metadata": {
    "collapsed": true
   },
   "outputs": [],
   "source": []
  },
  {
   "cell_type": "code",
   "execution_count": 24,
   "metadata": {
    "ExecuteTime": {
     "end_time": "2018-05-29T19:44:49.300614Z",
     "start_time": "2018-05-29T19:44:49.284657Z"
    }
   },
   "outputs": [],
   "source": [
    "cropI = np.random.normal(size=(1,*C.dims,3))\n",
    "\n",
    "crop_true_seg = np.random.normal(size=(1,*C.dims,3))\n",
    "true_cls = np.random.uniform(size=(1,3))\n",
    "\n",
    "y_true = np.random.normal(size=(1,*C.dims,3))\n",
    "y_pred = np.random.normal(size=(1,*C.dims,4))\n",
    "\n",
    "loss_layer = train_model.layers[-1]"
   ]
  },
  {
   "cell_type": "code",
   "execution_count": 25,
   "metadata": {
    "ExecuteTime": {
     "end_time": "2018-05-29T19:44:57.204848Z",
     "start_time": "2018-05-29T19:44:54.411315Z"
    }
   },
   "outputs": [
    {
     "name": "stdout",
     "output_type": "stream",
     "text": [
      "-0.05015051\n",
      "Memory use: 2.0087203979492188\n",
      "-0.050445613\n",
      "Memory use: 2.0087203979492188\n",
      "-0.050510425\n",
      "Memory use: 2.008716583251953\n",
      "-0.049581293\n",
      "Memory use: 2.008716583251953\n",
      "-0.049884304\n",
      "Memory use: 2.008716583251953\n",
      "-0.048125546\n",
      "Memory use: 2.008716583251953\n",
      "-0.049017023\n",
      "Memory use: 2.008716583251953\n",
      "-0.04843785\n",
      "Memory use: 2.0087203979492188\n",
      "-0.050015423\n",
      "Memory use: 2.0087203979492188\n",
      "-0.049520925\n",
      "Memory use: 2.0087203979492188\n"
     ]
    }
   ],
   "source": [
    "for _ in range(10):\n",
    "    print(loss_layer.get_loss(0, y_true, y_pred, C.loss_weights[1:]))\n",
    "    memory();"
   ]
  },
  {
   "cell_type": "code",
   "execution_count": null,
   "metadata": {
    "ExecuteTime": {
     "end_time": "2018-05-29T18:18:34.280289Z",
     "start_time": "2018-05-29T18:18:18.388368Z"
    },
    "collapsed": true
   },
   "outputs": [],
   "source": [
    "importlib.reload(tn)\n",
    "for _ in range(10):\n",
    "    log_vars = [K.get_value(x)[0] for x in train_model.layers[-1].log_vars]\n",
    "    loss = np.sum(np.exp(-log_vars[0]) * K.get_value(tn.hetero_cls_loss(y_true, y_pred)) + log_vars[0], -1)\n",
    "    print(np.mean(loss))\n",
    "    memory();"
   ]
  },
  {
   "cell_type": "code",
   "execution_count": 30,
   "metadata": {
    "ExecuteTime": {
     "end_time": "2018-05-29T16:55:26.869123Z",
     "start_time": "2018-05-29T16:55:26.846162Z"
    }
   },
   "outputs": [],
   "source": [
    "A = prediction_model.predict(cropI)"
   ]
  },
  {
   "cell_type": "code",
   "execution_count": null,
   "metadata": {
    "ExecuteTime": {
     "end_time": "2018-05-29T17:00:15.134130Z",
     "start_time": "2018-05-29T17:00:14.176132Z"
    },
    "collapsed": true
   },
   "outputs": [],
   "source": [
    "for _ in range(10):\n",
    "    train_model.train_on_batch([cropI, crop_true_seg, true_cls], None)\n",
    "    A=prediction_model.predict(cropI);\n",
    "    print(A[1])\n",
    "    memory();"
   ]
  },
  {
   "cell_type": "code",
   "execution_count": null,
   "metadata": {
    "collapsed": true
   },
   "outputs": [],
   "source": []
  },
  {
   "cell_type": "code",
   "execution_count": null,
   "metadata": {
    "ExecuteTime": {
     "end_time": "2018-05-28T18:11:58.749023Z",
     "start_time": "2018-05-28T18:11:47.096324Z"
    },
    "collapsed": true
   },
   "outputs": [],
   "source": [
    "importlib.reload(qmain)\n",
    "Q = qmain.CRSNet(1.)\n",
    "\n",
    "replay_conf = {'size': 10000,\n",
    "        'learn_start': 100,\n",
    "        'partition_num': 100,\n",
    "        'total_step': 10000,\n",
    "        'batch_size': 4}\n",
    "BATCH_SIZE = replay_conf[\"batch_size\"]\n",
    "\n",
    "Q.load_models(replay_conf)"
   ]
  },
  {
   "cell_type": "code",
   "execution_count": null,
   "metadata": {
    "ExecuteTime": {
     "end_time": "2018-05-28T18:12:16.001164Z",
     "start_time": "2018-05-28T18:12:15.992160Z"
    },
    "collapsed": true
   },
   "outputs": [],
   "source": [
    "Q.critic.model.summary()"
   ]
  },
  {
   "cell_type": "code",
   "execution_count": null,
   "metadata": {
    "ExecuteTime": {
     "end_time": "2018-05-28T18:12:17.440415Z",
     "start_time": "2018-05-28T18:12:17.431412Z"
    },
    "collapsed": true
   },
   "outputs": [],
   "source": [
    "Q.actor.model.summary()"
   ]
  },
  {
   "cell_type": "code",
   "execution_count": null,
   "metadata": {
    "ExecuteTime": {
     "end_time": "2018-05-28T18:12:19.496073Z",
     "start_time": "2018-05-28T18:12:19.480144Z"
    },
    "collapsed": true
   },
   "outputs": [],
   "source": [
    "Q.env.pred_model.summary()"
   ]
  },
  {
   "cell_type": "code",
   "execution_count": null,
   "metadata": {
    "collapsed": true
   },
   "outputs": [],
   "source": []
  },
  {
   "cell_type": "code",
   "execution_count": null,
   "metadata": {
    "ExecuteTime": {
     "end_time": "2018-05-28T14:54:39.886003Z",
     "start_time": "2018-05-28T14:54:26.248967Z"
    },
    "collapsed": true
   },
   "outputs": [],
   "source": [
    "importlib.reload(qmain)\n",
    "Q = qmain.CRSNet(.5)\n",
    "img, true_seg, true_cls = next(dqn_generator)\n",
    "seg, seg_var, cls = Q.run(img)"
   ]
  },
  {
   "cell_type": "code",
   "execution_count": null,
   "metadata": {
    "ExecuteTime": {
     "end_time": "2018-05-28T14:54:41.512682Z",
     "start_time": "2018-05-28T14:54:41.378015Z"
    },
    "collapsed": true
   },
   "outputs": [],
   "source": [
    "vis.draw_slices(img)"
   ]
  },
  {
   "cell_type": "code",
   "execution_count": null,
   "metadata": {
    "ExecuteTime": {
     "end_time": "2018-05-28T14:56:11.067887Z",
     "start_time": "2018-05-28T14:56:10.964966Z"
    },
    "collapsed": true
   },
   "outputs": [],
   "source": [
    "vis.draw_slices(true_seg)"
   ]
  },
  {
   "cell_type": "code",
   "execution_count": null,
   "metadata": {
    "ExecuteTime": {
     "end_time": "2018-05-28T14:55:59.697285Z",
     "start_time": "2018-05-28T14:55:59.556932Z"
    },
    "collapsed": true
   },
   "outputs": [],
   "source": [
    "vis.draw_slices(seg, normalize=[0,.05])"
   ]
  },
  {
   "cell_type": "code",
   "execution_count": null,
   "metadata": {
    "collapsed": true
   },
   "outputs": [],
   "source": []
  },
  {
   "cell_type": "code",
   "execution_count": null,
   "metadata": {
    "collapsed": true
   },
   "outputs": [],
   "source": []
  },
  {
   "cell_type": "code",
   "execution_count": null,
   "metadata": {
    "ExecuteTime": {
     "end_time": "2018-05-26T19:51:04.504974Z",
     "start_time": "2018-05-26T19:51:01.162486Z"
    },
    "collapsed": true
   },
   "outputs": [],
   "source": [
    "hist = M.fit_generator(gen, steps_per_epoch=2, epochs=2)"
   ]
  },
  {
   "cell_type": "markdown",
   "metadata": {},
   "source": [
    "prediction_model = get_prediction_model()\n",
    "trainable_model = get_trainable_model(prediction_model)\n",
    "trainable_model.compile(optimizer='adam', loss=None)\n",
    "assert len(trainable_model.layers[-1].trainable_weights) == 2  # two log_vars, one for each output\n",
    "assert len(trainable_model.losses) == 1\n",
    "hist = trainable_model.fit([X, Y1, Y2], nb_epoch=nb_epoch, batch_size=batch_size, verbose=0)\n",
    "\n",
    "[np.exp(K.get_value(log_var[0]))**0.5 for log_var in trainable_model.layers[-1].log_vars]"
   ]
  },
  {
   "cell_type": "code",
   "execution_count": null,
   "metadata": {
    "collapsed": true
   },
   "outputs": [],
   "source": []
  },
  {
   "cell_type": "code",
   "execution_count": null,
   "metadata": {
    "ExecuteTime": {
     "end_time": "2018-05-26T01:08:37.572870Z",
     "start_time": "2018-05-26T01:08:37.552924Z"
    },
    "collapsed": true
   },
   "outputs": [],
   "source": [
    "importlib.reload(config)\n",
    "importlib.reload(hf)\n",
    "importlib.reload(cbuild)\n",
    "importlib.reload(crun)\n",
    "C = config.Config('etiology')\n",
    "T = config.Hyperparams()\n",
    "T.get_best_hyperparams()\n",
    "T.epochs = 30\n",
    "T.steps_per_epoch = 300"
   ]
  },
  {
   "cell_type": "code",
   "execution_count": null,
   "metadata": {
    "ExecuteTime": {
     "start_time": "2018-05-21T19:36:55.197Z"
    },
    "collapsed": true
   },
   "outputs": [],
   "source": [
    "importlib.reload(cbuild)\n",
    "importlib.reload(dqna)\n",
    "#dqn_generator = cbuild._train_gen_dqn([])\n",
    "agent = dqna.train_dqn(dqn_generator, agent)"
   ]
  },
  {
   "cell_type": "code",
   "execution_count": null,
   "metadata": {
    "collapsed": true
   },
   "outputs": [],
   "source": [
    "agent.cls_model.fit(cls_generator)"
   ]
  },
  {
   "cell_type": "code",
   "execution_count": null,
   "metadata": {
    "ExecuteTime": {
     "end_time": "2018-05-21T03:15:14.525488Z",
     "start_time": "2018-05-21T03:15:14.521478Z"
    },
    "collapsed": true
   },
   "outputs": [],
   "source": [
    "T.padding = ['same', 'same']\n",
    "T.pool_sizes = [(2,2,2),(2,2,2)]\n",
    "T.f = [64,64,64,64,64,64,64]\n",
    "T.skip_con = True\n",
    "T.epochs = 20"
   ]
  },
  {
   "cell_type": "code",
   "execution_count": null,
   "metadata": {
    "ExecuteTime": {
     "end_time": "2018-05-19T21:34:45.693522Z",
     "start_time": "2018-05-19T21:34:45.678482Z"
    },
    "collapsed": true
   },
   "outputs": [],
   "source": [
    "drm.dcm2npy_batch(acc_nums=[\"E100113043\"])\n",
    "#vm.reset_accnum('E105464882')"
   ]
  },
  {
   "cell_type": "code",
   "execution_count": null,
   "metadata": {
    "ExecuteTime": {
     "end_time": "2018-04-29T19:22:14.662640Z",
     "start_time": "2018-04-29T19:22:14.527783Z"
    },
    "collapsed": true
   },
   "outputs": [],
   "source": [
    "vm.plot_check(2, \"E102088195\");"
   ]
  },
  {
   "cell_type": "code",
   "execution_count": null,
   "metadata": {
    "ExecuteTime": {
     "end_time": "2018-05-02T04:11:27.139653Z",
     "start_time": "2018-05-02T04:11:26.670940Z"
    },
    "collapsed": true
   },
   "outputs": [],
   "source": [
    "vm.xref_dirs_with_excel()"
   ]
  },
  {
   "cell_type": "code",
   "execution_count": null,
   "metadata": {
    "ExecuteTime": {
     "end_time": "2018-05-02T13:53:09.930757Z",
     "start_time": "2018-05-02T04:11:28.356875Z"
    },
    "collapsed": true
   },
   "outputs": [],
   "source": [
    "crun.run_fixed_hyperparams([C], hyperparams=T)#C_list)"
   ]
  },
  {
   "cell_type": "code",
   "execution_count": null,
   "metadata": {
    "ExecuteTime": {
     "end_time": "2018-05-22T15:18:23.881939Z",
     "start_time": "2018-05-22T15:18:20.054251Z"
    },
    "collapsed": true
   },
   "outputs": [],
   "source": [
    "importlib.reload(cbuild)\n",
    "model = cbuild.build_cnn_hyperparams(T)\n",
    "model.summary(line_length=120)"
   ]
  },
  {
   "cell_type": "code",
   "execution_count": null,
   "metadata": {
    "ExecuteTime": {
     "end_time": "2018-05-21T21:56:12.245374Z",
     "start_time": "2018-05-21T21:33:39.982268Z"
    },
    "collapsed": true
   },
   "outputs": [],
   "source": [
    "importlib.reload(cbuild)\n",
    "#Z_reader = ['E103312835_1','12823036_0','12569915_0','E102093118_0','E102782525_0','12799652_0','E100894274_0','12874178_3','E100314676_0','12842070_0','13092836_2','12239783_0','12783467_0','13092966_0','E100962970_0','E100183257_1','E102634440_0','E106182827_0','12582632_0','E100121654_0','E100407633_0','E105310461_0','12788616_0','E101225606_0','12678910_1','E101083458_1','12324408_0','13031955_0','E101415263_0','E103192914_0','12888679_2','E106096969_0','E100192709_1','13112385_1','E100718398_0','12207268_0','E105244287_0','E102095465_0','E102613189_0','12961059_0','11907521_0','E105311123_0','12552705_0','E100610622_0','12975280_0','E105918926_0','E103020139_1','E101069048_1','E105427046_0','13028374_0','E100262351_0','12302576_0','12451831_0','E102929168_0','E100383453_0','E105344747_0','12569826_0','E100168661_0','12530153_0','E104697262_0']\n",
    "X_test, Y_test, train_generator, num_samples, train_orig, Z = cbuild.get_cnn_data(n=4)#, Z_test_fixed=Z_reader)\n",
    "Z_test, Z_train_orig = Z\n",
    "X_train_orig, Y_train_orig = train_orig\n",
    "hist = model.fit_generator(train_generator, steps_per_epoch=T.steps_per_epoch, epochs=T.epochs, validation_data=[X_test, Y_test])#, callbacks=[T.early_stopping])"
   ]
  },
  {
   "cell_type": "code",
   "execution_count": null,
   "metadata": {
    "ExecuteTime": {
     "end_time": "2018-05-12T15:42:30.363207Z",
     "start_time": "2018-05-12T15:42:29.920558Z"
    },
    "collapsed": true
   },
   "outputs": [],
   "source": [
    "model.save(join(C.model_dir, \"model_.hdf5\"))"
   ]
  },
  {
   "cell_type": "code",
   "execution_count": null,
   "metadata": {
    "ExecuteTime": {
     "end_time": "2018-05-10T22:46:55.730496Z",
     "start_time": "2018-05-10T22:46:55.703429Z"
    },
    "collapsed": true
   },
   "outputs": [],
   "source": [
    "model.predict(X_train_orig[20:40])"
   ]
  },
  {
   "cell_type": "code",
   "execution_count": null,
   "metadata": {
    "ExecuteTime": {
     "end_time": "2018-05-10T22:44:57.324854Z",
     "start_time": "2018-05-10T22:44:57.319840Z"
    },
    "collapsed": true
   },
   "outputs": [],
   "source": [
    "Y_train_orig[:20]"
   ]
  },
  {
   "cell_type": "code",
   "execution_count": null,
   "metadata": {
    "collapsed": true
   },
   "outputs": [],
   "source": [
    "hist = model.fit_generator(train_generator, steps_per_epoch=T.steps_per_epoch, epochs=T.epochs, validation_data=[X_test, Y_test])#, callbacks=[T.early_stopping])"
   ]
  },
  {
   "cell_type": "code",
   "execution_count": null,
   "metadata": {
    "collapsed": true
   },
   "outputs": [],
   "source": [
    "#plot_with_bbox(fn_list[2], cls_mapping[wrong_guesses[2]])\n",
    "Y_pred = model.predict(X_test)\n",
    "y_true = np.array([max(enumerate(x), key=operator.itemgetter(1))[0] for x in Y_test])\n",
    "y_pred = np.array([max(enumerate(x), key=operator.itemgetter(1))[0] for x in Y_pred])\n",
    "\n",
    "cm = confusion_matrix(y_true, y_pred)\n",
    "f1 = f1_score(y_true, y_pred, average=\"weighted\")\n",
    "\n",
    "#save_output(Z_test, y_pred, y_true)\n",
    "\n",
    "print(accuracy_score(y_true, y_pred))\n",
    "#y_true_simp, y_pred_simp, _ = cnna.merge_classes(y_true, y_pred)\n",
    "#print(accuracy_score(y_true_simp, y_pred_simp))"
   ]
  }
 ],
 "metadata": {
  "kernelspec": {
   "display_name": "Python 3",
   "language": "python",
   "name": "python3"
  },
  "language_info": {
   "codemirror_mode": {
    "name": "ipython",
    "version": 3
   },
   "file_extension": ".py",
   "mimetype": "text/x-python",
   "name": "python",
   "nbconvert_exporter": "python",
   "pygments_lexer": "ipython3",
   "version": "3.5.0"
  },
  "varInspector": {
   "cols": {
    "lenName": 16,
    "lenType": 16,
    "lenVar": 40
   },
   "kernels_config": {
    "python": {
     "delete_cmd_postfix": "",
     "delete_cmd_prefix": "del ",
     "library": "var_list.py",
     "varRefreshCmd": "print(var_dic_list())"
    },
    "r": {
     "delete_cmd_postfix": ") ",
     "delete_cmd_prefix": "rm(",
     "library": "var_list.r",
     "varRefreshCmd": "cat(var_dic_list()) "
    }
   },
   "types_to_exclude": [
    "module",
    "function",
    "builtin_function_or_method",
    "instance",
    "_Feature"
   ],
   "window_display": false
  }
 },
 "nbformat": 4,
 "nbformat_minor": 2
}
