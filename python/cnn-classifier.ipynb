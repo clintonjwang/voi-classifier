{
 "cells": [
  {
   "cell_type": "code",
   "execution_count": null,
   "metadata": {
    "ExecuteTime": {
     "end_time": "2018-05-25T19:17:33.930135Z",
     "start_time": "2018-05-25T19:17:31.542491Z"
    },
    "collapsed": true
   },
   "outputs": [],
   "source": [
    "import copy\n",
    "import csv\n",
    "import glob\n",
    "import importlib\n",
    "import itertools\n",
    "import operator\n",
    "import os\n",
    "import random\n",
    "import time\n",
    "from math import exp, log, pi, sqrt\n",
    "from os.path import *\n",
    "\n",
    "import keras.layers as layers\n",
    "import keras.models\n",
    "import matplotlib.pyplot as plt\n",
    "import numpy as np\n",
    "import pandas as pd\n",
    "import scipy\n",
    "from keras import backend as K\n",
    "from keras.callbacks import EarlyStopping\n",
    "from keras.models import Model\n",
    "from keras.optimizers import Adam\n",
    "from keras.utils import np_utils\n",
    "from numba import njit\n",
    "from sklearn.metrics import accuracy_score, confusion_matrix, f1_score\n",
    "\n",
    "import cnn_builder as cbuild\n",
    "import cnn_runner as crun\n",
    "import config\n",
    "import ddpg.learning_nets as ln\n",
    "import ddpg.task_nets as tn\n",
    "import dr_methods as drm\n",
    "import feature_interpretation as cnna\n",
    "import seg_methods as sm\n",
    "import niftiutils.helper_fxns as hf\n",
    "import niftiutils.transforms as tr\n",
    "import voi_methods as vm\n",
    "\n",
    "%matplotlib inline\n",
    "np.set_printoptions(4)"
   ]
  },
  {
   "cell_type": "code",
   "execution_count": 174,
   "metadata": {
    "ExecuteTime": {
     "end_time": "2018-05-26T02:27:29.112534Z",
     "start_time": "2018-05-26T02:27:24.045601Z"
    },
    "scrolled": true
   },
   "outputs": [],
   "source": [
    "importlib.reload(tn)\n",
    "M = tn.get_trainable_model()\n",
    "M.compile(optimizer='adam', loss=None)"
   ]
  },
  {
   "cell_type": "code",
   "execution_count": null,
   "metadata": {
    "ExecuteTime": {
     "end_time": "2018-05-26T02:22:24.985867Z",
     "start_time": "2018-05-26T02:22:24.977887Z"
    },
    "collapsed": true
   },
   "outputs": [],
   "source": [
    "M.summary(120)"
   ]
  },
  {
   "cell_type": "code",
   "execution_count": 175,
   "metadata": {
    "ExecuteTime": {
     "end_time": "2018-05-26T02:27:29.262136Z",
     "start_time": "2018-05-26T02:27:29.256123Z"
    },
    "collapsed": true
   },
   "outputs": [],
   "source": [
    "importlib.reload(cbuild)\n",
    "gen = cbuild._train_gen_unet()"
   ]
  },
  {
   "cell_type": "code",
   "execution_count": null,
   "metadata": {
    "ExecuteTime": {
     "end_time": "2018-05-26T02:31:46.409791Z",
     "start_time": "2018-05-26T02:27:29.408715Z"
    },
    "collapsed": true
   },
   "outputs": [],
   "source": [
    "hist = M.fit_generator(gen, steps_per_epoch=10, epochs=10)"
   ]
  },
  {
   "cell_type": "markdown",
   "metadata": {
    "ExecuteTime": {
     "end_time": "2018-05-25T19:19:37.306545Z",
     "start_time": "2018-05-25T19:19:37.253622Z"
    }
   },
   "source": [
    "[np.exp(K.get_value(log_var[0]))**0.5 for log_var in M.layers[-1].log_vars]"
   ]
  },
  {
   "cell_type": "markdown",
   "metadata": {},
   "source": [
    "prediction_model = get_prediction_model()\n",
    "trainable_model = get_trainable_model(prediction_model)\n",
    "trainable_model.compile(optimizer='adam', loss=None)\n",
    "assert len(trainable_model.layers[-1].trainable_weights) == 2  # two log_vars, one for each output\n",
    "assert len(trainable_model.losses) == 1\n",
    "hist = trainable_model.fit([X, Y1, Y2], nb_epoch=nb_epoch, batch_size=batch_size, verbose=0)\n",
    "\n",
    "[np.exp(K.get_value(log_var[0]))**0.5 for log_var in trainable_model.layers[-1].log_vars]"
   ]
  },
  {
   "cell_type": "code",
   "execution_count": null,
   "metadata": {
    "collapsed": true
   },
   "outputs": [],
   "source": []
  },
  {
   "cell_type": "code",
   "execution_count": 78,
   "metadata": {
    "ExecuteTime": {
     "end_time": "2018-05-26T01:08:37.572870Z",
     "start_time": "2018-05-26T01:08:37.552924Z"
    },
    "collapsed": true
   },
   "outputs": [],
   "source": [
    "importlib.reload(config)\n",
    "importlib.reload(hf)\n",
    "importlib.reload(cbuild)\n",
    "importlib.reload(crun)\n",
    "C = config.Config('etiology')\n",
    "T = config.Hyperparams()\n",
    "T.get_best_hyperparams()\n",
    "T.epochs = 30\n",
    "T.steps_per_epoch = 300"
   ]
  },
  {
   "cell_type": "code",
   "execution_count": null,
   "metadata": {
    "ExecuteTime": {
     "start_time": "2018-05-21T19:36:55.197Z"
    },
    "collapsed": true
   },
   "outputs": [],
   "source": [
    "importlib.reload(cbuild)\n",
    "importlib.reload(dqna)\n",
    "#dqn_generator = cbuild._train_gen_dqn([])\n",
    "agent = dqna.train_dqn(dqn_generator, agent)"
   ]
  },
  {
   "cell_type": "code",
   "execution_count": null,
   "metadata": {
    "collapsed": true
   },
   "outputs": [],
   "source": [
    "agent.cls_model.fit(cls_generator)"
   ]
  },
  {
   "cell_type": "code",
   "execution_count": 9,
   "metadata": {
    "ExecuteTime": {
     "end_time": "2018-05-21T03:15:14.525488Z",
     "start_time": "2018-05-21T03:15:14.521478Z"
    },
    "collapsed": true
   },
   "outputs": [],
   "source": [
    "T.padding = ['same', 'same']\n",
    "T.pool_sizes = [(2,2,2),(2,2,2)]\n",
    "T.f = [64,64,64,64,64,64,64]\n",
    "T.skip_con = True\n",
    "T.epochs = 20"
   ]
  },
  {
   "cell_type": "code",
   "execution_count": null,
   "metadata": {
    "ExecuteTime": {
     "end_time": "2018-05-19T21:34:45.693522Z",
     "start_time": "2018-05-19T21:34:45.678482Z"
    },
    "collapsed": true
   },
   "outputs": [],
   "source": [
    "drm.dcm2npy_batch(acc_nums=[\"E100113043\"])\n",
    "#vm.reset_accnum('E105464882')"
   ]
  },
  {
   "cell_type": "code",
   "execution_count": null,
   "metadata": {
    "ExecuteTime": {
     "end_time": "2018-04-29T19:22:14.662640Z",
     "start_time": "2018-04-29T19:22:14.527783Z"
    },
    "collapsed": true
   },
   "outputs": [],
   "source": [
    "vm.plot_check(2, \"E102088195\");"
   ]
  },
  {
   "cell_type": "code",
   "execution_count": null,
   "metadata": {
    "ExecuteTime": {
     "end_time": "2018-05-02T04:11:27.139653Z",
     "start_time": "2018-05-02T04:11:26.670940Z"
    },
    "collapsed": true
   },
   "outputs": [],
   "source": [
    "vm.xref_dirs_with_excel()"
   ]
  },
  {
   "cell_type": "code",
   "execution_count": null,
   "metadata": {
    "ExecuteTime": {
     "end_time": "2018-05-02T13:53:09.930757Z",
     "start_time": "2018-05-02T04:11:28.356875Z"
    },
    "collapsed": true
   },
   "outputs": [],
   "source": [
    "crun.run_fixed_hyperparams([C], hyperparams=T)#C_list)"
   ]
  },
  {
   "cell_type": "code",
   "execution_count": null,
   "metadata": {
    "ExecuteTime": {
     "end_time": "2018-05-22T15:18:23.881939Z",
     "start_time": "2018-05-22T15:18:20.054251Z"
    },
    "collapsed": true
   },
   "outputs": [],
   "source": [
    "importlib.reload(cbuild)\n",
    "model = cbuild.build_cnn_hyperparams(T)\n",
    "model.summary(line_length=120)"
   ]
  },
  {
   "cell_type": "code",
   "execution_count": null,
   "metadata": {
    "ExecuteTime": {
     "end_time": "2018-05-21T21:56:12.245374Z",
     "start_time": "2018-05-21T21:33:39.982268Z"
    },
    "collapsed": true
   },
   "outputs": [],
   "source": [
    "importlib.reload(cbuild)\n",
    "#Z_reader = ['E103312835_1','12823036_0','12569915_0','E102093118_0','E102782525_0','12799652_0','E100894274_0','12874178_3','E100314676_0','12842070_0','13092836_2','12239783_0','12783467_0','13092966_0','E100962970_0','E100183257_1','E102634440_0','E106182827_0','12582632_0','E100121654_0','E100407633_0','E105310461_0','12788616_0','E101225606_0','12678910_1','E101083458_1','12324408_0','13031955_0','E101415263_0','E103192914_0','12888679_2','E106096969_0','E100192709_1','13112385_1','E100718398_0','12207268_0','E105244287_0','E102095465_0','E102613189_0','12961059_0','11907521_0','E105311123_0','12552705_0','E100610622_0','12975280_0','E105918926_0','E103020139_1','E101069048_1','E105427046_0','13028374_0','E100262351_0','12302576_0','12451831_0','E102929168_0','E100383453_0','E105344747_0','12569826_0','E100168661_0','12530153_0','E104697262_0']\n",
    "X_test, Y_test, train_generator, num_samples, train_orig, Z = cbuild.get_cnn_data(n=4)#, Z_test_fixed=Z_reader)\n",
    "Z_test, Z_train_orig = Z\n",
    "X_train_orig, Y_train_orig = train_orig\n",
    "hist = model.fit_generator(train_generator, steps_per_epoch=T.steps_per_epoch, epochs=T.epochs, validation_data=[X_test, Y_test])#, callbacks=[T.early_stopping])"
   ]
  },
  {
   "cell_type": "code",
   "execution_count": 10,
   "metadata": {
    "ExecuteTime": {
     "end_time": "2018-05-12T15:42:30.363207Z",
     "start_time": "2018-05-12T15:42:29.920558Z"
    },
    "collapsed": true
   },
   "outputs": [],
   "source": [
    "model.save(join(C.model_dir, \"model_.hdf5\"))"
   ]
  },
  {
   "cell_type": "code",
   "execution_count": null,
   "metadata": {
    "ExecuteTime": {
     "end_time": "2018-05-10T22:46:55.730496Z",
     "start_time": "2018-05-10T22:46:55.703429Z"
    },
    "collapsed": true
   },
   "outputs": [],
   "source": [
    "model.predict(X_train_orig[20:40])"
   ]
  },
  {
   "cell_type": "code",
   "execution_count": null,
   "metadata": {
    "ExecuteTime": {
     "end_time": "2018-05-10T22:44:57.324854Z",
     "start_time": "2018-05-10T22:44:57.319840Z"
    },
    "collapsed": true
   },
   "outputs": [],
   "source": [
    "Y_train_orig[:20]"
   ]
  },
  {
   "cell_type": "code",
   "execution_count": null,
   "metadata": {
    "collapsed": true
   },
   "outputs": [],
   "source": [
    "hist = model.fit_generator(train_generator, steps_per_epoch=T.steps_per_epoch, epochs=T.epochs, validation_data=[X_test, Y_test])#, callbacks=[T.early_stopping])"
   ]
  },
  {
   "cell_type": "code",
   "execution_count": null,
   "metadata": {
    "collapsed": true
   },
   "outputs": [],
   "source": [
    "#plot_with_bbox(fn_list[2], cls_mapping[wrong_guesses[2]])\n",
    "Y_pred = model.predict(X_test)\n",
    "y_true = np.array([max(enumerate(x), key=operator.itemgetter(1))[0] for x in Y_test])\n",
    "y_pred = np.array([max(enumerate(x), key=operator.itemgetter(1))[0] for x in Y_pred])\n",
    "\n",
    "cm = confusion_matrix(y_true, y_pred)\n",
    "f1 = f1_score(y_true, y_pred, average=\"weighted\")\n",
    "\n",
    "#save_output(Z_test, y_pred, y_true)\n",
    "\n",
    "print(accuracy_score(y_true, y_pred))\n",
    "#y_true_simp, y_pred_simp, _ = cnna.merge_classes(y_true, y_pred)\n",
    "#print(accuracy_score(y_true_simp, y_pred_simp))"
   ]
  }
 ],
 "metadata": {
  "kernelspec": {
   "display_name": "Python 3",
   "language": "python",
   "name": "python3"
  },
  "language_info": {
   "codemirror_mode": {
    "name": "ipython",
    "version": 3
   },
   "file_extension": ".py",
   "mimetype": "text/x-python",
   "name": "python",
   "nbconvert_exporter": "python",
   "pygments_lexer": "ipython3",
   "version": "3.5.0"
  },
  "varInspector": {
   "cols": {
    "lenName": 16,
    "lenType": 16,
    "lenVar": 40
   },
   "kernels_config": {
    "python": {
     "delete_cmd_postfix": "",
     "delete_cmd_prefix": "del ",
     "library": "var_list.py",
     "varRefreshCmd": "print(var_dic_list())"
    },
    "r": {
     "delete_cmd_postfix": ") ",
     "delete_cmd_prefix": "rm(",
     "library": "var_list.r",
     "varRefreshCmd": "cat(var_dic_list()) "
    }
   },
   "types_to_exclude": [
    "module",
    "function",
    "builtin_function_or_method",
    "instance",
    "_Feature"
   ],
   "window_display": false
  }
 },
 "nbformat": 4,
 "nbformat_minor": 2
}
