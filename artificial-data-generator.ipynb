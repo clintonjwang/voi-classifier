{
 "cells": [
  {
   "cell_type": "code",
   "execution_count": 2,
   "metadata": {
    "collapsed": true
   },
   "outputs": [],
   "source": [
    "import config\n",
    "import copy\n",
    "import helper_fxns as hf\n",
    "import transforms as tr\n",
    "import importlib\n",
    "import math\n",
    "import matplotlib.pyplot as plt\n",
    "import numpy as np\n",
    "import os\n",
    "import pandas as pd\n",
    "import random\n",
    "from scipy.ndimage.filters import gaussian_filter\n",
    "import time\n",
    "%matplotlib inline"
   ]
  },
  {
   "cell_type": "code",
   "execution_count": 3,
   "metadata": {
    "collapsed": true
   },
   "outputs": [],
   "source": [
    "importlib.reload(hf)\n",
    "importlib.reload(tr)\n",
    "importlib.reload(config)\n",
    "C = config.Config()"
   ]
  },
  {
   "cell_type": "code",
   "execution_count": 280,
   "metadata": {
    "collapsed": true
   },
   "outputs": [],
   "source": [
    "n=1500"
   ]
  },
  {
   "cell_type": "code",
   "execution_count": 272,
   "metadata": {
    "scrolled": true
   },
   "outputs": [],
   "source": [
    "gen_imgs(\"cyst\", C.dims, n)"
   ]
  },
  {
   "cell_type": "code",
   "execution_count": 281,
   "metadata": {},
   "outputs": [],
   "source": [
    "#gen_imgs(\"hcc\", C.dims, n)\n",
    "#gen_imgs(\"hemangioma\", C.dims, n)\n",
    "#gen_imgs(\"cholangio\", C.dims, n)\n",
    "gen_imgs(\"colorectal\", C.dims, n)"
   ]
  },
  {
   "cell_type": "markdown",
   "metadata": {},
   "source": [
    "img2 = blur_2d(img, 1.6)\n",
    "hf.plot_section_auto_scan(img2, 0.3)"
   ]
  },
  {
   "cell_type": "markdown",
   "metadata": {},
   "source": [
    "img = gen_hccs(C.dims, 30)[10]\n",
    "hf.plot_section_auto_scan(img, 0.3)"
   ]
  },
  {
   "cell_type": "code",
   "execution_count": 4,
   "metadata": {},
   "outputs": [
    {
     "data": {
      "image/png": "[encoded data removed]",
      "text/plain": [
       "<matplotlib.figure.Figure at 0x20e0fc77320>"
      ]
     },
     "metadata": {},
     "output_type": "display_data"
    }
   ],
   "source": [
    "cls = \"colorectal\"\n",
    "img = np.load(C.artif_dir + cls + \"\\\\artificial_3.npy\")\n",
    "hf.plot_section_auto_scan(img, 0.3)"
   ]
  },
  {
   "cell_type": "code",
   "execution_count": 270,
   "metadata": {
    "collapsed": true
   },
   "outputs": [],
   "source": [
    "def gen_imgs(cls, final_size, n=500):\n",
    "    if cls == \"cyst\":\n",
    "        imgs = gen_cysts(final_size, n)\n",
    "    elif cls == \"hcc\":\n",
    "        imgs = gen_hccs(final_size, n)\n",
    "    elif cls == \"hemangioma\":\n",
    "        imgs = gen_hemangiomas(final_size, n)\n",
    "    elif cls == \"cholangio\":\n",
    "        imgs = gen_cholangios(final_size, n)\n",
    "    elif cls == \"colorectal\":\n",
    "        imgs = gen_colorectals(final_size, n)\n",
    "    \n",
    "    if not os.path.exists(C.artif_dir + cls):\n",
    "        os.makedirs(C.artif_dir + cls)\n",
    "    for cnt, img in enumerate(imgs):\n",
    "        np.save(C.artif_dir + cls + \"\\\\artificial_\" + str(cnt), blur_2d(img, random.uniform(.7, 2.3)))"
   ]
  },
  {
   "cell_type": "code",
   "execution_count": 129,
   "metadata": {
    "collapsed": true
   },
   "outputs": [],
   "source": [
    "def blur_2d(orig_img, sigma):\n",
    "    img = copy.deepcopy(orig_img)\n",
    "    for ch in range(img.shape[3]):\n",
    "        for sl in range(img.shape[2]):\n",
    "            img[:,:,sl,ch] = gaussian_filter(img[:,:,sl,ch], sigma)\n",
    "        \n",
    "    return img"
   ]
  },
  {
   "cell_type": "code",
   "execution_count": 5,
   "metadata": {
    "collapsed": true
   },
   "outputs": [],
   "source": [
    "def add_edge(img, edge_frac=0.2):\n",
    "    final_size = img.shape\n",
    "    edge_slope = random.uniform(-.2, .2)\n",
    "    \n",
    "    edge_choice = random.randint(1, 4)\n",
    "    if edge_choice == 1: #vertical\n",
    "        edge_start = random.uniform(0, final_size[0]*edge_frac)\n",
    "        for y in range(final_size[1]):\n",
    "            img[:max(math.floor(edge_start + edge_slope*y),0), y, :, :] = -1\n",
    "\n",
    "    elif edge_choice == 2:\n",
    "        edge_start = random.uniform(final_size[0]*(1-edge_frac), final_size[0])\n",
    "        for y in range(final_size[1]):\n",
    "            img[math.ceil(edge_start + edge_slope*y):, y, :, :] = -1\n",
    "\n",
    "    elif edge_choice == 3: #horizontal\n",
    "        edge_start = random.uniform(0, final_size[1]*edge_frac)\n",
    "        for x in range(final_size[0]):\n",
    "            img[x, :max(math.floor(edge_start + edge_slope*x),0), :, :] = -1\n",
    "\n",
    "    else:\n",
    "        edge_start = random.uniform(final_size[1]*(1-edge_frac), final_size[1])\n",
    "        for x in range(final_size[0]):\n",
    "            img[x, math.ceil(edge_start + edge_slope*x):, :, :] = -1\n",
    "    \n",
    "    return img"
   ]
  },
  {
   "cell_type": "markdown",
   "metadata": {},
   "source": [
    "# Artificial Cysts"
   ]
  },
  {
   "cell_type": "code",
   "execution_count": 150,
   "metadata": {
    "collapsed": true
   },
   "outputs": [],
   "source": [
    "def gen_cysts(final_size, n):\n",
    "    \"\"\"Generate n images of cysts with dimensions of final_size plus channels defined by the config file.\n",
    "    Should be round and hypointense in all phases.\"\"\"\n",
    "    \n",
    "    shades = [-0.8, -0.8, -0.8]\n",
    "    return gen_round_lesions(shades, final_size, n=n)"
   ]
  },
  {
   "cell_type": "code",
   "execution_count": 233,
   "metadata": {},
   "outputs": [],
   "source": [
    "def gen_round_lesions(shades, final_size, shade_offset=0, n=500):\n",
    "    imgs = []\n",
    "    long_size_frac = [0.7, 0.9]\n",
    "    max_side_ratio = 1.5\n",
    "    noise_std = 0.08\n",
    "    shade_std = 0.05\n",
    "    \n",
    "    side_rat = np.linspace(1/max_side_ratio, max_side_ratio, 8)\n",
    "    side_rat = list(sum(zip(reversed(side_rat), side_rat), ())[:len(side_rat)]) * math.ceil(n/8)\n",
    "    sizes = np.linspace(long_size_frac[0]/max_side_ratio, long_size_frac[1]/max_side_ratio, num=n)\n",
    "    \n",
    "    midx = final_size[0]//2\n",
    "    midy = final_size[1]//2\n",
    "    midz = final_size[2]//2\n",
    "    z_ratio = midy/midz\n",
    "    \n",
    "    for i in range(n):\n",
    "        r = midx * sizes[i]\n",
    "        shade_offset_i = random.uniform(-shade_offset, shade_offset)\n",
    "        shades_i = [shade+random.gauss(0, shade_std)+shade_offset_i for shade in shades]\n",
    "        \n",
    "        img = np.random.normal(scale = noise_std, size = final_size + [C.nb_channels])\n",
    "        for x in range(-math.floor(r), math.floor(r)):\n",
    "            for y in range(-math.floor(r), math.floor(r)):\n",
    "                z = (r**2 - x**2 - (y/side_rat[i])**2)\n",
    "                if z <= 0:\n",
    "                    continue\n",
    "                    \n",
    "                z = int(round(z**(.5)/z_ratio))\n",
    "                \n",
    "                if z > midz:\n",
    "                    z = midz\n",
    "                    \n",
    "                img[x+midx, y+midy, midz-z:midy+z, :] = shades_i\n",
    "        \n",
    "        img += np.random.normal(scale = noise_std, size = final_size + [C.nb_channels])\n",
    "        img = add_edge(img)\n",
    "        \n",
    "        imgs.append(img)\n",
    "        \n",
    "    return imgs"
   ]
  },
  {
   "cell_type": "code",
   "execution_count": 234,
   "metadata": {
    "collapsed": true
   },
   "outputs": [],
   "source": [
    "def gen_shrinking_lesions(shades, final_size, n=500):\n",
    "    \"\"\"Generate n images of hemangiomas with dimensions of final_size plus channels defined by the config file.\n",
    "    Should be hypointense in all phases, but shrink over time.\"\"\"\n",
    "    \n",
    "    imgs = []\n",
    "    long_size_frac = [0.7, 0.9]\n",
    "    max_side_ratio = 1.5\n",
    "    noise_std = 0.08\n",
    "    shade_std = 0.05\n",
    "    \n",
    "    side_rat = np.linspace(1/max_side_ratio, max_side_ratio, 8)\n",
    "    side_rat = list(sum(zip(reversed(side_rat), side_rat), ())[:len(side_rat)]) * math.ceil(n/8)\n",
    "    sizes = np.linspace(long_size_frac[0]/max_side_ratio, long_size_frac[1]/max_side_ratio, num=n)\n",
    "    \n",
    "    midx = final_size[0]//2\n",
    "    midy = final_size[1]//2\n",
    "    midz = final_size[2]//2\n",
    "    z_ratio = midy/midz\n",
    "    shrink_factor = [0.5, 0.8]\n",
    "    \n",
    "    for i in range(n):\n",
    "        r = midx * sizes[i]\n",
    "        rven = r * random.uniform(shrink_factor[0], shrink_factor[1])\n",
    "        req = rven * random.uniform(shrink_factor[0], shrink_factor[1])\n",
    "        shades_i = [shade+random.gauss(0, shade_std) for shade in shades]\n",
    "        \n",
    "        img = np.random.normal(scale = noise_std, size = final_size + [C.nb_channels])\n",
    "        for x in range(-math.floor(r), math.floor(r)):\n",
    "            for y in range(-math.floor(r), math.floor(r)):\n",
    "                for ch, rad in enumerate([r, rven, req]):\n",
    "                    z = (rad**2 - x**2 - (y/side_rat[i])**2)\n",
    "                    if z <= 0:\n",
    "                        continue\n",
    "\n",
    "                    z = int(round(z**(.5)/z_ratio))\n",
    "\n",
    "                    if z > midz:\n",
    "                        z = midz\n",
    "\n",
    "                    img[x+midx, y+midy, midz-z:midy+z, ch] = shades_i[ch]\n",
    "        \n",
    "        img += np.random.normal(scale = noise_std, size = final_size + [C.nb_channels])\n",
    "        img = add_edge(img)\n",
    "                \n",
    "        imgs.append(img)\n",
    "        \n",
    "    return imgs"
   ]
  },
  {
   "cell_type": "code",
   "execution_count": 235,
   "metadata": {},
   "outputs": [],
   "source": [
    "def gen_rimmed_lesions(shades, final_size, rim_shades=[.3, .3, .3], rim_ratio = 0.9, shrink_factor = [1,1], n=500):\n",
    "    \"\"\"Generate n images of hemangiomas with dimensions of final_size plus channels defined by the config file.\n",
    "    Should be hypointense in all phases, but shrink over time.\"\"\"\n",
    "    \n",
    "    imgs = []\n",
    "    long_size_frac = [0.75, 0.95]\n",
    "    max_side_ratio = 1.5\n",
    "    noise_std = 0.08\n",
    "    shade_std = 0.05\n",
    "    \n",
    "    side_rat = np.linspace(1/max_side_ratio, max_side_ratio, 8)\n",
    "    side_rat = list(sum(zip(reversed(side_rat), side_rat), ())[:len(side_rat)]) * math.ceil(n/8)\n",
    "    sizes = np.linspace(long_size_frac[0]/max_side_ratio, long_size_frac[1]/max_side_ratio, num=n)\n",
    "    \n",
    "    midx = final_size[0]//2\n",
    "    midy = final_size[1]//2\n",
    "    midz = final_size[2]//2\n",
    "    z_ratio = midy/midz\n",
    "    \n",
    "    for i in range(n):\n",
    "        r = midx * sizes[i]\n",
    "        r_core = r * rim_ratio\n",
    "        rven = r_core * random.uniform(shrink_factor[0], shrink_factor[1])\n",
    "        req = rven * random.uniform(shrink_factor[0], shrink_factor[1])\n",
    "        \n",
    "        shades_i = [shade+random.gauss(0, shade_std) for shade in shades]\n",
    "        \n",
    "        img = np.random.normal(scale = noise_std, size = final_size + [C.nb_channels])\n",
    "        for x in range(-math.floor(r), math.floor(r)):\n",
    "            for y in range(-math.floor(r), math.floor(r)):\n",
    "                z = (r**2 - x**2 - (y/side_rat[i])**2)\n",
    "                if z <= 0:\n",
    "                    continue\n",
    "                    \n",
    "                z = int(round(z**(.5)/z_ratio))\n",
    "                \n",
    "                if z > midz:\n",
    "                    z = midz\n",
    "                    \n",
    "                img[x+midx, y+midy, midz-z:midy+z, :] = rim_shades\n",
    "                \n",
    "                for ch, rad in enumerate([r_core, rven, req]):\n",
    "                    z = (rad**2 - x**2 - (y/side_rat[i])**2)\n",
    "                    if z <= 0:\n",
    "                        continue\n",
    "\n",
    "                    z = int(round(z**(.5)/z_ratio))\n",
    "\n",
    "                    if z > midz:\n",
    "                        z = midz\n",
    "\n",
    "                    img[x+midx, y+midy, midz-z:midy+z, ch] = shades_i[ch]\n",
    "        \n",
    "        img += np.random.normal(scale = noise_std, size = final_size + [C.nb_channels])\n",
    "        img = add_edge(img)\n",
    "                \n",
    "        imgs.append(img)\n",
    "        \n",
    "    return imgs"
   ]
  },
  {
   "cell_type": "code",
   "execution_count": 236,
   "metadata": {
    "collapsed": true
   },
   "outputs": [],
   "source": [
    "def gen_heterogen_lesions(shades, final_size, rim_shades=[.3, .3, .3], rim_ratio = 0.9, shrink_factor = [1,1], n=500):\n",
    "    \"\"\"Generate n images of hemangiomas with dimensions of final_size plus channels defined by the config file.\n",
    "    Should be hypointense in all phases, but shrink over time.\"\"\"\n",
    "    \n",
    "    imgs = []\n",
    "    long_size_frac = [0.75, 0.95]\n",
    "    max_side_ratio = 1.5\n",
    "    noise_std = 0.08\n",
    "    shade_std = 0.05\n",
    "    \n",
    "    side_rat = np.linspace(1/max_side_ratio, max_side_ratio, 8)\n",
    "    side_rat = list(sum(zip(reversed(side_rat), side_rat), ())[:len(side_rat)]) * math.ceil(n/8)\n",
    "    sizes = np.linspace(long_size_frac[0]/max_side_ratio, long_size_frac[1]/max_side_ratio, num=n)\n",
    "    \n",
    "    midx = final_size[0]//2\n",
    "    midy = final_size[1]//2\n",
    "    midz = final_size[2]//2\n",
    "    z_ratio = midy/midz\n",
    "    spread = 2\n",
    "    \n",
    "    for i in range(n):\n",
    "        r = midx * sizes[i]\n",
    "        r_core = r * rim_ratio\n",
    "        rven = r_core * random.uniform(shrink_factor[0], shrink_factor[1])\n",
    "        req = rven * random.uniform(shrink_factor[0], shrink_factor[1])\n",
    "        \n",
    "        shades_i = [shade+random.gauss(0, shade_std) for shade in shades]\n",
    "        rim_shades_i = [rim_shade+random.gauss(0, shade_std) for rim_shade in rim_shades]\n",
    "        \n",
    "        img = np.random.normal(scale = noise_std, size = final_size + [C.nb_channels])\n",
    "        for x in range(-math.floor(r), math.floor(r)):\n",
    "            for y in range(-math.floor(r), math.floor(r)):\n",
    "                z = (r**2 - x**2 - (y/side_rat[i])**2)\n",
    "                if z <= 0:\n",
    "                    continue\n",
    "                    \n",
    "                z = int(round(z**(.5)/z_ratio))\n",
    "                \n",
    "                if z > midz:\n",
    "                    z = midz\n",
    "                    \n",
    "                img[x+midx, y+midy, midz-z:midy+z, :] = rim_shades\n",
    "                \n",
    "                if random.random() < 0.8:\n",
    "                    z = (r_core**2 - x**2 - (y/side_rat[i])**2)\n",
    "                    if z <= 0:\n",
    "                        continue\n",
    "                    z = int(round(z**(.5)/z_ratio))\n",
    "                    if z > midz:\n",
    "                        z = midz\n",
    "                        \n",
    "                    img[x+midx, y+midy, midz-z:midy+z, :] = rim_shades_i\n",
    "                    \n",
    "                elif random.random() < 0.5:\n",
    "                    for ch, rad in enumerate([r_core, rven, req]):\n",
    "                        z = (rad**2 - x**2 - (y/side_rat[i])**2)\n",
    "                        if z <= 0:\n",
    "                            continue\n",
    "                        z = int(round(z**(.5)/z_ratio))\n",
    "                        if z > midz:\n",
    "                            z = midz\n",
    "                            \n",
    "                        img[x+midx-spread:x+midx+spread, y+midy-spread:y+midy+spread, midz-z:midy+z, ch] = shades_i[ch]\n",
    "                        \n",
    "                else:\n",
    "                    for ch, rad in enumerate([r_core, rven, req]):\n",
    "                        z = (rad**2 - x**2 - (y/side_rat[i])**2)\n",
    "                        if z <= 0:\n",
    "                            continue\n",
    "                        z = int(round(z**(.5)/z_ratio))\n",
    "                        if z > midz:\n",
    "                            z = midz\n",
    "                            \n",
    "                        img[x+midx, y+midy, midz-z:midy+z, ch] = shades_i[ch]\n",
    "        \n",
    "        img += np.random.normal(scale = noise_std, size = final_size + [C.nb_channels])\n",
    "        img = add_edge(img)\n",
    "                \n",
    "        imgs.append(img)\n",
    "        \n",
    "    return imgs"
   ]
  },
  {
   "cell_type": "code",
   "execution_count": 237,
   "metadata": {
    "collapsed": true
   },
   "outputs": [],
   "source": [
    "def gen_hccs(final_size, n):\n",
    "    \"\"\"Generate n images of hccs with dimensions of final_size plus channels defined by the config file.\n",
    "    Should be round, enhancing in arterial, with washout in venous and delayed.\"\"\"\n",
    "    \n",
    "    shades = [0.2, -0.2, -0.15]\n",
    "    shade_offset = 0.1\n",
    "    return gen_round_lesions(shades, final_size, shade_offset=shade_offset, n=n)"
   ]
  },
  {
   "cell_type": "code",
   "execution_count": 278,
   "metadata": {},
   "outputs": [],
   "source": [
    "def gen_hemangiomas(final_size, n):\n",
    "    \"\"\"Generate n images of hccs with dimensions of final_size plus channels defined by the config file.\n",
    "    Should be round, enhancing in arterial, with washout in venous and delayed.\"\"\"\n",
    "    \n",
    "    shades = [-0.8, -0.8, -0.8]\n",
    "    return gen_rimmed_lesions(shades, final_size, rim_shades=[0.1, 0.15, 0.15], shrink_factor=[0.5, 0.8], rim_ratio=1.01, n=n)"
   ]
  },
  {
   "cell_type": "code",
   "execution_count": 239,
   "metadata": {
    "collapsed": true
   },
   "outputs": [],
   "source": [
    "def gen_cholangios(final_size, n):\n",
    "    \"\"\"Generate n images of cysts with dimensions of final_size plus channels defined by the config file.\n",
    "    Mass-forming should have irregular, ragged rim enhancement with gradual centripetal enhancement.\"\"\"\n",
    "    \n",
    "    shades = [-0.6, -0.5, -0.4]\n",
    "    return gen_heterogen_lesions(shades, final_size, shrink_factor=[.7, .9], rim_ratio=0.92, n=n)\n",
    "    #return gen_rimmed_lesions(shades, final_size, shrink_factor=[.85, .95], rim_ratio=0.93)"
   ]
  },
  {
   "cell_type": "code",
   "execution_count": 279,
   "metadata": {
    "collapsed": true
   },
   "outputs": [],
   "source": [
    "def gen_colorectals(final_size, n):\n",
    "    \"\"\"Generate n images of cysts with dimensions of final_size plus channels defined by the config file.\n",
    "    Should be hypointense in all phases (necrotic core) with an enhancing rim. Sometimes enhances or shrinks over time(?)\"\"\"\n",
    "    \n",
    "    shades = [-0.5, -0.5, -0.45]\n",
    "    return gen_rimmed_lesions(shades, final_size, rim_shades=[.5,.35,.35], shrink_factor=[.85, .95], rim_ratio=0.86, n=n)"
   ]
  },
  {
   "cell_type": "markdown",
   "metadata": {},
   "source": [
    "# Artificial FNH"
   ]
  },
  {
   "cell_type": "code",
   "execution_count": null,
   "metadata": {
    "collapsed": true
   },
   "outputs": [],
   "source": [
    "def gen_fnhs(shades, final_size, n):\n",
    "    \"\"\"Generate n images of cysts with dimensions of final_size plus channels defined by the config file.\n",
    "    Should be hypointense in all phases (necrotic core) with an enhancing rim.\"\"\"\n",
    "    \n",
    "    shades = [-0.5, -0.5, -0.5]\n",
    "    return gen_rimmed_lesions(shades, final_size, n)"
   ]
  },
  {
   "cell_type": "code",
   "execution_count": null,
   "metadata": {
    "collapsed": true
   },
   "outputs": [],
   "source": []
  }
 ],
 "metadata": {
  "kernelspec": {
   "display_name": "Python 3",
   "language": "python",
   "name": "python3"
  },
  "language_info": {
   "codemirror_mode": {
    "name": "ipython",
    "version": 3
   },
   "file_extension": ".py",
   "mimetype": "text/x-python",
   "name": "python",
   "nbconvert_exporter": "python",
   "pygments_lexer": "ipython3",
   "version": "3.5.0"
  }
 },
 "nbformat": 4,
 "nbformat_minor": 2
}
