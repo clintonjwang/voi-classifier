{
 "cells": [
  {
   "cell_type": "code",
   "execution_count": 1,
   "metadata": {},
   "outputs": [],
   "source": [
    "import artif_gen_methods as agm\n",
    "import config\n",
    "import helper_fxns as hf\n",
    "import importlib\n",
    "import matplotlib.pyplot as plt\n",
    "%matplotlib inline"
   ]
  },
  {
   "cell_type": "code",
   "execution_count": 112,
   "metadata": {
    "scrolled": true
   },
   "outputs": [],
   "source": [
    "importlib.reload(hf)\n",
    "importlib.reload(config)\n",
    "importlib.reload(agm)\n",
    "C = config.Config()"
   ]
  },
  {
   "cell_type": "code",
   "execution_count": 57,
   "metadata": {
    "collapsed": true
   },
   "outputs": [],
   "source": [
    "n = 1500"
   ]
  },
  {
   "cell_type": "code",
   "execution_count": 58,
   "metadata": {
    "collapsed": true
   },
   "outputs": [],
   "source": [
    "# hemangiomas add nodular enhancement, including in arterial; may fill in completely\n",
    "# cholangios add variation in amount of enhancement over time\n",
    "# irregular shapes\n",
    "# different scales between planes\n",
    "\n",
    "#agm.gen_imgs(\"cyst\", C, n)\n",
    "#agm.gen_imgs(\"hcc\", C, n)\n",
    "#agm.gen_imgs(\"hemangioma\", C, n)\n",
    "agm.gen_imgs(\"cholangio\", C, n)\n",
    "#agm.gen_imgs(\"colorectal\", C, n)\n",
    "#agm.gen_imgs(\"fnh\", C, n)"
   ]
  },
  {
   "cell_type": "code",
   "execution_count": 161,
   "metadata": {
    "scrolled": false
   },
   "outputs": [
    {
     "data": {
      "image/png": "[encoded data removed]",
      "text/plain": [
       "<matplotlib.figure.Figure at 0x1f8ed558438>"
      ]
     },
     "metadata": {},
     "output_type": "display_data"
    }
   ],
   "source": [
    "img = agm.gen_cholangios(C, 30)[12]\n",
    "img = agm.post_process_img(img, C)\n",
    "hf.plot_section_auto(img, normalize=True)"
   ]
  },
  {
   "cell_type": "code",
   "execution_count": 156,
   "metadata": {
    "scrolled": true
   },
   "outputs": [
    {
     "data": {
      "image/png": "[encoded data removed]",
      "text/plain": [
       "<matplotlib.figure.Figure at 0x1f8ed2fc5c0>"
      ]
     },
     "metadata": {},
     "output_type": "display_data"
    }
   ],
   "source": [
    "img = agm.gen_hemangiomas(C, 30)[12]\n",
    "img = agm.post_process_img(img, C)\n",
    "hf.plot_section_auto(img, normalize=True)"
   ]
  },
  {
   "cell_type": "code",
   "execution_count": null,
   "metadata": {
    "collapsed": true
   },
   "outputs": [],
   "source": [
    "cls = \"fnh\"\n",
    "img = np.load(C.artif_dir + cls + \"\\\\artificial_150.npy\")\n",
    "hf.plot_section_auto_scan(img, 0.3)"
   ]
  },
  {
   "cell_type": "code",
   "execution_count": null,
   "metadata": {
    "collapsed": true
   },
   "outputs": [],
   "source": []
  }
 ],
 "metadata": {
  "kernelspec": {
   "display_name": "Python 3",
   "language": "python",
   "name": "python3"
  },
  "language_info": {
   "codemirror_mode": {
    "name": "ipython",
    "version": 3
   },
   "file_extension": ".py",
   "mimetype": "text/x-python",
   "name": "python",
   "nbconvert_exporter": "python",
   "pygments_lexer": "ipython3",
   "version": "3.5.0"
  }
 },
 "nbformat": 4,
 "nbformat_minor": 2
}
