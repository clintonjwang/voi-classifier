{
 "cells": [
  {
   "cell_type": "markdown",
   "metadata": {},
   "source": [
    "Retrieves images from \"raw_imgs\" folder and stores them in \"full_imgs\". Retrieves spreadsheet listing VOIs and stores them in text file."
   ]
  },
  {
   "cell_type": "code",
   "execution_count": 1,
   "metadata": {
    "collapsed": true
   },
   "outputs": [],
   "source": [
    "import helper_fxns as hf\n",
    "import transforms as tr\n",
    "import importlib\n",
    "import matplotlib.pyplot as plt\n",
    "import numpy as np\n",
    "import os\n",
    "import pandas as pd\n",
    "import pyelastix\n",
    "import requests\n",
    "import sys\n",
    "import time\n",
    "%matplotlib inline"
   ]
  },
  {
   "cell_type": "code",
   "execution_count": 2,
   "metadata": {
    "scrolled": true
   },
   "outputs": [
    {
     "data": {
      "text/plain": [
       "<module 'transforms' from 'C:\\\\Users\\\\Clinton\\\\Documents\\\\liver-mr-processor\\\\transforms.py'>"
      ]
     },
     "execution_count": 2,
     "metadata": {},
     "output_type": "execute_result"
    }
   ],
   "source": [
    "importlib.reload(hf)\n",
    "importlib.reload(tr)"
   ]
  },
  {
   "cell_type": "code",
   "execution_count": 2,
   "metadata": {
    "collapsed": true
   },
   "outputs": [],
   "source": [
    "def reg_imgs(moving, fixed, params, rescale_only=False):    \n",
    "    fshape = fixed.shape\n",
    "    mshape = moving.shape\n",
    "    scale = [fshape[i]/mshape[i] for i in range(3)]\n",
    "    moving = tr.scale3d(moving, scale)\n",
    "    \n",
    "    assert moving.shape == fixed.shape, (\"Shapes not aligned in reg_imgs\", moving.shape, fixed.shape)\n",
    "    \n",
    "    if not rescale_only:\n",
    "        moving = np.ascontiguousarray(moving).astype('float32')\n",
    "        fixed = np.ascontiguousarray(fixed).astype('float32')\n",
    "\n",
    "        moving, _ = pyelastix.register(moving, fixed, params, verbose=0)\n",
    "        _, field = pyelastix.register(fixed, moving, params, verbose=0)\n",
    "    \n",
    "    else:\n",
    "        field = [np.zeros(fixed.shape)]*3\n",
    "        \n",
    "    return moving, scale, field"
   ]
  },
  {
   "cell_type": "code",
   "execution_count": 3,
   "metadata": {
    "collapsed": true
   },
   "outputs": [],
   "source": [
    "def scale_rois(x, y, z, pre_reg_scale, field=None, post_reg_scale=None):\n",
    "    scale = pre_reg_scale\n",
    "    x = (round(x[0]*scale[0]), round(x[1]*scale[0]))\n",
    "    y = (round(y[0]*scale[1]), round(y[1]*scale[1]))\n",
    "    z = (round(z[0]*scale[2]), round(z[1]*scale[2]))\n",
    "    \n",
    "    if field is not None:\n",
    "        xroi_distortions = field[0][x[0]:x[1]+1, y[0]:y[1]+1, z[0]:z[1]+1]\n",
    "        yroi_distortions = field[1][x[0]:x[1]+1, y[0]:y[1]+1, z[0]:z[1]+1]\n",
    "        zroi_distortions = field[2][x[0]:x[1]+1, y[0]:y[1]+1, z[0]:z[1]+1]\n",
    "\n",
    "        x = (x[0] + int(np.amin(xroi_distortions[0,:,:])), x[1] + int(np.amax(xroi_distortions[-1,:,:])))\n",
    "        y = (y[0] + int(np.amin(yroi_distortions[:,0,:])), y[1] + int(np.amax(yroi_distortions[:,-1,:])))\n",
    "        z = (z[0] + int(np.amin(zroi_distortions[:,:,0])), z[1] + int(np.amax(zroi_distortions[:,:,-1])))\n",
    "    \n",
    "        scale = post_reg_scale\n",
    "        x = (round(x[0]*scale[0]), round(x[1]*scale[0]))\n",
    "        y = (round(y[0]*scale[1]), round(y[1]*scale[1]))\n",
    "        z = (round(z[0]*scale[2]), round(z[1]*scale[2]))\n",
    "    \n",
    "    return x, y, z"
   ]
  },
  {
   "cell_type": "code",
   "execution_count": 4,
   "metadata": {
    "collapsed": true
   },
   "outputs": [],
   "source": [
    "#mrn = '13064153'\n",
    "#roi = (148,157,132,144,38,44)\n",
    "#x=(roi[0], roi[1])\n",
    "#y=(roi[2], roi[3])\n",
    "#z=(roi[4], roi[5])"
   ]
  },
  {
   "cell_type": "code",
   "execution_count": 5,
   "metadata": {
    "collapsed": true
   },
   "outputs": [],
   "source": [
    "def add_roi(mrn, x, y, z, cls):\n",
    "    rois.append([str(mrn) + \".npy\", x[0], x[1], y[0], y[1], z[0], z[1], cls])\n",
    "\n",
    "def apply_mask(img, mask_file):\n",
    "    with open(mask_file, 'rb') as f:\n",
    "        mask = f.read()\n",
    "        mask = np.fromstring(mask, dtype='uint8')\n",
    "        mask = np.array(mask).reshape((img.shape[2], img.shape[1], img.shape[0]))\n",
    "        mask = np.transpose(mask, (2,1,0))\n",
    "        \n",
    "    img[:,:,:,0][mask == 0] = 0\n",
    "\n",
    "    return img"
   ]
  },
  {
   "cell_type": "code",
   "execution_count": 20,
   "metadata": {
    "collapsed": true
   },
   "outputs": [],
   "source": [
    "def preprocess_df(df):\n",
    "    \"\"\"Select only rows for this run. Collect MRNs and ROI coordinates.\"\"\"\n",
    "    df = df[(df['Run'] <= 2) & (df['Image type'] == 'AP-T1')].dropna(subset=[\"x1\"])\n",
    "    return df.drop(set(df.columns).difference(['Patient E Number', \n",
    "          'x1', 'x2', 'y1', 'y2', 'z1', 'z2', 'Image type']), axis=1)"
   ]
  },
  {
   "cell_type": "code",
   "execution_count": 7,
   "metadata": {
    "collapsed": true
   },
   "outputs": [],
   "source": [
    "def load_imgs(df, base_dir, cls):\n",
    "    \"\"\"Create ROI file, apply whole liver mask, validate/scale dimensions\"\"\"\n",
    "\n",
    "    def validate_dims(imgs, mrns):\n",
    "        \"\"\"Validate that all series of the same MRN have the same dimensions.\n",
    "        Images formatted as list of dicts. Each dict is a different image channel, indexed by MRN.\"\"\"\n",
    "        for mrn in mrns:\n",
    "            for x in range(1,len(imgs)):\n",
    "                assert imgs[0][mrn].shape == imgs[x][mrn].shape, \"img %s has wrong shape\" % mrn\n",
    "                \n",
    "    pass"
   ]
  },
  {
   "cell_type": "code",
   "execution_count": 8,
   "metadata": {
    "collapsed": true
   },
   "outputs": [],
   "source": [
    "def rescale(img, target_dims, cur_dims):\n",
    "    vox_scale = [float(cur_dims[i]/target_dims[i]) for i in range(3)]\n",
    "    img = tr.scale3d(img, vox_scale)\n",
    "    \n",
    "    return img, vox_scale"
   ]
  },
  {
   "cell_type": "code",
   "execution_count": 9,
   "metadata": {
    "collapsed": true
   },
   "outputs": [],
   "source": [
    "def normalize(img):\n",
    "    i_min = np.amin(img)\n",
    "    return (img - i_min) / (np.amax(img) - i_min) * 255"
   ]
  },
  {
   "cell_type": "code",
   "execution_count": 56,
   "metadata": {
    "collapsed": true
   },
   "outputs": [],
   "source": [
    "def load_imgs(base_dir, cls, xls_name, sheetname, verbose=False):\n",
    "    \"\"\"Load images stored in base_dir with class name cls and stored in excel spreadsheet xls_name with name sheetname.\n",
    "    Saves images to and saves vois to the global rois variable.\n",
    "    \"\"\"\n",
    "    print(\"Loading DCMs for class\", cls)\n",
    "    \n",
    "    df = pd.read_excel(xls_name, sheetname=sheetname)\n",
    "    df = preprocess_df(df)\n",
    "    mrns = list(set(df['Patient E Number'].dropna().astype(str).tolist()))\n",
    "    s = time.time()\n",
    "    target_dims = [1.5, 1.5, 4]\n",
    "    rescale_time = 0\n",
    "    load_time = 0\n",
    "    reg_time = 0\n",
    "\n",
    "    for cnt, mrn in enumerate(mrns):\n",
    "        subdir = base_dir+\"\\\\\"+mrn\n",
    "\n",
    "        t_load = time.time()\n",
    "        art[mrn], cur_dims = hf.dcm_load(subdir+r\"\\T1_AP\")\n",
    "        #pre[mrn], _ = hf.dcm_load(subdir+r\"\\T1_BL\")\n",
    "        #ven[mrn], _ = hf.dcm_load(subdir+r\"\\T1_VP\")\n",
    "\n",
    "        #ven[mrn] = ven[mrn] - art[mrn]\n",
    "        #art[mrn] = art[mrn] - pre[mrn]\n",
    "\n",
    "        #art[mrn] = normalize(art[mrn])\n",
    "        #ven[mrn] = normalize(ven[mrn])\n",
    "\n",
    "        #t2[mrn] = art[mrn]#pre[mrn]\n",
    "\n",
    "        #equ[mrn] = hf.dcm_load(subdir+r\"\\T1_EQ\")\n",
    "        #t2[mrn], _ = hf.dcm_load(subdir+r\"\\T2\")\n",
    "        load_time += time.time() - t_load\n",
    "\n",
    "        df_subset = df.loc[df['Patient E Number'].astype(str) == mrn]\n",
    "\n",
    "        t_reg = time.time()\n",
    "        #t2[mrn], reg_scale, field[mrn] = reg_imgs(moving=t2[mrn], fixed=art[mrn], params=params, rescale_only=True)\n",
    "        #t2[mrn] = t2[mrn] * 255/np.amax(t2[mrn])\n",
    "        #t2[mrn] = normalize(t2[mrn])\n",
    "        reg_time += time.time() - t_reg\n",
    "\n",
    "        img = np.expand_dims(art[mrn], axis=3)#np.transpose(np.stack((art[mrn], t2[mrn])), (1,2,3,0))\n",
    "\n",
    "        #mask_file = base_dir + \"\\\\\" + mrn + r'\\00_segs\\liver.ids'\n",
    "        #img = apply_mask(img, mask_file)\n",
    "\n",
    "        #nonzeros = np.nonzero(img)\n",
    "        #minx, maxx = min(nonzeros[0]), max(nonzeros[0])\n",
    "        #miny, maxy = min(nonzeros[1]), max(nonzeros[1])\n",
    "        #minz, maxz = min(nonzeros[2]), max(nonzeros[2])\n",
    "        #img = img[minx:maxx, miny:maxy, minz:maxz, :]\n",
    "\n",
    "        t_scale = time.time()\n",
    "        img, vox_scale = rescale(img, target_dims, cur_dims)\n",
    "        rescale_time += time.time() - t_scale\n",
    "\n",
    "        np.save(img_dir + \"\\\\\" + mrn, img)\n",
    "\n",
    "        for _, row in df_subset.iterrows():\n",
    "            x = (int(row['x1']), int(row['x2']))\n",
    "            y = (int(row['y1']), int(row['y2']))\n",
    "            z = (int(row['z1']), int(row['z2']))\n",
    "\n",
    "            y = (art[mrn].shape[1]-y[1], art[mrn].shape[1]-y[0]) # flip y\n",
    "            z = (art[mrn].shape[2]-z[1], art[mrn].shape[2]-z[0]) # flip z\n",
    "\n",
    "            t_scale = time.time()\n",
    "            #if cls == \"cyst\":\n",
    "            #    x,y,z = scale_rois(x, y, z, reg_scale, field[mrn], vox_scale)\n",
    "            #else:\n",
    "            x,y,z = scale_rois(x, y, z, vox_scale)\n",
    "            rescale_time += time.time() - t_scale\n",
    "\n",
    "            #x = (x[0] - minx, x[1] - minx)\n",
    "            #y = (y[0] - miny, y[1] - miny)\n",
    "            #z = (z[0] - minz, z[1] - minz)\n",
    "\n",
    "            add_roi(mrn, x,y,z, cls)\n",
    "\n",
    "        if verbose:\n",
    "            print(mrn, \"%d out of %d MRNs loaded\" % (cnt+1, len(mrns)))\n",
    "    #validate_dims([t2, art], mrns)\n",
    "    print(\"Overall time: %s\" % str(time.time() - s))\n",
    "    print(\"Time to load dcms: %s\" % str(load_time))\n",
    "    print(\"Time rescaling: %s\" % str(rescale_time))\n",
    "    print(\"Time registering: %s\" % str(reg_time))\n",
    "\n",
    "    #s = time.time()\n",
    "    #print(\"Time to mask, crop, load rois, and save .npy files: %s\" % str(time.time() - s))"
   ]
  },
  {
   "cell_type": "code",
   "execution_count": 54,
   "metadata": {
    "collapsed": true
   },
   "outputs": [],
   "source": [
    "xls_name = r'raw_imgs\\Prototype1b.xlsx'\n",
    "#pre = {}\n",
    "art = {}\n",
    "#ven = {}\n",
    "#equ = {}\n",
    "#t2 = {}\n",
    "field = {}\n",
    "rois = []\n",
    "\n",
    "params = pyelastix.get_default_params(type=\"RIGID\")\n",
    "\n",
    "img_dir = \"full_imgs\"\n",
    "if not os.path.exists(img_dir):\n",
    "    os.makedirs(img_dir)"
   ]
  },
  {
   "cell_type": "code",
   "execution_count": 55,
   "metadata": {
    "scrolled": true
   },
   "outputs": [
    {
     "name": "stdout",
     "output_type": "stream",
     "text": [
      "Loading DCMs for class cyst\n",
      "12314736 1 out of 12 MRNs loaded\n",
      "12082222 2 out of 12 MRNs loaded\n",
      "E100314676 3 out of 12 MRNs loaded\n",
      "13028374 4 out of 12 MRNs loaded\n",
      "12296182 5 out of 12 MRNs loaded\n",
      "E100624190 6 out of 12 MRNs loaded\n",
      "E100529980 7 out of 12 MRNs loaded\n",
      "12239513 8 out of 12 MRNs loaded\n",
      "12042703 9 out of 12 MRNs loaded\n",
      "E100610622 10 out of 12 MRNs loaded\n",
      "12229245 11 out of 12 MRNs loaded\n",
      "12302576 12 out of 12 MRNs loaded\n",
      "Overall time: 86.12311959266663\n",
      "Time to load dcms: 84.96155762672424\n",
      "Time rescaling: 0.9296326637268066\n",
      "Time registering: 0.0\n",
      "Loading DCMs for class hcc\n",
      "E103599300 1 out of 8 MRNs loaded\n",
      "E105152534 2 out of 8 MRNs loaded\n",
      "13010227 3 out of 8 MRNs loaded\n",
      "E101047106 4 out of 8 MRNs loaded\n",
      "E104657225 5 out of 8 MRNs loaded\n",
      "12972894 6 out of 8 MRNs loaded\n",
      "12905568 7 out of 8 MRNs loaded\n",
      "13064153 8 out of 8 MRNs loaded\n",
      "Overall time: 59.63453197479248\n",
      "Time to load dcms: 58.79421043395996\n",
      "Time rescaling: 0.6558387279510498\n",
      "Time registering: 0.0\n",
      "Loading DCMs for class fnh\n",
      "E101099918 1 out of 27 MRNs loaded\n",
      "E100459207 2 out of 27 MRNs loaded\n",
      "E100893651 3 out of 27 MRNs loaded\n",
      "12362250 4 out of 27 MRNs loaded\n",
      "E100400195 5 out of 27 MRNs loaded\n",
      "E100875976 6 out of 27 MRNs loaded\n",
      "12455319 7 out of 27 MRNs loaded\n",
      "12572068 8 out of 27 MRNs loaded\n",
      "E100987314 9 out of 27 MRNs loaded\n",
      "12552705 10 out of 27 MRNs loaded\n",
      "13104521 11 out of 27 MRNs loaded\n",
      "E101588830 12 out of 27 MRNs loaded\n",
      "E102265444 13 out of 27 MRNs loaded\n",
      "12943872 14 out of 27 MRNs loaded\n",
      "E101483270 15 out of 27 MRNs loaded\n",
      "13185208 16 out of 27 MRNs loaded\n",
      "E100215900 17 out of 27 MRNs loaded\n",
      "12271995 18 out of 27 MRNs loaded\n",
      "E101415263 19 out of 27 MRNs loaded\n",
      "E100168424 20 out of 27 MRNs loaded\n",
      "E100192709 21 out of 27 MRNs loaded\n",
      "E102986965 22 out of 27 MRNs loaded\n",
      "E101749070 23 out of 27 MRNs loaded\n",
      "E102341190 24 out of 27 MRNs loaded\n",
      "13062041 25 out of 27 MRNs loaded\n",
      "E101123223 26 out of 27 MRNs loaded\n",
      "E101329428 27 out of 27 MRNs loaded\n",
      "Overall time: 210.51194739341736\n",
      "Time to load dcms: 207.4881181716919\n",
      "Time rescaling: 2.300522565841675\n",
      "Time registering: 0.0\n",
      "Loading DCMs for class hemangioma\n",
      "12023378 1 out of 16 MRNs loaded\n",
      "12632037 2 out of 16 MRNs loaded\n",
      "12341777 3 out of 16 MRNs loaded\n",
      "11907521 4 out of 16 MRNs loaded\n",
      "12592283 5 out of 16 MRNs loaded\n",
      "12206657 6 out of 16 MRNs loaded\n",
      "12503934 7 out of 16 MRNs loaded\n",
      "12637865 8 out of 16 MRNs loaded\n",
      "12419371 9 out of 16 MRNs loaded\n",
      "12404081 10 out of 16 MRNs loaded\n",
      "12365693 11 out of 16 MRNs loaded\n",
      "12111877 12 out of 16 MRNs loaded\n",
      "12239783 13 out of 16 MRNs loaded\n",
      "12532324 14 out of 16 MRNs loaded\n",
      "12673726 15 out of 16 MRNs loaded\n",
      "12584110 16 out of 16 MRNs loaded\n",
      "Overall time: 107.19844460487366\n",
      "Time to load dcms: 105.75049829483032\n",
      "Time rescaling: 1.0611176490783691\n",
      "Time registering: 0.0\n"
     ]
    }
   ],
   "source": [
    "base_dir = r'raw_imgs\\simple_cysts'\n",
    "cls = 'cyst'\n",
    "sheetname=\"Hepatic Cyst\"\n",
    "load_imgs(base_dir, cls, xls_name, sheetname)\n",
    "\n",
    "base_dir = r'raw_imgs\\OPTN5A'\n",
    "cls = 'hcc'\n",
    "sheetname=\"OPTN 5A\"\n",
    "load_imgs(base_dir, cls, xls_name, sheetname)\n",
    "\n",
    "base_dir = r'raw_imgs\\fnh'\n",
    "cls = 'fnh'\n",
    "sheetname=\"FNH\"\n",
    "load_imgs(base_dir, cls, xls_name, sheetname)\n",
    "\n",
    "base_dir = r'raw_imgs\\hemangioma'\n",
    "cls = 'hemangioma'\n",
    "sheetname=\"Hemangioma\"\n",
    "load_imgs(base_dir, cls, xls_name, sheetname)"
   ]
  },
  {
   "cell_type": "markdown",
   "metadata": {},
   "source": [
    "for mrn in mrns:\n",
    "    if not os.path.exists(\"raw_imgs\\\\fnh\\\\\" + mrn + \"\\\\T1_AP\"):\n",
    "        print(\"raw_imgs\\\\fnh\\\\\" + mrn + \"\\\\T1_AP\")"
   ]
  },
  {
   "cell_type": "code",
   "execution_count": 45,
   "metadata": {
    "collapsed": true
   },
   "outputs": [],
   "source": [
    "# rois = np.unique(rois, axis=0)\n",
    "#with open('train_list.txt', 'w') as f:\n",
    "#    for roi in rois:\n",
    "#        f.write(\",\".join([str(x) for x in roi]) + \"\\n\")"
   ]
  },
  {
   "cell_type": "code",
   "execution_count": 57,
   "metadata": {
    "collapsed": true
   },
   "outputs": [],
   "source": [
    "voi_df = pd.DataFrame(rois, columns = [\"Filename\", \"x1\", \"x2\", \"y1\", \"y2\", \"z1\", \"z2\", \"cls\"]).dropna()\n",
    "voi_df = voi_df.astype({\"x1\": int, \"x2\": int, \"y1\": int, \"y2\": int, \"z1\": int, \"z2\": int})\n",
    "voi_df['dx'] = voi_df.apply(lambda row: row['x2'] - row['x1'], axis=1)\n",
    "voi_df['dy'] = voi_df.apply(lambda row: row['y2'] - row['y1'], axis=1)\n",
    "voi_df['dz'] = voi_df.apply(lambda row: row['z2'] - row['z1'], axis=1)"
   ]
  },
  {
   "cell_type": "code",
   "execution_count": 58,
   "metadata": {
    "collapsed": true
   },
   "outputs": [],
   "source": [
    "voi_df.to_csv('vois.csv', index=False)"
   ]
  },
  {
   "cell_type": "code",
   "execution_count": 59,
   "metadata": {
    "scrolled": true
   },
   "outputs": [
    {
     "data": {
      "text/plain": [
       "fnh           59\n",
       "cyst          23\n",
       "hemangioma    19\n",
       "hcc           10\n",
       "Name: cls, dtype: int64"
      ]
     },
     "execution_count": 59,
     "metadata": {},
     "output_type": "execute_result"
    }
   ],
   "source": [
    "pd.value_counts(voi_df['cls'])"
   ]
  },
  {
   "cell_type": "code",
   "execution_count": null,
   "metadata": {
    "collapsed": true
   },
   "outputs": [],
   "source": []
  },
  {
   "cell_type": "code",
   "execution_count": 17,
   "metadata": {
    "collapsed": true
   },
   "outputs": [],
   "source": [
    "def plot_section(img, df, pad=30):\n",
    "    plt.subplot(121)\n",
    "    plt.imshow(np.transpose(img[df['x1']-pad:df['x2']+pad,\n",
    "                                df['y2']+pad:df['y1']-pad:-1,\n",
    "                                (df['z1']+df['z2'])//2, 0], (1,0)), cmap='gray')\n",
    "    plt.subplot(122)\n",
    "    plt.imshow(np.transpose(img[df['x1']-pad:df['x2']+pad,\n",
    "                                df['y2']+pad:df['y1']-pad:-1,\n",
    "                                (df['z1']+df['z2'])//2, 1], (1,0)), cmap='gray')\n",
    "\n",
    "def plot_section_xyz(img, x,y,z, pad=30):\n",
    "    plt.subplot(121)\n",
    "    plt.imshow(np.transpose(img[x[0]-pad:x[1]+pad, y[1]+pad:y[0]-pad:-1, (z[0]+z[1])//2,0], (1,0)), cmap='gray')\n",
    "    plt.subplot(122)\n",
    "    plt.imshow(np.transpose(img[x[0]-pad:x[1]+pad, y[1]+pad:y[0]-pad:-1, (z[0]+z[1])//2,1], (1,0)), cmap='gray')\n",
    "    \n",
    "\n",
    "def plot_section_mrn(mrn,x,y,z, pad=30):\n",
    "    plt.subplot(211)\n",
    "    plt.imshow(np.transpose(art[mrn][x[0]-pad:x[1]+pad, y[1]+pad:y[0]-pad:-1, (z[0]+z[1])//2], (1,0)), cmap='gray')\n",
    "    plt.subplot(212)\n",
    "    plt.imshow(np.transpose(t2[mrn][x[0]-pad:x[1]+pad, y[1]+pad:y[0]-pad:-1, (z[0]+z[1])//2], (1,0)), cmap='gray')"
   ]
  },
  {
   "cell_type": "code",
   "execution_count": 15,
   "metadata": {
    "collapsed": true
   },
   "outputs": [],
   "source": [
    "img_fn = \"E100529980.npy\"\n",
    "img = np.load(\"full_imgs\\\\\"+img_fn)"
   ]
  },
  {
   "cell_type": "code",
   "execution_count": 18,
   "metadata": {},
   "outputs": [
    {
     "data": {
      "image/png": "[encoded data removed]",
      "text/plain": [
       "<matplotlib.figure.Figure at 0x202822c8f28>"
      ]
     },
     "metadata": {},
     "output_type": "display_data"
    }
   ],
   "source": [
    "plot_section(img, voi_df[voi_df[\"Filename\"] == img_fn].iloc[0], pad=0)"
   ]
  },
  {
   "cell_type": "code",
   "execution_count": 67,
   "metadata": {
    "collapsed": true
   },
   "outputs": [],
   "source": [
    "img,_ = hf.dcm_load(subdir+r\"\\T1_AP\")"
   ]
  },
  {
   "cell_type": "code",
   "execution_count": 68,
   "metadata": {
    "collapsed": true
   },
   "outputs": [],
   "source": [
    "img = np.transpose(np.stack((img, img)), (1,2,3,0))"
   ]
  },
  {
   "cell_type": "code",
   "execution_count": 50,
   "metadata": {},
   "outputs": [
    {
     "data": {
      "text/plain": [
       "<matplotlib.image.AxesImage at 0x1310038dc88>"
      ]
     },
     "execution_count": 50,
     "metadata": {},
     "output_type": "execute_result"
    },
    {
     "data": {
      "image/png": "[encoded data removed]",
      "text/plain": [
       "<matplotlib.figure.Figure at 0x131001e8b70>"
      ]
     },
     "metadata": {},
     "output_type": "display_data"
    }
   ],
   "source": [
    "plt.imshow(img[:,:,60,0])"
   ]
  },
  {
   "cell_type": "code",
   "execution_count": 73,
   "metadata": {
    "collapsed": true
   },
   "outputs": [],
   "source": [
    "img, vox_scale = rescale(img, target_dims, cur_dims)"
   ]
  },
  {
   "cell_type": "code",
   "execution_count": 69,
   "metadata": {
    "collapsed": true
   },
   "outputs": [],
   "source": [
    "x = (74, 91)\n",
    "y = (128, 145)\n",
    "z = (43, 50)\n",
    "y = (img.shape[1]-y[1], img.shape[1]-y[0]) # flip y\n",
    "z = (img.shape[2]-z[1], img.shape[2]-z[0]) # flip z"
   ]
  },
  {
   "cell_type": "code",
   "execution_count": 75,
   "metadata": {
    "collapsed": true
   },
   "outputs": [],
   "source": [
    "x = (round(x[0]*vox_scale[0]), round(x[1]*vox_scale[0]))\n",
    "y = (round(y[0]*vox_scale[1]), round(y[1]*vox_scale[1]))\n",
    "z = (round(z[0]*vox_scale[2]), round(z[1]*vox_scale[2]))"
   ]
  },
  {
   "cell_type": "code",
   "execution_count": 78,
   "metadata": {
    "scrolled": true
   },
   "outputs": [
    {
     "data": {
      "image/png": "[encoded data removed]",
      "text/plain": [
       "<matplotlib.figure.Figure at 0x13100073278>"
      ]
     },
     "metadata": {},
     "output_type": "display_data"
    }
   ],
   "source": [
    "plot_section_xyz(img, x, y, z, pad=20)"
   ]
  },
  {
   "cell_type": "code",
   "execution_count": null,
   "metadata": {
    "collapsed": true
   },
   "outputs": [],
   "source": []
  }
 ],
 "metadata": {
  "anaconda-cloud": {},
  "kernelspec": {
   "display_name": "Python 3",
   "language": "python",
   "name": "python3"
  },
  "language_info": {
   "codemirror_mode": {
    "name": "ipython",
    "version": 3
   },
   "file_extension": ".py",
   "mimetype": "text/x-python",
   "name": "python",
   "nbconvert_exporter": "python",
   "pygments_lexer": "ipython3",
   "version": "3.5.0"
  }
 },
 "nbformat": 4,
 "nbformat_minor": 1
}
